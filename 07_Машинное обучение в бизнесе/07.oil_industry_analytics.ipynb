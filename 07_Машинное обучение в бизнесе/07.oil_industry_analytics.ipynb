{
 "cells": [
  {
   "cell_type": "markdown",
   "metadata": {
    "toc": true
   },
   "source": [
    "<h1>Содержание<span class=\"tocSkip\"></span></h1>\n",
    "<div class=\"toc\"><ul class=\"toc-item\"><li><ul class=\"toc-item\"><li><span><a href=\"#Общее-впечатление\" data-toc-modified-id=\"Общее-впечатление-0.1\"><span class=\"toc-item-num\">0.1&nbsp;&nbsp;</span><font color=\"orange\">Общее впечатление</font></a></span></li></ul></li><li><span><a href=\"#Загрузка-и-подготовка-данных\" data-toc-modified-id=\"Загрузка-и-подготовка-данных-1\"><span class=\"toc-item-num\">1&nbsp;&nbsp;</span><em>Загрузка и подготовка данных</em></a></span><ul class=\"toc-item\"><li><ul class=\"toc-item\"><li><span><a href=\"#Поиск-и-удаление-дубликатов:\" data-toc-modified-id=\"Поиск-и-удаление-дубликатов:-1.0.1\"><span class=\"toc-item-num\">1.0.1&nbsp;&nbsp;</span>Поиск и удаление дубликатов:</a></span></li><li><span><a href=\"#Проверка-на-пропуски:\" data-toc-modified-id=\"Проверка-на-пропуски:-1.0.2\"><span class=\"toc-item-num\">1.0.2&nbsp;&nbsp;</span>Проверка на пропуски:</a></span></li><li><span><a href=\"#Удаление-ненужных-столбцов:\" data-toc-modified-id=\"Удаление-ненужных-столбцов:-1.0.3\"><span class=\"toc-item-num\">1.0.3&nbsp;&nbsp;</span>Удаление ненужных столбцов:</a></span></li><li><span><a href=\"#Выделение-целевых-и-независимых-признаков-в-регионах:\" data-toc-modified-id=\"Выделение-целевых-и-независимых-признаков-в-регионах:-1.0.4\"><span class=\"toc-item-num\">1.0.4&nbsp;&nbsp;</span>Выделение целевых и независимых признаков в регионах:</a></span></li></ul></li><li><span><a href=\"#Вывод-блока:\" data-toc-modified-id=\"Вывод-блока:-1.1\"><span class=\"toc-item-num\">1.1&nbsp;&nbsp;</span><strong>Вывод блока:</strong></a></span></li></ul></li><li><span><a href=\"#Обучение-и-проверка-модели\" data-toc-modified-id=\"Обучение-и-проверка-модели-2\"><span class=\"toc-item-num\">2&nbsp;&nbsp;</span><em>Обучение и проверка модели</em></a></span><ul class=\"toc-item\"><li><span><a href=\"#Регион-1:\" data-toc-modified-id=\"Регион-1:-2.1\"><span class=\"toc-item-num\">2.1&nbsp;&nbsp;</span>Регион 1:</a></span></li><li><span><a href=\"#Регион-2:\" data-toc-modified-id=\"Регион-2:-2.2\"><span class=\"toc-item-num\">2.2&nbsp;&nbsp;</span>Регион 2:</a></span></li><li><span><a href=\"#Регион-3:\" data-toc-modified-id=\"Регион-3:-2.3\"><span class=\"toc-item-num\">2.3&nbsp;&nbsp;</span>Регион 3:</a></span></li><li><span><a href=\"#Важность-признаков:\" data-toc-modified-id=\"Важность-признаков:-2.4\"><span class=\"toc-item-num\">2.4&nbsp;&nbsp;</span>Важность признаков:</a></span></li><li><span><a href=\"#Вывод-блока:\" data-toc-modified-id=\"Вывод-блока:-2.5\"><span class=\"toc-item-num\">2.5&nbsp;&nbsp;</span><strong>Вывод блока:</strong></a></span></li></ul></li><li><span><a href=\"#Подготовка-к-расчёту-прибыли\" data-toc-modified-id=\"Подготовка-к-расчёту-прибыли-3\"><span class=\"toc-item-num\">3&nbsp;&nbsp;</span><em>Подготовка к расчёту прибыли</em></a></span><ul class=\"toc-item\"><li><span><a href=\"#Сохранение-ключевых-значений-для-расчетов:\" data-toc-modified-id=\"Сохранение-ключевых-значений-для-расчетов:-3.1\"><span class=\"toc-item-num\">3.1&nbsp;&nbsp;</span>Сохранение ключевых значений для расчетов:</a></span></li><li><span><a href=\"#Рассчет-достаточного-объёма-сырья-для-безубыточной-разработки-новой-скважины:\" data-toc-modified-id=\"Рассчет-достаточного-объёма-сырья-для-безубыточной-разработки-новой-скважины:-3.2\"><span class=\"toc-item-num\">3.2&nbsp;&nbsp;</span>Рассчет достаточного объёма сырья для безубыточной разработки новой скважины:</a></span></li><li><span><a href=\"#Сравнение-минимального-объёма-сырья-со-средним-запасом-в-каждом-регионе:\" data-toc-modified-id=\"Сравнение-минимального-объёма-сырья-со-средним-запасом-в-каждом-регионе:-3.3\"><span class=\"toc-item-num\">3.3&nbsp;&nbsp;</span>Сравнение минимального объёма сырья со средним запасом в каждом регионе:</a></span></li><li><span><a href=\"#Вывод-блока:\" data-toc-modified-id=\"Вывод-блока:-3.4\"><span class=\"toc-item-num\">3.4&nbsp;&nbsp;</span><strong>Вывод блока:</strong></a></span></li></ul></li><li><span><a href=\"#Расчёт-прибыли-и-рисков\" data-toc-modified-id=\"Расчёт-прибыли-и-рисков-4\"><span class=\"toc-item-num\">4&nbsp;&nbsp;</span><em>Расчёт прибыли и рисков</em></a></span><ul class=\"toc-item\"><li><span><a href=\"#Функция-для-расчёта-прибыли-по-выбранным-скважинам-и-предсказаниям-модели:\" data-toc-modified-id=\"Функция-для-расчёта-прибыли-по-выбранным-скважинам-и-предсказаниям-модели:-4.1\"><span class=\"toc-item-num\">4.1&nbsp;&nbsp;</span>Функция для расчёта прибыли по выбранным скважинам и предсказаниям модели:</a></span></li><li><span><a href=\"#Расчет-рисков-и-прибыли-для-каждого-региона:\" data-toc-modified-id=\"Расчет-рисков-и-прибыли-для-каждого-региона:-4.2\"><span class=\"toc-item-num\">4.2&nbsp;&nbsp;</span>Расчет рисков и прибыли для каждого региона:</a></span></li><li><span><a href=\"#Вывод-блока:\" data-toc-modified-id=\"Вывод-блока:-4.3\"><span class=\"toc-item-num\">4.3&nbsp;&nbsp;</span><strong>Вывод блока:</strong></a></span></li></ul></li><li><span><a href=\"#Общий-вывод\" data-toc-modified-id=\"Общий-вывод-5\"><span class=\"toc-item-num\">5&nbsp;&nbsp;</span><strong><em>Общий вывод</em></strong></a></span><ul class=\"toc-item\"><li><span><a href=\"#Загрузка-и-подготовка-данных\" data-toc-modified-id=\"Загрузка-и-подготовка-данных-5.1\"><span class=\"toc-item-num\">5.1&nbsp;&nbsp;</span><em>Загрузка и подготовка данных</em></a></span></li><li><span><a href=\"#Обучение-и-проверка-модели\" data-toc-modified-id=\"Обучение-и-проверка-модели-5.2\"><span class=\"toc-item-num\">5.2&nbsp;&nbsp;</span><em>Обучение и проверка модели</em></a></span></li><li><span><a href=\"#Подготовка-к-расчёту-прибыли\" data-toc-modified-id=\"Подготовка-к-расчёту-прибыли-5.3\"><span class=\"toc-item-num\">5.3&nbsp;&nbsp;</span><em>Подготовка к расчёту прибыли</em></a></span></li><li><span><a href=\"#Расчёт-прибыли-и-рисков\" data-toc-modified-id=\"Расчёт-прибыли-и-рисков-5.4\"><span class=\"toc-item-num\">5.4&nbsp;&nbsp;</span><em>Расчёт прибыли и рисков</em></a></span></li></ul></li></ul></div>"
   ]
  },
  {
   "cell_type": "markdown",
   "metadata": {},
   "source": [
    "# Выбор локации для скважины"
   ]
  },
  {
   "cell_type": "markdown",
   "metadata": {},
   "source": [
    "_____________________\n",
    "**Описание задачи:**\n",
    "\n",
    "Заказчик - «ГлавРосГосНефть», которому необходимо решить, где бурить новую скважину.\n",
    "Нам предоставлены пробы нефти в трёх регионах: в каждом 10 000 месторождений, где измерили качество нефти и объём её запасов. \n",
    "\n",
    "**Цель исследования:**\n",
    "1. Построить модель машинного обучения, которая поможет определить регион, где добыча принесёт наибольшую прибыль. \n",
    "2. Проанализировать возможную прибыль и риски.\n",
    "\n",
    "**Исследование пройдёт в 4 этапа:**\n",
    "1. Подготовка данных.\n",
    "2. Обучение и проверка модели.\n",
    "3. Подготовка к расчету прибыли.\n",
    "4. Расчет прибыли и рисков.\n",
    "\n",
    "**Ход исследования:** \n",
    "\n",
    "*Этап 1. Подготовка данных:*\n",
    "- Первым делом откроем датасет и изучим основные аспекты.\n",
    "- Проверим правильность заполнения, наименования столбцов\n",
    "- Продиагностируем данные на наличие пропусков и дубликатов.\n",
    "\n",
    "*Этап 2. Обучение и проверка модели:*\n",
    "* Разделим данные регионов на обучающие и валидационные выборки\n",
    "* Обучим модель логистической регрессии.\n",
    "* Рассчитаем для каждого региона RMSE и средний запас предсказанного сырья.\n",
    "* Проанализируем результаты.\n",
    "\n",
    "*Этап 3. Подготовка к расчету прибыли:*\n",
    "* Сохраним все ключевые значения для расчетов в отдельные переменные.\n",
    "* Рассчитаем достаточный объем сырья для безубыточнойразработки новой скважины.\n",
    "* Сравним полученный объем сырья со средним запасом в каждом регионе.\n",
    "\n",
    "*Этап 4. Расчет прибыли и рисков:*\n",
    "* Напишем функцию для расчета прибыли по выбранным скважинам и предсказаниям модели.\n",
    "* Выберем скважины с максимальными значениями предсказаний.\n",
    "* Просуммируем целевое значение объема сырья, соответствующее этим предсказаниям.\n",
    "* Рассчитаем прибыль для полученного объема сырья.\n",
    "\n",
    "\n",
    "* Посчитаем риски и прибыль для каждого региона.\n",
    "* Найдем распределение приыбыли техникой Bootstrap для 1000 выборок.\n",
    "* Найдем среднюю прибыль, 95%-й доверительный интервал и риск убытков.\n",
    "* Предложим регион для разработки скважин.\n",
    "\n",
    "____________"
   ]
  },
  {
   "cell_type": "markdown",
   "metadata": {},
   "source": [
    "**Описание данных:**\n",
    "\n",
    "Обозначения данных геологоразведки с трёх регионов:\n",
    "\n",
    "* id — уникальный идентификатор скважины;\n",
    "* f0, f1, f2 — три признака точек (неизвестно, что они означают, но сами признаки значимы);\n",
    "* product — объём запасов в скважине (тыс. баррелей).\n"
   ]
  },
  {
   "cell_type": "markdown",
   "metadata": {},
   "source": [
    "## *Загрузка и подготовка данных*"
   ]
  },
  {
   "cell_type": "markdown",
   "metadata": {},
   "source": [
    "**Импортируем все необходимые библиотеки:**"
   ]
  },
  {
   "cell_type": "code",
   "execution_count": 1,
   "metadata": {},
   "outputs": [],
   "source": [
    "import pandas as pd\n",
    "import numpy as np\n",
    "import matplotlib.pyplot as plt\n",
    "import seaborn as sns\n",
    "\n",
    "from sklearn.model_selection import train_test_split\n",
    "from sklearn.metrics import mean_squared_error\n",
    "from sklearn.linear_model import LinearRegression\n",
    "\n",
    "from scipy import stats as st"
   ]
  },
  {
   "cell_type": "markdown",
   "metadata": {},
   "source": [
    "**Изучим данные с каждого региона по отдельности:**"
   ]
  },
  {
   "cell_type": "code",
   "execution_count": 2,
   "metadata": {},
   "outputs": [],
   "source": [
    "region_1 = pd.read_csv('/datasets/geo_data_0.csv')\n",
    "region_2 = pd.read_csv('/datasets/geo_data_1.csv')\n",
    "region_3 = pd.read_csv('/datasets/geo_data_2.csv')"
   ]
  },
  {
   "cell_type": "code",
   "execution_count": 3,
   "metadata": {},
   "outputs": [
    {
     "data": {
      "text/html": [
       "<div>\n",
       "<style scoped>\n",
       "    .dataframe tbody tr th:only-of-type {\n",
       "        vertical-align: middle;\n",
       "    }\n",
       "\n",
       "    .dataframe tbody tr th {\n",
       "        vertical-align: top;\n",
       "    }\n",
       "\n",
       "    .dataframe thead th {\n",
       "        text-align: right;\n",
       "    }\n",
       "</style>\n",
       "<table border=\"1\" class=\"dataframe\">\n",
       "  <thead>\n",
       "    <tr style=\"text-align: right;\">\n",
       "      <th></th>\n",
       "      <th>id</th>\n",
       "      <th>f0</th>\n",
       "      <th>f1</th>\n",
       "      <th>f2</th>\n",
       "      <th>product</th>\n",
       "    </tr>\n",
       "  </thead>\n",
       "  <tbody>\n",
       "    <tr>\n",
       "      <th>0</th>\n",
       "      <td>txEyH</td>\n",
       "      <td>0.705745</td>\n",
       "      <td>-0.497823</td>\n",
       "      <td>1.221170</td>\n",
       "      <td>105.280062</td>\n",
       "    </tr>\n",
       "    <tr>\n",
       "      <th>1</th>\n",
       "      <td>2acmU</td>\n",
       "      <td>1.334711</td>\n",
       "      <td>-0.340164</td>\n",
       "      <td>4.365080</td>\n",
       "      <td>73.037750</td>\n",
       "    </tr>\n",
       "    <tr>\n",
       "      <th>2</th>\n",
       "      <td>409Wp</td>\n",
       "      <td>1.022732</td>\n",
       "      <td>0.151990</td>\n",
       "      <td>1.419926</td>\n",
       "      <td>85.265647</td>\n",
       "    </tr>\n",
       "    <tr>\n",
       "      <th>3</th>\n",
       "      <td>iJLyR</td>\n",
       "      <td>-0.032172</td>\n",
       "      <td>0.139033</td>\n",
       "      <td>2.978566</td>\n",
       "      <td>168.620776</td>\n",
       "    </tr>\n",
       "    <tr>\n",
       "      <th>4</th>\n",
       "      <td>Xdl7t</td>\n",
       "      <td>1.988431</td>\n",
       "      <td>0.155413</td>\n",
       "      <td>4.751769</td>\n",
       "      <td>154.036647</td>\n",
       "    </tr>\n",
       "  </tbody>\n",
       "</table>\n",
       "</div>"
      ],
      "text/plain": [
       "      id        f0        f1        f2     product\n",
       "0  txEyH  0.705745 -0.497823  1.221170  105.280062\n",
       "1  2acmU  1.334711 -0.340164  4.365080   73.037750\n",
       "2  409Wp  1.022732  0.151990  1.419926   85.265647\n",
       "3  iJLyR -0.032172  0.139033  2.978566  168.620776\n",
       "4  Xdl7t  1.988431  0.155413  4.751769  154.036647"
      ]
     },
     "metadata": {},
     "output_type": "display_data"
    },
    {
     "name": "stdout",
     "output_type": "stream",
     "text": [
      "<class 'pandas.core.frame.DataFrame'>\n",
      "RangeIndex: 100000 entries, 0 to 99999\n",
      "Data columns (total 5 columns):\n",
      " #   Column   Non-Null Count   Dtype  \n",
      "---  ------   --------------   -----  \n",
      " 0   id       100000 non-null  object \n",
      " 1   f0       100000 non-null  float64\n",
      " 2   f1       100000 non-null  float64\n",
      " 3   f2       100000 non-null  float64\n",
      " 4   product  100000 non-null  float64\n",
      "dtypes: float64(4), object(1)\n",
      "memory usage: 3.8+ MB\n",
      "None\n"
     ]
    }
   ],
   "source": [
    "display(region_1.head())\n",
    "print(region_1.info())"
   ]
  },
  {
   "cell_type": "code",
   "execution_count": 4,
   "metadata": {},
   "outputs": [
    {
     "data": {
      "text/html": [
       "<div>\n",
       "<style scoped>\n",
       "    .dataframe tbody tr th:only-of-type {\n",
       "        vertical-align: middle;\n",
       "    }\n",
       "\n",
       "    .dataframe tbody tr th {\n",
       "        vertical-align: top;\n",
       "    }\n",
       "\n",
       "    .dataframe thead th {\n",
       "        text-align: right;\n",
       "    }\n",
       "</style>\n",
       "<table border=\"1\" class=\"dataframe\">\n",
       "  <thead>\n",
       "    <tr style=\"text-align: right;\">\n",
       "      <th></th>\n",
       "      <th>id</th>\n",
       "      <th>f0</th>\n",
       "      <th>f1</th>\n",
       "      <th>f2</th>\n",
       "      <th>product</th>\n",
       "    </tr>\n",
       "  </thead>\n",
       "  <tbody>\n",
       "    <tr>\n",
       "      <th>0</th>\n",
       "      <td>kBEdx</td>\n",
       "      <td>-15.001348</td>\n",
       "      <td>-8.276000</td>\n",
       "      <td>-0.005876</td>\n",
       "      <td>3.179103</td>\n",
       "    </tr>\n",
       "    <tr>\n",
       "      <th>1</th>\n",
       "      <td>62mP7</td>\n",
       "      <td>14.272088</td>\n",
       "      <td>-3.475083</td>\n",
       "      <td>0.999183</td>\n",
       "      <td>26.953261</td>\n",
       "    </tr>\n",
       "    <tr>\n",
       "      <th>2</th>\n",
       "      <td>vyE1P</td>\n",
       "      <td>6.263187</td>\n",
       "      <td>-5.948386</td>\n",
       "      <td>5.001160</td>\n",
       "      <td>134.766305</td>\n",
       "    </tr>\n",
       "    <tr>\n",
       "      <th>3</th>\n",
       "      <td>KcrkZ</td>\n",
       "      <td>-13.081196</td>\n",
       "      <td>-11.506057</td>\n",
       "      <td>4.999415</td>\n",
       "      <td>137.945408</td>\n",
       "    </tr>\n",
       "    <tr>\n",
       "      <th>4</th>\n",
       "      <td>AHL4O</td>\n",
       "      <td>12.702195</td>\n",
       "      <td>-8.147433</td>\n",
       "      <td>5.004363</td>\n",
       "      <td>134.766305</td>\n",
       "    </tr>\n",
       "  </tbody>\n",
       "</table>\n",
       "</div>"
      ],
      "text/plain": [
       "      id         f0         f1        f2     product\n",
       "0  kBEdx -15.001348  -8.276000 -0.005876    3.179103\n",
       "1  62mP7  14.272088  -3.475083  0.999183   26.953261\n",
       "2  vyE1P   6.263187  -5.948386  5.001160  134.766305\n",
       "3  KcrkZ -13.081196 -11.506057  4.999415  137.945408\n",
       "4  AHL4O  12.702195  -8.147433  5.004363  134.766305"
      ]
     },
     "metadata": {},
     "output_type": "display_data"
    },
    {
     "name": "stdout",
     "output_type": "stream",
     "text": [
      "<class 'pandas.core.frame.DataFrame'>\n",
      "RangeIndex: 100000 entries, 0 to 99999\n",
      "Data columns (total 5 columns):\n",
      " #   Column   Non-Null Count   Dtype  \n",
      "---  ------   --------------   -----  \n",
      " 0   id       100000 non-null  object \n",
      " 1   f0       100000 non-null  float64\n",
      " 2   f1       100000 non-null  float64\n",
      " 3   f2       100000 non-null  float64\n",
      " 4   product  100000 non-null  float64\n",
      "dtypes: float64(4), object(1)\n",
      "memory usage: 3.8+ MB\n",
      "None\n"
     ]
    }
   ],
   "source": [
    "display(region_2.head())\n",
    "print(region_2.info())"
   ]
  },
  {
   "cell_type": "code",
   "execution_count": 5,
   "metadata": {
    "scrolled": false
   },
   "outputs": [
    {
     "data": {
      "text/html": [
       "<div>\n",
       "<style scoped>\n",
       "    .dataframe tbody tr th:only-of-type {\n",
       "        vertical-align: middle;\n",
       "    }\n",
       "\n",
       "    .dataframe tbody tr th {\n",
       "        vertical-align: top;\n",
       "    }\n",
       "\n",
       "    .dataframe thead th {\n",
       "        text-align: right;\n",
       "    }\n",
       "</style>\n",
       "<table border=\"1\" class=\"dataframe\">\n",
       "  <thead>\n",
       "    <tr style=\"text-align: right;\">\n",
       "      <th></th>\n",
       "      <th>id</th>\n",
       "      <th>f0</th>\n",
       "      <th>f1</th>\n",
       "      <th>f2</th>\n",
       "      <th>product</th>\n",
       "    </tr>\n",
       "  </thead>\n",
       "  <tbody>\n",
       "    <tr>\n",
       "      <th>0</th>\n",
       "      <td>fwXo0</td>\n",
       "      <td>-1.146987</td>\n",
       "      <td>0.963328</td>\n",
       "      <td>-0.828965</td>\n",
       "      <td>27.758673</td>\n",
       "    </tr>\n",
       "    <tr>\n",
       "      <th>1</th>\n",
       "      <td>WJtFt</td>\n",
       "      <td>0.262778</td>\n",
       "      <td>0.269839</td>\n",
       "      <td>-2.530187</td>\n",
       "      <td>56.069697</td>\n",
       "    </tr>\n",
       "    <tr>\n",
       "      <th>2</th>\n",
       "      <td>ovLUW</td>\n",
       "      <td>0.194587</td>\n",
       "      <td>0.289035</td>\n",
       "      <td>-5.586433</td>\n",
       "      <td>62.871910</td>\n",
       "    </tr>\n",
       "    <tr>\n",
       "      <th>3</th>\n",
       "      <td>q6cA6</td>\n",
       "      <td>2.236060</td>\n",
       "      <td>-0.553760</td>\n",
       "      <td>0.930038</td>\n",
       "      <td>114.572842</td>\n",
       "    </tr>\n",
       "    <tr>\n",
       "      <th>4</th>\n",
       "      <td>WPMUX</td>\n",
       "      <td>-0.515993</td>\n",
       "      <td>1.716266</td>\n",
       "      <td>5.899011</td>\n",
       "      <td>149.600746</td>\n",
       "    </tr>\n",
       "  </tbody>\n",
       "</table>\n",
       "</div>"
      ],
      "text/plain": [
       "      id        f0        f1        f2     product\n",
       "0  fwXo0 -1.146987  0.963328 -0.828965   27.758673\n",
       "1  WJtFt  0.262778  0.269839 -2.530187   56.069697\n",
       "2  ovLUW  0.194587  0.289035 -5.586433   62.871910\n",
       "3  q6cA6  2.236060 -0.553760  0.930038  114.572842\n",
       "4  WPMUX -0.515993  1.716266  5.899011  149.600746"
      ]
     },
     "metadata": {},
     "output_type": "display_data"
    },
    {
     "name": "stdout",
     "output_type": "stream",
     "text": [
      "<class 'pandas.core.frame.DataFrame'>\n",
      "RangeIndex: 100000 entries, 0 to 99999\n",
      "Data columns (total 5 columns):\n",
      " #   Column   Non-Null Count   Dtype  \n",
      "---  ------   --------------   -----  \n",
      " 0   id       100000 non-null  object \n",
      " 1   f0       100000 non-null  float64\n",
      " 2   f1       100000 non-null  float64\n",
      " 3   f2       100000 non-null  float64\n",
      " 4   product  100000 non-null  float64\n",
      "dtypes: float64(4), object(1)\n",
      "memory usage: 3.8+ MB\n",
      "None\n"
     ]
    }
   ],
   "source": [
    "display(region_3.head())\n",
    "print(region_3.info())"
   ]
  },
  {
   "cell_type": "markdown",
   "metadata": {},
   "source": [
    "_____________\n",
    "#### Поиск и удаление дубликатов:\n",
    "_____________"
   ]
  },
  {
   "cell_type": "code",
   "execution_count": 6,
   "metadata": {},
   "outputs": [
    {
     "name": "stdout",
     "output_type": "stream",
     "text": [
      "Кол-во дубликатов в 1-м регионе: 10\n",
      "Кол-во дубликатов в 2-м регионе: 4\n",
      "Кол-во дубликатов в 3-м регионе: 4\n"
     ]
    }
   ],
   "source": [
    "print('Кол-во дубликатов в 1-м регионе:', region_1['id'].duplicated().sum())\n",
    "print('Кол-во дубликатов в 2-м регионе:', region_2['id'].duplicated().sum())\n",
    "print('Кол-во дубликатов в 3-м регионе:', region_3['id'].duplicated().sum())"
   ]
  },
  {
   "cell_type": "markdown",
   "metadata": {},
   "source": [
    "Удалим дубликаты во всех регионах через цикл:"
   ]
  },
  {
   "cell_type": "code",
   "execution_count": 7,
   "metadata": {},
   "outputs": [],
   "source": [
    "regions = [region_1, region_2, region_3]\n",
    "for region in regions:\n",
    "     region.drop(region.query('id.duplicated()==True').index, inplace=True)"
   ]
  },
  {
   "cell_type": "code",
   "execution_count": 8,
   "metadata": {},
   "outputs": [
    {
     "name": "stdout",
     "output_type": "stream",
     "text": [
      "Кол-во дубликатов в 1-м регионе: 0\n",
      "Кол-во дубликатов в 2-м регионе: 0\n",
      "Кол-во дубликатов в 3-м регионе: 0\n"
     ]
    }
   ],
   "source": [
    "print('Кол-во дубликатов в 1-м регионе:', region_1['id'].duplicated().sum())\n",
    "print('Кол-во дубликатов в 2-м регионе:', region_2['id'].duplicated().sum())\n",
    "print('Кол-во дубликатов в 3-м регионе:', region_3['id'].duplicated().sum())"
   ]
  },
  {
   "cell_type": "markdown",
   "metadata": {},
   "source": [
    "_____________\n",
    "#### Проверка на пропуски:\n",
    "_____________"
   ]
  },
  {
   "cell_type": "code",
   "execution_count": 9,
   "metadata": {
    "scrolled": true
   },
   "outputs": [
    {
     "data": {
      "text/plain": [
       "id         0\n",
       "f0         0\n",
       "f1         0\n",
       "f2         0\n",
       "product    0\n",
       "dtype: int64"
      ]
     },
     "metadata": {},
     "output_type": "display_data"
    },
    {
     "data": {
      "text/plain": [
       "id         0\n",
       "f0         0\n",
       "f1         0\n",
       "f2         0\n",
       "product    0\n",
       "dtype: int64"
      ]
     },
     "metadata": {},
     "output_type": "display_data"
    },
    {
     "data": {
      "text/plain": [
       "id         0\n",
       "f0         0\n",
       "f1         0\n",
       "f2         0\n",
       "product    0\n",
       "dtype: int64"
      ]
     },
     "metadata": {},
     "output_type": "display_data"
    }
   ],
   "source": [
    "display(region_1.isna().sum())\n",
    "display(region_2.isna().sum())\n",
    "display(region_3.isna().sum())"
   ]
  },
  {
   "cell_type": "markdown",
   "metadata": {},
   "source": [
    "_____________\n",
    "#### Удаление ненужных столбцов:\n",
    "_____________"
   ]
  },
  {
   "cell_type": "markdown",
   "metadata": {},
   "source": [
    "Исходя из задачи для обучения модели мы можем применить тольок логистическую регрессию, а поскольку она работает только с числовыми данными типа `int` и `float`, то столбец `id` удалим, т.к на результаты это не повлияет и данная графа носит исключительно информативный характер.\n"
   ]
  },
  {
   "cell_type": "code",
   "execution_count": 10,
   "metadata": {
    "scrolled": true
   },
   "outputs": [
    {
     "name": "stdout",
     "output_type": "stream",
     "text": [
      "f0         float64\n",
      "f1         float64\n",
      "f2         float64\n",
      "product    float64\n",
      "dtype: object\n",
      "f0         float64\n",
      "f1         float64\n",
      "f2         float64\n",
      "product    float64\n",
      "dtype: object\n",
      "f0         float64\n",
      "f1         float64\n",
      "f2         float64\n",
      "product    float64\n",
      "dtype: object\n"
     ]
    }
   ],
   "source": [
    "region_1 = region_1.drop(['id'], axis=1)\n",
    "region_2 = region_2.drop(['id'], axis=1)\n",
    "region_3 = region_3.drop(['id'], axis=1)\n",
    "\n",
    "print(region_1.dtypes)\n",
    "print(region_2.dtypes)\n",
    "print(region_3.dtypes)"
   ]
  },
  {
   "cell_type": "markdown",
   "metadata": {},
   "source": [
    "#### Выделение целевых и независимых признаков в регионах:"
   ]
  },
  {
   "cell_type": "code",
   "execution_count": 11,
   "metadata": {},
   "outputs": [],
   "source": [
    "rg1_X = region_1.drop(['product'],axis=1)\n",
    "rg1_Y = region_1['product']\n",
    "\n",
    "rg2_X = region_2.drop(['product'],axis=1)\n",
    "rg2_Y = region_2['product']\n",
    "\n",
    "rg3_X = region_3.drop(['product'],axis=1)\n",
    "rg3_Y = region_3['product']"
   ]
  },
  {
   "cell_type": "markdown",
   "metadata": {},
   "source": [
    "______\n",
    "### **Вывод блока:**\n",
    "\n",
    "______"
   ]
  },
  {
   "cell_type": "markdown",
   "metadata": {},
   "source": [
    "- Общее количество строк в таблице 10000 и 5 столбцов.\n",
    "- Значения имеют разный тип данных `int` и `float`, `object`.\n",
    "* Пропусков не обнаружено.\n",
    "* В столбце `id` всех регионов найдены дубликаты, которые были устранены.\n",
    "* Удалили не влияющий на результат столбец `id` во всех регионах.\n",
    "* Выделили целевые и независимые признаки в регионах.\n",
    "___________"
   ]
  },
  {
   "cell_type": "markdown",
   "metadata": {},
   "source": [
    "## *Обучение и проверка модели*"
   ]
  },
  {
   "cell_type": "markdown",
   "metadata": {},
   "source": [
    "Делим данные трёх регионов на обучающие и валидационные выборки, применяя стратификацию."
   ]
  },
  {
   "cell_type": "code",
   "execution_count": 12,
   "metadata": {},
   "outputs": [],
   "source": [
    "rg1_X_train, rg1_X_valid, rg1_Y_train, rg1_Y_valid = train_test_split(\n",
    "    rg1_X,\n",
    "    rg1_Y,\n",
    "    test_size=0.25,\n",
    "    random_state=12345\n",
    ")\n",
    "rg2_X_train, rg2_X_valid, rg2_Y_train, rg2_Y_valid = train_test_split(\n",
    "    rg2_X,\n",
    "    rg2_Y,\n",
    "    test_size=0.25,\n",
    "    random_state=12345\n",
    ")\n",
    "rg3_X_train, rg3_X_valid, rg3_Y_train, rg3_Y_valid = train_test_split(\n",
    "    rg3_X,\n",
    "    rg3_Y,\n",
    "    test_size=0.25,\n",
    "    random_state=12345\n",
    ")\n"
   ]
  },
  {
   "cell_type": "markdown",
   "metadata": {},
   "source": [
    "### Регион 1:\n",
    "__________"
   ]
  },
  {
   "cell_type": "code",
   "execution_count": 13,
   "metadata": {},
   "outputs": [],
   "source": [
    "model = LinearRegression() "
   ]
  },
  {
   "cell_type": "code",
   "execution_count": 14,
   "metadata": {},
   "outputs": [
    {
     "name": "stdout",
     "output_type": "stream",
     "text": [
      "Регион №1. Средний запас предсказанного сырья: 92.78915638280621 RMSE: 37.853527328872964\n"
     ]
    }
   ],
   "source": [
    "model.fit(rg1_X_train, rg1_Y_train)\n",
    "rg1_predict = model.predict(rg1_X_valid)\n",
    "result_rg1 = mean_squared_error(rg1_Y_valid, rg1_predict)** 0.5\n",
    "rg1_mean = rg1_predict.mean()\n",
    "\n",
    "print('Регион №1. Средний запас предсказанного сырья:', rg1_mean, 'RMSE:', result_rg1)"
   ]
  },
  {
   "cell_type": "markdown",
   "metadata": {},
   "source": [
    "### Регион 2:\n",
    "____________"
   ]
  },
  {
   "cell_type": "code",
   "execution_count": 15,
   "metadata": {},
   "outputs": [
    {
     "name": "stdout",
     "output_type": "stream",
     "text": [
      "Регион №2. Средний запас предсказанного сырья: 69.17831957030432 RMSE: 0.892059264771703\n"
     ]
    }
   ],
   "source": [
    "model.fit(rg2_X_train, rg2_Y_train)\n",
    "rg2_predict = model.predict(rg2_X_valid)\n",
    "result_rg2 = mean_squared_error(rg2_Y_valid, rg2_predict)** 0.5\n",
    "rg2_mean = rg2_predict.mean()\n",
    "\n",
    "print('Регион №2. Средний запас предсказанного сырья:', rg2_mean, 'RMSE:', result_rg2)"
   ]
  },
  {
   "cell_type": "markdown",
   "metadata": {},
   "source": [
    "### Регион 3:\n",
    "__________"
   ]
  },
  {
   "cell_type": "code",
   "execution_count": 16,
   "metadata": {},
   "outputs": [
    {
     "name": "stdout",
     "output_type": "stream",
     "text": [
      "Регион №1. Средний запас предсказанного сырья: 94.86572480562035 RMSE: 40.07585073246016\n"
     ]
    }
   ],
   "source": [
    "model.fit(rg3_X_train, rg3_Y_train)\n",
    "rg3_predict = model.predict(rg3_X_valid)\n",
    "result_rg3 = mean_squared_error(rg3_Y_valid, rg3_predict)** 0.5\n",
    "rg3_mean = rg3_predict.mean()\n",
    "\n",
    "print('Регион №1. Средний запас предсказанного сырья:', rg3_mean, 'RMSE:', result_rg3)"
   ]
  },
  {
   "cell_type": "markdown",
   "metadata": {},
   "source": [
    "### Важность признаков:\n",
    "__________"
   ]
  },
  {
   "cell_type": "code",
   "execution_count": 17,
   "metadata": {},
   "outputs": [
    {
     "data": {
      "image/png": "[encoded data removed]",
      "text/plain": [
       "<Figure size 432x288 with 2 Axes>"
      ]
     },
     "metadata": {
      "needs_background": "light"
     },
     "output_type": "display_data"
    },
    {
     "data": {
      "image/png": "[encoded data removed]",
      "text/plain": [
       "<Figure size 432x288 with 2 Axes>"
      ]
     },
     "metadata": {
      "needs_background": "light"
     },
     "output_type": "display_data"
    },
    {
     "data": {
      "image/png": "[encoded data removed]",
      "text/plain": [
       "<Figure size 432x288 with 2 Axes>"
      ]
     },
     "metadata": {
      "needs_background": "light"
     },
     "output_type": "display_data"
    }
   ],
   "source": [
    "for i in range(len(regions)):\n",
    "    ax = plt.axes()\n",
    "    sns.heatmap(regions[i].corr(), annot = True)\n",
    "    ax.set_title('region ' + str(i+1))\n",
    "    plt.show()"
   ]
  },
  {
   "cell_type": "markdown",
   "metadata": {},
   "source": [
    "______\n",
    "### **Вывод блока:**\n",
    "\n",
    "______"
   ]
  },
  {
   "cell_type": "markdown",
   "metadata": {},
   "source": [
    "* Мы разделили данные каждого региона на обучающую и валидационную выборки.\n",
    "* Обучили модель линейной регрессии на тренировочных данных каждого региона.\n",
    "* Посчитали среднее количество предсказанных запасов в каждом регионе, и посчитали среднеквадратическую ошибку.\n",
    "* В регионе №1. Средний запас предсказанного сырья: `92.789` тыс.баррелей, RMSE = `37.853`.\n",
    "* В регионе №2. Средний запас предсказанного сырья: `69.178` тыс.баррелей, RMSE = `0.892`.\n",
    "* В регионе №3. Средний запас предсказанного сырья: `94.865` тыс.баррелей, RMSE = `40.075`.\n",
    "* Для проверки корреляции признаков мы построили тепловые карты данных для каждого региона. Удалось обнаружить высокую корреляцию между признака f2 и целевым признаком в регионе №2, потому среднеквадратическая ошибка в этом регионе меньше единицы.\n",
    "____________"
   ]
  },
  {
   "cell_type": "markdown",
   "metadata": {},
   "source": [
    "## *Подготовка к расчёту прибыли*"
   ]
  },
  {
   "cell_type": "markdown",
   "metadata": {},
   "source": [
    "### Сохранение ключевых значений для расчетов:\n",
    "________\n",
    "\n",
    "* `regional_budget` - Бюджет на разработку скважин в регионе\n",
    "* `one_barrel_income` - Доход с одного барреля сырья \n",
    "* `income_per_unit` - Доход с каждой единицы продукта \n",
    "* `oil_rig` - Количество нефтяных вышек для расчета прибыли\n",
    "__________"
   ]
  },
  {
   "cell_type": "code",
   "execution_count": 18,
   "metadata": {},
   "outputs": [],
   "source": [
    "regional_budget = 10_000_000_000 \n",
    "one_barrel_income = 450  \n",
    "income_per_unit = 450_000 \n",
    "oil_rig = 200 "
   ]
  },
  {
   "cell_type": "markdown",
   "metadata": {},
   "source": [
    "### Рассчет достаточного объёма сырья для безубыточной разработки новой скважины:\n",
    "__________"
   ]
  },
  {
   "cell_type": "code",
   "execution_count": 19,
   "metadata": {},
   "outputs": [
    {
     "data": {
      "text/plain": [
       "111.111"
      ]
     },
     "execution_count": 19,
     "metadata": {},
     "output_type": "execute_result"
    }
   ],
   "source": [
    "none_null_production = regional_budget / income_per_unit\n",
    "min_vol = none_null_production / oil_rig\n",
    "round(min_vol,3)"
   ]
  },
  {
   "cell_type": "markdown",
   "metadata": {},
   "source": [
    "### Сравнение минимального объёма сырья со средним запасом в каждом регионе:\n",
    "_____________"
   ]
  },
  {
   "cell_type": "code",
   "execution_count": 20,
   "metadata": {
    "scrolled": true
   },
   "outputs": [
    {
     "name": "stdout",
     "output_type": "stream",
     "text": [
      "Средний обьем в 1-м регионе меньше среднего минимального на: 18.32\n",
      "Средний обьем в 2-м регионе меньше среднего минимального на: 41.93\n",
      "Средний обьем в 3-м регионе меньше среднего минимального на: 16.25\n"
     ]
    }
   ],
   "source": [
    "print('Средний обьем в 1-м регионе меньше среднего минимального на:', round(min_vol-rg1_mean,2))\n",
    "print('Средний обьем в 2-м регионе меньше среднего минимального на:', round(min_vol-rg2_mean,2))\n",
    "print('Средний обьем в 3-м регионе меньше среднего минимального на:', round(min_vol-rg3_mean,2))"
   ]
  },
  {
   "cell_type": "markdown",
   "metadata": {},
   "source": [
    "______\n",
    "### **Вывод блока:**\n",
    "\n",
    "______"
   ]
  },
  {
   "cell_type": "markdown",
   "metadata": {},
   "source": [
    "* Необходимое количество сырья для безубыточной разработки новой скважины - `111.11 баррелей`.\n",
    "* Cреднее значение запасов во всех трех регионах меньше необходимого количества для безубыточной разработки/\n",
    "* Ближе всего к необходимому количеству - предсказанные запасы в регионе №3.\n",
    "* Меньше всего предсказанных запасов в регионе №2.\n",
    "____________"
   ]
  },
  {
   "cell_type": "markdown",
   "metadata": {},
   "source": [
    "## *Расчёт прибыли и рисков* "
   ]
  },
  {
   "cell_type": "markdown",
   "metadata": {},
   "source": [
    "### Функция для расчёта прибыли по выбранным скважинам и предсказаниям модели:\n",
    "________"
   ]
  },
  {
   "cell_type": "markdown",
   "metadata": {},
   "source": [
    "* Выберем скважины с максимальными значениями предсказаний.\n",
    "* Сумммируем целевое значение объёма сырья, соответствующее этим предсказаниям.\n",
    "* Рассчитаем прибыль для полученного объёма сырья."
   ]
  },
  {
   "cell_type": "code",
   "execution_count": 21,
   "metadata": {},
   "outputs": [],
   "source": [
    "def profit(target, predictions):\n",
    "    target = pd.Series(target).reset_index(drop=True)\n",
    "    predictions = pd.Series(predictions).reset_index(drop=True)\n",
    "    predictions_s = predictions.sort_values(ascending=False)[:oil_rig].index\n",
    "    selected = target[predictions_s]\n",
    "    profit = selected.sum() * income_per_unit - regional_budget\n",
    "    return profit"
   ]
  },
  {
   "cell_type": "code",
   "execution_count": 22,
   "metadata": {
    "scrolled": true
   },
   "outputs": [
    {
     "name": "stdout",
     "output_type": "stream",
     "text": [
      "1-й регион: 3365187237.700287\n",
      "2-й регион: 2415086696.681511\n",
      "3-й регион: 2501283853.2820625\n"
     ]
    }
   ],
   "source": [
    "print('1-й регион:' ,profit(rg1_Y_valid, rg1_predict))\n",
    "print('2-й регион:' ,profit(rg2_Y_valid, rg2_predict))\n",
    "print('3-й регион:' ,profit(rg3_Y_valid, rg3_predict))"
   ]
  },
  {
   "cell_type": "markdown",
   "metadata": {},
   "source": [
    "### Расчет рисков и прибыли для каждого региона:\n",
    "________"
   ]
  },
  {
   "cell_type": "markdown",
   "metadata": {},
   "source": [
    "* Найдем распределение прибыли, применив технику `Bootstrap` для 1000 выборок.\n",
    "* Найдем среднюю прибыль, 95%-й доверительный интервал и риск убытков. Риск убытков - это доля отрицательных ответов, укажем их в процентах."
   ]
  },
  {
   "cell_type": "code",
   "execution_count": 23,
   "metadata": {},
   "outputs": [],
   "source": [
    "def bootstrap(target, probabilities, iterations, sample_size):\n",
    "    state = np.random.RandomState(12345)\n",
    "    values = []\n",
    "    for i in range(iterations):\n",
    "        target_subsample = target.sample(\n",
    "            n=sample_size,\n",
    "            random_state=state,\n",
    "            replace=True)\n",
    "        probs_subsample = probabilities[target_subsample.index]\n",
    "        values.append(profit(target_subsample, probs_subsample))\n",
    "\n",
    "    values = pd.Series(values)\n",
    "    mean = values.mean()\n",
    "    risk = (values < 0).mean()\n",
    "    confidence_interval = st.t.interval(\n",
    "        0.95,\n",
    "        len(values)-1,\n",
    "        loc=values.mean(),\n",
    "        scale=values.sem()\n",
    "    )\n",
    "    \n",
    "    lower = values.quantile(0.025)\n",
    "    upper = values.quantile(0.975)\n",
    "    quantile_interval = (lower, upper)\n",
    "    return round(mean,2), confidence_interval, round(risk*100, 2), quantile_interval"
   ]
  },
  {
   "cell_type": "code",
   "execution_count": 24,
   "metadata": {},
   "outputs": [],
   "source": [
    "rg1_mean, rg1_interval, rg1_risk, rg1_quantile = bootstrap(\n",
    "    rg1_Y_valid.reset_index(drop=True),\n",
    "    rg1_predict, 1000, 500\n",
    ")\n",
    "rg2_mean, rg2_interval, rg2_risk, rg2_quantile = bootstrap(\n",
    "    rg2_Y_valid.reset_index(drop=True),\n",
    "    rg2_predict, 1000, 500\n",
    ")\n",
    "rg3_mean, rg3_interval, rg3_risk, rg3_quantile = bootstrap(\n",
    "    rg3_Y_valid.reset_index(drop=True),\n",
    "    rg3_predict, 1000, 500\n",
    ")"
   ]
  },
  {
   "cell_type": "code",
   "execution_count": 25,
   "metadata": {},
   "outputs": [
    {
     "name": "stdout",
     "output_type": "stream",
     "text": [
      "Регион №1. Средняя выручка =  380613470.02\n",
      "Регион №1. 95 %ый доверительный интервал по стьюденту =  (364560620.98509467, 396666319.0501007)\n",
      "Регион №1. 95 %ый доверительный интервал по квантилям =  (-142942739.74041605, 890976833.8485551)\n",
      "Регион №1. Риск убытков: 7.7%\n",
      "______________________________\n",
      "Регион №2. Средняя выручка =  478484939.59\n",
      "Регион №2. 95 %ый доверительный интервал по стьюденту =  (465742044.4694273, 491227834.7147338)\n",
      "Регион №2. 95 %ый доверительный интервал по квантилям =  (89525124.97203384, 866604745.4654409)\n",
      "Регион №2. Риск убытков: 1.2%\n",
      "______________________________\n",
      "Регион №3. Средняя выручка =  330546258.02\n",
      "Регион №3. 95 %ый доверительный интервал по стьюденту =  (314344958.63482285, 346747557.39990044)\n",
      "Регион №3. 95 %ый доверительный интервал по квантилям =  (-190365733.8652492, 840467403.647846)\n",
      "Регион №3. Риск убытков: 11.3%\n"
     ]
    }
   ],
   "source": [
    "print('Регион №1. Средняя выручка = ', rg1_mean)\n",
    "print('Регион №1. 95 %ый доверительный интервал по стьюденту = ', rg1_interval)\n",
    "print('Регион №1. 95 %ый доверительный интервал по квантилям = ', rg1_quantile)\n",
    "print(f'Регион №1. Риск убытков: {rg1_risk}%')\n",
    "print('______________________________')\n",
    "print('Регион №2. Средняя выручка = ', rg2_mean)\n",
    "print('Регион №2. 95 %ый доверительный интервал по стьюденту = ', rg2_interval)\n",
    "print('Регион №2. 95 %ый доверительный интервал по квантилям = ', rg2_quantile)\n",
    "print(f'Регион №2. Риск убытков: {rg2_risk}%')\n",
    "print('______________________________')\n",
    "print('Регион №3. Средняя выручка = ', rg3_mean)\n",
    "print('Регион №3. 95 %ый доверительный интервал по стьюденту = ', rg3_interval)\n",
    "print('Регион №3. 95 %ый доверительный интервал по квантилям = ', rg3_quantile)\n",
    "print(f'Регион №3. Риск убытков: {rg3_risk}%')"
   ]
  },
  {
   "cell_type": "markdown",
   "metadata": {},
   "source": [
    "______\n",
    "### **Вывод блока:**\n",
    "\n",
    "______"
   ]
  },
  {
   "cell_type": "markdown",
   "metadata": {},
   "source": [
    "* Cамые высокие показатели средней выручки и 95%-ного доверительного интервала в регионе `№2`.\n",
    "* Наиболее прибыльный регион для разработки месторождений - `№2`.\n",
    "* Самый низкий риск убытков в регионе `№2`.\n",
    "_________"
   ]
  },
  {
   "cell_type": "markdown",
   "metadata": {},
   "source": [
    "## ***Общий вывод***"
   ]
  },
  {
   "cell_type": "markdown",
   "metadata": {},
   "source": [
    "### *Загрузка и подготовка данных*"
   ]
  },
  {
   "cell_type": "markdown",
   "metadata": {},
   "source": [
    "- Общее количество строк в таблице 10000 и 5 столбцов.\n",
    "- Значения имеют разный тип данных `int` и `float`, `object`.\n",
    "* Пропусков не обнаружено.\n",
    "* В столбце `id` всех регионов найдены дубликаты, которые были устранены.\n",
    "* Удалили не влияющий на результат столбец `id` во всех регионах.\n",
    "* Выделили целевые и независимые признаки в регионах.\n",
    "___________"
   ]
  },
  {
   "cell_type": "markdown",
   "metadata": {},
   "source": [
    "### *Обучение и проверка модели*"
   ]
  },
  {
   "cell_type": "markdown",
   "metadata": {},
   "source": [
    "* Мы разделили данные каждого региона на обучающую и валидационную выборки.\n",
    "* Обучили модель линейной регрессии на тренировочных данных каждого региона.\n",
    "* Посчитали среднее количество предсказанных запасов в каждом регионе, и посчитали среднеквадратическую ошибку.\n",
    "* В регионе №1. Средний запас предсказанного сырья: `92.789` тыс.баррелей, RMSE = `37.853`.\n",
    "* В регионе №2. Средний запас предсказанного сырья: `69.178` тыс.баррелей, RMSE = `0.892`.\n",
    "* В регионе №3. Средний запас предсказанного сырья: `94.865` тыс.баррелей, RMSE = `40.075`.\n",
    "* Для проверки корреляции признаков мы построили тепловые карты данных для каждого региона. Удалось обнаружить высокую корреляцию между признако f2 и целевым признаком в регионе №2, потому среднеквадратическая ошибка в этом регионе меньше единицы.\n",
    "___________________"
   ]
  },
  {
   "cell_type": "markdown",
   "metadata": {},
   "source": [
    "### *Подготовка к расчёту прибыли*"
   ]
  },
  {
   "cell_type": "markdown",
   "metadata": {},
   "source": [
    "* Необходимое количество сырья для безубыточной разработки новой скважины - `111.11 баррелей`.\n",
    "* Cреднее значение запасов во всех трех регионах меньше необходимого количества для безубыточной разработки/\n",
    "* Ближе всего к необходимому количеству - предсказанные запасы в регионе №3.\n",
    "* Меньше всего предсказанных запасов в регионе №2.\n",
    "_________"
   ]
  },
  {
   "cell_type": "markdown",
   "metadata": {},
   "source": [
    "### *Расчёт прибыли и рисков* "
   ]
  },
  {
   "cell_type": "markdown",
   "metadata": {},
   "source": [
    "* Cамые высокие показатели средней выручки и 95%-ного доверительного интервала в регионе `№2`.\n",
    "* Наиболее прибыльный регион для разработки месторождений - `№2`.\n",
    "* Самый низкий риск убытков в регионе `№2`.\n",
    "_________"
   ]
  },
  {
   "cell_type": "markdown",
   "metadata": {},
   "source": [
    "**Рекомендации:**\n",
    " - Дополнительно можно произвести стратификацию данных, предварительно разбив таргет на \"бакеты\", и сравнить результаты.\n",
    " - Желательно нормализовать признаки \"scaler'ом\".\n",
    " - Если исследование будет в дальнейшем использоваться, то для оптимизации кода необходимо написать функцию для работы с 3-мя одинаковыми таблицами.\n",
    " \n",
    " \n",
    "___"
   ]
  },
  {
   "cell_type": "code",
   "execution_count": null,
   "metadata": {},
   "outputs": [],
   "source": []
  }
 ],
 "metadata": {
  "ExecuteTimeLog": [
   {
    "duration": 362,
    "start_time": "2022-12-27T10:37:46.139Z"
   },
   {
    "duration": 953,
    "start_time": "2022-12-27T10:43:58.772Z"
   },
   {
    "duration": 364,
    "start_time": "2022-12-27T11:55:27.438Z"
   },
   {
    "duration": 14,
    "start_time": "2022-12-27T11:56:48.574Z"
   },
   {
    "duration": 18,
    "start_time": "2022-12-27T11:57:07.354Z"
   },
   {
    "duration": 65,
    "start_time": "2022-12-27T11:57:19.976Z"
   },
   {
    "duration": 25,
    "start_time": "2022-12-27T11:57:24.153Z"
   },
   {
    "duration": 26,
    "start_time": "2022-12-27T11:57:30.667Z"
   },
   {
    "duration": 10,
    "start_time": "2022-12-27T11:58:30.155Z"
   },
   {
    "duration": 19,
    "start_time": "2022-12-27T11:58:42.011Z"
   },
   {
    "duration": 31,
    "start_time": "2022-12-27T11:59:05.922Z"
   },
   {
    "duration": 20,
    "start_time": "2022-12-27T11:59:07.834Z"
   },
   {
    "duration": 452,
    "start_time": "2022-12-27T12:01:37.614Z"
   },
   {
    "duration": 379,
    "start_time": "2022-12-27T12:01:38.068Z"
   },
   {
    "duration": 33,
    "start_time": "2022-12-27T12:01:38.449Z"
   },
   {
    "duration": 41,
    "start_time": "2022-12-27T12:01:38.485Z"
   },
   {
    "duration": 26,
    "start_time": "2022-12-27T12:01:38.529Z"
   },
   {
    "duration": 46,
    "start_time": "2022-12-27T12:06:58.282Z"
   },
   {
    "duration": 53,
    "start_time": "2022-12-27T12:07:10.806Z"
   },
   {
    "duration": 79,
    "start_time": "2022-12-27T12:07:13.550Z"
   },
   {
    "duration": 23,
    "start_time": "2022-12-27T12:07:35.131Z"
   },
   {
    "duration": 23,
    "start_time": "2022-12-27T12:07:41.634Z"
   },
   {
    "duration": 14,
    "start_time": "2022-12-27T12:07:43.515Z"
   },
   {
    "duration": 19,
    "start_time": "2022-12-27T12:07:49.893Z"
   },
   {
    "duration": 22,
    "start_time": "2022-12-27T12:07:51.930Z"
   },
   {
    "duration": 34,
    "start_time": "2022-12-27T12:08:39.109Z"
   },
   {
    "duration": 36,
    "start_time": "2022-12-27T12:09:59.180Z"
   },
   {
    "duration": 39,
    "start_time": "2022-12-27T12:10:08.009Z"
   },
   {
    "duration": 64,
    "start_time": "2022-12-27T12:18:03.672Z"
   },
   {
    "duration": 39,
    "start_time": "2022-12-27T12:18:04.534Z"
   },
   {
    "duration": 50,
    "start_time": "2022-12-27T12:19:48.413Z"
   },
   {
    "duration": 9,
    "start_time": "2022-12-27T12:19:51.834Z"
   },
   {
    "duration": 23,
    "start_time": "2022-12-27T12:21:05.316Z"
   },
   {
    "duration": 14,
    "start_time": "2022-12-27T12:29:33.059Z"
   },
   {
    "duration": 77,
    "start_time": "2022-12-27T12:30:10.093Z"
   },
   {
    "duration": 11,
    "start_time": "2022-12-27T12:30:20.440Z"
   },
   {
    "duration": 367,
    "start_time": "2022-12-27T12:30:44.056Z"
   },
   {
    "duration": 367,
    "start_time": "2022-12-27T12:30:44.425Z"
   },
   {
    "duration": 33,
    "start_time": "2022-12-27T12:30:44.795Z"
   },
   {
    "duration": 20,
    "start_time": "2022-12-27T12:30:44.830Z"
   },
   {
    "duration": 21,
    "start_time": "2022-12-27T12:30:44.851Z"
   },
   {
    "duration": 54,
    "start_time": "2022-12-27T12:30:44.898Z"
   },
   {
    "duration": 95,
    "start_time": "2022-12-27T12:30:44.954Z"
   },
   {
    "duration": 60,
    "start_time": "2022-12-27T12:30:45.051Z"
   },
   {
    "duration": 35,
    "start_time": "2022-12-27T12:30:45.113Z"
   },
   {
    "duration": 16,
    "start_time": "2022-12-27T12:30:45.151Z"
   },
   {
    "duration": 81,
    "start_time": "2022-12-27T12:31:00.282Z"
   },
   {
    "duration": 391,
    "start_time": "2022-12-27T12:31:05.256Z"
   },
   {
    "duration": 413,
    "start_time": "2022-12-27T12:31:05.649Z"
   },
   {
    "duration": 45,
    "start_time": "2022-12-27T12:31:06.063Z"
   },
   {
    "duration": 27,
    "start_time": "2022-12-27T12:31:06.110Z"
   },
   {
    "duration": 57,
    "start_time": "2022-12-27T12:31:06.140Z"
   },
   {
    "duration": 60,
    "start_time": "2022-12-27T12:31:06.199Z"
   },
   {
    "duration": 87,
    "start_time": "2022-12-27T12:31:06.261Z"
   },
   {
    "duration": 50,
    "start_time": "2022-12-27T12:31:06.349Z"
   },
   {
    "duration": 31,
    "start_time": "2022-12-27T12:31:06.400Z"
   },
   {
    "duration": 15,
    "start_time": "2022-12-27T12:31:06.433Z"
   },
   {
    "duration": 12,
    "start_time": "2022-12-27T13:05:13.739Z"
   },
   {
    "duration": 738,
    "start_time": "2022-12-27T13:11:11.611Z"
   },
   {
    "duration": 124,
    "start_time": "2022-12-27T13:15:09.634Z"
   },
   {
    "duration": 48,
    "start_time": "2022-12-27T13:16:58.418Z"
   },
   {
    "duration": 36,
    "start_time": "2022-12-27T13:17:07.375Z"
   },
   {
    "duration": 84,
    "start_time": "2022-12-27T13:17:44.472Z"
   },
   {
    "duration": 28,
    "start_time": "2022-12-27T13:17:53.325Z"
   },
   {
    "duration": 32,
    "start_time": "2022-12-27T13:18:04.935Z"
   },
   {
    "duration": 37,
    "start_time": "2022-12-27T13:18:31.768Z"
   },
   {
    "duration": 22,
    "start_time": "2022-12-27T13:19:56.690Z"
   },
   {
    "duration": 25,
    "start_time": "2022-12-27T13:20:40.969Z"
   },
   {
    "duration": 13,
    "start_time": "2022-12-27T13:21:52.453Z"
   },
   {
    "duration": 1166,
    "start_time": "2022-12-27T13:22:06.404Z"
   },
   {
    "duration": 468,
    "start_time": "2022-12-27T13:22:07.573Z"
   },
   {
    "duration": 32,
    "start_time": "2022-12-27T13:22:08.042Z"
   },
   {
    "duration": 42,
    "start_time": "2022-12-27T13:22:08.077Z"
   },
   {
    "duration": 23,
    "start_time": "2022-12-27T13:22:08.121Z"
   },
   {
    "duration": 77,
    "start_time": "2022-12-27T13:22:08.146Z"
   },
   {
    "duration": 88,
    "start_time": "2022-12-27T13:22:08.225Z"
   },
   {
    "duration": 44,
    "start_time": "2022-12-27T13:22:08.315Z"
   },
   {
    "duration": 56,
    "start_time": "2022-12-27T13:22:08.361Z"
   },
   {
    "duration": 19,
    "start_time": "2022-12-27T13:22:08.420Z"
   },
   {
    "duration": 24,
    "start_time": "2022-12-27T13:22:08.441Z"
   },
   {
    "duration": 119,
    "start_time": "2022-12-27T13:22:08.468Z"
   },
   {
    "duration": 61,
    "start_time": "2022-12-27T13:22:32.147Z"
   },
   {
    "duration": 74,
    "start_time": "2022-12-27T13:24:40.790Z"
   },
   {
    "duration": 55,
    "start_time": "2022-12-27T13:25:07.031Z"
   },
   {
    "duration": 22,
    "start_time": "2022-12-27T13:25:13.136Z"
   },
   {
    "duration": 16,
    "start_time": "2022-12-27T13:25:28.067Z"
   },
   {
    "duration": 39,
    "start_time": "2022-12-27T13:25:48.996Z"
   },
   {
    "duration": 1168,
    "start_time": "2022-12-27T13:26:01.264Z"
   },
   {
    "duration": 409,
    "start_time": "2022-12-27T13:26:02.434Z"
   },
   {
    "duration": 33,
    "start_time": "2022-12-27T13:26:02.845Z"
   },
   {
    "duration": 47,
    "start_time": "2022-12-27T13:26:02.880Z"
   },
   {
    "duration": 23,
    "start_time": "2022-12-27T13:26:02.929Z"
   },
   {
    "duration": 76,
    "start_time": "2022-12-27T13:26:02.953Z"
   },
   {
    "duration": 88,
    "start_time": "2022-12-27T13:26:03.031Z"
   },
   {
    "duration": 42,
    "start_time": "2022-12-27T13:26:03.121Z"
   },
   {
    "duration": 56,
    "start_time": "2022-12-27T13:26:03.165Z"
   },
   {
    "duration": 17,
    "start_time": "2022-12-27T13:26:03.224Z"
   },
   {
    "duration": 17,
    "start_time": "2022-12-27T13:26:03.242Z"
   },
   {
    "duration": 53,
    "start_time": "2022-12-27T13:26:03.261Z"
   },
   {
    "duration": 113,
    "start_time": "2022-12-27T13:33:13.233Z"
   },
   {
    "duration": 25,
    "start_time": "2022-12-27T13:33:31.905Z"
   },
   {
    "duration": 12,
    "start_time": "2022-12-27T13:33:59.592Z"
   },
   {
    "duration": 10,
    "start_time": "2022-12-27T13:34:08.629Z"
   },
   {
    "duration": 3,
    "start_time": "2022-12-27T13:34:14.904Z"
   },
   {
    "duration": 10,
    "start_time": "2022-12-27T13:34:23.615Z"
   },
   {
    "duration": 2,
    "start_time": "2022-12-27T13:36:56.881Z"
   },
   {
    "duration": 72,
    "start_time": "2022-12-27T13:44:45.812Z"
   },
   {
    "duration": 27,
    "start_time": "2022-12-27T13:44:58.705Z"
   },
   {
    "duration": 15,
    "start_time": "2022-12-27T13:46:30.915Z"
   },
   {
    "duration": 17,
    "start_time": "2022-12-27T13:47:25.898Z"
   },
   {
    "duration": 12,
    "start_time": "2022-12-27T13:48:40.102Z"
   },
   {
    "duration": 561,
    "start_time": "2022-12-27T13:49:30.347Z"
   },
   {
    "duration": 1180,
    "start_time": "2022-12-27T13:49:34.573Z"
   },
   {
    "duration": 1742,
    "start_time": "2022-12-27T17:01:47.234Z"
   },
   {
    "duration": 1042,
    "start_time": "2022-12-27T17:01:48.979Z"
   },
   {
    "duration": 28,
    "start_time": "2022-12-27T17:01:50.023Z"
   },
   {
    "duration": 26,
    "start_time": "2022-12-27T17:01:50.053Z"
   },
   {
    "duration": 33,
    "start_time": "2022-12-27T17:01:50.081Z"
   },
   {
    "duration": 61,
    "start_time": "2022-12-27T17:01:50.116Z"
   },
   {
    "duration": 80,
    "start_time": "2022-12-27T17:01:50.180Z"
   },
   {
    "duration": 81,
    "start_time": "2022-12-27T17:01:50.262Z"
   },
   {
    "duration": 53,
    "start_time": "2022-12-27T17:01:50.345Z"
   },
   {
    "duration": 18,
    "start_time": "2022-12-27T17:01:50.400Z"
   },
   {
    "duration": 47,
    "start_time": "2022-12-27T17:01:50.419Z"
   },
   {
    "duration": 69,
    "start_time": "2022-12-27T17:01:50.468Z"
   },
   {
    "duration": 3,
    "start_time": "2022-12-27T17:01:50.539Z"
   },
   {
    "duration": 46,
    "start_time": "2022-12-27T17:01:50.544Z"
   },
   {
    "duration": 198,
    "start_time": "2022-12-27T17:01:50.597Z"
   },
   {
    "duration": 233,
    "start_time": "2022-12-27T17:01:50.797Z"
   },
   {
    "duration": 1362,
    "start_time": "2022-12-27T17:01:51.032Z"
   },
   {
    "duration": 3,
    "start_time": "2022-12-27T18:26:03.249Z"
   },
   {
    "duration": 114,
    "start_time": "2022-12-27T18:33:16.185Z"
   },
   {
    "duration": 3,
    "start_time": "2022-12-27T18:33:18.668Z"
   },
   {
    "duration": 4,
    "start_time": "2022-12-27T18:33:20.025Z"
   },
   {
    "duration": 4,
    "start_time": "2022-12-27T18:33:26.034Z"
   },
   {
    "duration": 4,
    "start_time": "2022-12-27T18:38:33.220Z"
   },
   {
    "duration": 4,
    "start_time": "2022-12-27T18:39:44.745Z"
   },
   {
    "duration": 5,
    "start_time": "2022-12-27T18:41:53.227Z"
   },
   {
    "duration": 5,
    "start_time": "2022-12-27T18:42:08.695Z"
   },
   {
    "duration": 4,
    "start_time": "2022-12-27T18:42:15.495Z"
   },
   {
    "duration": 4,
    "start_time": "2022-12-27T18:42:43.794Z"
   },
   {
    "duration": 5,
    "start_time": "2022-12-27T18:43:43.676Z"
   },
   {
    "duration": 7,
    "start_time": "2022-12-27T18:44:13.489Z"
   },
   {
    "duration": 35,
    "start_time": "2022-12-27T19:06:29.319Z"
   },
   {
    "duration": 27,
    "start_time": "2022-12-27T19:07:59.712Z"
   },
   {
    "duration": 38,
    "start_time": "2022-12-27T19:09:56.497Z"
   },
   {
    "duration": 4,
    "start_time": "2022-12-27T19:10:44.555Z"
   },
   {
    "duration": 25,
    "start_time": "2022-12-27T19:10:59.108Z"
   },
   {
    "duration": 5,
    "start_time": "2022-12-27T19:12:27.816Z"
   },
   {
    "duration": 21,
    "start_time": "2022-12-27T19:12:32.768Z"
   },
   {
    "duration": 5,
    "start_time": "2022-12-27T19:13:26.030Z"
   },
   {
    "duration": 8,
    "start_time": "2022-12-27T19:13:26.941Z"
   },
   {
    "duration": 4,
    "start_time": "2022-12-27T19:13:58.255Z"
   },
   {
    "duration": 10,
    "start_time": "2022-12-27T19:13:59.244Z"
   },
   {
    "duration": 9,
    "start_time": "2022-12-27T19:15:05.142Z"
   },
   {
    "duration": 16,
    "start_time": "2022-12-27T19:15:27.448Z"
   },
   {
    "duration": 6,
    "start_time": "2022-12-27T19:24:00.448Z"
   },
   {
    "duration": 37,
    "start_time": "2022-12-27T19:26:18.072Z"
   },
   {
    "duration": 7,
    "start_time": "2022-12-27T19:26:50.586Z"
   },
   {
    "duration": 18,
    "start_time": "2022-12-27T19:26:58.052Z"
   },
   {
    "duration": 5,
    "start_time": "2022-12-27T19:27:25.346Z"
   },
   {
    "duration": 993,
    "start_time": "2022-12-27T19:27:26.517Z"
   },
   {
    "duration": 4,
    "start_time": "2022-12-27T19:28:11.811Z"
   },
   {
    "duration": 1097,
    "start_time": "2022-12-27T19:28:16.562Z"
   },
   {
    "duration": 3213,
    "start_time": "2022-12-27T19:32:24.806Z"
   },
   {
    "duration": 5,
    "start_time": "2022-12-27T19:33:17.208Z"
   },
   {
    "duration": 5,
    "start_time": "2022-12-27T19:33:30.117Z"
   },
   {
    "duration": 1506,
    "start_time": "2022-12-27T19:33:42.548Z"
   },
   {
    "duration": 443,
    "start_time": "2022-12-27T19:33:44.056Z"
   },
   {
    "duration": 26,
    "start_time": "2022-12-27T19:33:44.506Z"
   },
   {
    "duration": 70,
    "start_time": "2022-12-27T19:33:44.534Z"
   },
   {
    "duration": 91,
    "start_time": "2022-12-27T19:33:44.606Z"
   },
   {
    "duration": 125,
    "start_time": "2022-12-27T19:33:44.699Z"
   },
   {
    "duration": 202,
    "start_time": "2022-12-27T19:33:44.826Z"
   },
   {
    "duration": 99,
    "start_time": "2022-12-27T19:33:45.083Z"
   },
   {
    "duration": 42,
    "start_time": "2022-12-27T19:33:45.183Z"
   },
   {
    "duration": 65,
    "start_time": "2022-12-27T19:33:45.227Z"
   },
   {
    "duration": 26,
    "start_time": "2022-12-27T19:33:45.294Z"
   },
   {
    "duration": 91,
    "start_time": "2022-12-27T19:33:45.322Z"
   },
   {
    "duration": 2,
    "start_time": "2022-12-27T19:33:45.415Z"
   },
   {
    "duration": 100,
    "start_time": "2022-12-27T19:33:45.419Z"
   },
   {
    "duration": 103,
    "start_time": "2022-12-27T19:33:45.606Z"
   },
   {
    "duration": 101,
    "start_time": "2022-12-27T19:33:45.711Z"
   },
   {
    "duration": 1589,
    "start_time": "2022-12-27T19:33:45.814Z"
   },
   {
    "duration": 4,
    "start_time": "2022-12-27T19:33:47.405Z"
   },
   {
    "duration": 7,
    "start_time": "2022-12-27T19:33:47.410Z"
   },
   {
    "duration": 7,
    "start_time": "2022-12-27T19:33:47.419Z"
   },
   {
    "duration": 11,
    "start_time": "2022-12-27T19:33:47.428Z"
   },
   {
    "duration": 20,
    "start_time": "2022-12-27T19:33:47.441Z"
   },
   {
    "duration": 31,
    "start_time": "2022-12-27T19:33:47.463Z"
   },
   {
    "duration": 4308,
    "start_time": "2022-12-27T19:33:47.495Z"
   },
   {
    "duration": 6,
    "start_time": "2022-12-27T19:38:35.437Z"
   },
   {
    "duration": 5,
    "start_time": "2022-12-27T19:38:46.349Z"
   },
   {
    "duration": 1471,
    "start_time": "2022-12-27T19:39:00.653Z"
   },
   {
    "duration": 424,
    "start_time": "2022-12-27T19:39:02.126Z"
   },
   {
    "duration": 39,
    "start_time": "2022-12-27T19:39:02.551Z"
   },
   {
    "duration": 28,
    "start_time": "2022-12-27T19:39:02.596Z"
   },
   {
    "duration": 21,
    "start_time": "2022-12-27T19:39:02.626Z"
   },
   {
    "duration": 70,
    "start_time": "2022-12-27T19:39:02.649Z"
   },
   {
    "duration": 93,
    "start_time": "2022-12-27T19:39:02.722Z"
   },
   {
    "duration": 41,
    "start_time": "2022-12-27T19:39:02.817Z"
   },
   {
    "duration": 56,
    "start_time": "2022-12-27T19:39:02.859Z"
   },
   {
    "duration": 19,
    "start_time": "2022-12-27T19:39:02.916Z"
   },
   {
    "duration": 14,
    "start_time": "2022-12-27T19:39:02.937Z"
   },
   {
    "duration": 50,
    "start_time": "2022-12-27T19:39:02.952Z"
   },
   {
    "duration": 3,
    "start_time": "2022-12-27T19:39:03.004Z"
   },
   {
    "duration": 25,
    "start_time": "2022-12-27T19:39:03.010Z"
   },
   {
    "duration": 171,
    "start_time": "2022-12-27T19:39:03.036Z"
   },
   {
    "duration": 87,
    "start_time": "2022-12-27T19:39:03.209Z"
   },
   {
    "duration": 1188,
    "start_time": "2022-12-27T19:39:03.301Z"
   },
   {
    "duration": 9,
    "start_time": "2022-12-27T19:39:04.491Z"
   },
   {
    "duration": 25,
    "start_time": "2022-12-27T19:39:04.501Z"
   },
   {
    "duration": 9,
    "start_time": "2022-12-27T19:39:04.527Z"
   },
   {
    "duration": 9,
    "start_time": "2022-12-27T19:39:04.538Z"
   },
   {
    "duration": 10,
    "start_time": "2022-12-27T19:39:04.548Z"
   },
   {
    "duration": 27,
    "start_time": "2022-12-27T19:39:04.560Z"
   },
   {
    "duration": 7,
    "start_time": "2022-12-27T19:39:04.599Z"
   },
   {
    "duration": 4430,
    "start_time": "2022-12-27T19:39:04.608Z"
   },
   {
    "duration": 3251,
    "start_time": "2022-12-27T19:39:52.640Z"
   },
   {
    "duration": 4,
    "start_time": "2022-12-27T19:42:05.511Z"
   },
   {
    "duration": 11,
    "start_time": "2022-12-27T19:43:03.073Z"
   },
   {
    "duration": 7,
    "start_time": "2022-12-27T19:43:50.213Z"
   },
   {
    "duration": 8,
    "start_time": "2022-12-27T19:43:54.960Z"
   },
   {
    "duration": 13,
    "start_time": "2022-12-27T19:45:19.473Z"
   },
   {
    "duration": 10,
    "start_time": "2022-12-27T19:46:13.698Z"
   },
   {
    "duration": 1730,
    "start_time": "2022-12-27T19:50:29.456Z"
   },
   {
    "duration": 494,
    "start_time": "2022-12-27T19:50:31.189Z"
   },
   {
    "duration": 36,
    "start_time": "2022-12-27T19:50:31.689Z"
   },
   {
    "duration": 32,
    "start_time": "2022-12-27T19:50:31.727Z"
   },
   {
    "duration": 27,
    "start_time": "2022-12-27T19:50:31.761Z"
   },
   {
    "duration": 85,
    "start_time": "2022-12-27T19:50:31.790Z"
   },
   {
    "duration": 135,
    "start_time": "2022-12-27T19:50:31.877Z"
   },
   {
    "duration": 38,
    "start_time": "2022-12-27T19:50:32.015Z"
   },
   {
    "duration": 37,
    "start_time": "2022-12-27T19:50:32.054Z"
   },
   {
    "duration": 21,
    "start_time": "2022-12-27T19:50:32.095Z"
   },
   {
    "duration": 27,
    "start_time": "2022-12-27T19:50:32.117Z"
   },
   {
    "duration": 53,
    "start_time": "2022-12-27T19:50:32.145Z"
   },
   {
    "duration": 13,
    "start_time": "2022-12-27T19:50:32.200Z"
   },
   {
    "duration": 66,
    "start_time": "2022-12-27T19:50:32.219Z"
   },
   {
    "duration": 131,
    "start_time": "2022-12-27T19:50:32.288Z"
   },
   {
    "duration": 208,
    "start_time": "2022-12-27T19:50:32.421Z"
   },
   {
    "duration": 1091,
    "start_time": "2022-12-27T19:50:32.679Z"
   },
   {
    "duration": 3,
    "start_time": "2022-12-27T19:50:33.772Z"
   },
   {
    "duration": 52,
    "start_time": "2022-12-27T19:50:33.777Z"
   },
   {
    "duration": 24,
    "start_time": "2022-12-27T19:50:33.830Z"
   },
   {
    "duration": 70,
    "start_time": "2022-12-27T19:50:33.856Z"
   },
   {
    "duration": 9,
    "start_time": "2022-12-27T19:50:33.928Z"
   },
   {
    "duration": 25,
    "start_time": "2022-12-27T19:50:33.938Z"
   },
   {
    "duration": 45,
    "start_time": "2022-12-27T19:50:33.965Z"
   },
   {
    "duration": 3595,
    "start_time": "2022-12-27T19:50:34.011Z"
   },
   {
    "duration": 15,
    "start_time": "2022-12-27T19:50:37.609Z"
   },
   {
    "duration": 1448,
    "start_time": "2023-07-20T11:24:12.781Z"
   },
   {
    "duration": 1661,
    "start_time": "2023-07-20T11:24:14.231Z"
   },
   {
    "duration": 25,
    "start_time": "2023-07-20T11:24:15.894Z"
   },
   {
    "duration": 18,
    "start_time": "2023-07-20T11:24:15.921Z"
   },
   {
    "duration": 24,
    "start_time": "2023-07-20T11:24:15.940Z"
   },
   {
    "duration": 43,
    "start_time": "2023-07-20T11:24:15.965Z"
   },
   {
    "duration": 73,
    "start_time": "2023-07-20T11:24:16.010Z"
   },
   {
    "duration": 36,
    "start_time": "2023-07-20T11:24:16.085Z"
   },
   {
    "duration": 22,
    "start_time": "2023-07-20T11:24:16.123Z"
   },
   {
    "duration": 36,
    "start_time": "2023-07-20T11:24:16.148Z"
   },
   {
    "duration": 10,
    "start_time": "2023-07-20T11:24:16.185Z"
   },
   {
    "duration": 31,
    "start_time": "2023-07-20T11:24:16.196Z"
   },
   {
    "duration": 2,
    "start_time": "2023-07-20T11:24:16.228Z"
   },
   {
    "duration": 148,
    "start_time": "2023-07-20T11:24:16.232Z"
   },
   {
    "duration": 16,
    "start_time": "2023-07-20T11:24:16.382Z"
   },
   {
    "duration": 90,
    "start_time": "2023-07-20T11:24:16.400Z"
   },
   {
    "duration": 1017,
    "start_time": "2023-07-20T11:24:16.568Z"
   },
   {
    "duration": 2,
    "start_time": "2023-07-20T11:24:17.587Z"
   },
   {
    "duration": 8,
    "start_time": "2023-07-20T11:24:17.590Z"
   },
   {
    "duration": 7,
    "start_time": "2023-07-20T11:24:17.600Z"
   },
   {
    "duration": 10,
    "start_time": "2023-07-20T11:24:17.609Z"
   },
   {
    "duration": 9,
    "start_time": "2023-07-20T11:24:17.620Z"
   },
   {
    "duration": 35,
    "start_time": "2023-07-20T11:24:17.631Z"
   },
   {
    "duration": 10,
    "start_time": "2023-07-20T11:24:17.671Z"
   },
   {
    "duration": 2609,
    "start_time": "2023-07-20T11:24:17.682Z"
   },
   {
    "duration": 9,
    "start_time": "2023-07-20T11:24:20.292Z"
   },
   {
    "duration": 1521,
    "start_time": "2023-07-20T11:36:47.464Z"
   },
   {
    "duration": 707,
    "start_time": "2023-07-20T11:36:48.987Z"
   },
   {
    "duration": 77,
    "start_time": "2023-07-20T11:36:49.696Z"
   },
   {
    "duration": 25,
    "start_time": "2023-07-20T11:36:49.775Z"
   },
   {
    "duration": 79,
    "start_time": "2023-07-20T11:36:49.802Z"
   },
   {
    "duration": 99,
    "start_time": "2023-07-20T11:36:49.883Z"
   },
   {
    "duration": 124,
    "start_time": "2023-07-20T11:36:49.984Z"
   },
   {
    "duration": 95,
    "start_time": "2023-07-20T11:36:50.110Z"
   },
   {
    "duration": 84,
    "start_time": "2023-07-20T11:36:50.207Z"
   },
   {
    "duration": 16,
    "start_time": "2023-07-20T11:36:50.294Z"
   },
   {
    "duration": 12,
    "start_time": "2023-07-20T11:36:50.368Z"
   },
   {
    "duration": 99,
    "start_time": "2023-07-20T11:36:50.382Z"
   },
   {
    "duration": 4,
    "start_time": "2023-07-20T11:36:50.483Z"
   },
   {
    "duration": 279,
    "start_time": "2023-07-20T11:36:50.489Z"
   },
   {
    "duration": 99,
    "start_time": "2023-07-20T11:36:50.770Z"
   },
   {
    "duration": 198,
    "start_time": "2023-07-20T11:36:50.871Z"
   },
   {
    "duration": 1213,
    "start_time": "2023-07-20T11:36:51.072Z"
   },
   {
    "duration": 3,
    "start_time": "2023-07-20T11:36:52.287Z"
   },
   {
    "duration": 35,
    "start_time": "2023-07-20T11:36:52.292Z"
   },
   {
    "duration": 42,
    "start_time": "2023-07-20T11:36:52.329Z"
   },
   {
    "duration": 14,
    "start_time": "2023-07-20T11:36:52.372Z"
   },
   {
    "duration": 38,
    "start_time": "2023-07-20T11:36:52.387Z"
   },
   {
    "duration": 41,
    "start_time": "2023-07-20T11:36:52.427Z"
   },
   {
    "duration": 5102,
    "start_time": "2023-07-20T11:36:52.470Z"
   },
   {
    "duration": 7,
    "start_time": "2023-07-20T11:36:57.573Z"
   }
  ],
  "kernelspec": {
   "display_name": "Python 3 (ipykernel)",
   "language": "python",
   "name": "python3"
  },
  "language_info": {
   "codemirror_mode": {
    "name": "ipython",
    "version": 3
   },
   "file_extension": ".py",
   "mimetype": "text/x-python",
   "name": "python",
   "nbconvert_exporter": "python",
   "pygments_lexer": "ipython3",
   "version": "3.9.5"
  },
  "toc": {
   "base_numbering": 1,
   "nav_menu": {},
   "number_sections": true,
   "sideBar": true,
   "skip_h1_title": true,
   "title_cell": "Содержание",
   "title_sidebar": "Contents",
   "toc_cell": true,
   "toc_position": {
    "height": "calc(100% - 180px)",
    "left": "10px",
    "top": "150px",
    "width": "296.756px"
   },
   "toc_section_display": true,
   "toc_window_display": true
  }
 },
 "nbformat": 4,
 "nbformat_minor": 2
}
