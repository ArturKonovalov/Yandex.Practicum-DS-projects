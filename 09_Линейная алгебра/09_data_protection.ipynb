{
 "cells": [
  {
   "cell_type": "markdown",
   "metadata": {
    "toc": true
   },
   "source": [
    "<h1>Содержание<span class=\"tocSkip\"></span></h1>\n",
    "<div class=\"toc\"><ul class=\"toc-item\"><li><span><a href=\"#Загрузка-данных\" data-toc-modified-id=\"Загрузка-данных-1\"><span class=\"toc-item-num\">1&nbsp;&nbsp;</span>Загрузка данных</a></span></li><li><span><a href=\"#Умножение-матриц\" data-toc-modified-id=\"Умножение-матриц-2\"><span class=\"toc-item-num\">2&nbsp;&nbsp;</span>Умножение матриц</a></span></li><li><span><a href=\"#Алгоритм-преобразования\" data-toc-modified-id=\"Алгоритм-преобразования-3\"><span class=\"toc-item-num\">3&nbsp;&nbsp;</span>Алгоритм преобразования</a></span></li><li><span><a href=\"#Проверка-алгоритма\" data-toc-modified-id=\"Проверка-алгоритма-4\"><span class=\"toc-item-num\">4&nbsp;&nbsp;</span>Проверка алгоритма</a></span></li></ul></div>"
   ]
  },
  {
   "cell_type": "markdown",
   "metadata": {},
   "source": [
    "# Защита персональных данных клиентов"
   ]
  },
  {
   "cell_type": "markdown",
   "metadata": {},
   "source": [
    "___\n",
    "**Описание задачи:**\n",
    "Страховой компании «Хоть потоп» необходимо защитить данные клиентов, чтобы по ним было сложно восстановить персональную информацию.\n",
    "\n",
    "**Цель проекта:**\n",
    "Разработать метод преобразования данных, который не ухудшит качество моделей машинного обучения .\n",
    "\n",
    "**Описание данных:**\n",
    "* *Признаки*: пол, возраст и зарплата застрахованного, количество членов его семьи.\n",
    "* *Целевой признак*: количество страховых выплат клиенту за последние 5 лет.\n",
    "\n",
    "**Этапы проекта:**\n",
    "\n",
    "1. Загрузка данных\n",
    "2. Умножение матриц\n",
    "3. Алгоритм преобразования.\n",
    "4. Проверка алгоритма.\n",
    "\n",
    "**Описание этапов и выполняемых шагов:**\n",
    "1. *Загрузка данных*\n",
    "* Изучим и проверим данные на пропуски и дубликаты.\n",
    "\n",
    "2. *Умножение матриц:*\n",
    "* Измерим качество линейной регрессии для матрицы признаков `Х`.\n",
    "* Проверим ее на обратимость.\n",
    "* Умножим матрицу `X` на квадратную обратимую матрицу `XP`\n",
    "* Проверим качество линейной регрессии для матрицы `XP`\n",
    "* Приведем математическое обоснование выбранного метода преобразования, докажем, что он не повлияет на предсказания модели.\n",
    "\n",
    "3. *Алгоритм преобразования:*\n",
    "* Опишем сам алгоритм.\n",
    "\n",
    "4. *Проверка алгоритма:*\n",
    "* Проверим меняется ли качетсво линейной регрессии."
   ]
  },
  {
   "cell_type": "markdown",
   "metadata": {},
   "source": [
    "## Загрузка данных\n",
    "_______"
   ]
  },
  {
   "cell_type": "code",
   "execution_count": 1,
   "metadata": {},
   "outputs": [],
   "source": [
    "import numpy as np\n",
    "import pandas as pd\n",
    "\n",
    "from sklearn.linear_model import LinearRegression\n",
    "from sklearn.metrics import r2_score\n",
    "\n",
    "import matplotlib.pyplot as plt \n",
    "import seaborn as sns\n",
    "\n",
    "import warnings\n",
    "warnings.filterwarnings('ignore')"
   ]
  },
  {
   "cell_type": "code",
   "execution_count": 2,
   "metadata": {},
   "outputs": [],
   "source": [
    "data = pd.read_csv('/datasets/insurance.csv')"
   ]
  },
  {
   "cell_type": "code",
   "execution_count": 4,
   "metadata": {},
   "outputs": [
    {
     "data": {
      "text/html": [
       "<div>\n",
       "<style scoped>\n",
       "    .dataframe tbody tr th:only-of-type {\n",
       "        vertical-align: middle;\n",
       "    }\n",
       "\n",
       "    .dataframe tbody tr th {\n",
       "        vertical-align: top;\n",
       "    }\n",
       "\n",
       "    .dataframe thead th {\n",
       "        text-align: right;\n",
       "    }\n",
       "</style>\n",
       "<table border=\"1\" class=\"dataframe\">\n",
       "  <thead>\n",
       "    <tr style=\"text-align: right;\">\n",
       "      <th></th>\n",
       "      <th>Пол</th>\n",
       "      <th>Возраст</th>\n",
       "      <th>Зарплата</th>\n",
       "      <th>Члены семьи</th>\n",
       "      <th>Страховые выплаты</th>\n",
       "    </tr>\n",
       "  </thead>\n",
       "  <tbody>\n",
       "    <tr>\n",
       "      <th>4995</th>\n",
       "      <td>0</td>\n",
       "      <td>28.0</td>\n",
       "      <td>35700.0</td>\n",
       "      <td>2</td>\n",
       "      <td>0</td>\n",
       "    </tr>\n",
       "    <tr>\n",
       "      <th>4996</th>\n",
       "      <td>0</td>\n",
       "      <td>34.0</td>\n",
       "      <td>52400.0</td>\n",
       "      <td>1</td>\n",
       "      <td>0</td>\n",
       "    </tr>\n",
       "    <tr>\n",
       "      <th>4997</th>\n",
       "      <td>0</td>\n",
       "      <td>20.0</td>\n",
       "      <td>33900.0</td>\n",
       "      <td>2</td>\n",
       "      <td>0</td>\n",
       "    </tr>\n",
       "    <tr>\n",
       "      <th>4998</th>\n",
       "      <td>1</td>\n",
       "      <td>22.0</td>\n",
       "      <td>32700.0</td>\n",
       "      <td>3</td>\n",
       "      <td>0</td>\n",
       "    </tr>\n",
       "    <tr>\n",
       "      <th>4999</th>\n",
       "      <td>1</td>\n",
       "      <td>28.0</td>\n",
       "      <td>40600.0</td>\n",
       "      <td>1</td>\n",
       "      <td>0</td>\n",
       "    </tr>\n",
       "  </tbody>\n",
       "</table>\n",
       "</div>"
      ],
      "text/plain": [
       "      Пол  Возраст  Зарплата  Члены семьи  Страховые выплаты\n",
       "4995    0     28.0   35700.0            2                  0\n",
       "4996    0     34.0   52400.0            1                  0\n",
       "4997    0     20.0   33900.0            2                  0\n",
       "4998    1     22.0   32700.0            3                  0\n",
       "4999    1     28.0   40600.0            1                  0"
      ]
     },
     "execution_count": 4,
     "metadata": {},
     "output_type": "execute_result"
    }
   ],
   "source": [
    "data.tail()"
   ]
  },
  {
   "cell_type": "code",
   "execution_count": 5,
   "metadata": {},
   "outputs": [
    {
     "data": {
      "text/html": [
       "<div>\n",
       "<style scoped>\n",
       "    .dataframe tbody tr th:only-of-type {\n",
       "        vertical-align: middle;\n",
       "    }\n",
       "\n",
       "    .dataframe tbody tr th {\n",
       "        vertical-align: top;\n",
       "    }\n",
       "\n",
       "    .dataframe thead th {\n",
       "        text-align: right;\n",
       "    }\n",
       "</style>\n",
       "<table border=\"1\" class=\"dataframe\">\n",
       "  <thead>\n",
       "    <tr style=\"text-align: right;\">\n",
       "      <th></th>\n",
       "      <th>Пол</th>\n",
       "      <th>Возраст</th>\n",
       "      <th>Зарплата</th>\n",
       "      <th>Члены семьи</th>\n",
       "      <th>Страховые выплаты</th>\n",
       "    </tr>\n",
       "  </thead>\n",
       "  <tbody>\n",
       "    <tr>\n",
       "      <th>count</th>\n",
       "      <td>5000.000000</td>\n",
       "      <td>5000.000000</td>\n",
       "      <td>5000.000000</td>\n",
       "      <td>5000.000000</td>\n",
       "      <td>5000.000000</td>\n",
       "    </tr>\n",
       "    <tr>\n",
       "      <th>mean</th>\n",
       "      <td>0.499000</td>\n",
       "      <td>30.952800</td>\n",
       "      <td>39916.360000</td>\n",
       "      <td>1.194200</td>\n",
       "      <td>0.148000</td>\n",
       "    </tr>\n",
       "    <tr>\n",
       "      <th>std</th>\n",
       "      <td>0.500049</td>\n",
       "      <td>8.440807</td>\n",
       "      <td>9900.083569</td>\n",
       "      <td>1.091387</td>\n",
       "      <td>0.463183</td>\n",
       "    </tr>\n",
       "    <tr>\n",
       "      <th>min</th>\n",
       "      <td>0.000000</td>\n",
       "      <td>18.000000</td>\n",
       "      <td>5300.000000</td>\n",
       "      <td>0.000000</td>\n",
       "      <td>0.000000</td>\n",
       "    </tr>\n",
       "    <tr>\n",
       "      <th>25%</th>\n",
       "      <td>0.000000</td>\n",
       "      <td>24.000000</td>\n",
       "      <td>33300.000000</td>\n",
       "      <td>0.000000</td>\n",
       "      <td>0.000000</td>\n",
       "    </tr>\n",
       "    <tr>\n",
       "      <th>50%</th>\n",
       "      <td>0.000000</td>\n",
       "      <td>30.000000</td>\n",
       "      <td>40200.000000</td>\n",
       "      <td>1.000000</td>\n",
       "      <td>0.000000</td>\n",
       "    </tr>\n",
       "    <tr>\n",
       "      <th>75%</th>\n",
       "      <td>1.000000</td>\n",
       "      <td>37.000000</td>\n",
       "      <td>46600.000000</td>\n",
       "      <td>2.000000</td>\n",
       "      <td>0.000000</td>\n",
       "    </tr>\n",
       "    <tr>\n",
       "      <th>max</th>\n",
       "      <td>1.000000</td>\n",
       "      <td>65.000000</td>\n",
       "      <td>79000.000000</td>\n",
       "      <td>6.000000</td>\n",
       "      <td>5.000000</td>\n",
       "    </tr>\n",
       "  </tbody>\n",
       "</table>\n",
       "</div>"
      ],
      "text/plain": [
       "               Пол      Возраст      Зарплата  Члены семьи  Страховые выплаты\n",
       "count  5000.000000  5000.000000   5000.000000  5000.000000        5000.000000\n",
       "mean      0.499000    30.952800  39916.360000     1.194200           0.148000\n",
       "std       0.500049     8.440807   9900.083569     1.091387           0.463183\n",
       "min       0.000000    18.000000   5300.000000     0.000000           0.000000\n",
       "25%       0.000000    24.000000  33300.000000     0.000000           0.000000\n",
       "50%       0.000000    30.000000  40200.000000     1.000000           0.000000\n",
       "75%       1.000000    37.000000  46600.000000     2.000000           0.000000\n",
       "max       1.000000    65.000000  79000.000000     6.000000           5.000000"
      ]
     },
     "execution_count": 5,
     "metadata": {},
     "output_type": "execute_result"
    }
   ],
   "source": [
    "data.describe()"
   ]
  },
  {
   "cell_type": "code",
   "execution_count": 6,
   "metadata": {},
   "outputs": [
    {
     "data": {
      "text/plain": [
       "Пол                    int64\n",
       "Возраст              float64\n",
       "Зарплата             float64\n",
       "Члены семьи            int64\n",
       "Страховые выплаты      int64\n",
       "dtype: object"
      ]
     },
     "execution_count": 6,
     "metadata": {},
     "output_type": "execute_result"
    }
   ],
   "source": [
    "data.dtypes"
   ]
  },
  {
   "cell_type": "code",
   "execution_count": 7,
   "metadata": {},
   "outputs": [
    {
     "data": {
      "text/plain": [
       "Пол                  0\n",
       "Возраст              0\n",
       "Зарплата             0\n",
       "Члены семьи          0\n",
       "Страховые выплаты    0\n",
       "dtype: int64"
      ]
     },
     "execution_count": 7,
     "metadata": {},
     "output_type": "execute_result"
    }
   ],
   "source": [
    "data.isna().sum()"
   ]
  },
  {
   "cell_type": "code",
   "execution_count": 8,
   "metadata": {},
   "outputs": [
    {
     "data": {
      "text/plain": [
       "153"
      ]
     },
     "execution_count": 8,
     "metadata": {},
     "output_type": "execute_result"
    }
   ],
   "source": [
    "data.duplicated().sum()"
   ]
  },
  {
   "cell_type": "markdown",
   "metadata": {},
   "source": [
    "**Визуализация данных:**"
   ]
  },
  {
   "cell_type": "code",
   "execution_count": 9,
   "metadata": {
    "scrolled": false
   },
   "outputs": [
    {
     "data": {
      "image/png": "[encoded data removed]",
      "text/plain": [
       "<Figure size 432x288 with 1 Axes>"
      ]
     },
     "metadata": {
      "needs_background": "light"
     },
     "output_type": "display_data"
    }
   ],
   "source": [
    "ax = sns.barplot(x='Пол',\n",
    "            y='Страховые выплаты',\n",
    "            data=data,\n",
    "            palette=['lightblue', 'blue'])\n",
    "\n",
    "ax.set_title('Гендерное распределение по страховым выплатам')\n",
    "ax.set(xlabel='Гендерная принадлежность', ylabel='Страховые выплаты');"
   ]
  },
  {
   "cell_type": "code",
   "execution_count": 10,
   "metadata": {
    "scrolled": true
   },
   "outputs": [
    {
     "data": {
      "image/png": "[encoded data removed]",
      "text/plain": [
       "<Figure size 432x288 with 1 Axes>"
      ]
     },
     "metadata": {
      "needs_background": "light"
     },
     "output_type": "display_data"
    }
   ],
   "source": [
    "data['Возраст'].hist()\n",
    "plt.title('Кол-во страховых выплат по отношению к возрасту')\n",
    "plt.xlabel('Возраст')\n",
    "plt.ylabel('Количество выплат')\n",
    "plt.show()"
   ]
  },
  {
   "cell_type": "code",
   "execution_count": 11,
   "metadata": {},
   "outputs": [
    {
     "data": {
      "image/png": "[encoded data removed]",
      "text/plain": [
       "<Figure size 432x288 with 1 Axes>"
      ]
     },
     "metadata": {
      "needs_background": "light"
     },
     "output_type": "display_data"
    }
   ],
   "source": [
    "data['Зарплата'].hist()\n",
    "plt.title('Кол-во страховых выплат по отношению к зарплате')\n",
    "plt.xlabel('Зряплата')\n",
    "plt.ylabel('Количество выплат')\n",
    "plt.show()"
   ]
  },
  {
   "cell_type": "code",
   "execution_count": 12,
   "metadata": {},
   "outputs": [
    {
     "data": {
      "image/png": "[encoded data removed]",
      "text/plain": [
       "<Figure size 432x288 with 1 Axes>"
      ]
     },
     "metadata": {
      "needs_background": "light"
     },
     "output_type": "display_data"
    }
   ],
   "source": [
    "ax = sns.barplot(x='Члены семьи',\n",
    "            y='Страховые выплаты',\n",
    "            data=data,\n",
    "            palette=['lightblue', 'blue'])\n",
    "\n",
    "ax.set_title('Распределение кол-ва членов семьи к страховым выплатам')\n",
    "ax.set(xlabel='Кол-во членов семьи', ylabel='Страховые выплаты');"
   ]
  },
  {
   "cell_type": "markdown",
   "metadata": {},
   "source": [
    "**Вывод:**\n",
    "_______"
   ]
  },
  {
   "cell_type": "markdown",
   "metadata": {},
   "source": [
    "Исходя из загруженных данных имеем:\n",
    "- 5000 строк и 5 столбцов.\n",
    "- Большое отклонение от среднего значения, что позволяет сказать о высоком разбросе значений в столбцах: `Возраст` и `Зарплата`.\n",
    "- Данные представлены в двух типах: `int` , `float`\n",
    "- Пропусков не обнаружено.\n",
    "- Присутствует 153 повторяющихся строки, но т.к явного идентификатора нет, то избавляться от них не будем. \n",
    "_______"
   ]
  },
  {
   "cell_type": "markdown",
   "metadata": {},
   "source": [
    "## Умножение матриц\n",
    "_______"
   ]
  },
  {
   "cell_type": "markdown",
   "metadata": {},
   "source": [
    "Обозначения:\n",
    "\n",
    "- $X$ — матрица признаков (нулевой столбец состоит из единиц)\n",
    "\n",
    "- $y$ — вектор целевого признака\n",
    "\n",
    "- $P$ — матрица, на которую умножаются признаки\n",
    "\n",
    "- $w$ — вектор весов линейной регрессии (нулевой элемент равен сдвигу)"
   ]
  },
  {
   "cell_type": "code",
   "execution_count": 15,
   "metadata": {},
   "outputs": [
    {
     "data": {
      "text/plain": [
       "((5000, 4), (5000,))"
      ]
     },
     "execution_count": 15,
     "metadata": {},
     "output_type": "execute_result"
    }
   ],
   "source": [
    "X = data.drop('Страховые выплаты', axis=1)\n",
    "y = data['Страховые выплаты'] \n",
    "\n",
    "X.shape, y.shape"
   ]
  },
  {
   "cell_type": "markdown",
   "metadata": {},
   "source": [
    "**Посмотрим качество линейной регрессии для матрицы признаков `X`:**\n",
    "_______"
   ]
  },
  {
   "cell_type": "code",
   "execution_count": 16,
   "metadata": {},
   "outputs": [],
   "source": [
    "def lr_scorer(x, y):\n",
    "    lr = LinearRegression()\n",
    "    lr.fit(x, y)\n",
    "    r2 = lr.score(x, y)\n",
    "    return r2"
   ]
  },
  {
   "cell_type": "code",
   "execution_count": 17,
   "metadata": {},
   "outputs": [
    {
     "data": {
      "text/plain": [
       "0.4249455028666801"
      ]
     },
     "execution_count": 17,
     "metadata": {},
     "output_type": "execute_result"
    }
   ],
   "source": [
    "lr_scorer(X, y)"
   ]
  },
  {
   "cell_type": "markdown",
   "metadata": {},
   "source": [
    "**Проверим матрицу на обратимость:**\n",
    "_______"
   ]
  },
  {
   "cell_type": "code",
   "execution_count": 18,
   "metadata": {},
   "outputs": [
    {
     "data": {
      "text/plain": [
       "array([[-1.45446053,  1.42242972,  0.19396839,  1.21654648],\n",
       "       [ 0.74509567, -1.16135229, -0.3109811 ,  1.33984783],\n",
       "       [ 0.80148084,  0.59066129, -0.10860088, -1.07226421],\n",
       "       [-0.50132689,  0.69106629,  1.23199712, -1.01421829]])"
      ]
     },
     "execution_count": 18,
     "metadata": {},
     "output_type": "execute_result"
    }
   ],
   "source": [
    "INV = np.random.rand(4,4)\n",
    "\n",
    "np.linalg.inv(INV)"
   ]
  },
  {
   "cell_type": "markdown",
   "metadata": {},
   "source": [
    "**Проверим качество линейной регрессии для обратимой матрицы признаков `XP`:**\n",
    "_______"
   ]
  },
  {
   "cell_type": "code",
   "execution_count": 19,
   "metadata": {},
   "outputs": [
    {
     "data": {
      "text/plain": [
       "0.42494550286667987"
      ]
     },
     "execution_count": 19,
     "metadata": {},
     "output_type": "execute_result"
    }
   ],
   "source": [
    "XP = X @ INV\n",
    "lr_scorer(XP, y)"
   ]
  },
  {
   "cell_type": "markdown",
   "metadata": {},
   "source": [
    "**Вывод:**\n",
    "_______\n",
    "\n",
    "Умножение матрицы признаков `X` на квадратную обратимую матрицу `XP` существенно не изменяет качетсво линейной регрессии.\n",
    "_______"
   ]
  },
  {
   "cell_type": "markdown",
   "metadata": {},
   "source": [
    "Предсказания:\n",
    "\n",
    "$$\n",
    "a = Xw\n",
    "$$\n",
    "\n",
    "Задача обучения:\n",
    "\n",
    "$$\n",
    "w = \\arg\\min_w MSE(Xw, y)\n",
    "$$\n",
    "\n",
    "Формула обучения:\n",
    "\n",
    "$$\n",
    "w = (X^T X)^{-1} X^T y\n",
    "$$"
   ]
  },
  {
   "cell_type": "markdown",
   "metadata": {},
   "source": [
    "_______\n",
    "\n",
    "**Обоснование:** "
   ]
  },
  {
   "cell_type": "markdown",
   "metadata": {},
   "source": [
    "Для решения этого задания воспользуемся следующими свойствами матриц:\n",
    "$$\n",
    "1.  (AB)^{T} = B^TA^T \n",
    "$$\n",
    "$$\n",
    "2. (AB)^{-1} = B^{-1}A^{-1}\n",
    "$$\n",
    "$$\n",
    "3. (AA)^{-1} = A^{-1}A = E \n",
    "$$\n",
    "$$\n",
    "4. AE = EA = A\n",
    "$$\n"
   ]
  },
  {
   "cell_type": "markdown",
   "metadata": {},
   "source": [
    "В формулу вектора весов линейной регрессии `w` подставляем произведение `XP` вместо `X`.\n",
    "\n",
    "Получится выражение для `w’` (вектор весов после преобразования). \n",
    "\n",
    "`P` – обратимая квадратная матрица (матрица преобразования). \n",
    "\n",
    "Используем вышеприведенные формулы, преобразуем получившееся выражение и получаем зависимость между параметром `w’` (вектор весов после преобразования) и `w` (вектор весов до преобразования). \n",
    "\n",
    "Затем в формулу предсказания `а = Xw` подставляем `XP` вместо `Х`, и `w’` вместо `w`.\n",
    "\n",
    "\n",
    "-----------"
   ]
  },
  {
   "cell_type": "markdown",
   "metadata": {},
   "source": [
    "Запишем исходное уравнение весов:"
   ]
  },
  {
   "cell_type": "markdown",
   "metadata": {},
   "source": [
    "$$\n",
    "w = (X^T X)^{-1} X^T y\n",
    "$$"
   ]
  },
  {
   "cell_type": "markdown",
   "metadata": {},
   "source": [
    "Докажем, что при умножении на матрицу имеющую обратную ничего не изменится. Запишем вместо `Х` произведение `Х*Р`, тогда:"
   ]
  },
  {
   "cell_type": "markdown",
   "metadata": {},
   "source": [
    "$$\n",
    "w'= ((XP)^T (XP))^{-1} (XP)^T y \n",
    "$$"
   ]
  },
  {
   "cell_type": "markdown",
   "metadata": {},
   "source": [
    "$$\n",
    "w'= (P^T (X^T X) P)^{-1} X^T P^T y \n",
    "$$"
   ]
  },
  {
   "cell_type": "markdown",
   "metadata": {},
   "source": [
    "$$\n",
    "w'=P^{-1} (X^T X)^{-1} (P^T)^{-1} P^T X^T y\n",
    "$$"
   ]
  },
  {
   "cell_type": "markdown",
   "metadata": {},
   "source": [
    "$$ где  P^{T^{-1}}P^{T} = E, тогда \\Longrightarrow\n",
    "$$"
   ]
  },
  {
   "cell_type": "markdown",
   "metadata": {},
   "source": [
    "$$\n",
    "w'= P^{-1} (X^T X)^{-1} E X^T y\n",
    "$$"
   ]
  },
  {
   "cell_type": "markdown",
   "metadata": {},
   "source": [
    "$$\n",
    "w'= P^{-1}w \n",
    "$$"
   ]
  },
  {
   "cell_type": "markdown",
   "metadata": {},
   "source": [
    "Cвязь между `w` и `w'` мы нашли, теперь подставим в  `a= Xw` производную, получаем:\n"
   ]
  },
  {
   "cell_type": "markdown",
   "metadata": {},
   "source": [
    "$$\n",
    "a' = XP w'\n",
    "$$"
   ]
  },
  {
   "cell_type": "markdown",
   "metadata": {},
   "source": [
    "$$\n",
    "a' = XP P^{-1} w\n",
    "$$"
   ]
  },
  {
   "cell_type": "markdown",
   "metadata": {},
   "source": [
    "$$\n",
    "a' = XEw\n",
    "$$"
   ]
  },
  {
   "cell_type": "markdown",
   "metadata": {},
   "source": [
    "$$\n",
    "a' = Xw\n",
    "$$"
   ]
  },
  {
   "cell_type": "markdown",
   "metadata": {},
   "source": [
    "$$\n",
    "a' = a\n",
    "$$"
   ]
  },
  {
   "cell_type": "markdown",
   "metadata": {},
   "source": [
    "Таким образом мы доказали, что преобразование подобного типа не повлияет на предсказание."
   ]
  },
  {
   "cell_type": "markdown",
   "metadata": {},
   "source": [
    "$$\n",
    "a = Xw = XEw = XPP^{-1}w = (XP)P^{-1}w = (XP)w'\n",
    "$$\n",
    "\n",
    "$$\n",
    "w' = ((XP)^T XP)^{-1} (XP)^T y\n",
    "$$\n",
    "$$\n",
    "w' = (P^T (X^T X) P)^{-1} (XP)^T y\n",
    "$$\n",
    "$$\n",
    "....\n",
    "$$"
   ]
  },
  {
   "cell_type": "markdown",
   "metadata": {},
   "source": [
    "## Алгоритм преобразования\n",
    "\n",
    "-----------"
   ]
  },
  {
   "cell_type": "markdown",
   "metadata": {},
   "source": [
    "**Алгоритм:**\n",
    "\n",
    "1. Создаём рандомную матрицу.\n",
    "2. Проверяем её на обратимость (создаём единичную матрицу).\n",
    "3. Для шифрования умножаем матрицу признаков `X` на квадратную обратимую матрицу `XP`.\n",
    "4. Ищем метрики качества на исходных данных и на преобразованных.\n",
    "5. Делаем вывод.\n"
   ]
  },
  {
   "cell_type": "markdown",
   "metadata": {},
   "source": [
    "**Обоснование**\n",
    "\n",
    "Ранее нами обоснована возможность использования матрицы `P` для шифрования исходной матрицы признаков."
   ]
  },
  {
   "cell_type": "markdown",
   "metadata": {},
   "source": [
    "## Проверка алгоритма\n",
    "__________"
   ]
  },
  {
   "cell_type": "code",
   "execution_count": 20,
   "metadata": {
    "scrolled": true
   },
   "outputs": [
    {
     "data": {
      "text/html": [
       "<div>\n",
       "<style scoped>\n",
       "    .dataframe tbody tr th:only-of-type {\n",
       "        vertical-align: middle;\n",
       "    }\n",
       "\n",
       "    .dataframe tbody tr th {\n",
       "        vertical-align: top;\n",
       "    }\n",
       "\n",
       "    .dataframe thead th {\n",
       "        text-align: right;\n",
       "    }\n",
       "</style>\n",
       "<table border=\"1\" class=\"dataframe\">\n",
       "  <thead>\n",
       "    <tr style=\"text-align: right;\">\n",
       "      <th></th>\n",
       "      <th>0</th>\n",
       "      <th>1</th>\n",
       "      <th>2</th>\n",
       "      <th>3</th>\n",
       "    </tr>\n",
       "  </thead>\n",
       "  <tbody>\n",
       "    <tr>\n",
       "      <th>0</th>\n",
       "      <td>-624940.350778</td>\n",
       "      <td>-155279.231836</td>\n",
       "      <td>-1.461442e+06</td>\n",
       "      <td>2.401108e+06</td>\n",
       "    </tr>\n",
       "    <tr>\n",
       "      <th>1</th>\n",
       "      <td>-478710.504110</td>\n",
       "      <td>-118970.040251</td>\n",
       "      <td>-1.119496e+06</td>\n",
       "      <td>1.839323e+06</td>\n",
       "    </tr>\n",
       "    <tr>\n",
       "      <th>2</th>\n",
       "      <td>-264535.777880</td>\n",
       "      <td>-65749.188479</td>\n",
       "      <td>-6.186359e+05</td>\n",
       "      <td>1.016421e+06</td>\n",
       "    </tr>\n",
       "    <tr>\n",
       "      <th>3</th>\n",
       "      <td>-525461.644182</td>\n",
       "      <td>-130539.764270</td>\n",
       "      <td>-1.228802e+06</td>\n",
       "      <td>2.018862e+06</td>\n",
       "    </tr>\n",
       "    <tr>\n",
       "      <th>4</th>\n",
       "      <td>-328821.954355</td>\n",
       "      <td>-81712.917704</td>\n",
       "      <td>-7.689628e+05</td>\n",
       "      <td>1.263396e+06</td>\n",
       "    </tr>\n",
       "  </tbody>\n",
       "</table>\n",
       "</div>"
      ],
      "text/plain": [
       "               0              1             2             3\n",
       "0 -624940.350778 -155279.231836 -1.461442e+06  2.401108e+06\n",
       "1 -478710.504110 -118970.040251 -1.119496e+06  1.839323e+06\n",
       "2 -264535.777880  -65749.188479 -6.186359e+05  1.016421e+06\n",
       "3 -525461.644182 -130539.764270 -1.228802e+06  2.018862e+06\n",
       "4 -328821.954355  -81712.917704 -7.689628e+05  1.263396e+06"
      ]
     },
     "execution_count": 20,
     "metadata": {},
     "output_type": "execute_result"
    }
   ],
   "source": [
    "np.random.seed(1234)\n",
    "try:\n",
    "    XP = np.linalg.inv(np.random.rand(4,4))\n",
    "except numpy.linalg.LinAlgError:\n",
    "    pass\n",
    "else:\n",
    "    X_new = X @ XP\n",
    "    \n",
    "X_new.head()    "
   ]
  },
  {
   "cell_type": "code",
   "execution_count": 21,
   "metadata": {},
   "outputs": [
    {
     "data": {
      "text/plain": [
       "0.4249455028661606"
      ]
     },
     "execution_count": 21,
     "metadata": {},
     "output_type": "execute_result"
    }
   ],
   "source": [
    "lr_scorer(X_new, y)"
   ]
  },
  {
   "cell_type": "markdown",
   "metadata": {},
   "source": [
    "____\n",
    "**Вывод:**\n",
    "\n",
    "Качесто линейной регрессии не поменялось, цель проекта достигнута.\n",
    "________"
   ]
  },
  {
   "cell_type": "code",
   "execution_count": null,
   "metadata": {},
   "outputs": [],
   "source": []
  }
 ],
 "metadata": {
  "ExecuteTimeLog": [
   {
    "duration": 404,
    "start_time": "2023-02-09T17:19:11.453Z"
   },
   {
    "duration": 89,
    "start_time": "2023-02-09T17:19:34.215Z"
   },
   {
    "duration": 18,
    "start_time": "2023-02-09T17:19:41.261Z"
   },
   {
    "duration": 8,
    "start_time": "2023-02-09T17:20:56.953Z"
   },
   {
    "duration": 8,
    "start_time": "2023-02-09T17:22:12.886Z"
   },
   {
    "duration": 7,
    "start_time": "2023-02-09T17:22:29.949Z"
   },
   {
    "duration": 8,
    "start_time": "2023-02-09T17:22:37.797Z"
   },
   {
    "duration": 24,
    "start_time": "2023-02-09T17:23:29.057Z"
   },
   {
    "duration": 67,
    "start_time": "2023-02-09T17:24:00.221Z"
   },
   {
    "duration": 7,
    "start_time": "2023-02-09T17:24:04.453Z"
   },
   {
    "duration": 46,
    "start_time": "2023-02-11T16:42:06.312Z"
   },
   {
    "duration": 419,
    "start_time": "2023-02-11T16:42:12.364Z"
   },
   {
    "duration": 91,
    "start_time": "2023-02-11T16:42:12.785Z"
   },
   {
    "duration": 18,
    "start_time": "2023-02-11T16:42:12.878Z"
   },
   {
    "duration": 23,
    "start_time": "2023-02-11T16:42:12.898Z"
   },
   {
    "duration": 5,
    "start_time": "2023-02-11T16:42:12.923Z"
   },
   {
    "duration": 19,
    "start_time": "2023-02-11T16:42:12.930Z"
   },
   {
    "duration": 12,
    "start_time": "2023-02-11T16:42:12.950Z"
   },
   {
    "duration": 9,
    "start_time": "2023-02-11T16:42:12.964Z"
   },
   {
    "duration": 686,
    "start_time": "2023-02-11T16:43:09.863Z"
   },
   {
    "duration": 6,
    "start_time": "2023-02-11T16:46:40.547Z"
   },
   {
    "duration": 106,
    "start_time": "2023-02-11T16:53:42.208Z"
   },
   {
    "duration": 3,
    "start_time": "2023-02-11T16:53:46.288Z"
   },
   {
    "duration": 16,
    "start_time": "2023-02-11T16:53:46.897Z"
   },
   {
    "duration": 17,
    "start_time": "2023-02-11T17:00:33.926Z"
   },
   {
    "duration": 12,
    "start_time": "2023-02-11T17:40:07.946Z"
   },
   {
    "duration": 14,
    "start_time": "2023-02-11T17:40:44.777Z"
   },
   {
    "duration": 10,
    "start_time": "2023-02-11T17:41:28.875Z"
   },
   {
    "duration": 1146,
    "start_time": "2023-02-13T21:19:14.494Z"
   },
   {
    "duration": 88,
    "start_time": "2023-02-13T21:19:15.642Z"
   },
   {
    "duration": 19,
    "start_time": "2023-02-13T21:19:15.731Z"
   },
   {
    "duration": 45,
    "start_time": "2023-02-13T21:19:15.752Z"
   },
   {
    "duration": 5,
    "start_time": "2023-02-13T21:19:15.798Z"
   },
   {
    "duration": 8,
    "start_time": "2023-02-13T21:19:15.805Z"
   },
   {
    "duration": 7,
    "start_time": "2023-02-13T21:19:15.815Z"
   },
   {
    "duration": 6,
    "start_time": "2023-02-13T21:19:15.824Z"
   },
   {
    "duration": 19,
    "start_time": "2023-02-13T21:19:15.832Z"
   },
   {
    "duration": 22,
    "start_time": "2023-02-13T21:19:15.853Z"
   },
   {
    "duration": 73,
    "start_time": "2023-02-13T21:19:15.876Z"
   },
   {
    "duration": 122,
    "start_time": "2023-02-13T21:19:15.951Z"
   },
   {
    "duration": 192,
    "start_time": "2023-02-13T21:19:16.076Z"
   },
   {
    "duration": 98,
    "start_time": "2023-02-13T21:19:16.271Z"
   },
   {
    "duration": 2053,
    "start_time": "2023-02-14T05:08:24.912Z"
   },
   {
    "duration": 29,
    "start_time": "2023-02-14T05:08:26.967Z"
   },
   {
    "duration": 21,
    "start_time": "2023-02-14T05:08:38.968Z"
   },
   {
    "duration": 23,
    "start_time": "2023-02-14T05:08:39.377Z"
   },
   {
    "duration": 5,
    "start_time": "2023-02-14T05:08:39.739Z"
   },
   {
    "duration": 8,
    "start_time": "2023-02-14T05:08:39.999Z"
   },
   {
    "duration": 7,
    "start_time": "2023-02-14T05:08:40.244Z"
   },
   {
    "duration": 5,
    "start_time": "2023-02-14T05:09:34.107Z"
   },
   {
    "duration": 3,
    "start_time": "2023-02-14T05:09:35.298Z"
   },
   {
    "duration": 10,
    "start_time": "2023-02-14T05:09:35.757Z"
   },
   {
    "duration": 5,
    "start_time": "2023-02-14T05:09:55.424Z"
   },
   {
    "duration": 14,
    "start_time": "2023-02-14T05:10:15.605Z"
   },
   {
    "duration": 12,
    "start_time": "2023-02-14T05:12:05.585Z"
   },
   {
    "duration": 19,
    "start_time": "2023-02-14T05:12:05.962Z"
   },
   {
    "duration": 51,
    "start_time": "2023-02-15T13:31:34.965Z"
   },
   {
    "duration": 1548,
    "start_time": "2023-02-15T13:31:53.044Z"
   },
   {
    "duration": 80,
    "start_time": "2023-02-15T13:31:54.594Z"
   },
   {
    "duration": 16,
    "start_time": "2023-02-15T13:31:54.675Z"
   },
   {
    "duration": 29,
    "start_time": "2023-02-15T13:31:54.693Z"
   },
   {
    "duration": 4,
    "start_time": "2023-02-15T13:31:54.724Z"
   },
   {
    "duration": 6,
    "start_time": "2023-02-15T13:31:54.730Z"
   },
   {
    "duration": 6,
    "start_time": "2023-02-15T13:31:54.738Z"
   },
   {
    "duration": 127,
    "start_time": "2023-02-15T13:31:54.745Z"
   },
   {
    "duration": 0,
    "start_time": "2023-02-15T13:31:54.874Z"
   },
   {
    "duration": 0,
    "start_time": "2023-02-15T13:31:54.875Z"
   },
   {
    "duration": 0,
    "start_time": "2023-02-15T13:31:54.876Z"
   },
   {
    "duration": 0,
    "start_time": "2023-02-15T13:31:54.877Z"
   },
   {
    "duration": 0,
    "start_time": "2023-02-15T13:31:54.879Z"
   },
   {
    "duration": 0,
    "start_time": "2023-02-15T13:31:54.880Z"
   },
   {
    "duration": 0,
    "start_time": "2023-02-15T13:31:54.880Z"
   },
   {
    "duration": 0,
    "start_time": "2023-02-15T13:31:54.881Z"
   },
   {
    "duration": 1188,
    "start_time": "2023-02-15T13:32:58.987Z"
   },
   {
    "duration": 1096,
    "start_time": "2023-02-15T13:33:32.332Z"
   },
   {
    "duration": 68,
    "start_time": "2023-02-15T13:34:34.796Z"
   },
   {
    "duration": 9,
    "start_time": "2023-02-15T13:34:54.462Z"
   },
   {
    "duration": 145,
    "start_time": "2023-02-15T13:34:59.458Z"
   },
   {
    "duration": 13,
    "start_time": "2023-02-15T13:35:45.261Z"
   },
   {
    "duration": 136,
    "start_time": "2023-02-15T13:36:03.546Z"
   },
   {
    "duration": 139,
    "start_time": "2023-02-15T13:36:15.904Z"
   },
   {
    "duration": 133,
    "start_time": "2023-02-15T13:36:32.787Z"
   },
   {
    "duration": 139,
    "start_time": "2023-02-15T13:37:00.228Z"
   },
   {
    "duration": 136,
    "start_time": "2023-02-15T13:37:07.948Z"
   },
   {
    "duration": 179,
    "start_time": "2023-02-15T13:37:26.851Z"
   },
   {
    "duration": 132,
    "start_time": "2023-02-15T13:37:51.736Z"
   },
   {
    "duration": 1484,
    "start_time": "2023-02-15T18:34:57.393Z"
   },
   {
    "duration": 115,
    "start_time": "2023-02-15T18:34:58.879Z"
   },
   {
    "duration": 12,
    "start_time": "2023-02-15T18:34:58.995Z"
   },
   {
    "duration": 22,
    "start_time": "2023-02-15T18:34:59.009Z"
   },
   {
    "duration": 6,
    "start_time": "2023-02-15T18:34:59.033Z"
   },
   {
    "duration": 7,
    "start_time": "2023-02-15T18:34:59.040Z"
   },
   {
    "duration": 10,
    "start_time": "2023-02-15T18:34:59.048Z"
   },
   {
    "duration": 1257,
    "start_time": "2023-02-15T18:34:59.060Z"
   },
   {
    "duration": 0,
    "start_time": "2023-02-15T18:35:00.318Z"
   },
   {
    "duration": 0,
    "start_time": "2023-02-15T18:35:00.319Z"
   },
   {
    "duration": 0,
    "start_time": "2023-02-15T18:35:00.320Z"
   },
   {
    "duration": 0,
    "start_time": "2023-02-15T18:35:00.322Z"
   },
   {
    "duration": 0,
    "start_time": "2023-02-15T18:35:00.322Z"
   },
   {
    "duration": 0,
    "start_time": "2023-02-15T18:35:00.323Z"
   },
   {
    "duration": 0,
    "start_time": "2023-02-15T18:35:00.324Z"
   },
   {
    "duration": 0,
    "start_time": "2023-02-15T18:35:00.325Z"
   },
   {
    "duration": 1105,
    "start_time": "2023-02-15T18:36:19.665Z"
   },
   {
    "duration": 155,
    "start_time": "2023-02-15T18:36:35.510Z"
   },
   {
    "duration": 14,
    "start_time": "2023-02-15T18:37:01.007Z"
   },
   {
    "duration": 10,
    "start_time": "2023-02-15T18:37:44.993Z"
   },
   {
    "duration": 72,
    "start_time": "2023-02-15T18:38:18.020Z"
   },
   {
    "duration": 72,
    "start_time": "2023-02-15T18:38:23.370Z"
   },
   {
    "duration": 72,
    "start_time": "2023-02-15T18:38:26.741Z"
   },
   {
    "duration": 13,
    "start_time": "2023-02-15T18:38:32.008Z"
   },
   {
    "duration": 16,
    "start_time": "2023-02-15T18:38:54.886Z"
   },
   {
    "duration": 87792,
    "start_time": "2023-02-15T18:42:01.591Z"
   },
   {
    "duration": 9,
    "start_time": "2023-02-15T18:46:35.963Z"
   },
   {
    "duration": 297,
    "start_time": "2023-02-15T18:47:18.935Z"
   },
   {
    "duration": 282,
    "start_time": "2023-02-15T18:47:33.854Z"
   },
   {
    "duration": 10,
    "start_time": "2023-02-15T18:47:48.360Z"
   },
   {
    "duration": 85017,
    "start_time": "2023-02-15T18:48:02.311Z"
   },
   {
    "duration": 148,
    "start_time": "2023-02-15T18:49:27.330Z"
   },
   {
    "duration": 141,
    "start_time": "2023-02-15T18:50:25.184Z"
   },
   {
    "duration": 138,
    "start_time": "2023-02-15T18:50:38.108Z"
   },
   {
    "duration": 92198,
    "start_time": "2023-02-15T18:52:08.010Z"
   },
   {
    "duration": 73,
    "start_time": "2023-02-15T18:55:38.987Z"
   },
   {
    "duration": 172,
    "start_time": "2023-02-15T18:55:50.423Z"
   },
   {
    "duration": 233,
    "start_time": "2023-02-15T18:56:14.226Z"
   },
   {
    "duration": 188,
    "start_time": "2023-02-15T18:56:36.155Z"
   },
   {
    "duration": 171,
    "start_time": "2023-02-15T18:58:51.765Z"
   },
   {
    "duration": 3,
    "start_time": "2023-02-15T18:59:19.932Z"
   },
   {
    "duration": 172,
    "start_time": "2023-02-15T18:59:45.933Z"
   },
   {
    "duration": 327,
    "start_time": "2023-02-15T19:00:30.963Z"
   },
   {
    "duration": 175,
    "start_time": "2023-02-15T19:01:49.703Z"
   },
   {
    "duration": 12,
    "start_time": "2023-02-15T19:02:18.303Z"
   },
   {
    "duration": 143,
    "start_time": "2023-02-15T19:02:40.496Z"
   },
   {
    "duration": 85144,
    "start_time": "2023-02-15T19:05:16.023Z"
   },
   {
    "duration": 323,
    "start_time": "2023-02-15T19:06:41.168Z"
   },
   {
    "duration": 185,
    "start_time": "2023-02-15T19:09:16.839Z"
   },
   {
    "duration": 306,
    "start_time": "2023-02-15T19:09:41.322Z"
   },
   {
    "duration": 190,
    "start_time": "2023-02-15T19:09:47.910Z"
   },
   {
    "duration": 137,
    "start_time": "2023-02-15T19:10:49.776Z"
   },
   {
    "duration": 134,
    "start_time": "2023-02-15T19:10:59.565Z"
   },
   {
    "duration": 113,
    "start_time": "2023-02-15T19:12:08.823Z"
   },
   {
    "duration": 132,
    "start_time": "2023-02-15T19:13:00.853Z"
   },
   {
    "duration": 1110,
    "start_time": "2023-02-15T19:13:50.333Z"
   },
   {
    "duration": 12,
    "start_time": "2023-02-15T19:13:57.119Z"
   },
   {
    "duration": 123,
    "start_time": "2023-02-15T19:14:05.632Z"
   },
   {
    "duration": 3,
    "start_time": "2023-02-15T19:14:48.481Z"
   },
   {
    "duration": 154,
    "start_time": "2023-02-15T19:15:18.420Z"
   },
   {
    "duration": 159,
    "start_time": "2023-02-15T19:15:44.465Z"
   },
   {
    "duration": 146,
    "start_time": "2023-02-15T19:16:11.882Z"
   },
   {
    "duration": 159,
    "start_time": "2023-02-15T19:23:39.272Z"
   },
   {
    "duration": 3,
    "start_time": "2023-02-15T19:23:39.433Z"
   },
   {
    "duration": 38786,
    "start_time": "2023-02-15T19:32:46.207Z"
   },
   {
    "duration": 16580,
    "start_time": "2023-02-15T19:35:03.262Z"
   },
   {
    "duration": 3,
    "start_time": "2023-02-15T19:45:05.527Z"
   },
   {
    "duration": 138,
    "start_time": "2023-02-15T19:50:53.660Z"
   },
   {
    "duration": 123,
    "start_time": "2023-02-15T19:51:04.083Z"
   },
   {
    "duration": 145,
    "start_time": "2023-02-15T19:51:18.223Z"
   },
   {
    "duration": 129,
    "start_time": "2023-02-15T19:51:30.070Z"
   },
   {
    "duration": 146,
    "start_time": "2023-02-15T19:51:54.349Z"
   },
   {
    "duration": 158,
    "start_time": "2023-02-15T19:52:09.446Z"
   },
   {
    "duration": 138,
    "start_time": "2023-02-15T19:52:13.245Z"
   },
   {
    "duration": 142,
    "start_time": "2023-02-15T19:52:46.622Z"
   },
   {
    "duration": 136,
    "start_time": "2023-02-15T19:53:39.589Z"
   },
   {
    "duration": 144,
    "start_time": "2023-02-15T19:53:59.554Z"
   },
   {
    "duration": 144,
    "start_time": "2023-02-15T19:54:19.466Z"
   },
   {
    "duration": 134,
    "start_time": "2023-02-15T19:54:25.523Z"
   },
   {
    "duration": 130,
    "start_time": "2023-02-15T19:54:35.885Z"
   },
   {
    "duration": 148,
    "start_time": "2023-02-15T19:55:06.341Z"
   },
   {
    "duration": 123,
    "start_time": "2023-02-15T19:55:22.798Z"
   },
   {
    "duration": 1387,
    "start_time": "2023-07-20T12:29:02.223Z"
   },
   {
    "duration": 86,
    "start_time": "2023-07-20T12:29:03.612Z"
   },
   {
    "duration": 12,
    "start_time": "2023-07-20T12:29:03.700Z"
   },
   {
    "duration": 31,
    "start_time": "2023-07-20T12:29:03.714Z"
   },
   {
    "duration": 5,
    "start_time": "2023-07-20T12:29:03.746Z"
   },
   {
    "duration": 6,
    "start_time": "2023-07-20T12:29:03.753Z"
   },
   {
    "duration": 23,
    "start_time": "2023-07-20T12:29:03.761Z"
   },
   {
    "duration": 169,
    "start_time": "2023-07-20T12:29:03.786Z"
   },
   {
    "duration": 174,
    "start_time": "2023-07-20T12:29:03.957Z"
   },
   {
    "duration": 171,
    "start_time": "2023-07-20T12:29:04.134Z"
   },
   {
    "duration": 292,
    "start_time": "2023-07-20T12:29:04.307Z"
   },
   {
    "duration": 3,
    "start_time": "2023-07-20T12:29:04.600Z"
   },
   {
    "duration": 26,
    "start_time": "2023-07-20T12:29:04.604Z"
   },
   {
    "duration": 4,
    "start_time": "2023-07-20T12:29:04.632Z"
   },
   {
    "duration": 12,
    "start_time": "2023-07-20T12:29:04.638Z"
   },
   {
    "duration": 98,
    "start_time": "2023-07-20T12:29:04.672Z"
   },
   {
    "duration": 97,
    "start_time": "2023-07-20T12:29:04.772Z"
   },
   {
    "duration": 102,
    "start_time": "2023-07-20T12:29:04.872Z"
   },
   {
    "duration": 94,
    "start_time": "2023-07-20T12:29:04.976Z"
   },
   {
    "duration": 294,
    "start_time": "2023-07-20T12:29:05.073Z"
   },
   {
    "duration": 115,
    "start_time": "2023-07-20T13:01:59.622Z"
   },
   {
    "duration": 11,
    "start_time": "2023-07-20T13:30:04.108Z"
   },
   {
    "duration": 5,
    "start_time": "2023-07-20T13:30:19.139Z"
   },
   {
    "duration": 1540,
    "start_time": "2023-07-20T13:32:53.650Z"
   },
   {
    "duration": 29,
    "start_time": "2023-07-20T13:32:55.192Z"
   },
   {
    "duration": 9,
    "start_time": "2023-07-20T13:32:55.223Z"
   },
   {
    "duration": 19,
    "start_time": "2023-07-20T13:32:55.234Z"
   },
   {
    "duration": 25,
    "start_time": "2023-07-20T13:32:55.255Z"
   },
   {
    "duration": 8,
    "start_time": "2023-07-20T13:32:55.282Z"
   },
   {
    "duration": 14,
    "start_time": "2023-07-20T13:32:55.291Z"
   },
   {
    "duration": 7,
    "start_time": "2023-07-20T13:32:55.306Z"
   },
   {
    "duration": 203,
    "start_time": "2023-07-20T13:32:55.314Z"
   },
   {
    "duration": 159,
    "start_time": "2023-07-20T13:32:55.519Z"
   },
   {
    "duration": 209,
    "start_time": "2023-07-20T13:32:55.685Z"
   },
   {
    "duration": 314,
    "start_time": "2023-07-20T13:32:55.896Z"
   },
   {
    "duration": 261,
    "start_time": "2023-07-20T13:32:56.212Z"
   },
   {
    "duration": 82966,
    "start_time": "2023-07-20T13:32:56.476Z"
   },
   {
    "duration": 6,
    "start_time": "2023-07-20T13:34:19.444Z"
   },
   {
    "duration": 20,
    "start_time": "2023-07-20T13:34:19.451Z"
   },
   {
    "duration": 16,
    "start_time": "2023-07-20T13:34:19.472Z"
   },
   {
    "duration": 84,
    "start_time": "2023-07-20T13:34:19.490Z"
   },
   {
    "duration": 102,
    "start_time": "2023-07-20T13:34:19.580Z"
   },
   {
    "duration": 180,
    "start_time": "2023-07-20T13:34:19.692Z"
   },
   {
    "duration": 99,
    "start_time": "2023-07-20T13:34:19.874Z"
   },
   {
    "duration": 78077,
    "start_time": "2023-07-20T13:34:20.482Z"
   }
  ],
  "kernelspec": {
   "display_name": "Python 3 (ipykernel)",
   "language": "python",
   "name": "python3"
  },
  "language_info": {
   "codemirror_mode": {
    "name": "ipython",
    "version": 3
   },
   "file_extension": ".py",
   "mimetype": "text/x-python",
   "name": "python",
   "nbconvert_exporter": "python",
   "pygments_lexer": "ipython3",
   "version": "3.9.5"
  },
  "toc": {
   "base_numbering": 1,
   "nav_menu": {},
   "number_sections": true,
   "sideBar": true,
   "skip_h1_title": true,
   "title_cell": "Содержание",
   "title_sidebar": "Contents",
   "toc_cell": true,
   "toc_position": {
    "height": "calc(100% - 180px)",
    "left": "10px",
    "top": "150px",
    "width": "329.545px"
   },
   "toc_section_display": true,
   "toc_window_display": true
  }
 },
 "nbformat": 4,
 "nbformat_minor": 2
}
