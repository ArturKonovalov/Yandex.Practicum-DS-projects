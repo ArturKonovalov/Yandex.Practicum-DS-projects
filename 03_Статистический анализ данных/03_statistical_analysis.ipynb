{
 "cells": [
  {
   "cell_type": "markdown",
   "metadata": {
    "toc": true
   },
   "source": [
    "<h1>Содержание<span class=\"tocSkip\"></span></h1>\n",
    "<div class=\"toc\"><ul class=\"toc-item\"><li><span><a href=\"#Изучение-общей-информации\" data-toc-modified-id=\"Изучение-общей-информации-1\"><span class=\"toc-item-num\">1&nbsp;&nbsp;</span>Изучение общей информации</a></span><ul class=\"toc-item\"><li><span><a href=\"#Изучение-информации-о-звонках:\" data-toc-modified-id=\"Изучение-информации-о-звонках:-1.1\"><span class=\"toc-item-num\">1.1&nbsp;&nbsp;</span>Изучение информации о звонках:</a></span></li><li><span><a href=\"#Изучение-информации-об-интернет-сессиях:\" data-toc-modified-id=\"Изучение-информации-об-интернет-сессиях:-1.2\"><span class=\"toc-item-num\">1.2&nbsp;&nbsp;</span>Изучение информации об интернет сессиях:</a></span></li><li><span><a href=\"#Изучение-информации-о-сообщениях:\" data-toc-modified-id=\"Изучение-информации-о-сообщениях:-1.3\"><span class=\"toc-item-num\">1.3&nbsp;&nbsp;</span>Изучение информации о сообщениях:</a></span></li><li><span><a href=\"#Изучение-информации-о-тарифах:\" data-toc-modified-id=\"Изучение-информации-о-тарифах:-1.4\"><span class=\"toc-item-num\">1.4&nbsp;&nbsp;</span>Изучение информации о тарифах:</a></span></li><li><span><a href=\"#Изучение-информации-о-пользователях:\" data-toc-modified-id=\"Изучение-информации-о-пользователях:-1.5\"><span class=\"toc-item-num\">1.5&nbsp;&nbsp;</span>Изучение информации о пользователях:</a></span></li><li><span><a href=\"#Вывод-блока:\" data-toc-modified-id=\"Вывод-блока:-1.6\"><span class=\"toc-item-num\">1.6&nbsp;&nbsp;</span><strong>Вывод блока:</strong></a></span></li></ul></li><li><span><a href=\"#Подготовка-данных.\" data-toc-modified-id=\"Подготовка-данных.-2\"><span class=\"toc-item-num\">2&nbsp;&nbsp;</span>Подготовка данных.</a></span><ul class=\"toc-item\"><li><span><a href=\"#Приведение-данных-к-нужному-типу:\" data-toc-modified-id=\"Приведение-данных-к-нужному-типу:-2.1\"><span class=\"toc-item-num\">2.1&nbsp;&nbsp;</span>Приведение данных к нужному типу:</a></span></li><li><span><a href=\"#Удаление-столбцов:\" data-toc-modified-id=\"Удаление-столбцов:-2.2\"><span class=\"toc-item-num\">2.2&nbsp;&nbsp;</span>Удаление столбцов:</a></span></li><li><span><a href=\"#Добавление-новых-столбцов:\" data-toc-modified-id=\"Добавление-новых-столбцов:-2.3\"><span class=\"toc-item-num\">2.3&nbsp;&nbsp;</span>Добавление новых столбцов:</a></span></li><li><span><a href=\"#Вывод-блока:\" data-toc-modified-id=\"Вывод-блока:-2.4\"><span class=\"toc-item-num\">2.4&nbsp;&nbsp;</span><strong>Вывод блока:</strong></a></span></li></ul></li><li><span><a href=\"#Анализ-данных-и-подсчёт-выручки\" data-toc-modified-id=\"Анализ-данных-и-подсчёт-выручки-3\"><span class=\"toc-item-num\">3&nbsp;&nbsp;</span>Анализ данных и подсчёт выручки</a></span><ul class=\"toc-item\"><li><span><a href=\"#Объединение-значений:\" data-toc-modified-id=\"Объединение-значений:-3.1\"><span class=\"toc-item-num\">3.1&nbsp;&nbsp;</span>Объединение значений:</a></span></li><li><span><a href=\"#Распределение-среднего-количества-звонков-по-видам-тарифов-и-месяцам:\" data-toc-modified-id=\"Распределение-среднего-количества-звонков-по-видам-тарифов-и-месяцам:-3.2\"><span class=\"toc-item-num\">3.2&nbsp;&nbsp;</span>Распределение среднего количества звонков по видам тарифов и месяцам:</a></span></li><li><span><a href=\"#Распределение-средней-продолжительности-звонков-по-видам-тарифов-и-месяцам:\" data-toc-modified-id=\"Распределение-средней-продолжительности-звонков-по-видам-тарифов-и-месяцам:-3.3\"><span class=\"toc-item-num\">3.3&nbsp;&nbsp;</span>Распределение средней продолжительности звонков по видам тарифов и месяцам:</a></span></li><li><span><a href=\"#Распределение-среднего-количества-сообщений-по-видам-тарифов-и-месяцам\" data-toc-modified-id=\"Распределение-среднего-количества-сообщений-по-видам-тарифов-и-месяцам-3.4\"><span class=\"toc-item-num\">3.4&nbsp;&nbsp;</span>Распределение среднего количества сообщений по видам тарифов и месяцам</a></span></li><li><span><a href=\"#Сравнение-потраченных-мегабайт-среди-пользователей-тарифов-Smart-и-Ultra:\" data-toc-modified-id=\"Сравнение-потраченных-мегабайт-среди-пользователей-тарифов-Smart-и-Ultra:-3.5\"><span class=\"toc-item-num\">3.5&nbsp;&nbsp;</span>Сравнение потраченных мегабайт среди пользователей тарифов Smart и Ultra:</a></span></li></ul></li><li><span><a href=\"#Проверка-гипотез\" data-toc-modified-id=\"Проверка-гипотез-4\"><span class=\"toc-item-num\">4&nbsp;&nbsp;</span>Проверка гипотез</a></span></li><li><span><a href=\"#Общий-вывод:\" data-toc-modified-id=\"Общий-вывод:-5\"><span class=\"toc-item-num\">5&nbsp;&nbsp;</span><strong>Общий вывод:</strong></a></span></li></ul></div>"
   ]
  },
  {
   "cell_type": "markdown",
   "metadata": {},
   "source": [
    "# Определение выгодного тарифа для телеком компании.\n",
    "\n",
    "**Описание проекта:**\n",
    "\n",
    "Компания «Мегалайн» — федеральный оператор сотовой связи, предлагает клиентам два тарифных плана: «Смарт» и «Ультра». \n",
    "Чтобы скорректировать рекламный бюджет, коммерческий департамент хочет понять, какой тариф приносит больше денег.\n",
    "Необходимо сделать предварительный анализ тарифов на небольшой выборке клиентов. \n",
    "\n",
    "В нашем распоряжении данные 500 пользователей «Мегалайна»: кто они, откуда, каким тарифом пользуются, сколько звонков и сообщений каждый отправил за 2018 год. \n",
    "Нужно проанализировать поведение клиентов и сделать вывод — какой тариф лучше.\n",
    "\n",
    "**Описание тарифов:**\n",
    "\n",
    "*Тариф «Смарт»*\n",
    "- Ежемесячная плата: 550 рублей\n",
    "- Включено 500 минут разговора, 50 сообщений и 15 Гб интернет-трафика\n",
    "- Стоимость услуг сверх тарифного пакета: 1. минута разговора: 3 рубля («Мегалайн» всегда округляет вверх значения минут и мегабайтов. Если пользователь проговорил всего 1 секунду, в тарифе засчитывается целая минута); 2. сообщение: 3 рубля; 3. 1 Гб интернет-трафика: 200 рублей.\n",
    "\n",
    "*Тариф «Ультра»*\n",
    "- Ежемесячная плата: 1950 рублей\n",
    "- Включено 3000 минут разговора, 1000 сообщений и 30 Гб интернет-трафика\n",
    "- Стоимость услуг сверх тарифного пакета: 1. минута разговора: 1 рубль; 2. сообщение: 1 рубль; 3. 1 Гб интернет-трафика: 150 рублей.\n",
    "\n",
    "Примечание: «Мегалайн» всегда округляет секунды до минут, а мегабайты — до гигабайт. Каждый звонок округляется отдельно: даже если он длился всего 1 секунду, будет засчитан как 1 минута. Для веб-трафика отдельные сессии не считаются. Вместо этого общая сумма за месяц округляется в бо́льшую сторону. Если абонент использует 1025 мегабайт в этом месяце, с него возьмут плату за 2 гигабайта.\n",
    "\n",
    "**Описание данных:**\n",
    "\n",
    "- Таблица `users` (информация о пользователях):\n",
    "  - `user_id` — уникальный идентификатор пользователя\n",
    "  - `first_name` — имя пользователя\n",
    "  - `last_name` — фамилия пользователя\n",
    "  - `age` — возраст пользователя (годы)\n",
    "  - `reg_date` — дата подключения тарифа (день, месяц, год)\n",
    "  - `churn_date` — дата прекращения пользования тарифом (если значение пропущено, то тариф ещё действовал на момент выгрузки данных)\n",
    "  - `city` — город проживания пользователя\n",
    "  - `tariff` — название тарифного плана\n",
    "- Таблица `calls` (информация о звонках):\n",
    "  - `id` — уникальный номер звонка\n",
    "  - `call_date` — дата звонка\n",
    "  - `duration` — длительность звонка в минутах\n",
    "  - `user_id` — идентификатор пользователя, сделавшего звонок\n",
    "  - `Таблица` messages (информация о сообщениях):\n",
    "  - `id` — уникальный номер сообщения\n",
    "  - `message_date` — дата сообщения\n",
    "  - `user_id` — идентификатор пользователя, отправившего сообщение\n",
    "- Таблица `sessions` (информация об интернет-сессиях):\n",
    "  - `id` — уникальный номер сессии\n",
    "  - `mb_used` — объём потраченного за сессию интернет-трафика (в мегабайтах)\n",
    "  - `session_date` — дата интернет-сессии\n",
    "  - `user_id` — идентификатор пользователя\n",
    "- Таблица `tariffs` (информация о тарифах):\n",
    "  - `tariff_name` — название тарифа\n",
    "  - `rub_monthly_fee` — ежемесячная абонентская плата в рублях\n",
    "  - `minutes_included` — количество минут разговора в месяц, включённых в абонентскую плату\n",
    "  - `messages_included` — количество сообщений в месяц, включённых в абонентскую плату\n",
    "  - `mb_per_month_included` — объём интернет-трафика, включённого в абонентскую плату (в мегабайтах)\n",
    "  - `rub_per_minute` — стоимость минуты разговора сверх тарифного пакета (например, если в тарифе 100 минут разговора в месяц, то со 101 минуты будет взиматься плата)\n",
    "  - `rub_per_message` — стоимость отправки сообщения сверх тарифного пакета\n",
    "  - `rub_per_gb` — стоимость дополнительного гигабайта интернет-трафика сверх тарифного пакета (1 гигабайт = 1024 мегабайта)\n",
    "___"
   ]
  },
  {
   "cell_type": "code",
   "execution_count": 1,
   "metadata": {
    "deletable": false
   },
   "outputs": [],
   "source": [
    "import pandas as pd\n",
    "import numpy as np\n",
    "import seaborn as sns\n",
    "import matplotlib.pyplot as plt\n",
    "from matplotlib.dates import drange\n",
    "import datetime\n",
    "\n",
    "from scipy import stats as st"
   ]
  },
  {
   "cell_type": "markdown",
   "metadata": {
    "deletable": false
   },
   "source": [
    "___\n",
    "### Изучение общей информации"
   ]
  },
  {
   "cell_type": "markdown",
   "metadata": {
    "tags": [
     "start_task"
    ]
   },
   "source": [
    "___\n",
    "#### Изучение информации о звонках:"
   ]
  },
  {
   "cell_type": "code",
   "execution_count": 2,
   "metadata": {
    "deletable": false
   },
   "outputs": [
    {
     "data": {
      "text/html": [
       "<div>\n",
       "<style scoped>\n",
       "    .dataframe tbody tr th:only-of-type {\n",
       "        vertical-align: middle;\n",
       "    }\n",
       "\n",
       "    .dataframe tbody tr th {\n",
       "        vertical-align: top;\n",
       "    }\n",
       "\n",
       "    .dataframe thead th {\n",
       "        text-align: right;\n",
       "    }\n",
       "</style>\n",
       "<table border=\"1\" class=\"dataframe\">\n",
       "  <thead>\n",
       "    <tr style=\"text-align: right;\">\n",
       "      <th></th>\n",
       "      <th>id</th>\n",
       "      <th>call_date</th>\n",
       "      <th>duration</th>\n",
       "      <th>user_id</th>\n",
       "    </tr>\n",
       "  </thead>\n",
       "  <tbody>\n",
       "    <tr>\n",
       "      <th>0</th>\n",
       "      <td>1000_0</td>\n",
       "      <td>2018-07-25</td>\n",
       "      <td>0.00</td>\n",
       "      <td>1000</td>\n",
       "    </tr>\n",
       "    <tr>\n",
       "      <th>1</th>\n",
       "      <td>1000_1</td>\n",
       "      <td>2018-08-17</td>\n",
       "      <td>0.00</td>\n",
       "      <td>1000</td>\n",
       "    </tr>\n",
       "    <tr>\n",
       "      <th>2</th>\n",
       "      <td>1000_2</td>\n",
       "      <td>2018-06-11</td>\n",
       "      <td>2.85</td>\n",
       "      <td>1000</td>\n",
       "    </tr>\n",
       "    <tr>\n",
       "      <th>3</th>\n",
       "      <td>1000_3</td>\n",
       "      <td>2018-09-21</td>\n",
       "      <td>13.80</td>\n",
       "      <td>1000</td>\n",
       "    </tr>\n",
       "    <tr>\n",
       "      <th>4</th>\n",
       "      <td>1000_4</td>\n",
       "      <td>2018-12-15</td>\n",
       "      <td>5.18</td>\n",
       "      <td>1000</td>\n",
       "    </tr>\n",
       "  </tbody>\n",
       "</table>\n",
       "</div>"
      ],
      "text/plain": [
       "       id   call_date  duration  user_id\n",
       "0  1000_0  2018-07-25      0.00     1000\n",
       "1  1000_1  2018-08-17      0.00     1000\n",
       "2  1000_2  2018-06-11      2.85     1000\n",
       "3  1000_3  2018-09-21     13.80     1000\n",
       "4  1000_4  2018-12-15      5.18     1000"
      ]
     },
     "metadata": {},
     "output_type": "display_data"
    },
    {
     "name": "stdout",
     "output_type": "stream",
     "text": [
      "Дата первого звонка: 2018-01-01\n",
      "Дата последнего звонка: 2018-12-31\n"
     ]
    }
   ],
   "source": [
    "calls = pd.read_csv('/datasets/calls.csv')\n",
    "\n",
    "display(calls.head())\n",
    "print('Дата первого звонка:', calls['call_date'].min())\n",
    "print('Дата последнего звонка:', calls['call_date'].max())"
   ]
  },
  {
   "cell_type": "code",
   "execution_count": 3,
   "metadata": {
    "deletable": false
   },
   "outputs": [
    {
     "name": "stdout",
     "output_type": "stream",
     "text": [
      "<class 'pandas.core.frame.DataFrame'>\n",
      "RangeIndex: 202607 entries, 0 to 202606\n",
      "Data columns (total 4 columns):\n",
      " #   Column     Non-Null Count   Dtype  \n",
      "---  ------     --------------   -----  \n",
      " 0   id         202607 non-null  object \n",
      " 1   call_date  202607 non-null  object \n",
      " 2   duration   202607 non-null  float64\n",
      " 3   user_id    202607 non-null  int64  \n",
      "dtypes: float64(1), int64(1), object(2)\n",
      "memory usage: 6.2+ MB\n"
     ]
    }
   ],
   "source": [
    "calls.info()"
   ]
  },
  {
   "cell_type": "code",
   "execution_count": 4,
   "metadata": {
    "deletable": false,
    "scrolled": false
   },
   "outputs": [
    {
     "data": {
      "image/png": "[encoded data removed]",
      "text/plain": [
       "<Figure size 432x288 with 1 Axes>"
      ]
     },
     "metadata": {
      "needs_background": "light"
     },
     "output_type": "display_data"
    },
    {
     "name": "stdout",
     "output_type": "stream",
     "text": [
      "count    202607.000000\n",
      "mean          6.755887\n",
      "std           5.843365\n",
      "min           0.000000\n",
      "25%           1.300000\n",
      "50%           6.000000\n",
      "75%          10.700000\n",
      "max          38.000000\n",
      "Name: duration, dtype: float64\n"
     ]
    }
   ],
   "source": [
    "calls['duration'].hist()\n",
    "plt.title('Продолжительность звонков')\n",
    "plt.ylabel('Кол-во записей')\n",
    "plt.xlabel('Кол-во минут')\n",
    "plt.show()\n",
    "\n",
    "print(calls['duration'].describe())"
   ]
  },
  {
   "cell_type": "markdown",
   "metadata": {},
   "source": [
    "___\n",
    "**Вывод:**\n",
    "- Имеем `202607` строк и `4` колонки.\n",
    "- Звонки за `2018` год в период с `1 января` по `31 декабря`.\n",
    "- Минимальная продолжительность звонка - `0 минут`. На данном показателе сконцентрировано большое количество звонков, обратим на это внимание в дальнейшем и выясним выбросы это или значимые данные\n",
    "- Средняя продолжительность звонка - `6 мин`, максимальная `38 минут`."
   ]
  },
  {
   "cell_type": "markdown",
   "metadata": {
    "deletable": false,
    "tags": [
     "start_task"
    ]
   },
   "source": [
    "___\n",
    "#### Изучение информации об интернет сессиях:"
   ]
  },
  {
   "cell_type": "code",
   "execution_count": 5,
   "metadata": {
    "deletable": false
   },
   "outputs": [
    {
     "data": {
      "text/html": [
       "<div>\n",
       "<style scoped>\n",
       "    .dataframe tbody tr th:only-of-type {\n",
       "        vertical-align: middle;\n",
       "    }\n",
       "\n",
       "    .dataframe tbody tr th {\n",
       "        vertical-align: top;\n",
       "    }\n",
       "\n",
       "    .dataframe thead th {\n",
       "        text-align: right;\n",
       "    }\n",
       "</style>\n",
       "<table border=\"1\" class=\"dataframe\">\n",
       "  <thead>\n",
       "    <tr style=\"text-align: right;\">\n",
       "      <th></th>\n",
       "      <th>Unnamed: 0</th>\n",
       "      <th>id</th>\n",
       "      <th>mb_used</th>\n",
       "      <th>session_date</th>\n",
       "      <th>user_id</th>\n",
       "    </tr>\n",
       "  </thead>\n",
       "  <tbody>\n",
       "    <tr>\n",
       "      <th>0</th>\n",
       "      <td>0</td>\n",
       "      <td>1000_0</td>\n",
       "      <td>112.95</td>\n",
       "      <td>2018-11-25</td>\n",
       "      <td>1000</td>\n",
       "    </tr>\n",
       "    <tr>\n",
       "      <th>1</th>\n",
       "      <td>1</td>\n",
       "      <td>1000_1</td>\n",
       "      <td>1052.81</td>\n",
       "      <td>2018-09-07</td>\n",
       "      <td>1000</td>\n",
       "    </tr>\n",
       "    <tr>\n",
       "      <th>2</th>\n",
       "      <td>2</td>\n",
       "      <td>1000_2</td>\n",
       "      <td>1197.26</td>\n",
       "      <td>2018-06-25</td>\n",
       "      <td>1000</td>\n",
       "    </tr>\n",
       "    <tr>\n",
       "      <th>3</th>\n",
       "      <td>3</td>\n",
       "      <td>1000_3</td>\n",
       "      <td>550.27</td>\n",
       "      <td>2018-08-22</td>\n",
       "      <td>1000</td>\n",
       "    </tr>\n",
       "    <tr>\n",
       "      <th>4</th>\n",
       "      <td>4</td>\n",
       "      <td>1000_4</td>\n",
       "      <td>302.56</td>\n",
       "      <td>2018-09-24</td>\n",
       "      <td>1000</td>\n",
       "    </tr>\n",
       "  </tbody>\n",
       "</table>\n",
       "</div>"
      ],
      "text/plain": [
       "   Unnamed: 0      id  mb_used session_date  user_id\n",
       "0           0  1000_0   112.95   2018-11-25     1000\n",
       "1           1  1000_1  1052.81   2018-09-07     1000\n",
       "2           2  1000_2  1197.26   2018-06-25     1000\n",
       "3           3  1000_3   550.27   2018-08-22     1000\n",
       "4           4  1000_4   302.56   2018-09-24     1000"
      ]
     },
     "metadata": {},
     "output_type": "display_data"
    },
    {
     "name": "stdout",
     "output_type": "stream",
     "text": [
      "Дата первой сессии: 2018-01-01\n",
      "Дата последней сессии: 2018-12-31\n"
     ]
    }
   ],
   "source": [
    "sessions = pd.read_csv('/datasets/internet.csv')\n",
    "\n",
    "display(sessions.head())\n",
    "print('Дата первой сессии:', sessions['session_date'].min())\n",
    "print('Дата последней сессии:', sessions['session_date'].max())"
   ]
  },
  {
   "cell_type": "code",
   "execution_count": 6,
   "metadata": {
    "deletable": false
   },
   "outputs": [
    {
     "name": "stdout",
     "output_type": "stream",
     "text": [
      "<class 'pandas.core.frame.DataFrame'>\n",
      "RangeIndex: 149396 entries, 0 to 149395\n",
      "Data columns (total 5 columns):\n",
      " #   Column        Non-Null Count   Dtype  \n",
      "---  ------        --------------   -----  \n",
      " 0   Unnamed: 0    149396 non-null  int64  \n",
      " 1   id            149396 non-null  object \n",
      " 2   mb_used       149396 non-null  float64\n",
      " 3   session_date  149396 non-null  object \n",
      " 4   user_id       149396 non-null  int64  \n",
      "dtypes: float64(1), int64(2), object(2)\n",
      "memory usage: 5.7+ MB\n"
     ]
    }
   ],
   "source": [
    "sessions.info()"
   ]
  },
  {
   "cell_type": "code",
   "execution_count": 7,
   "metadata": {
    "deletable": false,
    "scrolled": false
   },
   "outputs": [
    {
     "data": {
      "image/png": "[encoded data removed]",
      "text/plain": [
       "<Figure size 432x288 with 1 Axes>"
      ]
     },
     "metadata": {
      "needs_background": "light"
     },
     "output_type": "display_data"
    },
    {
     "name": "stdout",
     "output_type": "stream",
     "text": [
      "count    149396.000000\n",
      "mean        370.192426\n",
      "std         278.300951\n",
      "min           0.000000\n",
      "25%         138.187500\n",
      "50%         348.015000\n",
      "75%         559.552500\n",
      "max        1724.830000\n",
      "Name: mb_used, dtype: float64\n"
     ]
    }
   ],
   "source": [
    "sessions['mb_used'].hist()\n",
    "plt.title('Кол-во потраченных мегабайт')\n",
    "plt.ylabel('Кол-во записей')\n",
    "plt.xlabel('Кол-во мб')\n",
    "plt.show()\n",
    "\n",
    "print(sessions['mb_used'].describe())"
   ]
  },
  {
   "cell_type": "markdown",
   "metadata": {},
   "source": [
    "___\n",
    "**Вывод:**\n",
    "- Имеем также `4` колонки и `149396` строк, что говорит о том, что Клиентов, пользующихся только услугами связи, больше.\n",
    "- Период сессий - весь `2018-й` год.\n",
    "- Большое кол-во значений сессий сосредоточено на нуле, будем анализировать.\n",
    "- Среднее кол-во потраченного трафика - `348 мб`, а максимальное `1724 мб`."
   ]
  },
  {
   "cell_type": "markdown",
   "metadata": {
    "tags": [
     "start_task"
    ]
   },
   "source": [
    "___\n",
    "#### Изучение информации о сообщениях:"
   ]
  },
  {
   "cell_type": "code",
   "execution_count": 8,
   "metadata": {
    "deletable": false
   },
   "outputs": [
    {
     "data": {
      "text/html": [
       "<div>\n",
       "<style scoped>\n",
       "    .dataframe tbody tr th:only-of-type {\n",
       "        vertical-align: middle;\n",
       "    }\n",
       "\n",
       "    .dataframe tbody tr th {\n",
       "        vertical-align: top;\n",
       "    }\n",
       "\n",
       "    .dataframe thead th {\n",
       "        text-align: right;\n",
       "    }\n",
       "</style>\n",
       "<table border=\"1\" class=\"dataframe\">\n",
       "  <thead>\n",
       "    <tr style=\"text-align: right;\">\n",
       "      <th></th>\n",
       "      <th>id</th>\n",
       "      <th>message_date</th>\n",
       "      <th>user_id</th>\n",
       "    </tr>\n",
       "  </thead>\n",
       "  <tbody>\n",
       "    <tr>\n",
       "      <th>0</th>\n",
       "      <td>1000_0</td>\n",
       "      <td>2018-06-27</td>\n",
       "      <td>1000</td>\n",
       "    </tr>\n",
       "    <tr>\n",
       "      <th>1</th>\n",
       "      <td>1000_1</td>\n",
       "      <td>2018-10-08</td>\n",
       "      <td>1000</td>\n",
       "    </tr>\n",
       "    <tr>\n",
       "      <th>2</th>\n",
       "      <td>1000_2</td>\n",
       "      <td>2018-08-04</td>\n",
       "      <td>1000</td>\n",
       "    </tr>\n",
       "    <tr>\n",
       "      <th>3</th>\n",
       "      <td>1000_3</td>\n",
       "      <td>2018-06-16</td>\n",
       "      <td>1000</td>\n",
       "    </tr>\n",
       "    <tr>\n",
       "      <th>4</th>\n",
       "      <td>1000_4</td>\n",
       "      <td>2018-12-05</td>\n",
       "      <td>1000</td>\n",
       "    </tr>\n",
       "  </tbody>\n",
       "</table>\n",
       "</div>"
      ],
      "text/plain": [
       "       id message_date  user_id\n",
       "0  1000_0   2018-06-27     1000\n",
       "1  1000_1   2018-10-08     1000\n",
       "2  1000_2   2018-08-04     1000\n",
       "3  1000_3   2018-06-16     1000\n",
       "4  1000_4   2018-12-05     1000"
      ]
     },
     "metadata": {},
     "output_type": "display_data"
    },
    {
     "name": "stdout",
     "output_type": "stream",
     "text": [
      "Дата первого сообщения: 2018-01-02\n",
      "Дата последнего сообщения: 2018-12-31\n"
     ]
    }
   ],
   "source": [
    "messages = pd.read_csv('/datasets/messages.csv')\n",
    "\n",
    "display(messages.head())\n",
    "print('Дата первого сообщения:', messages['message_date'].min())\n",
    "print('Дата последнего сообщения:', messages['message_date'].max())"
   ]
  },
  {
   "cell_type": "code",
   "execution_count": 9,
   "metadata": {
    "deletable": false
   },
   "outputs": [
    {
     "name": "stdout",
     "output_type": "stream",
     "text": [
      "<class 'pandas.core.frame.DataFrame'>\n",
      "RangeIndex: 123036 entries, 0 to 123035\n",
      "Data columns (total 3 columns):\n",
      " #   Column        Non-Null Count   Dtype \n",
      "---  ------        --------------   ----- \n",
      " 0   id            123036 non-null  object\n",
      " 1   message_date  123036 non-null  object\n",
      " 2   user_id       123036 non-null  int64 \n",
      "dtypes: int64(1), object(2)\n",
      "memory usage: 2.8+ MB\n"
     ]
    }
   ],
   "source": [
    "messages.info()"
   ]
  },
  {
   "cell_type": "code",
   "execution_count": 10,
   "metadata": {},
   "outputs": [
    {
     "name": "stdout",
     "output_type": "stream",
     "text": [
      "Кол-во клиентов, пользующихся услугой: 426\n"
     ]
    }
   ],
   "source": [
    "print('Кол-во клиентов, пользующихся услугой:', messages['user_id'].nunique())"
   ]
  },
  {
   "cell_type": "markdown",
   "metadata": {},
   "source": [
    "___\n",
    "**Вывод:**\n",
    "- Имеем `123036` записи, `3` столбца, но исходя из кол-ва уникальных \"юзеров\" в столбце `user_id` - можем сказать, что активных клиентов, использующих смс-сообщения, всего лищь `426` человек.\n",
    "- Сообщения также за весь период 2018-го года."
   ]
  },
  {
   "cell_type": "markdown",
   "metadata": {
    "tags": [
     "start_task"
    ]
   },
   "source": [
    "___\n",
    "#### Изучение информации о тарифах:"
   ]
  },
  {
   "cell_type": "code",
   "execution_count": 11,
   "metadata": {
    "deletable": false
   },
   "outputs": [
    {
     "data": {
      "text/html": [
       "<div>\n",
       "<style scoped>\n",
       "    .dataframe tbody tr th:only-of-type {\n",
       "        vertical-align: middle;\n",
       "    }\n",
       "\n",
       "    .dataframe tbody tr th {\n",
       "        vertical-align: top;\n",
       "    }\n",
       "\n",
       "    .dataframe thead th {\n",
       "        text-align: right;\n",
       "    }\n",
       "</style>\n",
       "<table border=\"1\" class=\"dataframe\">\n",
       "  <thead>\n",
       "    <tr style=\"text-align: right;\">\n",
       "      <th></th>\n",
       "      <th>messages_included</th>\n",
       "      <th>mb_per_month_included</th>\n",
       "      <th>minutes_included</th>\n",
       "      <th>rub_monthly_fee</th>\n",
       "      <th>rub_per_gb</th>\n",
       "      <th>rub_per_message</th>\n",
       "      <th>rub_per_minute</th>\n",
       "      <th>tariff_name</th>\n",
       "    </tr>\n",
       "  </thead>\n",
       "  <tbody>\n",
       "    <tr>\n",
       "      <th>0</th>\n",
       "      <td>50</td>\n",
       "      <td>15360</td>\n",
       "      <td>500</td>\n",
       "      <td>550</td>\n",
       "      <td>200</td>\n",
       "      <td>3</td>\n",
       "      <td>3</td>\n",
       "      <td>smart</td>\n",
       "    </tr>\n",
       "    <tr>\n",
       "      <th>1</th>\n",
       "      <td>1000</td>\n",
       "      <td>30720</td>\n",
       "      <td>3000</td>\n",
       "      <td>1950</td>\n",
       "      <td>150</td>\n",
       "      <td>1</td>\n",
       "      <td>1</td>\n",
       "      <td>ultra</td>\n",
       "    </tr>\n",
       "  </tbody>\n",
       "</table>\n",
       "</div>"
      ],
      "text/plain": [
       "   messages_included  mb_per_month_included  minutes_included  \\\n",
       "0                 50                  15360               500   \n",
       "1               1000                  30720              3000   \n",
       "\n",
       "   rub_monthly_fee  rub_per_gb  rub_per_message  rub_per_minute tariff_name  \n",
       "0              550         200                3               3       smart  \n",
       "1             1950         150                1               1       ultra  "
      ]
     },
     "execution_count": 11,
     "metadata": {},
     "output_type": "execute_result"
    }
   ],
   "source": [
    "tariffs = pd.read_csv('/datasets/tariffs.csv')\n",
    "tariffs"
   ]
  },
  {
   "cell_type": "code",
   "execution_count": 12,
   "metadata": {
    "deletable": false,
    "scrolled": true
   },
   "outputs": [
    {
     "name": "stdout",
     "output_type": "stream",
     "text": [
      "<class 'pandas.core.frame.DataFrame'>\n",
      "RangeIndex: 2 entries, 0 to 1\n",
      "Data columns (total 8 columns):\n",
      " #   Column                 Non-Null Count  Dtype \n",
      "---  ------                 --------------  ----- \n",
      " 0   messages_included      2 non-null      int64 \n",
      " 1   mb_per_month_included  2 non-null      int64 \n",
      " 2   minutes_included       2 non-null      int64 \n",
      " 3   rub_monthly_fee        2 non-null      int64 \n",
      " 4   rub_per_gb             2 non-null      int64 \n",
      " 5   rub_per_message        2 non-null      int64 \n",
      " 6   rub_per_minute         2 non-null      int64 \n",
      " 7   tariff_name            2 non-null      object\n",
      "dtypes: int64(7), object(1)\n",
      "memory usage: 256.0+ bytes\n"
     ]
    }
   ],
   "source": [
    "tariffs.info()"
   ]
  },
  {
   "cell_type": "markdown",
   "metadata": {},
   "source": [
    "Описание таблицы тарифов предоставлено Заказчиком и находится в начале тетрадки, дополнительно комментировать не будем."
   ]
  },
  {
   "cell_type": "markdown",
   "metadata": {
    "deletable": false,
    "tags": [
     "start_task"
    ]
   },
   "source": [
    "___\n",
    "#### Изучение информации о пользователях:"
   ]
  },
  {
   "cell_type": "code",
   "execution_count": 13,
   "metadata": {
    "deletable": false
   },
   "outputs": [
    {
     "data": {
      "text/html": [
       "<div>\n",
       "<style scoped>\n",
       "    .dataframe tbody tr th:only-of-type {\n",
       "        vertical-align: middle;\n",
       "    }\n",
       "\n",
       "    .dataframe tbody tr th {\n",
       "        vertical-align: top;\n",
       "    }\n",
       "\n",
       "    .dataframe thead th {\n",
       "        text-align: right;\n",
       "    }\n",
       "</style>\n",
       "<table border=\"1\" class=\"dataframe\">\n",
       "  <thead>\n",
       "    <tr style=\"text-align: right;\">\n",
       "      <th></th>\n",
       "      <th>user_id</th>\n",
       "      <th>age</th>\n",
       "      <th>churn_date</th>\n",
       "      <th>city</th>\n",
       "      <th>first_name</th>\n",
       "      <th>last_name</th>\n",
       "      <th>reg_date</th>\n",
       "      <th>tariff</th>\n",
       "    </tr>\n",
       "  </thead>\n",
       "  <tbody>\n",
       "    <tr>\n",
       "      <th>0</th>\n",
       "      <td>1000</td>\n",
       "      <td>52</td>\n",
       "      <td>NaN</td>\n",
       "      <td>Краснодар</td>\n",
       "      <td>Рафаил</td>\n",
       "      <td>Верещагин</td>\n",
       "      <td>2018-05-25</td>\n",
       "      <td>ultra</td>\n",
       "    </tr>\n",
       "    <tr>\n",
       "      <th>1</th>\n",
       "      <td>1001</td>\n",
       "      <td>41</td>\n",
       "      <td>NaN</td>\n",
       "      <td>Москва</td>\n",
       "      <td>Иван</td>\n",
       "      <td>Ежов</td>\n",
       "      <td>2018-11-01</td>\n",
       "      <td>smart</td>\n",
       "    </tr>\n",
       "    <tr>\n",
       "      <th>2</th>\n",
       "      <td>1002</td>\n",
       "      <td>59</td>\n",
       "      <td>NaN</td>\n",
       "      <td>Стерлитамак</td>\n",
       "      <td>Евгений</td>\n",
       "      <td>Абрамович</td>\n",
       "      <td>2018-06-17</td>\n",
       "      <td>smart</td>\n",
       "    </tr>\n",
       "    <tr>\n",
       "      <th>3</th>\n",
       "      <td>1003</td>\n",
       "      <td>23</td>\n",
       "      <td>NaN</td>\n",
       "      <td>Москва</td>\n",
       "      <td>Белла</td>\n",
       "      <td>Белякова</td>\n",
       "      <td>2018-08-17</td>\n",
       "      <td>ultra</td>\n",
       "    </tr>\n",
       "    <tr>\n",
       "      <th>4</th>\n",
       "      <td>1004</td>\n",
       "      <td>68</td>\n",
       "      <td>NaN</td>\n",
       "      <td>Новокузнецк</td>\n",
       "      <td>Татьяна</td>\n",
       "      <td>Авдеенко</td>\n",
       "      <td>2018-05-14</td>\n",
       "      <td>ultra</td>\n",
       "    </tr>\n",
       "  </tbody>\n",
       "</table>\n",
       "</div>"
      ],
      "text/plain": [
       "   user_id  age churn_date         city first_name  last_name    reg_date  \\\n",
       "0     1000   52        NaN    Краснодар     Рафаил  Верещагин  2018-05-25   \n",
       "1     1001   41        NaN       Москва       Иван       Ежов  2018-11-01   \n",
       "2     1002   59        NaN  Стерлитамак    Евгений  Абрамович  2018-06-17   \n",
       "3     1003   23        NaN       Москва      Белла   Белякова  2018-08-17   \n",
       "4     1004   68        NaN  Новокузнецк    Татьяна   Авдеенко  2018-05-14   \n",
       "\n",
       "  tariff  \n",
       "0  ultra  \n",
       "1  smart  \n",
       "2  smart  \n",
       "3  ultra  \n",
       "4  ultra  "
      ]
     },
     "execution_count": 13,
     "metadata": {},
     "output_type": "execute_result"
    }
   ],
   "source": [
    "users = pd.read_csv('/datasets/users.csv')\n",
    "users.head()"
   ]
  },
  {
   "cell_type": "code",
   "execution_count": 14,
   "metadata": {
    "deletable": false
   },
   "outputs": [
    {
     "name": "stdout",
     "output_type": "stream",
     "text": [
      "<class 'pandas.core.frame.DataFrame'>\n",
      "RangeIndex: 500 entries, 0 to 499\n",
      "Data columns (total 8 columns):\n",
      " #   Column      Non-Null Count  Dtype \n",
      "---  ------      --------------  ----- \n",
      " 0   user_id     500 non-null    int64 \n",
      " 1   age         500 non-null    int64 \n",
      " 2   churn_date  38 non-null     object\n",
      " 3   city        500 non-null    object\n",
      " 4   first_name  500 non-null    object\n",
      " 5   last_name   500 non-null    object\n",
      " 6   reg_date    500 non-null    object\n",
      " 7   tariff      500 non-null    object\n",
      "dtypes: int64(2), object(6)\n",
      "memory usage: 31.4+ KB\n"
     ]
    }
   ],
   "source": [
    "users.info()"
   ]
  },
  {
   "cell_type": "code",
   "execution_count": 15,
   "metadata": {},
   "outputs": [
    {
     "data": {
      "image/png": "[encoded data removed]",
      "text/plain": [
       "<Figure size 432x288 with 1 Axes>"
      ]
     },
     "metadata": {
      "needs_background": "light"
     },
     "output_type": "display_data"
    },
    {
     "data": {
      "text/plain": [
       "count    500.00000\n",
       "mean      46.58800\n",
       "std       16.66763\n",
       "min       18.00000\n",
       "25%       32.00000\n",
       "50%       46.00000\n",
       "75%       62.00000\n",
       "max       75.00000\n",
       "Name: age, dtype: float64"
      ]
     },
     "execution_count": 15,
     "metadata": {},
     "output_type": "execute_result"
    }
   ],
   "source": [
    "users['age'].hist()\n",
    "plt.title('Возраст Клиентов')\n",
    "plt.ylabel('Кол-во Клиентов')\n",
    "plt.xlabel('Кол-во лет')\n",
    "plt.show()\n",
    "\n",
    "users['age'].describe()"
   ]
  },
  {
   "cell_type": "markdown",
   "metadata": {},
   "source": [
    "___"
   ]
  },
  {
   "cell_type": "markdown",
   "metadata": {},
   "source": [
    "**Расторжение договоров:**"
   ]
  },
  {
   "cell_type": "code",
   "execution_count": 16,
   "metadata": {
    "scrolled": true
   },
   "outputs": [
    {
     "data": {
      "text/html": [
       "<div>\n",
       "<style scoped>\n",
       "    .dataframe tbody tr th:only-of-type {\n",
       "        vertical-align: middle;\n",
       "    }\n",
       "\n",
       "    .dataframe tbody tr th {\n",
       "        vertical-align: top;\n",
       "    }\n",
       "\n",
       "    .dataframe thead th {\n",
       "        text-align: right;\n",
       "    }\n",
       "</style>\n",
       "<table border=\"1\" class=\"dataframe\">\n",
       "  <thead>\n",
       "    <tr style=\"text-align: right;\">\n",
       "      <th></th>\n",
       "      <th>Дата расторжения договора:</th>\n",
       "    </tr>\n",
       "  </thead>\n",
       "  <tbody>\n",
       "    <tr>\n",
       "      <th>0</th>\n",
       "      <td>2018-08-17</td>\n",
       "    </tr>\n",
       "    <tr>\n",
       "      <th>1</th>\n",
       "      <td>2018-08-31</td>\n",
       "    </tr>\n",
       "    <tr>\n",
       "      <th>2</th>\n",
       "      <td>2018-09-02</td>\n",
       "    </tr>\n",
       "    <tr>\n",
       "      <th>3</th>\n",
       "      <td>2018-09-26</td>\n",
       "    </tr>\n",
       "    <tr>\n",
       "      <th>4</th>\n",
       "      <td>2018-09-27</td>\n",
       "    </tr>\n",
       "    <tr>\n",
       "      <th>5</th>\n",
       "      <td>2018-10-03</td>\n",
       "    </tr>\n",
       "    <tr>\n",
       "      <th>6</th>\n",
       "      <td>2018-10-03</td>\n",
       "    </tr>\n",
       "    <tr>\n",
       "      <th>7</th>\n",
       "      <td>2018-10-04</td>\n",
       "    </tr>\n",
       "    <tr>\n",
       "      <th>8</th>\n",
       "      <td>2018-10-05</td>\n",
       "    </tr>\n",
       "    <tr>\n",
       "      <th>9</th>\n",
       "      <td>2018-10-14</td>\n",
       "    </tr>\n",
       "    <tr>\n",
       "      <th>10</th>\n",
       "      <td>2018-10-14</td>\n",
       "    </tr>\n",
       "    <tr>\n",
       "      <th>11</th>\n",
       "      <td>2018-10-25</td>\n",
       "    </tr>\n",
       "    <tr>\n",
       "      <th>12</th>\n",
       "      <td>2018-10-27</td>\n",
       "    </tr>\n",
       "    <tr>\n",
       "      <th>13</th>\n",
       "      <td>2018-10-28</td>\n",
       "    </tr>\n",
       "    <tr>\n",
       "      <th>14</th>\n",
       "      <td>2018-11-07</td>\n",
       "    </tr>\n",
       "    <tr>\n",
       "      <th>15</th>\n",
       "      <td>2018-11-13</td>\n",
       "    </tr>\n",
       "    <tr>\n",
       "      <th>16</th>\n",
       "      <td>2018-11-16</td>\n",
       "    </tr>\n",
       "    <tr>\n",
       "      <th>17</th>\n",
       "      <td>2018-11-21</td>\n",
       "    </tr>\n",
       "    <tr>\n",
       "      <th>18</th>\n",
       "      <td>2018-11-22</td>\n",
       "    </tr>\n",
       "    <tr>\n",
       "      <th>19</th>\n",
       "      <td>2018-11-26</td>\n",
       "    </tr>\n",
       "    <tr>\n",
       "      <th>20</th>\n",
       "      <td>2018-11-27</td>\n",
       "    </tr>\n",
       "    <tr>\n",
       "      <th>21</th>\n",
       "      <td>2018-11-30</td>\n",
       "    </tr>\n",
       "    <tr>\n",
       "      <th>22</th>\n",
       "      <td>2018-12-03</td>\n",
       "    </tr>\n",
       "    <tr>\n",
       "      <th>23</th>\n",
       "      <td>2018-12-03</td>\n",
       "    </tr>\n",
       "    <tr>\n",
       "      <th>24</th>\n",
       "      <td>2018-12-09</td>\n",
       "    </tr>\n",
       "    <tr>\n",
       "      <th>25</th>\n",
       "      <td>2018-12-09</td>\n",
       "    </tr>\n",
       "    <tr>\n",
       "      <th>26</th>\n",
       "      <td>2018-12-11</td>\n",
       "    </tr>\n",
       "    <tr>\n",
       "      <th>27</th>\n",
       "      <td>2018-12-14</td>\n",
       "    </tr>\n",
       "    <tr>\n",
       "      <th>28</th>\n",
       "      <td>2018-12-16</td>\n",
       "    </tr>\n",
       "    <tr>\n",
       "      <th>29</th>\n",
       "      <td>2018-12-18</td>\n",
       "    </tr>\n",
       "    <tr>\n",
       "      <th>30</th>\n",
       "      <td>2018-12-20</td>\n",
       "    </tr>\n",
       "    <tr>\n",
       "      <th>31</th>\n",
       "      <td>2018-12-21</td>\n",
       "    </tr>\n",
       "    <tr>\n",
       "      <th>32</th>\n",
       "      <td>2018-12-21</td>\n",
       "    </tr>\n",
       "    <tr>\n",
       "      <th>33</th>\n",
       "      <td>2018-12-23</td>\n",
       "    </tr>\n",
       "    <tr>\n",
       "      <th>34</th>\n",
       "      <td>2018-12-24</td>\n",
       "    </tr>\n",
       "    <tr>\n",
       "      <th>35</th>\n",
       "      <td>2018-12-25</td>\n",
       "    </tr>\n",
       "    <tr>\n",
       "      <th>36</th>\n",
       "      <td>2018-12-26</td>\n",
       "    </tr>\n",
       "    <tr>\n",
       "      <th>37</th>\n",
       "      <td>2018-12-30</td>\n",
       "    </tr>\n",
       "  </tbody>\n",
       "</table>\n",
       "</div>"
      ],
      "text/plain": [
       "   Дата расторжения договора:\n",
       "0                  2018-08-17\n",
       "1                  2018-08-31\n",
       "2                  2018-09-02\n",
       "3                  2018-09-26\n",
       "4                  2018-09-27\n",
       "5                  2018-10-03\n",
       "6                  2018-10-03\n",
       "7                  2018-10-04\n",
       "8                  2018-10-05\n",
       "9                  2018-10-14\n",
       "10                 2018-10-14\n",
       "11                 2018-10-25\n",
       "12                 2018-10-27\n",
       "13                 2018-10-28\n",
       "14                 2018-11-07\n",
       "15                 2018-11-13\n",
       "16                 2018-11-16\n",
       "17                 2018-11-21\n",
       "18                 2018-11-22\n",
       "19                 2018-11-26\n",
       "20                 2018-11-27\n",
       "21                 2018-11-30\n",
       "22                 2018-12-03\n",
       "23                 2018-12-03\n",
       "24                 2018-12-09\n",
       "25                 2018-12-09\n",
       "26                 2018-12-11\n",
       "27                 2018-12-14\n",
       "28                 2018-12-16\n",
       "29                 2018-12-18\n",
       "30                 2018-12-20\n",
       "31                 2018-12-21\n",
       "32                 2018-12-21\n",
       "33                 2018-12-23\n",
       "34                 2018-12-24\n",
       "35                 2018-12-25\n",
       "36                 2018-12-26\n",
       "37                 2018-12-30"
      ]
     },
     "metadata": {},
     "output_type": "display_data"
    }
   ],
   "source": [
    "df1 = users['churn_date'].dropna()\n",
    "dates = pd.DataFrame(sorted(df1))\n",
    "dates.columns = ['Дата расторжения договора:']\n",
    "display(dates)"
   ]
  },
  {
   "cell_type": "markdown",
   "metadata": {},
   "source": [
    "- Из 500 клиентов имеем 38 расторжений договоров, начинающихся с августа, а наибольший пик стартует с октября и по конец года.\n"
   ]
  },
  {
   "cell_type": "markdown",
   "metadata": {},
   "source": [
    "___"
   ]
  },
  {
   "cell_type": "markdown",
   "metadata": {},
   "source": [
    "**Заключение договоров:**"
   ]
  },
  {
   "cell_type": "code",
   "execution_count": 17,
   "metadata": {
    "scrolled": true
   },
   "outputs": [
    {
     "data": {
      "image/png": "[encoded data removed]",
      "text/plain": [
       "<Figure size 432x288 with 1 Axes>"
      ]
     },
     "metadata": {
      "needs_background": "light"
     },
     "output_type": "display_data"
    }
   ],
   "source": [
    "users['reg_date'].hist()\n",
    "plt.title('Дата заключения договора')\n",
    "plt.ylabel('Кол-во записей')\n",
    "plt.xlabel('Месяца')\n",
    "plt.show()"
   ]
  },
  {
   "cell_type": "markdown",
   "metadata": {},
   "source": [
    "- Пик новых клиентов приходится на Февраль, к концу года спрос спадает. Наихудшие показатели в ноябре."
   ]
  },
  {
   "cell_type": "markdown",
   "metadata": {},
   "source": [
    "___"
   ]
  },
  {
   "cell_type": "markdown",
   "metadata": {},
   "source": [
    "**Распределение тарифов:**"
   ]
  },
  {
   "cell_type": "code",
   "execution_count": 18,
   "metadata": {},
   "outputs": [
    {
     "data": {
      "text/plain": [
       "smart    0.702\n",
       "ultra    0.298\n",
       "Name: tariff, dtype: float64"
      ]
     },
     "execution_count": 18,
     "metadata": {},
     "output_type": "execute_result"
    }
   ],
   "source": [
    "df3 = users['tariff'].value_counts(normalize=True).round(3)\n",
    "df3"
   ]
  },
  {
   "cell_type": "code",
   "execution_count": 19,
   "metadata": {
    "scrolled": true
   },
   "outputs": [
    {
     "data": {
      "image/png": "[encoded data removed]",
      "text/plain": [
       "<Figure size 432x288 with 1 Axes>"
      ]
     },
     "metadata": {},
     "output_type": "display_data"
    }
   ],
   "source": [
    "plt.pie(df3)\n",
    "plt.title('Распределение тарифов')\n",
    "plt.legend(['smart', 'ultra'])\n",
    "plt.show()"
   ]
  },
  {
   "cell_type": "markdown",
   "metadata": {},
   "source": [
    "- Доля тарифа `smart` составляет `70%` ,a более дорогого `ultra` - `30%`"
   ]
  },
  {
   "cell_type": "markdown",
   "metadata": {},
   "source": [
    "___\n",
    "**Вывод:**\n",
    "- Из 500 клиентов имеем 38 расторжений договоров, начинающихся с августа, а наибольший пик стартует с октября и по конец года.\n",
    "- Пик новых клиентов приходится на Февраль, к концу года спрос спадает. Наихудшие показатели в ноябре.\n",
    "- Доля тарифа `smart` составляет `70%` ,a более дорогого `ultra` - `30%`\n",
    "\n",
    "Описание возраста Клиентов:\n",
    "- Минимальный - `18`\n",
    "- Средний - `46`\n",
    "- Максимальный - `75`"
   ]
  },
  {
   "cell_type": "markdown",
   "metadata": {},
   "source": [
    "___\n",
    "#### **Вывод блока:**\n",
    "*Таблица со звонками:*\n",
    "- Имеем `202607` строк и `4` колонки.\n",
    "- Звонки за `2018` год в период с `1 января` по `31 декабря`.\n",
    "- Минимальная продолжительность звонка - `0 минут`. На данном показателе сконцентрировано большое количество звонков, обратим на это внимание в дальнейшем и выясним выбросы это или значимые данные\n",
    "- Средняя продолжительность звонка - `6 мин`, максимальная `38 минут`.\n",
    "\n",
    "*Таблица использования интернет трафика:*\n",
    "- Имеем также `4` колонки и `149396` строк, что говорит о том, что Клиентов, пользующихся только услугами связи, больше.\n",
    "- Период сессий - весь `2018-й` год.\n",
    "- Большое кол-во значений сессий сосредоточено на нуле, будем анализировать.\n",
    "- Среднее кол-во потраченного трафика - `348 мб`, а максимальное `1724 мб`.\n",
    "\n",
    "*Таблица с сообщениями:*\n",
    "- Имеем `123036` записи, `3` столбца, но исходя из кол-ва уникальных \"юзеров\" в столбце `user_id` - можем сказать, что активных клиентов, использующих смс-сообщения, всего лищь `426` человек.\n",
    "- Сообщения также за весь период 2018-го года.\n",
    "\n",
    "*Таблица о пользователях:*\n",
    "- Из 500 клиентов имеем 38 расторжений договоров, начинающихся с августа, а наибольший пик стартует с октября и по конец года.\n",
    "- Пик новых клиентов приходится на Февраль, к концу года спрос спадает. Наихудшие показатели в ноябре.\n",
    "- Доля тарифа `smart` составляет `70%` ,a более дорогого `ultra` - `30%`.\n",
    "- Описание возраста Клиентов: Минимальный - `18`, Средний - `46`, Максимальный - `75`."
   ]
  },
  {
   "cell_type": "markdown",
   "metadata": {},
   "source": [
    "___\n",
    "### Подготовка данных."
   ]
  },
  {
   "cell_type": "markdown",
   "metadata": {},
   "source": [
    "#### Приведение данных к нужному типу:"
   ]
  },
  {
   "cell_type": "markdown",
   "metadata": {
    "tags": [
     "start_task"
    ]
   },
   "source": [
    "Приведем столбцы:\n",
    "\n",
    "- `reg_date` из таблицы `users`\n",
    "- `churn_date` из таблицы `users`\n",
    "- `call_date` из таблицы `calls`\n",
    "- `message_date` из таблицы `messages`\n",
    "- `session_date` из таблицы `sessions`\n",
    "\n",
    "к новому типу с помощью метода `to_datetime()`:"
   ]
  },
  {
   "cell_type": "code",
   "execution_count": 20,
   "metadata": {
    "deletable": false
   },
   "outputs": [],
   "source": [
    "users['reg_date'] = pd.to_datetime(\n",
    "    users['reg_date'],format='%Y-%m-%d'\n",
    ")\n",
    "\n",
    "users['churn_date'] = pd.to_datetime(\n",
    "    users['churn_date'], format='%Y-%m-%d'\n",
    ")\n",
    "\n",
    "calls['call_date'] = pd.to_datetime(\n",
    "    calls['call_date'], format='%Y-%m-%d'\n",
    ")\n",
    " \n",
    "messages['message_date'] = pd.to_datetime(\n",
    "    messages['message_date'], format='%Y-%m-%d'\n",
    ")\n",
    "\n",
    "sessions['session_date'] = pd.to_datetime(\n",
    "    sessions['session_date'], format='%Y-%m-%d'\n",
    ")\n"
   ]
  },
  {
   "cell_type": "markdown",
   "metadata": {
    "tags": [
     "start_task"
    ]
   },
   "source": [
    "___\n",
    "В данных присутствуют звонки с нулевой продолжительностью. Нулями обозначены пропущенные звонки, поэтому их удалять не будем.\n",
    "\n",
    "Однако в столбце `duration` датафрейма `calls` значения дробные. \n",
    "\n",
    "Округлим значения столбца `duration` вверх с помощью метода `numpy.ceil()` и приведем столбец `duration` к типу `int`."
   ]
  },
  {
   "cell_type": "code",
   "execution_count": 21,
   "metadata": {
    "deletable": false
   },
   "outputs": [
    {
     "data": {
      "text/plain": [
       "0     0\n",
       "1     0\n",
       "2     3\n",
       "3    14\n",
       "4     6\n",
       "Name: duration, dtype: int64"
      ]
     },
     "execution_count": 21,
     "metadata": {},
     "output_type": "execute_result"
    }
   ],
   "source": [
    "# округление значений столбца duration с помощью np.ceil() и приведение типа к int\n",
    "calls['duration'] = np.ceil(calls['duration'])\n",
    "calls['duration'] = calls['duration'].astype(int)\n",
    "calls['duration'].head()"
   ]
  },
  {
   "cell_type": "markdown",
   "metadata": {},
   "source": [
    "#### Удаление столбцов:"
   ]
  },
  {
   "cell_type": "markdown",
   "metadata": {
    "tags": [
     "start_task"
    ]
   },
   "source": [
    "___\n",
    "Удалим столбец `Unnamed: 0` из датафрейма `sessions`. \n",
    "\n",
    "Столбец с таким названием возникает, когда данные сохраняют с указанием индекса (`df.to_csv(..., index=column)`). Он нам не понадобится."
   ]
  },
  {
   "cell_type": "code",
   "execution_count": 22,
   "metadata": {
    "deletable": false
   },
   "outputs": [
    {
     "name": "stdout",
     "output_type": "stream",
     "text": [
      "<class 'pandas.core.frame.DataFrame'>\n",
      "RangeIndex: 149396 entries, 0 to 149395\n",
      "Data columns (total 4 columns):\n",
      " #   Column        Non-Null Count   Dtype         \n",
      "---  ------        --------------   -----         \n",
      " 0   id            149396 non-null  object        \n",
      " 1   mb_used       149396 non-null  float64       \n",
      " 2   session_date  149396 non-null  datetime64[ns]\n",
      " 3   user_id       149396 non-null  int64         \n",
      "dtypes: datetime64[ns](1), float64(1), int64(1), object(1)\n",
      "memory usage: 4.6+ MB\n"
     ]
    }
   ],
   "source": [
    "sessions.pop('Unnamed: 0')\n",
    "sessions.info()"
   ]
  },
  {
   "cell_type": "markdown",
   "metadata": {},
   "source": [
    "___\n",
    "#### Добавление новых столбцов:"
   ]
  },
  {
   "cell_type": "markdown",
   "metadata": {
    "tags": [
     "start_task"
    ]
   },
   "source": [
    "___\n",
    "Создадим столбец `month` в датафрейме `calls` с номером месяца из столбца `call_date`."
   ]
  },
  {
   "cell_type": "code",
   "execution_count": 23,
   "metadata": {
    "deletable": false
   },
   "outputs": [
    {
     "data": {
      "text/html": [
       "<div>\n",
       "<style scoped>\n",
       "    .dataframe tbody tr th:only-of-type {\n",
       "        vertical-align: middle;\n",
       "    }\n",
       "\n",
       "    .dataframe tbody tr th {\n",
       "        vertical-align: top;\n",
       "    }\n",
       "\n",
       "    .dataframe thead th {\n",
       "        text-align: right;\n",
       "    }\n",
       "</style>\n",
       "<table border=\"1\" class=\"dataframe\">\n",
       "  <thead>\n",
       "    <tr style=\"text-align: right;\">\n",
       "      <th></th>\n",
       "      <th>id</th>\n",
       "      <th>call_date</th>\n",
       "      <th>duration</th>\n",
       "      <th>user_id</th>\n",
       "      <th>month</th>\n",
       "    </tr>\n",
       "  </thead>\n",
       "  <tbody>\n",
       "    <tr>\n",
       "      <th>0</th>\n",
       "      <td>1000_0</td>\n",
       "      <td>2018-07-25</td>\n",
       "      <td>0</td>\n",
       "      <td>1000</td>\n",
       "      <td>7</td>\n",
       "    </tr>\n",
       "    <tr>\n",
       "      <th>1</th>\n",
       "      <td>1000_1</td>\n",
       "      <td>2018-08-17</td>\n",
       "      <td>0</td>\n",
       "      <td>1000</td>\n",
       "      <td>8</td>\n",
       "    </tr>\n",
       "    <tr>\n",
       "      <th>2</th>\n",
       "      <td>1000_2</td>\n",
       "      <td>2018-06-11</td>\n",
       "      <td>3</td>\n",
       "      <td>1000</td>\n",
       "      <td>6</td>\n",
       "    </tr>\n",
       "    <tr>\n",
       "      <th>3</th>\n",
       "      <td>1000_3</td>\n",
       "      <td>2018-09-21</td>\n",
       "      <td>14</td>\n",
       "      <td>1000</td>\n",
       "      <td>9</td>\n",
       "    </tr>\n",
       "    <tr>\n",
       "      <th>4</th>\n",
       "      <td>1000_4</td>\n",
       "      <td>2018-12-15</td>\n",
       "      <td>6</td>\n",
       "      <td>1000</td>\n",
       "      <td>12</td>\n",
       "    </tr>\n",
       "    <tr>\n",
       "      <th>...</th>\n",
       "      <td>...</td>\n",
       "      <td>...</td>\n",
       "      <td>...</td>\n",
       "      <td>...</td>\n",
       "      <td>...</td>\n",
       "    </tr>\n",
       "    <tr>\n",
       "      <th>202602</th>\n",
       "      <td>1499_215</td>\n",
       "      <td>2018-12-26</td>\n",
       "      <td>1</td>\n",
       "      <td>1499</td>\n",
       "      <td>12</td>\n",
       "    </tr>\n",
       "    <tr>\n",
       "      <th>202603</th>\n",
       "      <td>1499_216</td>\n",
       "      <td>2018-10-18</td>\n",
       "      <td>19</td>\n",
       "      <td>1499</td>\n",
       "      <td>10</td>\n",
       "    </tr>\n",
       "    <tr>\n",
       "      <th>202604</th>\n",
       "      <td>1499_217</td>\n",
       "      <td>2018-11-10</td>\n",
       "      <td>11</td>\n",
       "      <td>1499</td>\n",
       "      <td>11</td>\n",
       "    </tr>\n",
       "    <tr>\n",
       "      <th>202605</th>\n",
       "      <td>1499_218</td>\n",
       "      <td>2018-10-06</td>\n",
       "      <td>5</td>\n",
       "      <td>1499</td>\n",
       "      <td>10</td>\n",
       "    </tr>\n",
       "    <tr>\n",
       "      <th>202606</th>\n",
       "      <td>1499_219</td>\n",
       "      <td>2018-12-14</td>\n",
       "      <td>20</td>\n",
       "      <td>1499</td>\n",
       "      <td>12</td>\n",
       "    </tr>\n",
       "  </tbody>\n",
       "</table>\n",
       "<p>202607 rows × 5 columns</p>\n",
       "</div>"
      ],
      "text/plain": [
       "              id  call_date  duration  user_id  month\n",
       "0         1000_0 2018-07-25         0     1000      7\n",
       "1         1000_1 2018-08-17         0     1000      8\n",
       "2         1000_2 2018-06-11         3     1000      6\n",
       "3         1000_3 2018-09-21        14     1000      9\n",
       "4         1000_4 2018-12-15         6     1000     12\n",
       "...          ...        ...       ...      ...    ...\n",
       "202602  1499_215 2018-12-26         1     1499     12\n",
       "202603  1499_216 2018-10-18        19     1499     10\n",
       "202604  1499_217 2018-11-10        11     1499     11\n",
       "202605  1499_218 2018-10-06         5     1499     10\n",
       "202606  1499_219 2018-12-14        20     1499     12\n",
       "\n",
       "[202607 rows x 5 columns]"
      ]
     },
     "execution_count": 23,
     "metadata": {},
     "output_type": "execute_result"
    }
   ],
   "source": [
    "calls['month'] = calls['call_date'].dt.month\n",
    "calls"
   ]
  },
  {
   "cell_type": "markdown",
   "metadata": {
    "tags": [
     "start_task"
    ]
   },
   "source": [
    "___\n",
    "Создадим столбец `month` в датафрейме `messages` с номером месяца из столбца `message_date`."
   ]
  },
  {
   "cell_type": "code",
   "execution_count": 24,
   "metadata": {
    "deletable": false
   },
   "outputs": [],
   "source": [
    "messages['month'] = messages['message_date'].dt.month\n"
   ]
  },
  {
   "cell_type": "markdown",
   "metadata": {
    "tags": [
     "start_task"
    ]
   },
   "source": [
    "Создадим столбец `month` в датафрейме `sessions` с номером месяца из столбца `session_date`."
   ]
  },
  {
   "cell_type": "code",
   "execution_count": 25,
   "metadata": {
    "deletable": false
   },
   "outputs": [],
   "source": [
    "sessions['month'] = sessions['session_date'].dt.month"
   ]
  },
  {
   "cell_type": "markdown",
   "metadata": {
    "tags": [
     "start_task"
    ]
   },
   "source": [
    "___\n",
    "Посчитаем количество сделанных звонков разговора для каждого пользователя по месяцам."
   ]
  },
  {
   "cell_type": "code",
   "execution_count": 26,
   "metadata": {
    "deletable": false
   },
   "outputs": [],
   "source": [
    "calls_per_month = calls.groupby(['user_id', 'month']).agg(calls=('duration', 'count'))"
   ]
  },
  {
   "cell_type": "code",
   "execution_count": 27,
   "metadata": {
    "deletable": false
   },
   "outputs": [
    {
     "data": {
      "text/html": [
       "<div>\n",
       "<style scoped>\n",
       "    .dataframe tbody tr th:only-of-type {\n",
       "        vertical-align: middle;\n",
       "    }\n",
       "\n",
       "    .dataframe tbody tr th {\n",
       "        vertical-align: top;\n",
       "    }\n",
       "\n",
       "    .dataframe thead th {\n",
       "        text-align: right;\n",
       "    }\n",
       "</style>\n",
       "<table border=\"1\" class=\"dataframe\">\n",
       "  <thead>\n",
       "    <tr style=\"text-align: right;\">\n",
       "      <th></th>\n",
       "      <th></th>\n",
       "      <th>calls</th>\n",
       "    </tr>\n",
       "    <tr>\n",
       "      <th>user_id</th>\n",
       "      <th>month</th>\n",
       "      <th></th>\n",
       "    </tr>\n",
       "  </thead>\n",
       "  <tbody>\n",
       "    <tr>\n",
       "      <th rowspan=\"8\" valign=\"top\">1000</th>\n",
       "      <th>5</th>\n",
       "      <td>22</td>\n",
       "    </tr>\n",
       "    <tr>\n",
       "      <th>6</th>\n",
       "      <td>43</td>\n",
       "    </tr>\n",
       "    <tr>\n",
       "      <th>7</th>\n",
       "      <td>47</td>\n",
       "    </tr>\n",
       "    <tr>\n",
       "      <th>8</th>\n",
       "      <td>52</td>\n",
       "    </tr>\n",
       "    <tr>\n",
       "      <th>9</th>\n",
       "      <td>58</td>\n",
       "    </tr>\n",
       "    <tr>\n",
       "      <th>10</th>\n",
       "      <td>57</td>\n",
       "    </tr>\n",
       "    <tr>\n",
       "      <th>11</th>\n",
       "      <td>43</td>\n",
       "    </tr>\n",
       "    <tr>\n",
       "      <th>12</th>\n",
       "      <td>46</td>\n",
       "    </tr>\n",
       "    <tr>\n",
       "      <th rowspan=\"2\" valign=\"top\">1001</th>\n",
       "      <th>11</th>\n",
       "      <td>59</td>\n",
       "    </tr>\n",
       "    <tr>\n",
       "      <th>12</th>\n",
       "      <td>63</td>\n",
       "    </tr>\n",
       "    <tr>\n",
       "      <th rowspan=\"7\" valign=\"top\">1002</th>\n",
       "      <th>6</th>\n",
       "      <td>15</td>\n",
       "    </tr>\n",
       "    <tr>\n",
       "      <th>7</th>\n",
       "      <td>26</td>\n",
       "    </tr>\n",
       "    <tr>\n",
       "      <th>8</th>\n",
       "      <td>42</td>\n",
       "    </tr>\n",
       "    <tr>\n",
       "      <th>9</th>\n",
       "      <td>36</td>\n",
       "    </tr>\n",
       "    <tr>\n",
       "      <th>10</th>\n",
       "      <td>33</td>\n",
       "    </tr>\n",
       "    <tr>\n",
       "      <th>11</th>\n",
       "      <td>32</td>\n",
       "    </tr>\n",
       "    <tr>\n",
       "      <th>12</th>\n",
       "      <td>33</td>\n",
       "    </tr>\n",
       "    <tr>\n",
       "      <th rowspan=\"5\" valign=\"top\">1003</th>\n",
       "      <th>8</th>\n",
       "      <td>55</td>\n",
       "    </tr>\n",
       "    <tr>\n",
       "      <th>9</th>\n",
       "      <td>134</td>\n",
       "    </tr>\n",
       "    <tr>\n",
       "      <th>10</th>\n",
       "      <td>108</td>\n",
       "    </tr>\n",
       "    <tr>\n",
       "      <th>11</th>\n",
       "      <td>115</td>\n",
       "    </tr>\n",
       "    <tr>\n",
       "      <th>12</th>\n",
       "      <td>108</td>\n",
       "    </tr>\n",
       "    <tr>\n",
       "      <th rowspan=\"8\" valign=\"top\">1004</th>\n",
       "      <th>5</th>\n",
       "      <td>9</td>\n",
       "    </tr>\n",
       "    <tr>\n",
       "      <th>6</th>\n",
       "      <td>31</td>\n",
       "    </tr>\n",
       "    <tr>\n",
       "      <th>7</th>\n",
       "      <td>22</td>\n",
       "    </tr>\n",
       "    <tr>\n",
       "      <th>8</th>\n",
       "      <td>19</td>\n",
       "    </tr>\n",
       "    <tr>\n",
       "      <th>9</th>\n",
       "      <td>26</td>\n",
       "    </tr>\n",
       "    <tr>\n",
       "      <th>10</th>\n",
       "      <td>29</td>\n",
       "    </tr>\n",
       "    <tr>\n",
       "      <th>11</th>\n",
       "      <td>19</td>\n",
       "    </tr>\n",
       "    <tr>\n",
       "      <th>12</th>\n",
       "      <td>21</td>\n",
       "    </tr>\n",
       "  </tbody>\n",
       "</table>\n",
       "</div>"
      ],
      "text/plain": [
       "               calls\n",
       "user_id month       \n",
       "1000    5         22\n",
       "        6         43\n",
       "        7         47\n",
       "        8         52\n",
       "        9         58\n",
       "        10        57\n",
       "        11        43\n",
       "        12        46\n",
       "1001    11        59\n",
       "        12        63\n",
       "1002    6         15\n",
       "        7         26\n",
       "        8         42\n",
       "        9         36\n",
       "        10        33\n",
       "        11        32\n",
       "        12        33\n",
       "1003    8         55\n",
       "        9        134\n",
       "        10       108\n",
       "        11       115\n",
       "        12       108\n",
       "1004    5          9\n",
       "        6         31\n",
       "        7         22\n",
       "        8         19\n",
       "        9         26\n",
       "        10        29\n",
       "        11        19\n",
       "        12        21"
      ]
     },
     "execution_count": 27,
     "metadata": {},
     "output_type": "execute_result"
    }
   ],
   "source": [
    "calls_per_month.head(30)"
   ]
  },
  {
   "cell_type": "markdown",
   "metadata": {
    "tags": [
     "start_task"
    ]
   },
   "source": [
    "___\n",
    "Посчитаем количество израсходованных минут разговора для каждого пользователя по месяцам:"
   ]
  },
  {
   "cell_type": "code",
   "execution_count": 28,
   "metadata": {
    "deletable": false
   },
   "outputs": [
    {
     "data": {
      "text/html": [
       "<div>\n",
       "<style scoped>\n",
       "    .dataframe tbody tr th:only-of-type {\n",
       "        vertical-align: middle;\n",
       "    }\n",
       "\n",
       "    .dataframe tbody tr th {\n",
       "        vertical-align: top;\n",
       "    }\n",
       "\n",
       "    .dataframe thead th {\n",
       "        text-align: right;\n",
       "    }\n",
       "</style>\n",
       "<table border=\"1\" class=\"dataframe\">\n",
       "  <thead>\n",
       "    <tr style=\"text-align: right;\">\n",
       "      <th></th>\n",
       "      <th></th>\n",
       "      <th>minutes</th>\n",
       "    </tr>\n",
       "    <tr>\n",
       "      <th>user_id</th>\n",
       "      <th>month</th>\n",
       "      <th></th>\n",
       "    </tr>\n",
       "  </thead>\n",
       "  <tbody>\n",
       "    <tr>\n",
       "      <th rowspan=\"8\" valign=\"top\">1000</th>\n",
       "      <th>5</th>\n",
       "      <td>159</td>\n",
       "    </tr>\n",
       "    <tr>\n",
       "      <th>6</th>\n",
       "      <td>172</td>\n",
       "    </tr>\n",
       "    <tr>\n",
       "      <th>7</th>\n",
       "      <td>340</td>\n",
       "    </tr>\n",
       "    <tr>\n",
       "      <th>8</th>\n",
       "      <td>408</td>\n",
       "    </tr>\n",
       "    <tr>\n",
       "      <th>9</th>\n",
       "      <td>466</td>\n",
       "    </tr>\n",
       "    <tr>\n",
       "      <th>10</th>\n",
       "      <td>350</td>\n",
       "    </tr>\n",
       "    <tr>\n",
       "      <th>11</th>\n",
       "      <td>338</td>\n",
       "    </tr>\n",
       "    <tr>\n",
       "      <th>12</th>\n",
       "      <td>333</td>\n",
       "    </tr>\n",
       "    <tr>\n",
       "      <th rowspan=\"2\" valign=\"top\">1001</th>\n",
       "      <th>11</th>\n",
       "      <td>430</td>\n",
       "    </tr>\n",
       "    <tr>\n",
       "      <th>12</th>\n",
       "      <td>414</td>\n",
       "    </tr>\n",
       "    <tr>\n",
       "      <th rowspan=\"7\" valign=\"top\">1002</th>\n",
       "      <th>6</th>\n",
       "      <td>117</td>\n",
       "    </tr>\n",
       "    <tr>\n",
       "      <th>7</th>\n",
       "      <td>214</td>\n",
       "    </tr>\n",
       "    <tr>\n",
       "      <th>8</th>\n",
       "      <td>289</td>\n",
       "    </tr>\n",
       "    <tr>\n",
       "      <th>9</th>\n",
       "      <td>206</td>\n",
       "    </tr>\n",
       "    <tr>\n",
       "      <th>10</th>\n",
       "      <td>212</td>\n",
       "    </tr>\n",
       "    <tr>\n",
       "      <th>11</th>\n",
       "      <td>243</td>\n",
       "    </tr>\n",
       "    <tr>\n",
       "      <th>12</th>\n",
       "      <td>236</td>\n",
       "    </tr>\n",
       "    <tr>\n",
       "      <th rowspan=\"5\" valign=\"top\">1003</th>\n",
       "      <th>8</th>\n",
       "      <td>380</td>\n",
       "    </tr>\n",
       "    <tr>\n",
       "      <th>9</th>\n",
       "      <td>961</td>\n",
       "    </tr>\n",
       "    <tr>\n",
       "      <th>10</th>\n",
       "      <td>855</td>\n",
       "    </tr>\n",
       "    <tr>\n",
       "      <th>11</th>\n",
       "      <td>824</td>\n",
       "    </tr>\n",
       "    <tr>\n",
       "      <th>12</th>\n",
       "      <td>802</td>\n",
       "    </tr>\n",
       "    <tr>\n",
       "      <th rowspan=\"8\" valign=\"top\">1004</th>\n",
       "      <th>5</th>\n",
       "      <td>35</td>\n",
       "    </tr>\n",
       "    <tr>\n",
       "      <th>6</th>\n",
       "      <td>171</td>\n",
       "    </tr>\n",
       "    <tr>\n",
       "      <th>7</th>\n",
       "      <td>135</td>\n",
       "    </tr>\n",
       "    <tr>\n",
       "      <th>8</th>\n",
       "      <td>137</td>\n",
       "    </tr>\n",
       "    <tr>\n",
       "      <th>9</th>\n",
       "      <td>117</td>\n",
       "    </tr>\n",
       "    <tr>\n",
       "      <th>10</th>\n",
       "      <td>145</td>\n",
       "    </tr>\n",
       "    <tr>\n",
       "      <th>11</th>\n",
       "      <td>117</td>\n",
       "    </tr>\n",
       "    <tr>\n",
       "      <th>12</th>\n",
       "      <td>130</td>\n",
       "    </tr>\n",
       "  </tbody>\n",
       "</table>\n",
       "</div>"
      ],
      "text/plain": [
       "               minutes\n",
       "user_id month         \n",
       "1000    5          159\n",
       "        6          172\n",
       "        7          340\n",
       "        8          408\n",
       "        9          466\n",
       "        10         350\n",
       "        11         338\n",
       "        12         333\n",
       "1001    11         430\n",
       "        12         414\n",
       "1002    6          117\n",
       "        7          214\n",
       "        8          289\n",
       "        9          206\n",
       "        10         212\n",
       "        11         243\n",
       "        12         236\n",
       "1003    8          380\n",
       "        9          961\n",
       "        10         855\n",
       "        11         824\n",
       "        12         802\n",
       "1004    5           35\n",
       "        6          171\n",
       "        7          135\n",
       "        8          137\n",
       "        9          117\n",
       "        10         145\n",
       "        11         117\n",
       "        12         130"
      ]
     },
     "execution_count": 28,
     "metadata": {},
     "output_type": "execute_result"
    }
   ],
   "source": [
    "minutes_per_month = calls.groupby(['user_id', 'month']).agg(minutes=('duration', 'sum'))\n",
    "minutes_per_month.head(30)"
   ]
  },
  {
   "cell_type": "markdown",
   "metadata": {
    "tags": [
     "start_task"
    ]
   },
   "source": [
    "___\n",
    "Посчитаем количество отправленных сообщений по месяцам для каждого пользователя:"
   ]
  },
  {
   "cell_type": "code",
   "execution_count": 29,
   "metadata": {
    "deletable": false
   },
   "outputs": [
    {
     "data": {
      "text/html": [
       "<div>\n",
       "<style scoped>\n",
       "    .dataframe tbody tr th:only-of-type {\n",
       "        vertical-align: middle;\n",
       "    }\n",
       "\n",
       "    .dataframe tbody tr th {\n",
       "        vertical-align: top;\n",
       "    }\n",
       "\n",
       "    .dataframe thead th {\n",
       "        text-align: right;\n",
       "    }\n",
       "</style>\n",
       "<table border=\"1\" class=\"dataframe\">\n",
       "  <thead>\n",
       "    <tr style=\"text-align: right;\">\n",
       "      <th></th>\n",
       "      <th></th>\n",
       "      <th>messages</th>\n",
       "    </tr>\n",
       "    <tr>\n",
       "      <th>user_id</th>\n",
       "      <th>month</th>\n",
       "      <th></th>\n",
       "    </tr>\n",
       "  </thead>\n",
       "  <tbody>\n",
       "    <tr>\n",
       "      <th rowspan=\"8\" valign=\"top\">1000</th>\n",
       "      <th>5</th>\n",
       "      <td>22</td>\n",
       "    </tr>\n",
       "    <tr>\n",
       "      <th>6</th>\n",
       "      <td>60</td>\n",
       "    </tr>\n",
       "    <tr>\n",
       "      <th>7</th>\n",
       "      <td>75</td>\n",
       "    </tr>\n",
       "    <tr>\n",
       "      <th>8</th>\n",
       "      <td>81</td>\n",
       "    </tr>\n",
       "    <tr>\n",
       "      <th>9</th>\n",
       "      <td>57</td>\n",
       "    </tr>\n",
       "    <tr>\n",
       "      <th>10</th>\n",
       "      <td>73</td>\n",
       "    </tr>\n",
       "    <tr>\n",
       "      <th>11</th>\n",
       "      <td>58</td>\n",
       "    </tr>\n",
       "    <tr>\n",
       "      <th>12</th>\n",
       "      <td>70</td>\n",
       "    </tr>\n",
       "    <tr>\n",
       "      <th rowspan=\"7\" valign=\"top\">1002</th>\n",
       "      <th>6</th>\n",
       "      <td>4</td>\n",
       "    </tr>\n",
       "    <tr>\n",
       "      <th>7</th>\n",
       "      <td>11</td>\n",
       "    </tr>\n",
       "    <tr>\n",
       "      <th>8</th>\n",
       "      <td>13</td>\n",
       "    </tr>\n",
       "    <tr>\n",
       "      <th>9</th>\n",
       "      <td>4</td>\n",
       "    </tr>\n",
       "    <tr>\n",
       "      <th>10</th>\n",
       "      <td>10</td>\n",
       "    </tr>\n",
       "    <tr>\n",
       "      <th>11</th>\n",
       "      <td>16</td>\n",
       "    </tr>\n",
       "    <tr>\n",
       "      <th>12</th>\n",
       "      <td>12</td>\n",
       "    </tr>\n",
       "    <tr>\n",
       "      <th rowspan=\"5\" valign=\"top\">1003</th>\n",
       "      <th>8</th>\n",
       "      <td>37</td>\n",
       "    </tr>\n",
       "    <tr>\n",
       "      <th>9</th>\n",
       "      <td>91</td>\n",
       "    </tr>\n",
       "    <tr>\n",
       "      <th>10</th>\n",
       "      <td>83</td>\n",
       "    </tr>\n",
       "    <tr>\n",
       "      <th>11</th>\n",
       "      <td>94</td>\n",
       "    </tr>\n",
       "    <tr>\n",
       "      <th>12</th>\n",
       "      <td>75</td>\n",
       "    </tr>\n",
       "    <tr>\n",
       "      <th rowspan=\"8\" valign=\"top\">1004</th>\n",
       "      <th>5</th>\n",
       "      <td>95</td>\n",
       "    </tr>\n",
       "    <tr>\n",
       "      <th>6</th>\n",
       "      <td>134</td>\n",
       "    </tr>\n",
       "    <tr>\n",
       "      <th>7</th>\n",
       "      <td>181</td>\n",
       "    </tr>\n",
       "    <tr>\n",
       "      <th>8</th>\n",
       "      <td>151</td>\n",
       "    </tr>\n",
       "    <tr>\n",
       "      <th>9</th>\n",
       "      <td>146</td>\n",
       "    </tr>\n",
       "    <tr>\n",
       "      <th>10</th>\n",
       "      <td>165</td>\n",
       "    </tr>\n",
       "    <tr>\n",
       "      <th>11</th>\n",
       "      <td>158</td>\n",
       "    </tr>\n",
       "    <tr>\n",
       "      <th>12</th>\n",
       "      <td>162</td>\n",
       "    </tr>\n",
       "    <tr>\n",
       "      <th rowspan=\"2\" valign=\"top\">1005</th>\n",
       "      <th>1</th>\n",
       "      <td>7</td>\n",
       "    </tr>\n",
       "    <tr>\n",
       "      <th>2</th>\n",
       "      <td>38</td>\n",
       "    </tr>\n",
       "  </tbody>\n",
       "</table>\n",
       "</div>"
      ],
      "text/plain": [
       "               messages\n",
       "user_id month          \n",
       "1000    5            22\n",
       "        6            60\n",
       "        7            75\n",
       "        8            81\n",
       "        9            57\n",
       "        10           73\n",
       "        11           58\n",
       "        12           70\n",
       "1002    6             4\n",
       "        7            11\n",
       "        8            13\n",
       "        9             4\n",
       "        10           10\n",
       "        11           16\n",
       "        12           12\n",
       "1003    8            37\n",
       "        9            91\n",
       "        10           83\n",
       "        11           94\n",
       "        12           75\n",
       "1004    5            95\n",
       "        6           134\n",
       "        7           181\n",
       "        8           151\n",
       "        9           146\n",
       "        10          165\n",
       "        11          158\n",
       "        12          162\n",
       "1005    1             7\n",
       "        2            38"
      ]
     },
     "execution_count": 29,
     "metadata": {},
     "output_type": "execute_result"
    }
   ],
   "source": [
    "messages_per_month = messages.groupby(['user_id', 'month']).agg(messages=('message_date', 'count'))\n",
    "messages_per_month.head(30)"
   ]
  },
  {
   "cell_type": "markdown",
   "metadata": {
    "tags": [
     "start_task"
    ]
   },
   "source": [
    "___\n",
    "Посчитаем количество потраченных мегабайт по месяцам для каждого пользователя:"
   ]
  },
  {
   "cell_type": "code",
   "execution_count": 30,
   "metadata": {
    "deletable": false
   },
   "outputs": [
    {
     "data": {
      "text/html": [
       "<div>\n",
       "<style scoped>\n",
       "    .dataframe tbody tr th:only-of-type {\n",
       "        vertical-align: middle;\n",
       "    }\n",
       "\n",
       "    .dataframe tbody tr th {\n",
       "        vertical-align: top;\n",
       "    }\n",
       "\n",
       "    .dataframe thead th {\n",
       "        text-align: right;\n",
       "    }\n",
       "</style>\n",
       "<table border=\"1\" class=\"dataframe\">\n",
       "  <thead>\n",
       "    <tr style=\"text-align: right;\">\n",
       "      <th></th>\n",
       "      <th></th>\n",
       "      <th>mb_used</th>\n",
       "    </tr>\n",
       "    <tr>\n",
       "      <th>user_id</th>\n",
       "      <th>month</th>\n",
       "      <th></th>\n",
       "    </tr>\n",
       "  </thead>\n",
       "  <tbody>\n",
       "    <tr>\n",
       "      <th rowspan=\"8\" valign=\"top\">1000</th>\n",
       "      <th>5</th>\n",
       "      <td>2253.49</td>\n",
       "    </tr>\n",
       "    <tr>\n",
       "      <th>6</th>\n",
       "      <td>23233.77</td>\n",
       "    </tr>\n",
       "    <tr>\n",
       "      <th>7</th>\n",
       "      <td>14003.64</td>\n",
       "    </tr>\n",
       "    <tr>\n",
       "      <th>8</th>\n",
       "      <td>14055.93</td>\n",
       "    </tr>\n",
       "    <tr>\n",
       "      <th>9</th>\n",
       "      <td>14568.91</td>\n",
       "    </tr>\n",
       "    <tr>\n",
       "      <th>10</th>\n",
       "      <td>14702.49</td>\n",
       "    </tr>\n",
       "    <tr>\n",
       "      <th>11</th>\n",
       "      <td>14756.47</td>\n",
       "    </tr>\n",
       "    <tr>\n",
       "      <th>12</th>\n",
       "      <td>9817.61</td>\n",
       "    </tr>\n",
       "    <tr>\n",
       "      <th rowspan=\"2\" valign=\"top\">1001</th>\n",
       "      <th>11</th>\n",
       "      <td>18429.34</td>\n",
       "    </tr>\n",
       "    <tr>\n",
       "      <th>12</th>\n",
       "      <td>14036.66</td>\n",
       "    </tr>\n",
       "    <tr>\n",
       "      <th rowspan=\"7\" valign=\"top\">1002</th>\n",
       "      <th>6</th>\n",
       "      <td>10856.82</td>\n",
       "    </tr>\n",
       "    <tr>\n",
       "      <th>7</th>\n",
       "      <td>17580.10</td>\n",
       "    </tr>\n",
       "    <tr>\n",
       "      <th>8</th>\n",
       "      <td>20319.26</td>\n",
       "    </tr>\n",
       "    <tr>\n",
       "      <th>9</th>\n",
       "      <td>16691.08</td>\n",
       "    </tr>\n",
       "    <tr>\n",
       "      <th>10</th>\n",
       "      <td>13888.25</td>\n",
       "    </tr>\n",
       "    <tr>\n",
       "      <th>11</th>\n",
       "      <td>18587.28</td>\n",
       "    </tr>\n",
       "    <tr>\n",
       "      <th>12</th>\n",
       "      <td>18113.73</td>\n",
       "    </tr>\n",
       "    <tr>\n",
       "      <th rowspan=\"5\" valign=\"top\">1003</th>\n",
       "      <th>8</th>\n",
       "      <td>8565.21</td>\n",
       "    </tr>\n",
       "    <tr>\n",
       "      <th>9</th>\n",
       "      <td>12468.87</td>\n",
       "    </tr>\n",
       "    <tr>\n",
       "      <th>10</th>\n",
       "      <td>14768.14</td>\n",
       "    </tr>\n",
       "    <tr>\n",
       "      <th>11</th>\n",
       "      <td>11356.89</td>\n",
       "    </tr>\n",
       "    <tr>\n",
       "      <th>12</th>\n",
       "      <td>10121.53</td>\n",
       "    </tr>\n",
       "    <tr>\n",
       "      <th rowspan=\"8\" valign=\"top\">1004</th>\n",
       "      <th>5</th>\n",
       "      <td>13403.98</td>\n",
       "    </tr>\n",
       "    <tr>\n",
       "      <th>6</th>\n",
       "      <td>17600.02</td>\n",
       "    </tr>\n",
       "    <tr>\n",
       "      <th>7</th>\n",
       "      <td>22229.58</td>\n",
       "    </tr>\n",
       "    <tr>\n",
       "      <th>8</th>\n",
       "      <td>28584.37</td>\n",
       "    </tr>\n",
       "    <tr>\n",
       "      <th>9</th>\n",
       "      <td>15109.03</td>\n",
       "    </tr>\n",
       "    <tr>\n",
       "      <th>10</th>\n",
       "      <td>18475.44</td>\n",
       "    </tr>\n",
       "    <tr>\n",
       "      <th>11</th>\n",
       "      <td>15616.02</td>\n",
       "    </tr>\n",
       "    <tr>\n",
       "      <th>12</th>\n",
       "      <td>18021.04</td>\n",
       "    </tr>\n",
       "  </tbody>\n",
       "</table>\n",
       "</div>"
      ],
      "text/plain": [
       "                mb_used\n",
       "user_id month          \n",
       "1000    5       2253.49\n",
       "        6      23233.77\n",
       "        7      14003.64\n",
       "        8      14055.93\n",
       "        9      14568.91\n",
       "        10     14702.49\n",
       "        11     14756.47\n",
       "        12      9817.61\n",
       "1001    11     18429.34\n",
       "        12     14036.66\n",
       "1002    6      10856.82\n",
       "        7      17580.10\n",
       "        8      20319.26\n",
       "        9      16691.08\n",
       "        10     13888.25\n",
       "        11     18587.28\n",
       "        12     18113.73\n",
       "1003    8       8565.21\n",
       "        9      12468.87\n",
       "        10     14768.14\n",
       "        11     11356.89\n",
       "        12     10121.53\n",
       "1004    5      13403.98\n",
       "        6      17600.02\n",
       "        7      22229.58\n",
       "        8      28584.37\n",
       "        9      15109.03\n",
       "        10     18475.44\n",
       "        11     15616.02\n",
       "        12     18021.04"
      ]
     },
     "execution_count": 30,
     "metadata": {},
     "output_type": "execute_result"
    }
   ],
   "source": [
    "sessions_per_month = sessions.groupby(['user_id', 'month']).agg({'mb_used':'sum'})\n",
    "sessions_per_month.head(30)"
   ]
  },
  {
   "cell_type": "markdown",
   "metadata": {},
   "source": [
    "#### **Вывод блока:**\n",
    "- Привели столбцы к нужным типам данных.\n",
    "- Удалили столбец `unnamed` из `sessions`.\n",
    "- Добавили новые столбцы: \n",
    "  - столбец `month` с номером месяца во фреймы session\\call\\message,\n",
    "  - для каждого пользователя по месяцам:\n",
    "    - количество израсходованных минут разговора,\n",
    "    - количество отправленных сообщений,\n",
    "    - количество потраченных мегабайт."
   ]
  },
  {
   "cell_type": "markdown",
   "metadata": {
    "deletable": false,
    "editable": false
   },
   "source": [
    "### Анализ данных и подсчёт выручки"
   ]
  },
  {
   "cell_type": "markdown",
   "metadata": {},
   "source": [
    "___\n",
    "#### Объединение значений:"
   ]
  },
  {
   "cell_type": "markdown",
   "metadata": {},
   "source": [
    "Объединим все посчитанные выше значения в один датафрейм `user_behavior`.\n",
    "Для каждой пары \"пользователь - месяц\" будут доступны информация о тарифе, количестве звонков, сообщений и потраченных мегабайтах."
   ]
  },
  {
   "cell_type": "code",
   "execution_count": 31,
   "metadata": {
    "deletable": false
   },
   "outputs": [
    {
     "data": {
      "text/plain": [
       "7.6"
      ]
     },
     "execution_count": 31,
     "metadata": {},
     "output_type": "execute_result"
    }
   ],
   "source": [
    "users['churn_date'].count() / users['churn_date'].shape[0] * 100"
   ]
  },
  {
   "cell_type": "markdown",
   "metadata": {
    "deletable": false,
    "editable": false
   },
   "source": [
    "Расторгли договор 7.6% клиентов из датасета"
   ]
  },
  {
   "cell_type": "code",
   "execution_count": 32,
   "metadata": {
    "deletable": false
   },
   "outputs": [
    {
     "data": {
      "text/html": [
       "<div>\n",
       "<style scoped>\n",
       "    .dataframe tbody tr th:only-of-type {\n",
       "        vertical-align: middle;\n",
       "    }\n",
       "\n",
       "    .dataframe tbody tr th {\n",
       "        vertical-align: top;\n",
       "    }\n",
       "\n",
       "    .dataframe thead th {\n",
       "        text-align: right;\n",
       "    }\n",
       "</style>\n",
       "<table border=\"1\" class=\"dataframe\">\n",
       "  <thead>\n",
       "    <tr style=\"text-align: right;\">\n",
       "      <th></th>\n",
       "      <th>user_id</th>\n",
       "      <th>month</th>\n",
       "      <th>calls</th>\n",
       "      <th>messages</th>\n",
       "      <th>mb_used</th>\n",
       "      <th>minutes</th>\n",
       "      <th>age</th>\n",
       "      <th>churn_date</th>\n",
       "      <th>city</th>\n",
       "      <th>first_name</th>\n",
       "      <th>last_name</th>\n",
       "      <th>reg_date</th>\n",
       "      <th>tariff</th>\n",
       "    </tr>\n",
       "  </thead>\n",
       "  <tbody>\n",
       "    <tr>\n",
       "      <th>0</th>\n",
       "      <td>1000</td>\n",
       "      <td>5</td>\n",
       "      <td>22.0</td>\n",
       "      <td>22.0</td>\n",
       "      <td>2253.49</td>\n",
       "      <td>159.0</td>\n",
       "      <td>52</td>\n",
       "      <td>NaT</td>\n",
       "      <td>Краснодар</td>\n",
       "      <td>Рафаил</td>\n",
       "      <td>Верещагин</td>\n",
       "      <td>2018-05-25</td>\n",
       "      <td>ultra</td>\n",
       "    </tr>\n",
       "    <tr>\n",
       "      <th>1</th>\n",
       "      <td>1000</td>\n",
       "      <td>6</td>\n",
       "      <td>43.0</td>\n",
       "      <td>60.0</td>\n",
       "      <td>23233.77</td>\n",
       "      <td>172.0</td>\n",
       "      <td>52</td>\n",
       "      <td>NaT</td>\n",
       "      <td>Краснодар</td>\n",
       "      <td>Рафаил</td>\n",
       "      <td>Верещагин</td>\n",
       "      <td>2018-05-25</td>\n",
       "      <td>ultra</td>\n",
       "    </tr>\n",
       "    <tr>\n",
       "      <th>2</th>\n",
       "      <td>1000</td>\n",
       "      <td>7</td>\n",
       "      <td>47.0</td>\n",
       "      <td>75.0</td>\n",
       "      <td>14003.64</td>\n",
       "      <td>340.0</td>\n",
       "      <td>52</td>\n",
       "      <td>NaT</td>\n",
       "      <td>Краснодар</td>\n",
       "      <td>Рафаил</td>\n",
       "      <td>Верещагин</td>\n",
       "      <td>2018-05-25</td>\n",
       "      <td>ultra</td>\n",
       "    </tr>\n",
       "    <tr>\n",
       "      <th>3</th>\n",
       "      <td>1000</td>\n",
       "      <td>8</td>\n",
       "      <td>52.0</td>\n",
       "      <td>81.0</td>\n",
       "      <td>14055.93</td>\n",
       "      <td>408.0</td>\n",
       "      <td>52</td>\n",
       "      <td>NaT</td>\n",
       "      <td>Краснодар</td>\n",
       "      <td>Рафаил</td>\n",
       "      <td>Верещагин</td>\n",
       "      <td>2018-05-25</td>\n",
       "      <td>ultra</td>\n",
       "    </tr>\n",
       "    <tr>\n",
       "      <th>4</th>\n",
       "      <td>1000</td>\n",
       "      <td>9</td>\n",
       "      <td>58.0</td>\n",
       "      <td>57.0</td>\n",
       "      <td>14568.91</td>\n",
       "      <td>466.0</td>\n",
       "      <td>52</td>\n",
       "      <td>NaT</td>\n",
       "      <td>Краснодар</td>\n",
       "      <td>Рафаил</td>\n",
       "      <td>Верещагин</td>\n",
       "      <td>2018-05-25</td>\n",
       "      <td>ultra</td>\n",
       "    </tr>\n",
       "  </tbody>\n",
       "</table>\n",
       "</div>"
      ],
      "text/plain": [
       "   user_id  month  calls  messages   mb_used  minutes  age churn_date  \\\n",
       "0     1000      5   22.0      22.0   2253.49    159.0   52        NaT   \n",
       "1     1000      6   43.0      60.0  23233.77    172.0   52        NaT   \n",
       "2     1000      7   47.0      75.0  14003.64    340.0   52        NaT   \n",
       "3     1000      8   52.0      81.0  14055.93    408.0   52        NaT   \n",
       "4     1000      9   58.0      57.0  14568.91    466.0   52        NaT   \n",
       "\n",
       "        city first_name  last_name   reg_date tariff  \n",
       "0  Краснодар     Рафаил  Верещагин 2018-05-25  ultra  \n",
       "1  Краснодар     Рафаил  Верещагин 2018-05-25  ultra  \n",
       "2  Краснодар     Рафаил  Верещагин 2018-05-25  ultra  \n",
       "3  Краснодар     Рафаил  Верещагин 2018-05-25  ultra  \n",
       "4  Краснодар     Рафаил  Верещагин 2018-05-25  ultra  "
      ]
     },
     "execution_count": 32,
     "metadata": {},
     "output_type": "execute_result"
    }
   ],
   "source": [
    "user_behavior = calls_per_month\\\n",
    "    .merge(messages_per_month, left_index=True, right_index=True, how='outer')\\\n",
    "    .merge(sessions_per_month, left_index=True, right_index=True, how='outer')\\\n",
    "    .merge(minutes_per_month, left_index=True, right_index=True, how='outer')\\\n",
    "    .reset_index()\\\n",
    "    .merge(users, how='left', left_on='user_id', right_on='user_id')\\\n",
    "\n",
    "user_behavior.head()"
   ]
  },
  {
   "cell_type": "markdown",
   "metadata": {},
   "source": [
    "___\n",
    "Проверим пропуски в таблице `user_behavior` после объединения:"
   ]
  },
  {
   "cell_type": "code",
   "execution_count": 33,
   "metadata": {
    "deletable": false
   },
   "outputs": [
    {
     "data": {
      "text/plain": [
       "user_id          0\n",
       "month            0\n",
       "calls           40\n",
       "messages       497\n",
       "mb_used         11\n",
       "minutes         40\n",
       "age              0\n",
       "churn_date    3027\n",
       "city             0\n",
       "first_name       0\n",
       "last_name        0\n",
       "reg_date         0\n",
       "tariff           0\n",
       "dtype: int64"
      ]
     },
     "execution_count": 33,
     "metadata": {},
     "output_type": "execute_result"
    }
   ],
   "source": [
    "user_behavior.isna().sum()"
   ]
  },
  {
   "cell_type": "markdown",
   "metadata": {},
   "source": [
    "___\n",
    "Заполним образовавшиеся пропуски в данных:"
   ]
  },
  {
   "cell_type": "code",
   "execution_count": 34,
   "metadata": {
    "deletable": false
   },
   "outputs": [],
   "source": [
    "user_behavior['calls'] = user_behavior['calls'].fillna(0)\n",
    "user_behavior['minutes'] = user_behavior['minutes'].fillna(0)\n",
    "user_behavior['messages'] = user_behavior['messages'].fillna(0)\n",
    "user_behavior['mb_used'] = user_behavior['mb_used'].fillna(0)"
   ]
  },
  {
   "cell_type": "markdown",
   "metadata": {},
   "source": [
    "___\n",
    "Присоединяем информацию о тарифах"
   ]
  },
  {
   "cell_type": "code",
   "execution_count": 35,
   "metadata": {
    "deletable": false
   },
   "outputs": [],
   "source": [
    "# переименование столбца tariff_name на более простое tariff\n",
    "\n",
    "tariffs = tariffs.rename(\n",
    "    columns={\n",
    "        'tariff_name': 'tariff'\n",
    "    }\n",
    ")"
   ]
  },
  {
   "cell_type": "code",
   "execution_count": 36,
   "metadata": {
    "deletable": false
   },
   "outputs": [],
   "source": [
    "user_behavior = user_behavior.merge(tariffs, on='tariff')"
   ]
  },
  {
   "cell_type": "markdown",
   "metadata": {},
   "source": [
    "___\n",
    "Считаем количество минут разговора, сообщений и мегабайт, превышающих включенные в тариф:\n"
   ]
  },
  {
   "cell_type": "code",
   "execution_count": 37,
   "metadata": {
    "deletable": false
   },
   "outputs": [],
   "source": [
    "user_behavior['paid_minutes'] = user_behavior['minutes'] - user_behavior['minutes_included']\n",
    "user_behavior['paid_messages'] = user_behavior['messages'] - user_behavior['messages_included']\n",
    "user_behavior['paid_mb'] = user_behavior['mb_used'] - user_behavior['mb_per_month_included']\n",
    "\n",
    "for col in ['paid_messages', 'paid_minutes', 'paid_mb']:\n",
    "    user_behavior.loc[user_behavior[col] < 0, col] = 0"
   ]
  },
  {
   "cell_type": "markdown",
   "metadata": {},
   "source": [
    "___\n",
    "Переводим превышающие тариф мегабайты в гигабайты и сохраняем в столбец `paid_gb`:"
   ]
  },
  {
   "cell_type": "code",
   "execution_count": 38,
   "metadata": {
    "deletable": false
   },
   "outputs": [],
   "source": [
    "user_behavior['paid_gb'] = np.ceil(user_behavior['paid_mb'] / 1024).astype(int)"
   ]
  },
  {
   "cell_type": "markdown",
   "metadata": {},
   "source": [
    "___\n",
    "Считаем выручку за минуты разговора, сообщения и интернет:"
   ]
  },
  {
   "cell_type": "code",
   "execution_count": 39,
   "metadata": {
    "deletable": false
   },
   "outputs": [],
   "source": [
    "user_behavior['cost_minutes'] = user_behavior['paid_minutes'] * user_behavior['rub_per_minute']\n",
    "user_behavior['cost_messages'] = user_behavior['paid_messages'] * user_behavior['rub_per_message']\n",
    "user_behavior['cost_gb'] = user_behavior['paid_gb'] * user_behavior['rub_per_gb']"
   ]
  },
  {
   "cell_type": "markdown",
   "metadata": {},
   "source": [
    "___\n",
    "Считаем помесячную выручку с каждого пользователя, она будет храниться в столбец `total_cost`:"
   ]
  },
  {
   "cell_type": "code",
   "execution_count": 40,
   "metadata": {
    "deletable": false
   },
   "outputs": [],
   "source": [
    "user_behavior['total_cost'] = \\\n",
    "      user_behavior['rub_monthly_fee']\\\n",
    "    + user_behavior['cost_minutes']\\\n",
    "    + user_behavior['cost_messages']\\\n",
    "    + user_behavior['cost_gb']"
   ]
  },
  {
   "cell_type": "markdown",
   "metadata": {},
   "source": [
    "___\n",
    "Датафрейм `stats_df` для каждой пары \"месяц-тариф\" будет хранить основные характеристики:"
   ]
  },
  {
   "cell_type": "code",
   "execution_count": 41,
   "metadata": {
    "deletable": false
   },
   "outputs": [
    {
     "data": {
      "text/html": [
       "<div>\n",
       "<style scoped>\n",
       "    .dataframe tbody tr th:only-of-type {\n",
       "        vertical-align: middle;\n",
       "    }\n",
       "\n",
       "    .dataframe tbody tr th {\n",
       "        vertical-align: top;\n",
       "    }\n",
       "\n",
       "    .dataframe thead th {\n",
       "        text-align: right;\n",
       "    }\n",
       "</style>\n",
       "<table border=\"1\" class=\"dataframe\">\n",
       "  <thead>\n",
       "    <tr style=\"text-align: right;\">\n",
       "      <th></th>\n",
       "      <th>month</th>\n",
       "      <th>tariff</th>\n",
       "      <th>calls_mean</th>\n",
       "      <th>sessions_mean</th>\n",
       "      <th>messages_mean</th>\n",
       "      <th>minutes_mean</th>\n",
       "      <th>calls_std</th>\n",
       "      <th>sessions_std</th>\n",
       "      <th>messages_std</th>\n",
       "      <th>minutes_std</th>\n",
       "      <th>calls_median</th>\n",
       "      <th>sessions_median</th>\n",
       "      <th>messages_median</th>\n",
       "      <th>minutes_median</th>\n",
       "    </tr>\n",
       "  </thead>\n",
       "  <tbody>\n",
       "    <tr>\n",
       "      <th>0</th>\n",
       "      <td>1</td>\n",
       "      <td>smart</td>\n",
       "      <td>27.68</td>\n",
       "      <td>8513.72</td>\n",
       "      <td>18.24</td>\n",
       "      <td>203.85</td>\n",
       "      <td>20.81</td>\n",
       "      <td>6444.68</td>\n",
       "      <td>16.20</td>\n",
       "      <td>154.23</td>\n",
       "      <td>20.5</td>\n",
       "      <td>7096.18</td>\n",
       "      <td>15.0</td>\n",
       "      <td>162.5</td>\n",
       "    </tr>\n",
       "    <tr>\n",
       "      <th>1</th>\n",
       "      <td>1</td>\n",
       "      <td>ultra</td>\n",
       "      <td>59.44</td>\n",
       "      <td>13140.68</td>\n",
       "      <td>33.78</td>\n",
       "      <td>428.11</td>\n",
       "      <td>41.64</td>\n",
       "      <td>6865.35</td>\n",
       "      <td>30.67</td>\n",
       "      <td>269.76</td>\n",
       "      <td>51.0</td>\n",
       "      <td>14791.37</td>\n",
       "      <td>32.0</td>\n",
       "      <td>382.0</td>\n",
       "    </tr>\n",
       "    <tr>\n",
       "      <th>2</th>\n",
       "      <td>2</td>\n",
       "      <td>smart</td>\n",
       "      <td>40.19</td>\n",
       "      <td>11597.05</td>\n",
       "      <td>24.09</td>\n",
       "      <td>298.69</td>\n",
       "      <td>25.39</td>\n",
       "      <td>6247.35</td>\n",
       "      <td>21.75</td>\n",
       "      <td>190.82</td>\n",
       "      <td>38.5</td>\n",
       "      <td>12553.71</td>\n",
       "      <td>20.0</td>\n",
       "      <td>258.0</td>\n",
       "    </tr>\n",
       "    <tr>\n",
       "      <th>3</th>\n",
       "      <td>2</td>\n",
       "      <td>ultra</td>\n",
       "      <td>41.54</td>\n",
       "      <td>11775.94</td>\n",
       "      <td>21.96</td>\n",
       "      <td>297.12</td>\n",
       "      <td>40.97</td>\n",
       "      <td>10644.64</td>\n",
       "      <td>26.77</td>\n",
       "      <td>296.51</td>\n",
       "      <td>25.0</td>\n",
       "      <td>7327.12</td>\n",
       "      <td>5.5</td>\n",
       "      <td>168.0</td>\n",
       "    </tr>\n",
       "    <tr>\n",
       "      <th>4</th>\n",
       "      <td>3</td>\n",
       "      <td>smart</td>\n",
       "      <td>54.32</td>\n",
       "      <td>15104.16</td>\n",
       "      <td>31.86</td>\n",
       "      <td>390.05</td>\n",
       "      <td>25.54</td>\n",
       "      <td>5828.24</td>\n",
       "      <td>26.80</td>\n",
       "      <td>191.89</td>\n",
       "      <td>59.0</td>\n",
       "      <td>15670.25</td>\n",
       "      <td>23.0</td>\n",
       "      <td>409.0</td>\n",
       "    </tr>\n",
       "    <tr>\n",
       "      <th>5</th>\n",
       "      <td>3</td>\n",
       "      <td>ultra</td>\n",
       "      <td>67.68</td>\n",
       "      <td>17535.55</td>\n",
       "      <td>32.30</td>\n",
       "      <td>489.65</td>\n",
       "      <td>44.84</td>\n",
       "      <td>10951.79</td>\n",
       "      <td>41.62</td>\n",
       "      <td>333.74</td>\n",
       "      <td>57.0</td>\n",
       "      <td>17495.18</td>\n",
       "      <td>20.0</td>\n",
       "      <td>403.0</td>\n",
       "    </tr>\n",
       "    <tr>\n",
       "      <th>6</th>\n",
       "      <td>4</td>\n",
       "      <td>smart</td>\n",
       "      <td>51.31</td>\n",
       "      <td>13462.18</td>\n",
       "      <td>30.74</td>\n",
       "      <td>367.13</td>\n",
       "      <td>25.70</td>\n",
       "      <td>5698.25</td>\n",
       "      <td>24.54</td>\n",
       "      <td>186.49</td>\n",
       "      <td>52.0</td>\n",
       "      <td>14087.65</td>\n",
       "      <td>28.0</td>\n",
       "      <td>368.5</td>\n",
       "    </tr>\n",
       "    <tr>\n",
       "      <th>7</th>\n",
       "      <td>4</td>\n",
       "      <td>ultra</td>\n",
       "      <td>64.09</td>\n",
       "      <td>16828.13</td>\n",
       "      <td>31.56</td>\n",
       "      <td>458.02</td>\n",
       "      <td>36.27</td>\n",
       "      <td>9718.65</td>\n",
       "      <td>37.51</td>\n",
       "      <td>267.68</td>\n",
       "      <td>61.0</td>\n",
       "      <td>16645.78</td>\n",
       "      <td>17.0</td>\n",
       "      <td>453.0</td>\n",
       "    </tr>\n",
       "    <tr>\n",
       "      <th>8</th>\n",
       "      <td>5</td>\n",
       "      <td>smart</td>\n",
       "      <td>55.24</td>\n",
       "      <td>15805.18</td>\n",
       "      <td>33.77</td>\n",
       "      <td>387.36</td>\n",
       "      <td>25.38</td>\n",
       "      <td>5978.23</td>\n",
       "      <td>27.04</td>\n",
       "      <td>186.60</td>\n",
       "      <td>59.0</td>\n",
       "      <td>16323.94</td>\n",
       "      <td>30.0</td>\n",
       "      <td>433.0</td>\n",
       "    </tr>\n",
       "    <tr>\n",
       "      <th>9</th>\n",
       "      <td>5</td>\n",
       "      <td>ultra</td>\n",
       "      <td>72.51</td>\n",
       "      <td>19363.15</td>\n",
       "      <td>37.85</td>\n",
       "      <td>510.33</td>\n",
       "      <td>41.08</td>\n",
       "      <td>10046.11</td>\n",
       "      <td>40.31</td>\n",
       "      <td>289.60</td>\n",
       "      <td>75.0</td>\n",
       "      <td>18696.43</td>\n",
       "      <td>25.0</td>\n",
       "      <td>519.0</td>\n",
       "    </tr>\n",
       "  </tbody>\n",
       "</table>\n",
       "</div>"
      ],
      "text/plain": [
       "   month tariff  calls_mean  sessions_mean  messages_mean  minutes_mean  \\\n",
       "0      1  smart       27.68        8513.72          18.24        203.85   \n",
       "1      1  ultra       59.44       13140.68          33.78        428.11   \n",
       "2      2  smart       40.19       11597.05          24.09        298.69   \n",
       "3      2  ultra       41.54       11775.94          21.96        297.12   \n",
       "4      3  smart       54.32       15104.16          31.86        390.05   \n",
       "5      3  ultra       67.68       17535.55          32.30        489.65   \n",
       "6      4  smart       51.31       13462.18          30.74        367.13   \n",
       "7      4  ultra       64.09       16828.13          31.56        458.02   \n",
       "8      5  smart       55.24       15805.18          33.77        387.36   \n",
       "9      5  ultra       72.51       19363.15          37.85        510.33   \n",
       "\n",
       "   calls_std  sessions_std  messages_std  minutes_std  calls_median  \\\n",
       "0      20.81       6444.68         16.20       154.23          20.5   \n",
       "1      41.64       6865.35         30.67       269.76          51.0   \n",
       "2      25.39       6247.35         21.75       190.82          38.5   \n",
       "3      40.97      10644.64         26.77       296.51          25.0   \n",
       "4      25.54       5828.24         26.80       191.89          59.0   \n",
       "5      44.84      10951.79         41.62       333.74          57.0   \n",
       "6      25.70       5698.25         24.54       186.49          52.0   \n",
       "7      36.27       9718.65         37.51       267.68          61.0   \n",
       "8      25.38       5978.23         27.04       186.60          59.0   \n",
       "9      41.08      10046.11         40.31       289.60          75.0   \n",
       "\n",
       "   sessions_median  messages_median  minutes_median  \n",
       "0          7096.18             15.0           162.5  \n",
       "1         14791.37             32.0           382.0  \n",
       "2         12553.71             20.0           258.0  \n",
       "3          7327.12              5.5           168.0  \n",
       "4         15670.25             23.0           409.0  \n",
       "5         17495.18             20.0           403.0  \n",
       "6         14087.65             28.0           368.5  \n",
       "7         16645.78             17.0           453.0  \n",
       "8         16323.94             30.0           433.0  \n",
       "9         18696.43             25.0           519.0  "
      ]
     },
     "execution_count": 41,
     "metadata": {},
     "output_type": "execute_result"
    }
   ],
   "source": [
    "# сохранение статистических метрик для каждой пары месяц-тариф\n",
    "# в таблице stats_df (среднее значение, стандартное отклонение, медиана)\n",
    "\n",
    "stats_df = user_behavior.pivot_table(\n",
    "            index=['month', 'tariff'],\\\n",
    "            values=['calls', 'minutes', 'messages', 'mb_used'],\\\n",
    "            aggfunc=['mean', 'std', 'median']\\\n",
    ").round(2).reset_index()\n",
    "\n",
    "stats_df.columns=['month', 'tariff', 'calls_mean', 'sessions_mean', 'messages_mean', 'minutes_mean',\n",
    "                                     'calls_std',  'sessions_std', 'messages_std', 'minutes_std', \n",
    "                                     'calls_median', 'sessions_median', 'messages_median',  'minutes_median']\n",
    "\n",
    "stats_df.head(10)"
   ]
  },
  {
   "cell_type": "markdown",
   "metadata": {},
   "source": [
    "___\n",
    "#### Распределение среднего количества звонков по видам тарифов и месяцам:"
   ]
  },
  {
   "cell_type": "code",
   "execution_count": 42,
   "metadata": {
    "deletable": false
   },
   "outputs": [
    {
     "data": {
      "image/png": "[encoded data removed]",
      "text/plain": [
       "<Figure size 432x288 with 1 Axes>"
      ]
     },
     "metadata": {
      "needs_background": "light"
     },
     "output_type": "display_data"
    }
   ],
   "source": [
    "ax = sns.barplot(x='month',\n",
    "            y='calls_mean',\n",
    "            hue=\"tariff\",\n",
    "            data=stats_df,\n",
    "            palette=['lightblue', 'blue'])\n",
    "\n",
    "ax.set_title('Распределение количества звонков по видам тарифов и месяцам')\n",
    "ax.set(xlabel='Номер месяца', ylabel='Среднее количество звонков');"
   ]
  },
  {
   "cell_type": "code",
   "execution_count": 43,
   "metadata": {
    "deletable": false
   },
   "outputs": [
    {
     "data": {
      "image/png": "[encoded data removed]",
      "text/plain": [
       "<Figure size 432x288 with 1 Axes>"
      ]
     },
     "metadata": {
      "needs_background": "light"
     },
     "output_type": "display_data"
    }
   ],
   "source": [
    "user_behavior.groupby('tariff')['calls'].plot(kind='hist', bins=35, alpha=0.5)\n",
    "plt.legend(['Smart', 'Ultra'])\n",
    "plt.xlabel('Количество звонков')\n",
    "plt.ylabel('Количество клиентов')\n",
    "plt.show()"
   ]
  },
  {
   "cell_type": "markdown",
   "metadata": {},
   "source": [
    "___\n",
    "#### Распределение средней продолжительности звонков по видам тарифов и месяцам:"
   ]
  },
  {
   "cell_type": "code",
   "execution_count": 44,
   "metadata": {
    "deletable": false
   },
   "outputs": [
    {
     "data": {
      "image/png": "[encoded data removed]",
      "text/plain": [
       "<Figure size 432x288 with 1 Axes>"
      ]
     },
     "metadata": {
      "needs_background": "light"
     },
     "output_type": "display_data"
    }
   ],
   "source": [
    "ax = sns.barplot(x='month',\n",
    "            y='minutes_mean',\n",
    "            hue=\"tariff\",\n",
    "            data=stats_df,\n",
    "            palette=['lightblue', 'blue'])\n",
    "\n",
    "ax.set_title('Распределение продолжительности звонков по видам тарифов и месяцам')\n",
    "ax.set(xlabel='Номер месяца', ylabel='Средняя продолжительность звонков');"
   ]
  },
  {
   "cell_type": "code",
   "execution_count": 45,
   "metadata": {
    "deletable": false
   },
   "outputs": [
    {
     "data": {
      "image/png": "[encoded data removed]",
      "text/plain": [
       "<Figure size 432x288 with 1 Axes>"
      ]
     },
     "metadata": {
      "needs_background": "light"
     },
     "output_type": "display_data"
    }
   ],
   "source": [
    "user_behavior[user_behavior['tariff'] =='smart']['minutes'].hist(bins=35, alpha=0.5, color='green')\n",
    "user_behavior[user_behavior['tariff'] =='ultra']['minutes'].hist(bins=35, alpha=0.5, color='blue');"
   ]
  },
  {
   "cell_type": "markdown",
   "metadata": {
    "deletable": false,
    "editable": false
   },
   "source": [
    "Средняя длительность разговоров у абонентов тарифа Ultra больше, чем у абонентов тарифа Smart. В течение года пользователи обоих тарифов увеличивают среднюю продолжительность своих разговоров. Рост средней длительности разговоров у абонентов тарифа Smart равномерный в течение года. Пользователи тарифа Ultra не проявляют подобной линейной стабильности. Стоит отметить, что феврале у абонентов обоих тарифных планов наблюдались самые низкие показатели."
   ]
  },
  {
   "cell_type": "markdown",
   "metadata": {},
   "source": [
    "___\n",
    "#### Распределение среднего количества сообщений по видам тарифов и месяцам"
   ]
  },
  {
   "cell_type": "code",
   "execution_count": 46,
   "metadata": {
    "deletable": false
   },
   "outputs": [
    {
     "data": {
      "image/png": "[encoded data removed]",
      "text/plain": [
       "<Figure size 432x288 with 1 Axes>"
      ]
     },
     "metadata": {
      "needs_background": "light"
     },
     "output_type": "display_data"
    }
   ],
   "source": [
    "ax = sns.barplot(x='month',\n",
    "            y='messages_mean',\n",
    "            hue=\"tariff\",\n",
    "            data=stats_df,\n",
    "            palette=['lightblue', 'blue']\n",
    ")\n",
    "\n",
    "ax.set_title('Распределение количества сообщений по видам тарифов и месяцам')\n",
    "ax.set(xlabel='Номер месяца', ylabel='Среднее количество сообщений');"
   ]
  },
  {
   "cell_type": "code",
   "execution_count": 47,
   "metadata": {
    "deletable": false
   },
   "outputs": [
    {
     "data": {
      "image/png": "[encoded data removed]",
      "text/plain": [
       "<Figure size 432x288 with 1 Axes>"
      ]
     },
     "metadata": {
      "needs_background": "light"
     },
     "output_type": "display_data"
    }
   ],
   "source": [
    "user_behavior[user_behavior['tariff'] =='smart']['messages'].hist(bins=35, alpha=0.5, color='green')\n",
    "user_behavior[user_behavior['tariff'] =='ultra']['messages'].hist(bins=35, alpha=0.5, color='blue');"
   ]
  },
  {
   "cell_type": "markdown",
   "metadata": {},
   "source": [
    "В среднем количество сообщений пользователи тарифа Ultra отправляют больше - почти на 20 сообщений больше, чем пользователи тарифа Smart. Количество сообщений в течение года на обоих тарифак растет. Динамика по отправке сообщений схожа с тенденциями по длительности разговоров: в феврале отмечено наименьшее количество сообщений за год и пользователи тарифа Ultra также проявляют нелинейную положительную динамику."
   ]
  },
  {
   "cell_type": "markdown",
   "metadata": {},
   "source": [
    "___\n",
    "#### Сравнение потраченных мегабайт среди пользователей тарифов Smart и Ultra:"
   ]
  },
  {
   "cell_type": "code",
   "execution_count": 48,
   "metadata": {
    "deletable": false
   },
   "outputs": [
    {
     "data": {
      "image/png": "[encoded data removed]",
      "text/plain": [
       "<Figure size 432x288 with 1 Axes>"
      ]
     },
     "metadata": {
      "needs_background": "light"
     },
     "output_type": "display_data"
    }
   ],
   "source": [
    "ax = sns.barplot(x='month',\n",
    "            y='sessions_mean',\n",
    "            hue=\"tariff\",\n",
    "            data=stats_df,\n",
    "            palette=['lightblue', 'blue']\n",
    ")\n",
    "\n",
    "ax.set_title('Распределение количества потраченного трафика (Мб) по видам тарифов и месяцам')\n",
    "ax.set(xlabel='Номер месяца', ylabel='Среднее количество мегабайт');"
   ]
  },
  {
   "cell_type": "code",
   "execution_count": 49,
   "metadata": {
    "deletable": false
   },
   "outputs": [
    {
     "data": {
      "image/png": "[encoded data removed]",
      "text/plain": [
       "<Figure size 432x288 with 1 Axes>"
      ]
     },
     "metadata": {
      "needs_background": "light"
     },
     "output_type": "display_data"
    }
   ],
   "source": [
    "user_behavior[user_behavior['tariff'] =='smart']['mb_used'].hist(bins=35, alpha=0.5, color='green')\n",
    "user_behavior[user_behavior['tariff'] =='ultra']['mb_used'].hist(bins=35, alpha=0.5, color='blue');"
   ]
  },
  {
   "cell_type": "markdown",
   "metadata": {
    "deletable": false,
    "editable": false
   },
   "source": [
    "Меньше всего пользователи использовали интернет в январе, феврале и апреле. Чаще всего абоненты тарифа Smart тратят 15-17 Гб, а абоненты тарифного плана Ultra - 19-21 ГБ."
   ]
  },
  {
   "cell_type": "markdown",
   "metadata": {
    "deletable": false,
    "editable": false
   },
   "source": [
    "### Проверка гипотез"
   ]
  },
  {
   "cell_type": "markdown",
   "metadata": {
    "tags": [
     "start_task"
    ]
   },
   "source": [
    "Проверка гипотезы №1: средняя выручка пользователей тарифов «Ультра» и «Смарт» различаются;\n",
    "\n",
    "```\n",
    "H_0: Выручка (total_cost) пользователей \"Ультра\" = выручка (total_cost) пользователей \"Смарт\"`\n",
    "H_a: Выручка (total_cost) пользователей \"Ультра\" ≠ выручка (total_cost) пользователей \"Смарт\"`\n",
    "alpha = 0.05\n",
    "```"
   ]
  },
  {
   "cell_type": "code",
   "execution_count": 50,
   "metadata": {
    "deletable": false
   },
   "outputs": [
    {
     "name": "stdout",
     "output_type": "stream",
     "text": [
      "4.2606313931076085e-250\n",
      "Отвергаем нулевую гипотезу\n"
     ]
    }
   ],
   "source": [
    "s = user_behavior[user_behavior['tariff'] == 'smart']['total_cost']\n",
    "s1 = user_behavior[user_behavior['tariff'] == 'ultra']['total_cost']\n",
    "\n",
    "#вызов метода для проверки гипотезы\n",
    "results = st.ttest_ind(s, s1, equal_var=False) \n",
    "\n",
    "alpha = .05 #задаем значение уровня значимости\n",
    "\n",
    "print(results.pvalue)\n",
    "\n",
    "if (results.pvalue < alpha):\n",
    "    print('Отвергаем нулевую гипотезу')\n",
    "else:\n",
    "    print('Не получилось отвергнуть нулевую гипотезу')"
   ]
  },
  {
   "cell_type": "markdown",
   "metadata": {
    "tags": [
     "start_task"
    ]
   },
   "source": [
    "Проверка гипотезы №2: пользователи из Москвы приносят больше выручки, чем пользователи из других городов;\n",
    "\n",
    "```\n",
    "H_0: Выручка (total_cost) пользователей из Москвы = выручка (total_cost) пользователей не из Москвы`\n",
    "H_1: Выручка (total_cost) пользователей из Москвы ≠ выручка (total_cost) пользователей не из Москвы`\n",
    "alpha = 0.05\n",
    "```"
   ]
  },
  {
   "cell_type": "code",
   "execution_count": 51,
   "metadata": {},
   "outputs": [
    {
     "data": {
      "text/html": [
       "<div>\n",
       "<style scoped>\n",
       "    .dataframe tbody tr th:only-of-type {\n",
       "        vertical-align: middle;\n",
       "    }\n",
       "\n",
       "    .dataframe tbody tr th {\n",
       "        vertical-align: top;\n",
       "    }\n",
       "\n",
       "    .dataframe thead th {\n",
       "        text-align: right;\n",
       "    }\n",
       "</style>\n",
       "<table border=\"1\" class=\"dataframe\">\n",
       "  <thead>\n",
       "    <tr style=\"text-align: right;\">\n",
       "      <th></th>\n",
       "      <th>user_id</th>\n",
       "      <th>month</th>\n",
       "      <th>calls</th>\n",
       "      <th>messages</th>\n",
       "      <th>mb_used</th>\n",
       "      <th>minutes</th>\n",
       "      <th>age</th>\n",
       "      <th>churn_date</th>\n",
       "      <th>city</th>\n",
       "      <th>first_name</th>\n",
       "      <th>...</th>\n",
       "      <th>rub_per_message</th>\n",
       "      <th>rub_per_minute</th>\n",
       "      <th>paid_minutes</th>\n",
       "      <th>paid_messages</th>\n",
       "      <th>paid_mb</th>\n",
       "      <th>paid_gb</th>\n",
       "      <th>cost_minutes</th>\n",
       "      <th>cost_messages</th>\n",
       "      <th>cost_gb</th>\n",
       "      <th>total_cost</th>\n",
       "    </tr>\n",
       "  </thead>\n",
       "  <tbody>\n",
       "    <tr>\n",
       "      <th>0</th>\n",
       "      <td>1000</td>\n",
       "      <td>5</td>\n",
       "      <td>22.0</td>\n",
       "      <td>22.0</td>\n",
       "      <td>2253.49</td>\n",
       "      <td>159.0</td>\n",
       "      <td>52</td>\n",
       "      <td>NaT</td>\n",
       "      <td>Краснодар</td>\n",
       "      <td>Рафаил</td>\n",
       "      <td>...</td>\n",
       "      <td>1</td>\n",
       "      <td>1</td>\n",
       "      <td>0.0</td>\n",
       "      <td>0.0</td>\n",
       "      <td>0.00</td>\n",
       "      <td>0</td>\n",
       "      <td>0.0</td>\n",
       "      <td>0.0</td>\n",
       "      <td>0</td>\n",
       "      <td>1950.0</td>\n",
       "    </tr>\n",
       "    <tr>\n",
       "      <th>1</th>\n",
       "      <td>1000</td>\n",
       "      <td>6</td>\n",
       "      <td>43.0</td>\n",
       "      <td>60.0</td>\n",
       "      <td>23233.77</td>\n",
       "      <td>172.0</td>\n",
       "      <td>52</td>\n",
       "      <td>NaT</td>\n",
       "      <td>Краснодар</td>\n",
       "      <td>Рафаил</td>\n",
       "      <td>...</td>\n",
       "      <td>1</td>\n",
       "      <td>1</td>\n",
       "      <td>0.0</td>\n",
       "      <td>0.0</td>\n",
       "      <td>0.00</td>\n",
       "      <td>0</td>\n",
       "      <td>0.0</td>\n",
       "      <td>0.0</td>\n",
       "      <td>0</td>\n",
       "      <td>1950.0</td>\n",
       "    </tr>\n",
       "    <tr>\n",
       "      <th>2</th>\n",
       "      <td>1000</td>\n",
       "      <td>7</td>\n",
       "      <td>47.0</td>\n",
       "      <td>75.0</td>\n",
       "      <td>14003.64</td>\n",
       "      <td>340.0</td>\n",
       "      <td>52</td>\n",
       "      <td>NaT</td>\n",
       "      <td>Краснодар</td>\n",
       "      <td>Рафаил</td>\n",
       "      <td>...</td>\n",
       "      <td>1</td>\n",
       "      <td>1</td>\n",
       "      <td>0.0</td>\n",
       "      <td>0.0</td>\n",
       "      <td>0.00</td>\n",
       "      <td>0</td>\n",
       "      <td>0.0</td>\n",
       "      <td>0.0</td>\n",
       "      <td>0</td>\n",
       "      <td>1950.0</td>\n",
       "    </tr>\n",
       "    <tr>\n",
       "      <th>3</th>\n",
       "      <td>1000</td>\n",
       "      <td>8</td>\n",
       "      <td>52.0</td>\n",
       "      <td>81.0</td>\n",
       "      <td>14055.93</td>\n",
       "      <td>408.0</td>\n",
       "      <td>52</td>\n",
       "      <td>NaT</td>\n",
       "      <td>Краснодар</td>\n",
       "      <td>Рафаил</td>\n",
       "      <td>...</td>\n",
       "      <td>1</td>\n",
       "      <td>1</td>\n",
       "      <td>0.0</td>\n",
       "      <td>0.0</td>\n",
       "      <td>0.00</td>\n",
       "      <td>0</td>\n",
       "      <td>0.0</td>\n",
       "      <td>0.0</td>\n",
       "      <td>0</td>\n",
       "      <td>1950.0</td>\n",
       "    </tr>\n",
       "    <tr>\n",
       "      <th>4</th>\n",
       "      <td>1000</td>\n",
       "      <td>9</td>\n",
       "      <td>58.0</td>\n",
       "      <td>57.0</td>\n",
       "      <td>14568.91</td>\n",
       "      <td>466.0</td>\n",
       "      <td>52</td>\n",
       "      <td>NaT</td>\n",
       "      <td>Краснодар</td>\n",
       "      <td>Рафаил</td>\n",
       "      <td>...</td>\n",
       "      <td>1</td>\n",
       "      <td>1</td>\n",
       "      <td>0.0</td>\n",
       "      <td>0.0</td>\n",
       "      <td>0.00</td>\n",
       "      <td>0</td>\n",
       "      <td>0.0</td>\n",
       "      <td>0.0</td>\n",
       "      <td>0</td>\n",
       "      <td>1950.0</td>\n",
       "    </tr>\n",
       "    <tr>\n",
       "      <th>...</th>\n",
       "      <td>...</td>\n",
       "      <td>...</td>\n",
       "      <td>...</td>\n",
       "      <td>...</td>\n",
       "      <td>...</td>\n",
       "      <td>...</td>\n",
       "      <td>...</td>\n",
       "      <td>...</td>\n",
       "      <td>...</td>\n",
       "      <td>...</td>\n",
       "      <td>...</td>\n",
       "      <td>...</td>\n",
       "      <td>...</td>\n",
       "      <td>...</td>\n",
       "      <td>...</td>\n",
       "      <td>...</td>\n",
       "      <td>...</td>\n",
       "      <td>...</td>\n",
       "      <td>...</td>\n",
       "      <td>...</td>\n",
       "      <td>...</td>\n",
       "    </tr>\n",
       "    <tr>\n",
       "      <th>3209</th>\n",
       "      <td>1498</td>\n",
       "      <td>10</td>\n",
       "      <td>41.0</td>\n",
       "      <td>42.0</td>\n",
       "      <td>20579.36</td>\n",
       "      <td>247.0</td>\n",
       "      <td>68</td>\n",
       "      <td>2018-10-25</td>\n",
       "      <td>Владикавказ</td>\n",
       "      <td>Всеволод</td>\n",
       "      <td>...</td>\n",
       "      <td>3</td>\n",
       "      <td>3</td>\n",
       "      <td>0.0</td>\n",
       "      <td>0.0</td>\n",
       "      <td>5219.36</td>\n",
       "      <td>6</td>\n",
       "      <td>0.0</td>\n",
       "      <td>0.0</td>\n",
       "      <td>1200</td>\n",
       "      <td>1750.0</td>\n",
       "    </tr>\n",
       "    <tr>\n",
       "      <th>3210</th>\n",
       "      <td>1499</td>\n",
       "      <td>9</td>\n",
       "      <td>9.0</td>\n",
       "      <td>11.0</td>\n",
       "      <td>1845.75</td>\n",
       "      <td>70.0</td>\n",
       "      <td>35</td>\n",
       "      <td>NaT</td>\n",
       "      <td>Пермь</td>\n",
       "      <td>Гектор</td>\n",
       "      <td>...</td>\n",
       "      <td>3</td>\n",
       "      <td>3</td>\n",
       "      <td>0.0</td>\n",
       "      <td>0.0</td>\n",
       "      <td>0.00</td>\n",
       "      <td>0</td>\n",
       "      <td>0.0</td>\n",
       "      <td>0.0</td>\n",
       "      <td>0</td>\n",
       "      <td>550.0</td>\n",
       "    </tr>\n",
       "    <tr>\n",
       "      <th>3211</th>\n",
       "      <td>1499</td>\n",
       "      <td>10</td>\n",
       "      <td>68.0</td>\n",
       "      <td>48.0</td>\n",
       "      <td>17788.51</td>\n",
       "      <td>449.0</td>\n",
       "      <td>35</td>\n",
       "      <td>NaT</td>\n",
       "      <td>Пермь</td>\n",
       "      <td>Гектор</td>\n",
       "      <td>...</td>\n",
       "      <td>3</td>\n",
       "      <td>3</td>\n",
       "      <td>0.0</td>\n",
       "      <td>0.0</td>\n",
       "      <td>2428.51</td>\n",
       "      <td>3</td>\n",
       "      <td>0.0</td>\n",
       "      <td>0.0</td>\n",
       "      <td>600</td>\n",
       "      <td>1150.0</td>\n",
       "    </tr>\n",
       "    <tr>\n",
       "      <th>3212</th>\n",
       "      <td>1499</td>\n",
       "      <td>11</td>\n",
       "      <td>74.0</td>\n",
       "      <td>59.0</td>\n",
       "      <td>17963.31</td>\n",
       "      <td>612.0</td>\n",
       "      <td>35</td>\n",
       "      <td>NaT</td>\n",
       "      <td>Пермь</td>\n",
       "      <td>Гектор</td>\n",
       "      <td>...</td>\n",
       "      <td>3</td>\n",
       "      <td>3</td>\n",
       "      <td>112.0</td>\n",
       "      <td>9.0</td>\n",
       "      <td>2603.31</td>\n",
       "      <td>3</td>\n",
       "      <td>336.0</td>\n",
       "      <td>27.0</td>\n",
       "      <td>600</td>\n",
       "      <td>1513.0</td>\n",
       "    </tr>\n",
       "    <tr>\n",
       "      <th>3213</th>\n",
       "      <td>1499</td>\n",
       "      <td>12</td>\n",
       "      <td>69.0</td>\n",
       "      <td>66.0</td>\n",
       "      <td>13055.58</td>\n",
       "      <td>492.0</td>\n",
       "      <td>35</td>\n",
       "      <td>NaT</td>\n",
       "      <td>Пермь</td>\n",
       "      <td>Гектор</td>\n",
       "      <td>...</td>\n",
       "      <td>3</td>\n",
       "      <td>3</td>\n",
       "      <td>0.0</td>\n",
       "      <td>16.0</td>\n",
       "      <td>0.00</td>\n",
       "      <td>0</td>\n",
       "      <td>0.0</td>\n",
       "      <td>48.0</td>\n",
       "      <td>0</td>\n",
       "      <td>598.0</td>\n",
       "    </tr>\n",
       "  </tbody>\n",
       "</table>\n",
       "<p>3214 rows × 28 columns</p>\n",
       "</div>"
      ],
      "text/plain": [
       "      user_id  month  calls  messages   mb_used  minutes  age churn_date  \\\n",
       "0        1000      5   22.0      22.0   2253.49    159.0   52        NaT   \n",
       "1        1000      6   43.0      60.0  23233.77    172.0   52        NaT   \n",
       "2        1000      7   47.0      75.0  14003.64    340.0   52        NaT   \n",
       "3        1000      8   52.0      81.0  14055.93    408.0   52        NaT   \n",
       "4        1000      9   58.0      57.0  14568.91    466.0   52        NaT   \n",
       "...       ...    ...    ...       ...       ...      ...  ...        ...   \n",
       "3209     1498     10   41.0      42.0  20579.36    247.0   68 2018-10-25   \n",
       "3210     1499      9    9.0      11.0   1845.75     70.0   35        NaT   \n",
       "3211     1499     10   68.0      48.0  17788.51    449.0   35        NaT   \n",
       "3212     1499     11   74.0      59.0  17963.31    612.0   35        NaT   \n",
       "3213     1499     12   69.0      66.0  13055.58    492.0   35        NaT   \n",
       "\n",
       "             city first_name  ... rub_per_message rub_per_minute paid_minutes  \\\n",
       "0       Краснодар     Рафаил  ...               1              1          0.0   \n",
       "1       Краснодар     Рафаил  ...               1              1          0.0   \n",
       "2       Краснодар     Рафаил  ...               1              1          0.0   \n",
       "3       Краснодар     Рафаил  ...               1              1          0.0   \n",
       "4       Краснодар     Рафаил  ...               1              1          0.0   \n",
       "...           ...        ...  ...             ...            ...          ...   \n",
       "3209  Владикавказ   Всеволод  ...               3              3          0.0   \n",
       "3210        Пермь     Гектор  ...               3              3          0.0   \n",
       "3211        Пермь     Гектор  ...               3              3          0.0   \n",
       "3212        Пермь     Гектор  ...               3              3        112.0   \n",
       "3213        Пермь     Гектор  ...               3              3          0.0   \n",
       "\n",
       "      paid_messages  paid_mb  paid_gb  cost_minutes  cost_messages  cost_gb  \\\n",
       "0               0.0     0.00        0           0.0            0.0        0   \n",
       "1               0.0     0.00        0           0.0            0.0        0   \n",
       "2               0.0     0.00        0           0.0            0.0        0   \n",
       "3               0.0     0.00        0           0.0            0.0        0   \n",
       "4               0.0     0.00        0           0.0            0.0        0   \n",
       "...             ...      ...      ...           ...            ...      ...   \n",
       "3209            0.0  5219.36        6           0.0            0.0     1200   \n",
       "3210            0.0     0.00        0           0.0            0.0        0   \n",
       "3211            0.0  2428.51        3           0.0            0.0      600   \n",
       "3212            9.0  2603.31        3         336.0           27.0      600   \n",
       "3213           16.0     0.00        0           0.0           48.0        0   \n",
       "\n",
       "      total_cost  \n",
       "0         1950.0  \n",
       "1         1950.0  \n",
       "2         1950.0  \n",
       "3         1950.0  \n",
       "4         1950.0  \n",
       "...          ...  \n",
       "3209      1750.0  \n",
       "3210       550.0  \n",
       "3211      1150.0  \n",
       "3212      1513.0  \n",
       "3213       598.0  \n",
       "\n",
       "[3214 rows x 28 columns]"
      ]
     },
     "execution_count": 51,
     "metadata": {},
     "output_type": "execute_result"
    }
   ],
   "source": [
    "user_behavior"
   ]
  },
  {
   "cell_type": "code",
   "execution_count": 52,
   "metadata": {
    "deletable": false
   },
   "outputs": [
    {
     "name": "stdout",
     "output_type": "stream",
     "text": [
      "0.5257376663729298\n",
      "Не получилось отвергнуть нулевую гипотезу\n"
     ]
    }
   ],
   "source": [
    "s = user_behavior[user_behavior['city'] == 'Москва']['total_cost']\n",
    "s1 = user_behavior[user_behavior['city'] != 'Москва']['total_cost']\n",
    "\n",
    "results = st.ttest_ind(s, s1, equal_var=False) \n",
    "\n",
    "alpha = .05\n",
    "\n",
    "print(results.pvalue)\n",
    "\n",
    "if (results.pvalue < alpha):\n",
    "    print('Отвергаем нулевую гипотезу')\n",
    "else:\n",
    "    print('Не получилось отвергнуть нулевую гипотезу')"
   ]
  },
  {
   "cell_type": "markdown",
   "metadata": {},
   "source": [
    "___\n",
    "### **Общий вывод:**"
   ]
  },
  {
   "cell_type": "markdown",
   "metadata": {},
   "source": [
    "1. **Изучение общей информации:**\n",
    "*Таблица со звонками:*\n",
    "- Минимальная продолжительность звонка - `0 минут`. \n",
    "- Средняя продолжительность звонка - `6 мин`, максимальная `38 минут`.\n",
    "\n",
    "*Таблица использования интернет трафика:*\n",
    "- Клиентов, пользующихся только услугами связи, больше.\n",
    "- Среднее кол-во потраченного трафика - `348 мб`, а максимальное `1724 мб`.\n",
    "\n",
    "*Таблица с сообщениями:*\n",
    "- Активных клиентов, использующих смс-сообщения, всего лищь `426` человек.\n",
    "\n",
    "*Таблица о пользователях:*\n",
    "- Из 500 клиентов имеем 38 расторжений договоров, начинающихся с августа, а наибольший пик стартует с октября и по конец года.\n",
    "- Пик новых клиентов приходится на Февраль, к концу года спрос спадает. Наихудшие показатели в ноябре.\n",
    "- Доля тарифа `smart` составляет `70%` ,a более дорогого `ultra` - `30%`.\n",
    "- Описание возраста Клиентов: Минимальный - `18`, Средний - `46`, Максимальный - `75`.\n",
    "    ___\n",
    " \n",
    "2. **Подготовка данных:**\n",
    "- Привели столбцы к нужным типам данных.\n",
    "- Удалили ненужные \"id\" столбцы.\n",
    "- Добавили новые столбцы: \n",
    "  - столбец `month` с номером месяца во фреймы session\\call\\message,\n",
    "  - для каждого пользователя по месяцам:\n",
    "    - количество израсходованных минут разговора,\n",
    "    - количество отправленных сообщений,\n",
    "    - количество потраченных мегабайт.\n",
    "    ___\n",
    "    \n",
    "3. **Анализ данных:**\n",
    "- Средняя длительность разговоров у абонентов тарифа `Ultra` больше, чем у абонентов тарифа `Smart`. \n",
    "  - В течение года пользователи обоих тарифов увеличивают среднюю продолжительность своих разговоров: \n",
    "    - Рост средней длительности разговоров у абонентов тарифа `Smart` равномерный в течение года. \n",
    "    - Пользователи тарифа `Ultra` не проявляют подобной линейной стабильности. \n",
    "    - Стоит отметить, что феврале у абонентов обоих тарифных планов наблюдались самые низкие показатели.\n",
    "\n",
    "- В среднем количество сообщений пользователи тарифа `Ultra` отправляют больше - почти на *20* сообщений больше, чем пользователи тарифа `Smart`. \n",
    "  - Количество сообщений в течение года на обоих тарифак растет. \n",
    "    - Динамика по отправке сообщений схожа с тенденциями по длительности разговоров: в феврале отмечено наименьшее количество сообщений за год и пользователи тарифа `Ultra` также проявляют нелинейную положительную динамику.\n",
    "\n",
    "- Меньше всего пользователи использовали интернет в январе, феврале и апреле. \n",
    "  - Чаще всего абоненты тарифа `Smart` тратят *15-17 Гб*, \n",
    "    - а абоненты тарифного плана `Ultra` - *19-21 ГБ*.\n",
    "   ____\n",
    "       \n",
    "4. **Проверка гипотез:**\n",
    "\n",
    "   Гипотеза №2: \"пользователи из Москвы приносят больше выручки, чем пользователи из других городов\"-  **подтвердилась**,\n",
    "   \n",
    "   Гипотеза №1: \"средняя выручка пользователей тарифов «Ультра» и «Смарт» различаются\" - **не подтвердилась**.\n",
    "   ____"
   ]
  },
  {
   "cell_type": "code",
   "execution_count": null,
   "metadata": {},
   "outputs": [],
   "source": []
  }
 ],
 "metadata": {
  "ExecuteTimeLog": [
   {
    "duration": 44,
    "start_time": "2022-10-31T10:59:38.294Z"
   },
   {
    "duration": 356,
    "start_time": "2022-10-31T10:59:42.466Z"
   },
   {
    "duration": 616,
    "start_time": "2022-10-31T10:59:43.676Z"
   },
   {
    "duration": 15,
    "start_time": "2022-10-31T10:59:55.442Z"
   },
   {
    "duration": 23,
    "start_time": "2022-10-31T11:00:10.149Z"
   },
   {
    "duration": 618,
    "start_time": "2022-10-31T11:01:11.846Z"
   },
   {
    "duration": 387,
    "start_time": "2022-10-31T11:02:34.751Z"
   },
   {
    "duration": 10,
    "start_time": "2022-10-31T11:02:51.020Z"
   },
   {
    "duration": 22,
    "start_time": "2022-10-31T11:03:03.116Z"
   },
   {
    "duration": 138,
    "start_time": "2022-10-31T11:03:59.445Z"
   },
   {
    "duration": 94,
    "start_time": "2022-10-31T11:04:41.338Z"
   },
   {
    "duration": 159,
    "start_time": "2022-10-31T11:04:47.032Z"
   },
   {
    "duration": 8,
    "start_time": "2022-10-31T11:04:57.764Z"
   },
   {
    "duration": 17,
    "start_time": "2022-10-31T11:05:03.173Z"
   },
   {
    "duration": 56,
    "start_time": "2022-10-31T11:06:33.153Z"
   },
   {
    "duration": 7,
    "start_time": "2022-10-31T11:06:50.725Z"
   },
   {
    "duration": 16,
    "start_time": "2022-10-31T11:07:15.638Z"
   },
   {
    "duration": 79,
    "start_time": "2022-10-31T11:08:55.214Z"
   },
   {
    "duration": 9,
    "start_time": "2022-10-31T11:09:09.516Z"
   },
   {
    "duration": 12,
    "start_time": "2022-10-31T11:09:29.194Z"
   },
   {
    "duration": 1195,
    "start_time": "2022-10-31T13:25:49.865Z"
   },
   {
    "duration": 417,
    "start_time": "2022-10-31T13:25:58.493Z"
   },
   {
    "duration": 164,
    "start_time": "2022-10-31T13:25:58.914Z"
   },
   {
    "duration": 14,
    "start_time": "2022-10-31T13:25:59.080Z"
   },
   {
    "duration": 35,
    "start_time": "2022-10-31T13:25:59.096Z"
   },
   {
    "duration": 377,
    "start_time": "2022-10-31T13:25:59.133Z"
   },
   {
    "duration": 137,
    "start_time": "2022-10-31T13:25:59.519Z"
   },
   {
    "duration": 8,
    "start_time": "2022-10-31T13:25:59.658Z"
   },
   {
    "duration": 21,
    "start_time": "2022-10-31T13:25:59.667Z"
   },
   {
    "duration": 161,
    "start_time": "2022-10-31T13:25:59.690Z"
   },
   {
    "duration": 96,
    "start_time": "2022-10-31T13:25:59.853Z"
   },
   {
    "duration": 7,
    "start_time": "2022-10-31T13:25:59.951Z"
   },
   {
    "duration": 25,
    "start_time": "2022-10-31T13:25:59.960Z"
   },
   {
    "duration": 36,
    "start_time": "2022-10-31T13:25:59.986Z"
   },
   {
    "duration": 8,
    "start_time": "2022-10-31T13:26:00.025Z"
   },
   {
    "duration": 14,
    "start_time": "2022-10-31T13:26:00.034Z"
   },
   {
    "duration": 30,
    "start_time": "2022-10-31T13:26:00.049Z"
   },
   {
    "duration": 9,
    "start_time": "2022-10-31T13:26:00.081Z"
   },
   {
    "duration": 16,
    "start_time": "2022-10-31T13:26:00.092Z"
   },
   {
    "duration": 1323,
    "start_time": "2022-10-31T13:26:00.117Z"
   },
   {
    "duration": 0,
    "start_time": "2022-10-31T13:26:01.442Z"
   },
   {
    "duration": 0,
    "start_time": "2022-10-31T13:26:01.443Z"
   },
   {
    "duration": 0,
    "start_time": "2022-10-31T13:26:01.444Z"
   },
   {
    "duration": 0,
    "start_time": "2022-10-31T13:26:01.445Z"
   },
   {
    "duration": 0,
    "start_time": "2022-10-31T13:26:01.446Z"
   },
   {
    "duration": 0,
    "start_time": "2022-10-31T13:26:01.447Z"
   },
   {
    "duration": 0,
    "start_time": "2022-10-31T13:26:01.448Z"
   },
   {
    "duration": 0,
    "start_time": "2022-10-31T13:26:01.449Z"
   },
   {
    "duration": 0,
    "start_time": "2022-10-31T13:26:01.450Z"
   },
   {
    "duration": 0,
    "start_time": "2022-10-31T13:26:01.452Z"
   },
   {
    "duration": 0,
    "start_time": "2022-10-31T13:26:01.452Z"
   },
   {
    "duration": 0,
    "start_time": "2022-10-31T13:26:01.453Z"
   },
   {
    "duration": 0,
    "start_time": "2022-10-31T13:26:01.454Z"
   },
   {
    "duration": 0,
    "start_time": "2022-10-31T13:26:01.455Z"
   },
   {
    "duration": 0,
    "start_time": "2022-10-31T13:26:01.456Z"
   },
   {
    "duration": 0,
    "start_time": "2022-10-31T13:26:01.456Z"
   },
   {
    "duration": 0,
    "start_time": "2022-10-31T13:26:01.457Z"
   },
   {
    "duration": 0,
    "start_time": "2022-10-31T13:26:01.458Z"
   },
   {
    "duration": 0,
    "start_time": "2022-10-31T13:26:01.459Z"
   },
   {
    "duration": 0,
    "start_time": "2022-10-31T13:26:01.460Z"
   },
   {
    "duration": 0,
    "start_time": "2022-10-31T13:26:01.461Z"
   },
   {
    "duration": 0,
    "start_time": "2022-10-31T13:26:01.462Z"
   },
   {
    "duration": 0,
    "start_time": "2022-10-31T13:26:01.463Z"
   },
   {
    "duration": 1,
    "start_time": "2022-10-31T13:26:01.463Z"
   },
   {
    "duration": 0,
    "start_time": "2022-10-31T13:26:01.464Z"
   },
   {
    "duration": 0,
    "start_time": "2022-10-31T13:26:01.465Z"
   },
   {
    "duration": 0,
    "start_time": "2022-10-31T13:26:01.466Z"
   },
   {
    "duration": 0,
    "start_time": "2022-10-31T13:26:01.468Z"
   },
   {
    "duration": 0,
    "start_time": "2022-10-31T13:26:01.469Z"
   },
   {
    "duration": 1,
    "start_time": "2022-10-31T13:26:01.470Z"
   },
   {
    "duration": 0,
    "start_time": "2022-10-31T13:26:01.472Z"
   },
   {
    "duration": 4,
    "start_time": "2022-10-31T13:26:14.467Z"
   },
   {
    "duration": 7,
    "start_time": "2022-10-31T13:27:52.089Z"
   },
   {
    "duration": 7,
    "start_time": "2022-10-31T13:29:06.470Z"
   },
   {
    "duration": 5,
    "start_time": "2022-10-31T13:29:28.038Z"
   },
   {
    "duration": 10,
    "start_time": "2022-10-31T13:29:36.814Z"
   },
   {
    "duration": 5,
    "start_time": "2022-10-31T13:29:52.519Z"
   },
   {
    "duration": 10,
    "start_time": "2022-10-31T13:30:33.915Z"
   },
   {
    "duration": 5,
    "start_time": "2022-10-31T13:31:54.665Z"
   },
   {
    "duration": 5,
    "start_time": "2022-10-31T13:32:02.158Z"
   },
   {
    "duration": 39,
    "start_time": "2022-10-31T13:32:20.096Z"
   },
   {
    "duration": 22,
    "start_time": "2022-10-31T13:38:08.822Z"
   },
   {
    "duration": 35,
    "start_time": "2022-10-31T13:38:18.341Z"
   },
   {
    "duration": 80,
    "start_time": "2022-10-31T13:38:44.137Z"
   },
   {
    "duration": 56,
    "start_time": "2022-10-31T13:38:48.240Z"
   },
   {
    "duration": 43,
    "start_time": "2022-10-31T13:40:22.382Z"
   },
   {
    "duration": 307,
    "start_time": "2022-10-31T17:31:46.187Z"
   },
   {
    "duration": 421,
    "start_time": "2022-10-31T17:31:52.836Z"
   },
   {
    "duration": 223,
    "start_time": "2022-10-31T17:31:53.258Z"
   },
   {
    "duration": 14,
    "start_time": "2022-10-31T17:31:53.483Z"
   },
   {
    "duration": 34,
    "start_time": "2022-10-31T17:31:53.499Z"
   },
   {
    "duration": 683,
    "start_time": "2022-10-31T17:31:53.535Z"
   },
   {
    "duration": 414,
    "start_time": "2022-10-31T17:31:54.220Z"
   },
   {
    "duration": 9,
    "start_time": "2022-10-31T17:31:54.635Z"
   },
   {
    "duration": 22,
    "start_time": "2022-10-31T17:31:54.645Z"
   },
   {
    "duration": 153,
    "start_time": "2022-10-31T17:31:54.669Z"
   },
   {
    "duration": 592,
    "start_time": "2022-10-31T17:31:54.824Z"
   },
   {
    "duration": 8,
    "start_time": "2022-10-31T17:31:55.417Z"
   },
   {
    "duration": 20,
    "start_time": "2022-10-31T17:31:55.426Z"
   },
   {
    "duration": 52,
    "start_time": "2022-10-31T17:31:55.448Z"
   },
   {
    "duration": 8,
    "start_time": "2022-10-31T17:31:55.503Z"
   },
   {
    "duration": 10,
    "start_time": "2022-10-31T17:31:55.513Z"
   },
   {
    "duration": 52,
    "start_time": "2022-10-31T17:31:55.525Z"
   },
   {
    "duration": 10,
    "start_time": "2022-10-31T17:31:55.578Z"
   },
   {
    "duration": 12,
    "start_time": "2022-10-31T17:31:55.589Z"
   },
   {
    "duration": 6,
    "start_time": "2022-10-31T17:31:55.602Z"
   },
   {
    "duration": 79,
    "start_time": "2022-10-31T17:31:55.610Z"
   },
   {
    "duration": 5,
    "start_time": "2022-10-31T17:31:55.691Z"
   },
   {
    "duration": 2,
    "start_time": "2022-10-31T17:31:55.709Z"
   },
   {
    "duration": 6,
    "start_time": "2022-10-31T17:31:55.713Z"
   },
   {
    "duration": 4,
    "start_time": "2022-10-31T17:31:55.721Z"
   },
   {
    "duration": 6,
    "start_time": "2022-10-31T17:31:55.727Z"
   },
   {
    "duration": 4,
    "start_time": "2022-10-31T17:31:55.735Z"
   },
   {
    "duration": 5,
    "start_time": "2022-10-31T17:31:55.740Z"
   },
   {
    "duration": 5,
    "start_time": "2022-10-31T17:31:55.746Z"
   },
   {
    "duration": 6,
    "start_time": "2022-10-31T17:31:55.752Z"
   },
   {
    "duration": 8,
    "start_time": "2022-10-31T17:31:55.759Z"
   },
   {
    "duration": 101,
    "start_time": "2022-10-31T17:31:55.768Z"
   },
   {
    "duration": 0,
    "start_time": "2022-10-31T17:31:55.870Z"
   },
   {
    "duration": 0,
    "start_time": "2022-10-31T17:31:55.871Z"
   },
   {
    "duration": 0,
    "start_time": "2022-10-31T17:31:55.873Z"
   },
   {
    "duration": 0,
    "start_time": "2022-10-31T17:31:55.874Z"
   },
   {
    "duration": 0,
    "start_time": "2022-10-31T17:31:55.875Z"
   },
   {
    "duration": 0,
    "start_time": "2022-10-31T17:31:55.876Z"
   },
   {
    "duration": 0,
    "start_time": "2022-10-31T17:31:55.877Z"
   },
   {
    "duration": 0,
    "start_time": "2022-10-31T17:31:55.878Z"
   },
   {
    "duration": 0,
    "start_time": "2022-10-31T17:31:55.879Z"
   },
   {
    "duration": 0,
    "start_time": "2022-10-31T17:31:55.880Z"
   },
   {
    "duration": 0,
    "start_time": "2022-10-31T17:31:55.881Z"
   },
   {
    "duration": 0,
    "start_time": "2022-10-31T17:31:55.882Z"
   },
   {
    "duration": 0,
    "start_time": "2022-10-31T17:31:55.882Z"
   },
   {
    "duration": 0,
    "start_time": "2022-10-31T17:31:55.883Z"
   },
   {
    "duration": 0,
    "start_time": "2022-10-31T17:31:55.909Z"
   },
   {
    "duration": 0,
    "start_time": "2022-10-31T17:31:55.911Z"
   },
   {
    "duration": 0,
    "start_time": "2022-10-31T17:31:55.912Z"
   },
   {
    "duration": 0,
    "start_time": "2022-10-31T17:31:55.913Z"
   },
   {
    "duration": 0,
    "start_time": "2022-10-31T17:31:55.913Z"
   },
   {
    "duration": 0,
    "start_time": "2022-10-31T17:31:55.915Z"
   },
   {
    "duration": 11,
    "start_time": "2022-10-31T17:33:40.947Z"
   },
   {
    "duration": 9,
    "start_time": "2022-10-31T17:33:58.877Z"
   },
   {
    "duration": 5,
    "start_time": "2022-10-31T17:35:17.709Z"
   },
   {
    "duration": 12,
    "start_time": "2022-10-31T17:36:51.855Z"
   },
   {
    "duration": 5,
    "start_time": "2022-10-31T18:18:33.441Z"
   },
   {
    "duration": 19,
    "start_time": "2022-10-31T18:18:46.883Z"
   },
   {
    "duration": 12,
    "start_time": "2022-10-31T18:18:52.845Z"
   },
   {
    "duration": 360,
    "start_time": "2022-10-31T18:19:10.265Z"
   },
   {
    "duration": 151,
    "start_time": "2022-10-31T18:19:10.626Z"
   },
   {
    "duration": 15,
    "start_time": "2022-10-31T18:19:10.778Z"
   },
   {
    "duration": 33,
    "start_time": "2022-10-31T18:19:10.795Z"
   },
   {
    "duration": 402,
    "start_time": "2022-10-31T18:19:10.830Z"
   },
   {
    "duration": 124,
    "start_time": "2022-10-31T18:19:11.233Z"
   },
   {
    "duration": 9,
    "start_time": "2022-10-31T18:19:11.358Z"
   },
   {
    "duration": 21,
    "start_time": "2022-10-31T18:19:11.368Z"
   },
   {
    "duration": 191,
    "start_time": "2022-10-31T18:19:11.392Z"
   },
   {
    "duration": 113,
    "start_time": "2022-10-31T18:19:11.586Z"
   },
   {
    "duration": 10,
    "start_time": "2022-10-31T18:19:11.701Z"
   },
   {
    "duration": 35,
    "start_time": "2022-10-31T18:19:11.714Z"
   },
   {
    "duration": 56,
    "start_time": "2022-10-31T18:19:11.751Z"
   },
   {
    "duration": 7,
    "start_time": "2022-10-31T18:19:11.809Z"
   },
   {
    "duration": 21,
    "start_time": "2022-10-31T18:19:11.818Z"
   },
   {
    "duration": 30,
    "start_time": "2022-10-31T18:19:11.840Z"
   },
   {
    "duration": 10,
    "start_time": "2022-10-31T18:19:11.871Z"
   },
   {
    "duration": 17,
    "start_time": "2022-10-31T18:19:11.882Z"
   },
   {
    "duration": 10,
    "start_time": "2022-10-31T18:19:11.900Z"
   },
   {
    "duration": 79,
    "start_time": "2022-10-31T18:19:11.912Z"
   },
   {
    "duration": 17,
    "start_time": "2022-10-31T18:19:11.993Z"
   },
   {
    "duration": 82,
    "start_time": "2022-10-31T18:19:12.011Z"
   },
   {
    "duration": 0,
    "start_time": "2022-10-31T18:19:12.109Z"
   },
   {
    "duration": 0,
    "start_time": "2022-10-31T18:19:12.110Z"
   },
   {
    "duration": 0,
    "start_time": "2022-10-31T18:19:12.111Z"
   },
   {
    "duration": 0,
    "start_time": "2022-10-31T18:19:12.111Z"
   },
   {
    "duration": 0,
    "start_time": "2022-10-31T18:19:12.112Z"
   },
   {
    "duration": 0,
    "start_time": "2022-10-31T18:19:12.113Z"
   },
   {
    "duration": 0,
    "start_time": "2022-10-31T18:19:12.114Z"
   },
   {
    "duration": 0,
    "start_time": "2022-10-31T18:19:12.115Z"
   },
   {
    "duration": 0,
    "start_time": "2022-10-31T18:19:12.115Z"
   },
   {
    "duration": 0,
    "start_time": "2022-10-31T18:19:12.116Z"
   },
   {
    "duration": 0,
    "start_time": "2022-10-31T18:19:12.117Z"
   },
   {
    "duration": 0,
    "start_time": "2022-10-31T18:19:12.118Z"
   },
   {
    "duration": 0,
    "start_time": "2022-10-31T18:19:12.121Z"
   },
   {
    "duration": 0,
    "start_time": "2022-10-31T18:19:12.122Z"
   },
   {
    "duration": 0,
    "start_time": "2022-10-31T18:19:12.123Z"
   },
   {
    "duration": 0,
    "start_time": "2022-10-31T18:19:12.124Z"
   },
   {
    "duration": 0,
    "start_time": "2022-10-31T18:19:12.125Z"
   },
   {
    "duration": 0,
    "start_time": "2022-10-31T18:19:12.126Z"
   },
   {
    "duration": 0,
    "start_time": "2022-10-31T18:19:12.127Z"
   },
   {
    "duration": 0,
    "start_time": "2022-10-31T18:19:12.128Z"
   },
   {
    "duration": 1,
    "start_time": "2022-10-31T18:19:12.129Z"
   },
   {
    "duration": 0,
    "start_time": "2022-10-31T18:19:12.131Z"
   },
   {
    "duration": 0,
    "start_time": "2022-10-31T18:19:12.132Z"
   },
   {
    "duration": 0,
    "start_time": "2022-10-31T18:19:12.133Z"
   },
   {
    "duration": 0,
    "start_time": "2022-10-31T18:19:12.134Z"
   },
   {
    "duration": 0,
    "start_time": "2022-10-31T18:19:12.136Z"
   },
   {
    "duration": 0,
    "start_time": "2022-10-31T18:19:12.137Z"
   },
   {
    "duration": 0,
    "start_time": "2022-10-31T18:19:12.139Z"
   },
   {
    "duration": 0,
    "start_time": "2022-10-31T18:19:12.140Z"
   },
   {
    "duration": 0,
    "start_time": "2022-10-31T18:19:12.141Z"
   },
   {
    "duration": 12,
    "start_time": "2022-10-31T18:19:39.828Z"
   },
   {
    "duration": 401,
    "start_time": "2022-10-31T18:19:44.421Z"
   },
   {
    "duration": 158,
    "start_time": "2022-10-31T18:19:44.824Z"
   },
   {
    "duration": 15,
    "start_time": "2022-10-31T18:19:44.983Z"
   },
   {
    "duration": 36,
    "start_time": "2022-10-31T18:19:45.000Z"
   },
   {
    "duration": 377,
    "start_time": "2022-10-31T18:19:45.038Z"
   },
   {
    "duration": 128,
    "start_time": "2022-10-31T18:19:45.416Z"
   },
   {
    "duration": 9,
    "start_time": "2022-10-31T18:19:45.545Z"
   },
   {
    "duration": 20,
    "start_time": "2022-10-31T18:19:45.555Z"
   },
   {
    "duration": 159,
    "start_time": "2022-10-31T18:19:45.576Z"
   },
   {
    "duration": 93,
    "start_time": "2022-10-31T18:19:45.738Z"
   },
   {
    "duration": 8,
    "start_time": "2022-10-31T18:19:45.832Z"
   },
   {
    "duration": 25,
    "start_time": "2022-10-31T18:19:45.841Z"
   },
   {
    "duration": 24,
    "start_time": "2022-10-31T18:19:45.868Z"
   },
   {
    "duration": 7,
    "start_time": "2022-10-31T18:19:45.894Z"
   },
   {
    "duration": 14,
    "start_time": "2022-10-31T18:19:45.902Z"
   },
   {
    "duration": 33,
    "start_time": "2022-10-31T18:19:45.917Z"
   },
   {
    "duration": 9,
    "start_time": "2022-10-31T18:19:45.952Z"
   },
   {
    "duration": 10,
    "start_time": "2022-10-31T18:19:45.962Z"
   },
   {
    "duration": 4,
    "start_time": "2022-10-31T18:19:45.974Z"
   },
   {
    "duration": 81,
    "start_time": "2022-10-31T18:19:45.979Z"
   },
   {
    "duration": 8,
    "start_time": "2022-10-31T18:19:46.062Z"
   },
   {
    "duration": 16,
    "start_time": "2022-10-31T18:19:46.071Z"
   },
   {
    "duration": 2,
    "start_time": "2022-10-31T18:19:46.089Z"
   },
   {
    "duration": 3,
    "start_time": "2022-10-31T18:19:46.108Z"
   },
   {
    "duration": 13,
    "start_time": "2022-10-31T18:19:46.113Z"
   },
   {
    "duration": 4,
    "start_time": "2022-10-31T18:19:46.128Z"
   },
   {
    "duration": 5,
    "start_time": "2022-10-31T18:19:46.133Z"
   },
   {
    "duration": 3,
    "start_time": "2022-10-31T18:19:46.141Z"
   },
   {
    "duration": 3,
    "start_time": "2022-10-31T18:19:46.146Z"
   },
   {
    "duration": 4,
    "start_time": "2022-10-31T18:19:46.150Z"
   },
   {
    "duration": 6,
    "start_time": "2022-10-31T18:19:46.155Z"
   },
   {
    "duration": 99,
    "start_time": "2022-10-31T18:19:46.162Z"
   },
   {
    "duration": 0,
    "start_time": "2022-10-31T18:19:46.263Z"
   },
   {
    "duration": 0,
    "start_time": "2022-10-31T18:19:46.264Z"
   },
   {
    "duration": 0,
    "start_time": "2022-10-31T18:19:46.265Z"
   },
   {
    "duration": 0,
    "start_time": "2022-10-31T18:19:46.266Z"
   },
   {
    "duration": 0,
    "start_time": "2022-10-31T18:19:46.267Z"
   },
   {
    "duration": 0,
    "start_time": "2022-10-31T18:19:46.268Z"
   },
   {
    "duration": 0,
    "start_time": "2022-10-31T18:19:46.269Z"
   },
   {
    "duration": 0,
    "start_time": "2022-10-31T18:19:46.269Z"
   },
   {
    "duration": 0,
    "start_time": "2022-10-31T18:19:46.270Z"
   },
   {
    "duration": 0,
    "start_time": "2022-10-31T18:19:46.271Z"
   },
   {
    "duration": 0,
    "start_time": "2022-10-31T18:19:46.272Z"
   },
   {
    "duration": 0,
    "start_time": "2022-10-31T18:19:46.275Z"
   },
   {
    "duration": 0,
    "start_time": "2022-10-31T18:19:46.276Z"
   },
   {
    "duration": 0,
    "start_time": "2022-10-31T18:19:46.277Z"
   },
   {
    "duration": 0,
    "start_time": "2022-10-31T18:19:46.277Z"
   },
   {
    "duration": 0,
    "start_time": "2022-10-31T18:19:46.278Z"
   },
   {
    "duration": 0,
    "start_time": "2022-10-31T18:19:46.279Z"
   },
   {
    "duration": 0,
    "start_time": "2022-10-31T18:19:46.279Z"
   },
   {
    "duration": 0,
    "start_time": "2022-10-31T18:19:46.308Z"
   },
   {
    "duration": 0,
    "start_time": "2022-10-31T18:19:46.309Z"
   },
   {
    "duration": 12,
    "start_time": "2022-10-31T18:20:26.200Z"
   },
   {
    "duration": 25,
    "start_time": "2022-10-31T18:23:09.633Z"
   },
   {
    "duration": 10,
    "start_time": "2022-10-31T18:23:31.272Z"
   },
   {
    "duration": 13,
    "start_time": "2022-10-31T18:24:10.583Z"
   },
   {
    "duration": 9,
    "start_time": "2022-10-31T18:25:56.959Z"
   },
   {
    "duration": 19,
    "start_time": "2022-10-31T18:27:27.185Z"
   },
   {
    "duration": 216,
    "start_time": "2022-10-31T18:27:41.864Z"
   },
   {
    "duration": 10,
    "start_time": "2022-10-31T18:28:28.056Z"
   },
   {
    "duration": 9,
    "start_time": "2022-10-31T18:31:46.913Z"
   },
   {
    "duration": 13,
    "start_time": "2022-10-31T18:33:04.943Z"
   },
   {
    "duration": 14,
    "start_time": "2022-10-31T18:33:16.169Z"
   },
   {
    "duration": 16,
    "start_time": "2022-10-31T18:34:12.744Z"
   },
   {
    "duration": 25,
    "start_time": "2022-10-31T18:34:26.314Z"
   },
   {
    "duration": 10,
    "start_time": "2022-10-31T18:34:52.879Z"
   },
   {
    "duration": 8,
    "start_time": "2022-10-31T18:35:34.624Z"
   },
   {
    "duration": 19,
    "start_time": "2022-10-31T18:35:57.015Z"
   },
   {
    "duration": 9,
    "start_time": "2022-10-31T18:35:58.447Z"
   },
   {
    "duration": 26,
    "start_time": "2022-10-31T18:40:24.140Z"
   },
   {
    "duration": 8,
    "start_time": "2022-10-31T18:40:24.769Z"
   },
   {
    "duration": 12,
    "start_time": "2022-10-31T18:42:33.679Z"
   },
   {
    "duration": 101,
    "start_time": "2022-10-31T18:42:55.041Z"
   },
   {
    "duration": 7,
    "start_time": "2022-10-31T18:42:55.486Z"
   },
   {
    "duration": 18,
    "start_time": "2022-10-31T18:43:09.880Z"
   },
   {
    "duration": 15,
    "start_time": "2022-10-31T18:43:24.446Z"
   },
   {
    "duration": 8,
    "start_time": "2022-10-31T18:43:25.198Z"
   },
   {
    "duration": 13,
    "start_time": "2022-10-31T18:43:43.698Z"
   },
   {
    "duration": 16,
    "start_time": "2022-10-31T18:45:50.684Z"
   },
   {
    "duration": 9,
    "start_time": "2022-10-31T18:46:01.284Z"
   },
   {
    "duration": 17,
    "start_time": "2022-10-31T18:46:14.718Z"
   },
   {
    "duration": 33,
    "start_time": "2022-10-31T18:48:55.646Z"
   },
   {
    "duration": 383,
    "start_time": "2022-10-31T18:49:05.971Z"
   },
   {
    "duration": 154,
    "start_time": "2022-10-31T18:49:06.356Z"
   },
   {
    "duration": 14,
    "start_time": "2022-10-31T18:49:06.512Z"
   },
   {
    "duration": 30,
    "start_time": "2022-10-31T18:49:06.528Z"
   },
   {
    "duration": 366,
    "start_time": "2022-10-31T18:49:06.560Z"
   },
   {
    "duration": 121,
    "start_time": "2022-10-31T18:49:06.928Z"
   },
   {
    "duration": 8,
    "start_time": "2022-10-31T18:49:07.051Z"
   },
   {
    "duration": 22,
    "start_time": "2022-10-31T18:49:07.061Z"
   },
   {
    "duration": 157,
    "start_time": "2022-10-31T18:49:07.085Z"
   },
   {
    "duration": 89,
    "start_time": "2022-10-31T18:49:07.245Z"
   },
   {
    "duration": 7,
    "start_time": "2022-10-31T18:49:07.335Z"
   },
   {
    "duration": 19,
    "start_time": "2022-10-31T18:49:07.344Z"
   },
   {
    "duration": 14,
    "start_time": "2022-10-31T18:49:07.365Z"
   },
   {
    "duration": 7,
    "start_time": "2022-10-31T18:49:07.381Z"
   },
   {
    "duration": 26,
    "start_time": "2022-10-31T18:49:07.389Z"
   },
   {
    "duration": 39,
    "start_time": "2022-10-31T18:49:07.416Z"
   },
   {
    "duration": 10,
    "start_time": "2022-10-31T18:49:07.456Z"
   },
   {
    "duration": 13,
    "start_time": "2022-10-31T18:49:07.467Z"
   },
   {
    "duration": 6,
    "start_time": "2022-10-31T18:49:07.481Z"
   },
   {
    "duration": 78,
    "start_time": "2022-10-31T18:49:07.488Z"
   },
   {
    "duration": 9,
    "start_time": "2022-10-31T18:49:07.567Z"
   },
   {
    "duration": 36,
    "start_time": "2022-10-31T18:49:07.577Z"
   },
   {
    "duration": 87,
    "start_time": "2022-10-31T18:49:07.615Z"
   },
   {
    "duration": 22,
    "start_time": "2022-10-31T18:49:07.703Z"
   },
   {
    "duration": 37,
    "start_time": "2022-10-31T18:49:07.726Z"
   },
   {
    "duration": 38,
    "start_time": "2022-10-31T18:49:07.765Z"
   },
   {
    "duration": 18,
    "start_time": "2022-10-31T18:49:07.804Z"
   },
   {
    "duration": 30,
    "start_time": "2022-10-31T18:49:07.825Z"
   },
   {
    "duration": 19,
    "start_time": "2022-10-31T18:49:07.857Z"
   },
   {
    "duration": 33,
    "start_time": "2022-10-31T18:49:07.878Z"
   },
   {
    "duration": 9,
    "start_time": "2022-10-31T18:49:07.912Z"
   },
   {
    "duration": 41,
    "start_time": "2022-10-31T18:49:07.923Z"
   },
   {
    "duration": 14,
    "start_time": "2022-10-31T18:49:07.965Z"
   },
   {
    "duration": 36,
    "start_time": "2022-10-31T18:49:07.981Z"
   },
   {
    "duration": 71,
    "start_time": "2022-10-31T18:49:08.018Z"
   },
   {
    "duration": 16,
    "start_time": "2022-10-31T18:49:08.091Z"
   },
   {
    "duration": 10,
    "start_time": "2022-10-31T18:49:08.109Z"
   },
   {
    "duration": 10,
    "start_time": "2022-10-31T18:49:08.120Z"
   },
   {
    "duration": 16,
    "start_time": "2022-10-31T18:49:08.131Z"
   },
   {
    "duration": 14,
    "start_time": "2022-10-31T18:49:08.149Z"
   },
   {
    "duration": 4,
    "start_time": "2022-10-31T18:49:08.164Z"
   },
   {
    "duration": 6,
    "start_time": "2022-10-31T18:49:08.170Z"
   },
   {
    "duration": 8,
    "start_time": "2022-10-31T18:49:08.178Z"
   },
   {
    "duration": 48,
    "start_time": "2022-10-31T18:49:08.187Z"
   },
   {
    "duration": 810,
    "start_time": "2022-10-31T18:49:08.237Z"
   },
   {
    "duration": 237,
    "start_time": "2022-10-31T18:49:09.049Z"
   },
   {
    "duration": 293,
    "start_time": "2022-10-31T18:49:09.288Z"
   },
   {
    "duration": 282,
    "start_time": "2022-10-31T18:49:09.582Z"
   },
   {
    "duration": 245,
    "start_time": "2022-10-31T18:49:09.866Z"
   },
   {
    "duration": 189,
    "start_time": "2022-10-31T18:49:10.113Z"
   },
   {
    "duration": 293,
    "start_time": "2022-10-31T18:49:10.308Z"
   },
   {
    "duration": 206,
    "start_time": "2022-10-31T18:49:10.603Z"
   },
   {
    "duration": 2,
    "start_time": "2022-10-31T18:49:10.810Z"
   },
   {
    "duration": 6,
    "start_time": "2022-10-31T18:49:10.814Z"
   },
   {
    "duration": 7,
    "start_time": "2022-10-31T18:49:10.822Z"
   },
   {
    "duration": 438,
    "start_time": "2022-11-01T16:40:56.336Z"
   },
   {
    "duration": 932,
    "start_time": "2022-11-01T16:40:56.776Z"
   },
   {
    "duration": 15,
    "start_time": "2022-11-01T16:40:57.712Z"
   },
   {
    "duration": 26,
    "start_time": "2022-11-01T16:40:57.729Z"
   },
   {
    "duration": 585,
    "start_time": "2022-11-01T16:40:57.757Z"
   },
   {
    "duration": 412,
    "start_time": "2022-11-01T16:40:58.344Z"
   },
   {
    "duration": 10,
    "start_time": "2022-11-01T16:40:58.758Z"
   },
   {
    "duration": 24,
    "start_time": "2022-11-01T16:40:58.769Z"
   },
   {
    "duration": 160,
    "start_time": "2022-11-01T16:40:58.796Z"
   },
   {
    "duration": 154,
    "start_time": "2022-11-01T16:40:58.957Z"
   },
   {
    "duration": 8,
    "start_time": "2022-11-01T16:40:59.112Z"
   },
   {
    "duration": 21,
    "start_time": "2022-11-01T16:40:59.121Z"
   },
   {
    "duration": 51,
    "start_time": "2022-11-01T16:40:59.144Z"
   },
   {
    "duration": 8,
    "start_time": "2022-11-01T16:40:59.196Z"
   },
   {
    "duration": 12,
    "start_time": "2022-11-01T16:40:59.206Z"
   },
   {
    "duration": 76,
    "start_time": "2022-11-01T16:40:59.219Z"
   },
   {
    "duration": 11,
    "start_time": "2022-11-01T16:40:59.296Z"
   },
   {
    "duration": 12,
    "start_time": "2022-11-01T16:40:59.308Z"
   },
   {
    "duration": 6,
    "start_time": "2022-11-01T16:40:59.322Z"
   },
   {
    "duration": 94,
    "start_time": "2022-11-01T16:40:59.330Z"
   },
   {
    "duration": 12,
    "start_time": "2022-11-01T16:40:59.426Z"
   },
   {
    "duration": 19,
    "start_time": "2022-11-01T16:40:59.439Z"
   },
   {
    "duration": 32,
    "start_time": "2022-11-01T16:40:59.459Z"
   },
   {
    "duration": 41,
    "start_time": "2022-11-01T16:40:59.493Z"
   },
   {
    "duration": 20,
    "start_time": "2022-11-01T16:40:59.535Z"
   },
   {
    "duration": 28,
    "start_time": "2022-11-01T16:40:59.557Z"
   },
   {
    "duration": 9,
    "start_time": "2022-11-01T16:40:59.588Z"
   },
   {
    "duration": 53,
    "start_time": "2022-11-01T16:40:59.598Z"
   },
   {
    "duration": 16,
    "start_time": "2022-11-01T16:40:59.653Z"
   },
   {
    "duration": 57,
    "start_time": "2022-11-01T16:40:59.672Z"
   },
   {
    "duration": 33,
    "start_time": "2022-11-01T16:40:59.731Z"
   },
   {
    "duration": 59,
    "start_time": "2022-11-01T16:40:59.765Z"
   },
   {
    "duration": 26,
    "start_time": "2022-11-01T16:40:59.825Z"
   },
   {
    "duration": 30,
    "start_time": "2022-11-01T16:40:59.852Z"
   },
   {
    "duration": 125,
    "start_time": "2022-11-01T16:40:59.883Z"
   },
   {
    "duration": 14,
    "start_time": "2022-11-01T16:41:00.010Z"
   },
   {
    "duration": 38,
    "start_time": "2022-11-01T16:41:00.026Z"
   },
   {
    "duration": 39,
    "start_time": "2022-11-01T16:41:00.066Z"
   },
   {
    "duration": 42,
    "start_time": "2022-11-01T16:41:00.107Z"
   },
   {
    "duration": 44,
    "start_time": "2022-11-01T16:41:00.150Z"
   },
   {
    "duration": 63,
    "start_time": "2022-11-01T16:41:00.196Z"
   },
   {
    "duration": 45,
    "start_time": "2022-11-01T16:41:00.262Z"
   },
   {
    "duration": 52,
    "start_time": "2022-11-01T16:41:00.309Z"
   },
   {
    "duration": 92,
    "start_time": "2022-11-01T16:41:00.363Z"
   },
   {
    "duration": 796,
    "start_time": "2022-11-01T16:41:00.457Z"
   },
   {
    "duration": 296,
    "start_time": "2022-11-01T16:41:01.255Z"
   },
   {
    "duration": 421,
    "start_time": "2022-11-01T16:41:01.553Z"
   },
   {
    "duration": 280,
    "start_time": "2022-11-01T16:41:01.976Z"
   },
   {
    "duration": 335,
    "start_time": "2022-11-01T16:41:02.258Z"
   },
   {
    "duration": 262,
    "start_time": "2022-11-01T16:41:02.595Z"
   },
   {
    "duration": 345,
    "start_time": "2022-11-01T16:41:02.859Z"
   },
   {
    "duration": 246,
    "start_time": "2022-11-01T16:41:03.205Z"
   },
   {
    "duration": 3,
    "start_time": "2022-11-01T16:41:03.453Z"
   },
   {
    "duration": 1291,
    "start_time": "2022-11-01T16:41:03.458Z"
   },
   {
    "duration": 0,
    "start_time": "2022-11-01T16:41:04.752Z"
   },
   {
    "duration": 10,
    "start_time": "2022-11-01T16:41:18.805Z"
   },
   {
    "duration": 9,
    "start_time": "2022-11-01T16:43:02.465Z"
   },
   {
    "duration": 37,
    "start_time": "2022-11-01T16:45:28.105Z"
   },
   {
    "duration": 14,
    "start_time": "2022-11-01T16:46:21.711Z"
   },
   {
    "duration": 410,
    "start_time": "2023-07-18T12:50:32.373Z"
   },
   {
    "duration": 533,
    "start_time": "2023-07-18T12:50:32.786Z"
   },
   {
    "duration": 21,
    "start_time": "2023-07-18T12:50:33.321Z"
   },
   {
    "duration": 47,
    "start_time": "2023-07-18T12:50:33.344Z"
   },
   {
    "duration": 498,
    "start_time": "2023-07-18T12:50:33.393Z"
   },
   {
    "duration": 702,
    "start_time": "2023-07-18T12:50:33.893Z"
   },
   {
    "duration": 10,
    "start_time": "2023-07-18T12:50:34.596Z"
   },
   {
    "duration": 27,
    "start_time": "2023-07-18T12:50:34.607Z"
   },
   {
    "duration": 173,
    "start_time": "2023-07-18T12:50:34.636Z"
   },
   {
    "duration": 146,
    "start_time": "2023-07-18T12:50:34.812Z"
   },
   {
    "duration": 8,
    "start_time": "2023-07-18T12:50:34.960Z"
   },
   {
    "duration": 32,
    "start_time": "2023-07-18T12:50:34.969Z"
   },
   {
    "duration": 59,
    "start_time": "2023-07-18T12:50:35.003Z"
   },
   {
    "duration": 9,
    "start_time": "2023-07-18T12:50:35.064Z"
   },
   {
    "duration": 22,
    "start_time": "2023-07-18T12:50:35.075Z"
   },
   {
    "duration": 84,
    "start_time": "2023-07-18T12:50:35.099Z"
   },
   {
    "duration": 11,
    "start_time": "2023-07-18T12:50:35.185Z"
   },
   {
    "duration": 27,
    "start_time": "2023-07-18T12:50:35.198Z"
   },
   {
    "duration": 6,
    "start_time": "2023-07-18T12:50:35.227Z"
   },
   {
    "duration": 100,
    "start_time": "2023-07-18T12:50:35.235Z"
   },
   {
    "duration": 9,
    "start_time": "2023-07-18T12:50:35.336Z"
   },
   {
    "duration": 31,
    "start_time": "2023-07-18T12:50:35.347Z"
   },
   {
    "duration": 37,
    "start_time": "2023-07-18T12:50:35.379Z"
   },
   {
    "duration": 16,
    "start_time": "2023-07-18T12:50:35.418Z"
   },
   {
    "duration": 20,
    "start_time": "2023-07-18T12:50:35.436Z"
   },
   {
    "duration": 26,
    "start_time": "2023-07-18T12:50:35.458Z"
   },
   {
    "duration": 33,
    "start_time": "2023-07-18T12:50:35.486Z"
   },
   {
    "duration": 75,
    "start_time": "2023-07-18T12:50:35.523Z"
   },
   {
    "duration": 7,
    "start_time": "2023-07-18T12:50:35.600Z"
   },
   {
    "duration": 28,
    "start_time": "2023-07-18T12:50:35.609Z"
   },
   {
    "duration": 11,
    "start_time": "2023-07-18T12:50:35.639Z"
   },
   {
    "duration": 39,
    "start_time": "2023-07-18T12:50:35.651Z"
   },
   {
    "duration": 17,
    "start_time": "2023-07-18T12:50:35.692Z"
   },
   {
    "duration": 26,
    "start_time": "2023-07-18T12:50:35.711Z"
   },
   {
    "duration": 48,
    "start_time": "2023-07-18T12:50:35.738Z"
   },
   {
    "duration": 18,
    "start_time": "2023-07-18T12:50:35.787Z"
   },
   {
    "duration": 15,
    "start_time": "2023-07-18T12:50:35.807Z"
   },
   {
    "duration": 15,
    "start_time": "2023-07-18T12:50:35.824Z"
   },
   {
    "duration": 30,
    "start_time": "2023-07-18T12:50:35.841Z"
   },
   {
    "duration": 31,
    "start_time": "2023-07-18T12:50:35.873Z"
   },
   {
    "duration": 14,
    "start_time": "2023-07-18T12:50:35.906Z"
   },
   {
    "duration": 31,
    "start_time": "2023-07-18T12:50:35.921Z"
   },
   {
    "duration": 16,
    "start_time": "2023-07-18T12:50:35.954Z"
   },
   {
    "duration": 69,
    "start_time": "2023-07-18T12:50:35.972Z"
   },
   {
    "duration": 861,
    "start_time": "2023-07-18T12:50:36.043Z"
   },
   {
    "duration": 284,
    "start_time": "2023-07-18T12:50:36.912Z"
   },
   {
    "duration": 352,
    "start_time": "2023-07-18T12:50:37.198Z"
   },
   {
    "duration": 316,
    "start_time": "2023-07-18T12:50:37.552Z"
   },
   {
    "duration": 287,
    "start_time": "2023-07-18T12:50:37.871Z"
   },
   {
    "duration": 237,
    "start_time": "2023-07-18T12:50:38.159Z"
   },
   {
    "duration": 336,
    "start_time": "2023-07-18T12:50:38.397Z"
   },
   {
    "duration": 235,
    "start_time": "2023-07-18T12:50:38.735Z"
   },
   {
    "duration": 2,
    "start_time": "2023-07-18T12:50:38.972Z"
   },
   {
    "duration": 22,
    "start_time": "2023-07-18T12:50:38.976Z"
   },
   {
    "duration": 77,
    "start_time": "2023-07-18T12:50:39.000Z"
   },
   {
    "duration": 9,
    "start_time": "2023-07-18T12:50:39.079Z"
   },
   {
    "duration": 4,
    "start_time": "2023-07-18T12:54:11.353Z"
   },
   {
    "duration": 152,
    "start_time": "2023-07-18T12:59:27.353Z"
   },
   {
    "duration": 250,
    "start_time": "2023-07-18T13:02:25.149Z"
   },
   {
    "duration": 261,
    "start_time": "2023-07-18T13:02:52.605Z"
   },
   {
    "duration": 175,
    "start_time": "2023-07-18T13:03:05.417Z"
   },
   {
    "duration": 182,
    "start_time": "2023-07-18T13:03:10.954Z"
   },
   {
    "duration": 154,
    "start_time": "2023-07-18T13:03:14.728Z"
   },
   {
    "duration": 160,
    "start_time": "2023-07-18T13:06:21.052Z"
   },
   {
    "duration": 47,
    "start_time": "2023-07-18T13:36:41.974Z"
   },
   {
    "duration": 1397,
    "start_time": "2023-07-19T05:47:58.267Z"
   },
   {
    "duration": 546,
    "start_time": "2023-07-19T05:47:59.666Z"
   },
   {
    "duration": 13,
    "start_time": "2023-07-19T05:48:00.214Z"
   },
   {
    "duration": 55,
    "start_time": "2023-07-19T05:48:00.230Z"
   },
   {
    "duration": 166,
    "start_time": "2023-07-19T05:48:00.286Z"
   },
   {
    "duration": 440,
    "start_time": "2023-07-19T05:48:00.454Z"
   },
   {
    "duration": 10,
    "start_time": "2023-07-19T05:48:00.896Z"
   },
   {
    "duration": 84,
    "start_time": "2023-07-19T05:48:00.907Z"
   },
   {
    "duration": 171,
    "start_time": "2023-07-19T05:48:00.993Z"
   },
   {
    "duration": 180,
    "start_time": "2023-07-19T05:48:01.167Z"
   },
   {
    "duration": 8,
    "start_time": "2023-07-19T05:48:01.349Z"
   },
   {
    "duration": 52,
    "start_time": "2023-07-19T05:48:01.359Z"
   },
   {
    "duration": 87,
    "start_time": "2023-07-19T05:48:01.413Z"
   },
   {
    "duration": 11,
    "start_time": "2023-07-19T05:48:01.501Z"
   },
   {
    "duration": 102,
    "start_time": "2023-07-19T05:48:01.514Z"
   },
   {
    "duration": 14,
    "start_time": "2023-07-19T05:48:01.618Z"
   },
   {
    "duration": 18,
    "start_time": "2023-07-19T05:48:01.633Z"
   },
   {
    "duration": 101,
    "start_time": "2023-07-19T05:48:01.653Z"
   },
   {
    "duration": 9,
    "start_time": "2023-07-19T05:48:01.755Z"
   },
   {
    "duration": 44,
    "start_time": "2023-07-19T05:48:01.765Z"
   },
   {
    "duration": 81,
    "start_time": "2023-07-19T05:48:01.811Z"
   },
   {
    "duration": 33,
    "start_time": "2023-07-19T05:48:01.894Z"
   },
   {
    "duration": 65,
    "start_time": "2023-07-19T05:48:01.929Z"
   },
   {
    "duration": 56,
    "start_time": "2023-07-19T05:48:01.995Z"
   },
   {
    "duration": 33,
    "start_time": "2023-07-19T05:48:02.053Z"
   },
   {
    "duration": 75,
    "start_time": "2023-07-19T05:48:02.088Z"
   },
   {
    "duration": 58,
    "start_time": "2023-07-19T05:48:02.164Z"
   },
   {
    "duration": 157,
    "start_time": "2023-07-19T05:48:02.226Z"
   },
   {
    "duration": 28,
    "start_time": "2023-07-19T05:48:02.384Z"
   },
   {
    "duration": 51,
    "start_time": "2023-07-19T05:48:02.413Z"
   },
   {
    "duration": 30,
    "start_time": "2023-07-19T05:48:02.465Z"
   },
   {
    "duration": 35,
    "start_time": "2023-07-19T05:48:02.497Z"
   },
   {
    "duration": 94,
    "start_time": "2023-07-19T05:48:02.534Z"
   },
   {
    "duration": 19,
    "start_time": "2023-07-19T05:48:02.629Z"
   },
   {
    "duration": 30,
    "start_time": "2023-07-19T05:48:02.650Z"
   },
   {
    "duration": 37,
    "start_time": "2023-07-19T05:48:02.682Z"
   },
   {
    "duration": 44,
    "start_time": "2023-07-19T05:48:02.720Z"
   },
   {
    "duration": 43,
    "start_time": "2023-07-19T05:48:02.766Z"
   },
   {
    "duration": 32,
    "start_time": "2023-07-19T05:48:02.810Z"
   },
   {
    "duration": 49,
    "start_time": "2023-07-19T05:48:02.843Z"
   },
   {
    "duration": 154,
    "start_time": "2023-07-19T05:48:02.894Z"
   },
   {
    "duration": 78,
    "start_time": "2023-07-19T05:48:03.050Z"
   },
   {
    "duration": 297,
    "start_time": "2023-07-19T05:48:03.130Z"
   },
   {
    "duration": 259,
    "start_time": "2023-07-19T05:48:03.429Z"
   },
   {
    "duration": 365,
    "start_time": "2023-07-19T05:48:03.690Z"
   },
   {
    "duration": 351,
    "start_time": "2023-07-19T05:48:04.058Z"
   },
   {
    "duration": 278,
    "start_time": "2023-07-19T05:48:04.410Z"
   },
   {
    "duration": 197,
    "start_time": "2023-07-19T05:48:04.690Z"
   },
   {
    "duration": 311,
    "start_time": "2023-07-19T05:48:04.889Z"
   },
   {
    "duration": 218,
    "start_time": "2023-07-19T05:48:05.202Z"
   },
   {
    "duration": 9,
    "start_time": "2023-07-19T05:48:05.421Z"
   },
   {
    "duration": 58,
    "start_time": "2023-07-19T05:48:05.432Z"
   },
   {
    "duration": 7,
    "start_time": "2023-07-19T05:48:05.492Z"
   },
   {
    "duration": 111,
    "start_time": "2023-07-19T05:50:46.768Z"
   },
   {
    "duration": 173,
    "start_time": "2023-07-19T05:50:57.888Z"
   },
   {
    "duration": 27,
    "start_time": "2023-07-19T05:51:30.108Z"
   },
   {
    "duration": 37,
    "start_time": "2023-07-19T05:52:29.414Z"
   },
   {
    "duration": 33,
    "start_time": "2023-07-19T05:52:39.009Z"
   },
   {
    "duration": 32,
    "start_time": "2023-07-19T05:52:49.593Z"
   },
   {
    "duration": 164,
    "start_time": "2023-07-19T05:53:08.870Z"
   },
   {
    "duration": 19,
    "start_time": "2023-07-19T05:54:20.168Z"
   },
   {
    "duration": 185,
    "start_time": "2023-07-19T05:54:51.095Z"
   },
   {
    "duration": 233,
    "start_time": "2023-07-19T06:00:48.775Z"
   },
   {
    "duration": 155,
    "start_time": "2023-07-19T06:00:58.124Z"
   },
   {
    "duration": 169,
    "start_time": "2023-07-19T06:05:42.340Z"
   },
   {
    "duration": 162,
    "start_time": "2023-07-19T06:06:05.508Z"
   },
   {
    "duration": 2109,
    "start_time": "2023-07-19T06:10:51.814Z"
   },
   {
    "duration": 118,
    "start_time": "2023-07-19T06:11:11.052Z"
   },
   {
    "duration": 118,
    "start_time": "2023-07-19T06:11:18.903Z"
   },
   {
    "duration": 137,
    "start_time": "2023-07-19T06:11:41.027Z"
   },
   {
    "duration": 38,
    "start_time": "2023-07-19T06:12:51.901Z"
   },
   {
    "duration": 6,
    "start_time": "2023-07-19T06:13:08.736Z"
   },
   {
    "duration": 5,
    "start_time": "2023-07-19T06:14:55.987Z"
   },
   {
    "duration": 5,
    "start_time": "2023-07-19T06:15:01.244Z"
   },
   {
    "duration": 8,
    "start_time": "2023-07-19T06:23:14.519Z"
   },
   {
    "duration": 122,
    "start_time": "2023-07-19T06:24:09.530Z"
   },
   {
    "duration": 139,
    "start_time": "2023-07-19T06:25:47.750Z"
   },
   {
    "duration": 127,
    "start_time": "2023-07-19T06:26:47.663Z"
   },
   {
    "duration": 183,
    "start_time": "2023-07-19T06:27:45.247Z"
   },
   {
    "duration": 153,
    "start_time": "2023-07-19T06:28:26.137Z"
   },
   {
    "duration": 158,
    "start_time": "2023-07-19T06:28:29.637Z"
   },
   {
    "duration": 216,
    "start_time": "2023-07-19T06:32:11.910Z"
   },
   {
    "duration": 157,
    "start_time": "2023-07-19T06:32:33.237Z"
   },
   {
    "duration": 254,
    "start_time": "2023-07-19T06:33:53.010Z"
   },
   {
    "duration": 165,
    "start_time": "2023-07-19T06:34:23.363Z"
   },
   {
    "duration": 165,
    "start_time": "2023-07-19T06:34:29.507Z"
   },
   {
    "duration": 165,
    "start_time": "2023-07-19T06:34:49.848Z"
   },
   {
    "duration": 139,
    "start_time": "2023-07-19T06:34:54.906Z"
   },
   {
    "duration": 143,
    "start_time": "2023-07-19T06:35:04.523Z"
   },
   {
    "duration": 159,
    "start_time": "2023-07-19T06:35:08.984Z"
   },
   {
    "duration": 164,
    "start_time": "2023-07-19T06:35:13.613Z"
   },
   {
    "duration": 169,
    "start_time": "2023-07-19T06:35:21.595Z"
   },
   {
    "duration": 345,
    "start_time": "2023-07-19T06:36:07.223Z"
   },
   {
    "duration": 178,
    "start_time": "2023-07-19T06:36:19.158Z"
   },
   {
    "duration": 292,
    "start_time": "2023-07-19T06:39:27.193Z"
   },
   {
    "duration": 172,
    "start_time": "2023-07-19T06:39:32.867Z"
   },
   {
    "duration": 13,
    "start_time": "2023-07-19T06:39:42.445Z"
   },
   {
    "duration": 9,
    "start_time": "2023-07-19T06:41:47.393Z"
   },
   {
    "duration": 122,
    "start_time": "2023-07-19T06:43:20.200Z"
   },
   {
    "duration": 135,
    "start_time": "2023-07-19T06:43:30.058Z"
   },
   {
    "duration": 14,
    "start_time": "2023-07-19T06:43:40.273Z"
   },
   {
    "duration": 9,
    "start_time": "2023-07-19T06:44:21.945Z"
   },
   {
    "duration": 52,
    "start_time": "2023-07-19T06:44:28.546Z"
   },
   {
    "duration": 57,
    "start_time": "2023-07-19T06:44:45.244Z"
   },
   {
    "duration": 3,
    "start_time": "2023-07-19T06:47:06.960Z"
   },
   {
    "duration": 10,
    "start_time": "2023-07-19T06:49:32.956Z"
   },
   {
    "duration": 10,
    "start_time": "2023-07-19T06:49:55.478Z"
   },
   {
    "duration": 11,
    "start_time": "2023-07-19T06:50:09.109Z"
   },
   {
    "duration": 13,
    "start_time": "2023-07-19T06:50:32.997Z"
   },
   {
    "duration": 342,
    "start_time": "2023-07-19T06:50:45.395Z"
   },
   {
    "duration": 2140,
    "start_time": "2023-07-19T06:56:12.844Z"
   },
   {
    "duration": 8,
    "start_time": "2023-07-19T06:56:24.594Z"
   },
   {
    "duration": 2288,
    "start_time": "2023-07-19T06:56:28.293Z"
   },
   {
    "duration": 235,
    "start_time": "2023-07-19T06:56:37.899Z"
   },
   {
    "duration": 345,
    "start_time": "2023-07-19T06:56:45.500Z"
   },
   {
    "duration": 184,
    "start_time": "2023-07-19T06:56:53.544Z"
   },
   {
    "duration": 513,
    "start_time": "2023-07-19T06:57:01.452Z"
   },
   {
    "duration": 9,
    "start_time": "2023-07-19T07:01:07.208Z"
   },
   {
    "duration": 2158,
    "start_time": "2023-07-19T07:01:38.805Z"
   },
   {
    "duration": 168,
    "start_time": "2023-07-19T07:01:59.122Z"
   },
   {
    "duration": 219,
    "start_time": "2023-07-19T07:09:11.541Z"
   },
   {
    "duration": 152,
    "start_time": "2023-07-19T07:09:47.649Z"
   },
   {
    "duration": 166,
    "start_time": "2023-07-19T07:09:57.941Z"
   },
   {
    "duration": 155,
    "start_time": "2023-07-19T07:10:03.185Z"
   },
   {
    "duration": 163,
    "start_time": "2023-07-19T07:10:13.368Z"
   },
   {
    "duration": 159,
    "start_time": "2023-07-19T07:10:28.281Z"
   },
   {
    "duration": 152,
    "start_time": "2023-07-19T07:10:40.609Z"
   },
   {
    "duration": 180,
    "start_time": "2023-07-19T07:10:47.937Z"
   },
   {
    "duration": 516,
    "start_time": "2023-07-19T07:11:36.979Z"
   },
   {
    "duration": 183,
    "start_time": "2023-07-19T07:11:51.541Z"
   },
   {
    "duration": 175,
    "start_time": "2023-07-19T07:12:24.187Z"
   },
   {
    "duration": 175,
    "start_time": "2023-07-19T07:14:00.115Z"
   },
   {
    "duration": 170,
    "start_time": "2023-07-19T07:20:56.265Z"
   },
   {
    "duration": 216,
    "start_time": "2023-07-19T07:21:27.203Z"
   },
   {
    "duration": 195,
    "start_time": "2023-07-19T07:21:39.101Z"
   },
   {
    "duration": 184,
    "start_time": "2023-07-19T07:21:47.823Z"
   },
   {
    "duration": 167,
    "start_time": "2023-07-19T07:22:37.283Z"
   },
   {
    "duration": 174,
    "start_time": "2023-07-19T07:23:08.294Z"
   },
   {
    "duration": 8,
    "start_time": "2023-07-19T07:23:48.963Z"
   },
   {
    "duration": 352,
    "start_time": "2023-07-19T07:24:04.277Z"
   },
   {
    "duration": 261,
    "start_time": "2023-07-19T07:24:53.079Z"
   },
   {
    "duration": 8,
    "start_time": "2023-07-19T07:25:03.187Z"
   },
   {
    "duration": 14,
    "start_time": "2023-07-19T07:25:37.897Z"
   },
   {
    "duration": 4,
    "start_time": "2023-07-19T07:26:02.888Z"
   },
   {
    "duration": 6,
    "start_time": "2023-07-19T07:26:30.256Z"
   },
   {
    "duration": 6,
    "start_time": "2023-07-19T07:30:24.078Z"
   },
   {
    "duration": 6,
    "start_time": "2023-07-19T07:30:29.223Z"
   },
   {
    "duration": 8,
    "start_time": "2023-07-19T07:30:37.028Z"
   },
   {
    "duration": 10,
    "start_time": "2023-07-19T07:30:54.110Z"
   },
   {
    "duration": 149,
    "start_time": "2023-07-19T07:34:16.622Z"
   },
   {
    "duration": 147,
    "start_time": "2023-07-19T07:34:34.233Z"
   },
   {
    "duration": 8,
    "start_time": "2023-07-19T07:35:04.844Z"
   },
   {
    "duration": 8,
    "start_time": "2023-07-19T07:39:33.138Z"
   },
   {
    "duration": 12,
    "start_time": "2023-07-19T07:39:48.038Z"
   },
   {
    "duration": 11,
    "start_time": "2023-07-19T07:40:06.893Z"
   },
   {
    "duration": 107,
    "start_time": "2023-07-19T07:40:11.723Z"
   },
   {
    "duration": 104,
    "start_time": "2023-07-19T07:40:17.510Z"
   },
   {
    "duration": 547,
    "start_time": "2023-07-19T07:41:01.211Z"
   },
   {
    "duration": 10,
    "start_time": "2023-07-19T07:42:00.242Z"
   },
   {
    "duration": 7,
    "start_time": "2023-07-19T07:42:10.368Z"
   },
   {
    "duration": 6,
    "start_time": "2023-07-19T07:42:27.910Z"
   },
   {
    "duration": 543,
    "start_time": "2023-07-19T07:43:28.198Z"
   },
   {
    "duration": 115,
    "start_time": "2023-07-19T07:44:06.707Z"
   },
   {
    "duration": 82,
    "start_time": "2023-07-19T07:44:12.746Z"
   },
   {
    "duration": 103,
    "start_time": "2023-07-19T07:44:31.501Z"
   },
   {
    "duration": 11,
    "start_time": "2023-07-19T07:45:04.843Z"
   },
   {
    "duration": 4,
    "start_time": "2023-07-19T07:45:07.339Z"
   },
   {
    "duration": 71,
    "start_time": "2023-07-19T07:45:08.821Z"
   },
   {
    "duration": 6,
    "start_time": "2023-07-19T07:45:23.743Z"
   },
   {
    "duration": 125,
    "start_time": "2023-07-19T07:46:30.148Z"
   },
   {
    "duration": 64,
    "start_time": "2023-07-19T07:47:33.579Z"
   },
   {
    "duration": 80,
    "start_time": "2023-07-19T07:48:06.159Z"
   },
   {
    "duration": 92,
    "start_time": "2023-07-19T07:48:14.235Z"
   },
   {
    "duration": 73,
    "start_time": "2023-07-19T07:48:25.768Z"
   },
   {
    "duration": 109,
    "start_time": "2023-07-19T07:48:41.241Z"
   },
   {
    "duration": 89,
    "start_time": "2023-07-19T07:48:48.789Z"
   },
   {
    "duration": 110,
    "start_time": "2023-07-19T07:48:56.572Z"
   },
   {
    "duration": 7,
    "start_time": "2023-07-19T07:50:21.597Z"
   },
   {
    "duration": 7,
    "start_time": "2023-07-19T07:50:34.393Z"
   },
   {
    "duration": 7,
    "start_time": "2023-07-19T07:50:38.334Z"
   },
   {
    "duration": 219,
    "start_time": "2023-07-19T07:50:45.635Z"
   },
   {
    "duration": 16,
    "start_time": "2023-07-19T08:04:25.158Z"
   },
   {
    "duration": 14,
    "start_time": "2023-07-19T08:04:33.514Z"
   },
   {
    "duration": 1168,
    "start_time": "2023-07-19T08:04:42.484Z"
   },
   {
    "duration": 190,
    "start_time": "2023-07-19T08:04:43.654Z"
   },
   {
    "duration": 28,
    "start_time": "2023-07-19T08:04:43.846Z"
   },
   {
    "duration": 223,
    "start_time": "2023-07-19T08:04:43.876Z"
   },
   {
    "duration": 181,
    "start_time": "2023-07-19T08:04:44.101Z"
   },
   {
    "duration": 21,
    "start_time": "2023-07-19T08:04:44.283Z"
   },
   {
    "duration": 192,
    "start_time": "2023-07-19T08:04:44.305Z"
   },
   {
    "duration": 125,
    "start_time": "2023-07-19T08:04:44.498Z"
   },
   {
    "duration": 26,
    "start_time": "2023-07-19T08:04:44.624Z"
   },
   {
    "duration": 6,
    "start_time": "2023-07-19T08:04:44.667Z"
   },
   {
    "duration": 32,
    "start_time": "2023-07-19T08:04:44.674Z"
   },
   {
    "duration": 10,
    "start_time": "2023-07-19T08:04:44.708Z"
   },
   {
    "duration": 35,
    "start_time": "2023-07-19T08:04:44.719Z"
   },
   {
    "duration": 10,
    "start_time": "2023-07-19T08:04:44.756Z"
   },
   {
    "duration": 138,
    "start_time": "2023-07-19T08:04:44.768Z"
   },
   {
    "duration": 329,
    "start_time": "2023-07-19T08:04:44.908Z"
   },
   {
    "duration": 11,
    "start_time": "2023-07-19T08:04:45.238Z"
   },
   {
    "duration": 4005,
    "start_time": "2023-07-19T08:04:45.250Z"
   },
   {
    "duration": 17,
    "start_time": "2023-07-19T08:04:49.257Z"
   },
   {
    "duration": 208,
    "start_time": "2023-07-19T08:04:49.276Z"
   },
   {
    "duration": 91,
    "start_time": "2023-07-19T08:04:49.486Z"
   },
   {
    "duration": 9,
    "start_time": "2023-07-19T08:04:49.578Z"
   },
   {
    "duration": 17,
    "start_time": "2023-07-19T08:04:49.588Z"
   },
   {
    "duration": 32,
    "start_time": "2023-07-19T08:04:49.607Z"
   },
   {
    "duration": 40,
    "start_time": "2023-07-19T08:04:49.640Z"
   },
   {
    "duration": 17,
    "start_time": "2023-07-19T08:04:49.682Z"
   },
   {
    "duration": 30,
    "start_time": "2023-07-19T08:04:49.701Z"
   },
   {
    "duration": 8,
    "start_time": "2023-07-19T08:04:49.735Z"
   },
   {
    "duration": 46,
    "start_time": "2023-07-19T08:04:49.745Z"
   },
   {
    "duration": 9,
    "start_time": "2023-07-19T08:04:49.793Z"
   },
   {
    "duration": 19,
    "start_time": "2023-07-19T08:04:49.803Z"
   },
   {
    "duration": 8,
    "start_time": "2023-07-19T08:04:49.824Z"
   },
   {
    "duration": 49,
    "start_time": "2023-07-19T08:04:49.833Z"
   },
   {
    "duration": 10,
    "start_time": "2023-07-19T08:04:49.884Z"
   },
   {
    "duration": 12,
    "start_time": "2023-07-19T08:04:49.896Z"
   },
   {
    "duration": 46,
    "start_time": "2023-07-19T08:04:49.909Z"
   },
   {
    "duration": 18,
    "start_time": "2023-07-19T08:04:49.957Z"
   },
   {
    "duration": 25,
    "start_time": "2023-07-19T08:04:49.976Z"
   },
   {
    "duration": 11,
    "start_time": "2023-07-19T08:04:50.003Z"
   },
   {
    "duration": 16,
    "start_time": "2023-07-19T08:04:50.016Z"
   },
   {
    "duration": 11,
    "start_time": "2023-07-19T08:04:50.034Z"
   },
   {
    "duration": 17,
    "start_time": "2023-07-19T08:04:50.046Z"
   },
   {
    "duration": 9,
    "start_time": "2023-07-19T08:04:50.066Z"
   },
   {
    "duration": 15,
    "start_time": "2023-07-19T08:04:50.077Z"
   },
   {
    "duration": 75,
    "start_time": "2023-07-19T08:04:50.093Z"
   },
   {
    "duration": 333,
    "start_time": "2023-07-19T08:04:50.170Z"
   },
   {
    "duration": 246,
    "start_time": "2023-07-19T08:04:50.505Z"
   },
   {
    "duration": 300,
    "start_time": "2023-07-19T08:04:50.753Z"
   },
   {
    "duration": 225,
    "start_time": "2023-07-19T08:04:51.055Z"
   },
   {
    "duration": 390,
    "start_time": "2023-07-19T08:04:51.282Z"
   },
   {
    "duration": 229,
    "start_time": "2023-07-19T08:04:51.674Z"
   },
   {
    "duration": 322,
    "start_time": "2023-07-19T08:04:51.905Z"
   },
   {
    "duration": 217,
    "start_time": "2023-07-19T08:04:52.229Z"
   },
   {
    "duration": 22,
    "start_time": "2023-07-19T08:04:52.448Z"
   },
   {
    "duration": 40,
    "start_time": "2023-07-19T08:04:52.472Z"
   },
   {
    "duration": 8,
    "start_time": "2023-07-19T08:04:52.513Z"
   },
   {
    "duration": 38,
    "start_time": "2023-07-19T08:19:44.143Z"
   },
   {
    "duration": 29,
    "start_time": "2023-07-19T08:20:55.589Z"
   },
   {
    "duration": 20,
    "start_time": "2023-07-19T08:22:08.210Z"
   },
   {
    "duration": 1079,
    "start_time": "2023-07-19T10:40:49.818Z"
   },
   {
    "duration": 199,
    "start_time": "2023-07-19T10:40:50.899Z"
   },
   {
    "duration": 29,
    "start_time": "2023-07-19T10:40:51.099Z"
   },
   {
    "duration": 188,
    "start_time": "2023-07-19T10:40:51.130Z"
   },
   {
    "duration": 155,
    "start_time": "2023-07-19T10:40:51.320Z"
   },
   {
    "duration": 23,
    "start_time": "2023-07-19T10:40:51.477Z"
   },
   {
    "duration": 187,
    "start_time": "2023-07-19T10:40:51.501Z"
   },
   {
    "duration": 115,
    "start_time": "2023-07-19T10:40:51.689Z"
   },
   {
    "duration": 19,
    "start_time": "2023-07-19T10:40:51.805Z"
   },
   {
    "duration": 6,
    "start_time": "2023-07-19T10:40:51.828Z"
   },
   {
    "duration": 34,
    "start_time": "2023-07-19T10:40:51.836Z"
   },
   {
    "duration": 10,
    "start_time": "2023-07-19T10:40:51.872Z"
   },
   {
    "duration": 37,
    "start_time": "2023-07-19T10:40:51.884Z"
   },
   {
    "duration": 10,
    "start_time": "2023-07-19T10:40:51.923Z"
   },
   {
    "duration": 139,
    "start_time": "2023-07-19T10:40:51.935Z"
   },
   {
    "duration": 260,
    "start_time": "2023-07-19T10:40:52.076Z"
   },
   {
    "duration": 9,
    "start_time": "2023-07-19T10:40:52.338Z"
   },
   {
    "duration": 4923,
    "start_time": "2023-07-19T10:40:52.349Z"
   },
   {
    "duration": 9,
    "start_time": "2023-07-19T10:40:57.273Z"
   },
   {
    "duration": 391,
    "start_time": "2023-07-19T10:40:57.284Z"
   },
   {
    "duration": 127,
    "start_time": "2023-07-19T10:40:57.676Z"
   },
   {
    "duration": 64,
    "start_time": "2023-07-19T10:40:57.804Z"
   },
   {
    "duration": 17,
    "start_time": "2023-07-19T10:40:57.870Z"
   },
   {
    "duration": 90,
    "start_time": "2023-07-19T10:40:57.889Z"
   },
   {
    "duration": 14,
    "start_time": "2023-07-19T10:40:57.981Z"
   },
   {
    "duration": 20,
    "start_time": "2023-07-19T10:40:57.997Z"
   },
   {
    "duration": 23,
    "start_time": "2023-07-19T10:40:58.018Z"
   },
   {
    "duration": 9,
    "start_time": "2023-07-19T10:40:58.070Z"
   },
   {
    "duration": 33,
    "start_time": "2023-07-19T10:40:58.080Z"
   },
   {
    "duration": 20,
    "start_time": "2023-07-19T10:40:58.115Z"
   },
   {
    "duration": 40,
    "start_time": "2023-07-19T10:40:58.137Z"
   },
   {
    "duration": 4,
    "start_time": "2023-07-19T10:40:58.178Z"
   },
   {
    "duration": 36,
    "start_time": "2023-07-19T10:40:58.184Z"
   },
   {
    "duration": 8,
    "start_time": "2023-07-19T10:40:58.222Z"
   },
   {
    "duration": 37,
    "start_time": "2023-07-19T10:40:58.231Z"
   },
   {
    "duration": 3,
    "start_time": "2023-07-19T10:40:58.270Z"
   },
   {
    "duration": 11,
    "start_time": "2023-07-19T10:40:58.275Z"
   },
   {
    "duration": 19,
    "start_time": "2023-07-19T10:40:58.288Z"
   },
   {
    "duration": 4,
    "start_time": "2023-07-19T10:40:58.309Z"
   },
   {
    "duration": 10,
    "start_time": "2023-07-19T10:40:58.315Z"
   },
   {
    "duration": 7,
    "start_time": "2023-07-19T10:40:58.326Z"
   },
   {
    "duration": 50,
    "start_time": "2023-07-19T10:40:58.334Z"
   },
   {
    "duration": 292,
    "start_time": "2023-07-19T10:40:58.385Z"
   },
   {
    "duration": 236,
    "start_time": "2023-07-19T10:40:58.679Z"
   },
   {
    "duration": 313,
    "start_time": "2023-07-19T10:40:58.917Z"
   },
   {
    "duration": 209,
    "start_time": "2023-07-19T10:40:59.232Z"
   },
   {
    "duration": 341,
    "start_time": "2023-07-19T10:40:59.442Z"
   },
   {
    "duration": 209,
    "start_time": "2023-07-19T10:40:59.785Z"
   },
   {
    "duration": 302,
    "start_time": "2023-07-19T10:40:59.996Z"
   },
   {
    "duration": 209,
    "start_time": "2023-07-19T10:41:00.300Z"
   },
   {
    "duration": 10,
    "start_time": "2023-07-19T10:41:00.511Z"
   },
   {
    "duration": 63,
    "start_time": "2023-07-19T10:41:00.522Z"
   },
   {
    "duration": 14,
    "start_time": "2023-07-19T10:41:00.586Z"
   },
   {
    "duration": 101,
    "start_time": "2023-07-19T10:42:02.937Z"
   },
   {
    "duration": 11,
    "start_time": "2023-07-19T10:44:21.127Z"
   },
   {
    "duration": 3,
    "start_time": "2023-07-19T10:45:34.502Z"
   },
   {
    "duration": 6,
    "start_time": "2023-07-19T10:45:39.653Z"
   },
   {
    "duration": 6,
    "start_time": "2023-07-19T10:45:56.947Z"
   },
   {
    "duration": 126,
    "start_time": "2023-07-19T10:46:53.125Z"
   },
   {
    "duration": 118,
    "start_time": "2023-07-19T10:47:22.339Z"
   },
   {
    "duration": 149,
    "start_time": "2023-07-19T10:47:40.433Z"
   },
   {
    "duration": 149,
    "start_time": "2023-07-19T10:47:49.183Z"
   },
   {
    "duration": 579,
    "start_time": "2023-07-19T10:49:37.868Z"
   },
   {
    "duration": 484,
    "start_time": "2023-07-19T10:49:43.093Z"
   },
   {
    "duration": 8,
    "start_time": "2023-07-19T10:50:10.444Z"
   },
   {
    "duration": 536,
    "start_time": "2023-07-19T10:50:38.582Z"
   },
   {
    "duration": 10,
    "start_time": "2023-07-19T10:51:14.335Z"
   },
   {
    "duration": 12,
    "start_time": "2023-07-19T10:51:26.240Z"
   },
   {
    "duration": 11,
    "start_time": "2023-07-19T10:52:14.147Z"
   },
   {
    "duration": 19,
    "start_time": "2023-07-19T10:52:40.548Z"
   },
   {
    "duration": 11,
    "start_time": "2023-07-19T10:54:29.537Z"
   },
   {
    "duration": 9,
    "start_time": "2023-07-19T10:54:35.428Z"
   },
   {
    "duration": 256,
    "start_time": "2023-07-19T10:55:21.031Z"
   },
   {
    "duration": 1198,
    "start_time": "2023-07-19T10:56:22.327Z"
   },
   {
    "duration": 186,
    "start_time": "2023-07-19T10:56:23.527Z"
   },
   {
    "duration": 28,
    "start_time": "2023-07-19T10:56:23.715Z"
   },
   {
    "duration": 194,
    "start_time": "2023-07-19T10:56:23.745Z"
   },
   {
    "duration": 202,
    "start_time": "2023-07-19T10:56:23.940Z"
   },
   {
    "duration": 38,
    "start_time": "2023-07-19T10:56:24.144Z"
   },
   {
    "duration": 191,
    "start_time": "2023-07-19T10:56:24.184Z"
   },
   {
    "duration": 111,
    "start_time": "2023-07-19T10:56:24.377Z"
   },
   {
    "duration": 20,
    "start_time": "2023-07-19T10:56:24.490Z"
   },
   {
    "duration": 7,
    "start_time": "2023-07-19T10:56:24.512Z"
   },
   {
    "duration": 24,
    "start_time": "2023-07-19T10:56:24.520Z"
   },
   {
    "duration": 29,
    "start_time": "2023-07-19T10:56:24.546Z"
   },
   {
    "duration": 45,
    "start_time": "2023-07-19T10:56:24.577Z"
   },
   {
    "duration": 11,
    "start_time": "2023-07-19T10:56:24.624Z"
   },
   {
    "duration": 137,
    "start_time": "2023-07-19T10:56:24.637Z"
   },
   {
    "duration": 106,
    "start_time": "2023-07-19T10:56:24.776Z"
   },
   {
    "duration": 0,
    "start_time": "2023-07-19T10:56:24.885Z"
   },
   {
    "duration": 0,
    "start_time": "2023-07-19T10:56:24.886Z"
   },
   {
    "duration": 0,
    "start_time": "2023-07-19T10:56:24.888Z"
   },
   {
    "duration": 0,
    "start_time": "2023-07-19T10:56:24.889Z"
   },
   {
    "duration": 0,
    "start_time": "2023-07-19T10:56:24.890Z"
   },
   {
    "duration": 0,
    "start_time": "2023-07-19T10:56:24.892Z"
   },
   {
    "duration": 0,
    "start_time": "2023-07-19T10:56:24.893Z"
   },
   {
    "duration": 0,
    "start_time": "2023-07-19T10:56:24.895Z"
   },
   {
    "duration": 0,
    "start_time": "2023-07-19T10:56:24.897Z"
   },
   {
    "duration": 0,
    "start_time": "2023-07-19T10:56:24.898Z"
   },
   {
    "duration": 0,
    "start_time": "2023-07-19T10:56:24.900Z"
   },
   {
    "duration": 0,
    "start_time": "2023-07-19T10:56:24.901Z"
   },
   {
    "duration": 0,
    "start_time": "2023-07-19T10:56:24.902Z"
   },
   {
    "duration": 0,
    "start_time": "2023-07-19T10:56:24.904Z"
   },
   {
    "duration": 0,
    "start_time": "2023-07-19T10:56:24.905Z"
   },
   {
    "duration": 0,
    "start_time": "2023-07-19T10:56:24.906Z"
   },
   {
    "duration": 0,
    "start_time": "2023-07-19T10:56:24.907Z"
   },
   {
    "duration": 0,
    "start_time": "2023-07-19T10:56:24.908Z"
   },
   {
    "duration": 0,
    "start_time": "2023-07-19T10:56:24.909Z"
   },
   {
    "duration": 0,
    "start_time": "2023-07-19T10:56:24.910Z"
   },
   {
    "duration": 0,
    "start_time": "2023-07-19T10:56:24.911Z"
   },
   {
    "duration": 0,
    "start_time": "2023-07-19T10:56:24.912Z"
   },
   {
    "duration": 0,
    "start_time": "2023-07-19T10:56:24.913Z"
   },
   {
    "duration": 0,
    "start_time": "2023-07-19T10:56:24.914Z"
   },
   {
    "duration": 0,
    "start_time": "2023-07-19T10:56:24.915Z"
   },
   {
    "duration": 0,
    "start_time": "2023-07-19T10:56:24.916Z"
   },
   {
    "duration": 0,
    "start_time": "2023-07-19T10:56:24.917Z"
   },
   {
    "duration": 0,
    "start_time": "2023-07-19T10:56:24.968Z"
   },
   {
    "duration": 0,
    "start_time": "2023-07-19T10:56:24.969Z"
   },
   {
    "duration": 0,
    "start_time": "2023-07-19T10:56:24.970Z"
   },
   {
    "duration": 0,
    "start_time": "2023-07-19T10:56:24.971Z"
   },
   {
    "duration": 1,
    "start_time": "2023-07-19T10:56:24.972Z"
   },
   {
    "duration": 0,
    "start_time": "2023-07-19T10:56:24.974Z"
   },
   {
    "duration": 0,
    "start_time": "2023-07-19T10:56:24.975Z"
   },
   {
    "duration": 0,
    "start_time": "2023-07-19T10:56:24.976Z"
   },
   {
    "duration": 0,
    "start_time": "2023-07-19T10:56:24.977Z"
   },
   {
    "duration": 0,
    "start_time": "2023-07-19T10:56:24.978Z"
   },
   {
    "duration": 0,
    "start_time": "2023-07-19T10:56:24.979Z"
   },
   {
    "duration": 0,
    "start_time": "2023-07-19T10:56:24.980Z"
   },
   {
    "duration": 0,
    "start_time": "2023-07-19T10:56:24.981Z"
   },
   {
    "duration": 0,
    "start_time": "2023-07-19T10:56:24.982Z"
   },
   {
    "duration": 12,
    "start_time": "2023-07-19T10:57:18.576Z"
   },
   {
    "duration": 12,
    "start_time": "2023-07-19T10:57:56.713Z"
   },
   {
    "duration": 8,
    "start_time": "2023-07-19T10:58:54.371Z"
   },
   {
    "duration": 9,
    "start_time": "2023-07-19T11:00:39.679Z"
   },
   {
    "duration": 9,
    "start_time": "2023-07-19T11:01:05.929Z"
   },
   {
    "duration": 8,
    "start_time": "2023-07-19T11:01:12.591Z"
   },
   {
    "duration": 3,
    "start_time": "2023-07-19T11:01:28.887Z"
   },
   {
    "duration": 3,
    "start_time": "2023-07-19T11:01:34.783Z"
   },
   {
    "duration": 247,
    "start_time": "2023-07-19T11:01:36.174Z"
   },
   {
    "duration": 9,
    "start_time": "2023-07-19T11:01:36.670Z"
   },
   {
    "duration": 11,
    "start_time": "2023-07-19T11:02:23.821Z"
   },
   {
    "duration": 131,
    "start_time": "2023-07-19T11:02:26.896Z"
   },
   {
    "duration": 11,
    "start_time": "2023-07-19T11:03:59.373Z"
   },
   {
    "duration": 1200,
    "start_time": "2023-07-19T11:04:07.190Z"
   },
   {
    "duration": 189,
    "start_time": "2023-07-19T11:04:08.392Z"
   },
   {
    "duration": 24,
    "start_time": "2023-07-19T11:04:08.583Z"
   },
   {
    "duration": 206,
    "start_time": "2023-07-19T11:04:08.609Z"
   },
   {
    "duration": 154,
    "start_time": "2023-07-19T11:04:08.817Z"
   },
   {
    "duration": 21,
    "start_time": "2023-07-19T11:04:08.972Z"
   },
   {
    "duration": 183,
    "start_time": "2023-07-19T11:04:08.994Z"
   },
   {
    "duration": 110,
    "start_time": "2023-07-19T11:04:09.179Z"
   },
   {
    "duration": 18,
    "start_time": "2023-07-19T11:04:09.291Z"
   },
   {
    "duration": 6,
    "start_time": "2023-07-19T11:04:09.311Z"
   },
   {
    "duration": 21,
    "start_time": "2023-07-19T11:04:09.318Z"
   },
   {
    "duration": 9,
    "start_time": "2023-07-19T11:04:09.341Z"
   },
   {
    "duration": 33,
    "start_time": "2023-07-19T11:04:09.368Z"
   },
   {
    "duration": 11,
    "start_time": "2023-07-19T11:04:09.403Z"
   },
   {
    "duration": 128,
    "start_time": "2023-07-19T11:04:09.416Z"
   },
   {
    "duration": 248,
    "start_time": "2023-07-19T11:04:09.546Z"
   },
   {
    "duration": 8,
    "start_time": "2023-07-19T11:04:09.796Z"
   },
   {
    "duration": 105,
    "start_time": "2023-07-19T11:04:09.806Z"
   },
   {
    "duration": 0,
    "start_time": "2023-07-19T11:04:09.913Z"
   },
   {
    "duration": 0,
    "start_time": "2023-07-19T11:04:09.914Z"
   },
   {
    "duration": 0,
    "start_time": "2023-07-19T11:04:09.916Z"
   },
   {
    "duration": 0,
    "start_time": "2023-07-19T11:04:09.916Z"
   },
   {
    "duration": 0,
    "start_time": "2023-07-19T11:04:09.918Z"
   },
   {
    "duration": 0,
    "start_time": "2023-07-19T11:04:09.918Z"
   },
   {
    "duration": 0,
    "start_time": "2023-07-19T11:04:09.919Z"
   },
   {
    "duration": 0,
    "start_time": "2023-07-19T11:04:09.920Z"
   },
   {
    "duration": 0,
    "start_time": "2023-07-19T11:04:09.921Z"
   },
   {
    "duration": 0,
    "start_time": "2023-07-19T11:04:09.922Z"
   },
   {
    "duration": 0,
    "start_time": "2023-07-19T11:04:09.923Z"
   },
   {
    "duration": 0,
    "start_time": "2023-07-19T11:04:09.924Z"
   },
   {
    "duration": 0,
    "start_time": "2023-07-19T11:04:09.925Z"
   },
   {
    "duration": 0,
    "start_time": "2023-07-19T11:04:09.926Z"
   },
   {
    "duration": 0,
    "start_time": "2023-07-19T11:04:09.927Z"
   },
   {
    "duration": 0,
    "start_time": "2023-07-19T11:04:09.928Z"
   },
   {
    "duration": 0,
    "start_time": "2023-07-19T11:04:09.929Z"
   },
   {
    "duration": 0,
    "start_time": "2023-07-19T11:04:09.931Z"
   },
   {
    "duration": 0,
    "start_time": "2023-07-19T11:04:09.932Z"
   },
   {
    "duration": 0,
    "start_time": "2023-07-19T11:04:09.933Z"
   },
   {
    "duration": 0,
    "start_time": "2023-07-19T11:04:09.968Z"
   },
   {
    "duration": 0,
    "start_time": "2023-07-19T11:04:09.970Z"
   },
   {
    "duration": 0,
    "start_time": "2023-07-19T11:04:09.971Z"
   },
   {
    "duration": 0,
    "start_time": "2023-07-19T11:04:09.972Z"
   },
   {
    "duration": 0,
    "start_time": "2023-07-19T11:04:09.973Z"
   },
   {
    "duration": 0,
    "start_time": "2023-07-19T11:04:09.974Z"
   },
   {
    "duration": 0,
    "start_time": "2023-07-19T11:04:09.976Z"
   },
   {
    "duration": 0,
    "start_time": "2023-07-19T11:04:09.977Z"
   },
   {
    "duration": 0,
    "start_time": "2023-07-19T11:04:09.978Z"
   },
   {
    "duration": 0,
    "start_time": "2023-07-19T11:04:09.979Z"
   },
   {
    "duration": 0,
    "start_time": "2023-07-19T11:04:09.980Z"
   },
   {
    "duration": 0,
    "start_time": "2023-07-19T11:04:09.982Z"
   },
   {
    "duration": 0,
    "start_time": "2023-07-19T11:04:09.983Z"
   },
   {
    "duration": 0,
    "start_time": "2023-07-19T11:04:09.985Z"
   },
   {
    "duration": 0,
    "start_time": "2023-07-19T11:04:09.986Z"
   },
   {
    "duration": 0,
    "start_time": "2023-07-19T11:04:09.987Z"
   },
   {
    "duration": 1103,
    "start_time": "2023-07-19T11:04:49.086Z"
   },
   {
    "duration": 187,
    "start_time": "2023-07-19T11:04:50.190Z"
   },
   {
    "duration": 25,
    "start_time": "2023-07-19T11:04:50.378Z"
   },
   {
    "duration": 181,
    "start_time": "2023-07-19T11:04:50.405Z"
   },
   {
    "duration": 147,
    "start_time": "2023-07-19T11:04:50.588Z"
   },
   {
    "duration": 31,
    "start_time": "2023-07-19T11:04:50.737Z"
   },
   {
    "duration": 165,
    "start_time": "2023-07-19T11:04:50.770Z"
   },
   {
    "duration": 105,
    "start_time": "2023-07-19T11:04:50.937Z"
   },
   {
    "duration": 27,
    "start_time": "2023-07-19T11:04:51.044Z"
   },
   {
    "duration": 20,
    "start_time": "2023-07-19T11:04:51.074Z"
   },
   {
    "duration": 26,
    "start_time": "2023-07-19T11:04:51.096Z"
   },
   {
    "duration": 9,
    "start_time": "2023-07-19T11:04:51.124Z"
   },
   {
    "duration": 39,
    "start_time": "2023-07-19T11:04:51.135Z"
   },
   {
    "duration": 10,
    "start_time": "2023-07-19T11:04:51.175Z"
   },
   {
    "duration": 133,
    "start_time": "2023-07-19T11:04:51.187Z"
   },
   {
    "duration": 265,
    "start_time": "2023-07-19T11:04:51.321Z"
   },
   {
    "duration": 9,
    "start_time": "2023-07-19T11:04:51.588Z"
   },
   {
    "duration": 112,
    "start_time": "2023-07-19T11:04:51.599Z"
   },
   {
    "duration": 0,
    "start_time": "2023-07-19T11:04:51.713Z"
   },
   {
    "duration": 0,
    "start_time": "2023-07-19T11:04:51.714Z"
   },
   {
    "duration": 0,
    "start_time": "2023-07-19T11:04:51.715Z"
   },
   {
    "duration": 0,
    "start_time": "2023-07-19T11:04:51.717Z"
   },
   {
    "duration": 0,
    "start_time": "2023-07-19T11:04:51.718Z"
   },
   {
    "duration": 0,
    "start_time": "2023-07-19T11:04:51.719Z"
   },
   {
    "duration": 0,
    "start_time": "2023-07-19T11:04:51.720Z"
   },
   {
    "duration": 0,
    "start_time": "2023-07-19T11:04:51.721Z"
   },
   {
    "duration": 0,
    "start_time": "2023-07-19T11:04:51.722Z"
   },
   {
    "duration": 0,
    "start_time": "2023-07-19T11:04:51.723Z"
   },
   {
    "duration": 0,
    "start_time": "2023-07-19T11:04:51.724Z"
   },
   {
    "duration": 0,
    "start_time": "2023-07-19T11:04:51.725Z"
   },
   {
    "duration": 0,
    "start_time": "2023-07-19T11:04:51.726Z"
   },
   {
    "duration": 0,
    "start_time": "2023-07-19T11:04:51.727Z"
   },
   {
    "duration": 0,
    "start_time": "2023-07-19T11:04:51.728Z"
   },
   {
    "duration": 0,
    "start_time": "2023-07-19T11:04:51.729Z"
   },
   {
    "duration": 0,
    "start_time": "2023-07-19T11:04:51.729Z"
   },
   {
    "duration": 0,
    "start_time": "2023-07-19T11:04:51.731Z"
   },
   {
    "duration": 0,
    "start_time": "2023-07-19T11:04:51.731Z"
   },
   {
    "duration": 0,
    "start_time": "2023-07-19T11:04:51.732Z"
   },
   {
    "duration": 0,
    "start_time": "2023-07-19T11:04:51.767Z"
   },
   {
    "duration": 0,
    "start_time": "2023-07-19T11:04:51.769Z"
   },
   {
    "duration": 0,
    "start_time": "2023-07-19T11:04:51.770Z"
   },
   {
    "duration": 0,
    "start_time": "2023-07-19T11:04:51.771Z"
   },
   {
    "duration": 0,
    "start_time": "2023-07-19T11:04:51.772Z"
   },
   {
    "duration": 0,
    "start_time": "2023-07-19T11:04:51.772Z"
   },
   {
    "duration": 0,
    "start_time": "2023-07-19T11:04:51.774Z"
   },
   {
    "duration": 0,
    "start_time": "2023-07-19T11:04:51.775Z"
   },
   {
    "duration": 0,
    "start_time": "2023-07-19T11:04:51.776Z"
   },
   {
    "duration": 0,
    "start_time": "2023-07-19T11:04:51.777Z"
   },
   {
    "duration": 0,
    "start_time": "2023-07-19T11:04:51.778Z"
   },
   {
    "duration": 0,
    "start_time": "2023-07-19T11:04:51.779Z"
   },
   {
    "duration": 0,
    "start_time": "2023-07-19T11:04:51.782Z"
   },
   {
    "duration": 0,
    "start_time": "2023-07-19T11:04:51.783Z"
   },
   {
    "duration": 0,
    "start_time": "2023-07-19T11:04:51.784Z"
   },
   {
    "duration": 0,
    "start_time": "2023-07-19T11:04:51.785Z"
   },
   {
    "duration": 11,
    "start_time": "2023-07-19T11:08:30.091Z"
   },
   {
    "duration": 1318,
    "start_time": "2023-07-19T11:08:37.889Z"
   },
   {
    "duration": 215,
    "start_time": "2023-07-19T11:08:39.209Z"
   },
   {
    "duration": 36,
    "start_time": "2023-07-19T11:08:39.425Z"
   },
   {
    "duration": 261,
    "start_time": "2023-07-19T11:08:39.463Z"
   },
   {
    "duration": 171,
    "start_time": "2023-07-19T11:08:39.726Z"
   },
   {
    "duration": 20,
    "start_time": "2023-07-19T11:08:39.899Z"
   },
   {
    "duration": 174,
    "start_time": "2023-07-19T11:08:39.920Z"
   },
   {
    "duration": 173,
    "start_time": "2023-07-19T11:08:40.095Z"
   },
   {
    "duration": 18,
    "start_time": "2023-07-19T11:08:40.270Z"
   },
   {
    "duration": 7,
    "start_time": "2023-07-19T11:08:40.291Z"
   },
   {
    "duration": 76,
    "start_time": "2023-07-19T11:08:40.300Z"
   },
   {
    "duration": 12,
    "start_time": "2023-07-19T11:08:40.378Z"
   },
   {
    "duration": 86,
    "start_time": "2023-07-19T11:08:40.392Z"
   },
   {
    "duration": 13,
    "start_time": "2023-07-19T11:08:40.480Z"
   },
   {
    "duration": 315,
    "start_time": "2023-07-19T11:08:40.495Z"
   },
   {
    "duration": 565,
    "start_time": "2023-07-19T11:08:40.812Z"
   },
   {
    "duration": 12,
    "start_time": "2023-07-19T11:08:41.380Z"
   },
   {
    "duration": 274,
    "start_time": "2023-07-19T11:08:41.394Z"
   },
   {
    "duration": 0,
    "start_time": "2023-07-19T11:08:41.672Z"
   },
   {
    "duration": 0,
    "start_time": "2023-07-19T11:08:41.674Z"
   },
   {
    "duration": 0,
    "start_time": "2023-07-19T11:08:41.675Z"
   },
   {
    "duration": 0,
    "start_time": "2023-07-19T11:08:41.676Z"
   },
   {
    "duration": 0,
    "start_time": "2023-07-19T11:08:41.678Z"
   },
   {
    "duration": 0,
    "start_time": "2023-07-19T11:08:41.680Z"
   },
   {
    "duration": 0,
    "start_time": "2023-07-19T11:08:41.681Z"
   },
   {
    "duration": 0,
    "start_time": "2023-07-19T11:08:41.683Z"
   },
   {
    "duration": 0,
    "start_time": "2023-07-19T11:08:41.684Z"
   },
   {
    "duration": 0,
    "start_time": "2023-07-19T11:08:41.685Z"
   },
   {
    "duration": 0,
    "start_time": "2023-07-19T11:08:41.686Z"
   },
   {
    "duration": 0,
    "start_time": "2023-07-19T11:08:41.687Z"
   },
   {
    "duration": 0,
    "start_time": "2023-07-19T11:08:41.688Z"
   },
   {
    "duration": 0,
    "start_time": "2023-07-19T11:08:41.689Z"
   },
   {
    "duration": 0,
    "start_time": "2023-07-19T11:08:41.690Z"
   },
   {
    "duration": 0,
    "start_time": "2023-07-19T11:08:41.691Z"
   },
   {
    "duration": 0,
    "start_time": "2023-07-19T11:08:41.692Z"
   },
   {
    "duration": 0,
    "start_time": "2023-07-19T11:08:41.693Z"
   },
   {
    "duration": 0,
    "start_time": "2023-07-19T11:08:41.694Z"
   },
   {
    "duration": 0,
    "start_time": "2023-07-19T11:08:41.695Z"
   },
   {
    "duration": 0,
    "start_time": "2023-07-19T11:08:41.696Z"
   },
   {
    "duration": 0,
    "start_time": "2023-07-19T11:08:41.697Z"
   },
   {
    "duration": 0,
    "start_time": "2023-07-19T11:08:41.698Z"
   },
   {
    "duration": 0,
    "start_time": "2023-07-19T11:08:41.699Z"
   },
   {
    "duration": 0,
    "start_time": "2023-07-19T11:08:41.700Z"
   },
   {
    "duration": 0,
    "start_time": "2023-07-19T11:08:41.701Z"
   },
   {
    "duration": 0,
    "start_time": "2023-07-19T11:08:41.702Z"
   },
   {
    "duration": 0,
    "start_time": "2023-07-19T11:08:41.703Z"
   },
   {
    "duration": 0,
    "start_time": "2023-07-19T11:08:41.703Z"
   },
   {
    "duration": 0,
    "start_time": "2023-07-19T11:08:41.704Z"
   },
   {
    "duration": 0,
    "start_time": "2023-07-19T11:08:41.705Z"
   },
   {
    "duration": 0,
    "start_time": "2023-07-19T11:08:41.706Z"
   },
   {
    "duration": 0,
    "start_time": "2023-07-19T11:08:41.707Z"
   },
   {
    "duration": 0,
    "start_time": "2023-07-19T11:08:41.708Z"
   },
   {
    "duration": 0,
    "start_time": "2023-07-19T11:08:41.708Z"
   },
   {
    "duration": 0,
    "start_time": "2023-07-19T11:08:41.709Z"
   },
   {
    "duration": 40,
    "start_time": "2023-07-19T11:09:31.698Z"
   },
   {
    "duration": 9,
    "start_time": "2023-07-19T11:10:33.931Z"
   },
   {
    "duration": 1173,
    "start_time": "2023-07-19T11:10:53.975Z"
   },
   {
    "duration": 188,
    "start_time": "2023-07-19T11:10:55.149Z"
   },
   {
    "duration": 32,
    "start_time": "2023-07-19T11:10:55.338Z"
   },
   {
    "duration": 182,
    "start_time": "2023-07-19T11:10:55.372Z"
   },
   {
    "duration": 156,
    "start_time": "2023-07-19T11:10:55.556Z"
   },
   {
    "duration": 20,
    "start_time": "2023-07-19T11:10:55.714Z"
   },
   {
    "duration": 189,
    "start_time": "2023-07-19T11:10:55.736Z"
   },
   {
    "duration": 113,
    "start_time": "2023-07-19T11:10:55.927Z"
   },
   {
    "duration": 18,
    "start_time": "2023-07-19T11:10:56.041Z"
   },
   {
    "duration": 5,
    "start_time": "2023-07-19T11:10:56.068Z"
   },
   {
    "duration": 20,
    "start_time": "2023-07-19T11:10:56.075Z"
   },
   {
    "duration": 9,
    "start_time": "2023-07-19T11:10:56.097Z"
   },
   {
    "duration": 37,
    "start_time": "2023-07-19T11:10:56.107Z"
   },
   {
    "duration": 9,
    "start_time": "2023-07-19T11:10:56.146Z"
   },
   {
    "duration": 124,
    "start_time": "2023-07-19T11:10:56.157Z"
   },
   {
    "duration": 426,
    "start_time": "2023-07-19T11:10:56.283Z"
   },
   {
    "duration": 64,
    "start_time": "2023-07-19T11:10:56.710Z"
   },
   {
    "duration": 22,
    "start_time": "2023-07-19T11:10:56.775Z"
   },
   {
    "duration": 191,
    "start_time": "2023-07-19T11:10:56.798Z"
   },
   {
    "duration": 0,
    "start_time": "2023-07-19T11:10:56.992Z"
   },
   {
    "duration": 0,
    "start_time": "2023-07-19T11:10:56.993Z"
   },
   {
    "duration": 0,
    "start_time": "2023-07-19T11:10:56.994Z"
   },
   {
    "duration": 0,
    "start_time": "2023-07-19T11:10:56.995Z"
   },
   {
    "duration": 0,
    "start_time": "2023-07-19T11:10:56.996Z"
   },
   {
    "duration": 0,
    "start_time": "2023-07-19T11:10:56.997Z"
   },
   {
    "duration": 0,
    "start_time": "2023-07-19T11:10:56.997Z"
   },
   {
    "duration": 0,
    "start_time": "2023-07-19T11:10:56.999Z"
   },
   {
    "duration": 0,
    "start_time": "2023-07-19T11:10:57.000Z"
   },
   {
    "duration": 0,
    "start_time": "2023-07-19T11:10:57.001Z"
   },
   {
    "duration": 0,
    "start_time": "2023-07-19T11:10:57.002Z"
   },
   {
    "duration": 0,
    "start_time": "2023-07-19T11:10:57.003Z"
   },
   {
    "duration": 0,
    "start_time": "2023-07-19T11:10:57.003Z"
   },
   {
    "duration": 0,
    "start_time": "2023-07-19T11:10:57.004Z"
   },
   {
    "duration": 0,
    "start_time": "2023-07-19T11:10:57.005Z"
   },
   {
    "duration": 0,
    "start_time": "2023-07-19T11:10:57.006Z"
   },
   {
    "duration": 0,
    "start_time": "2023-07-19T11:10:57.007Z"
   },
   {
    "duration": 0,
    "start_time": "2023-07-19T11:10:57.007Z"
   },
   {
    "duration": 0,
    "start_time": "2023-07-19T11:10:57.008Z"
   },
   {
    "duration": 0,
    "start_time": "2023-07-19T11:10:57.009Z"
   },
   {
    "duration": 0,
    "start_time": "2023-07-19T11:10:57.010Z"
   },
   {
    "duration": 0,
    "start_time": "2023-07-19T11:10:57.011Z"
   },
   {
    "duration": 0,
    "start_time": "2023-07-19T11:10:57.068Z"
   },
   {
    "duration": 0,
    "start_time": "2023-07-19T11:10:57.070Z"
   },
   {
    "duration": 0,
    "start_time": "2023-07-19T11:10:57.071Z"
   },
   {
    "duration": 0,
    "start_time": "2023-07-19T11:10:57.072Z"
   },
   {
    "duration": 0,
    "start_time": "2023-07-19T11:10:57.073Z"
   },
   {
    "duration": 0,
    "start_time": "2023-07-19T11:10:57.073Z"
   },
   {
    "duration": 0,
    "start_time": "2023-07-19T11:10:57.074Z"
   },
   {
    "duration": 0,
    "start_time": "2023-07-19T11:10:57.075Z"
   },
   {
    "duration": 0,
    "start_time": "2023-07-19T11:10:57.076Z"
   },
   {
    "duration": 0,
    "start_time": "2023-07-19T11:10:57.077Z"
   },
   {
    "duration": 0,
    "start_time": "2023-07-19T11:10:57.077Z"
   },
   {
    "duration": 0,
    "start_time": "2023-07-19T11:10:57.078Z"
   },
   {
    "duration": 0,
    "start_time": "2023-07-19T11:10:57.079Z"
   },
   {
    "duration": 0,
    "start_time": "2023-07-19T11:10:57.080Z"
   },
   {
    "duration": 0,
    "start_time": "2023-07-19T11:10:57.082Z"
   },
   {
    "duration": 10,
    "start_time": "2023-07-19T11:11:13.114Z"
   },
   {
    "duration": 7,
    "start_time": "2023-07-19T11:13:30.601Z"
   },
   {
    "duration": 9,
    "start_time": "2023-07-19T11:14:05.631Z"
   },
   {
    "duration": 11,
    "start_time": "2023-07-19T11:14:20.235Z"
   },
   {
    "duration": 142,
    "start_time": "2023-07-19T11:14:34.460Z"
   },
   {
    "duration": 9,
    "start_time": "2023-07-19T11:15:03.061Z"
   },
   {
    "duration": 15,
    "start_time": "2023-07-19T11:15:06.224Z"
   },
   {
    "duration": 7,
    "start_time": "2023-07-19T11:15:22.134Z"
   },
   {
    "duration": 153,
    "start_time": "2023-07-19T11:15:23.939Z"
   },
   {
    "duration": 3529,
    "start_time": "2023-07-19T11:16:07.277Z"
   },
   {
    "duration": 120,
    "start_time": "2023-07-19T11:20:37.320Z"
   },
   {
    "duration": 8,
    "start_time": "2023-07-19T11:23:55.331Z"
   },
   {
    "duration": 9,
    "start_time": "2023-07-19T11:24:03.660Z"
   },
   {
    "duration": 1172,
    "start_time": "2023-07-19T11:25:52.967Z"
   },
   {
    "duration": 206,
    "start_time": "2023-07-19T11:25:54.142Z"
   },
   {
    "duration": 29,
    "start_time": "2023-07-19T11:25:54.350Z"
   },
   {
    "duration": 221,
    "start_time": "2023-07-19T11:25:54.381Z"
   },
   {
    "duration": 156,
    "start_time": "2023-07-19T11:25:54.604Z"
   },
   {
    "duration": 21,
    "start_time": "2023-07-19T11:25:54.761Z"
   },
   {
    "duration": 164,
    "start_time": "2023-07-19T11:25:54.784Z"
   },
   {
    "duration": 123,
    "start_time": "2023-07-19T11:25:54.949Z"
   },
   {
    "duration": 18,
    "start_time": "2023-07-19T11:25:55.074Z"
   },
   {
    "duration": 39,
    "start_time": "2023-07-19T11:25:55.094Z"
   },
   {
    "duration": 64,
    "start_time": "2023-07-19T11:25:55.135Z"
   },
   {
    "duration": 18,
    "start_time": "2023-07-19T11:25:55.201Z"
   },
   {
    "duration": 55,
    "start_time": "2023-07-19T11:25:55.220Z"
   },
   {
    "duration": 10,
    "start_time": "2023-07-19T11:25:55.277Z"
   },
   {
    "duration": 149,
    "start_time": "2023-07-19T11:25:55.288Z"
   },
   {
    "duration": 8,
    "start_time": "2023-07-19T11:25:55.438Z"
   },
   {
    "duration": 3408,
    "start_time": "2023-07-19T11:25:55.448Z"
   },
   {
    "duration": 13,
    "start_time": "2023-07-19T11:25:58.858Z"
   },
   {
    "duration": 108,
    "start_time": "2023-07-19T11:25:58.872Z"
   },
   {
    "duration": 94,
    "start_time": "2023-07-19T11:25:58.982Z"
   },
   {
    "duration": 10,
    "start_time": "2023-07-19T11:25:59.078Z"
   },
   {
    "duration": 17,
    "start_time": "2023-07-19T11:25:59.090Z"
   },
   {
    "duration": 30,
    "start_time": "2023-07-19T11:25:59.109Z"
   },
   {
    "duration": 40,
    "start_time": "2023-07-19T11:25:59.140Z"
   },
   {
    "duration": 18,
    "start_time": "2023-07-19T11:25:59.182Z"
   },
   {
    "duration": 123,
    "start_time": "2023-07-19T11:25:59.201Z"
   },
   {
    "duration": 8,
    "start_time": "2023-07-19T11:25:59.326Z"
   },
   {
    "duration": 48,
    "start_time": "2023-07-19T11:25:59.337Z"
   },
   {
    "duration": 22,
    "start_time": "2023-07-19T11:25:59.386Z"
   },
   {
    "duration": 20,
    "start_time": "2023-07-19T11:25:59.410Z"
   },
   {
    "duration": 13,
    "start_time": "2023-07-19T11:25:59.432Z"
   },
   {
    "duration": 50,
    "start_time": "2023-07-19T11:25:59.446Z"
   },
   {
    "duration": 7,
    "start_time": "2023-07-19T11:25:59.498Z"
   },
   {
    "duration": 4,
    "start_time": "2023-07-19T11:25:59.507Z"
   },
   {
    "duration": 4,
    "start_time": "2023-07-19T11:25:59.513Z"
   },
   {
    "duration": 12,
    "start_time": "2023-07-19T11:25:59.519Z"
   },
   {
    "duration": 8,
    "start_time": "2023-07-19T11:25:59.533Z"
   },
   {
    "duration": 4,
    "start_time": "2023-07-19T11:25:59.568Z"
   },
   {
    "duration": 12,
    "start_time": "2023-07-19T11:25:59.573Z"
   },
   {
    "duration": 8,
    "start_time": "2023-07-19T11:25:59.586Z"
   },
   {
    "duration": 51,
    "start_time": "2023-07-19T11:25:59.595Z"
   },
   {
    "duration": 298,
    "start_time": "2023-07-19T11:25:59.647Z"
   },
   {
    "duration": 244,
    "start_time": "2023-07-19T11:25:59.946Z"
   },
   {
    "duration": 307,
    "start_time": "2023-07-19T11:26:00.192Z"
   },
   {
    "duration": 210,
    "start_time": "2023-07-19T11:26:00.500Z"
   },
   {
    "duration": 260,
    "start_time": "2023-07-19T11:26:00.712Z"
   },
   {
    "duration": 300,
    "start_time": "2023-07-19T11:26:00.974Z"
   },
   {
    "duration": 298,
    "start_time": "2023-07-19T11:26:01.276Z"
   },
   {
    "duration": 408,
    "start_time": "2023-07-19T11:26:01.576Z"
   },
   {
    "duration": 9,
    "start_time": "2023-07-19T11:26:01.986Z"
   },
   {
    "duration": 100,
    "start_time": "2023-07-19T11:26:01.996Z"
   },
   {
    "duration": 75,
    "start_time": "2023-07-19T11:26:02.098Z"
   }
  ],
  "kernelspec": {
   "display_name": "Python 3 (ipykernel)",
   "language": "python",
   "name": "python3"
  },
  "language_info": {
   "codemirror_mode": {
    "name": "ipython",
    "version": 3
   },
   "file_extension": ".py",
   "mimetype": "text/x-python",
   "name": "python",
   "nbconvert_exporter": "python",
   "pygments_lexer": "ipython3",
   "version": "3.9.5"
  },
  "toc": {
   "base_numbering": 1,
   "nav_menu": {},
   "number_sections": true,
   "sideBar": true,
   "skip_h1_title": true,
   "title_cell": "Содержание",
   "title_sidebar": "Contents",
   "toc_cell": true,
   "toc_position": {
    "height": "calc(100% - 180px)",
    "left": "10px",
    "top": "150px",
    "width": "285px"
   },
   "toc_section_display": true,
   "toc_window_display": true
  }
 },
 "nbformat": 4,
 "nbformat_minor": 2
}
