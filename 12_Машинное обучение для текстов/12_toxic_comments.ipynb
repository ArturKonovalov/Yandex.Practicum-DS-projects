{
 "cells": [
  {
   "cell_type": "markdown",
   "metadata": {
    "toc": true
   },
   "source": [
    "<h1>Содержание<span class=\"tocSkip\"></span></h1>\n",
    "<div class=\"toc\"><ul class=\"toc-item\"><li><span><a href=\"#Подготовка.\" data-toc-modified-id=\"Подготовка.-1\"><span class=\"toc-item-num\">1&nbsp;&nbsp;</span>Подготовка.</a></span><ul class=\"toc-item\"><li><span><a href=\"#Удаление-неинформативных-признаков:\" data-toc-modified-id=\"Удаление-неинформативных-признаков:-1.1\"><span class=\"toc-item-num\">1.1&nbsp;&nbsp;</span>Удаление неинформативных признаков:</a></span></li><li><span><a href=\"#Проверка-на-наличие-пропусков:\" data-toc-modified-id=\"Проверка-на-наличие-пропусков:-1.2\"><span class=\"toc-item-num\">1.2&nbsp;&nbsp;</span>Проверка на наличие пропусков:</a></span></li><li><span><a href=\"#Проверка-на-дубликаты:\" data-toc-modified-id=\"Проверка-на-дубликаты:-1.3\"><span class=\"toc-item-num\">1.3&nbsp;&nbsp;</span>Проверка на дубликаты:</a></span></li><li><span><a href=\"#Проверка-на-баланс-классов:\" data-toc-modified-id=\"Проверка-на-баланс-классов:-1.4\"><span class=\"toc-item-num\">1.4&nbsp;&nbsp;</span>Проверка на баланс классов:</a></span></li><li><span><a href=\"#Лемматизация-и-чистка-текста:\" data-toc-modified-id=\"Лемматизация-и-чистка-текста:-1.5\"><span class=\"toc-item-num\">1.5&nbsp;&nbsp;</span>Лемматизация и чистка текста:</a></span></li><li><span><a href=\"#Дополнительное-исследование:\" data-toc-modified-id=\"Дополнительное-исследование:-1.6\"><span class=\"toc-item-num\">1.6&nbsp;&nbsp;</span>Дополнительное исследование:</a></span><ul class=\"toc-item\"><li><span><a href=\"#Гистограмма-распределения-Пуассона,:\" data-toc-modified-id=\"Гистограмма-распределения-Пуассона,:-1.6.1\"><span class=\"toc-item-num\">1.6.1&nbsp;&nbsp;</span>Гистограмма распределения Пуассона,:</a></span></li><li><span><a href=\"#График-XYZ-в-сравнении-с-распределением-Пуассона:\" data-toc-modified-id=\"График-XYZ-в-сравнении-с-распределением-Пуассона:-1.6.2\"><span class=\"toc-item-num\">1.6.2&nbsp;&nbsp;</span>График <em>XYZ</em> в сравнении с распределением Пуассона:</a></span></li><li><span><a href=\"#Облако-слов:\" data-toc-modified-id=\"Облако-слов:-1.6.3\"><span class=\"toc-item-num\">1.6.3&nbsp;&nbsp;</span>Облако слов:</a></span></li></ul></li><li><span><a href=\"#Разделение-данных-на-выборки:\" data-toc-modified-id=\"Разделение-данных-на-выборки:-1.7\"><span class=\"toc-item-num\">1.7&nbsp;&nbsp;</span>Разделение данных на выборки:</a></span></li><li><span><a href=\"#Вывод-блока:\" data-toc-modified-id=\"Вывод-блока:-1.8\"><span class=\"toc-item-num\">1.8&nbsp;&nbsp;</span><strong>Вывод блока:</strong></a></span></li></ul></li><li><span><a href=\"#Обучение.\" data-toc-modified-id=\"Обучение.-2\"><span class=\"toc-item-num\">2&nbsp;&nbsp;</span>Обучение.</a></span><ul class=\"toc-item\"><li><span><a href=\"#Вывод-блока:\" data-toc-modified-id=\"Вывод-блока:-2.1\"><span class=\"toc-item-num\">2.1&nbsp;&nbsp;</span><strong>Вывод блока:</strong></a></span></li></ul></li><li><span><a href=\"#Тестирование-лучшей-модели.\" data-toc-modified-id=\"Тестирование-лучшей-модели.-3\"><span class=\"toc-item-num\">3&nbsp;&nbsp;</span>Тестирование лучшей модели.</a></span></li><li><span><a href=\"#Общий-вывод:\" data-toc-modified-id=\"Общий-вывод:-4\"><span class=\"toc-item-num\">4&nbsp;&nbsp;</span><strong>Общий вывод:</strong></a></span></li></ul></div>"
   ]
  },
  {
   "cell_type": "markdown",
   "metadata": {},
   "source": [
    "___\n",
    "# Проект для «Викишоп»"
   ]
  },
  {
   "cell_type": "markdown",
   "metadata": {},
   "source": [
    "**Описание задачи:** \n",
    "\n",
    "Интернет-магазин «Викишоп» запускает новый сервис. Их пользователи могут редактировать и дополнять описания товаров, как в вики-сообществах. Магазину нужен инструмент, который будет искать токсичные комментарии и отправлять их на модерацию. \n",
    "\n",
    "**Цель исследования:**  \n",
    "\n",
    "Построить модель, классифицирующую комментарии на позитивные и негативные, со значением метрики качества `F1` не меньше 0.75. \n",
    "\n",
    "**Ход исследования:**\n",
    "1. Загрузим данные и проверим на наличие пропусков и дубликатов.\n",
    "2. Удалим неинформативные признаки.\n",
    "3. Проверим баланс классов.\n",
    "4. Проведем лемматизацию и чистку текста.\n",
    "5. Разделим данные на выборки.\n",
    "6. Проведем углубленное исследование данных.\n",
    "7. Создадим пайплайны для проверки нескольких способов предварительной подготовки корпуса:\n",
    "* с использованием мешка слов и параметра TF-IDF\n",
    "* с отсечением стоп-слов и без отсечения\n",
    "8. Произведем их оценку метрикой качества на Логистической Регрессии и выберем лучший. \n",
    "9. Протестируем несколько, разных моделей и подберем гиперпараметры для лидера.\n",
    "10. Проверим прогнозы лучшей модели на тестовой выборке.\n",
    "\n",
    "**Таким образом, исследование пройдёт в три этапа:**\n",
    "\n",
    "1. Загрузка и подготовка данных.\n",
    "2. Обучение моделей. \n",
    "3. Тестирование лучшей модели.\n",
    "\n",
    "\n",
    "**Описание данных**\n",
    "В нашем распоряжении набор данных с разметкой о токсичности правок, столбцы:\n",
    "\n",
    "* `text` - содержит текст комментария\n",
    "*  `toxic` — целевой признак."
   ]
  },
  {
   "cell_type": "markdown",
   "metadata": {},
   "source": [
    "___\n",
    "## Подготовка."
   ]
  },
  {
   "cell_type": "code",
   "execution_count": 1,
   "metadata": {},
   "outputs": [
    {
     "name": "stdout",
     "output_type": "stream",
     "text": [
      "Requirement already satisfied: spacy in /opt/conda/lib/python3.9/site-packages (3.2.0)\n",
      "Requirement already satisfied: spacy-legacy<3.1.0,>=3.0.8 in /opt/conda/lib/python3.9/site-packages (from spacy) (3.0.10)\n",
      "Requirement already satisfied: spacy-loggers<2.0.0,>=1.0.0 in /opt/conda/lib/python3.9/site-packages (from spacy) (1.0.3)\n",
      "Requirement already satisfied: murmurhash<1.1.0,>=0.28.0 in /opt/conda/lib/python3.9/site-packages (from spacy) (1.0.8)\n",
      "Requirement already satisfied: cymem<2.1.0,>=2.0.2 in /opt/conda/lib/python3.9/site-packages (from spacy) (2.0.6)\n",
      "Requirement already satisfied: preshed<3.1.0,>=3.0.2 in /opt/conda/lib/python3.9/site-packages (from spacy) (3.0.7)\n",
      "Requirement already satisfied: thinc<8.1.0,>=8.0.12 in /opt/conda/lib/python3.9/site-packages (from spacy) (8.0.17)\n",
      "Requirement already satisfied: blis<0.8.0,>=0.4.0 in /opt/conda/lib/python3.9/site-packages (from spacy) (0.7.8)\n",
      "Requirement already satisfied: wasabi<1.1.0,>=0.8.1 in /opt/conda/lib/python3.9/site-packages (from spacy) (0.10.1)\n",
      "Requirement already satisfied: srsly<3.0.0,>=2.4.1 in /opt/conda/lib/python3.9/site-packages (from spacy) (2.4.4)\n",
      "Requirement already satisfied: catalogue<2.1.0,>=2.0.6 in /opt/conda/lib/python3.9/site-packages (from spacy) (2.0.8)\n",
      "Requirement already satisfied: typer<0.5.0,>=0.3.0 in /opt/conda/lib/python3.9/site-packages (from spacy) (0.4.2)\n",
      "Requirement already satisfied: pathy>=0.3.5 in /opt/conda/lib/python3.9/site-packages (from spacy) (0.6.2)\n",
      "Requirement already satisfied: tqdm<5.0.0,>=4.38.0 in /opt/conda/lib/python3.9/site-packages (from spacy) (4.61.2)\n",
      "Requirement already satisfied: numpy>=1.15.0 in /opt/conda/lib/python3.9/site-packages (from spacy) (1.20.1)\n",
      "Requirement already satisfied: requests<3.0.0,>=2.13.0 in /opt/conda/lib/python3.9/site-packages (from spacy) (2.25.1)\n",
      "Requirement already satisfied: pydantic!=1.8,!=1.8.1,<1.9.0,>=1.7.4 in /opt/conda/lib/python3.9/site-packages (from spacy) (1.8.2)\n",
      "Requirement already satisfied: jinja2 in /opt/conda/lib/python3.9/site-packages (from spacy) (3.0.1)\n",
      "Requirement already satisfied: setuptools in /opt/conda/lib/python3.9/site-packages (from spacy) (49.6.0.post20210108)\n",
      "Requirement already satisfied: packaging>=20.0 in /opt/conda/lib/python3.9/site-packages (from spacy) (21.0)\n",
      "Requirement already satisfied: langcodes<4.0.0,>=3.2.0 in /opt/conda/lib/python3.9/site-packages (from spacy) (3.3.0)\n",
      "Requirement already satisfied: pyparsing>=2.0.2 in /opt/conda/lib/python3.9/site-packages (from packaging>=20.0->spacy) (2.4.7)\n",
      "Requirement already satisfied: smart-open<6.0.0,>=5.2.1 in /opt/conda/lib/python3.9/site-packages (from pathy>=0.3.5->spacy) (5.2.1)\n",
      "Requirement already satisfied: typing-extensions>=3.7.4.3 in /opt/conda/lib/python3.9/site-packages (from pydantic!=1.8,!=1.8.1,<1.9.0,>=1.7.4->spacy) (4.3.0)\n",
      "Requirement already satisfied: chardet<5,>=3.0.2 in /opt/conda/lib/python3.9/site-packages (from requests<3.0.0,>=2.13.0->spacy) (4.0.0)\n",
      "Requirement already satisfied: idna<3,>=2.5 in /opt/conda/lib/python3.9/site-packages (from requests<3.0.0,>=2.13.0->spacy) (2.10)\n",
      "Requirement already satisfied: urllib3<1.27,>=1.21.1 in /opt/conda/lib/python3.9/site-packages (from requests<3.0.0,>=2.13.0->spacy) (1.26.6)\n",
      "Requirement already satisfied: certifi>=2017.4.17 in /opt/conda/lib/python3.9/site-packages (from requests<3.0.0,>=2.13.0->spacy) (2021.5.30)\n",
      "Requirement already satisfied: click<9.0.0,>=7.1.1 in /opt/conda/lib/python3.9/site-packages (from typer<0.5.0,>=0.3.0->spacy) (8.1.3)\n",
      "Requirement already satisfied: MarkupSafe>=2.0 in /opt/conda/lib/python3.9/site-packages (from jinja2->spacy) (2.0.1)\n",
      "\u001b[38;5;3m⚠ As of spaCy v3.0, shortcuts like 'en' are deprecated. Please use the\n",
      "full pipeline package name 'en_core_web_sm' instead.\u001b[0m\n",
      "\u001b[33mDEPRECATION: https://github.com/explosion/spacy-models/releases/download/en_core_web_sm-3.2.0/en_core_web_sm-3.2.0-py3-none-any.whl#egg=en_core_web_sm==3.2.0 contains an egg fragment with a non-PEP 508 name pip 25.0 will enforce this behaviour change. A possible replacement is to use the req @ url syntax, and remove the egg fragment. Discussion can be found at https://github.com/pypa/pip/issues/11617\u001b[0m\u001b[33m\n",
      "\u001b[0mCollecting en-core-web-sm==3.2.0\n",
      "  Using cached https://github.com/explosion/spacy-models/releases/download/en_core_web_sm-3.2.0/en_core_web_sm-3.2.0-py3-none-any.whl (13.9 MB)\n",
      "Requirement already satisfied: spacy<3.3.0,>=3.2.0 in /opt/conda/lib/python3.9/site-packages (from en-core-web-sm==3.2.0) (3.2.0)\n",
      "Requirement already satisfied: spacy-legacy<3.1.0,>=3.0.8 in /opt/conda/lib/python3.9/site-packages (from spacy<3.3.0,>=3.2.0->en-core-web-sm==3.2.0) (3.0.10)\n",
      "Requirement already satisfied: spacy-loggers<2.0.0,>=1.0.0 in /opt/conda/lib/python3.9/site-packages (from spacy<3.3.0,>=3.2.0->en-core-web-sm==3.2.0) (1.0.3)\n",
      "Requirement already satisfied: murmurhash<1.1.0,>=0.28.0 in /opt/conda/lib/python3.9/site-packages (from spacy<3.3.0,>=3.2.0->en-core-web-sm==3.2.0) (1.0.8)\n",
      "Requirement already satisfied: cymem<2.1.0,>=2.0.2 in /opt/conda/lib/python3.9/site-packages (from spacy<3.3.0,>=3.2.0->en-core-web-sm==3.2.0) (2.0.6)\n",
      "Requirement already satisfied: preshed<3.1.0,>=3.0.2 in /opt/conda/lib/python3.9/site-packages (from spacy<3.3.0,>=3.2.0->en-core-web-sm==3.2.0) (3.0.7)\n",
      "Requirement already satisfied: thinc<8.1.0,>=8.0.12 in /opt/conda/lib/python3.9/site-packages (from spacy<3.3.0,>=3.2.0->en-core-web-sm==3.2.0) (8.0.17)\n",
      "Requirement already satisfied: blis<0.8.0,>=0.4.0 in /opt/conda/lib/python3.9/site-packages (from spacy<3.3.0,>=3.2.0->en-core-web-sm==3.2.0) (0.7.8)\n",
      "Requirement already satisfied: wasabi<1.1.0,>=0.8.1 in /opt/conda/lib/python3.9/site-packages (from spacy<3.3.0,>=3.2.0->en-core-web-sm==3.2.0) (0.10.1)\n",
      "Requirement already satisfied: srsly<3.0.0,>=2.4.1 in /opt/conda/lib/python3.9/site-packages (from spacy<3.3.0,>=3.2.0->en-core-web-sm==3.2.0) (2.4.4)\n",
      "Requirement already satisfied: catalogue<2.1.0,>=2.0.6 in /opt/conda/lib/python3.9/site-packages (from spacy<3.3.0,>=3.2.0->en-core-web-sm==3.2.0) (2.0.8)\n",
      "Requirement already satisfied: typer<0.5.0,>=0.3.0 in /opt/conda/lib/python3.9/site-packages (from spacy<3.3.0,>=3.2.0->en-core-web-sm==3.2.0) (0.4.2)\n",
      "Requirement already satisfied: pathy>=0.3.5 in /opt/conda/lib/python3.9/site-packages (from spacy<3.3.0,>=3.2.0->en-core-web-sm==3.2.0) (0.6.2)\n",
      "Requirement already satisfied: tqdm<5.0.0,>=4.38.0 in /opt/conda/lib/python3.9/site-packages (from spacy<3.3.0,>=3.2.0->en-core-web-sm==3.2.0) (4.61.2)\n",
      "Requirement already satisfied: numpy>=1.15.0 in /opt/conda/lib/python3.9/site-packages (from spacy<3.3.0,>=3.2.0->en-core-web-sm==3.2.0) (1.20.1)\n",
      "Requirement already satisfied: requests<3.0.0,>=2.13.0 in /opt/conda/lib/python3.9/site-packages (from spacy<3.3.0,>=3.2.0->en-core-web-sm==3.2.0) (2.25.1)\n",
      "Requirement already satisfied: pydantic!=1.8,!=1.8.1,<1.9.0,>=1.7.4 in /opt/conda/lib/python3.9/site-packages (from spacy<3.3.0,>=3.2.0->en-core-web-sm==3.2.0) (1.8.2)\n",
      "Requirement already satisfied: jinja2 in /opt/conda/lib/python3.9/site-packages (from spacy<3.3.0,>=3.2.0->en-core-web-sm==3.2.0) (3.0.1)\n",
      "Requirement already satisfied: setuptools in /opt/conda/lib/python3.9/site-packages (from spacy<3.3.0,>=3.2.0->en-core-web-sm==3.2.0) (49.6.0.post20210108)\n",
      "Requirement already satisfied: packaging>=20.0 in /opt/conda/lib/python3.9/site-packages (from spacy<3.3.0,>=3.2.0->en-core-web-sm==3.2.0) (21.0)\n",
      "Requirement already satisfied: langcodes<4.0.0,>=3.2.0 in /opt/conda/lib/python3.9/site-packages (from spacy<3.3.0,>=3.2.0->en-core-web-sm==3.2.0) (3.3.0)\n",
      "Requirement already satisfied: pyparsing>=2.0.2 in /opt/conda/lib/python3.9/site-packages (from packaging>=20.0->spacy<3.3.0,>=3.2.0->en-core-web-sm==3.2.0) (2.4.7)\n",
      "Requirement already satisfied: smart-open<6.0.0,>=5.2.1 in /opt/conda/lib/python3.9/site-packages (from pathy>=0.3.5->spacy<3.3.0,>=3.2.0->en-core-web-sm==3.2.0) (5.2.1)\n",
      "Requirement already satisfied: typing-extensions>=3.7.4.3 in /opt/conda/lib/python3.9/site-packages (from pydantic!=1.8,!=1.8.1,<1.9.0,>=1.7.4->spacy<3.3.0,>=3.2.0->en-core-web-sm==3.2.0) (4.3.0)\n",
      "Requirement already satisfied: chardet<5,>=3.0.2 in /opt/conda/lib/python3.9/site-packages (from requests<3.0.0,>=2.13.0->spacy<3.3.0,>=3.2.0->en-core-web-sm==3.2.0) (4.0.0)\n",
      "Requirement already satisfied: idna<3,>=2.5 in /opt/conda/lib/python3.9/site-packages (from requests<3.0.0,>=2.13.0->spacy<3.3.0,>=3.2.0->en-core-web-sm==3.2.0) (2.10)\n",
      "Requirement already satisfied: urllib3<1.27,>=1.21.1 in /opt/conda/lib/python3.9/site-packages (from requests<3.0.0,>=2.13.0->spacy<3.3.0,>=3.2.0->en-core-web-sm==3.2.0) (1.26.6)\n",
      "Requirement already satisfied: certifi>=2017.4.17 in /opt/conda/lib/python3.9/site-packages (from requests<3.0.0,>=2.13.0->spacy<3.3.0,>=3.2.0->en-core-web-sm==3.2.0) (2021.5.30)\n",
      "Requirement already satisfied: click<9.0.0,>=7.1.1 in /opt/conda/lib/python3.9/site-packages (from typer<0.5.0,>=0.3.0->spacy<3.3.0,>=3.2.0->en-core-web-sm==3.2.0) (8.1.3)\n",
      "Requirement already satisfied: MarkupSafe>=2.0 in /opt/conda/lib/python3.9/site-packages (from jinja2->spacy<3.3.0,>=3.2.0->en-core-web-sm==3.2.0) (2.0.1)\n",
      "\u001b[38;5;2m✔ Download and installation successful\u001b[0m\n",
      "You can now load the package via spacy.load('en_core_web_sm')\n"
     ]
    }
   ],
   "source": [
    "import sys\n",
    "!{sys.executable} -m pip install spacy\n",
    "\n",
    "!{sys.executable} -m spacy download en\n",
    "\n",
    "!pip install -q wordcloud"
   ]
  },
  {
   "cell_type": "code",
   "execution_count": 2,
   "metadata": {},
   "outputs": [
    {
     "name": "stdout",
     "output_type": "stream",
     "text": [
      "Requirement already satisfied: pip in /opt/conda/lib/python3.9/site-packages (23.2.1)\n",
      "Requirement already satisfied: Pillow in /opt/conda/lib/python3.9/site-packages (9.2.0)\n",
      "Collecting Pillow\n",
      "  Obtaining dependency information for Pillow from https://files.pythonhosted.org/packages/50/e5/0d484d1ac71b934638f91b7156203ba5bf3eb12f596b616a68a85c123808/Pillow-10.0.0-cp39-cp39-manylinux_2_28_x86_64.whl.metadata\n",
      "  Using cached Pillow-10.0.0-cp39-cp39-manylinux_2_28_x86_64.whl.metadata (9.5 kB)\n",
      "Using cached Pillow-10.0.0-cp39-cp39-manylinux_2_28_x86_64.whl (3.4 MB)\n",
      "Installing collected packages: Pillow\n",
      "  Attempting uninstall: Pillow\n",
      "    Found existing installation: Pillow 9.2.0\n",
      "    Uninstalling Pillow-9.2.0:\n",
      "      Successfully uninstalled Pillow-9.2.0\n",
      "Successfully installed Pillow-10.0.0\n"
     ]
    }
   ],
   "source": [
    "!pip install --upgrade pip\n",
    "\n",
    "!pip install --upgrade Pillow"
   ]
  },
  {
   "cell_type": "code",
   "execution_count": 3,
   "metadata": {},
   "outputs": [],
   "source": [
    "import pandas as pd\n",
    "import numpy as np\n",
    "import warnings\n",
    "import re\n",
    "import time\n",
    "\n",
    "import seaborn as sns\n",
    "import matplotlib.pyplot as plt\n",
    "\n",
    "import nltk\n",
    "from nltk.corpus import stopwords  \n",
    "from wordcloud import WordCloud\n",
    "from sklearn.feature_extraction.text import TfidfVectorizer, CountVectorizer\n",
    "from sklearn.model_selection import (train_test_split,\n",
    "                                     cross_val_score,\n",
    "                                     RandomizedSearchCV)\n",
    "from sklearn.linear_model import LogisticRegression, SGDClassifier\n",
    "from sklearn.tree import DecisionTreeClassifier\n",
    "from sklearn.metrics import f1_score\n",
    "from sklearn.pipeline import make_pipeline\n",
    "from tqdm.notebook import tqdm\n",
    "import spacy\n",
    "from scipy.stats import poisson"
   ]
  },
  {
   "cell_type": "code",
   "execution_count": 4,
   "metadata": {},
   "outputs": [],
   "source": [
    "warnings.filterwarnings('ignore')"
   ]
  },
  {
   "cell_type": "code",
   "execution_count": 5,
   "metadata": {
    "scrolled": true
   },
   "outputs": [
    {
     "name": "stderr",
     "output_type": "stream",
     "text": [
      "[nltk_data] Downloading package punkt to /home/jovyan/nltk_data...\n",
      "[nltk_data]   Package punkt is already up-to-date!\n",
      "[nltk_data] Downloading package wordnet to /home/jovyan/nltk_data...\n",
      "[nltk_data]   Package wordnet is already up-to-date!\n",
      "[nltk_data] Downloading package stopwords to /home/jovyan/nltk_data...\n",
      "[nltk_data]   Package stopwords is already up-to-date!\n",
      "[nltk_data] Downloading package omw-1.4 to /home/jovyan/nltk_data...\n",
      "[nltk_data]   Package omw-1.4 is already up-to-date!\n"
     ]
    },
    {
     "data": {
      "text/plain": [
       "True"
      ]
     },
     "execution_count": 5,
     "metadata": {},
     "output_type": "execute_result"
    }
   ],
   "source": [
    "nltk.download('punkt')\n",
    "nltk.download('wordnet')\n",
    "nltk.download('stopwords')\n",
    "nltk.download('omw-1.4')"
   ]
  },
  {
   "cell_type": "code",
   "execution_count": 6,
   "metadata": {},
   "outputs": [],
   "source": [
    "try:\n",
    "    data = pd.read_csv('/datasets/toxic_comments.csv')\n",
    "except:\n",
    "    data = pd.read_csv(r'/DataSets/toxic_comments.csv')"
   ]
  },
  {
   "cell_type": "code",
   "execution_count": 7,
   "metadata": {},
   "outputs": [],
   "source": [
    "warnings.filterwarnings('ignore')"
   ]
  },
  {
   "cell_type": "code",
   "execution_count": 8,
   "metadata": {},
   "outputs": [
    {
     "name": "stdout",
     "output_type": "stream",
     "text": [
      "<class 'pandas.core.frame.DataFrame'>\n",
      "RangeIndex: 159292 entries, 0 to 159291\n",
      "Data columns (total 3 columns):\n",
      " #   Column      Non-Null Count   Dtype \n",
      "---  ------      --------------   ----- \n",
      " 0   Unnamed: 0  159292 non-null  int64 \n",
      " 1   text        159292 non-null  object\n",
      " 2   toxic       159292 non-null  int64 \n",
      "dtypes: int64(2), object(1)\n",
      "memory usage: 3.6+ MB\n"
     ]
    }
   ],
   "source": [
    "data.info()"
   ]
  },
  {
   "cell_type": "code",
   "execution_count": 9,
   "metadata": {
    "scrolled": false
   },
   "outputs": [
    {
     "data": {
      "text/html": [
       "<div>\n",
       "<style scoped>\n",
       "    .dataframe tbody tr th:only-of-type {\n",
       "        vertical-align: middle;\n",
       "    }\n",
       "\n",
       "    .dataframe tbody tr th {\n",
       "        vertical-align: top;\n",
       "    }\n",
       "\n",
       "    .dataframe thead th {\n",
       "        text-align: right;\n",
       "    }\n",
       "</style>\n",
       "<table border=\"1\" class=\"dataframe\">\n",
       "  <thead>\n",
       "    <tr style=\"text-align: right;\">\n",
       "      <th></th>\n",
       "      <th>Unnamed: 0</th>\n",
       "      <th>text</th>\n",
       "      <th>toxic</th>\n",
       "    </tr>\n",
       "  </thead>\n",
       "  <tbody>\n",
       "    <tr>\n",
       "      <th>159287</th>\n",
       "      <td>159446</td>\n",
       "      <td>\":::::And for the second time of asking, when ...</td>\n",
       "      <td>0</td>\n",
       "    </tr>\n",
       "    <tr>\n",
       "      <th>159288</th>\n",
       "      <td>159447</td>\n",
       "      <td>You should be ashamed of yourself \\n\\nThat is ...</td>\n",
       "      <td>0</td>\n",
       "    </tr>\n",
       "    <tr>\n",
       "      <th>159289</th>\n",
       "      <td>159448</td>\n",
       "      <td>Spitzer \\n\\nUmm, theres no actual article for ...</td>\n",
       "      <td>0</td>\n",
       "    </tr>\n",
       "    <tr>\n",
       "      <th>159290</th>\n",
       "      <td>159449</td>\n",
       "      <td>And it looks like it was actually you who put ...</td>\n",
       "      <td>0</td>\n",
       "    </tr>\n",
       "    <tr>\n",
       "      <th>159291</th>\n",
       "      <td>159450</td>\n",
       "      <td>\"\\nAnd ... I really don't think you understand...</td>\n",
       "      <td>0</td>\n",
       "    </tr>\n",
       "  </tbody>\n",
       "</table>\n",
       "</div>"
      ],
      "text/plain": [
       "        Unnamed: 0                                               text  toxic\n",
       "159287      159446  \":::::And for the second time of asking, when ...      0\n",
       "159288      159447  You should be ashamed of yourself \\n\\nThat is ...      0\n",
       "159289      159448  Spitzer \\n\\nUmm, theres no actual article for ...      0\n",
       "159290      159449  And it looks like it was actually you who put ...      0\n",
       "159291      159450  \"\\nAnd ... I really don't think you understand...      0"
      ]
     },
     "execution_count": 9,
     "metadata": {},
     "output_type": "execute_result"
    }
   ],
   "source": [
    "data.tail()"
   ]
  },
  {
   "cell_type": "markdown",
   "metadata": {},
   "source": [
    "___\n",
    "### Удаление неинформативных признаков:\n",
    "Проверим распределение данных признака Unnamed: 0 на монотонность"
   ]
  },
  {
   "cell_type": "code",
   "execution_count": 10,
   "metadata": {},
   "outputs": [
    {
     "data": {
      "text/plain": [
       "True"
      ]
     },
     "execution_count": 10,
     "metadata": {},
     "output_type": "execute_result"
    }
   ],
   "source": [
    "data['Unnamed: 0'].is_monotonic"
   ]
  },
  {
   "cell_type": "markdown",
   "metadata": {},
   "source": [
    "Данный столбец фактически повторяет индекс, можно предположить, что эта колонка была индексом до обработки, поэтому удалим ее. "
   ]
  },
  {
   "cell_type": "code",
   "execution_count": 11,
   "metadata": {},
   "outputs": [
    {
     "data": {
      "text/plain": [
       "text     object\n",
       "toxic     int64\n",
       "dtype: object"
      ]
     },
     "execution_count": 11,
     "metadata": {},
     "output_type": "execute_result"
    }
   ],
   "source": [
    "data = data.drop('Unnamed: 0', axis=1)\n",
    "data.dtypes"
   ]
  },
  {
   "cell_type": "markdown",
   "metadata": {},
   "source": [
    "___\n",
    "### Проверка на наличие пропусков:"
   ]
  },
  {
   "cell_type": "code",
   "execution_count": 12,
   "metadata": {},
   "outputs": [
    {
     "data": {
      "text/plain": [
       "'Количество пропусков:'"
      ]
     },
     "metadata": {},
     "output_type": "display_data"
    },
    {
     "data": {
      "text/plain": [
       "text     0\n",
       "toxic    0\n",
       "dtype: int64"
      ]
     },
     "metadata": {},
     "output_type": "display_data"
    }
   ],
   "source": [
    "display('Количество пропусков:', data.isna().sum())"
   ]
  },
  {
   "cell_type": "markdown",
   "metadata": {},
   "source": [
    "___\n",
    "### Проверка на дубликаты:"
   ]
  },
  {
   "cell_type": "code",
   "execution_count": 13,
   "metadata": {},
   "outputs": [
    {
     "name": "stdout",
     "output_type": "stream",
     "text": [
      "Количество дубликатов:\n",
      " 0\n"
     ]
    }
   ],
   "source": [
    "print('Количество дубликатов:\\n', data.duplicated().sum())"
   ]
  },
  {
   "cell_type": "markdown",
   "metadata": {},
   "source": [
    "___\n",
    "### Проверка на баланс классов:\n",
    "Посмотрим сколько токсичных комментариев во всем датасе в процентном соотношении:"
   ]
  },
  {
   "cell_type": "code",
   "execution_count": 14,
   "metadata": {},
   "outputs": [
    {
     "data": {
      "text/plain": [
       "0    0.898\n",
       "1    0.102\n",
       "Name: toxic, dtype: float64"
      ]
     },
     "execution_count": 14,
     "metadata": {},
     "output_type": "execute_result"
    }
   ],
   "source": [
    "data['toxic'].value_counts(normalize=True).round(3)"
   ]
  },
  {
   "cell_type": "code",
   "execution_count": 15,
   "metadata": {},
   "outputs": [
    {
     "data": {
      "image/png": "[encoded data removed]",
      "text/plain": [
       "<Figure size 432x288 with 1 Axes>"
      ]
     },
     "metadata": {
      "needs_background": "light"
     },
     "output_type": "display_data"
    }
   ],
   "source": [
    "sns.countplot(data=data, x='toxic')\n",
    "plt.title('Распределение классов')\n",
    "plt.grid()\n",
    "plt.show()"
   ]
  },
  {
   "cell_type": "markdown",
   "metadata": {},
   "source": [
    "* Как можем наблюдать присутствует сильный дисбаланс классов, токсичных комментариев мало, они составляют лишь десятую часть от всех данных. \n",
    "\n",
    "Для соблюдения баланса при разделении данных на обучающую и тестовую выборки проведем стратификацию по таргету и при построении моделей будем учитывать параметр `class_weight=balanced`.  \n"
   ]
  },
  {
   "cell_type": "markdown",
   "metadata": {},
   "source": [
    "___\n",
    "### Лемматизация и чистка текста:"
   ]
  },
  {
   "cell_type": "code",
   "execution_count": 16,
   "metadata": {},
   "outputs": [],
   "source": [
    "lemmatizer = spacy.load('en_core_web_sm', disable=['parser', 'ner'])"
   ]
  },
  {
   "cell_type": "code",
   "execution_count": 17,
   "metadata": {},
   "outputs": [],
   "source": [
    "def clear_lemmatize_text(text):\n",
    "    d = \" \".join([token.lemma_ for token in lemmatizer(text.lower())])\n",
    "    return \" \".join(re.sub(r'[^a-zA-Z]', ' ', d).split())"
   ]
  },
  {
   "cell_type": "code",
   "execution_count": 18,
   "metadata": {
    "scrolled": true
   },
   "outputs": [
    {
     "data": {
      "application/vnd.jupyter.widget-view+json": {
       "model_id": "0ce80fa4e8114581aa5427b7927171c2",
       "version_major": 2,
       "version_minor": 0
      },
      "text/plain": [
       "  0%|          | 0/159292 [00:00<?, ?it/s]"
      ]
     },
     "metadata": {},
     "output_type": "display_data"
    }
   ],
   "source": [
    "tqdm.pandas()\n",
    "data['lemm_text'] = data['text'].progress_apply(clear_lemmatize_text)"
   ]
  },
  {
   "cell_type": "code",
   "execution_count": 19,
   "metadata": {},
   "outputs": [
    {
     "data": {
      "text/plain": [
       "0    explanation why the edit make under my usernam...\n",
       "1    d aww he match this background colour I be see...\n",
       "2    hey man I be really not try to edit war it be ...\n",
       "3    more I can not make any real suggestion on imp...\n",
       "4    you sir be my hero any chance you remember wha...\n",
       "5    congratulation from I as well use the tool wel...\n",
       "6         cocksucker before you piss around on my work\n",
       "7    your vandalism to the matt shirvington article...\n",
       "8    sorry if the word nonsense be offensive to you...\n",
       "9    alignment on this subject and which be contrar...\n",
       "Name: lemm_text, dtype: object"
      ]
     },
     "execution_count": 19,
     "metadata": {},
     "output_type": "execute_result"
    }
   ],
   "source": [
    "data['lemm_text'].head(10)"
   ]
  },
  {
   "cell_type": "markdown",
   "metadata": {},
   "source": [
    "____\n",
    "### Дополнительное исследование:"
   ]
  },
  {
   "cell_type": "code",
   "execution_count": 20,
   "metadata": {
    "scrolled": true
   },
   "outputs": [
    {
     "data": {
      "text/plain": [
       "count    159292.000000\n",
       "mean         67.213545\n",
       "std          99.133908\n",
       "min           1.000000\n",
       "25%          17.000000\n",
       "50%          36.000000\n",
       "75%          75.000000\n",
       "max        1411.000000\n",
       "Name: text, dtype: float64"
      ]
     },
     "execution_count": 20,
     "metadata": {},
     "output_type": "execute_result"
    }
   ],
   "source": [
    "# подсчитываем кол-во слов в текстах\n",
    "word_counts = data['text'].apply(lambda x: len(x.split()))\n",
    "word_counts.describe()"
   ]
  },
  {
   "cell_type": "code",
   "execution_count": 21,
   "metadata": {},
   "outputs": [
    {
     "data": {
      "image/png": "[encoded data removed]",
      "text/plain": [
       "<Figure size 432x288 with 1 Axes>"
      ]
     },
     "metadata": {
      "needs_background": "light"
     },
     "output_type": "display_data"
    }
   ],
   "source": [
    "# строим диаграмму размаха,\n",
    "# визуализируем распределение данных\n",
    "plt.boxplot(word_counts.values)\n",
    "plt.grid(True)\n",
    "plt.title('Кол-во слов (лемм) в текстах');"
   ]
  },
  {
   "cell_type": "markdown",
   "metadata": {},
   "source": [
    "___\n",
    "#### Гистограмма распределения Пуассона,:\n",
    "\n",
    "* среднее значение `mu` будет равняться средней длинне текстов, а `sample size` будет равен длинне датасета"
   ]
  },
  {
   "cell_type": "code",
   "execution_count": 22,
   "metadata": {},
   "outputs": [
    {
     "data": {
      "image/png": "[encoded data removed]",
      "text/plain": [
       "<Figure size 432x288 with 1 Axes>"
      ]
     },
     "metadata": {
      "needs_background": "light"
     },
     "output_type": "display_data"
    }
   ],
   "source": [
    "data_len = len(data)\n",
    "x = poisson.rvs(mu=67, size=data_len)\n",
    "\n",
    "plt.hist(x, density= True , edgecolor='black')\n",
    "plt.title('Распределение Пуассона:')\n",
    "plt.show()"
   ]
  },
  {
   "cell_type": "markdown",
   "metadata": {},
   "source": [
    "**Выводы по данным и графику:**\n",
    "\n",
    "* в среднем один текст содержит 67 слов (лемм)\n",
    "* 25% текстов очень короткие и содержат до 17 слов (лемм)\n",
    "* половина текстов содержат до 36 слов\n",
    "* 75% текстов содержат до 75 слов\n",
    "* имеются выбросы, максимальное кол-во слов в тексте = 1 411\n",
    "___"
   ]
  },
  {
   "cell_type": "markdown",
   "metadata": {},
   "source": [
    "___\n",
    "#### График *XYZ* в сравнении с распределением Пуассона:\n",
    "\n",
    "Построим график xyz, где по оси Х покажем количество слов, а по оси Y - количество текстов в которых встречается такое количество слов и сравним с распредлением Пуассона.\n"
   ]
  },
  {
   "cell_type": "code",
   "execution_count": 23,
   "metadata": {},
   "outputs": [
    {
     "data": {
      "image/png": "[encoded data removed]",
      "text/plain": [
       "<Figure size 432x288 with 1 Axes>"
      ]
     },
     "metadata": {
      "needs_background": "light"
     },
     "output_type": "display_data"
    }
   ],
   "source": [
    "x = word_counts.value_counts().sort_index()\n",
    "sns.kdeplot(word_counts[word_counts.values < 150])\n",
    "sns.lineplot(x, poisson.pmf(x, 67))\n",
    "sns.set(rc={'figure.figsize':(10,10)})\n",
    "\n",
    "plt.title('Сравнение графика XYZ с распределнием Пуассона: ')\n",
    "plt.xlabel('Кол-во слов')\n",
    "plt.ylabel('Кол-во текстов, в к-х  встречается такое кол-во слов')\n",
    "plt.show()\n"
   ]
  },
  {
   "cell_type": "markdown",
   "metadata": {},
   "source": [
    " ___\n",
    " **Вывод:**\n",
    " * Наше распределение кол-ва слов скошено, а распределние Пуассона близко к нормальному распрделению.\n",
    " ___"
   ]
  },
  {
   "cell_type": "markdown",
   "metadata": {},
   "source": [
    "___\n",
    "#### Облако слов:"
   ]
  },
  {
   "cell_type": "code",
   "execution_count": 24,
   "metadata": {},
   "outputs": [],
   "source": [
    "stop_words = list(stopwords.words('english'))"
   ]
  },
  {
   "cell_type": "code",
   "execution_count": 25,
   "metadata": {},
   "outputs": [
    {
     "data": {
      "image/png": "[encoded data removed]",
      "text/plain": [
       "<Figure size 576x576 with 1 Axes>"
      ]
     },
     "metadata": {},
     "output_type": "display_data"
    }
   ],
   "source": [
    "# визуализируем облако слов в текстах с токсичной коннотацией \n",
    "\n",
    "words_list = data[data['toxic']==1]['text'].unique().tolist()\n",
    "pos_words = \" \".join(words_list)\n",
    " \n",
    "pos_wordcloud =  WordCloud(\n",
    "                  width=800, height = 500,            \n",
    "                  stopwords=stop_words).generate(pos_words)\n",
    " \n",
    "plt.figure(figsize=(8, 8), facecolor = None)\n",
    "plt.imshow(pos_wordcloud)\n",
    "plt.axis(\"off\")\n",
    "plt.tight_layout(pad=0)\n",
    "plt.title('Облако слов токсичных сообщений', fontsize=20);"
   ]
  },
  {
   "cell_type": "code",
   "execution_count": 26,
   "metadata": {},
   "outputs": [
    {
     "data": {
      "image/png": "[encoded data removed]",
      "text/plain": [
       "<Figure size 576x576 with 1 Axes>"
      ]
     },
     "metadata": {},
     "output_type": "display_data"
    }
   ],
   "source": [
    "# визуализируем облако слов в текстах с не токсичной коннотацией \n",
    "words_list = data[data['toxic']==0]['text'].unique().tolist()\n",
    "pos_words = \" \".join(words_list)\n",
    " \n",
    "pos_wordcloud =  WordCloud(\n",
    "                  width=800, height = 500,            \n",
    "                  stopwords=stop_words).generate(pos_words)\n",
    " \n",
    "plt.figure(figsize=(8, 8), facecolor = None)\n",
    "plt.imshow(pos_wordcloud)\n",
    "plt.axis(\"off\")\n",
    "plt.tight_layout(pad=0)\n",
    "plt.title('Облако слов не токсичных сообщений', fontsize=20);"
   ]
  },
  {
   "cell_type": "markdown",
   "metadata": {},
   "source": [
    "___\n",
    "- Cразу становится понятно, почему работает подход \"мешок слов\": \n",
    "  - в токсичных и нетоксичных текстах преобладают разные слова."
   ]
  },
  {
   "cell_type": "markdown",
   "metadata": {},
   "source": [
    "_____\n",
    "### Разделение данных на выборки:"
   ]
  },
  {
   "cell_type": "code",
   "execution_count": 27,
   "metadata": {},
   "outputs": [
    {
     "name": "stdout",
     "output_type": "stream",
     "text": [
      "Размер признаков на трейне: (143362,)\n",
      "Размер таргета на трейне: (143362,)\n",
      "\n",
      "Размер признаков на тесте: (15930,)\n",
      "Размер таргета на тесте: (15930,)\n",
      "CPU times: user 59.7 ms, sys: 7.79 ms, total: 67.5 ms\n",
      "Wall time: 76.1 ms\n"
     ]
    }
   ],
   "source": [
    "%%time\n",
    "y = data['toxic']\n",
    "X = data['lemm_text']\n",
    "X_train, X_test, y_train, y_test = train_test_split(X, y,\n",
    "                               test_size=0.1,\n",
    "                               random_state=77,\n",
    "                               stratify=y\n",
    "                              )\n",
    "\n",
    "print('Размер признаков на трейне:', X_train.shape)\n",
    "print('Размер таргета на трейне:', y_train.shape)\n",
    "print('')\n",
    "print('Размер признаков на тесте:', X_test.shape)\n",
    "print('Размер таргета на тесте:', y_test.shape)"
   ]
  },
  {
   "cell_type": "markdown",
   "metadata": {},
   "source": [
    "____\n",
    "### **Вывод блока:**"
   ]
  },
  {
   "cell_type": "markdown",
   "metadata": {},
   "source": [
    "После загрузки данных можем сказать, что:\n",
    "* датасет содержит 159 292 записи и 3 колонки.\n",
    "* пропусков и дубликатов не выявлено.\n",
    "* столбец `Unnamed: 0` удален, как неинформативный признак.\n",
    "* присутствует сильный дисбаланс классов.\n",
    "* текст очищен и лемматизирован.\n",
    "* данные разделены на обучающую и тестовую выборки в соотношинии `75:25`.\n",
    "* построен *\"ящик с усами\"*.\n",
    "* визуализированы токсичные\\не токсичные комментарии в облаке слов.\n",
    "\n"
   ]
  },
  {
   "cell_type": "markdown",
   "metadata": {},
   "source": [
    "___\n",
    "## Обучение."
   ]
  },
  {
   "cell_type": "markdown",
   "metadata": {},
   "source": [
    "Проверим несколько способов предварительной подготовки корпуса: \n",
    "* с использованием мешка слов и параметра TF-IDF, \n",
    "* с отсечением стоп-слов и без отсечения, \n",
    "\n",
    "Подготовим соответствующие пайпланы и произведем оценку модели Логистической Регрессии по обучающей выборке."
   ]
  },
  {
   "cell_type": "code",
   "execution_count": 28,
   "metadata": {},
   "outputs": [],
   "source": [
    "lgr_model = LogisticRegression(class_weight='balanced')\n",
    "\n",
    "pipeline_cnt = make_pipeline(CountVectorizer(), lgr_model)\n",
    "pipeline_cnt_2 = make_pipeline(CountVectorizer(ngram_range=(1,2)), lgr_model)\n",
    "pipeline_cnt_stop = make_pipeline(CountVectorizer(stop_words=stop_words), lgr_model)\n",
    "\n",
    "pipeline_tfidf = make_pipeline(TfidfVectorizer(), lgr_model)\n",
    "pipeline_tfidf_2 = make_pipeline(TfidfVectorizer(ngram_range=(1,2)), lgr_model) \n",
    "pipeline_tfidf_stop = make_pipeline(TfidfVectorizer(stop_words=stop_words), lgr_model)"
   ]
  },
  {
   "cell_type": "code",
   "execution_count": 29,
   "metadata": {},
   "outputs": [],
   "source": [
    "pipeline_list = [pipeline_cnt, pipeline_cnt_2, \n",
    "                 pipeline_cnt_stop, pipeline_tfidf,\n",
    "                 pipeline_tfidf_2, pipeline_tfidf_stop]"
   ]
  },
  {
   "cell_type": "code",
   "execution_count": 30,
   "metadata": {},
   "outputs": [
    {
     "name": "stdout",
     "output_type": "stream",
     "text": [
      "<bound method Pipeline.get_params of Pipeline(steps=[('countvectorizer', CountVectorizer()),\n",
      "                ('logisticregression',\n",
      "                 LogisticRegression(class_weight='balanced'))])>\n",
      "F1-score = 0.755, training_time = 166.1\n",
      "\n",
      "<bound method Pipeline.get_params of Pipeline(steps=[('countvectorizer', CountVectorizer(ngram_range=(1, 2))),\n",
      "                ('logisticregression',\n",
      "                 LogisticRegression(class_weight='balanced'))])>\n",
      "F1-score = 0.786, training_time = 411.8\n",
      "\n",
      "<bound method Pipeline.get_params of Pipeline(steps=[('countvectorizer',\n",
      "                 CountVectorizer(stop_words=['i', 'me', 'my', 'myself', 'we',\n",
      "                                             'our', 'ours', 'ourselves', 'you',\n",
      "                                             \"you're\", \"you've\", \"you'll\",\n",
      "                                             \"you'd\", 'your', 'yours',\n",
      "                                             'yourself', 'yourselves', 'he',\n",
      "                                             'him', 'his', 'himself', 'she',\n",
      "                                             \"she's\", 'her', 'hers', 'herself',\n",
      "                                             'it', \"it's\", 'its', 'itself', ...])),\n",
      "                ('logisticregression',\n",
      "                 LogisticRegression(class_weight='balanced'))])>\n",
      "F1-score = 0.76, training_time = 158.5\n",
      "\n",
      "<bound method Pipeline.get_params of Pipeline(steps=[('tfidfvectorizer', TfidfVectorizer()),\n",
      "                ('logisticregression',\n",
      "                 LogisticRegression(class_weight='balanced'))])>\n",
      "F1-score = 0.747, training_time = 162.0\n",
      "\n",
      "<bound method Pipeline.get_params of Pipeline(steps=[('tfidfvectorizer', TfidfVectorizer(ngram_range=(1, 2))),\n",
      "                ('logisticregression',\n",
      "                 LogisticRegression(class_weight='balanced'))])>\n",
      "F1-score = 0.744, training_time = 332.4\n",
      "\n",
      "<bound method Pipeline.get_params of Pipeline(steps=[('tfidfvectorizer',\n",
      "                 TfidfVectorizer(stop_words=['i', 'me', 'my', 'myself', 'we',\n",
      "                                             'our', 'ours', 'ourselves', 'you',\n",
      "                                             \"you're\", \"you've\", \"you'll\",\n",
      "                                             \"you'd\", 'your', 'yours',\n",
      "                                             'yourself', 'yourselves', 'he',\n",
      "                                             'him', 'his', 'himself', 'she',\n",
      "                                             \"she's\", 'her', 'hers', 'herself',\n",
      "                                             'it', \"it's\", 'its', 'itself', ...])),\n",
      "                ('logisticregression',\n",
      "                 LogisticRegression(class_weight='balanced'))])>\n",
      "F1-score = 0.749, training_time = 165.7\n",
      "\n"
     ]
    }
   ],
   "source": [
    "for pipeline in pipeline_list:\n",
    "    print(pipeline.get_params)\n",
    "\n",
    "    start_time = time.time()\n",
    "    f1 = cross_val_score(pipeline, X=X_train, y=y_train, cv=3, scoring='f1'). mean()\n",
    "    end_time = time.time()\n",
    "    training_time = end_time - start_time\n",
    "\n",
    "    print(f'F1-score = {round(f1, 3)}, training_time = {round(training_time, 1)}')\n",
    "    print()"
   ]
  },
  {
   "cell_type": "markdown",
   "metadata": {},
   "source": [
    "____\n",
    "# Промежуточный вывод:\n",
    "\n",
    "* При использовании CountVectorize добавление биграмм несколько улучшает качество модели сильно увеличивая время расчета. \n",
    "* Применение стоп-слов ухудшает качество модели, при этом скорость обучения вдвое выше.\n",
    "  * Похоже в стоп-словах все-таки содержится какой-то полезный сигнал для детекции токсичности. Возможно, токсичные тексты часто бывают безграмотными.\n",
    "* Метод TF-IDF обеспечивает меньшие показатели метрики качества F1-score, по сравнению с CountVectorize.\n",
    "\n",
    "* При использовании TfidfVectorizer качество модели снижается при добавлении биграмм, также увеличивается время.\n",
    "* Также при добавлении стоп-слов в TF-IDF незначительно увеличивается качество, время остается примерно на том же уровне.\n",
    "\n",
    "Таким образом, наиболее предпочтитетельная подготовка вектора признаков, в данном случае, основана на использовании метода мешка слов без использования стоп-слов, применяя униграммы и биграммы.\n",
    "\n",
    "Попробуем также для выбранного метода подготовки данных, использовать модели классификации с предустановленными параметрами: Дерево Решений и Стохастический Градиентный Спуск."
   ]
  },
  {
   "cell_type": "code",
   "execution_count": 31,
   "metadata": {},
   "outputs": [
    {
     "data": {
      "text/plain": [
       "0.588"
      ]
     },
     "execution_count": 31,
     "metadata": {},
     "output_type": "execute_result"
    }
   ],
   "source": [
    "# Модель Дерева Решений\n",
    "\n",
    "pipeline_dtf = make_pipeline(CountVectorizer(ngram_range=(1,2)), DecisionTreeClassifier(random_state=77, \n",
    "                                                                                        class_weight='balanced'))\n",
    "\n",
    "cross_val_score(pipeline_dtf, X=X_train, y=y_train, cv=3, scoring='f1', n_jobs=-1).mean().round(3)"
   ]
  },
  {
   "cell_type": "code",
   "execution_count": 32,
   "metadata": {},
   "outputs": [
    {
     "data": {
      "text/plain": [
       "0.778"
      ]
     },
     "execution_count": 32,
     "metadata": {},
     "output_type": "execute_result"
    }
   ],
   "source": [
    "#SGD\n",
    "\n",
    "pipeline_sgd = make_pipeline(CountVectorizer(ngram_range=(1,2)), SGDClassifier(random_state=77, \n",
    "                                                                                       class_weight='balanced'))\n",
    "\n",
    "cross_val_score(pipeline_sgd, X=X_train, y=y_train, cv=3, scoring='f1', n_jobs=-1).mean().round(3)"
   ]
  },
  {
   "cell_type": "markdown",
   "metadata": {},
   "source": [
    "___\n",
    "Качество модели Дерево Решений существенно ниже.\n",
    "\n",
    "Вариант со Стохастическим Градиентным Спуском показывает лучшее значение метрики качества и существенно выигрывает во вермени.\n",
    "_____\n",
    "Настроим гиперпараметры:"
   ]
  },
  {
   "cell_type": "code",
   "execution_count": 34,
   "metadata": {},
   "outputs": [
    {
     "name": "stdout",
     "output_type": "stream",
     "text": [
      "0.7830147233126065\n",
      "{'sgdclassifier__penalty': 'l2', 'sgdclassifier__loss': 'hinge', 'sgdclassifier__learning_rate': 'adaptive', 'sgdclassifier__eta0': 0.2}\n",
      "CPU times: user 27min 42s, sys: 29.7 s, total: 28min 12s\n",
      "Wall time: 28min 15s\n"
     ]
    }
   ],
   "source": [
    "%%time\n",
    "sgd_grid = {'sgdclassifier__loss':['hinge', 'log'],\n",
    "            'sgdclassifier__learning_rate':['optimal', 'adaptive'],\n",
    "            'sgdclassifier__eta0':[0.05, 0.1, 0.2, 0.5],\n",
    "            'sgdclassifier__penalty':['l1', 'l2', 'elasticnet'],\n",
    "           }\n",
    "sgd_search = RandomizedSearchCV(estimator=pipeline_sgd, \n",
    "                            param_distributions = sgd_grid, \n",
    "                            cv=3,\n",
    "                            n_jobs = -1,\n",
    "                            scoring='f1')\n",
    "sgd_search.fit(X_train, y_train)\n",
    "print(sgd_search.best_score_)\n",
    "print(sgd_search.best_params_)"
   ]
  },
  {
   "cell_type": "code",
   "execution_count": 35,
   "metadata": {},
   "outputs": [
    {
     "data": {
      "text/plain": [
       "{'sgdclassifier__penalty': 'l2',\n",
       " 'sgdclassifier__loss': 'hinge',\n",
       " 'sgdclassifier__learning_rate': 'adaptive',\n",
       " 'sgdclassifier__eta0': 0.2}"
      ]
     },
     "execution_count": 35,
     "metadata": {},
     "output_type": "execute_result"
    }
   ],
   "source": [
    "sgd_search.best_params_"
   ]
  },
  {
   "cell_type": "markdown",
   "metadata": {},
   "source": [
    "Подбор гиперпараметров несколько повысил качество модели SGD."
   ]
  },
  {
   "cell_type": "markdown",
   "metadata": {},
   "source": [
    "___\n",
    "### **Вывод блока:**"
   ]
  },
  {
   "cell_type": "markdown",
   "metadata": {},
   "source": [
    "* в виде подготовки вектора признаков выбран метод мешка слов на основе униграмм и биграмм без использования стоп-слов.\n",
    "* оптимальная модель для дальнейшей работы - `SGD`."
   ]
  },
  {
   "cell_type": "markdown",
   "metadata": {},
   "source": [
    "____\n",
    "## Тестирование лучшей модели."
   ]
  },
  {
   "cell_type": "markdown",
   "metadata": {},
   "source": [
    "Обучим модель стохастического градиентного спуска на полном наборе обучающих данных и рассчитаем метрику f1 на тестовом наборе."
   ]
  },
  {
   "cell_type": "code",
   "execution_count": 37,
   "metadata": {
    "scrolled": true
   },
   "outputs": [
    {
     "name": "stdout",
     "output_type": "stream",
     "text": [
      "CPU times: user 42.3 s, sys: 1.18 s, total: 43.5 s\n",
      "Wall time: 43.6 s\n"
     ]
    },
    {
     "data": {
      "text/plain": [
       "0.8043276661514683"
      ]
     },
     "execution_count": 37,
     "metadata": {},
     "output_type": "execute_result"
    }
   ],
   "source": [
    "%%time\n",
    "sgd_search.best_estimator_.fit(X_train, y_train)\n",
    "y_pred = sgd_search.best_estimator_.predict(X_test)\n",
    "f1_score(y_test, y_pred)"
   ]
  },
  {
   "cell_type": "markdown",
   "metadata": {},
   "source": [
    "___\n",
    "## **Общий вывод:**"
   ]
  },
  {
   "cell_type": "markdown",
   "metadata": {},
   "source": [
    "____\n",
    "**Этап 1. Подготовка данных:**\n",
    "\n",
    "* изучили датасет:\n",
    "  * пропусков и дубликатов не выявлено.\n",
    "* столбец `Unnamed: 0` удален, как неинформативный признак.\n",
    "* присутствует сильный дисбаланс классов.\n",
    "* текст очищен и лемматизирован.\n",
    "* данные разделены на обучающую и тестовую выборки в соотношинии `75:25`.\n",
    "* построен *\"ящик с усами\"*.\n",
    "* визуализированы токсичные\\не токсичные комментарии в облаке слов.\n",
    "\n",
    "**Выводы по данным и графику распределения Пуассона:**\n",
    "* Присутствует сильный дисбаланс классов, токсичных комментариев мало, они составляют лишь десятую часть от всех данных. \n",
    "* Наше распределение кол-ва слов скошено, а распределние Пуассона близко к нормальному распрделению.\n",
    "* В среднем один текст содержит 67 слов (лемм)\n",
    "* 25% текстов очень короткие и содержат до 17 слов (лемм)\n",
    "* Половина текстов содержат до 36 слов\n",
    "* 75% текстов содержат до 75 слов\n",
    "* Имеются выбросы, максимальное кол-во слов в тексте = 1 411\n",
    "\n",
    "___\n",
    "**Этап 2. Обучение модели:**\n",
    "\n",
    "Наилучшее значение метрики качества `F1` на обучающей выборке на кросс-валидации получено с помощью метода SGD.\n",
    "\n",
    "Выбранная модель протестирована на отложенной выборке, метрика `F1` составила 0.804, что примерно соответствует качеству на обучающей выборке.\n",
    "\n",
    "Цель исследования в построении модели со значением метрики качества `F1` не меньше 0.75 - достигнута.\n",
    "\n",
    "**Дальнейшие рекомендации:** \n",
    "* для лемматизации и токенизации можно попробовать использовать библиотеку SpaCy, т.к она работает, возможно, лучше и быстрее, если отключить задачи не относящиеся к лемматизации.\n",
    "* дополнительно можно провести балансировку классов методом downsamplinga, upsemplinga, например, через SMOTE и сравнить выдаваемые результаты.\n",
    "* дополнительно построить и подобрать гиперпараметры для CatBoost'а и других моделей.\n",
    "* проработать выбросы с диаграммы размаха.\n",
    "* просеять частые слова из облака слов, возможно не все принадлежат своим группам.\n",
    "* посмотреть на какие признаки реагирует модель, узнав какие слова вносят большой вклад в токсичность/нетоксичность, можно  изучить их через словарь векторайзера.\n"
   ]
  },
  {
   "cell_type": "code",
   "execution_count": null,
   "metadata": {},
   "outputs": [],
   "source": []
  }
 ],
 "metadata": {
  "ExecuteTimeLog": [
   {
    "duration": 377,
    "start_time": "2023-03-20T11:13:29.460Z"
   },
   {
    "duration": 141,
    "start_time": "2023-03-20T11:14:38.405Z"
   },
   {
    "duration": 4189,
    "start_time": "2023-03-20T11:15:11.789Z"
   },
   {
    "duration": 819,
    "start_time": "2023-03-20T11:15:34.512Z"
   },
   {
    "duration": 28,
    "start_time": "2023-03-20T11:19:24.199Z"
   },
   {
    "duration": 15,
    "start_time": "2023-03-20T11:19:36.476Z"
   },
   {
    "duration": 18,
    "start_time": "2023-03-20T11:20:59.991Z"
   },
   {
    "duration": 7,
    "start_time": "2023-03-20T11:21:09.770Z"
   },
   {
    "duration": 7,
    "start_time": "2023-03-20T11:21:13.734Z"
   },
   {
    "duration": 33,
    "start_time": "2023-03-20T12:06:41.901Z"
   },
   {
    "duration": 6,
    "start_time": "2023-03-20T12:07:01.480Z"
   },
   {
    "duration": 8,
    "start_time": "2023-03-20T12:07:43.368Z"
   },
   {
    "duration": 6,
    "start_time": "2023-03-20T12:07:52.013Z"
   },
   {
    "duration": 24,
    "start_time": "2023-03-20T12:12:42.932Z"
   },
   {
    "duration": 247,
    "start_time": "2023-03-20T12:13:39.895Z"
   },
   {
    "duration": 6,
    "start_time": "2023-03-20T12:14:35.624Z"
   },
   {
    "duration": 13,
    "start_time": "2023-03-20T12:14:56.552Z"
   },
   {
    "duration": 6,
    "start_time": "2023-03-20T12:15:15.469Z"
   },
   {
    "duration": 7,
    "start_time": "2023-03-20T12:15:19.497Z"
   },
   {
    "duration": 10,
    "start_time": "2023-03-20T12:15:23.206Z"
   },
   {
    "duration": 14,
    "start_time": "2023-03-20T12:15:28.759Z"
   },
   {
    "duration": 6,
    "start_time": "2023-03-20T12:15:33.191Z"
   },
   {
    "duration": 1063,
    "start_time": "2023-03-20T12:16:25.714Z"
   },
   {
    "duration": 122,
    "start_time": "2023-03-20T12:16:49.868Z"
   },
   {
    "duration": 51,
    "start_time": "2023-03-20T12:17:22.960Z"
   },
   {
    "duration": 2,
    "start_time": "2023-03-20T12:17:43.085Z"
   },
   {
    "duration": 118,
    "start_time": "2023-03-20T12:17:52.459Z"
   },
   {
    "duration": 230,
    "start_time": "2023-03-20T12:19:02.568Z"
   },
   {
    "duration": 118,
    "start_time": "2023-03-20T12:19:09.155Z"
   },
   {
    "duration": 116,
    "start_time": "2023-03-20T12:19:40.815Z"
   },
   {
    "duration": 122,
    "start_time": "2023-03-20T12:19:51.069Z"
   },
   {
    "duration": 132,
    "start_time": "2023-03-20T12:20:06.798Z"
   },
   {
    "duration": 3,
    "start_time": "2023-03-20T12:30:12.322Z"
   },
   {
    "duration": 9,
    "start_time": "2023-03-20T12:30:36.790Z"
   },
   {
    "duration": 2,
    "start_time": "2023-03-20T12:30:42.398Z"
   },
   {
    "duration": 1407,
    "start_time": "2023-03-21T06:13:41.523Z"
   },
   {
    "duration": 3879,
    "start_time": "2023-03-21T06:13:42.932Z"
   },
   {
    "duration": 3,
    "start_time": "2023-03-21T06:13:46.813Z"
   },
   {
    "duration": 33,
    "start_time": "2023-03-21T06:13:46.819Z"
   },
   {
    "duration": 10,
    "start_time": "2023-03-21T06:13:46.854Z"
   },
   {
    "duration": 30,
    "start_time": "2023-03-21T06:13:46.866Z"
   },
   {
    "duration": 267,
    "start_time": "2023-03-21T06:13:46.898Z"
   },
   {
    "duration": 10,
    "start_time": "2023-03-21T06:13:47.167Z"
   },
   {
    "duration": 151,
    "start_time": "2023-03-21T06:13:47.179Z"
   },
   {
    "duration": 11,
    "start_time": "2023-03-21T07:21:06.197Z"
   },
   {
    "duration": 4,
    "start_time": "2023-03-21T07:25:43.812Z"
   },
   {
    "duration": 112057,
    "start_time": "2023-03-21T07:32:40.763Z"
   },
   {
    "duration": 571,
    "start_time": "2023-03-21T07:46:07.635Z"
   },
   {
    "duration": 9,
    "start_time": "2023-03-21T07:48:04.569Z"
   },
   {
    "duration": 3,
    "start_time": "2023-03-21T08:28:52.906Z"
   },
   {
    "duration": 3,
    "start_time": "2023-03-21T08:29:27.055Z"
   },
   {
    "duration": 243,
    "start_time": "2023-03-21T08:32:56.926Z"
   },
   {
    "duration": 26,
    "start_time": "2023-03-21T08:39:57.793Z"
   },
   {
    "duration": 51,
    "start_time": "2023-03-21T08:42:19.428Z"
   },
   {
    "duration": 51,
    "start_time": "2023-03-21T08:42:28.654Z"
   },
   {
    "duration": 34,
    "start_time": "2023-03-21T08:42:39.502Z"
   },
   {
    "duration": 43,
    "start_time": "2023-03-21T08:43:17.324Z"
   },
   {
    "duration": 6752,
    "start_time": "2023-03-21T08:57:01.308Z"
   },
   {
    "duration": 4,
    "start_time": "2023-03-21T10:34:43.290Z"
   },
   {
    "duration": 59132,
    "start_time": "2023-03-21T10:40:09.928Z"
   },
   {
    "duration": 35735,
    "start_time": "2023-03-21T10:42:28.418Z"
   },
   {
    "duration": 31,
    "start_time": "2023-03-21T10:55:29.797Z"
   },
   {
    "duration": 29,
    "start_time": "2023-03-21T10:55:54.098Z"
   },
   {
    "duration": 3,
    "start_time": "2023-03-21T10:56:40.586Z"
   },
   {
    "duration": 23,
    "start_time": "2023-03-21T10:56:43.693Z"
   },
   {
    "duration": 33,
    "start_time": "2023-03-21T11:01:31.627Z"
   },
   {
    "duration": 11332,
    "start_time": "2023-03-21T11:02:11.528Z"
   },
   {
    "duration": 34,
    "start_time": "2023-03-21T11:02:27.006Z"
   },
   {
    "duration": 1819,
    "start_time": "2023-03-21T11:17:35.966Z"
   },
   {
    "duration": 989,
    "start_time": "2023-03-21T11:17:37.787Z"
   },
   {
    "duration": 2743,
    "start_time": "2023-03-21T11:17:38.778Z"
   },
   {
    "duration": 3,
    "start_time": "2023-03-21T11:17:41.524Z"
   },
   {
    "duration": 72,
    "start_time": "2023-03-21T11:17:41.528Z"
   },
   {
    "duration": 13,
    "start_time": "2023-03-21T11:17:41.601Z"
   },
   {
    "duration": 61,
    "start_time": "2023-03-21T11:17:41.616Z"
   },
   {
    "duration": 247,
    "start_time": "2023-03-21T11:17:41.679Z"
   },
   {
    "duration": 7,
    "start_time": "2023-03-21T11:17:41.927Z"
   },
   {
    "duration": 130,
    "start_time": "2023-03-21T11:17:41.939Z"
   },
   {
    "duration": 104445,
    "start_time": "2023-03-21T11:17:42.070Z"
   },
   {
    "duration": 50,
    "start_time": "2023-03-21T11:19:26.517Z"
   },
   {
    "duration": 4876,
    "start_time": "2023-03-21T11:19:26.569Z"
   },
   {
    "duration": 35714,
    "start_time": "2023-03-21T11:19:31.446Z"
   },
   {
    "duration": 209,
    "start_time": "2023-03-21T11:20:07.162Z"
   },
   {
    "duration": 0,
    "start_time": "2023-03-21T11:20:07.373Z"
   },
   {
    "duration": 37948,
    "start_time": "2023-03-21T11:20:29.023Z"
   },
   {
    "duration": 1791,
    "start_time": "2023-03-21T11:27:46.063Z"
   },
   {
    "duration": 856,
    "start_time": "2023-03-21T11:27:47.855Z"
   },
   {
    "duration": 2654,
    "start_time": "2023-03-21T11:27:48.713Z"
   },
   {
    "duration": 3,
    "start_time": "2023-03-21T11:27:51.370Z"
   },
   {
    "duration": 60,
    "start_time": "2023-03-21T11:27:51.374Z"
   },
   {
    "duration": 22,
    "start_time": "2023-03-21T11:27:51.435Z"
   },
   {
    "duration": 33,
    "start_time": "2023-03-21T11:27:51.458Z"
   },
   {
    "duration": 246,
    "start_time": "2023-03-21T11:27:51.492Z"
   },
   {
    "duration": 16,
    "start_time": "2023-03-21T11:27:51.739Z"
   },
   {
    "duration": 122,
    "start_time": "2023-03-21T11:27:51.758Z"
   },
   {
    "duration": 97845,
    "start_time": "2023-03-21T11:27:51.882Z"
   },
   {
    "duration": 44,
    "start_time": "2023-03-21T11:29:29.729Z"
   },
   {
    "duration": 4840,
    "start_time": "2023-03-21T11:29:29.774Z"
   },
   {
    "duration": 34747,
    "start_time": "2023-03-21T11:29:34.615Z"
   },
   {
    "duration": 168,
    "start_time": "2023-03-21T11:30:09.363Z"
   },
   {
    "duration": 114,
    "start_time": "2023-03-21T11:41:16.659Z"
   },
   {
    "duration": 1229,
    "start_time": "2023-03-21T11:41:25.402Z"
   },
   {
    "duration": 80,
    "start_time": "2023-03-21T11:41:44.227Z"
   },
   {
    "duration": 14,
    "start_time": "2023-03-21T11:43:51.191Z"
   },
   {
    "duration": 14,
    "start_time": "2023-03-21T11:43:52.454Z"
   },
   {
    "duration": 958,
    "start_time": "2023-03-21T11:44:30.537Z"
   },
   {
    "duration": 7,
    "start_time": "2023-03-21T11:44:45.482Z"
   },
   {
    "duration": 97,
    "start_time": "2023-03-21T11:45:12.959Z"
   },
   {
    "duration": 6,
    "start_time": "2023-03-21T11:45:26.233Z"
   },
   {
    "duration": 1165,
    "start_time": "2023-03-21T11:45:39.524Z"
   },
   {
    "duration": 55,
    "start_time": "2023-03-21T11:48:59.583Z"
   },
   {
    "duration": 1739,
    "start_time": "2023-03-21T11:49:08.090Z"
   },
   {
    "duration": 865,
    "start_time": "2023-03-21T11:49:09.831Z"
   },
   {
    "duration": 2,
    "start_time": "2023-03-21T11:49:10.698Z"
   },
   {
    "duration": 47,
    "start_time": "2023-03-21T11:49:10.702Z"
   },
   {
    "duration": 9,
    "start_time": "2023-03-21T11:49:10.753Z"
   },
   {
    "duration": 35,
    "start_time": "2023-03-21T11:49:10.764Z"
   },
   {
    "duration": 258,
    "start_time": "2023-03-21T11:49:10.801Z"
   },
   {
    "duration": 7,
    "start_time": "2023-03-21T11:49:11.060Z"
   },
   {
    "duration": 136,
    "start_time": "2023-03-21T11:49:11.068Z"
   },
   {
    "duration": 102098,
    "start_time": "2023-03-21T11:49:11.207Z"
   },
   {
    "duration": 68,
    "start_time": "2023-03-21T11:50:53.310Z"
   },
   {
    "duration": 6,
    "start_time": "2023-03-21T11:50:53.380Z"
   },
   {
    "duration": 7,
    "start_time": "2023-03-21T11:50:53.387Z"
   },
   {
    "duration": 111,
    "start_time": "2023-03-21T11:50:53.396Z"
   },
   {
    "duration": 1285,
    "start_time": "2023-03-21T11:50:53.509Z"
   },
   {
    "duration": 0,
    "start_time": "2023-03-21T11:50:54.796Z"
   },
   {
    "duration": 0,
    "start_time": "2023-03-21T11:50:54.797Z"
   },
   {
    "duration": 69,
    "start_time": "2023-03-21T11:52:20.591Z"
   },
   {
    "duration": 11,
    "start_time": "2023-03-21T11:52:27.288Z"
   },
   {
    "duration": 88,
    "start_time": "2023-03-21T11:52:40.289Z"
   },
   {
    "duration": 62,
    "start_time": "2023-03-21T11:53:37.654Z"
   },
   {
    "duration": 6,
    "start_time": "2023-03-21T11:53:44.686Z"
   },
   {
    "duration": 6,
    "start_time": "2023-03-21T11:53:45.903Z"
   },
   {
    "duration": 98,
    "start_time": "2023-03-21T11:53:47.359Z"
   },
   {
    "duration": 15,
    "start_time": "2023-03-21T11:53:54.051Z"
   },
   {
    "duration": 1752,
    "start_time": "2023-03-21T11:54:32.955Z"
   },
   {
    "duration": 876,
    "start_time": "2023-03-21T11:54:34.708Z"
   },
   {
    "duration": 3,
    "start_time": "2023-03-21T11:54:35.585Z"
   },
   {
    "duration": 40,
    "start_time": "2023-03-21T11:54:35.590Z"
   },
   {
    "duration": 30,
    "start_time": "2023-03-21T11:54:35.631Z"
   },
   {
    "duration": 43,
    "start_time": "2023-03-21T11:54:35.663Z"
   },
   {
    "duration": 266,
    "start_time": "2023-03-21T11:54:35.708Z"
   },
   {
    "duration": 7,
    "start_time": "2023-03-21T11:54:35.975Z"
   },
   {
    "duration": 137,
    "start_time": "2023-03-21T11:54:35.983Z"
   },
   {
    "duration": 97534,
    "start_time": "2023-03-21T11:54:36.123Z"
   },
   {
    "duration": 146,
    "start_time": "2023-03-21T11:56:13.659Z"
   },
   {
    "duration": 0,
    "start_time": "2023-03-21T11:56:13.806Z"
   },
   {
    "duration": 0,
    "start_time": "2023-03-21T11:56:13.808Z"
   },
   {
    "duration": 0,
    "start_time": "2023-03-21T11:56:13.809Z"
   },
   {
    "duration": 10,
    "start_time": "2023-03-21T11:57:00.373Z"
   },
   {
    "duration": 9,
    "start_time": "2023-03-21T11:57:33.121Z"
   },
   {
    "duration": 32,
    "start_time": "2023-03-21T11:58:11.577Z"
   },
   {
    "duration": 11,
    "start_time": "2023-03-21T11:59:58.713Z"
   },
   {
    "duration": 73,
    "start_time": "2023-03-21T12:00:07.609Z"
   },
   {
    "duration": 76,
    "start_time": "2023-03-21T12:00:22.903Z"
   },
   {
    "duration": 3,
    "start_time": "2023-03-21T12:00:41.828Z"
   },
   {
    "duration": 1207,
    "start_time": "2023-03-21T12:00:59.097Z"
   },
   {
    "duration": 10,
    "start_time": "2023-03-21T12:01:39.900Z"
   },
   {
    "duration": 4,
    "start_time": "2023-03-21T12:02:09.212Z"
   },
   {
    "duration": 4,
    "start_time": "2023-03-21T12:02:16.529Z"
   },
   {
    "duration": 5,
    "start_time": "2023-03-21T12:02:32.898Z"
   },
   {
    "duration": 4,
    "start_time": "2023-03-21T12:02:55.207Z"
   },
   {
    "duration": 4,
    "start_time": "2023-03-21T12:03:29.966Z"
   },
   {
    "duration": 36,
    "start_time": "2023-03-21T12:03:38.877Z"
   },
   {
    "duration": 3,
    "start_time": "2023-03-21T12:04:32.391Z"
   },
   {
    "duration": 36,
    "start_time": "2023-03-21T12:04:44.301Z"
   },
   {
    "duration": 16,
    "start_time": "2023-03-21T12:04:48.519Z"
   },
   {
    "duration": 1768,
    "start_time": "2023-03-21T12:04:54.760Z"
   },
   {
    "duration": 987,
    "start_time": "2023-03-21T12:04:56.534Z"
   },
   {
    "duration": 3,
    "start_time": "2023-03-21T12:04:57.523Z"
   },
   {
    "duration": 70,
    "start_time": "2023-03-21T12:04:57.528Z"
   },
   {
    "duration": 9,
    "start_time": "2023-03-21T12:04:57.599Z"
   },
   {
    "duration": 47,
    "start_time": "2023-03-21T12:04:57.610Z"
   },
   {
    "duration": 250,
    "start_time": "2023-03-21T12:04:57.658Z"
   },
   {
    "duration": 9,
    "start_time": "2023-03-21T12:04:57.909Z"
   },
   {
    "duration": 188,
    "start_time": "2023-03-21T12:04:57.920Z"
   },
   {
    "duration": 106226,
    "start_time": "2023-03-21T12:04:58.110Z"
   },
   {
    "duration": 12,
    "start_time": "2023-03-21T12:06:44.341Z"
   },
   {
    "duration": 144,
    "start_time": "2023-03-21T12:06:44.354Z"
   },
   {
    "duration": 0,
    "start_time": "2023-03-21T12:06:44.500Z"
   },
   {
    "duration": 0,
    "start_time": "2023-03-21T12:06:44.501Z"
   },
   {
    "duration": 0,
    "start_time": "2023-03-21T12:06:44.503Z"
   },
   {
    "duration": 0,
    "start_time": "2023-03-21T12:06:44.503Z"
   },
   {
    "duration": 9,
    "start_time": "2023-03-21T12:07:13.238Z"
   },
   {
    "duration": 32,
    "start_time": "2023-03-21T12:07:13.852Z"
   },
   {
    "duration": 51,
    "start_time": "2023-03-21T12:07:43.710Z"
   },
   {
    "duration": 2210,
    "start_time": "2023-03-21T12:07:49.370Z"
   },
   {
    "duration": 4029,
    "start_time": "2023-03-21T12:07:51.582Z"
   },
   {
    "duration": 3,
    "start_time": "2023-03-21T12:07:55.613Z"
   },
   {
    "duration": 60,
    "start_time": "2023-03-21T12:07:55.617Z"
   },
   {
    "duration": 11,
    "start_time": "2023-03-21T12:07:55.680Z"
   },
   {
    "duration": 36,
    "start_time": "2023-03-21T12:07:55.693Z"
   },
   {
    "duration": 250,
    "start_time": "2023-03-21T12:07:55.730Z"
   },
   {
    "duration": 8,
    "start_time": "2023-03-21T12:07:55.981Z"
   },
   {
    "duration": 124,
    "start_time": "2023-03-21T12:07:55.991Z"
   },
   {
    "duration": 96241,
    "start_time": "2023-03-21T12:07:56.117Z"
   },
   {
    "duration": 3,
    "start_time": "2023-03-21T12:09:32.360Z"
   },
   {
    "duration": 16,
    "start_time": "2023-03-21T12:09:32.365Z"
   },
   {
    "duration": 36,
    "start_time": "2023-03-21T12:09:32.382Z"
   },
   {
    "duration": 5050,
    "start_time": "2023-03-21T12:09:32.420Z"
   },
   {
    "duration": 36588,
    "start_time": "2023-03-21T12:09:37.471Z"
   },
   {
    "duration": 154,
    "start_time": "2023-03-21T12:10:14.060Z"
   },
   {
    "duration": 10,
    "start_time": "2023-03-21T12:11:26.387Z"
   },
   {
    "duration": 4,
    "start_time": "2023-03-21T12:11:30.102Z"
   },
   {
    "duration": 4,
    "start_time": "2023-03-21T12:12:32.127Z"
   },
   {
    "duration": 1847,
    "start_time": "2023-03-21T12:18:07.129Z"
   },
   {
    "duration": 912,
    "start_time": "2023-03-21T12:18:08.980Z"
   },
   {
    "duration": 3,
    "start_time": "2023-03-21T12:18:09.894Z"
   },
   {
    "duration": 59,
    "start_time": "2023-03-21T12:18:09.899Z"
   },
   {
    "duration": 12,
    "start_time": "2023-03-21T12:18:09.960Z"
   },
   {
    "duration": 34,
    "start_time": "2023-03-21T12:18:09.973Z"
   },
   {
    "duration": 266,
    "start_time": "2023-03-21T12:18:10.008Z"
   },
   {
    "duration": 7,
    "start_time": "2023-03-21T12:18:10.276Z"
   },
   {
    "duration": 137,
    "start_time": "2023-03-21T12:18:10.285Z"
   },
   {
    "duration": 100980,
    "start_time": "2023-03-21T12:18:10.424Z"
   },
   {
    "duration": 150,
    "start_time": "2023-03-21T12:19:51.406Z"
   },
   {
    "duration": 0,
    "start_time": "2023-03-21T12:19:51.558Z"
   },
   {
    "duration": 0,
    "start_time": "2023-03-21T12:19:51.560Z"
   },
   {
    "duration": 0,
    "start_time": "2023-03-21T12:19:51.560Z"
   },
   {
    "duration": 0,
    "start_time": "2023-03-21T12:19:51.561Z"
   },
   {
    "duration": 0,
    "start_time": "2023-03-21T12:19:51.562Z"
   },
   {
    "duration": 0,
    "start_time": "2023-03-21T12:19:51.563Z"
   },
   {
    "duration": 0,
    "start_time": "2023-03-21T12:19:51.564Z"
   },
   {
    "duration": 0,
    "start_time": "2023-03-21T12:19:51.565Z"
   },
   {
    "duration": 0,
    "start_time": "2023-03-21T12:19:51.566Z"
   },
   {
    "duration": 18,
    "start_time": "2023-03-21T12:20:21.379Z"
   },
   {
    "duration": 6,
    "start_time": "2023-03-21T12:20:25.864Z"
   },
   {
    "duration": 37,
    "start_time": "2023-03-21T12:20:46.431Z"
   },
   {
    "duration": 12,
    "start_time": "2023-03-21T12:20:50.566Z"
   },
   {
    "duration": 5,
    "start_time": "2023-03-21T12:20:53.864Z"
   },
   {
    "duration": 4795,
    "start_time": "2023-03-21T12:21:28.662Z"
   },
   {
    "duration": 4,
    "start_time": "2023-03-21T12:21:34.604Z"
   },
   {
    "duration": 5,
    "start_time": "2023-03-21T12:21:35.855Z"
   },
   {
    "duration": 14,
    "start_time": "2023-03-21T12:24:30.803Z"
   },
   {
    "duration": 1809,
    "start_time": "2023-03-21T12:24:48.164Z"
   },
   {
    "duration": 958,
    "start_time": "2023-03-21T12:24:49.975Z"
   },
   {
    "duration": 7,
    "start_time": "2023-03-21T12:24:50.934Z"
   },
   {
    "duration": 56,
    "start_time": "2023-03-21T12:24:50.943Z"
   },
   {
    "duration": 10,
    "start_time": "2023-03-21T12:24:51.001Z"
   },
   {
    "duration": 53,
    "start_time": "2023-03-21T12:24:51.012Z"
   },
   {
    "duration": 253,
    "start_time": "2023-03-21T12:24:51.068Z"
   },
   {
    "duration": 24,
    "start_time": "2023-03-21T12:24:51.322Z"
   },
   {
    "duration": 195,
    "start_time": "2023-03-21T12:24:51.362Z"
   },
   {
    "duration": 108493,
    "start_time": "2023-03-21T12:24:51.560Z"
   },
   {
    "duration": 8,
    "start_time": "2023-03-21T12:26:40.055Z"
   },
   {
    "duration": 5,
    "start_time": "2023-03-21T12:26:40.064Z"
   },
   {
    "duration": 32,
    "start_time": "2023-03-21T12:26:40.071Z"
   },
   {
    "duration": 5,
    "start_time": "2023-03-21T12:26:40.105Z"
   },
   {
    "duration": 4899,
    "start_time": "2023-03-21T12:26:40.111Z"
   },
   {
    "duration": 2,
    "start_time": "2023-03-21T12:26:45.012Z"
   },
   {
    "duration": 39,
    "start_time": "2023-03-21T12:26:45.016Z"
   },
   {
    "duration": 25,
    "start_time": "2023-03-21T12:26:45.057Z"
   },
   {
    "duration": 195,
    "start_time": "2023-03-21T12:26:45.084Z"
   },
   {
    "duration": 4,
    "start_time": "2023-03-21T12:44:20.820Z"
   },
   {
    "duration": 1329,
    "start_time": "2023-03-21T12:45:22.082Z"
   },
   {
    "duration": 23,
    "start_time": "2023-03-21T12:45:34.732Z"
   },
   {
    "duration": 15,
    "start_time": "2023-03-21T12:45:46.760Z"
   },
   {
    "duration": 15,
    "start_time": "2023-03-21T12:47:26.682Z"
   },
   {
    "duration": 106,
    "start_time": "2023-03-21T13:02:12.303Z"
   },
   {
    "duration": 86,
    "start_time": "2023-03-21T13:02:18.218Z"
   },
   {
    "duration": 0,
    "start_time": "2023-03-21T13:10:55.828Z"
   },
   {
    "duration": 0,
    "start_time": "2023-03-21T13:10:55.829Z"
   },
   {
    "duration": 506621,
    "start_time": "2023-03-21T13:11:20.212Z"
   },
   {
    "duration": 95,
    "start_time": "2023-03-21T13:34:36.617Z"
   },
   {
    "duration": 3,
    "start_time": "2023-03-21T13:34:40.888Z"
   },
   {
    "duration": 2219,
    "start_time": "2023-03-21T15:03:57.136Z"
   },
   {
    "duration": 4937,
    "start_time": "2023-03-21T15:03:59.358Z"
   },
   {
    "duration": 6,
    "start_time": "2023-03-21T15:04:04.303Z"
   },
   {
    "duration": 54,
    "start_time": "2023-03-21T15:04:04.313Z"
   },
   {
    "duration": 36,
    "start_time": "2023-03-21T15:04:04.369Z"
   },
   {
    "duration": 32,
    "start_time": "2023-03-21T15:04:04.408Z"
   },
   {
    "duration": 277,
    "start_time": "2023-03-21T15:04:04.442Z"
   },
   {
    "duration": 10,
    "start_time": "2023-03-21T15:04:04.721Z"
   },
   {
    "duration": 171,
    "start_time": "2023-03-21T15:04:04.733Z"
   },
   {
    "duration": 121063,
    "start_time": "2023-03-21T15:04:04.908Z"
   },
   {
    "duration": 6,
    "start_time": "2023-03-21T15:06:05.978Z"
   },
   {
    "duration": 4,
    "start_time": "2023-03-21T15:06:05.987Z"
   },
   {
    "duration": 50,
    "start_time": "2023-03-21T15:06:05.993Z"
   },
   {
    "duration": 18,
    "start_time": "2023-03-21T15:06:06.046Z"
   },
   {
    "duration": 6014,
    "start_time": "2023-03-21T15:06:06.066Z"
   },
   {
    "duration": 3,
    "start_time": "2023-03-21T15:06:12.086Z"
   },
   {
    "duration": 41090,
    "start_time": "2023-03-21T15:06:12.090Z"
   },
   {
    "duration": 8,
    "start_time": "2023-03-21T15:06:53.182Z"
   },
   {
    "duration": 73,
    "start_time": "2023-03-21T15:06:53.192Z"
   },
   {
    "duration": 12,
    "start_time": "2023-03-21T15:06:53.270Z"
   },
   {
    "duration": 10,
    "start_time": "2023-03-21T15:06:53.285Z"
   },
   {
    "duration": 1830,
    "start_time": "2023-03-21T15:08:44.841Z"
   },
   {
    "duration": 897,
    "start_time": "2023-03-21T15:08:46.673Z"
   },
   {
    "duration": 5,
    "start_time": "2023-03-21T15:08:47.575Z"
   },
   {
    "duration": 40,
    "start_time": "2023-03-21T15:08:47.588Z"
   },
   {
    "duration": 14,
    "start_time": "2023-03-21T15:08:47.632Z"
   },
   {
    "duration": 45,
    "start_time": "2023-03-21T15:08:47.648Z"
   },
   {
    "duration": 261,
    "start_time": "2023-03-21T15:08:47.695Z"
   },
   {
    "duration": 14,
    "start_time": "2023-03-21T15:08:47.958Z"
   },
   {
    "duration": 155,
    "start_time": "2023-03-21T15:08:47.974Z"
   },
   {
    "duration": 127849,
    "start_time": "2023-03-21T15:08:48.132Z"
   },
   {
    "duration": 4,
    "start_time": "2023-03-21T15:10:55.983Z"
   },
   {
    "duration": 9,
    "start_time": "2023-03-21T15:10:55.989Z"
   },
   {
    "duration": 43,
    "start_time": "2023-03-21T15:10:56.000Z"
   },
   {
    "duration": 11,
    "start_time": "2023-03-21T15:10:56.062Z"
   },
   {
    "duration": 5639,
    "start_time": "2023-03-21T15:10:56.076Z"
   },
   {
    "duration": 3,
    "start_time": "2023-03-21T15:11:01.717Z"
   },
   {
    "duration": 38858,
    "start_time": "2023-03-21T15:11:01.721Z"
   },
   {
    "duration": 5,
    "start_time": "2023-03-21T15:11:40.581Z"
   },
   {
    "duration": 6,
    "start_time": "2023-03-21T15:11:40.588Z"
   },
   {
    "duration": 4,
    "start_time": "2023-03-21T15:11:40.596Z"
   },
   {
    "duration": 5,
    "start_time": "2023-03-21T15:11:40.603Z"
   },
   {
    "duration": 141757,
    "start_time": "2023-03-21T15:11:40.610Z"
   },
   {
    "duration": 5,
    "start_time": "2023-03-21T15:14:02.369Z"
   },
   {
    "duration": 1765,
    "start_time": "2023-03-22T05:57:15.492Z"
   },
   {
    "duration": 1211,
    "start_time": "2023-03-22T05:57:17.260Z"
   },
   {
    "duration": 4,
    "start_time": "2023-03-22T05:57:18.473Z"
   },
   {
    "duration": 40,
    "start_time": "2023-03-22T05:57:18.479Z"
   },
   {
    "duration": 11,
    "start_time": "2023-03-22T05:57:18.520Z"
   },
   {
    "duration": 27,
    "start_time": "2023-03-22T05:57:18.533Z"
   },
   {
    "duration": 257,
    "start_time": "2023-03-22T05:57:18.561Z"
   },
   {
    "duration": 9,
    "start_time": "2023-03-22T05:57:18.820Z"
   },
   {
    "duration": 152,
    "start_time": "2023-03-22T05:57:18.830Z"
   },
   {
    "duration": 98893,
    "start_time": "2023-03-22T05:57:18.985Z"
   },
   {
    "duration": 2,
    "start_time": "2023-03-22T05:58:57.881Z"
   },
   {
    "duration": 16,
    "start_time": "2023-03-22T05:58:57.885Z"
   },
   {
    "duration": 43,
    "start_time": "2023-03-22T05:58:57.903Z"
   },
   {
    "duration": 6,
    "start_time": "2023-03-22T05:58:57.948Z"
   },
   {
    "duration": 5894,
    "start_time": "2023-03-22T05:58:57.956Z"
   },
   {
    "duration": 3,
    "start_time": "2023-03-22T05:59:03.852Z"
   },
   {
    "duration": 32452,
    "start_time": "2023-03-22T05:59:03.856Z"
   },
   {
    "duration": 88,
    "start_time": "2023-03-22T05:59:36.311Z"
   },
   {
    "duration": 24,
    "start_time": "2023-03-22T05:59:36.401Z"
   },
   {
    "duration": 21,
    "start_time": "2023-03-22T05:59:36.427Z"
   },
   {
    "duration": 13,
    "start_time": "2023-03-22T05:59:36.450Z"
   },
   {
    "duration": 118736,
    "start_time": "2023-03-22T05:59:36.464Z"
   },
   {
    "duration": 94,
    "start_time": "2023-03-22T06:01:35.203Z"
   },
   {
    "duration": 34524,
    "start_time": "2023-03-22T06:03:00.079Z"
   },
   {
    "duration": 6,
    "start_time": "2023-03-22T06:04:48.011Z"
   },
   {
    "duration": 5,
    "start_time": "2023-03-22T06:05:01.156Z"
   },
   {
    "duration": 118564,
    "start_time": "2023-03-22T06:05:12.542Z"
   },
   {
    "duration": 214,
    "start_time": "2023-03-22T06:14:09.334Z"
   },
   {
    "duration": 152,
    "start_time": "2023-03-22T06:19:06.036Z"
   },
   {
    "duration": 0,
    "start_time": "2023-03-22T06:23:07.304Z"
   },
   {
    "duration": 32,
    "start_time": "2023-03-22T06:36:32.406Z"
   },
   {
    "duration": 180003,
    "start_time": "2023-03-22T06:41:51.102Z"
   },
   {
    "duration": 54,
    "start_time": "2023-03-22T06:45:49.560Z"
   },
   {
    "duration": 63,
    "start_time": "2023-03-22T06:47:13.725Z"
   },
   {
    "duration": 146725,
    "start_time": "2023-03-22T06:48:22.275Z"
   },
   {
    "duration": 102,
    "start_time": "2023-03-22T06:53:00.278Z"
   },
   {
    "duration": 27337,
    "start_time": "2023-03-22T06:55:37.760Z"
   },
   {
    "duration": 82,
    "start_time": "2023-03-22T06:59:49.427Z"
   },
   {
    "duration": 59380,
    "start_time": "2023-03-22T07:00:08.924Z"
   },
   {
    "duration": 96,
    "start_time": "2023-03-22T07:01:14.212Z"
   },
   {
    "duration": 59,
    "start_time": "2023-03-22T07:03:14.137Z"
   },
   {
    "duration": 7,
    "start_time": "2023-03-22T07:06:14.233Z"
   },
   {
    "duration": 3,
    "start_time": "2023-03-22T07:08:37.087Z"
   },
   {
    "duration": 10,
    "start_time": "2023-03-22T07:09:15.605Z"
   },
   {
    "duration": 1813,
    "start_time": "2023-03-22T07:09:21.184Z"
   },
   {
    "duration": 880,
    "start_time": "2023-03-22T07:09:22.999Z"
   },
   {
    "duration": 2,
    "start_time": "2023-03-22T07:09:23.881Z"
   },
   {
    "duration": 50,
    "start_time": "2023-03-22T07:09:23.885Z"
   },
   {
    "duration": 11,
    "start_time": "2023-03-22T07:09:23.937Z"
   },
   {
    "duration": 27,
    "start_time": "2023-03-22T07:09:23.949Z"
   },
   {
    "duration": 261,
    "start_time": "2023-03-22T07:09:23.977Z"
   },
   {
    "duration": 10,
    "start_time": "2023-03-22T07:09:24.240Z"
   },
   {
    "duration": 184,
    "start_time": "2023-03-22T07:09:24.251Z"
   },
   {
    "duration": 110727,
    "start_time": "2023-03-22T07:09:24.438Z"
   },
   {
    "duration": 86,
    "start_time": "2023-03-22T07:11:15.166Z"
   },
   {
    "duration": 2,
    "start_time": "2023-03-22T07:11:15.254Z"
   },
   {
    "duration": 27,
    "start_time": "2023-03-22T07:11:15.258Z"
   },
   {
    "duration": 205,
    "start_time": "2023-03-22T07:11:15.288Z"
   },
   {
    "duration": 0,
    "start_time": "2023-03-22T07:11:15.497Z"
   },
   {
    "duration": 0,
    "start_time": "2023-03-22T07:11:15.498Z"
   },
   {
    "duration": 0,
    "start_time": "2023-03-22T07:11:15.500Z"
   },
   {
    "duration": 0,
    "start_time": "2023-03-22T07:11:15.501Z"
   },
   {
    "duration": 0,
    "start_time": "2023-03-22T07:11:15.502Z"
   },
   {
    "duration": 0,
    "start_time": "2023-03-22T07:11:15.503Z"
   },
   {
    "duration": 0,
    "start_time": "2023-03-22T07:11:15.505Z"
   },
   {
    "duration": 0,
    "start_time": "2023-03-22T07:11:15.506Z"
   },
   {
    "duration": 0,
    "start_time": "2023-03-22T07:11:15.508Z"
   },
   {
    "duration": 0,
    "start_time": "2023-03-22T07:11:15.510Z"
   },
   {
    "duration": 0,
    "start_time": "2023-03-22T07:11:15.511Z"
   },
   {
    "duration": 0,
    "start_time": "2023-03-22T07:11:15.512Z"
   },
   {
    "duration": 3,
    "start_time": "2023-03-22T07:32:26.321Z"
   },
   {
    "duration": 4,
    "start_time": "2023-03-22T07:32:30.956Z"
   },
   {
    "duration": 1375,
    "start_time": "2023-03-22T07:32:34.416Z"
   },
   {
    "duration": 13,
    "start_time": "2023-03-22T07:32:49.575Z"
   },
   {
    "duration": 94,
    "start_time": "2023-03-22T07:35:17.895Z"
   },
   {
    "duration": 6,
    "start_time": "2023-03-22T07:35:24.387Z"
   },
   {
    "duration": 14,
    "start_time": "2023-03-22T07:35:27.777Z"
   },
   {
    "duration": 3,
    "start_time": "2023-03-22T07:35:30.502Z"
   },
   {
    "duration": 1649,
    "start_time": "2023-03-22T07:35:37.291Z"
   },
   {
    "duration": 866,
    "start_time": "2023-03-22T07:35:38.942Z"
   },
   {
    "duration": 4,
    "start_time": "2023-03-22T07:35:39.815Z"
   },
   {
    "duration": 44,
    "start_time": "2023-03-22T07:35:39.821Z"
   },
   {
    "duration": 13,
    "start_time": "2023-03-22T07:35:39.868Z"
   },
   {
    "duration": 42,
    "start_time": "2023-03-22T07:35:39.883Z"
   },
   {
    "duration": 257,
    "start_time": "2023-03-22T07:35:39.926Z"
   },
   {
    "duration": 16,
    "start_time": "2023-03-22T07:35:40.184Z"
   },
   {
    "duration": 151,
    "start_time": "2023-03-22T07:35:40.206Z"
   },
   {
    "duration": 117922,
    "start_time": "2023-03-22T07:35:40.359Z"
   },
   {
    "duration": 85,
    "start_time": "2023-03-22T07:37:38.283Z"
   },
   {
    "duration": 2,
    "start_time": "2023-03-22T07:37:38.370Z"
   },
   {
    "duration": 8,
    "start_time": "2023-03-22T07:37:38.373Z"
   },
   {
    "duration": 21,
    "start_time": "2023-03-22T07:37:38.382Z"
   },
   {
    "duration": 22,
    "start_time": "2023-03-22T07:37:38.412Z"
   },
   {
    "duration": 5,
    "start_time": "2023-03-22T07:41:09.814Z"
   },
   {
    "duration": 53,
    "start_time": "2023-03-22T07:45:03.053Z"
   },
   {
    "duration": 1950,
    "start_time": "2023-03-22T07:45:11.236Z"
   },
   {
    "duration": 1535,
    "start_time": "2023-03-22T07:45:13.188Z"
   },
   {
    "duration": 4,
    "start_time": "2023-03-22T07:45:14.726Z"
   },
   {
    "duration": 68,
    "start_time": "2023-03-22T07:45:14.733Z"
   },
   {
    "duration": 69,
    "start_time": "2023-03-22T07:45:14.804Z"
   },
   {
    "duration": 34,
    "start_time": "2023-03-22T07:45:14.876Z"
   },
   {
    "duration": 338,
    "start_time": "2023-03-22T07:45:14.913Z"
   },
   {
    "duration": 176,
    "start_time": "2023-03-22T07:45:15.254Z"
   },
   {
    "duration": 162,
    "start_time": "2023-03-22T07:45:15.432Z"
   },
   {
    "duration": 117129,
    "start_time": "2023-03-22T07:45:15.597Z"
   },
   {
    "duration": 141,
    "start_time": "2023-03-22T07:47:12.731Z"
   },
   {
    "duration": 497,
    "start_time": "2023-03-22T07:47:12.875Z"
   },
   {
    "duration": 0,
    "start_time": "2023-03-22T07:47:13.374Z"
   },
   {
    "duration": 0,
    "start_time": "2023-03-22T07:47:13.376Z"
   },
   {
    "duration": 0,
    "start_time": "2023-03-22T07:47:13.377Z"
   },
   {
    "duration": 0,
    "start_time": "2023-03-22T07:47:13.378Z"
   },
   {
    "duration": 0,
    "start_time": "2023-03-22T07:47:13.379Z"
   },
   {
    "duration": 0,
    "start_time": "2023-03-22T07:47:13.380Z"
   },
   {
    "duration": 0,
    "start_time": "2023-03-22T07:47:13.382Z"
   },
   {
    "duration": 0,
    "start_time": "2023-03-22T07:47:13.382Z"
   },
   {
    "duration": 0,
    "start_time": "2023-03-22T07:47:13.383Z"
   },
   {
    "duration": 0,
    "start_time": "2023-03-22T07:47:13.384Z"
   },
   {
    "duration": 0,
    "start_time": "2023-03-22T07:47:13.384Z"
   },
   {
    "duration": 0,
    "start_time": "2023-03-22T07:47:13.385Z"
   },
   {
    "duration": 0,
    "start_time": "2023-03-22T07:47:13.397Z"
   },
   {
    "duration": 0,
    "start_time": "2023-03-22T07:47:13.411Z"
   },
   {
    "duration": 0,
    "start_time": "2023-03-22T07:47:13.413Z"
   },
   {
    "duration": 0,
    "start_time": "2023-03-22T07:47:13.414Z"
   },
   {
    "duration": 0,
    "start_time": "2023-03-22T07:47:13.416Z"
   },
   {
    "duration": 7,
    "start_time": "2023-03-22T07:47:29.754Z"
   },
   {
    "duration": 11,
    "start_time": "2023-03-22T07:47:33.253Z"
   },
   {
    "duration": 11,
    "start_time": "2023-03-22T07:47:44.088Z"
   },
   {
    "duration": 6715,
    "start_time": "2023-03-22T07:47:53.122Z"
   },
   {
    "duration": 3,
    "start_time": "2023-03-22T07:48:30.349Z"
   },
   {
    "duration": 27671,
    "start_time": "2023-03-22T07:48:44.640Z"
   },
   {
    "duration": 37,
    "start_time": "2023-03-22T07:49:48.188Z"
   },
   {
    "duration": 6,
    "start_time": "2023-03-22T07:50:02.450Z"
   },
   {
    "duration": 154,
    "start_time": "2023-03-22T07:50:13.630Z"
   },
   {
    "duration": 44450,
    "start_time": "2023-03-22T07:50:16.751Z"
   },
   {
    "duration": 118,
    "start_time": "2023-03-22T08:49:32.902Z"
   },
   {
    "duration": 3,
    "start_time": "2023-03-22T08:49:58.930Z"
   },
   {
    "duration": 4,
    "start_time": "2023-03-22T08:50:48.213Z"
   },
   {
    "duration": 3,
    "start_time": "2023-03-22T08:51:26.206Z"
   },
   {
    "duration": 11,
    "start_time": "2023-03-22T08:53:29.026Z"
   },
   {
    "duration": 1651,
    "start_time": "2023-03-22T08:53:46.421Z"
   },
   {
    "duration": 813,
    "start_time": "2023-03-22T08:53:48.074Z"
   },
   {
    "duration": 3,
    "start_time": "2023-03-22T08:53:48.888Z"
   },
   {
    "duration": 43,
    "start_time": "2023-03-22T08:53:48.893Z"
   },
   {
    "duration": 10,
    "start_time": "2023-03-22T08:53:48.938Z"
   },
   {
    "duration": 30,
    "start_time": "2023-03-22T08:53:48.950Z"
   },
   {
    "duration": 277,
    "start_time": "2023-03-22T08:53:48.982Z"
   },
   {
    "duration": 8,
    "start_time": "2023-03-22T08:53:49.261Z"
   },
   {
    "duration": 149,
    "start_time": "2023-03-22T08:53:49.270Z"
   },
   {
    "duration": 101057,
    "start_time": "2023-03-22T08:53:49.422Z"
   },
   {
    "duration": 4,
    "start_time": "2023-03-22T08:55:30.480Z"
   },
   {
    "duration": 82,
    "start_time": "2023-03-22T08:55:30.486Z"
   },
   {
    "duration": 323,
    "start_time": "2023-03-22T08:55:30.571Z"
   },
   {
    "duration": 130,
    "start_time": "2023-03-22T08:55:30.895Z"
   },
   {
    "duration": 0,
    "start_time": "2023-03-22T08:55:31.027Z"
   },
   {
    "duration": 0,
    "start_time": "2023-03-22T08:55:31.029Z"
   },
   {
    "duration": 0,
    "start_time": "2023-03-22T08:55:31.030Z"
   },
   {
    "duration": 0,
    "start_time": "2023-03-22T08:55:31.031Z"
   },
   {
    "duration": 0,
    "start_time": "2023-03-22T08:55:31.032Z"
   },
   {
    "duration": 0,
    "start_time": "2023-03-22T08:55:31.034Z"
   },
   {
    "duration": 0,
    "start_time": "2023-03-22T08:55:31.035Z"
   },
   {
    "duration": 0,
    "start_time": "2023-03-22T08:55:31.036Z"
   },
   {
    "duration": 0,
    "start_time": "2023-03-22T08:55:31.037Z"
   },
   {
    "duration": 0,
    "start_time": "2023-03-22T08:55:31.038Z"
   },
   {
    "duration": 0,
    "start_time": "2023-03-22T08:55:31.039Z"
   },
   {
    "duration": 0,
    "start_time": "2023-03-22T08:55:31.040Z"
   },
   {
    "duration": 0,
    "start_time": "2023-03-22T08:55:31.041Z"
   },
   {
    "duration": 0,
    "start_time": "2023-03-22T08:55:31.042Z"
   },
   {
    "duration": 1,
    "start_time": "2023-03-22T08:55:31.043Z"
   },
   {
    "duration": 0,
    "start_time": "2023-03-22T08:55:31.044Z"
   },
   {
    "duration": 3,
    "start_time": "2023-03-22T08:57:16.800Z"
   },
   {
    "duration": 4,
    "start_time": "2023-03-22T08:57:36.375Z"
   },
   {
    "duration": 84,
    "start_time": "2023-03-22T10:30:27.788Z"
   },
   {
    "duration": 12,
    "start_time": "2023-03-22T10:30:38.025Z"
   },
   {
    "duration": 5,
    "start_time": "2023-03-22T10:32:41.125Z"
   },
   {
    "duration": 236,
    "start_time": "2023-03-22T10:33:19.687Z"
   },
   {
    "duration": 265,
    "start_time": "2023-03-22T10:33:33.276Z"
   },
   {
    "duration": 3,
    "start_time": "2023-03-22T10:33:38.011Z"
   },
   {
    "duration": 6,
    "start_time": "2023-03-22T10:33:45.925Z"
   },
   {
    "duration": 6,
    "start_time": "2023-03-22T10:34:06.686Z"
   },
   {
    "duration": 5,
    "start_time": "2023-03-22T10:34:12.027Z"
   },
   {
    "duration": 17,
    "start_time": "2023-03-22T10:34:27.198Z"
   },
   {
    "duration": 1640,
    "start_time": "2023-03-22T10:42:15.400Z"
   },
   {
    "duration": 1279,
    "start_time": "2023-03-22T10:42:17.043Z"
   },
   {
    "duration": 3,
    "start_time": "2023-03-22T10:42:18.324Z"
   },
   {
    "duration": 93,
    "start_time": "2023-03-22T10:42:18.329Z"
   },
   {
    "duration": 73,
    "start_time": "2023-03-22T10:42:18.424Z"
   },
   {
    "duration": 29,
    "start_time": "2023-03-22T10:42:18.499Z"
   },
   {
    "duration": 495,
    "start_time": "2023-03-22T10:42:18.530Z"
   },
   {
    "duration": 8,
    "start_time": "2023-03-22T10:42:19.027Z"
   },
   {
    "duration": 293,
    "start_time": "2023-03-22T10:42:19.036Z"
   },
   {
    "duration": 102059,
    "start_time": "2023-03-22T10:42:19.332Z"
   },
   {
    "duration": 77,
    "start_time": "2023-03-22T10:44:01.398Z"
   },
   {
    "duration": 27,
    "start_time": "2023-03-22T10:44:01.478Z"
   },
   {
    "duration": 228,
    "start_time": "2023-03-22T10:44:01.506Z"
   },
   {
    "duration": 148,
    "start_time": "2023-03-22T10:44:01.737Z"
   },
   {
    "duration": 1,
    "start_time": "2023-03-22T10:44:01.887Z"
   },
   {
    "duration": 0,
    "start_time": "2023-03-22T10:44:01.889Z"
   },
   {
    "duration": 0,
    "start_time": "2023-03-22T10:44:01.897Z"
   },
   {
    "duration": 0,
    "start_time": "2023-03-22T10:44:01.898Z"
   },
   {
    "duration": 0,
    "start_time": "2023-03-22T10:44:01.900Z"
   },
   {
    "duration": 0,
    "start_time": "2023-03-22T10:44:01.901Z"
   },
   {
    "duration": 0,
    "start_time": "2023-03-22T10:44:01.902Z"
   },
   {
    "duration": 0,
    "start_time": "2023-03-22T10:44:01.903Z"
   },
   {
    "duration": 0,
    "start_time": "2023-03-22T10:44:01.904Z"
   },
   {
    "duration": 0,
    "start_time": "2023-03-22T10:44:01.906Z"
   },
   {
    "duration": 0,
    "start_time": "2023-03-22T10:44:01.907Z"
   },
   {
    "duration": 0,
    "start_time": "2023-03-22T10:44:01.907Z"
   },
   {
    "duration": 0,
    "start_time": "2023-03-22T10:44:01.908Z"
   },
   {
    "duration": 0,
    "start_time": "2023-03-22T10:44:01.909Z"
   },
   {
    "duration": 0,
    "start_time": "2023-03-22T10:44:01.910Z"
   },
   {
    "duration": 0,
    "start_time": "2023-03-22T10:44:01.912Z"
   },
   {
    "duration": 0,
    "start_time": "2023-03-22T10:44:01.913Z"
   },
   {
    "duration": 5,
    "start_time": "2023-03-22T10:57:16.980Z"
   },
   {
    "duration": 4,
    "start_time": "2023-03-22T10:57:32.787Z"
   },
   {
    "duration": 7,
    "start_time": "2023-03-22T10:57:50.849Z"
   },
   {
    "duration": 20,
    "start_time": "2023-03-22T10:58:10.898Z"
   },
   {
    "duration": 6,
    "start_time": "2023-03-22T10:59:00.115Z"
   },
   {
    "duration": 26,
    "start_time": "2023-03-22T10:59:39.586Z"
   },
   {
    "duration": 20,
    "start_time": "2023-03-22T11:10:49.392Z"
   },
   {
    "duration": 26,
    "start_time": "2023-03-22T11:18:53.718Z"
   },
   {
    "duration": 177,
    "start_time": "2023-03-22T11:19:24.922Z"
   },
   {
    "duration": 27,
    "start_time": "2023-03-22T11:19:38.794Z"
   },
   {
    "duration": 122,
    "start_time": "2023-03-22T11:20:05.547Z"
   },
   {
    "duration": 29,
    "start_time": "2023-03-22T11:20:11.622Z"
   },
   {
    "duration": 4,
    "start_time": "2023-03-22T11:28:28.211Z"
   },
   {
    "duration": 5,
    "start_time": "2023-03-22T11:28:41.553Z"
   },
   {
    "duration": 4,
    "start_time": "2023-03-22T11:29:20.814Z"
   },
   {
    "duration": 23,
    "start_time": "2023-03-22T11:30:10.425Z"
   },
   {
    "duration": 1775,
    "start_time": "2023-03-22T18:34:42.247Z"
   },
   {
    "duration": 1310,
    "start_time": "2023-03-22T18:34:44.024Z"
   },
   {
    "duration": 3,
    "start_time": "2023-03-22T18:34:45.336Z"
   },
   {
    "duration": 45,
    "start_time": "2023-03-22T18:34:45.340Z"
   },
   {
    "duration": 11,
    "start_time": "2023-03-22T18:34:45.388Z"
   },
   {
    "duration": 11,
    "start_time": "2023-03-22T18:34:45.401Z"
   },
   {
    "duration": 31,
    "start_time": "2023-03-22T18:34:45.414Z"
   },
   {
    "duration": 44,
    "start_time": "2023-03-22T18:34:45.447Z"
   },
   {
    "duration": 258,
    "start_time": "2023-03-22T18:34:45.493Z"
   },
   {
    "duration": 14,
    "start_time": "2023-03-22T18:34:45.753Z"
   },
   {
    "duration": 124,
    "start_time": "2023-03-22T18:34:45.776Z"
   },
   {
    "duration": 109780,
    "start_time": "2023-03-22T18:34:45.901Z"
   },
   {
    "duration": 84,
    "start_time": "2023-03-22T18:36:35.683Z"
   },
   {
    "duration": 162,
    "start_time": "2023-03-22T18:36:35.771Z"
   },
   {
    "duration": 1,
    "start_time": "2023-03-22T18:36:35.935Z"
   },
   {
    "duration": 0,
    "start_time": "2023-03-22T18:36:35.937Z"
   },
   {
    "duration": 0,
    "start_time": "2023-03-22T18:36:35.938Z"
   },
   {
    "duration": 0,
    "start_time": "2023-03-22T18:36:35.939Z"
   },
   {
    "duration": 0,
    "start_time": "2023-03-22T18:36:35.940Z"
   },
   {
    "duration": 0,
    "start_time": "2023-03-22T18:36:35.942Z"
   },
   {
    "duration": 0,
    "start_time": "2023-03-22T18:36:35.958Z"
   },
   {
    "duration": 0,
    "start_time": "2023-03-22T18:36:35.959Z"
   },
   {
    "duration": 0,
    "start_time": "2023-03-22T18:36:35.960Z"
   },
   {
    "duration": 0,
    "start_time": "2023-03-22T18:36:35.961Z"
   },
   {
    "duration": 0,
    "start_time": "2023-03-22T18:36:35.962Z"
   },
   {
    "duration": 0,
    "start_time": "2023-03-22T18:36:35.963Z"
   },
   {
    "duration": 0,
    "start_time": "2023-03-22T18:36:35.963Z"
   },
   {
    "duration": 0,
    "start_time": "2023-03-22T18:36:35.964Z"
   },
   {
    "duration": 0,
    "start_time": "2023-03-22T18:36:35.965Z"
   },
   {
    "duration": 0,
    "start_time": "2023-03-22T18:36:35.967Z"
   },
   {
    "duration": 0,
    "start_time": "2023-03-22T18:36:35.968Z"
   },
   {
    "duration": 0,
    "start_time": "2023-03-22T18:36:35.969Z"
   },
   {
    "duration": 0,
    "start_time": "2023-03-22T18:36:35.970Z"
   },
   {
    "duration": 213,
    "start_time": "2023-03-22T18:45:00.718Z"
   },
   {
    "duration": 6,
    "start_time": "2023-03-22T18:45:02.425Z"
   },
   {
    "duration": 1280,
    "start_time": "2023-03-22T18:45:03.946Z"
   },
   {
    "duration": 3,
    "start_time": "2023-03-22T18:45:21.266Z"
   },
   {
    "duration": 27518,
    "start_time": "2023-03-22T18:46:58.346Z"
   },
   {
    "duration": 5,
    "start_time": "2023-03-22T18:52:09.787Z"
   },
   {
    "duration": 38,
    "start_time": "2023-03-22T18:52:24.833Z"
   },
   {
    "duration": 45,
    "start_time": "2023-03-22T18:53:05.737Z"
   },
   {
    "duration": 6,
    "start_time": "2023-03-22T18:56:45.321Z"
   },
   {
    "duration": 6,
    "start_time": "2023-03-22T18:57:17.241Z"
   },
   {
    "duration": 6,
    "start_time": "2023-03-22T18:57:41.933Z"
   },
   {
    "duration": 5,
    "start_time": "2023-03-22T18:58:28.937Z"
   },
   {
    "duration": 4,
    "start_time": "2023-03-22T18:58:39.138Z"
   },
   {
    "duration": 3,
    "start_time": "2023-03-22T18:58:53.824Z"
   },
   {
    "duration": 1560,
    "start_time": "2023-03-22T18:59:02.322Z"
   },
   {
    "duration": 942,
    "start_time": "2023-03-22T18:59:03.884Z"
   },
   {
    "duration": 3,
    "start_time": "2023-03-22T18:59:04.828Z"
   },
   {
    "duration": 48,
    "start_time": "2023-03-22T18:59:04.833Z"
   },
   {
    "duration": 12,
    "start_time": "2023-03-22T18:59:04.884Z"
   },
   {
    "duration": 9,
    "start_time": "2023-03-22T18:59:04.898Z"
   },
   {
    "duration": 22,
    "start_time": "2023-03-22T18:59:04.909Z"
   },
   {
    "duration": 59,
    "start_time": "2023-03-22T18:59:04.933Z"
   },
   {
    "duration": 289,
    "start_time": "2023-03-22T18:59:04.994Z"
   },
   {
    "duration": 10,
    "start_time": "2023-03-22T18:59:05.285Z"
   },
   {
    "duration": 163,
    "start_time": "2023-03-22T18:59:05.297Z"
   },
   {
    "duration": 102480,
    "start_time": "2023-03-22T18:59:05.463Z"
   },
   {
    "duration": 143,
    "start_time": "2023-03-22T19:00:47.945Z"
   },
   {
    "duration": 0,
    "start_time": "2023-03-22T19:00:48.091Z"
   },
   {
    "duration": 0,
    "start_time": "2023-03-22T19:00:48.092Z"
   },
   {
    "duration": 0,
    "start_time": "2023-03-22T19:00:48.094Z"
   },
   {
    "duration": 0,
    "start_time": "2023-03-22T19:00:48.096Z"
   },
   {
    "duration": 0,
    "start_time": "2023-03-22T19:00:48.098Z"
   },
   {
    "duration": 0,
    "start_time": "2023-03-22T19:00:48.099Z"
   },
   {
    "duration": 0,
    "start_time": "2023-03-22T19:00:48.100Z"
   },
   {
    "duration": 0,
    "start_time": "2023-03-22T19:00:48.102Z"
   },
   {
    "duration": 0,
    "start_time": "2023-03-22T19:00:48.103Z"
   },
   {
    "duration": 0,
    "start_time": "2023-03-22T19:00:48.104Z"
   },
   {
    "duration": 0,
    "start_time": "2023-03-22T19:00:48.106Z"
   },
   {
    "duration": 0,
    "start_time": "2023-03-22T19:00:48.106Z"
   },
   {
    "duration": 0,
    "start_time": "2023-03-22T19:00:48.108Z"
   },
   {
    "duration": 0,
    "start_time": "2023-03-22T19:00:48.108Z"
   },
   {
    "duration": 0,
    "start_time": "2023-03-22T19:00:48.109Z"
   },
   {
    "duration": 0,
    "start_time": "2023-03-22T19:00:48.110Z"
   },
   {
    "duration": 0,
    "start_time": "2023-03-22T19:00:48.111Z"
   },
   {
    "duration": 77,
    "start_time": "2023-03-22T19:00:59.636Z"
   },
   {
    "duration": 9,
    "start_time": "2023-03-22T19:01:02.275Z"
   },
   {
    "duration": 247,
    "start_time": "2023-03-22T19:01:07.632Z"
   },
   {
    "duration": 10,
    "start_time": "2023-03-22T19:01:08.878Z"
   },
   {
    "duration": 1276,
    "start_time": "2023-03-22T19:01:24.236Z"
   },
   {
    "duration": 4,
    "start_time": "2023-03-22T19:01:27.336Z"
   },
   {
    "duration": 15,
    "start_time": "2023-03-22T19:57:11.279Z"
   },
   {
    "duration": 5,
    "start_time": "2023-03-22T19:57:16.793Z"
   },
   {
    "duration": 2320,
    "start_time": "2023-03-22T19:57:23.226Z"
   },
   {
    "duration": 1437,
    "start_time": "2023-03-22T19:57:25.547Z"
   },
   {
    "duration": 4,
    "start_time": "2023-03-22T19:57:26.986Z"
   },
   {
    "duration": 71,
    "start_time": "2023-03-22T19:57:26.993Z"
   },
   {
    "duration": 13,
    "start_time": "2023-03-22T19:57:27.066Z"
   },
   {
    "duration": 13,
    "start_time": "2023-03-22T19:57:27.081Z"
   },
   {
    "duration": 22,
    "start_time": "2023-03-22T19:57:27.096Z"
   },
   {
    "duration": 47,
    "start_time": "2023-03-22T19:57:27.120Z"
   },
   {
    "duration": 279,
    "start_time": "2023-03-22T19:57:27.169Z"
   },
   {
    "duration": 13,
    "start_time": "2023-03-22T19:57:27.451Z"
   },
   {
    "duration": 129,
    "start_time": "2023-03-22T19:57:27.466Z"
   },
   {
    "duration": 106975,
    "start_time": "2023-03-22T19:57:27.596Z"
   },
   {
    "duration": 86,
    "start_time": "2023-03-22T19:59:14.574Z"
   },
   {
    "duration": 3,
    "start_time": "2023-03-22T19:59:14.662Z"
   },
   {
    "duration": 15,
    "start_time": "2023-03-22T19:59:14.667Z"
   },
   {
    "duration": 192,
    "start_time": "2023-03-22T19:59:14.684Z"
   },
   {
    "duration": 9,
    "start_time": "2023-03-22T19:59:14.878Z"
   },
   {
    "duration": 1214,
    "start_time": "2023-03-22T19:59:14.889Z"
   },
   {
    "duration": 4,
    "start_time": "2023-03-22T19:59:16.106Z"
   },
   {
    "duration": 26253,
    "start_time": "2023-03-22T19:59:16.112Z"
   },
   {
    "duration": 4,
    "start_time": "2023-03-22T19:59:42.367Z"
   },
   {
    "duration": 9,
    "start_time": "2023-03-22T19:59:42.373Z"
   },
   {
    "duration": 155,
    "start_time": "2023-03-22T19:59:42.384Z"
   },
   {
    "duration": 0,
    "start_time": "2023-03-22T19:59:42.541Z"
   },
   {
    "duration": 0,
    "start_time": "2023-03-22T19:59:42.544Z"
   },
   {
    "duration": 0,
    "start_time": "2023-03-22T19:59:42.546Z"
   },
   {
    "duration": 0,
    "start_time": "2023-03-22T19:59:42.547Z"
   },
   {
    "duration": 0,
    "start_time": "2023-03-22T19:59:42.548Z"
   },
   {
    "duration": 0,
    "start_time": "2023-03-22T19:59:42.558Z"
   },
   {
    "duration": 0,
    "start_time": "2023-03-22T19:59:42.559Z"
   },
   {
    "duration": 6,
    "start_time": "2023-03-22T20:28:31.341Z"
   },
   {
    "duration": 30,
    "start_time": "2023-03-22T20:28:36.451Z"
   },
   {
    "duration": 1961,
    "start_time": "2023-03-23T06:09:57.498Z"
   },
   {
    "duration": 1624,
    "start_time": "2023-03-23T06:09:59.461Z"
   },
   {
    "duration": 9,
    "start_time": "2023-03-23T06:10:01.089Z"
   },
   {
    "duration": 54,
    "start_time": "2023-03-23T06:10:01.100Z"
   },
   {
    "duration": 48,
    "start_time": "2023-03-23T06:10:01.156Z"
   },
   {
    "duration": 101,
    "start_time": "2023-03-23T06:10:01.212Z"
   },
   {
    "duration": 55,
    "start_time": "2023-03-23T06:10:01.314Z"
   },
   {
    "duration": 76,
    "start_time": "2023-03-23T06:10:01.371Z"
   },
   {
    "duration": 273,
    "start_time": "2023-03-23T06:10:01.449Z"
   },
   {
    "duration": 10,
    "start_time": "2023-03-23T06:10:01.726Z"
   },
   {
    "duration": 205,
    "start_time": "2023-03-23T06:10:01.738Z"
   },
   {
    "duration": 117790,
    "start_time": "2023-03-23T06:10:01.945Z"
   },
   {
    "duration": 97,
    "start_time": "2023-03-23T06:11:59.737Z"
   },
   {
    "duration": 2,
    "start_time": "2023-03-23T06:11:59.836Z"
   },
   {
    "duration": 19,
    "start_time": "2023-03-23T06:11:59.840Z"
   },
   {
    "duration": 218,
    "start_time": "2023-03-23T06:11:59.861Z"
   },
   {
    "duration": 19,
    "start_time": "2023-03-23T06:12:00.084Z"
   },
   {
    "duration": 1428,
    "start_time": "2023-03-23T06:12:00.105Z"
   },
   {
    "duration": 4,
    "start_time": "2023-03-23T06:12:01.534Z"
   },
   {
    "duration": 34758,
    "start_time": "2023-03-23T06:12:01.540Z"
   },
   {
    "duration": 4,
    "start_time": "2023-03-23T06:12:36.301Z"
   },
   {
    "duration": 9,
    "start_time": "2023-03-23T06:12:36.307Z"
   },
   {
    "duration": 190,
    "start_time": "2023-03-23T06:12:36.317Z"
   },
   {
    "duration": 0,
    "start_time": "2023-03-23T06:12:36.509Z"
   },
   {
    "duration": 0,
    "start_time": "2023-03-23T06:12:36.510Z"
   },
   {
    "duration": 0,
    "start_time": "2023-03-23T06:12:36.511Z"
   },
   {
    "duration": 0,
    "start_time": "2023-03-23T06:12:36.512Z"
   },
   {
    "duration": 0,
    "start_time": "2023-03-23T06:12:36.514Z"
   },
   {
    "duration": 0,
    "start_time": "2023-03-23T06:12:36.516Z"
   },
   {
    "duration": 0,
    "start_time": "2023-03-23T06:12:36.517Z"
   },
   {
    "duration": 5,
    "start_time": "2023-03-23T07:08:56.719Z"
   },
   {
    "duration": 10,
    "start_time": "2023-03-23T07:09:02.872Z"
   },
   {
    "duration": 10,
    "start_time": "2023-03-23T07:09:07.821Z"
   },
   {
    "duration": 74,
    "start_time": "2023-03-23T07:09:10.194Z"
   },
   {
    "duration": 3,
    "start_time": "2023-03-23T07:09:20.594Z"
   },
   {
    "duration": 53740,
    "start_time": "2023-03-23T07:09:29.495Z"
   },
   {
    "duration": 3,
    "start_time": "2023-03-23T07:32:03.438Z"
   },
   {
    "duration": 1862,
    "start_time": "2023-03-23T08:24:15.901Z"
   },
   {
    "duration": 1090,
    "start_time": "2023-03-23T08:24:17.765Z"
   },
   {
    "duration": 3,
    "start_time": "2023-03-23T08:24:18.857Z"
   },
   {
    "duration": 38,
    "start_time": "2023-03-23T08:24:18.862Z"
   },
   {
    "duration": 55,
    "start_time": "2023-03-23T08:24:18.902Z"
   },
   {
    "duration": 5,
    "start_time": "2023-03-23T08:24:18.958Z"
   },
   {
    "duration": 15,
    "start_time": "2023-03-23T08:24:18.965Z"
   },
   {
    "duration": 45,
    "start_time": "2023-03-23T08:24:18.982Z"
   },
   {
    "duration": 348,
    "start_time": "2023-03-23T08:24:19.028Z"
   },
   {
    "duration": 21,
    "start_time": "2023-03-23T08:24:19.379Z"
   },
   {
    "duration": 171,
    "start_time": "2023-03-23T08:24:19.407Z"
   },
   {
    "duration": 2,
    "start_time": "2023-03-23T08:24:19.579Z"
   },
   {
    "duration": 217,
    "start_time": "2023-03-23T08:24:19.583Z"
   },
   {
    "duration": 0,
    "start_time": "2023-03-23T08:24:19.802Z"
   },
   {
    "duration": 0,
    "start_time": "2023-03-23T08:24:19.803Z"
   },
   {
    "duration": 0,
    "start_time": "2023-03-23T08:24:19.804Z"
   },
   {
    "duration": 0,
    "start_time": "2023-03-23T08:24:19.805Z"
   },
   {
    "duration": 0,
    "start_time": "2023-03-23T08:24:19.806Z"
   },
   {
    "duration": 0,
    "start_time": "2023-03-23T08:24:19.806Z"
   },
   {
    "duration": 0,
    "start_time": "2023-03-23T08:24:19.807Z"
   },
   {
    "duration": 0,
    "start_time": "2023-03-23T08:24:19.809Z"
   },
   {
    "duration": 0,
    "start_time": "2023-03-23T08:24:19.810Z"
   },
   {
    "duration": 0,
    "start_time": "2023-03-23T08:24:19.810Z"
   },
   {
    "duration": 0,
    "start_time": "2023-03-23T08:24:19.811Z"
   },
   {
    "duration": 0,
    "start_time": "2023-03-23T08:24:19.812Z"
   },
   {
    "duration": 0,
    "start_time": "2023-03-23T08:24:19.813Z"
   },
   {
    "duration": 0,
    "start_time": "2023-03-23T08:24:19.814Z"
   },
   {
    "duration": 0,
    "start_time": "2023-03-23T08:24:19.815Z"
   },
   {
    "duration": 0,
    "start_time": "2023-03-23T08:24:19.915Z"
   },
   {
    "duration": 0,
    "start_time": "2023-03-23T08:24:19.916Z"
   },
   {
    "duration": 0,
    "start_time": "2023-03-23T08:24:19.918Z"
   },
   {
    "duration": 0,
    "start_time": "2023-03-23T08:24:19.919Z"
   },
   {
    "duration": 0,
    "start_time": "2023-03-23T08:24:19.921Z"
   },
   {
    "duration": 0,
    "start_time": "2023-03-23T08:24:19.923Z"
   },
   {
    "duration": 0,
    "start_time": "2023-03-23T08:24:19.925Z"
   },
   {
    "duration": 4784,
    "start_time": "2023-03-23T08:24:28.091Z"
   },
   {
    "duration": 5,
    "start_time": "2023-03-23T08:24:33.847Z"
   },
   {
    "duration": 616,
    "start_time": "2023-03-23T08:24:36.950Z"
   },
   {
    "duration": 5,
    "start_time": "2023-03-23T08:25:12.033Z"
   },
   {
    "duration": 57445,
    "start_time": "2023-03-23T08:25:16.274Z"
   },
   {
    "duration": 11,
    "start_time": "2023-03-23T08:26:13.720Z"
   },
   {
    "duration": 44731,
    "start_time": "2023-03-23T08:26:34.573Z"
   },
   {
    "duration": 6,
    "start_time": "2023-03-23T08:33:29.819Z"
   },
   {
    "duration": 74,
    "start_time": "2023-03-23T08:40:57.229Z"
   },
   {
    "duration": 2,
    "start_time": "2023-03-23T08:41:41.274Z"
   },
   {
    "duration": 3,
    "start_time": "2023-03-23T08:41:45.013Z"
   },
   {
    "duration": 2,
    "start_time": "2023-03-23T08:41:54.155Z"
   },
   {
    "duration": 10,
    "start_time": "2023-03-23T08:47:09.723Z"
   },
   {
    "duration": 12,
    "start_time": "2023-03-23T08:47:37.200Z"
   },
   {
    "duration": 225,
    "start_time": "2023-03-23T08:47:44.006Z"
   },
   {
    "duration": 13,
    "start_time": "2023-03-23T08:47:54.348Z"
   },
   {
    "duration": 10,
    "start_time": "2023-03-23T08:48:39.674Z"
   },
   {
    "duration": 1712,
    "start_time": "2023-03-23T08:48:56.248Z"
   },
   {
    "duration": 1001,
    "start_time": "2023-03-23T08:48:57.962Z"
   },
   {
    "duration": 2,
    "start_time": "2023-03-23T08:48:58.965Z"
   },
   {
    "duration": 54,
    "start_time": "2023-03-23T08:48:58.968Z"
   },
   {
    "duration": 44,
    "start_time": "2023-03-23T08:48:59.024Z"
   },
   {
    "duration": 58,
    "start_time": "2023-03-23T08:48:59.069Z"
   },
   {
    "duration": 31,
    "start_time": "2023-03-23T08:48:59.129Z"
   },
   {
    "duration": 105,
    "start_time": "2023-03-23T08:48:59.162Z"
   },
   {
    "duration": 290,
    "start_time": "2023-03-23T08:48:59.269Z"
   },
   {
    "duration": 8,
    "start_time": "2023-03-23T08:48:59.561Z"
   },
   {
    "duration": 176,
    "start_time": "2023-03-23T08:48:59.571Z"
   },
   {
    "duration": 3,
    "start_time": "2023-03-23T08:48:59.749Z"
   },
   {
    "duration": 4522,
    "start_time": "2023-03-23T08:48:59.754Z"
   },
   {
    "duration": 25,
    "start_time": "2023-03-23T08:49:04.279Z"
   },
   {
    "duration": 55835,
    "start_time": "2023-03-23T08:49:04.319Z"
   },
   {
    "duration": 6,
    "start_time": "2023-03-23T08:50:00.156Z"
   },
   {
    "duration": 40232,
    "start_time": "2023-03-23T08:50:00.164Z"
   },
   {
    "duration": 21,
    "start_time": "2023-03-23T08:50:40.398Z"
   },
   {
    "duration": 91,
    "start_time": "2023-03-23T08:50:40.420Z"
   },
   {
    "duration": 268,
    "start_time": "2023-03-23T08:50:40.512Z"
   },
   {
    "duration": 2,
    "start_time": "2023-03-23T08:50:40.782Z"
   },
   {
    "duration": 51,
    "start_time": "2023-03-23T08:50:40.785Z"
   },
   {
    "duration": 15,
    "start_time": "2023-03-23T08:50:40.839Z"
   },
   {
    "duration": 163,
    "start_time": "2023-03-23T08:50:40.855Z"
   },
   {
    "duration": 4,
    "start_time": "2023-03-23T08:51:43.553Z"
   },
   {
    "duration": 19,
    "start_time": "2023-03-23T08:51:49.226Z"
   },
   {
    "duration": 1829951,
    "start_time": "2023-03-23T08:52:40.256Z"
   },
   {
    "duration": 30,
    "start_time": "2023-03-23T10:34:51.582Z"
   },
   {
    "duration": 21,
    "start_time": "2023-03-23T10:35:18.337Z"
   },
   {
    "duration": 12,
    "start_time": "2023-03-23T10:35:23.320Z"
   },
   {
    "duration": 690965,
    "start_time": "2023-03-23T10:35:31.709Z"
   },
   {
    "duration": 28,
    "start_time": "2023-03-23T10:47:02.676Z"
   },
   {
    "duration": 4,
    "start_time": "2023-03-23T11:18:20.332Z"
   },
   {
    "duration": 51,
    "start_time": "2023-03-23T11:19:27.418Z"
   },
   {
    "duration": 2816,
    "start_time": "2023-03-23T11:19:45.415Z"
   },
   {
    "duration": 1691,
    "start_time": "2023-03-23T11:19:48.233Z"
   },
   {
    "duration": 4,
    "start_time": "2023-03-23T11:19:49.934Z"
   },
   {
    "duration": 40,
    "start_time": "2023-03-23T11:19:49.941Z"
   },
   {
    "duration": 47,
    "start_time": "2023-03-23T11:19:49.983Z"
   },
   {
    "duration": 5,
    "start_time": "2023-03-23T11:19:50.040Z"
   },
   {
    "duration": 17,
    "start_time": "2023-03-23T11:19:50.047Z"
   },
   {
    "duration": 67,
    "start_time": "2023-03-23T11:19:50.066Z"
   },
   {
    "duration": 271,
    "start_time": "2023-03-23T11:19:50.135Z"
   },
   {
    "duration": 10,
    "start_time": "2023-03-23T11:19:50.426Z"
   },
   {
    "duration": 195,
    "start_time": "2023-03-23T11:19:50.437Z"
   },
   {
    "duration": 3,
    "start_time": "2023-03-23T11:19:50.637Z"
   },
   {
    "duration": 4117,
    "start_time": "2023-03-23T11:19:50.641Z"
   },
   {
    "duration": 6,
    "start_time": "2023-03-23T11:19:54.759Z"
   },
   {
    "duration": 50362,
    "start_time": "2023-03-23T11:19:54.767Z"
   },
   {
    "duration": 7,
    "start_time": "2023-03-23T11:20:45.131Z"
   },
   {
    "duration": 38105,
    "start_time": "2023-03-23T11:20:45.139Z"
   },
   {
    "duration": 5,
    "start_time": "2023-03-23T11:21:23.245Z"
   },
   {
    "duration": 83,
    "start_time": "2023-03-23T11:21:23.251Z"
   },
   {
    "duration": 238,
    "start_time": "2023-03-23T11:21:23.336Z"
   },
   {
    "duration": 2,
    "start_time": "2023-03-23T11:21:23.576Z"
   },
   {
    "duration": 8,
    "start_time": "2023-03-23T11:21:23.579Z"
   },
   {
    "duration": 45,
    "start_time": "2023-03-23T11:21:23.588Z"
   },
   {
    "duration": 1839193,
    "start_time": "2023-03-23T11:21:23.634Z"
   },
   {
    "duration": 2,
    "start_time": "2023-03-23T11:52:02.828Z"
   },
   {
    "duration": 48,
    "start_time": "2023-03-23T11:53:02.604Z"
   },
   {
    "duration": 2589,
    "start_time": "2023-03-23T12:02:54.159Z"
   },
   {
    "duration": 1458,
    "start_time": "2023-03-23T12:02:56.750Z"
   },
   {
    "duration": 3,
    "start_time": "2023-03-23T12:02:58.211Z"
   },
   {
    "duration": 33,
    "start_time": "2023-03-23T12:02:58.216Z"
   },
   {
    "duration": 29,
    "start_time": "2023-03-23T12:02:58.251Z"
   },
   {
    "duration": 38,
    "start_time": "2023-03-23T12:02:58.281Z"
   },
   {
    "duration": 17,
    "start_time": "2023-03-23T12:02:58.320Z"
   },
   {
    "duration": 25,
    "start_time": "2023-03-23T12:02:58.339Z"
   },
   {
    "duration": 253,
    "start_time": "2023-03-23T12:02:58.366Z"
   },
   {
    "duration": 8,
    "start_time": "2023-03-23T12:02:58.622Z"
   },
   {
    "duration": 190,
    "start_time": "2023-03-23T12:02:58.631Z"
   },
   {
    "duration": 3856,
    "start_time": "2023-03-23T12:02:58.822Z"
   },
   {
    "duration": 28,
    "start_time": "2023-03-23T12:03:02.679Z"
   },
   {
    "duration": 48152,
    "start_time": "2023-03-23T12:03:02.713Z"
   },
   {
    "duration": 5,
    "start_time": "2023-03-23T12:03:50.867Z"
   },
   {
    "duration": 36164,
    "start_time": "2023-03-23T12:03:50.874Z"
   },
   {
    "duration": 5,
    "start_time": "2023-03-23T12:04:27.040Z"
   },
   {
    "duration": 105,
    "start_time": "2023-03-23T12:04:27.046Z"
   },
   {
    "duration": 277,
    "start_time": "2023-03-23T12:04:27.152Z"
   },
   {
    "duration": 4,
    "start_time": "2023-03-23T12:04:27.430Z"
   },
   {
    "duration": 131,
    "start_time": "2023-03-23T12:04:27.435Z"
   },
   {
    "duration": 0,
    "start_time": "2023-03-23T12:04:27.567Z"
   },
   {
    "duration": 0,
    "start_time": "2023-03-23T12:04:27.568Z"
   },
   {
    "duration": 0,
    "start_time": "2023-03-23T12:04:27.570Z"
   },
   {
    "duration": 0,
    "start_time": "2023-03-23T12:04:27.571Z"
   },
   {
    "duration": 0,
    "start_time": "2023-03-23T12:04:27.572Z"
   },
   {
    "duration": 0,
    "start_time": "2023-03-23T12:04:27.573Z"
   },
   {
    "duration": 0,
    "start_time": "2023-03-23T12:04:27.574Z"
   },
   {
    "duration": 0,
    "start_time": "2023-03-23T12:04:27.574Z"
   },
   {
    "duration": 36,
    "start_time": "2023-03-23T12:07:58.712Z"
   },
   {
    "duration": 80,
    "start_time": "2023-03-23T12:08:03.257Z"
   },
   {
    "duration": 10,
    "start_time": "2023-03-23T12:08:04.824Z"
   },
   {
    "duration": 251,
    "start_time": "2023-03-23T12:08:06.808Z"
   },
   {
    "duration": 55,
    "start_time": "2023-03-23T12:08:08.210Z"
   },
   {
    "duration": 1349,
    "start_time": "2023-03-23T13:13:49.158Z"
   },
   {
    "duration": 823,
    "start_time": "2023-03-23T13:13:50.515Z"
   },
   {
    "duration": 3,
    "start_time": "2023-03-23T13:13:51.339Z"
   },
   {
    "duration": 29,
    "start_time": "2023-03-23T13:13:51.344Z"
   },
   {
    "duration": 34,
    "start_time": "2023-03-23T13:13:51.375Z"
   },
   {
    "duration": 8,
    "start_time": "2023-03-23T13:13:51.410Z"
   },
   {
    "duration": 11,
    "start_time": "2023-03-23T13:13:51.419Z"
   },
   {
    "duration": 33,
    "start_time": "2023-03-23T13:13:51.432Z"
   },
   {
    "duration": 240,
    "start_time": "2023-03-23T13:13:51.467Z"
   },
   {
    "duration": 7,
    "start_time": "2023-03-23T13:13:51.712Z"
   },
   {
    "duration": 171,
    "start_time": "2023-03-23T13:13:51.720Z"
   },
   {
    "duration": 3600,
    "start_time": "2023-03-23T13:13:51.898Z"
   },
   {
    "duration": 10,
    "start_time": "2023-03-23T13:13:55.503Z"
   },
   {
    "duration": 47942,
    "start_time": "2023-03-23T13:13:55.515Z"
   },
   {
    "duration": 6,
    "start_time": "2023-03-23T13:14:43.459Z"
   },
   {
    "duration": 34255,
    "start_time": "2023-03-23T13:14:43.466Z"
   },
   {
    "duration": 4,
    "start_time": "2023-03-23T13:15:17.723Z"
   },
   {
    "duration": 87,
    "start_time": "2023-03-23T13:15:17.728Z"
   },
   {
    "duration": 197,
    "start_time": "2023-03-23T13:15:17.821Z"
   },
   {
    "duration": 4,
    "start_time": "2023-03-23T13:15:18.019Z"
   },
   {
    "duration": 136,
    "start_time": "2023-03-23T13:15:18.024Z"
   },
   {
    "duration": 0,
    "start_time": "2023-03-23T13:15:18.162Z"
   },
   {
    "duration": 0,
    "start_time": "2023-03-23T13:15:18.163Z"
   },
   {
    "duration": 0,
    "start_time": "2023-03-23T13:15:18.164Z"
   },
   {
    "duration": 0,
    "start_time": "2023-03-23T13:15:18.165Z"
   },
   {
    "duration": 0,
    "start_time": "2023-03-23T13:15:18.165Z"
   },
   {
    "duration": 0,
    "start_time": "2023-03-23T13:15:18.167Z"
   },
   {
    "duration": 0,
    "start_time": "2023-03-23T13:15:18.168Z"
   },
   {
    "duration": 0,
    "start_time": "2023-03-23T13:15:18.169Z"
   },
   {
    "duration": 9,
    "start_time": "2023-03-23T13:56:24.197Z"
   },
   {
    "duration": 3,
    "start_time": "2023-03-23T13:56:42.841Z"
   },
   {
    "duration": 716143,
    "start_time": "2023-03-23T13:56:44.742Z"
   },
   {
    "duration": 48528,
    "start_time": "2023-03-23T14:19:13.702Z"
   },
   {
    "duration": 69,
    "start_time": "2023-03-23T14:20:13.743Z"
   },
   {
    "duration": 53,
    "start_time": "2023-03-23T14:20:53.628Z"
   },
   {
    "duration": 54,
    "start_time": "2023-03-23T14:21:15.568Z"
   },
   {
    "duration": 99,
    "start_time": "2023-03-23T14:22:43.814Z"
   },
   {
    "duration": 4,
    "start_time": "2023-03-23T14:23:07.807Z"
   },
   {
    "duration": 3338860,
    "start_time": "2023-03-23T14:23:13.202Z"
   },
   {
    "duration": 267,
    "start_time": "2023-03-23T15:20:03.811Z"
   },
   {
    "duration": 46270,
    "start_time": "2023-03-23T15:20:25.611Z"
   },
   {
    "duration": 646,
    "start_time": "2023-03-23T15:22:59.751Z"
   },
   {
    "duration": 100,
    "start_time": "2023-03-23T15:23:12.527Z"
   },
   {
    "duration": 39,
    "start_time": "2023-03-23T15:23:28.439Z"
   },
   {
    "duration": 11,
    "start_time": "2023-03-23T15:28:04.675Z"
   },
   {
    "duration": 3102,
    "start_time": "2023-03-23T15:29:02.458Z"
   },
   {
    "duration": 3332,
    "start_time": "2023-03-23T15:29:14.868Z"
   },
   {
    "duration": 23994,
    "start_time": "2023-03-23T15:29:21.083Z"
   },
   {
    "duration": 24015,
    "start_time": "2023-03-23T15:31:55.376Z"
   },
   {
    "duration": 615462,
    "start_time": "2023-03-23T15:38:20.023Z"
   },
   {
    "duration": 3,
    "start_time": "2023-03-23T16:06:10.143Z"
   },
   {
    "duration": 129300,
    "start_time": "2023-03-23T16:06:16.002Z"
   },
   {
    "duration": 30840,
    "start_time": "2023-03-23T16:17:14.961Z"
   },
   {
    "duration": 1276,
    "start_time": "2023-03-23T16:23:48.613Z"
   },
   {
    "duration": 64,
    "start_time": "2023-03-23T16:24:09.714Z"
   },
   {
    "duration": 3440,
    "start_time": "2023-03-23T16:30:39.936Z"
   },
   {
    "duration": 333,
    "start_time": "2023-03-23T16:30:43.378Z"
   },
   {
    "duration": 790,
    "start_time": "2023-03-23T16:30:43.713Z"
   },
   {
    "duration": 2,
    "start_time": "2023-03-23T16:30:44.505Z"
   },
   {
    "duration": 28,
    "start_time": "2023-03-23T16:30:44.509Z"
   },
   {
    "duration": 9,
    "start_time": "2023-03-23T16:30:44.539Z"
   },
   {
    "duration": 4,
    "start_time": "2023-03-23T16:30:44.549Z"
   },
   {
    "duration": 44,
    "start_time": "2023-03-23T16:30:44.555Z"
   },
   {
    "duration": 29,
    "start_time": "2023-03-23T16:30:44.601Z"
   },
   {
    "duration": 227,
    "start_time": "2023-03-23T16:30:44.632Z"
   },
   {
    "duration": 7,
    "start_time": "2023-03-23T16:30:44.860Z"
   },
   {
    "duration": 197,
    "start_time": "2023-03-23T16:30:44.869Z"
   },
   {
    "duration": 3639,
    "start_time": "2023-03-23T16:30:45.068Z"
   },
   {
    "duration": 5,
    "start_time": "2023-03-23T16:30:48.708Z"
   },
   {
    "duration": 43743,
    "start_time": "2023-03-23T16:30:48.714Z"
   },
   {
    "duration": 5,
    "start_time": "2023-03-23T16:31:32.459Z"
   },
   {
    "duration": 33653,
    "start_time": "2023-03-23T16:31:32.465Z"
   },
   {
    "duration": 4,
    "start_time": "2023-03-23T16:32:06.120Z"
   },
   {
    "duration": 606,
    "start_time": "2023-03-23T16:32:06.125Z"
   },
   {
    "duration": 118,
    "start_time": "2023-03-23T16:32:06.732Z"
   },
   {
    "duration": 187,
    "start_time": "2023-03-23T16:32:06.852Z"
   },
   {
    "duration": 0,
    "start_time": "2023-03-23T16:32:07.041Z"
   },
   {
    "duration": 0,
    "start_time": "2023-03-23T16:32:07.042Z"
   },
   {
    "duration": 0,
    "start_time": "2023-03-23T16:32:07.042Z"
   },
   {
    "duration": 0,
    "start_time": "2023-03-23T16:32:07.043Z"
   },
   {
    "duration": 0,
    "start_time": "2023-03-23T16:32:07.044Z"
   },
   {
    "duration": 0,
    "start_time": "2023-03-23T16:32:07.045Z"
   },
   {
    "duration": 0,
    "start_time": "2023-03-23T16:32:07.046Z"
   },
   {
    "duration": 0,
    "start_time": "2023-03-23T16:32:07.046Z"
   },
   {
    "duration": 0,
    "start_time": "2023-03-23T16:32:07.047Z"
   },
   {
    "duration": 0,
    "start_time": "2023-03-23T16:32:07.048Z"
   },
   {
    "duration": 0,
    "start_time": "2023-03-23T16:32:07.050Z"
   },
   {
    "duration": 0,
    "start_time": "2023-03-23T16:32:07.051Z"
   },
   {
    "duration": 0,
    "start_time": "2023-03-23T16:32:07.052Z"
   },
   {
    "duration": 2,
    "start_time": "2023-03-23T16:49:58.044Z"
   },
   {
    "duration": 3282,
    "start_time": "2023-03-23T16:49:59.418Z"
   },
   {
    "duration": 3261,
    "start_time": "2023-03-23T16:50:18.397Z"
   },
   {
    "duration": 309,
    "start_time": "2023-03-23T16:50:21.661Z"
   },
   {
    "duration": 753,
    "start_time": "2023-03-23T16:50:21.971Z"
   },
   {
    "duration": 3,
    "start_time": "2023-03-23T16:50:22.726Z"
   },
   {
    "duration": 51,
    "start_time": "2023-03-23T16:50:22.732Z"
   },
   {
    "duration": 18,
    "start_time": "2023-03-23T16:50:22.784Z"
   },
   {
    "duration": 5,
    "start_time": "2023-03-23T16:50:22.804Z"
   },
   {
    "duration": 11,
    "start_time": "2023-03-23T16:50:22.811Z"
   },
   {
    "duration": 28,
    "start_time": "2023-03-23T16:50:22.823Z"
   },
   {
    "duration": 244,
    "start_time": "2023-03-23T16:50:22.852Z"
   },
   {
    "duration": 8,
    "start_time": "2023-03-23T16:50:23.098Z"
   },
   {
    "duration": 179,
    "start_time": "2023-03-23T16:50:23.108Z"
   },
   {
    "duration": 3477,
    "start_time": "2023-03-23T16:50:23.296Z"
   },
   {
    "duration": 5,
    "start_time": "2023-03-23T16:50:26.776Z"
   },
   {
    "duration": 42510,
    "start_time": "2023-03-23T16:50:26.785Z"
   },
   {
    "duration": 6,
    "start_time": "2023-03-23T16:51:09.297Z"
   },
   {
    "duration": 31822,
    "start_time": "2023-03-23T16:51:09.305Z"
   },
   {
    "duration": 5,
    "start_time": "2023-03-23T16:51:41.128Z"
   },
   {
    "duration": 603,
    "start_time": "2023-03-23T16:51:41.133Z"
   },
   {
    "duration": 109,
    "start_time": "2023-03-23T16:51:41.737Z"
   },
   {
    "duration": 3,
    "start_time": "2023-03-23T16:51:41.847Z"
   },
   {
    "duration": 3092,
    "start_time": "2023-03-23T16:51:41.851Z"
   },
   {
    "duration": 23915,
    "start_time": "2023-03-23T16:51:44.945Z"
   },
   {
    "duration": 68,
    "start_time": "2023-03-23T16:52:08.861Z"
   },
   {
    "duration": 4,
    "start_time": "2023-03-23T16:52:08.930Z"
   },
   {
    "duration": 5,
    "start_time": "2023-03-23T16:52:08.935Z"
   },
   {
    "duration": 779820,
    "start_time": "2023-03-23T16:52:08.941Z"
   },
   {
    "duration": 572780,
    "start_time": "2023-03-23T17:05:08.763Z"
   },
   {
    "duration": 51750,
    "start_time": "2023-03-23T17:14:41.544Z"
   },
   {
    "duration": 3110,
    "start_time": "2023-03-23T17:43:13.493Z"
   },
   {
    "duration": 295,
    "start_time": "2023-03-23T17:43:16.605Z"
   },
   {
    "duration": 733,
    "start_time": "2023-03-23T17:43:16.901Z"
   },
   {
    "duration": 2,
    "start_time": "2023-03-23T17:43:17.636Z"
   },
   {
    "duration": 23,
    "start_time": "2023-03-23T17:43:17.640Z"
   },
   {
    "duration": 22,
    "start_time": "2023-03-23T17:43:17.664Z"
   },
   {
    "duration": 3,
    "start_time": "2023-03-23T17:43:17.687Z"
   },
   {
    "duration": 14,
    "start_time": "2023-03-23T17:43:17.691Z"
   },
   {
    "duration": 22,
    "start_time": "2023-03-23T17:43:17.706Z"
   },
   {
    "duration": 227,
    "start_time": "2023-03-23T17:43:17.729Z"
   },
   {
    "duration": 7,
    "start_time": "2023-03-23T17:43:17.957Z"
   },
   {
    "duration": 179,
    "start_time": "2023-03-23T17:43:17.965Z"
   },
   {
    "duration": 3142,
    "start_time": "2023-03-23T17:43:18.145Z"
   },
   {
    "duration": 4,
    "start_time": "2023-03-23T17:43:21.290Z"
   },
   {
    "duration": 38953,
    "start_time": "2023-03-23T17:43:21.295Z"
   },
   {
    "duration": 5,
    "start_time": "2023-03-23T17:44:00.250Z"
   },
   {
    "duration": 30217,
    "start_time": "2023-03-23T17:44:00.256Z"
   },
   {
    "duration": 4,
    "start_time": "2023-03-23T17:44:30.474Z"
   },
   {
    "duration": 549,
    "start_time": "2023-03-23T17:44:30.485Z"
   },
   {
    "duration": 103,
    "start_time": "2023-03-23T17:44:31.035Z"
   },
   {
    "duration": 3,
    "start_time": "2023-03-23T17:44:31.140Z"
   },
   {
    "duration": 2972,
    "start_time": "2023-03-23T17:44:31.144Z"
   },
   {
    "duration": 22535,
    "start_time": "2023-03-23T17:44:34.118Z"
   },
   {
    "duration": 63,
    "start_time": "2023-03-23T17:44:56.654Z"
   },
   {
    "duration": 3,
    "start_time": "2023-03-23T17:44:56.719Z"
   },
   {
    "duration": 8,
    "start_time": "2023-03-23T17:44:56.724Z"
   },
   {
    "duration": 717056,
    "start_time": "2023-03-23T17:44:56.734Z"
   },
   {
    "duration": 598124,
    "start_time": "2023-03-23T17:56:53.792Z"
   },
   {
    "duration": 52637,
    "start_time": "2023-03-23T18:06:51.918Z"
   },
   {
    "duration": 3667703,
    "start_time": "2023-03-23T18:07:44.557Z"
   },
   {
    "duration": 608972,
    "start_time": "2023-03-23T19:08:52.261Z"
   },
   {
    "duration": 59,
    "start_time": "2023-03-23T19:19:01.235Z"
   },
   {
    "duration": 140542,
    "start_time": "2023-03-23T19:19:01.296Z"
   },
   {
    "duration": 29742,
    "start_time": "2023-03-23T19:21:21.839Z"
   },
   {
    "duration": 3318,
    "start_time": "2023-03-25T13:20:55.469Z"
   },
   {
    "duration": 1822,
    "start_time": "2023-03-25T13:20:58.790Z"
   },
   {
    "duration": 127,
    "start_time": "2023-03-25T13:21:11.271Z"
   },
   {
    "duration": 2209,
    "start_time": "2023-03-25T13:21:15.999Z"
   },
   {
    "duration": 1507,
    "start_time": "2023-03-25T13:21:18.211Z"
   },
   {
    "duration": 139,
    "start_time": "2023-03-25T13:21:19.720Z"
   },
   {
    "duration": 0,
    "start_time": "2023-03-25T13:21:19.863Z"
   },
   {
    "duration": 0,
    "start_time": "2023-03-25T13:21:19.865Z"
   },
   {
    "duration": 0,
    "start_time": "2023-03-25T13:21:19.866Z"
   },
   {
    "duration": 0,
    "start_time": "2023-03-25T13:21:19.868Z"
   },
   {
    "duration": 0,
    "start_time": "2023-03-25T13:21:19.869Z"
   },
   {
    "duration": 0,
    "start_time": "2023-03-25T13:21:19.871Z"
   },
   {
    "duration": 0,
    "start_time": "2023-03-25T13:21:19.872Z"
   },
   {
    "duration": 0,
    "start_time": "2023-03-25T13:21:19.874Z"
   },
   {
    "duration": 0,
    "start_time": "2023-03-25T13:21:19.875Z"
   },
   {
    "duration": 0,
    "start_time": "2023-03-25T13:21:19.877Z"
   },
   {
    "duration": 0,
    "start_time": "2023-03-25T13:21:19.878Z"
   },
   {
    "duration": 0,
    "start_time": "2023-03-25T13:21:19.879Z"
   },
   {
    "duration": 0,
    "start_time": "2023-03-25T13:21:19.881Z"
   },
   {
    "duration": 0,
    "start_time": "2023-03-25T13:21:19.882Z"
   },
   {
    "duration": 0,
    "start_time": "2023-03-25T13:21:19.883Z"
   },
   {
    "duration": 0,
    "start_time": "2023-03-25T13:21:19.885Z"
   },
   {
    "duration": 0,
    "start_time": "2023-03-25T13:21:19.886Z"
   },
   {
    "duration": 0,
    "start_time": "2023-03-25T13:21:19.887Z"
   },
   {
    "duration": 0,
    "start_time": "2023-03-25T13:21:19.889Z"
   },
   {
    "duration": 0,
    "start_time": "2023-03-25T13:21:19.891Z"
   },
   {
    "duration": 0,
    "start_time": "2023-03-25T13:21:19.892Z"
   },
   {
    "duration": 0,
    "start_time": "2023-03-25T13:21:19.893Z"
   },
   {
    "duration": 0,
    "start_time": "2023-03-25T13:21:19.895Z"
   },
   {
    "duration": 0,
    "start_time": "2023-03-25T13:21:19.896Z"
   },
   {
    "duration": 0,
    "start_time": "2023-03-25T13:21:19.898Z"
   },
   {
    "duration": 0,
    "start_time": "2023-03-25T13:21:19.899Z"
   },
   {
    "duration": 0,
    "start_time": "2023-03-25T13:21:19.901Z"
   },
   {
    "duration": 0,
    "start_time": "2023-03-25T13:21:19.902Z"
   },
   {
    "duration": 1,
    "start_time": "2023-03-25T13:21:19.903Z"
   },
   {
    "duration": 0,
    "start_time": "2023-03-25T13:21:19.962Z"
   },
   {
    "duration": 0,
    "start_time": "2023-03-25T13:21:19.964Z"
   },
   {
    "duration": 0,
    "start_time": "2023-03-25T13:21:19.965Z"
   },
   {
    "duration": 0,
    "start_time": "2023-03-25T13:21:19.967Z"
   },
   {
    "duration": 1245,
    "start_time": "2023-03-25T13:21:32.936Z"
   },
   {
    "duration": 3932,
    "start_time": "2023-03-25T13:21:36.631Z"
   },
   {
    "duration": 3,
    "start_time": "2023-03-25T13:21:40.565Z"
   },
   {
    "duration": 34,
    "start_time": "2023-03-25T13:21:40.569Z"
   },
   {
    "duration": 9,
    "start_time": "2023-03-25T13:21:41.769Z"
   },
   {
    "duration": 4,
    "start_time": "2023-03-25T13:21:47.767Z"
   },
   {
    "duration": 13,
    "start_time": "2023-03-25T13:21:50.767Z"
   },
   {
    "duration": 27,
    "start_time": "2023-03-25T13:21:54.663Z"
   },
   {
    "duration": 220,
    "start_time": "2023-03-25T13:21:56.623Z"
   },
   {
    "duration": 8,
    "start_time": "2023-03-25T13:22:00.688Z"
   },
   {
    "duration": 206,
    "start_time": "2023-03-25T13:22:01.670Z"
   },
   {
    "duration": 85,
    "start_time": "2023-03-25T13:33:17.016Z"
   },
   {
    "duration": 10573,
    "start_time": "2023-03-25T13:48:39.223Z"
   },
   {
    "duration": 12467,
    "start_time": "2023-03-25T13:49:41.439Z"
   },
   {
    "duration": 2643,
    "start_time": "2023-03-25T13:50:58.903Z"
   },
   {
    "duration": 3925,
    "start_time": "2023-03-25T13:54:18.782Z"
   },
   {
    "duration": 7,
    "start_time": "2023-03-25T13:54:24.342Z"
   },
   {
    "duration": 46726,
    "start_time": "2023-03-25T13:54:44.041Z"
   },
   {
    "duration": 7,
    "start_time": "2023-03-25T13:55:34.426Z"
   },
   {
    "duration": 285,
    "start_time": "2023-03-25T13:57:34.807Z"
   },
   {
    "duration": 495,
    "start_time": "2023-03-25T13:58:04.225Z"
   },
   {
    "duration": 3,
    "start_time": "2023-03-25T14:00:51.116Z"
   },
   {
    "duration": 5,
    "start_time": "2023-03-25T14:01:11.351Z"
   },
   {
    "duration": 8,
    "start_time": "2023-03-25T14:06:19.271Z"
   },
   {
    "duration": 3,
    "start_time": "2023-03-25T14:27:12.672Z"
   },
   {
    "duration": 2,
    "start_time": "2023-03-25T14:27:16.056Z"
   },
   {
    "duration": 2,
    "start_time": "2023-03-25T14:27:25.872Z"
   },
   {
    "duration": 13402,
    "start_time": "2023-03-25T14:39:45.607Z"
   },
   {
    "duration": 5293,
    "start_time": "2023-03-25T14:39:59.011Z"
   },
   {
    "duration": 816,
    "start_time": "2023-03-25T14:40:04.306Z"
   },
   {
    "duration": 851,
    "start_time": "2023-03-25T14:40:05.124Z"
   },
   {
    "duration": 3,
    "start_time": "2023-03-25T14:40:05.976Z"
   },
   {
    "duration": 35,
    "start_time": "2023-03-25T14:40:05.981Z"
   },
   {
    "duration": 11,
    "start_time": "2023-03-25T14:40:06.018Z"
   },
   {
    "duration": 11,
    "start_time": "2023-03-25T14:40:06.031Z"
   },
   {
    "duration": 14,
    "start_time": "2023-03-25T14:40:06.062Z"
   },
   {
    "duration": 29,
    "start_time": "2023-03-25T14:40:06.079Z"
   },
   {
    "duration": 257,
    "start_time": "2023-03-25T14:40:06.109Z"
   },
   {
    "duration": 9,
    "start_time": "2023-03-25T14:40:06.367Z"
   },
   {
    "duration": 141,
    "start_time": "2023-03-25T14:40:06.377Z"
   },
   {
    "duration": 3,
    "start_time": "2023-03-25T14:40:06.520Z"
   },
   {
    "duration": 4,
    "start_time": "2023-03-25T14:40:06.525Z"
   },
   {
    "duration": 12,
    "start_time": "2023-03-25T14:40:06.530Z"
   },
   {
    "duration": 19,
    "start_time": "2023-03-25T14:40:06.544Z"
   },
   {
    "duration": 3,
    "start_time": "2023-03-25T14:40:06.565Z"
   },
   {
    "duration": 6,
    "start_time": "2023-03-25T14:40:06.570Z"
   },
   {
    "duration": 361,
    "start_time": "2023-03-25T14:40:06.577Z"
   },
   {
    "duration": 0,
    "start_time": "2023-03-25T14:40:06.940Z"
   },
   {
    "duration": 0,
    "start_time": "2023-03-25T14:40:06.941Z"
   },
   {
    "duration": 0,
    "start_time": "2023-03-25T14:40:06.943Z"
   },
   {
    "duration": 0,
    "start_time": "2023-03-25T14:40:06.945Z"
   },
   {
    "duration": 0,
    "start_time": "2023-03-25T14:40:06.946Z"
   },
   {
    "duration": 0,
    "start_time": "2023-03-25T14:40:06.947Z"
   },
   {
    "duration": 0,
    "start_time": "2023-03-25T14:40:06.962Z"
   },
   {
    "duration": 0,
    "start_time": "2023-03-25T14:40:06.963Z"
   },
   {
    "duration": 0,
    "start_time": "2023-03-25T14:40:06.964Z"
   },
   {
    "duration": 0,
    "start_time": "2023-03-25T14:40:06.965Z"
   },
   {
    "duration": 0,
    "start_time": "2023-03-25T14:40:06.966Z"
   },
   {
    "duration": 0,
    "start_time": "2023-03-25T14:40:06.967Z"
   },
   {
    "duration": 0,
    "start_time": "2023-03-25T14:40:06.968Z"
   },
   {
    "duration": 0,
    "start_time": "2023-03-25T14:40:06.969Z"
   },
   {
    "duration": 0,
    "start_time": "2023-03-25T14:40:06.970Z"
   },
   {
    "duration": 0,
    "start_time": "2023-03-25T14:40:06.972Z"
   },
   {
    "duration": 0,
    "start_time": "2023-03-25T14:40:06.973Z"
   },
   {
    "duration": 0,
    "start_time": "2023-03-25T14:40:06.974Z"
   },
   {
    "duration": 0,
    "start_time": "2023-03-25T14:40:06.975Z"
   },
   {
    "duration": 0,
    "start_time": "2023-03-25T14:40:06.977Z"
   },
   {
    "duration": 3,
    "start_time": "2023-03-25T14:40:36.238Z"
   },
   {
    "duration": 495,
    "start_time": "2023-03-25T14:40:44.265Z"
   },
   {
    "duration": 3,
    "start_time": "2023-03-25T14:40:46.369Z"
   },
   {
    "duration": 248290,
    "start_time": "2023-03-25T14:40:47.425Z"
   },
   {
    "duration": 23647,
    "start_time": "2023-03-25T14:48:48.384Z"
   },
   {
    "duration": 0,
    "start_time": "2023-03-25T14:49:12.033Z"
   },
   {
    "duration": 645,
    "start_time": "2023-03-25T14:49:16.346Z"
   },
   {
    "duration": 120,
    "start_time": "2023-03-25T14:49:21.410Z"
   },
   {
    "duration": 75,
    "start_time": "2023-03-25T15:20:18.014Z"
   },
   {
    "duration": 77,
    "start_time": "2023-03-25T15:20:33.688Z"
   },
   {
    "duration": 70,
    "start_time": "2023-03-25T15:21:04.425Z"
   },
   {
    "duration": 87,
    "start_time": "2023-03-25T15:21:09.720Z"
   },
   {
    "duration": 74,
    "start_time": "2023-03-25T15:21:17.488Z"
   },
   {
    "duration": 91,
    "start_time": "2023-03-25T15:21:26.105Z"
   },
   {
    "duration": 5,
    "start_time": "2023-03-25T15:22:04.865Z"
   },
   {
    "duration": 143,
    "start_time": "2023-03-25T15:23:48.331Z"
   },
   {
    "duration": 142,
    "start_time": "2023-03-25T15:24:00.448Z"
   },
   {
    "duration": 130,
    "start_time": "2023-03-25T15:24:13.063Z"
   },
   {
    "duration": 146,
    "start_time": "2023-03-25T15:25:01.601Z"
   },
   {
    "duration": 188,
    "start_time": "2023-03-25T15:27:34.043Z"
   },
   {
    "duration": 3,
    "start_time": "2023-03-25T15:45:01.418Z"
   },
   {
    "duration": 12723,
    "start_time": "2023-03-25T16:09:11.223Z"
   },
   {
    "duration": 4457,
    "start_time": "2023-03-25T16:09:23.949Z"
   },
   {
    "duration": 338,
    "start_time": "2023-03-25T16:09:28.408Z"
   },
   {
    "duration": 832,
    "start_time": "2023-03-25T16:09:28.750Z"
   },
   {
    "duration": 3,
    "start_time": "2023-03-25T16:09:29.584Z"
   },
   {
    "duration": 35,
    "start_time": "2023-03-25T16:09:29.589Z"
   },
   {
    "duration": 10,
    "start_time": "2023-03-25T16:09:29.626Z"
   },
   {
    "duration": 24,
    "start_time": "2023-03-25T16:09:29.638Z"
   },
   {
    "duration": 16,
    "start_time": "2023-03-25T16:09:29.664Z"
   },
   {
    "duration": 29,
    "start_time": "2023-03-25T16:09:29.685Z"
   },
   {
    "duration": 248,
    "start_time": "2023-03-25T16:09:29.716Z"
   },
   {
    "duration": 8,
    "start_time": "2023-03-25T16:09:29.966Z"
   },
   {
    "duration": 141,
    "start_time": "2023-03-25T16:09:29.976Z"
   },
   {
    "duration": 2,
    "start_time": "2023-03-25T16:09:30.119Z"
   },
   {
    "duration": 22,
    "start_time": "2023-03-25T16:09:30.123Z"
   },
   {
    "duration": 29,
    "start_time": "2023-03-25T16:09:30.147Z"
   },
   {
    "duration": 33,
    "start_time": "2023-03-25T16:09:30.178Z"
   },
   {
    "duration": 20,
    "start_time": "2023-03-25T16:09:30.213Z"
   },
   {
    "duration": 38,
    "start_time": "2023-03-25T16:09:30.235Z"
   },
   {
    "duration": 564,
    "start_time": "2023-03-25T16:09:30.275Z"
   },
   {
    "duration": 4,
    "start_time": "2023-03-25T16:09:30.841Z"
   },
   {
    "duration": 1320868,
    "start_time": "2023-03-25T16:09:30.847Z"
   },
   {
    "duration": 5,
    "start_time": "2023-03-25T16:31:31.717Z"
   },
   {
    "duration": 436,
    "start_time": "2023-03-25T16:31:31.723Z"
   },
   {
    "duration": 0,
    "start_time": "2023-03-25T16:31:32.162Z"
   },
   {
    "duration": 0,
    "start_time": "2023-03-25T16:31:32.165Z"
   },
   {
    "duration": 0,
    "start_time": "2023-03-25T16:31:32.167Z"
   },
   {
    "duration": 0,
    "start_time": "2023-03-25T16:31:32.169Z"
   },
   {
    "duration": 0,
    "start_time": "2023-03-25T16:31:32.171Z"
   },
   {
    "duration": 0,
    "start_time": "2023-03-25T16:31:32.173Z"
   },
   {
    "duration": 0,
    "start_time": "2023-03-25T16:31:32.175Z"
   },
   {
    "duration": 0,
    "start_time": "2023-03-25T16:31:32.177Z"
   },
   {
    "duration": 0,
    "start_time": "2023-03-25T16:31:32.179Z"
   },
   {
    "duration": 0,
    "start_time": "2023-03-25T16:31:32.181Z"
   },
   {
    "duration": 0,
    "start_time": "2023-03-25T16:31:32.183Z"
   },
   {
    "duration": 0,
    "start_time": "2023-03-25T16:31:32.185Z"
   },
   {
    "duration": 0,
    "start_time": "2023-03-25T16:31:32.187Z"
   },
   {
    "duration": 0,
    "start_time": "2023-03-25T16:31:32.189Z"
   },
   {
    "duration": 0,
    "start_time": "2023-03-25T16:31:32.190Z"
   },
   {
    "duration": 0,
    "start_time": "2023-03-25T16:31:32.191Z"
   },
   {
    "duration": 0,
    "start_time": "2023-03-25T16:31:32.192Z"
   },
   {
    "duration": 0,
    "start_time": "2023-03-25T16:31:32.193Z"
   },
   {
    "duration": 0,
    "start_time": "2023-03-25T16:31:32.194Z"
   },
   {
    "duration": 770,
    "start_time": "2023-03-25T16:33:31.491Z"
   },
   {
    "duration": 157,
    "start_time": "2023-03-25T16:33:33.449Z"
   },
   {
    "duration": 174,
    "start_time": "2023-03-25T16:33:38.355Z"
   },
   {
    "duration": 6,
    "start_time": "2023-03-25T16:33:43.188Z"
   },
   {
    "duration": 3887,
    "start_time": "2023-03-25T16:33:45.139Z"
   },
   {
    "duration": 31404,
    "start_time": "2023-03-25T16:33:54.896Z"
   },
   {
    "duration": 62,
    "start_time": "2023-03-25T16:35:23.795Z"
   },
   {
    "duration": 5,
    "start_time": "2023-03-25T16:35:23.859Z"
   },
   {
    "duration": 5,
    "start_time": "2023-03-25T16:35:23.866Z"
   },
   {
    "duration": 1120524,
    "start_time": "2023-03-25T16:35:23.873Z"
   },
   {
    "duration": 16749,
    "start_time": "2023-03-25T19:31:21.346Z"
   },
   {
    "duration": 5050,
    "start_time": "2023-03-25T19:31:38.097Z"
   },
   {
    "duration": 63034,
    "start_time": "2023-03-25T19:31:43.148Z"
   },
   {
    "duration": 3616,
    "start_time": "2023-03-25T19:32:46.184Z"
   },
   {
    "duration": 3,
    "start_time": "2023-03-25T19:32:49.801Z"
   },
   {
    "duration": 36,
    "start_time": "2023-03-25T19:32:49.805Z"
   },
   {
    "duration": 10,
    "start_time": "2023-03-25T19:32:49.842Z"
   },
   {
    "duration": 4,
    "start_time": "2023-03-25T19:32:49.853Z"
   },
   {
    "duration": 24,
    "start_time": "2023-03-25T19:32:49.858Z"
   },
   {
    "duration": 28,
    "start_time": "2023-03-25T19:32:49.885Z"
   },
   {
    "duration": 260,
    "start_time": "2023-03-25T19:32:49.914Z"
   },
   {
    "duration": 8,
    "start_time": "2023-03-25T19:32:50.176Z"
   },
   {
    "duration": 140,
    "start_time": "2023-03-25T19:32:50.185Z"
   },
   {
    "duration": 2,
    "start_time": "2023-03-25T19:32:50.327Z"
   },
   {
    "duration": 8,
    "start_time": "2023-03-25T19:32:50.330Z"
   },
   {
    "duration": 6,
    "start_time": "2023-03-25T19:32:50.339Z"
   },
   {
    "duration": 6,
    "start_time": "2023-03-25T19:32:50.346Z"
   },
   {
    "duration": 22,
    "start_time": "2023-03-25T19:32:50.353Z"
   },
   {
    "duration": 3,
    "start_time": "2023-03-25T19:32:50.377Z"
   },
   {
    "duration": 510,
    "start_time": "2023-03-25T19:32:50.382Z"
   },
   {
    "duration": 4,
    "start_time": "2023-03-25T19:32:50.894Z"
   },
   {
    "duration": 1207251,
    "start_time": "2023-03-25T19:32:50.899Z"
   },
   {
    "duration": 5,
    "start_time": "2023-03-25T19:52:58.152Z"
   },
   {
    "duration": 610,
    "start_time": "2023-03-25T19:52:58.159Z"
   },
   {
    "duration": 135,
    "start_time": "2023-03-25T19:52:58.771Z"
   },
   {
    "duration": 3,
    "start_time": "2023-03-25T19:52:58.908Z"
   },
   {
    "duration": 159,
    "start_time": "2023-03-25T19:52:58.913Z"
   },
   {
    "duration": 5,
    "start_time": "2023-03-25T19:52:59.077Z"
   },
   {
    "duration": 3666,
    "start_time": "2023-03-25T19:52:59.083Z"
   },
   {
    "duration": 27099,
    "start_time": "2023-03-25T19:53:02.751Z"
   },
   {
    "duration": 78,
    "start_time": "2023-03-25T19:53:29.851Z"
   },
   {
    "duration": 4,
    "start_time": "2023-03-25T19:53:29.930Z"
   },
   {
    "duration": 5,
    "start_time": "2023-03-25T19:53:29.936Z"
   },
   {
    "duration": 995582,
    "start_time": "2023-03-25T19:53:29.943Z"
   },
   {
    "duration": 10842693,
    "start_time": "2023-03-25T20:10:05.527Z"
   },
   {
    "duration": 34615,
    "start_time": "2023-03-25T23:10:48.221Z"
   },
   {
    "duration": 3445277,
    "start_time": "2023-03-25T23:11:22.837Z"
   },
   {
    "duration": 372560,
    "start_time": "2023-03-26T00:08:48.116Z"
   },
   {
    "duration": 99,
    "start_time": "2023-03-26T00:15:00.679Z"
   },
   {
    "duration": 24,
    "start_time": "2023-03-26T00:15:00.780Z"
   },
   {
    "duration": 20827,
    "start_time": "2023-03-26T00:15:00.806Z"
   },
   {
    "duration": 133,
    "start_time": "2023-03-26T00:15:21.635Z"
   },
   {
    "duration": 4,
    "start_time": "2023-03-26T00:47:45.556Z"
   },
   {
    "duration": 4607796,
    "start_time": "2023-03-26T00:47:56.366Z"
   },
   {
    "duration": 10,
    "start_time": "2023-03-26T02:04:44.164Z"
   },
   {
    "duration": 184,
    "start_time": "2023-03-26T02:12:31.098Z"
   },
   {
    "duration": 13607,
    "start_time": "2023-03-26T08:56:13.835Z"
   },
   {
    "duration": 4534,
    "start_time": "2023-03-26T08:56:27.444Z"
   },
   {
    "duration": 1903,
    "start_time": "2023-03-26T08:56:31.979Z"
   },
   {
    "duration": 3597,
    "start_time": "2023-03-26T08:56:33.884Z"
   },
   {
    "duration": 3,
    "start_time": "2023-03-26T08:56:37.483Z"
   },
   {
    "duration": 33,
    "start_time": "2023-03-26T08:56:37.487Z"
   },
   {
    "duration": 10,
    "start_time": "2023-03-26T08:56:37.522Z"
   },
   {
    "duration": 5,
    "start_time": "2023-03-26T08:56:37.533Z"
   },
   {
    "duration": 14,
    "start_time": "2023-03-26T08:56:37.539Z"
   },
   {
    "duration": 28,
    "start_time": "2023-03-26T08:56:37.576Z"
   },
   {
    "duration": 234,
    "start_time": "2023-03-26T08:56:37.606Z"
   },
   {
    "duration": 9,
    "start_time": "2023-03-26T08:56:37.842Z"
   },
   {
    "duration": 145,
    "start_time": "2023-03-26T08:56:37.853Z"
   },
   {
    "duration": 2,
    "start_time": "2023-03-26T08:56:38.001Z"
   },
   {
    "duration": 5,
    "start_time": "2023-03-26T08:56:38.005Z"
   },
   {
    "duration": 3,
    "start_time": "2023-03-26T08:56:38.012Z"
   },
   {
    "duration": 5,
    "start_time": "2023-03-26T08:56:38.017Z"
   },
   {
    "duration": 5,
    "start_time": "2023-03-26T08:56:38.023Z"
   },
   {
    "duration": 4,
    "start_time": "2023-03-26T08:56:38.030Z"
   },
   {
    "duration": 512,
    "start_time": "2023-03-26T08:56:38.035Z"
   },
   {
    "duration": 4,
    "start_time": "2023-03-26T08:56:38.549Z"
   },
   {
    "duration": 1248402,
    "start_time": "2023-03-26T08:56:38.555Z"
   },
   {
    "duration": 6,
    "start_time": "2023-03-26T09:17:26.958Z"
   },
   {
    "duration": 610,
    "start_time": "2023-03-26T09:17:26.965Z"
   },
   {
    "duration": 129,
    "start_time": "2023-03-26T09:17:27.576Z"
   },
   {
    "duration": 3,
    "start_time": "2023-03-26T09:17:27.706Z"
   },
   {
    "duration": 193,
    "start_time": "2023-03-26T09:17:27.711Z"
   },
   {
    "duration": 5,
    "start_time": "2023-03-26T09:17:27.908Z"
   },
   {
    "duration": 3578,
    "start_time": "2023-03-26T09:17:27.914Z"
   },
   {
    "duration": 27553,
    "start_time": "2023-03-26T09:17:31.495Z"
   },
   {
    "duration": 72,
    "start_time": "2023-03-26T09:17:59.050Z"
   },
   {
    "duration": 5,
    "start_time": "2023-03-26T09:17:59.123Z"
   },
   {
    "duration": 12,
    "start_time": "2023-03-26T09:17:59.129Z"
   },
   {
    "duration": 1371157,
    "start_time": "2023-03-26T09:17:59.143Z"
   },
   {
    "duration": 5749879,
    "start_time": "2023-03-26T09:40:50.302Z"
   },
   {
    "duration": 75,
    "start_time": "2023-03-26T11:16:40.182Z"
   },
   {
    "duration": 0,
    "start_time": "2023-03-26T11:16:40.258Z"
   },
   {
    "duration": 0,
    "start_time": "2023-03-26T11:16:40.259Z"
   },
   {
    "duration": 0,
    "start_time": "2023-03-26T11:16:40.260Z"
   },
   {
    "duration": 0,
    "start_time": "2023-03-26T11:16:40.261Z"
   },
   {
    "duration": 0,
    "start_time": "2023-03-26T11:16:40.262Z"
   },
   {
    "duration": 0,
    "start_time": "2023-03-26T11:16:40.264Z"
   },
   {
    "duration": 18334,
    "start_time": "2023-03-26T11:26:04.421Z"
   },
   {
    "duration": 47,
    "start_time": "2023-03-26T11:26:55.946Z"
   },
   {
    "duration": 454,
    "start_time": "2023-03-26T11:27:11.495Z"
   },
   {
    "duration": 219762,
    "start_time": "2023-03-26T11:27:37.840Z"
   },
   {
    "duration": 11028,
    "start_time": "2023-03-26T12:20:41.908Z"
   },
   {
    "duration": 75,
    "start_time": "2023-03-26T12:23:53.329Z"
   },
   {
    "duration": 27,
    "start_time": "2023-03-26T12:25:10.272Z"
   },
   {
    "duration": 13833,
    "start_time": "2023-03-26T12:25:19.012Z"
   },
   {
    "duration": 4548,
    "start_time": "2023-03-26T12:25:32.847Z"
   },
   {
    "duration": 413,
    "start_time": "2023-03-26T12:25:37.397Z"
   },
   {
    "duration": 813,
    "start_time": "2023-03-26T12:25:37.812Z"
   },
   {
    "duration": 3,
    "start_time": "2023-03-26T12:25:38.628Z"
   },
   {
    "duration": 44,
    "start_time": "2023-03-26T12:25:38.633Z"
   },
   {
    "duration": 9,
    "start_time": "2023-03-26T12:25:38.679Z"
   },
   {
    "duration": 7,
    "start_time": "2023-03-26T12:25:38.690Z"
   },
   {
    "duration": 18,
    "start_time": "2023-03-26T12:25:38.698Z"
   },
   {
    "duration": 58,
    "start_time": "2023-03-26T12:25:38.718Z"
   },
   {
    "duration": 263,
    "start_time": "2023-03-26T12:25:38.778Z"
   },
   {
    "duration": 11,
    "start_time": "2023-03-26T12:25:39.043Z"
   },
   {
    "duration": 135,
    "start_time": "2023-03-26T12:25:39.055Z"
   },
   {
    "duration": 3,
    "start_time": "2023-03-26T12:25:39.193Z"
   },
   {
    "duration": 7,
    "start_time": "2023-03-26T12:25:39.197Z"
   },
   {
    "duration": 4,
    "start_time": "2023-03-26T12:25:39.206Z"
   },
   {
    "duration": 9,
    "start_time": "2023-03-26T12:25:39.212Z"
   },
   {
    "duration": 4,
    "start_time": "2023-03-26T12:25:39.223Z"
   },
   {
    "duration": 5,
    "start_time": "2023-03-26T12:25:39.229Z"
   },
   {
    "duration": 518,
    "start_time": "2023-03-26T12:25:39.236Z"
   },
   {
    "duration": 4,
    "start_time": "2023-03-26T12:25:39.756Z"
   },
   {
    "duration": 1301285,
    "start_time": "2023-03-26T12:25:39.761Z"
   },
   {
    "duration": 26,
    "start_time": "2023-03-26T12:47:21.049Z"
   },
   {
    "duration": 624,
    "start_time": "2023-03-26T12:47:21.077Z"
   },
   {
    "duration": 145,
    "start_time": "2023-03-26T12:47:21.703Z"
   },
   {
    "duration": 3,
    "start_time": "2023-03-26T12:47:21.851Z"
   },
   {
    "duration": 197,
    "start_time": "2023-03-26T12:47:21.856Z"
   },
   {
    "duration": 6,
    "start_time": "2023-03-26T12:47:22.055Z"
   },
   {
    "duration": 4002,
    "start_time": "2023-03-26T12:47:22.063Z"
   },
   {
    "duration": 30144,
    "start_time": "2023-03-26T12:47:26.067Z"
   },
   {
    "duration": 82,
    "start_time": "2023-03-26T12:47:56.214Z"
   },
   {
    "duration": 4,
    "start_time": "2023-03-26T12:47:56.298Z"
   },
   {
    "duration": 3,
    "start_time": "2023-03-26T12:47:56.304Z"
   },
   {
    "duration": 1270217,
    "start_time": "2023-03-26T12:47:56.309Z"
   },
   {
    "duration": 383,
    "start_time": "2023-03-26T13:09:06.529Z"
   },
   {
    "duration": 0,
    "start_time": "2023-03-26T13:09:06.914Z"
   },
   {
    "duration": 0,
    "start_time": "2023-03-26T13:09:06.916Z"
   },
   {
    "duration": 1,
    "start_time": "2023-03-26T13:09:06.917Z"
   },
   {
    "duration": 0,
    "start_time": "2023-03-26T13:09:06.919Z"
   },
   {
    "duration": 0,
    "start_time": "2023-03-26T13:09:06.921Z"
   },
   {
    "duration": 0,
    "start_time": "2023-03-26T13:09:06.923Z"
   },
   {
    "duration": 0,
    "start_time": "2023-03-26T13:09:06.925Z"
   },
   {
    "duration": 0,
    "start_time": "2023-03-26T13:09:06.926Z"
   },
   {
    "duration": 93,
    "start_time": "2023-03-26T13:11:33.792Z"
   },
   {
    "duration": 14854,
    "start_time": "2023-03-26T16:31:51.029Z"
   },
   {
    "duration": 4752,
    "start_time": "2023-03-26T16:32:05.886Z"
   },
   {
    "duration": 2595,
    "start_time": "2023-03-26T16:32:10.641Z"
   },
   {
    "duration": 1186,
    "start_time": "2023-03-26T16:32:13.238Z"
   },
   {
    "duration": 4,
    "start_time": "2023-03-26T16:32:14.425Z"
   },
   {
    "duration": 48,
    "start_time": "2023-03-26T16:32:14.431Z"
   },
   {
    "duration": 14,
    "start_time": "2023-03-26T16:32:14.480Z"
   },
   {
    "duration": 10,
    "start_time": "2023-03-26T16:32:14.495Z"
   },
   {
    "duration": 17,
    "start_time": "2023-03-26T16:32:14.506Z"
   },
   {
    "duration": 37,
    "start_time": "2023-03-26T16:32:14.526Z"
   },
   {
    "duration": 248,
    "start_time": "2023-03-26T16:32:14.564Z"
   },
   {
    "duration": 11,
    "start_time": "2023-03-26T16:32:14.814Z"
   },
   {
    "duration": 165,
    "start_time": "2023-03-26T16:32:14.828Z"
   },
   {
    "duration": 3,
    "start_time": "2023-03-26T16:32:14.995Z"
   },
   {
    "duration": 31,
    "start_time": "2023-03-26T16:32:14.999Z"
   },
   {
    "duration": 9,
    "start_time": "2023-03-26T16:32:15.032Z"
   },
   {
    "duration": 14,
    "start_time": "2023-03-26T16:32:15.043Z"
   },
   {
    "duration": 8,
    "start_time": "2023-03-26T16:32:15.059Z"
   },
   {
    "duration": 8,
    "start_time": "2023-03-26T16:32:15.068Z"
   },
   {
    "duration": 679,
    "start_time": "2023-03-26T16:32:15.078Z"
   },
   {
    "duration": 4,
    "start_time": "2023-03-26T16:32:15.764Z"
   },
   {
    "duration": 1189980,
    "start_time": "2023-03-26T16:32:15.770Z"
   },
   {
    "duration": 6,
    "start_time": "2023-03-26T16:52:05.752Z"
   },
   {
    "duration": 668,
    "start_time": "2023-03-26T16:52:05.759Z"
   },
   {
    "duration": 138,
    "start_time": "2023-03-26T16:52:06.429Z"
   },
   {
    "duration": 4,
    "start_time": "2023-03-26T16:52:06.569Z"
   },
   {
    "duration": 212,
    "start_time": "2023-03-26T16:52:06.575Z"
   },
   {
    "duration": 5,
    "start_time": "2023-03-26T16:52:06.791Z"
   },
   {
    "duration": 3905,
    "start_time": "2023-03-26T16:52:06.798Z"
   },
   {
    "duration": 29046,
    "start_time": "2023-03-26T16:52:10.705Z"
   },
   {
    "duration": 70,
    "start_time": "2023-03-26T16:52:39.754Z"
   },
   {
    "duration": 16,
    "start_time": "2023-03-26T16:52:39.826Z"
   },
   {
    "duration": 24,
    "start_time": "2023-03-26T16:52:39.844Z"
   },
   {
    "duration": 1540268,
    "start_time": "2023-03-26T16:52:39.870Z"
   },
   {
    "duration": 363,
    "start_time": "2023-03-26T17:18:20.140Z"
   },
   {
    "duration": 0,
    "start_time": "2023-03-26T17:18:20.506Z"
   },
   {
    "duration": 0,
    "start_time": "2023-03-26T17:18:20.507Z"
   },
   {
    "duration": 0,
    "start_time": "2023-03-26T17:18:20.508Z"
   },
   {
    "duration": 0,
    "start_time": "2023-03-26T17:18:20.509Z"
   },
   {
    "duration": 0,
    "start_time": "2023-03-26T17:18:20.510Z"
   },
   {
    "duration": 0,
    "start_time": "2023-03-26T17:18:20.511Z"
   },
   {
    "duration": 0,
    "start_time": "2023-03-26T17:18:20.512Z"
   },
   {
    "duration": 0,
    "start_time": "2023-03-26T17:18:20.513Z"
   },
   {
    "duration": 0,
    "start_time": "2023-03-26T19:10:22.743Z"
   },
   {
    "duration": 0,
    "start_time": "2023-03-26T19:10:22.745Z"
   },
   {
    "duration": 0,
    "start_time": "2023-03-26T19:10:22.747Z"
   },
   {
    "duration": 0,
    "start_time": "2023-03-26T19:10:22.750Z"
   },
   {
    "duration": 0,
    "start_time": "2023-03-26T19:10:22.752Z"
   },
   {
    "duration": 0,
    "start_time": "2023-03-26T19:10:22.753Z"
   },
   {
    "duration": 0,
    "start_time": "2023-03-26T19:10:22.754Z"
   },
   {
    "duration": 0,
    "start_time": "2023-03-26T19:10:22.756Z"
   },
   {
    "duration": 12309,
    "start_time": "2023-03-26T20:02:41.442Z"
   },
   {
    "duration": 4296,
    "start_time": "2023-03-26T20:02:53.755Z"
   },
   {
    "duration": 301,
    "start_time": "2023-03-26T20:02:58.052Z"
   },
   {
    "duration": 791,
    "start_time": "2023-03-26T20:02:58.355Z"
   },
   {
    "duration": 3,
    "start_time": "2023-03-26T20:02:59.148Z"
   },
   {
    "duration": 41,
    "start_time": "2023-03-26T20:02:59.152Z"
   },
   {
    "duration": 12,
    "start_time": "2023-03-26T20:02:59.194Z"
   },
   {
    "duration": 5,
    "start_time": "2023-03-26T20:02:59.208Z"
   },
   {
    "duration": 38,
    "start_time": "2023-03-26T20:02:59.214Z"
   },
   {
    "duration": 32,
    "start_time": "2023-03-26T20:02:59.256Z"
   },
   {
    "duration": 262,
    "start_time": "2023-03-26T20:02:59.290Z"
   },
   {
    "duration": 8,
    "start_time": "2023-03-26T20:02:59.553Z"
   },
   {
    "duration": 141,
    "start_time": "2023-03-26T20:02:59.563Z"
   },
   {
    "duration": 2,
    "start_time": "2023-03-26T20:02:59.706Z"
   },
   {
    "duration": 7,
    "start_time": "2023-03-26T20:02:59.710Z"
   },
   {
    "duration": 6,
    "start_time": "2023-03-26T20:02:59.719Z"
   },
   {
    "duration": 14,
    "start_time": "2023-03-26T20:02:59.727Z"
   },
   {
    "duration": 2,
    "start_time": "2023-03-26T20:02:59.743Z"
   },
   {
    "duration": 5,
    "start_time": "2023-03-26T20:02:59.747Z"
   },
   {
    "duration": 497,
    "start_time": "2023-03-26T20:02:59.753Z"
   },
   {
    "duration": 3,
    "start_time": "2023-03-26T20:03:00.252Z"
   },
   {
    "duration": 1209071,
    "start_time": "2023-03-26T20:03:00.257Z"
   },
   {
    "duration": 5,
    "start_time": "2023-03-26T20:23:09.341Z"
   },
   {
    "duration": 560,
    "start_time": "2023-03-26T20:23:09.348Z"
   },
   {
    "duration": 138,
    "start_time": "2023-03-26T20:23:09.910Z"
   },
   {
    "duration": 2,
    "start_time": "2023-03-26T20:23:10.050Z"
   },
   {
    "duration": 141,
    "start_time": "2023-03-26T20:23:10.053Z"
   },
   {
    "duration": 4,
    "start_time": "2023-03-26T20:23:10.197Z"
   },
   {
    "duration": 3476,
    "start_time": "2023-03-26T20:23:10.203Z"
   },
   {
    "duration": 27650,
    "start_time": "2023-03-26T20:23:13.681Z"
   },
   {
    "duration": 69,
    "start_time": "2023-03-26T20:23:41.333Z"
   },
   {
    "duration": 4,
    "start_time": "2023-03-26T20:23:41.404Z"
   },
   {
    "duration": 8,
    "start_time": "2023-03-26T20:23:41.409Z"
   },
   {
    "duration": 1485405,
    "start_time": "2023-03-26T20:23:41.418Z"
   },
   {
    "duration": 13305,
    "start_time": "2023-03-27T06:20:54.085Z"
   },
   {
    "duration": 4962,
    "start_time": "2023-03-27T06:21:07.393Z"
   },
   {
    "duration": 899,
    "start_time": "2023-03-27T06:21:12.357Z"
   },
   {
    "duration": 1149,
    "start_time": "2023-03-27T06:21:13.259Z"
   },
   {
    "duration": 3,
    "start_time": "2023-03-27T06:21:14.410Z"
   },
   {
    "duration": 39,
    "start_time": "2023-03-27T06:21:14.414Z"
   },
   {
    "duration": 10,
    "start_time": "2023-03-27T06:21:14.454Z"
   },
   {
    "duration": 17,
    "start_time": "2023-03-27T06:21:14.466Z"
   },
   {
    "duration": 12,
    "start_time": "2023-03-27T06:21:14.485Z"
   },
   {
    "duration": 38,
    "start_time": "2023-03-27T06:21:14.501Z"
   },
   {
    "duration": 232,
    "start_time": "2023-03-27T06:21:14.540Z"
   },
   {
    "duration": 10,
    "start_time": "2023-03-27T06:21:14.774Z"
   },
   {
    "duration": 187,
    "start_time": "2023-03-27T06:21:14.786Z"
   },
   {
    "duration": 2,
    "start_time": "2023-03-27T06:21:14.975Z"
   },
   {
    "duration": 7,
    "start_time": "2023-03-27T06:21:14.979Z"
   },
   {
    "duration": 4,
    "start_time": "2023-03-27T06:21:14.988Z"
   },
   {
    "duration": 9,
    "start_time": "2023-03-27T06:21:14.994Z"
   },
   {
    "duration": 43,
    "start_time": "2023-03-27T06:21:15.004Z"
   },
   {
    "duration": 10,
    "start_time": "2023-03-27T06:21:15.049Z"
   },
   {
    "duration": 649,
    "start_time": "2023-03-27T06:21:15.061Z"
   },
   {
    "duration": 4,
    "start_time": "2023-03-27T06:21:15.711Z"
   },
   {
    "duration": 1103336,
    "start_time": "2023-03-27T06:21:15.716Z"
   },
   {
    "duration": 5,
    "start_time": "2023-03-27T06:39:39.054Z"
   },
   {
    "duration": 630,
    "start_time": "2023-03-27T06:39:39.061Z"
   },
   {
    "duration": 127,
    "start_time": "2023-03-27T06:39:39.693Z"
   },
   {
    "duration": 2,
    "start_time": "2023-03-27T06:39:39.822Z"
   },
   {
    "duration": 170,
    "start_time": "2023-03-27T06:39:39.826Z"
   },
   {
    "duration": 3,
    "start_time": "2023-03-27T06:39:40.000Z"
   },
   {
    "duration": 3495,
    "start_time": "2023-03-27T06:39:40.005Z"
   },
   {
    "duration": 27946,
    "start_time": "2023-03-27T06:39:43.501Z"
   },
   {
    "duration": 58,
    "start_time": "2023-03-27T06:40:11.449Z"
   },
   {
    "duration": 4,
    "start_time": "2023-03-27T06:40:11.508Z"
   },
   {
    "duration": 13,
    "start_time": "2023-03-27T06:40:11.514Z"
   },
   {
    "duration": 1420302,
    "start_time": "2023-03-27T06:40:11.528Z"
   },
   {
    "duration": 4597521,
    "start_time": "2023-03-27T07:03:51.834Z"
   },
   {
    "duration": 17226,
    "start_time": "2023-03-27T08:20:29.357Z"
   },
   {
    "duration": 2,
    "start_time": "2023-03-27T08:20:46.586Z"
   },
   {
    "duration": 197877,
    "start_time": "2023-03-27T08:20:46.590Z"
   },
   {
    "duration": 5,
    "start_time": "2023-03-27T08:24:04.470Z"
   },
   {
    "duration": 13,
    "start_time": "2023-03-27T08:24:04.477Z"
   },
   {
    "duration": 9546,
    "start_time": "2023-03-27T08:24:04.492Z"
   },
   {
    "duration": 176,
    "start_time": "2023-03-27T08:24:14.040Z"
   },
   {
    "duration": 68,
    "start_time": "2023-03-27T11:02:11.215Z"
   },
   {
    "duration": 16233,
    "start_time": "2023-03-27T11:02:20.671Z"
   },
   {
    "duration": 4424,
    "start_time": "2023-03-27T11:02:36.907Z"
   },
   {
    "duration": 251,
    "start_time": "2023-03-27T11:02:41.336Z"
   },
   {
    "duration": 876,
    "start_time": "2023-03-27T11:02:41.589Z"
   },
   {
    "duration": 4,
    "start_time": "2023-03-27T11:02:42.468Z"
   },
   {
    "duration": 42,
    "start_time": "2023-03-27T11:02:42.476Z"
   },
   {
    "duration": 16,
    "start_time": "2023-03-27T11:02:42.519Z"
   },
   {
    "duration": 4,
    "start_time": "2023-03-27T11:02:42.537Z"
   },
   {
    "duration": 17,
    "start_time": "2023-03-27T11:02:42.543Z"
   },
   {
    "duration": 36,
    "start_time": "2023-03-27T11:02:42.561Z"
   },
   {
    "duration": 227,
    "start_time": "2023-03-27T11:02:42.599Z"
   },
   {
    "duration": 12,
    "start_time": "2023-03-27T11:02:42.828Z"
   },
   {
    "duration": 144,
    "start_time": "2023-03-27T11:02:42.842Z"
   },
   {
    "duration": 2,
    "start_time": "2023-03-27T11:02:42.989Z"
   },
   {
    "duration": 7,
    "start_time": "2023-03-27T11:02:42.992Z"
   },
   {
    "duration": 7,
    "start_time": "2023-03-27T11:02:43.000Z"
   },
   {
    "duration": 4,
    "start_time": "2023-03-27T11:02:43.009Z"
   },
   {
    "duration": 19,
    "start_time": "2023-03-27T11:02:43.015Z"
   },
   {
    "duration": 11,
    "start_time": "2023-03-27T11:02:43.036Z"
   },
   {
    "duration": 526,
    "start_time": "2023-03-27T11:02:43.049Z"
   },
   {
    "duration": 4,
    "start_time": "2023-03-27T11:02:43.577Z"
   },
   {
    "duration": 13701,
    "start_time": "2023-03-27T11:38:20.408Z"
   },
   {
    "duration": 4453,
    "start_time": "2023-03-27T11:38:34.112Z"
   },
   {
    "duration": 1104,
    "start_time": "2023-03-27T11:38:38.567Z"
   },
   {
    "duration": 2518,
    "start_time": "2023-03-27T11:38:39.674Z"
   },
   {
    "duration": 3,
    "start_time": "2023-03-27T11:38:42.194Z"
   },
   {
    "duration": 62,
    "start_time": "2023-03-27T11:38:42.199Z"
   },
   {
    "duration": 22,
    "start_time": "2023-03-27T11:38:42.263Z"
   },
   {
    "duration": 34,
    "start_time": "2023-03-27T11:38:42.287Z"
   },
   {
    "duration": 32,
    "start_time": "2023-03-27T11:38:42.323Z"
   },
   {
    "duration": 55,
    "start_time": "2023-03-27T11:38:42.359Z"
   },
   {
    "duration": 236,
    "start_time": "2023-03-27T11:38:42.416Z"
   },
   {
    "duration": 9,
    "start_time": "2023-03-27T11:38:42.654Z"
   },
   {
    "duration": 144,
    "start_time": "2023-03-27T11:38:42.665Z"
   },
   {
    "duration": 2,
    "start_time": "2023-03-27T11:38:42.811Z"
   },
   {
    "duration": 54,
    "start_time": "2023-03-27T11:38:42.815Z"
   },
   {
    "duration": 28,
    "start_time": "2023-03-27T11:38:42.871Z"
   },
   {
    "duration": 14,
    "start_time": "2023-03-27T11:38:42.901Z"
   },
   {
    "duration": 19,
    "start_time": "2023-03-27T11:38:42.917Z"
   },
   {
    "duration": 20,
    "start_time": "2023-03-27T11:38:42.938Z"
   },
   {
    "duration": 520,
    "start_time": "2023-03-27T11:38:42.960Z"
   },
   {
    "duration": 3,
    "start_time": "2023-03-27T11:38:43.484Z"
   },
   {
    "duration": 1139364,
    "start_time": "2023-03-27T11:38:43.490Z"
   },
   {
    "duration": 5,
    "start_time": "2023-03-27T11:57:42.856Z"
   },
   {
    "duration": 665,
    "start_time": "2023-03-27T11:57:42.863Z"
   },
   {
    "duration": 133,
    "start_time": "2023-03-27T11:57:43.530Z"
   },
   {
    "duration": 3,
    "start_time": "2023-03-27T11:57:43.665Z"
   },
   {
    "duration": 174,
    "start_time": "2023-03-27T11:57:43.670Z"
   },
   {
    "duration": 5,
    "start_time": "2023-03-27T11:57:43.848Z"
   },
   {
    "duration": 3677,
    "start_time": "2023-03-27T11:57:43.855Z"
   },
   {
    "duration": 26835,
    "start_time": "2023-03-27T11:57:47.534Z"
   },
   {
    "duration": 65,
    "start_time": "2023-03-27T11:58:14.383Z"
   },
   {
    "duration": 4,
    "start_time": "2023-03-27T11:58:14.450Z"
   },
   {
    "duration": 28,
    "start_time": "2023-03-27T11:58:14.456Z"
   },
   {
    "duration": 1254240,
    "start_time": "2023-03-27T11:58:14.486Z"
   },
   {
    "duration": 1601505,
    "start_time": "2023-03-27T12:19:08.728Z"
   },
   {
    "duration": 78143,
    "start_time": "2023-03-27T12:45:50.235Z"
   },
   {
    "duration": 4,
    "start_time": "2023-03-27T12:47:08.380Z"
   },
   {
    "duration": 2723423,
    "start_time": "2023-03-27T12:47:08.386Z"
   },
   {
    "duration": 81,
    "start_time": "2023-03-27T13:32:31.811Z"
   },
   {
    "duration": 135,
    "start_time": "2023-03-27T13:32:31.893Z"
   },
   {
    "duration": 39032,
    "start_time": "2023-03-27T13:32:32.030Z"
   },
   {
    "duration": 165,
    "start_time": "2023-03-27T13:33:11.064Z"
   },
   {
    "duration": 15339,
    "start_time": "2023-07-23T09:02:24.504Z"
   },
   {
    "duration": 4788,
    "start_time": "2023-07-23T09:02:39.845Z"
   },
   {
    "duration": 1971,
    "start_time": "2023-07-23T09:02:44.635Z"
   },
   {
    "duration": 3440,
    "start_time": "2023-07-23T09:02:46.608Z"
   },
   {
    "duration": 3,
    "start_time": "2023-07-23T09:02:50.050Z"
   },
   {
    "duration": 54,
    "start_time": "2023-07-23T09:02:50.055Z"
   },
   {
    "duration": 11,
    "start_time": "2023-07-23T09:02:50.111Z"
   },
   {
    "duration": 5,
    "start_time": "2023-07-23T09:02:50.124Z"
   },
   {
    "duration": 30,
    "start_time": "2023-07-23T09:02:50.131Z"
   },
   {
    "duration": 40,
    "start_time": "2023-07-23T09:02:50.165Z"
   },
   {
    "duration": 259,
    "start_time": "2023-07-23T09:02:50.207Z"
   },
   {
    "duration": 12,
    "start_time": "2023-07-23T09:02:50.469Z"
   },
   {
    "duration": 145,
    "start_time": "2023-07-23T09:02:50.482Z"
   },
   {
    "duration": 3,
    "start_time": "2023-07-23T09:02:50.629Z"
   },
   {
    "duration": 19,
    "start_time": "2023-07-23T09:02:50.634Z"
   },
   {
    "duration": 31,
    "start_time": "2023-07-23T09:02:50.656Z"
   },
   {
    "duration": 20,
    "start_time": "2023-07-23T09:02:50.690Z"
   },
   {
    "duration": 5,
    "start_time": "2023-07-23T09:02:50.712Z"
   },
   {
    "duration": 17,
    "start_time": "2023-07-23T09:02:50.719Z"
   },
   {
    "duration": 811,
    "start_time": "2023-07-23T09:02:50.737Z"
   },
   {
    "duration": 4,
    "start_time": "2023-07-23T09:02:51.549Z"
   },
   {
    "duration": 1339250,
    "start_time": "2023-07-23T09:02:51.554Z"
   },
   {
    "duration": 7,
    "start_time": "2023-07-23T09:25:10.806Z"
   },
   {
    "duration": 635,
    "start_time": "2023-07-23T09:25:10.815Z"
   },
   {
    "duration": 135,
    "start_time": "2023-07-23T09:25:11.452Z"
   },
   {
    "duration": 3,
    "start_time": "2023-07-23T09:25:11.589Z"
   },
   {
    "duration": 162,
    "start_time": "2023-07-23T09:25:11.594Z"
   },
   {
    "duration": 20,
    "start_time": "2023-07-23T09:25:11.760Z"
   },
   {
    "duration": 2933,
    "start_time": "2023-07-23T09:25:11.782Z"
   },
   {
    "duration": 0,
    "start_time": "2023-07-23T09:25:14.718Z"
   },
   {
    "duration": 0,
    "start_time": "2023-07-23T09:25:14.719Z"
   },
   {
    "duration": 0,
    "start_time": "2023-07-23T09:25:14.720Z"
   },
   {
    "duration": 0,
    "start_time": "2023-07-23T09:25:14.722Z"
   },
   {
    "duration": 0,
    "start_time": "2023-07-23T09:25:14.723Z"
   },
   {
    "duration": 0,
    "start_time": "2023-07-23T09:25:14.725Z"
   },
   {
    "duration": 0,
    "start_time": "2023-07-23T09:25:14.726Z"
   },
   {
    "duration": 0,
    "start_time": "2023-07-23T09:25:14.728Z"
   },
   {
    "duration": 0,
    "start_time": "2023-07-23T09:25:14.729Z"
   },
   {
    "duration": 0,
    "start_time": "2023-07-23T09:25:14.731Z"
   },
   {
    "duration": 0,
    "start_time": "2023-07-23T09:25:14.733Z"
   },
   {
    "duration": 0,
    "start_time": "2023-07-23T09:25:14.734Z"
   },
   {
    "duration": 81391,
    "start_time": "2023-07-23T10:19:30.302Z"
   },
   {
    "duration": 5,
    "start_time": "2023-07-23T10:33:25.027Z"
   },
   {
    "duration": 2019,
    "start_time": "2023-07-23T10:40:35.288Z"
   },
   {
    "duration": 2176,
    "start_time": "2023-07-23T10:40:45.935Z"
   },
   {
    "duration": 2076,
    "start_time": "2023-07-23T10:47:54.092Z"
   },
   {
    "duration": 2076,
    "start_time": "2023-07-23T10:48:09.506Z"
   },
   {
    "duration": 1910,
    "start_time": "2023-07-23T10:48:26.033Z"
   },
   {
    "duration": 813,
    "start_time": "2023-07-23T10:48:46.009Z"
   },
   {
    "duration": 1929,
    "start_time": "2023-07-23T10:48:57.015Z"
   },
   {
    "duration": 815,
    "start_time": "2023-07-23T10:50:07.203Z"
   },
   {
    "duration": 2557,
    "start_time": "2023-07-23T10:50:23.618Z"
   },
   {
    "duration": 2050,
    "start_time": "2023-07-23T10:51:33.670Z"
   },
   {
    "duration": 2093,
    "start_time": "2023-07-23T10:51:48.376Z"
   },
   {
    "duration": 2163,
    "start_time": "2023-07-23T10:51:57.817Z"
   },
   {
    "duration": 2115,
    "start_time": "2023-07-23T10:52:13.892Z"
   },
   {
    "duration": 2127,
    "start_time": "2023-07-23T10:52:28.221Z"
   },
   {
    "duration": 2494,
    "start_time": "2023-07-23T10:52:38.639Z"
   },
   {
    "duration": 2125,
    "start_time": "2023-07-23T10:52:58.996Z"
   },
   {
    "duration": 2058,
    "start_time": "2023-07-23T10:53:10.713Z"
   },
   {
    "duration": 2002,
    "start_time": "2023-07-23T10:53:16.118Z"
   },
   {
    "duration": 2167,
    "start_time": "2023-07-23T10:53:26.705Z"
   },
   {
    "duration": 2494,
    "start_time": "2023-07-23T10:53:39.874Z"
   },
   {
    "duration": 2363,
    "start_time": "2023-07-23T10:53:49.226Z"
   },
   {
    "duration": 2067,
    "start_time": "2023-07-23T10:53:55.237Z"
   },
   {
    "duration": 2020,
    "start_time": "2023-07-23T10:54:09.960Z"
   },
   {
    "duration": 2058,
    "start_time": "2023-07-23T10:54:19.447Z"
   },
   {
    "duration": 2242,
    "start_time": "2023-07-23T10:54:29.546Z"
   },
   {
    "duration": 2344,
    "start_time": "2023-07-23T10:54:44.254Z"
   },
   {
    "duration": 2531,
    "start_time": "2023-07-23T10:54:55.854Z"
   },
   {
    "duration": 2563,
    "start_time": "2023-07-23T10:55:04.879Z"
   },
   {
    "duration": 2394,
    "start_time": "2023-07-23T10:55:17.390Z"
   },
   {
    "duration": 2258,
    "start_time": "2023-07-23T10:55:28.372Z"
   },
   {
    "duration": 2210,
    "start_time": "2023-07-23T10:55:36.812Z"
   },
   {
    "duration": 2129,
    "start_time": "2023-07-23T10:55:49.255Z"
   },
   {
    "duration": 2186,
    "start_time": "2023-07-23T10:56:09.241Z"
   },
   {
    "duration": 2024,
    "start_time": "2023-07-23T10:56:17.454Z"
   },
   {
    "duration": 2113,
    "start_time": "2023-07-23T10:56:30.319Z"
   },
   {
    "duration": 1978,
    "start_time": "2023-07-23T10:56:40.588Z"
   },
   {
    "duration": 2067,
    "start_time": "2023-07-23T10:56:51.274Z"
   },
   {
    "duration": 2203,
    "start_time": "2023-07-23T10:57:00.841Z"
   },
   {
    "duration": 2153,
    "start_time": "2023-07-23T10:57:08.248Z"
   },
   {
    "duration": 2290,
    "start_time": "2023-07-23T10:57:17.522Z"
   },
   {
    "duration": 2166,
    "start_time": "2023-07-23T10:57:24.519Z"
   },
   {
    "duration": 2246,
    "start_time": "2023-07-23T10:57:40.604Z"
   },
   {
    "duration": 2169,
    "start_time": "2023-07-23T10:57:48.118Z"
   },
   {
    "duration": 2263,
    "start_time": "2023-07-23T10:57:54.622Z"
   },
   {
    "duration": 2138,
    "start_time": "2023-07-23T10:58:09.513Z"
   },
   {
    "duration": 2172,
    "start_time": "2023-07-23T10:58:20.501Z"
   },
   {
    "duration": 2234,
    "start_time": "2023-07-23T10:58:28.307Z"
   },
   {
    "duration": 2697,
    "start_time": "2023-07-23T10:58:34.366Z"
   },
   {
    "duration": 2314,
    "start_time": "2023-07-23T10:58:44.876Z"
   },
   {
    "duration": 2194,
    "start_time": "2023-07-23T10:58:55.328Z"
   },
   {
    "duration": 2223,
    "start_time": "2023-07-23T10:59:30.645Z"
   },
   {
    "duration": 2621,
    "start_time": "2023-07-23T11:08:26.809Z"
   },
   {
    "duration": 2264,
    "start_time": "2023-07-23T11:12:18.416Z"
   },
   {
    "duration": 3,
    "start_time": "2023-07-23T11:42:23.503Z"
   },
   {
    "duration": 564,
    "start_time": "2023-07-23T11:42:25.040Z"
   },
   {
    "duration": 2532,
    "start_time": "2023-07-23T11:42:31.912Z"
   },
   {
    "duration": 2565,
    "start_time": "2023-07-23T11:43:12.005Z"
   },
   {
    "duration": 124,
    "start_time": "2023-07-23T11:45:20.458Z"
   },
   {
    "duration": 17955,
    "start_time": "2023-07-23T11:46:31.816Z"
   },
   {
    "duration": 2433,
    "start_time": "2023-07-23T11:46:54.546Z"
   },
   {
    "duration": 135,
    "start_time": "2023-07-23T11:47:24.654Z"
   },
   {
    "duration": 10933,
    "start_time": "2023-07-23T11:47:29.242Z"
   },
   {
    "duration": 2472,
    "start_time": "2023-07-23T11:47:49.659Z"
   },
   {
    "duration": 122,
    "start_time": "2023-07-23T11:49:17.914Z"
   },
   {
    "duration": 1353,
    "start_time": "2023-07-23T11:49:26.802Z"
   },
   {
    "duration": 1454,
    "start_time": "2023-07-23T11:49:39.037Z"
   },
   {
    "duration": 13652,
    "start_time": "2023-07-23T11:54:47.399Z"
   },
   {
    "duration": 6890,
    "start_time": "2023-07-23T11:55:22.724Z"
   },
   {
    "duration": 2692,
    "start_time": "2023-07-23T11:55:39.131Z"
   },
   {
    "duration": 3,
    "start_time": "2023-07-23T11:58:58.250Z"
   },
   {
    "duration": 2487,
    "start_time": "2023-07-23T11:59:00.854Z"
   },
   {
    "duration": 20,
    "start_time": "2023-07-23T11:59:12.915Z"
   },
   {
    "duration": 21,
    "start_time": "2023-07-23T11:59:16.214Z"
   },
   {
    "duration": 22,
    "start_time": "2023-07-23T11:59:27.872Z"
   },
   {
    "duration": 14049,
    "start_time": "2023-07-23T12:03:29.268Z"
   },
   {
    "duration": 123,
    "start_time": "2023-07-23T12:03:43.321Z"
   },
   {
    "duration": 0,
    "start_time": "2023-07-23T12:03:43.447Z"
   },
   {
    "duration": 0,
    "start_time": "2023-07-23T12:03:43.448Z"
   },
   {
    "duration": 0,
    "start_time": "2023-07-23T12:03:43.449Z"
   },
   {
    "duration": 0,
    "start_time": "2023-07-23T12:03:43.451Z"
   },
   {
    "duration": 0,
    "start_time": "2023-07-23T12:03:43.452Z"
   },
   {
    "duration": 0,
    "start_time": "2023-07-23T12:03:43.453Z"
   },
   {
    "duration": 0,
    "start_time": "2023-07-23T12:03:43.455Z"
   },
   {
    "duration": 0,
    "start_time": "2023-07-23T12:03:43.457Z"
   },
   {
    "duration": 0,
    "start_time": "2023-07-23T12:03:43.458Z"
   },
   {
    "duration": 0,
    "start_time": "2023-07-23T12:03:43.460Z"
   },
   {
    "duration": 0,
    "start_time": "2023-07-23T12:03:43.461Z"
   },
   {
    "duration": 0,
    "start_time": "2023-07-23T12:03:43.463Z"
   },
   {
    "duration": 0,
    "start_time": "2023-07-23T12:03:43.465Z"
   },
   {
    "duration": 0,
    "start_time": "2023-07-23T12:03:43.466Z"
   },
   {
    "duration": 0,
    "start_time": "2023-07-23T12:03:43.467Z"
   },
   {
    "duration": 0,
    "start_time": "2023-07-23T12:03:43.468Z"
   },
   {
    "duration": 0,
    "start_time": "2023-07-23T12:03:43.469Z"
   },
   {
    "duration": 0,
    "start_time": "2023-07-23T12:03:43.470Z"
   },
   {
    "duration": 0,
    "start_time": "2023-07-23T12:03:43.471Z"
   },
   {
    "duration": 0,
    "start_time": "2023-07-23T12:03:43.472Z"
   },
   {
    "duration": 0,
    "start_time": "2023-07-23T12:03:43.473Z"
   },
   {
    "duration": 0,
    "start_time": "2023-07-23T12:03:43.474Z"
   },
   {
    "duration": 0,
    "start_time": "2023-07-23T12:03:43.475Z"
   },
   {
    "duration": 0,
    "start_time": "2023-07-23T12:03:43.477Z"
   },
   {
    "duration": 0,
    "start_time": "2023-07-23T12:03:43.478Z"
   },
   {
    "duration": 0,
    "start_time": "2023-07-23T12:03:43.479Z"
   },
   {
    "duration": 0,
    "start_time": "2023-07-23T12:03:43.480Z"
   },
   {
    "duration": 0,
    "start_time": "2023-07-23T12:03:43.481Z"
   },
   {
    "duration": 0,
    "start_time": "2023-07-23T12:03:43.482Z"
   },
   {
    "duration": 0,
    "start_time": "2023-07-23T12:03:43.483Z"
   },
   {
    "duration": 0,
    "start_time": "2023-07-23T12:03:43.484Z"
   },
   {
    "duration": 0,
    "start_time": "2023-07-23T12:03:43.486Z"
   },
   {
    "duration": 0,
    "start_time": "2023-07-23T12:03:43.487Z"
   },
   {
    "duration": 0,
    "start_time": "2023-07-23T12:03:43.488Z"
   },
   {
    "duration": 0,
    "start_time": "2023-07-23T12:03:43.489Z"
   },
   {
    "duration": 12995,
    "start_time": "2023-07-23T12:04:01.510Z"
   },
   {
    "duration": 6830,
    "start_time": "2023-07-23T12:04:14.508Z"
   },
   {
    "duration": 7751,
    "start_time": "2023-07-23T12:04:21.341Z"
   },
   {
    "duration": 8,
    "start_time": "2023-07-23T12:04:29.095Z"
   },
   {
    "duration": 412,
    "start_time": "2023-07-23T12:04:29.107Z"
   },
   {
    "duration": 804,
    "start_time": "2023-07-23T12:04:29.521Z"
   },
   {
    "duration": 4,
    "start_time": "2023-07-23T12:04:30.327Z"
   },
   {
    "duration": 54,
    "start_time": "2023-07-23T12:04:30.332Z"
   },
   {
    "duration": 11,
    "start_time": "2023-07-23T12:04:30.389Z"
   },
   {
    "duration": 10,
    "start_time": "2023-07-23T12:04:30.402Z"
   },
   {
    "duration": 21,
    "start_time": "2023-07-23T12:04:30.414Z"
   },
   {
    "duration": 51,
    "start_time": "2023-07-23T12:04:30.437Z"
   },
   {
    "duration": 269,
    "start_time": "2023-07-23T12:04:30.490Z"
   },
   {
    "duration": 9,
    "start_time": "2023-07-23T12:04:30.762Z"
   },
   {
    "duration": 167,
    "start_time": "2023-07-23T12:04:30.773Z"
   },
   {
    "duration": 540,
    "start_time": "2023-07-23T12:04:30.942Z"
   },
   {
    "duration": 4,
    "start_time": "2023-07-23T12:04:31.484Z"
   },
   {
    "duration": 1256536,
    "start_time": "2023-07-23T12:04:31.489Z"
   },
   {
    "duration": 8,
    "start_time": "2023-07-23T12:25:28.028Z"
   },
   {
    "duration": 607,
    "start_time": "2023-07-23T12:25:28.038Z"
   },
   {
    "duration": 143,
    "start_time": "2023-07-23T12:25:28.647Z"
   },
   {
    "duration": 146,
    "start_time": "2023-07-23T12:25:28.792Z"
   },
   {
    "duration": 2209,
    "start_time": "2023-07-23T12:25:28.940Z"
   },
   {
    "duration": 10,
    "start_time": "2023-07-23T12:25:31.151Z"
   },
   {
    "duration": 3653,
    "start_time": "2023-07-23T12:25:31.162Z"
   },
   {
    "duration": 29696,
    "start_time": "2023-07-23T12:25:34.817Z"
   },
   {
    "duration": 81,
    "start_time": "2023-07-23T12:26:04.515Z"
   },
   {
    "duration": 5,
    "start_time": "2023-07-23T12:26:04.598Z"
   },
   {
    "duration": 14,
    "start_time": "2023-07-23T12:26:04.605Z"
   },
   {
    "duration": 1396520,
    "start_time": "2023-07-23T12:26:04.621Z"
   },
   {
    "duration": 1998099,
    "start_time": "2023-07-23T12:49:21.143Z"
   },
   {
    "duration": 85311,
    "start_time": "2023-07-23T13:22:39.243Z"
   },
   {
    "duration": 5,
    "start_time": "2023-07-23T13:24:04.559Z"
   },
   {
    "duration": 1695201,
    "start_time": "2023-07-23T13:24:04.566Z"
   },
   {
    "duration": 10,
    "start_time": "2023-07-23T13:52:19.769Z"
   },
   {
    "duration": 7,
    "start_time": "2023-07-23T13:52:19.863Z"
   },
   {
    "duration": 43563,
    "start_time": "2023-07-23T13:52:19.873Z"
   }
  ],
  "kernelspec": {
   "display_name": "Python 3 (ipykernel)",
   "language": "python",
   "name": "python3"
  },
  "language_info": {
   "codemirror_mode": {
    "name": "ipython",
    "version": 3
   },
   "file_extension": ".py",
   "mimetype": "text/x-python",
   "name": "python",
   "nbconvert_exporter": "python",
   "pygments_lexer": "ipython3",
   "version": "3.9.5"
  },
  "toc": {
   "base_numbering": 1,
   "nav_menu": {},
   "number_sections": true,
   "sideBar": true,
   "skip_h1_title": true,
   "title_cell": "Содержание",
   "title_sidebar": "Contents",
   "toc_cell": true,
   "toc_position": {
    "height": "calc(100% - 180px)",
    "left": "10px",
    "top": "150px",
    "width": "332.375px"
   },
   "toc_section_display": true,
   "toc_window_display": true
  }
 },
 "nbformat": 4,
 "nbformat_minor": 2
}
