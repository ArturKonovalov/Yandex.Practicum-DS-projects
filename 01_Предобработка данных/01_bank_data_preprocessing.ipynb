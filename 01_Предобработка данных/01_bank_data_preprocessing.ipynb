{
 "cells": [
  {
   "cell_type": "markdown",
   "id": "17f3714b",
   "metadata": {},
   "source": [
    "# Исследование надежности заемщиков"
   ]
  },
  {
   "cell_type": "markdown",
   "id": "44433a71",
   "metadata": {},
   "source": [
    "# Описание проекта\n",
    "\n",
    "Заказчик — кредитный отдел банка. Необходимо выяснить, влияет ли семейное положение и количество детей клиента на факт погашения кредита в срок. Результаты исследования будут учтены при построении модели кредитного скоринга.\n",
    "\n",
    "Входные данные от банка — статистика о платёжеспособности клиентов.\n",
    "\n",
    "# Описание данных\n",
    "\n",
    "- `children` — количество детей в семье\n",
    "- `days_employed` — общий трудовой стаж в днях\n",
    "- `dob_years` — возраст клиента в годах\n",
    "- `education` — уровень образования клиента\n",
    "- `education_id` — идентификатор уровня образования\n",
    "- `family_status` — семейное положение\n",
    "- `family_status_id` — идентификатор семейного положения\n",
    "- `gender` — пол клиента\n",
    "- `income_type` — тип занятости\n",
    "- `debt` — имел ли задолженность по возврату кредитов\n",
    "- `total_income` — ежемесячный доход\n",
    "- `purpose` — цель получения кредита"
   ]
  },
  {
   "cell_type": "markdown",
   "id": "e3eeb98d",
   "metadata": {
    "toc": true
   },
   "source": [
    "<h1>Содержание<span class=\"tocSkip\"></span></h1>\n",
    "<div class=\"toc\"><ul class=\"toc-item\"><li><span><a href=\"#Изучение-данных\" data-toc-modified-id=\"Изучение-данных-1\"><span class=\"toc-item-num\">1&nbsp;&nbsp;</span>Изучение данных</a></span></li><li><span><a href=\"#Предобработка-данных\" data-toc-modified-id=\"Предобработка-данных-2\"><span class=\"toc-item-num\">2&nbsp;&nbsp;</span>Предобработка данных</a></span><ul class=\"toc-item\"><li><span><a href=\"#Удаление-пропусков\" data-toc-modified-id=\"Удаление-пропусков-2.1\"><span class=\"toc-item-num\">2.1&nbsp;&nbsp;</span>Удаление пропусков</a></span></li><li><span><a href=\"#Обработка-аномальных-значений\" data-toc-modified-id=\"Обработка-аномальных-значений-2.2\"><span class=\"toc-item-num\">2.2&nbsp;&nbsp;</span>Обработка аномальных значений</a></span></li><li><span><a href=\"#Удаление-пропусков-(продолжение)\" data-toc-modified-id=\"Удаление-пропусков-(продолжение)-2.3\"><span class=\"toc-item-num\">2.3&nbsp;&nbsp;</span>Удаление пропусков (продолжение)</a></span></li><li><span><a href=\"#Изменение-типов-данных\" data-toc-modified-id=\"Изменение-типов-данных-2.4\"><span class=\"toc-item-num\">2.4&nbsp;&nbsp;</span>Изменение типов данных</a></span></li><li><span><a href=\"#Обработка-дубликатов\" data-toc-modified-id=\"Обработка-дубликатов-2.5\"><span class=\"toc-item-num\">2.5&nbsp;&nbsp;</span>Обработка дубликатов</a></span></li><li><span><a href=\"#Категоризация-данных\" data-toc-modified-id=\"Категоризация-данных-2.6\"><span class=\"toc-item-num\">2.6&nbsp;&nbsp;</span>Категоризация данных</a></span></li></ul></li><li><span><a href=\"#Исследование-данных-и-рассмотрение-вопросов.\" data-toc-modified-id=\"Исследование-данных-и-рассмотрение-вопросов.-3\"><span class=\"toc-item-num\">3&nbsp;&nbsp;</span>Исследование данных и рассмотрение вопросов.</a></span><ul class=\"toc-item\"><li><span><a href=\"#Есть-ли-зависимость-между-количеством-детей-и-возвратом-кредита-в-срок?\" data-toc-modified-id=\"Есть-ли-зависимость-между-количеством-детей-и-возвратом-кредита-в-срок?-3.1\"><span class=\"toc-item-num\">3.1&nbsp;&nbsp;</span>Есть ли зависимость между количеством детей и возвратом кредита в срок?</a></span></li><li><span><a href=\"#Есть-ли-зависимость-между-семейным-положением-и-возвратом-кредита-в-срок?\" data-toc-modified-id=\"Есть-ли-зависимость-между-семейным-положением-и-возвратом-кредита-в-срок?-3.2\"><span class=\"toc-item-num\">3.2&nbsp;&nbsp;</span>Есть ли зависимость между семейным положением и возвратом кредита в срок?</a></span></li><li><span><a href=\"#Есть-ли-зависимость-между-уровнем-дохода-и-возвратом-кредита-в-срок?\" data-toc-modified-id=\"Есть-ли-зависимость-между-уровнем-дохода-и-возвратом-кредита-в-срок?-3.3\"><span class=\"toc-item-num\">3.3&nbsp;&nbsp;</span>Есть ли зависимость между уровнем дохода и возвратом кредита в срок?</a></span></li><li><span><a href=\"#Как-разные-цели-кредита-влияют-на-его-возврат-в-срок?\" data-toc-modified-id=\"Как-разные-цели-кредита-влияют-на-его-возврат-в-срок?-3.4\"><span class=\"toc-item-num\">3.4&nbsp;&nbsp;</span>Как разные цели кредита влияют на его возврат в срок?</a></span></li><li><span><a href=\"#Возможные-причины-появления-пропусков-в-исходных-данных:\" data-toc-modified-id=\"Возможные-причины-появления-пропусков-в-исходных-данных:-3.5\"><span class=\"toc-item-num\">3.5&nbsp;&nbsp;</span>Возможные причины появления пропусков в исходных данных:</a></span></li><li><span><a href=\"#Объяснение-заполнения-пропусков-медианным-значением:\" data-toc-modified-id=\"Объяснение-заполнения-пропусков-медианным-значением:-3.6\"><span class=\"toc-item-num\">3.6&nbsp;&nbsp;</span>Объяснение заполнения пропусков медианным значением:</a></span></li></ul></li><li><span><a href=\"#Общий-вывод.\" data-toc-modified-id=\"Общий-вывод.-4\"><span class=\"toc-item-num\">4&nbsp;&nbsp;</span>Общий вывод.</a></span></li></ul></div>"
   ]
  },
  {
   "cell_type": "markdown",
   "id": "1f5d92c8",
   "metadata": {
    "deletable": false,
    "id": "744d7639"
   },
   "source": [
    "## Изучение данных"
   ]
  },
  {
   "cell_type": "markdown",
   "id": "7ccd13a8",
   "metadata": {
    "deletable": false,
    "id": "e7a14c31"
   },
   "source": [
    "**Импортируем библиотеку pandas и считаем данные из csv-файла в датафрейм:**\n"
   ]
  },
  {
   "cell_type": "code",
   "execution_count": 1,
   "id": "f4f598ff",
   "metadata": {
    "deletable": false,
    "id": "7bcf75c9"
   },
   "outputs": [],
   "source": [
    "import pandas as pd\n",
    "\n",
    "try:\n",
    "    data = pd.read_csv('/datasets/data.csv')\n",
    "except:\n",
    "    data = pd.read_csv('https://code.s3.yandex.net/datasets/data.csv')"
   ]
  },
  {
   "cell_type": "markdown",
   "id": "e0689c0e",
   "metadata": {
    "deletable": false,
    "id": "b8038fe3"
   },
   "source": [
    "**Выведем первые 20 строчек:**"
   ]
  },
  {
   "cell_type": "code",
   "execution_count": 2,
   "id": "38a330c1",
   "metadata": {
    "deletable": false,
    "id": "2a7cab99",
    "outputId": "1a8f3ef2-d323-4ec2-ddf7-89670b5944c4"
   },
   "outputs": [
    {
     "data": {
      "text/html": [
       "<div>\n",
       "<style scoped>\n",
       "    .dataframe tbody tr th:only-of-type {\n",
       "        vertical-align: middle;\n",
       "    }\n",
       "\n",
       "    .dataframe tbody tr th {\n",
       "        vertical-align: top;\n",
       "    }\n",
       "\n",
       "    .dataframe thead th {\n",
       "        text-align: right;\n",
       "    }\n",
       "</style>\n",
       "<table border=\"1\" class=\"dataframe\">\n",
       "  <thead>\n",
       "    <tr style=\"text-align: right;\">\n",
       "      <th></th>\n",
       "      <th>children</th>\n",
       "      <th>days_employed</th>\n",
       "      <th>dob_years</th>\n",
       "      <th>education</th>\n",
       "      <th>education_id</th>\n",
       "      <th>family_status</th>\n",
       "      <th>family_status_id</th>\n",
       "      <th>gender</th>\n",
       "      <th>income_type</th>\n",
       "      <th>debt</th>\n",
       "      <th>total_income</th>\n",
       "      <th>purpose</th>\n",
       "    </tr>\n",
       "  </thead>\n",
       "  <tbody>\n",
       "    <tr>\n",
       "      <th>0</th>\n",
       "      <td>1</td>\n",
       "      <td>-8437.673028</td>\n",
       "      <td>42</td>\n",
       "      <td>высшее</td>\n",
       "      <td>0</td>\n",
       "      <td>женат / замужем</td>\n",
       "      <td>0</td>\n",
       "      <td>F</td>\n",
       "      <td>сотрудник</td>\n",
       "      <td>0</td>\n",
       "      <td>253875.639453</td>\n",
       "      <td>покупка жилья</td>\n",
       "    </tr>\n",
       "    <tr>\n",
       "      <th>1</th>\n",
       "      <td>1</td>\n",
       "      <td>-4024.803754</td>\n",
       "      <td>36</td>\n",
       "      <td>среднее</td>\n",
       "      <td>1</td>\n",
       "      <td>женат / замужем</td>\n",
       "      <td>0</td>\n",
       "      <td>F</td>\n",
       "      <td>сотрудник</td>\n",
       "      <td>0</td>\n",
       "      <td>112080.014102</td>\n",
       "      <td>приобретение автомобиля</td>\n",
       "    </tr>\n",
       "    <tr>\n",
       "      <th>2</th>\n",
       "      <td>0</td>\n",
       "      <td>-5623.422610</td>\n",
       "      <td>33</td>\n",
       "      <td>Среднее</td>\n",
       "      <td>1</td>\n",
       "      <td>женат / замужем</td>\n",
       "      <td>0</td>\n",
       "      <td>M</td>\n",
       "      <td>сотрудник</td>\n",
       "      <td>0</td>\n",
       "      <td>145885.952297</td>\n",
       "      <td>покупка жилья</td>\n",
       "    </tr>\n",
       "    <tr>\n",
       "      <th>3</th>\n",
       "      <td>3</td>\n",
       "      <td>-4124.747207</td>\n",
       "      <td>32</td>\n",
       "      <td>среднее</td>\n",
       "      <td>1</td>\n",
       "      <td>женат / замужем</td>\n",
       "      <td>0</td>\n",
       "      <td>M</td>\n",
       "      <td>сотрудник</td>\n",
       "      <td>0</td>\n",
       "      <td>267628.550329</td>\n",
       "      <td>дополнительное образование</td>\n",
       "    </tr>\n",
       "    <tr>\n",
       "      <th>4</th>\n",
       "      <td>0</td>\n",
       "      <td>340266.072047</td>\n",
       "      <td>53</td>\n",
       "      <td>среднее</td>\n",
       "      <td>1</td>\n",
       "      <td>гражданский брак</td>\n",
       "      <td>1</td>\n",
       "      <td>F</td>\n",
       "      <td>пенсионер</td>\n",
       "      <td>0</td>\n",
       "      <td>158616.077870</td>\n",
       "      <td>сыграть свадьбу</td>\n",
       "    </tr>\n",
       "    <tr>\n",
       "      <th>5</th>\n",
       "      <td>0</td>\n",
       "      <td>-926.185831</td>\n",
       "      <td>27</td>\n",
       "      <td>высшее</td>\n",
       "      <td>0</td>\n",
       "      <td>гражданский брак</td>\n",
       "      <td>1</td>\n",
       "      <td>M</td>\n",
       "      <td>компаньон</td>\n",
       "      <td>0</td>\n",
       "      <td>255763.565419</td>\n",
       "      <td>покупка жилья</td>\n",
       "    </tr>\n",
       "    <tr>\n",
       "      <th>6</th>\n",
       "      <td>0</td>\n",
       "      <td>-2879.202052</td>\n",
       "      <td>43</td>\n",
       "      <td>высшее</td>\n",
       "      <td>0</td>\n",
       "      <td>женат / замужем</td>\n",
       "      <td>0</td>\n",
       "      <td>F</td>\n",
       "      <td>компаньон</td>\n",
       "      <td>0</td>\n",
       "      <td>240525.971920</td>\n",
       "      <td>операции с жильем</td>\n",
       "    </tr>\n",
       "    <tr>\n",
       "      <th>7</th>\n",
       "      <td>0</td>\n",
       "      <td>-152.779569</td>\n",
       "      <td>50</td>\n",
       "      <td>СРЕДНЕЕ</td>\n",
       "      <td>1</td>\n",
       "      <td>женат / замужем</td>\n",
       "      <td>0</td>\n",
       "      <td>M</td>\n",
       "      <td>сотрудник</td>\n",
       "      <td>0</td>\n",
       "      <td>135823.934197</td>\n",
       "      <td>образование</td>\n",
       "    </tr>\n",
       "    <tr>\n",
       "      <th>8</th>\n",
       "      <td>2</td>\n",
       "      <td>-6929.865299</td>\n",
       "      <td>35</td>\n",
       "      <td>ВЫСШЕЕ</td>\n",
       "      <td>0</td>\n",
       "      <td>гражданский брак</td>\n",
       "      <td>1</td>\n",
       "      <td>F</td>\n",
       "      <td>сотрудник</td>\n",
       "      <td>0</td>\n",
       "      <td>95856.832424</td>\n",
       "      <td>на проведение свадьбы</td>\n",
       "    </tr>\n",
       "    <tr>\n",
       "      <th>9</th>\n",
       "      <td>0</td>\n",
       "      <td>-2188.756445</td>\n",
       "      <td>41</td>\n",
       "      <td>среднее</td>\n",
       "      <td>1</td>\n",
       "      <td>женат / замужем</td>\n",
       "      <td>0</td>\n",
       "      <td>M</td>\n",
       "      <td>сотрудник</td>\n",
       "      <td>0</td>\n",
       "      <td>144425.938277</td>\n",
       "      <td>покупка жилья для семьи</td>\n",
       "    </tr>\n",
       "    <tr>\n",
       "      <th>10</th>\n",
       "      <td>2</td>\n",
       "      <td>-4171.483647</td>\n",
       "      <td>36</td>\n",
       "      <td>высшее</td>\n",
       "      <td>0</td>\n",
       "      <td>женат / замужем</td>\n",
       "      <td>0</td>\n",
       "      <td>M</td>\n",
       "      <td>компаньон</td>\n",
       "      <td>0</td>\n",
       "      <td>113943.491460</td>\n",
       "      <td>покупка недвижимости</td>\n",
       "    </tr>\n",
       "    <tr>\n",
       "      <th>11</th>\n",
       "      <td>0</td>\n",
       "      <td>-792.701887</td>\n",
       "      <td>40</td>\n",
       "      <td>среднее</td>\n",
       "      <td>1</td>\n",
       "      <td>женат / замужем</td>\n",
       "      <td>0</td>\n",
       "      <td>F</td>\n",
       "      <td>сотрудник</td>\n",
       "      <td>0</td>\n",
       "      <td>77069.234271</td>\n",
       "      <td>покупка коммерческой недвижимости</td>\n",
       "    </tr>\n",
       "    <tr>\n",
       "      <th>12</th>\n",
       "      <td>0</td>\n",
       "      <td>NaN</td>\n",
       "      <td>65</td>\n",
       "      <td>среднее</td>\n",
       "      <td>1</td>\n",
       "      <td>гражданский брак</td>\n",
       "      <td>1</td>\n",
       "      <td>M</td>\n",
       "      <td>пенсионер</td>\n",
       "      <td>0</td>\n",
       "      <td>NaN</td>\n",
       "      <td>сыграть свадьбу</td>\n",
       "    </tr>\n",
       "    <tr>\n",
       "      <th>13</th>\n",
       "      <td>0</td>\n",
       "      <td>-1846.641941</td>\n",
       "      <td>54</td>\n",
       "      <td>неоконченное высшее</td>\n",
       "      <td>2</td>\n",
       "      <td>женат / замужем</td>\n",
       "      <td>0</td>\n",
       "      <td>F</td>\n",
       "      <td>сотрудник</td>\n",
       "      <td>0</td>\n",
       "      <td>130458.228857</td>\n",
       "      <td>приобретение автомобиля</td>\n",
       "    </tr>\n",
       "    <tr>\n",
       "      <th>14</th>\n",
       "      <td>0</td>\n",
       "      <td>-1844.956182</td>\n",
       "      <td>56</td>\n",
       "      <td>высшее</td>\n",
       "      <td>0</td>\n",
       "      <td>гражданский брак</td>\n",
       "      <td>1</td>\n",
       "      <td>F</td>\n",
       "      <td>компаньон</td>\n",
       "      <td>1</td>\n",
       "      <td>165127.911772</td>\n",
       "      <td>покупка жилой недвижимости</td>\n",
       "    </tr>\n",
       "    <tr>\n",
       "      <th>15</th>\n",
       "      <td>1</td>\n",
       "      <td>-972.364419</td>\n",
       "      <td>26</td>\n",
       "      <td>среднее</td>\n",
       "      <td>1</td>\n",
       "      <td>женат / замужем</td>\n",
       "      <td>0</td>\n",
       "      <td>F</td>\n",
       "      <td>сотрудник</td>\n",
       "      <td>0</td>\n",
       "      <td>116820.904450</td>\n",
       "      <td>строительство собственной недвижимости</td>\n",
       "    </tr>\n",
       "    <tr>\n",
       "      <th>16</th>\n",
       "      <td>0</td>\n",
       "      <td>-1719.934226</td>\n",
       "      <td>35</td>\n",
       "      <td>среднее</td>\n",
       "      <td>1</td>\n",
       "      <td>женат / замужем</td>\n",
       "      <td>0</td>\n",
       "      <td>F</td>\n",
       "      <td>сотрудник</td>\n",
       "      <td>0</td>\n",
       "      <td>289202.704229</td>\n",
       "      <td>недвижимость</td>\n",
       "    </tr>\n",
       "    <tr>\n",
       "      <th>17</th>\n",
       "      <td>0</td>\n",
       "      <td>-2369.999720</td>\n",
       "      <td>33</td>\n",
       "      <td>высшее</td>\n",
       "      <td>0</td>\n",
       "      <td>гражданский брак</td>\n",
       "      <td>1</td>\n",
       "      <td>M</td>\n",
       "      <td>сотрудник</td>\n",
       "      <td>0</td>\n",
       "      <td>90410.586745</td>\n",
       "      <td>строительство недвижимости</td>\n",
       "    </tr>\n",
       "    <tr>\n",
       "      <th>18</th>\n",
       "      <td>0</td>\n",
       "      <td>400281.136913</td>\n",
       "      <td>53</td>\n",
       "      <td>среднее</td>\n",
       "      <td>1</td>\n",
       "      <td>вдовец / вдова</td>\n",
       "      <td>2</td>\n",
       "      <td>F</td>\n",
       "      <td>пенсионер</td>\n",
       "      <td>0</td>\n",
       "      <td>56823.777243</td>\n",
       "      <td>на покупку подержанного автомобиля</td>\n",
       "    </tr>\n",
       "    <tr>\n",
       "      <th>19</th>\n",
       "      <td>0</td>\n",
       "      <td>-10038.818549</td>\n",
       "      <td>48</td>\n",
       "      <td>СРЕДНЕЕ</td>\n",
       "      <td>1</td>\n",
       "      <td>в разводе</td>\n",
       "      <td>3</td>\n",
       "      <td>F</td>\n",
       "      <td>сотрудник</td>\n",
       "      <td>0</td>\n",
       "      <td>242831.107982</td>\n",
       "      <td>на покупку своего автомобиля</td>\n",
       "    </tr>\n",
       "  </tbody>\n",
       "</table>\n",
       "</div>"
      ],
      "text/plain": [
       "    children  days_employed  dob_years            education  education_id  \\\n",
       "0          1   -8437.673028         42               высшее             0   \n",
       "1          1   -4024.803754         36              среднее             1   \n",
       "2          0   -5623.422610         33              Среднее             1   \n",
       "3          3   -4124.747207         32              среднее             1   \n",
       "4          0  340266.072047         53              среднее             1   \n",
       "5          0    -926.185831         27               высшее             0   \n",
       "6          0   -2879.202052         43               высшее             0   \n",
       "7          0    -152.779569         50              СРЕДНЕЕ             1   \n",
       "8          2   -6929.865299         35               ВЫСШЕЕ             0   \n",
       "9          0   -2188.756445         41              среднее             1   \n",
       "10         2   -4171.483647         36               высшее             0   \n",
       "11         0    -792.701887         40              среднее             1   \n",
       "12         0            NaN         65              среднее             1   \n",
       "13         0   -1846.641941         54  неоконченное высшее             2   \n",
       "14         0   -1844.956182         56               высшее             0   \n",
       "15         1    -972.364419         26              среднее             1   \n",
       "16         0   -1719.934226         35              среднее             1   \n",
       "17         0   -2369.999720         33               высшее             0   \n",
       "18         0  400281.136913         53              среднее             1   \n",
       "19         0  -10038.818549         48              СРЕДНЕЕ             1   \n",
       "\n",
       "       family_status  family_status_id gender income_type  debt  \\\n",
       "0    женат / замужем                 0      F   сотрудник     0   \n",
       "1    женат / замужем                 0      F   сотрудник     0   \n",
       "2    женат / замужем                 0      M   сотрудник     0   \n",
       "3    женат / замужем                 0      M   сотрудник     0   \n",
       "4   гражданский брак                 1      F   пенсионер     0   \n",
       "5   гражданский брак                 1      M   компаньон     0   \n",
       "6    женат / замужем                 0      F   компаньон     0   \n",
       "7    женат / замужем                 0      M   сотрудник     0   \n",
       "8   гражданский брак                 1      F   сотрудник     0   \n",
       "9    женат / замужем                 0      M   сотрудник     0   \n",
       "10   женат / замужем                 0      M   компаньон     0   \n",
       "11   женат / замужем                 0      F   сотрудник     0   \n",
       "12  гражданский брак                 1      M   пенсионер     0   \n",
       "13   женат / замужем                 0      F   сотрудник     0   \n",
       "14  гражданский брак                 1      F   компаньон     1   \n",
       "15   женат / замужем                 0      F   сотрудник     0   \n",
       "16   женат / замужем                 0      F   сотрудник     0   \n",
       "17  гражданский брак                 1      M   сотрудник     0   \n",
       "18    вдовец / вдова                 2      F   пенсионер     0   \n",
       "19         в разводе                 3      F   сотрудник     0   \n",
       "\n",
       "     total_income                                 purpose  \n",
       "0   253875.639453                           покупка жилья  \n",
       "1   112080.014102                 приобретение автомобиля  \n",
       "2   145885.952297                           покупка жилья  \n",
       "3   267628.550329              дополнительное образование  \n",
       "4   158616.077870                         сыграть свадьбу  \n",
       "5   255763.565419                           покупка жилья  \n",
       "6   240525.971920                       операции с жильем  \n",
       "7   135823.934197                             образование  \n",
       "8    95856.832424                   на проведение свадьбы  \n",
       "9   144425.938277                 покупка жилья для семьи  \n",
       "10  113943.491460                    покупка недвижимости  \n",
       "11   77069.234271       покупка коммерческой недвижимости  \n",
       "12            NaN                         сыграть свадьбу  \n",
       "13  130458.228857                 приобретение автомобиля  \n",
       "14  165127.911772              покупка жилой недвижимости  \n",
       "15  116820.904450  строительство собственной недвижимости  \n",
       "16  289202.704229                            недвижимость  \n",
       "17   90410.586745              строительство недвижимости  \n",
       "18   56823.777243      на покупку подержанного автомобиля  \n",
       "19  242831.107982            на покупку своего автомобиля  "
      ]
     },
     "execution_count": 2,
     "metadata": {},
     "output_type": "execute_result"
    }
   ],
   "source": [
    "data.head(20)"
   ]
  },
  {
   "cell_type": "markdown",
   "id": "d94fa4c4",
   "metadata": {
    "deletable": false,
    "id": "1c12e233"
   },
   "source": [
    "**Посмотрим основную информацию о датафрейме с помощью метода `info()`:**"
   ]
  },
  {
   "cell_type": "code",
   "execution_count": 3,
   "id": "76f8e864",
   "metadata": {
    "deletable": false,
    "id": "2b757bca",
    "outputId": "15376089-8dad-46c9-b520-c05248d43158"
   },
   "outputs": [
    {
     "name": "stdout",
     "output_type": "stream",
     "text": [
      "<class 'pandas.core.frame.DataFrame'>\n",
      "RangeIndex: 21525 entries, 0 to 21524\n",
      "Data columns (total 12 columns):\n",
      " #   Column            Non-Null Count  Dtype  \n",
      "---  ------            --------------  -----  \n",
      " 0   children          21525 non-null  int64  \n",
      " 1   days_employed     19351 non-null  float64\n",
      " 2   dob_years         21525 non-null  int64  \n",
      " 3   education         21525 non-null  object \n",
      " 4   education_id      21525 non-null  int64  \n",
      " 5   family_status     21525 non-null  object \n",
      " 6   family_status_id  21525 non-null  int64  \n",
      " 7   gender            21525 non-null  object \n",
      " 8   income_type       21525 non-null  object \n",
      " 9   debt              21525 non-null  int64  \n",
      " 10  total_income      19351 non-null  float64\n",
      " 11  purpose           21525 non-null  object \n",
      "dtypes: float64(2), int64(5), object(5)\n",
      "memory usage: 2.0+ MB\n"
     ]
    }
   ],
   "source": [
    "data.info()"
   ]
  },
  {
   "cell_type": "markdown",
   "id": "742320b2",
   "metadata": {
    "deletable": false,
    "id": "333ec665"
   },
   "source": [
    "## Предобработка данных"
   ]
  },
  {
   "cell_type": "markdown",
   "id": "0d53f44f",
   "metadata": {
    "deletable": false,
    "id": "02d92d53"
   },
   "source": [
    "### Удаление пропусков"
   ]
  },
  {
   "cell_type": "markdown",
   "id": "9650157f",
   "metadata": {
    "deletable": false,
    "id": "cd84967c"
   },
   "source": [
    "**Рассмотрим количество пропущенных значений для каждого столбца:**"
   ]
  },
  {
   "cell_type": "code",
   "execution_count": 4,
   "id": "2608700b",
   "metadata": {
    "deletable": false,
    "id": "7f9b2309",
    "outputId": "81f4d817-781c-465c-ed15-91ce4446810d"
   },
   "outputs": [
    {
     "data": {
      "text/plain": [
       "children               0\n",
       "days_employed       2174\n",
       "dob_years              0\n",
       "education              0\n",
       "education_id           0\n",
       "family_status          0\n",
       "family_status_id       0\n",
       "gender                 0\n",
       "income_type            0\n",
       "debt                   0\n",
       "total_income        2174\n",
       "purpose                0\n",
       "dtype: int64"
      ]
     },
     "execution_count": 4,
     "metadata": {},
     "output_type": "execute_result"
    }
   ],
   "source": [
    "data.isna().sum()"
   ]
  },
  {
   "cell_type": "markdown",
   "id": "c87943b9",
   "metadata": {
    "deletable": false,
    "id": "db86e27b"
   },
   "source": [
    "**Столбец с пропущенными значениями — `total_income` — хранит данные о доходах.**\n",
    "\n",
    "**Т.к на сумму дохода сильнее всего влияет тип занятости, поэтому заполнять пропуски в этом столбце будем медианным значением по каждому типу из столбца `income_type`.  Пропуски в столбце `days_employed` обработаем на следующем этапе.**"
   ]
  },
  {
   "cell_type": "code",
   "execution_count": 32,
   "id": "3b40c871",
   "metadata": {
    "deletable": false,
    "id": "42006a93"
   },
   "outputs": [],
   "source": [
    "for d in data['income_type'].unique():\n",
    "    data.loc[(data['income_type'] == d) & (data['total_income'].isna()), 'total_income'] = \\\n",
    "    data.loc[(data['income_type'] == d), 'total_income'].median()"
   ]
  },
  {
   "cell_type": "markdown",
   "id": "ba571548",
   "metadata": {
    "deletable": false,
    "editable": false,
    "id": "89da5ece"
   },
   "source": [
    "### Обработка аномальных значений"
   ]
  },
  {
   "cell_type": "markdown",
   "id": "13212ca3",
   "metadata": {
    "deletable": false,
    "id": "57964554"
   },
   "source": [
    "**В данных встречаются артефакты — отрицательное количество дней трудового стажа в столбце `days_employed`. \n",
    "Заменим все отрицательные значения положительными с помощью метода `abs()`.**"
   ]
  },
  {
   "cell_type": "code",
   "execution_count": 6,
   "id": "a018cb03",
   "metadata": {
    "deletable": false,
    "id": "f6f055bf"
   },
   "outputs": [],
   "source": [
    "data['days_employed'] = data['days_employed'].abs()"
   ]
  },
  {
   "cell_type": "markdown",
   "id": "e37dafb6",
   "metadata": {
    "deletable": false,
    "id": "6107dd2f"
   },
   "source": [
    "**Для каждого типа занятости выведем медианное значение трудового стажа `days_employed` в днях:**"
   ]
  },
  {
   "cell_type": "code",
   "execution_count": 7,
   "id": "f6a47271",
   "metadata": {
    "deletable": false,
    "id": "85a5faf6",
    "outputId": "801ef80e-522b-4668-f34e-565af7432bcf"
   },
   "outputs": [
    {
     "data": {
      "text/plain": [
       "income_type\n",
       "безработный        366413.652744\n",
       "в декрете            3296.759962\n",
       "госслужащий          2689.368353\n",
       "компаньон            1547.382223\n",
       "пенсионер          365213.306266\n",
       "предприниматель       520.848083\n",
       "сотрудник            1574.202821\n",
       "студент               578.751554\n",
       "Name: days_employed, dtype: float64"
      ]
     },
     "execution_count": 7,
     "metadata": {},
     "output_type": "execute_result"
    }
   ],
   "source": [
    "data.groupby('income_type')['days_employed'].agg('median')"
   ]
  },
  {
   "cell_type": "markdown",
   "id": "0c04ae97",
   "metadata": {
    "deletable": false,
    "id": "38d1a030"
   },
   "source": [
    "У двух типов (безработные и пенсионеры) видны аномально большие значения. Т.к этот столбец не понадобится нам для исследования, оставим их как есть."
   ]
  },
  {
   "cell_type": "markdown",
   "id": "cabb4288",
   "metadata": {
    "deletable": false,
    "id": "d8a9f147"
   },
   "source": [
    "**Выведем перечень уникальных значений столбца `children`.**"
   ]
  },
  {
   "cell_type": "code",
   "execution_count": 8,
   "id": "5454c184",
   "metadata": {
    "deletable": false,
    "id": "ef5056eb",
    "outputId": "6975b15c-7f95-4697-d16d-a0c79b657b03"
   },
   "outputs": [
    {
     "data": {
      "text/plain": [
       "array([ 1,  0,  3,  2, -1,  4, 20,  5])"
      ]
     },
     "execution_count": 8,
     "metadata": {},
     "output_type": "execute_result"
    }
   ],
   "source": [
    "data['children'].unique()"
   ]
  },
  {
   "cell_type": "markdown",
   "id": "4a34ab71",
   "metadata": {
    "deletable": false,
    "id": "40b9ebf2"
   },
   "source": [
    "**В столбце `children` есть два аномальных значения. Удалим строки, в которых встречаются такие артефакты:**"
   ]
  },
  {
   "cell_type": "code",
   "execution_count": 9,
   "id": "ed740cbd",
   "metadata": {
    "deletable": false,
    "id": "3ff9801d"
   },
   "outputs": [],
   "source": [
    "data = data[(data['children'] != -1) & (data['children'] != 20)]"
   ]
  },
  {
   "cell_type": "markdown",
   "id": "c097f14a",
   "metadata": {
    "deletable": false,
    "id": "bbc4d0ce"
   },
   "source": [
    "**Произведем проверку после удаления:**"
   ]
  },
  {
   "cell_type": "code",
   "execution_count": 10,
   "id": "7d1ce0ba",
   "metadata": {
    "deletable": false,
    "id": "ad4fa8b7",
    "outputId": "b2097101-d49d-44d9-901b-32a65c9463d1"
   },
   "outputs": [
    {
     "data": {
      "text/plain": [
       "array([1, 0, 3, 2, 4, 5])"
      ]
     },
     "execution_count": 10,
     "metadata": {},
     "output_type": "execute_result"
    }
   ],
   "source": [
    "data['children'].unique()"
   ]
  },
  {
   "cell_type": "markdown",
   "id": "d4e46d4f",
   "metadata": {
    "deletable": false,
    "id": "75440b63"
   },
   "source": [
    "### Удаление пропусков (продолжение)"
   ]
  },
  {
   "cell_type": "markdown",
   "id": "6b3439e7",
   "metadata": {
    "deletable": false,
    "id": "f4ea573f"
   },
   "source": [
    "**Заполним пропуски в столбце `days_employed` медианными значениями каждого типа занятости `income_type`:**"
   ]
  },
  {
   "cell_type": "code",
   "execution_count": 11,
   "id": "c6145c10",
   "metadata": {
    "deletable": false,
    "id": "af6b1a7e"
   },
   "outputs": [],
   "source": [
    "for d in data['income_type'].unique():\n",
    "    data.loc[(data['income_type'] == d) & (data['days_employed'].isna()), 'days_employed'] = \\\n",
    "    data.loc[(data['income_type'] == d), 'days_employed'].median()"
   ]
  },
  {
   "cell_type": "markdown",
   "id": "92f083fd",
   "metadata": {
    "deletable": false,
    "id": "2753f40d"
   },
   "source": [
    "**Сделаем проверку:**"
   ]
  },
  {
   "cell_type": "code",
   "execution_count": 12,
   "id": "dfc7cc30",
   "metadata": {
    "deletable": false,
    "id": "55f78bc2",
    "outputId": "8da1e4e1-358e-4e87-98c9-f261bce0a7b2"
   },
   "outputs": [
    {
     "data": {
      "text/plain": [
       "children            0\n",
       "days_employed       0\n",
       "dob_years           0\n",
       "education           0\n",
       "education_id        0\n",
       "family_status       0\n",
       "family_status_id    0\n",
       "gender              0\n",
       "income_type         0\n",
       "debt                0\n",
       "total_income        0\n",
       "purpose             0\n",
       "dtype: int64"
      ]
     },
     "execution_count": 12,
     "metadata": {},
     "output_type": "execute_result"
    }
   ],
   "source": [
    "data.isna().sum()"
   ]
  },
  {
   "cell_type": "markdown",
   "id": "62d5cbe6",
   "metadata": {
    "deletable": false,
    "editable": false,
    "id": "ddc81e43"
   },
   "source": [
    "### Изменение типов данных"
   ]
  },
  {
   "cell_type": "markdown",
   "id": "150ecd41",
   "metadata": {
    "deletable": false,
    "id": "42d19d24"
   },
   "source": [
    "**Заменим вещественный тип данных в столбце `total_income` на целочисленный с помощью метода `astype()`:**"
   ]
  },
  {
   "cell_type": "code",
   "execution_count": 13,
   "id": "cfecf63b",
   "metadata": {
    "deletable": false,
    "id": "920b65ad"
   },
   "outputs": [],
   "source": [
    "data['total_income'] = data['total_income'].astype(int)"
   ]
  },
  {
   "cell_type": "markdown",
   "id": "172dfc56",
   "metadata": {
    "deletable": false,
    "editable": false,
    "id": "80c420ba"
   },
   "source": [
    "### Обработка дубликатов"
   ]
  },
  {
   "cell_type": "markdown",
   "id": "016d33cb",
   "metadata": {
    "deletable": false
   },
   "source": [
    "**Обработаем неявные дубликаты, т.к в столбце `education` есть одни и те же значения, но записанные по-разному: с использованием заглавных и строчных букв. Приведем их к нижнему регистру:**"
   ]
  },
  {
   "cell_type": "code",
   "execution_count": 14,
   "id": "96b4cba6",
   "metadata": {
    "deletable": false
   },
   "outputs": [],
   "source": [
    "data['education'] = data['education'].str.lower()"
   ]
  },
  {
   "cell_type": "markdown",
   "id": "43282f45",
   "metadata": {
    "deletable": false,
    "id": "dc587695"
   },
   "source": [
    "**Проверим количество строк-дубликатов, если такие останутся, то удалим их:**"
   ]
  },
  {
   "cell_type": "code",
   "execution_count": 15,
   "id": "0a63c3c8",
   "metadata": {
    "deletable": false,
    "id": "3ee445e4",
    "outputId": "9684deba-1934-42d1-99e1-cda61740f822"
   },
   "outputs": [
    {
     "data": {
      "text/plain": [
       "71"
      ]
     },
     "execution_count": 15,
     "metadata": {},
     "output_type": "execute_result"
    }
   ],
   "source": [
    "data.duplicated().sum()"
   ]
  },
  {
   "cell_type": "code",
   "execution_count": 16,
   "id": "09564a6d",
   "metadata": {
    "deletable": false,
    "id": "8575fe05"
   },
   "outputs": [],
   "source": [
    "data = data.drop_duplicates()"
   ]
  },
  {
   "cell_type": "markdown",
   "id": "dad041ec",
   "metadata": {
    "deletable": false,
    "editable": false,
    "id": "9904cf55"
   },
   "source": [
    "### Категоризация данных"
   ]
  },
  {
   "cell_type": "markdown",
   "id": "924f4459",
   "metadata": {
    "deletable": false,
    "id": "72fcc8a2"
   },
   "source": [
    "**На основании диапазонов, указанных ниже, создадим столбец `total_income_category` с категориями:**\n",
    "\n",
    "- 0–30000 — `'E'`;\n",
    "- 30001–50000 — `'D'`;\n",
    "- 50001–200000 — `'C'`;\n",
    "- 200001–1000000 — `'B'`;\n",
    "- 1000001 и выше — `'A'`.\n",
    "\n",
    "\n",
    "**Напишем собственную функцию с именем `categorize_income()`:**"
   ]
  },
  {
   "cell_type": "code",
   "execution_count": 17,
   "id": "db582480",
   "metadata": {
    "deletable": false,
    "id": "e1771346"
   },
   "outputs": [],
   "source": [
    "def categorize_income(income):\n",
    "    try:\n",
    "        if 0 <= income <= 30000:\n",
    "            return 'E'\n",
    "        elif 30001 <= income <= 50000:\n",
    "            return 'D'\n",
    "        elif 50001 <= income <= 200000:\n",
    "            return 'C'\n",
    "        elif 200001 <= income <= 1000000:\n",
    "            return 'B'\n",
    "        elif income >= 1000001:\n",
    "            return 'A'\n",
    "    except:\n",
    "        pass"
   ]
  },
  {
   "cell_type": "code",
   "execution_count": 18,
   "id": "f2b15347",
   "metadata": {
    "deletable": false,
    "id": "d5f3586d"
   },
   "outputs": [],
   "source": [
    "data['total_income_category'] = data['total_income'].apply(categorize_income)"
   ]
  },
  {
   "cell_type": "markdown",
   "id": "4db8da23",
   "metadata": {
    "deletable": false,
    "id": "dde49b5c"
   },
   "source": [
    "**Выведем перечень уникальных целей взятия кредита из столбца `purpose`.**"
   ]
  },
  {
   "cell_type": "code",
   "execution_count": 19,
   "id": "18a1e2c1",
   "metadata": {
    "deletable": false,
    "id": "f67ce9b3",
    "outputId": "673c12d9-7d7e-4ae0-9812-c622c89dd244"
   },
   "outputs": [
    {
     "data": {
      "text/plain": [
       "array(['покупка жилья', 'приобретение автомобиля',\n",
       "       'дополнительное образование', 'сыграть свадьбу',\n",
       "       'операции с жильем', 'образование', 'на проведение свадьбы',\n",
       "       'покупка жилья для семьи', 'покупка недвижимости',\n",
       "       'покупка коммерческой недвижимости', 'покупка жилой недвижимости',\n",
       "       'строительство собственной недвижимости', 'недвижимость',\n",
       "       'строительство недвижимости', 'на покупку подержанного автомобиля',\n",
       "       'на покупку своего автомобиля',\n",
       "       'операции с коммерческой недвижимостью',\n",
       "       'строительство жилой недвижимости', 'жилье',\n",
       "       'операции со своей недвижимостью', 'автомобили',\n",
       "       'заняться образованием', 'сделка с подержанным автомобилем',\n",
       "       'получение образования', 'автомобиль', 'свадьба',\n",
       "       'получение дополнительного образования', 'покупка своего жилья',\n",
       "       'операции с недвижимостью', 'получение высшего образования',\n",
       "       'свой автомобиль', 'сделка с автомобилем',\n",
       "       'профильное образование', 'высшее образование',\n",
       "       'покупка жилья для сдачи', 'на покупку автомобиля', 'ремонт жилью',\n",
       "       'заняться высшим образованием'], dtype=object)"
      ]
     },
     "execution_count": 19,
     "metadata": {},
     "output_type": "execute_result"
    }
   ],
   "source": [
    "data['purpose'].unique()"
   ]
  },
  {
   "cell_type": "markdown",
   "id": "efffb7b4",
   "metadata": {
    "deletable": false,
    "id": "85d0aef0"
   },
   "source": [
    "**Создадим функцию, которая на основании данных из столбца `purpose` сформирует новый столбец `purpose_category`, в который войдут следующие категории:**\n",
    "\n",
    "- `'операции с автомобилем'`,\n",
    "- `'операции с недвижимостью'`,\n",
    "- `'проведение свадьбы'`,\n",
    "- `'получение образования'`."
   ]
  },
  {
   "cell_type": "code",
   "execution_count": 20,
   "id": "e9d167da",
   "metadata": {
    "deletable": false,
    "id": "e149fab4"
   },
   "outputs": [],
   "source": [
    "def categorize_purpose(row):\n",
    "    try:\n",
    "        if 'автом' in row:\n",
    "            return 'операции с автомобилем'\n",
    "        elif 'жил' in row or 'недвиж' in row:\n",
    "            return 'операции с недвижимостью'\n",
    "        elif 'свад' in row:\n",
    "            return 'проведение свадьбы'\n",
    "        elif 'образов' in row:\n",
    "            return 'получение образования'\n",
    "    except:\n",
    "        return 'нет категории'"
   ]
  },
  {
   "cell_type": "code",
   "execution_count": 21,
   "id": "ee9c6d0a",
   "metadata": {
    "deletable": false,
    "id": "bf36e69b"
   },
   "outputs": [],
   "source": [
    "data['purpose_category'] = data['purpose'].apply(categorize_purpose)"
   ]
  },
  {
   "cell_type": "markdown",
   "id": "02c1dcfc",
   "metadata": {
    "deletable": false,
    "id": "09b242bf"
   },
   "source": [
    "## Исследование данных и рассмотрение вопросов."
   ]
  },
  {
   "cell_type": "markdown",
   "id": "e13d5c4b",
   "metadata": {
    "id": "c5d66278"
   },
   "source": [
    "### Есть ли зависимость между количеством детей и возвратом кредита в срок?"
   ]
  },
  {
   "cell_type": "markdown",
   "id": "23abe4ed",
   "metadata": {
    "id": "2cacfc4a"
   },
   "source": [
    "**Создадим сводную таблицу и поместим ее в переменную `depend_debt_children` при помощи метода `pivot_table()`**\n",
    "- *Аргументы метода:*\n",
    "- `index` - столбец, по которым группируем данные\n",
    "- `values` - значения таблицы\n",
    "- `aggfunc` - функции, применяемые к значениям\n",
    "\n",
    "*К `aggfunc` ,в виде аргументов, будем применять следующие методы:*\n",
    "- `count` : для подсчета всех выданных кредитов\n",
    "- `sum` : для подсчета всех должников\n",
    "- `mean` : для подсчета доли должников  ко всем выданным кредитам"
   ]
  },
  {
   "cell_type": "code",
   "execution_count": 22,
   "id": "3cec6642",
   "metadata": {},
   "outputs": [
    {
     "data": {
      "text/html": [
       "<div>\n",
       "<style scoped>\n",
       "    .dataframe tbody tr th:only-of-type {\n",
       "        vertical-align: middle;\n",
       "    }\n",
       "\n",
       "    .dataframe tbody tr th {\n",
       "        vertical-align: top;\n",
       "    }\n",
       "\n",
       "    .dataframe thead tr th {\n",
       "        text-align: left;\n",
       "    }\n",
       "\n",
       "    .dataframe thead tr:last-of-type th {\n",
       "        text-align: right;\n",
       "    }\n",
       "</style>\n",
       "<table border=\"1\" class=\"dataframe\">\n",
       "  <thead>\n",
       "    <tr>\n",
       "      <th></th>\n",
       "      <th>count</th>\n",
       "      <th>sum</th>\n",
       "      <th>mean</th>\n",
       "    </tr>\n",
       "    <tr>\n",
       "      <th></th>\n",
       "      <th>debt</th>\n",
       "      <th>debt</th>\n",
       "      <th>debt</th>\n",
       "    </tr>\n",
       "    <tr>\n",
       "      <th>children</th>\n",
       "      <th></th>\n",
       "      <th></th>\n",
       "      <th></th>\n",
       "    </tr>\n",
       "  </thead>\n",
       "  <tbody>\n",
       "    <tr>\n",
       "      <th>0</th>\n",
       "      <td>14091</td>\n",
       "      <td>1063</td>\n",
       "      <td>0.075438</td>\n",
       "    </tr>\n",
       "    <tr>\n",
       "      <th>1</th>\n",
       "      <td>4808</td>\n",
       "      <td>444</td>\n",
       "      <td>0.092346</td>\n",
       "    </tr>\n",
       "    <tr>\n",
       "      <th>2</th>\n",
       "      <td>2052</td>\n",
       "      <td>194</td>\n",
       "      <td>0.094542</td>\n",
       "    </tr>\n",
       "    <tr>\n",
       "      <th>3</th>\n",
       "      <td>330</td>\n",
       "      <td>27</td>\n",
       "      <td>0.081818</td>\n",
       "    </tr>\n",
       "    <tr>\n",
       "      <th>4</th>\n",
       "      <td>41</td>\n",
       "      <td>4</td>\n",
       "      <td>0.097561</td>\n",
       "    </tr>\n",
       "    <tr>\n",
       "      <th>5</th>\n",
       "      <td>9</td>\n",
       "      <td>0</td>\n",
       "      <td>0.000000</td>\n",
       "    </tr>\n",
       "  </tbody>\n",
       "</table>\n",
       "</div>"
      ],
      "text/plain": [
       "          count   sum      mean\n",
       "           debt  debt      debt\n",
       "children                       \n",
       "0         14091  1063  0.075438\n",
       "1          4808   444  0.092346\n",
       "2          2052   194  0.094542\n",
       "3           330    27  0.081818\n",
       "4            41     4  0.097561\n",
       "5             9     0  0.000000"
      ]
     },
     "execution_count": 22,
     "metadata": {},
     "output_type": "execute_result"
    }
   ],
   "source": [
    "depend_debt_children = data.pivot_table(index=['children'], values='debt', aggfunc=['count', 'sum', 'mean'])\n",
    "depend_debt_children"
   ]
  },
  {
   "cell_type": "markdown",
   "id": "caa18371",
   "metadata": {},
   "source": [
    "**Переименуем получившиеся столбцы в более понятные названия при помощи метода `columns`:**"
   ]
  },
  {
   "cell_type": "code",
   "execution_count": 23,
   "id": "cdf2d06f",
   "metadata": {},
   "outputs": [
    {
     "data": {
      "text/html": [
       "<div>\n",
       "<style scoped>\n",
       "    .dataframe tbody tr th:only-of-type {\n",
       "        vertical-align: middle;\n",
       "    }\n",
       "\n",
       "    .dataframe tbody tr th {\n",
       "        vertical-align: top;\n",
       "    }\n",
       "\n",
       "    .dataframe thead th {\n",
       "        text-align: right;\n",
       "    }\n",
       "</style>\n",
       "<table border=\"1\" class=\"dataframe\">\n",
       "  <thead>\n",
       "    <tr style=\"text-align: right;\">\n",
       "      <th></th>\n",
       "      <th>Всего выдано кредитов</th>\n",
       "      <th>Всего должников</th>\n",
       "      <th>Доля должников</th>\n",
       "    </tr>\n",
       "    <tr>\n",
       "      <th>children</th>\n",
       "      <th></th>\n",
       "      <th></th>\n",
       "      <th></th>\n",
       "    </tr>\n",
       "  </thead>\n",
       "  <tbody>\n",
       "    <tr>\n",
       "      <th>0</th>\n",
       "      <td>14091</td>\n",
       "      <td>1063</td>\n",
       "      <td>0.075438</td>\n",
       "    </tr>\n",
       "    <tr>\n",
       "      <th>1</th>\n",
       "      <td>4808</td>\n",
       "      <td>444</td>\n",
       "      <td>0.092346</td>\n",
       "    </tr>\n",
       "    <tr>\n",
       "      <th>2</th>\n",
       "      <td>2052</td>\n",
       "      <td>194</td>\n",
       "      <td>0.094542</td>\n",
       "    </tr>\n",
       "    <tr>\n",
       "      <th>3</th>\n",
       "      <td>330</td>\n",
       "      <td>27</td>\n",
       "      <td>0.081818</td>\n",
       "    </tr>\n",
       "    <tr>\n",
       "      <th>4</th>\n",
       "      <td>41</td>\n",
       "      <td>4</td>\n",
       "      <td>0.097561</td>\n",
       "    </tr>\n",
       "    <tr>\n",
       "      <th>5</th>\n",
       "      <td>9</td>\n",
       "      <td>0</td>\n",
       "      <td>0.000000</td>\n",
       "    </tr>\n",
       "  </tbody>\n",
       "</table>\n",
       "</div>"
      ],
      "text/plain": [
       "          Всего выдано кредитов  Всего должников  Доля должников\n",
       "children                                                        \n",
       "0                         14091             1063        0.075438\n",
       "1                          4808              444        0.092346\n",
       "2                          2052              194        0.094542\n",
       "3                           330               27        0.081818\n",
       "4                            41                4        0.097561\n",
       "5                             9                0        0.000000"
      ]
     },
     "execution_count": 23,
     "metadata": {},
     "output_type": "execute_result"
    }
   ],
   "source": [
    "depend_debt_children.columns = ['Всего выдано кредитов', 'Всего должников', 'Доля должников']\n",
    "depend_debt_children"
   ]
  },
  {
   "cell_type": "markdown",
   "id": "df3d4182",
   "metadata": {},
   "source": [
    "**Построим наглядную визуализацию зависимости доли должников от количества детей** \n",
    "\n",
    "*Выведем данные при помощи библиотеки `seaborn` и метода `barplot()`:*"
   ]
  },
  {
   "cell_type": "code",
   "execution_count": 24,
   "id": "b1fa6972",
   "metadata": {},
   "outputs": [
    {
     "data": {
      "text/plain": [
       "<AxesSubplot:xlabel='children', ylabel='debt'>"
      ]
     },
     "execution_count": 24,
     "metadata": {},
     "output_type": "execute_result"
    },
    {
     "data": {
      "image/png": "[encoded data removed]",
      "text/plain": [
       "<Figure size 432x288 with 1 Axes>"
      ]
     },
     "metadata": {
      "needs_background": "light"
     },
     "output_type": "display_data"
    }
   ],
   "source": [
    "import seaborn as sn\n",
    "sn.barplot(x=data['children'], y=data['debt'])"
   ]
  },
  {
   "cell_type": "markdown",
   "id": "c3c07318",
   "metadata": {
    "deletable": false,
    "id": "3a6b99ec"
   },
   "source": [
    "**Вывод:** \n",
    "\n",
    "- Исходя из полученных результатов глобально можно сказать, что должников, не имеющих детей, меньше, чем у тех, у кого они есть.\n",
    "\n",
    "- Правда, есть исключение : те, кто имеет `5-х` детей - склонны возвращать кредит в срок. (доля должников равна `0`)\n",
    "\n",
    "- Также интересным результатом стало то, что доля должников, имеющих `3-х` детей, несколько меньше по сравнению с другими группами должников, имеющих `1-го` , `2-х` или `4-х` иждевенцев.\n",
    "\n",
    "- Насколько последний вывод статистически заничим - пока сказать сложно, но в дальнейшем можно провести дополнительную оценку этого фактора."
   ]
  },
  {
   "cell_type": "markdown",
   "id": "4938568f",
   "metadata": {
    "deletable": false,
    "id": "97be82ca"
   },
   "source": [
    "### Есть ли зависимость между семейным положением и возвратом кредита в срок?"
   ]
  },
  {
   "cell_type": "markdown",
   "id": "7853dc80",
   "metadata": {
    "deletable": false,
    "id": "dc3f7ee8"
   },
   "source": [
    "**По аналогии с предыдущим пунктом создадим сводную таблицу и поместим ее в переменную `depend_debt_family`.** \n",
    "\n",
    "**И сразу переименуем столбцы:**"
   ]
  },
  {
   "cell_type": "code",
   "execution_count": 25,
   "id": "7f10027b",
   "metadata": {},
   "outputs": [
    {
     "data": {
      "text/html": [
       "<div>\n",
       "<style scoped>\n",
       "    .dataframe tbody tr th:only-of-type {\n",
       "        vertical-align: middle;\n",
       "    }\n",
       "\n",
       "    .dataframe tbody tr th {\n",
       "        vertical-align: top;\n",
       "    }\n",
       "\n",
       "    .dataframe thead th {\n",
       "        text-align: right;\n",
       "    }\n",
       "</style>\n",
       "<table border=\"1\" class=\"dataframe\">\n",
       "  <thead>\n",
       "    <tr style=\"text-align: right;\">\n",
       "      <th></th>\n",
       "      <th>Всего выдано кредитов</th>\n",
       "      <th>Всего должников</th>\n",
       "      <th>Доля должников</th>\n",
       "    </tr>\n",
       "    <tr>\n",
       "      <th>family_status</th>\n",
       "      <th></th>\n",
       "      <th></th>\n",
       "      <th></th>\n",
       "    </tr>\n",
       "  </thead>\n",
       "  <tbody>\n",
       "    <tr>\n",
       "      <th>Не женат / не замужем</th>\n",
       "      <td>2796</td>\n",
       "      <td>273</td>\n",
       "      <td>0.097639</td>\n",
       "    </tr>\n",
       "    <tr>\n",
       "      <th>в разводе</th>\n",
       "      <td>1189</td>\n",
       "      <td>84</td>\n",
       "      <td>0.070648</td>\n",
       "    </tr>\n",
       "    <tr>\n",
       "      <th>вдовец / вдова</th>\n",
       "      <td>951</td>\n",
       "      <td>63</td>\n",
       "      <td>0.066246</td>\n",
       "    </tr>\n",
       "    <tr>\n",
       "      <th>гражданский брак</th>\n",
       "      <td>4134</td>\n",
       "      <td>385</td>\n",
       "      <td>0.093130</td>\n",
       "    </tr>\n",
       "    <tr>\n",
       "      <th>женат / замужем</th>\n",
       "      <td>12261</td>\n",
       "      <td>927</td>\n",
       "      <td>0.075606</td>\n",
       "    </tr>\n",
       "  </tbody>\n",
       "</table>\n",
       "</div>"
      ],
      "text/plain": [
       "                       Всего выдано кредитов  Всего должников  Доля должников\n",
       "family_status                                                                \n",
       "Не женат / не замужем                   2796              273        0.097639\n",
       "в разводе                               1189               84        0.070648\n",
       "вдовец / вдова                           951               63        0.066246\n",
       "гражданский брак                        4134              385        0.093130\n",
       "женат / замужем                        12261              927        0.075606"
      ]
     },
     "execution_count": 25,
     "metadata": {},
     "output_type": "execute_result"
    }
   ],
   "source": [
    "depend_debt_family = data.pivot_table(index=['family_status'], values='debt', aggfunc=['count', 'sum', 'mean'])\n",
    "depend_debt_family.columns = ['Всего выдано кредитов', 'Всего должников', 'Доля должников']\n",
    "depend_debt_family"
   ]
  },
  {
   "cell_type": "markdown",
   "id": "985d8067",
   "metadata": {},
   "source": [
    "**Построим график зависимости семейного статуса к доле должников:**"
   ]
  },
  {
   "cell_type": "code",
   "execution_count": 26,
   "id": "e4872185",
   "metadata": {},
   "outputs": [
    {
     "data": {
      "text/plain": [
       "<AxesSubplot:xlabel='debt', ylabel='family_status'>"
      ]
     },
     "execution_count": 26,
     "metadata": {},
     "output_type": "execute_result"
    },
    {
     "data": {
      "image/png": "[encoded data removed]",
      "text/plain": [
       "<Figure size 432x288 with 1 Axes>"
      ]
     },
     "metadata": {
      "needs_background": "light"
     },
     "output_type": "display_data"
    }
   ],
   "source": [
    "sn.barplot(x=data['debt'], y=data['family_status'])"
   ]
  },
  {
   "cell_type": "markdown",
   "id": "186039bf",
   "metadata": {
    "deletable": false,
    "id": "1cef7837"
   },
   "source": [
    "**Вывод:** \n",
    "1. Доля должников среди людей с семейным статусом `'вдовец\\вдова'`, `'в разводе'` меньше, чем у других подгрупп.\n",
    "\n",
    "Также можно разделить все подгруппы на 2 категории: \n",
    "\n",
    "*1.Имеющие партнера:*\n",
    "- `'вдовец\\вдова'`\n",
    "- `'в разводе'`\n",
    "- `'не женат \\ не замужем'`\n",
    "\n",
    "*2.Без партнера:*\n",
    "- `'женат \\ замужем'`\n",
    "- `'гражданский брак'`\n",
    "\n",
    "2. В `1-й` категории доля должников в подгруппе `'не женат \\ не замужем'` гораздо больше, чем у двух других подгрупп.\n",
    "3. Во `2-й` категории доля должников у тех, кто состоит в `'гражданском браке'` выше, чем у тех, кто `'женат \\ замужем'`\n"
   ]
  },
  {
   "cell_type": "markdown",
   "id": "eb67b0fd",
   "metadata": {
    "deletable": false,
    "id": "1e8b2fca"
   },
   "source": [
    "### Есть ли зависимость между уровнем дохода и возвратом кредита в срок?"
   ]
  },
  {
   "cell_type": "markdown",
   "id": "34b751b9",
   "metadata": {
    "deletable": false,
    "id": "cd7e3720"
   },
   "source": [
    "**Как и ренее создадим сводную таблицу и поместим ее в переменную `depend_debt_income`.** \n",
    "\n",
    "**Также сразу переименуем столбц:**"
   ]
  },
  {
   "cell_type": "code",
   "execution_count": 27,
   "id": "c153b0e2",
   "metadata": {},
   "outputs": [
    {
     "data": {
      "text/html": [
       "<div>\n",
       "<style scoped>\n",
       "    .dataframe tbody tr th:only-of-type {\n",
       "        vertical-align: middle;\n",
       "    }\n",
       "\n",
       "    .dataframe tbody tr th {\n",
       "        vertical-align: top;\n",
       "    }\n",
       "\n",
       "    .dataframe thead th {\n",
       "        text-align: right;\n",
       "    }\n",
       "</style>\n",
       "<table border=\"1\" class=\"dataframe\">\n",
       "  <thead>\n",
       "    <tr style=\"text-align: right;\">\n",
       "      <th></th>\n",
       "      <th>Всего выдано кредитов</th>\n",
       "      <th>Всего должников</th>\n",
       "      <th>Доля должников</th>\n",
       "    </tr>\n",
       "    <tr>\n",
       "      <th>total_income_category</th>\n",
       "      <th></th>\n",
       "      <th></th>\n",
       "      <th></th>\n",
       "    </tr>\n",
       "  </thead>\n",
       "  <tbody>\n",
       "    <tr>\n",
       "      <th>A</th>\n",
       "      <td>25</td>\n",
       "      <td>2</td>\n",
       "      <td>0.080000</td>\n",
       "    </tr>\n",
       "    <tr>\n",
       "      <th>B</th>\n",
       "      <td>5014</td>\n",
       "      <td>354</td>\n",
       "      <td>0.070602</td>\n",
       "    </tr>\n",
       "    <tr>\n",
       "      <th>C</th>\n",
       "      <td>15921</td>\n",
       "      <td>1353</td>\n",
       "      <td>0.084982</td>\n",
       "    </tr>\n",
       "    <tr>\n",
       "      <th>D</th>\n",
       "      <td>349</td>\n",
       "      <td>21</td>\n",
       "      <td>0.060172</td>\n",
       "    </tr>\n",
       "    <tr>\n",
       "      <th>E</th>\n",
       "      <td>22</td>\n",
       "      <td>2</td>\n",
       "      <td>0.090909</td>\n",
       "    </tr>\n",
       "  </tbody>\n",
       "</table>\n",
       "</div>"
      ],
      "text/plain": [
       "                       Всего выдано кредитов  Всего должников  Доля должников\n",
       "total_income_category                                                        \n",
       "A                                         25                2        0.080000\n",
       "B                                       5014              354        0.070602\n",
       "C                                      15921             1353        0.084982\n",
       "D                                        349               21        0.060172\n",
       "E                                         22                2        0.090909"
      ]
     },
     "execution_count": 27,
     "metadata": {},
     "output_type": "execute_result"
    }
   ],
   "source": [
    "depend_debt_income = data.pivot_table(index=['total_income_category'], values='debt', aggfunc=['count', 'sum', 'mean'])\n",
    "depend_debt_income.columns = ['Всего выдано кредитов', 'Всего должников', 'Доля должников']\n",
    "depend_debt_income"
   ]
  },
  {
   "cell_type": "markdown",
   "id": "297a9c56",
   "metadata": {},
   "source": [
    "**Обозначение категорий в `total_income_category`:**\n",
    "\n",
    "- 1000001 и выше — `'A'`;\n",
    "- 200001–1000000 — `'B'`;\n",
    "- 50001–200000 — `'C'`;\n",
    "- 30001–50000 — `'D'`;\n",
    "- 0–30000 — `'E'`.\n",
    "\n",
    "\n"
   ]
  },
  {
   "cell_type": "markdown",
   "id": "393f3c35",
   "metadata": {},
   "source": [
    "**Снова визуализируем данные через `barplot`. График доли должников по категориям уровня дохода:**"
   ]
  },
  {
   "cell_type": "code",
   "execution_count": 28,
   "id": "ab309ff6",
   "metadata": {},
   "outputs": [
    {
     "data": {
      "text/plain": [
       "<AxesSubplot:xlabel='debt', ylabel='total_income_category'>"
      ]
     },
     "execution_count": 28,
     "metadata": {},
     "output_type": "execute_result"
    },
    {
     "data": {
      "image/png": "[encoded data removed]",
      "text/plain": [
       "<Figure size 432x288 with 1 Axes>"
      ]
     },
     "metadata": {
      "needs_background": "light"
     },
     "output_type": "display_data"
    }
   ],
   "source": [
    "sn.barplot(x=data['debt'], y=data['total_income_category'])"
   ]
  },
  {
   "cell_type": "markdown",
   "id": "1a5a957d",
   "metadata": {
    "deletable": false,
    "id": "e8593def"
   },
   "source": [
    "**Вывод:** \n",
    "1. Т.к. выборка данных по группам `А`, `D`, `E` не репрезентативна, то сделать корректный вывод по ним нельзя, поэтому пока что не берем их в расчет.\n",
    "\n",
    "2. На основе категорий `В` и `С` можно сказать, что чем выше доход, тем выше вероятность, что клиент выплатит в срок. \n"
   ]
  },
  {
   "cell_type": "markdown",
   "id": "dab099b9",
   "metadata": {
    "deletable": false,
    "id": "99ecbd1f"
   },
   "source": [
    "### Как разные цели кредита влияют на его возврат в срок?"
   ]
  },
  {
   "cell_type": "markdown",
   "id": "7b5a9584",
   "metadata": {
    "deletable": false,
    "id": "2b687290"
   },
   "source": [
    "**Создаем сводную таблицу и помещаем ее в переменную `depend_debt_purpose`.** \n",
    "\n",
    "**Переименуем столбцы, как и раньше.**"
   ]
  },
  {
   "cell_type": "code",
   "execution_count": 29,
   "id": "0f4179ca",
   "metadata": {
    "scrolled": true
   },
   "outputs": [
    {
     "data": {
      "text/html": [
       "<div>\n",
       "<style scoped>\n",
       "    .dataframe tbody tr th:only-of-type {\n",
       "        vertical-align: middle;\n",
       "    }\n",
       "\n",
       "    .dataframe tbody tr th {\n",
       "        vertical-align: top;\n",
       "    }\n",
       "\n",
       "    .dataframe thead th {\n",
       "        text-align: right;\n",
       "    }\n",
       "</style>\n",
       "<table border=\"1\" class=\"dataframe\">\n",
       "  <thead>\n",
       "    <tr style=\"text-align: right;\">\n",
       "      <th></th>\n",
       "      <th>Всего выдано кредитов</th>\n",
       "      <th>Всего должников</th>\n",
       "      <th>Доля должников</th>\n",
       "    </tr>\n",
       "    <tr>\n",
       "      <th>purpose_category</th>\n",
       "      <th></th>\n",
       "      <th></th>\n",
       "      <th></th>\n",
       "    </tr>\n",
       "  </thead>\n",
       "  <tbody>\n",
       "    <tr>\n",
       "      <th>операции с автомобилем</th>\n",
       "      <td>4279</td>\n",
       "      <td>400</td>\n",
       "      <td>0.093480</td>\n",
       "    </tr>\n",
       "    <tr>\n",
       "      <th>операции с недвижимостью</th>\n",
       "      <td>10751</td>\n",
       "      <td>780</td>\n",
       "      <td>0.072551</td>\n",
       "    </tr>\n",
       "    <tr>\n",
       "      <th>получение образования</th>\n",
       "      <td>3988</td>\n",
       "      <td>369</td>\n",
       "      <td>0.092528</td>\n",
       "    </tr>\n",
       "    <tr>\n",
       "      <th>проведение свадьбы</th>\n",
       "      <td>2313</td>\n",
       "      <td>183</td>\n",
       "      <td>0.079118</td>\n",
       "    </tr>\n",
       "  </tbody>\n",
       "</table>\n",
       "</div>"
      ],
      "text/plain": [
       "                          Всего выдано кредитов  Всего должников  \\\n",
       "purpose_category                                                   \n",
       "операции с автомобилем                     4279              400   \n",
       "операции с недвижимостью                  10751              780   \n",
       "получение образования                      3988              369   \n",
       "проведение свадьбы                         2313              183   \n",
       "\n",
       "                          Доля должников  \n",
       "purpose_category                          \n",
       "операции с автомобилем          0.093480  \n",
       "операции с недвижимостью        0.072551  \n",
       "получение образования           0.092528  \n",
       "проведение свадьбы              0.079118  "
      ]
     },
     "execution_count": 29,
     "metadata": {},
     "output_type": "execute_result"
    }
   ],
   "source": [
    "depend_debt_purpose = data.pivot_table(index=['purpose_category'], values='debt', aggfunc=['count', 'sum', 'mean'])\n",
    "depend_debt_purpose.columns = ['Всего выдано кредитов', 'Всего должников', 'Доля должников']\n",
    "depend_debt_purpose"
   ]
  },
  {
   "cell_type": "markdown",
   "id": "e4199e23",
   "metadata": {},
   "source": [
    "**Как и прежде визуализируем данные. График соотношения доли должников к цели кредита:**"
   ]
  },
  {
   "cell_type": "code",
   "execution_count": 30,
   "id": "9c587088",
   "metadata": {},
   "outputs": [
    {
     "data": {
      "text/plain": [
       "<AxesSubplot:xlabel='debt', ylabel='purpose_category'>"
      ]
     },
     "execution_count": 30,
     "metadata": {},
     "output_type": "execute_result"
    },
    {
     "data": {
      "image/png": "[encoded data removed]",
      "text/plain": [
       "<Figure size 432x288 with 1 Axes>"
      ]
     },
     "metadata": {
      "needs_background": "light"
     },
     "output_type": "display_data"
    }
   ],
   "source": [
    "sn.barplot(x=data['debt'], y=data['purpose_category'])"
   ]
  },
  {
   "cell_type": "markdown",
   "id": "c980ea6f",
   "metadata": {
    "deletable": false,
    "id": "b4bb2ce6"
   },
   "source": [
    "**Вывод:** \n",
    "1. Больше всего должников среди тех, кто взял кредит на `операции с автомобилем`. Кредит на `получение образования` идет следом с небольшим отставанием.\n",
    "2. Меньше всего должников среди `операций с недвижимостью`."
   ]
  },
  {
   "cell_type": "markdown",
   "id": "a1fd487a",
   "metadata": {
    "deletable": false,
    "id": "09c3ac4c"
   },
   "source": [
    "### Возможные причины появления пропусков в исходных данных:"
   ]
  },
  {
   "cell_type": "markdown",
   "id": "c2ed76ff",
   "metadata": {
    "deletable": false,
    "id": "9da2ceda"
   },
   "source": [
    "Пропуски у нас встречаются в двух столбцах:\n",
    "1. `days_employed`\n",
    "2. `total_income`\n",
    "\n",
    "Относительно `1-го` пункта - тип пропуска может быть, как случайным (например зависеть от категории `студент`), так и неслучайным вовсе, но от чего это зависит - предположений нет.\n",
    "\n",
    "Касаемо `2-го` пункта предположение в том, что люди просто не указывали свой ежемесячный доход, возможно, желая его скрыть.\n",
    "Возможно, пропуск в `total_income` зависит от типа занятости `income_type`. Если человек фактически не имеет дохода, что вероятно для `пенсионеров`, `безработных`, `студентов` и женщин `в декрете`, то они могли просто пропустить ввод данных и из- за этого образовался пропуск. Соответственно, тип пропуска - случайный."
   ]
  },
  {
   "cell_type": "markdown",
   "id": "936a7823",
   "metadata": {
    "deletable": false,
    "id": "7b0487d6"
   },
   "source": [
    "### Объяснение заполнения пропусков медианным значением:"
   ]
  },
  {
   "cell_type": "markdown",
   "id": "dbf17e80",
   "metadata": {
    "deletable": false,
    "id": "7ecf2b8e"
   },
   "source": [
    "Так как в нашей выборке данных присутствует сильный разброс значений, некоторые явно выделяются среди большинства, то нахождение медианы для пропусков - лучшее решение для количественных переменных. \n",
    "\n",
    "Среднее арифметическое значение, например, некорректно охарактеризует данные, что отразится на результате в отрицательную сторону."
   ]
  },
  {
   "cell_type": "markdown",
   "id": "09f4ce3d",
   "metadata": {
    "id": "6db5255a"
   },
   "source": [
    "## Общий вывод."
   ]
  },
  {
   "cell_type": "markdown",
   "id": "08aead68",
   "metadata": {
    "id": "bad65432"
   },
   "source": [
    "**Мы рассмотрели четыре вопроса:**\n",
    "\n",
    "**1. Есть ли зависимость между количеством детей и возвратом кредита в срок?**\n",
    "\n",
    "*Выявили:*\n",
    "- В срок чаще выплачивают кредит те клиенты, у которых нет детей.\n",
    "\n",
    "**2. Есть ли зависимость между семейным положением и возвратом кредита в срок?**\n",
    "\n",
    "*Установили:*\n",
    "- Доля должников среди людей с семейным статусом 'вдовец\\вдова', 'в разводе' меньше, чем у других подгрупп.\n",
    "- В целом, можно сказать о том, что клиенты, побывавшие в браке, реже допускают просрочки по кредитам.\n",
    "\n",
    "**3. Есть ли зависимость между уровнем дохода и возвратом кредита в срок?**\n",
    "\n",
    "*Определили:*\n",
    "- На основе категорий `В` и `С` можно сказать, что чем выше доход, тем выше вероятность, что клиент выплатит в срок.`\n",
    "\n",
    "**4. Как разные цели кредита влияют на его возврат в срок?**\n",
    "\n",
    "*Обнаружили:*\n",
    "- Больше всего должников среди тех, кто взял кредит на операции с автомобилем.\n",
    "Кредит на получение образования идет следом с небольшим отставанием.\n",
    "- Меньше всего должников среди операций с недвижимостью.\n",
    "\n",
    "**Общие рекомендации:**\n",
    "\n",
    "Для большей репрезентативности данных в отдельных группах рекомендуется увеличить количество наблюдений.\n",
    "\n",
    "Так, например, при рассмотрении `1-го` вопроса нельзя сделать корректный вывод о наличии зависимости по клиентам, у которых `3`, `4`, `5` детей \n",
    "Та же рекомендация применима и к клиентам, имеющим доход по группам `A`, `D`, `E` в `3-м` вопросе."
   ]
  },
  {
   "cell_type": "code",
   "execution_count": null,
   "id": "64029a6e",
   "metadata": {},
   "outputs": [],
   "source": []
  }
 ],
 "metadata": {
  "ExecuteTimeLog": [
   {
    "duration": 448,
    "start_time": "2022-10-02T12:09:58.399Z"
   },
   {
    "duration": 21,
    "start_time": "2022-10-02T12:09:58.849Z"
   },
   {
    "duration": 20,
    "start_time": "2022-10-02T12:09:58.872Z"
   },
   {
    "duration": 12,
    "start_time": "2022-10-02T12:09:58.895Z"
   },
   {
    "duration": 35,
    "start_time": "2022-10-02T12:09:58.908Z"
   },
   {
    "duration": 4,
    "start_time": "2022-10-02T12:09:58.944Z"
   },
   {
    "duration": 29,
    "start_time": "2022-10-02T12:09:58.949Z"
   },
   {
    "duration": 4,
    "start_time": "2022-10-02T12:09:58.979Z"
   },
   {
    "duration": 14,
    "start_time": "2022-10-02T12:09:58.985Z"
   },
   {
    "duration": 15,
    "start_time": "2022-10-02T12:09:59.003Z"
   },
   {
    "duration": 44,
    "start_time": "2022-10-02T12:09:59.019Z"
   },
   {
    "duration": 12,
    "start_time": "2022-10-02T12:09:59.065Z"
   },
   {
    "duration": 10,
    "start_time": "2022-10-02T12:09:59.079Z"
   },
   {
    "duration": 25,
    "start_time": "2022-10-02T12:09:59.090Z"
   },
   {
    "duration": 22,
    "start_time": "2022-10-02T12:09:59.116Z"
   },
   {
    "duration": 17,
    "start_time": "2022-10-02T12:09:59.140Z"
   },
   {
    "duration": 19,
    "start_time": "2022-10-02T12:09:59.158Z"
   },
   {
    "duration": 18,
    "start_time": "2022-10-02T12:09:59.179Z"
   },
   {
    "duration": 8,
    "start_time": "2022-10-02T12:09:59.198Z"
   },
   {
    "duration": 7,
    "start_time": "2022-10-02T12:09:59.208Z"
   },
   {
    "duration": 19,
    "start_time": "2022-10-02T12:09:59.217Z"
   },
   {
    "duration": 12,
    "start_time": "2022-10-02T12:09:59.238Z"
   },
   {
    "duration": 14,
    "start_time": "2022-10-02T12:09:59.251Z"
   },
   {
    "duration": 17,
    "start_time": "2022-10-02T12:09:59.267Z"
   },
   {
    "duration": 10,
    "start_time": "2022-10-02T12:09:59.285Z"
   },
   {
    "duration": 17,
    "start_time": "2022-10-02T12:15:28.175Z"
   },
   {
    "duration": 16,
    "start_time": "2022-10-02T12:15:59.489Z"
   },
   {
    "duration": 14,
    "start_time": "2022-10-02T12:16:04.883Z"
   },
   {
    "duration": 73,
    "start_time": "2022-10-02T12:39:01.703Z"
   },
   {
    "duration": 15,
    "start_time": "2022-10-02T12:40:57.521Z"
   },
   {
    "duration": 21,
    "start_time": "2022-10-02T12:44:28.979Z"
   },
   {
    "duration": 40,
    "start_time": "2022-10-02T12:44:46.657Z"
   },
   {
    "duration": 19,
    "start_time": "2022-10-02T12:45:19.194Z"
   },
   {
    "duration": 21,
    "start_time": "2022-10-02T12:45:36.938Z"
   },
   {
    "duration": 24,
    "start_time": "2022-10-02T12:45:42.425Z"
   },
   {
    "duration": 1082,
    "start_time": "2022-10-02T12:46:09.019Z"
   },
   {
    "duration": 1268,
    "start_time": "2022-10-02T12:46:44.513Z"
   },
   {
    "duration": 1414,
    "start_time": "2022-10-02T12:47:03.105Z"
   },
   {
    "duration": 460,
    "start_time": "2022-10-02T12:47:13.539Z"
   },
   {
    "duration": 100,
    "start_time": "2022-10-02T12:47:32.865Z"
   },
   {
    "duration": 561,
    "start_time": "2022-10-02T12:48:24.672Z"
   },
   {
    "duration": 437,
    "start_time": "2022-10-02T12:48:41.280Z"
   },
   {
    "duration": 5,
    "start_time": "2022-10-02T12:49:50.587Z"
   },
   {
    "duration": 354,
    "start_time": "2022-10-02T12:51:47.225Z"
   },
   {
    "duration": 624,
    "start_time": "2022-10-02T12:52:02.791Z"
   },
   {
    "duration": 7,
    "start_time": "2022-10-02T12:52:14.522Z"
   },
   {
    "duration": 7,
    "start_time": "2022-10-02T12:52:30.001Z"
   },
   {
    "duration": 8,
    "start_time": "2022-10-02T12:52:38.943Z"
   },
   {
    "duration": 8,
    "start_time": "2022-10-02T12:52:56.118Z"
   },
   {
    "duration": 5,
    "start_time": "2022-10-02T12:53:15.008Z"
   },
   {
    "duration": 6,
    "start_time": "2022-10-02T12:54:48.183Z"
   },
   {
    "duration": 13,
    "start_time": "2022-10-02T12:54:58.982Z"
   },
   {
    "duration": 14,
    "start_time": "2022-10-02T12:55:05.972Z"
   },
   {
    "duration": 12,
    "start_time": "2022-10-02T12:55:12.017Z"
   },
   {
    "duration": 8,
    "start_time": "2022-10-02T12:55:20.082Z"
   },
   {
    "duration": 7,
    "start_time": "2022-10-02T12:55:30.511Z"
   },
   {
    "duration": 10,
    "start_time": "2022-10-02T13:16:13.165Z"
   },
   {
    "duration": 15,
    "start_time": "2022-10-02T13:16:23.557Z"
   },
   {
    "duration": 1183,
    "start_time": "2022-10-02T13:17:19.864Z"
   },
   {
    "duration": 901,
    "start_time": "2022-10-02T13:17:29.261Z"
   },
   {
    "duration": 4,
    "start_time": "2022-10-02T13:17:36.886Z"
   },
   {
    "duration": 5,
    "start_time": "2022-10-02T13:29:06.533Z"
   },
   {
    "duration": 6,
    "start_time": "2022-10-02T13:31:47.892Z"
   },
   {
    "duration": 5,
    "start_time": "2022-10-02T13:31:51.856Z"
   },
   {
    "duration": 8,
    "start_time": "2022-10-02T13:32:14.325Z"
   },
   {
    "duration": 7,
    "start_time": "2022-10-02T13:32:17.397Z"
   },
   {
    "duration": 7,
    "start_time": "2022-10-02T13:32:25.668Z"
   },
   {
    "duration": 6,
    "start_time": "2022-10-02T13:32:36.869Z"
   },
   {
    "duration": 6,
    "start_time": "2022-10-02T13:32:41.461Z"
   },
   {
    "duration": 5,
    "start_time": "2022-10-02T13:38:09.365Z"
   },
   {
    "duration": 5,
    "start_time": "2022-10-02T13:38:17.092Z"
   },
   {
    "duration": 21,
    "start_time": "2022-10-02T13:39:39.063Z"
   },
   {
    "duration": 1607,
    "start_time": "2022-10-02T13:59:42.483Z"
   },
   {
    "duration": 360,
    "start_time": "2022-10-02T14:00:07.986Z"
   },
   {
    "duration": 308,
    "start_time": "2022-10-02T14:03:39.139Z"
   },
   {
    "duration": 315,
    "start_time": "2022-10-02T14:03:53.683Z"
   },
   {
    "duration": 13,
    "start_time": "2022-10-02T14:05:59.845Z"
   },
   {
    "duration": 13,
    "start_time": "2022-10-02T14:06:17.114Z"
   },
   {
    "duration": 359,
    "start_time": "2022-10-02T14:07:52.097Z"
   },
   {
    "duration": 300,
    "start_time": "2022-10-02T14:08:12.266Z"
   },
   {
    "duration": 382,
    "start_time": "2022-10-02T14:08:36.978Z"
   },
   {
    "duration": 337,
    "start_time": "2022-10-02T14:08:41.048Z"
   },
   {
    "duration": 38,
    "start_time": "2022-10-02T15:38:09.755Z"
   },
   {
    "duration": 17,
    "start_time": "2022-10-02T15:48:12.284Z"
   },
   {
    "duration": 105,
    "start_time": "2022-10-02T15:48:54.277Z"
   },
   {
    "duration": 21,
    "start_time": "2022-10-02T15:50:44.893Z"
   },
   {
    "duration": 16,
    "start_time": "2022-10-02T15:51:08.971Z"
   },
   {
    "duration": 26,
    "start_time": "2022-10-02T15:51:16.819Z"
   },
   {
    "duration": 40,
    "start_time": "2022-10-02T15:51:54.579Z"
   },
   {
    "duration": 8,
    "start_time": "2022-10-02T15:55:44.373Z"
   },
   {
    "duration": 27,
    "start_time": "2022-10-02T15:55:54.682Z"
   },
   {
    "duration": 25,
    "start_time": "2022-10-02T16:04:56.090Z"
   },
   {
    "duration": 7,
    "start_time": "2022-10-02T16:19:20.823Z"
   },
   {
    "duration": 15,
    "start_time": "2022-10-02T16:56:23.389Z"
   },
   {
    "duration": 12,
    "start_time": "2022-10-02T16:56:30.251Z"
   },
   {
    "duration": 24,
    "start_time": "2022-10-02T16:58:23.749Z"
   },
   {
    "duration": 31,
    "start_time": "2022-10-02T16:58:26.877Z"
   },
   {
    "duration": 30,
    "start_time": "2022-10-02T17:02:27.985Z"
   },
   {
    "duration": 29,
    "start_time": "2022-10-02T17:02:43.067Z"
   },
   {
    "duration": 334,
    "start_time": "2022-10-02T17:04:09.683Z"
   },
   {
    "duration": 333,
    "start_time": "2022-10-02T17:04:37.202Z"
   },
   {
    "duration": 248,
    "start_time": "2022-10-02T17:05:01.979Z"
   },
   {
    "duration": 342,
    "start_time": "2022-10-02T17:05:13.243Z"
   },
   {
    "duration": 13,
    "start_time": "2022-10-02T17:50:29.832Z"
   },
   {
    "duration": 40,
    "start_time": "2022-10-02T17:50:45.671Z"
   },
   {
    "duration": 40,
    "start_time": "2022-10-02T17:51:25.781Z"
   },
   {
    "duration": 27,
    "start_time": "2022-10-02T17:52:26.735Z"
   },
   {
    "duration": 335,
    "start_time": "2022-10-02T17:57:18.407Z"
   },
   {
    "duration": 302,
    "start_time": "2022-10-02T17:57:39.862Z"
   },
   {
    "duration": 322,
    "start_time": "2022-10-02T17:58:18.456Z"
   },
   {
    "duration": 309,
    "start_time": "2022-10-02T18:03:19.701Z"
   },
   {
    "duration": 35,
    "start_time": "2022-10-02T18:14:45.836Z"
   },
   {
    "duration": 304,
    "start_time": "2022-10-02T18:19:19.873Z"
   },
   {
    "duration": 6,
    "start_time": "2022-10-02T18:45:07.433Z"
   },
   {
    "duration": 468,
    "start_time": "2022-10-02T19:12:28.975Z"
   },
   {
    "duration": 21,
    "start_time": "2022-10-02T19:12:29.445Z"
   },
   {
    "duration": 14,
    "start_time": "2022-10-02T19:12:29.468Z"
   },
   {
    "duration": 9,
    "start_time": "2022-10-02T19:12:29.483Z"
   },
   {
    "duration": 36,
    "start_time": "2022-10-02T19:12:29.494Z"
   },
   {
    "duration": 4,
    "start_time": "2022-10-02T19:12:29.532Z"
   },
   {
    "duration": 12,
    "start_time": "2022-10-02T19:12:29.537Z"
   },
   {
    "duration": 4,
    "start_time": "2022-10-02T19:12:29.550Z"
   },
   {
    "duration": 7,
    "start_time": "2022-10-02T19:12:29.576Z"
   },
   {
    "duration": 4,
    "start_time": "2022-10-02T19:12:29.585Z"
   },
   {
    "duration": 34,
    "start_time": "2022-10-02T19:12:29.590Z"
   },
   {
    "duration": 8,
    "start_time": "2022-10-02T19:12:29.625Z"
   },
   {
    "duration": 5,
    "start_time": "2022-10-02T19:12:29.634Z"
   },
   {
    "duration": 10,
    "start_time": "2022-10-02T19:12:29.640Z"
   },
   {
    "duration": 36,
    "start_time": "2022-10-02T19:12:29.652Z"
   },
   {
    "duration": 16,
    "start_time": "2022-10-02T19:12:29.689Z"
   },
   {
    "duration": 4,
    "start_time": "2022-10-02T19:12:29.706Z"
   },
   {
    "duration": 12,
    "start_time": "2022-10-02T19:12:29.711Z"
   },
   {
    "duration": 6,
    "start_time": "2022-10-02T19:12:29.725Z"
   },
   {
    "duration": 3,
    "start_time": "2022-10-02T19:12:29.732Z"
   },
   {
    "duration": 40,
    "start_time": "2022-10-02T19:12:29.737Z"
   },
   {
    "duration": 27,
    "start_time": "2022-10-02T19:12:29.778Z"
   },
   {
    "duration": 6,
    "start_time": "2022-10-02T19:12:29.806Z"
   },
   {
    "duration": 1064,
    "start_time": "2022-10-02T19:12:29.814Z"
   },
   {
    "duration": 36,
    "start_time": "2022-10-02T19:12:30.880Z"
   },
   {
    "duration": 374,
    "start_time": "2022-10-02T19:12:30.918Z"
   },
   {
    "duration": 26,
    "start_time": "2022-10-02T19:12:31.294Z"
   },
   {
    "duration": 307,
    "start_time": "2022-10-02T19:12:31.323Z"
   },
   {
    "duration": 28,
    "start_time": "2022-10-02T19:12:31.632Z"
   },
   {
    "duration": 316,
    "start_time": "2022-10-02T19:12:31.661Z"
   },
   {
    "duration": 5,
    "start_time": "2022-10-02T19:12:31.978Z"
   },
   {
    "duration": 57,
    "start_time": "2022-10-02T21:39:23.211Z"
   },
   {
    "duration": 8,
    "start_time": "2022-10-03T05:29:32.726Z"
   },
   {
    "duration": 52,
    "start_time": "2022-10-03T05:31:15.054Z"
   },
   {
    "duration": 3,
    "start_time": "2022-10-03T05:31:19.515Z"
   },
   {
    "duration": 25,
    "start_time": "2022-10-03T05:31:20.305Z"
   },
   {
    "duration": 3,
    "start_time": "2022-10-03T05:31:44.232Z"
   },
   {
    "duration": 31,
    "start_time": "2022-10-03T05:31:44.816Z"
   },
   {
    "duration": 64,
    "start_time": "2022-10-03T06:43:14.069Z"
   },
   {
    "duration": 53,
    "start_time": "2022-10-03T06:43:22.493Z"
   },
   {
    "duration": 68,
    "start_time": "2022-10-03T06:43:53.669Z"
   },
   {
    "duration": 53,
    "start_time": "2022-10-03T06:43:59.669Z"
   },
   {
    "duration": 40,
    "start_time": "2022-10-03T06:44:29.917Z"
   },
   {
    "duration": 715,
    "start_time": "2023-07-17T08:38:06.450Z"
   },
   {
    "duration": 25,
    "start_time": "2023-07-17T08:38:07.167Z"
   },
   {
    "duration": 27,
    "start_time": "2023-07-17T08:38:07.194Z"
   },
   {
    "duration": 32,
    "start_time": "2023-07-17T08:38:07.224Z"
   },
   {
    "duration": 53,
    "start_time": "2023-07-17T08:38:07.258Z"
   },
   {
    "duration": 4,
    "start_time": "2023-07-17T08:38:07.313Z"
   },
   {
    "duration": 30,
    "start_time": "2023-07-17T08:38:07.318Z"
   },
   {
    "duration": 11,
    "start_time": "2023-07-17T08:38:07.350Z"
   },
   {
    "duration": 29,
    "start_time": "2023-07-17T08:38:07.362Z"
   },
   {
    "duration": 8,
    "start_time": "2023-07-17T08:38:07.394Z"
   },
   {
    "duration": 68,
    "start_time": "2023-07-17T08:38:07.404Z"
   },
   {
    "duration": 9,
    "start_time": "2023-07-17T08:38:07.474Z"
   },
   {
    "duration": 6,
    "start_time": "2023-07-17T08:38:07.484Z"
   },
   {
    "duration": 27,
    "start_time": "2023-07-17T08:38:07.491Z"
   },
   {
    "duration": 57,
    "start_time": "2023-07-17T08:38:07.519Z"
   },
   {
    "duration": 27,
    "start_time": "2023-07-17T08:38:07.577Z"
   },
   {
    "duration": 10,
    "start_time": "2023-07-17T08:38:07.606Z"
   },
   {
    "duration": 28,
    "start_time": "2023-07-17T08:38:07.617Z"
   },
   {
    "duration": 25,
    "start_time": "2023-07-17T08:38:07.647Z"
   },
   {
    "duration": 62,
    "start_time": "2023-07-17T08:38:07.673Z"
   },
   {
    "duration": 31,
    "start_time": "2023-07-17T08:38:07.737Z"
   },
   {
    "duration": 46,
    "start_time": "2023-07-17T08:38:07.769Z"
   },
   {
    "duration": 9,
    "start_time": "2023-07-17T08:38:07.817Z"
   },
   {
    "duration": 1395,
    "start_time": "2023-07-17T08:38:07.828Z"
   },
   {
    "duration": 33,
    "start_time": "2023-07-17T08:38:09.226Z"
   },
   {
    "duration": 352,
    "start_time": "2023-07-17T08:38:09.261Z"
   },
   {
    "duration": 35,
    "start_time": "2023-07-17T08:38:09.620Z"
   },
   {
    "duration": 346,
    "start_time": "2023-07-17T08:38:09.658Z"
   },
   {
    "duration": 43,
    "start_time": "2023-07-17T08:38:10.005Z"
   },
   {
    "duration": 327,
    "start_time": "2023-07-17T08:38:10.049Z"
   },
   {
    "duration": 4,
    "start_time": "2023-07-17T08:38:10.378Z"
   },
   {
    "duration": 31,
    "start_time": "2023-07-17T10:39:31.878Z"
   }
  ],
  "colab": {
   "name": "dpp_template_part2.ipynb",
   "provenance": []
  },
  "kernelspec": {
   "display_name": "Python 3 (ipykernel)",
   "language": "python",
   "name": "python3"
  },
  "language_info": {
   "codemirror_mode": {
    "name": "ipython",
    "version": 3
   },
   "file_extension": ".py",
   "mimetype": "text/x-python",
   "name": "python",
   "nbconvert_exporter": "python",
   "pygments_lexer": "ipython3",
   "version": "3.9.5"
  },
  "toc": {
   "base_numbering": 1,
   "nav_menu": {},
   "number_sections": true,
   "sideBar": true,
   "skip_h1_title": true,
   "title_cell": "Содержание",
   "title_sidebar": "Contents",
   "toc_cell": true,
   "toc_position": {},
   "toc_section_display": true,
   "toc_window_display": true
  }
 },
 "nbformat": 4,
 "nbformat_minor": 5
}
