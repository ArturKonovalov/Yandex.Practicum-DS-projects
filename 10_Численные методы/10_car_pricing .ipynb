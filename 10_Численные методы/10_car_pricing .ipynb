{
 "cells": [
  {
   "cell_type": "markdown",
   "metadata": {
    "toc": true
   },
   "source": [
    "<h1>Содержание<span class=\"tocSkip\"></span></h1>\n",
    "<div class=\"toc\"><ul class=\"toc-item\"><li><span><a href=\"#Подготовка-данных.\" data-toc-modified-id=\"Подготовка-данных.-1\"><span class=\"toc-item-num\">1&nbsp;&nbsp;</span><em>Подготовка данных.</em></a></span><ul class=\"toc-item\"><li><span><a href=\"#Вывод-блока:\" data-toc-modified-id=\"Вывод-блока:-1.1\"><span class=\"toc-item-num\">1.1&nbsp;&nbsp;</span><strong>Вывод блока:</strong></a></span></li></ul></li><li><span><a href=\"#Предобработка-данных.\" data-toc-modified-id=\"Предобработка-данных.-2\"><span class=\"toc-item-num\">2&nbsp;&nbsp;</span><em>Предобработка данных.</em></a></span><ul class=\"toc-item\"><li><span><a href=\"#Удаление-лишних-данных-и-приведение-данных-к-общему-виду:\" data-toc-modified-id=\"Удаление-лишних-данных-и-приведение-данных-к-общему-виду:-2.1\"><span class=\"toc-item-num\">2.1&nbsp;&nbsp;</span>Удаление лишних данных и приведение данных к общему виду:</a></span></li><li><span><a href=\"#Дубликаты:\" data-toc-modified-id=\"Дубликаты:-2.2\"><span class=\"toc-item-num\">2.2&nbsp;&nbsp;</span>Дубликаты:</a></span></li><li><span><a href=\"#Пропуски:\" data-toc-modified-id=\"Пропуски:-2.3\"><span class=\"toc-item-num\">2.3&nbsp;&nbsp;</span>Пропуски:</a></span><ul class=\"toc-item\"><li><span><a href=\"#EDA:\" data-toc-modified-id=\"EDA:-2.3.1\"><span class=\"toc-item-num\">2.3.1&nbsp;&nbsp;</span>EDA:</a></span></li></ul></li><li><span><a href=\"#Выбросы:\" data-toc-modified-id=\"Выбросы:-2.4\"><span class=\"toc-item-num\">2.4&nbsp;&nbsp;</span>Выбросы:</a></span></li><li><span><a href=\"#Деление-данных-на-выборки:\" data-toc-modified-id=\"Деление-данных-на-выборки:-2.5\"><span class=\"toc-item-num\">2.5&nbsp;&nbsp;</span>Деление данных на выборки:</a></span></li><li><span><a href=\"#Стандартизация-численных-признаков:\" data-toc-modified-id=\"Стандартизация-численных-признаков:-2.6\"><span class=\"toc-item-num\">2.6&nbsp;&nbsp;</span>Стандартизация численных признаков:</a></span></li><li><span><a href=\"#Кодирование-категориальных-признаков-для-линейных-моделей.\" data-toc-modified-id=\"Кодирование-категориальных-признаков-для-линейных-моделей.-2.7\"><span class=\"toc-item-num\">2.7&nbsp;&nbsp;</span>Кодирование категориальных признаков для линейных моделей.</a></span></li><li><span><a href=\"#Объединение-подготовленных-признаков:\" data-toc-modified-id=\"Объединение-подготовленных-признаков:-2.8\"><span class=\"toc-item-num\">2.8&nbsp;&nbsp;</span>Объединение подготовленных признаков:</a></span></li><li><span><a href=\"#Кодирование-категориальных-признаков-для-градиентного-бустинга-и-случайного-леса:\" data-toc-modified-id=\"Кодирование-категориальных-признаков-для-градиентного-бустинга-и-случайного-леса:-2.9\"><span class=\"toc-item-num\">2.9&nbsp;&nbsp;</span>Кодирование категориальных признаков для градиентного бустинга и случайного леса:</a></span></li><li><span><a href=\"#Объединение-подготовленных-признаков:\" data-toc-modified-id=\"Объединение-подготовленных-признаков:-2.10\"><span class=\"toc-item-num\">2.10&nbsp;&nbsp;</span>Объединение подготовленных признаков:</a></span></li><li><span><a href=\"#Вывод-блока:\" data-toc-modified-id=\"Вывод-блока:-2.11\"><span class=\"toc-item-num\">2.11&nbsp;&nbsp;</span><strong>Вывод блока:</strong></a></span></li></ul></li><li><span><a href=\"#Обучение-моделей.\" data-toc-modified-id=\"Обучение-моделей.-3\"><span class=\"toc-item-num\">3&nbsp;&nbsp;</span><em>Обучение моделей.</em></a></span><ul class=\"toc-item\"><li><span><a href=\"#Случайный-лес:\" data-toc-modified-id=\"Случайный-лес:-3.1\"><span class=\"toc-item-num\">3.1&nbsp;&nbsp;</span>Случайный лес:</a></span></li><li><span><a href=\"#LightGBM\" data-toc-modified-id=\"LightGBM-3.2\"><span class=\"toc-item-num\">3.2&nbsp;&nbsp;</span>LightGBM</a></span></li><li><span><a href=\"#Линейнай-Регрессия\" data-toc-modified-id=\"Линейнай-Регрессия-3.3\"><span class=\"toc-item-num\">3.3&nbsp;&nbsp;</span>Линейнай Регрессия</a></span></li><li><span><a href=\"#Вывод-блока:\" data-toc-modified-id=\"Вывод-блока:-3.4\"><span class=\"toc-item-num\">3.4&nbsp;&nbsp;</span><strong>Вывод блока:</strong></a></span></li></ul></li><li><span><a href=\"#Анализ-моделей\" data-toc-modified-id=\"Анализ-моделей-4\"><span class=\"toc-item-num\">4&nbsp;&nbsp;</span><em>Анализ моделей</em></a></span></li><li><span><a href=\"#Общий-вывод:\" data-toc-modified-id=\"Общий-вывод:-5\"><span class=\"toc-item-num\">5&nbsp;&nbsp;</span><strong>Общий вывод:</strong></a></span></li></ul></div>"
   ]
  },
  {
   "cell_type": "markdown",
   "metadata": {},
   "source": [
    "___\n",
    "# Определение стоимости автомобилей"
   ]
  },
  {
   "cell_type": "markdown",
   "metadata": {},
   "source": [
    "**Описание задачи:**\n",
    "\n",
    "Сервис по продаже автомобилей с пробегом «Не бит, не крашен» разрабатывает приложение для привлечения новых клиентов. \n",
    "В нём можно быстро узнать рыночную стоимость своего автомобиля.\n",
    "Нам необходимо построить модель для определения стоимости. \n",
    "\n",
    "*Заказчику важны:*\n",
    "\n",
    "- качество предсказания;\n",
    "- скорость предсказания;\n",
    "- время обучения.\n",
    "\n",
    "**Цель исследования:**\n",
    "* построить модель прогнозирования цен, значение метрики качества `RMSE` которой должно быть меньше `2500`.\n",
    "\n",
    "**Ход исследования:**\n",
    "1. Загрузим и изучим данные.\n",
    "2. На этапе предобработки данных заполним пропущенные значения в столбцах, неинформативные признаки удалим, проверим наличие дубликатов. (по необходимости отмасштабируем значения и разобьем данные на необходимые выборки)\n",
    "3. Обучим разные модели, с бустингом и без, для каждой попробуем разные гиперпараметры.\n",
    "4. Проанализируем время обучения, время предсказания и качество моделей. Опираясь на критерии заказчика выберем лучшую модель, проверив ее качество на тестовой выборке.\n",
    "\n",
    "**Таким образом, исследование пройдёт в четыре этапа:**\n",
    "1. Подготовка данных.\n",
    "2. Предобработка данных.\n",
    "3. Обучение моделей.\n",
    "4. Анализ моделей.\n",
    "________"
   ]
  },
  {
   "cell_type": "markdown",
   "metadata": {},
   "source": [
    "# Описание данных"
   ]
  },
  {
   "cell_type": "markdown",
   "metadata": {},
   "source": [
    "В нашем распоряжении исторические данные об автомобилях: технические характеристики, комплектации и цены. \n",
    "\n",
    "**Признаки:**\n",
    "\n",
    "* `DateCrawled` — дата скачивания анкеты из базы\n",
    "* `VehicleType` — тип автомобильного кузова\n",
    "* `RegistrationYear` — год регистрации автомобиля\n",
    "* `Gearbox` — тип коробки передач\n",
    "* `Power` — мощность (л. с.)\n",
    "* `Model` — модель автомобиля\n",
    "* `Kilometer` — пробег (км)\n",
    "* `RegistrationMonth` — месяц регистрации автомобиля\n",
    "* `FuelType` — тип топлива\n",
    "* `Brand` — марка автомобиля\n",
    "* `Repaired` — была машина в ремонте или нет\n",
    "* `DateCreated` — дата создания анкеты\n",
    "* `NumberOfPictures` — количество фотографий автомобиля\n",
    "* `PostalCode` — почтовый индекс владельца анкеты (пользователя)\n",
    "* `LastSeen` — дата последней активности пользователя\n"
   ]
  },
  {
   "cell_type": "markdown",
   "metadata": {},
   "source": [
    "**Целевой признак**\n",
    "\n",
    "* `Price` — цена (евро)\n",
    "____________"
   ]
  },
  {
   "cell_type": "markdown",
   "metadata": {},
   "source": [
    "## *Подготовка данных.*"
   ]
  },
  {
   "cell_type": "code",
   "execution_count": 1,
   "metadata": {},
   "outputs": [],
   "source": [
    "import pandas as pd\n",
    "import numpy as np\n",
    "import random\n",
    "import seaborn as sns\n",
    "from matplotlib import pyplot as plt\n",
    "\n",
    "from sklearn.model_selection import (train_test_split, RandomizedSearchCV, cross_val_score)\n",
    "from sklearn.preprocessing import (StandardScaler, OneHotEncoder, OrdinalEncoder) \n",
    "\n",
    "from sklearn.linear_model import LinearRegression\n",
    "from sklearn.ensemble import RandomForestRegressor\n",
    "from lightgbm import LGBMRegressor\n",
    "from sklearn.metrics import mean_squared_error\n",
    "from scipy.stats import spearmanr\n",
    "\n",
    "import time \n",
    "import warnings"
   ]
  },
  {
   "cell_type": "code",
   "execution_count": 2,
   "metadata": {},
   "outputs": [],
   "source": [
    "#включим игнорирование всех предупреждений\n",
    "warnings.filterwarnings('ignore')"
   ]
  },
  {
   "cell_type": "code",
   "execution_count": 3,
   "metadata": {},
   "outputs": [],
   "source": [
    "df = pd.read_csv('/datasets/autos.csv')"
   ]
  },
  {
   "cell_type": "code",
   "execution_count": 5,
   "metadata": {},
   "outputs": [
    {
     "data": {
      "text/html": [
       "<div>\n",
       "<style scoped>\n",
       "    .dataframe tbody tr th:only-of-type {\n",
       "        vertical-align: middle;\n",
       "    }\n",
       "\n",
       "    .dataframe tbody tr th {\n",
       "        vertical-align: top;\n",
       "    }\n",
       "\n",
       "    .dataframe thead th {\n",
       "        text-align: right;\n",
       "    }\n",
       "</style>\n",
       "<table border=\"1\" class=\"dataframe\">\n",
       "  <thead>\n",
       "    <tr style=\"text-align: right;\">\n",
       "      <th></th>\n",
       "      <th>DateCrawled</th>\n",
       "      <th>Price</th>\n",
       "      <th>VehicleType</th>\n",
       "      <th>RegistrationYear</th>\n",
       "      <th>Gearbox</th>\n",
       "      <th>Power</th>\n",
       "      <th>Model</th>\n",
       "      <th>Kilometer</th>\n",
       "      <th>RegistrationMonth</th>\n",
       "      <th>FuelType</th>\n",
       "      <th>Brand</th>\n",
       "      <th>Repaired</th>\n",
       "      <th>DateCreated</th>\n",
       "      <th>NumberOfPictures</th>\n",
       "      <th>PostalCode</th>\n",
       "      <th>LastSeen</th>\n",
       "    </tr>\n",
       "  </thead>\n",
       "  <tbody>\n",
       "    <tr>\n",
       "      <th>0</th>\n",
       "      <td>2016-03-24 11:52:17</td>\n",
       "      <td>480</td>\n",
       "      <td>NaN</td>\n",
       "      <td>1993</td>\n",
       "      <td>manual</td>\n",
       "      <td>0</td>\n",
       "      <td>golf</td>\n",
       "      <td>150000</td>\n",
       "      <td>0</td>\n",
       "      <td>petrol</td>\n",
       "      <td>volkswagen</td>\n",
       "      <td>NaN</td>\n",
       "      <td>2016-03-24 00:00:00</td>\n",
       "      <td>0</td>\n",
       "      <td>70435</td>\n",
       "      <td>2016-04-07 03:16:57</td>\n",
       "    </tr>\n",
       "    <tr>\n",
       "      <th>1</th>\n",
       "      <td>2016-03-24 10:58:45</td>\n",
       "      <td>18300</td>\n",
       "      <td>coupe</td>\n",
       "      <td>2011</td>\n",
       "      <td>manual</td>\n",
       "      <td>190</td>\n",
       "      <td>NaN</td>\n",
       "      <td>125000</td>\n",
       "      <td>5</td>\n",
       "      <td>gasoline</td>\n",
       "      <td>audi</td>\n",
       "      <td>yes</td>\n",
       "      <td>2016-03-24 00:00:00</td>\n",
       "      <td>0</td>\n",
       "      <td>66954</td>\n",
       "      <td>2016-04-07 01:46:50</td>\n",
       "    </tr>\n",
       "    <tr>\n",
       "      <th>2</th>\n",
       "      <td>2016-03-14 12:52:21</td>\n",
       "      <td>9800</td>\n",
       "      <td>suv</td>\n",
       "      <td>2004</td>\n",
       "      <td>auto</td>\n",
       "      <td>163</td>\n",
       "      <td>grand</td>\n",
       "      <td>125000</td>\n",
       "      <td>8</td>\n",
       "      <td>gasoline</td>\n",
       "      <td>jeep</td>\n",
       "      <td>NaN</td>\n",
       "      <td>2016-03-14 00:00:00</td>\n",
       "      <td>0</td>\n",
       "      <td>90480</td>\n",
       "      <td>2016-04-05 12:47:46</td>\n",
       "    </tr>\n",
       "    <tr>\n",
       "      <th>3</th>\n",
       "      <td>2016-03-17 16:54:04</td>\n",
       "      <td>1500</td>\n",
       "      <td>small</td>\n",
       "      <td>2001</td>\n",
       "      <td>manual</td>\n",
       "      <td>75</td>\n",
       "      <td>golf</td>\n",
       "      <td>150000</td>\n",
       "      <td>6</td>\n",
       "      <td>petrol</td>\n",
       "      <td>volkswagen</td>\n",
       "      <td>no</td>\n",
       "      <td>2016-03-17 00:00:00</td>\n",
       "      <td>0</td>\n",
       "      <td>91074</td>\n",
       "      <td>2016-03-17 17:40:17</td>\n",
       "    </tr>\n",
       "    <tr>\n",
       "      <th>4</th>\n",
       "      <td>2016-03-31 17:25:20</td>\n",
       "      <td>3600</td>\n",
       "      <td>small</td>\n",
       "      <td>2008</td>\n",
       "      <td>manual</td>\n",
       "      <td>69</td>\n",
       "      <td>fabia</td>\n",
       "      <td>90000</td>\n",
       "      <td>7</td>\n",
       "      <td>gasoline</td>\n",
       "      <td>skoda</td>\n",
       "      <td>no</td>\n",
       "      <td>2016-03-31 00:00:00</td>\n",
       "      <td>0</td>\n",
       "      <td>60437</td>\n",
       "      <td>2016-04-06 10:17:21</td>\n",
       "    </tr>\n",
       "  </tbody>\n",
       "</table>\n",
       "</div>"
      ],
      "text/plain": [
       "           DateCrawled  Price VehicleType  RegistrationYear Gearbox  Power  \\\n",
       "0  2016-03-24 11:52:17    480         NaN              1993  manual      0   \n",
       "1  2016-03-24 10:58:45  18300       coupe              2011  manual    190   \n",
       "2  2016-03-14 12:52:21   9800         suv              2004    auto    163   \n",
       "3  2016-03-17 16:54:04   1500       small              2001  manual     75   \n",
       "4  2016-03-31 17:25:20   3600       small              2008  manual     69   \n",
       "\n",
       "   Model  Kilometer  RegistrationMonth  FuelType       Brand Repaired  \\\n",
       "0   golf     150000                  0    petrol  volkswagen      NaN   \n",
       "1    NaN     125000                  5  gasoline        audi      yes   \n",
       "2  grand     125000                  8  gasoline        jeep      NaN   \n",
       "3   golf     150000                  6    petrol  volkswagen       no   \n",
       "4  fabia      90000                  7  gasoline       skoda       no   \n",
       "\n",
       "           DateCreated  NumberOfPictures  PostalCode             LastSeen  \n",
       "0  2016-03-24 00:00:00                 0       70435  2016-04-07 03:16:57  \n",
       "1  2016-03-24 00:00:00                 0       66954  2016-04-07 01:46:50  \n",
       "2  2016-03-14 00:00:00                 0       90480  2016-04-05 12:47:46  \n",
       "3  2016-03-17 00:00:00                 0       91074  2016-03-17 17:40:17  \n",
       "4  2016-03-31 00:00:00                 0       60437  2016-04-06 10:17:21  "
      ]
     },
     "execution_count": 5,
     "metadata": {},
     "output_type": "execute_result"
    }
   ],
   "source": [
    "df.head()"
   ]
  },
  {
   "cell_type": "code",
   "execution_count": 6,
   "metadata": {
    "scrolled": true
   },
   "outputs": [
    {
     "name": "stdout",
     "output_type": "stream",
     "text": [
      "<class 'pandas.core.frame.DataFrame'>\n",
      "RangeIndex: 354369 entries, 0 to 354368\n",
      "Data columns (total 16 columns):\n",
      " #   Column             Non-Null Count   Dtype \n",
      "---  ------             --------------   ----- \n",
      " 0   DateCrawled        354369 non-null  object\n",
      " 1   Price              354369 non-null  int64 \n",
      " 2   VehicleType        316879 non-null  object\n",
      " 3   RegistrationYear   354369 non-null  int64 \n",
      " 4   Gearbox            334536 non-null  object\n",
      " 5   Power              354369 non-null  int64 \n",
      " 6   Model              334664 non-null  object\n",
      " 7   Kilometer          354369 non-null  int64 \n",
      " 8   RegistrationMonth  354369 non-null  int64 \n",
      " 9   FuelType           321474 non-null  object\n",
      " 10  Brand              354369 non-null  object\n",
      " 11  Repaired           283215 non-null  object\n",
      " 12  DateCreated        354369 non-null  object\n",
      " 13  NumberOfPictures   354369 non-null  int64 \n",
      " 14  PostalCode         354369 non-null  int64 \n",
      " 15  LastSeen           354369 non-null  object\n",
      "dtypes: int64(7), object(9)\n",
      "memory usage: 43.3+ MB\n"
     ]
    }
   ],
   "source": [
    "df.info()"
   ]
  },
  {
   "cell_type": "code",
   "execution_count": 7,
   "metadata": {
    "scrolled": true
   },
   "outputs": [
    {
     "data": {
      "text/html": [
       "<style  type=\"text/css\" >\n",
       "#T_8d72b_row0_col0,#T_8d72b_row0_col1,#T_8d72b_row0_col2,#T_8d72b_row0_col3,#T_8d72b_row0_col4,#T_8d72b_row0_col5,#T_8d72b_row0_col6{\n",
       "            background-color:  #023858;\n",
       "            color:  #f1f1f1;\n",
       "        }#T_8d72b_row1_col0,#T_8d72b_row2_col0,#T_8d72b_row3_col3,#T_8d72b_row6_col0{\n",
       "            background-color:  #fdf5fa;\n",
       "            color:  #000000;\n",
       "        }#T_8d72b_row1_col1,#T_8d72b_row4_col1,#T_8d72b_row5_col0,#T_8d72b_row5_col1,#T_8d72b_row6_col1{\n",
       "            background-color:  #fef6fb;\n",
       "            color:  #000000;\n",
       "        }#T_8d72b_row1_col2,#T_8d72b_row1_col4,#T_8d72b_row1_col5,#T_8d72b_row2_col1,#T_8d72b_row2_col2,#T_8d72b_row2_col4,#T_8d72b_row2_col5,#T_8d72b_row3_col0,#T_8d72b_row3_col1,#T_8d72b_row3_col2,#T_8d72b_row3_col4,#T_8d72b_row3_col5,#T_8d72b_row3_col6,#T_8d72b_row4_col0,#T_8d72b_row4_col2,#T_8d72b_row4_col4,#T_8d72b_row4_col5,#T_8d72b_row5_col2,#T_8d72b_row5_col4,#T_8d72b_row5_col5,#T_8d72b_row6_col2,#T_8d72b_row6_col4,#T_8d72b_row6_col5,#T_8d72b_row7_col4,#T_8d72b_row7_col5{\n",
       "            background-color:  #fff7fb;\n",
       "            color:  #000000;\n",
       "        }#T_8d72b_row1_col3{\n",
       "            background-color:  #abbfdc;\n",
       "            color:  #000000;\n",
       "        }#T_8d72b_row1_col6{\n",
       "            background-color:  #e8e4f0;\n",
       "            color:  #000000;\n",
       "        }#T_8d72b_row2_col3{\n",
       "            background-color:  #efe9f3;\n",
       "            color:  #000000;\n",
       "        }#T_8d72b_row2_col6{\n",
       "            background-color:  #f4eef6;\n",
       "            color:  #000000;\n",
       "        }#T_8d72b_row4_col3{\n",
       "            background-color:  #adc1dd;\n",
       "            color:  #000000;\n",
       "        }#T_8d72b_row4_col6{\n",
       "            background-color:  #f2ecf5;\n",
       "            color:  #000000;\n",
       "        }#T_8d72b_row5_col3,#T_8d72b_row6_col3,#T_8d72b_row7_col3{\n",
       "            background-color:  #93b5d6;\n",
       "            color:  #000000;\n",
       "        }#T_8d72b_row5_col6{\n",
       "            background-color:  #e9e5f1;\n",
       "            color:  #000000;\n",
       "        }#T_8d72b_row6_col6{\n",
       "            background-color:  #dbdaeb;\n",
       "            color:  #000000;\n",
       "        }#T_8d72b_row7_col0,#T_8d72b_row7_col2{\n",
       "            background-color:  #f7f0f7;\n",
       "            color:  #000000;\n",
       "        }#T_8d72b_row7_col1{\n",
       "            background-color:  #fbf3f9;\n",
       "            color:  #000000;\n",
       "        }#T_8d72b_row7_col6{\n",
       "            background-color:  #c5cce3;\n",
       "            color:  #000000;\n",
       "        }</style><table id=\"T_8d72b_\" ><thead>    <tr>        <th class=\"blank level0\" ></th>        <th class=\"col_heading level0 col0\" >Price</th>        <th class=\"col_heading level0 col1\" >RegistrationYear</th>        <th class=\"col_heading level0 col2\" >Power</th>        <th class=\"col_heading level0 col3\" >Kilometer</th>        <th class=\"col_heading level0 col4\" >RegistrationMonth</th>        <th class=\"col_heading level0 col5\" >NumberOfPictures</th>        <th class=\"col_heading level0 col6\" >PostalCode</th>    </tr></thead><tbody>\n",
       "                <tr>\n",
       "                        <th id=\"T_8d72b_level0_row0\" class=\"row_heading level0 row0\" >count</th>\n",
       "                        <td id=\"T_8d72b_row0_col0\" class=\"data row0 col0\" >354369.000000</td>\n",
       "                        <td id=\"T_8d72b_row0_col1\" class=\"data row0 col1\" >354369.000000</td>\n",
       "                        <td id=\"T_8d72b_row0_col2\" class=\"data row0 col2\" >354369.000000</td>\n",
       "                        <td id=\"T_8d72b_row0_col3\" class=\"data row0 col3\" >354369.000000</td>\n",
       "                        <td id=\"T_8d72b_row0_col4\" class=\"data row0 col4\" >354369.000000</td>\n",
       "                        <td id=\"T_8d72b_row0_col5\" class=\"data row0 col5\" >354369.000000</td>\n",
       "                        <td id=\"T_8d72b_row0_col6\" class=\"data row0 col6\" >354369.000000</td>\n",
       "            </tr>\n",
       "            <tr>\n",
       "                        <th id=\"T_8d72b_level0_row1\" class=\"row_heading level0 row1\" >mean</th>\n",
       "                        <td id=\"T_8d72b_row1_col0\" class=\"data row1 col0\" >4416.660000</td>\n",
       "                        <td id=\"T_8d72b_row1_col1\" class=\"data row1 col1\" >2004.230000</td>\n",
       "                        <td id=\"T_8d72b_row1_col2\" class=\"data row1 col2\" >110.090000</td>\n",
       "                        <td id=\"T_8d72b_row1_col3\" class=\"data row1 col3\" >128211.170000</td>\n",
       "                        <td id=\"T_8d72b_row1_col4\" class=\"data row1 col4\" >5.710000</td>\n",
       "                        <td id=\"T_8d72b_row1_col5\" class=\"data row1 col5\" >0.000000</td>\n",
       "                        <td id=\"T_8d72b_row1_col6\" class=\"data row1 col6\" >50508.690000</td>\n",
       "            </tr>\n",
       "            <tr>\n",
       "                        <th id=\"T_8d72b_level0_row2\" class=\"row_heading level0 row2\" >std</th>\n",
       "                        <td id=\"T_8d72b_row2_col0\" class=\"data row2 col0\" >4514.160000</td>\n",
       "                        <td id=\"T_8d72b_row2_col1\" class=\"data row2 col1\" >90.230000</td>\n",
       "                        <td id=\"T_8d72b_row2_col2\" class=\"data row2 col2\" >189.850000</td>\n",
       "                        <td id=\"T_8d72b_row2_col3\" class=\"data row2 col3\" >37905.340000</td>\n",
       "                        <td id=\"T_8d72b_row2_col4\" class=\"data row2 col4\" >3.730000</td>\n",
       "                        <td id=\"T_8d72b_row2_col5\" class=\"data row2 col5\" >0.000000</td>\n",
       "                        <td id=\"T_8d72b_row2_col6\" class=\"data row2 col6\" >25783.100000</td>\n",
       "            </tr>\n",
       "            <tr>\n",
       "                        <th id=\"T_8d72b_level0_row3\" class=\"row_heading level0 row3\" >min</th>\n",
       "                        <td id=\"T_8d72b_row3_col0\" class=\"data row3 col0\" >0.000000</td>\n",
       "                        <td id=\"T_8d72b_row3_col1\" class=\"data row3 col1\" >1000.000000</td>\n",
       "                        <td id=\"T_8d72b_row3_col2\" class=\"data row3 col2\" >0.000000</td>\n",
       "                        <td id=\"T_8d72b_row3_col3\" class=\"data row3 col3\" >5000.000000</td>\n",
       "                        <td id=\"T_8d72b_row3_col4\" class=\"data row3 col4\" >0.000000</td>\n",
       "                        <td id=\"T_8d72b_row3_col5\" class=\"data row3 col5\" >0.000000</td>\n",
       "                        <td id=\"T_8d72b_row3_col6\" class=\"data row3 col6\" >1067.000000</td>\n",
       "            </tr>\n",
       "            <tr>\n",
       "                        <th id=\"T_8d72b_level0_row4\" class=\"row_heading level0 row4\" >25%</th>\n",
       "                        <td id=\"T_8d72b_row4_col0\" class=\"data row4 col0\" >1050.000000</td>\n",
       "                        <td id=\"T_8d72b_row4_col1\" class=\"data row4 col1\" >1999.000000</td>\n",
       "                        <td id=\"T_8d72b_row4_col2\" class=\"data row4 col2\" >69.000000</td>\n",
       "                        <td id=\"T_8d72b_row4_col3\" class=\"data row4 col3\" >125000.000000</td>\n",
       "                        <td id=\"T_8d72b_row4_col4\" class=\"data row4 col4\" >3.000000</td>\n",
       "                        <td id=\"T_8d72b_row4_col5\" class=\"data row4 col5\" >0.000000</td>\n",
       "                        <td id=\"T_8d72b_row4_col6\" class=\"data row4 col6\" >30165.000000</td>\n",
       "            </tr>\n",
       "            <tr>\n",
       "                        <th id=\"T_8d72b_level0_row5\" class=\"row_heading level0 row5\" >50%</th>\n",
       "                        <td id=\"T_8d72b_row5_col0\" class=\"data row5 col0\" >2700.000000</td>\n",
       "                        <td id=\"T_8d72b_row5_col1\" class=\"data row5 col1\" >2003.000000</td>\n",
       "                        <td id=\"T_8d72b_row5_col2\" class=\"data row5 col2\" >105.000000</td>\n",
       "                        <td id=\"T_8d72b_row5_col3\" class=\"data row5 col3\" >150000.000000</td>\n",
       "                        <td id=\"T_8d72b_row5_col4\" class=\"data row5 col4\" >6.000000</td>\n",
       "                        <td id=\"T_8d72b_row5_col5\" class=\"data row5 col5\" >0.000000</td>\n",
       "                        <td id=\"T_8d72b_row5_col6\" class=\"data row5 col6\" >49413.000000</td>\n",
       "            </tr>\n",
       "            <tr>\n",
       "                        <th id=\"T_8d72b_level0_row6\" class=\"row_heading level0 row6\" >75%</th>\n",
       "                        <td id=\"T_8d72b_row6_col0\" class=\"data row6 col0\" >6400.000000</td>\n",
       "                        <td id=\"T_8d72b_row6_col1\" class=\"data row6 col1\" >2008.000000</td>\n",
       "                        <td id=\"T_8d72b_row6_col2\" class=\"data row6 col2\" >143.000000</td>\n",
       "                        <td id=\"T_8d72b_row6_col3\" class=\"data row6 col3\" >150000.000000</td>\n",
       "                        <td id=\"T_8d72b_row6_col4\" class=\"data row6 col4\" >9.000000</td>\n",
       "                        <td id=\"T_8d72b_row6_col5\" class=\"data row6 col5\" >0.000000</td>\n",
       "                        <td id=\"T_8d72b_row6_col6\" class=\"data row6 col6\" >71083.000000</td>\n",
       "            </tr>\n",
       "            <tr>\n",
       "                        <th id=\"T_8d72b_level0_row7\" class=\"row_heading level0 row7\" >max</th>\n",
       "                        <td id=\"T_8d72b_row7_col0\" class=\"data row7 col0\" >20000.000000</td>\n",
       "                        <td id=\"T_8d72b_row7_col1\" class=\"data row7 col1\" >9999.000000</td>\n",
       "                        <td id=\"T_8d72b_row7_col2\" class=\"data row7 col2\" >20000.000000</td>\n",
       "                        <td id=\"T_8d72b_row7_col3\" class=\"data row7 col3\" >150000.000000</td>\n",
       "                        <td id=\"T_8d72b_row7_col4\" class=\"data row7 col4\" >12.000000</td>\n",
       "                        <td id=\"T_8d72b_row7_col5\" class=\"data row7 col5\" >0.000000</td>\n",
       "                        <td id=\"T_8d72b_row7_col6\" class=\"data row7 col6\" >99998.000000</td>\n",
       "            </tr>\n",
       "    </tbody></table>"
      ],
      "text/plain": [
       "<pandas.io.formats.style.Styler at 0x7fe4a88654c0>"
      ]
     },
     "execution_count": 7,
     "metadata": {},
     "output_type": "execute_result"
    }
   ],
   "source": [
    "df.describe().round(2).style.background_gradient(axis=None)"
   ]
  },
  {
   "cell_type": "code",
   "execution_count": 9,
   "metadata": {},
   "outputs": [
    {
     "data": {
      "text/html": [
       "<style  type=\"text/css\" >\n",
       "#T_0f5b2_row0_col2,#T_0f5b2_row1_col2,#T_0f5b2_row2_col2,#T_0f5b2_row3_col2,#T_0f5b2_row4_col2,#T_0f5b2_row5_col2,#T_0f5b2_row6_col2{\n",
       "            background-color:  #ffffb3;\n",
       "        }</style><table id=\"T_0f5b2_\" ><thead>    <tr>        <th class=\"blank level0\" ></th>        <th class=\"col_heading level0 col0\" >count</th>        <th class=\"col_heading level0 col1\" >mean</th>        <th class=\"col_heading level0 col2\" >std</th>        <th class=\"col_heading level0 col3\" >min</th>        <th class=\"col_heading level0 col4\" >25%</th>        <th class=\"col_heading level0 col5\" >50%</th>        <th class=\"col_heading level0 col6\" >75%</th>        <th class=\"col_heading level0 col7\" >max</th>    </tr></thead><tbody>\n",
       "                <tr>\n",
       "                        <th id=\"T_0f5b2_level0_row0\" class=\"row_heading level0 row0\" >Price</th>\n",
       "                        <td id=\"T_0f5b2_row0_col0\" class=\"data row0 col0\" >354369.000000</td>\n",
       "                        <td id=\"T_0f5b2_row0_col1\" class=\"data row0 col1\" >4416.656776</td>\n",
       "                        <td id=\"T_0f5b2_row0_col2\" class=\"data row0 col2\" >4514.158514</td>\n",
       "                        <td id=\"T_0f5b2_row0_col3\" class=\"data row0 col3\" >0.000000</td>\n",
       "                        <td id=\"T_0f5b2_row0_col4\" class=\"data row0 col4\" >1050.000000</td>\n",
       "                        <td id=\"T_0f5b2_row0_col5\" class=\"data row0 col5\" >2700.000000</td>\n",
       "                        <td id=\"T_0f5b2_row0_col6\" class=\"data row0 col6\" >6400.000000</td>\n",
       "                        <td id=\"T_0f5b2_row0_col7\" class=\"data row0 col7\" >20000.000000</td>\n",
       "            </tr>\n",
       "            <tr>\n",
       "                        <th id=\"T_0f5b2_level0_row1\" class=\"row_heading level0 row1\" >RegistrationYear</th>\n",
       "                        <td id=\"T_0f5b2_row1_col0\" class=\"data row1 col0\" >354369.000000</td>\n",
       "                        <td id=\"T_0f5b2_row1_col1\" class=\"data row1 col1\" >2004.234448</td>\n",
       "                        <td id=\"T_0f5b2_row1_col2\" class=\"data row1 col2\" >90.227958</td>\n",
       "                        <td id=\"T_0f5b2_row1_col3\" class=\"data row1 col3\" >1000.000000</td>\n",
       "                        <td id=\"T_0f5b2_row1_col4\" class=\"data row1 col4\" >1999.000000</td>\n",
       "                        <td id=\"T_0f5b2_row1_col5\" class=\"data row1 col5\" >2003.000000</td>\n",
       "                        <td id=\"T_0f5b2_row1_col6\" class=\"data row1 col6\" >2008.000000</td>\n",
       "                        <td id=\"T_0f5b2_row1_col7\" class=\"data row1 col7\" >9999.000000</td>\n",
       "            </tr>\n",
       "            <tr>\n",
       "                        <th id=\"T_0f5b2_level0_row2\" class=\"row_heading level0 row2\" >Power</th>\n",
       "                        <td id=\"T_0f5b2_row2_col0\" class=\"data row2 col0\" >354369.000000</td>\n",
       "                        <td id=\"T_0f5b2_row2_col1\" class=\"data row2 col1\" >110.094337</td>\n",
       "                        <td id=\"T_0f5b2_row2_col2\" class=\"data row2 col2\" >189.850405</td>\n",
       "                        <td id=\"T_0f5b2_row2_col3\" class=\"data row2 col3\" >0.000000</td>\n",
       "                        <td id=\"T_0f5b2_row2_col4\" class=\"data row2 col4\" >69.000000</td>\n",
       "                        <td id=\"T_0f5b2_row2_col5\" class=\"data row2 col5\" >105.000000</td>\n",
       "                        <td id=\"T_0f5b2_row2_col6\" class=\"data row2 col6\" >143.000000</td>\n",
       "                        <td id=\"T_0f5b2_row2_col7\" class=\"data row2 col7\" >20000.000000</td>\n",
       "            </tr>\n",
       "            <tr>\n",
       "                        <th id=\"T_0f5b2_level0_row3\" class=\"row_heading level0 row3\" >Kilometer</th>\n",
       "                        <td id=\"T_0f5b2_row3_col0\" class=\"data row3 col0\" >354369.000000</td>\n",
       "                        <td id=\"T_0f5b2_row3_col1\" class=\"data row3 col1\" >128211.172535</td>\n",
       "                        <td id=\"T_0f5b2_row3_col2\" class=\"data row3 col2\" >37905.341530</td>\n",
       "                        <td id=\"T_0f5b2_row3_col3\" class=\"data row3 col3\" >5000.000000</td>\n",
       "                        <td id=\"T_0f5b2_row3_col4\" class=\"data row3 col4\" >125000.000000</td>\n",
       "                        <td id=\"T_0f5b2_row3_col5\" class=\"data row3 col5\" >150000.000000</td>\n",
       "                        <td id=\"T_0f5b2_row3_col6\" class=\"data row3 col6\" >150000.000000</td>\n",
       "                        <td id=\"T_0f5b2_row3_col7\" class=\"data row3 col7\" >150000.000000</td>\n",
       "            </tr>\n",
       "            <tr>\n",
       "                        <th id=\"T_0f5b2_level0_row4\" class=\"row_heading level0 row4\" >RegistrationMonth</th>\n",
       "                        <td id=\"T_0f5b2_row4_col0\" class=\"data row4 col0\" >354369.000000</td>\n",
       "                        <td id=\"T_0f5b2_row4_col1\" class=\"data row4 col1\" >5.714645</td>\n",
       "                        <td id=\"T_0f5b2_row4_col2\" class=\"data row4 col2\" >3.726421</td>\n",
       "                        <td id=\"T_0f5b2_row4_col3\" class=\"data row4 col3\" >0.000000</td>\n",
       "                        <td id=\"T_0f5b2_row4_col4\" class=\"data row4 col4\" >3.000000</td>\n",
       "                        <td id=\"T_0f5b2_row4_col5\" class=\"data row4 col5\" >6.000000</td>\n",
       "                        <td id=\"T_0f5b2_row4_col6\" class=\"data row4 col6\" >9.000000</td>\n",
       "                        <td id=\"T_0f5b2_row4_col7\" class=\"data row4 col7\" >12.000000</td>\n",
       "            </tr>\n",
       "            <tr>\n",
       "                        <th id=\"T_0f5b2_level0_row5\" class=\"row_heading level0 row5\" >NumberOfPictures</th>\n",
       "                        <td id=\"T_0f5b2_row5_col0\" class=\"data row5 col0\" >354369.000000</td>\n",
       "                        <td id=\"T_0f5b2_row5_col1\" class=\"data row5 col1\" >0.000000</td>\n",
       "                        <td id=\"T_0f5b2_row5_col2\" class=\"data row5 col2\" >0.000000</td>\n",
       "                        <td id=\"T_0f5b2_row5_col3\" class=\"data row5 col3\" >0.000000</td>\n",
       "                        <td id=\"T_0f5b2_row5_col4\" class=\"data row5 col4\" >0.000000</td>\n",
       "                        <td id=\"T_0f5b2_row5_col5\" class=\"data row5 col5\" >0.000000</td>\n",
       "                        <td id=\"T_0f5b2_row5_col6\" class=\"data row5 col6\" >0.000000</td>\n",
       "                        <td id=\"T_0f5b2_row5_col7\" class=\"data row5 col7\" >0.000000</td>\n",
       "            </tr>\n",
       "            <tr>\n",
       "                        <th id=\"T_0f5b2_level0_row6\" class=\"row_heading level0 row6\" >PostalCode</th>\n",
       "                        <td id=\"T_0f5b2_row6_col0\" class=\"data row6 col0\" >354369.000000</td>\n",
       "                        <td id=\"T_0f5b2_row6_col1\" class=\"data row6 col1\" >50508.689087</td>\n",
       "                        <td id=\"T_0f5b2_row6_col2\" class=\"data row6 col2\" >25783.096248</td>\n",
       "                        <td id=\"T_0f5b2_row6_col3\" class=\"data row6 col3\" >1067.000000</td>\n",
       "                        <td id=\"T_0f5b2_row6_col4\" class=\"data row6 col4\" >30165.000000</td>\n",
       "                        <td id=\"T_0f5b2_row6_col5\" class=\"data row6 col5\" >49413.000000</td>\n",
       "                        <td id=\"T_0f5b2_row6_col6\" class=\"data row6 col6\" >71083.000000</td>\n",
       "                        <td id=\"T_0f5b2_row6_col7\" class=\"data row6 col7\" >99998.000000</td>\n",
       "            </tr>\n",
       "    </tbody></table>"
      ],
      "text/plain": [
       "<pandas.io.formats.style.Styler at 0x7fe52c3be5e0>"
      ]
     },
     "execution_count": 9,
     "metadata": {},
     "output_type": "execute_result"
    }
   ],
   "source": [
    "table = df.describe().T\n",
    "\n",
    "slice_ = ['std']\n",
    "table.style.set_properties(**{'background-color': '#ffffb3'}, subset=slice_)"
   ]
  },
  {
   "cell_type": "code",
   "execution_count": 10,
   "metadata": {
    "scrolled": true
   },
   "outputs": [
    {
     "data": {
      "text/html": [
       "<style  type=\"text/css\" >\n",
       "#T_6258f_row0_col0,#T_6258f_row1_col1,#T_6258f_row2_col2,#T_6258f_row3_col3,#T_6258f_row4_col4,#T_6258f_row5_col5{\n",
       "            background-color:  #b40426;\n",
       "            color:  #f1f1f1;\n",
       "        }#T_6258f_row0_col1{\n",
       "            background-color:  #516ddb;\n",
       "            color:  #000000;\n",
       "        }#T_6258f_row0_col2{\n",
       "            background-color:  #6c8ff1;\n",
       "            color:  #000000;\n",
       "        }#T_6258f_row0_col3,#T_6258f_row1_col2,#T_6258f_row1_col4,#T_6258f_row3_col0,#T_6258f_row3_col1,#T_6258f_row3_col5{\n",
       "            background-color:  #3b4cc0;\n",
       "            color:  #f1f1f1;\n",
       "        }#T_6258f_row0_col4{\n",
       "            background-color:  #5f7fe8;\n",
       "            color:  #000000;\n",
       "        }#T_6258f_row0_col5{\n",
       "            background-color:  #5470de;\n",
       "            color:  #000000;\n",
       "        }#T_6258f_row1_col0{\n",
       "            background-color:  #94b6ff;\n",
       "            color:  #000000;\n",
       "        }#T_6258f_row1_col3{\n",
       "            background-color:  #7ea1fa;\n",
       "            color:  #000000;\n",
       "        }#T_6258f_row1_col5{\n",
       "            background-color:  #3c4ec2;\n",
       "            color:  #f1f1f1;\n",
       "        }#T_6258f_row2_col0{\n",
       "            background-color:  #b6cefa;\n",
       "            color:  #000000;\n",
       "        }#T_6258f_row2_col1,#T_6258f_row5_col1{\n",
       "            background-color:  #4961d2;\n",
       "            color:  #f1f1f1;\n",
       "        }#T_6258f_row2_col3{\n",
       "            background-color:  #93b5fe;\n",
       "            color:  #000000;\n",
       "        }#T_6258f_row2_col4{\n",
       "            background-color:  #4a63d3;\n",
       "            color:  #f1f1f1;\n",
       "        }#T_6258f_row2_col5{\n",
       "            background-color:  #4358cb;\n",
       "            color:  #f1f1f1;\n",
       "        }#T_6258f_row3_col2,#T_6258f_row5_col4{\n",
       "            background-color:  #4257c9;\n",
       "            color:  #f1f1f1;\n",
       "        }#T_6258f_row3_col4,#T_6258f_row4_col5,#T_6258f_row5_col2{\n",
       "            background-color:  #4055c8;\n",
       "            color:  #f1f1f1;\n",
       "        }#T_6258f_row4_col0{\n",
       "            background-color:  #aac7fd;\n",
       "            color:  #000000;\n",
       "        }#T_6258f_row4_col1{\n",
       "            background-color:  #465ecf;\n",
       "            color:  #f1f1f1;\n",
       "        }#T_6258f_row4_col2{\n",
       "            background-color:  #485fd1;\n",
       "            color:  #f1f1f1;\n",
       "        }#T_6258f_row4_col3{\n",
       "            background-color:  #8fb1fe;\n",
       "            color:  #000000;\n",
       "        }#T_6258f_row5_col0{\n",
       "            background-color:  #a1c0ff;\n",
       "            color:  #000000;\n",
       "        }#T_6258f_row5_col3{\n",
       "            background-color:  #8badfd;\n",
       "            color:  #000000;\n",
       "        }</style><table id=\"T_6258f_\" ><thead>    <tr>        <th class=\"blank level0\" ></th>        <th class=\"col_heading level0 col0\" >Price</th>        <th class=\"col_heading level0 col1\" >RegistrationYear</th>        <th class=\"col_heading level0 col2\" >Power</th>        <th class=\"col_heading level0 col3\" >Kilometer</th>        <th class=\"col_heading level0 col4\" >RegistrationMonth</th>        <th class=\"col_heading level0 col5\" >PostalCode</th>    </tr></thead><tbody>\n",
       "                <tr>\n",
       "                        <th id=\"T_6258f_level0_row0\" class=\"row_heading level0 row0\" >Price</th>\n",
       "                        <td id=\"T_6258f_row0_col0\" class=\"data row0 col0\" >1.000000</td>\n",
       "                        <td id=\"T_6258f_row0_col1\" class=\"data row0 col1\" >0.026916</td>\n",
       "                        <td id=\"T_6258f_row0_col2\" class=\"data row0 col2\" >0.158872</td>\n",
       "                        <td id=\"T_6258f_row0_col3\" class=\"data row0 col3\" >-0.333199</td>\n",
       "                        <td id=\"T_6258f_row0_col4\" class=\"data row0 col4\" >0.110581</td>\n",
       "                        <td id=\"T_6258f_row0_col5\" class=\"data row0 col5\" >0.076055</td>\n",
       "            </tr>\n",
       "            <tr>\n",
       "                        <th id=\"T_6258f_level0_row1\" class=\"row_heading level0 row1\" >RegistrationYear</th>\n",
       "                        <td id=\"T_6258f_row1_col0\" class=\"data row1 col0\" >0.026916</td>\n",
       "                        <td id=\"T_6258f_row1_col1\" class=\"data row1 col1\" >1.000000</td>\n",
       "                        <td id=\"T_6258f_row1_col2\" class=\"data row1 col2\" >-0.000828</td>\n",
       "                        <td id=\"T_6258f_row1_col3\" class=\"data row1 col3\" >-0.053447</td>\n",
       "                        <td id=\"T_6258f_row1_col4\" class=\"data row1 col4\" >-0.011619</td>\n",
       "                        <td id=\"T_6258f_row1_col5\" class=\"data row1 col5\" >-0.003459</td>\n",
       "            </tr>\n",
       "            <tr>\n",
       "                        <th id=\"T_6258f_level0_row2\" class=\"row_heading level0 row2\" >Power</th>\n",
       "                        <td id=\"T_6258f_row2_col0\" class=\"data row2 col0\" >0.158872</td>\n",
       "                        <td id=\"T_6258f_row2_col1\" class=\"data row2 col1\" >-0.000828</td>\n",
       "                        <td id=\"T_6258f_row2_col2\" class=\"data row2 col2\" >1.000000</td>\n",
       "                        <td id=\"T_6258f_row2_col3\" class=\"data row2 col3\" >0.024002</td>\n",
       "                        <td id=\"T_6258f_row2_col4\" class=\"data row2 col4\" >0.043380</td>\n",
       "                        <td id=\"T_6258f_row2_col5\" class=\"data row2 col5\" >0.021665</td>\n",
       "            </tr>\n",
       "            <tr>\n",
       "                        <th id=\"T_6258f_level0_row3\" class=\"row_heading level0 row3\" >Kilometer</th>\n",
       "                        <td id=\"T_6258f_row3_col0\" class=\"data row3 col0\" >-0.333199</td>\n",
       "                        <td id=\"T_6258f_row3_col1\" class=\"data row3 col1\" >-0.053447</td>\n",
       "                        <td id=\"T_6258f_row3_col2\" class=\"data row3 col2\" >0.024002</td>\n",
       "                        <td id=\"T_6258f_row3_col3\" class=\"data row3 col3\" >1.000000</td>\n",
       "                        <td id=\"T_6258f_row3_col4\" class=\"data row3 col4\" >0.009571</td>\n",
       "                        <td id=\"T_6258f_row3_col5\" class=\"data row3 col5\" >-0.007698</td>\n",
       "            </tr>\n",
       "            <tr>\n",
       "                        <th id=\"T_6258f_level0_row4\" class=\"row_heading level0 row4\" >RegistrationMonth</th>\n",
       "                        <td id=\"T_6258f_row4_col0\" class=\"data row4 col0\" >0.110581</td>\n",
       "                        <td id=\"T_6258f_row4_col1\" class=\"data row4 col1\" >-0.011619</td>\n",
       "                        <td id=\"T_6258f_row4_col2\" class=\"data row4 col2\" >0.043380</td>\n",
       "                        <td id=\"T_6258f_row4_col3\" class=\"data row4 col3\" >0.009571</td>\n",
       "                        <td id=\"T_6258f_row4_col4\" class=\"data row4 col4\" >1.000000</td>\n",
       "                        <td id=\"T_6258f_row4_col5\" class=\"data row4 col5\" >0.013995</td>\n",
       "            </tr>\n",
       "            <tr>\n",
       "                        <th id=\"T_6258f_level0_row5\" class=\"row_heading level0 row5\" >PostalCode</th>\n",
       "                        <td id=\"T_6258f_row5_col0\" class=\"data row5 col0\" >0.076055</td>\n",
       "                        <td id=\"T_6258f_row5_col1\" class=\"data row5 col1\" >-0.003459</td>\n",
       "                        <td id=\"T_6258f_row5_col2\" class=\"data row5 col2\" >0.021665</td>\n",
       "                        <td id=\"T_6258f_row5_col3\" class=\"data row5 col3\" >-0.007698</td>\n",
       "                        <td id=\"T_6258f_row5_col4\" class=\"data row5 col4\" >0.013995</td>\n",
       "                        <td id=\"T_6258f_row5_col5\" class=\"data row5 col5\" >1.000000</td>\n",
       "            </tr>\n",
       "    </tbody></table>"
      ],
      "text/plain": [
       "<pandas.io.formats.style.Styler at 0x7fe4a86bd640>"
      ]
     },
     "execution_count": 10,
     "metadata": {},
     "output_type": "execute_result"
    }
   ],
   "source": [
    "df2 = df.drop(['NumberOfPictures'], axis=1)\n",
    "df2.head()\n",
    "df2.corr().style.background_gradient('coolwarm')"
   ]
  },
  {
   "cell_type": "code",
   "execution_count": 11,
   "metadata": {},
   "outputs": [
    {
     "name": "stdout",
     "output_type": "stream",
     "text": [
      "0.5126038829883884\n",
      "0.0\n"
     ]
    }
   ],
   "source": [
    "rho, p = spearmanr(df['Price'], df['Power'])\n",
    "print(rho)\n",
    "print(p)"
   ]
  },
  {
   "cell_type": "markdown",
   "metadata": {},
   "source": [
    "___\n",
    "### **Вывод блока:**\n",
    "\n",
    "**Изучив общие данные имеем:**\n",
    "- *354369* строк и *16* колонок.\n",
    "- Тип данных: *object*, *int*\n",
    "\n",
    "- Применив метод `describe` наблюдаем большое отклонение и выбросы у колонок: `Мощность`, `Цена`, `Год регистрации`.\n",
    "\n",
    "- Посмотрев корреляцию можем судить о наличии слабой зависимости цены от мощности и месяца регистрации.\n"
   ]
  },
  {
   "cell_type": "markdown",
   "metadata": {},
   "source": [
    "______\n",
    "______\n",
    "## *Предобработка данных.*\n"
   ]
  },
  {
   "cell_type": "markdown",
   "metadata": {},
   "source": [
    "### Удаление лишних данных и приведение данных к общему виду:"
   ]
  },
  {
   "cell_type": "markdown",
   "metadata": {},
   "source": [
    "**Удалим неинформативные столбцы, не влияющие на результаты прогнозирования:**\n",
    "\n",
    "*Почтовой индекс удалять не будем, т.к хоть и мизерная, но корреляция с другими признаками присутствует.*"
   ]
  },
  {
   "cell_type": "code",
   "execution_count": 12,
   "metadata": {},
   "outputs": [
    {
     "data": {
      "text/plain": [
       "0    354369\n",
       "Name: NumberOfPictures, dtype: int64"
      ]
     },
     "execution_count": 12,
     "metadata": {},
     "output_type": "execute_result"
    }
   ],
   "source": [
    "df.NumberOfPictures.value_counts()"
   ]
  },
  {
   "cell_type": "code",
   "execution_count": 13,
   "metadata": {},
   "outputs": [],
   "source": [
    "df = df.drop(['DateCrawled', 'DateCreated', 'NumberOfPictures', 'LastSeen'], axis=1)"
   ]
  },
  {
   "cell_type": "markdown",
   "metadata": {},
   "source": [
    "_____\n",
    "**Приведем названия столбцов к общему виду:**"
   ]
  },
  {
   "cell_type": "code",
   "execution_count": 14,
   "metadata": {},
   "outputs": [],
   "source": [
    "df = df.rename(columns={'VehicleType': 'vehicle_type',\n",
    "                        'RegistrationYear': 'registration_year',\n",
    "                        'RegistrationMonth': 'registration_month',\n",
    "                        'FuelType': 'fuel_type',\n",
    "                        'PostalCode': 'postal_code',\n",
    "                        'Price': 'price',\n",
    "                        'Gearbox': 'gearbox',\n",
    "                        'Power': 'power',\n",
    "                        'Model': 'model',\n",
    "                        'Kilometer': 'kilometer',\n",
    "                        'Brand': 'brand',\n",
    "                        'Repaired': 'repaired'\n",
    "                    })"
   ]
  },
  {
   "cell_type": "markdown",
   "metadata": {},
   "source": [
    "______\n",
    "### Дубликаты:\n",
    "**Проверим данные на наличие дубликатов:**"
   ]
  },
  {
   "cell_type": "code",
   "execution_count": 15,
   "metadata": {},
   "outputs": [
    {
     "data": {
      "text/plain": [
       "21333"
      ]
     },
     "execution_count": 15,
     "metadata": {},
     "output_type": "execute_result"
    }
   ],
   "source": [
    "df.duplicated().sum()"
   ]
  },
  {
   "cell_type": "code",
   "execution_count": 16,
   "metadata": {
    "scrolled": true
   },
   "outputs": [
    {
     "data": {
      "text/html": [
       "<div>\n",
       "<style scoped>\n",
       "    .dataframe tbody tr th:only-of-type {\n",
       "        vertical-align: middle;\n",
       "    }\n",
       "\n",
       "    .dataframe tbody tr th {\n",
       "        vertical-align: top;\n",
       "    }\n",
       "\n",
       "    .dataframe thead th {\n",
       "        text-align: right;\n",
       "    }\n",
       "</style>\n",
       "<table border=\"1\" class=\"dataframe\">\n",
       "  <thead>\n",
       "    <tr style=\"text-align: right;\">\n",
       "      <th></th>\n",
       "      <th>price</th>\n",
       "      <th>vehicle_type</th>\n",
       "      <th>registration_year</th>\n",
       "      <th>gearbox</th>\n",
       "      <th>power</th>\n",
       "      <th>model</th>\n",
       "      <th>kilometer</th>\n",
       "      <th>registration_month</th>\n",
       "      <th>fuel_type</th>\n",
       "      <th>brand</th>\n",
       "      <th>repaired</th>\n",
       "      <th>postal_code</th>\n",
       "    </tr>\n",
       "  </thead>\n",
       "  <tbody>\n",
       "    <tr>\n",
       "      <th>3551</th>\n",
       "      <td>1670</td>\n",
       "      <td>sedan</td>\n",
       "      <td>1999</td>\n",
       "      <td>manual</td>\n",
       "      <td>75</td>\n",
       "      <td>golf</td>\n",
       "      <td>150000</td>\n",
       "      <td>8</td>\n",
       "      <td>petrol</td>\n",
       "      <td>volkswagen</td>\n",
       "      <td>no</td>\n",
       "      <td>52388</td>\n",
       "    </tr>\n",
       "    <tr>\n",
       "      <th>3786</th>\n",
       "      <td>2999</td>\n",
       "      <td>sedan</td>\n",
       "      <td>2002</td>\n",
       "      <td>manual</td>\n",
       "      <td>101</td>\n",
       "      <td>golf</td>\n",
       "      <td>150000</td>\n",
       "      <td>6</td>\n",
       "      <td>gasoline</td>\n",
       "      <td>volkswagen</td>\n",
       "      <td>no</td>\n",
       "      <td>32756</td>\n",
       "    </tr>\n",
       "    <tr>\n",
       "      <th>3907</th>\n",
       "      <td>500</td>\n",
       "      <td>small</td>\n",
       "      <td>1999</td>\n",
       "      <td>manual</td>\n",
       "      <td>55</td>\n",
       "      <td>corsa</td>\n",
       "      <td>150000</td>\n",
       "      <td>12</td>\n",
       "      <td>petrol</td>\n",
       "      <td>opel</td>\n",
       "      <td>no</td>\n",
       "      <td>51377</td>\n",
       "    </tr>\n",
       "    <tr>\n",
       "      <th>4134</th>\n",
       "      <td>18750</td>\n",
       "      <td>sedan</td>\n",
       "      <td>2014</td>\n",
       "      <td>manual</td>\n",
       "      <td>150</td>\n",
       "      <td>golf</td>\n",
       "      <td>20000</td>\n",
       "      <td>9</td>\n",
       "      <td>gasoline</td>\n",
       "      <td>volkswagen</td>\n",
       "      <td>no</td>\n",
       "      <td>38518</td>\n",
       "    </tr>\n",
       "    <tr>\n",
       "      <th>4222</th>\n",
       "      <td>14500</td>\n",
       "      <td>wagon</td>\n",
       "      <td>2007</td>\n",
       "      <td>manual</td>\n",
       "      <td>140</td>\n",
       "      <td>a6</td>\n",
       "      <td>100000</td>\n",
       "      <td>3</td>\n",
       "      <td>gasoline</td>\n",
       "      <td>audi</td>\n",
       "      <td>no</td>\n",
       "      <td>94060</td>\n",
       "    </tr>\n",
       "    <tr>\n",
       "      <th>4300</th>\n",
       "      <td>1250</td>\n",
       "      <td>wagon</td>\n",
       "      <td>2000</td>\n",
       "      <td>manual</td>\n",
       "      <td>131</td>\n",
       "      <td>mondeo</td>\n",
       "      <td>150000</td>\n",
       "      <td>7</td>\n",
       "      <td>petrol</td>\n",
       "      <td>ford</td>\n",
       "      <td>no</td>\n",
       "      <td>17389</td>\n",
       "    </tr>\n",
       "    <tr>\n",
       "      <th>4604</th>\n",
       "      <td>7000</td>\n",
       "      <td>suv</td>\n",
       "      <td>2006</td>\n",
       "      <td>manual</td>\n",
       "      <td>177</td>\n",
       "      <td>rav</td>\n",
       "      <td>150000</td>\n",
       "      <td>0</td>\n",
       "      <td>gasoline</td>\n",
       "      <td>toyota</td>\n",
       "      <td>no</td>\n",
       "      <td>51105</td>\n",
       "    </tr>\n",
       "    <tr>\n",
       "      <th>4826</th>\n",
       "      <td>5500</td>\n",
       "      <td>sedan</td>\n",
       "      <td>2000</td>\n",
       "      <td>manual</td>\n",
       "      <td>170</td>\n",
       "      <td>3er</td>\n",
       "      <td>150000</td>\n",
       "      <td>5</td>\n",
       "      <td>petrol</td>\n",
       "      <td>bmw</td>\n",
       "      <td>no</td>\n",
       "      <td>41470</td>\n",
       "    </tr>\n",
       "    <tr>\n",
       "      <th>5036</th>\n",
       "      <td>8000</td>\n",
       "      <td>bus</td>\n",
       "      <td>2012</td>\n",
       "      <td>manual</td>\n",
       "      <td>114</td>\n",
       "      <td>vivaro</td>\n",
       "      <td>100000</td>\n",
       "      <td>6</td>\n",
       "      <td>gasoline</td>\n",
       "      <td>opel</td>\n",
       "      <td>no</td>\n",
       "      <td>10115</td>\n",
       "    </tr>\n",
       "    <tr>\n",
       "      <th>6872</th>\n",
       "      <td>1000</td>\n",
       "      <td>sedan</td>\n",
       "      <td>1991</td>\n",
       "      <td>manual</td>\n",
       "      <td>116</td>\n",
       "      <td>vectra</td>\n",
       "      <td>80000</td>\n",
       "      <td>11</td>\n",
       "      <td>petrol</td>\n",
       "      <td>opel</td>\n",
       "      <td>no</td>\n",
       "      <td>25856</td>\n",
       "    </tr>\n",
       "  </tbody>\n",
       "</table>\n",
       "</div>"
      ],
      "text/plain": [
       "      price vehicle_type  registration_year gearbox  power   model  kilometer  \\\n",
       "3551   1670        sedan               1999  manual     75    golf     150000   \n",
       "3786   2999        sedan               2002  manual    101    golf     150000   \n",
       "3907    500        small               1999  manual     55   corsa     150000   \n",
       "4134  18750        sedan               2014  manual    150    golf      20000   \n",
       "4222  14500        wagon               2007  manual    140      a6     100000   \n",
       "4300   1250        wagon               2000  manual    131  mondeo     150000   \n",
       "4604   7000          suv               2006  manual    177     rav     150000   \n",
       "4826   5500        sedan               2000  manual    170     3er     150000   \n",
       "5036   8000          bus               2012  manual    114  vivaro     100000   \n",
       "6872   1000        sedan               1991  manual    116  vectra      80000   \n",
       "\n",
       "      registration_month fuel_type       brand repaired  postal_code  \n",
       "3551                   8    petrol  volkswagen       no        52388  \n",
       "3786                   6  gasoline  volkswagen       no        32756  \n",
       "3907                  12    petrol        opel       no        51377  \n",
       "4134                   9  gasoline  volkswagen       no        38518  \n",
       "4222                   3  gasoline        audi       no        94060  \n",
       "4300                   7    petrol        ford       no        17389  \n",
       "4604                   0  gasoline      toyota       no        51105  \n",
       "4826                   5    petrol         bmw       no        41470  \n",
       "5036                   6  gasoline        opel       no        10115  \n",
       "6872                  11    petrol        opel       no        25856  "
      ]
     },
     "execution_count": 16,
     "metadata": {},
     "output_type": "execute_result"
    }
   ],
   "source": [
    "dupl = df[df.duplicated()].head(10)\n",
    "dupl"
   ]
  },
  {
   "cell_type": "markdown",
   "metadata": {},
   "source": [
    "До удаления неинформативных столбцов было всего 4 дубля, поэтому удалять не будем."
   ]
  },
  {
   "cell_type": "markdown",
   "metadata": {},
   "source": [
    "______\n",
    "### Пропуски:\n",
    "**Проверим датасет на пропуски:**"
   ]
  },
  {
   "cell_type": "code",
   "execution_count": 17,
   "metadata": {},
   "outputs": [
    {
     "data": {
      "text/html": [
       "<style  type=\"text/css\" >\n",
       "#T_2f247_row0_col0,#T_2f247_row2_col0,#T_2f247_row4_col0,#T_2f247_row6_col0,#T_2f247_row7_col0,#T_2f247_row9_col0,#T_2f247_row11_col0{\n",
       "            background-color:  #3b4cc0;\n",
       "            color:  #f1f1f1;\n",
       "        }#T_2f247_row1_col0{\n",
       "            background-color:  #e9d5cb;\n",
       "            color:  #000000;\n",
       "        }#T_2f247_row3_col0,#T_2f247_row5_col0{\n",
       "            background-color:  #9ebeff;\n",
       "            color:  #000000;\n",
       "        }#T_2f247_row8_col0{\n",
       "            background-color:  #cfdaea;\n",
       "            color:  #000000;\n",
       "        }#T_2f247_row10_col0{\n",
       "            background-color:  #b40426;\n",
       "            color:  #f1f1f1;\n",
       "        }</style><table id=\"T_2f247_\" ><thead>    <tr>        <th class=\"blank level0\" ></th>        <th class=\"col_heading level0 col0\" >0</th>    </tr></thead><tbody>\n",
       "                <tr>\n",
       "                        <th id=\"T_2f247_level0_row0\" class=\"row_heading level0 row0\" >price</th>\n",
       "                        <td id=\"T_2f247_row0_col0\" class=\"data row0 col0\" >0.000000</td>\n",
       "            </tr>\n",
       "            <tr>\n",
       "                        <th id=\"T_2f247_level0_row1\" class=\"row_heading level0 row1\" >vehicle_type</th>\n",
       "                        <td id=\"T_2f247_row1_col0\" class=\"data row1 col0\" >11.000000</td>\n",
       "            </tr>\n",
       "            <tr>\n",
       "                        <th id=\"T_2f247_level0_row2\" class=\"row_heading level0 row2\" >registration_year</th>\n",
       "                        <td id=\"T_2f247_row2_col0\" class=\"data row2 col0\" >0.000000</td>\n",
       "            </tr>\n",
       "            <tr>\n",
       "                        <th id=\"T_2f247_level0_row3\" class=\"row_heading level0 row3\" >gearbox</th>\n",
       "                        <td id=\"T_2f247_row3_col0\" class=\"data row3 col0\" >6.000000</td>\n",
       "            </tr>\n",
       "            <tr>\n",
       "                        <th id=\"T_2f247_level0_row4\" class=\"row_heading level0 row4\" >power</th>\n",
       "                        <td id=\"T_2f247_row4_col0\" class=\"data row4 col0\" >0.000000</td>\n",
       "            </tr>\n",
       "            <tr>\n",
       "                        <th id=\"T_2f247_level0_row5\" class=\"row_heading level0 row5\" >model</th>\n",
       "                        <td id=\"T_2f247_row5_col0\" class=\"data row5 col0\" >6.000000</td>\n",
       "            </tr>\n",
       "            <tr>\n",
       "                        <th id=\"T_2f247_level0_row6\" class=\"row_heading level0 row6\" >kilometer</th>\n",
       "                        <td id=\"T_2f247_row6_col0\" class=\"data row6 col0\" >0.000000</td>\n",
       "            </tr>\n",
       "            <tr>\n",
       "                        <th id=\"T_2f247_level0_row7\" class=\"row_heading level0 row7\" >registration_month</th>\n",
       "                        <td id=\"T_2f247_row7_col0\" class=\"data row7 col0\" >0.000000</td>\n",
       "            </tr>\n",
       "            <tr>\n",
       "                        <th id=\"T_2f247_level0_row8\" class=\"row_heading level0 row8\" >fuel_type</th>\n",
       "                        <td id=\"T_2f247_row8_col0\" class=\"data row8 col0\" >9.000000</td>\n",
       "            </tr>\n",
       "            <tr>\n",
       "                        <th id=\"T_2f247_level0_row9\" class=\"row_heading level0 row9\" >brand</th>\n",
       "                        <td id=\"T_2f247_row9_col0\" class=\"data row9 col0\" >0.000000</td>\n",
       "            </tr>\n",
       "            <tr>\n",
       "                        <th id=\"T_2f247_level0_row10\" class=\"row_heading level0 row10\" >repaired</th>\n",
       "                        <td id=\"T_2f247_row10_col0\" class=\"data row10 col0\" >20.000000</td>\n",
       "            </tr>\n",
       "            <tr>\n",
       "                        <th id=\"T_2f247_level0_row11\" class=\"row_heading level0 row11\" >postal_code</th>\n",
       "                        <td id=\"T_2f247_row11_col0\" class=\"data row11 col0\" >0.000000</td>\n",
       "            </tr>\n",
       "    </tbody></table>"
      ],
      "text/plain": [
       "<pandas.io.formats.style.Styler at 0x7fe4a8702190>"
      ]
     },
     "execution_count": 17,
     "metadata": {},
     "output_type": "execute_result"
    }
   ],
   "source": [
    "#выведем информацию по пропускам в процентном соотношении к общему кол-ву строк\n",
    "pd.DataFrame(round(df.isna().mean()*100,)).style.background_gradient('coolwarm')"
   ]
  },
  {
   "cell_type": "markdown",
   "metadata": {},
   "source": [
    "**Выделим столбцы с категориальными значениями:**"
   ]
  },
  {
   "cell_type": "code",
   "execution_count": 18,
   "metadata": {},
   "outputs": [],
   "source": [
    "cat_col = ['vehicle_type', 'gearbox', 'model', 'fuel_type', 'brand', 'repaired'] "
   ]
  },
  {
   "cell_type": "markdown",
   "metadata": {},
   "source": [
    "**Заполним пропуски в этих колонках на \"unknown\", дабы выделить их в отдельную категорию:**\n",
    "\n",
    "Удалять пропуски не будем, их здесь слишком много и это может сказаться на  корректности результатов."
   ]
  },
  {
   "cell_type": "code",
   "execution_count": 19,
   "metadata": {},
   "outputs": [
    {
     "data": {
      "text/plain": [
       "Series([], dtype: int64)"
      ]
     },
     "execution_count": 19,
     "metadata": {},
     "output_type": "execute_result"
    }
   ],
   "source": [
    "df[cat_col] = df[cat_col].fillna('unknown')\n",
    "mis_col = df.isna().sum()\n",
    "\n",
    "mis_col = mis_col[mis_col > 0]\n",
    "mis_col"
   ]
  },
  {
   "cell_type": "markdown",
   "metadata": {},
   "source": [
    "___\n",
    "#### EDA:"
   ]
  },
  {
   "cell_type": "markdown",
   "metadata": {},
   "source": [
    "**Посмотрим, как распределены данные в категориальных столбцах:**"
   ]
  },
  {
   "cell_type": "markdown",
   "metadata": {},
   "source": [
    "Так как в некоторых столбцах значений достаточно много и не все помещаются на круговой диаграмме, то можно проверить данные на синонимичные категории, а также объединить малые категории в одну общую, но это может понадобится лишь для подробного исследовательского анализа в дальнейшем, поэтому сейчас только увеличим масштаб графика.\n"
   ]
  },
  {
   "cell_type": "code",
   "execution_count": 115,
   "metadata": {
    "scrolled": false
   },
   "outputs": [
    {
     "data": {
      "image/png": "[encoded data removed]",
      "text/plain": [
       "<Figure size 1440x720 with 1 Axes>"
      ]
     },
     "metadata": {},
     "output_type": "display_data"
    },
    {
     "data": {
      "image/png": "[encoded data removed]",
      "text/plain": [
       "<Figure size 1440x720 with 1 Axes>"
      ]
     },
     "metadata": {},
     "output_type": "display_data"
    },
    {
     "data": {
      "image/png": "[encoded data removed]",
      "text/plain": [
       "<Figure size 1440x720 with 1 Axes>"
      ]
     },
     "metadata": {},
     "output_type": "display_data"
    },
    {
     "data": {
      "image/png": "[encoded data removed]",
      "text/plain": [
       "<Figure size 1440x720 with 1 Axes>"
      ]
     },
     "metadata": {},
     "output_type": "display_data"
    },
    {
     "data": {
      "image/png": "[encoded data removed]",
      "text/plain": [
       "<Figure size 1440x720 with 1 Axes>"
      ]
     },
     "metadata": {},
     "output_type": "display_data"
    },
    {
     "data": {
      "image/png": "[encoded data removed]",
      "text/plain": [
       "<Figure size 1440x720 with 1 Axes>"
      ]
     },
     "metadata": {},
     "output_type": "display_data"
    }
   ],
   "source": [
    "columns = ['repaired', 'gearbox', 'vehicle_type', 'model', 'brand', 'fuel_type']\n",
    "\n",
    "def plotpie(columns):\n",
    "    for col in columns:\n",
    "        df1 = df[col].value_counts()\n",
    "        df1.plot(kind='pie')\n",
    "        fig = plt.gcf()\n",
    "        fig.set_size_inches(20,10)\n",
    "        plt.show()\n",
    "\n",
    "plotpie(columns)"
   ]
  },
  {
   "cell_type": "markdown",
   "metadata": {},
   "source": [
    "___\n",
    "**Промежуточный вывод:**\n",
    "\n",
    "Доля `unknown` в некоторых столбцах значительна. На данном этапе дополнительно прорабатывать пропуски не будем, в конце проекта будут оставлены рекомендации по дальнейшим улучшениям.\n",
    "\n",
    "* Большинство машин не было в ремонте, так сказать - \"Не биты, не крашены\".\n",
    "* Коробка передач в основном механическая.\n",
    "* Наиболее распространенные типы авто - *Седан* и *small* и *фургон*\n",
    "* Наиболее востребованные бренды - *volkswagen*, *opel*, *bmw*\n",
    "* Наиболее популярные модели - *golf* и *3er*, далее следуют две категории: *other* и *uknown*.\n",
    "* Более популярный тип топлива - *бензин*.\n",
    "_______"
   ]
  },
  {
   "cell_type": "markdown",
   "metadata": {},
   "source": [
    "**Посмотрим, как распределены данные в численных столбцах:**"
   ]
  },
  {
   "cell_type": "code",
   "execution_count": 130,
   "metadata": {
    "scrolled": false
   },
   "outputs": [
    {
     "data": {
      "image/png": "[encoded data removed]",
      "text/plain": [
       "<Figure size 1440x504 with 1 Axes>"
      ]
     },
     "metadata": {
      "needs_background": "light"
     },
     "output_type": "display_data"
    },
    {
     "data": {
      "image/png": "[encoded data removed]",
      "text/plain": [
       "<Figure size 1440x504 with 1 Axes>"
      ]
     },
     "metadata": {
      "needs_background": "light"
     },
     "output_type": "display_data"
    },
    {
     "data": {
      "image/png": "[encoded data removed]",
      "text/plain": [
       "<Figure size 1440x504 with 1 Axes>"
      ]
     },
     "metadata": {
      "needs_background": "light"
     },
     "output_type": "display_data"
    },
    {
     "data": {
      "image/png": "[encoded data removed]",
      "text/plain": [
       "<Figure size 1440x504 with 1 Axes>"
      ]
     },
     "metadata": {
      "needs_background": "light"
     },
     "output_type": "display_data"
    },
    {
     "data": {
      "image/png": "[encoded data removed]",
      "text/plain": [
       "<Figure size 1440x504 with 1 Axes>"
      ]
     },
     "metadata": {
      "needs_background": "light"
     },
     "output_type": "display_data"
    }
   ],
   "source": [
    "columns = ['price', 'registration_year', 'power', 'kilometer', 'registration_month']\n",
    "\n",
    "def plothist(columns):\n",
    "    for col in columns:\n",
    "        df[col].plot(kind='hist')\n",
    "        fig = plt.gcf()\n",
    "        plt.title(col)\n",
    "        fig.set_size_inches(20,7)\n",
    "        plt.show()\n",
    "\n",
    "plothist(columns)"
   ]
  },
  {
   "cell_type": "markdown",
   "metadata": {},
   "source": [
    "___\n",
    "**Промежуточный вывод:**\n",
    "* Основной разброс цен до `2000`, \n",
    "  * среднее значение *4172*.\n",
    "* Наибольшее количество машин `2000-2010` года выпуска,\n",
    "  * среднее значение *2003*.\n",
    "* Мощность до `250`, \n",
    "  * среднее значение *109*\n",
    "* Наибольший километраж в диапазоне `138-145 тысяч`,\n",
    "  * среднее значение *130102*.\n",
    "* Наиболее популярные месяцы регистрации транспорта – `Январь`, `Май` и чуть менее `Декабрь`.\n",
    "_______"
   ]
  },
  {
   "cell_type": "markdown",
   "metadata": {},
   "source": [
    "### Выбросы:"
   ]
  },
  {
   "cell_type": "markdown",
   "metadata": {},
   "source": [
    "Посмотрим на среднее отклонение еще раз:"
   ]
  },
  {
   "cell_type": "code",
   "execution_count": 59,
   "metadata": {},
   "outputs": [
    {
     "data": {
      "text/html": [
       "<style  type=\"text/css\" >\n",
       "#T_55cb2_row0_col0{\n",
       "            background-color:  #f0eaf4;\n",
       "            color:  #000000;\n",
       "        }#T_55cb2_row1_col0,#T_55cb2_row2_col0,#T_55cb2_row4_col0{\n",
       "            background-color:  #fff7fb;\n",
       "            color:  #000000;\n",
       "        }#T_55cb2_row3_col0{\n",
       "            background-color:  #023858;\n",
       "            color:  #f1f1f1;\n",
       "        }#T_55cb2_row5_col0{\n",
       "            background-color:  #0f76b3;\n",
       "            color:  #f1f1f1;\n",
       "        }</style><table id=\"T_55cb2_\" ><thead>    <tr>        <th class=\"blank level0\" ></th>        <th class=\"col_heading level0 col0\" >std</th>    </tr></thead><tbody>\n",
       "                <tr>\n",
       "                        <th id=\"T_55cb2_level0_row0\" class=\"row_heading level0 row0\" >price</th>\n",
       "                        <td id=\"T_55cb2_row0_col0\" class=\"data row0 col0\" >3503.870000</td>\n",
       "            </tr>\n",
       "            <tr>\n",
       "                        <th id=\"T_55cb2_level0_row1\" class=\"row_heading level0 row1\" >registration_year</th>\n",
       "                        <td id=\"T_55cb2_row1_col0\" class=\"data row1 col0\" >6.960000</td>\n",
       "            </tr>\n",
       "            <tr>\n",
       "                        <th id=\"T_55cb2_level0_row2\" class=\"row_heading level0 row2\" >power</th>\n",
       "                        <td id=\"T_55cb2_row2_col0\" class=\"data row2 col0\" >83.950000</td>\n",
       "            </tr>\n",
       "            <tr>\n",
       "                        <th id=\"T_55cb2_level0_row3\" class=\"row_heading level0 row3\" >kilometer</th>\n",
       "                        <td id=\"T_55cb2_row3_col0\" class=\"data row3 col0\" >35524.920000</td>\n",
       "            </tr>\n",
       "            <tr>\n",
       "                        <th id=\"T_55cb2_level0_row4\" class=\"row_heading level0 row4\" >registration_month</th>\n",
       "                        <td id=\"T_55cb2_row4_col0\" class=\"data row4 col0\" >3.660000</td>\n",
       "            </tr>\n",
       "            <tr>\n",
       "                        <th id=\"T_55cb2_level0_row5\" class=\"row_heading level0 row5\" >postal_code</th>\n",
       "                        <td id=\"T_55cb2_row5_col0\" class=\"data row5 col0\" >25680.520000</td>\n",
       "            </tr>\n",
       "    </tbody></table>"
      ],
      "text/plain": [
       "<pandas.io.formats.style.Styler at 0x7fe4a7f91790>"
      ]
     },
     "execution_count": 59,
     "metadata": {},
     "output_type": "execute_result"
    }
   ],
   "source": [
    "pd.DataFrame(df.describe().loc['std'].round(2)).style.background_gradient()"
   ]
  },
  {
   "cell_type": "markdown",
   "metadata": {},
   "source": [
    "# Колонка `price`:"
   ]
  },
  {
   "cell_type": "code",
   "execution_count": 23,
   "metadata": {
    "scrolled": true
   },
   "outputs": [
    {
     "data": {
      "image/png": "[encoded data removed]",
      "text/plain": [
       "<Figure size 432x288 with 1 Axes>"
      ]
     },
     "metadata": {
      "needs_background": "light"
     },
     "output_type": "display_data"
    },
    {
     "name": "stdout",
     "output_type": "stream",
     "text": [
      "Количество записей в price > 14000 = 19658\n"
     ]
    }
   ],
   "source": [
    "sns.boxplot(x=df['price'])\n",
    "plt.show()\n",
    "\n",
    "print(\n",
    "    'Количество записей в price > 14000 =',\n",
    "    len(df[df['price'] > 14000])\n",
    ")  "
   ]
  },
  {
   "cell_type": "markdown",
   "metadata": {},
   "source": [
    "Воспользуемся методом квантилей и удалим выбросы:"
   ]
  },
  {
   "cell_type": "code",
   "execution_count": 24,
   "metadata": {},
   "outputs": [],
   "source": [
    "df = df[\n",
    "        (df['price'] >= df['price'].quantile(0.10)) &\n",
    "        (df['price'] <= df['price'].quantile(0.95))\n",
    "    ]"
   ]
  },
  {
   "cell_type": "code",
   "execution_count": 25,
   "metadata": {},
   "outputs": [
    {
     "data": {
      "image/png": "[encoded data removed]",
      "text/plain": [
       "<Figure size 432x288 with 1 Axes>"
      ]
     },
     "metadata": {
      "needs_background": "light"
     },
     "output_type": "display_data"
    },
    {
     "name": "stdout",
     "output_type": "stream",
     "text": [
      "Количество записей в price > 14000 = 2006\n"
     ]
    }
   ],
   "source": [
    "sns.boxplot(x=df['price'])\n",
    "plt.show()\n",
    "\n",
    "print(\n",
    "    'Количество записей в price > 14000 =',\n",
    "    len(df[df['price'] > 14000])\n",
    ")  "
   ]
  },
  {
   "cell_type": "markdown",
   "metadata": {},
   "source": [
    "_____\n",
    "# Колонка `power`:"
   ]
  },
  {
   "cell_type": "code",
   "execution_count": 26,
   "metadata": {
    "scrolled": true
   },
   "outputs": [
    {
     "data": {
      "image/png": "[encoded data removed]",
      "text/plain": [
       "<Figure size 432x288 with 1 Axes>"
      ]
     },
     "metadata": {
      "needs_background": "light"
     },
     "output_type": "display_data"
    },
    {
     "name": "stdout",
     "output_type": "stream",
     "text": [
      "Количество записей в power > 250 = 4998\n"
     ]
    }
   ],
   "source": [
    "sns.boxplot(x=df['power'])\n",
    "plt.xlim(0, 500)\n",
    "plt.show()\n",
    "\n",
    "print(\n",
    "    'Количество записей в power > 250 =',\n",
    "    len(df[df['power'] > 250])\n",
    ")  "
   ]
  },
  {
   "cell_type": "code",
   "execution_count": 27,
   "metadata": {},
   "outputs": [
    {
     "data": {
      "text/plain": [
       "28279"
      ]
     },
     "execution_count": 27,
     "metadata": {},
     "output_type": "execute_result"
    }
   ],
   "source": [
    "len(df[df['power'] == 0])"
   ]
  },
  {
   "cell_type": "markdown",
   "metadata": {},
   "source": [
    "Хоть в колонке и присутствуют значения мощности авто равное 0 - удалять или изменять эти данные не будем, т.к возможно машины продаются без двигателя.\n",
    "\n",
    "За верхний предел возьмем мощность спец.техники, которая обычно не превышает 3000 л.с\n",
    "\n",
    "Все,что выше 3000 лс - будем считать опечаткой и поделим на 10. \n"
   ]
  },
  {
   "cell_type": "code",
   "execution_count": 28,
   "metadata": {},
   "outputs": [
    {
     "data": {
      "text/plain": [
       "0"
      ]
     },
     "execution_count": 28,
     "metadata": {},
     "output_type": "execute_result"
    }
   ],
   "source": [
    "df.loc[df['power'] > 3000, 'power'] = 3000\n",
    "len(df[df['power'] > 3000])"
   ]
  },
  {
   "cell_type": "code",
   "execution_count": 29,
   "metadata": {},
   "outputs": [
    {
     "data": {
      "text/plain": [
       "0"
      ]
     },
     "execution_count": 29,
     "metadata": {},
     "output_type": "execute_result"
    }
   ],
   "source": [
    "df['power'].isna().sum()"
   ]
  },
  {
   "cell_type": "markdown",
   "metadata": {},
   "source": [
    "\n"
   ]
  },
  {
   "cell_type": "markdown",
   "metadata": {},
   "source": [
    "____\n",
    "# Колонка `registration_year`:"
   ]
  },
  {
   "cell_type": "code",
   "execution_count": 31,
   "metadata": {
    "scrolled": true
   },
   "outputs": [
    {
     "data": {
      "image/png": "[encoded data removed]",
      "text/plain": [
       "<Figure size 432x288 with 1 Axes>"
      ]
     },
     "metadata": {
      "needs_background": "light"
     },
     "output_type": "display_data"
    },
    {
     "name": "stdout",
     "output_type": "stream",
     "text": [
      "Количество записей в registration_year > 2016 = 12784\n"
     ]
    }
   ],
   "source": [
    "sns.boxplot(x=df['registration_year'])\n",
    "plt.xlim(1900, 2022)\n",
    "plt.show()\n",
    "\n",
    "print(\n",
    "    'Количество записей в registration_year > 2016 =',\n",
    "    len(df[df['registration_year'] > 2016])\n",
    ")  "
   ]
  },
  {
   "cell_type": "markdown",
   "metadata": {},
   "source": [
    "Т.к большинство аномальных значений лежит в диапозоне 1910-1990, установим границы:\n",
    "- год регистрации не может быть выше 2016 и ниже 1930 (т.к год регистрации авто не может быть больше даты создания объявления)"
   ]
  },
  {
   "cell_type": "code",
   "execution_count": 32,
   "metadata": {},
   "outputs": [],
   "source": [
    "def filtr(year):\n",
    "    if year > 2016:\n",
    "        return 2016\n",
    "    elif year < 1930:\n",
    "        return 1930\n",
    "    else:\n",
    "        return year\n",
    "df['registration_year'] = df['registration_year'].apply(filtr)"
   ]
  },
  {
   "cell_type": "markdown",
   "metadata": {},
   "source": [
    "_____\n",
    "### Деление данных на выборки:"
   ]
  },
  {
   "cell_type": "markdown",
   "metadata": {},
   "source": [
    "Т.к в следующих этапах для подбора гиперпараметров мы будем использовать RandomizedSearchCV, который уже включает кросс-валидацию, то данные разделим на две выбокри: тестовую `data_test` и обучающую `data_train` в соотношении *4:1* или *80% : 20% *, тестовой выборке отдаем *20%* от первоначального размера `df`."
   ]
  },
  {
   "cell_type": "code",
   "execution_count": 33,
   "metadata": {},
   "outputs": [],
   "source": [
    "features = df.drop(['price'], axis=1)\n",
    "target = df['price']"
   ]
  },
  {
   "cell_type": "code",
   "execution_count": 34,
   "metadata": {},
   "outputs": [],
   "source": [
    "data_train, data_test = train_test_split( \n",
    "    df,\n",
    "    test_size=0.2, #тестовая выборка  20%\n",
    "    random_state=12345\n",
    ")"
   ]
  },
  {
   "cell_type": "code",
   "execution_count": 35,
   "metadata": {},
   "outputs": [
    {
     "name": "stdout",
     "output_type": "stream",
     "text": [
      "(241067, 11)\n",
      "(60267, 11)\n",
      "\n",
      "(241067,)\n",
      "(60267,)\n"
     ]
    }
   ],
   "source": [
    "features_train = data_train.drop(['price'], axis=1)\n",
    "features_test = data_test.drop(['price'], axis=1)\n",
    "\n",
    "target_train = data_train['price']\n",
    "target_test = data_test['price']\n",
    "\n",
    "print(features_train.shape)\n",
    "print(features_test.shape)\n",
    "print()\n",
    "print(target_train.shape)\n",
    "print(target_test.shape)"
   ]
  },
  {
   "cell_type": "markdown",
   "metadata": {},
   "source": [
    "_____\n",
    "### Стандартизация численных признаков:"
   ]
  },
  {
   "cell_type": "code",
   "execution_count": 36,
   "metadata": {},
   "outputs": [
    {
     "data": {
      "text/plain": [
       "price                  int64\n",
       "vehicle_type          object\n",
       "registration_year      int64\n",
       "gearbox               object\n",
       "power                  int64\n",
       "model                 object\n",
       "kilometer              int64\n",
       "registration_month     int64\n",
       "fuel_type             object\n",
       "brand                 object\n",
       "repaired              object\n",
       "postal_code            int64\n",
       "dtype: object"
      ]
     },
     "execution_count": 36,
     "metadata": {},
     "output_type": "execute_result"
    }
   ],
   "source": [
    "df.dtypes"
   ]
  },
  {
   "cell_type": "code",
   "execution_count": 37,
   "metadata": {},
   "outputs": [],
   "source": [
    "num = ['postal_code', 'registration_month', 'kilometer', 'power',\n",
    "       'registration_year'] \n",
    "\n",
    "scaler = StandardScaler()\n",
    "features_train_scaled = pd.DataFrame(\n",
    "    scaler.fit_transform(features_train[num]),\n",
    "    columns=[num],\n",
    "    index=features_train.index)\n",
    "\n",
    "features_test_scaled = pd.DataFrame(\n",
    "    scaler.fit_transform(features_test[num]),\n",
    "    columns=[num],\n",
    "    index=features_test.index)"
   ]
  },
  {
   "cell_type": "markdown",
   "metadata": {},
   "source": [
    "_____\n",
    "### Кодирование категориальных признаков для линейных моделей."
   ]
  },
  {
   "cell_type": "markdown",
   "metadata": {},
   "source": [
    "Кодируем категориальные признаки после разделения на сэмплы, так мы избежим утечки данных.\n",
    "\n",
    "Преобразовывать категориальные признаки в численные мы будем техникой `OHE`, по сравнению с `get_dummies` она позоволяет избежать ряд ошибок при обучении моделей. \n",
    "\n",
    "Т.к в колонках `brand` и `model` присутствует много уникальных значений, то при прямом кодировании у нас получится избыточное кол-во признаков, что увеличит время обучения, поэтому `OHE` будем использовать только для линейной регрессии."
   ]
  },
  {
   "cell_type": "code",
   "execution_count": 38,
   "metadata": {},
   "outputs": [],
   "source": [
    "enc = OneHotEncoder(handle_unknown='error', drop='first')\n",
    "\n",
    "features_train_ohe = enc.fit_transform(features_train[cat_col])\n",
    "features_test_ohe = enc.transform(features_test[cat_col])"
   ]
  },
  {
   "cell_type": "markdown",
   "metadata": {},
   "source": [
    "_____\n",
    "### Объединение подготовленных признаков:"
   ]
  },
  {
   "cell_type": "markdown",
   "metadata": {},
   "source": [
    "Объединяем отмасштабированные количественные и закодированные категориальные признаки в единую выборку:"
   ]
  },
  {
   "cell_type": "code",
   "execution_count": 39,
   "metadata": {
    "scrolled": false
   },
   "outputs": [
    {
     "data": {
      "text/html": [
       "<div>\n",
       "<style scoped>\n",
       "    .dataframe tbody tr th:only-of-type {\n",
       "        vertical-align: middle;\n",
       "    }\n",
       "\n",
       "    .dataframe tbody tr th {\n",
       "        vertical-align: top;\n",
       "    }\n",
       "\n",
       "    .dataframe thead th {\n",
       "        text-align: right;\n",
       "    }\n",
       "</style>\n",
       "<table border=\"1\" class=\"dataframe\">\n",
       "  <thead>\n",
       "    <tr style=\"text-align: right;\">\n",
       "      <th></th>\n",
       "      <th>(postal_code,)</th>\n",
       "      <th>(registration_month,)</th>\n",
       "      <th>(kilometer,)</th>\n",
       "      <th>(power,)</th>\n",
       "      <th>(registration_year,)</th>\n",
       "      <th>0</th>\n",
       "      <th>1</th>\n",
       "      <th>2</th>\n",
       "      <th>3</th>\n",
       "      <th>4</th>\n",
       "      <th>...</th>\n",
       "      <th>298</th>\n",
       "      <th>299</th>\n",
       "      <th>300</th>\n",
       "      <th>301</th>\n",
       "      <th>302</th>\n",
       "      <th>303</th>\n",
       "      <th>304</th>\n",
       "      <th>305</th>\n",
       "      <th>306</th>\n",
       "      <th>307</th>\n",
       "    </tr>\n",
       "  </thead>\n",
       "  <tbody>\n",
       "    <tr>\n",
       "      <th>241393</th>\n",
       "      <td>-0.092547</td>\n",
       "      <td>1.398229</td>\n",
       "      <td>0.560154</td>\n",
       "      <td>-0.097299</td>\n",
       "      <td>-0.740107</td>\n",
       "      <td>1.0</td>\n",
       "      <td>0.0</td>\n",
       "      <td>0.0</td>\n",
       "      <td>0.0</td>\n",
       "      <td>0.0</td>\n",
       "      <td>...</td>\n",
       "      <td>0.0</td>\n",
       "      <td>0.0</td>\n",
       "      <td>0.0</td>\n",
       "      <td>0.0</td>\n",
       "      <td>0.0</td>\n",
       "      <td>0.0</td>\n",
       "      <td>1.0</td>\n",
       "      <td>0.0</td>\n",
       "      <td>0.0</td>\n",
       "      <td>0.0</td>\n",
       "    </tr>\n",
       "    <tr>\n",
       "      <th>320138</th>\n",
       "      <td>0.059150</td>\n",
       "      <td>0.578116</td>\n",
       "      <td>0.560154</td>\n",
       "      <td>-0.085441</td>\n",
       "      <td>-0.596085</td>\n",
       "      <td>0.0</td>\n",
       "      <td>0.0</td>\n",
       "      <td>0.0</td>\n",
       "      <td>0.0</td>\n",
       "      <td>0.0</td>\n",
       "      <td>...</td>\n",
       "      <td>0.0</td>\n",
       "      <td>0.0</td>\n",
       "      <td>0.0</td>\n",
       "      <td>0.0</td>\n",
       "      <td>0.0</td>\n",
       "      <td>0.0</td>\n",
       "      <td>0.0</td>\n",
       "      <td>0.0</td>\n",
       "      <td>0.0</td>\n",
       "      <td>1.0</td>\n",
       "    </tr>\n",
       "    <tr>\n",
       "      <th>175478</th>\n",
       "      <td>-1.499739</td>\n",
       "      <td>-1.062112</td>\n",
       "      <td>-1.694793</td>\n",
       "      <td>-0.227739</td>\n",
       "      <td>0.412070</td>\n",
       "      <td>0.0</td>\n",
       "      <td>0.0</td>\n",
       "      <td>0.0</td>\n",
       "      <td>0.0</td>\n",
       "      <td>0.0</td>\n",
       "      <td>...</td>\n",
       "      <td>0.0</td>\n",
       "      <td>0.0</td>\n",
       "      <td>0.0</td>\n",
       "      <td>0.0</td>\n",
       "      <td>0.0</td>\n",
       "      <td>0.0</td>\n",
       "      <td>0.0</td>\n",
       "      <td>0.0</td>\n",
       "      <td>0.0</td>\n",
       "      <td>0.0</td>\n",
       "    </tr>\n",
       "    <tr>\n",
       "      <th>182286</th>\n",
       "      <td>-1.424864</td>\n",
       "      <td>0.031373</td>\n",
       "      <td>0.560154</td>\n",
       "      <td>-0.227739</td>\n",
       "      <td>-0.740107</td>\n",
       "      <td>0.0</td>\n",
       "      <td>0.0</td>\n",
       "      <td>0.0</td>\n",
       "      <td>0.0</td>\n",
       "      <td>0.0</td>\n",
       "      <td>...</td>\n",
       "      <td>0.0</td>\n",
       "      <td>0.0</td>\n",
       "      <td>0.0</td>\n",
       "      <td>0.0</td>\n",
       "      <td>0.0</td>\n",
       "      <td>0.0</td>\n",
       "      <td>0.0</td>\n",
       "      <td>0.0</td>\n",
       "      <td>0.0</td>\n",
       "      <td>0.0</td>\n",
       "    </tr>\n",
       "    <tr>\n",
       "      <th>74595</th>\n",
       "      <td>-0.320522</td>\n",
       "      <td>0.304745</td>\n",
       "      <td>0.560154</td>\n",
       "      <td>-0.002435</td>\n",
       "      <td>-2.036307</td>\n",
       "      <td>1.0</td>\n",
       "      <td>0.0</td>\n",
       "      <td>0.0</td>\n",
       "      <td>0.0</td>\n",
       "      <td>0.0</td>\n",
       "      <td>...</td>\n",
       "      <td>0.0</td>\n",
       "      <td>0.0</td>\n",
       "      <td>0.0</td>\n",
       "      <td>0.0</td>\n",
       "      <td>0.0</td>\n",
       "      <td>0.0</td>\n",
       "      <td>0.0</td>\n",
       "      <td>0.0</td>\n",
       "      <td>0.0</td>\n",
       "      <td>0.0</td>\n",
       "    </tr>\n",
       "  </tbody>\n",
       "</table>\n",
       "<p>5 rows × 313 columns</p>\n",
       "</div>"
      ],
      "text/plain": [
       "        (postal_code,)  (registration_month,)  (kilometer,)  (power,)  \\\n",
       "241393       -0.092547               1.398229      0.560154 -0.097299   \n",
       "320138        0.059150               0.578116      0.560154 -0.085441   \n",
       "175478       -1.499739              -1.062112     -1.694793 -0.227739   \n",
       "182286       -1.424864               0.031373      0.560154 -0.227739   \n",
       "74595        -0.320522               0.304745      0.560154 -0.002435   \n",
       "\n",
       "        (registration_year,)    0    1    2    3    4  ...  298  299  300  \\\n",
       "241393             -0.740107  1.0  0.0  0.0  0.0  0.0  ...  0.0  0.0  0.0   \n",
       "320138             -0.596085  0.0  0.0  0.0  0.0  0.0  ...  0.0  0.0  0.0   \n",
       "175478              0.412070  0.0  0.0  0.0  0.0  0.0  ...  0.0  0.0  0.0   \n",
       "182286             -0.740107  0.0  0.0  0.0  0.0  0.0  ...  0.0  0.0  0.0   \n",
       "74595              -2.036307  1.0  0.0  0.0  0.0  0.0  ...  0.0  0.0  0.0   \n",
       "\n",
       "        301  302  303  304  305  306  307  \n",
       "241393  0.0  0.0  0.0  1.0  0.0  0.0  0.0  \n",
       "320138  0.0  0.0  0.0  0.0  0.0  0.0  1.0  \n",
       "175478  0.0  0.0  0.0  0.0  0.0  0.0  0.0  \n",
       "182286  0.0  0.0  0.0  0.0  0.0  0.0  0.0  \n",
       "74595   0.0  0.0  0.0  0.0  0.0  0.0  0.0  \n",
       "\n",
       "[5 rows x 313 columns]"
      ]
     },
     "metadata": {},
     "output_type": "display_data"
    },
    {
     "name": "stdout",
     "output_type": "stream",
     "text": [
      "\n",
      "Размер обучающей выборки: (241067, 313)\n",
      "Размер тестовой выборки: (60267, 313)\n"
     ]
    }
   ],
   "source": [
    "X_train_gen_ohe = pd.concat(\n",
    "    [features_train_scaled,\n",
    "    pd.DataFrame(features_train_ohe.toarray(), index=features_train.index)], \n",
    "    axis=1\n",
    ")\n",
    "X_test_gen_ohe = pd.concat(\n",
    "    [features_test_scaled,\n",
    "    pd.DataFrame(features_test_ohe.toarray(), index=features_test.index)], \n",
    "    axis=1\n",
    ")\n",
    "display(X_train_gen_ohe.head())\n",
    "print()\n",
    "print('Размер обучающей выборки:', X_train_gen_ohe.shape)\n",
    "print('Размер тестовой выборки:', X_test_gen_ohe.shape)"
   ]
  },
  {
   "cell_type": "markdown",
   "metadata": {},
   "source": [
    "_____\n",
    "### Кодирование категориальных признаков для градиентного бустинга и случайного леса:\n"
   ]
  },
  {
   "cell_type": "markdown",
   "metadata": {},
   "source": [
    "Отдельно закодируем данные техникой `Ordinal Encoding`, т.к вычисления для бустинга и деревьев будут слишком долгие, а заказчику важна скорость прогнозирования.\n",
    "\n",
    "Также кодирование проводим по изначальным данным после разбивки на выборки, чтобы `OE` не наложился на `OHE`."
   ]
  },
  {
   "cell_type": "code",
   "execution_count": 40,
   "metadata": {},
   "outputs": [
    {
     "name": "stdout",
     "output_type": "stream",
     "text": [
      "(241067, 6)\n",
      "(60267, 6)\n"
     ]
    }
   ],
   "source": [
    "enc = OrdinalEncoder()\n",
    "X_train_oe = enc.fit_transform(features_train[cat_col])\n",
    "X_test_oe = enc.transform(features_test[cat_col])\n",
    "\n",
    "print(X_train_oe.shape)\n",
    "print(X_test_oe.shape)"
   ]
  },
  {
   "cell_type": "markdown",
   "metadata": {},
   "source": [
    "_____\n",
    "### Объединение подготовленных признаков:"
   ]
  },
  {
   "cell_type": "code",
   "execution_count": 41,
   "metadata": {},
   "outputs": [
    {
     "data": {
      "text/html": [
       "<div>\n",
       "<style scoped>\n",
       "    .dataframe tbody tr th:only-of-type {\n",
       "        vertical-align: middle;\n",
       "    }\n",
       "\n",
       "    .dataframe tbody tr th {\n",
       "        vertical-align: top;\n",
       "    }\n",
       "\n",
       "    .dataframe thead th {\n",
       "        text-align: right;\n",
       "    }\n",
       "</style>\n",
       "<table border=\"1\" class=\"dataframe\">\n",
       "  <thead>\n",
       "    <tr style=\"text-align: right;\">\n",
       "      <th></th>\n",
       "      <th>(postal_code,)</th>\n",
       "      <th>(registration_month,)</th>\n",
       "      <th>(kilometer,)</th>\n",
       "      <th>(power,)</th>\n",
       "      <th>(registration_year,)</th>\n",
       "      <th>0</th>\n",
       "      <th>1</th>\n",
       "      <th>2</th>\n",
       "      <th>3</th>\n",
       "      <th>4</th>\n",
       "      <th>5</th>\n",
       "    </tr>\n",
       "  </thead>\n",
       "  <tbody>\n",
       "    <tr>\n",
       "      <th>241393</th>\n",
       "      <td>-0.092547</td>\n",
       "      <td>1.398229</td>\n",
       "      <td>0.560154</td>\n",
       "      <td>-0.097299</td>\n",
       "      <td>-0.740107</td>\n",
       "      <td>1.0</td>\n",
       "      <td>1.0</td>\n",
       "      <td>116.0</td>\n",
       "      <td>6.0</td>\n",
       "      <td>38.0</td>\n",
       "      <td>0.0</td>\n",
       "    </tr>\n",
       "    <tr>\n",
       "      <th>320138</th>\n",
       "      <td>0.059150</td>\n",
       "      <td>0.578116</td>\n",
       "      <td>0.560154</td>\n",
       "      <td>-0.085441</td>\n",
       "      <td>-0.596085</td>\n",
       "      <td>8.0</td>\n",
       "      <td>1.0</td>\n",
       "      <td>166.0</td>\n",
       "      <td>2.0</td>\n",
       "      <td>20.0</td>\n",
       "      <td>2.0</td>\n",
       "    </tr>\n",
       "    <tr>\n",
       "      <th>175478</th>\n",
       "      <td>-1.499739</td>\n",
       "      <td>-1.062112</td>\n",
       "      <td>-1.694793</td>\n",
       "      <td>-0.227739</td>\n",
       "      <td>0.412070</td>\n",
       "      <td>8.0</td>\n",
       "      <td>1.0</td>\n",
       "      <td>42.0</td>\n",
       "      <td>6.0</td>\n",
       "      <td>24.0</td>\n",
       "      <td>0.0</td>\n",
       "    </tr>\n",
       "    <tr>\n",
       "      <th>182286</th>\n",
       "      <td>-1.424864</td>\n",
       "      <td>0.031373</td>\n",
       "      <td>0.560154</td>\n",
       "      <td>-0.227739</td>\n",
       "      <td>-0.740107</td>\n",
       "      <td>0.0</td>\n",
       "      <td>1.0</td>\n",
       "      <td>149.0</td>\n",
       "      <td>6.0</td>\n",
       "      <td>27.0</td>\n",
       "      <td>0.0</td>\n",
       "    </tr>\n",
       "    <tr>\n",
       "      <th>74595</th>\n",
       "      <td>-0.320522</td>\n",
       "      <td>0.304745</td>\n",
       "      <td>0.560154</td>\n",
       "      <td>-0.002435</td>\n",
       "      <td>-2.036307</td>\n",
       "      <td>1.0</td>\n",
       "      <td>1.0</td>\n",
       "      <td>11.0</td>\n",
       "      <td>6.0</td>\n",
       "      <td>2.0</td>\n",
       "      <td>0.0</td>\n",
       "    </tr>\n",
       "  </tbody>\n",
       "</table>\n",
       "</div>"
      ],
      "text/plain": [
       "        (postal_code,)  (registration_month,)  (kilometer,)  (power,)  \\\n",
       "241393       -0.092547               1.398229      0.560154 -0.097299   \n",
       "320138        0.059150               0.578116      0.560154 -0.085441   \n",
       "175478       -1.499739              -1.062112     -1.694793 -0.227739   \n",
       "182286       -1.424864               0.031373      0.560154 -0.227739   \n",
       "74595        -0.320522               0.304745      0.560154 -0.002435   \n",
       "\n",
       "        (registration_year,)    0    1      2    3     4    5  \n",
       "241393             -0.740107  1.0  1.0  116.0  6.0  38.0  0.0  \n",
       "320138             -0.596085  8.0  1.0  166.0  2.0  20.0  2.0  \n",
       "175478              0.412070  8.0  1.0   42.0  6.0  24.0  0.0  \n",
       "182286             -0.740107  0.0  1.0  149.0  6.0  27.0  0.0  \n",
       "74595              -2.036307  1.0  1.0   11.0  6.0   2.0  0.0  "
      ]
     },
     "metadata": {},
     "output_type": "display_data"
    },
    {
     "name": "stdout",
     "output_type": "stream",
     "text": [
      "\n",
      "Размер обучающей выборки: (241067, 11)\n",
      "Размер тестовой выборки: (60267, 11)\n"
     ]
    }
   ],
   "source": [
    "X_train_gen_oe = pd.concat(\n",
    "    [features_train_scaled,\n",
    "    pd.DataFrame(X_train_oe, index=features_train.index)], \n",
    "    axis=1\n",
    ")\n",
    "X_test_gen_oe = pd.concat(\n",
    "    [features_test_scaled,\n",
    "    pd.DataFrame(X_test_oe, index=features_test.index)], \n",
    "    axis=1\n",
    ")\n",
    "display(X_train_gen_oe.head())\n",
    "print()\n",
    "print('Размер обучающей выборки:', X_train_gen_oe.shape)\n",
    "print('Размер тестовой выборки:', X_test_gen_oe.shape)"
   ]
  },
  {
   "cell_type": "markdown",
   "metadata": {},
   "source": [
    "____\n",
    "### **Вывод блока:**"
   ]
  },
  {
   "cell_type": "markdown",
   "metadata": {},
   "source": [
    "**На этапе предобработки данных мы выполнили следующее:**\n",
    "\n",
    "- Удалили столбцы не влияющие на конечный результат.\n",
    "- Привели названия столбцов к общепринятому виду.\n",
    "- Вычислили “псевдо дубликаты”, удалять не стали.\n",
    "\n",
    "\n",
    "- Избавились от пропусков, применив заглушку.\n",
    "- Посмотрели распределение категориальных значений.\n",
    "- Изучили численные признаки.\n",
    "- Избавились от выбросов в столбцах с ценой, мощностью, годом регистрации.\n",
    "\n",
    "\n",
    "- Разделили данные на обучающую и тестовую выборки.\n",
    "- Провели масштабирование численных признаков.\n",
    "- Закодировали категориальные признаки двумя разными техниками (`OHE` и `OE`).\n",
    "- Объединили численные и категориальные признаки в единые выборки.\n"
   ]
  },
  {
   "cell_type": "markdown",
   "metadata": {},
   "source": [
    "________\n",
    "_______\n",
    "## *Обучение моделей.*"
   ]
  },
  {
   "cell_type": "markdown",
   "metadata": {},
   "source": [
    "### Случайный лес:"
   ]
  },
  {
   "cell_type": "markdown",
   "metadata": {},
   "source": [
    "Для обучения моделей будем использовать `RandomizedSearchCV` нежели поиск по сетке, так как первый метод работает быстрее."
   ]
  },
  {
   "cell_type": "code",
   "execution_count": 43,
   "metadata": {
    "scrolled": true
   },
   "outputs": [
    {
     "name": "stdout",
     "output_type": "stream",
     "text": [
      "RMSE: 1405.49\n",
      "{'n_estimators': 50, 'max_depth': 18}\n",
      "Time: 653.30\n",
      "CPU times: user 10min 52s, sys: 627 ms, total: 10min 52s\n",
      "Wall time: 10min 53s\n"
     ]
    }
   ],
   "source": [
    "%%time\n",
    "start = time.time()\n",
    "\n",
    "model_forest = RandomForestRegressor(random_state=1234)\n",
    "parameters = {'n_estimators': range(10, 80, 20),\n",
    "              'max_depth': range(10, 20, 2)             \n",
    "             }\n",
    "search = RandomizedSearchCV(\n",
    "    model_forest,\n",
    "    parameters,\n",
    "    cv=4,\n",
    "    random_state=1234,\n",
    "    scoring='neg_root_mean_squared_error'\n",
    ")\n",
    "search.fit(X_train_gen_oe, target_train)\n",
    "\n",
    "end = time.time()\n",
    "f_time_fit = end - start\n",
    "\n",
    "results_f = search.best_score_ * -1\n",
    "forest_params = search.best_params_\n",
    "\n",
    "print('RMSE: {:.2f}'.format(results_f))\n",
    "print(forest_params)\n",
    "print('Time: {:.2f}'.format(f_time_fit))"
   ]
  },
  {
   "cell_type": "code",
   "execution_count": 44,
   "metadata": {
    "scrolled": true
   },
   "outputs": [
    {
     "name": "stdout",
     "output_type": "stream",
     "text": [
      "RMSE = 870.04\n",
      "Time Fit: 42.28\n",
      "Time Predict: 2.88\n"
     ]
    }
   ],
   "source": [
    "start = time.time()\n",
    "model_forest1 = RandomForestRegressor(**forest_params)\n",
    "model_forest1.fit(X_train_gen_oe, target_train)\n",
    "\n",
    "end = time.time()\n",
    "forest_time_fit = end - start\n",
    "start = time.time()\n",
    "\n",
    "predict_f = model_forest1.predict(X_train_gen_oe)\n",
    "end = time.time()\n",
    "forest_time_predict = end - start\n",
    "\n",
    "forest_rmse = mean_squared_error(target_train, predict_f)**0.5\n",
    "\n",
    "print('RMSE = {:.2f}'.format(forest_rmse))\n",
    "print('Time Fit: {:.2f}'.format(forest_time_fit))\n",
    "print('Time Predict: {:.2f}'.format(forest_time_predict))"
   ]
  },
  {
   "cell_type": "markdown",
   "metadata": {},
   "source": [
    "___\n",
    "### LightGBM"
   ]
  },
  {
   "cell_type": "code",
   "execution_count": 45,
   "metadata": {},
   "outputs": [],
   "source": [
    "features_train_lgbm = features_train.copy()\n",
    "features_test_lgbm = features_test.copy()\n",
    "\n",
    "features_train_lgbm[cat_col] = features_train_lgbm[cat_col].astype('category')\n",
    "features_test_lgbm[cat_col] = features_test_lgbm[cat_col].astype('category')"
   ]
  },
  {
   "cell_type": "code",
   "execution_count": 46,
   "metadata": {},
   "outputs": [
    {
     "name": "stdout",
     "output_type": "stream",
     "text": [
      "RMSE: 1396.82\n",
      "{'reg_alpha': 0.03, 'max_depth': 20, 'learning_rate': 0.2}\n",
      "Time: 196.20\n",
      "CPU times: user 3min 15s, sys: 432 ms, total: 3min 15s\n",
      "Wall time: 3min 16s\n"
     ]
    }
   ],
   "source": [
    "%%time\n",
    "start = time.time()\n",
    "model_lgbm = LGBMRegressor()\n",
    "lg_param = {'max_depth':[1, 20],\n",
    "            'learning_rate':[0.05, 0.1, 0.2],\n",
    "            'reg_alpha':[0, 0.01, 0.03],\n",
    "             }\n",
    "search = RandomizedSearchCV(\n",
    "    model_lgbm,\n",
    "    lg_param,\n",
    "    cv=3,\n",
    "    scoring='neg_root_mean_squared_error'\n",
    ")\n",
    "search.fit(X=features_train_lgbm, y=target_train, categorical_feature=cat_col)\n",
    "end = time.time()\n",
    "lgb_time_fit = end - start\n",
    "lgbm_params = search.best_params_\n",
    "results_lgbm = search.best_score_ * -1\n",
    "\n",
    "print('RMSE: {:.2f}'.format(results_lgbm))\n",
    "print(lgbm_params)\n",
    "print('Time: {:.2f}'.format(lgb_time_fit))"
   ]
  },
  {
   "cell_type": "code",
   "execution_count": 47,
   "metadata": {},
   "outputs": [
    {
     "name": "stdout",
     "output_type": "stream",
     "text": [
      "RMSE = 1325.00\n",
      "Time Fit: 7.80\n",
      "Time Predict: 1.93\n"
     ]
    }
   ],
   "source": [
    "start = time.time()\n",
    "model_lgbm = LGBMRegressor(**lgbm_params)\n",
    "model_lgbm.fit(features_train_lgbm, target_train)\n",
    "\n",
    "end = time.time()\n",
    "lgbm_time_fit = end - start\n",
    "start = time.time()\n",
    "\n",
    "predict_lgbm = model_lgbm.predict(features_train_lgbm)\n",
    "end = time.time()\n",
    "lgbm_time_predict = end - start\n",
    "\n",
    "lgbm_rmse = mean_squared_error(target_train, predict_lgbm)**0.5\n",
    "\n",
    "print('RMSE = {:.2f}'.format(lgbm_rmse))\n",
    "print('Time Fit: {:.2f}'.format(lgbm_time_fit))\n",
    "print('Time Predict: {:.2f}'.format(lgbm_time_predict))"
   ]
  },
  {
   "cell_type": "markdown",
   "metadata": {},
   "source": [
    "___\n",
    "### Линейнай Регрессия"
   ]
  },
  {
   "cell_type": "code",
   "execution_count": 136,
   "metadata": {},
   "outputs": [
    {
     "name": "stdout",
     "output_type": "stream",
     "text": [
      "Среднее RMSE: 2268.109041239441\n",
      "CPU times: user 1min 59s, sys: 3min 5s, total: 5min 5s\n",
      "Wall time: 5min 7s\n"
     ]
    }
   ],
   "source": [
    "%%time \n",
    "model_lr = LinearRegression(n_jobs=-1)\n",
    "lr_score = (cross_val_score(model_lr,\n",
    "                            X_train_gen_ohe,\n",
    "                            target_train,\n",
    "                            cv=5,\n",
    "                            scoring='neg_root_mean_squared_error').mean()*-1)\n",
    "print('Среднее RMSE:', lr_score)"
   ]
  },
  {
   "cell_type": "code",
   "execution_count": 49,
   "metadata": {
    "scrolled": true
   },
   "outputs": [
    {
     "name": "stdout",
     "output_type": "stream",
     "text": [
      "RMSE: 2263.9171962620526\n",
      "Время обучения: 15.80406379699707\n",
      "Время прогнозирования: 0.2063281536102295\n",
      "CPU times: user 12.1 s, sys: 3.96 s, total: 16.1 s\n",
      "Wall time: 16 s\n"
     ]
    }
   ],
   "source": [
    "%%time \n",
    "start = time.time()\n",
    "model_lr = LinearRegression(n_jobs=-1)\n",
    "model_lr.fit(X_train_gen_ohe, target_train) \n",
    "\n",
    "end = time.time()\n",
    "lr_time_fit = end - start\n",
    "start = time.time()\n",
    "\n",
    "lr_predict = model_lr.predict(X_train_gen_ohe)\n",
    "lr_rmse = mean_squared_error(target_train, lr_predict) ** 0.5\n",
    "\n",
    "end = time.time()\n",
    "lr_time_predict = end - start\n",
    "print('RMSE:', lr_rmse)\n",
    "print('Время обучения:', lr_time_fit)\n",
    "print('Время прогнозирования:', lr_time_predict)"
   ]
  },
  {
   "cell_type": "markdown",
   "metadata": {},
   "source": [
    "___\n",
    "### **Вывод блока:**\n",
    "* Провели подбор гиперпараметров и обучение 3-х моделей.\n",
    "\n",
    "Выбор лучшей модели проанализируем в следующем пункте. \n",
    "___\n",
    "___"
   ]
  },
  {
   "cell_type": "markdown",
   "metadata": {},
   "source": [
    "\n",
    "## *Анализ моделей*"
   ]
  },
  {
   "cell_type": "code",
   "execution_count": 50,
   "metadata": {},
   "outputs": [
    {
     "data": {
      "text/html": [
       "<div>\n",
       "<style scoped>\n",
       "    .dataframe tbody tr th:only-of-type {\n",
       "        vertical-align: middle;\n",
       "    }\n",
       "\n",
       "    .dataframe tbody tr th {\n",
       "        vertical-align: top;\n",
       "    }\n",
       "\n",
       "    .dataframe thead th {\n",
       "        text-align: right;\n",
       "    }\n",
       "</style>\n",
       "<table border=\"1\" class=\"dataframe\">\n",
       "  <thead>\n",
       "    <tr style=\"text-align: right;\">\n",
       "      <th></th>\n",
       "      <th>Модель</th>\n",
       "      <th>Время обучения, сек</th>\n",
       "      <th>Время предсказания, сек</th>\n",
       "      <th>RMSE</th>\n",
       "    </tr>\n",
       "  </thead>\n",
       "  <tbody>\n",
       "    <tr>\n",
       "      <th>0</th>\n",
       "      <td>model_forest1</td>\n",
       "      <td>42.283044</td>\n",
       "      <td>2.876679</td>\n",
       "      <td>1405.486799</td>\n",
       "    </tr>\n",
       "    <tr>\n",
       "      <th>1</th>\n",
       "      <td>model_lgbm</td>\n",
       "      <td>7.803055</td>\n",
       "      <td>1.926401</td>\n",
       "      <td>1396.822367</td>\n",
       "    </tr>\n",
       "    <tr>\n",
       "      <th>2</th>\n",
       "      <td>model_lr</td>\n",
       "      <td>15.804064</td>\n",
       "      <td>0.206328</td>\n",
       "      <td>2268.109041</td>\n",
       "    </tr>\n",
       "  </tbody>\n",
       "</table>\n",
       "</div>"
      ],
      "text/plain": [
       "          Модель  Время обучения, сек  Время предсказания, сек         RMSE\n",
       "0  model_forest1            42.283044                 2.876679  1405.486799\n",
       "1     model_lgbm             7.803055                 1.926401  1396.822367\n",
       "2       model_lr            15.804064                 0.206328  2268.109041"
      ]
     },
     "metadata": {},
     "output_type": "display_data"
    }
   ],
   "source": [
    "comparison = {\n",
    "    'Модель' : ['model_forest1', 'model_lgbm', 'model_lr'],\n",
    "    'Время обучения, сек': pd.Series([forest_time_fit,\n",
    "                                      lgbm_time_fit,\n",
    "                                      lr_time_fit]),\n",
    "    'Время предсказания, сек': pd.Series([forest_time_predict,\n",
    "                                          lgbm_time_predict,\n",
    "                                          lr_time_predict]),\n",
    "    'RMSE' : pd.Series([results_f, results_lgbm, lr_score]),\n",
    "    }\n",
    "display(pd.DataFrame(comparison))"
   ]
  },
  {
   "cell_type": "markdown",
   "metadata": {},
   "source": [
    "**Лучшая модель по скорости и качеству предсказания - `LGBMRegressor`, проверим ее на тестовой выборке:**"
   ]
  },
  {
   "cell_type": "code",
   "execution_count": 138,
   "metadata": {},
   "outputs": [
    {
     "name": "stdout",
     "output_type": "stream",
     "text": [
      "RMSE lightgbm на тестовой выборке: 1389.84\n"
     ]
    }
   ],
   "source": [
    "test_lgbm = model_lgbm.predict(features_test_lgbm)\n",
    "test_lgbm_results = mean_squared_error(target_test, test_lgbm) ** 0.5\n",
    "print('RMSE lightgbm на тестовой выборке: {:.2f}'.format(test_lgbm_results))"
   ]
  },
  {
   "cell_type": "markdown",
   "metadata": {},
   "source": [
    "___\n",
    "___\n",
    "## **Общий вывод:**"
   ]
  },
  {
   "cell_type": "markdown",
   "metadata": {},
   "source": [
    "**Этап 1. Подготовка данных:**\n",
    "- Посмотрели общую информацию о данных.\n",
    "- Нашли большое отклонение и выбросы у колонок: `Мощность`, `Цена`, `Год регистрации`.\n",
    "- Посмотрев корреляцию нашли слабую зависимость цены от мощности и месяца регистрации.\n",
    "  ___"
   ]
  },
  {
   "cell_type": "markdown",
   "metadata": {},
   "source": [
    "**Этап 2. Предобработка данных:**\n",
    "\n",
    "- Удалили столбцы не влияющие на конечный результат.\n",
    "- Привели названия столбцов к общепринятому виду.\n",
    "- Вычислили “псевдо дубликаты”, удалять не стали.\n",
    "- Избавились от пропусков, применив заглушку.\n",
    "- Избавились от выбросов в столбцах с ценой, мощностью, годом регистрации.\n",
    "- Разделили данные на обучающую и тестовую выборки.\n",
    "- Провели масштабирование численных признаков.\n",
    "- Закодировали категориальные признаки двумя разными техниками (`OHE` и `OE`).\n",
    "- Объединили численные и категориальные признаки в единые выборки.\n",
    "\n",
    "**Проведя исследовательский анализ сделали выводы:**\n",
    "* *Категориальные признаки:*\n",
    "  * Большинство машин не было в ремонте, так сказать - \"Не биты, не крашены\".\n",
    "  * Коробка передач в основном механическая.\n",
    "  * Наиболее распространенные типы авто - *Седан* и *small* и *фургон*\n",
    "  * Наиболее востребованные бренды - *volkswagen*, *opel*, *bmw*\n",
    "  * Наиболее популярные модели - *golf* и *3er*, далее следуют две категории: *other* и *uknown*.\n",
    "  * Более популярный тип топлива - *бензин*.\n",
    "  \n",
    "* *Численные признаки:*\n",
    "  * Основной разброс цен до `2000`, \n",
    "    * среднее значение *4172*.\n",
    "  * Наибольшее количество машин `2000-2010` года выпуска,\n",
    "    * среднее значение *2003*.\n",
    "  * Мощность до `250`, \n",
    "    * среднее значение *109*\n",
    "  * Наибольший километраж в диапазоне `138-145 тысяч`,\n",
    "    * среднее значение *130102*.\n",
    "  * Наиболее популярные месяцы регистрации транспорта – `Январь`, `Май` и чуть менее `Декабрь`.\n",
    "_______"
   ]
  },
  {
   "cell_type": "markdown",
   "metadata": {},
   "source": [
    "**Этап 3. Обучение моделей:**\n",
    "* Провели подбор гиперпараметров и обучение 3-х моделей.\n",
    "  ___"
   ]
  },
  {
   "cell_type": "markdown",
   "metadata": {},
   "source": [
    "**Этап 4. Анализ моделей:**\n",
    "\n",
    "Исходя из первоначальных требований заказчика, а именно:\n",
    "* Качество предсказания.\n",
    "* Скорость предсказания.\n",
    "* Время обучения.\n",
    "\n",
    "А также цели исследования: \n",
    "- \"Построить модель прогнозирования цен, значение метрики качества `RMSE` которой должно быть меньше `2500`.\"\n",
    "\n",
    "Мы создали и провели обучение трех моделей, наилучшей из которых по всем параметрам оказался `LGBMRegressor` \n",
    "\n",
    "с метрикой качества `RMSE = 1389.84`.\n",
    "\n",
    "\n",
    "Цель достигнута."
   ]
  },
  {
   "cell_type": "markdown",
   "metadata": {},
   "source": [
    "___\n",
    "**Рекомендации:**\n",
    "* На этапе предобработки данных вместо замены пропусков значением `unknown` можно провести дополнительное исследование и поискать взаимосвязь пропущенных значений в одном столбце и заполненных данных в других. Таким образом, уменьшение пропусков, вероятнее всего, скажется на конечных результатах.\n",
    "* Для более детального исследовательского анализа - проверить категориальные данные на синонимичные значения, а также объединить малые секции в одну общую.\n",
    "* Дополнительно можно провести отбор признаков по их важности и сравнить получившиеся результаты."
   ]
  }
 ],
 "metadata": {
  "ExecuteTimeLog": [
   {
    "duration": 419,
    "start_time": "2023-02-28T19:49:55.536Z"
   },
   {
    "duration": 1268,
    "start_time": "2023-02-28T19:50:35.097Z"
   },
   {
    "duration": 67,
    "start_time": "2023-02-28T19:50:43.137Z"
   },
   {
    "duration": 911,
    "start_time": "2023-02-28T19:50:44.122Z"
   },
   {
    "duration": 21,
    "start_time": "2023-02-28T19:50:47.955Z"
   },
   {
    "duration": 155,
    "start_time": "2023-02-28T19:51:22.418Z"
   },
   {
    "duration": 103,
    "start_time": "2023-02-28T19:51:30.364Z"
   },
   {
    "duration": 79,
    "start_time": "2023-02-28T19:51:36.819Z"
   },
   {
    "duration": 5,
    "start_time": "2023-02-28T19:51:57.978Z"
   },
   {
    "duration": 8,
    "start_time": "2023-02-28T19:52:25.867Z"
   },
   {
    "duration": 8,
    "start_time": "2023-02-28T19:53:31.451Z"
   },
   {
    "duration": 7,
    "start_time": "2023-02-28T19:53:54.874Z"
   },
   {
    "duration": 396,
    "start_time": "2023-02-28T19:54:00.679Z"
   },
   {
    "duration": 959,
    "start_time": "2023-02-28T19:54:01.077Z"
   },
   {
    "duration": 33,
    "start_time": "2023-02-28T19:54:02.040Z"
   },
   {
    "duration": 201,
    "start_time": "2023-02-28T19:54:02.075Z"
   },
   {
    "duration": 119,
    "start_time": "2023-02-28T19:54:02.277Z"
   },
   {
    "duration": 96,
    "start_time": "2023-02-28T19:54:02.398Z"
   },
   {
    "duration": 15,
    "start_time": "2023-02-28T19:54:02.495Z"
   },
   {
    "duration": 98,
    "start_time": "2023-02-28T19:54:02.512Z"
   },
   {
    "duration": 61,
    "start_time": "2023-02-28T19:54:20.113Z"
   },
   {
    "duration": 90,
    "start_time": "2023-02-28T19:54:23.617Z"
   },
   {
    "duration": 58,
    "start_time": "2023-02-28T19:54:34.378Z"
   },
   {
    "duration": 149,
    "start_time": "2023-02-28T19:56:27.619Z"
   },
   {
    "duration": 68,
    "start_time": "2023-02-28T19:56:57.386Z"
   },
   {
    "duration": 136,
    "start_time": "2023-02-28T19:57:04.136Z"
   },
   {
    "duration": 43,
    "start_time": "2023-02-28T19:57:10.690Z"
   },
   {
    "duration": 145,
    "start_time": "2023-02-28T19:57:11.466Z"
   },
   {
    "duration": 35,
    "start_time": "2023-02-28T19:57:16.522Z"
   },
   {
    "duration": 156,
    "start_time": "2023-02-28T19:57:16.946Z"
   },
   {
    "duration": 5,
    "start_time": "2023-02-28T19:57:50.436Z"
   },
   {
    "duration": 473,
    "start_time": "2023-02-28T20:04:55.059Z"
   },
   {
    "duration": 437,
    "start_time": "2023-02-28T20:05:01.834Z"
   },
   {
    "duration": 435,
    "start_time": "2023-02-28T20:05:12.898Z"
   },
   {
    "duration": 439,
    "start_time": "2023-02-28T20:06:19.290Z"
   },
   {
    "duration": 443,
    "start_time": "2023-02-28T20:06:36.443Z"
   },
   {
    "duration": 427,
    "start_time": "2023-02-28T20:06:40.443Z"
   },
   {
    "duration": 471,
    "start_time": "2023-02-28T20:06:45.370Z"
   },
   {
    "duration": 478,
    "start_time": "2023-02-28T20:07:33.971Z"
   },
   {
    "duration": 502,
    "start_time": "2023-02-28T20:07:39.294Z"
   },
   {
    "duration": 141,
    "start_time": "2023-02-28T20:08:59.495Z"
   },
   {
    "duration": 11,
    "start_time": "2023-02-28T20:10:12.243Z"
   },
   {
    "duration": 8,
    "start_time": "2023-02-28T20:10:15.243Z"
   },
   {
    "duration": 16,
    "start_time": "2023-02-28T20:10:29.499Z"
   },
   {
    "duration": 9,
    "start_time": "2023-02-28T20:10:42.435Z"
   },
   {
    "duration": 76,
    "start_time": "2023-02-28T20:10:59.243Z"
   },
   {
    "duration": 518,
    "start_time": "2023-02-28T20:11:03.195Z"
   },
   {
    "duration": 7,
    "start_time": "2023-02-28T20:12:58.347Z"
   },
   {
    "duration": 9,
    "start_time": "2023-02-28T20:13:07.691Z"
   },
   {
    "duration": 5,
    "start_time": "2023-02-28T20:14:56.274Z"
   },
   {
    "duration": 28,
    "start_time": "2023-02-28T20:16:28.908Z"
   },
   {
    "duration": 5,
    "start_time": "2023-02-28T20:16:32.838Z"
   },
   {
    "duration": 60,
    "start_time": "2023-02-28T20:17:03.251Z"
   },
   {
    "duration": 4,
    "start_time": "2023-02-28T20:17:05.419Z"
   },
   {
    "duration": 4,
    "start_time": "2023-02-28T20:17:14.067Z"
   },
   {
    "duration": 446,
    "start_time": "2023-02-28T20:17:23.517Z"
   },
   {
    "duration": 946,
    "start_time": "2023-02-28T20:17:23.965Z"
   },
   {
    "duration": 29,
    "start_time": "2023-02-28T20:17:24.913Z"
   },
   {
    "duration": 189,
    "start_time": "2023-02-28T20:17:24.944Z"
   },
   {
    "duration": 115,
    "start_time": "2023-02-28T20:17:25.139Z"
   },
   {
    "duration": 90,
    "start_time": "2023-02-28T20:17:25.256Z"
   },
   {
    "duration": 4,
    "start_time": "2023-02-28T20:17:25.348Z"
   },
   {
    "duration": 81,
    "start_time": "2023-02-28T20:17:25.354Z"
   },
   {
    "duration": 5,
    "start_time": "2023-02-28T20:17:25.437Z"
   },
   {
    "duration": 546,
    "start_time": "2023-02-28T20:17:25.443Z"
   },
   {
    "duration": 545,
    "start_time": "2023-02-28T20:17:25.991Z"
   },
   {
    "duration": 143,
    "start_time": "2023-02-28T20:17:26.538Z"
   },
   {
    "duration": 1306,
    "start_time": "2023-02-28T20:17:26.683Z"
   },
   {
    "duration": 68,
    "start_time": "2023-02-28T20:21:56.045Z"
   },
   {
    "duration": 386,
    "start_time": "2023-02-28T20:22:11.069Z"
   },
   {
    "duration": 949,
    "start_time": "2023-02-28T20:22:11.457Z"
   },
   {
    "duration": 29,
    "start_time": "2023-02-28T20:22:12.408Z"
   },
   {
    "duration": 167,
    "start_time": "2023-02-28T20:22:12.439Z"
   },
   {
    "duration": 128,
    "start_time": "2023-02-28T20:22:12.608Z"
   },
   {
    "duration": 111,
    "start_time": "2023-02-28T20:22:12.739Z"
   },
   {
    "duration": 6,
    "start_time": "2023-02-28T20:22:12.852Z"
   },
   {
    "duration": 79,
    "start_time": "2023-02-28T20:22:12.860Z"
   },
   {
    "duration": 0,
    "start_time": "2023-02-28T20:22:12.941Z"
   },
   {
    "duration": 0,
    "start_time": "2023-02-28T20:22:12.942Z"
   },
   {
    "duration": 0,
    "start_time": "2023-02-28T20:22:12.943Z"
   },
   {
    "duration": 0,
    "start_time": "2023-02-28T20:22:12.945Z"
   },
   {
    "duration": 0,
    "start_time": "2023-02-28T20:22:12.946Z"
   },
   {
    "duration": 82,
    "start_time": "2023-02-28T20:22:39.501Z"
   },
   {
    "duration": 76,
    "start_time": "2023-02-28T20:22:47.279Z"
   },
   {
    "duration": 60,
    "start_time": "2023-02-28T20:22:53.147Z"
   },
   {
    "duration": 5,
    "start_time": "2023-02-28T20:22:58.206Z"
   },
   {
    "duration": 414,
    "start_time": "2023-02-28T20:23:16.957Z"
   },
   {
    "duration": 961,
    "start_time": "2023-02-28T20:23:17.373Z"
   },
   {
    "duration": 25,
    "start_time": "2023-02-28T20:23:18.336Z"
   },
   {
    "duration": 174,
    "start_time": "2023-02-28T20:23:18.364Z"
   },
   {
    "duration": 107,
    "start_time": "2023-02-28T20:23:18.540Z"
   },
   {
    "duration": 89,
    "start_time": "2023-02-28T20:23:18.649Z"
   },
   {
    "duration": 4,
    "start_time": "2023-02-28T20:23:18.740Z"
   },
   {
    "duration": 103,
    "start_time": "2023-02-28T20:23:18.746Z"
   },
   {
    "duration": 562,
    "start_time": "2023-02-28T20:23:18.851Z"
   },
   {
    "duration": 599,
    "start_time": "2023-02-28T20:23:19.417Z"
   },
   {
    "duration": 161,
    "start_time": "2023-02-28T20:23:20.026Z"
   },
   {
    "duration": 1377,
    "start_time": "2023-02-28T20:23:20.189Z"
   },
   {
    "duration": 9,
    "start_time": "2023-02-28T20:23:33.899Z"
   },
   {
    "duration": 7,
    "start_time": "2023-02-28T20:25:06.163Z"
   },
   {
    "duration": 8,
    "start_time": "2023-02-28T20:25:17.244Z"
   },
   {
    "duration": 11,
    "start_time": "2023-02-28T20:25:26.155Z"
   },
   {
    "duration": 11,
    "start_time": "2023-02-28T20:25:36.725Z"
   },
   {
    "duration": 9,
    "start_time": "2023-02-28T20:25:56.811Z"
   },
   {
    "duration": 53,
    "start_time": "2023-03-01T11:25:46.062Z"
   },
   {
    "duration": 414,
    "start_time": "2023-03-01T11:25:56.355Z"
   },
   {
    "duration": 1214,
    "start_time": "2023-03-01T11:25:56.771Z"
   },
   {
    "duration": 23,
    "start_time": "2023-03-01T11:25:57.987Z"
   },
   {
    "duration": 118,
    "start_time": "2023-03-01T11:25:58.013Z"
   },
   {
    "duration": 100,
    "start_time": "2023-03-01T11:25:58.133Z"
   },
   {
    "duration": 83,
    "start_time": "2023-03-01T11:25:58.240Z"
   },
   {
    "duration": 6,
    "start_time": "2023-03-01T11:25:58.345Z"
   },
   {
    "duration": 97,
    "start_time": "2023-03-01T11:25:58.355Z"
   },
   {
    "duration": 475,
    "start_time": "2023-03-01T11:25:58.454Z"
   },
   {
    "duration": 578,
    "start_time": "2023-03-01T11:25:58.931Z"
   },
   {
    "duration": 128,
    "start_time": "2023-03-01T11:25:59.511Z"
   },
   {
    "duration": 556,
    "start_time": "2023-03-01T11:30:15.400Z"
   },
   {
    "duration": 92,
    "start_time": "2023-03-01T11:30:40.364Z"
   },
   {
    "duration": 106,
    "start_time": "2023-03-01T11:31:20.456Z"
   },
   {
    "duration": 2,
    "start_time": "2023-03-01T11:34:28.259Z"
   },
   {
    "duration": 3,
    "start_time": "2023-03-01T11:34:51.963Z"
   },
   {
    "duration": 84,
    "start_time": "2023-03-01T11:34:54.811Z"
   },
   {
    "duration": 3,
    "start_time": "2023-03-01T11:35:30.956Z"
   },
   {
    "duration": 95,
    "start_time": "2023-03-01T11:51:05.834Z"
   },
   {
    "duration": 87,
    "start_time": "2023-03-01T11:51:19.302Z"
   },
   {
    "duration": 87,
    "start_time": "2023-03-01T11:51:38.191Z"
   },
   {
    "duration": 91,
    "start_time": "2023-03-01T11:52:38.025Z"
   },
   {
    "duration": 108,
    "start_time": "2023-03-01T11:52:42.510Z"
   },
   {
    "duration": 91,
    "start_time": "2023-03-01T11:52:46.294Z"
   },
   {
    "duration": 93,
    "start_time": "2023-03-01T11:53:01.422Z"
   },
   {
    "duration": 97,
    "start_time": "2023-03-01T11:53:46.086Z"
   },
   {
    "duration": 110,
    "start_time": "2023-03-01T11:53:53.346Z"
   },
   {
    "duration": 95,
    "start_time": "2023-03-01T11:54:20.590Z"
   },
   {
    "duration": 68,
    "start_time": "2023-03-01T11:56:17.658Z"
   },
   {
    "duration": 813,
    "start_time": "2023-03-01T11:56:23.841Z"
   },
   {
    "duration": 793,
    "start_time": "2023-03-01T11:56:58.640Z"
   },
   {
    "duration": 93,
    "start_time": "2023-03-01T11:57:17.927Z"
   },
   {
    "duration": 382,
    "start_time": "2023-03-01T12:16:03.490Z"
   },
   {
    "duration": 2,
    "start_time": "2023-03-01T12:16:03.874Z"
   },
   {
    "duration": 783,
    "start_time": "2023-03-01T12:16:03.878Z"
   },
   {
    "duration": 19,
    "start_time": "2023-03-01T12:16:04.663Z"
   },
   {
    "duration": 110,
    "start_time": "2023-03-01T12:16:04.683Z"
   },
   {
    "duration": 374,
    "start_time": "2023-03-01T12:16:04.794Z"
   },
   {
    "duration": 92,
    "start_time": "2023-03-01T12:16:05.170Z"
   },
   {
    "duration": 48,
    "start_time": "2023-03-01T12:16:05.264Z"
   },
   {
    "duration": 4,
    "start_time": "2023-03-01T12:16:05.314Z"
   },
   {
    "duration": 4,
    "start_time": "2023-03-01T12:16:05.320Z"
   },
   {
    "duration": 0,
    "start_time": "2023-03-01T12:16:05.325Z"
   },
   {
    "duration": 0,
    "start_time": "2023-03-01T12:16:05.327Z"
   },
   {
    "duration": 0,
    "start_time": "2023-03-01T12:16:05.328Z"
   },
   {
    "duration": 0,
    "start_time": "2023-03-01T12:16:05.329Z"
   },
   {
    "duration": 39,
    "start_time": "2023-03-01T12:18:31.553Z"
   },
   {
    "duration": 4,
    "start_time": "2023-03-01T12:18:34.433Z"
   },
   {
    "duration": 34,
    "start_time": "2023-03-01T12:19:28.361Z"
   },
   {
    "duration": 12,
    "start_time": "2023-03-01T12:23:36.599Z"
   },
   {
    "duration": 392,
    "start_time": "2023-03-01T12:23:58.537Z"
   },
   {
    "duration": 3,
    "start_time": "2023-03-01T12:23:58.931Z"
   },
   {
    "duration": 771,
    "start_time": "2023-03-01T12:23:58.940Z"
   },
   {
    "duration": 18,
    "start_time": "2023-03-01T12:23:59.713Z"
   },
   {
    "duration": 128,
    "start_time": "2023-03-01T12:23:59.739Z"
   },
   {
    "duration": 406,
    "start_time": "2023-03-01T12:23:59.868Z"
   },
   {
    "duration": 106,
    "start_time": "2023-03-01T12:24:00.276Z"
   },
   {
    "duration": 58,
    "start_time": "2023-03-01T12:24:00.383Z"
   },
   {
    "duration": 5,
    "start_time": "2023-03-01T12:24:00.442Z"
   },
   {
    "duration": 114,
    "start_time": "2023-03-01T12:24:00.448Z"
   },
   {
    "duration": 414,
    "start_time": "2023-03-01T12:24:00.564Z"
   },
   {
    "duration": 396,
    "start_time": "2023-03-01T12:24:00.980Z"
   },
   {
    "duration": 186,
    "start_time": "2023-03-01T12:24:01.378Z"
   },
   {
    "duration": 194,
    "start_time": "2023-03-01T12:24:01.566Z"
   },
   {
    "duration": 185,
    "start_time": "2023-03-01T12:28:00.678Z"
   },
   {
    "duration": 267,
    "start_time": "2023-03-01T12:28:12.475Z"
   },
   {
    "duration": 404,
    "start_time": "2023-03-01T12:29:06.810Z"
   },
   {
    "duration": 2,
    "start_time": "2023-03-01T12:29:07.216Z"
   },
   {
    "duration": 758,
    "start_time": "2023-03-01T12:29:07.220Z"
   },
   {
    "duration": 19,
    "start_time": "2023-03-01T12:29:07.980Z"
   },
   {
    "duration": 118,
    "start_time": "2023-03-01T12:29:08.001Z"
   },
   {
    "duration": 522,
    "start_time": "2023-03-01T12:29:08.120Z"
   },
   {
    "duration": 134,
    "start_time": "2023-03-01T12:29:08.643Z"
   },
   {
    "duration": 81,
    "start_time": "2023-03-01T12:29:08.779Z"
   },
   {
    "duration": 91,
    "start_time": "2023-03-01T12:29:08.862Z"
   },
   {
    "duration": 396,
    "start_time": "2023-03-01T12:29:08.956Z"
   },
   {
    "duration": 389,
    "start_time": "2023-03-01T12:29:09.355Z"
   },
   {
    "duration": 115,
    "start_time": "2023-03-01T12:29:09.746Z"
   },
   {
    "duration": 124,
    "start_time": "2023-03-01T12:29:09.863Z"
   },
   {
    "duration": 179,
    "start_time": "2023-03-01T12:35:33.771Z"
   },
   {
    "duration": 124,
    "start_time": "2023-03-01T12:35:46.398Z"
   },
   {
    "duration": 10,
    "start_time": "2023-03-01T12:37:19.755Z"
   },
   {
    "duration": 386,
    "start_time": "2023-03-01T12:37:27.377Z"
   },
   {
    "duration": 2,
    "start_time": "2023-03-01T12:37:27.765Z"
   },
   {
    "duration": 739,
    "start_time": "2023-03-01T12:37:27.768Z"
   },
   {
    "duration": 18,
    "start_time": "2023-03-01T12:37:28.509Z"
   },
   {
    "duration": 126,
    "start_time": "2023-03-01T12:37:28.528Z"
   },
   {
    "duration": 428,
    "start_time": "2023-03-01T12:37:28.656Z"
   },
   {
    "duration": 104,
    "start_time": "2023-03-01T12:37:29.085Z"
   },
   {
    "duration": 7,
    "start_time": "2023-03-01T12:37:29.191Z"
   },
   {
    "duration": 41,
    "start_time": "2023-03-01T12:37:29.200Z"
   },
   {
    "duration": 41,
    "start_time": "2023-03-01T12:37:29.243Z"
   },
   {
    "duration": 187,
    "start_time": "2023-03-01T12:37:29.286Z"
   },
   {
    "duration": 209,
    "start_time": "2023-03-01T12:37:29.474Z"
   },
   {
    "duration": 187,
    "start_time": "2023-03-01T12:37:29.685Z"
   },
   {
    "duration": 0,
    "start_time": "2023-03-01T12:37:29.874Z"
   },
   {
    "duration": 79,
    "start_time": "2023-03-01T12:43:20.075Z"
   },
   {
    "duration": 67,
    "start_time": "2023-03-01T12:45:24.658Z"
   },
   {
    "duration": 60,
    "start_time": "2023-03-01T12:52:04.972Z"
   },
   {
    "duration": 87,
    "start_time": "2023-03-01T12:52:26.756Z"
   },
   {
    "duration": 64,
    "start_time": "2023-03-01T12:52:35.661Z"
   },
   {
    "duration": 75,
    "start_time": "2023-03-01T12:52:40.132Z"
   },
   {
    "duration": 60,
    "start_time": "2023-03-01T12:52:42.172Z"
   },
   {
    "duration": 123,
    "start_time": "2023-03-01T12:53:41.956Z"
   },
   {
    "duration": 149,
    "start_time": "2023-03-01T12:53:59.659Z"
   },
   {
    "duration": 115,
    "start_time": "2023-03-01T12:54:44.092Z"
   },
   {
    "duration": 117,
    "start_time": "2023-03-01T12:54:59.451Z"
   },
   {
    "duration": 90,
    "start_time": "2023-03-01T12:55:26.828Z"
   },
   {
    "duration": 4,
    "start_time": "2023-03-01T12:57:33.971Z"
   },
   {
    "duration": 2,
    "start_time": "2023-03-01T12:57:37.466Z"
   },
   {
    "duration": 173,
    "start_time": "2023-03-01T13:57:09.624Z"
   },
   {
    "duration": 144,
    "start_time": "2023-03-01T13:57:25.300Z"
   },
   {
    "duration": 149,
    "start_time": "2023-03-01T13:57:29.469Z"
   },
   {
    "duration": 189,
    "start_time": "2023-03-01T13:57:42.351Z"
   },
   {
    "duration": 3,
    "start_time": "2023-03-01T14:04:24.536Z"
   },
   {
    "duration": 403,
    "start_time": "2023-03-01T14:04:55.724Z"
   },
   {
    "duration": 8,
    "start_time": "2023-03-01T14:05:05.771Z"
   },
   {
    "duration": 3,
    "start_time": "2023-03-01T14:05:25.239Z"
   },
   {
    "duration": 7,
    "start_time": "2023-03-01T14:05:25.867Z"
   },
   {
    "duration": 1370,
    "start_time": "2023-03-01T14:05:29.804Z"
   },
   {
    "duration": 3,
    "start_time": "2023-03-01T14:05:41.460Z"
   },
   {
    "duration": 341,
    "start_time": "2023-03-01T14:05:43.460Z"
   },
   {
    "duration": 342,
    "start_time": "2023-03-01T14:05:57.502Z"
   },
   {
    "duration": 2,
    "start_time": "2023-03-01T14:08:09.092Z"
   },
   {
    "duration": 2,
    "start_time": "2023-03-01T14:08:14.687Z"
   },
   {
    "duration": 319,
    "start_time": "2023-03-01T14:14:18.195Z"
   },
   {
    "duration": 2,
    "start_time": "2023-03-01T14:15:53.085Z"
   },
   {
    "duration": 3,
    "start_time": "2023-03-01T14:16:32.268Z"
   },
   {
    "duration": 8,
    "start_time": "2023-03-01T14:16:58.860Z"
   },
   {
    "duration": 7,
    "start_time": "2023-03-01T14:17:13.334Z"
   },
   {
    "duration": 268,
    "start_time": "2023-03-01T14:17:18.590Z"
   },
   {
    "duration": 247,
    "start_time": "2023-03-01T14:17:33.876Z"
   },
   {
    "duration": 98,
    "start_time": "2023-03-01T14:18:24.382Z"
   },
   {
    "duration": 169,
    "start_time": "2023-03-01T14:18:33.900Z"
   },
   {
    "duration": 146,
    "start_time": "2023-03-01T14:18:40.059Z"
   },
   {
    "duration": 3,
    "start_time": "2023-03-01T14:24:26.070Z"
   },
   {
    "duration": 3,
    "start_time": "2023-03-01T14:25:33.062Z"
   },
   {
    "duration": 310,
    "start_time": "2023-03-01T14:25:40.205Z"
   },
   {
    "duration": 74,
    "start_time": "2023-03-01T14:27:27.981Z"
   },
   {
    "duration": 2620,
    "start_time": "2023-03-01T14:27:50.590Z"
   },
   {
    "duration": 72,
    "start_time": "2023-03-01T14:27:57.974Z"
   },
   {
    "duration": 296,
    "start_time": "2023-03-01T14:28:16.925Z"
   },
   {
    "duration": 8,
    "start_time": "2023-03-01T14:29:54.347Z"
   },
   {
    "duration": 2634,
    "start_time": "2023-03-01T14:29:59.780Z"
   },
   {
    "duration": 88,
    "start_time": "2023-03-01T14:30:55.269Z"
   },
   {
    "duration": 300,
    "start_time": "2023-03-01T14:31:09.591Z"
   },
   {
    "duration": 340,
    "start_time": "2023-03-01T14:31:31.573Z"
   },
   {
    "duration": 305,
    "start_time": "2023-03-01T14:32:18.037Z"
   },
   {
    "duration": 298,
    "start_time": "2023-03-01T14:32:21.938Z"
   },
   {
    "duration": 334,
    "start_time": "2023-03-01T14:32:27.042Z"
   },
   {
    "duration": 397,
    "start_time": "2023-03-01T14:33:11.939Z"
   },
   {
    "duration": 383,
    "start_time": "2023-03-01T14:33:36.926Z"
   },
   {
    "duration": 2688,
    "start_time": "2023-03-01T14:34:27.973Z"
   },
   {
    "duration": 2791,
    "start_time": "2023-03-01T14:34:44.773Z"
   },
   {
    "duration": 7,
    "start_time": "2023-03-01T14:58:22.750Z"
   },
   {
    "duration": 1132,
    "start_time": "2023-03-01T14:58:45.678Z"
   },
   {
    "duration": 1124,
    "start_time": "2023-03-01T14:58:57.351Z"
   },
   {
    "duration": 20,
    "start_time": "2023-03-01T14:59:19.997Z"
   },
   {
    "duration": 16,
    "start_time": "2023-03-01T14:59:29.456Z"
   },
   {
    "duration": 1124,
    "start_time": "2023-03-01T14:59:53.539Z"
   },
   {
    "duration": 82,
    "start_time": "2023-03-01T15:00:12.957Z"
   },
   {
    "duration": 95,
    "start_time": "2023-03-01T15:00:37.250Z"
   },
   {
    "duration": 9,
    "start_time": "2023-03-01T15:01:35.031Z"
   },
   {
    "duration": 8,
    "start_time": "2023-03-01T15:01:55.942Z"
   },
   {
    "duration": 11,
    "start_time": "2023-03-01T15:02:08.158Z"
   },
   {
    "duration": 8,
    "start_time": "2023-03-01T15:04:18.801Z"
   },
   {
    "duration": 7,
    "start_time": "2023-03-01T15:04:24.488Z"
   },
   {
    "duration": 8,
    "start_time": "2023-03-01T15:04:30.611Z"
   },
   {
    "duration": 8,
    "start_time": "2023-03-01T15:05:14.987Z"
   },
   {
    "duration": 378,
    "start_time": "2023-03-01T15:06:12.593Z"
   },
   {
    "duration": 371,
    "start_time": "2023-03-01T15:06:20.979Z"
   },
   {
    "duration": 11,
    "start_time": "2023-03-01T15:07:41.358Z"
   },
   {
    "duration": 369,
    "start_time": "2023-03-01T15:09:01.550Z"
   },
   {
    "duration": 9,
    "start_time": "2023-03-01T15:10:07.215Z"
   },
   {
    "duration": 504,
    "start_time": "2023-03-01T15:14:00.774Z"
   },
   {
    "duration": 339,
    "start_time": "2023-03-01T15:14:30.001Z"
   },
   {
    "duration": 293,
    "start_time": "2023-03-01T15:14:43.825Z"
   },
   {
    "duration": 273,
    "start_time": "2023-03-01T15:14:54.725Z"
   },
   {
    "duration": 281,
    "start_time": "2023-03-01T15:14:58.222Z"
   },
   {
    "duration": 271,
    "start_time": "2023-03-01T15:15:45.262Z"
   },
   {
    "duration": 503,
    "start_time": "2023-03-01T15:18:56.447Z"
   },
   {
    "duration": 92,
    "start_time": "2023-03-01T15:19:07.287Z"
   },
   {
    "duration": 134,
    "start_time": "2023-03-01T15:19:27.689Z"
   },
   {
    "duration": 129,
    "start_time": "2023-03-01T15:19:35.719Z"
   },
   {
    "duration": 141,
    "start_time": "2023-03-01T15:19:44.140Z"
   },
   {
    "duration": 133,
    "start_time": "2023-03-01T15:20:00.538Z"
   },
   {
    "duration": 135,
    "start_time": "2023-03-01T15:20:13.478Z"
   },
   {
    "duration": 135,
    "start_time": "2023-03-01T15:20:19.671Z"
   },
   {
    "duration": 120,
    "start_time": "2023-03-01T15:21:13.414Z"
   },
   {
    "duration": 110,
    "start_time": "2023-03-01T15:21:20.575Z"
   },
   {
    "duration": 200,
    "start_time": "2023-03-01T15:21:27.670Z"
   },
   {
    "duration": 110,
    "start_time": "2023-03-01T15:21:39.782Z"
   },
   {
    "duration": 114,
    "start_time": "2023-03-01T15:21:43.706Z"
   },
   {
    "duration": 114,
    "start_time": "2023-03-01T15:21:51.945Z"
   },
   {
    "duration": 101,
    "start_time": "2023-03-01T15:25:39.775Z"
   },
   {
    "duration": 100,
    "start_time": "2023-03-01T15:25:49.471Z"
   },
   {
    "duration": 111,
    "start_time": "2023-03-01T15:32:41.743Z"
   },
   {
    "duration": 189,
    "start_time": "2023-03-01T15:32:55.486Z"
   },
   {
    "duration": 101,
    "start_time": "2023-03-01T15:33:06.743Z"
   },
   {
    "duration": 11,
    "start_time": "2023-03-01T15:33:58.902Z"
   },
   {
    "duration": 45,
    "start_time": "2023-03-01T15:37:48.407Z"
   },
   {
    "duration": 19,
    "start_time": "2023-03-01T15:38:06.688Z"
   },
   {
    "duration": 6,
    "start_time": "2023-03-01T15:40:15.768Z"
   },
   {
    "duration": 951,
    "start_time": "2023-03-01T15:40:23.751Z"
   },
   {
    "duration": 933,
    "start_time": "2023-03-01T15:40:31.858Z"
   },
   {
    "duration": 850,
    "start_time": "2023-03-01T15:41:24.233Z"
   },
   {
    "duration": 1054,
    "start_time": "2023-03-01T15:41:37.061Z"
   },
   {
    "duration": 3,
    "start_time": "2023-03-01T15:41:38.116Z"
   },
   {
    "duration": 732,
    "start_time": "2023-03-01T15:41:38.120Z"
   },
   {
    "duration": 15,
    "start_time": "2023-03-01T15:41:38.855Z"
   },
   {
    "duration": 109,
    "start_time": "2023-03-01T15:41:38.871Z"
   },
   {
    "duration": 133,
    "start_time": "2023-03-01T15:41:38.981Z"
   },
   {
    "duration": 90,
    "start_time": "2023-03-01T15:41:39.116Z"
   },
   {
    "duration": 6,
    "start_time": "2023-03-01T15:41:39.208Z"
   },
   {
    "duration": 36,
    "start_time": "2023-03-01T15:41:39.216Z"
   },
   {
    "duration": 36,
    "start_time": "2023-03-01T15:41:39.255Z"
   },
   {
    "duration": 184,
    "start_time": "2023-03-01T15:41:39.292Z"
   },
   {
    "duration": 179,
    "start_time": "2023-03-01T15:41:39.477Z"
   },
   {
    "duration": 69,
    "start_time": "2023-03-01T15:41:39.658Z"
   },
   {
    "duration": 12,
    "start_time": "2023-03-01T15:41:39.728Z"
   },
   {
    "duration": 162,
    "start_time": "2023-03-01T15:41:39.742Z"
   },
   {
    "duration": 3,
    "start_time": "2023-03-01T15:41:39.905Z"
   },
   {
    "duration": 2791,
    "start_time": "2023-03-01T15:41:39.909Z"
   },
   {
    "duration": 88,
    "start_time": "2023-03-01T15:41:42.702Z"
   },
   {
    "duration": 148,
    "start_time": "2023-03-01T15:41:42.792Z"
   },
   {
    "duration": 107,
    "start_time": "2023-03-01T15:41:42.942Z"
   },
   {
    "duration": 11,
    "start_time": "2023-03-01T15:41:43.051Z"
   },
   {
    "duration": 7,
    "start_time": "2023-03-01T15:41:43.064Z"
   },
   {
    "duration": 9,
    "start_time": "2023-03-01T15:41:43.072Z"
   },
   {
    "duration": 924,
    "start_time": "2023-03-01T15:47:04.599Z"
   },
   {
    "duration": 915,
    "start_time": "2023-03-01T15:47:17.316Z"
   },
   {
    "duration": 845,
    "start_time": "2023-03-01T15:58:26.592Z"
   },
   {
    "duration": 1356,
    "start_time": "2023-03-01T15:58:41.029Z"
   },
   {
    "duration": 3,
    "start_time": "2023-03-01T15:58:42.443Z"
   },
   {
    "duration": 1448,
    "start_time": "2023-03-01T15:58:42.450Z"
   },
   {
    "duration": 16,
    "start_time": "2023-03-01T15:58:43.900Z"
   },
   {
    "duration": 107,
    "start_time": "2023-03-01T15:58:43.918Z"
   },
   {
    "duration": 133,
    "start_time": "2023-03-01T15:58:44.026Z"
   },
   {
    "duration": 89,
    "start_time": "2023-03-01T15:58:44.160Z"
   },
   {
    "duration": 6,
    "start_time": "2023-03-01T15:58:44.251Z"
   },
   {
    "duration": 28,
    "start_time": "2023-03-01T15:58:44.258Z"
   },
   {
    "duration": 54,
    "start_time": "2023-03-01T15:58:44.287Z"
   },
   {
    "duration": 183,
    "start_time": "2023-03-01T15:58:44.343Z"
   },
   {
    "duration": 178,
    "start_time": "2023-03-01T15:58:44.528Z"
   },
   {
    "duration": 71,
    "start_time": "2023-03-01T15:58:44.708Z"
   },
   {
    "duration": 2,
    "start_time": "2023-03-01T15:58:44.781Z"
   },
   {
    "duration": 170,
    "start_time": "2023-03-01T15:58:44.784Z"
   },
   {
    "duration": 3,
    "start_time": "2023-03-01T15:58:44.956Z"
   },
   {
    "duration": 2763,
    "start_time": "2023-03-01T15:58:44.960Z"
   },
   {
    "duration": 86,
    "start_time": "2023-03-01T15:58:47.724Z"
   },
   {
    "duration": 145,
    "start_time": "2023-03-01T15:58:47.812Z"
   },
   {
    "duration": 110,
    "start_time": "2023-03-01T15:58:47.958Z"
   },
   {
    "duration": 11,
    "start_time": "2023-03-01T15:58:48.070Z"
   },
   {
    "duration": 6,
    "start_time": "2023-03-01T15:58:48.083Z"
   },
   {
    "duration": 11,
    "start_time": "2023-03-01T15:58:48.091Z"
   },
   {
    "duration": 6,
    "start_time": "2023-03-01T15:59:39.745Z"
   },
   {
    "duration": 929,
    "start_time": "2023-03-01T16:02:08.969Z"
   },
   {
    "duration": 881,
    "start_time": "2023-03-01T16:02:24.472Z"
   },
   {
    "duration": 1037,
    "start_time": "2023-03-01T16:06:59.936Z"
   },
   {
    "duration": 1081,
    "start_time": "2023-03-01T16:08:15.555Z"
   },
   {
    "duration": 2,
    "start_time": "2023-03-01T16:08:16.638Z"
   },
   {
    "duration": 1445,
    "start_time": "2023-03-01T16:08:16.642Z"
   },
   {
    "duration": 64,
    "start_time": "2023-03-01T16:08:18.089Z"
   },
   {
    "duration": 195,
    "start_time": "2023-03-01T16:08:18.156Z"
   },
   {
    "duration": 133,
    "start_time": "2023-03-01T16:08:18.352Z"
   },
   {
    "duration": 99,
    "start_time": "2023-03-01T16:08:18.487Z"
   },
   {
    "duration": 10,
    "start_time": "2023-03-01T16:08:18.587Z"
   },
   {
    "duration": 42,
    "start_time": "2023-03-01T16:08:18.599Z"
   },
   {
    "duration": 40,
    "start_time": "2023-03-01T16:08:18.643Z"
   },
   {
    "duration": 205,
    "start_time": "2023-03-01T16:08:18.685Z"
   },
   {
    "duration": 183,
    "start_time": "2023-03-01T16:08:18.891Z"
   },
   {
    "duration": 73,
    "start_time": "2023-03-01T16:08:19.076Z"
   },
   {
    "duration": 2,
    "start_time": "2023-03-01T16:08:19.152Z"
   },
   {
    "duration": 180,
    "start_time": "2023-03-01T16:08:19.156Z"
   },
   {
    "duration": 3,
    "start_time": "2023-03-01T16:08:19.339Z"
   },
   {
    "duration": 2767,
    "start_time": "2023-03-01T16:08:19.344Z"
   },
   {
    "duration": 89,
    "start_time": "2023-03-01T16:08:22.112Z"
   },
   {
    "duration": 139,
    "start_time": "2023-03-01T16:08:22.203Z"
   },
   {
    "duration": 36,
    "start_time": "2023-03-01T16:08:22.343Z"
   },
   {
    "duration": 136,
    "start_time": "2023-03-01T16:08:22.381Z"
   },
   {
    "duration": 12,
    "start_time": "2023-03-01T16:08:22.519Z"
   },
   {
    "duration": 20,
    "start_time": "2023-03-01T16:08:22.539Z"
   },
   {
    "duration": 9,
    "start_time": "2023-03-01T16:08:22.561Z"
   },
   {
    "duration": 135,
    "start_time": "2023-03-01T16:09:36.816Z"
   },
   {
    "duration": 30,
    "start_time": "2023-03-01T16:10:43.161Z"
   },
   {
    "duration": 82,
    "start_time": "2023-03-01T16:10:45.098Z"
   },
   {
    "duration": 25,
    "start_time": "2023-03-01T16:10:59.872Z"
   },
   {
    "duration": 82,
    "start_time": "2023-03-01T16:11:03.160Z"
   },
   {
    "duration": 1089,
    "start_time": "2023-03-01T16:11:13.228Z"
   },
   {
    "duration": 2,
    "start_time": "2023-03-01T16:11:14.319Z"
   },
   {
    "duration": 1053,
    "start_time": "2023-03-01T16:11:14.323Z"
   },
   {
    "duration": 65,
    "start_time": "2023-03-01T16:11:15.378Z"
   },
   {
    "duration": 206,
    "start_time": "2023-03-01T16:11:15.445Z"
   },
   {
    "duration": 294,
    "start_time": "2023-03-01T16:11:15.653Z"
   },
   {
    "duration": 138,
    "start_time": "2023-03-01T16:11:15.949Z"
   },
   {
    "duration": 59,
    "start_time": "2023-03-01T16:11:16.088Z"
   },
   {
    "duration": 26,
    "start_time": "2023-03-01T16:11:16.148Z"
   },
   {
    "duration": 87,
    "start_time": "2023-03-01T16:11:16.177Z"
   },
   {
    "duration": 302,
    "start_time": "2023-03-01T16:11:16.265Z"
   },
   {
    "duration": 183,
    "start_time": "2023-03-01T16:11:16.569Z"
   },
   {
    "duration": 67,
    "start_time": "2023-03-01T16:11:16.754Z"
   },
   {
    "duration": 3,
    "start_time": "2023-03-01T16:11:16.822Z"
   },
   {
    "duration": 184,
    "start_time": "2023-03-01T16:11:16.826Z"
   },
   {
    "duration": 2,
    "start_time": "2023-03-01T16:11:17.012Z"
   },
   {
    "duration": 2685,
    "start_time": "2023-03-01T16:11:17.015Z"
   },
   {
    "duration": 84,
    "start_time": "2023-03-01T16:11:19.701Z"
   },
   {
    "duration": 139,
    "start_time": "2023-03-01T16:11:19.787Z"
   },
   {
    "duration": 41,
    "start_time": "2023-03-01T16:11:19.927Z"
   },
   {
    "duration": 119,
    "start_time": "2023-03-01T16:11:19.969Z"
   },
   {
    "duration": 103,
    "start_time": "2023-03-01T16:11:20.089Z"
   },
   {
    "duration": 9,
    "start_time": "2023-03-01T16:11:20.193Z"
   },
   {
    "duration": 19,
    "start_time": "2023-03-01T16:11:20.204Z"
   },
   {
    "duration": 8,
    "start_time": "2023-03-01T16:11:20.241Z"
   },
   {
    "duration": 152,
    "start_time": "2023-03-01T16:14:12.498Z"
   },
   {
    "duration": 96,
    "start_time": "2023-03-01T16:14:44.169Z"
   },
   {
    "duration": 109,
    "start_time": "2023-03-01T16:16:27.769Z"
   },
   {
    "duration": 102,
    "start_time": "2023-03-01T16:16:37.405Z"
   },
   {
    "duration": 100,
    "start_time": "2023-03-01T16:16:48.874Z"
   },
   {
    "duration": 89,
    "start_time": "2023-03-01T16:25:36.755Z"
   },
   {
    "duration": 98,
    "start_time": "2023-03-01T16:25:49.553Z"
   },
   {
    "duration": 98,
    "start_time": "2023-03-01T16:26:42.834Z"
   },
   {
    "duration": 95,
    "start_time": "2023-03-01T16:26:59.730Z"
   },
   {
    "duration": 99,
    "start_time": "2023-03-01T16:27:00.401Z"
   },
   {
    "duration": 18,
    "start_time": "2023-03-01T16:56:34.652Z"
   },
   {
    "duration": 0,
    "start_time": "2023-03-01T16:58:49.270Z"
   },
   {
    "duration": 9,
    "start_time": "2023-03-01T17:04:07.480Z"
   },
   {
    "duration": 9,
    "start_time": "2023-03-01T17:04:15.685Z"
   },
   {
    "duration": 322,
    "start_time": "2023-03-01T17:04:55.804Z"
   },
   {
    "duration": 48,
    "start_time": "2023-03-01T17:05:02.732Z"
   },
   {
    "duration": 23,
    "start_time": "2023-03-01T17:05:28.236Z"
   },
   {
    "duration": 34,
    "start_time": "2023-03-01T17:05:31.797Z"
   },
   {
    "duration": 9,
    "start_time": "2023-03-01T17:05:40.972Z"
   },
   {
    "duration": 1339,
    "start_time": "2023-03-01T17:06:51.105Z"
   },
   {
    "duration": 2,
    "start_time": "2023-03-01T17:06:52.447Z"
   },
   {
    "duration": 139,
    "start_time": "2023-03-01T17:06:52.451Z"
   },
   {
    "duration": 0,
    "start_time": "2023-03-01T17:06:52.592Z"
   },
   {
    "duration": 0,
    "start_time": "2023-03-01T17:06:52.593Z"
   },
   {
    "duration": 0,
    "start_time": "2023-03-01T17:06:52.594Z"
   },
   {
    "duration": 0,
    "start_time": "2023-03-01T17:06:52.595Z"
   },
   {
    "duration": 0,
    "start_time": "2023-03-01T17:06:52.596Z"
   },
   {
    "duration": 0,
    "start_time": "2023-03-01T17:06:52.597Z"
   },
   {
    "duration": 0,
    "start_time": "2023-03-01T17:06:52.598Z"
   },
   {
    "duration": 0,
    "start_time": "2023-03-01T17:06:52.599Z"
   },
   {
    "duration": 0,
    "start_time": "2023-03-01T17:06:52.600Z"
   },
   {
    "duration": 0,
    "start_time": "2023-03-01T17:06:52.601Z"
   },
   {
    "duration": 0,
    "start_time": "2023-03-01T17:06:52.601Z"
   },
   {
    "duration": 0,
    "start_time": "2023-03-01T17:06:52.603Z"
   },
   {
    "duration": 0,
    "start_time": "2023-03-01T17:06:52.604Z"
   },
   {
    "duration": 0,
    "start_time": "2023-03-01T17:06:52.604Z"
   },
   {
    "duration": 0,
    "start_time": "2023-03-01T17:06:52.605Z"
   },
   {
    "duration": 0,
    "start_time": "2023-03-01T17:06:52.606Z"
   },
   {
    "duration": 0,
    "start_time": "2023-03-01T17:06:52.607Z"
   },
   {
    "duration": 0,
    "start_time": "2023-03-01T17:06:52.607Z"
   },
   {
    "duration": 0,
    "start_time": "2023-03-01T17:06:52.608Z"
   },
   {
    "duration": 0,
    "start_time": "2023-03-01T17:06:52.609Z"
   },
   {
    "duration": 0,
    "start_time": "2023-03-01T17:06:52.640Z"
   },
   {
    "duration": 0,
    "start_time": "2023-03-01T17:06:52.641Z"
   },
   {
    "duration": 0,
    "start_time": "2023-03-01T17:06:52.642Z"
   },
   {
    "duration": 0,
    "start_time": "2023-03-01T17:06:52.643Z"
   },
   {
    "duration": 0,
    "start_time": "2023-03-01T17:06:52.643Z"
   },
   {
    "duration": 0,
    "start_time": "2023-03-01T17:06:52.644Z"
   },
   {
    "duration": 9,
    "start_time": "2023-03-01T17:07:05.652Z"
   },
   {
    "duration": 9,
    "start_time": "2023-03-01T17:07:10.676Z"
   },
   {
    "duration": 9,
    "start_time": "2023-03-01T17:07:13.659Z"
   },
   {
    "duration": 1455,
    "start_time": "2023-03-01T19:30:40.476Z"
   },
   {
    "duration": 3,
    "start_time": "2023-03-01T19:30:41.933Z"
   },
   {
    "duration": 3270,
    "start_time": "2023-03-01T19:30:41.937Z"
   },
   {
    "duration": 17,
    "start_time": "2023-03-01T19:30:45.209Z"
   },
   {
    "duration": 116,
    "start_time": "2023-03-01T19:30:45.228Z"
   },
   {
    "duration": 145,
    "start_time": "2023-03-01T19:30:45.347Z"
   },
   {
    "duration": 95,
    "start_time": "2023-03-01T19:30:45.494Z"
   },
   {
    "duration": 9,
    "start_time": "2023-03-01T19:30:45.591Z"
   },
   {
    "duration": 39,
    "start_time": "2023-03-01T19:30:45.602Z"
   },
   {
    "duration": 36,
    "start_time": "2023-03-01T19:30:45.644Z"
   },
   {
    "duration": 212,
    "start_time": "2023-03-01T19:30:45.682Z"
   },
   {
    "duration": 199,
    "start_time": "2023-03-01T19:30:45.896Z"
   },
   {
    "duration": 86,
    "start_time": "2023-03-01T19:30:46.096Z"
   },
   {
    "duration": 2,
    "start_time": "2023-03-01T19:30:46.184Z"
   },
   {
    "duration": 179,
    "start_time": "2023-03-01T19:30:46.188Z"
   },
   {
    "duration": 3,
    "start_time": "2023-03-01T19:30:46.369Z"
   },
   {
    "duration": 2966,
    "start_time": "2023-03-01T19:30:46.373Z"
   },
   {
    "duration": 83,
    "start_time": "2023-03-01T19:30:49.341Z"
   },
   {
    "duration": 155,
    "start_time": "2023-03-01T19:30:49.426Z"
   },
   {
    "duration": 33,
    "start_time": "2023-03-01T19:30:49.582Z"
   },
   {
    "duration": 136,
    "start_time": "2023-03-01T19:30:49.617Z"
   },
   {
    "duration": 116,
    "start_time": "2023-03-01T19:30:49.755Z"
   },
   {
    "duration": 10,
    "start_time": "2023-03-01T19:30:49.872Z"
   },
   {
    "duration": 16,
    "start_time": "2023-03-01T19:30:49.883Z"
   },
   {
    "duration": 126,
    "start_time": "2023-03-01T19:30:49.900Z"
   },
   {
    "duration": 106,
    "start_time": "2023-03-01T19:30:50.028Z"
   },
   {
    "duration": 19,
    "start_time": "2023-03-01T19:30:50.136Z"
   },
   {
    "duration": 151,
    "start_time": "2023-03-01T19:30:50.159Z"
   },
   {
    "duration": 0,
    "start_time": "2023-03-01T19:30:50.311Z"
   },
   {
    "duration": 65,
    "start_time": "2023-03-01T19:31:34.302Z"
   },
   {
    "duration": 25,
    "start_time": "2023-03-01T19:31:35.699Z"
   },
   {
    "duration": 5,
    "start_time": "2023-03-01T19:36:48.075Z"
   },
   {
    "duration": 10,
    "start_time": "2023-03-01T19:40:23.512Z"
   },
   {
    "duration": 3,
    "start_time": "2023-03-01T19:40:56.552Z"
   },
   {
    "duration": 16,
    "start_time": "2023-03-01T19:43:56.445Z"
   },
   {
    "duration": 54,
    "start_time": "2023-03-01T19:44:04.622Z"
   },
   {
    "duration": 463,
    "start_time": "2023-03-01T19:48:47.867Z"
   },
   {
    "duration": 3528,
    "start_time": "2023-03-01T19:57:57.965Z"
   },
   {
    "duration": 5,
    "start_time": "2023-03-01T20:00:08.965Z"
   },
   {
    "duration": 1279,
    "start_time": "2023-03-01T20:02:52.364Z"
   },
   {
    "duration": 3,
    "start_time": "2023-03-01T20:02:53.645Z"
   },
   {
    "duration": 812,
    "start_time": "2023-03-01T20:02:53.649Z"
   },
   {
    "duration": 16,
    "start_time": "2023-03-01T20:02:54.463Z"
   },
   {
    "duration": 116,
    "start_time": "2023-03-01T20:02:54.480Z"
   },
   {
    "duration": 137,
    "start_time": "2023-03-01T20:02:54.598Z"
   },
   {
    "duration": 81,
    "start_time": "2023-03-01T20:02:54.736Z"
   },
   {
    "duration": 18,
    "start_time": "2023-03-01T20:02:54.818Z"
   },
   {
    "duration": 25,
    "start_time": "2023-03-01T20:02:54.838Z"
   },
   {
    "duration": 39,
    "start_time": "2023-03-01T20:02:54.866Z"
   },
   {
    "duration": 212,
    "start_time": "2023-03-01T20:02:54.906Z"
   },
   {
    "duration": 197,
    "start_time": "2023-03-01T20:02:55.119Z"
   },
   {
    "duration": 81,
    "start_time": "2023-03-01T20:02:55.318Z"
   },
   {
    "duration": 3,
    "start_time": "2023-03-01T20:02:55.401Z"
   },
   {
    "duration": 177,
    "start_time": "2023-03-01T20:02:55.406Z"
   },
   {
    "duration": 3,
    "start_time": "2023-03-01T20:02:55.585Z"
   },
   {
    "duration": 3863,
    "start_time": "2023-03-01T20:02:55.590Z"
   },
   {
    "duration": 4,
    "start_time": "2023-03-01T20:02:59.454Z"
   },
   {
    "duration": 93,
    "start_time": "2023-03-01T20:02:59.459Z"
   },
   {
    "duration": 146,
    "start_time": "2023-03-01T20:02:59.554Z"
   },
   {
    "duration": 43,
    "start_time": "2023-03-01T20:02:59.701Z"
   },
   {
    "duration": 112,
    "start_time": "2023-03-01T20:02:59.746Z"
   },
   {
    "duration": 107,
    "start_time": "2023-03-01T20:02:59.859Z"
   },
   {
    "duration": 10,
    "start_time": "2023-03-01T20:02:59.967Z"
   },
   {
    "duration": 15,
    "start_time": "2023-03-01T20:02:59.978Z"
   },
   {
    "duration": 128,
    "start_time": "2023-03-01T20:02:59.994Z"
   },
   {
    "duration": 101,
    "start_time": "2023-03-01T20:03:00.124Z"
   },
   {
    "duration": 14,
    "start_time": "2023-03-01T20:03:00.235Z"
   },
   {
    "duration": 67,
    "start_time": "2023-03-01T20:03:00.251Z"
   },
   {
    "duration": 30,
    "start_time": "2023-03-01T20:03:00.320Z"
   },
   {
    "duration": 6,
    "start_time": "2023-03-01T20:03:00.351Z"
   },
   {
    "duration": 79,
    "start_time": "2023-03-01T20:03:00.358Z"
   },
   {
    "duration": 460,
    "start_time": "2023-03-01T20:03:00.439Z"
   },
   {
    "duration": 3320,
    "start_time": "2023-03-01T20:03:00.901Z"
   },
   {
    "duration": 14,
    "start_time": "2023-03-01T20:03:04.223Z"
   },
   {
    "duration": 5,
    "start_time": "2023-03-01T20:03:21.848Z"
   },
   {
    "duration": 1359,
    "start_time": "2023-03-01T20:03:29.024Z"
   },
   {
    "duration": 3,
    "start_time": "2023-03-01T20:03:30.435Z"
   },
   {
    "duration": 1571,
    "start_time": "2023-03-01T20:03:30.439Z"
   },
   {
    "duration": 36,
    "start_time": "2023-03-01T20:03:32.012Z"
   },
   {
    "duration": 110,
    "start_time": "2023-03-01T20:03:32.050Z"
   },
   {
    "duration": 172,
    "start_time": "2023-03-01T20:03:32.162Z"
   },
   {
    "duration": 80,
    "start_time": "2023-03-01T20:03:32.336Z"
   },
   {
    "duration": 20,
    "start_time": "2023-03-01T20:03:32.418Z"
   },
   {
    "duration": 23,
    "start_time": "2023-03-01T20:03:32.439Z"
   },
   {
    "duration": 44,
    "start_time": "2023-03-01T20:03:32.464Z"
   },
   {
    "duration": 199,
    "start_time": "2023-03-01T20:03:32.510Z"
   },
   {
    "duration": 214,
    "start_time": "2023-03-01T20:03:32.711Z"
   },
   {
    "duration": 81,
    "start_time": "2023-03-01T20:03:32.927Z"
   },
   {
    "duration": 3,
    "start_time": "2023-03-01T20:03:33.010Z"
   },
   {
    "duration": 176,
    "start_time": "2023-03-01T20:03:33.014Z"
   },
   {
    "duration": 3,
    "start_time": "2023-03-01T20:03:33.192Z"
   },
   {
    "duration": 2898,
    "start_time": "2023-03-01T20:03:33.197Z"
   },
   {
    "duration": 100,
    "start_time": "2023-03-01T20:03:36.097Z"
   },
   {
    "duration": 145,
    "start_time": "2023-03-01T20:03:36.198Z"
   },
   {
    "duration": 33,
    "start_time": "2023-03-01T20:03:36.344Z"
   },
   {
    "duration": 132,
    "start_time": "2023-03-01T20:03:36.379Z"
   },
   {
    "duration": 109,
    "start_time": "2023-03-01T20:03:36.512Z"
   },
   {
    "duration": 17,
    "start_time": "2023-03-01T20:03:36.623Z"
   },
   {
    "duration": 15,
    "start_time": "2023-03-01T20:03:36.642Z"
   },
   {
    "duration": 117,
    "start_time": "2023-03-01T20:03:36.659Z"
   },
   {
    "duration": 95,
    "start_time": "2023-03-01T20:03:36.777Z"
   },
   {
    "duration": 5,
    "start_time": "2023-03-01T20:03:36.873Z"
   },
   {
    "duration": 15,
    "start_time": "2023-03-01T20:03:36.880Z"
   },
   {
    "duration": 69,
    "start_time": "2023-03-01T20:03:36.896Z"
   },
   {
    "duration": 23,
    "start_time": "2023-03-01T20:03:36.966Z"
   },
   {
    "duration": 6,
    "start_time": "2023-03-01T20:03:36.990Z"
   },
   {
    "duration": 73,
    "start_time": "2023-03-01T20:03:36.997Z"
   },
   {
    "duration": 487,
    "start_time": "2023-03-01T20:03:37.072Z"
   },
   {
    "duration": 3221,
    "start_time": "2023-03-01T20:03:37.561Z"
   },
   {
    "duration": 5,
    "start_time": "2023-03-01T20:03:40.783Z"
   },
   {
    "duration": 5,
    "start_time": "2023-03-01T20:04:40.500Z"
   },
   {
    "duration": 1325,
    "start_time": "2023-03-01T20:05:08.908Z"
   },
   {
    "duration": 2,
    "start_time": "2023-03-01T20:05:10.235Z"
   },
   {
    "duration": 830,
    "start_time": "2023-03-01T20:05:10.239Z"
   },
   {
    "duration": 17,
    "start_time": "2023-03-01T20:05:11.071Z"
   },
   {
    "duration": 124,
    "start_time": "2023-03-01T20:05:11.090Z"
   },
   {
    "duration": 142,
    "start_time": "2023-03-01T20:05:11.216Z"
   },
   {
    "duration": 95,
    "start_time": "2023-03-01T20:05:11.360Z"
   },
   {
    "duration": 7,
    "start_time": "2023-03-01T20:05:11.456Z"
   },
   {
    "duration": 27,
    "start_time": "2023-03-01T20:05:11.465Z"
   },
   {
    "duration": 57,
    "start_time": "2023-03-01T20:05:11.495Z"
   },
   {
    "duration": 189,
    "start_time": "2023-03-01T20:05:11.554Z"
   },
   {
    "duration": 191,
    "start_time": "2023-03-01T20:05:11.744Z"
   },
   {
    "duration": 70,
    "start_time": "2023-03-01T20:05:11.937Z"
   },
   {
    "duration": 3,
    "start_time": "2023-03-01T20:05:12.008Z"
   },
   {
    "duration": 191,
    "start_time": "2023-03-01T20:05:12.013Z"
   },
   {
    "duration": 3,
    "start_time": "2023-03-01T20:05:12.205Z"
   },
   {
    "duration": 3779,
    "start_time": "2023-03-01T20:05:12.209Z"
   },
   {
    "duration": 104,
    "start_time": "2023-03-01T20:05:15.990Z"
   },
   {
    "duration": 148,
    "start_time": "2023-03-01T20:05:16.095Z"
   },
   {
    "duration": 33,
    "start_time": "2023-03-01T20:05:16.245Z"
   },
   {
    "duration": 129,
    "start_time": "2023-03-01T20:05:16.279Z"
   },
   {
    "duration": 109,
    "start_time": "2023-03-01T20:05:16.409Z"
   },
   {
    "duration": 18,
    "start_time": "2023-03-01T20:05:16.519Z"
   },
   {
    "duration": 15,
    "start_time": "2023-03-01T20:05:16.539Z"
   },
   {
    "duration": 4,
    "start_time": "2023-03-01T20:05:16.556Z"
   },
   {
    "duration": 126,
    "start_time": "2023-03-01T20:05:16.562Z"
   },
   {
    "duration": 95,
    "start_time": "2023-03-01T20:05:16.689Z"
   },
   {
    "duration": 14,
    "start_time": "2023-03-01T20:05:16.787Z"
   },
   {
    "duration": 70,
    "start_time": "2023-03-01T20:05:16.802Z"
   },
   {
    "duration": 23,
    "start_time": "2023-03-01T20:05:16.874Z"
   },
   {
    "duration": 5,
    "start_time": "2023-03-01T20:05:16.898Z"
   },
   {
    "duration": 64,
    "start_time": "2023-03-01T20:05:16.904Z"
   },
   {
    "duration": 456,
    "start_time": "2023-03-01T20:05:16.970Z"
   },
   {
    "duration": 3291,
    "start_time": "2023-03-01T20:05:17.428Z"
   },
   {
    "duration": 13,
    "start_time": "2023-03-01T20:05:20.721Z"
   },
   {
    "duration": 3,
    "start_time": "2023-03-01T20:05:35.357Z"
   },
   {
    "duration": 5,
    "start_time": "2023-03-01T20:05:48.753Z"
   },
   {
    "duration": 4,
    "start_time": "2023-03-01T20:05:52.412Z"
   },
   {
    "duration": 1630,
    "start_time": "2023-03-01T20:05:57.838Z"
   },
   {
    "duration": 3,
    "start_time": "2023-03-01T20:05:59.470Z"
   },
   {
    "duration": 1334,
    "start_time": "2023-03-01T20:05:59.475Z"
   },
   {
    "duration": 17,
    "start_time": "2023-03-01T20:06:00.811Z"
   },
   {
    "duration": 134,
    "start_time": "2023-03-01T20:06:00.830Z"
   },
   {
    "duration": 178,
    "start_time": "2023-03-01T20:06:00.966Z"
   },
   {
    "duration": 89,
    "start_time": "2023-03-01T20:06:01.145Z"
   },
   {
    "duration": 6,
    "start_time": "2023-03-01T20:06:01.236Z"
   },
   {
    "duration": 49,
    "start_time": "2023-03-01T20:06:01.243Z"
   },
   {
    "duration": 51,
    "start_time": "2023-03-01T20:06:01.295Z"
   },
   {
    "duration": 187,
    "start_time": "2023-03-01T20:06:01.348Z"
   },
   {
    "duration": 196,
    "start_time": "2023-03-01T20:06:01.536Z"
   },
   {
    "duration": 70,
    "start_time": "2023-03-01T20:06:01.733Z"
   },
   {
    "duration": 16,
    "start_time": "2023-03-01T20:06:01.805Z"
   },
   {
    "duration": 170,
    "start_time": "2023-03-01T20:06:01.823Z"
   },
   {
    "duration": 3,
    "start_time": "2023-03-01T20:06:01.994Z"
   },
   {
    "duration": 2983,
    "start_time": "2023-03-01T20:06:01.999Z"
   },
   {
    "duration": 92,
    "start_time": "2023-03-01T20:06:04.984Z"
   },
   {
    "duration": 152,
    "start_time": "2023-03-01T20:06:05.077Z"
   },
   {
    "duration": 35,
    "start_time": "2023-03-01T20:06:05.233Z"
   },
   {
    "duration": 133,
    "start_time": "2023-03-01T20:06:05.270Z"
   },
   {
    "duration": 2,
    "start_time": "2023-03-01T20:06:05.405Z"
   },
   {
    "duration": 27,
    "start_time": "2023-03-01T20:06:05.409Z"
   },
   {
    "duration": 6,
    "start_time": "2023-03-01T20:06:05.438Z"
   },
   {
    "duration": 16,
    "start_time": "2023-03-01T20:06:05.446Z"
   },
   {
    "duration": 111,
    "start_time": "2023-03-01T20:06:05.464Z"
   },
   {
    "duration": 94,
    "start_time": "2023-03-01T20:06:05.577Z"
   },
   {
    "duration": 14,
    "start_time": "2023-03-01T20:06:05.674Z"
   },
   {
    "duration": 74,
    "start_time": "2023-03-01T20:06:05.690Z"
   },
   {
    "duration": 23,
    "start_time": "2023-03-01T20:06:05.766Z"
   },
   {
    "duration": 6,
    "start_time": "2023-03-01T20:06:05.791Z"
   },
   {
    "duration": 69,
    "start_time": "2023-03-01T20:06:05.798Z"
   },
   {
    "duration": 483,
    "start_time": "2023-03-01T20:06:05.868Z"
   },
   {
    "duration": 3351,
    "start_time": "2023-03-01T20:06:06.353Z"
   },
   {
    "duration": 5,
    "start_time": "2023-03-01T20:06:09.705Z"
   },
   {
    "duration": 1349,
    "start_time": "2023-03-01T20:09:18.808Z"
   },
   {
    "duration": 1350,
    "start_time": "2023-03-01T20:09:29.406Z"
   },
   {
    "duration": 2,
    "start_time": "2023-03-01T20:09:30.758Z"
   },
   {
    "duration": 1499,
    "start_time": "2023-03-01T20:09:30.762Z"
   },
   {
    "duration": 17,
    "start_time": "2023-03-01T20:09:32.263Z"
   },
   {
    "duration": 260,
    "start_time": "2023-03-01T20:09:32.281Z"
   },
   {
    "duration": 189,
    "start_time": "2023-03-01T20:09:32.543Z"
   },
   {
    "duration": 79,
    "start_time": "2023-03-01T20:09:32.734Z"
   },
   {
    "duration": 22,
    "start_time": "2023-03-01T20:09:32.815Z"
   },
   {
    "duration": 27,
    "start_time": "2023-03-01T20:09:32.839Z"
   },
   {
    "duration": 38,
    "start_time": "2023-03-01T20:09:32.868Z"
   },
   {
    "duration": 217,
    "start_time": "2023-03-01T20:09:32.908Z"
   },
   {
    "duration": 187,
    "start_time": "2023-03-01T20:09:33.133Z"
   },
   {
    "duration": 74,
    "start_time": "2023-03-01T20:09:33.322Z"
   },
   {
    "duration": 2,
    "start_time": "2023-03-01T20:09:33.397Z"
   },
   {
    "duration": 173,
    "start_time": "2023-03-01T20:09:33.401Z"
   },
   {
    "duration": 3,
    "start_time": "2023-03-01T20:09:33.576Z"
   },
   {
    "duration": 2927,
    "start_time": "2023-03-01T20:09:33.581Z"
   },
   {
    "duration": 88,
    "start_time": "2023-03-01T20:09:36.510Z"
   },
   {
    "duration": 144,
    "start_time": "2023-03-01T20:09:36.599Z"
   },
   {
    "duration": 31,
    "start_time": "2023-03-01T20:09:36.744Z"
   },
   {
    "duration": 119,
    "start_time": "2023-03-01T20:09:36.777Z"
   },
   {
    "duration": 116,
    "start_time": "2023-03-01T20:09:36.897Z"
   },
   {
    "duration": 10,
    "start_time": "2023-03-01T20:09:37.015Z"
   },
   {
    "duration": 1228,
    "start_time": "2023-03-01T20:09:37.033Z"
   },
   {
    "duration": 0,
    "start_time": "2023-03-01T20:09:38.263Z"
   },
   {
    "duration": 0,
    "start_time": "2023-03-01T20:09:38.263Z"
   },
   {
    "duration": 0,
    "start_time": "2023-03-01T20:09:38.265Z"
   },
   {
    "duration": 0,
    "start_time": "2023-03-01T20:09:38.266Z"
   },
   {
    "duration": 0,
    "start_time": "2023-03-01T20:09:38.267Z"
   },
   {
    "duration": 0,
    "start_time": "2023-03-01T20:09:38.267Z"
   },
   {
    "duration": 0,
    "start_time": "2023-03-01T20:09:38.268Z"
   },
   {
    "duration": 0,
    "start_time": "2023-03-01T20:09:38.270Z"
   },
   {
    "duration": 0,
    "start_time": "2023-03-01T20:09:38.270Z"
   },
   {
    "duration": 0,
    "start_time": "2023-03-01T20:09:38.271Z"
   },
   {
    "duration": 0,
    "start_time": "2023-03-01T20:09:38.272Z"
   },
   {
    "duration": 8,
    "start_time": "2023-03-01T20:10:09.766Z"
   },
   {
    "duration": 5,
    "start_time": "2023-03-01T20:10:24.652Z"
   },
   {
    "duration": 6,
    "start_time": "2023-03-01T20:10:55.807Z"
   },
   {
    "duration": 4,
    "start_time": "2023-03-01T20:10:57.236Z"
   },
   {
    "duration": 1330,
    "start_time": "2023-03-01T20:11:02.151Z"
   },
   {
    "duration": 2,
    "start_time": "2023-03-01T20:11:03.483Z"
   },
   {
    "duration": 1050,
    "start_time": "2023-03-01T20:11:03.487Z"
   },
   {
    "duration": 16,
    "start_time": "2023-03-01T20:11:04.539Z"
   },
   {
    "duration": 213,
    "start_time": "2023-03-01T20:11:04.556Z"
   },
   {
    "duration": 292,
    "start_time": "2023-03-01T20:11:04.771Z"
   },
   {
    "duration": 195,
    "start_time": "2023-03-01T20:11:05.065Z"
   },
   {
    "duration": 7,
    "start_time": "2023-03-01T20:11:05.261Z"
   },
   {
    "duration": 80,
    "start_time": "2023-03-01T20:11:05.270Z"
   },
   {
    "duration": 92,
    "start_time": "2023-03-01T20:11:05.353Z"
   },
   {
    "duration": 397,
    "start_time": "2023-03-01T20:11:05.447Z"
   },
   {
    "duration": 311,
    "start_time": "2023-03-01T20:11:05.845Z"
   },
   {
    "duration": 84,
    "start_time": "2023-03-01T20:11:06.158Z"
   },
   {
    "duration": 2,
    "start_time": "2023-03-01T20:11:06.244Z"
   },
   {
    "duration": 171,
    "start_time": "2023-03-01T20:11:06.247Z"
   },
   {
    "duration": 3,
    "start_time": "2023-03-01T20:11:06.419Z"
   },
   {
    "duration": 2882,
    "start_time": "2023-03-01T20:11:06.423Z"
   },
   {
    "duration": 95,
    "start_time": "2023-03-01T20:11:09.307Z"
   },
   {
    "duration": 168,
    "start_time": "2023-03-01T20:11:09.404Z"
   },
   {
    "duration": 34,
    "start_time": "2023-03-01T20:11:09.574Z"
   },
   {
    "duration": 130,
    "start_time": "2023-03-01T20:11:09.610Z"
   },
   {
    "duration": 112,
    "start_time": "2023-03-01T20:11:09.742Z"
   },
   {
    "duration": 11,
    "start_time": "2023-03-01T20:11:09.856Z"
   },
   {
    "duration": 8,
    "start_time": "2023-03-01T20:11:09.869Z"
   },
   {
    "duration": 5,
    "start_time": "2023-03-01T20:11:09.879Z"
   },
   {
    "duration": 142,
    "start_time": "2023-03-01T20:11:09.885Z"
   },
   {
    "duration": 88,
    "start_time": "2023-03-01T20:11:10.029Z"
   },
   {
    "duration": 23,
    "start_time": "2023-03-01T20:11:10.120Z"
   },
   {
    "duration": 65,
    "start_time": "2023-03-01T20:11:10.145Z"
   },
   {
    "duration": 39,
    "start_time": "2023-03-01T20:11:10.212Z"
   },
   {
    "duration": 6,
    "start_time": "2023-03-01T20:11:10.253Z"
   },
   {
    "duration": 54,
    "start_time": "2023-03-01T20:11:10.260Z"
   },
   {
    "duration": 481,
    "start_time": "2023-03-01T20:11:10.316Z"
   },
   {
    "duration": 3299,
    "start_time": "2023-03-01T20:11:10.798Z"
   },
   {
    "duration": 5,
    "start_time": "2023-03-01T20:11:14.100Z"
   },
   {
    "duration": 6,
    "start_time": "2023-03-01T20:11:55.924Z"
   },
   {
    "duration": 9,
    "start_time": "2023-03-01T20:12:45.372Z"
   },
   {
    "duration": 9,
    "start_time": "2023-03-01T20:13:11.404Z"
   },
   {
    "duration": 7,
    "start_time": "2023-03-01T20:13:23.621Z"
   },
   {
    "duration": 9,
    "start_time": "2023-03-01T20:14:17.741Z"
   },
   {
    "duration": 7,
    "start_time": "2023-03-01T20:14:24.063Z"
   },
   {
    "duration": 1325,
    "start_time": "2023-03-01T20:14:38.521Z"
   },
   {
    "duration": 2,
    "start_time": "2023-03-01T20:14:39.848Z"
   },
   {
    "duration": 1612,
    "start_time": "2023-03-01T20:14:39.851Z"
   },
   {
    "duration": 77,
    "start_time": "2023-03-01T20:14:41.466Z"
   },
   {
    "duration": 152,
    "start_time": "2023-03-01T20:14:41.546Z"
   },
   {
    "duration": 144,
    "start_time": "2023-03-01T20:14:41.700Z"
   },
   {
    "duration": 92,
    "start_time": "2023-03-01T20:14:41.845Z"
   },
   {
    "duration": 7,
    "start_time": "2023-03-01T20:14:41.939Z"
   },
   {
    "duration": 26,
    "start_time": "2023-03-01T20:14:41.948Z"
   },
   {
    "duration": 66,
    "start_time": "2023-03-01T20:14:41.977Z"
   },
   {
    "duration": 197,
    "start_time": "2023-03-01T20:14:42.044Z"
   },
   {
    "duration": 188,
    "start_time": "2023-03-01T20:14:42.242Z"
   },
   {
    "duration": 76,
    "start_time": "2023-03-01T20:14:42.434Z"
   },
   {
    "duration": 3,
    "start_time": "2023-03-01T20:14:42.512Z"
   },
   {
    "duration": 182,
    "start_time": "2023-03-01T20:14:42.536Z"
   },
   {
    "duration": 2,
    "start_time": "2023-03-01T20:14:42.720Z"
   },
   {
    "duration": 3045,
    "start_time": "2023-03-01T20:14:42.724Z"
   },
   {
    "duration": 99,
    "start_time": "2023-03-01T20:14:45.771Z"
   },
   {
    "duration": 166,
    "start_time": "2023-03-01T20:14:45.872Z"
   },
   {
    "duration": 35,
    "start_time": "2023-03-01T20:14:46.039Z"
   },
   {
    "duration": 143,
    "start_time": "2023-03-01T20:14:46.076Z"
   },
   {
    "duration": 116,
    "start_time": "2023-03-01T20:14:46.221Z"
   },
   {
    "duration": 10,
    "start_time": "2023-03-01T20:14:46.338Z"
   },
   {
    "duration": 4,
    "start_time": "2023-03-01T20:14:46.350Z"
   },
   {
    "duration": 10,
    "start_time": "2023-03-01T20:14:46.355Z"
   },
   {
    "duration": 4,
    "start_time": "2023-03-01T20:14:46.367Z"
   },
   {
    "duration": 11,
    "start_time": "2023-03-01T20:14:46.372Z"
   },
   {
    "duration": 157,
    "start_time": "2023-03-01T20:14:46.386Z"
   },
   {
    "duration": 98,
    "start_time": "2023-03-01T20:14:46.545Z"
   },
   {
    "duration": 16,
    "start_time": "2023-03-01T20:14:46.644Z"
   },
   {
    "duration": 73,
    "start_time": "2023-03-01T20:14:46.661Z"
   },
   {
    "duration": 23,
    "start_time": "2023-03-01T20:14:46.736Z"
   },
   {
    "duration": 5,
    "start_time": "2023-03-01T20:14:46.761Z"
   },
   {
    "duration": 69,
    "start_time": "2023-03-01T20:14:46.768Z"
   },
   {
    "duration": 457,
    "start_time": "2023-03-01T20:14:46.838Z"
   },
   {
    "duration": 3894,
    "start_time": "2023-03-01T20:14:47.297Z"
   },
   {
    "duration": 3,
    "start_time": "2023-03-01T20:16:13.205Z"
   },
   {
    "duration": 8,
    "start_time": "2023-03-01T20:18:33.192Z"
   },
   {
    "duration": 10,
    "start_time": "2023-03-01T20:18:35.812Z"
   },
   {
    "duration": 7,
    "start_time": "2023-03-01T20:18:37.277Z"
   },
   {
    "duration": 1546,
    "start_time": "2023-03-01T20:18:42.823Z"
   },
   {
    "duration": 3,
    "start_time": "2023-03-01T20:18:44.371Z"
   },
   {
    "duration": 894,
    "start_time": "2023-03-01T20:18:44.375Z"
   },
   {
    "duration": 69,
    "start_time": "2023-03-01T20:18:45.270Z"
   },
   {
    "duration": 226,
    "start_time": "2023-03-01T20:18:45.341Z"
   },
   {
    "duration": 366,
    "start_time": "2023-03-01T20:18:45.569Z"
   },
   {
    "duration": 135,
    "start_time": "2023-03-01T20:18:45.937Z"
   },
   {
    "duration": 64,
    "start_time": "2023-03-01T20:18:46.074Z"
   },
   {
    "duration": 31,
    "start_time": "2023-03-01T20:18:46.140Z"
   },
   {
    "duration": 91,
    "start_time": "2023-03-01T20:18:46.172Z"
   },
   {
    "duration": 480,
    "start_time": "2023-03-01T20:18:46.264Z"
   },
   {
    "duration": 333,
    "start_time": "2023-03-01T20:18:46.746Z"
   },
   {
    "duration": 116,
    "start_time": "2023-03-01T20:18:47.083Z"
   },
   {
    "duration": 3,
    "start_time": "2023-03-01T20:18:47.202Z"
   },
   {
    "duration": 185,
    "start_time": "2023-03-01T20:18:47.206Z"
   },
   {
    "duration": 4,
    "start_time": "2023-03-01T20:18:47.392Z"
   },
   {
    "duration": 2992,
    "start_time": "2023-03-01T20:18:47.397Z"
   },
   {
    "duration": 97,
    "start_time": "2023-03-01T20:18:50.390Z"
   },
   {
    "duration": 150,
    "start_time": "2023-03-01T20:18:50.488Z"
   },
   {
    "duration": 33,
    "start_time": "2023-03-01T20:18:50.639Z"
   },
   {
    "duration": 131,
    "start_time": "2023-03-01T20:18:50.674Z"
   },
   {
    "duration": 112,
    "start_time": "2023-03-01T20:18:50.807Z"
   },
   {
    "duration": 21,
    "start_time": "2023-03-01T20:18:50.921Z"
   },
   {
    "duration": 7,
    "start_time": "2023-03-01T20:18:50.943Z"
   },
   {
    "duration": 6,
    "start_time": "2023-03-01T20:18:50.952Z"
   },
   {
    "duration": 6,
    "start_time": "2023-03-01T20:18:50.959Z"
   },
   {
    "duration": 132,
    "start_time": "2023-03-01T20:18:50.966Z"
   },
   {
    "duration": 100,
    "start_time": "2023-03-01T20:18:51.100Z"
   },
   {
    "duration": 14,
    "start_time": "2023-03-01T20:18:51.202Z"
   },
   {
    "duration": 71,
    "start_time": "2023-03-01T20:18:51.217Z"
   },
   {
    "duration": 25,
    "start_time": "2023-03-01T20:18:51.289Z"
   },
   {
    "duration": 21,
    "start_time": "2023-03-01T20:18:51.315Z"
   },
   {
    "duration": 48,
    "start_time": "2023-03-01T20:18:51.337Z"
   },
   {
    "duration": 456,
    "start_time": "2023-03-01T20:18:51.386Z"
   },
   {
    "duration": 3996,
    "start_time": "2023-03-01T20:18:51.843Z"
   },
   {
    "duration": 8,
    "start_time": "2023-03-01T20:19:15.959Z"
   },
   {
    "duration": 1838,
    "start_time": "2023-03-01T20:19:26.200Z"
   },
   {
    "duration": 3,
    "start_time": "2023-03-01T20:19:28.040Z"
   },
   {
    "duration": 1148,
    "start_time": "2023-03-01T20:19:28.044Z"
   },
   {
    "duration": 17,
    "start_time": "2023-03-01T20:19:29.194Z"
   },
   {
    "duration": 130,
    "start_time": "2023-03-01T20:19:29.214Z"
   },
   {
    "duration": 151,
    "start_time": "2023-03-01T20:19:29.346Z"
   },
   {
    "duration": 97,
    "start_time": "2023-03-01T20:19:29.499Z"
   },
   {
    "duration": 7,
    "start_time": "2023-03-01T20:19:29.598Z"
   },
   {
    "duration": 38,
    "start_time": "2023-03-01T20:19:29.607Z"
   },
   {
    "duration": 41,
    "start_time": "2023-03-01T20:19:29.648Z"
   },
   {
    "duration": 201,
    "start_time": "2023-03-01T20:19:29.691Z"
   },
   {
    "duration": 187,
    "start_time": "2023-03-01T20:19:29.895Z"
   },
   {
    "duration": 85,
    "start_time": "2023-03-01T20:19:30.084Z"
   },
   {
    "duration": 5,
    "start_time": "2023-03-01T20:19:30.172Z"
   },
   {
    "duration": 184,
    "start_time": "2023-03-01T20:19:30.179Z"
   },
   {
    "duration": 4,
    "start_time": "2023-03-01T20:19:30.364Z"
   },
   {
    "duration": 2957,
    "start_time": "2023-03-01T20:19:30.369Z"
   },
   {
    "duration": 91,
    "start_time": "2023-03-01T20:19:33.328Z"
   },
   {
    "duration": 160,
    "start_time": "2023-03-01T20:19:33.421Z"
   },
   {
    "duration": 40,
    "start_time": "2023-03-01T20:19:33.583Z"
   },
   {
    "duration": 120,
    "start_time": "2023-03-01T20:19:33.636Z"
   },
   {
    "duration": 114,
    "start_time": "2023-03-01T20:19:33.757Z"
   },
   {
    "duration": 10,
    "start_time": "2023-03-01T20:19:33.872Z"
   },
   {
    "duration": 7,
    "start_time": "2023-03-01T20:19:33.883Z"
   },
   {
    "duration": 9,
    "start_time": "2023-03-01T20:19:33.892Z"
   },
   {
    "duration": 31,
    "start_time": "2023-03-01T20:19:33.903Z"
   },
   {
    "duration": 117,
    "start_time": "2023-03-01T20:19:33.936Z"
   },
   {
    "duration": 101,
    "start_time": "2023-03-01T20:19:34.055Z"
   },
   {
    "duration": 16,
    "start_time": "2023-03-01T20:19:34.158Z"
   },
   {
    "duration": 91,
    "start_time": "2023-03-01T20:19:34.176Z"
   },
   {
    "duration": 29,
    "start_time": "2023-03-01T20:19:34.269Z"
   },
   {
    "duration": 6,
    "start_time": "2023-03-01T20:19:34.300Z"
   },
   {
    "duration": 76,
    "start_time": "2023-03-01T20:19:34.307Z"
   },
   {
    "duration": 470,
    "start_time": "2023-03-01T20:19:34.385Z"
   },
   {
    "duration": 3734,
    "start_time": "2023-03-01T20:19:34.857Z"
   },
   {
    "duration": 1501,
    "start_time": "2023-03-02T09:51:17.550Z"
   },
   {
    "duration": 2,
    "start_time": "2023-03-02T09:51:19.053Z"
   },
   {
    "duration": 2905,
    "start_time": "2023-03-02T09:51:19.057Z"
   },
   {
    "duration": 17,
    "start_time": "2023-03-02T09:51:21.963Z"
   },
   {
    "duration": 101,
    "start_time": "2023-03-02T09:51:21.982Z"
   },
   {
    "duration": 179,
    "start_time": "2023-03-02T09:51:22.084Z"
   },
   {
    "duration": 92,
    "start_time": "2023-03-02T09:51:22.264Z"
   },
   {
    "duration": 7,
    "start_time": "2023-03-02T09:51:22.358Z"
   },
   {
    "duration": 26,
    "start_time": "2023-03-02T09:51:22.366Z"
   },
   {
    "duration": 57,
    "start_time": "2023-03-02T09:51:22.394Z"
   },
   {
    "duration": 213,
    "start_time": "2023-03-02T09:51:22.453Z"
   },
   {
    "duration": 200,
    "start_time": "2023-03-02T09:51:22.668Z"
   },
   {
    "duration": 81,
    "start_time": "2023-03-02T09:51:22.870Z"
   },
   {
    "duration": 4,
    "start_time": "2023-03-02T09:51:22.953Z"
   },
   {
    "duration": 193,
    "start_time": "2023-03-02T09:51:22.958Z"
   },
   {
    "duration": 3,
    "start_time": "2023-03-02T09:51:23.153Z"
   },
   {
    "duration": 2994,
    "start_time": "2023-03-02T09:51:23.157Z"
   },
   {
    "duration": 96,
    "start_time": "2023-03-02T09:51:26.153Z"
   },
   {
    "duration": 151,
    "start_time": "2023-03-02T09:51:26.251Z"
   },
   {
    "duration": 46,
    "start_time": "2023-03-02T09:51:26.403Z"
   },
   {
    "duration": 123,
    "start_time": "2023-03-02T09:51:26.451Z"
   },
   {
    "duration": 113,
    "start_time": "2023-03-02T09:51:26.576Z"
   },
   {
    "duration": 14,
    "start_time": "2023-03-02T09:51:26.691Z"
   },
   {
    "duration": 28,
    "start_time": "2023-03-02T09:51:26.707Z"
   },
   {
    "duration": 6,
    "start_time": "2023-03-02T09:51:26.737Z"
   },
   {
    "duration": 9,
    "start_time": "2023-03-02T09:51:26.745Z"
   },
   {
    "duration": 109,
    "start_time": "2023-03-02T09:51:26.755Z"
   },
   {
    "duration": 96,
    "start_time": "2023-03-02T09:51:26.866Z"
   },
   {
    "duration": 14,
    "start_time": "2023-03-02T09:51:26.963Z"
   },
   {
    "duration": 80,
    "start_time": "2023-03-02T09:51:26.978Z"
   },
   {
    "duration": 27,
    "start_time": "2023-03-02T09:51:27.060Z"
   },
   {
    "duration": 26,
    "start_time": "2023-03-02T09:51:27.088Z"
   },
   {
    "duration": 59,
    "start_time": "2023-03-02T09:51:27.116Z"
   },
   {
    "duration": 459,
    "start_time": "2023-03-02T09:51:27.176Z"
   },
   {
    "duration": 3600,
    "start_time": "2023-03-02T09:51:27.637Z"
   },
   {
    "duration": 3,
    "start_time": "2023-03-02T10:35:40.839Z"
   },
   {
    "duration": 379,
    "start_time": "2023-03-02T10:49:44.582Z"
   },
   {
    "duration": 8,
    "start_time": "2023-03-02T11:17:23.387Z"
   },
   {
    "duration": 4,
    "start_time": "2023-03-02T11:18:51.798Z"
   },
   {
    "duration": 388,
    "start_time": "2023-03-02T11:21:58.391Z"
   },
   {
    "duration": 120,
    "start_time": "2023-03-02T11:26:48.309Z"
   },
   {
    "duration": 25,
    "start_time": "2023-03-02T11:27:14.572Z"
   },
   {
    "duration": 44,
    "start_time": "2023-03-02T11:27:21.934Z"
   },
   {
    "duration": 11,
    "start_time": "2023-03-02T11:59:19.994Z"
   },
   {
    "duration": 9,
    "start_time": "2023-03-02T12:06:11.097Z"
   },
   {
    "duration": 190,
    "start_time": "2023-03-02T12:06:16.846Z"
   },
   {
    "duration": 2,
    "start_time": "2023-03-02T12:06:22.308Z"
   },
   {
    "duration": 126,
    "start_time": "2023-03-02T12:14:44.339Z"
   },
   {
    "duration": 3,
    "start_time": "2023-03-02T12:14:58.841Z"
   },
   {
    "duration": 81,
    "start_time": "2023-03-02T12:14:59.220Z"
   },
   {
    "duration": 83,
    "start_time": "2023-03-02T12:21:51.923Z"
   },
   {
    "duration": 86,
    "start_time": "2023-03-02T12:22:03.378Z"
   },
   {
    "duration": 78,
    "start_time": "2023-03-02T12:23:45.300Z"
   },
   {
    "duration": 80,
    "start_time": "2023-03-02T12:31:37.817Z"
   },
   {
    "duration": 1358,
    "start_time": "2023-03-02T12:32:42.251Z"
   },
   {
    "duration": 3,
    "start_time": "2023-03-02T12:32:43.611Z"
   },
   {
    "duration": 797,
    "start_time": "2023-03-02T12:32:43.615Z"
   },
   {
    "duration": 15,
    "start_time": "2023-03-02T12:32:44.414Z"
   },
   {
    "duration": 125,
    "start_time": "2023-03-02T12:32:44.431Z"
   },
   {
    "duration": 130,
    "start_time": "2023-03-02T12:32:44.557Z"
   },
   {
    "duration": 90,
    "start_time": "2023-03-02T12:32:44.689Z"
   },
   {
    "duration": 7,
    "start_time": "2023-03-02T12:32:44.780Z"
   },
   {
    "duration": 27,
    "start_time": "2023-03-02T12:32:44.788Z"
   },
   {
    "duration": 55,
    "start_time": "2023-03-02T12:32:44.817Z"
   },
   {
    "duration": 199,
    "start_time": "2023-03-02T12:32:44.874Z"
   },
   {
    "duration": 207,
    "start_time": "2023-03-02T12:32:45.075Z"
   },
   {
    "duration": 76,
    "start_time": "2023-03-02T12:32:45.283Z"
   },
   {
    "duration": 17,
    "start_time": "2023-03-02T12:32:45.362Z"
   },
   {
    "duration": 188,
    "start_time": "2023-03-02T12:32:45.381Z"
   },
   {
    "duration": 4,
    "start_time": "2023-03-02T12:32:45.571Z"
   },
   {
    "duration": 3764,
    "start_time": "2023-03-02T12:32:45.576Z"
   },
   {
    "duration": 88,
    "start_time": "2023-03-02T12:32:49.343Z"
   },
   {
    "duration": 163,
    "start_time": "2023-03-02T12:32:49.433Z"
   },
   {
    "duration": 32,
    "start_time": "2023-03-02T12:32:49.598Z"
   },
   {
    "duration": 126,
    "start_time": "2023-03-02T12:32:49.632Z"
   },
   {
    "duration": 103,
    "start_time": "2023-03-02T12:32:49.759Z"
   },
   {
    "duration": 11,
    "start_time": "2023-03-02T12:32:49.864Z"
   },
   {
    "duration": 15,
    "start_time": "2023-03-02T12:32:49.876Z"
   },
   {
    "duration": 3,
    "start_time": "2023-03-02T12:32:49.893Z"
   },
   {
    "duration": 5,
    "start_time": "2023-03-02T12:32:49.898Z"
   },
   {
    "duration": 208,
    "start_time": "2023-03-02T12:32:49.905Z"
   },
   {
    "duration": 86,
    "start_time": "2023-03-02T12:32:50.115Z"
   },
   {
    "duration": 13,
    "start_time": "2023-03-02T12:32:50.203Z"
   },
   {
    "duration": 67,
    "start_time": "2023-03-02T12:32:50.218Z"
   },
   {
    "duration": 23,
    "start_time": "2023-03-02T12:32:50.287Z"
   },
   {
    "duration": 5,
    "start_time": "2023-03-02T12:32:50.311Z"
   },
   {
    "duration": 66,
    "start_time": "2023-03-02T12:32:50.317Z"
   },
   {
    "duration": 450,
    "start_time": "2023-03-02T12:32:50.385Z"
   },
   {
    "duration": 3768,
    "start_time": "2023-03-02T12:32:50.837Z"
   },
   {
    "duration": 384,
    "start_time": "2023-03-02T12:32:54.606Z"
   },
   {
    "duration": 26,
    "start_time": "2023-03-02T12:32:54.991Z"
   },
   {
    "duration": 3,
    "start_time": "2023-03-02T12:32:55.018Z"
   },
   {
    "duration": 22738,
    "start_time": "2023-03-02T12:32:55.022Z"
   },
   {
    "duration": 270,
    "start_time": "2023-03-02T12:33:17.762Z"
   },
   {
    "duration": 39,
    "start_time": "2023-03-02T12:44:18.332Z"
   },
   {
    "duration": 81,
    "start_time": "2023-03-02T12:44:24.421Z"
   },
   {
    "duration": 299574,
    "start_time": "2023-03-02T12:45:08.172Z"
   },
   {
    "duration": 287545,
    "start_time": "2023-03-02T12:55:06.901Z"
   },
   {
    "duration": 290042,
    "start_time": "2023-03-02T13:05:05.141Z"
   },
   {
    "duration": 219611,
    "start_time": "2023-03-02T13:20:22.766Z"
   },
   {
    "duration": 221094,
    "start_time": "2023-03-02T13:28:43.212Z"
   },
   {
    "duration": 227069,
    "start_time": "2023-03-02T13:59:40.053Z"
   },
   {
    "duration": 1392,
    "start_time": "2023-03-02T15:17:41.339Z"
   },
   {
    "duration": 3,
    "start_time": "2023-03-02T15:17:42.732Z"
   },
   {
    "duration": 826,
    "start_time": "2023-03-02T15:17:42.736Z"
   },
   {
    "duration": 16,
    "start_time": "2023-03-02T15:17:43.564Z"
   },
   {
    "duration": 123,
    "start_time": "2023-03-02T15:17:43.582Z"
   },
   {
    "duration": 156,
    "start_time": "2023-03-02T15:17:43.707Z"
   },
   {
    "duration": 92,
    "start_time": "2023-03-02T15:17:43.864Z"
   },
   {
    "duration": 7,
    "start_time": "2023-03-02T15:17:43.958Z"
   },
   {
    "duration": 28,
    "start_time": "2023-03-02T15:17:43.966Z"
   },
   {
    "duration": 60,
    "start_time": "2023-03-02T15:17:43.996Z"
   },
   {
    "duration": 198,
    "start_time": "2023-03-02T15:17:44.058Z"
   },
   {
    "duration": 180,
    "start_time": "2023-03-02T15:17:44.258Z"
   },
   {
    "duration": 83,
    "start_time": "2023-03-02T15:17:44.440Z"
   },
   {
    "duration": 3,
    "start_time": "2023-03-02T15:17:44.526Z"
   },
   {
    "duration": 177,
    "start_time": "2023-03-02T15:17:44.530Z"
   },
   {
    "duration": 3,
    "start_time": "2023-03-02T15:17:44.709Z"
   },
   {
    "duration": 2968,
    "start_time": "2023-03-02T15:17:44.713Z"
   },
   {
    "duration": 88,
    "start_time": "2023-03-02T15:17:47.683Z"
   },
   {
    "duration": 148,
    "start_time": "2023-03-02T15:17:47.772Z"
   },
   {
    "duration": 42,
    "start_time": "2023-03-02T15:17:47.921Z"
   },
   {
    "duration": 120,
    "start_time": "2023-03-02T15:17:47.965Z"
   },
   {
    "duration": 105,
    "start_time": "2023-03-02T15:17:48.086Z"
   },
   {
    "duration": 9,
    "start_time": "2023-03-02T15:17:48.193Z"
   },
   {
    "duration": 8,
    "start_time": "2023-03-02T15:17:48.203Z"
   },
   {
    "duration": 4,
    "start_time": "2023-03-02T15:17:48.212Z"
   },
   {
    "duration": 4,
    "start_time": "2023-03-02T15:17:48.217Z"
   },
   {
    "duration": 230,
    "start_time": "2023-03-02T15:17:48.222Z"
   },
   {
    "duration": 87,
    "start_time": "2023-03-02T15:17:48.455Z"
   },
   {
    "duration": 21,
    "start_time": "2023-03-02T15:17:48.543Z"
   },
   {
    "duration": 58,
    "start_time": "2023-03-02T15:17:48.565Z"
   },
   {
    "duration": 41,
    "start_time": "2023-03-02T15:17:48.625Z"
   },
   {
    "duration": 20,
    "start_time": "2023-03-02T15:17:48.668Z"
   },
   {
    "duration": 46,
    "start_time": "2023-03-02T15:17:48.690Z"
   },
   {
    "duration": 505,
    "start_time": "2023-03-02T15:17:48.738Z"
   },
   {
    "duration": 3330,
    "start_time": "2023-03-02T15:17:49.244Z"
   },
   {
    "duration": 389,
    "start_time": "2023-03-02T15:17:52.575Z"
   },
   {
    "duration": 28,
    "start_time": "2023-03-02T15:17:52.966Z"
   },
   {
    "duration": 2,
    "start_time": "2023-03-02T15:17:52.995Z"
   },
   {
    "duration": 236538,
    "start_time": "2023-03-02T15:17:52.999Z"
   },
   {
    "duration": 4273617,
    "start_time": "2023-03-02T15:21:49.539Z"
   },
   {
    "duration": 10,
    "start_time": "2023-03-02T16:33:03.159Z"
   },
   {
    "duration": 0,
    "start_time": "2023-03-02T16:33:03.170Z"
   },
   {
    "duration": 0,
    "start_time": "2023-03-02T16:33:03.171Z"
   },
   {
    "duration": 0,
    "start_time": "2023-03-02T16:33:03.172Z"
   },
   {
    "duration": 22038,
    "start_time": "2023-03-02T16:35:35.922Z"
   },
   {
    "duration": 222878,
    "start_time": "2023-03-02T16:37:09.587Z"
   },
   {
    "duration": 66677,
    "start_time": "2023-03-02T16:43:19.996Z"
   },
   {
    "duration": 293568,
    "start_time": "2023-03-02T16:44:52.188Z"
   },
   {
    "duration": 76,
    "start_time": "2023-03-02T16:51:24.227Z"
   },
   {
    "duration": 10,
    "start_time": "2023-03-02T16:52:14.983Z"
   },
   {
    "duration": 197,
    "start_time": "2023-03-02T16:53:42.261Z"
   },
   {
    "duration": 25,
    "start_time": "2023-03-02T16:53:56.459Z"
   },
   {
    "duration": 38,
    "start_time": "2023-03-02T16:54:52.020Z"
   },
   {
    "duration": 27,
    "start_time": "2023-03-02T16:54:57.611Z"
   },
   {
    "duration": 86,
    "start_time": "2023-03-02T16:55:29.692Z"
   },
   {
    "duration": 30,
    "start_time": "2023-03-02T16:55:35.724Z"
   },
   {
    "duration": 1885620,
    "start_time": "2023-03-02T17:05:06.342Z"
   },
   {
    "duration": 11,
    "start_time": "2023-03-02T17:36:31.963Z"
   },
   {
    "duration": 4,
    "start_time": "2023-03-02T17:51:30.716Z"
   },
   {
    "duration": 10,
    "start_time": "2023-03-02T17:51:41.064Z"
   },
   {
    "duration": 1963207,
    "start_time": "2023-03-02T17:51:49.258Z"
   },
   {
    "duration": 1563,
    "start_time": "2023-03-04T04:25:03.456Z"
   },
   {
    "duration": 2,
    "start_time": "2023-03-04T04:25:05.021Z"
   },
   {
    "duration": 2866,
    "start_time": "2023-03-04T04:25:05.024Z"
   },
   {
    "duration": 17,
    "start_time": "2023-03-04T04:25:07.892Z"
   },
   {
    "duration": 138,
    "start_time": "2023-03-04T04:25:07.911Z"
   },
   {
    "duration": 141,
    "start_time": "2023-03-04T04:25:08.051Z"
   },
   {
    "duration": 95,
    "start_time": "2023-03-04T04:25:08.194Z"
   },
   {
    "duration": 8,
    "start_time": "2023-03-04T04:25:08.290Z"
   },
   {
    "duration": 28,
    "start_time": "2023-03-04T04:25:08.299Z"
   },
   {
    "duration": 40,
    "start_time": "2023-03-04T04:25:08.342Z"
   },
   {
    "duration": 217,
    "start_time": "2023-03-04T04:25:08.383Z"
   },
   {
    "duration": 201,
    "start_time": "2023-03-04T04:25:08.602Z"
   },
   {
    "duration": 91,
    "start_time": "2023-03-04T04:25:08.805Z"
   },
   {
    "duration": 3,
    "start_time": "2023-03-04T04:25:08.898Z"
   },
   {
    "duration": 203,
    "start_time": "2023-03-04T04:25:08.902Z"
   },
   {
    "duration": 2,
    "start_time": "2023-03-04T04:25:09.107Z"
   },
   {
    "duration": 2845,
    "start_time": "2023-03-04T04:25:09.111Z"
   },
   {
    "duration": 90,
    "start_time": "2023-03-04T04:25:11.958Z"
   },
   {
    "duration": 157,
    "start_time": "2023-03-04T04:25:12.050Z"
   },
   {
    "duration": 44,
    "start_time": "2023-03-04T04:25:12.208Z"
   },
   {
    "duration": 132,
    "start_time": "2023-03-04T04:25:12.254Z"
   },
   {
    "duration": 115,
    "start_time": "2023-03-04T04:25:12.387Z"
   },
   {
    "duration": 9,
    "start_time": "2023-03-04T04:25:12.504Z"
   },
   {
    "duration": 7,
    "start_time": "2023-03-04T04:25:12.515Z"
   },
   {
    "duration": 18,
    "start_time": "2023-03-04T04:25:12.524Z"
   },
   {
    "duration": 4,
    "start_time": "2023-03-04T04:25:12.543Z"
   },
   {
    "duration": 209,
    "start_time": "2023-03-04T04:25:12.549Z"
   },
   {
    "duration": 105,
    "start_time": "2023-03-04T04:25:12.759Z"
   },
   {
    "duration": 13,
    "start_time": "2023-03-04T04:25:12.865Z"
   },
   {
    "duration": 72,
    "start_time": "2023-03-04T04:25:12.880Z"
   },
   {
    "duration": 26,
    "start_time": "2023-03-04T04:25:12.956Z"
   },
   {
    "duration": 5,
    "start_time": "2023-03-04T04:25:12.984Z"
   },
   {
    "duration": 72,
    "start_time": "2023-03-04T04:25:12.991Z"
   },
   {
    "duration": 541,
    "start_time": "2023-03-04T04:25:13.065Z"
   },
   {
    "duration": 4138,
    "start_time": "2023-03-04T04:25:13.608Z"
   },
   {
    "duration": 427,
    "start_time": "2023-03-04T04:25:17.748Z"
   },
   {
    "duration": 27,
    "start_time": "2023-03-04T04:25:18.176Z"
   },
   {
    "duration": 2,
    "start_time": "2023-03-04T04:25:18.205Z"
   },
   {
    "duration": 242230,
    "start_time": "2023-03-04T04:25:18.208Z"
   },
   {
    "duration": 77305,
    "start_time": "2023-03-04T04:29:20.440Z"
   },
   {
    "duration": 24800,
    "start_time": "2023-03-04T04:30:37.749Z"
   },
   {
    "duration": 95,
    "start_time": "2023-03-04T04:31:02.550Z"
   },
   {
    "duration": 297,
    "start_time": "2023-03-04T04:31:02.647Z"
   },
   {
    "duration": 82,
    "start_time": "2023-03-04T04:34:26.059Z"
   },
   {
    "duration": 103,
    "start_time": "2023-03-04T04:34:51.472Z"
   },
   {
    "duration": 119,
    "start_time": "2023-03-04T04:35:01.500Z"
   },
   {
    "duration": 11,
    "start_time": "2023-03-04T04:35:10.080Z"
   },
   {
    "duration": 77,
    "start_time": "2023-03-04T04:35:18.245Z"
   },
   {
    "duration": 76,
    "start_time": "2023-03-04T04:38:30.752Z"
   },
   {
    "duration": 76,
    "start_time": "2023-03-04T04:39:16.719Z"
   },
   {
    "duration": 69,
    "start_time": "2023-03-04T04:39:32.858Z"
   },
   {
    "duration": 73,
    "start_time": "2023-03-04T04:40:00.129Z"
   },
   {
    "duration": 69,
    "start_time": "2023-03-04T04:40:14.269Z"
   },
   {
    "duration": 11,
    "start_time": "2023-03-04T04:40:32.240Z"
   },
   {
    "duration": 75,
    "start_time": "2023-03-04T04:40:55.323Z"
   },
   {
    "duration": 70,
    "start_time": "2023-03-04T04:41:19.992Z"
   },
   {
    "duration": 62,
    "start_time": "2023-03-04T04:41:44.690Z"
   },
   {
    "duration": 7,
    "start_time": "2023-03-04T05:11:55.970Z"
   },
   {
    "duration": 4,
    "start_time": "2023-03-04T09:45:10.707Z"
   },
   {
    "duration": 1602,
    "start_time": "2023-03-06T10:38:11.911Z"
   },
   {
    "duration": 1470,
    "start_time": "2023-03-06T10:55:34.300Z"
   },
   {
    "duration": 3,
    "start_time": "2023-03-06T10:55:35.772Z"
   },
   {
    "duration": 1174,
    "start_time": "2023-03-06T10:55:35.776Z"
   },
   {
    "duration": 20,
    "start_time": "2023-03-06T10:55:36.952Z"
   },
   {
    "duration": 123,
    "start_time": "2023-03-06T10:55:36.974Z"
   },
   {
    "duration": 156,
    "start_time": "2023-03-06T10:55:37.099Z"
   },
   {
    "duration": 111,
    "start_time": "2023-03-06T10:55:37.256Z"
   },
   {
    "duration": 90,
    "start_time": "2023-03-06T10:55:37.368Z"
   },
   {
    "duration": 7,
    "start_time": "2023-03-06T10:55:37.459Z"
   },
   {
    "duration": 30,
    "start_time": "2023-03-06T10:55:37.469Z"
   },
   {
    "duration": 60,
    "start_time": "2023-03-06T10:55:37.501Z"
   },
   {
    "duration": 240,
    "start_time": "2023-03-06T10:55:37.563Z"
   },
   {
    "duration": 193,
    "start_time": "2023-03-06T10:55:37.804Z"
   },
   {
    "duration": 76,
    "start_time": "2023-03-06T10:55:37.998Z"
   },
   {
    "duration": 2,
    "start_time": "2023-03-06T10:55:38.076Z"
   },
   {
    "duration": 175,
    "start_time": "2023-03-06T10:55:38.079Z"
   },
   {
    "duration": 3,
    "start_time": "2023-03-06T10:55:38.256Z"
   },
   {
    "duration": 2793,
    "start_time": "2023-03-06T10:55:38.260Z"
   },
   {
    "duration": 96,
    "start_time": "2023-03-06T10:55:41.055Z"
   },
   {
    "duration": 149,
    "start_time": "2023-03-06T10:55:41.153Z"
   },
   {
    "duration": 48,
    "start_time": "2023-03-06T10:55:41.304Z"
   },
   {
    "duration": 126,
    "start_time": "2023-03-06T10:55:41.355Z"
   },
   {
    "duration": 110,
    "start_time": "2023-03-06T10:55:41.483Z"
   },
   {
    "duration": 11,
    "start_time": "2023-03-06T10:55:41.594Z"
   },
   {
    "duration": 24,
    "start_time": "2023-03-06T10:55:41.607Z"
   },
   {
    "duration": 4,
    "start_time": "2023-03-06T10:55:41.633Z"
   },
   {
    "duration": 4,
    "start_time": "2023-03-06T10:55:41.638Z"
   },
   {
    "duration": 220,
    "start_time": "2023-03-06T10:55:41.645Z"
   },
   {
    "duration": 109,
    "start_time": "2023-03-06T10:55:41.866Z"
   },
   {
    "duration": 16,
    "start_time": "2023-03-06T10:55:41.977Z"
   },
   {
    "duration": 86,
    "start_time": "2023-03-06T10:55:41.994Z"
   },
   {
    "duration": 25,
    "start_time": "2023-03-06T10:55:42.082Z"
   },
   {
    "duration": 23,
    "start_time": "2023-03-06T10:55:42.109Z"
   },
   {
    "duration": 50,
    "start_time": "2023-03-06T10:55:42.134Z"
   },
   {
    "duration": 499,
    "start_time": "2023-03-06T10:55:42.186Z"
   },
   {
    "duration": 4624,
    "start_time": "2023-03-06T10:55:42.687Z"
   },
   {
    "duration": 383,
    "start_time": "2023-03-06T10:55:47.313Z"
   },
   {
    "duration": 39,
    "start_time": "2023-03-06T10:55:47.698Z"
   },
   {
    "duration": 3,
    "start_time": "2023-03-06T10:55:47.739Z"
   },
   {
    "duration": 148206,
    "start_time": "2023-03-06T10:55:47.744Z"
   },
   {
    "duration": 15731,
    "start_time": "2023-03-06T10:58:15.952Z"
   },
   {
    "duration": 32353,
    "start_time": "2023-03-06T10:58:31.685Z"
   },
   {
    "duration": 21,
    "start_time": "2023-03-06T10:59:04.040Z"
   },
   {
    "duration": 0,
    "start_time": "2023-03-06T10:59:04.063Z"
   },
   {
    "duration": 0,
    "start_time": "2023-03-06T10:59:04.065Z"
   },
   {
    "duration": 1127,
    "start_time": "2023-03-06T10:59:31.721Z"
   },
   {
    "duration": 4,
    "start_time": "2023-03-06T10:59:44.794Z"
   },
   {
    "duration": 3,
    "start_time": "2023-03-06T10:59:47.592Z"
   },
   {
    "duration": 779,
    "start_time": "2023-03-06T10:59:48.172Z"
   },
   {
    "duration": 49,
    "start_time": "2023-03-06T11:00:03.281Z"
   },
   {
    "duration": 55,
    "start_time": "2023-03-06T11:01:11.510Z"
   },
   {
    "duration": 113,
    "start_time": "2023-03-06T11:01:19.046Z"
   },
   {
    "duration": 4,
    "start_time": "2023-03-06T11:02:14.178Z"
   },
   {
    "duration": 12,
    "start_time": "2023-03-06T11:02:42.599Z"
   },
   {
    "duration": 94209,
    "start_time": "2023-03-06T11:03:12.434Z"
   },
   {
    "duration": 93612,
    "start_time": "2023-03-06T11:06:06.692Z"
   },
   {
    "duration": 2,
    "start_time": "2023-03-06T11:11:23.089Z"
   },
   {
    "duration": 85,
    "start_time": "2023-03-06T11:14:26.302Z"
   },
   {
    "duration": 69,
    "start_time": "2023-03-06T11:14:32.510Z"
   },
   {
    "duration": 85,
    "start_time": "2023-03-06T11:14:47.992Z"
   },
   {
    "duration": 67,
    "start_time": "2023-03-06T11:14:56.900Z"
   },
   {
    "duration": 3,
    "start_time": "2023-03-06T11:35:20.331Z"
   },
   {
    "duration": 762,
    "start_time": "2023-03-06T11:35:22.321Z"
   },
   {
    "duration": 4,
    "start_time": "2023-03-06T11:35:39.324Z"
   },
   {
    "duration": 3,
    "start_time": "2023-03-06T11:35:41.803Z"
   },
   {
    "duration": 757,
    "start_time": "2023-03-06T11:35:42.246Z"
   },
   {
    "duration": 12,
    "start_time": "2023-03-06T11:35:44.232Z"
   },
   {
    "duration": 99,
    "start_time": "2023-03-06T11:35:46.213Z"
   },
   {
    "duration": 162,
    "start_time": "2023-03-06T11:35:51.721Z"
   },
   {
    "duration": 89,
    "start_time": "2023-03-06T11:35:54.988Z"
   },
   {
    "duration": 109,
    "start_time": "2023-03-06T11:35:58.957Z"
   },
   {
    "duration": 73,
    "start_time": "2023-03-06T11:36:01.189Z"
   },
   {
    "duration": 8,
    "start_time": "2023-03-06T11:36:04.991Z"
   },
   {
    "duration": 22,
    "start_time": "2023-03-06T11:36:06.355Z"
   },
   {
    "duration": 38,
    "start_time": "2023-03-06T11:36:10.146Z"
   },
   {
    "duration": 186,
    "start_time": "2023-03-06T11:36:14.756Z"
   },
   {
    "duration": 195,
    "start_time": "2023-03-06T11:36:16.833Z"
   },
   {
    "duration": 72,
    "start_time": "2023-03-06T11:36:24.042Z"
   },
   {
    "duration": 3,
    "start_time": "2023-03-06T11:36:27.187Z"
   },
   {
    "duration": 164,
    "start_time": "2023-03-06T11:36:28.230Z"
   },
   {
    "duration": 3,
    "start_time": "2023-03-06T11:36:30.260Z"
   },
   {
    "duration": 3911,
    "start_time": "2023-03-06T11:36:31.123Z"
   },
   {
    "duration": 137,
    "start_time": "2023-03-06T11:40:31.421Z"
   },
   {
    "duration": 175,
    "start_time": "2023-03-06T11:41:38.006Z"
   },
   {
    "duration": 51,
    "start_time": "2023-03-06T11:41:43.577Z"
   },
   {
    "duration": 4308,
    "start_time": "2023-03-06T11:42:05.856Z"
   },
   {
    "duration": 4382,
    "start_time": "2023-03-06T11:42:22.600Z"
   },
   {
    "duration": 4307,
    "start_time": "2023-03-06T11:42:32.901Z"
   },
   {
    "duration": 4064,
    "start_time": "2023-03-06T11:42:39.896Z"
   },
   {
    "duration": 4486,
    "start_time": "2023-03-06T11:43:15.742Z"
   },
   {
    "duration": 3873,
    "start_time": "2023-03-06T11:47:46.952Z"
   },
   {
    "duration": 94,
    "start_time": "2023-03-06T11:50:43.192Z"
   },
   {
    "duration": 143,
    "start_time": "2023-03-06T11:50:45.013Z"
   },
   {
    "duration": 34,
    "start_time": "2023-03-06T11:50:46.410Z"
   },
   {
    "duration": 120,
    "start_time": "2023-03-06T11:50:47.025Z"
   },
   {
    "duration": 99,
    "start_time": "2023-03-06T11:50:48.756Z"
   },
   {
    "duration": 11,
    "start_time": "2023-03-06T11:50:49.703Z"
   },
   {
    "duration": 8,
    "start_time": "2023-03-06T11:51:13.745Z"
   },
   {
    "duration": 4,
    "start_time": "2023-03-06T11:51:18.624Z"
   },
   {
    "duration": 106,
    "start_time": "2023-03-06T11:52:15.107Z"
   },
   {
    "duration": 83,
    "start_time": "2023-03-06T11:52:17.947Z"
   },
   {
    "duration": 94,
    "start_time": "2023-03-06T11:54:21.408Z"
   },
   {
    "duration": 19,
    "start_time": "2023-03-06T11:54:24.804Z"
   },
   {
    "duration": 73,
    "start_time": "2023-03-06T11:54:25.291Z"
   },
   {
    "duration": 21,
    "start_time": "2023-03-06T11:54:25.795Z"
   },
   {
    "duration": 6,
    "start_time": "2023-03-06T11:54:30.420Z"
   },
   {
    "duration": 42,
    "start_time": "2023-03-06T11:54:31.657Z"
   },
   {
    "duration": 447,
    "start_time": "2023-03-06T11:54:36.705Z"
   },
   {
    "duration": 3586,
    "start_time": "2023-03-06T11:54:39.333Z"
   },
   {
    "duration": 364,
    "start_time": "2023-03-06T11:54:47.199Z"
   },
   {
    "duration": 31,
    "start_time": "2023-03-06T11:54:49.608Z"
   },
   {
    "duration": 2,
    "start_time": "2023-03-06T11:54:57.388Z"
   },
   {
    "duration": 6474,
    "start_time": "2023-03-06T11:55:08.603Z"
   },
   {
    "duration": 1527,
    "start_time": "2023-03-06T13:29:00.721Z"
   },
   {
    "duration": 2,
    "start_time": "2023-03-06T13:29:02.250Z"
   },
   {
    "duration": 833,
    "start_time": "2023-03-06T13:29:02.254Z"
   },
   {
    "duration": 16,
    "start_time": "2023-03-06T13:29:03.089Z"
   },
   {
    "duration": 131,
    "start_time": "2023-03-06T13:29:03.106Z"
   },
   {
    "duration": 144,
    "start_time": "2023-03-06T13:29:03.239Z"
   },
   {
    "duration": 107,
    "start_time": "2023-03-06T13:29:03.384Z"
   },
   {
    "duration": 107,
    "start_time": "2023-03-06T13:29:03.492Z"
   },
   {
    "duration": 76,
    "start_time": "2023-03-06T13:29:03.601Z"
   },
   {
    "duration": 7,
    "start_time": "2023-03-06T13:29:03.680Z"
   },
   {
    "duration": 19,
    "start_time": "2023-03-06T13:29:03.688Z"
   },
   {
    "duration": 58,
    "start_time": "2023-03-06T13:29:03.708Z"
   },
   {
    "duration": 207,
    "start_time": "2023-03-06T13:29:03.767Z"
   },
   {
    "duration": 195,
    "start_time": "2023-03-06T13:29:03.976Z"
   },
   {
    "duration": 76,
    "start_time": "2023-03-06T13:29:04.173Z"
   },
   {
    "duration": 3,
    "start_time": "2023-03-06T13:29:04.251Z"
   },
   {
    "duration": 239,
    "start_time": "2023-03-06T13:29:04.256Z"
   },
   {
    "duration": 4,
    "start_time": "2023-03-06T13:29:04.497Z"
   },
   {
    "duration": 4110,
    "start_time": "2023-03-06T13:29:04.503Z"
   },
   {
    "duration": 196,
    "start_time": "2023-03-06T13:29:08.615Z"
   },
   {
    "duration": 155,
    "start_time": "2023-03-06T13:29:08.812Z"
   },
   {
    "duration": 35,
    "start_time": "2023-03-06T13:29:08.969Z"
   },
   {
    "duration": 125,
    "start_time": "2023-03-06T13:29:09.006Z"
   },
   {
    "duration": 106,
    "start_time": "2023-03-06T13:29:09.133Z"
   },
   {
    "duration": 10,
    "start_time": "2023-03-06T13:29:09.240Z"
   },
   {
    "duration": 7,
    "start_time": "2023-03-06T13:29:09.251Z"
   },
   {
    "duration": 4,
    "start_time": "2023-03-06T13:29:09.260Z"
   },
   {
    "duration": 127,
    "start_time": "2023-03-06T13:29:09.267Z"
   },
   {
    "duration": 94,
    "start_time": "2023-03-06T13:29:09.396Z"
   },
   {
    "duration": 17,
    "start_time": "2023-03-06T13:29:09.492Z"
   },
   {
    "duration": 81,
    "start_time": "2023-03-06T13:29:09.511Z"
   },
   {
    "duration": 24,
    "start_time": "2023-03-06T13:29:09.594Z"
   },
   {
    "duration": 6,
    "start_time": "2023-03-06T13:29:09.630Z"
   },
   {
    "duration": 49,
    "start_time": "2023-03-06T13:29:09.637Z"
   },
   {
    "duration": 482,
    "start_time": "2023-03-06T13:29:09.688Z"
   },
   {
    "duration": 4508,
    "start_time": "2023-03-06T13:29:10.171Z"
   },
   {
    "duration": 395,
    "start_time": "2023-03-06T13:29:14.681Z"
   },
   {
    "duration": 28,
    "start_time": "2023-03-06T13:29:15.077Z"
   },
   {
    "duration": 2,
    "start_time": "2023-03-06T13:29:15.107Z"
   },
   {
    "duration": 1419,
    "start_time": "2023-03-06T14:51:56.786Z"
   },
   {
    "duration": 3,
    "start_time": "2023-03-06T14:51:58.207Z"
   },
   {
    "duration": 937,
    "start_time": "2023-03-06T14:51:58.211Z"
   },
   {
    "duration": 17,
    "start_time": "2023-03-06T14:51:59.150Z"
   },
   {
    "duration": 132,
    "start_time": "2023-03-06T14:51:59.169Z"
   },
   {
    "duration": 157,
    "start_time": "2023-03-06T14:51:59.302Z"
   },
   {
    "duration": 111,
    "start_time": "2023-03-06T14:51:59.460Z"
   },
   {
    "duration": 122,
    "start_time": "2023-03-06T14:51:59.573Z"
   },
   {
    "duration": 104,
    "start_time": "2023-03-06T14:51:59.697Z"
   },
   {
    "duration": 10,
    "start_time": "2023-03-06T14:51:59.803Z"
   },
   {
    "duration": 21,
    "start_time": "2023-03-06T14:51:59.832Z"
   },
   {
    "duration": 49,
    "start_time": "2023-03-06T14:51:59.855Z"
   },
   {
    "duration": 240,
    "start_time": "2023-03-06T14:51:59.907Z"
   },
   {
    "duration": 215,
    "start_time": "2023-03-06T14:52:00.151Z"
   },
   {
    "duration": 89,
    "start_time": "2023-03-06T14:52:00.368Z"
   },
   {
    "duration": 19,
    "start_time": "2023-03-06T14:52:00.459Z"
   },
   {
    "duration": 214,
    "start_time": "2023-03-06T14:52:00.481Z"
   },
   {
    "duration": 3,
    "start_time": "2023-03-06T14:52:00.697Z"
   },
   {
    "duration": 4395,
    "start_time": "2023-03-06T14:52:00.702Z"
   },
   {
    "duration": 221,
    "start_time": "2023-03-06T14:52:05.099Z"
   },
   {
    "duration": 160,
    "start_time": "2023-03-06T14:52:05.322Z"
   },
   {
    "duration": 37,
    "start_time": "2023-03-06T14:52:05.483Z"
   },
   {
    "duration": 125,
    "start_time": "2023-03-06T14:52:05.532Z"
   },
   {
    "duration": 125,
    "start_time": "2023-03-06T14:52:05.659Z"
   },
   {
    "duration": 11,
    "start_time": "2023-03-06T14:52:05.786Z"
   },
   {
    "duration": 8,
    "start_time": "2023-03-06T14:52:05.798Z"
   },
   {
    "duration": 27,
    "start_time": "2023-03-06T14:52:05.807Z"
   },
   {
    "duration": 144,
    "start_time": "2023-03-06T14:52:05.844Z"
   },
   {
    "duration": 120,
    "start_time": "2023-03-06T14:52:05.990Z"
   },
   {
    "duration": 30,
    "start_time": "2023-03-06T14:52:06.112Z"
   },
   {
    "duration": 84,
    "start_time": "2023-03-06T14:52:06.144Z"
   },
   {
    "duration": 34,
    "start_time": "2023-03-06T14:52:06.230Z"
   },
   {
    "duration": 6,
    "start_time": "2023-03-06T14:52:06.265Z"
   },
   {
    "duration": 80,
    "start_time": "2023-03-06T14:52:06.273Z"
   },
   {
    "duration": 494,
    "start_time": "2023-03-06T14:52:06.355Z"
   },
   {
    "duration": 3499,
    "start_time": "2023-03-06T14:52:06.850Z"
   },
   {
    "duration": 450,
    "start_time": "2023-03-06T14:52:10.351Z"
   },
   {
    "duration": 51,
    "start_time": "2023-03-06T14:52:10.804Z"
   },
   {
    "duration": 3,
    "start_time": "2023-03-06T14:52:10.857Z"
   },
   {
    "duration": 1731,
    "start_time": "2023-03-06T15:22:41.768Z"
   },
   {
    "duration": 4,
    "start_time": "2023-03-06T15:22:43.501Z"
   },
   {
    "duration": 1192,
    "start_time": "2023-03-06T15:22:43.507Z"
   },
   {
    "duration": 18,
    "start_time": "2023-03-06T15:22:44.701Z"
   },
   {
    "duration": 140,
    "start_time": "2023-03-06T15:22:44.722Z"
   },
   {
    "duration": 147,
    "start_time": "2023-03-06T15:22:44.864Z"
   },
   {
    "duration": 110,
    "start_time": "2023-03-06T15:22:45.013Z"
   },
   {
    "duration": 117,
    "start_time": "2023-03-06T15:22:45.124Z"
   },
   {
    "duration": 90,
    "start_time": "2023-03-06T15:22:45.243Z"
   },
   {
    "duration": 24,
    "start_time": "2023-03-06T15:22:45.335Z"
   },
   {
    "duration": 51,
    "start_time": "2023-03-06T15:22:45.362Z"
   },
   {
    "duration": 46,
    "start_time": "2023-03-06T15:22:45.416Z"
   },
   {
    "duration": 273,
    "start_time": "2023-03-06T15:22:45.464Z"
   },
   {
    "duration": 222,
    "start_time": "2023-03-06T15:22:45.740Z"
   },
   {
    "duration": 104,
    "start_time": "2023-03-06T15:22:45.964Z"
   },
   {
    "duration": 3,
    "start_time": "2023-03-06T15:22:46.070Z"
   },
   {
    "duration": 232,
    "start_time": "2023-03-06T15:22:46.075Z"
   },
   {
    "duration": 4,
    "start_time": "2023-03-06T15:22:46.308Z"
   },
   {
    "duration": 4446,
    "start_time": "2023-03-06T15:22:46.313Z"
   },
   {
    "duration": 195,
    "start_time": "2023-03-06T15:22:50.760Z"
   },
   {
    "duration": 157,
    "start_time": "2023-03-06T15:22:50.957Z"
   },
   {
    "duration": 43,
    "start_time": "2023-03-06T15:22:51.116Z"
   },
   {
    "duration": 126,
    "start_time": "2023-03-06T15:22:51.161Z"
   },
   {
    "duration": 132,
    "start_time": "2023-03-06T15:22:51.288Z"
   },
   {
    "duration": 11,
    "start_time": "2023-03-06T15:22:51.422Z"
   },
   {
    "duration": 27,
    "start_time": "2023-03-06T15:22:51.434Z"
   },
   {
    "duration": 5,
    "start_time": "2023-03-06T15:22:51.463Z"
   },
   {
    "duration": 125,
    "start_time": "2023-03-06T15:22:51.470Z"
   },
   {
    "duration": 111,
    "start_time": "2023-03-06T15:22:51.597Z"
   },
   {
    "duration": 14,
    "start_time": "2023-03-06T15:22:51.710Z"
   },
   {
    "duration": 73,
    "start_time": "2023-03-06T15:22:51.726Z"
   },
   {
    "duration": 26,
    "start_time": "2023-03-06T15:22:51.801Z"
   },
   {
    "duration": 8,
    "start_time": "2023-03-06T15:22:51.829Z"
   },
   {
    "duration": 81,
    "start_time": "2023-03-06T15:22:51.839Z"
   },
   {
    "duration": 549,
    "start_time": "2023-03-06T15:22:51.922Z"
   },
   {
    "duration": 3478,
    "start_time": "2023-03-06T15:22:52.473Z"
   },
   {
    "duration": 436,
    "start_time": "2023-03-06T15:22:55.958Z"
   },
   {
    "duration": 28,
    "start_time": "2023-03-06T15:22:56.395Z"
   },
   {
    "duration": 3,
    "start_time": "2023-03-06T15:22:56.425Z"
   },
   {
    "duration": 5249354,
    "start_time": "2023-03-06T15:22:56.430Z"
   },
   {
    "duration": 309170,
    "start_time": "2023-03-06T16:50:25.790Z"
   },
   {
    "duration": 55042,
    "start_time": "2023-03-06T16:55:34.962Z"
   },
   {
    "duration": 13,
    "start_time": "2023-03-06T16:56:30.005Z"
   },
   {
    "duration": 0,
    "start_time": "2023-03-06T16:56:30.020Z"
   },
   {
    "duration": 0,
    "start_time": "2023-03-06T16:56:30.022Z"
   },
   {
    "duration": 0,
    "start_time": "2023-03-06T16:56:30.024Z"
   },
   {
    "duration": 0,
    "start_time": "2023-03-06T16:56:30.025Z"
   },
   {
    "duration": 66,
    "start_time": "2023-03-06T19:11:16.726Z"
   },
   {
    "duration": 26813,
    "start_time": "2023-03-06T19:11:30.647Z"
   },
   {
    "duration": 56053,
    "start_time": "2023-03-06T19:14:52.614Z"
   },
   {
    "duration": 22513,
    "start_time": "2023-03-06T19:15:48.670Z"
   },
   {
    "duration": 14,
    "start_time": "2023-03-06T19:19:35.915Z"
   },
   {
    "duration": 89274,
    "start_time": "2023-03-06T19:20:20.922Z"
   },
   {
    "duration": 14,
    "start_time": "2023-03-06T19:21:50.198Z"
   },
   {
    "duration": 10901,
    "start_time": "2023-03-06T19:23:27.765Z"
   },
   {
    "duration": 13,
    "start_time": "2023-03-06T19:24:24.924Z"
   },
   {
    "duration": 11147,
    "start_time": "2023-03-06T19:29:07.418Z"
   },
   {
    "duration": 13,
    "start_time": "2023-03-06T19:32:41.214Z"
   },
   {
    "duration": 1534,
    "start_time": "2023-03-07T05:48:50.478Z"
   },
   {
    "duration": 3,
    "start_time": "2023-03-07T05:48:52.014Z"
   },
   {
    "duration": 1151,
    "start_time": "2023-03-07T05:48:52.018Z"
   },
   {
    "duration": 16,
    "start_time": "2023-03-07T05:48:53.171Z"
   },
   {
    "duration": 116,
    "start_time": "2023-03-07T05:48:53.188Z"
   },
   {
    "duration": 150,
    "start_time": "2023-03-07T05:48:53.305Z"
   },
   {
    "duration": 103,
    "start_time": "2023-03-07T05:48:53.457Z"
   },
   {
    "duration": 116,
    "start_time": "2023-03-07T05:48:53.562Z"
   },
   {
    "duration": 78,
    "start_time": "2023-03-07T05:48:53.679Z"
   },
   {
    "duration": 7,
    "start_time": "2023-03-07T05:48:53.760Z"
   },
   {
    "duration": 16,
    "start_time": "2023-03-07T05:48:53.769Z"
   },
   {
    "duration": 36,
    "start_time": "2023-03-07T05:48:53.787Z"
   },
   {
    "duration": 217,
    "start_time": "2023-03-07T05:48:53.825Z"
   },
   {
    "duration": 210,
    "start_time": "2023-03-07T05:48:54.044Z"
   },
   {
    "duration": 75,
    "start_time": "2023-03-07T05:48:54.256Z"
   },
   {
    "duration": 17,
    "start_time": "2023-03-07T05:48:54.333Z"
   },
   {
    "duration": 180,
    "start_time": "2023-03-07T05:48:54.352Z"
   },
   {
    "duration": 5,
    "start_time": "2023-03-07T05:48:54.534Z"
   },
   {
    "duration": 4499,
    "start_time": "2023-03-07T05:48:54.541Z"
   },
   {
    "duration": 189,
    "start_time": "2023-03-07T05:48:59.042Z"
   },
   {
    "duration": 153,
    "start_time": "2023-03-07T05:48:59.233Z"
   },
   {
    "duration": 32,
    "start_time": "2023-03-07T05:48:59.388Z"
   },
   {
    "duration": 140,
    "start_time": "2023-03-07T05:48:59.422Z"
   },
   {
    "duration": 118,
    "start_time": "2023-03-07T05:48:59.564Z"
   },
   {
    "duration": 10,
    "start_time": "2023-03-07T05:48:59.684Z"
   },
   {
    "duration": 9,
    "start_time": "2023-03-07T05:48:59.695Z"
   },
   {
    "duration": 4,
    "start_time": "2023-03-07T05:48:59.706Z"
   },
   {
    "duration": 169,
    "start_time": "2023-03-07T05:48:59.713Z"
   },
   {
    "duration": 105,
    "start_time": "2023-03-07T05:48:59.884Z"
   },
   {
    "duration": 19,
    "start_time": "2023-03-07T05:48:59.994Z"
   },
   {
    "duration": 125,
    "start_time": "2023-03-07T05:49:00.015Z"
   },
   {
    "duration": 28,
    "start_time": "2023-03-07T05:49:00.143Z"
   },
   {
    "duration": 32,
    "start_time": "2023-03-07T05:49:00.173Z"
   },
   {
    "duration": 71,
    "start_time": "2023-03-07T05:49:00.207Z"
   },
   {
    "duration": 525,
    "start_time": "2023-03-07T05:49:00.280Z"
   },
   {
    "duration": 4710,
    "start_time": "2023-03-07T05:49:00.807Z"
   },
   {
    "duration": 435,
    "start_time": "2023-03-07T05:49:05.519Z"
   },
   {
    "duration": 37,
    "start_time": "2023-03-07T05:49:05.956Z"
   },
   {
    "duration": 4,
    "start_time": "2023-03-07T05:49:05.995Z"
   },
   {
    "duration": 812507,
    "start_time": "2023-03-07T05:49:06.001Z"
   },
   {
    "duration": 51182,
    "start_time": "2023-03-07T06:02:38.510Z"
   },
   {
    "duration": 10830,
    "start_time": "2023-03-07T06:03:29.694Z"
   },
   {
    "duration": 16,
    "start_time": "2023-03-07T06:03:40.526Z"
   },
   {
    "duration": 0,
    "start_time": "2023-03-07T06:03:40.544Z"
   },
   {
    "duration": 0,
    "start_time": "2023-03-07T06:03:40.546Z"
   },
   {
    "duration": 0,
    "start_time": "2023-03-07T06:03:40.547Z"
   },
   {
    "duration": 0,
    "start_time": "2023-03-07T06:03:40.549Z"
   },
   {
    "duration": 10450,
    "start_time": "2023-03-07T06:05:33.181Z"
   },
   {
    "duration": 10460,
    "start_time": "2023-03-07T06:09:29.973Z"
   },
   {
    "duration": 30,
    "start_time": "2023-03-07T06:09:41.869Z"
   },
   {
    "duration": 31,
    "start_time": "2023-03-07T06:09:50.307Z"
   },
   {
    "duration": 10524,
    "start_time": "2023-03-07T06:11:08.429Z"
   },
   {
    "duration": 41,
    "start_time": "2023-03-07T06:11:18.955Z"
   },
   {
    "duration": 13271,
    "start_time": "2023-03-07T06:31:59.790Z"
   },
   {
    "duration": 235944,
    "start_time": "2023-03-07T06:40:23.469Z"
   },
   {
    "duration": 11,
    "start_time": "2023-03-07T06:46:23.373Z"
   },
   {
    "duration": 89898,
    "start_time": "2023-03-07T06:46:38.438Z"
   },
   {
    "duration": 26,
    "start_time": "2023-03-07T06:48:08.338Z"
   },
   {
    "duration": 63398,
    "start_time": "2023-03-07T06:48:16.466Z"
   },
   {
    "duration": 41,
    "start_time": "2023-03-07T06:58:05.559Z"
   },
   {
    "duration": 28,
    "start_time": "2023-03-07T06:58:27.559Z"
   },
   {
    "duration": 26,
    "start_time": "2023-03-07T06:58:35.105Z"
   },
   {
    "duration": 170,
    "start_time": "2023-03-07T06:58:45.153Z"
   },
   {
    "duration": 4546,
    "start_time": "2023-03-07T06:58:56.514Z"
   },
   {
    "duration": 14,
    "start_time": "2023-03-07T06:59:09.358Z"
   },
   {
    "duration": 131741,
    "start_time": "2023-03-07T06:59:28.125Z"
   },
   {
    "duration": 36890,
    "start_time": "2023-03-07T07:01:56.872Z"
   },
   {
    "duration": 47974,
    "start_time": "2023-03-07T07:04:37.788Z"
   },
   {
    "duration": 13172,
    "start_time": "2023-03-07T07:05:49.794Z"
   },
   {
    "duration": 0,
    "start_time": "2023-03-07T07:12:11.108Z"
   },
   {
    "duration": 13218,
    "start_time": "2023-03-07T07:13:29.103Z"
   },
   {
    "duration": 4,
    "start_time": "2023-03-07T07:48:21.739Z"
   },
   {
    "duration": 6,
    "start_time": "2023-03-07T07:48:29.682Z"
   },
   {
    "duration": 10,
    "start_time": "2023-03-07T07:49:54.495Z"
   },
   {
    "duration": 5,
    "start_time": "2023-03-07T07:50:01.941Z"
   },
   {
    "duration": 8,
    "start_time": "2023-03-07T07:51:49.035Z"
   },
   {
    "duration": 9,
    "start_time": "2023-03-07T07:53:33.399Z"
   },
   {
    "duration": 9,
    "start_time": "2023-03-07T07:53:46.209Z"
   },
   {
    "duration": 4,
    "start_time": "2023-03-07T07:53:57.490Z"
   },
   {
    "duration": 85,
    "start_time": "2023-03-07T07:56:31.844Z"
   },
   {
    "duration": 19,
    "start_time": "2023-03-07T07:56:47.309Z"
   },
   {
    "duration": 19,
    "start_time": "2023-03-07T07:57:07.521Z"
   },
   {
    "duration": 125,
    "start_time": "2023-03-07T07:57:51.485Z"
   },
   {
    "duration": 35,
    "start_time": "2023-03-07T07:58:24.946Z"
   },
   {
    "duration": 1920,
    "start_time": "2023-03-07T07:58:54.157Z"
   },
   {
    "duration": 4,
    "start_time": "2023-03-07T07:58:56.080Z"
   },
   {
    "duration": 979,
    "start_time": "2023-03-07T07:58:56.086Z"
   },
   {
    "duration": 24,
    "start_time": "2023-03-07T07:58:57.069Z"
   },
   {
    "duration": 125,
    "start_time": "2023-03-07T07:58:57.094Z"
   },
   {
    "duration": 170,
    "start_time": "2023-03-07T07:58:57.221Z"
   },
   {
    "duration": 93,
    "start_time": "2023-03-07T07:58:57.393Z"
   },
   {
    "duration": 103,
    "start_time": "2023-03-07T07:58:57.487Z"
   },
   {
    "duration": 85,
    "start_time": "2023-03-07T07:58:57.592Z"
   },
   {
    "duration": 10,
    "start_time": "2023-03-07T07:58:57.681Z"
   },
   {
    "duration": 20,
    "start_time": "2023-03-07T07:58:57.693Z"
   },
   {
    "duration": 62,
    "start_time": "2023-03-07T07:58:57.715Z"
   },
   {
    "duration": 232,
    "start_time": "2023-03-07T07:58:57.779Z"
   },
   {
    "duration": 238,
    "start_time": "2023-03-07T07:58:58.013Z"
   },
   {
    "duration": 143,
    "start_time": "2023-03-07T07:58:58.252Z"
   },
   {
    "duration": 3,
    "start_time": "2023-03-07T07:58:58.450Z"
   },
   {
    "duration": 532,
    "start_time": "2023-03-07T07:58:58.460Z"
   },
   {
    "duration": 4,
    "start_time": "2023-03-07T07:58:58.994Z"
   },
   {
    "duration": 5417,
    "start_time": "2023-03-07T07:58:59.000Z"
   },
   {
    "duration": 196,
    "start_time": "2023-03-07T07:59:04.419Z"
   },
   {
    "duration": 163,
    "start_time": "2023-03-07T07:59:04.617Z"
   },
   {
    "duration": 36,
    "start_time": "2023-03-07T07:59:04.782Z"
   },
   {
    "duration": 141,
    "start_time": "2023-03-07T07:59:04.820Z"
   },
   {
    "duration": 143,
    "start_time": "2023-03-07T07:59:04.963Z"
   },
   {
    "duration": 9,
    "start_time": "2023-03-07T07:59:05.108Z"
   },
   {
    "duration": 26,
    "start_time": "2023-03-07T07:59:05.119Z"
   },
   {
    "duration": 45,
    "start_time": "2023-03-07T07:59:05.147Z"
   },
   {
    "duration": 251,
    "start_time": "2023-03-07T07:59:05.197Z"
   },
   {
    "duration": 102,
    "start_time": "2023-03-07T07:59:05.449Z"
   },
   {
    "duration": 35,
    "start_time": "2023-03-07T07:59:05.558Z"
   },
   {
    "duration": 69,
    "start_time": "2023-03-07T07:59:05.595Z"
   },
   {
    "duration": 25,
    "start_time": "2023-03-07T07:59:05.668Z"
   },
   {
    "duration": 8,
    "start_time": "2023-03-07T07:59:05.694Z"
   },
   {
    "duration": 59,
    "start_time": "2023-03-07T07:59:05.704Z"
   },
   {
    "duration": 593,
    "start_time": "2023-03-07T07:59:05.766Z"
   },
   {
    "duration": 3206,
    "start_time": "2023-03-07T07:59:06.361Z"
   },
   {
    "duration": 19,
    "start_time": "2023-03-07T07:59:09.569Z"
   },
   {
    "duration": 147,
    "start_time": "2023-03-07T07:59:09.589Z"
   },
   {
    "duration": 143,
    "start_time": "2023-03-07T07:59:09.738Z"
   },
   {
    "duration": 0,
    "start_time": "2023-03-07T07:59:09.883Z"
   },
   {
    "duration": 0,
    "start_time": "2023-03-07T07:59:09.884Z"
   },
   {
    "duration": 0,
    "start_time": "2023-03-07T07:59:09.886Z"
   },
   {
    "duration": 0,
    "start_time": "2023-03-07T07:59:09.887Z"
   },
   {
    "duration": 0,
    "start_time": "2023-03-07T07:59:09.888Z"
   },
   {
    "duration": 0,
    "start_time": "2023-03-07T07:59:09.889Z"
   },
   {
    "duration": 0,
    "start_time": "2023-03-07T07:59:09.890Z"
   },
   {
    "duration": 0,
    "start_time": "2023-03-07T07:59:09.891Z"
   },
   {
    "duration": 0,
    "start_time": "2023-03-07T07:59:09.892Z"
   },
   {
    "duration": 0,
    "start_time": "2023-03-07T07:59:09.893Z"
   },
   {
    "duration": 0,
    "start_time": "2023-03-07T07:59:09.894Z"
   },
   {
    "duration": 0,
    "start_time": "2023-03-07T07:59:09.895Z"
   },
   {
    "duration": 5,
    "start_time": "2023-03-07T08:04:03.688Z"
   },
   {
    "duration": 6,
    "start_time": "2023-03-07T08:04:21.442Z"
   },
   {
    "duration": 9,
    "start_time": "2023-03-07T08:04:52.070Z"
   },
   {
    "duration": 5,
    "start_time": "2023-03-07T08:04:53.005Z"
   },
   {
    "duration": 5,
    "start_time": "2023-03-07T08:04:53.745Z"
   },
   {
    "duration": 5,
    "start_time": "2023-03-07T08:04:57.002Z"
   },
   {
    "duration": 1792,
    "start_time": "2023-03-07T08:05:05.549Z"
   },
   {
    "duration": 3,
    "start_time": "2023-03-07T08:05:07.343Z"
   },
   {
    "duration": 1946,
    "start_time": "2023-03-07T08:05:07.347Z"
   },
   {
    "duration": 61,
    "start_time": "2023-03-07T08:05:09.296Z"
   },
   {
    "duration": 389,
    "start_time": "2023-03-07T08:05:09.364Z"
   },
   {
    "duration": 313,
    "start_time": "2023-03-07T08:05:09.759Z"
   },
   {
    "duration": 191,
    "start_time": "2023-03-07T08:05:10.074Z"
   },
   {
    "duration": 119,
    "start_time": "2023-03-07T08:05:10.266Z"
   },
   {
    "duration": 83,
    "start_time": "2023-03-07T08:05:10.387Z"
   },
   {
    "duration": 7,
    "start_time": "2023-03-07T08:05:10.480Z"
   },
   {
    "duration": 18,
    "start_time": "2023-03-07T08:05:10.489Z"
   },
   {
    "duration": 52,
    "start_time": "2023-03-07T08:05:10.509Z"
   },
   {
    "duration": 229,
    "start_time": "2023-03-07T08:05:10.563Z"
   },
   {
    "duration": 217,
    "start_time": "2023-03-07T08:05:10.793Z"
   },
   {
    "duration": 124,
    "start_time": "2023-03-07T08:05:11.012Z"
   },
   {
    "duration": 3,
    "start_time": "2023-03-07T08:05:11.137Z"
   },
   {
    "duration": 208,
    "start_time": "2023-03-07T08:05:11.149Z"
   },
   {
    "duration": 10,
    "start_time": "2023-03-07T08:05:11.359Z"
   },
   {
    "duration": 4922,
    "start_time": "2023-03-07T08:05:11.371Z"
   },
   {
    "duration": 276,
    "start_time": "2023-03-07T08:05:16.296Z"
   },
   {
    "duration": 189,
    "start_time": "2023-03-07T08:05:16.574Z"
   },
   {
    "duration": 40,
    "start_time": "2023-03-07T08:05:16.764Z"
   },
   {
    "duration": 146,
    "start_time": "2023-03-07T08:05:16.806Z"
   },
   {
    "duration": 135,
    "start_time": "2023-03-07T08:05:16.953Z"
   },
   {
    "duration": 11,
    "start_time": "2023-03-07T08:05:17.090Z"
   },
   {
    "duration": 44,
    "start_time": "2023-03-07T08:05:17.102Z"
   },
   {
    "duration": 55,
    "start_time": "2023-03-07T08:05:17.148Z"
   },
   {
    "duration": 26,
    "start_time": "2023-03-07T08:05:17.207Z"
   },
   {
    "duration": 153,
    "start_time": "2023-03-07T08:05:17.235Z"
   },
   {
    "duration": 116,
    "start_time": "2023-03-07T08:05:17.389Z"
   },
   {
    "duration": 15,
    "start_time": "2023-03-07T08:05:17.506Z"
   },
   {
    "duration": 84,
    "start_time": "2023-03-07T08:05:17.523Z"
   },
   {
    "duration": 25,
    "start_time": "2023-03-07T08:05:17.609Z"
   },
   {
    "duration": 26,
    "start_time": "2023-03-07T08:05:17.635Z"
   },
   {
    "duration": 86,
    "start_time": "2023-03-07T08:05:17.662Z"
   },
   {
    "duration": 577,
    "start_time": "2023-03-07T08:05:17.756Z"
   },
   {
    "duration": 3474,
    "start_time": "2023-03-07T08:05:18.335Z"
   },
   {
    "duration": 19,
    "start_time": "2023-03-07T08:05:21.810Z"
   },
   {
    "duration": 162,
    "start_time": "2023-03-07T08:05:21.831Z"
   },
   {
    "duration": 177,
    "start_time": "2023-03-07T08:05:21.994Z"
   },
   {
    "duration": 0,
    "start_time": "2023-03-07T08:05:22.173Z"
   },
   {
    "duration": 0,
    "start_time": "2023-03-07T08:05:22.174Z"
   },
   {
    "duration": 0,
    "start_time": "2023-03-07T08:05:22.175Z"
   },
   {
    "duration": 1,
    "start_time": "2023-03-07T08:05:22.176Z"
   },
   {
    "duration": 0,
    "start_time": "2023-03-07T08:05:22.178Z"
   },
   {
    "duration": 0,
    "start_time": "2023-03-07T08:05:22.179Z"
   },
   {
    "duration": 0,
    "start_time": "2023-03-07T08:05:22.181Z"
   },
   {
    "duration": 0,
    "start_time": "2023-03-07T08:05:22.182Z"
   },
   {
    "duration": 0,
    "start_time": "2023-03-07T08:05:22.186Z"
   },
   {
    "duration": 0,
    "start_time": "2023-03-07T08:05:22.191Z"
   },
   {
    "duration": 0,
    "start_time": "2023-03-07T08:05:22.192Z"
   },
   {
    "duration": 0,
    "start_time": "2023-03-07T08:05:22.193Z"
   },
   {
    "duration": 10,
    "start_time": "2023-03-07T08:05:45.690Z"
   },
   {
    "duration": 6,
    "start_time": "2023-03-07T08:06:54.893Z"
   },
   {
    "duration": 2580,
    "start_time": "2023-03-07T08:07:04.685Z"
   },
   {
    "duration": 5,
    "start_time": "2023-03-07T08:07:07.267Z"
   },
   {
    "duration": 1008,
    "start_time": "2023-03-07T08:07:07.273Z"
   },
   {
    "duration": 17,
    "start_time": "2023-03-07T08:07:08.283Z"
   },
   {
    "duration": 134,
    "start_time": "2023-03-07T08:07:08.302Z"
   },
   {
    "duration": 231,
    "start_time": "2023-03-07T08:07:08.438Z"
   },
   {
    "duration": 216,
    "start_time": "2023-03-07T08:07:08.670Z"
   },
   {
    "duration": 289,
    "start_time": "2023-03-07T08:07:08.890Z"
   },
   {
    "duration": 183,
    "start_time": "2023-03-07T08:07:09.181Z"
   },
   {
    "duration": 16,
    "start_time": "2023-03-07T08:07:09.374Z"
   },
   {
    "duration": 169,
    "start_time": "2023-03-07T08:07:09.392Z"
   },
   {
    "duration": 104,
    "start_time": "2023-03-07T08:07:09.563Z"
   },
   {
    "duration": 602,
    "start_time": "2023-03-07T08:07:09.673Z"
   },
   {
    "duration": 518,
    "start_time": "2023-03-07T08:07:10.277Z"
   },
   {
    "duration": 207,
    "start_time": "2023-03-07T08:07:10.797Z"
   },
   {
    "duration": 3,
    "start_time": "2023-03-07T08:07:11.006Z"
   },
   {
    "duration": 227,
    "start_time": "2023-03-07T08:07:11.011Z"
   },
   {
    "duration": 11,
    "start_time": "2023-03-07T08:07:11.240Z"
   },
   {
    "duration": 4967,
    "start_time": "2023-03-07T08:07:11.252Z"
   },
   {
    "duration": 221,
    "start_time": "2023-03-07T08:07:16.221Z"
   },
   {
    "duration": 199,
    "start_time": "2023-03-07T08:07:16.444Z"
   },
   {
    "duration": 37,
    "start_time": "2023-03-07T08:07:16.658Z"
   },
   {
    "duration": 138,
    "start_time": "2023-03-07T08:07:16.697Z"
   },
   {
    "duration": 125,
    "start_time": "2023-03-07T08:07:16.836Z"
   },
   {
    "duration": 14,
    "start_time": "2023-03-07T08:07:16.972Z"
   },
   {
    "duration": 11,
    "start_time": "2023-03-07T08:07:16.988Z"
   },
   {
    "duration": 7,
    "start_time": "2023-03-07T08:07:17.001Z"
   },
   {
    "duration": 10,
    "start_time": "2023-03-07T08:07:17.011Z"
   },
   {
    "duration": 139,
    "start_time": "2023-03-07T08:07:17.022Z"
   },
   {
    "duration": 108,
    "start_time": "2023-03-07T08:07:17.166Z"
   },
   {
    "duration": 15,
    "start_time": "2023-03-07T08:07:17.276Z"
   },
   {
    "duration": 72,
    "start_time": "2023-03-07T08:07:17.293Z"
   },
   {
    "duration": 27,
    "start_time": "2023-03-07T08:07:17.367Z"
   },
   {
    "duration": 9,
    "start_time": "2023-03-07T08:07:17.396Z"
   },
   {
    "duration": 65,
    "start_time": "2023-03-07T08:07:17.406Z"
   },
   {
    "duration": 591,
    "start_time": "2023-03-07T08:07:17.473Z"
   },
   {
    "duration": 3057,
    "start_time": "2023-03-07T08:07:18.074Z"
   },
   {
    "duration": 36,
    "start_time": "2023-03-07T08:07:21.133Z"
   },
   {
    "duration": 164,
    "start_time": "2023-03-07T08:07:21.171Z"
   },
   {
    "duration": 162,
    "start_time": "2023-03-07T08:07:21.337Z"
   },
   {
    "duration": 0,
    "start_time": "2023-03-07T08:07:21.501Z"
   },
   {
    "duration": 0,
    "start_time": "2023-03-07T08:07:21.502Z"
   },
   {
    "duration": 0,
    "start_time": "2023-03-07T08:07:21.503Z"
   },
   {
    "duration": 0,
    "start_time": "2023-03-07T08:07:21.504Z"
   },
   {
    "duration": 0,
    "start_time": "2023-03-07T08:07:21.505Z"
   },
   {
    "duration": 0,
    "start_time": "2023-03-07T08:07:21.506Z"
   },
   {
    "duration": 0,
    "start_time": "2023-03-07T08:07:21.507Z"
   },
   {
    "duration": 0,
    "start_time": "2023-03-07T08:07:21.509Z"
   },
   {
    "duration": 0,
    "start_time": "2023-03-07T08:07:21.510Z"
   },
   {
    "duration": 0,
    "start_time": "2023-03-07T08:07:21.511Z"
   },
   {
    "duration": 0,
    "start_time": "2023-03-07T08:07:21.513Z"
   },
   {
    "duration": 0,
    "start_time": "2023-03-07T08:07:21.514Z"
   },
   {
    "duration": 9,
    "start_time": "2023-03-07T08:07:45.193Z"
   },
   {
    "duration": 7,
    "start_time": "2023-03-07T08:07:46.138Z"
   },
   {
    "duration": 8,
    "start_time": "2023-03-07T08:07:46.974Z"
   },
   {
    "duration": 1596,
    "start_time": "2023-03-07T08:09:14.305Z"
   },
   {
    "duration": 3,
    "start_time": "2023-03-07T08:09:15.903Z"
   },
   {
    "duration": 910,
    "start_time": "2023-03-07T08:09:15.907Z"
   },
   {
    "duration": 17,
    "start_time": "2023-03-07T08:09:16.819Z"
   },
   {
    "duration": 147,
    "start_time": "2023-03-07T08:09:16.838Z"
   },
   {
    "duration": 160,
    "start_time": "2023-03-07T08:09:16.988Z"
   },
   {
    "duration": 115,
    "start_time": "2023-03-07T08:09:17.152Z"
   },
   {
    "duration": 107,
    "start_time": "2023-03-07T08:09:17.276Z"
   },
   {
    "duration": 74,
    "start_time": "2023-03-07T08:09:17.385Z"
   },
   {
    "duration": 11,
    "start_time": "2023-03-07T08:09:17.463Z"
   },
   {
    "duration": 16,
    "start_time": "2023-03-07T08:09:17.475Z"
   },
   {
    "duration": 45,
    "start_time": "2023-03-07T08:09:17.493Z"
   },
   {
    "duration": 230,
    "start_time": "2023-03-07T08:09:17.539Z"
   },
   {
    "duration": 215,
    "start_time": "2023-03-07T08:09:17.776Z"
   },
   {
    "duration": 90,
    "start_time": "2023-03-07T08:09:17.992Z"
   },
   {
    "duration": 15,
    "start_time": "2023-03-07T08:09:18.084Z"
   },
   {
    "duration": 227,
    "start_time": "2023-03-07T08:09:18.101Z"
   },
   {
    "duration": 3,
    "start_time": "2023-03-07T08:09:18.330Z"
   },
   {
    "duration": 4708,
    "start_time": "2023-03-07T08:09:18.335Z"
   },
   {
    "duration": 194,
    "start_time": "2023-03-07T08:09:23.045Z"
   },
   {
    "duration": 173,
    "start_time": "2023-03-07T08:09:23.241Z"
   },
   {
    "duration": 51,
    "start_time": "2023-03-07T08:09:23.416Z"
   },
   {
    "duration": 132,
    "start_time": "2023-03-07T08:09:23.473Z"
   },
   {
    "duration": 125,
    "start_time": "2023-03-07T08:09:23.606Z"
   },
   {
    "duration": 34,
    "start_time": "2023-03-07T08:09:23.733Z"
   },
   {
    "duration": 20,
    "start_time": "2023-03-07T08:09:23.769Z"
   },
   {
    "duration": 5,
    "start_time": "2023-03-07T08:09:23.791Z"
   },
   {
    "duration": 123,
    "start_time": "2023-03-07T08:09:23.798Z"
   },
   {
    "duration": 115,
    "start_time": "2023-03-07T08:09:23.922Z"
   },
   {
    "duration": 27,
    "start_time": "2023-03-07T08:09:24.039Z"
   },
   {
    "duration": 62,
    "start_time": "2023-03-07T08:09:24.068Z"
   },
   {
    "duration": 37,
    "start_time": "2023-03-07T08:09:24.131Z"
   },
   {
    "duration": 6,
    "start_time": "2023-03-07T08:09:24.172Z"
   },
   {
    "duration": 65,
    "start_time": "2023-03-07T08:09:24.185Z"
   },
   {
    "duration": 586,
    "start_time": "2023-03-07T08:09:24.253Z"
   },
   {
    "duration": 2943,
    "start_time": "2023-03-07T08:09:24.840Z"
   },
   {
    "duration": 17,
    "start_time": "2023-03-07T08:09:27.785Z"
   },
   {
    "duration": 175,
    "start_time": "2023-03-07T08:09:27.804Z"
   },
   {
    "duration": 147,
    "start_time": "2023-03-07T08:09:27.982Z"
   },
   {
    "duration": 0,
    "start_time": "2023-03-07T08:09:28.131Z"
   },
   {
    "duration": 0,
    "start_time": "2023-03-07T08:09:28.132Z"
   },
   {
    "duration": 0,
    "start_time": "2023-03-07T08:09:28.133Z"
   },
   {
    "duration": 0,
    "start_time": "2023-03-07T08:09:28.134Z"
   },
   {
    "duration": 0,
    "start_time": "2023-03-07T08:09:28.135Z"
   },
   {
    "duration": 0,
    "start_time": "2023-03-07T08:09:28.136Z"
   },
   {
    "duration": 0,
    "start_time": "2023-03-07T08:09:28.137Z"
   },
   {
    "duration": 0,
    "start_time": "2023-03-07T08:09:28.152Z"
   },
   {
    "duration": 0,
    "start_time": "2023-03-07T08:09:28.153Z"
   },
   {
    "duration": 0,
    "start_time": "2023-03-07T08:09:28.154Z"
   },
   {
    "duration": 0,
    "start_time": "2023-03-07T08:09:28.155Z"
   },
   {
    "duration": 0,
    "start_time": "2023-03-07T08:09:28.159Z"
   },
   {
    "duration": 7,
    "start_time": "2023-03-07T08:09:46.989Z"
   },
   {
    "duration": 9,
    "start_time": "2023-03-07T08:11:24.788Z"
   },
   {
    "duration": 5,
    "start_time": "2023-03-07T08:11:25.488Z"
   },
   {
    "duration": 8,
    "start_time": "2023-03-07T08:11:26.197Z"
   },
   {
    "duration": 1515,
    "start_time": "2023-03-07T08:11:32.595Z"
   },
   {
    "duration": 4,
    "start_time": "2023-03-07T08:11:34.112Z"
   },
   {
    "duration": 876,
    "start_time": "2023-03-07T08:11:34.119Z"
   },
   {
    "duration": 18,
    "start_time": "2023-03-07T08:11:34.999Z"
   },
   {
    "duration": 159,
    "start_time": "2023-03-07T08:11:35.019Z"
   },
   {
    "duration": 169,
    "start_time": "2023-03-07T08:11:35.182Z"
   },
   {
    "duration": 103,
    "start_time": "2023-03-07T08:11:35.358Z"
   },
   {
    "duration": 123,
    "start_time": "2023-03-07T08:11:35.462Z"
   },
   {
    "duration": 82,
    "start_time": "2023-03-07T08:11:35.587Z"
   },
   {
    "duration": 12,
    "start_time": "2023-03-07T08:11:35.673Z"
   },
   {
    "duration": 27,
    "start_time": "2023-03-07T08:11:35.687Z"
   },
   {
    "duration": 56,
    "start_time": "2023-03-07T08:11:35.717Z"
   },
   {
    "duration": 232,
    "start_time": "2023-03-07T08:11:35.785Z"
   },
   {
    "duration": 260,
    "start_time": "2023-03-07T08:11:36.019Z"
   },
   {
    "duration": 104,
    "start_time": "2023-03-07T08:11:36.287Z"
   },
   {
    "duration": 5,
    "start_time": "2023-03-07T08:11:36.393Z"
   },
   {
    "duration": 197,
    "start_time": "2023-03-07T08:11:36.399Z"
   },
   {
    "duration": 3,
    "start_time": "2023-03-07T08:11:36.598Z"
   },
   {
    "duration": 6358,
    "start_time": "2023-03-07T08:11:36.603Z"
   },
   {
    "duration": 208,
    "start_time": "2023-03-07T08:11:42.972Z"
   },
   {
    "duration": 162,
    "start_time": "2023-03-07T08:11:43.182Z"
   },
   {
    "duration": 38,
    "start_time": "2023-03-07T08:11:43.349Z"
   },
   {
    "duration": 140,
    "start_time": "2023-03-07T08:11:43.389Z"
   },
   {
    "duration": 135,
    "start_time": "2023-03-07T08:11:43.530Z"
   },
   {
    "duration": 16,
    "start_time": "2023-03-07T08:11:43.670Z"
   },
   {
    "duration": 9,
    "start_time": "2023-03-07T08:11:43.688Z"
   },
   {
    "duration": 11,
    "start_time": "2023-03-07T08:11:43.699Z"
   },
   {
    "duration": 7,
    "start_time": "2023-03-07T08:11:43.713Z"
   },
   {
    "duration": 151,
    "start_time": "2023-03-07T08:11:43.722Z"
   },
   {
    "duration": 109,
    "start_time": "2023-03-07T08:11:43.874Z"
   },
   {
    "duration": 16,
    "start_time": "2023-03-07T08:11:43.985Z"
   },
   {
    "duration": 80,
    "start_time": "2023-03-07T08:11:44.003Z"
   },
   {
    "duration": 25,
    "start_time": "2023-03-07T08:11:44.085Z"
   },
   {
    "duration": 11,
    "start_time": "2023-03-07T08:11:44.112Z"
   },
   {
    "duration": 68,
    "start_time": "2023-03-07T08:11:44.124Z"
   },
   {
    "duration": 566,
    "start_time": "2023-03-07T08:11:44.194Z"
   },
   {
    "duration": 3023,
    "start_time": "2023-03-07T08:11:44.762Z"
   },
   {
    "duration": 19,
    "start_time": "2023-03-07T08:11:47.786Z"
   },
   {
    "duration": 160,
    "start_time": "2023-03-07T08:11:47.807Z"
   },
   {
    "duration": 153,
    "start_time": "2023-03-07T08:11:47.969Z"
   },
   {
    "duration": 0,
    "start_time": "2023-03-07T08:11:48.123Z"
   },
   {
    "duration": 0,
    "start_time": "2023-03-07T08:11:48.125Z"
   },
   {
    "duration": 0,
    "start_time": "2023-03-07T08:11:48.126Z"
   },
   {
    "duration": 0,
    "start_time": "2023-03-07T08:11:48.128Z"
   },
   {
    "duration": 0,
    "start_time": "2023-03-07T08:11:48.130Z"
   },
   {
    "duration": 0,
    "start_time": "2023-03-07T08:11:48.131Z"
   },
   {
    "duration": 0,
    "start_time": "2023-03-07T08:11:48.133Z"
   },
   {
    "duration": 0,
    "start_time": "2023-03-07T08:11:48.134Z"
   },
   {
    "duration": 0,
    "start_time": "2023-03-07T08:11:48.150Z"
   },
   {
    "duration": 0,
    "start_time": "2023-03-07T08:11:48.151Z"
   },
   {
    "duration": 0,
    "start_time": "2023-03-07T08:11:48.152Z"
   },
   {
    "duration": 0,
    "start_time": "2023-03-07T08:11:48.153Z"
   },
   {
    "duration": 3,
    "start_time": "2023-03-07T08:12:04.743Z"
   },
   {
    "duration": 123,
    "start_time": "2023-03-07T08:12:44.944Z"
   },
   {
    "duration": 150,
    "start_time": "2023-03-07T08:13:14.748Z"
   },
   {
    "duration": 517,
    "start_time": "2023-03-07T08:14:14.021Z"
   },
   {
    "duration": 30,
    "start_time": "2023-03-07T08:14:34.792Z"
   },
   {
    "duration": 14621,
    "start_time": "2023-03-07T08:14:51.742Z"
   },
   {
    "duration": 1553,
    "start_time": "2023-03-07T08:15:18.796Z"
   },
   {
    "duration": 11,
    "start_time": "2023-03-07T08:15:20.366Z"
   },
   {
    "duration": 1699,
    "start_time": "2023-03-07T08:15:20.384Z"
   },
   {
    "duration": 18,
    "start_time": "2023-03-07T08:15:22.087Z"
   },
   {
    "duration": 365,
    "start_time": "2023-03-07T08:15:22.106Z"
   },
   {
    "duration": 310,
    "start_time": "2023-03-07T08:15:22.480Z"
   },
   {
    "duration": 119,
    "start_time": "2023-03-07T08:15:22.793Z"
   },
   {
    "duration": 112,
    "start_time": "2023-03-07T08:15:22.914Z"
   },
   {
    "duration": 71,
    "start_time": "2023-03-07T08:15:23.028Z"
   },
   {
    "duration": 7,
    "start_time": "2023-03-07T08:15:23.102Z"
   },
   {
    "duration": 19,
    "start_time": "2023-03-07T08:15:23.111Z"
   },
   {
    "duration": 53,
    "start_time": "2023-03-07T08:15:23.131Z"
   },
   {
    "duration": 220,
    "start_time": "2023-03-07T08:15:23.185Z"
   },
   {
    "duration": 217,
    "start_time": "2023-03-07T08:15:23.407Z"
   },
   {
    "duration": 88,
    "start_time": "2023-03-07T08:15:23.625Z"
   },
   {
    "duration": 3,
    "start_time": "2023-03-07T08:15:23.715Z"
   },
   {
    "duration": 208,
    "start_time": "2023-03-07T08:15:23.720Z"
   },
   {
    "duration": 4,
    "start_time": "2023-03-07T08:15:23.929Z"
   },
   {
    "duration": 4743,
    "start_time": "2023-03-07T08:15:23.934Z"
   },
   {
    "duration": 196,
    "start_time": "2023-03-07T08:15:28.681Z"
   },
   {
    "duration": 159,
    "start_time": "2023-03-07T08:15:28.882Z"
   },
   {
    "duration": 41,
    "start_time": "2023-03-07T08:15:29.043Z"
   },
   {
    "duration": 153,
    "start_time": "2023-03-07T08:15:29.085Z"
   },
   {
    "duration": 132,
    "start_time": "2023-03-07T08:15:29.240Z"
   },
   {
    "duration": 12,
    "start_time": "2023-03-07T08:15:29.377Z"
   },
   {
    "duration": 7,
    "start_time": "2023-03-07T08:15:29.391Z"
   },
   {
    "duration": 8,
    "start_time": "2023-03-07T08:15:29.400Z"
   },
   {
    "duration": 22,
    "start_time": "2023-03-07T08:15:29.412Z"
   },
   {
    "duration": 195,
    "start_time": "2023-03-07T08:15:29.436Z"
   },
   {
    "duration": 108,
    "start_time": "2023-03-07T08:15:29.633Z"
   },
   {
    "duration": 16,
    "start_time": "2023-03-07T08:15:29.752Z"
   },
   {
    "duration": 79,
    "start_time": "2023-03-07T08:15:29.774Z"
   },
   {
    "duration": 34,
    "start_time": "2023-03-07T08:15:29.858Z"
   },
   {
    "duration": 6,
    "start_time": "2023-03-07T08:15:29.894Z"
   },
   {
    "duration": 73,
    "start_time": "2023-03-07T08:15:29.902Z"
   },
   {
    "duration": 612,
    "start_time": "2023-03-07T08:15:29.982Z"
   },
   {
    "duration": 2975,
    "start_time": "2023-03-07T08:15:30.596Z"
   },
   {
    "duration": 2,
    "start_time": "2023-03-07T08:15:33.577Z"
   },
   {
    "duration": 31,
    "start_time": "2023-03-07T08:15:33.585Z"
   },
   {
    "duration": 484,
    "start_time": "2023-03-07T08:15:33.618Z"
   },
   {
    "duration": 30,
    "start_time": "2023-03-07T08:15:34.104Z"
   },
   {
    "duration": 17,
    "start_time": "2023-03-07T08:15:34.136Z"
   },
   {
    "duration": 370745,
    "start_time": "2023-03-07T08:15:34.155Z"
   },
   {
    "duration": 11,
    "start_time": "2023-03-07T08:21:44.902Z"
   },
   {
    "duration": 0,
    "start_time": "2023-03-07T08:21:44.915Z"
   },
   {
    "duration": 0,
    "start_time": "2023-03-07T08:21:44.918Z"
   },
   {
    "duration": 0,
    "start_time": "2023-03-07T08:21:44.919Z"
   },
   {
    "duration": 0,
    "start_time": "2023-03-07T08:21:44.921Z"
   },
   {
    "duration": 0,
    "start_time": "2023-03-07T08:21:44.922Z"
   },
   {
    "duration": 0,
    "start_time": "2023-03-07T08:21:44.923Z"
   },
   {
    "duration": 0,
    "start_time": "2023-03-07T08:21:44.924Z"
   },
   {
    "duration": 0,
    "start_time": "2023-03-07T08:21:44.925Z"
   },
   {
    "duration": 0,
    "start_time": "2023-03-07T08:21:44.926Z"
   },
   {
    "duration": 0,
    "start_time": "2023-03-07T08:21:44.927Z"
   },
   {
    "duration": 146,
    "start_time": "2023-03-07T08:21:52.685Z"
   },
   {
    "duration": 552,
    "start_time": "2023-03-07T08:21:55.439Z"
   },
   {
    "duration": 7,
    "start_time": "2023-03-07T08:36:35.396Z"
   },
   {
    "duration": 18,
    "start_time": "2023-03-07T08:42:58.124Z"
   },
   {
    "duration": 13,
    "start_time": "2023-03-07T08:43:36.522Z"
   },
   {
    "duration": 45,
    "start_time": "2023-03-07T08:44:34.792Z"
   },
   {
    "duration": 18,
    "start_time": "2023-03-07T08:45:46.182Z"
   },
   {
    "duration": 21,
    "start_time": "2023-03-07T08:46:50.776Z"
   },
   {
    "duration": 96,
    "start_time": "2023-03-07T08:47:15.998Z"
   },
   {
    "duration": 4,
    "start_time": "2023-03-07T08:47:38.291Z"
   },
   {
    "duration": 15,
    "start_time": "2023-03-07T08:48:17.325Z"
   },
   {
    "duration": 161,
    "start_time": "2023-03-07T08:51:31.384Z"
   },
   {
    "duration": 504,
    "start_time": "2023-03-07T08:53:28.942Z"
   },
   {
    "duration": 280,
    "start_time": "2023-03-07T08:53:58.526Z"
   },
   {
    "duration": 207,
    "start_time": "2023-03-07T08:54:13.432Z"
   },
   {
    "duration": 23,
    "start_time": "2023-03-07T10:35:42.536Z"
   },
   {
    "duration": 406,
    "start_time": "2023-03-07T10:35:51.513Z"
   },
   {
    "duration": 17488,
    "start_time": "2023-03-07T10:36:19.328Z"
   },
   {
    "duration": 3,
    "start_time": "2023-03-07T10:37:03.488Z"
   },
   {
    "duration": 144210,
    "start_time": "2023-03-07T10:37:41.745Z"
   },
   {
    "duration": 86608,
    "start_time": "2023-03-07T10:40:46.388Z"
   },
   {
    "duration": 166,
    "start_time": "2023-03-07T10:42:12.998Z"
   },
   {
    "duration": 4672,
    "start_time": "2023-03-07T10:42:13.165Z"
   },
   {
    "duration": 11,
    "start_time": "2023-03-07T10:42:17.839Z"
   },
   {
    "duration": 1516,
    "start_time": "2023-03-07T10:42:51.826Z"
   },
   {
    "duration": 3,
    "start_time": "2023-03-07T10:42:53.344Z"
   },
   {
    "duration": 1060,
    "start_time": "2023-03-07T10:42:53.348Z"
   },
   {
    "duration": 2,
    "start_time": "2023-03-07T10:42:54.410Z"
   },
   {
    "duration": 19,
    "start_time": "2023-03-07T10:42:54.413Z"
   },
   {
    "duration": 114,
    "start_time": "2023-03-07T10:42:54.433Z"
   },
   {
    "duration": 145,
    "start_time": "2023-03-07T10:42:54.549Z"
   },
   {
    "duration": 96,
    "start_time": "2023-03-07T10:42:54.696Z"
   },
   {
    "duration": 126,
    "start_time": "2023-03-07T10:42:54.794Z"
   },
   {
    "duration": 84,
    "start_time": "2023-03-07T10:42:54.922Z"
   },
   {
    "duration": 7,
    "start_time": "2023-03-07T10:42:55.008Z"
   },
   {
    "duration": 16,
    "start_time": "2023-03-07T10:42:55.017Z"
   },
   {
    "duration": 68,
    "start_time": "2023-03-07T10:42:55.035Z"
   },
   {
    "duration": 198,
    "start_time": "2023-03-07T10:42:55.105Z"
   },
   {
    "duration": 198,
    "start_time": "2023-03-07T10:42:55.304Z"
   },
   {
    "duration": 78,
    "start_time": "2023-03-07T10:42:55.503Z"
   },
   {
    "duration": 14,
    "start_time": "2023-03-07T10:42:55.583Z"
   },
   {
    "duration": 193,
    "start_time": "2023-03-07T10:42:55.598Z"
   },
   {
    "duration": 3,
    "start_time": "2023-03-07T10:42:55.794Z"
   },
   {
    "duration": 3741,
    "start_time": "2023-03-07T10:42:55.799Z"
   },
   {
    "duration": 197,
    "start_time": "2023-03-07T10:42:59.542Z"
   },
   {
    "duration": 154,
    "start_time": "2023-03-07T10:42:59.741Z"
   },
   {
    "duration": 37,
    "start_time": "2023-03-07T10:42:59.897Z"
   },
   {
    "duration": 131,
    "start_time": "2023-03-07T10:42:59.936Z"
   },
   {
    "duration": 111,
    "start_time": "2023-03-07T10:43:00.068Z"
   },
   {
    "duration": 11,
    "start_time": "2023-03-07T10:43:00.181Z"
   },
   {
    "duration": 37,
    "start_time": "2023-03-07T10:43:00.195Z"
   },
   {
    "duration": 21,
    "start_time": "2023-03-07T10:43:00.235Z"
   },
   {
    "duration": 38,
    "start_time": "2023-03-07T10:43:00.257Z"
   },
   {
    "duration": 133,
    "start_time": "2023-03-07T10:43:00.297Z"
   },
   {
    "duration": 97,
    "start_time": "2023-03-07T10:43:00.431Z"
   },
   {
    "duration": 18,
    "start_time": "2023-03-07T10:43:00.529Z"
   },
   {
    "duration": 94,
    "start_time": "2023-03-07T10:43:00.548Z"
   },
   {
    "duration": 29,
    "start_time": "2023-03-07T10:43:00.643Z"
   },
   {
    "duration": 31,
    "start_time": "2023-03-07T10:43:00.673Z"
   },
   {
    "duration": 71,
    "start_time": "2023-03-07T10:43:00.706Z"
   },
   {
    "duration": 705,
    "start_time": "2023-03-07T10:43:00.780Z"
   },
   {
    "duration": 3669,
    "start_time": "2023-03-07T10:43:01.492Z"
   },
   {
    "duration": 441,
    "start_time": "2023-03-07T10:43:05.163Z"
   },
   {
    "duration": 25,
    "start_time": "2023-03-07T10:43:05.605Z"
   },
   {
    "duration": 2,
    "start_time": "2023-03-07T10:43:05.631Z"
   },
   {
    "duration": 1341,
    "start_time": "2023-03-07T10:44:42.926Z"
   },
   {
    "duration": 2,
    "start_time": "2023-03-07T10:44:44.269Z"
   },
   {
    "duration": 768,
    "start_time": "2023-03-07T10:44:44.272Z"
   },
   {
    "duration": 2,
    "start_time": "2023-03-07T10:44:45.042Z"
   },
   {
    "duration": 32,
    "start_time": "2023-03-07T10:44:45.045Z"
   },
   {
    "duration": 117,
    "start_time": "2023-03-07T10:44:45.079Z"
   },
   {
    "duration": 167,
    "start_time": "2023-03-07T10:44:45.198Z"
   },
   {
    "duration": 132,
    "start_time": "2023-03-07T10:44:45.366Z"
   },
   {
    "duration": 128,
    "start_time": "2023-03-07T10:44:45.500Z"
   },
   {
    "duration": 132,
    "start_time": "2023-03-07T10:44:45.681Z"
   },
   {
    "duration": 7,
    "start_time": "2023-03-07T10:44:45.815Z"
   },
   {
    "duration": 68,
    "start_time": "2023-03-07T10:44:45.823Z"
   },
   {
    "duration": 94,
    "start_time": "2023-03-07T10:44:45.892Z"
   },
   {
    "duration": 437,
    "start_time": "2023-03-07T10:44:45.989Z"
   },
   {
    "duration": 398,
    "start_time": "2023-03-07T10:44:46.427Z"
   },
   {
    "duration": 127,
    "start_time": "2023-03-07T10:44:46.879Z"
   },
   {
    "duration": 2,
    "start_time": "2023-03-07T10:44:47.008Z"
   },
   {
    "duration": 511,
    "start_time": "2023-03-07T10:44:47.012Z"
   },
   {
    "duration": 4,
    "start_time": "2023-03-07T10:44:47.524Z"
   },
   {
    "duration": 3965,
    "start_time": "2023-03-07T10:44:47.529Z"
   },
   {
    "duration": 190,
    "start_time": "2023-03-07T10:44:51.496Z"
   },
   {
    "duration": 161,
    "start_time": "2023-03-07T10:44:51.688Z"
   },
   {
    "duration": 49,
    "start_time": "2023-03-07T10:44:51.851Z"
   },
   {
    "duration": 121,
    "start_time": "2023-03-07T10:44:51.902Z"
   },
   {
    "duration": 110,
    "start_time": "2023-03-07T10:44:52.024Z"
   },
   {
    "duration": 9,
    "start_time": "2023-03-07T10:44:52.136Z"
   },
   {
    "duration": 15,
    "start_time": "2023-03-07T10:44:52.147Z"
   },
   {
    "duration": 4,
    "start_time": "2023-03-07T10:44:52.180Z"
   },
   {
    "duration": 13,
    "start_time": "2023-03-07T10:44:52.186Z"
   },
   {
    "duration": 122,
    "start_time": "2023-03-07T10:44:52.200Z"
   },
   {
    "duration": 94,
    "start_time": "2023-03-07T10:44:52.323Z"
   },
   {
    "duration": 15,
    "start_time": "2023-03-07T10:44:52.419Z"
   },
   {
    "duration": 64,
    "start_time": "2023-03-07T10:44:52.435Z"
   },
   {
    "duration": 25,
    "start_time": "2023-03-07T10:44:52.500Z"
   },
   {
    "duration": 5,
    "start_time": "2023-03-07T10:44:52.526Z"
   },
   {
    "duration": 58,
    "start_time": "2023-03-07T10:44:52.533Z"
   },
   {
    "duration": 558,
    "start_time": "2023-03-07T10:44:52.592Z"
   },
   {
    "duration": 2090,
    "start_time": "2023-03-07T10:44:53.152Z"
   },
   {
    "duration": 425,
    "start_time": "2023-03-07T10:44:55.244Z"
   },
   {
    "duration": 30,
    "start_time": "2023-03-07T10:44:55.670Z"
   },
   {
    "duration": 2,
    "start_time": "2023-03-07T10:44:55.701Z"
   },
   {
    "duration": 13,
    "start_time": "2023-03-07T10:44:55.705Z"
   },
   {
    "duration": 17,
    "start_time": "2023-03-07T10:44:55.720Z"
   },
   {
    "duration": 194,
    "start_time": "2023-03-07T10:44:55.739Z"
   },
   {
    "duration": 1592,
    "start_time": "2023-03-07T15:35:30.174Z"
   },
   {
    "duration": 2,
    "start_time": "2023-03-07T15:35:31.768Z"
   },
   {
    "duration": 3423,
    "start_time": "2023-03-07T15:35:31.772Z"
   },
   {
    "duration": 2,
    "start_time": "2023-03-07T15:35:35.197Z"
   },
   {
    "duration": 35,
    "start_time": "2023-03-07T15:35:35.201Z"
   },
   {
    "duration": 122,
    "start_time": "2023-03-07T15:35:35.238Z"
   },
   {
    "duration": 136,
    "start_time": "2023-03-07T15:35:35.361Z"
   },
   {
    "duration": 94,
    "start_time": "2023-03-07T15:35:35.499Z"
   },
   {
    "duration": 104,
    "start_time": "2023-03-07T15:35:35.594Z"
   },
   {
    "duration": 74,
    "start_time": "2023-03-07T15:35:35.699Z"
   },
   {
    "duration": 7,
    "start_time": "2023-03-07T15:35:35.774Z"
   },
   {
    "duration": 32,
    "start_time": "2023-03-07T15:35:35.783Z"
   },
   {
    "duration": 41,
    "start_time": "2023-03-07T15:35:35.817Z"
   },
   {
    "duration": 192,
    "start_time": "2023-03-07T15:35:35.861Z"
   },
   {
    "duration": 178,
    "start_time": "2023-03-07T15:35:36.055Z"
   },
   {
    "duration": 76,
    "start_time": "2023-03-07T15:35:36.234Z"
   },
   {
    "duration": 3,
    "start_time": "2023-03-07T15:35:36.312Z"
   },
   {
    "duration": 179,
    "start_time": "2023-03-07T15:35:36.316Z"
   },
   {
    "duration": 3,
    "start_time": "2023-03-07T15:35:36.497Z"
   },
   {
    "duration": 4160,
    "start_time": "2023-03-07T15:35:36.502Z"
   },
   {
    "duration": 170,
    "start_time": "2023-03-07T15:35:40.663Z"
   },
   {
    "duration": 179,
    "start_time": "2023-03-07T15:35:40.834Z"
   },
   {
    "duration": 49,
    "start_time": "2023-03-07T15:35:41.016Z"
   },
   {
    "duration": 174,
    "start_time": "2023-03-07T15:35:41.069Z"
   },
   {
    "duration": 133,
    "start_time": "2023-03-07T15:35:41.245Z"
   },
   {
    "duration": 12,
    "start_time": "2023-03-07T15:35:41.380Z"
   },
   {
    "duration": 16,
    "start_time": "2023-03-07T15:35:41.394Z"
   },
   {
    "duration": 6,
    "start_time": "2023-03-07T15:35:41.412Z"
   },
   {
    "duration": 26,
    "start_time": "2023-03-07T15:35:41.420Z"
   },
   {
    "duration": 143,
    "start_time": "2023-03-07T15:35:41.458Z"
   },
   {
    "duration": 115,
    "start_time": "2023-03-07T15:35:41.602Z"
   },
   {
    "duration": 14,
    "start_time": "2023-03-07T15:35:41.719Z"
   },
   {
    "duration": 63,
    "start_time": "2023-03-07T15:35:41.735Z"
   },
   {
    "duration": 47,
    "start_time": "2023-03-07T15:35:41.800Z"
   },
   {
    "duration": 16,
    "start_time": "2023-03-07T15:35:41.852Z"
   },
   {
    "duration": 50,
    "start_time": "2023-03-07T15:35:41.870Z"
   },
   {
    "duration": 581,
    "start_time": "2023-03-07T15:35:41.922Z"
   },
   {
    "duration": 2894,
    "start_time": "2023-03-07T15:35:42.505Z"
   },
   {
    "duration": 419,
    "start_time": "2023-03-07T15:35:45.400Z"
   },
   {
    "duration": 40,
    "start_time": "2023-03-07T15:35:45.820Z"
   },
   {
    "duration": 2,
    "start_time": "2023-03-07T15:35:45.864Z"
   },
   {
    "duration": 1746,
    "start_time": "2023-03-07T15:36:17.119Z"
   },
   {
    "duration": 3,
    "start_time": "2023-03-07T15:36:18.867Z"
   },
   {
    "duration": 1465,
    "start_time": "2023-03-07T15:36:18.872Z"
   },
   {
    "duration": 4,
    "start_time": "2023-03-07T15:36:20.339Z"
   },
   {
    "duration": 25,
    "start_time": "2023-03-07T15:36:20.349Z"
   },
   {
    "duration": 117,
    "start_time": "2023-03-07T15:36:20.375Z"
   },
   {
    "duration": 137,
    "start_time": "2023-03-07T15:36:20.493Z"
   },
   {
    "duration": 102,
    "start_time": "2023-03-07T15:36:20.631Z"
   },
   {
    "duration": 97,
    "start_time": "2023-03-07T15:36:20.734Z"
   },
   {
    "duration": 68,
    "start_time": "2023-03-07T15:36:20.840Z"
   },
   {
    "duration": 8,
    "start_time": "2023-03-07T15:36:20.911Z"
   },
   {
    "duration": 44,
    "start_time": "2023-03-07T15:36:20.921Z"
   },
   {
    "duration": 37,
    "start_time": "2023-03-07T15:36:20.966Z"
   },
   {
    "duration": 209,
    "start_time": "2023-03-07T15:36:21.004Z"
   },
   {
    "duration": 213,
    "start_time": "2023-03-07T15:36:21.214Z"
   },
   {
    "duration": 81,
    "start_time": "2023-03-07T15:36:21.428Z"
   },
   {
    "duration": 3,
    "start_time": "2023-03-07T15:36:21.510Z"
   },
   {
    "duration": 188,
    "start_time": "2023-03-07T15:36:21.515Z"
   },
   {
    "duration": 3,
    "start_time": "2023-03-07T15:36:21.704Z"
   },
   {
    "duration": 4301,
    "start_time": "2023-03-07T15:36:21.708Z"
   },
   {
    "duration": 184,
    "start_time": "2023-03-07T15:36:26.011Z"
   },
   {
    "duration": 160,
    "start_time": "2023-03-07T15:36:26.197Z"
   },
   {
    "duration": 33,
    "start_time": "2023-03-07T15:36:26.358Z"
   },
   {
    "duration": 121,
    "start_time": "2023-03-07T15:36:26.392Z"
   },
   {
    "duration": 143,
    "start_time": "2023-03-07T15:36:26.514Z"
   },
   {
    "duration": 10,
    "start_time": "2023-03-07T15:36:26.659Z"
   },
   {
    "duration": 7,
    "start_time": "2023-03-07T15:36:26.670Z"
   },
   {
    "duration": 4,
    "start_time": "2023-03-07T15:36:26.680Z"
   },
   {
    "duration": 6,
    "start_time": "2023-03-07T15:36:26.686Z"
   },
   {
    "duration": 164,
    "start_time": "2023-03-07T15:36:26.694Z"
   },
   {
    "duration": 124,
    "start_time": "2023-03-07T15:36:26.860Z"
   },
   {
    "duration": 14,
    "start_time": "2023-03-07T15:36:26.986Z"
   },
   {
    "duration": 76,
    "start_time": "2023-03-07T15:36:27.001Z"
   },
   {
    "duration": 25,
    "start_time": "2023-03-07T15:36:27.078Z"
   },
   {
    "duration": 10,
    "start_time": "2023-03-07T15:36:27.104Z"
   },
   {
    "duration": 63,
    "start_time": "2023-03-07T15:36:27.115Z"
   },
   {
    "duration": 488,
    "start_time": "2023-03-07T15:36:27.180Z"
   },
   {
    "duration": 3592,
    "start_time": "2023-03-07T15:36:27.670Z"
   },
   {
    "duration": 436,
    "start_time": "2023-03-07T15:36:31.264Z"
   },
   {
    "duration": 41,
    "start_time": "2023-03-07T15:36:31.703Z"
   },
   {
    "duration": 15,
    "start_time": "2023-03-07T15:36:31.752Z"
   },
   {
    "duration": 643633,
    "start_time": "2023-03-07T15:36:31.769Z"
   },
   {
    "duration": 44406,
    "start_time": "2023-03-07T15:47:15.404Z"
   },
   {
    "duration": 173,
    "start_time": "2023-03-07T15:47:59.811Z"
   },
   {
    "duration": 2631559,
    "start_time": "2023-03-07T15:47:59.986Z"
   },
   {
    "duration": 139,
    "start_time": "2023-03-07T16:31:51.547Z"
   },
   {
    "duration": 0,
    "start_time": "2023-03-07T16:31:51.687Z"
   },
   {
    "duration": 0,
    "start_time": "2023-03-07T16:31:51.689Z"
   },
   {
    "duration": 0,
    "start_time": "2023-03-07T16:31:51.690Z"
   },
   {
    "duration": 0,
    "start_time": "2023-03-07T16:31:51.691Z"
   },
   {
    "duration": 83133,
    "start_time": "2023-03-07T16:40:51.924Z"
   },
   {
    "duration": 143448,
    "start_time": "2023-03-07T16:42:37.001Z"
   },
   {
    "duration": 32655,
    "start_time": "2023-03-07T16:47:03.897Z"
   },
   {
    "duration": 11,
    "start_time": "2023-03-07T16:47:42.899Z"
   },
   {
    "duration": 762,
    "start_time": "2023-03-07T16:50:12.351Z"
   },
   {
    "duration": 798,
    "start_time": "2023-03-07T16:50:22.996Z"
   },
   {
    "duration": 764,
    "start_time": "2023-03-07T16:50:43.306Z"
   },
   {
    "duration": 40781,
    "start_time": "2023-03-07T16:52:38.798Z"
   },
   {
    "duration": 11,
    "start_time": "2023-03-07T16:53:48.657Z"
   },
   {
    "duration": 741,
    "start_time": "2023-03-07T16:53:52.832Z"
   },
   {
    "duration": 12,
    "start_time": "2023-03-07T16:54:55.025Z"
   },
   {
    "duration": 14,
    "start_time": "2023-03-07T16:55:16.681Z"
   },
   {
    "duration": 15,
    "start_time": "2023-03-07T16:56:32.321Z"
   },
   {
    "duration": 474,
    "start_time": "2023-03-07T16:57:08.179Z"
   },
   {
    "duration": 131,
    "start_time": "2023-03-07T17:12:24.498Z"
   },
   {
    "duration": 136,
    "start_time": "2023-03-07T17:13:06.217Z"
   },
   {
    "duration": 1190,
    "start_time": "2023-03-08T12:09:19.512Z"
   },
   {
    "duration": 2,
    "start_time": "2023-03-08T12:09:20.704Z"
   },
   {
    "duration": 709,
    "start_time": "2023-03-08T12:09:20.707Z"
   },
   {
    "duration": 3,
    "start_time": "2023-03-08T12:09:21.417Z"
   },
   {
    "duration": 23,
    "start_time": "2023-03-08T12:09:21.421Z"
   },
   {
    "duration": 123,
    "start_time": "2023-03-08T12:09:21.445Z"
   },
   {
    "duration": 125,
    "start_time": "2023-03-08T12:09:21.570Z"
   },
   {
    "duration": 79,
    "start_time": "2023-03-08T12:09:21.696Z"
   },
   {
    "duration": 100,
    "start_time": "2023-03-08T12:09:21.776Z"
   },
   {
    "duration": 73,
    "start_time": "2023-03-08T12:09:21.879Z"
   },
   {
    "duration": 7,
    "start_time": "2023-03-08T12:09:21.953Z"
   },
   {
    "duration": 19,
    "start_time": "2023-03-08T12:09:21.962Z"
   },
   {
    "duration": 50,
    "start_time": "2023-03-08T12:09:21.983Z"
   },
   {
    "duration": 193,
    "start_time": "2023-03-08T12:09:22.034Z"
   },
   {
    "duration": 190,
    "start_time": "2023-03-08T12:09:22.228Z"
   },
   {
    "duration": 89,
    "start_time": "2023-03-08T12:09:22.419Z"
   },
   {
    "duration": 3,
    "start_time": "2023-03-08T12:09:22.510Z"
   },
   {
    "duration": 190,
    "start_time": "2023-03-08T12:09:22.514Z"
   },
   {
    "duration": 3,
    "start_time": "2023-03-08T12:09:22.706Z"
   },
   {
    "duration": 3995,
    "start_time": "2023-03-08T12:09:22.710Z"
   },
   {
    "duration": 82,
    "start_time": "2023-03-08T12:09:26.707Z"
   },
   {
    "duration": 142,
    "start_time": "2023-03-08T12:09:26.791Z"
   },
   {
    "duration": 30,
    "start_time": "2023-03-08T12:09:26.934Z"
   },
   {
    "duration": 118,
    "start_time": "2023-03-08T12:09:26.966Z"
   },
   {
    "duration": 190,
    "start_time": "2023-03-08T12:09:27.085Z"
   },
   {
    "duration": 9,
    "start_time": "2023-03-08T12:09:27.276Z"
   },
   {
    "duration": 6,
    "start_time": "2023-03-08T12:09:27.286Z"
   },
   {
    "duration": 6,
    "start_time": "2023-03-08T12:09:27.295Z"
   },
   {
    "duration": 14,
    "start_time": "2023-03-08T12:09:27.302Z"
   },
   {
    "duration": 116,
    "start_time": "2023-03-08T12:09:27.317Z"
   },
   {
    "duration": 88,
    "start_time": "2023-03-08T12:09:27.434Z"
   },
   {
    "duration": 21,
    "start_time": "2023-03-08T12:09:27.523Z"
   },
   {
    "duration": 51,
    "start_time": "2023-03-08T12:09:27.546Z"
   },
   {
    "duration": 34,
    "start_time": "2023-03-08T12:09:27.599Z"
   },
   {
    "duration": 5,
    "start_time": "2023-03-08T12:09:27.634Z"
   },
   {
    "duration": 38,
    "start_time": "2023-03-08T12:09:27.640Z"
   },
   {
    "duration": 476,
    "start_time": "2023-03-08T12:09:27.680Z"
   },
   {
    "duration": 2993,
    "start_time": "2023-03-08T12:09:28.158Z"
   },
   {
    "duration": 609,
    "start_time": "2023-03-08T12:09:31.153Z"
   },
   {
    "duration": 81,
    "start_time": "2023-03-08T12:09:31.764Z"
   },
   {
    "duration": 3,
    "start_time": "2023-03-08T12:09:31.847Z"
   },
   {
    "duration": 617560,
    "start_time": "2023-03-08T12:09:31.851Z"
   },
   {
    "duration": 43927,
    "start_time": "2023-03-08T12:19:49.413Z"
   },
   {
    "duration": 170,
    "start_time": "2023-03-08T12:20:33.342Z"
   },
   {
    "duration": 127921,
    "start_time": "2023-03-08T12:20:33.514Z"
   },
   {
    "duration": 7607,
    "start_time": "2023-03-08T12:22:41.437Z"
   },
   {
    "duration": 113089,
    "start_time": "2023-03-08T12:22:49.046Z"
   },
   {
    "duration": 27694,
    "start_time": "2023-03-08T12:24:42.139Z"
   },
   {
    "duration": 11,
    "start_time": "2023-03-08T12:25:09.835Z"
   },
   {
    "duration": 842,
    "start_time": "2023-03-08T12:25:09.847Z"
   },
   {
    "duration": 2,
    "start_time": "2023-03-08T12:25:10.691Z"
   },
   {
    "duration": 140,
    "start_time": "2023-03-08T12:25:10.695Z"
   },
   {
    "duration": 3271,
    "start_time": "2023-03-08T12:37:20.007Z"
   },
   {
    "duration": 2145,
    "start_time": "2023-03-08T12:37:32.624Z"
   },
   {
    "duration": 2182,
    "start_time": "2023-03-08T12:38:45.307Z"
   },
   {
    "duration": 61,
    "start_time": "2023-03-08T12:44:48.509Z"
   },
   {
    "duration": 2124,
    "start_time": "2023-03-08T12:44:52.486Z"
   },
   {
    "duration": 2037,
    "start_time": "2023-03-08T12:45:41.696Z"
   },
   {
    "duration": 2086,
    "start_time": "2023-03-08T12:45:57.773Z"
   },
   {
    "duration": 2118,
    "start_time": "2023-03-08T12:46:11.995Z"
   },
   {
    "duration": 2334,
    "start_time": "2023-03-08T12:46:34.199Z"
   },
   {
    "duration": 2131,
    "start_time": "2023-03-08T12:48:42.863Z"
   },
   {
    "duration": 2175,
    "start_time": "2023-03-08T12:49:06.298Z"
   },
   {
    "duration": 2125,
    "start_time": "2023-03-08T12:49:31.468Z"
   },
   {
    "duration": 2297,
    "start_time": "2023-03-08T12:50:13.459Z"
   },
   {
    "duration": 66,
    "start_time": "2023-03-08T12:50:52.129Z"
   },
   {
    "duration": 68,
    "start_time": "2023-03-08T12:51:06.200Z"
   },
   {
    "duration": 63,
    "start_time": "2023-03-08T12:51:29.866Z"
   },
   {
    "duration": 2522,
    "start_time": "2023-03-08T12:52:38.151Z"
   },
   {
    "duration": 2554,
    "start_time": "2023-03-08T12:53:01.880Z"
   },
   {
    "duration": 2359,
    "start_time": "2023-03-08T12:53:17.768Z"
   },
   {
    "duration": 2650,
    "start_time": "2023-03-08T12:53:44.826Z"
   },
   {
    "duration": 2470,
    "start_time": "2023-03-08T12:54:14.010Z"
   },
   {
    "duration": 65,
    "start_time": "2023-03-08T12:55:49.659Z"
   },
   {
    "duration": 21,
    "start_time": "2023-03-08T12:55:56.471Z"
   },
   {
    "duration": 70,
    "start_time": "2023-03-08T12:56:07.942Z"
   },
   {
    "duration": 75,
    "start_time": "2023-03-08T12:56:39.101Z"
   },
   {
    "duration": 84,
    "start_time": "2023-03-08T12:57:17.905Z"
   },
   {
    "duration": 82,
    "start_time": "2023-03-08T12:57:24.120Z"
   },
   {
    "duration": 64,
    "start_time": "2023-03-08T13:09:58.519Z"
   },
   {
    "duration": 62,
    "start_time": "2023-03-08T13:10:03.278Z"
   },
   {
    "duration": 65,
    "start_time": "2023-03-08T13:11:06.729Z"
   },
   {
    "duration": 1750,
    "start_time": "2023-07-21T05:39:33.701Z"
   },
   {
    "duration": 2,
    "start_time": "2023-07-21T05:39:35.453Z"
   },
   {
    "duration": 1001,
    "start_time": "2023-07-21T05:39:35.457Z"
   },
   {
    "duration": 1,
    "start_time": "2023-07-21T05:39:36.460Z"
   },
   {
    "duration": 37,
    "start_time": "2023-07-21T05:39:36.463Z"
   },
   {
    "duration": 110,
    "start_time": "2023-07-21T05:39:36.501Z"
   },
   {
    "duration": 118,
    "start_time": "2023-07-21T05:39:36.612Z"
   },
   {
    "duration": 85,
    "start_time": "2023-07-21T05:39:36.732Z"
   },
   {
    "duration": 82,
    "start_time": "2023-07-21T05:39:36.818Z"
   },
   {
    "duration": 99,
    "start_time": "2023-07-21T05:39:36.902Z"
   },
   {
    "duration": 61,
    "start_time": "2023-07-21T05:39:37.003Z"
   },
   {
    "duration": 6,
    "start_time": "2023-07-21T05:39:37.066Z"
   },
   {
    "duration": 32,
    "start_time": "2023-07-21T05:39:37.074Z"
   },
   {
    "duration": 33,
    "start_time": "2023-07-21T05:39:37.108Z"
   },
   {
    "duration": 177,
    "start_time": "2023-07-21T05:39:37.143Z"
   },
   {
    "duration": 179,
    "start_time": "2023-07-21T05:39:37.322Z"
   },
   {
    "duration": 75,
    "start_time": "2023-07-21T05:39:37.503Z"
   },
   {
    "duration": 2,
    "start_time": "2023-07-21T05:39:37.580Z"
   },
   {
    "duration": 167,
    "start_time": "2023-07-21T05:39:37.599Z"
   },
   {
    "duration": 3,
    "start_time": "2023-07-21T05:39:37.768Z"
   },
   {
    "duration": 3409,
    "start_time": "2023-07-21T05:39:37.773Z"
   },
   {
    "duration": 170,
    "start_time": "2023-07-21T05:39:41.184Z"
   },
   {
    "duration": 138,
    "start_time": "2023-07-21T05:39:41.355Z"
   },
   {
    "duration": 34,
    "start_time": "2023-07-21T05:39:41.495Z"
   },
   {
    "duration": 110,
    "start_time": "2023-07-21T05:39:41.531Z"
   },
   {
    "duration": 97,
    "start_time": "2023-07-21T05:39:41.642Z"
   },
   {
    "duration": 8,
    "start_time": "2023-07-21T05:39:41.741Z"
   },
   {
    "duration": 17,
    "start_time": "2023-07-21T05:39:41.752Z"
   },
   {
    "duration": 10,
    "start_time": "2023-07-21T05:39:41.771Z"
   },
   {
    "duration": 4,
    "start_time": "2023-07-21T05:39:41.783Z"
   },
   {
    "duration": 115,
    "start_time": "2023-07-21T05:39:41.789Z"
   },
   {
    "duration": 80,
    "start_time": "2023-07-21T05:39:41.906Z"
   },
   {
    "duration": 14,
    "start_time": "2023-07-21T05:39:41.999Z"
   },
   {
    "duration": 58,
    "start_time": "2023-07-21T05:39:42.015Z"
   },
   {
    "duration": 34,
    "start_time": "2023-07-21T05:39:42.074Z"
   },
   {
    "duration": 21,
    "start_time": "2023-07-21T05:39:42.110Z"
   },
   {
    "duration": 56,
    "start_time": "2023-07-21T05:39:42.133Z"
   },
   {
    "duration": 456,
    "start_time": "2023-07-21T05:39:42.190Z"
   },
   {
    "duration": 2260,
    "start_time": "2023-07-21T05:39:42.648Z"
   },
   {
    "duration": 380,
    "start_time": "2023-07-21T05:39:44.910Z"
   },
   {
    "duration": 27,
    "start_time": "2023-07-21T05:39:45.291Z"
   },
   {
    "duration": 3,
    "start_time": "2023-07-21T05:39:45.320Z"
   },
   {
    "duration": 653312,
    "start_time": "2023-07-21T05:39:45.325Z"
   },
   {
    "duration": 45166,
    "start_time": "2023-07-21T05:50:38.639Z"
   },
   {
    "duration": 187,
    "start_time": "2023-07-21T05:51:23.807Z"
   },
   {
    "duration": 196212,
    "start_time": "2023-07-21T05:51:23.995Z"
   },
   {
    "duration": 9803,
    "start_time": "2023-07-21T05:54:40.299Z"
   },
   {
    "duration": 72503,
    "start_time": "2023-07-21T05:54:50.104Z"
   },
   {
    "duration": 16193,
    "start_time": "2023-07-21T05:56:02.608Z"
   },
   {
    "duration": 11,
    "start_time": "2023-07-21T05:56:18.803Z"
   },
   {
    "duration": 762,
    "start_time": "2023-07-21T05:56:18.815Z"
   },
   {
    "duration": 2,
    "start_time": "2023-07-21T05:56:19.578Z"
   },
   {
    "duration": 116,
    "start_time": "2023-07-21T05:56:19.581Z"
   },
   {
    "duration": 3885,
    "start_time": "2023-07-21T06:51:53.893Z"
   },
   {
    "duration": 3546,
    "start_time": "2023-07-21T06:52:07.328Z"
   },
   {
    "duration": 78,
    "start_time": "2023-07-21T06:53:55.920Z"
   },
   {
    "duration": 68,
    "start_time": "2023-07-21T06:54:06.237Z"
   },
   {
    "duration": 61,
    "start_time": "2023-07-21T06:54:18.572Z"
   },
   {
    "duration": 78,
    "start_time": "2023-07-21T06:54:25.913Z"
   },
   {
    "duration": 3474,
    "start_time": "2023-07-21T06:55:38.411Z"
   },
   {
    "duration": 122,
    "start_time": "2023-07-21T06:57:17.455Z"
   },
   {
    "duration": 8,
    "start_time": "2023-07-21T06:57:37.767Z"
   },
   {
    "duration": 271,
    "start_time": "2023-07-21T06:57:56.810Z"
   },
   {
    "duration": 3066,
    "start_time": "2023-07-21T06:58:20.089Z"
   },
   {
    "duration": 587,
    "start_time": "2023-07-21T06:58:37.024Z"
   },
   {
    "duration": 1110,
    "start_time": "2023-07-21T06:58:42.693Z"
   },
   {
    "duration": 3129,
    "start_time": "2023-07-21T06:58:52.131Z"
   },
   {
    "duration": 610,
    "start_time": "2023-07-21T06:58:55.912Z"
   },
   {
    "duration": 463,
    "start_time": "2023-07-21T06:59:06.032Z"
   },
   {
    "duration": 326,
    "start_time": "2023-07-21T06:59:13.215Z"
   },
   {
    "duration": 607,
    "start_time": "2023-07-21T06:59:20.249Z"
   },
   {
    "duration": 281,
    "start_time": "2023-07-21T06:59:30.933Z"
   },
   {
    "duration": 278,
    "start_time": "2023-07-21T06:59:38.696Z"
   },
   {
    "duration": 464,
    "start_time": "2023-07-21T07:00:23.275Z"
   },
   {
    "duration": 3,
    "start_time": "2023-07-21T07:03:33.961Z"
   },
   {
    "duration": 134,
    "start_time": "2023-07-21T07:03:54.546Z"
   },
   {
    "duration": 3,
    "start_time": "2023-07-21T07:04:04.241Z"
   },
   {
    "duration": 118,
    "start_time": "2023-07-21T07:04:05.537Z"
   },
   {
    "duration": 3,
    "start_time": "2023-07-21T07:04:13.391Z"
   },
   {
    "duration": 2649,
    "start_time": "2023-07-21T07:04:14.876Z"
   },
   {
    "duration": 3,
    "start_time": "2023-07-21T07:04:39.196Z"
   },
   {
    "duration": 2517,
    "start_time": "2023-07-21T07:04:39.715Z"
   },
   {
    "duration": 2906,
    "start_time": "2023-07-21T07:04:46.386Z"
   },
   {
    "duration": 2635,
    "start_time": "2023-07-21T07:05:17.294Z"
   },
   {
    "duration": 2,
    "start_time": "2023-07-21T07:05:20.804Z"
   },
   {
    "duration": 3153,
    "start_time": "2023-07-21T07:05:21.389Z"
   },
   {
    "duration": 2611,
    "start_time": "2023-07-21T07:05:36.488Z"
   },
   {
    "duration": 2726,
    "start_time": "2023-07-21T07:05:44.548Z"
   },
   {
    "duration": 3089,
    "start_time": "2023-07-21T07:05:55.404Z"
   },
   {
    "duration": 2615,
    "start_time": "2023-07-21T07:06:38.194Z"
   },
   {
    "duration": 2511,
    "start_time": "2023-07-21T07:06:58.893Z"
   },
   {
    "duration": 2814,
    "start_time": "2023-07-21T07:07:10.834Z"
   },
   {
    "duration": 120,
    "start_time": "2023-07-21T07:07:21.271Z"
   },
   {
    "duration": 114,
    "start_time": "2023-07-21T07:07:28.536Z"
   },
   {
    "duration": 1700,
    "start_time": "2023-07-21T07:07:39.576Z"
   },
   {
    "duration": 1817,
    "start_time": "2023-07-21T07:07:58.241Z"
   },
   {
    "duration": 1640,
    "start_time": "2023-07-21T07:08:13.026Z"
   },
   {
    "duration": 116,
    "start_time": "2023-07-21T07:11:02.652Z"
   },
   {
    "duration": 114,
    "start_time": "2023-07-21T07:11:32.787Z"
   },
   {
    "duration": 91,
    "start_time": "2023-07-21T07:11:45.526Z"
   },
   {
    "duration": 96,
    "start_time": "2023-07-21T07:11:55.140Z"
   },
   {
    "duration": 2135,
    "start_time": "2023-07-21T07:13:23.739Z"
   },
   {
    "duration": 1654,
    "start_time": "2023-07-21T07:13:32.556Z"
   },
   {
    "duration": 1729,
    "start_time": "2023-07-21T07:13:40.955Z"
   },
   {
    "duration": 1769,
    "start_time": "2023-07-21T07:13:50.696Z"
   },
   {
    "duration": 2218,
    "start_time": "2023-07-21T07:13:58.581Z"
   },
   {
    "duration": 2256,
    "start_time": "2023-07-21T07:14:20.678Z"
   },
   {
    "duration": 1904,
    "start_time": "2023-07-21T07:14:29.358Z"
   },
   {
    "duration": 4,
    "start_time": "2023-07-21T07:20:10.859Z"
   },
   {
    "duration": 1808,
    "start_time": "2023-07-21T07:20:12.185Z"
   },
   {
    "duration": 4,
    "start_time": "2023-07-21T07:22:39.353Z"
   },
   {
    "duration": 2168,
    "start_time": "2023-07-21T07:22:40.548Z"
   },
   {
    "duration": 2596,
    "start_time": "2023-07-21T07:23:17.090Z"
   },
   {
    "duration": 2634,
    "start_time": "2023-07-21T07:24:45.942Z"
   },
   {
    "duration": 2609,
    "start_time": "2023-07-21T07:26:08.498Z"
   },
   {
    "duration": 139,
    "start_time": "2023-07-21T07:42:17.997Z"
   },
   {
    "duration": 801,
    "start_time": "2023-07-21T07:42:28.838Z"
   },
   {
    "duration": 537,
    "start_time": "2023-07-21T07:42:54.605Z"
   },
   {
    "duration": 1021,
    "start_time": "2023-07-21T07:43:31.949Z"
   },
   {
    "duration": 765,
    "start_time": "2023-07-21T07:44:24.960Z"
   },
   {
    "duration": 828,
    "start_time": "2023-07-21T07:44:33.946Z"
   },
   {
    "duration": 702,
    "start_time": "2023-07-21T07:44:43.287Z"
   },
   {
    "duration": 853,
    "start_time": "2023-07-21T07:45:36.439Z"
   },
   {
    "duration": 938,
    "start_time": "2023-07-21T07:46:00.530Z"
   },
   {
    "duration": 966,
    "start_time": "2023-07-21T08:11:16.152Z"
   },
   {
    "duration": 192,
    "start_time": "2023-07-21T08:11:35.619Z"
   },
   {
    "duration": 933,
    "start_time": "2023-07-21T08:11:49.467Z"
   },
   {
    "duration": 984,
    "start_time": "2023-07-21T08:12:22.299Z"
   },
   {
    "duration": 1306,
    "start_time": "2023-07-21T08:13:11.812Z"
   },
   {
    "duration": 967,
    "start_time": "2023-07-21T08:13:29.792Z"
   },
   {
    "duration": 15,
    "start_time": "2023-07-21T08:24:01.887Z"
   },
   {
    "duration": 14,
    "start_time": "2023-07-21T08:25:50.575Z"
   },
   {
    "duration": 14,
    "start_time": "2023-07-21T08:26:35.347Z"
   },
   {
    "duration": 15,
    "start_time": "2023-07-21T08:27:12.274Z"
   },
   {
    "duration": 17,
    "start_time": "2023-07-21T08:28:15.103Z"
   },
   {
    "duration": 307315,
    "start_time": "2023-07-21T08:40:39.888Z"
   },
   {
    "duration": 620,
    "start_time": "2023-07-21T08:51:17.789Z"
   },
   {
    "duration": 604,
    "start_time": "2023-07-21T08:52:16.711Z"
   }
  ],
  "kernelspec": {
   "display_name": "Python 3 (ipykernel)",
   "language": "python",
   "name": "python3"
  },
  "language_info": {
   "codemirror_mode": {
    "name": "ipython",
    "version": 3
   },
   "file_extension": ".py",
   "mimetype": "text/x-python",
   "name": "python",
   "nbconvert_exporter": "python",
   "pygments_lexer": "ipython3",
   "version": "3.9.5"
  },
  "toc": {
   "base_numbering": 1,
   "nav_menu": {},
   "number_sections": true,
   "sideBar": true,
   "skip_h1_title": true,
   "title_cell": "Содержание",
   "title_sidebar": "Contents",
   "toc_cell": true,
   "toc_position": {
    "height": "calc(100% - 180px)",
    "left": "10px",
    "top": "150px",
    "width": "278.75px"
   },
   "toc_section_display": true,
   "toc_window_display": true
  }
 },
 "nbformat": 4,
 "nbformat_minor": 2
}
