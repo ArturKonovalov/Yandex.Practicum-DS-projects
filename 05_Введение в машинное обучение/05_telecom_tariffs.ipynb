{
 "cells": [
  {
   "cell_type": "markdown",
   "metadata": {
    "toc": true
   },
   "source": [
    "<h1>Содержание<span class=\"tocSkip\"></span></h1>\n",
    "<div class=\"toc\"><ul class=\"toc-item\"><li><span><a href=\"#Изучение-данных.\" data-toc-modified-id=\"Изучение-данных.-1\"><span class=\"toc-item-num\">1&nbsp;&nbsp;</span>Изучение данных.</a></span><ul class=\"toc-item\"><li><span><a href=\"#Вывод-блока:\" data-toc-modified-id=\"Вывод-блока:-1.1\"><span class=\"toc-item-num\">1.1&nbsp;&nbsp;</span><strong>Вывод блока:</strong></a></span></li></ul></li><li><span><a href=\"#Разделение-данных-на-выборки.\" data-toc-modified-id=\"Разделение-данных-на-выборки.-2\"><span class=\"toc-item-num\">2&nbsp;&nbsp;</span>Разделение данных на выборки.</a></span><ul class=\"toc-item\"><li><span><a href=\"#Вывод-блока:\" data-toc-modified-id=\"Вывод-блока:-2.1\"><span class=\"toc-item-num\">2.1&nbsp;&nbsp;</span><strong>Вывод блока:</strong></a></span></li></ul></li><li><span><a href=\"#Исследование-моделей.\" data-toc-modified-id=\"Исследование-моделей.-3\"><span class=\"toc-item-num\">3&nbsp;&nbsp;</span>Исследование моделей.</a></span><ul class=\"toc-item\"><li><span><a href=\"#Дерево-решений\" data-toc-modified-id=\"Дерево-решений-3.1\"><span class=\"toc-item-num\">3.1&nbsp;&nbsp;</span>Дерево решений</a></span><ul class=\"toc-item\"><li><span><a href=\"#Промежуточный-вывод:\" data-toc-modified-id=\"Промежуточный-вывод:-3.1.1\"><span class=\"toc-item-num\">3.1.1&nbsp;&nbsp;</span>Промежуточный вывод:</a></span></li></ul></li><li><span><a href=\"#Случайный-лес\" data-toc-modified-id=\"Случайный-лес-3.2\"><span class=\"toc-item-num\">3.2&nbsp;&nbsp;</span>Случайный лес</a></span><ul class=\"toc-item\"><li><span><a href=\"#Промежуточный-вывод:\" data-toc-modified-id=\"Промежуточный-вывод:-3.2.1\"><span class=\"toc-item-num\">3.2.1&nbsp;&nbsp;</span>Промежуточный вывод:</a></span></li></ul></li><li><span><a href=\"#Логистическая-регрессия\" data-toc-modified-id=\"Логистическая-регрессия-3.3\"><span class=\"toc-item-num\">3.3&nbsp;&nbsp;</span>Логистическая регрессия</a></span><ul class=\"toc-item\"><li><span><a href=\"#Промежуточный-вывод:\" data-toc-modified-id=\"Промежуточный-вывод:-3.3.1\"><span class=\"toc-item-num\">3.3.1&nbsp;&nbsp;</span>Промежуточный вывод:</a></span></li></ul></li><li><span><a href=\"#Вывод-блока-и-выбор-модели:\" data-toc-modified-id=\"Вывод-блока-и-выбор-модели:-3.4\"><span class=\"toc-item-num\">3.4&nbsp;&nbsp;</span><strong>Вывод блока и выбор модели:</strong></a></span></li></ul></li><li><span><a href=\"#Проверка-модели-на-тестовой-выборке.\" data-toc-modified-id=\"Проверка-модели-на-тестовой-выборке.-4\"><span class=\"toc-item-num\">4&nbsp;&nbsp;</span>Проверка модели на тестовой выборке.</a></span><ul class=\"toc-item\"><li><span><a href=\"#Вывод-блока:\" data-toc-modified-id=\"Вывод-блока:-4.1\"><span class=\"toc-item-num\">4.1&nbsp;&nbsp;</span><strong>Вывод блока:</strong></a></span></li></ul></li><li><span><a href=\"#Соответствует-ли-выбранная-модель-адекватности\\вменяемости?\" data-toc-modified-id=\"Соответствует-ли-выбранная-модель-адекватности\\вменяемости?-5\"><span class=\"toc-item-num\">5&nbsp;&nbsp;</span>Соответствует ли выбранная модель адекватности\\вменяемости?</a></span><ul class=\"toc-item\"><li><span><a href=\"#Вывод:\" data-toc-modified-id=\"Вывод:-5.1\"><span class=\"toc-item-num\">5.1&nbsp;&nbsp;</span>Вывод:</a></span></li></ul></li><li><span><a href=\"#Общий-вывод:\" data-toc-modified-id=\"Общий-вывод:-6\"><span class=\"toc-item-num\">6&nbsp;&nbsp;</span><strong>Общий вывод:</strong></a></span><ul class=\"toc-item\"><li><span><a href=\"#Изучение-данных\" data-toc-modified-id=\"Изучение-данных-6.1\"><span class=\"toc-item-num\">6.1&nbsp;&nbsp;</span><em>Изучение данных</em></a></span></li><li><span><a href=\"#Разделение-данных-на-выборки\" data-toc-modified-id=\"Разделение-данных-на-выборки-6.2\"><span class=\"toc-item-num\">6.2&nbsp;&nbsp;</span><em>Разделение данных на выборки</em></a></span></li><li><span><a href=\"#Исследование-моделей\" data-toc-modified-id=\"Исследование-моделей-6.3\"><span class=\"toc-item-num\">6.3&nbsp;&nbsp;</span><em>Исследование моделей</em></a></span></li><li><span><a href=\"#Проверка-модели-на-тестовой-выборке\" data-toc-modified-id=\"Проверка-модели-на-тестовой-выборке-6.4\"><span class=\"toc-item-num\">6.4&nbsp;&nbsp;</span><em>Проверка модели на тестовой выборке</em></a></span></li><li><span><a href=\"#Соответствует-ли-выбранная-модель-адекватности\\вменяемости?\" data-toc-modified-id=\"Соответствует-ли-выбранная-модель-адекватности\\вменяемости?-6.5\"><span class=\"toc-item-num\">6.5&nbsp;&nbsp;</span><em>Соответствует ли выбранная модель адекватности\\вменяемости?</em></a></span></li></ul></li></ul></div>"
   ]
  },
  {
   "cell_type": "markdown",
   "metadata": {},
   "source": [
    "___\n",
    "# Рекомендация тарифов"
   ]
  },
  {
   "cell_type": "markdown",
   "metadata": {},
   "source": [
    "**Описание данных и задачи:**\n",
    "\n",
    "В нашем распоряжении данные оператора мобильной связи «Мегалайн». \n",
    "В компании выяснили, что многие клиенты пользуются архивными тарифами, в связи с этим поставлена задача по построению системы, способной проанализировать поведение клиентов и предложить пользователям новый тариф: «Смарт» или «Ультра».\n",
    "В исходном датасете данные о поведении клиентов, которые уже перешли на эти тарифы.\n",
    "Предобработка данных произведена.\n",
    "\n",
    "**Цель исследования:** \n",
    "\n",
    "Построить модель для задачи классификации, которая выберет подходящий тариф с максимально большим значением *accuracy*, не менее 0.75. \n",
    "\n",
    "**Также рассмотрим дополнительный вопрос:**\n",
    "1.\tСоответствует ли выбранная модель адекватности\\вменяемости?\n",
    "\n",
    "**Ход исследования:**\n",
    "\n",
    "Первым делом откроем датасет и изучим основные аспекты.\n",
    "Так как \"новых\" данных предостовляться от заказчика не планируется, то разобьем информацию на три выборки:\n",
    "* `train` - обучающую. \n",
    "* `valid` - валидационную или проверочную. \n",
    "* `test` - тестовую (аналог новых данных).\n",
    "\n",
    "Исходя из задачи бинарной классификации рассмотрим три модели обучения:\n",
    "* Модель дерева решений.\n",
    "* Модель случайного леса.\n",
    "* Модель логистической регрессии.\n",
    "Выберем модель с наилучшим показанием метрики качества `accuracy`.\n",
    "Также подберем наилучшие гиперпараметры для выбранной модели. \n",
    "\n",
    "Далее проверим модель на тестовой выборке и посмотрим на ее поведение.\n",
    "\n",
    "**Таким образом, исследование пройдёт в 4 этапа:**\n",
    "1. Изучение данных.\n",
    "2. Разделение данных на выборки.\n",
    "3. Исследование моделей.\n",
    "4. Проверка модели на тестовой выборке"
   ]
  },
  {
   "cell_type": "markdown",
   "metadata": {},
   "source": [
    "___\n",
    "## Изучение данных."
   ]
  },
  {
   "cell_type": "markdown",
   "metadata": {},
   "source": [
    "*Импортируем все необходимые библиотеки:*"
   ]
  },
  {
   "cell_type": "code",
   "execution_count": 20,
   "metadata": {},
   "outputs": [],
   "source": [
    "import pandas as pd\n",
    "import numpy as np\n",
    "import matplotlib.pyplot as plt\n",
    "\n",
    "from sklearn.model_selection import train_test_split\n",
    "from sklearn.tree import DecisionTreeClassifier \n",
    "from sklearn.ensemble import RandomForestClassifier\n",
    "from sklearn.linear_model import LogisticRegression\n",
    "from sklearn.metrics import (accuracy_score, f1_score)\n",
    "\n",
    "from sklearn.dummy import DummyClassifier"
   ]
  },
  {
   "cell_type": "markdown",
   "metadata": {},
   "source": [
    "**Описание данных:**\n",
    "\n",
    "Каждый объект в наборе данных — это информация о поведении одного пользователя за месяц. \n",
    "\n",
    "Известно:\n",
    "* `сalls` — количество звонков,\n",
    "* `minutes` — суммарная длительность звонков в минутах,\n",
    "* `messages` — количество sms-сообщений,\n",
    "* `mb_used` — израсходованный интернет-трафик в Мб,\n",
    "* `is_ultra` — каким тарифом пользовался в течение месяца («Ультра» — 1, «Смарт» — 0)."
   ]
  },
  {
   "cell_type": "code",
   "execution_count": 2,
   "metadata": {},
   "outputs": [
    {
     "data": {
      "text/html": [
       "<div>\n",
       "<style scoped>\n",
       "    .dataframe tbody tr th:only-of-type {\n",
       "        vertical-align: middle;\n",
       "    }\n",
       "\n",
       "    .dataframe tbody tr th {\n",
       "        vertical-align: top;\n",
       "    }\n",
       "\n",
       "    .dataframe thead th {\n",
       "        text-align: right;\n",
       "    }\n",
       "</style>\n",
       "<table border=\"1\" class=\"dataframe\">\n",
       "  <thead>\n",
       "    <tr style=\"text-align: right;\">\n",
       "      <th></th>\n",
       "      <th>calls</th>\n",
       "      <th>minutes</th>\n",
       "      <th>messages</th>\n",
       "      <th>mb_used</th>\n",
       "      <th>is_ultra</th>\n",
       "    </tr>\n",
       "  </thead>\n",
       "  <tbody>\n",
       "    <tr>\n",
       "      <th>0</th>\n",
       "      <td>40.0</td>\n",
       "      <td>311.90</td>\n",
       "      <td>83.0</td>\n",
       "      <td>19915.42</td>\n",
       "      <td>0</td>\n",
       "    </tr>\n",
       "    <tr>\n",
       "      <th>1</th>\n",
       "      <td>85.0</td>\n",
       "      <td>516.75</td>\n",
       "      <td>56.0</td>\n",
       "      <td>22696.96</td>\n",
       "      <td>0</td>\n",
       "    </tr>\n",
       "    <tr>\n",
       "      <th>2</th>\n",
       "      <td>77.0</td>\n",
       "      <td>467.66</td>\n",
       "      <td>86.0</td>\n",
       "      <td>21060.45</td>\n",
       "      <td>0</td>\n",
       "    </tr>\n",
       "    <tr>\n",
       "      <th>3</th>\n",
       "      <td>106.0</td>\n",
       "      <td>745.53</td>\n",
       "      <td>81.0</td>\n",
       "      <td>8437.39</td>\n",
       "      <td>1</td>\n",
       "    </tr>\n",
       "    <tr>\n",
       "      <th>4</th>\n",
       "      <td>66.0</td>\n",
       "      <td>418.74</td>\n",
       "      <td>1.0</td>\n",
       "      <td>14502.75</td>\n",
       "      <td>0</td>\n",
       "    </tr>\n",
       "  </tbody>\n",
       "</table>\n",
       "</div>"
      ],
      "text/plain": [
       "   calls  minutes  messages   mb_used  is_ultra\n",
       "0   40.0   311.90      83.0  19915.42         0\n",
       "1   85.0   516.75      56.0  22696.96         0\n",
       "2   77.0   467.66      86.0  21060.45         0\n",
       "3  106.0   745.53      81.0   8437.39         1\n",
       "4   66.0   418.74       1.0  14502.75         0"
      ]
     },
     "execution_count": 2,
     "metadata": {},
     "output_type": "execute_result"
    }
   ],
   "source": [
    "df = pd.read_csv('/datasets/users_behavior.csv')\n",
    "df.head()"
   ]
  },
  {
   "cell_type": "code",
   "execution_count": 3,
   "metadata": {},
   "outputs": [
    {
     "name": "stdout",
     "output_type": "stream",
     "text": [
      "<class 'pandas.core.frame.DataFrame'>\n",
      "RangeIndex: 3214 entries, 0 to 3213\n",
      "Data columns (total 5 columns):\n",
      " #   Column    Non-Null Count  Dtype  \n",
      "---  ------    --------------  -----  \n",
      " 0   calls     3214 non-null   float64\n",
      " 1   minutes   3214 non-null   float64\n",
      " 2   messages  3214 non-null   float64\n",
      " 3   mb_used   3214 non-null   float64\n",
      " 4   is_ultra  3214 non-null   int64  \n",
      "dtypes: float64(4), int64(1)\n",
      "memory usage: 125.7 KB\n"
     ]
    }
   ],
   "source": [
    "df.info()"
   ]
  },
  {
   "cell_type": "code",
   "execution_count": 4,
   "metadata": {
    "scrolled": true
   },
   "outputs": [
    {
     "data": {
      "text/html": [
       "<div>\n",
       "<style scoped>\n",
       "    .dataframe tbody tr th:only-of-type {\n",
       "        vertical-align: middle;\n",
       "    }\n",
       "\n",
       "    .dataframe tbody tr th {\n",
       "        vertical-align: top;\n",
       "    }\n",
       "\n",
       "    .dataframe thead th {\n",
       "        text-align: right;\n",
       "    }\n",
       "</style>\n",
       "<table border=\"1\" class=\"dataframe\">\n",
       "  <thead>\n",
       "    <tr style=\"text-align: right;\">\n",
       "      <th></th>\n",
       "      <th>calls</th>\n",
       "      <th>minutes</th>\n",
       "      <th>messages</th>\n",
       "      <th>mb_used</th>\n",
       "      <th>is_ultra</th>\n",
       "    </tr>\n",
       "  </thead>\n",
       "  <tbody>\n",
       "    <tr>\n",
       "      <th>count</th>\n",
       "      <td>3214.000000</td>\n",
       "      <td>3214.000000</td>\n",
       "      <td>3214.000000</td>\n",
       "      <td>3214.000000</td>\n",
       "      <td>3214.000000</td>\n",
       "    </tr>\n",
       "    <tr>\n",
       "      <th>mean</th>\n",
       "      <td>63.038892</td>\n",
       "      <td>438.208787</td>\n",
       "      <td>38.281269</td>\n",
       "      <td>17207.673836</td>\n",
       "      <td>0.306472</td>\n",
       "    </tr>\n",
       "    <tr>\n",
       "      <th>std</th>\n",
       "      <td>33.236368</td>\n",
       "      <td>234.569872</td>\n",
       "      <td>36.148326</td>\n",
       "      <td>7570.968246</td>\n",
       "      <td>0.461100</td>\n",
       "    </tr>\n",
       "    <tr>\n",
       "      <th>min</th>\n",
       "      <td>0.000000</td>\n",
       "      <td>0.000000</td>\n",
       "      <td>0.000000</td>\n",
       "      <td>0.000000</td>\n",
       "      <td>0.000000</td>\n",
       "    </tr>\n",
       "    <tr>\n",
       "      <th>25%</th>\n",
       "      <td>40.000000</td>\n",
       "      <td>274.575000</td>\n",
       "      <td>9.000000</td>\n",
       "      <td>12491.902500</td>\n",
       "      <td>0.000000</td>\n",
       "    </tr>\n",
       "    <tr>\n",
       "      <th>50%</th>\n",
       "      <td>62.000000</td>\n",
       "      <td>430.600000</td>\n",
       "      <td>30.000000</td>\n",
       "      <td>16943.235000</td>\n",
       "      <td>0.000000</td>\n",
       "    </tr>\n",
       "    <tr>\n",
       "      <th>75%</th>\n",
       "      <td>82.000000</td>\n",
       "      <td>571.927500</td>\n",
       "      <td>57.000000</td>\n",
       "      <td>21424.700000</td>\n",
       "      <td>1.000000</td>\n",
       "    </tr>\n",
       "    <tr>\n",
       "      <th>max</th>\n",
       "      <td>244.000000</td>\n",
       "      <td>1632.060000</td>\n",
       "      <td>224.000000</td>\n",
       "      <td>49745.730000</td>\n",
       "      <td>1.000000</td>\n",
       "    </tr>\n",
       "  </tbody>\n",
       "</table>\n",
       "</div>"
      ],
      "text/plain": [
       "             calls      minutes     messages       mb_used     is_ultra\n",
       "count  3214.000000  3214.000000  3214.000000   3214.000000  3214.000000\n",
       "mean     63.038892   438.208787    38.281269  17207.673836     0.306472\n",
       "std      33.236368   234.569872    36.148326   7570.968246     0.461100\n",
       "min       0.000000     0.000000     0.000000      0.000000     0.000000\n",
       "25%      40.000000   274.575000     9.000000  12491.902500     0.000000\n",
       "50%      62.000000   430.600000    30.000000  16943.235000     0.000000\n",
       "75%      82.000000   571.927500    57.000000  21424.700000     1.000000\n",
       "max     244.000000  1632.060000   224.000000  49745.730000     1.000000"
      ]
     },
     "execution_count": 4,
     "metadata": {},
     "output_type": "execute_result"
    }
   ],
   "source": [
    "df.describe()"
   ]
  },
  {
   "cell_type": "markdown",
   "metadata": {},
   "source": [
    "___\n",
    "### **Вывод блока:**"
   ]
  },
  {
   "cell_type": "markdown",
   "metadata": {},
   "source": [
    "- Общее количество строк в таблице 3214 и 5 столбцов.\n",
    "- Значения имеют разный тип данных `int` и `float`.\n",
    "- Исходя из описания метода `describe` можно судить о наличии выбросов в данных."
   ]
  },
  {
   "cell_type": "markdown",
   "metadata": {},
   "source": [
    "___\n",
    "## Разделение данных на выборки."
   ]
  },
  {
   "cell_type": "markdown",
   "metadata": {},
   "source": [
    "Разделим данные на три выбокри: тестовую, обучающую, валидационную в соотношении *3:1:1* или *60% : 20% : 20%*\n",
    "\n",
    "1. Разделим датасет на 2 переменные `df_train_valid` и `df_test` в соотношении *4:1* или *80% : 20%*, тестовой выборке отдаем *20%* от первоначального размера `df`.\n",
    "2. Далее разделим `df_train_valid`, размером *80%* от `df`, на обучающую и валидоцаионные выборки в соотношении *3:1*, таким образом *75%* от *80%* составит *60%*  и *25%* от *80%* = *60%* *20%*\n",
    "\n",
    "* Т.к. у нас мало данных и возможен дисбаланс классов в обучении / валидации / тесте, то применим аргумент `stratify` функции `train_test_split`."
   ]
  },
  {
   "cell_type": "code",
   "execution_count": 5,
   "metadata": {},
   "outputs": [],
   "source": [
    "#выделяем таргет\n",
    "y = df['is_ultra']\n",
    "\n",
    "#отделяем тестовую выборку\n",
    "df_train_valid, df_test = train_test_split( \n",
    "    df,\n",
    "    test_size=0.2, #тестовая выборка составит 20%\n",
    "    random_state=12345,\n",
    "    stratify=y  #проводим стратификацию \n",
    ")\n",
    "\n",
    "df_train, df_valid = train_test_split( #валидационная выборка составит 60%\n",
    "    df_train_valid, \n",
    "    test_size=0.25, #обучающая выборка составит 20%\n",
    "    random_state=12345\n",
    ")"
   ]
  },
  {
   "cell_type": "code",
   "execution_count": 6,
   "metadata": {},
   "outputs": [
    {
     "name": "stdout",
     "output_type": "stream",
     "text": [
      "(1928, 4)\n",
      "(643, 4)\n",
      "(643, 4)\n",
      "\n",
      "(1928,)\n",
      "(643,)\n",
      "(643,)\n"
     ]
    }
   ],
   "source": [
    "train_features = df_train.drop(['is_ultra'], axis=1)\n",
    "test_features = df_test.drop(['is_ultra'], axis=1)\n",
    "valid_features = df_valid.drop(['is_ultra'], axis=1)\n",
    "\n",
    "train_target = df_train['is_ultra']\n",
    "test_target = df_test['is_ultra']\n",
    "valid_target = df_valid['is_ultra']\n",
    "\n",
    "print(train_features.shape)\n",
    "print(test_features.shape)\n",
    "print(valid_features.shape)\n",
    "print()\n",
    "print(train_target.shape)\n",
    "print(test_target.shape)\n",
    "print(valid_target.shape)"
   ]
  },
  {
   "cell_type": "markdown",
   "metadata": {},
   "source": [
    "___\n",
    "### **Вывод блока:**"
   ]
  },
  {
   "cell_type": "markdown",
   "metadata": {},
   "source": [
    "Данные разделены на три выбокри: тестовую, обучающую, валидационную в соотношении *3:1:1* или *60% : 20% : 20%*"
   ]
  },
  {
   "cell_type": "markdown",
   "metadata": {},
   "source": [
    "___\n",
    "## Исследование моделей."
   ]
  },
  {
   "cell_type": "markdown",
   "metadata": {},
   "source": [
    "Исследуем качество разных моделей, меняя гиперпараметры."
   ]
  },
  {
   "cell_type": "markdown",
   "metadata": {},
   "source": [
    "___\n",
    "### Дерево решений"
   ]
  },
  {
   "cell_type": "code",
   "execution_count": 7,
   "metadata": {},
   "outputs": [
    {
     "name": "stdout",
     "output_type": "stream",
     "text": [
      "Accuracy дерева решений на валидационной выборке: 0.689\n"
     ]
    }
   ],
   "source": [
    "#обучаем модель\n",
    "model_tree = DecisionTreeClassifier(random_state=12345)\n",
    "model_tree.fit(train_features, train_target)\n",
    "model_tree.predict(valid_features)\n",
    "\n",
    "result = model_tree.score(valid_features, valid_target)\n",
    "print('Accuracy дерева решений на валидационной выборке:', result.round(4))"
   ]
  },
  {
   "cell_type": "markdown",
   "metadata": {},
   "source": [
    "**Проверим, как справится модель дерева решений на обучающей выборке:**"
   ]
  },
  {
   "cell_type": "code",
   "execution_count": 8,
   "metadata": {
    "scrolled": false
   },
   "outputs": [
    {
     "name": "stdout",
     "output_type": "stream",
     "text": [
      "Accuracy дерева решений на обучающей выборке: \n",
      " 1.0\n"
     ]
    }
   ],
   "source": [
    "train_predictions = model_tree.predict(train_features)\n",
    "train_accuracy = accuracy_score(train_target, train_predictions)\n",
    "print('Accuracy дерева решений на обучающей выборке:', '\\n', train_accuracy)"
   ]
  },
  {
   "cell_type": "markdown",
   "metadata": {},
   "source": [
    "```\n",
    "Хорошая демонстрация того, что дерево, у которого не ограничили глубину постарается просто запомнить всю обучающую выборку. Поэтому и получилась абсолютно бесполезная 1.\n",
    "```"
   ]
  },
  {
   "cell_type": "code",
   "execution_count": 9,
   "metadata": {
    "scrolled": true
   },
   "outputs": [
    {
     "name": "stdout",
     "output_type": "stream",
     "text": [
      "Accuracy лучшей модели дерева решений на валидационной выборке: \n",
      " 0.7978\n",
      "Гиперпараметры лучшей модели: \n",
      " DecisionTreeClassifier(max_depth=4, random_state=12345)\n"
     ]
    }
   ],
   "source": [
    "#подбор гиперпараметров модели в цикле\n",
    "best_model = None\n",
    "best_result = 0\n",
    "array_valid = []\n",
    "for depth in range(1, 6): #глубина дерева от 1 до 6\n",
    "    model_tree = DecisionTreeClassifier(random_state=12345, max_depth=depth)\n",
    "    model_tree.fit(train_features, train_target)\n",
    "    model_tree.predict(valid_features)\n",
    "    result = model_tree.score(valid_features, valid_target)\n",
    "    if result > best_result:\n",
    "        best_model = model_tree\n",
    "        best_result = result\n",
    "    array_valid.append(result)\n",
    "print('Accuracy лучшей модели дерева решений на валидационной выборке:', '\\n', best_result.round(4))\n",
    "print('Гиперпараметры лучшей модели:', '\\n', best_model)\n"
   ]
  },
  {
   "cell_type": "code",
   "execution_count": 10,
   "metadata": {},
   "outputs": [
    {
     "data": {
      "image/png": "[encoded data removed]",
      "text/plain": [
       "<Figure size 432x288 with 1 Axes>"
      ]
     },
     "metadata": {
      "needs_background": "light"
     },
     "output_type": "display_data"
    }
   ],
   "source": [
    "plt.plot(array_valid , label='valid')\n",
    "plt.legend()\n",
    "plt.title('Зависимость Accuracy от изменения глубины дерева:')\n",
    "plt.ylabel('Значение метрики')\n",
    "plt.xlabel('Величина параметра')\n",
    "plt.show()"
   ]
  },
  {
   "cell_type": "markdown",
   "metadata": {},
   "source": [
    "#### Промежуточный вывод:\n"
   ]
  },
  {
   "cell_type": "markdown",
   "metadata": {},
   "source": [
    "Исследуя модель - `Дерево решений` мы выявили:\n",
    "1. Accuracy на валидационной выборке: `0.6889`\n",
    "2. Accuracy на обучающей выборке: `1.0`\n",
    "3. Перебирая гиперпараметры выяснили, что лучшая точность модели наблюдается при глубине дерева равной `4`.\n",
    "4. При `max_depth=4` достигли accuracy модели на валидационной выборке: `0.7978`\n",
    "________________________________\n"
   ]
  },
  {
   "cell_type": "markdown",
   "metadata": {},
   "source": [
    "### Случайный лес"
   ]
  },
  {
   "cell_type": "code",
   "execution_count": 11,
   "metadata": {},
   "outputs": [
    {
     "name": "stdout",
     "output_type": "stream",
     "text": [
      "Accuracy случайного леса на валидационной выборке: 0.7869\n"
     ]
    }
   ],
   "source": [
    "#обучаем модель\n",
    "model_forest = RandomForestClassifier(random_state=12345)\n",
    "model_forest.fit(train_features, train_target)\n",
    "model_forest.predict(valid_features)\n",
    "\n",
    "result = model_forest.score(valid_features, valid_target)\n",
    "print('Accuracy случайного леса на валидационной выборке:', result.round(4))"
   ]
  },
  {
   "cell_type": "code",
   "execution_count": 12,
   "metadata": {
    "scrolled": true
   },
   "outputs": [
    {
     "name": "stdout",
     "output_type": "stream",
     "text": [
      "Accuracy наилучшей модели случайного леса на валидационной выборке: \n",
      " 0.7994\n",
      "Гиперпараметры лучшей модели: \n",
      " RandomForestClassifier(n_estimators=178, random_state=12345)\n"
     ]
    }
   ],
   "source": [
    "forest_best_model = None\n",
    "forest_best_result = 0\n",
    "array_valid2 = []\n",
    "for est in range(1,221):\n",
    "    model_forest = RandomForestClassifier(\n",
    "        random_state=12345,\n",
    "        n_estimators=est) #задаем кол-во деревьев\n",
    "    model_forest.fit(train_features, train_target) #обучаем модель на тренировочной выборке\n",
    "    result = model_forest.score(valid_features, valid_target) #подсчет качества модели на валидационной выборке\n",
    "    if result > best_result:\n",
    "        forest_best_model = model_forest #сохраняем наилучшую модель\n",
    "        forest_best_result = result #сохраняем наилучшее значение метрики accuracy на валиджационных данных\n",
    "    array_valid2.append(result)\n",
    "    \n",
    "print('Accuracy наилучшей модели случайного леса на валидационной выборке:', '\\n', forest_best_result.round(4))\n",
    "print('Гиперпараметры лучшей модели:', '\\n', forest_best_model)"
   ]
  },
  {
   "cell_type": "code",
   "execution_count": 13,
   "metadata": {},
   "outputs": [
    {
     "data": {
      "image/png": "[encoded data removed]",
      "text/plain": [
       "<Figure size 432x288 with 1 Axes>"
      ]
     },
     "metadata": {
      "needs_background": "light"
     },
     "output_type": "display_data"
    }
   ],
   "source": [
    "plt.plot(array_valid2, label='valid')\n",
    "plt.legend()\n",
    "plt.title('Зависимость Accuracy от изменения кол-ва деревьев:')\n",
    "plt.ylabel('Значение метрики')\n",
    "plt.xlabel('Величина параметра')\n",
    "plt.show()"
   ]
  },
  {
   "cell_type": "markdown",
   "metadata": {},
   "source": [
    "**Проверим, как справится модель случайного леса на обучающей выборке:**"
   ]
  },
  {
   "cell_type": "code",
   "execution_count": 14,
   "metadata": {
    "scrolled": true
   },
   "outputs": [
    {
     "name": "stdout",
     "output_type": "stream",
     "text": [
      "Accuracy модели случайного леса на обучающей выборке: \n",
      " 1.0\n"
     ]
    }
   ],
   "source": [
    "train_predictions_forest = model_forest.predict(train_features)\n",
    "train_accuracy_forest = accuracy_score(\n",
    "    train_target,\n",
    "    train_predictions_forest)\n",
    "print('Accuracy модели случайного леса на обучающей выборке:', '\\n', train_accuracy_forest)"
   ]
  },
  {
   "cell_type": "markdown",
   "metadata": {},
   "source": [
    "___\n",
    "#### Промежуточный вывод:"
   ]
  },
  {
   "cell_type": "markdown",
   "metadata": {},
   "source": [
    "Исследуя модель - `Случайный лес` мы узнали, что:\n",
    "1. Accuracy на валидационной выборке: `0.7869`\n",
    "2. Accuracy на обучающей выборке: `1.0 `\n",
    "3. Перебирая гиперпараметры выяснили, что лучшая точность модели наблюдается при количестве деревьев равной 178.\n",
    "4. При `n_estimators=178` добились accuracy модели на валидационной выборке: `0.7994`\n",
    "_________________"
   ]
  },
  {
   "cell_type": "markdown",
   "metadata": {},
   "source": [
    "\n",
    "### Логистическая регрессия"
   ]
  },
  {
   "cell_type": "code",
   "execution_count": 15,
   "metadata": {
    "scrolled": true
   },
   "outputs": [
    {
     "name": "stdout",
     "output_type": "stream",
     "text": [
      "Accuracy на валидационной выборке: \n",
      " 0.7138\n"
     ]
    }
   ],
   "source": [
    "model_lr = LogisticRegression(\n",
    "    random_state=12345, #для постоянства результата\n",
    "    solver='lbfgs', #самый распространенный алгоритм\n",
    "    max_iter=1000) #задаем макс-е кол-во итераций обучения, по умолчанию 100\n",
    "model_lr.fit(train_features, train_target) #обучаем модель\n",
    "model_lr.predict(valid_features) #модель предсказывает\n",
    "answers = model_lr.score(valid_features, valid_target) #смотрим accuracy\n",
    "\n",
    "print('Accuracy на валидационной выборке:', '\\n', answers.round(4))"
   ]
  },
  {
   "cell_type": "markdown",
   "metadata": {},
   "source": [
    "**Проверим, как справится модель логистической регрессии на обучающей выборке:**"
   ]
  },
  {
   "cell_type": "code",
   "execution_count": 16,
   "metadata": {
    "scrolled": true
   },
   "outputs": [
    {
     "name": "stdout",
     "output_type": "stream",
     "text": [
      "Accuracy модели логистической регрессии на обучающей выборке: \n",
      " 0.7178\n"
     ]
    }
   ],
   "source": [
    "train_predictions_lr = model_lr.predict(train_features)\n",
    "train_accuracy_lr = accuracy_score(\n",
    "    train_target,\n",
    "    train_predictions_lr)\n",
    "print('Accuracy модели логистической регрессии на обучающей выборке:', '\\n', train_accuracy_lr.round(4))"
   ]
  },
  {
   "cell_type": "markdown",
   "metadata": {},
   "source": [
    "___\n",
    "#### Промежуточный вывод:"
   ]
  },
  {
   "cell_type": "markdown",
   "metadata": {},
   "source": [
    "Исследуя модель - `Логистическая регрессия` мы обнаружили, что:\n",
    "1. Accuracy на валидационной выборке: `0.7138`\n",
    "2. Accuracy на обучающей выборке: `0.7178`\n",
    "_________"
   ]
  },
  {
   "cell_type": "markdown",
   "metadata": {},
   "source": [
    "### **Вывод блока и выбор модели:**"
   ]
  },
  {
   "cell_type": "markdown",
   "metadata": {},
   "source": [
    "**Выводы:**\n",
    "\n",
    "Исследуя модель - `Дерево решений` мы выявили:\n",
    "1. Accuracy на валидационной выборке: `0.6889`\n",
    "2. Accuracy на обучающей выборке: `1.0`\n",
    "3. Перебирая гиперпараметры выяснили, что лучшая точность модели наблюдается при глубине дерева равной `4`.\n",
    "4. При `max_depth=4` достигли accuracy модели на валидационной выборке: `0.7978`\n",
    "________________________________\n",
    "\n",
    "Исследуя модель - `Случайный лес` мы узнали, что:\n",
    "1. Accuracy на валидационной выборке: `0.7869`\n",
    "2. Accuracy на обучающей выборке: `1.0 `\n",
    "3. Перебирая гиперпараметры выяснили, что лучшая точность модели наблюдается при количестве деревьев равной 178.\n",
    "4. При `n_estimators=178` добились accuracy модели на валидационной выборке: `0.7994`\n",
    "_________________\n",
    "\n",
    "Исследуя модель - `Логистическая регрессия` мы обнаружили, что:\n",
    "1. Accuracy на валидационной выборке: `0.7138`\n",
    "2. Accuracy на обучающей выборке: `0.7178`\n",
    "_________"
   ]
  },
  {
   "cell_type": "markdown",
   "metadata": {},
   "source": [
    "**Выбор модели:**\n",
    "\n",
    "По распеределению метрики качества останавливаемся на модели случайного леса."
   ]
  },
  {
   "cell_type": "markdown",
   "metadata": {},
   "source": [
    "___\n",
    "## Проверка модели на тестовой выборке."
   ]
  },
  {
   "cell_type": "markdown",
   "metadata": {},
   "source": [
    "Т.к. гиперпараметры лучше модели уже подобраны и валидационная выборка уже не нужна, то обучим модель на полных данных:"
   ]
  },
  {
   "cell_type": "code",
   "execution_count": 17,
   "metadata": {},
   "outputs": [
    {
     "name": "stdout",
     "output_type": "stream",
     "text": [
      "(2571, 4)\n",
      "(2571,)\n"
     ]
    }
   ],
   "source": [
    "X_train_val = df_train_valid.drop(['is_ultra'], axis=1)\n",
    "y_train_val = df_train_valid['is_ultra']\n",
    "print(X_train_val.shape)\n",
    "print(y_train_val.shape)"
   ]
  },
  {
   "cell_type": "code",
   "execution_count": 18,
   "metadata": {},
   "outputs": [
    {
     "name": "stdout",
     "output_type": "stream",
     "text": [
      "Accuracy на тестовой выборке случайного леса, обученного на train и valid: 0.8025\n"
     ]
    }
   ],
   "source": [
    "forest_best_model.fit(X_train_val, y_train_val)\n",
    "res = forest_best_model.predict(test_features)\n",
    "acc = accuracy_score(test_target, res)\n",
    "\n",
    "print('Accuracy на тестовой выборке случайного леса, обученного на train и valid:', acc.round(4))"
   ]
  },
  {
   "cell_type": "markdown",
   "metadata": {},
   "source": [
    "___\n",
    "### **Вывод блока:**"
   ]
  },
  {
   "cell_type": "markdown",
   "metadata": {},
   "source": [
    "Проверяя модель - `Случайный лес` с `n_estimators=178` на тестовой выборке  мы  вычислили, что:\n",
    "1. Accuracy составило: `0.8025`, что не критично отличается от результатов модели на валидационной выборке, что свидетельствует о корректной работе модели в данном аспекте.\n",
    "___________"
   ]
  },
  {
   "cell_type": "markdown",
   "metadata": {},
   "source": [
    "## Соответствует ли выбранная модель адекватности\\вменяемости?"
   ]
  },
  {
   "cell_type": "markdown",
   "metadata": {},
   "source": [
    "Если наша модель будет способна \"побить\" любой \"наивный\" алгоритм, например предсказывающий случайный или постояный ответ, то проверка на адекватность будет пройдена.\n",
    "\n",
    "Проверим точность такого подхода, используя DummyClassifier:"
   ]
  },
  {
   "cell_type": "code",
   "execution_count": 19,
   "metadata": {},
   "outputs": [
    {
     "data": {
      "text/plain": [
       "0.75"
      ]
     },
     "execution_count": 19,
     "metadata": {},
     "output_type": "execute_result"
    }
   ],
   "source": [
    "X = np.array([-1, 1, 1, 1])\n",
    "y = np.array([0, 1, 1, 1])\n",
    "dummy_clf = DummyClassifier(strategy=\"most_frequent\")\n",
    "dummy_clf.fit(X, y)\n",
    "dummy_clf.predict(X)\n",
    "dummy_clf.score(X, y)"
   ]
  },
  {
   "cell_type": "markdown",
   "metadata": {},
   "source": [
    "### Вывод:\n",
    "В ходе исследования модель прошла проверку на адекватность, побив случайные предсказания.\n"
   ]
  },
  {
   "cell_type": "markdown",
   "metadata": {},
   "source": [
    "___\n",
    "## **Общий вывод:**"
   ]
  },
  {
   "cell_type": "markdown",
   "metadata": {},
   "source": [
    "### *Изучение данных*"
   ]
  },
  {
   "cell_type": "markdown",
   "metadata": {},
   "source": [
    "- Общее количество строк в таблице 3214 и 5 столбцов.\n",
    "- Значения имеют разный тип данных `int` и `float`.\n",
    "- Исходя из описания метода `describe` можно судить о наличии выбросов в данных.\n",
    "___"
   ]
  },
  {
   "cell_type": "markdown",
   "metadata": {},
   "source": [
    "### *Разделение данных на выборки*"
   ]
  },
  {
   "cell_type": "markdown",
   "metadata": {},
   "source": [
    "* Данные разделены на три выбокри: тестовую, обучающую, валидационную в соотношении *3:1:1* или *60% : 20% : 20%*\n",
    "___"
   ]
  },
  {
   "cell_type": "markdown",
   "metadata": {},
   "source": [
    "### *Исследование моделей*"
   ]
  },
  {
   "cell_type": "markdown",
   "metadata": {},
   "source": [
    "Исследуя модель - `Дерево решений` мы выявили:\n",
    "1. Accuracy на валидационной выборке: `0.6889`\n",
    "2. Accuracy на обучающей выборке: `1.0`\n",
    "3. Перебирая гиперпараметры выяснили, что лучшая точность модели наблюдается при глубине дерева равной `4`.\n",
    "4. При `max_depth=4` достигли accuracy модели на валидационной выборке: `0.7978`\n",
    "\n",
    "________________________________\n",
    "\n",
    "Исследуя модель - `Случайный лес` мы узнали, что:\n",
    "1. Accuracy на валидационной выборке: `0.7869`\n",
    "2. Accuracy на обучающей выборке: `1.0 `\n",
    "3. Перебирая гиперпараметры выяснили, что лучшая точность модели наблюдается при количестве деревьев равной 178.\n",
    "4. При `n_estimators=178` добились accuracy модели на валидационной выборке: `0.7994`\n",
    "_________________\n",
    "\n",
    "Исследуя модель - `Логистическая регрессия` мы обнаружили, что:\n",
    "1. Accuracy на валидационной выборке: `0.7138`\n",
    "2. Accuracy на обучающей выборке: `0.7178`\n",
    "_________\n",
    "\n",
    "По распеределению метрики качества останавились на модели `случайного леса`."
   ]
  },
  {
   "cell_type": "markdown",
   "metadata": {},
   "source": [
    "### *Проверка модели на тестовой выборке*"
   ]
  },
  {
   "cell_type": "markdown",
   "metadata": {},
   "source": [
    "Проверяя модель - `Случайный лес` с `n_estimators=178` на тестовой выборке  мы  вычислили, что:\n",
    "1. Accuracy составило: `0.8025`, что не критично отличается от результатов модели на валидационной выборке, что свидетельствует о корректной работе модели в данном аспекте.\n",
    "\n",
    "Таким образом, поставленная задача, в достижении `accuracy > 0.75` выполнена.\n",
    "___________"
   ]
  },
  {
   "cell_type": "markdown",
   "metadata": {},
   "source": [
    "### *Соответствует ли выбранная модель адекватности\\вменяемости?*"
   ]
  },
  {
   "cell_type": "markdown",
   "metadata": {},
   "source": [
    "- В ходе исследования модель прошла проверку на адекватность, побив случайные предсказания.\n",
    "__________"
   ]
  },
  {
   "cell_type": "markdown",
   "metadata": {},
   "source": [
    "**Рекомендации:**\n",
    "\n",
    "В дальнейшем следует произвести подбор гиперпараметров при помощи случайного поиска или поиска по сетке и расширить количество подбираемых значений.\n",
    "Также стоит провести feature importance выбранной модели, а также применить байевскую оптимизацию для определения лучшей комбинации."
   ]
  },
  {
   "cell_type": "code",
   "execution_count": null,
   "metadata": {},
   "outputs": [],
   "source": []
  }
 ],
 "metadata": {
  "ExecuteTimeLog": [
   {
    "duration": 361,
    "start_time": "2022-11-26T13:46:53.675Z"
   },
   {
    "duration": 88,
    "start_time": "2022-11-26T13:48:20.981Z"
   },
   {
    "duration": 41,
    "start_time": "2022-11-26T13:48:38.825Z"
   },
   {
    "duration": 10,
    "start_time": "2022-11-26T13:48:50.586Z"
   },
   {
    "duration": 5,
    "start_time": "2022-11-26T13:49:07.750Z"
   },
   {
    "duration": 23,
    "start_time": "2022-11-26T13:49:29.841Z"
   },
   {
    "duration": 441,
    "start_time": "2022-11-26T14:29:28.334Z"
   },
   {
    "duration": 56,
    "start_time": "2022-11-26T14:29:28.777Z"
   },
   {
    "duration": 10,
    "start_time": "2022-11-26T14:29:28.837Z"
   },
   {
    "duration": 21,
    "start_time": "2022-11-26T14:29:28.848Z"
   },
   {
    "duration": 91,
    "start_time": "2022-11-26T14:29:28.870Z"
   },
   {
    "duration": 126,
    "start_time": "2022-11-26T15:13:41.074Z"
   },
   {
    "duration": 89,
    "start_time": "2022-11-26T15:13:46.180Z"
   },
   {
    "duration": 4,
    "start_time": "2022-11-26T15:13:55.989Z"
   },
   {
    "duration": 9,
    "start_time": "2022-11-26T15:14:23.397Z"
   },
   {
    "duration": 8,
    "start_time": "2022-11-26T15:14:43.545Z"
   },
   {
    "duration": 8,
    "start_time": "2022-11-26T15:14:50.964Z"
   },
   {
    "duration": 12,
    "start_time": "2022-11-26T15:15:30.604Z"
   },
   {
    "duration": 9,
    "start_time": "2022-11-26T15:15:38.633Z"
   },
   {
    "duration": 6,
    "start_time": "2022-11-26T15:15:44.067Z"
   },
   {
    "duration": 1065,
    "start_time": "2022-11-27T16:25:54.230Z"
   },
   {
    "duration": 1039,
    "start_time": "2022-11-27T16:26:00.091Z"
   },
   {
    "duration": 133,
    "start_time": "2022-11-27T16:26:01.132Z"
   },
   {
    "duration": 11,
    "start_time": "2022-11-27T16:26:01.267Z"
   },
   {
    "duration": 25,
    "start_time": "2022-11-27T16:26:01.280Z"
   },
   {
    "duration": 4,
    "start_time": "2022-11-27T16:26:01.307Z"
   },
   {
    "duration": 7,
    "start_time": "2022-11-27T17:08:50.326Z"
   },
   {
    "duration": 99,
    "start_time": "2022-11-27T17:11:47.413Z"
   },
   {
    "duration": 44,
    "start_time": "2022-11-28T12:48:12.024Z"
   },
   {
    "duration": 1037,
    "start_time": "2022-11-28T12:48:20.832Z"
   },
   {
    "duration": 80,
    "start_time": "2022-11-28T12:48:21.871Z"
   },
   {
    "duration": 11,
    "start_time": "2022-11-28T12:48:21.953Z"
   },
   {
    "duration": 29,
    "start_time": "2022-11-28T12:48:21.966Z"
   },
   {
    "duration": 4,
    "start_time": "2022-11-28T12:48:21.996Z"
   },
   {
    "duration": 7,
    "start_time": "2022-11-28T12:48:22.001Z"
   },
   {
    "duration": 6,
    "start_time": "2022-11-28T12:48:22.010Z"
   },
   {
    "duration": 42,
    "start_time": "2022-11-28T12:59:41.065Z"
   },
   {
    "duration": 1084,
    "start_time": "2022-11-28T12:59:47.046Z"
   },
   {
    "duration": 41,
    "start_time": "2022-11-28T12:59:48.132Z"
   },
   {
    "duration": 9,
    "start_time": "2022-11-28T12:59:48.175Z"
   },
   {
    "duration": 27,
    "start_time": "2022-11-28T12:59:48.186Z"
   },
   {
    "duration": 3,
    "start_time": "2022-11-28T12:59:48.214Z"
   },
   {
    "duration": 33,
    "start_time": "2022-11-28T12:59:48.218Z"
   },
   {
    "duration": 13,
    "start_time": "2022-11-28T12:59:48.253Z"
   },
   {
    "duration": 1116,
    "start_time": "2022-11-28T13:15:16.269Z"
   },
   {
    "duration": 43,
    "start_time": "2022-11-28T13:15:17.387Z"
   },
   {
    "duration": 11,
    "start_time": "2022-11-28T13:15:17.431Z"
   },
   {
    "duration": 21,
    "start_time": "2022-11-28T13:15:17.445Z"
   },
   {
    "duration": 4,
    "start_time": "2022-11-28T13:15:17.468Z"
   },
   {
    "duration": 7,
    "start_time": "2022-11-28T13:15:17.474Z"
   },
   {
    "duration": 99,
    "start_time": "2022-11-28T13:15:17.483Z"
   },
   {
    "duration": 0,
    "start_time": "2022-11-28T13:15:17.583Z"
   },
   {
    "duration": 11,
    "start_time": "2022-11-28T13:16:25.740Z"
   },
   {
    "duration": 7,
    "start_time": "2022-11-28T13:16:33.361Z"
   },
   {
    "duration": 10,
    "start_time": "2022-11-28T13:21:34.710Z"
   },
   {
    "duration": 9,
    "start_time": "2022-11-28T13:21:51.513Z"
   },
   {
    "duration": 20,
    "start_time": "2022-11-28T13:22:20.977Z"
   },
   {
    "duration": 16,
    "start_time": "2022-11-28T13:22:30.984Z"
   },
   {
    "duration": 1152,
    "start_time": "2022-11-28T13:23:29.486Z"
   },
   {
    "duration": 1159,
    "start_time": "2022-11-28T13:25:13.229Z"
   },
   {
    "duration": 1093,
    "start_time": "2022-11-28T13:27:47.454Z"
   },
   {
    "duration": 43,
    "start_time": "2022-11-28T13:27:48.549Z"
   },
   {
    "duration": 11,
    "start_time": "2022-11-28T13:27:48.594Z"
   },
   {
    "duration": 21,
    "start_time": "2022-11-28T13:27:48.608Z"
   },
   {
    "duration": 5,
    "start_time": "2022-11-28T13:27:48.630Z"
   },
   {
    "duration": 15,
    "start_time": "2022-11-28T13:27:48.636Z"
   },
   {
    "duration": 1303,
    "start_time": "2022-11-28T13:27:48.652Z"
   },
   {
    "duration": 1223,
    "start_time": "2022-11-28T13:33:04.665Z"
   },
   {
    "duration": 1249,
    "start_time": "2022-11-28T13:33:42.167Z"
   },
   {
    "duration": 1255,
    "start_time": "2022-11-28T13:36:05.974Z"
   },
   {
    "duration": 1057,
    "start_time": "2022-11-28T19:14:29.352Z"
   },
   {
    "duration": 134,
    "start_time": "2022-11-28T19:14:30.412Z"
   },
   {
    "duration": 11,
    "start_time": "2022-11-28T19:14:30.548Z"
   },
   {
    "duration": 53,
    "start_time": "2022-11-28T19:14:30.560Z"
   },
   {
    "duration": 30,
    "start_time": "2022-11-28T19:14:30.614Z"
   },
   {
    "duration": 24,
    "start_time": "2022-11-28T19:14:30.645Z"
   },
   {
    "duration": 927,
    "start_time": "2022-11-28T19:14:30.671Z"
   },
   {
    "duration": 16,
    "start_time": "2022-11-28T19:18:48.896Z"
   },
   {
    "duration": 15,
    "start_time": "2022-11-28T19:19:34.327Z"
   },
   {
    "duration": 13,
    "start_time": "2022-11-28T19:19:42.351Z"
   },
   {
    "duration": 20,
    "start_time": "2022-11-28T19:22:49.014Z"
   },
   {
    "duration": 21,
    "start_time": "2022-11-28T19:25:38.287Z"
   },
   {
    "duration": 943,
    "start_time": "2022-11-28T19:27:08.666Z"
   },
   {
    "duration": 698,
    "start_time": "2022-11-28T19:29:23.053Z"
   },
   {
    "duration": 18,
    "start_time": "2022-11-28T19:35:10.772Z"
   },
   {
    "duration": 894,
    "start_time": "2022-11-28T19:36:20.029Z"
   },
   {
    "duration": 7,
    "start_time": "2022-11-28T19:43:52.123Z"
   },
   {
    "duration": 6,
    "start_time": "2022-11-28T19:44:02.725Z"
   },
   {
    "duration": 720,
    "start_time": "2022-11-28T19:46:29.334Z"
   },
   {
    "duration": 742,
    "start_time": "2022-11-28T19:47:22.379Z"
   },
   {
    "duration": 849,
    "start_time": "2022-11-28T19:52:50.252Z"
   },
   {
    "duration": 718,
    "start_time": "2022-11-28T19:55:16.347Z"
   },
   {
    "duration": 804,
    "start_time": "2022-11-28T19:56:33.556Z"
   },
   {
    "duration": 17,
    "start_time": "2022-11-28T19:56:48.220Z"
   },
   {
    "duration": 17,
    "start_time": "2022-11-28T19:57:56.827Z"
   },
   {
    "duration": 17,
    "start_time": "2022-11-28T19:58:10.804Z"
   },
   {
    "duration": 8,
    "start_time": "2022-11-28T20:05:54.935Z"
   },
   {
    "duration": 18,
    "start_time": "2022-11-28T20:10:49.050Z"
   },
   {
    "duration": 13,
    "start_time": "2022-11-28T20:11:29.802Z"
   },
   {
    "duration": 16,
    "start_time": "2022-11-28T20:12:04.427Z"
   },
   {
    "duration": 35,
    "start_time": "2022-11-28T20:16:09.971Z"
   },
   {
    "duration": 30,
    "start_time": "2022-11-28T20:24:19.233Z"
   },
   {
    "duration": 260,
    "start_time": "2022-11-28T20:29:55.319Z"
   },
   {
    "duration": 14,
    "start_time": "2022-11-28T20:31:13.627Z"
   },
   {
    "duration": 1030,
    "start_time": "2022-11-28T20:31:31.141Z"
   },
   {
    "duration": 43,
    "start_time": "2022-11-28T20:31:32.173Z"
   },
   {
    "duration": 12,
    "start_time": "2022-11-28T20:31:32.217Z"
   },
   {
    "duration": 23,
    "start_time": "2022-11-28T20:31:32.231Z"
   },
   {
    "duration": 5,
    "start_time": "2022-11-28T20:31:32.256Z"
   },
   {
    "duration": 10,
    "start_time": "2022-11-28T20:31:32.262Z"
   },
   {
    "duration": 7,
    "start_time": "2022-11-28T20:31:32.273Z"
   },
   {
    "duration": 17,
    "start_time": "2022-11-28T20:31:32.282Z"
   },
   {
    "duration": 8,
    "start_time": "2022-11-28T20:31:32.320Z"
   },
   {
    "duration": 31,
    "start_time": "2022-11-28T20:31:32.329Z"
   },
   {
    "duration": 109,
    "start_time": "2022-11-28T20:31:32.361Z"
   },
   {
    "duration": 0,
    "start_time": "2022-11-28T20:31:32.472Z"
   },
   {
    "duration": 2,
    "start_time": "2022-11-28T20:32:27.845Z"
   },
   {
    "duration": 1029,
    "start_time": "2022-11-28T20:32:35.644Z"
   },
   {
    "duration": 42,
    "start_time": "2022-11-28T20:32:36.675Z"
   },
   {
    "duration": 10,
    "start_time": "2022-11-28T20:32:36.718Z"
   },
   {
    "duration": 35,
    "start_time": "2022-11-28T20:32:36.730Z"
   },
   {
    "duration": 6,
    "start_time": "2022-11-28T20:32:36.767Z"
   },
   {
    "duration": 8,
    "start_time": "2022-11-28T20:32:36.774Z"
   },
   {
    "duration": 11,
    "start_time": "2022-11-28T20:32:36.783Z"
   },
   {
    "duration": 18,
    "start_time": "2022-11-28T20:32:36.795Z"
   },
   {
    "duration": 11,
    "start_time": "2022-11-28T20:32:36.814Z"
   },
   {
    "duration": 32,
    "start_time": "2022-11-28T20:32:36.826Z"
   },
   {
    "duration": 107,
    "start_time": "2022-11-28T20:32:36.859Z"
   },
   {
    "duration": 0,
    "start_time": "2022-11-28T20:32:36.967Z"
   },
   {
    "duration": 14,
    "start_time": "2022-11-28T20:33:53.636Z"
   },
   {
    "duration": 33,
    "start_time": "2022-11-28T20:34:04.547Z"
   },
   {
    "duration": 10,
    "start_time": "2022-11-28T20:34:10.403Z"
   },
   {
    "duration": 234,
    "start_time": "2022-11-28T20:35:21.235Z"
   },
   {
    "duration": 866,
    "start_time": "2022-11-28T20:36:01.370Z"
   },
   {
    "duration": 257,
    "start_time": "2022-11-28T20:41:25.864Z"
   },
   {
    "duration": 83,
    "start_time": "2022-11-28T20:42:20.187Z"
   },
   {
    "duration": 37,
    "start_time": "2022-11-28T20:44:02.114Z"
   },
   {
    "duration": 59,
    "start_time": "2022-11-28T20:45:23.155Z"
   },
   {
    "duration": 47,
    "start_time": "2022-11-29T13:54:42.666Z"
   },
   {
    "duration": 1127,
    "start_time": "2022-11-29T13:54:52.341Z"
   },
   {
    "duration": 74,
    "start_time": "2022-11-29T13:54:53.470Z"
   },
   {
    "duration": 11,
    "start_time": "2022-11-29T13:54:53.545Z"
   },
   {
    "duration": 27,
    "start_time": "2022-11-29T13:54:53.558Z"
   },
   {
    "duration": 6,
    "start_time": "2022-11-29T13:54:53.587Z"
   },
   {
    "duration": 12,
    "start_time": "2022-11-29T13:54:53.594Z"
   },
   {
    "duration": 10,
    "start_time": "2022-11-29T13:54:53.607Z"
   },
   {
    "duration": 30,
    "start_time": "2022-11-29T13:54:53.618Z"
   },
   {
    "duration": 8,
    "start_time": "2022-11-29T13:54:53.650Z"
   },
   {
    "duration": 37,
    "start_time": "2022-11-29T13:54:53.660Z"
   },
   {
    "duration": 61,
    "start_time": "2022-11-29T13:54:53.699Z"
   },
   {
    "duration": 923,
    "start_time": "2022-11-29T13:54:53.762Z"
   },
   {
    "duration": 52,
    "start_time": "2022-11-29T13:54:54.687Z"
   },
   {
    "duration": 1104,
    "start_time": "2022-11-29T15:59:22.030Z"
   },
   {
    "duration": 78,
    "start_time": "2022-11-29T15:59:23.136Z"
   },
   {
    "duration": 12,
    "start_time": "2022-11-29T15:59:23.216Z"
   },
   {
    "duration": 22,
    "start_time": "2022-11-29T15:59:23.230Z"
   },
   {
    "duration": 7,
    "start_time": "2022-11-29T15:59:23.255Z"
   },
   {
    "duration": 10,
    "start_time": "2022-11-29T15:59:23.263Z"
   },
   {
    "duration": 5,
    "start_time": "2022-11-29T15:59:23.274Z"
   },
   {
    "duration": 40,
    "start_time": "2022-11-29T15:59:23.281Z"
   },
   {
    "duration": 10,
    "start_time": "2022-11-29T15:59:23.323Z"
   },
   {
    "duration": 38,
    "start_time": "2022-11-29T15:59:23.335Z"
   },
   {
    "duration": 58,
    "start_time": "2022-11-29T15:59:23.375Z"
   },
   {
    "duration": 915,
    "start_time": "2022-11-29T15:59:23.435Z"
   },
   {
    "duration": 39,
    "start_time": "2022-11-29T15:59:24.352Z"
   },
   {
    "duration": 100,
    "start_time": "2022-11-29T15:59:24.393Z"
   },
   {
    "duration": 41,
    "start_time": "2022-11-29T16:02:50.334Z"
   },
   {
    "duration": 1135,
    "start_time": "2022-11-29T16:03:17.308Z"
   },
   {
    "duration": 51,
    "start_time": "2022-11-29T16:03:18.446Z"
   },
   {
    "duration": 10,
    "start_time": "2022-11-29T16:03:18.499Z"
   },
   {
    "duration": 48,
    "start_time": "2022-11-29T16:03:18.511Z"
   },
   {
    "duration": 8,
    "start_time": "2022-11-29T16:03:18.562Z"
   },
   {
    "duration": 11,
    "start_time": "2022-11-29T16:03:18.572Z"
   },
   {
    "duration": 7,
    "start_time": "2022-11-29T16:03:18.585Z"
   },
   {
    "duration": 24,
    "start_time": "2022-11-29T16:03:18.593Z"
   },
   {
    "duration": 10,
    "start_time": "2022-11-29T16:03:18.618Z"
   },
   {
    "duration": 126,
    "start_time": "2022-11-29T16:03:18.630Z"
   },
   {
    "duration": 0,
    "start_time": "2022-11-29T16:03:18.758Z"
   },
   {
    "duration": 0,
    "start_time": "2022-11-29T16:03:18.760Z"
   },
   {
    "duration": 0,
    "start_time": "2022-11-29T16:03:18.761Z"
   },
   {
    "duration": 0,
    "start_time": "2022-11-29T16:03:18.763Z"
   },
   {
    "duration": 36,
    "start_time": "2022-11-29T16:03:36.642Z"
   },
   {
    "duration": 1095,
    "start_time": "2022-11-29T16:03:52.418Z"
   },
   {
    "duration": 50,
    "start_time": "2022-11-29T16:03:53.515Z"
   },
   {
    "duration": 12,
    "start_time": "2022-11-29T16:03:53.567Z"
   },
   {
    "duration": 30,
    "start_time": "2022-11-29T16:03:53.581Z"
   },
   {
    "duration": 12,
    "start_time": "2022-11-29T16:03:53.613Z"
   },
   {
    "duration": 17,
    "start_time": "2022-11-29T16:03:53.628Z"
   },
   {
    "duration": 7,
    "start_time": "2022-11-29T16:03:53.647Z"
   },
   {
    "duration": 21,
    "start_time": "2022-11-29T16:03:53.656Z"
   },
   {
    "duration": 9,
    "start_time": "2022-11-29T16:03:53.678Z"
   },
   {
    "duration": 59,
    "start_time": "2022-11-29T16:03:53.689Z"
   },
   {
    "duration": 34,
    "start_time": "2022-11-29T16:03:53.749Z"
   },
   {
    "duration": 925,
    "start_time": "2022-11-29T16:03:53.785Z"
   },
   {
    "duration": 45,
    "start_time": "2022-11-29T16:03:54.713Z"
   },
   {
    "duration": 78,
    "start_time": "2022-11-29T16:03:54.761Z"
   },
   {
    "duration": 36,
    "start_time": "2022-11-29T16:04:29.411Z"
   },
   {
    "duration": 883,
    "start_time": "2022-11-29T16:05:21.097Z"
   },
   {
    "duration": 1921,
    "start_time": "2022-11-29T16:06:42.065Z"
   },
   {
    "duration": 44,
    "start_time": "2022-11-29T16:07:22.785Z"
   },
   {
    "duration": 39,
    "start_time": "2022-11-29T16:07:42.642Z"
   },
   {
    "duration": 53,
    "start_time": "2022-11-29T16:08:00.665Z"
   },
   {
    "duration": 44,
    "start_time": "2022-11-29T16:08:09.405Z"
   },
   {
    "duration": 2082,
    "start_time": "2022-11-29T16:16:12.172Z"
   },
   {
    "duration": 26,
    "start_time": "2022-11-29T16:16:58.173Z"
   },
   {
    "duration": 18,
    "start_time": "2022-11-29T16:50:20.864Z"
   },
   {
    "duration": 16,
    "start_time": "2022-11-29T16:54:04.207Z"
   },
   {
    "duration": 42,
    "start_time": "2022-11-29T16:54:23.377Z"
   },
   {
    "duration": 9,
    "start_time": "2022-11-29T16:54:26.359Z"
   },
   {
    "duration": 1135,
    "start_time": "2022-11-29T16:54:50.710Z"
   },
   {
    "duration": 43,
    "start_time": "2022-11-29T16:54:51.847Z"
   },
   {
    "duration": 12,
    "start_time": "2022-11-29T16:54:51.891Z"
   },
   {
    "duration": 27,
    "start_time": "2022-11-29T16:54:51.905Z"
   },
   {
    "duration": 15,
    "start_time": "2022-11-29T16:54:51.933Z"
   },
   {
    "duration": 11,
    "start_time": "2022-11-29T16:54:51.950Z"
   },
   {
    "duration": 9,
    "start_time": "2022-11-29T16:54:51.963Z"
   },
   {
    "duration": 18,
    "start_time": "2022-11-29T16:54:51.974Z"
   },
   {
    "duration": 29,
    "start_time": "2022-11-29T16:54:51.994Z"
   },
   {
    "duration": 38,
    "start_time": "2022-11-29T16:54:52.026Z"
   },
   {
    "duration": 52,
    "start_time": "2022-11-29T16:54:52.066Z"
   },
   {
    "duration": 1924,
    "start_time": "2022-11-29T16:54:52.124Z"
   },
   {
    "duration": 27,
    "start_time": "2022-11-29T16:54:54.050Z"
   },
   {
    "duration": 54,
    "start_time": "2022-11-29T16:54:54.079Z"
   },
   {
    "duration": 8,
    "start_time": "2022-11-29T16:54:54.135Z"
   },
   {
    "duration": 71,
    "start_time": "2022-11-29T16:54:54.145Z"
   },
   {
    "duration": 983,
    "start_time": "2022-11-29T17:02:47.498Z"
   },
   {
    "duration": 1122,
    "start_time": "2022-11-29T17:03:11.001Z"
   },
   {
    "duration": 1533,
    "start_time": "2022-11-29T17:03:17.968Z"
   },
   {
    "duration": 1920,
    "start_time": "2022-11-29T17:03:23.953Z"
   },
   {
    "duration": 1903,
    "start_time": "2022-11-29T17:03:50.530Z"
   },
   {
    "duration": 35,
    "start_time": "2022-11-29T17:06:30.578Z"
   },
   {
    "duration": 35,
    "start_time": "2022-11-29T17:06:53.858Z"
   },
   {
    "duration": 37,
    "start_time": "2022-11-29T17:07:09.947Z"
   },
   {
    "duration": 34,
    "start_time": "2022-11-29T17:08:22.201Z"
   },
   {
    "duration": 44,
    "start_time": "2022-11-29T17:08:27.194Z"
   },
   {
    "duration": 47,
    "start_time": "2022-11-29T17:08:35.568Z"
   },
   {
    "duration": 8,
    "start_time": "2022-11-29T17:11:08.253Z"
   },
   {
    "duration": 1153,
    "start_time": "2022-11-29T17:11:17.821Z"
   },
   {
    "duration": 54,
    "start_time": "2022-11-29T17:11:18.977Z"
   },
   {
    "duration": 15,
    "start_time": "2022-11-29T17:11:19.034Z"
   },
   {
    "duration": 46,
    "start_time": "2022-11-29T17:11:19.051Z"
   },
   {
    "duration": 16,
    "start_time": "2022-11-29T17:11:19.100Z"
   },
   {
    "duration": 14,
    "start_time": "2022-11-29T17:11:19.118Z"
   },
   {
    "duration": 24,
    "start_time": "2022-11-29T17:11:19.134Z"
   },
   {
    "duration": 11,
    "start_time": "2022-11-29T17:11:19.160Z"
   },
   {
    "duration": 65,
    "start_time": "2022-11-29T17:11:19.173Z"
   },
   {
    "duration": 32,
    "start_time": "2022-11-29T17:11:19.240Z"
   },
   {
    "duration": 2027,
    "start_time": "2022-11-29T17:11:19.274Z"
   },
   {
    "duration": 34,
    "start_time": "2022-11-29T17:11:21.304Z"
   },
   {
    "duration": 41,
    "start_time": "2022-11-29T17:11:21.340Z"
   },
   {
    "duration": 29,
    "start_time": "2022-11-29T17:11:21.384Z"
   },
   {
    "duration": 76,
    "start_time": "2022-11-29T17:11:21.415Z"
   },
   {
    "duration": 17,
    "start_time": "2022-11-29T17:11:36.154Z"
   },
   {
    "duration": 35,
    "start_time": "2022-11-29T17:12:32.852Z"
   },
   {
    "duration": 39,
    "start_time": "2022-11-29T17:13:28.114Z"
   },
   {
    "duration": 38,
    "start_time": "2022-11-29T17:13:46.218Z"
   },
   {
    "duration": 35,
    "start_time": "2022-11-29T17:14:10.642Z"
   },
   {
    "duration": 72,
    "start_time": "2022-11-29T17:14:56.076Z"
   },
   {
    "duration": 117,
    "start_time": "2022-11-29T17:15:02.288Z"
   },
   {
    "duration": 34,
    "start_time": "2022-11-29T17:15:08.538Z"
   },
   {
    "duration": 33,
    "start_time": "2022-11-29T17:16:00.771Z"
   },
   {
    "duration": 37,
    "start_time": "2022-11-29T17:16:27.282Z"
   },
   {
    "duration": 34,
    "start_time": "2022-11-29T17:16:52.834Z"
   },
   {
    "duration": 9,
    "start_time": "2022-11-29T17:17:19.514Z"
   },
   {
    "duration": 1051,
    "start_time": "2022-11-29T17:17:55.151Z"
   },
   {
    "duration": 42,
    "start_time": "2022-11-29T17:17:56.204Z"
   },
   {
    "duration": 10,
    "start_time": "2022-11-29T17:17:56.248Z"
   },
   {
    "duration": 25,
    "start_time": "2022-11-29T17:17:56.260Z"
   },
   {
    "duration": 5,
    "start_time": "2022-11-29T17:17:56.287Z"
   },
   {
    "duration": 10,
    "start_time": "2022-11-29T17:17:56.294Z"
   },
   {
    "duration": 23,
    "start_time": "2022-11-29T17:17:56.306Z"
   },
   {
    "duration": 9,
    "start_time": "2022-11-29T17:17:56.331Z"
   },
   {
    "duration": 49,
    "start_time": "2022-11-29T17:17:56.342Z"
   },
   {
    "duration": 32,
    "start_time": "2022-11-29T17:17:56.414Z"
   },
   {
    "duration": 1869,
    "start_time": "2022-11-29T17:17:56.449Z"
   },
   {
    "duration": 26,
    "start_time": "2022-11-29T17:17:58.319Z"
   },
   {
    "duration": 40,
    "start_time": "2022-11-29T17:17:58.347Z"
   },
   {
    "duration": 28,
    "start_time": "2022-11-29T17:17:58.389Z"
   },
   {
    "duration": 121,
    "start_time": "2022-11-29T17:17:58.419Z"
   },
   {
    "duration": 38,
    "start_time": "2022-11-29T17:18:16.060Z"
   },
   {
    "duration": 37,
    "start_time": "2022-11-29T17:18:41.478Z"
   },
   {
    "duration": 10,
    "start_time": "2022-11-29T17:19:18.011Z"
   },
   {
    "duration": 28,
    "start_time": "2022-11-29T17:20:14.148Z"
   },
   {
    "duration": 84,
    "start_time": "2022-11-29T17:20:23.308Z"
   },
   {
    "duration": 1819,
    "start_time": "2022-11-29T17:20:32.115Z"
   },
   {
    "duration": 1792,
    "start_time": "2022-11-29T17:21:08.500Z"
   },
   {
    "duration": 1863,
    "start_time": "2022-11-29T17:26:53.317Z"
   },
   {
    "duration": 1820,
    "start_time": "2022-11-29T17:27:41.403Z"
   },
   {
    "duration": 1101,
    "start_time": "2022-11-29T17:28:08.008Z"
   },
   {
    "duration": 41,
    "start_time": "2022-11-29T17:28:09.111Z"
   },
   {
    "duration": 10,
    "start_time": "2022-11-29T17:28:09.154Z"
   },
   {
    "duration": 24,
    "start_time": "2022-11-29T17:28:09.166Z"
   },
   {
    "duration": 7,
    "start_time": "2022-11-29T17:28:09.191Z"
   },
   {
    "duration": 9,
    "start_time": "2022-11-29T17:28:09.200Z"
   },
   {
    "duration": 19,
    "start_time": "2022-11-29T17:28:09.210Z"
   },
   {
    "duration": 9,
    "start_time": "2022-11-29T17:28:09.230Z"
   },
   {
    "duration": 34,
    "start_time": "2022-11-29T17:28:09.241Z"
   },
   {
    "duration": 50,
    "start_time": "2022-11-29T17:28:09.277Z"
   },
   {
    "duration": 2753,
    "start_time": "2022-11-29T17:28:09.329Z"
   },
   {
    "duration": 40,
    "start_time": "2022-11-29T17:28:12.084Z"
   },
   {
    "duration": 40,
    "start_time": "2022-11-29T17:28:12.125Z"
   },
   {
    "duration": 8,
    "start_time": "2022-11-29T17:28:12.168Z"
   },
   {
    "duration": 82,
    "start_time": "2022-11-29T17:28:12.178Z"
   },
   {
    "duration": 4767,
    "start_time": "2022-11-29T17:29:08.218Z"
   },
   {
    "duration": 5519,
    "start_time": "2022-11-29T17:29:21.778Z"
   },
   {
    "duration": 1122,
    "start_time": "2022-11-29T17:29:33.992Z"
   },
   {
    "duration": 43,
    "start_time": "2022-11-29T17:29:35.116Z"
   },
   {
    "duration": 11,
    "start_time": "2022-11-29T17:29:35.161Z"
   },
   {
    "duration": 31,
    "start_time": "2022-11-29T17:29:35.173Z"
   },
   {
    "duration": 6,
    "start_time": "2022-11-29T17:29:35.206Z"
   },
   {
    "duration": 8,
    "start_time": "2022-11-29T17:29:35.214Z"
   },
   {
    "duration": 20,
    "start_time": "2022-11-29T17:29:35.223Z"
   },
   {
    "duration": 8,
    "start_time": "2022-11-29T17:29:35.245Z"
   },
   {
    "duration": 35,
    "start_time": "2022-11-29T17:29:35.254Z"
   },
   {
    "duration": 50,
    "start_time": "2022-11-29T17:29:35.291Z"
   },
   {
    "duration": 6625,
    "start_time": "2022-11-29T17:29:35.343Z"
   },
   {
    "duration": 48,
    "start_time": "2022-11-29T17:29:41.970Z"
   },
   {
    "duration": 37,
    "start_time": "2022-11-29T17:29:42.020Z"
   },
   {
    "duration": 8,
    "start_time": "2022-11-29T17:29:42.060Z"
   },
   {
    "duration": 69,
    "start_time": "2022-11-29T17:29:42.070Z"
   },
   {
    "duration": 1106,
    "start_time": "2022-11-29T17:30:12.399Z"
   },
   {
    "duration": 42,
    "start_time": "2022-11-29T17:30:13.507Z"
   },
   {
    "duration": 11,
    "start_time": "2022-11-29T17:30:13.550Z"
   },
   {
    "duration": 26,
    "start_time": "2022-11-29T17:30:13.563Z"
   },
   {
    "duration": 6,
    "start_time": "2022-11-29T17:30:13.591Z"
   },
   {
    "duration": 10,
    "start_time": "2022-11-29T17:30:13.599Z"
   },
   {
    "duration": 20,
    "start_time": "2022-11-29T17:30:13.612Z"
   },
   {
    "duration": 9,
    "start_time": "2022-11-29T17:30:13.634Z"
   },
   {
    "duration": 37,
    "start_time": "2022-11-29T17:30:13.645Z"
   },
   {
    "duration": 52,
    "start_time": "2022-11-29T17:30:13.684Z"
   },
   {
    "duration": 44847,
    "start_time": "2022-11-29T17:30:13.738Z"
   },
   {
    "duration": 102,
    "start_time": "2022-11-29T17:30:58.586Z"
   },
   {
    "duration": 46,
    "start_time": "2022-11-29T17:30:58.690Z"
   },
   {
    "duration": 8,
    "start_time": "2022-11-29T17:30:58.737Z"
   },
   {
    "duration": 80,
    "start_time": "2022-11-29T17:30:58.746Z"
   },
   {
    "duration": 94,
    "start_time": "2022-11-29T17:33:34.398Z"
   },
   {
    "duration": 103,
    "start_time": "2022-11-29T17:37:29.076Z"
   },
   {
    "duration": 14,
    "start_time": "2022-11-29T17:38:48.427Z"
   },
   {
    "duration": 38,
    "start_time": "2022-11-29T17:39:42.843Z"
   },
   {
    "duration": 779,
    "start_time": "2022-11-29T17:40:17.443Z"
   },
   {
    "duration": 10,
    "start_time": "2022-11-29T17:40:25.739Z"
   },
   {
    "duration": 4602,
    "start_time": "2022-11-29T17:40:55.075Z"
   },
   {
    "duration": 17,
    "start_time": "2022-11-29T17:41:08.314Z"
   },
   {
    "duration": 1133,
    "start_time": "2022-11-29T17:41:21.395Z"
   },
   {
    "duration": 43,
    "start_time": "2022-11-29T17:41:22.531Z"
   },
   {
    "duration": 13,
    "start_time": "2022-11-29T17:41:22.576Z"
   },
   {
    "duration": 48,
    "start_time": "2022-11-29T17:41:22.590Z"
   },
   {
    "duration": 6,
    "start_time": "2022-11-29T17:41:22.640Z"
   },
   {
    "duration": 14,
    "start_time": "2022-11-29T17:41:22.648Z"
   },
   {
    "duration": 20,
    "start_time": "2022-11-29T17:41:22.663Z"
   },
   {
    "duration": 8,
    "start_time": "2022-11-29T17:41:22.685Z"
   },
   {
    "duration": 36,
    "start_time": "2022-11-29T17:41:22.713Z"
   },
   {
    "duration": 31,
    "start_time": "2022-11-29T17:41:22.751Z"
   },
   {
    "duration": 4792,
    "start_time": "2022-11-29T17:41:22.784Z"
   },
   {
    "duration": 43,
    "start_time": "2022-11-29T17:41:27.578Z"
   },
   {
    "duration": 40,
    "start_time": "2022-11-29T17:41:27.623Z"
   },
   {
    "duration": 8,
    "start_time": "2022-11-29T17:41:27.666Z"
   },
   {
    "duration": 43,
    "start_time": "2022-11-29T17:41:27.676Z"
   },
   {
    "duration": 4,
    "start_time": "2022-11-29T18:10:15.189Z"
   },
   {
    "duration": 96,
    "start_time": "2022-11-29T18:14:27.965Z"
   },
   {
    "duration": 1069,
    "start_time": "2022-11-29T18:14:36.454Z"
   },
   {
    "duration": 43,
    "start_time": "2022-11-29T18:14:37.525Z"
   },
   {
    "duration": 12,
    "start_time": "2022-11-29T18:14:37.570Z"
   },
   {
    "duration": 24,
    "start_time": "2022-11-29T18:14:37.584Z"
   },
   {
    "duration": 7,
    "start_time": "2022-11-29T18:14:37.609Z"
   },
   {
    "duration": 7,
    "start_time": "2022-11-29T18:14:37.618Z"
   },
   {
    "duration": 25,
    "start_time": "2022-11-29T18:14:37.628Z"
   },
   {
    "duration": 8,
    "start_time": "2022-11-29T18:14:37.655Z"
   },
   {
    "duration": 63,
    "start_time": "2022-11-29T18:14:37.664Z"
   },
   {
    "duration": 30,
    "start_time": "2022-11-29T18:14:37.730Z"
   },
   {
    "duration": 4817,
    "start_time": "2022-11-29T18:14:37.762Z"
   },
   {
    "duration": 48,
    "start_time": "2022-11-29T18:14:42.580Z"
   },
   {
    "duration": 39,
    "start_time": "2022-11-29T18:14:42.629Z"
   },
   {
    "duration": 8,
    "start_time": "2022-11-29T18:14:42.670Z"
   },
   {
    "duration": 39,
    "start_time": "2022-11-29T18:14:42.680Z"
   },
   {
    "duration": 125,
    "start_time": "2022-11-29T18:14:42.720Z"
   },
   {
    "duration": 402,
    "start_time": "2022-11-29T19:31:52.811Z"
   },
   {
    "duration": 1064,
    "start_time": "2022-11-29T19:33:17.333Z"
   },
   {
    "duration": 42,
    "start_time": "2022-11-29T19:33:18.399Z"
   },
   {
    "duration": 10,
    "start_time": "2022-11-29T19:33:18.443Z"
   },
   {
    "duration": 26,
    "start_time": "2022-11-29T19:33:18.454Z"
   },
   {
    "duration": 5,
    "start_time": "2022-11-29T19:33:18.482Z"
   },
   {
    "duration": 10,
    "start_time": "2022-11-29T19:33:18.489Z"
   },
   {
    "duration": 25,
    "start_time": "2022-11-29T19:33:18.501Z"
   },
   {
    "duration": 8,
    "start_time": "2022-11-29T19:33:18.528Z"
   },
   {
    "duration": 40,
    "start_time": "2022-11-29T19:33:18.537Z"
   },
   {
    "duration": 50,
    "start_time": "2022-11-29T19:33:18.579Z"
   },
   {
    "duration": 424,
    "start_time": "2022-11-29T19:33:18.630Z"
   },
   {
    "duration": 5636,
    "start_time": "2022-11-29T19:33:19.056Z"
   },
   {
    "duration": 44,
    "start_time": "2022-11-29T19:33:24.694Z"
   },
   {
    "duration": 39,
    "start_time": "2022-11-29T19:33:24.740Z"
   },
   {
    "duration": 8,
    "start_time": "2022-11-29T19:33:24.781Z"
   },
   {
    "duration": 35,
    "start_time": "2022-11-29T19:33:24.791Z"
   },
   {
    "duration": 791,
    "start_time": "2022-11-29T19:36:06.433Z"
   },
   {
    "duration": 9193,
    "start_time": "2022-11-29T19:36:45.559Z"
   },
   {
    "duration": 53339,
    "start_time": "2022-11-29T19:37:39.960Z"
   },
   {
    "duration": 136838,
    "start_time": "2022-11-29T19:39:05.216Z"
   },
   {
    "duration": 53738,
    "start_time": "2022-11-29T19:43:09.543Z"
   },
   {
    "duration": 89880,
    "start_time": "2022-11-29T19:44:39.543Z"
   },
   {
    "duration": 40,
    "start_time": "2022-11-29T19:54:17.736Z"
   },
   {
    "duration": 1074,
    "start_time": "2022-11-29T19:58:35.658Z"
   },
   {
    "duration": 43,
    "start_time": "2022-11-29T19:58:36.734Z"
   },
   {
    "duration": 11,
    "start_time": "2022-11-29T19:58:36.779Z"
   },
   {
    "duration": 24,
    "start_time": "2022-11-29T19:58:36.792Z"
   },
   {
    "duration": 6,
    "start_time": "2022-11-29T19:58:36.817Z"
   },
   {
    "duration": 9,
    "start_time": "2022-11-29T19:58:36.824Z"
   },
   {
    "duration": 20,
    "start_time": "2022-11-29T19:58:36.835Z"
   },
   {
    "duration": 9,
    "start_time": "2022-11-29T19:58:36.857Z"
   },
   {
    "duration": 70,
    "start_time": "2022-11-29T19:58:36.868Z"
   },
   {
    "duration": 39,
    "start_time": "2022-11-29T19:58:36.940Z"
   },
   {
    "duration": 424,
    "start_time": "2022-11-29T19:58:36.980Z"
   },
   {
    "duration": 90648,
    "start_time": "2022-11-29T19:58:37.406Z"
   },
   {
    "duration": 135,
    "start_time": "2022-11-29T20:00:08.056Z"
   },
   {
    "duration": 48,
    "start_time": "2022-11-29T20:00:08.193Z"
   },
   {
    "duration": 10,
    "start_time": "2022-11-29T20:00:08.242Z"
   },
   {
    "duration": 70,
    "start_time": "2022-11-29T20:00:08.253Z"
   },
   {
    "duration": 1467,
    "start_time": "2022-11-29T20:25:20.068Z"
   },
   {
    "duration": 81,
    "start_time": "2022-11-29T20:25:21.537Z"
   },
   {
    "duration": 12,
    "start_time": "2022-11-29T20:25:21.620Z"
   },
   {
    "duration": 31,
    "start_time": "2022-11-29T20:25:21.634Z"
   },
   {
    "duration": 8,
    "start_time": "2022-11-29T20:25:21.667Z"
   },
   {
    "duration": 11,
    "start_time": "2022-11-29T20:25:21.677Z"
   },
   {
    "duration": 20,
    "start_time": "2022-11-29T20:25:21.689Z"
   },
   {
    "duration": 11,
    "start_time": "2022-11-29T20:25:21.710Z"
   },
   {
    "duration": 43,
    "start_time": "2022-11-29T20:25:21.754Z"
   },
   {
    "duration": 60,
    "start_time": "2022-11-29T20:25:21.800Z"
   },
   {
    "duration": 466,
    "start_time": "2022-11-29T20:25:21.865Z"
   },
   {
    "duration": 104139,
    "start_time": "2022-11-29T20:25:22.333Z"
   },
   {
    "duration": 151,
    "start_time": "2022-11-29T20:27:06.474Z"
   },
   {
    "duration": 54,
    "start_time": "2022-11-29T20:27:06.627Z"
   },
   {
    "duration": 9,
    "start_time": "2022-11-29T20:27:06.683Z"
   },
   {
    "duration": 71,
    "start_time": "2022-11-29T20:27:06.693Z"
   },
   {
    "duration": 51,
    "start_time": "2022-11-30T13:15:15.760Z"
   },
   {
    "duration": 1284,
    "start_time": "2022-11-30T13:15:24.385Z"
   },
   {
    "duration": 186,
    "start_time": "2022-11-30T13:15:25.671Z"
   },
   {
    "duration": 12,
    "start_time": "2022-11-30T13:15:25.859Z"
   },
   {
    "duration": 58,
    "start_time": "2022-11-30T13:15:25.873Z"
   },
   {
    "duration": 28,
    "start_time": "2022-11-30T13:15:25.933Z"
   },
   {
    "duration": 62,
    "start_time": "2022-11-30T13:15:25.963Z"
   },
   {
    "duration": 48,
    "start_time": "2022-11-30T13:15:26.027Z"
   },
   {
    "duration": 21,
    "start_time": "2022-11-30T13:15:26.076Z"
   },
   {
    "duration": 85,
    "start_time": "2022-11-30T13:15:26.099Z"
   },
   {
    "duration": 49,
    "start_time": "2022-11-30T13:15:26.186Z"
   },
   {
    "duration": 518,
    "start_time": "2022-11-30T13:15:26.237Z"
   },
   {
    "duration": 101952,
    "start_time": "2022-11-30T13:15:26.757Z"
   },
   {
    "duration": 152,
    "start_time": "2022-11-30T13:17:08.711Z"
   },
   {
    "duration": 52,
    "start_time": "2022-11-30T13:17:08.865Z"
   },
   {
    "duration": 9,
    "start_time": "2022-11-30T13:17:08.919Z"
   },
   {
    "duration": 58,
    "start_time": "2022-11-30T13:17:08.929Z"
   },
   {
    "duration": 100,
    "start_time": "2022-11-30T13:29:45.364Z"
   },
   {
    "duration": 7,
    "start_time": "2022-11-30T13:35:08.693Z"
   },
   {
    "duration": 3,
    "start_time": "2022-12-01T12:33:26.559Z"
   },
   {
    "duration": 1075,
    "start_time": "2022-12-01T12:33:32.903Z"
   },
   {
    "duration": 139,
    "start_time": "2022-12-01T12:33:33.979Z"
   },
   {
    "duration": 11,
    "start_time": "2022-12-01T12:33:34.119Z"
   },
   {
    "duration": 35,
    "start_time": "2022-12-01T12:33:34.132Z"
   },
   {
    "duration": 15,
    "start_time": "2022-12-01T12:33:34.169Z"
   },
   {
    "duration": 23,
    "start_time": "2022-12-01T12:33:34.185Z"
   },
   {
    "duration": 50,
    "start_time": "2022-12-01T12:33:34.210Z"
   },
   {
    "duration": 16,
    "start_time": "2022-12-01T12:33:34.262Z"
   },
   {
    "duration": 56,
    "start_time": "2022-12-01T12:33:34.279Z"
   },
   {
    "duration": 2,
    "start_time": "2022-12-01T12:33:34.337Z"
   },
   {
    "duration": 401,
    "start_time": "2022-12-01T12:33:34.341Z"
   },
   {
    "duration": 89213,
    "start_time": "2022-12-01T12:33:34.744Z"
   },
   {
    "duration": 90,
    "start_time": "2022-12-01T12:35:03.959Z"
   },
   {
    "duration": 37,
    "start_time": "2022-12-01T12:35:04.051Z"
   },
   {
    "duration": 5,
    "start_time": "2022-12-01T12:35:04.090Z"
   },
   {
    "duration": 63,
    "start_time": "2022-12-01T12:35:04.096Z"
   },
   {
    "duration": 317,
    "start_time": "2022-12-01T13:01:39.197Z"
   },
   {
    "duration": 122,
    "start_time": "2022-12-01T13:07:09.833Z"
   },
   {
    "duration": 35,
    "start_time": "2022-12-01T13:16:18.008Z"
   },
   {
    "duration": 1296,
    "start_time": "2022-12-01T13:16:29.136Z"
   },
   {
    "duration": 39,
    "start_time": "2022-12-01T13:16:30.434Z"
   },
   {
    "duration": 11,
    "start_time": "2022-12-01T13:16:30.475Z"
   },
   {
    "duration": 44,
    "start_time": "2022-12-01T13:16:30.488Z"
   },
   {
    "duration": 9,
    "start_time": "2022-12-01T13:16:30.534Z"
   },
   {
    "duration": 49,
    "start_time": "2022-12-01T13:16:30.544Z"
   },
   {
    "duration": 96,
    "start_time": "2022-12-01T13:16:30.594Z"
   },
   {
    "duration": 55,
    "start_time": "2022-12-01T13:16:30.691Z"
   },
   {
    "duration": 112,
    "start_time": "2022-12-01T13:16:30.748Z"
   },
   {
    "duration": 150,
    "start_time": "2022-12-01T13:16:30.863Z"
   },
   {
    "duration": 2,
    "start_time": "2022-12-01T13:16:31.015Z"
   },
   {
    "duration": 429,
    "start_time": "2022-12-01T13:16:31.019Z"
   },
   {
    "duration": 89389,
    "start_time": "2022-12-01T13:16:31.449Z"
   },
   {
    "duration": 97,
    "start_time": "2022-12-01T13:18:00.840Z"
   },
   {
    "duration": 38,
    "start_time": "2022-12-01T13:18:00.939Z"
   },
   {
    "duration": 7,
    "start_time": "2022-12-01T13:18:00.979Z"
   },
   {
    "duration": 108,
    "start_time": "2022-12-01T13:18:00.988Z"
   },
   {
    "duration": 126,
    "start_time": "2022-12-01T13:18:37.294Z"
   },
   {
    "duration": 4,
    "start_time": "2022-12-01T13:36:50.486Z"
   },
   {
    "duration": 1291,
    "start_time": "2022-12-16T11:58:37.284Z"
   },
   {
    "duration": 139,
    "start_time": "2022-12-16T11:58:38.576Z"
   },
   {
    "duration": 10,
    "start_time": "2022-12-16T11:58:38.717Z"
   },
   {
    "duration": 21,
    "start_time": "2022-12-16T11:58:38.728Z"
   },
   {
    "duration": 5,
    "start_time": "2022-12-16T11:58:38.750Z"
   },
   {
    "duration": 11,
    "start_time": "2022-12-16T11:58:38.757Z"
   },
   {
    "duration": 29,
    "start_time": "2022-12-16T11:58:38.769Z"
   },
   {
    "duration": 5,
    "start_time": "2022-12-16T11:58:38.800Z"
   },
   {
    "duration": 34,
    "start_time": "2022-12-16T11:58:38.807Z"
   },
   {
    "duration": 149,
    "start_time": "2022-12-16T11:58:38.843Z"
   },
   {
    "duration": 2,
    "start_time": "2022-12-16T11:58:38.997Z"
   },
   {
    "duration": 393,
    "start_time": "2022-12-16T11:58:39.001Z"
   },
   {
    "duration": 87860,
    "start_time": "2022-12-16T11:58:39.396Z"
   },
   {
    "duration": 92,
    "start_time": "2022-12-16T12:00:07.258Z"
   },
   {
    "duration": 49,
    "start_time": "2022-12-16T12:00:07.352Z"
   },
   {
    "duration": 6,
    "start_time": "2022-12-16T12:00:07.403Z"
   },
   {
    "duration": 96,
    "start_time": "2022-12-16T12:00:07.411Z"
   },
   {
    "duration": 1554,
    "start_time": "2023-07-19T12:54:48.742Z"
   },
   {
    "duration": 75,
    "start_time": "2023-07-19T12:54:53.932Z"
   },
   {
    "duration": 10,
    "start_time": "2023-07-19T12:54:56.107Z"
   },
   {
    "duration": 22,
    "start_time": "2023-07-19T12:54:58.014Z"
   },
   {
    "duration": 7,
    "start_time": "2023-07-19T12:55:06.550Z"
   },
   {
    "duration": 7,
    "start_time": "2023-07-19T12:55:09.937Z"
   },
   {
    "duration": 104,
    "start_time": "2023-07-19T12:55:26.565Z"
   },
   {
    "duration": 7,
    "start_time": "2023-07-19T12:55:31.815Z"
   },
   {
    "duration": 17,
    "start_time": "2023-07-19T12:55:37.416Z"
   },
   {
    "duration": 6,
    "start_time": "2023-07-19T12:55:42.937Z"
   },
   {
    "duration": 1352,
    "start_time": "2023-07-19T12:56:02.244Z"
   },
   {
    "duration": 39,
    "start_time": "2023-07-19T12:56:03.597Z"
   },
   {
    "duration": 10,
    "start_time": "2023-07-19T12:56:03.638Z"
   },
   {
    "duration": 23,
    "start_time": "2023-07-19T12:56:03.650Z"
   },
   {
    "duration": 7,
    "start_time": "2023-07-19T12:56:03.675Z"
   },
   {
    "duration": 7,
    "start_time": "2023-07-19T12:56:03.684Z"
   },
   {
    "duration": 17,
    "start_time": "2023-07-19T12:56:03.693Z"
   },
   {
    "duration": 6,
    "start_time": "2023-07-19T12:56:03.711Z"
   },
   {
    "duration": 65,
    "start_time": "2023-07-19T12:56:03.719Z"
   },
   {
    "duration": 133,
    "start_time": "2023-07-19T12:56:03.787Z"
   },
   {
    "duration": 2,
    "start_time": "2023-07-19T12:56:03.922Z"
   },
   {
    "duration": 436,
    "start_time": "2023-07-19T12:56:03.926Z"
   },
   {
    "duration": 89278,
    "start_time": "2023-07-19T12:56:04.363Z"
   },
   {
    "duration": 92,
    "start_time": "2023-07-19T12:57:33.643Z"
   },
   {
    "duration": 18,
    "start_time": "2023-07-19T12:57:33.737Z"
   },
   {
    "duration": 23,
    "start_time": "2023-07-19T12:57:33.757Z"
   },
   {
    "duration": 40,
    "start_time": "2023-07-19T12:57:33.782Z"
   },
   {
    "duration": 7,
    "start_time": "2023-07-19T13:09:49.995Z"
   },
   {
    "duration": 132,
    "start_time": "2023-07-19T13:25:31.582Z"
   },
   {
    "duration": 133,
    "start_time": "2023-07-19T13:26:25.889Z"
   },
   {
    "duration": 36,
    "start_time": "2023-07-19T13:28:38.075Z"
   },
   {
    "duration": 45,
    "start_time": "2023-07-19T13:28:45.067Z"
   },
   {
    "duration": 17,
    "start_time": "2023-07-19T13:29:25.533Z"
   },
   {
    "duration": 448,
    "start_time": "2023-07-19T13:29:41.057Z"
   },
   {
    "duration": 88857,
    "start_time": "2023-07-19T13:34:23.012Z"
   },
   {
    "duration": 27,
    "start_time": "2023-07-19T13:36:59.200Z"
   },
   {
    "duration": 8,
    "start_time": "2023-07-19T13:37:24.185Z"
   },
   {
    "duration": 43,
    "start_time": "2023-07-19T13:41:41.135Z"
   },
   {
    "duration": 1531,
    "start_time": "2023-07-20T05:51:58.777Z"
   },
   {
    "duration": 76,
    "start_time": "2023-07-20T05:52:00.310Z"
   },
   {
    "duration": 12,
    "start_time": "2023-07-20T05:52:00.387Z"
   },
   {
    "duration": 63,
    "start_time": "2023-07-20T05:52:00.401Z"
   },
   {
    "duration": 22,
    "start_time": "2023-07-20T05:52:00.465Z"
   },
   {
    "duration": 22,
    "start_time": "2023-07-20T05:52:00.488Z"
   },
   {
    "duration": 66,
    "start_time": "2023-07-20T05:52:00.511Z"
   },
   {
    "duration": 30,
    "start_time": "2023-07-20T05:52:00.579Z"
   },
   {
    "duration": 59,
    "start_time": "2023-07-20T05:52:00.611Z"
   },
   {
    "duration": 189,
    "start_time": "2023-07-20T05:52:00.672Z"
   },
   {
    "duration": 406,
    "start_time": "2023-07-20T05:52:00.867Z"
   },
   {
    "duration": 87366,
    "start_time": "2023-07-20T05:52:01.275Z"
   },
   {
    "duration": 86,
    "start_time": "2023-07-20T05:53:28.643Z"
   },
   {
    "duration": 17,
    "start_time": "2023-07-20T05:53:28.730Z"
   },
   {
    "duration": 5,
    "start_time": "2023-07-20T05:53:28.748Z"
   },
   {
    "duration": 38,
    "start_time": "2023-07-20T05:53:28.767Z"
   },
   {
    "duration": 12,
    "start_time": "2023-07-20T05:59:11.354Z"
   },
   {
    "duration": 100,
    "start_time": "2023-07-20T05:59:56.327Z"
   },
   {
    "duration": 5,
    "start_time": "2023-07-20T05:59:59.336Z"
   },
   {
    "duration": 14,
    "start_time": "2023-07-20T06:02:24.479Z"
   },
   {
    "duration": 3,
    "start_time": "2023-07-20T06:04:02.181Z"
   },
   {
    "duration": 5,
    "start_time": "2023-07-20T06:04:23.673Z"
   },
   {
    "duration": 816,
    "start_time": "2023-07-20T06:18:07.588Z"
   },
   {
    "duration": 29,
    "start_time": "2023-07-20T06:27:48.964Z"
   },
   {
    "duration": 94376,
    "start_time": "2023-07-20T06:28:36.702Z"
   },
   {
    "duration": 137,
    "start_time": "2023-07-20T06:32:08.780Z"
   },
   {
    "duration": 15,
    "start_time": "2023-07-20T08:19:13.951Z"
   },
   {
    "duration": 4,
    "start_time": "2023-07-20T08:19:34.170Z"
   },
   {
    "duration": 8,
    "start_time": "2023-07-20T08:19:37.861Z"
   },
   {
    "duration": 19,
    "start_time": "2023-07-20T08:20:40.034Z"
   },
   {
    "duration": 8,
    "start_time": "2023-07-20T08:20:49.269Z"
   },
   {
    "duration": 9,
    "start_time": "2023-07-20T08:21:07.198Z"
   },
   {
    "duration": 6,
    "start_time": "2023-07-20T08:21:45.024Z"
   },
   {
    "duration": 7,
    "start_time": "2023-07-20T08:21:53.164Z"
   },
   {
    "duration": 1472,
    "start_time": "2023-07-20T08:33:38.609Z"
   },
   {
    "duration": 40,
    "start_time": "2023-07-20T08:33:40.084Z"
   },
   {
    "duration": 55,
    "start_time": "2023-07-20T08:33:40.125Z"
   },
   {
    "duration": 24,
    "start_time": "2023-07-20T08:33:40.183Z"
   },
   {
    "duration": 8,
    "start_time": "2023-07-20T08:33:40.209Z"
   },
   {
    "duration": 14,
    "start_time": "2023-07-20T08:33:40.272Z"
   },
   {
    "duration": 22,
    "start_time": "2023-07-20T08:33:40.288Z"
   },
   {
    "duration": 7,
    "start_time": "2023-07-20T08:33:40.312Z"
   },
   {
    "duration": 47,
    "start_time": "2023-07-20T08:33:40.369Z"
   },
   {
    "duration": 314,
    "start_time": "2023-07-20T08:33:40.468Z"
   },
   {
    "duration": 903,
    "start_time": "2023-07-20T08:33:40.783Z"
   },
   {
    "duration": 1863,
    "start_time": "2023-07-20T08:34:35.849Z"
   },
   {
    "duration": 69,
    "start_time": "2023-07-20T08:34:37.715Z"
   },
   {
    "duration": 16,
    "start_time": "2023-07-20T08:34:37.787Z"
   },
   {
    "duration": 88,
    "start_time": "2023-07-20T08:34:37.806Z"
   },
   {
    "duration": 11,
    "start_time": "2023-07-20T08:34:37.896Z"
   },
   {
    "duration": 77,
    "start_time": "2023-07-20T08:34:37.909Z"
   },
   {
    "duration": 24,
    "start_time": "2023-07-20T08:34:37.988Z"
   },
   {
    "duration": 7,
    "start_time": "2023-07-20T08:34:38.015Z"
   },
   {
    "duration": 22,
    "start_time": "2023-07-20T08:34:38.068Z"
   },
   {
    "duration": 0,
    "start_time": "2023-07-20T08:34:38.092Z"
   },
   {
    "duration": 0,
    "start_time": "2023-07-20T08:34:38.094Z"
   },
   {
    "duration": 0,
    "start_time": "2023-07-20T08:34:38.096Z"
   },
   {
    "duration": 0,
    "start_time": "2023-07-20T08:34:38.097Z"
   },
   {
    "duration": 0,
    "start_time": "2023-07-20T08:34:38.099Z"
   },
   {
    "duration": 0,
    "start_time": "2023-07-20T08:34:38.099Z"
   },
   {
    "duration": 0,
    "start_time": "2023-07-20T08:34:38.101Z"
   },
   {
    "duration": 0,
    "start_time": "2023-07-20T08:34:38.102Z"
   },
   {
    "duration": 0,
    "start_time": "2023-07-20T08:34:38.104Z"
   },
   {
    "duration": 0,
    "start_time": "2023-07-20T08:34:38.105Z"
   },
   {
    "duration": 3,
    "start_time": "2023-07-20T08:37:07.763Z"
   },
   {
    "duration": 1489,
    "start_time": "2023-07-20T08:37:15.556Z"
   },
   {
    "duration": 57,
    "start_time": "2023-07-20T08:37:17.048Z"
   },
   {
    "duration": 14,
    "start_time": "2023-07-20T08:37:17.107Z"
   },
   {
    "duration": 41,
    "start_time": "2023-07-20T08:37:17.124Z"
   },
   {
    "duration": 9,
    "start_time": "2023-07-20T08:37:17.166Z"
   },
   {
    "duration": 18,
    "start_time": "2023-07-20T08:37:17.176Z"
   },
   {
    "duration": 51,
    "start_time": "2023-07-20T08:37:17.196Z"
   },
   {
    "duration": 35,
    "start_time": "2023-07-20T08:37:17.249Z"
   },
   {
    "duration": 22,
    "start_time": "2023-07-20T08:37:17.289Z"
   },
   {
    "duration": 0,
    "start_time": "2023-07-20T08:37:17.314Z"
   },
   {
    "duration": 0,
    "start_time": "2023-07-20T08:37:17.315Z"
   },
   {
    "duration": 0,
    "start_time": "2023-07-20T08:37:17.316Z"
   },
   {
    "duration": 0,
    "start_time": "2023-07-20T08:37:17.318Z"
   },
   {
    "duration": 0,
    "start_time": "2023-07-20T08:37:17.319Z"
   },
   {
    "duration": 0,
    "start_time": "2023-07-20T08:37:17.320Z"
   },
   {
    "duration": 0,
    "start_time": "2023-07-20T08:37:17.322Z"
   },
   {
    "duration": 0,
    "start_time": "2023-07-20T08:37:17.323Z"
   },
   {
    "duration": 0,
    "start_time": "2023-07-20T08:37:17.325Z"
   },
   {
    "duration": 0,
    "start_time": "2023-07-20T08:37:17.327Z"
   },
   {
    "duration": 3,
    "start_time": "2023-07-20T08:37:35.292Z"
   },
   {
    "duration": 1570,
    "start_time": "2023-07-20T08:37:40.067Z"
   },
   {
    "duration": 46,
    "start_time": "2023-07-20T08:37:41.639Z"
   },
   {
    "duration": 14,
    "start_time": "2023-07-20T08:37:41.686Z"
   },
   {
    "duration": 25,
    "start_time": "2023-07-20T08:37:41.703Z"
   },
   {
    "duration": 8,
    "start_time": "2023-07-20T08:37:41.730Z"
   },
   {
    "duration": 16,
    "start_time": "2023-07-20T08:37:41.740Z"
   },
   {
    "duration": 26,
    "start_time": "2023-07-20T08:37:41.773Z"
   },
   {
    "duration": 7,
    "start_time": "2023-07-20T08:37:41.801Z"
   },
   {
    "duration": 8,
    "start_time": "2023-07-20T08:37:41.810Z"
   },
   {
    "duration": 0,
    "start_time": "2023-07-20T08:37:41.820Z"
   },
   {
    "duration": 0,
    "start_time": "2023-07-20T08:37:41.822Z"
   },
   {
    "duration": 0,
    "start_time": "2023-07-20T08:37:41.824Z"
   },
   {
    "duration": 0,
    "start_time": "2023-07-20T08:37:41.825Z"
   },
   {
    "duration": 0,
    "start_time": "2023-07-20T08:37:41.826Z"
   },
   {
    "duration": 0,
    "start_time": "2023-07-20T08:37:41.828Z"
   },
   {
    "duration": 0,
    "start_time": "2023-07-20T08:37:41.829Z"
   },
   {
    "duration": 0,
    "start_time": "2023-07-20T08:37:41.831Z"
   },
   {
    "duration": 0,
    "start_time": "2023-07-20T08:37:41.834Z"
   },
   {
    "duration": 0,
    "start_time": "2023-07-20T08:37:41.873Z"
   },
   {
    "duration": 1436,
    "start_time": "2023-07-20T08:41:55.040Z"
   },
   {
    "duration": 49,
    "start_time": "2023-07-20T08:41:56.481Z"
   },
   {
    "duration": 12,
    "start_time": "2023-07-20T08:41:56.532Z"
   },
   {
    "duration": 37,
    "start_time": "2023-07-20T08:41:56.546Z"
   },
   {
    "duration": 16,
    "start_time": "2023-07-20T08:41:56.584Z"
   },
   {
    "duration": 7,
    "start_time": "2023-07-20T08:41:56.601Z"
   },
   {
    "duration": 20,
    "start_time": "2023-07-20T08:41:56.609Z"
   },
   {
    "duration": 6,
    "start_time": "2023-07-20T08:41:56.630Z"
   },
   {
    "duration": 49,
    "start_time": "2023-07-20T08:41:56.638Z"
   },
   {
    "duration": 188,
    "start_time": "2023-07-20T08:41:56.689Z"
   },
   {
    "duration": 439,
    "start_time": "2023-07-20T08:41:56.879Z"
   },
   {
    "duration": 97852,
    "start_time": "2023-07-20T08:41:57.319Z"
   },
   {
    "duration": 146,
    "start_time": "2023-07-20T08:43:35.176Z"
   },
   {
    "duration": 101,
    "start_time": "2023-07-20T08:43:35.324Z"
   },
   {
    "duration": 21,
    "start_time": "2023-07-20T08:43:35.427Z"
   },
   {
    "duration": 32,
    "start_time": "2023-07-20T08:43:35.450Z"
   },
   {
    "duration": 9,
    "start_time": "2023-07-20T08:43:35.486Z"
   },
   {
    "duration": 956,
    "start_time": "2023-07-20T08:43:35.497Z"
   },
   {
    "duration": 6,
    "start_time": "2023-07-20T08:43:36.455Z"
   },
   {
    "duration": 4,
    "start_time": "2023-07-20T08:44:37.330Z"
   }
  ],
  "kernelspec": {
   "display_name": "Python 3 (ipykernel)",
   "language": "python",
   "name": "python3"
  },
  "language_info": {
   "codemirror_mode": {
    "name": "ipython",
    "version": 3
   },
   "file_extension": ".py",
   "mimetype": "text/x-python",
   "name": "python",
   "nbconvert_exporter": "python",
   "pygments_lexer": "ipython3",
   "version": "3.9.5"
  },
  "toc": {
   "base_numbering": 1,
   "nav_menu": {},
   "number_sections": true,
   "sideBar": true,
   "skip_h1_title": true,
   "title_cell": "Содержание",
   "title_sidebar": "Contents",
   "toc_cell": true,
   "toc_position": {
    "height": "calc(100% - 180px)",
    "left": "10px",
    "top": "150px",
    "width": "265.25px"
   },
   "toc_section_display": true,
   "toc_window_display": true
  }
 },
 "nbformat": 4,
 "nbformat_minor": 2
}
