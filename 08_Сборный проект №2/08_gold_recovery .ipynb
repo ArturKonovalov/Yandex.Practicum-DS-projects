{
 "cells": [
  {
   "cell_type": "markdown",
   "metadata": {
    "toc": true
   },
   "source": [
    "<h1>Содержание<span class=\"tocSkip\"></span></h1>\n",
    "<div class=\"toc\"><ul class=\"toc-item\"><li><span><a href=\"#Подготовка-данных.\" data-toc-modified-id=\"Подготовка-данных.-1\"><span class=\"toc-item-num\">1&nbsp;&nbsp;</span><em>Подготовка данных.</em></a></span><ul class=\"toc-item\"><li><span><a href=\"#Проверка-правильности-расчета-эффективности-обогащения:\" data-toc-modified-id=\"Проверка-правильности-расчета-эффективности-обогащения:-1.1\"><span class=\"toc-item-num\">1.1&nbsp;&nbsp;</span>Проверка правильности расчета эффективности обогащения:</a></span><ul class=\"toc-item\"><li><span><a href=\"#Промежуточный-вывод:\" data-toc-modified-id=\"Промежуточный-вывод:-1.1.1\"><span class=\"toc-item-num\">1.1.1&nbsp;&nbsp;</span><strong>Промежуточный вывод:</strong></a></span></li></ul></li><li><span><a href=\"#Анализ-признаков:\" data-toc-modified-id=\"Анализ-признаков:-1.2\"><span class=\"toc-item-num\">1.2&nbsp;&nbsp;</span>Анализ признаков:</a></span><ul class=\"toc-item\"><li><span><a href=\"#Промежуточный-вывод:\" data-toc-modified-id=\"Промежуточный-вывод:-1.2.1\"><span class=\"toc-item-num\">1.2.1&nbsp;&nbsp;</span><strong>Промежуточный вывод:</strong></a></span></li></ul></li><li><span><a href=\"#Предобработка-данных:\" data-toc-modified-id=\"Предобработка-данных:-1.3\"><span class=\"toc-item-num\">1.3&nbsp;&nbsp;</span>Предобработка данных:</a></span><ul class=\"toc-item\"><li><span><a href=\"#Удаление-пропусков:\" data-toc-modified-id=\"Удаление-пропусков:-1.3.1\"><span class=\"toc-item-num\">1.3.1&nbsp;&nbsp;</span>Удаление пропусков:</a></span></li><li><span><a href=\"#Проверка-на-наличие-дубликатов:\" data-toc-modified-id=\"Проверка-на-наличие-дубликатов:-1.3.2\"><span class=\"toc-item-num\">1.3.2&nbsp;&nbsp;</span>Проверка на наличие дубликатов:</a></span></li><li><span><a href=\"#Создание-выборок:\" data-toc-modified-id=\"Создание-выборок:-1.3.3\"><span class=\"toc-item-num\">1.3.3&nbsp;&nbsp;</span>Создание выборок:</a></span></li><li><span><a href=\"#Удаление-ненужных-данных:\" data-toc-modified-id=\"Удаление-ненужных-данных:-1.3.4\"><span class=\"toc-item-num\">1.3.4&nbsp;&nbsp;</span>Удаление ненужных данных:</a></span></li><li><span><a href=\"#Промежуточный-вывод:\" data-toc-modified-id=\"Промежуточный-вывод:-1.3.5\"><span class=\"toc-item-num\">1.3.5&nbsp;&nbsp;</span><strong>Промежуточный вывод:</strong></a></span></li></ul></li><li><span><a href=\"#Вывод-блока:\" data-toc-modified-id=\"Вывод-блока:-1.4\"><span class=\"toc-item-num\">1.4&nbsp;&nbsp;</span><strong>Вывод блока:</strong></a></span></li></ul></li><li><span><a href=\"#Исследовательский-анализ-данных.\" data-toc-modified-id=\"Исследовательский-анализ-данных.-2\"><span class=\"toc-item-num\">2&nbsp;&nbsp;</span><em>Исследовательский анализ данных.</em></a></span><ul class=\"toc-item\"><li><span><a href=\"#Изменение-концентрации-металлов-(Au,-Ag,-Pb)-на-различных-этапах-очистки.\" data-toc-modified-id=\"Изменение-концентрации-металлов-(Au,-Ag,-Pb)-на-различных-этапах-очистки.-2.1\"><span class=\"toc-item-num\">2.1&nbsp;&nbsp;</span>Изменение концентрации металлов (Au, Ag, Pb) на различных этапах очистки.</a></span><ul class=\"toc-item\"><li><span><a href=\"#Промежуточный-вывод:\" data-toc-modified-id=\"Промежуточный-вывод:-2.1.1\"><span class=\"toc-item-num\">2.1.1&nbsp;&nbsp;</span><strong>Промежуточный вывод:</strong></a></span></li></ul></li><li><span><a href=\"#Сравнение-распределения-размеров-гранул-сырья-на-обучающей-и-тестовой-выборках.\" data-toc-modified-id=\"Сравнение-распределения-размеров-гранул-сырья-на-обучающей-и-тестовой-выборках.-2.2\"><span class=\"toc-item-num\">2.2&nbsp;&nbsp;</span>Сравнение распределения размеров гранул сырья на обучающей и тестовой выборках.</a></span><ul class=\"toc-item\"><li><span><a href=\"#Промежуточный-вывод:\" data-toc-modified-id=\"Промежуточный-вывод:-2.2.1\"><span class=\"toc-item-num\">2.2.1&nbsp;&nbsp;</span><strong>Промежуточный вывод:</strong></a></span></li></ul></li><li><span><a href=\"#Исследование-суммарной-концентрации-всех-веществ-на-разных-стадиях:-в-сырье,-в-черновом-и-финальном-концентратах.\" data-toc-modified-id=\"Исследование-суммарной-концентрации-всех-веществ-на-разных-стадиях:-в-сырье,-в-черновом-и-финальном-концентратах.-2.3\"><span class=\"toc-item-num\">2.3&nbsp;&nbsp;</span>Исследование суммарной концентрации всех веществ на разных стадиях: в сырье, в черновом и финальном концентратах.</a></span></li><li><span><a href=\"#Вывод-блока:\" data-toc-modified-id=\"Вывод-блока:-2.4\"><span class=\"toc-item-num\">2.4&nbsp;&nbsp;</span><strong>Вывод блока:</strong></a></span></li></ul></li><li><span><a href=\"#Обучение-и-тестирование-моделей.\" data-toc-modified-id=\"Обучение-и-тестирование-моделей.-3\"><span class=\"toc-item-num\">3&nbsp;&nbsp;</span><em>Обучение и тестирование моделей.</em></a></span><ul class=\"toc-item\"><li><span><a href=\"#Создание-выборок:\" data-toc-modified-id=\"Создание-выборок:-3.1\"><span class=\"toc-item-num\">3.1&nbsp;&nbsp;</span>Создание выборок:</a></span></li><li><span><a href=\"#Масштабирование-данных:\" data-toc-modified-id=\"Масштабирование-данных:-3.2\"><span class=\"toc-item-num\">3.2&nbsp;&nbsp;</span>Масштабирование данных:</a></span></li><li><span><a href=\"#Функции-для-вычисления-sMAPE-и-итоговой-sMAPE:\" data-toc-modified-id=\"Функции-для-вычисления-sMAPE-и-итоговой-sMAPE:-3.3\"><span class=\"toc-item-num\">3.3&nbsp;&nbsp;</span>Функции для вычисления sMAPE и итоговой sMAPE:</a></span></li><li><span><a href=\"#Дерево-решений:\" data-toc-modified-id=\"Дерево-решений:-3.4\"><span class=\"toc-item-num\">3.4&nbsp;&nbsp;</span>Дерево решений:</a></span><ul class=\"toc-item\"><li><span><a href=\"#Подбор-гиперпараметров-для-&quot;rougher&quot;:\" data-toc-modified-id=\"Подбор-гиперпараметров-для-&quot;rougher&quot;:-3.4.1\"><span class=\"toc-item-num\">3.4.1&nbsp;&nbsp;</span>Подбор гиперпараметров для \"rougher\":</a></span></li><li><span><a href=\"#Подбор-гиперпараметров-для-&quot;final&quot;:\" data-toc-modified-id=\"Подбор-гиперпараметров-для-&quot;final&quot;:-3.4.2\"><span class=\"toc-item-num\">3.4.2&nbsp;&nbsp;</span>Подбор гиперпараметров для \"final\":</a></span></li><li><span><a href=\"#Промежуточный-вывод:\" data-toc-modified-id=\"Промежуточный-вывод:-3.4.3\"><span class=\"toc-item-num\">3.4.3&nbsp;&nbsp;</span><strong>Промежуточный вывод:</strong></a></span></li></ul></li><li><span><a href=\"#Случайный-лес:\" data-toc-modified-id=\"Случайный-лес:-3.5\"><span class=\"toc-item-num\">3.5&nbsp;&nbsp;</span>Случайный лес:</a></span><ul class=\"toc-item\"><li><span><a href=\"#Подбор-гиперпараметров-для-&quot;rougher&quot;:\" data-toc-modified-id=\"Подбор-гиперпараметров-для-&quot;rougher&quot;:-3.5.1\"><span class=\"toc-item-num\">3.5.1&nbsp;&nbsp;</span>Подбор гиперпараметров для \"rougher\":</a></span></li><li><span><a href=\"#Подбор-гиперпараметров-для-&quot;final&quot;:\" data-toc-modified-id=\"Подбор-гиперпараметров-для-&quot;final&quot;:-3.5.2\"><span class=\"toc-item-num\">3.5.2&nbsp;&nbsp;</span>Подбор гиперпараметров для \"final\":</a></span></li><li><span><a href=\"#Промежуточный-вывод:\" data-toc-modified-id=\"Промежуточный-вывод:-3.5.3\"><span class=\"toc-item-num\">3.5.3&nbsp;&nbsp;</span><strong>Промежуточный вывод:</strong></a></span></li></ul></li><li><span><a href=\"#Линейная-регрессия:\" data-toc-modified-id=\"Линейная-регрессия:-3.6\"><span class=\"toc-item-num\">3.6&nbsp;&nbsp;</span>Линейная регрессия:</a></span><ul class=\"toc-item\"><li><span><a href=\"#Проверка-модели-LinearRegressor-для-&quot;rougher&quot;-идля-&quot;final&quot;:\" data-toc-modified-id=\"Проверка-модели-LinearRegressor-для-&quot;rougher&quot;-идля-&quot;final&quot;:-3.6.1\"><span class=\"toc-item-num\">3.6.1&nbsp;&nbsp;</span>Проверка модели LinearRegressor для \"rougher\" идля \"final\":</a></span></li></ul></li><li><span><a href=\"#Dummy-модель:\" data-toc-modified-id=\"Dummy-модель:-3.7\"><span class=\"toc-item-num\">3.7&nbsp;&nbsp;</span>Dummy модель:</a></span></li><li><span><a href=\"#Сравнение-моделей:\" data-toc-modified-id=\"Сравнение-моделей:-3.8\"><span class=\"toc-item-num\">3.8&nbsp;&nbsp;</span>Сравнение моделей:</a></span><ul class=\"toc-item\"><li><span><a href=\"#Промежуточный-вывод:\" data-toc-modified-id=\"Промежуточный-вывод:-3.8.1\"><span class=\"toc-item-num\">3.8.1&nbsp;&nbsp;</span><strong>Промежуточный вывод:</strong></a></span></li></ul></li><li><span><a href=\"#Тестирование-лучшей-модели:\" data-toc-modified-id=\"Тестирование-лучшей-модели:-3.9\"><span class=\"toc-item-num\">3.9&nbsp;&nbsp;</span>Тестирование лучшей модели:</a></span><ul class=\"toc-item\"><li><span><a href=\"#Промежуточный-вывод:\" data-toc-modified-id=\"Промежуточный-вывод:-3.9.1\"><span class=\"toc-item-num\">3.9.1&nbsp;&nbsp;</span><strong>Промежуточный вывод:</strong></a></span></li></ul></li></ul></li><li><span><a href=\"#Основные-выводы-по-каждому-этапу:\" data-toc-modified-id=\"Основные-выводы-по-каждому-этапу:-4\"><span class=\"toc-item-num\">4&nbsp;&nbsp;</span><strong><em>Основные выводы по каждому этапу:</em></strong></a></span></li><li><span><a href=\"#Общий-вывод:\" data-toc-modified-id=\"Общий-вывод:-5\"><span class=\"toc-item-num\">5&nbsp;&nbsp;</span><strong><em>Общий вывод:</em></strong></a></span></li></ul></div>"
   ]
  },
  {
   "cell_type": "markdown",
   "metadata": {},
   "source": [
    "# Восстановление золота из руды"
   ]
  },
  {
   "cell_type": "markdown",
   "metadata": {},
   "source": [
    "_____________________\n",
    "**Описание задачи:**\n",
    "\n",
    "Необходимо подготовить прототип модели машинного обучения для компании «Цифра». \n",
    "Фирма разрабатывает решения для эффективной работы промышленных предприятий.\n",
    "Модель поможет оптимизировать производство, чтобы не запускать предприятие с убыточными характеристиками.\n",
    "\n",
    "**Цель исследования:**\n",
    "1) Предсказать коэффициент восстановления золота из золотосодержащей руды.  \n",
    "\n",
    "**Исследование пройдёт в 3 этапа:**\n",
    "1. Подготовка данных.\n",
    "2. Анализ данных.\n",
    "3. Обучение и тестирование моделей.\n",
    "\n",
    "**Ход исследования:** \n",
    "\n",
    "*Этап 1. Подготовка данных:*\n",
    "- Первым делом откроем датасет и изучим основные аспекты.\n",
    "- Проверим правильность заполнения, наименования столбцов\\\n",
    "- Проверим правильность расчета эффективности обогащения.\n",
    "- Проанализируем признаки в выборках.\n",
    "- Продиагностируем данные на наличие пропусков и дубликатов.\n",
    "- Удалим ненужные столбцы.\n",
    "\n",
    "*Этап 2. Исследовательский анализ данных:*\n",
    "- Построим графики изменения концентрации металлов на различных этапах очистки.\n",
    "- Сравним распределения размеров гранул сырья на обучающей и тестовой выборках.\n",
    "- Исследуем суммарную концентрацию всех веществ на разных стадиях в сырье.\n",
    "\n",
    "*Этап 3. Обучение и проверка модели:*\n",
    "- Создадим выборки с нужными признаками.\n",
    "- Стандартизируем данные.\n",
    "- Подберем гиперпараметры дерева решений для целевого признака этапа *rougher* и *final*.\n",
    "- Подберем гиперпараметры случайного леса для целевого признака этапа *rougher* и *final*.\n",
    "- Подберем гиперпараметры линейной регрессии для целевого признака этапа *rougher* и *final*.\n",
    "- Выберем лучшую модель.\n",
    "- Построим константную модель для проверки на вменяемость.\n",
    "- Обучим лучшую модель и протестируем ее.\n",
    "___________"
   ]
  },
  {
   "cell_type": "markdown",
   "metadata": {},
   "source": [
    "**Описание данных:**\n",
    "\n",
    "В нашем распоряжении сырые данные с параметрами добычи и очистки руды: их просто выгрузили из хранилища.\n",
    "\n",
    "Данные находятся в трёх файлах:\n",
    "* `gold_recovery_train_new.csv` — обучающая выборка;\n",
    "* `gold_recovery_test_new.csv` — тестовая выборка;\n",
    "* `gold_recovery_full_new.csv` — исходные данные.\n",
    "\n",
    "Данные индексируются датой и временем получения информации (признак date). Соседние по времени параметры часто похожи.\n",
    "\n",
    "Некоторые параметры недоступны, потому что замеряются и/или рассчитываются значительно позже. Из-за этого в тестовой выборке отсутствуют некоторые признаки, которые могут быть в обучающей. Также в тестовом наборе нет целевых признаков.\n",
    "\n",
    "Исходный датасет содержит обучающую и тестовую выборки со всеми признаками.\n",
    "__________"
   ]
  },
  {
   "cell_type": "markdown",
   "metadata": {},
   "source": [
    "**Обозначения данных:**\n",
    "\n",
    "*Технологический процесс:*\n",
    "\n",
    "* `Rougher feed` — исходное сырье\n",
    "* `Rougher additions` (или reagent additions) — флотационные реагенты: Xanthate, Sulphate, Depressant\n",
    "* `Xanthate` — ксантогенат (промотер, или активатор флотации);\n",
    "* `Sulphate` — сульфат (на данном производстве сульфид натрия);\n",
    "* `Depressant` — депрессант (силикат натрия).\n",
    "* `Rougher process` (англ. «грубый процесс») — флотация\n",
    "* `Rougher tails` — отвальные хвосты\n",
    "* `Float banks` — флотационная установка\n",
    "* `Cleaner process` — очистка\n",
    "* `Rougher Au` — черновой концентрат золота\n",
    "* `Final Au` — финальный концентрат золота\n",
    "\n",
    "*Параметры этапов:*\n",
    "\n",
    "* `air amount` — объём воздуха\n",
    "* `fluid levels` — уровень жидкости\n",
    "* `feed size` — размер гранул сырья\n",
    "* `feed rate` — скорость подачи\n",
    "\n",
    "*Наименование признаков:*\n",
    "\n",
    "*Возможные значения признаков для блока [этап]:*\n",
    "\n",
    "* `rougher` — флотация\n",
    "* `primary_cleaner` — первичная очистка\n",
    "* `secondary_cleaner` — вторичная очистка\n",
    "* `final` — финальные характеристики\n",
    "\n",
    "*Возможные значения признаков для блока [тип_параметра]:*\n",
    "\n",
    "* `input` — параметры сырья\n",
    "* `output` — параметры продукта\n",
    "* `state` — параметры, характеризующие текущее состояние этапа\n",
    "* `calculation` — расчётные характеристики"
   ]
  },
  {
   "cell_type": "markdown",
   "metadata": {},
   "source": [
    "## *Подготовка данных.*\n",
    "_________"
   ]
  },
  {
   "cell_type": "markdown",
   "metadata": {},
   "source": [
    "**Импортируем все необходимые библиотеки:**"
   ]
  },
  {
   "cell_type": "code",
   "execution_count": 1,
   "metadata": {},
   "outputs": [],
   "source": [
    "import pandas as pd\n",
    "import numpy as np\n",
    "import seaborn as sns\n",
    "\n",
    "from sklearn.metrics import (mean_absolute_error, make_scorer)\n",
    "from sklearn.preprocessing import StandardScaler\n",
    "from sklearn.dummy import DummyRegressor\n",
    "from sklearn.tree import DecisionTreeRegressor\n",
    "from sklearn.ensemble import RandomForestRegressor\n",
    "from sklearn.linear_model import LinearRegression\n",
    "from sklearn.model_selection import (RandomizedSearchCV, cross_val_score)\n",
    "import matplotlib.pyplot as plt\n",
    "\n",
    "import warnings\n",
    "import random"
   ]
  },
  {
   "cell_type": "code",
   "execution_count": 2,
   "metadata": {},
   "outputs": [],
   "source": [
    "warnings.filterwarnings('ignore')\n",
    "pd.options.display.float_format = '{:.3f}'.format #преобразуем вид чисел в более удобный\n",
    "pd.set_option('display.max_columns', None) #изначально не все столбцы отображаются, исправим\n",
    "\n",
    "data_train = pd.read_csv('/datasets/gold_recovery_train_new.csv')\n",
    "data_test = pd.read_csv('/datasets/gold_recovery_test_new.csv')\n",
    "data_full = pd.read_csv('/datasets/gold_recovery_full_new.csv')"
   ]
  },
  {
   "cell_type": "markdown",
   "metadata": {},
   "source": [
    "**Посмотрим информацию обучающей выборки:**"
   ]
  },
  {
   "cell_type": "code",
   "execution_count": 3,
   "metadata": {},
   "outputs": [
    {
     "data": {
      "text/html": [
       "<div>\n",
       "<style scoped>\n",
       "    .dataframe tbody tr th:only-of-type {\n",
       "        vertical-align: middle;\n",
       "    }\n",
       "\n",
       "    .dataframe tbody tr th {\n",
       "        vertical-align: top;\n",
       "    }\n",
       "\n",
       "    .dataframe thead th {\n",
       "        text-align: right;\n",
       "    }\n",
       "</style>\n",
       "<table border=\"1\" class=\"dataframe\">\n",
       "  <thead>\n",
       "    <tr style=\"text-align: right;\">\n",
       "      <th></th>\n",
       "      <th>date</th>\n",
       "      <th>final.output.concentrate_ag</th>\n",
       "      <th>final.output.concentrate_pb</th>\n",
       "      <th>final.output.concentrate_sol</th>\n",
       "      <th>final.output.concentrate_au</th>\n",
       "      <th>final.output.recovery</th>\n",
       "      <th>final.output.tail_ag</th>\n",
       "      <th>final.output.tail_pb</th>\n",
       "      <th>final.output.tail_sol</th>\n",
       "      <th>final.output.tail_au</th>\n",
       "      <th>primary_cleaner.input.sulfate</th>\n",
       "      <th>primary_cleaner.input.depressant</th>\n",
       "      <th>primary_cleaner.input.feed_size</th>\n",
       "      <th>primary_cleaner.input.xanthate</th>\n",
       "      <th>primary_cleaner.output.concentrate_ag</th>\n",
       "      <th>primary_cleaner.output.concentrate_pb</th>\n",
       "      <th>primary_cleaner.output.concentrate_sol</th>\n",
       "      <th>primary_cleaner.output.concentrate_au</th>\n",
       "      <th>primary_cleaner.output.tail_ag</th>\n",
       "      <th>primary_cleaner.output.tail_pb</th>\n",
       "      <th>primary_cleaner.output.tail_sol</th>\n",
       "      <th>primary_cleaner.output.tail_au</th>\n",
       "      <th>primary_cleaner.state.floatbank8_a_air</th>\n",
       "      <th>primary_cleaner.state.floatbank8_a_level</th>\n",
       "      <th>primary_cleaner.state.floatbank8_b_air</th>\n",
       "      <th>primary_cleaner.state.floatbank8_b_level</th>\n",
       "      <th>primary_cleaner.state.floatbank8_c_air</th>\n",
       "      <th>primary_cleaner.state.floatbank8_c_level</th>\n",
       "      <th>primary_cleaner.state.floatbank8_d_air</th>\n",
       "      <th>primary_cleaner.state.floatbank8_d_level</th>\n",
       "      <th>rougher.calculation.sulfate_to_au_concentrate</th>\n",
       "      <th>rougher.calculation.floatbank10_sulfate_to_au_feed</th>\n",
       "      <th>rougher.calculation.floatbank11_sulfate_to_au_feed</th>\n",
       "      <th>rougher.calculation.au_pb_ratio</th>\n",
       "      <th>rougher.input.feed_ag</th>\n",
       "      <th>rougher.input.feed_pb</th>\n",
       "      <th>rougher.input.feed_rate</th>\n",
       "      <th>rougher.input.feed_size</th>\n",
       "      <th>rougher.input.feed_sol</th>\n",
       "      <th>rougher.input.feed_au</th>\n",
       "      <th>rougher.input.floatbank10_sulfate</th>\n",
       "      <th>rougher.input.floatbank10_xanthate</th>\n",
       "      <th>rougher.input.floatbank11_sulfate</th>\n",
       "      <th>rougher.input.floatbank11_xanthate</th>\n",
       "      <th>rougher.output.concentrate_ag</th>\n",
       "      <th>rougher.output.concentrate_pb</th>\n",
       "      <th>rougher.output.concentrate_sol</th>\n",
       "      <th>rougher.output.concentrate_au</th>\n",
       "      <th>rougher.output.recovery</th>\n",
       "      <th>rougher.output.tail_ag</th>\n",
       "      <th>rougher.output.tail_pb</th>\n",
       "      <th>rougher.output.tail_sol</th>\n",
       "      <th>rougher.output.tail_au</th>\n",
       "      <th>rougher.state.floatbank10_a_air</th>\n",
       "      <th>rougher.state.floatbank10_a_level</th>\n",
       "      <th>rougher.state.floatbank10_b_air</th>\n",
       "      <th>rougher.state.floatbank10_b_level</th>\n",
       "      <th>rougher.state.floatbank10_c_air</th>\n",
       "      <th>rougher.state.floatbank10_c_level</th>\n",
       "      <th>rougher.state.floatbank10_d_air</th>\n",
       "      <th>rougher.state.floatbank10_d_level</th>\n",
       "      <th>rougher.state.floatbank10_e_air</th>\n",
       "      <th>rougher.state.floatbank10_e_level</th>\n",
       "      <th>rougher.state.floatbank10_f_air</th>\n",
       "      <th>rougher.state.floatbank10_f_level</th>\n",
       "      <th>secondary_cleaner.output.tail_ag</th>\n",
       "      <th>secondary_cleaner.output.tail_pb</th>\n",
       "      <th>secondary_cleaner.output.tail_sol</th>\n",
       "      <th>secondary_cleaner.output.tail_au</th>\n",
       "      <th>secondary_cleaner.state.floatbank2_a_air</th>\n",
       "      <th>secondary_cleaner.state.floatbank2_a_level</th>\n",
       "      <th>secondary_cleaner.state.floatbank2_b_air</th>\n",
       "      <th>secondary_cleaner.state.floatbank2_b_level</th>\n",
       "      <th>secondary_cleaner.state.floatbank3_a_air</th>\n",
       "      <th>secondary_cleaner.state.floatbank3_a_level</th>\n",
       "      <th>secondary_cleaner.state.floatbank3_b_air</th>\n",
       "      <th>secondary_cleaner.state.floatbank3_b_level</th>\n",
       "      <th>secondary_cleaner.state.floatbank4_a_air</th>\n",
       "      <th>secondary_cleaner.state.floatbank4_a_level</th>\n",
       "      <th>secondary_cleaner.state.floatbank4_b_air</th>\n",
       "      <th>secondary_cleaner.state.floatbank4_b_level</th>\n",
       "      <th>secondary_cleaner.state.floatbank5_a_air</th>\n",
       "      <th>secondary_cleaner.state.floatbank5_a_level</th>\n",
       "      <th>secondary_cleaner.state.floatbank5_b_air</th>\n",
       "      <th>secondary_cleaner.state.floatbank5_b_level</th>\n",
       "      <th>secondary_cleaner.state.floatbank6_a_air</th>\n",
       "      <th>secondary_cleaner.state.floatbank6_a_level</th>\n",
       "    </tr>\n",
       "  </thead>\n",
       "  <tbody>\n",
       "    <tr>\n",
       "      <th>0</th>\n",
       "      <td>2016-01-15 00:00:00</td>\n",
       "      <td>6.055</td>\n",
       "      <td>9.890</td>\n",
       "      <td>5.507</td>\n",
       "      <td>42.192</td>\n",
       "      <td>70.541</td>\n",
       "      <td>10.412</td>\n",
       "      <td>0.895</td>\n",
       "      <td>16.904</td>\n",
       "      <td>2.143</td>\n",
       "      <td>127.092</td>\n",
       "      <td>10.128</td>\n",
       "      <td>7.250</td>\n",
       "      <td>0.989</td>\n",
       "      <td>8.548</td>\n",
       "      <td>10.390</td>\n",
       "      <td>19.529</td>\n",
       "      <td>34.174</td>\n",
       "      <td>14.937</td>\n",
       "      <td>2.535</td>\n",
       "      <td>7.476</td>\n",
       "      <td>2.107</td>\n",
       "      <td>1549.776</td>\n",
       "      <td>-498.912</td>\n",
       "      <td>1551.434</td>\n",
       "      <td>-516.403</td>\n",
       "      <td>1549.874</td>\n",
       "      <td>-498.667</td>\n",
       "      <td>1554.367</td>\n",
       "      <td>-493.428</td>\n",
       "      <td>41885.707</td>\n",
       "      <td>3481.779</td>\n",
       "      <td>3520.337</td>\n",
       "      <td>2.839</td>\n",
       "      <td>6.100</td>\n",
       "      <td>2.285</td>\n",
       "      <td>523.546</td>\n",
       "      <td>55.487</td>\n",
       "      <td>36.809</td>\n",
       "      <td>6.486</td>\n",
       "      <td>11.987</td>\n",
       "      <td>6.008</td>\n",
       "      <td>11.837</td>\n",
       "      <td>6.006</td>\n",
       "      <td>11.501</td>\n",
       "      <td>7.101</td>\n",
       "      <td>28.029</td>\n",
       "      <td>19.794</td>\n",
       "      <td>87.108</td>\n",
       "      <td>5.008</td>\n",
       "      <td>0.509</td>\n",
       "      <td>19.154</td>\n",
       "      <td>1.170</td>\n",
       "      <td>999.707</td>\n",
       "      <td>-404.067</td>\n",
       "      <td>1603.011</td>\n",
       "      <td>-434.715</td>\n",
       "      <td>1602.375</td>\n",
       "      <td>-442.204</td>\n",
       "      <td>1598.937</td>\n",
       "      <td>-451.294</td>\n",
       "      <td>1404.472</td>\n",
       "      <td>-455.463</td>\n",
       "      <td>1416.355</td>\n",
       "      <td>-451.940</td>\n",
       "      <td>14.500</td>\n",
       "      <td>4.695</td>\n",
       "      <td>8.765</td>\n",
       "      <td>2.606</td>\n",
       "      <td>25.853</td>\n",
       "      <td>-498.526</td>\n",
       "      <td>23.894</td>\n",
       "      <td>-501.406</td>\n",
       "      <td>23.962</td>\n",
       "      <td>-495.263</td>\n",
       "      <td>21.940</td>\n",
       "      <td>-499.341</td>\n",
       "      <td>14.017</td>\n",
       "      <td>-502.488</td>\n",
       "      <td>12.100</td>\n",
       "      <td>-504.716</td>\n",
       "      <td>9.926</td>\n",
       "      <td>-498.310</td>\n",
       "      <td>8.080</td>\n",
       "      <td>-500.471</td>\n",
       "      <td>14.151</td>\n",
       "      <td>-605.842</td>\n",
       "    </tr>\n",
       "    <tr>\n",
       "      <th>1</th>\n",
       "      <td>2016-01-15 01:00:00</td>\n",
       "      <td>6.029</td>\n",
       "      <td>9.969</td>\n",
       "      <td>5.258</td>\n",
       "      <td>42.702</td>\n",
       "      <td>69.266</td>\n",
       "      <td>10.463</td>\n",
       "      <td>0.927</td>\n",
       "      <td>16.635</td>\n",
       "      <td>2.225</td>\n",
       "      <td>125.629</td>\n",
       "      <td>10.296</td>\n",
       "      <td>7.250</td>\n",
       "      <td>1.003</td>\n",
       "      <td>8.559</td>\n",
       "      <td>10.497</td>\n",
       "      <td>19.369</td>\n",
       "      <td>34.119</td>\n",
       "      <td>16.251</td>\n",
       "      <td>3.050</td>\n",
       "      <td>6.734</td>\n",
       "      <td>2.353</td>\n",
       "      <td>1576.167</td>\n",
       "      <td>-500.905</td>\n",
       "      <td>1575.951</td>\n",
       "      <td>-499.866</td>\n",
       "      <td>1575.994</td>\n",
       "      <td>-499.315</td>\n",
       "      <td>1574.479</td>\n",
       "      <td>-498.932</td>\n",
       "      <td>42050.862</td>\n",
       "      <td>3498.371</td>\n",
       "      <td>3489.982</td>\n",
       "      <td>2.859</td>\n",
       "      <td>6.161</td>\n",
       "      <td>2.266</td>\n",
       "      <td>525.291</td>\n",
       "      <td>57.279</td>\n",
       "      <td>35.753</td>\n",
       "      <td>6.479</td>\n",
       "      <td>11.971</td>\n",
       "      <td>6.006</td>\n",
       "      <td>11.996</td>\n",
       "      <td>6.013</td>\n",
       "      <td>11.616</td>\n",
       "      <td>7.279</td>\n",
       "      <td>28.067</td>\n",
       "      <td>20.051</td>\n",
       "      <td>86.843</td>\n",
       "      <td>4.955</td>\n",
       "      <td>0.537</td>\n",
       "      <td>18.965</td>\n",
       "      <td>1.185</td>\n",
       "      <td>1000.286</td>\n",
       "      <td>-400.065</td>\n",
       "      <td>1600.755</td>\n",
       "      <td>-449.953</td>\n",
       "      <td>1600.480</td>\n",
       "      <td>-449.831</td>\n",
       "      <td>1600.528</td>\n",
       "      <td>-449.954</td>\n",
       "      <td>1399.227</td>\n",
       "      <td>-450.870</td>\n",
       "      <td>1399.720</td>\n",
       "      <td>-450.119</td>\n",
       "      <td>14.265</td>\n",
       "      <td>4.593</td>\n",
       "      <td>9.001</td>\n",
       "      <td>2.488</td>\n",
       "      <td>25.881</td>\n",
       "      <td>-499.990</td>\n",
       "      <td>23.890</td>\n",
       "      <td>-500.372</td>\n",
       "      <td>23.971</td>\n",
       "      <td>-500.085</td>\n",
       "      <td>22.086</td>\n",
       "      <td>-499.447</td>\n",
       "      <td>13.992</td>\n",
       "      <td>-505.503</td>\n",
       "      <td>11.951</td>\n",
       "      <td>-501.332</td>\n",
       "      <td>10.039</td>\n",
       "      <td>-500.170</td>\n",
       "      <td>7.985</td>\n",
       "      <td>-500.582</td>\n",
       "      <td>13.998</td>\n",
       "      <td>-599.787</td>\n",
       "    </tr>\n",
       "    <tr>\n",
       "      <th>2</th>\n",
       "      <td>2016-01-15 02:00:00</td>\n",
       "      <td>6.056</td>\n",
       "      <td>10.214</td>\n",
       "      <td>5.384</td>\n",
       "      <td>42.658</td>\n",
       "      <td>68.116</td>\n",
       "      <td>10.507</td>\n",
       "      <td>0.954</td>\n",
       "      <td>16.209</td>\n",
       "      <td>2.258</td>\n",
       "      <td>123.820</td>\n",
       "      <td>11.316</td>\n",
       "      <td>7.250</td>\n",
       "      <td>0.991</td>\n",
       "      <td>8.604</td>\n",
       "      <td>10.354</td>\n",
       "      <td>19.168</td>\n",
       "      <td>33.969</td>\n",
       "      <td>16.492</td>\n",
       "      <td>3.125</td>\n",
       "      <td>6.472</td>\n",
       "      <td>2.417</td>\n",
       "      <td>1601.556</td>\n",
       "      <td>-499.998</td>\n",
       "      <td>1600.387</td>\n",
       "      <td>-500.608</td>\n",
       "      <td>1602.004</td>\n",
       "      <td>-500.870</td>\n",
       "      <td>1599.542</td>\n",
       "      <td>-499.827</td>\n",
       "      <td>42018.101</td>\n",
       "      <td>3495.349</td>\n",
       "      <td>3502.360</td>\n",
       "      <td>2.946</td>\n",
       "      <td>6.116</td>\n",
       "      <td>2.160</td>\n",
       "      <td>530.027</td>\n",
       "      <td>57.511</td>\n",
       "      <td>35.972</td>\n",
       "      <td>6.362</td>\n",
       "      <td>11.921</td>\n",
       "      <td>6.197</td>\n",
       "      <td>11.920</td>\n",
       "      <td>6.205</td>\n",
       "      <td>11.696</td>\n",
       "      <td>7.217</td>\n",
       "      <td>27.454</td>\n",
       "      <td>19.737</td>\n",
       "      <td>86.842</td>\n",
       "      <td>4.843</td>\n",
       "      <td>0.546</td>\n",
       "      <td>18.809</td>\n",
       "      <td>1.163</td>\n",
       "      <td>999.720</td>\n",
       "      <td>-400.074</td>\n",
       "      <td>1599.337</td>\n",
       "      <td>-450.009</td>\n",
       "      <td>1599.673</td>\n",
       "      <td>-449.954</td>\n",
       "      <td>1599.849</td>\n",
       "      <td>-449.954</td>\n",
       "      <td>1399.181</td>\n",
       "      <td>-449.938</td>\n",
       "      <td>1400.317</td>\n",
       "      <td>-450.527</td>\n",
       "      <td>14.116</td>\n",
       "      <td>4.625</td>\n",
       "      <td>8.843</td>\n",
       "      <td>2.458</td>\n",
       "      <td>26.005</td>\n",
       "      <td>-499.930</td>\n",
       "      <td>23.887</td>\n",
       "      <td>-499.952</td>\n",
       "      <td>23.914</td>\n",
       "      <td>-499.442</td>\n",
       "      <td>23.958</td>\n",
       "      <td>-499.902</td>\n",
       "      <td>14.015</td>\n",
       "      <td>-502.521</td>\n",
       "      <td>11.913</td>\n",
       "      <td>-501.133</td>\n",
       "      <td>10.071</td>\n",
       "      <td>-500.129</td>\n",
       "      <td>8.014</td>\n",
       "      <td>-500.518</td>\n",
       "      <td>14.029</td>\n",
       "      <td>-601.427</td>\n",
       "    </tr>\n",
       "    <tr>\n",
       "      <th>3</th>\n",
       "      <td>2016-01-15 03:00:00</td>\n",
       "      <td>6.048</td>\n",
       "      <td>9.977</td>\n",
       "      <td>4.859</td>\n",
       "      <td>42.690</td>\n",
       "      <td>68.348</td>\n",
       "      <td>10.423</td>\n",
       "      <td>0.884</td>\n",
       "      <td>16.533</td>\n",
       "      <td>2.147</td>\n",
       "      <td>122.270</td>\n",
       "      <td>11.322</td>\n",
       "      <td>7.250</td>\n",
       "      <td>0.997</td>\n",
       "      <td>7.222</td>\n",
       "      <td>8.497</td>\n",
       "      <td>15.979</td>\n",
       "      <td>28.261</td>\n",
       "      <td>16.024</td>\n",
       "      <td>2.960</td>\n",
       "      <td>6.844</td>\n",
       "      <td>2.262</td>\n",
       "      <td>1599.969</td>\n",
       "      <td>-500.952</td>\n",
       "      <td>1600.659</td>\n",
       "      <td>-499.677</td>\n",
       "      <td>1600.304</td>\n",
       "      <td>-500.728</td>\n",
       "      <td>1600.450</td>\n",
       "      <td>-500.053</td>\n",
       "      <td>42029.448</td>\n",
       "      <td>3498.578</td>\n",
       "      <td>3499.163</td>\n",
       "      <td>3.002</td>\n",
       "      <td>6.043</td>\n",
       "      <td>2.038</td>\n",
       "      <td>542.590</td>\n",
       "      <td>57.793</td>\n",
       "      <td>36.862</td>\n",
       "      <td>6.118</td>\n",
       "      <td>11.630</td>\n",
       "      <td>6.203</td>\n",
       "      <td>11.692</td>\n",
       "      <td>6.197</td>\n",
       "      <td>11.915</td>\n",
       "      <td>7.176</td>\n",
       "      <td>27.341</td>\n",
       "      <td>19.321</td>\n",
       "      <td>87.226</td>\n",
       "      <td>4.655</td>\n",
       "      <td>0.543</td>\n",
       "      <td>19.330</td>\n",
       "      <td>1.080</td>\n",
       "      <td>999.815</td>\n",
       "      <td>-400.200</td>\n",
       "      <td>1600.059</td>\n",
       "      <td>-450.620</td>\n",
       "      <td>1600.013</td>\n",
       "      <td>-449.910</td>\n",
       "      <td>1597.725</td>\n",
       "      <td>-450.130</td>\n",
       "      <td>1400.943</td>\n",
       "      <td>-450.030</td>\n",
       "      <td>1400.235</td>\n",
       "      <td>-449.791</td>\n",
       "      <td>13.732</td>\n",
       "      <td>4.482</td>\n",
       "      <td>9.123</td>\n",
       "      <td>2.322</td>\n",
       "      <td>25.943</td>\n",
       "      <td>-499.177</td>\n",
       "      <td>23.956</td>\n",
       "      <td>-499.849</td>\n",
       "      <td>23.967</td>\n",
       "      <td>-500.009</td>\n",
       "      <td>23.954</td>\n",
       "      <td>-499.945</td>\n",
       "      <td>14.037</td>\n",
       "      <td>-500.857</td>\n",
       "      <td>12.000</td>\n",
       "      <td>-501.194</td>\n",
       "      <td>9.970</td>\n",
       "      <td>-499.202</td>\n",
       "      <td>7.977</td>\n",
       "      <td>-500.256</td>\n",
       "      <td>14.006</td>\n",
       "      <td>-599.996</td>\n",
       "    </tr>\n",
       "    <tr>\n",
       "      <th>4</th>\n",
       "      <td>2016-01-15 04:00:00</td>\n",
       "      <td>6.149</td>\n",
       "      <td>10.143</td>\n",
       "      <td>4.939</td>\n",
       "      <td>42.774</td>\n",
       "      <td>66.927</td>\n",
       "      <td>10.360</td>\n",
       "      <td>0.793</td>\n",
       "      <td>16.526</td>\n",
       "      <td>2.055</td>\n",
       "      <td>117.988</td>\n",
       "      <td>11.914</td>\n",
       "      <td>7.250</td>\n",
       "      <td>1.010</td>\n",
       "      <td>9.089</td>\n",
       "      <td>9.987</td>\n",
       "      <td>19.200</td>\n",
       "      <td>33.045</td>\n",
       "      <td>16.480</td>\n",
       "      <td>3.112</td>\n",
       "      <td>6.550</td>\n",
       "      <td>2.277</td>\n",
       "      <td>1601.340</td>\n",
       "      <td>-498.975</td>\n",
       "      <td>1601.438</td>\n",
       "      <td>-500.323</td>\n",
       "      <td>1599.582</td>\n",
       "      <td>-500.888</td>\n",
       "      <td>1602.650</td>\n",
       "      <td>-500.593</td>\n",
       "      <td>42125.354</td>\n",
       "      <td>3494.801</td>\n",
       "      <td>3506.679</td>\n",
       "      <td>3.170</td>\n",
       "      <td>6.061</td>\n",
       "      <td>1.787</td>\n",
       "      <td>540.532</td>\n",
       "      <td>56.047</td>\n",
       "      <td>34.348</td>\n",
       "      <td>5.664</td>\n",
       "      <td>10.958</td>\n",
       "      <td>6.199</td>\n",
       "      <td>10.961</td>\n",
       "      <td>6.195</td>\n",
       "      <td>12.411</td>\n",
       "      <td>7.240</td>\n",
       "      <td>27.041</td>\n",
       "      <td>19.216</td>\n",
       "      <td>86.689</td>\n",
       "      <td>4.553</td>\n",
       "      <td>0.515</td>\n",
       "      <td>19.267</td>\n",
       "      <td>1.013</td>\n",
       "      <td>999.679</td>\n",
       "      <td>-399.753</td>\n",
       "      <td>1600.209</td>\n",
       "      <td>-449.600</td>\n",
       "      <td>1600.358</td>\n",
       "      <td>-450.034</td>\n",
       "      <td>1599.759</td>\n",
       "      <td>-449.910</td>\n",
       "      <td>1401.561</td>\n",
       "      <td>-448.877</td>\n",
       "      <td>1401.160</td>\n",
       "      <td>-450.407</td>\n",
       "      <td>14.080</td>\n",
       "      <td>4.471</td>\n",
       "      <td>8.871</td>\n",
       "      <td>2.330</td>\n",
       "      <td>26.025</td>\n",
       "      <td>-500.279</td>\n",
       "      <td>23.955</td>\n",
       "      <td>-500.594</td>\n",
       "      <td>23.986</td>\n",
       "      <td>-500.084</td>\n",
       "      <td>23.959</td>\n",
       "      <td>-499.990</td>\n",
       "      <td>14.027</td>\n",
       "      <td>-499.839</td>\n",
       "      <td>11.953</td>\n",
       "      <td>-501.054</td>\n",
       "      <td>9.926</td>\n",
       "      <td>-501.687</td>\n",
       "      <td>7.894</td>\n",
       "      <td>-500.356</td>\n",
       "      <td>13.997</td>\n",
       "      <td>-601.497</td>\n",
       "    </tr>\n",
       "  </tbody>\n",
       "</table>\n",
       "</div>"
      ],
      "text/plain": [
       "                  date  final.output.concentrate_ag  \\\n",
       "0  2016-01-15 00:00:00                        6.055   \n",
       "1  2016-01-15 01:00:00                        6.029   \n",
       "2  2016-01-15 02:00:00                        6.056   \n",
       "3  2016-01-15 03:00:00                        6.048   \n",
       "4  2016-01-15 04:00:00                        6.149   \n",
       "\n",
       "   final.output.concentrate_pb  final.output.concentrate_sol  \\\n",
       "0                        9.890                         5.507   \n",
       "1                        9.969                         5.258   \n",
       "2                       10.214                         5.384   \n",
       "3                        9.977                         4.859   \n",
       "4                       10.143                         4.939   \n",
       "\n",
       "   final.output.concentrate_au  final.output.recovery  final.output.tail_ag  \\\n",
       "0                       42.192                 70.541                10.412   \n",
       "1                       42.702                 69.266                10.463   \n",
       "2                       42.658                 68.116                10.507   \n",
       "3                       42.690                 68.348                10.423   \n",
       "4                       42.774                 66.927                10.360   \n",
       "\n",
       "   final.output.tail_pb  final.output.tail_sol  final.output.tail_au  \\\n",
       "0                 0.895                 16.904                 2.143   \n",
       "1                 0.927                 16.635                 2.225   \n",
       "2                 0.954                 16.209                 2.258   \n",
       "3                 0.884                 16.533                 2.147   \n",
       "4                 0.793                 16.526                 2.055   \n",
       "\n",
       "   primary_cleaner.input.sulfate  primary_cleaner.input.depressant  \\\n",
       "0                        127.092                            10.128   \n",
       "1                        125.629                            10.296   \n",
       "2                        123.820                            11.316   \n",
       "3                        122.270                            11.322   \n",
       "4                        117.988                            11.914   \n",
       "\n",
       "   primary_cleaner.input.feed_size  primary_cleaner.input.xanthate  \\\n",
       "0                            7.250                           0.989   \n",
       "1                            7.250                           1.003   \n",
       "2                            7.250                           0.991   \n",
       "3                            7.250                           0.997   \n",
       "4                            7.250                           1.010   \n",
       "\n",
       "   primary_cleaner.output.concentrate_ag  \\\n",
       "0                                  8.548   \n",
       "1                                  8.559   \n",
       "2                                  8.604   \n",
       "3                                  7.222   \n",
       "4                                  9.089   \n",
       "\n",
       "   primary_cleaner.output.concentrate_pb  \\\n",
       "0                                 10.390   \n",
       "1                                 10.497   \n",
       "2                                 10.354   \n",
       "3                                  8.497   \n",
       "4                                  9.987   \n",
       "\n",
       "   primary_cleaner.output.concentrate_sol  \\\n",
       "0                                  19.529   \n",
       "1                                  19.369   \n",
       "2                                  19.168   \n",
       "3                                  15.979   \n",
       "4                                  19.200   \n",
       "\n",
       "   primary_cleaner.output.concentrate_au  primary_cleaner.output.tail_ag  \\\n",
       "0                                 34.174                          14.937   \n",
       "1                                 34.119                          16.251   \n",
       "2                                 33.969                          16.492   \n",
       "3                                 28.261                          16.024   \n",
       "4                                 33.045                          16.480   \n",
       "\n",
       "   primary_cleaner.output.tail_pb  primary_cleaner.output.tail_sol  \\\n",
       "0                           2.535                            7.476   \n",
       "1                           3.050                            6.734   \n",
       "2                           3.125                            6.472   \n",
       "3                           2.960                            6.844   \n",
       "4                           3.112                            6.550   \n",
       "\n",
       "   primary_cleaner.output.tail_au  primary_cleaner.state.floatbank8_a_air  \\\n",
       "0                           2.107                                1549.776   \n",
       "1                           2.353                                1576.167   \n",
       "2                           2.417                                1601.556   \n",
       "3                           2.262                                1599.969   \n",
       "4                           2.277                                1601.340   \n",
       "\n",
       "   primary_cleaner.state.floatbank8_a_level  \\\n",
       "0                                  -498.912   \n",
       "1                                  -500.905   \n",
       "2                                  -499.998   \n",
       "3                                  -500.952   \n",
       "4                                  -498.975   \n",
       "\n",
       "   primary_cleaner.state.floatbank8_b_air  \\\n",
       "0                                1551.434   \n",
       "1                                1575.951   \n",
       "2                                1600.387   \n",
       "3                                1600.659   \n",
       "4                                1601.438   \n",
       "\n",
       "   primary_cleaner.state.floatbank8_b_level  \\\n",
       "0                                  -516.403   \n",
       "1                                  -499.866   \n",
       "2                                  -500.608   \n",
       "3                                  -499.677   \n",
       "4                                  -500.323   \n",
       "\n",
       "   primary_cleaner.state.floatbank8_c_air  \\\n",
       "0                                1549.874   \n",
       "1                                1575.994   \n",
       "2                                1602.004   \n",
       "3                                1600.304   \n",
       "4                                1599.582   \n",
       "\n",
       "   primary_cleaner.state.floatbank8_c_level  \\\n",
       "0                                  -498.667   \n",
       "1                                  -499.315   \n",
       "2                                  -500.870   \n",
       "3                                  -500.728   \n",
       "4                                  -500.888   \n",
       "\n",
       "   primary_cleaner.state.floatbank8_d_air  \\\n",
       "0                                1554.367   \n",
       "1                                1574.479   \n",
       "2                                1599.542   \n",
       "3                                1600.450   \n",
       "4                                1602.650   \n",
       "\n",
       "   primary_cleaner.state.floatbank8_d_level  \\\n",
       "0                                  -493.428   \n",
       "1                                  -498.932   \n",
       "2                                  -499.827   \n",
       "3                                  -500.053   \n",
       "4                                  -500.593   \n",
       "\n",
       "   rougher.calculation.sulfate_to_au_concentrate  \\\n",
       "0                                      41885.707   \n",
       "1                                      42050.862   \n",
       "2                                      42018.101   \n",
       "3                                      42029.448   \n",
       "4                                      42125.354   \n",
       "\n",
       "   rougher.calculation.floatbank10_sulfate_to_au_feed  \\\n",
       "0                                           3481.779    \n",
       "1                                           3498.371    \n",
       "2                                           3495.349    \n",
       "3                                           3498.578    \n",
       "4                                           3494.801    \n",
       "\n",
       "   rougher.calculation.floatbank11_sulfate_to_au_feed  \\\n",
       "0                                           3520.337    \n",
       "1                                           3489.982    \n",
       "2                                           3502.360    \n",
       "3                                           3499.163    \n",
       "4                                           3506.679    \n",
       "\n",
       "   rougher.calculation.au_pb_ratio  rougher.input.feed_ag  \\\n",
       "0                            2.839                  6.100   \n",
       "1                            2.859                  6.161   \n",
       "2                            2.946                  6.116   \n",
       "3                            3.002                  6.043   \n",
       "4                            3.170                  6.061   \n",
       "\n",
       "   rougher.input.feed_pb  rougher.input.feed_rate  rougher.input.feed_size  \\\n",
       "0                  2.285                  523.546                   55.487   \n",
       "1                  2.266                  525.291                   57.279   \n",
       "2                  2.160                  530.027                   57.511   \n",
       "3                  2.038                  542.590                   57.793   \n",
       "4                  1.787                  540.532                   56.047   \n",
       "\n",
       "   rougher.input.feed_sol  rougher.input.feed_au  \\\n",
       "0                  36.809                  6.486   \n",
       "1                  35.753                  6.479   \n",
       "2                  35.972                  6.362   \n",
       "3                  36.862                  6.118   \n",
       "4                  34.348                  5.664   \n",
       "\n",
       "   rougher.input.floatbank10_sulfate  rougher.input.floatbank10_xanthate  \\\n",
       "0                             11.987                               6.008   \n",
       "1                             11.971                               6.006   \n",
       "2                             11.921                               6.197   \n",
       "3                             11.630                               6.203   \n",
       "4                             10.958                               6.199   \n",
       "\n",
       "   rougher.input.floatbank11_sulfate  rougher.input.floatbank11_xanthate  \\\n",
       "0                             11.837                               6.006   \n",
       "1                             11.996                               6.013   \n",
       "2                             11.920                               6.205   \n",
       "3                             11.692                               6.197   \n",
       "4                             10.961                               6.195   \n",
       "\n",
       "   rougher.output.concentrate_ag  rougher.output.concentrate_pb  \\\n",
       "0                         11.501                          7.101   \n",
       "1                         11.616                          7.279   \n",
       "2                         11.696                          7.217   \n",
       "3                         11.915                          7.176   \n",
       "4                         12.411                          7.240   \n",
       "\n",
       "   rougher.output.concentrate_sol  rougher.output.concentrate_au  \\\n",
       "0                          28.029                         19.794   \n",
       "1                          28.067                         20.051   \n",
       "2                          27.454                         19.737   \n",
       "3                          27.341                         19.321   \n",
       "4                          27.041                         19.216   \n",
       "\n",
       "   rougher.output.recovery  rougher.output.tail_ag  rougher.output.tail_pb  \\\n",
       "0                   87.108                   5.008                   0.509   \n",
       "1                   86.843                   4.955                   0.537   \n",
       "2                   86.842                   4.843                   0.546   \n",
       "3                   87.226                   4.655                   0.543   \n",
       "4                   86.689                   4.553                   0.515   \n",
       "\n",
       "   rougher.output.tail_sol  rougher.output.tail_au  \\\n",
       "0                   19.154                   1.170   \n",
       "1                   18.965                   1.185   \n",
       "2                   18.809                   1.163   \n",
       "3                   19.330                   1.080   \n",
       "4                   19.267                   1.013   \n",
       "\n",
       "   rougher.state.floatbank10_a_air  rougher.state.floatbank10_a_level  \\\n",
       "0                          999.707                           -404.067   \n",
       "1                         1000.286                           -400.065   \n",
       "2                          999.720                           -400.074   \n",
       "3                          999.815                           -400.200   \n",
       "4                          999.679                           -399.753   \n",
       "\n",
       "   rougher.state.floatbank10_b_air  rougher.state.floatbank10_b_level  \\\n",
       "0                         1603.011                           -434.715   \n",
       "1                         1600.755                           -449.953   \n",
       "2                         1599.337                           -450.009   \n",
       "3                         1600.059                           -450.620   \n",
       "4                         1600.209                           -449.600   \n",
       "\n",
       "   rougher.state.floatbank10_c_air  rougher.state.floatbank10_c_level  \\\n",
       "0                         1602.375                           -442.204   \n",
       "1                         1600.480                           -449.831   \n",
       "2                         1599.673                           -449.954   \n",
       "3                         1600.013                           -449.910   \n",
       "4                         1600.358                           -450.034   \n",
       "\n",
       "   rougher.state.floatbank10_d_air  rougher.state.floatbank10_d_level  \\\n",
       "0                         1598.937                           -451.294   \n",
       "1                         1600.528                           -449.954   \n",
       "2                         1599.849                           -449.954   \n",
       "3                         1597.725                           -450.130   \n",
       "4                         1599.759                           -449.910   \n",
       "\n",
       "   rougher.state.floatbank10_e_air  rougher.state.floatbank10_e_level  \\\n",
       "0                         1404.472                           -455.463   \n",
       "1                         1399.227                           -450.870   \n",
       "2                         1399.181                           -449.938   \n",
       "3                         1400.943                           -450.030   \n",
       "4                         1401.561                           -448.877   \n",
       "\n",
       "   rougher.state.floatbank10_f_air  rougher.state.floatbank10_f_level  \\\n",
       "0                         1416.355                           -451.940   \n",
       "1                         1399.720                           -450.119   \n",
       "2                         1400.317                           -450.527   \n",
       "3                         1400.235                           -449.791   \n",
       "4                         1401.160                           -450.407   \n",
       "\n",
       "   secondary_cleaner.output.tail_ag  secondary_cleaner.output.tail_pb  \\\n",
       "0                            14.500                             4.695   \n",
       "1                            14.265                             4.593   \n",
       "2                            14.116                             4.625   \n",
       "3                            13.732                             4.482   \n",
       "4                            14.080                             4.471   \n",
       "\n",
       "   secondary_cleaner.output.tail_sol  secondary_cleaner.output.tail_au  \\\n",
       "0                              8.765                             2.606   \n",
       "1                              9.001                             2.488   \n",
       "2                              8.843                             2.458   \n",
       "3                              9.123                             2.322   \n",
       "4                              8.871                             2.330   \n",
       "\n",
       "   secondary_cleaner.state.floatbank2_a_air  \\\n",
       "0                                    25.853   \n",
       "1                                    25.881   \n",
       "2                                    26.005   \n",
       "3                                    25.943   \n",
       "4                                    26.025   \n",
       "\n",
       "   secondary_cleaner.state.floatbank2_a_level  \\\n",
       "0                                    -498.526   \n",
       "1                                    -499.990   \n",
       "2                                    -499.930   \n",
       "3                                    -499.177   \n",
       "4                                    -500.279   \n",
       "\n",
       "   secondary_cleaner.state.floatbank2_b_air  \\\n",
       "0                                    23.894   \n",
       "1                                    23.890   \n",
       "2                                    23.887   \n",
       "3                                    23.956   \n",
       "4                                    23.955   \n",
       "\n",
       "   secondary_cleaner.state.floatbank2_b_level  \\\n",
       "0                                    -501.406   \n",
       "1                                    -500.372   \n",
       "2                                    -499.952   \n",
       "3                                    -499.849   \n",
       "4                                    -500.594   \n",
       "\n",
       "   secondary_cleaner.state.floatbank3_a_air  \\\n",
       "0                                    23.962   \n",
       "1                                    23.971   \n",
       "2                                    23.914   \n",
       "3                                    23.967   \n",
       "4                                    23.986   \n",
       "\n",
       "   secondary_cleaner.state.floatbank3_a_level  \\\n",
       "0                                    -495.263   \n",
       "1                                    -500.085   \n",
       "2                                    -499.442   \n",
       "3                                    -500.009   \n",
       "4                                    -500.084   \n",
       "\n",
       "   secondary_cleaner.state.floatbank3_b_air  \\\n",
       "0                                    21.940   \n",
       "1                                    22.086   \n",
       "2                                    23.958   \n",
       "3                                    23.954   \n",
       "4                                    23.959   \n",
       "\n",
       "   secondary_cleaner.state.floatbank3_b_level  \\\n",
       "0                                    -499.341   \n",
       "1                                    -499.447   \n",
       "2                                    -499.902   \n",
       "3                                    -499.945   \n",
       "4                                    -499.990   \n",
       "\n",
       "   secondary_cleaner.state.floatbank4_a_air  \\\n",
       "0                                    14.017   \n",
       "1                                    13.992   \n",
       "2                                    14.015   \n",
       "3                                    14.037   \n",
       "4                                    14.027   \n",
       "\n",
       "   secondary_cleaner.state.floatbank4_a_level  \\\n",
       "0                                    -502.488   \n",
       "1                                    -505.503   \n",
       "2                                    -502.521   \n",
       "3                                    -500.857   \n",
       "4                                    -499.839   \n",
       "\n",
       "   secondary_cleaner.state.floatbank4_b_air  \\\n",
       "0                                    12.100   \n",
       "1                                    11.951   \n",
       "2                                    11.913   \n",
       "3                                    12.000   \n",
       "4                                    11.953   \n",
       "\n",
       "   secondary_cleaner.state.floatbank4_b_level  \\\n",
       "0                                    -504.716   \n",
       "1                                    -501.332   \n",
       "2                                    -501.133   \n",
       "3                                    -501.194   \n",
       "4                                    -501.054   \n",
       "\n",
       "   secondary_cleaner.state.floatbank5_a_air  \\\n",
       "0                                     9.926   \n",
       "1                                    10.039   \n",
       "2                                    10.071   \n",
       "3                                     9.970   \n",
       "4                                     9.926   \n",
       "\n",
       "   secondary_cleaner.state.floatbank5_a_level  \\\n",
       "0                                    -498.310   \n",
       "1                                    -500.170   \n",
       "2                                    -500.129   \n",
       "3                                    -499.202   \n",
       "4                                    -501.687   \n",
       "\n",
       "   secondary_cleaner.state.floatbank5_b_air  \\\n",
       "0                                     8.080   \n",
       "1                                     7.985   \n",
       "2                                     8.014   \n",
       "3                                     7.977   \n",
       "4                                     7.894   \n",
       "\n",
       "   secondary_cleaner.state.floatbank5_b_level  \\\n",
       "0                                    -500.471   \n",
       "1                                    -500.582   \n",
       "2                                    -500.518   \n",
       "3                                    -500.256   \n",
       "4                                    -500.356   \n",
       "\n",
       "   secondary_cleaner.state.floatbank6_a_air  \\\n",
       "0                                    14.151   \n",
       "1                                    13.998   \n",
       "2                                    14.029   \n",
       "3                                    14.006   \n",
       "4                                    13.997   \n",
       "\n",
       "   secondary_cleaner.state.floatbank6_a_level  \n",
       "0                                    -605.842  \n",
       "1                                    -599.787  \n",
       "2                                    -601.427  \n",
       "3                                    -599.996  \n",
       "4                                    -601.497  "
      ]
     },
     "execution_count": 3,
     "metadata": {},
     "output_type": "execute_result"
    }
   ],
   "source": [
    "data_train.head()"
   ]
  },
  {
   "cell_type": "code",
   "execution_count": 4,
   "metadata": {},
   "outputs": [
    {
     "data": {
      "text/html": [
       "<div>\n",
       "<style scoped>\n",
       "    .dataframe tbody tr th:only-of-type {\n",
       "        vertical-align: middle;\n",
       "    }\n",
       "\n",
       "    .dataframe tbody tr th {\n",
       "        vertical-align: top;\n",
       "    }\n",
       "\n",
       "    .dataframe thead th {\n",
       "        text-align: right;\n",
       "    }\n",
       "</style>\n",
       "<table border=\"1\" class=\"dataframe\">\n",
       "  <thead>\n",
       "    <tr style=\"text-align: right;\">\n",
       "      <th></th>\n",
       "      <th>count</th>\n",
       "      <th>mean</th>\n",
       "      <th>std</th>\n",
       "      <th>min</th>\n",
       "      <th>25%</th>\n",
       "      <th>50%</th>\n",
       "      <th>75%</th>\n",
       "      <th>max</th>\n",
       "    </tr>\n",
       "  </thead>\n",
       "  <tbody>\n",
       "    <tr>\n",
       "      <th>final.output.concentrate_ag</th>\n",
       "      <td>14148.000</td>\n",
       "      <td>5.142</td>\n",
       "      <td>1.370</td>\n",
       "      <td>0.000</td>\n",
       "      <td>4.212</td>\n",
       "      <td>4.995</td>\n",
       "      <td>5.860</td>\n",
       "      <td>16.002</td>\n",
       "    </tr>\n",
       "    <tr>\n",
       "      <th>final.output.concentrate_pb</th>\n",
       "      <td>14148.000</td>\n",
       "      <td>10.133</td>\n",
       "      <td>1.655</td>\n",
       "      <td>0.000</td>\n",
       "      <td>9.297</td>\n",
       "      <td>10.297</td>\n",
       "      <td>11.171</td>\n",
       "      <td>17.032</td>\n",
       "    </tr>\n",
       "    <tr>\n",
       "      <th>final.output.concentrate_sol</th>\n",
       "      <td>13938.000</td>\n",
       "      <td>9.203</td>\n",
       "      <td>2.791</td>\n",
       "      <td>0.000</td>\n",
       "      <td>7.485</td>\n",
       "      <td>8.845</td>\n",
       "      <td>10.488</td>\n",
       "      <td>18.125</td>\n",
       "    </tr>\n",
       "    <tr>\n",
       "      <th>final.output.concentrate_au</th>\n",
       "      <td>14149.000</td>\n",
       "      <td>44.004</td>\n",
       "      <td>4.905</td>\n",
       "      <td>0.000</td>\n",
       "      <td>43.276</td>\n",
       "      <td>44.872</td>\n",
       "      <td>46.166</td>\n",
       "      <td>52.757</td>\n",
       "    </tr>\n",
       "    <tr>\n",
       "      <th>final.output.recovery</th>\n",
       "      <td>14149.000</td>\n",
       "      <td>66.519</td>\n",
       "      <td>10.295</td>\n",
       "      <td>0.000</td>\n",
       "      <td>62.546</td>\n",
       "      <td>67.433</td>\n",
       "      <td>72.346</td>\n",
       "      <td>100.000</td>\n",
       "    </tr>\n",
       "    <tr>\n",
       "      <th>...</th>\n",
       "      <td>...</td>\n",
       "      <td>...</td>\n",
       "      <td>...</td>\n",
       "      <td>...</td>\n",
       "      <td>...</td>\n",
       "      <td>...</td>\n",
       "      <td>...</td>\n",
       "      <td>...</td>\n",
       "    </tr>\n",
       "    <tr>\n",
       "      <th>secondary_cleaner.state.floatbank5_a_level</th>\n",
       "      <td>14148.000</td>\n",
       "      <td>-483.956</td>\n",
       "      <td>37.893</td>\n",
       "      <td>-797.142</td>\n",
       "      <td>-500.363</td>\n",
       "      <td>-499.702</td>\n",
       "      <td>-487.712</td>\n",
       "      <td>-275.073</td>\n",
       "    </tr>\n",
       "    <tr>\n",
       "      <th>secondary_cleaner.state.floatbank5_b_air</th>\n",
       "      <td>14148.000</td>\n",
       "      <td>13.065</td>\n",
       "      <td>5.766</td>\n",
       "      <td>0.646</td>\n",
       "      <td>8.994</td>\n",
       "      <td>11.998</td>\n",
       "      <td>17.983</td>\n",
       "      <td>27.926</td>\n",
       "    </tr>\n",
       "    <tr>\n",
       "      <th>secondary_cleaner.state.floatbank5_b_level</th>\n",
       "      <td>14148.000</td>\n",
       "      <td>-483.967</td>\n",
       "      <td>39.208</td>\n",
       "      <td>-800.006</td>\n",
       "      <td>-500.106</td>\n",
       "      <td>-499.915</td>\n",
       "      <td>-453.187</td>\n",
       "      <td>-157.396</td>\n",
       "    </tr>\n",
       "    <tr>\n",
       "      <th>secondary_cleaner.state.floatbank6_a_air</th>\n",
       "      <td>14147.000</td>\n",
       "      <td>19.578</td>\n",
       "      <td>5.764</td>\n",
       "      <td>0.195</td>\n",
       "      <td>14.989</td>\n",
       "      <td>19.984</td>\n",
       "      <td>24.992</td>\n",
       "      <td>32.189</td>\n",
       "    </tr>\n",
       "    <tr>\n",
       "      <th>secondary_cleaner.state.floatbank6_a_level</th>\n",
       "      <td>14148.000</td>\n",
       "      <td>-506.798</td>\n",
       "      <td>37.079</td>\n",
       "      <td>-809.399</td>\n",
       "      <td>-500.745</td>\n",
       "      <td>-500.061</td>\n",
       "      <td>-499.536</td>\n",
       "      <td>-104.427</td>\n",
       "    </tr>\n",
       "  </tbody>\n",
       "</table>\n",
       "<p>86 rows × 8 columns</p>\n",
       "</div>"
      ],
      "text/plain": [
       "                                               count     mean    std      min  \\\n",
       "final.output.concentrate_ag                14148.000    5.142  1.370    0.000   \n",
       "final.output.concentrate_pb                14148.000   10.133  1.655    0.000   \n",
       "final.output.concentrate_sol               13938.000    9.203  2.791    0.000   \n",
       "final.output.concentrate_au                14149.000   44.004  4.905    0.000   \n",
       "final.output.recovery                      14149.000   66.519 10.295    0.000   \n",
       "...                                              ...      ...    ...      ...   \n",
       "secondary_cleaner.state.floatbank5_a_level 14148.000 -483.956 37.893 -797.142   \n",
       "secondary_cleaner.state.floatbank5_b_air   14148.000   13.065  5.766    0.646   \n",
       "secondary_cleaner.state.floatbank5_b_level 14148.000 -483.967 39.208 -800.006   \n",
       "secondary_cleaner.state.floatbank6_a_air   14147.000   19.578  5.764    0.195   \n",
       "secondary_cleaner.state.floatbank6_a_level 14148.000 -506.798 37.079 -809.399   \n",
       "\n",
       "                                                25%      50%      75%      max  \n",
       "final.output.concentrate_ag                   4.212    4.995    5.860   16.002  \n",
       "final.output.concentrate_pb                   9.297   10.297   11.171   17.032  \n",
       "final.output.concentrate_sol                  7.485    8.845   10.488   18.125  \n",
       "final.output.concentrate_au                  43.276   44.872   46.166   52.757  \n",
       "final.output.recovery                        62.546   67.433   72.346  100.000  \n",
       "...                                             ...      ...      ...      ...  \n",
       "secondary_cleaner.state.floatbank5_a_level -500.363 -499.702 -487.712 -275.073  \n",
       "secondary_cleaner.state.floatbank5_b_air      8.994   11.998   17.983   27.926  \n",
       "secondary_cleaner.state.floatbank5_b_level -500.106 -499.915 -453.187 -157.396  \n",
       "secondary_cleaner.state.floatbank6_a_air     14.989   19.984   24.992   32.189  \n",
       "secondary_cleaner.state.floatbank6_a_level -500.745 -500.061 -499.536 -104.427  \n",
       "\n",
       "[86 rows x 8 columns]"
      ]
     },
     "execution_count": 4,
     "metadata": {},
     "output_type": "execute_result"
    }
   ],
   "source": [
    "data_train.describe().T"
   ]
  },
  {
   "cell_type": "code",
   "execution_count": 5,
   "metadata": {
    "scrolled": true
   },
   "outputs": [
    {
     "name": "stdout",
     "output_type": "stream",
     "text": [
      "<class 'pandas.core.frame.DataFrame'>\n",
      "RangeIndex: 14149 entries, 0 to 14148\n",
      "Data columns (total 87 columns):\n",
      " #   Column                                              Non-Null Count  Dtype  \n",
      "---  ------                                              --------------  -----  \n",
      " 0   date                                                14149 non-null  object \n",
      " 1   final.output.concentrate_ag                         14148 non-null  float64\n",
      " 2   final.output.concentrate_pb                         14148 non-null  float64\n",
      " 3   final.output.concentrate_sol                        13938 non-null  float64\n",
      " 4   final.output.concentrate_au                         14149 non-null  float64\n",
      " 5   final.output.recovery                               14149 non-null  float64\n",
      " 6   final.output.tail_ag                                14149 non-null  float64\n",
      " 7   final.output.tail_pb                                14049 non-null  float64\n",
      " 8   final.output.tail_sol                               14144 non-null  float64\n",
      " 9   final.output.tail_au                                14149 non-null  float64\n",
      " 10  primary_cleaner.input.sulfate                       14129 non-null  float64\n",
      " 11  primary_cleaner.input.depressant                    14117 non-null  float64\n",
      " 12  primary_cleaner.input.feed_size                     14149 non-null  float64\n",
      " 13  primary_cleaner.input.xanthate                      14049 non-null  float64\n",
      " 14  primary_cleaner.output.concentrate_ag               14149 non-null  float64\n",
      " 15  primary_cleaner.output.concentrate_pb               14063 non-null  float64\n",
      " 16  primary_cleaner.output.concentrate_sol              13863 non-null  float64\n",
      " 17  primary_cleaner.output.concentrate_au               14149 non-null  float64\n",
      " 18  primary_cleaner.output.tail_ag                      14148 non-null  float64\n",
      " 19  primary_cleaner.output.tail_pb                      14134 non-null  float64\n",
      " 20  primary_cleaner.output.tail_sol                     14103 non-null  float64\n",
      " 21  primary_cleaner.output.tail_au                      14149 non-null  float64\n",
      " 22  primary_cleaner.state.floatbank8_a_air              14145 non-null  float64\n",
      " 23  primary_cleaner.state.floatbank8_a_level            14148 non-null  float64\n",
      " 24  primary_cleaner.state.floatbank8_b_air              14145 non-null  float64\n",
      " 25  primary_cleaner.state.floatbank8_b_level            14148 non-null  float64\n",
      " 26  primary_cleaner.state.floatbank8_c_air              14147 non-null  float64\n",
      " 27  primary_cleaner.state.floatbank8_c_level            14148 non-null  float64\n",
      " 28  primary_cleaner.state.floatbank8_d_air              14146 non-null  float64\n",
      " 29  primary_cleaner.state.floatbank8_d_level            14148 non-null  float64\n",
      " 30  rougher.calculation.sulfate_to_au_concentrate       14148 non-null  float64\n",
      " 31  rougher.calculation.floatbank10_sulfate_to_au_feed  14148 non-null  float64\n",
      " 32  rougher.calculation.floatbank11_sulfate_to_au_feed  14148 non-null  float64\n",
      " 33  rougher.calculation.au_pb_ratio                     14149 non-null  float64\n",
      " 34  rougher.input.feed_ag                               14149 non-null  float64\n",
      " 35  rougher.input.feed_pb                               14049 non-null  float64\n",
      " 36  rougher.input.feed_rate                             14141 non-null  float64\n",
      " 37  rougher.input.feed_size                             14005 non-null  float64\n",
      " 38  rougher.input.feed_sol                              14071 non-null  float64\n",
      " 39  rougher.input.feed_au                               14149 non-null  float64\n",
      " 40  rougher.input.floatbank10_sulfate                   14120 non-null  float64\n",
      " 41  rougher.input.floatbank10_xanthate                  14141 non-null  float64\n",
      " 42  rougher.input.floatbank11_sulfate                   14113 non-null  float64\n",
      " 43  rougher.input.floatbank11_xanthate                  13721 non-null  float64\n",
      " 44  rougher.output.concentrate_ag                       14149 non-null  float64\n",
      " 45  rougher.output.concentrate_pb                       14149 non-null  float64\n",
      " 46  rougher.output.concentrate_sol                      14127 non-null  float64\n",
      " 47  rougher.output.concentrate_au                       14149 non-null  float64\n",
      " 48  rougher.output.recovery                             14149 non-null  float64\n",
      " 49  rougher.output.tail_ag                              14148 non-null  float64\n",
      " 50  rougher.output.tail_pb                              14149 non-null  float64\n",
      " 51  rougher.output.tail_sol                             14149 non-null  float64\n",
      " 52  rougher.output.tail_au                              14149 non-null  float64\n",
      " 53  rougher.state.floatbank10_a_air                     14148 non-null  float64\n",
      " 54  rougher.state.floatbank10_a_level                   14148 non-null  float64\n",
      " 55  rougher.state.floatbank10_b_air                     14148 non-null  float64\n",
      " 56  rougher.state.floatbank10_b_level                   14148 non-null  float64\n",
      " 57  rougher.state.floatbank10_c_air                     14148 non-null  float64\n",
      " 58  rougher.state.floatbank10_c_level                   14148 non-null  float64\n",
      " 59  rougher.state.floatbank10_d_air                     14149 non-null  float64\n",
      " 60  rougher.state.floatbank10_d_level                   14149 non-null  float64\n",
      " 61  rougher.state.floatbank10_e_air                     13713 non-null  float64\n",
      " 62  rougher.state.floatbank10_e_level                   14149 non-null  float64\n",
      " 63  rougher.state.floatbank10_f_air                     14149 non-null  float64\n",
      " 64  rougher.state.floatbank10_f_level                   14149 non-null  float64\n",
      " 65  secondary_cleaner.output.tail_ag                    14147 non-null  float64\n",
      " 66  secondary_cleaner.output.tail_pb                    14139 non-null  float64\n",
      " 67  secondary_cleaner.output.tail_sol                   12544 non-null  float64\n",
      " 68  secondary_cleaner.output.tail_au                    14149 non-null  float64\n",
      " 69  secondary_cleaner.state.floatbank2_a_air            13932 non-null  float64\n",
      " 70  secondary_cleaner.state.floatbank2_a_level          14148 non-null  float64\n",
      " 71  secondary_cleaner.state.floatbank2_b_air            14128 non-null  float64\n",
      " 72  secondary_cleaner.state.floatbank2_b_level          14148 non-null  float64\n",
      " 73  secondary_cleaner.state.floatbank3_a_air            14145 non-null  float64\n",
      " 74  secondary_cleaner.state.floatbank3_a_level          14148 non-null  float64\n",
      " 75  secondary_cleaner.state.floatbank3_b_air            14148 non-null  float64\n",
      " 76  secondary_cleaner.state.floatbank3_b_level          14148 non-null  float64\n",
      " 77  secondary_cleaner.state.floatbank4_a_air            14143 non-null  float64\n",
      " 78  secondary_cleaner.state.floatbank4_a_level          14148 non-null  float64\n",
      " 79  secondary_cleaner.state.floatbank4_b_air            14148 non-null  float64\n",
      " 80  secondary_cleaner.state.floatbank4_b_level          14148 non-null  float64\n",
      " 81  secondary_cleaner.state.floatbank5_a_air            14148 non-null  float64\n",
      " 82  secondary_cleaner.state.floatbank5_a_level          14148 non-null  float64\n",
      " 83  secondary_cleaner.state.floatbank5_b_air            14148 non-null  float64\n",
      " 84  secondary_cleaner.state.floatbank5_b_level          14148 non-null  float64\n",
      " 85  secondary_cleaner.state.floatbank6_a_air            14147 non-null  float64\n",
      " 86  secondary_cleaner.state.floatbank6_a_level          14148 non-null  float64\n",
      "dtypes: float64(86), object(1)\n",
      "memory usage: 9.4+ MB\n"
     ]
    }
   ],
   "source": [
    "data_train.info()"
   ]
  },
  {
   "cell_type": "markdown",
   "metadata": {},
   "source": [
    "___\n",
    "**Тестовая выборка:**"
   ]
  },
  {
   "cell_type": "code",
   "execution_count": 6,
   "metadata": {},
   "outputs": [
    {
     "data": {
      "text/html": [
       "<div>\n",
       "<style scoped>\n",
       "    .dataframe tbody tr th:only-of-type {\n",
       "        vertical-align: middle;\n",
       "    }\n",
       "\n",
       "    .dataframe tbody tr th {\n",
       "        vertical-align: top;\n",
       "    }\n",
       "\n",
       "    .dataframe thead th {\n",
       "        text-align: right;\n",
       "    }\n",
       "</style>\n",
       "<table border=\"1\" class=\"dataframe\">\n",
       "  <thead>\n",
       "    <tr style=\"text-align: right;\">\n",
       "      <th></th>\n",
       "      <th>date</th>\n",
       "      <th>primary_cleaner.input.sulfate</th>\n",
       "      <th>primary_cleaner.input.depressant</th>\n",
       "      <th>primary_cleaner.input.feed_size</th>\n",
       "      <th>primary_cleaner.input.xanthate</th>\n",
       "      <th>primary_cleaner.state.floatbank8_a_air</th>\n",
       "      <th>primary_cleaner.state.floatbank8_a_level</th>\n",
       "      <th>primary_cleaner.state.floatbank8_b_air</th>\n",
       "      <th>primary_cleaner.state.floatbank8_b_level</th>\n",
       "      <th>primary_cleaner.state.floatbank8_c_air</th>\n",
       "      <th>primary_cleaner.state.floatbank8_c_level</th>\n",
       "      <th>primary_cleaner.state.floatbank8_d_air</th>\n",
       "      <th>primary_cleaner.state.floatbank8_d_level</th>\n",
       "      <th>rougher.input.feed_ag</th>\n",
       "      <th>rougher.input.feed_pb</th>\n",
       "      <th>rougher.input.feed_rate</th>\n",
       "      <th>rougher.input.feed_size</th>\n",
       "      <th>rougher.input.feed_sol</th>\n",
       "      <th>rougher.input.feed_au</th>\n",
       "      <th>rougher.input.floatbank10_sulfate</th>\n",
       "      <th>rougher.input.floatbank10_xanthate</th>\n",
       "      <th>rougher.input.floatbank11_sulfate</th>\n",
       "      <th>rougher.input.floatbank11_xanthate</th>\n",
       "      <th>rougher.state.floatbank10_a_air</th>\n",
       "      <th>rougher.state.floatbank10_a_level</th>\n",
       "      <th>rougher.state.floatbank10_b_air</th>\n",
       "      <th>rougher.state.floatbank10_b_level</th>\n",
       "      <th>rougher.state.floatbank10_c_air</th>\n",
       "      <th>rougher.state.floatbank10_c_level</th>\n",
       "      <th>rougher.state.floatbank10_d_air</th>\n",
       "      <th>rougher.state.floatbank10_d_level</th>\n",
       "      <th>rougher.state.floatbank10_e_air</th>\n",
       "      <th>rougher.state.floatbank10_e_level</th>\n",
       "      <th>rougher.state.floatbank10_f_air</th>\n",
       "      <th>rougher.state.floatbank10_f_level</th>\n",
       "      <th>secondary_cleaner.state.floatbank2_a_air</th>\n",
       "      <th>secondary_cleaner.state.floatbank2_a_level</th>\n",
       "      <th>secondary_cleaner.state.floatbank2_b_air</th>\n",
       "      <th>secondary_cleaner.state.floatbank2_b_level</th>\n",
       "      <th>secondary_cleaner.state.floatbank3_a_air</th>\n",
       "      <th>secondary_cleaner.state.floatbank3_a_level</th>\n",
       "      <th>secondary_cleaner.state.floatbank3_b_air</th>\n",
       "      <th>secondary_cleaner.state.floatbank3_b_level</th>\n",
       "      <th>secondary_cleaner.state.floatbank4_a_air</th>\n",
       "      <th>secondary_cleaner.state.floatbank4_a_level</th>\n",
       "      <th>secondary_cleaner.state.floatbank4_b_air</th>\n",
       "      <th>secondary_cleaner.state.floatbank4_b_level</th>\n",
       "      <th>secondary_cleaner.state.floatbank5_a_air</th>\n",
       "      <th>secondary_cleaner.state.floatbank5_a_level</th>\n",
       "      <th>secondary_cleaner.state.floatbank5_b_air</th>\n",
       "      <th>secondary_cleaner.state.floatbank5_b_level</th>\n",
       "      <th>secondary_cleaner.state.floatbank6_a_air</th>\n",
       "      <th>secondary_cleaner.state.floatbank6_a_level</th>\n",
       "    </tr>\n",
       "  </thead>\n",
       "  <tbody>\n",
       "    <tr>\n",
       "      <th>0</th>\n",
       "      <td>2016-09-01 00:59:59</td>\n",
       "      <td>210.801</td>\n",
       "      <td>14.993</td>\n",
       "      <td>8.080</td>\n",
       "      <td>1.005</td>\n",
       "      <td>1398.981</td>\n",
       "      <td>-500.226</td>\n",
       "      <td>1399.145</td>\n",
       "      <td>-499.920</td>\n",
       "      <td>1400.103</td>\n",
       "      <td>-500.704</td>\n",
       "      <td>1399.002</td>\n",
       "      <td>-499.485</td>\n",
       "      <td>13.129</td>\n",
       "      <td>5.637</td>\n",
       "      <td>489.794</td>\n",
       "      <td>62.710</td>\n",
       "      <td>42.022</td>\n",
       "      <td>12.084</td>\n",
       "      <td>16.923</td>\n",
       "      <td>6.153</td>\n",
       "      <td>16.868</td>\n",
       "      <td>6.151</td>\n",
       "      <td>1001.849</td>\n",
       "      <td>-350.301</td>\n",
       "      <td>1249.739</td>\n",
       "      <td>-399.108</td>\n",
       "      <td>1249.751</td>\n",
       "      <td>-399.397</td>\n",
       "      <td>1198.288</td>\n",
       "      <td>-399.489</td>\n",
       "      <td>999.472</td>\n",
       "      <td>-399.531</td>\n",
       "      <td>949.566</td>\n",
       "      <td>-398.181</td>\n",
       "      <td>24.938</td>\n",
       "      <td>-500.491</td>\n",
       "      <td>14.948</td>\n",
       "      <td>-500.014</td>\n",
       "      <td>20.018</td>\n",
       "      <td>-450.396</td>\n",
       "      <td>13.987</td>\n",
       "      <td>-449.832</td>\n",
       "      <td>12.024</td>\n",
       "      <td>-497.796</td>\n",
       "      <td>8.017</td>\n",
       "      <td>-501.289</td>\n",
       "      <td>7.947</td>\n",
       "      <td>-432.318</td>\n",
       "      <td>4.873</td>\n",
       "      <td>-500.037</td>\n",
       "      <td>26.706</td>\n",
       "      <td>-499.709</td>\n",
       "    </tr>\n",
       "    <tr>\n",
       "      <th>1</th>\n",
       "      <td>2016-09-01 01:59:59</td>\n",
       "      <td>215.392</td>\n",
       "      <td>14.987</td>\n",
       "      <td>8.080</td>\n",
       "      <td>0.990</td>\n",
       "      <td>1398.778</td>\n",
       "      <td>-500.057</td>\n",
       "      <td>1398.055</td>\n",
       "      <td>-499.778</td>\n",
       "      <td>1396.151</td>\n",
       "      <td>-499.240</td>\n",
       "      <td>1399.508</td>\n",
       "      <td>-500.416</td>\n",
       "      <td>13.036</td>\n",
       "      <td>5.526</td>\n",
       "      <td>490.105</td>\n",
       "      <td>61.961</td>\n",
       "      <td>41.188</td>\n",
       "      <td>11.919</td>\n",
       "      <td>17.003</td>\n",
       "      <td>5.999</td>\n",
       "      <td>16.996</td>\n",
       "      <td>6.002</td>\n",
       "      <td>998.691</td>\n",
       "      <td>-350.426</td>\n",
       "      <td>1248.395</td>\n",
       "      <td>-399.946</td>\n",
       "      <td>1249.514</td>\n",
       "      <td>-399.631</td>\n",
       "      <td>1200.506</td>\n",
       "      <td>-399.942</td>\n",
       "      <td>1000.002</td>\n",
       "      <td>-399.492</td>\n",
       "      <td>950.200</td>\n",
       "      <td>-405.788</td>\n",
       "      <td>24.923</td>\n",
       "      <td>-499.814</td>\n",
       "      <td>14.931</td>\n",
       "      <td>-500.764</td>\n",
       "      <td>19.989</td>\n",
       "      <td>-450.114</td>\n",
       "      <td>14.093</td>\n",
       "      <td>-450.059</td>\n",
       "      <td>12.058</td>\n",
       "      <td>-498.696</td>\n",
       "      <td>8.131</td>\n",
       "      <td>-499.634</td>\n",
       "      <td>7.958</td>\n",
       "      <td>-525.840</td>\n",
       "      <td>4.879</td>\n",
       "      <td>-500.162</td>\n",
       "      <td>25.020</td>\n",
       "      <td>-499.819</td>\n",
       "    </tr>\n",
       "    <tr>\n",
       "      <th>2</th>\n",
       "      <td>2016-09-01 02:59:59</td>\n",
       "      <td>215.260</td>\n",
       "      <td>12.885</td>\n",
       "      <td>7.787</td>\n",
       "      <td>0.996</td>\n",
       "      <td>1398.494</td>\n",
       "      <td>-500.868</td>\n",
       "      <td>1398.860</td>\n",
       "      <td>-499.765</td>\n",
       "      <td>1398.076</td>\n",
       "      <td>-502.152</td>\n",
       "      <td>1399.497</td>\n",
       "      <td>-499.715</td>\n",
       "      <td>13.138</td>\n",
       "      <td>5.427</td>\n",
       "      <td>489.618</td>\n",
       "      <td>66.904</td>\n",
       "      <td>42.546</td>\n",
       "      <td>12.091</td>\n",
       "      <td>16.993</td>\n",
       "      <td>5.851</td>\n",
       "      <td>16.982</td>\n",
       "      <td>5.854</td>\n",
       "      <td>998.517</td>\n",
       "      <td>-349.784</td>\n",
       "      <td>1247.441</td>\n",
       "      <td>-400.264</td>\n",
       "      <td>1248.207</td>\n",
       "      <td>-401.074</td>\n",
       "      <td>1199.770</td>\n",
       "      <td>-400.791</td>\n",
       "      <td>999.926</td>\n",
       "      <td>-399.237</td>\n",
       "      <td>950.320</td>\n",
       "      <td>-400.864</td>\n",
       "      <td>24.909</td>\n",
       "      <td>-500.304</td>\n",
       "      <td>14.997</td>\n",
       "      <td>-500.994</td>\n",
       "      <td>20.040</td>\n",
       "      <td>-450.263</td>\n",
       "      <td>14.078</td>\n",
       "      <td>-449.661</td>\n",
       "      <td>11.962</td>\n",
       "      <td>-498.767</td>\n",
       "      <td>8.097</td>\n",
       "      <td>-500.827</td>\n",
       "      <td>8.071</td>\n",
       "      <td>-500.802</td>\n",
       "      <td>4.905</td>\n",
       "      <td>-499.829</td>\n",
       "      <td>24.995</td>\n",
       "      <td>-500.623</td>\n",
       "    </tr>\n",
       "    <tr>\n",
       "      <th>3</th>\n",
       "      <td>2016-09-01 03:59:59</td>\n",
       "      <td>215.336</td>\n",
       "      <td>12.007</td>\n",
       "      <td>7.640</td>\n",
       "      <td>0.864</td>\n",
       "      <td>1399.618</td>\n",
       "      <td>-498.864</td>\n",
       "      <td>1397.440</td>\n",
       "      <td>-499.211</td>\n",
       "      <td>1400.129</td>\n",
       "      <td>-498.356</td>\n",
       "      <td>1401.065</td>\n",
       "      <td>-501.039</td>\n",
       "      <td>12.401</td>\n",
       "      <td>5.115</td>\n",
       "      <td>476.618</td>\n",
       "      <td>59.866</td>\n",
       "      <td>41.060</td>\n",
       "      <td>12.182</td>\n",
       "      <td>16.532</td>\n",
       "      <td>5.802</td>\n",
       "      <td>16.515</td>\n",
       "      <td>5.804</td>\n",
       "      <td>1000.277</td>\n",
       "      <td>-350.173</td>\n",
       "      <td>1251.323</td>\n",
       "      <td>-398.655</td>\n",
       "      <td>1250.494</td>\n",
       "      <td>-399.747</td>\n",
       "      <td>1199.399</td>\n",
       "      <td>-397.503</td>\n",
       "      <td>1001.931</td>\n",
       "      <td>-400.438</td>\n",
       "      <td>950.735</td>\n",
       "      <td>-399.803</td>\n",
       "      <td>24.894</td>\n",
       "      <td>-499.382</td>\n",
       "      <td>14.917</td>\n",
       "      <td>-499.862</td>\n",
       "      <td>20.031</td>\n",
       "      <td>-449.373</td>\n",
       "      <td>14.014</td>\n",
       "      <td>-449.527</td>\n",
       "      <td>12.033</td>\n",
       "      <td>-498.351</td>\n",
       "      <td>8.075</td>\n",
       "      <td>-499.474</td>\n",
       "      <td>7.897</td>\n",
       "      <td>-500.869</td>\n",
       "      <td>4.931</td>\n",
       "      <td>-499.964</td>\n",
       "      <td>24.949</td>\n",
       "      <td>-498.710</td>\n",
       "    </tr>\n",
       "    <tr>\n",
       "      <th>4</th>\n",
       "      <td>2016-09-01 04:59:59</td>\n",
       "      <td>199.099</td>\n",
       "      <td>10.683</td>\n",
       "      <td>7.530</td>\n",
       "      <td>0.806</td>\n",
       "      <td>1401.268</td>\n",
       "      <td>-500.808</td>\n",
       "      <td>1398.129</td>\n",
       "      <td>-499.505</td>\n",
       "      <td>1402.172</td>\n",
       "      <td>-500.811</td>\n",
       "      <td>1399.481</td>\n",
       "      <td>-499.374</td>\n",
       "      <td>11.327</td>\n",
       "      <td>4.767</td>\n",
       "      <td>488.248</td>\n",
       "      <td>63.315</td>\n",
       "      <td>41.269</td>\n",
       "      <td>11.290</td>\n",
       "      <td>13.607</td>\n",
       "      <td>5.738</td>\n",
       "      <td>13.650</td>\n",
       "      <td>5.740</td>\n",
       "      <td>996.541</td>\n",
       "      <td>-350.563</td>\n",
       "      <td>1304.659</td>\n",
       "      <td>-399.512</td>\n",
       "      <td>1306.456</td>\n",
       "      <td>-399.051</td>\n",
       "      <td>1248.699</td>\n",
       "      <td>-400.877</td>\n",
       "      <td>1058.839</td>\n",
       "      <td>-398.988</td>\n",
       "      <td>949.645</td>\n",
       "      <td>-399.278</td>\n",
       "      <td>24.887</td>\n",
       "      <td>-499.357</td>\n",
       "      <td>14.979</td>\n",
       "      <td>-500.187</td>\n",
       "      <td>19.962</td>\n",
       "      <td>-450.639</td>\n",
       "      <td>14.009</td>\n",
       "      <td>-450.022</td>\n",
       "      <td>12.025</td>\n",
       "      <td>-500.786</td>\n",
       "      <td>8.055</td>\n",
       "      <td>-500.398</td>\n",
       "      <td>8.108</td>\n",
       "      <td>-509.527</td>\n",
       "      <td>4.958</td>\n",
       "      <td>-500.360</td>\n",
       "      <td>25.003</td>\n",
       "      <td>-500.856</td>\n",
       "    </tr>\n",
       "  </tbody>\n",
       "</table>\n",
       "</div>"
      ],
      "text/plain": [
       "                  date  primary_cleaner.input.sulfate  \\\n",
       "0  2016-09-01 00:59:59                        210.801   \n",
       "1  2016-09-01 01:59:59                        215.392   \n",
       "2  2016-09-01 02:59:59                        215.260   \n",
       "3  2016-09-01 03:59:59                        215.336   \n",
       "4  2016-09-01 04:59:59                        199.099   \n",
       "\n",
       "   primary_cleaner.input.depressant  primary_cleaner.input.feed_size  \\\n",
       "0                            14.993                            8.080   \n",
       "1                            14.987                            8.080   \n",
       "2                            12.885                            7.787   \n",
       "3                            12.007                            7.640   \n",
       "4                            10.683                            7.530   \n",
       "\n",
       "   primary_cleaner.input.xanthate  primary_cleaner.state.floatbank8_a_air  \\\n",
       "0                           1.005                                1398.981   \n",
       "1                           0.990                                1398.778   \n",
       "2                           0.996                                1398.494   \n",
       "3                           0.864                                1399.618   \n",
       "4                           0.806                                1401.268   \n",
       "\n",
       "   primary_cleaner.state.floatbank8_a_level  \\\n",
       "0                                  -500.226   \n",
       "1                                  -500.057   \n",
       "2                                  -500.868   \n",
       "3                                  -498.864   \n",
       "4                                  -500.808   \n",
       "\n",
       "   primary_cleaner.state.floatbank8_b_air  \\\n",
       "0                                1399.145   \n",
       "1                                1398.055   \n",
       "2                                1398.860   \n",
       "3                                1397.440   \n",
       "4                                1398.129   \n",
       "\n",
       "   primary_cleaner.state.floatbank8_b_level  \\\n",
       "0                                  -499.920   \n",
       "1                                  -499.778   \n",
       "2                                  -499.765   \n",
       "3                                  -499.211   \n",
       "4                                  -499.505   \n",
       "\n",
       "   primary_cleaner.state.floatbank8_c_air  \\\n",
       "0                                1400.103   \n",
       "1                                1396.151   \n",
       "2                                1398.076   \n",
       "3                                1400.129   \n",
       "4                                1402.172   \n",
       "\n",
       "   primary_cleaner.state.floatbank8_c_level  \\\n",
       "0                                  -500.704   \n",
       "1                                  -499.240   \n",
       "2                                  -502.152   \n",
       "3                                  -498.356   \n",
       "4                                  -500.811   \n",
       "\n",
       "   primary_cleaner.state.floatbank8_d_air  \\\n",
       "0                                1399.002   \n",
       "1                                1399.508   \n",
       "2                                1399.497   \n",
       "3                                1401.065   \n",
       "4                                1399.481   \n",
       "\n",
       "   primary_cleaner.state.floatbank8_d_level  rougher.input.feed_ag  \\\n",
       "0                                  -499.485                 13.129   \n",
       "1                                  -500.416                 13.036   \n",
       "2                                  -499.715                 13.138   \n",
       "3                                  -501.039                 12.401   \n",
       "4                                  -499.374                 11.327   \n",
       "\n",
       "   rougher.input.feed_pb  rougher.input.feed_rate  rougher.input.feed_size  \\\n",
       "0                  5.637                  489.794                   62.710   \n",
       "1                  5.526                  490.105                   61.961   \n",
       "2                  5.427                  489.618                   66.904   \n",
       "3                  5.115                  476.618                   59.866   \n",
       "4                  4.767                  488.248                   63.315   \n",
       "\n",
       "   rougher.input.feed_sol  rougher.input.feed_au  \\\n",
       "0                  42.022                 12.084   \n",
       "1                  41.188                 11.919   \n",
       "2                  42.546                 12.091   \n",
       "3                  41.060                 12.182   \n",
       "4                  41.269                 11.290   \n",
       "\n",
       "   rougher.input.floatbank10_sulfate  rougher.input.floatbank10_xanthate  \\\n",
       "0                             16.923                               6.153   \n",
       "1                             17.003                               5.999   \n",
       "2                             16.993                               5.851   \n",
       "3                             16.532                               5.802   \n",
       "4                             13.607                               5.738   \n",
       "\n",
       "   rougher.input.floatbank11_sulfate  rougher.input.floatbank11_xanthate  \\\n",
       "0                             16.868                               6.151   \n",
       "1                             16.996                               6.002   \n",
       "2                             16.982                               5.854   \n",
       "3                             16.515                               5.804   \n",
       "4                             13.650                               5.740   \n",
       "\n",
       "   rougher.state.floatbank10_a_air  rougher.state.floatbank10_a_level  \\\n",
       "0                         1001.849                           -350.301   \n",
       "1                          998.691                           -350.426   \n",
       "2                          998.517                           -349.784   \n",
       "3                         1000.277                           -350.173   \n",
       "4                          996.541                           -350.563   \n",
       "\n",
       "   rougher.state.floatbank10_b_air  rougher.state.floatbank10_b_level  \\\n",
       "0                         1249.739                           -399.108   \n",
       "1                         1248.395                           -399.946   \n",
       "2                         1247.441                           -400.264   \n",
       "3                         1251.323                           -398.655   \n",
       "4                         1304.659                           -399.512   \n",
       "\n",
       "   rougher.state.floatbank10_c_air  rougher.state.floatbank10_c_level  \\\n",
       "0                         1249.751                           -399.397   \n",
       "1                         1249.514                           -399.631   \n",
       "2                         1248.207                           -401.074   \n",
       "3                         1250.494                           -399.747   \n",
       "4                         1306.456                           -399.051   \n",
       "\n",
       "   rougher.state.floatbank10_d_air  rougher.state.floatbank10_d_level  \\\n",
       "0                         1198.288                           -399.489   \n",
       "1                         1200.506                           -399.942   \n",
       "2                         1199.770                           -400.791   \n",
       "3                         1199.399                           -397.503   \n",
       "4                         1248.699                           -400.877   \n",
       "\n",
       "   rougher.state.floatbank10_e_air  rougher.state.floatbank10_e_level  \\\n",
       "0                          999.472                           -399.531   \n",
       "1                         1000.002                           -399.492   \n",
       "2                          999.926                           -399.237   \n",
       "3                         1001.931                           -400.438   \n",
       "4                         1058.839                           -398.988   \n",
       "\n",
       "   rougher.state.floatbank10_f_air  rougher.state.floatbank10_f_level  \\\n",
       "0                          949.566                           -398.181   \n",
       "1                          950.200                           -405.788   \n",
       "2                          950.320                           -400.864   \n",
       "3                          950.735                           -399.803   \n",
       "4                          949.645                           -399.278   \n",
       "\n",
       "   secondary_cleaner.state.floatbank2_a_air  \\\n",
       "0                                    24.938   \n",
       "1                                    24.923   \n",
       "2                                    24.909   \n",
       "3                                    24.894   \n",
       "4                                    24.887   \n",
       "\n",
       "   secondary_cleaner.state.floatbank2_a_level  \\\n",
       "0                                    -500.491   \n",
       "1                                    -499.814   \n",
       "2                                    -500.304   \n",
       "3                                    -499.382   \n",
       "4                                    -499.357   \n",
       "\n",
       "   secondary_cleaner.state.floatbank2_b_air  \\\n",
       "0                                    14.948   \n",
       "1                                    14.931   \n",
       "2                                    14.997   \n",
       "3                                    14.917   \n",
       "4                                    14.979   \n",
       "\n",
       "   secondary_cleaner.state.floatbank2_b_level  \\\n",
       "0                                    -500.014   \n",
       "1                                    -500.764   \n",
       "2                                    -500.994   \n",
       "3                                    -499.862   \n",
       "4                                    -500.187   \n",
       "\n",
       "   secondary_cleaner.state.floatbank3_a_air  \\\n",
       "0                                    20.018   \n",
       "1                                    19.989   \n",
       "2                                    20.040   \n",
       "3                                    20.031   \n",
       "4                                    19.962   \n",
       "\n",
       "   secondary_cleaner.state.floatbank3_a_level  \\\n",
       "0                                    -450.396   \n",
       "1                                    -450.114   \n",
       "2                                    -450.263   \n",
       "3                                    -449.373   \n",
       "4                                    -450.639   \n",
       "\n",
       "   secondary_cleaner.state.floatbank3_b_air  \\\n",
       "0                                    13.987   \n",
       "1                                    14.093   \n",
       "2                                    14.078   \n",
       "3                                    14.014   \n",
       "4                                    14.009   \n",
       "\n",
       "   secondary_cleaner.state.floatbank3_b_level  \\\n",
       "0                                    -449.832   \n",
       "1                                    -450.059   \n",
       "2                                    -449.661   \n",
       "3                                    -449.527   \n",
       "4                                    -450.022   \n",
       "\n",
       "   secondary_cleaner.state.floatbank4_a_air  \\\n",
       "0                                    12.024   \n",
       "1                                    12.058   \n",
       "2                                    11.962   \n",
       "3                                    12.033   \n",
       "4                                    12.025   \n",
       "\n",
       "   secondary_cleaner.state.floatbank4_a_level  \\\n",
       "0                                    -497.796   \n",
       "1                                    -498.696   \n",
       "2                                    -498.767   \n",
       "3                                    -498.351   \n",
       "4                                    -500.786   \n",
       "\n",
       "   secondary_cleaner.state.floatbank4_b_air  \\\n",
       "0                                     8.017   \n",
       "1                                     8.131   \n",
       "2                                     8.097   \n",
       "3                                     8.075   \n",
       "4                                     8.055   \n",
       "\n",
       "   secondary_cleaner.state.floatbank4_b_level  \\\n",
       "0                                    -501.289   \n",
       "1                                    -499.634   \n",
       "2                                    -500.827   \n",
       "3                                    -499.474   \n",
       "4                                    -500.398   \n",
       "\n",
       "   secondary_cleaner.state.floatbank5_a_air  \\\n",
       "0                                     7.947   \n",
       "1                                     7.958   \n",
       "2                                     8.071   \n",
       "3                                     7.897   \n",
       "4                                     8.108   \n",
       "\n",
       "   secondary_cleaner.state.floatbank5_a_level  \\\n",
       "0                                    -432.318   \n",
       "1                                    -525.840   \n",
       "2                                    -500.802   \n",
       "3                                    -500.869   \n",
       "4                                    -509.527   \n",
       "\n",
       "   secondary_cleaner.state.floatbank5_b_air  \\\n",
       "0                                     4.873   \n",
       "1                                     4.879   \n",
       "2                                     4.905   \n",
       "3                                     4.931   \n",
       "4                                     4.958   \n",
       "\n",
       "   secondary_cleaner.state.floatbank5_b_level  \\\n",
       "0                                    -500.037   \n",
       "1                                    -500.162   \n",
       "2                                    -499.829   \n",
       "3                                    -499.964   \n",
       "4                                    -500.360   \n",
       "\n",
       "   secondary_cleaner.state.floatbank6_a_air  \\\n",
       "0                                    26.706   \n",
       "1                                    25.020   \n",
       "2                                    24.995   \n",
       "3                                    24.949   \n",
       "4                                    25.003   \n",
       "\n",
       "   secondary_cleaner.state.floatbank6_a_level  \n",
       "0                                    -499.709  \n",
       "1                                    -499.819  \n",
       "2                                    -500.623  \n",
       "3                                    -498.710  \n",
       "4                                    -500.856  "
      ]
     },
     "execution_count": 6,
     "metadata": {},
     "output_type": "execute_result"
    }
   ],
   "source": [
    "data_test.head()"
   ]
  },
  {
   "cell_type": "code",
   "execution_count": 7,
   "metadata": {},
   "outputs": [
    {
     "data": {
      "text/html": [
       "<div>\n",
       "<style scoped>\n",
       "    .dataframe tbody tr th:only-of-type {\n",
       "        vertical-align: middle;\n",
       "    }\n",
       "\n",
       "    .dataframe tbody tr th {\n",
       "        vertical-align: top;\n",
       "    }\n",
       "\n",
       "    .dataframe thead th {\n",
       "        text-align: right;\n",
       "    }\n",
       "</style>\n",
       "<table border=\"1\" class=\"dataframe\">\n",
       "  <thead>\n",
       "    <tr style=\"text-align: right;\">\n",
       "      <th></th>\n",
       "      <th>count</th>\n",
       "      <th>mean</th>\n",
       "      <th>std</th>\n",
       "      <th>min</th>\n",
       "      <th>25%</th>\n",
       "      <th>50%</th>\n",
       "      <th>75%</th>\n",
       "      <th>max</th>\n",
       "    </tr>\n",
       "  </thead>\n",
       "  <tbody>\n",
       "    <tr>\n",
       "      <th>primary_cleaner.input.sulfate</th>\n",
       "      <td>5286.000</td>\n",
       "      <td>174.840</td>\n",
       "      <td>43.027</td>\n",
       "      <td>2.566</td>\n",
       "      <td>147.121</td>\n",
       "      <td>177.828</td>\n",
       "      <td>208.125</td>\n",
       "      <td>265.983</td>\n",
       "    </tr>\n",
       "    <tr>\n",
       "      <th>primary_cleaner.input.depressant</th>\n",
       "      <td>5285.000</td>\n",
       "      <td>8.684</td>\n",
       "      <td>3.072</td>\n",
       "      <td>0.004</td>\n",
       "      <td>6.490</td>\n",
       "      <td>8.052</td>\n",
       "      <td>10.028</td>\n",
       "      <td>40.000</td>\n",
       "    </tr>\n",
       "    <tr>\n",
       "      <th>primary_cleaner.input.feed_size</th>\n",
       "      <td>5290.000</td>\n",
       "      <td>7.266</td>\n",
       "      <td>0.610</td>\n",
       "      <td>5.650</td>\n",
       "      <td>6.890</td>\n",
       "      <td>7.250</td>\n",
       "      <td>7.600</td>\n",
       "      <td>15.500</td>\n",
       "    </tr>\n",
       "    <tr>\n",
       "      <th>primary_cleaner.input.xanthate</th>\n",
       "      <td>5286.000</td>\n",
       "      <td>1.384</td>\n",
       "      <td>0.643</td>\n",
       "      <td>0.005</td>\n",
       "      <td>0.908</td>\n",
       "      <td>1.198</td>\n",
       "      <td>1.798</td>\n",
       "      <td>4.102</td>\n",
       "    </tr>\n",
       "    <tr>\n",
       "      <th>primary_cleaner.state.floatbank8_a_air</th>\n",
       "      <td>5290.000</td>\n",
       "      <td>1539.494</td>\n",
       "      <td>116.798</td>\n",
       "      <td>0.000</td>\n",
       "      <td>1498.936</td>\n",
       "      <td>1585.129</td>\n",
       "      <td>1602.077</td>\n",
       "      <td>2103.104</td>\n",
       "    </tr>\n",
       "    <tr>\n",
       "      <th>primary_cleaner.state.floatbank8_a_level</th>\n",
       "      <td>5290.000</td>\n",
       "      <td>-497.666</td>\n",
       "      <td>19.952</td>\n",
       "      <td>-795.316</td>\n",
       "      <td>-500.357</td>\n",
       "      <td>-499.969</td>\n",
       "      <td>-499.569</td>\n",
       "      <td>-57.195</td>\n",
       "    </tr>\n",
       "    <tr>\n",
       "      <th>primary_cleaner.state.floatbank8_b_air</th>\n",
       "      <td>5290.000</td>\n",
       "      <td>1545.174</td>\n",
       "      <td>122.225</td>\n",
       "      <td>0.000</td>\n",
       "      <td>1498.971</td>\n",
       "      <td>1595.622</td>\n",
       "      <td>1602.324</td>\n",
       "      <td>1813.084</td>\n",
       "    </tr>\n",
       "    <tr>\n",
       "      <th>primary_cleaner.state.floatbank8_b_level</th>\n",
       "      <td>5290.000</td>\n",
       "      <td>-500.273</td>\n",
       "      <td>32.968</td>\n",
       "      <td>-799.997</td>\n",
       "      <td>-500.703</td>\n",
       "      <td>-500.029</td>\n",
       "      <td>-499.293</td>\n",
       "      <td>-142.527</td>\n",
       "    </tr>\n",
       "    <tr>\n",
       "      <th>primary_cleaner.state.floatbank8_c_air</th>\n",
       "      <td>5290.000</td>\n",
       "      <td>1527.272</td>\n",
       "      <td>122.538</td>\n",
       "      <td>0.000</td>\n",
       "      <td>1473.230</td>\n",
       "      <td>1549.595</td>\n",
       "      <td>1601.144</td>\n",
       "      <td>1715.054</td>\n",
       "    </tr>\n",
       "    <tr>\n",
       "      <th>primary_cleaner.state.floatbank8_c_level</th>\n",
       "      <td>5290.000</td>\n",
       "      <td>-498.331</td>\n",
       "      <td>21.965</td>\n",
       "      <td>-799.961</td>\n",
       "      <td>-501.018</td>\n",
       "      <td>-500.018</td>\n",
       "      <td>-498.994</td>\n",
       "      <td>-150.937</td>\n",
       "    </tr>\n",
       "    <tr>\n",
       "      <th>primary_cleaner.state.floatbank8_d_air</th>\n",
       "      <td>5290.000</td>\n",
       "      <td>1544.844</td>\n",
       "      <td>124.773</td>\n",
       "      <td>0.000</td>\n",
       "      <td>1499.481</td>\n",
       "      <td>1594.579</td>\n",
       "      <td>1600.965</td>\n",
       "      <td>1913.257</td>\n",
       "    </tr>\n",
       "    <tr>\n",
       "      <th>primary_cleaner.state.floatbank8_d_level</th>\n",
       "      <td>5290.000</td>\n",
       "      <td>-500.200</td>\n",
       "      <td>31.045</td>\n",
       "      <td>-799.794</td>\n",
       "      <td>-500.452</td>\n",
       "      <td>-500.023</td>\n",
       "      <td>-499.607</td>\n",
       "      <td>-158.951</td>\n",
       "    </tr>\n",
       "    <tr>\n",
       "      <th>rougher.input.feed_ag</th>\n",
       "      <td>5290.000</td>\n",
       "      <td>9.372</td>\n",
       "      <td>1.926</td>\n",
       "      <td>0.568</td>\n",
       "      <td>8.112</td>\n",
       "      <td>9.763</td>\n",
       "      <td>10.652</td>\n",
       "      <td>14.406</td>\n",
       "    </tr>\n",
       "    <tr>\n",
       "      <th>rougher.input.feed_pb</th>\n",
       "      <td>5290.000</td>\n",
       "      <td>3.798</td>\n",
       "      <td>0.955</td>\n",
       "      <td>0.274</td>\n",
       "      <td>3.240</td>\n",
       "      <td>3.741</td>\n",
       "      <td>4.283</td>\n",
       "      <td>6.906</td>\n",
       "    </tr>\n",
       "    <tr>\n",
       "      <th>rougher.input.feed_rate</th>\n",
       "      <td>5287.000</td>\n",
       "      <td>489.801</td>\n",
       "      <td>108.036</td>\n",
       "      <td>0.003</td>\n",
       "      <td>407.021</td>\n",
       "      <td>499.051</td>\n",
       "      <td>575.307</td>\n",
       "      <td>707.364</td>\n",
       "    </tr>\n",
       "    <tr>\n",
       "      <th>rougher.input.feed_size</th>\n",
       "      <td>5289.000</td>\n",
       "      <td>55.951</td>\n",
       "      <td>19.082</td>\n",
       "      <td>0.046</td>\n",
       "      <td>43.906</td>\n",
       "      <td>50.841</td>\n",
       "      <td>62.431</td>\n",
       "      <td>392.494</td>\n",
       "    </tr>\n",
       "    <tr>\n",
       "      <th>rougher.input.feed_sol</th>\n",
       "      <td>5269.000</td>\n",
       "      <td>37.717</td>\n",
       "      <td>5.491</td>\n",
       "      <td>1.393</td>\n",
       "      <td>34.506</td>\n",
       "      <td>37.980</td>\n",
       "      <td>41.635</td>\n",
       "      <td>53.478</td>\n",
       "    </tr>\n",
       "    <tr>\n",
       "      <th>rougher.input.feed_au</th>\n",
       "      <td>5290.000</td>\n",
       "      <td>9.335</td>\n",
       "      <td>1.620</td>\n",
       "      <td>0.569</td>\n",
       "      <td>8.208</td>\n",
       "      <td>9.594</td>\n",
       "      <td>10.464</td>\n",
       "      <td>13.731</td>\n",
       "    </tr>\n",
       "    <tr>\n",
       "      <th>rougher.input.floatbank10_sulfate</th>\n",
       "      <td>5285.000</td>\n",
       "      <td>13.856</td>\n",
       "      <td>3.351</td>\n",
       "      <td>0.001</td>\n",
       "      <td>11.995</td>\n",
       "      <td>14.003</td>\n",
       "      <td>16.974</td>\n",
       "      <td>24.281</td>\n",
       "    </tr>\n",
       "    <tr>\n",
       "      <th>rougher.input.floatbank10_xanthate</th>\n",
       "      <td>5290.000</td>\n",
       "      <td>6.468</td>\n",
       "      <td>1.065</td>\n",
       "      <td>0.001</td>\n",
       "      <td>5.999</td>\n",
       "      <td>6.498</td>\n",
       "      <td>7.085</td>\n",
       "      <td>8.910</td>\n",
       "    </tr>\n",
       "    <tr>\n",
       "      <th>rougher.input.floatbank11_sulfate</th>\n",
       "      <td>5282.000</td>\n",
       "      <td>13.922</td>\n",
       "      <td>3.224</td>\n",
       "      <td>0.000</td>\n",
       "      <td>11.997</td>\n",
       "      <td>14.004</td>\n",
       "      <td>16.960</td>\n",
       "      <td>24.281</td>\n",
       "    </tr>\n",
       "    <tr>\n",
       "      <th>rougher.input.floatbank11_xanthate</th>\n",
       "      <td>5265.000</td>\n",
       "      <td>6.512</td>\n",
       "      <td>0.887</td>\n",
       "      <td>0.007</td>\n",
       "      <td>5.999</td>\n",
       "      <td>6.499</td>\n",
       "      <td>7.092</td>\n",
       "      <td>8.621</td>\n",
       "    </tr>\n",
       "    <tr>\n",
       "      <th>rougher.state.floatbank10_a_air</th>\n",
       "      <td>5290.000</td>\n",
       "      <td>1053.400</td>\n",
       "      <td>121.139</td>\n",
       "      <td>-0.042</td>\n",
       "      <td>999.205</td>\n",
       "      <td>1000.472</td>\n",
       "      <td>1006.254</td>\n",
       "      <td>1423.275</td>\n",
       "    </tr>\n",
       "    <tr>\n",
       "      <th>rougher.state.floatbank10_a_level</th>\n",
       "      <td>5290.000</td>\n",
       "      <td>-395.733</td>\n",
       "      <td>91.086</td>\n",
       "      <td>-657.950</td>\n",
       "      <td>-499.921</td>\n",
       "      <td>-399.693</td>\n",
       "      <td>-300.060</td>\n",
       "      <td>-273.776</td>\n",
       "    </tr>\n",
       "    <tr>\n",
       "      <th>rougher.state.floatbank10_b_air</th>\n",
       "      <td>5290.000</td>\n",
       "      <td>1318.927</td>\n",
       "      <td>156.450</td>\n",
       "      <td>-0.722</td>\n",
       "      <td>1200.872</td>\n",
       "      <td>1302.255</td>\n",
       "      <td>1433.956</td>\n",
       "      <td>1706.640</td>\n",
       "    </tr>\n",
       "    <tr>\n",
       "      <th>rougher.state.floatbank10_b_level</th>\n",
       "      <td>5290.000</td>\n",
       "      <td>-475.241</td>\n",
       "      <td>45.649</td>\n",
       "      <td>-650.245</td>\n",
       "      <td>-500.256</td>\n",
       "      <td>-499.838</td>\n",
       "      <td>-450.750</td>\n",
       "      <td>-298.200</td>\n",
       "    </tr>\n",
       "    <tr>\n",
       "      <th>rougher.state.floatbank10_c_air</th>\n",
       "      <td>5290.000</td>\n",
       "      <td>1301.595</td>\n",
       "      <td>171.270</td>\n",
       "      <td>-0.057</td>\n",
       "      <td>1199.651</td>\n",
       "      <td>1300.202</td>\n",
       "      <td>1406.595</td>\n",
       "      <td>1731.018</td>\n",
       "    </tr>\n",
       "    <tr>\n",
       "      <th>rougher.state.floatbank10_c_level</th>\n",
       "      <td>5290.000</td>\n",
       "      <td>-474.837</td>\n",
       "      <td>45.860</td>\n",
       "      <td>-647.544</td>\n",
       "      <td>-500.234</td>\n",
       "      <td>-499.777</td>\n",
       "      <td>-451.153</td>\n",
       "      <td>-298.037</td>\n",
       "    </tr>\n",
       "    <tr>\n",
       "      <th>rougher.state.floatbank10_d_air</th>\n",
       "      <td>5290.000</td>\n",
       "      <td>1214.848</td>\n",
       "      <td>185.763</td>\n",
       "      <td>-0.992</td>\n",
       "      <td>1093.368</td>\n",
       "      <td>1207.014</td>\n",
       "      <td>1391.497</td>\n",
       "      <td>1775.219</td>\n",
       "    </tr>\n",
       "    <tr>\n",
       "      <th>rougher.state.floatbank10_d_level</th>\n",
       "      <td>5290.000</td>\n",
       "      <td>-475.682</td>\n",
       "      <td>47.845</td>\n",
       "      <td>-648.391</td>\n",
       "      <td>-500.441</td>\n",
       "      <td>-499.692</td>\n",
       "      <td>-452.483</td>\n",
       "      <td>-76.397</td>\n",
       "    </tr>\n",
       "    <tr>\n",
       "      <th>rougher.state.floatbank10_e_air</th>\n",
       "      <td>5290.000</td>\n",
       "      <td>1056.649</td>\n",
       "      <td>131.543</td>\n",
       "      <td>-1.982</td>\n",
       "      <td>999.361</td>\n",
       "      <td>1047.495</td>\n",
       "      <td>1101.365</td>\n",
       "      <td>1467.185</td>\n",
       "    </tr>\n",
       "    <tr>\n",
       "      <th>rougher.state.floatbank10_e_level</th>\n",
       "      <td>5290.000</td>\n",
       "      <td>-469.030</td>\n",
       "      <td>59.326</td>\n",
       "      <td>-649.268</td>\n",
       "      <td>-500.191</td>\n",
       "      <td>-499.766</td>\n",
       "      <td>-450.958</td>\n",
       "      <td>-139.753</td>\n",
       "    </tr>\n",
       "    <tr>\n",
       "      <th>rougher.state.floatbank10_f_air</th>\n",
       "      <td>5290.000</td>\n",
       "      <td>997.950</td>\n",
       "      <td>128.219</td>\n",
       "      <td>-2.593</td>\n",
       "      <td>901.025</td>\n",
       "      <td>999.442</td>\n",
       "      <td>1050.433</td>\n",
       "      <td>1476.588</td>\n",
       "    </tr>\n",
       "    <tr>\n",
       "      <th>rougher.state.floatbank10_f_level</th>\n",
       "      <td>5290.000</td>\n",
       "      <td>-470.482</td>\n",
       "      <td>60.759</td>\n",
       "      <td>-649.949</td>\n",
       "      <td>-500.625</td>\n",
       "      <td>-499.681</td>\n",
       "      <td>-451.986</td>\n",
       "      <td>-249.801</td>\n",
       "    </tr>\n",
       "    <tr>\n",
       "      <th>secondary_cleaner.state.floatbank2_a_air</th>\n",
       "      <td>5287.000</td>\n",
       "      <td>26.313</td>\n",
       "      <td>3.430</td>\n",
       "      <td>0.205</td>\n",
       "      <td>24.942</td>\n",
       "      <td>26.911</td>\n",
       "      <td>28.092</td>\n",
       "      <td>32.139</td>\n",
       "    </tr>\n",
       "    <tr>\n",
       "      <th>secondary_cleaner.state.floatbank2_a_level</th>\n",
       "      <td>5290.000</td>\n",
       "      <td>-502.751</td>\n",
       "      <td>28.757</td>\n",
       "      <td>-784.091</td>\n",
       "      <td>-500.207</td>\n",
       "      <td>-500.004</td>\n",
       "      <td>-499.792</td>\n",
       "      <td>-300.344</td>\n",
       "    </tr>\n",
       "    <tr>\n",
       "      <th>secondary_cleaner.state.floatbank2_b_air</th>\n",
       "      <td>5288.000</td>\n",
       "      <td>21.949</td>\n",
       "      <td>4.355</td>\n",
       "      <td>0.006</td>\n",
       "      <td>20.002</td>\n",
       "      <td>22.943</td>\n",
       "      <td>24.985</td>\n",
       "      <td>28.166</td>\n",
       "    </tr>\n",
       "    <tr>\n",
       "      <th>secondary_cleaner.state.floatbank2_b_level</th>\n",
       "      <td>5290.000</td>\n",
       "      <td>-501.987</td>\n",
       "      <td>34.583</td>\n",
       "      <td>-797.784</td>\n",
       "      <td>-500.218</td>\n",
       "      <td>-500.019</td>\n",
       "      <td>-499.832</td>\n",
       "      <td>-211.999</td>\n",
       "    </tr>\n",
       "    <tr>\n",
       "      <th>secondary_cleaner.state.floatbank3_a_air</th>\n",
       "      <td>5281.000</td>\n",
       "      <td>25.403</td>\n",
       "      <td>6.526</td>\n",
       "      <td>0.000</td>\n",
       "      <td>22.982</td>\n",
       "      <td>25.010</td>\n",
       "      <td>30.002</td>\n",
       "      <td>40.042</td>\n",
       "    </tr>\n",
       "    <tr>\n",
       "      <th>secondary_cleaner.state.floatbank3_a_level</th>\n",
       "      <td>5290.000</td>\n",
       "      <td>-507.490</td>\n",
       "      <td>47.621</td>\n",
       "      <td>-799.756</td>\n",
       "      <td>-500.298</td>\n",
       "      <td>-500.035</td>\n",
       "      <td>-499.780</td>\n",
       "      <td>-313.866</td>\n",
       "    </tr>\n",
       "    <tr>\n",
       "      <th>secondary_cleaner.state.floatbank3_b_air</th>\n",
       "      <td>5290.000</td>\n",
       "      <td>20.982</td>\n",
       "      <td>6.736</td>\n",
       "      <td>0.000</td>\n",
       "      <td>17.968</td>\n",
       "      <td>21.003</td>\n",
       "      <td>26.977</td>\n",
       "      <td>32.039</td>\n",
       "    </tr>\n",
       "    <tr>\n",
       "      <th>secondary_cleaner.state.floatbank3_b_level</th>\n",
       "      <td>5290.000</td>\n",
       "      <td>-506.628</td>\n",
       "      <td>44.529</td>\n",
       "      <td>-809.333</td>\n",
       "      <td>-500.145</td>\n",
       "      <td>-500.014</td>\n",
       "      <td>-499.891</td>\n",
       "      <td>-202.277</td>\n",
       "    </tr>\n",
       "    <tr>\n",
       "      <th>secondary_cleaner.state.floatbank4_a_air</th>\n",
       "      <td>5290.000</td>\n",
       "      <td>16.320</td>\n",
       "      <td>3.494</td>\n",
       "      <td>0.000</td>\n",
       "      <td>14.036</td>\n",
       "      <td>17.008</td>\n",
       "      <td>18.039</td>\n",
       "      <td>30.052</td>\n",
       "    </tr>\n",
       "    <tr>\n",
       "      <th>secondary_cleaner.state.floatbank4_a_level</th>\n",
       "      <td>5290.000</td>\n",
       "      <td>-505.145</td>\n",
       "      <td>31.427</td>\n",
       "      <td>-799.799</td>\n",
       "      <td>-500.868</td>\n",
       "      <td>-500.116</td>\n",
       "      <td>-499.404</td>\n",
       "      <td>-401.565</td>\n",
       "    </tr>\n",
       "    <tr>\n",
       "      <th>secondary_cleaner.state.floatbank4_b_air</th>\n",
       "      <td>5290.000</td>\n",
       "      <td>13.735</td>\n",
       "      <td>3.430</td>\n",
       "      <td>0.000</td>\n",
       "      <td>12.029</td>\n",
       "      <td>14.965</td>\n",
       "      <td>15.962</td>\n",
       "      <td>31.270</td>\n",
       "    </tr>\n",
       "    <tr>\n",
       "      <th>secondary_cleaner.state.floatbank4_b_level</th>\n",
       "      <td>5290.000</td>\n",
       "      <td>-463.350</td>\n",
       "      <td>86.189</td>\n",
       "      <td>-800.837</td>\n",
       "      <td>-500.323</td>\n",
       "      <td>-499.577</td>\n",
       "      <td>-400.934</td>\n",
       "      <td>-6.507</td>\n",
       "    </tr>\n",
       "    <tr>\n",
       "      <th>secondary_cleaner.state.floatbank5_a_air</th>\n",
       "      <td>5290.000</td>\n",
       "      <td>12.804</td>\n",
       "      <td>3.027</td>\n",
       "      <td>0.069</td>\n",
       "      <td>10.915</td>\n",
       "      <td>12.954</td>\n",
       "      <td>15.098</td>\n",
       "      <td>25.259</td>\n",
       "    </tr>\n",
       "    <tr>\n",
       "      <th>secondary_cleaner.state.floatbank5_a_level</th>\n",
       "      <td>5290.000</td>\n",
       "      <td>-501.329</td>\n",
       "      <td>17.951</td>\n",
       "      <td>-797.324</td>\n",
       "      <td>-500.727</td>\n",
       "      <td>-499.990</td>\n",
       "      <td>-499.283</td>\n",
       "      <td>-244.484</td>\n",
       "    </tr>\n",
       "    <tr>\n",
       "      <th>secondary_cleaner.state.floatbank5_b_air</th>\n",
       "      <td>5290.000</td>\n",
       "      <td>9.881</td>\n",
       "      <td>2.868</td>\n",
       "      <td>0.528</td>\n",
       "      <td>8.037</td>\n",
       "      <td>10.004</td>\n",
       "      <td>11.997</td>\n",
       "      <td>14.087</td>\n",
       "    </tr>\n",
       "    <tr>\n",
       "      <th>secondary_cleaner.state.floatbank5_b_level</th>\n",
       "      <td>5290.000</td>\n",
       "      <td>-495.663</td>\n",
       "      <td>34.535</td>\n",
       "      <td>-800.220</td>\n",
       "      <td>-500.195</td>\n",
       "      <td>-499.991</td>\n",
       "      <td>-499.720</td>\n",
       "      <td>-137.740</td>\n",
       "    </tr>\n",
       "    <tr>\n",
       "      <th>secondary_cleaner.state.floatbank6_a_air</th>\n",
       "      <td>5290.000</td>\n",
       "      <td>17.305</td>\n",
       "      <td>4.537</td>\n",
       "      <td>-0.079</td>\n",
       "      <td>13.997</td>\n",
       "      <td>16.015</td>\n",
       "      <td>21.020</td>\n",
       "      <td>26.706</td>\n",
       "    </tr>\n",
       "    <tr>\n",
       "      <th>secondary_cleaner.state.floatbank6_a_level</th>\n",
       "      <td>5290.000</td>\n",
       "      <td>-501.793</td>\n",
       "      <td>39.044</td>\n",
       "      <td>-809.741</td>\n",
       "      <td>-500.691</td>\n",
       "      <td>-500.007</td>\n",
       "      <td>-499.373</td>\n",
       "      <td>-123.307</td>\n",
       "    </tr>\n",
       "  </tbody>\n",
       "</table>\n",
       "</div>"
      ],
      "text/plain": [
       "                                              count     mean     std      min  \\\n",
       "primary_cleaner.input.sulfate              5286.000  174.840  43.027    2.566   \n",
       "primary_cleaner.input.depressant           5285.000    8.684   3.072    0.004   \n",
       "primary_cleaner.input.feed_size            5290.000    7.266   0.610    5.650   \n",
       "primary_cleaner.input.xanthate             5286.000    1.384   0.643    0.005   \n",
       "primary_cleaner.state.floatbank8_a_air     5290.000 1539.494 116.798    0.000   \n",
       "primary_cleaner.state.floatbank8_a_level   5290.000 -497.666  19.952 -795.316   \n",
       "primary_cleaner.state.floatbank8_b_air     5290.000 1545.174 122.225    0.000   \n",
       "primary_cleaner.state.floatbank8_b_level   5290.000 -500.273  32.968 -799.997   \n",
       "primary_cleaner.state.floatbank8_c_air     5290.000 1527.272 122.538    0.000   \n",
       "primary_cleaner.state.floatbank8_c_level   5290.000 -498.331  21.965 -799.961   \n",
       "primary_cleaner.state.floatbank8_d_air     5290.000 1544.844 124.773    0.000   \n",
       "primary_cleaner.state.floatbank8_d_level   5290.000 -500.200  31.045 -799.794   \n",
       "rougher.input.feed_ag                      5290.000    9.372   1.926    0.568   \n",
       "rougher.input.feed_pb                      5290.000    3.798   0.955    0.274   \n",
       "rougher.input.feed_rate                    5287.000  489.801 108.036    0.003   \n",
       "rougher.input.feed_size                    5289.000   55.951  19.082    0.046   \n",
       "rougher.input.feed_sol                     5269.000   37.717   5.491    1.393   \n",
       "rougher.input.feed_au                      5290.000    9.335   1.620    0.569   \n",
       "rougher.input.floatbank10_sulfate          5285.000   13.856   3.351    0.001   \n",
       "rougher.input.floatbank10_xanthate         5290.000    6.468   1.065    0.001   \n",
       "rougher.input.floatbank11_sulfate          5282.000   13.922   3.224    0.000   \n",
       "rougher.input.floatbank11_xanthate         5265.000    6.512   0.887    0.007   \n",
       "rougher.state.floatbank10_a_air            5290.000 1053.400 121.139   -0.042   \n",
       "rougher.state.floatbank10_a_level          5290.000 -395.733  91.086 -657.950   \n",
       "rougher.state.floatbank10_b_air            5290.000 1318.927 156.450   -0.722   \n",
       "rougher.state.floatbank10_b_level          5290.000 -475.241  45.649 -650.245   \n",
       "rougher.state.floatbank10_c_air            5290.000 1301.595 171.270   -0.057   \n",
       "rougher.state.floatbank10_c_level          5290.000 -474.837  45.860 -647.544   \n",
       "rougher.state.floatbank10_d_air            5290.000 1214.848 185.763   -0.992   \n",
       "rougher.state.floatbank10_d_level          5290.000 -475.682  47.845 -648.391   \n",
       "rougher.state.floatbank10_e_air            5290.000 1056.649 131.543   -1.982   \n",
       "rougher.state.floatbank10_e_level          5290.000 -469.030  59.326 -649.268   \n",
       "rougher.state.floatbank10_f_air            5290.000  997.950 128.219   -2.593   \n",
       "rougher.state.floatbank10_f_level          5290.000 -470.482  60.759 -649.949   \n",
       "secondary_cleaner.state.floatbank2_a_air   5287.000   26.313   3.430    0.205   \n",
       "secondary_cleaner.state.floatbank2_a_level 5290.000 -502.751  28.757 -784.091   \n",
       "secondary_cleaner.state.floatbank2_b_air   5288.000   21.949   4.355    0.006   \n",
       "secondary_cleaner.state.floatbank2_b_level 5290.000 -501.987  34.583 -797.784   \n",
       "secondary_cleaner.state.floatbank3_a_air   5281.000   25.403   6.526    0.000   \n",
       "secondary_cleaner.state.floatbank3_a_level 5290.000 -507.490  47.621 -799.756   \n",
       "secondary_cleaner.state.floatbank3_b_air   5290.000   20.982   6.736    0.000   \n",
       "secondary_cleaner.state.floatbank3_b_level 5290.000 -506.628  44.529 -809.333   \n",
       "secondary_cleaner.state.floatbank4_a_air   5290.000   16.320   3.494    0.000   \n",
       "secondary_cleaner.state.floatbank4_a_level 5290.000 -505.145  31.427 -799.799   \n",
       "secondary_cleaner.state.floatbank4_b_air   5290.000   13.735   3.430    0.000   \n",
       "secondary_cleaner.state.floatbank4_b_level 5290.000 -463.350  86.189 -800.837   \n",
       "secondary_cleaner.state.floatbank5_a_air   5290.000   12.804   3.027    0.069   \n",
       "secondary_cleaner.state.floatbank5_a_level 5290.000 -501.329  17.951 -797.324   \n",
       "secondary_cleaner.state.floatbank5_b_air   5290.000    9.881   2.868    0.528   \n",
       "secondary_cleaner.state.floatbank5_b_level 5290.000 -495.663  34.535 -800.220   \n",
       "secondary_cleaner.state.floatbank6_a_air   5290.000   17.305   4.537   -0.079   \n",
       "secondary_cleaner.state.floatbank6_a_level 5290.000 -501.793  39.044 -809.741   \n",
       "\n",
       "                                                25%      50%      75%      max  \n",
       "primary_cleaner.input.sulfate               147.121  177.828  208.125  265.983  \n",
       "primary_cleaner.input.depressant              6.490    8.052   10.028   40.000  \n",
       "primary_cleaner.input.feed_size               6.890    7.250    7.600   15.500  \n",
       "primary_cleaner.input.xanthate                0.908    1.198    1.798    4.102  \n",
       "primary_cleaner.state.floatbank8_a_air     1498.936 1585.129 1602.077 2103.104  \n",
       "primary_cleaner.state.floatbank8_a_level   -500.357 -499.969 -499.569  -57.195  \n",
       "primary_cleaner.state.floatbank8_b_air     1498.971 1595.622 1602.324 1813.084  \n",
       "primary_cleaner.state.floatbank8_b_level   -500.703 -500.029 -499.293 -142.527  \n",
       "primary_cleaner.state.floatbank8_c_air     1473.230 1549.595 1601.144 1715.054  \n",
       "primary_cleaner.state.floatbank8_c_level   -501.018 -500.018 -498.994 -150.937  \n",
       "primary_cleaner.state.floatbank8_d_air     1499.481 1594.579 1600.965 1913.257  \n",
       "primary_cleaner.state.floatbank8_d_level   -500.452 -500.023 -499.607 -158.951  \n",
       "rougher.input.feed_ag                         8.112    9.763   10.652   14.406  \n",
       "rougher.input.feed_pb                         3.240    3.741    4.283    6.906  \n",
       "rougher.input.feed_rate                     407.021  499.051  575.307  707.364  \n",
       "rougher.input.feed_size                      43.906   50.841   62.431  392.494  \n",
       "rougher.input.feed_sol                       34.506   37.980   41.635   53.478  \n",
       "rougher.input.feed_au                         8.208    9.594   10.464   13.731  \n",
       "rougher.input.floatbank10_sulfate            11.995   14.003   16.974   24.281  \n",
       "rougher.input.floatbank10_xanthate            5.999    6.498    7.085    8.910  \n",
       "rougher.input.floatbank11_sulfate            11.997   14.004   16.960   24.281  \n",
       "rougher.input.floatbank11_xanthate            5.999    6.499    7.092    8.621  \n",
       "rougher.state.floatbank10_a_air             999.205 1000.472 1006.254 1423.275  \n",
       "rougher.state.floatbank10_a_level          -499.921 -399.693 -300.060 -273.776  \n",
       "rougher.state.floatbank10_b_air            1200.872 1302.255 1433.956 1706.640  \n",
       "rougher.state.floatbank10_b_level          -500.256 -499.838 -450.750 -298.200  \n",
       "rougher.state.floatbank10_c_air            1199.651 1300.202 1406.595 1731.018  \n",
       "rougher.state.floatbank10_c_level          -500.234 -499.777 -451.153 -298.037  \n",
       "rougher.state.floatbank10_d_air            1093.368 1207.014 1391.497 1775.219  \n",
       "rougher.state.floatbank10_d_level          -500.441 -499.692 -452.483  -76.397  \n",
       "rougher.state.floatbank10_e_air             999.361 1047.495 1101.365 1467.185  \n",
       "rougher.state.floatbank10_e_level          -500.191 -499.766 -450.958 -139.753  \n",
       "rougher.state.floatbank10_f_air             901.025  999.442 1050.433 1476.588  \n",
       "rougher.state.floatbank10_f_level          -500.625 -499.681 -451.986 -249.801  \n",
       "secondary_cleaner.state.floatbank2_a_air     24.942   26.911   28.092   32.139  \n",
       "secondary_cleaner.state.floatbank2_a_level -500.207 -500.004 -499.792 -300.344  \n",
       "secondary_cleaner.state.floatbank2_b_air     20.002   22.943   24.985   28.166  \n",
       "secondary_cleaner.state.floatbank2_b_level -500.218 -500.019 -499.832 -211.999  \n",
       "secondary_cleaner.state.floatbank3_a_air     22.982   25.010   30.002   40.042  \n",
       "secondary_cleaner.state.floatbank3_a_level -500.298 -500.035 -499.780 -313.866  \n",
       "secondary_cleaner.state.floatbank3_b_air     17.968   21.003   26.977   32.039  \n",
       "secondary_cleaner.state.floatbank3_b_level -500.145 -500.014 -499.891 -202.277  \n",
       "secondary_cleaner.state.floatbank4_a_air     14.036   17.008   18.039   30.052  \n",
       "secondary_cleaner.state.floatbank4_a_level -500.868 -500.116 -499.404 -401.565  \n",
       "secondary_cleaner.state.floatbank4_b_air     12.029   14.965   15.962   31.270  \n",
       "secondary_cleaner.state.floatbank4_b_level -500.323 -499.577 -400.934   -6.507  \n",
       "secondary_cleaner.state.floatbank5_a_air     10.915   12.954   15.098   25.259  \n",
       "secondary_cleaner.state.floatbank5_a_level -500.727 -499.990 -499.283 -244.484  \n",
       "secondary_cleaner.state.floatbank5_b_air      8.037   10.004   11.997   14.087  \n",
       "secondary_cleaner.state.floatbank5_b_level -500.195 -499.991 -499.720 -137.740  \n",
       "secondary_cleaner.state.floatbank6_a_air     13.997   16.015   21.020   26.706  \n",
       "secondary_cleaner.state.floatbank6_a_level -500.691 -500.007 -499.373 -123.307  "
      ]
     },
     "execution_count": 7,
     "metadata": {},
     "output_type": "execute_result"
    }
   ],
   "source": [
    "data_test.describe().T"
   ]
  },
  {
   "cell_type": "code",
   "execution_count": 8,
   "metadata": {
    "scrolled": true
   },
   "outputs": [
    {
     "name": "stdout",
     "output_type": "stream",
     "text": [
      "<class 'pandas.core.frame.DataFrame'>\n",
      "RangeIndex: 5290 entries, 0 to 5289\n",
      "Data columns (total 53 columns):\n",
      " #   Column                                      Non-Null Count  Dtype  \n",
      "---  ------                                      --------------  -----  \n",
      " 0   date                                        5290 non-null   object \n",
      " 1   primary_cleaner.input.sulfate               5286 non-null   float64\n",
      " 2   primary_cleaner.input.depressant            5285 non-null   float64\n",
      " 3   primary_cleaner.input.feed_size             5290 non-null   float64\n",
      " 4   primary_cleaner.input.xanthate              5286 non-null   float64\n",
      " 5   primary_cleaner.state.floatbank8_a_air      5290 non-null   float64\n",
      " 6   primary_cleaner.state.floatbank8_a_level    5290 non-null   float64\n",
      " 7   primary_cleaner.state.floatbank8_b_air      5290 non-null   float64\n",
      " 8   primary_cleaner.state.floatbank8_b_level    5290 non-null   float64\n",
      " 9   primary_cleaner.state.floatbank8_c_air      5290 non-null   float64\n",
      " 10  primary_cleaner.state.floatbank8_c_level    5290 non-null   float64\n",
      " 11  primary_cleaner.state.floatbank8_d_air      5290 non-null   float64\n",
      " 12  primary_cleaner.state.floatbank8_d_level    5290 non-null   float64\n",
      " 13  rougher.input.feed_ag                       5290 non-null   float64\n",
      " 14  rougher.input.feed_pb                       5290 non-null   float64\n",
      " 15  rougher.input.feed_rate                     5287 non-null   float64\n",
      " 16  rougher.input.feed_size                     5289 non-null   float64\n",
      " 17  rougher.input.feed_sol                      5269 non-null   float64\n",
      " 18  rougher.input.feed_au                       5290 non-null   float64\n",
      " 19  rougher.input.floatbank10_sulfate           5285 non-null   float64\n",
      " 20  rougher.input.floatbank10_xanthate          5290 non-null   float64\n",
      " 21  rougher.input.floatbank11_sulfate           5282 non-null   float64\n",
      " 22  rougher.input.floatbank11_xanthate          5265 non-null   float64\n",
      " 23  rougher.state.floatbank10_a_air             5290 non-null   float64\n",
      " 24  rougher.state.floatbank10_a_level           5290 non-null   float64\n",
      " 25  rougher.state.floatbank10_b_air             5290 non-null   float64\n",
      " 26  rougher.state.floatbank10_b_level           5290 non-null   float64\n",
      " 27  rougher.state.floatbank10_c_air             5290 non-null   float64\n",
      " 28  rougher.state.floatbank10_c_level           5290 non-null   float64\n",
      " 29  rougher.state.floatbank10_d_air             5290 non-null   float64\n",
      " 30  rougher.state.floatbank10_d_level           5290 non-null   float64\n",
      " 31  rougher.state.floatbank10_e_air             5290 non-null   float64\n",
      " 32  rougher.state.floatbank10_e_level           5290 non-null   float64\n",
      " 33  rougher.state.floatbank10_f_air             5290 non-null   float64\n",
      " 34  rougher.state.floatbank10_f_level           5290 non-null   float64\n",
      " 35  secondary_cleaner.state.floatbank2_a_air    5287 non-null   float64\n",
      " 36  secondary_cleaner.state.floatbank2_a_level  5290 non-null   float64\n",
      " 37  secondary_cleaner.state.floatbank2_b_air    5288 non-null   float64\n",
      " 38  secondary_cleaner.state.floatbank2_b_level  5290 non-null   float64\n",
      " 39  secondary_cleaner.state.floatbank3_a_air    5281 non-null   float64\n",
      " 40  secondary_cleaner.state.floatbank3_a_level  5290 non-null   float64\n",
      " 41  secondary_cleaner.state.floatbank3_b_air    5290 non-null   float64\n",
      " 42  secondary_cleaner.state.floatbank3_b_level  5290 non-null   float64\n",
      " 43  secondary_cleaner.state.floatbank4_a_air    5290 non-null   float64\n",
      " 44  secondary_cleaner.state.floatbank4_a_level  5290 non-null   float64\n",
      " 45  secondary_cleaner.state.floatbank4_b_air    5290 non-null   float64\n",
      " 46  secondary_cleaner.state.floatbank4_b_level  5290 non-null   float64\n",
      " 47  secondary_cleaner.state.floatbank5_a_air    5290 non-null   float64\n",
      " 48  secondary_cleaner.state.floatbank5_a_level  5290 non-null   float64\n",
      " 49  secondary_cleaner.state.floatbank5_b_air    5290 non-null   float64\n",
      " 50  secondary_cleaner.state.floatbank5_b_level  5290 non-null   float64\n",
      " 51  secondary_cleaner.state.floatbank6_a_air    5290 non-null   float64\n",
      " 52  secondary_cleaner.state.floatbank6_a_level  5290 non-null   float64\n",
      "dtypes: float64(52), object(1)\n",
      "memory usage: 2.1+ MB\n"
     ]
    }
   ],
   "source": [
    "data_test.info()"
   ]
  },
  {
   "cell_type": "markdown",
   "metadata": {},
   "source": [
    "___\n",
    "**Исходная выборка:**"
   ]
  },
  {
   "cell_type": "code",
   "execution_count": 9,
   "metadata": {},
   "outputs": [
    {
     "data": {
      "text/html": [
       "<div>\n",
       "<style scoped>\n",
       "    .dataframe tbody tr th:only-of-type {\n",
       "        vertical-align: middle;\n",
       "    }\n",
       "\n",
       "    .dataframe tbody tr th {\n",
       "        vertical-align: top;\n",
       "    }\n",
       "\n",
       "    .dataframe thead th {\n",
       "        text-align: right;\n",
       "    }\n",
       "</style>\n",
       "<table border=\"1\" class=\"dataframe\">\n",
       "  <thead>\n",
       "    <tr style=\"text-align: right;\">\n",
       "      <th></th>\n",
       "      <th>date</th>\n",
       "      <th>final.output.concentrate_ag</th>\n",
       "      <th>final.output.concentrate_pb</th>\n",
       "      <th>final.output.concentrate_sol</th>\n",
       "      <th>final.output.concentrate_au</th>\n",
       "      <th>final.output.recovery</th>\n",
       "      <th>final.output.tail_ag</th>\n",
       "      <th>final.output.tail_pb</th>\n",
       "      <th>final.output.tail_sol</th>\n",
       "      <th>final.output.tail_au</th>\n",
       "      <th>primary_cleaner.input.sulfate</th>\n",
       "      <th>primary_cleaner.input.depressant</th>\n",
       "      <th>primary_cleaner.input.feed_size</th>\n",
       "      <th>primary_cleaner.input.xanthate</th>\n",
       "      <th>primary_cleaner.output.concentrate_ag</th>\n",
       "      <th>primary_cleaner.output.concentrate_pb</th>\n",
       "      <th>primary_cleaner.output.concentrate_sol</th>\n",
       "      <th>primary_cleaner.output.concentrate_au</th>\n",
       "      <th>primary_cleaner.output.tail_ag</th>\n",
       "      <th>primary_cleaner.output.tail_pb</th>\n",
       "      <th>primary_cleaner.output.tail_sol</th>\n",
       "      <th>primary_cleaner.output.tail_au</th>\n",
       "      <th>primary_cleaner.state.floatbank8_a_air</th>\n",
       "      <th>primary_cleaner.state.floatbank8_a_level</th>\n",
       "      <th>primary_cleaner.state.floatbank8_b_air</th>\n",
       "      <th>primary_cleaner.state.floatbank8_b_level</th>\n",
       "      <th>primary_cleaner.state.floatbank8_c_air</th>\n",
       "      <th>primary_cleaner.state.floatbank8_c_level</th>\n",
       "      <th>primary_cleaner.state.floatbank8_d_air</th>\n",
       "      <th>primary_cleaner.state.floatbank8_d_level</th>\n",
       "      <th>rougher.calculation.sulfate_to_au_concentrate</th>\n",
       "      <th>rougher.calculation.floatbank10_sulfate_to_au_feed</th>\n",
       "      <th>rougher.calculation.floatbank11_sulfate_to_au_feed</th>\n",
       "      <th>rougher.calculation.au_pb_ratio</th>\n",
       "      <th>rougher.input.feed_ag</th>\n",
       "      <th>rougher.input.feed_pb</th>\n",
       "      <th>rougher.input.feed_rate</th>\n",
       "      <th>rougher.input.feed_size</th>\n",
       "      <th>rougher.input.feed_sol</th>\n",
       "      <th>rougher.input.feed_au</th>\n",
       "      <th>rougher.input.floatbank10_sulfate</th>\n",
       "      <th>rougher.input.floatbank10_xanthate</th>\n",
       "      <th>rougher.input.floatbank11_sulfate</th>\n",
       "      <th>rougher.input.floatbank11_xanthate</th>\n",
       "      <th>rougher.output.concentrate_ag</th>\n",
       "      <th>rougher.output.concentrate_pb</th>\n",
       "      <th>rougher.output.concentrate_sol</th>\n",
       "      <th>rougher.output.concentrate_au</th>\n",
       "      <th>rougher.output.recovery</th>\n",
       "      <th>rougher.output.tail_ag</th>\n",
       "      <th>rougher.output.tail_pb</th>\n",
       "      <th>rougher.output.tail_sol</th>\n",
       "      <th>rougher.output.tail_au</th>\n",
       "      <th>rougher.state.floatbank10_a_air</th>\n",
       "      <th>rougher.state.floatbank10_a_level</th>\n",
       "      <th>rougher.state.floatbank10_b_air</th>\n",
       "      <th>rougher.state.floatbank10_b_level</th>\n",
       "      <th>rougher.state.floatbank10_c_air</th>\n",
       "      <th>rougher.state.floatbank10_c_level</th>\n",
       "      <th>rougher.state.floatbank10_d_air</th>\n",
       "      <th>rougher.state.floatbank10_d_level</th>\n",
       "      <th>rougher.state.floatbank10_e_air</th>\n",
       "      <th>rougher.state.floatbank10_e_level</th>\n",
       "      <th>rougher.state.floatbank10_f_air</th>\n",
       "      <th>rougher.state.floatbank10_f_level</th>\n",
       "      <th>secondary_cleaner.output.tail_ag</th>\n",
       "      <th>secondary_cleaner.output.tail_pb</th>\n",
       "      <th>secondary_cleaner.output.tail_sol</th>\n",
       "      <th>secondary_cleaner.output.tail_au</th>\n",
       "      <th>secondary_cleaner.state.floatbank2_a_air</th>\n",
       "      <th>secondary_cleaner.state.floatbank2_a_level</th>\n",
       "      <th>secondary_cleaner.state.floatbank2_b_air</th>\n",
       "      <th>secondary_cleaner.state.floatbank2_b_level</th>\n",
       "      <th>secondary_cleaner.state.floatbank3_a_air</th>\n",
       "      <th>secondary_cleaner.state.floatbank3_a_level</th>\n",
       "      <th>secondary_cleaner.state.floatbank3_b_air</th>\n",
       "      <th>secondary_cleaner.state.floatbank3_b_level</th>\n",
       "      <th>secondary_cleaner.state.floatbank4_a_air</th>\n",
       "      <th>secondary_cleaner.state.floatbank4_a_level</th>\n",
       "      <th>secondary_cleaner.state.floatbank4_b_air</th>\n",
       "      <th>secondary_cleaner.state.floatbank4_b_level</th>\n",
       "      <th>secondary_cleaner.state.floatbank5_a_air</th>\n",
       "      <th>secondary_cleaner.state.floatbank5_a_level</th>\n",
       "      <th>secondary_cleaner.state.floatbank5_b_air</th>\n",
       "      <th>secondary_cleaner.state.floatbank5_b_level</th>\n",
       "      <th>secondary_cleaner.state.floatbank6_a_air</th>\n",
       "      <th>secondary_cleaner.state.floatbank6_a_level</th>\n",
       "    </tr>\n",
       "  </thead>\n",
       "  <tbody>\n",
       "    <tr>\n",
       "      <th>0</th>\n",
       "      <td>2016-01-15 00:00:00</td>\n",
       "      <td>6.055</td>\n",
       "      <td>9.890</td>\n",
       "      <td>5.507</td>\n",
       "      <td>42.192</td>\n",
       "      <td>70.541</td>\n",
       "      <td>10.412</td>\n",
       "      <td>0.895</td>\n",
       "      <td>16.904</td>\n",
       "      <td>2.143</td>\n",
       "      <td>127.092</td>\n",
       "      <td>10.128</td>\n",
       "      <td>7.250</td>\n",
       "      <td>0.989</td>\n",
       "      <td>8.548</td>\n",
       "      <td>10.390</td>\n",
       "      <td>19.529</td>\n",
       "      <td>34.174</td>\n",
       "      <td>14.937</td>\n",
       "      <td>2.535</td>\n",
       "      <td>7.476</td>\n",
       "      <td>2.107</td>\n",
       "      <td>1549.776</td>\n",
       "      <td>-498.912</td>\n",
       "      <td>1551.434</td>\n",
       "      <td>-516.403</td>\n",
       "      <td>1549.874</td>\n",
       "      <td>-498.667</td>\n",
       "      <td>1554.367</td>\n",
       "      <td>-493.428</td>\n",
       "      <td>41885.707</td>\n",
       "      <td>3481.779</td>\n",
       "      <td>3520.337</td>\n",
       "      <td>2.839</td>\n",
       "      <td>6.100</td>\n",
       "      <td>2.285</td>\n",
       "      <td>523.546</td>\n",
       "      <td>55.487</td>\n",
       "      <td>36.809</td>\n",
       "      <td>6.486</td>\n",
       "      <td>11.987</td>\n",
       "      <td>6.008</td>\n",
       "      <td>11.837</td>\n",
       "      <td>6.006</td>\n",
       "      <td>11.501</td>\n",
       "      <td>7.101</td>\n",
       "      <td>28.029</td>\n",
       "      <td>19.794</td>\n",
       "      <td>87.108</td>\n",
       "      <td>5.008</td>\n",
       "      <td>0.509</td>\n",
       "      <td>19.154</td>\n",
       "      <td>1.170</td>\n",
       "      <td>999.707</td>\n",
       "      <td>-404.067</td>\n",
       "      <td>1603.011</td>\n",
       "      <td>-434.715</td>\n",
       "      <td>1602.375</td>\n",
       "      <td>-442.204</td>\n",
       "      <td>1598.937</td>\n",
       "      <td>-451.294</td>\n",
       "      <td>1404.472</td>\n",
       "      <td>-455.463</td>\n",
       "      <td>1416.355</td>\n",
       "      <td>-451.940</td>\n",
       "      <td>14.500</td>\n",
       "      <td>4.695</td>\n",
       "      <td>8.765</td>\n",
       "      <td>2.606</td>\n",
       "      <td>25.853</td>\n",
       "      <td>-498.526</td>\n",
       "      <td>23.894</td>\n",
       "      <td>-501.406</td>\n",
       "      <td>23.962</td>\n",
       "      <td>-495.263</td>\n",
       "      <td>21.940</td>\n",
       "      <td>-499.341</td>\n",
       "      <td>14.017</td>\n",
       "      <td>-502.488</td>\n",
       "      <td>12.100</td>\n",
       "      <td>-504.716</td>\n",
       "      <td>9.926</td>\n",
       "      <td>-498.310</td>\n",
       "      <td>8.080</td>\n",
       "      <td>-500.471</td>\n",
       "      <td>14.151</td>\n",
       "      <td>-605.842</td>\n",
       "    </tr>\n",
       "    <tr>\n",
       "      <th>1</th>\n",
       "      <td>2016-01-15 01:00:00</td>\n",
       "      <td>6.029</td>\n",
       "      <td>9.969</td>\n",
       "      <td>5.258</td>\n",
       "      <td>42.702</td>\n",
       "      <td>69.266</td>\n",
       "      <td>10.463</td>\n",
       "      <td>0.927</td>\n",
       "      <td>16.635</td>\n",
       "      <td>2.225</td>\n",
       "      <td>125.629</td>\n",
       "      <td>10.296</td>\n",
       "      <td>7.250</td>\n",
       "      <td>1.003</td>\n",
       "      <td>8.559</td>\n",
       "      <td>10.497</td>\n",
       "      <td>19.369</td>\n",
       "      <td>34.119</td>\n",
       "      <td>16.251</td>\n",
       "      <td>3.050</td>\n",
       "      <td>6.734</td>\n",
       "      <td>2.353</td>\n",
       "      <td>1576.167</td>\n",
       "      <td>-500.905</td>\n",
       "      <td>1575.951</td>\n",
       "      <td>-499.866</td>\n",
       "      <td>1575.994</td>\n",
       "      <td>-499.315</td>\n",
       "      <td>1574.479</td>\n",
       "      <td>-498.932</td>\n",
       "      <td>42050.862</td>\n",
       "      <td>3498.371</td>\n",
       "      <td>3489.982</td>\n",
       "      <td>2.859</td>\n",
       "      <td>6.161</td>\n",
       "      <td>2.266</td>\n",
       "      <td>525.291</td>\n",
       "      <td>57.279</td>\n",
       "      <td>35.753</td>\n",
       "      <td>6.479</td>\n",
       "      <td>11.971</td>\n",
       "      <td>6.006</td>\n",
       "      <td>11.996</td>\n",
       "      <td>6.013</td>\n",
       "      <td>11.616</td>\n",
       "      <td>7.279</td>\n",
       "      <td>28.067</td>\n",
       "      <td>20.051</td>\n",
       "      <td>86.843</td>\n",
       "      <td>4.955</td>\n",
       "      <td>0.537</td>\n",
       "      <td>18.965</td>\n",
       "      <td>1.185</td>\n",
       "      <td>1000.286</td>\n",
       "      <td>-400.065</td>\n",
       "      <td>1600.755</td>\n",
       "      <td>-449.953</td>\n",
       "      <td>1600.480</td>\n",
       "      <td>-449.831</td>\n",
       "      <td>1600.528</td>\n",
       "      <td>-449.954</td>\n",
       "      <td>1399.227</td>\n",
       "      <td>-450.870</td>\n",
       "      <td>1399.720</td>\n",
       "      <td>-450.119</td>\n",
       "      <td>14.265</td>\n",
       "      <td>4.593</td>\n",
       "      <td>9.001</td>\n",
       "      <td>2.488</td>\n",
       "      <td>25.881</td>\n",
       "      <td>-499.990</td>\n",
       "      <td>23.890</td>\n",
       "      <td>-500.372</td>\n",
       "      <td>23.971</td>\n",
       "      <td>-500.085</td>\n",
       "      <td>22.086</td>\n",
       "      <td>-499.447</td>\n",
       "      <td>13.992</td>\n",
       "      <td>-505.503</td>\n",
       "      <td>11.951</td>\n",
       "      <td>-501.332</td>\n",
       "      <td>10.039</td>\n",
       "      <td>-500.170</td>\n",
       "      <td>7.985</td>\n",
       "      <td>-500.582</td>\n",
       "      <td>13.998</td>\n",
       "      <td>-599.787</td>\n",
       "    </tr>\n",
       "    <tr>\n",
       "      <th>2</th>\n",
       "      <td>2016-01-15 02:00:00</td>\n",
       "      <td>6.056</td>\n",
       "      <td>10.214</td>\n",
       "      <td>5.384</td>\n",
       "      <td>42.658</td>\n",
       "      <td>68.116</td>\n",
       "      <td>10.507</td>\n",
       "      <td>0.954</td>\n",
       "      <td>16.209</td>\n",
       "      <td>2.258</td>\n",
       "      <td>123.820</td>\n",
       "      <td>11.316</td>\n",
       "      <td>7.250</td>\n",
       "      <td>0.991</td>\n",
       "      <td>8.604</td>\n",
       "      <td>10.354</td>\n",
       "      <td>19.168</td>\n",
       "      <td>33.969</td>\n",
       "      <td>16.492</td>\n",
       "      <td>3.125</td>\n",
       "      <td>6.472</td>\n",
       "      <td>2.417</td>\n",
       "      <td>1601.556</td>\n",
       "      <td>-499.998</td>\n",
       "      <td>1600.387</td>\n",
       "      <td>-500.608</td>\n",
       "      <td>1602.004</td>\n",
       "      <td>-500.870</td>\n",
       "      <td>1599.542</td>\n",
       "      <td>-499.827</td>\n",
       "      <td>42018.101</td>\n",
       "      <td>3495.349</td>\n",
       "      <td>3502.360</td>\n",
       "      <td>2.946</td>\n",
       "      <td>6.116</td>\n",
       "      <td>2.160</td>\n",
       "      <td>530.027</td>\n",
       "      <td>57.511</td>\n",
       "      <td>35.972</td>\n",
       "      <td>6.362</td>\n",
       "      <td>11.921</td>\n",
       "      <td>6.197</td>\n",
       "      <td>11.920</td>\n",
       "      <td>6.205</td>\n",
       "      <td>11.696</td>\n",
       "      <td>7.217</td>\n",
       "      <td>27.454</td>\n",
       "      <td>19.737</td>\n",
       "      <td>86.842</td>\n",
       "      <td>4.843</td>\n",
       "      <td>0.546</td>\n",
       "      <td>18.809</td>\n",
       "      <td>1.163</td>\n",
       "      <td>999.720</td>\n",
       "      <td>-400.074</td>\n",
       "      <td>1599.337</td>\n",
       "      <td>-450.009</td>\n",
       "      <td>1599.673</td>\n",
       "      <td>-449.954</td>\n",
       "      <td>1599.849</td>\n",
       "      <td>-449.954</td>\n",
       "      <td>1399.181</td>\n",
       "      <td>-449.938</td>\n",
       "      <td>1400.317</td>\n",
       "      <td>-450.527</td>\n",
       "      <td>14.116</td>\n",
       "      <td>4.625</td>\n",
       "      <td>8.843</td>\n",
       "      <td>2.458</td>\n",
       "      <td>26.005</td>\n",
       "      <td>-499.930</td>\n",
       "      <td>23.887</td>\n",
       "      <td>-499.952</td>\n",
       "      <td>23.914</td>\n",
       "      <td>-499.442</td>\n",
       "      <td>23.958</td>\n",
       "      <td>-499.902</td>\n",
       "      <td>14.015</td>\n",
       "      <td>-502.521</td>\n",
       "      <td>11.913</td>\n",
       "      <td>-501.133</td>\n",
       "      <td>10.071</td>\n",
       "      <td>-500.129</td>\n",
       "      <td>8.014</td>\n",
       "      <td>-500.518</td>\n",
       "      <td>14.029</td>\n",
       "      <td>-601.427</td>\n",
       "    </tr>\n",
       "    <tr>\n",
       "      <th>3</th>\n",
       "      <td>2016-01-15 03:00:00</td>\n",
       "      <td>6.048</td>\n",
       "      <td>9.977</td>\n",
       "      <td>4.859</td>\n",
       "      <td>42.690</td>\n",
       "      <td>68.348</td>\n",
       "      <td>10.423</td>\n",
       "      <td>0.884</td>\n",
       "      <td>16.533</td>\n",
       "      <td>2.147</td>\n",
       "      <td>122.270</td>\n",
       "      <td>11.322</td>\n",
       "      <td>7.250</td>\n",
       "      <td>0.997</td>\n",
       "      <td>7.222</td>\n",
       "      <td>8.497</td>\n",
       "      <td>15.979</td>\n",
       "      <td>28.261</td>\n",
       "      <td>16.024</td>\n",
       "      <td>2.960</td>\n",
       "      <td>6.844</td>\n",
       "      <td>2.262</td>\n",
       "      <td>1599.969</td>\n",
       "      <td>-500.952</td>\n",
       "      <td>1600.659</td>\n",
       "      <td>-499.677</td>\n",
       "      <td>1600.304</td>\n",
       "      <td>-500.728</td>\n",
       "      <td>1600.450</td>\n",
       "      <td>-500.053</td>\n",
       "      <td>42029.448</td>\n",
       "      <td>3498.578</td>\n",
       "      <td>3499.163</td>\n",
       "      <td>3.002</td>\n",
       "      <td>6.043</td>\n",
       "      <td>2.038</td>\n",
       "      <td>542.590</td>\n",
       "      <td>57.793</td>\n",
       "      <td>36.862</td>\n",
       "      <td>6.118</td>\n",
       "      <td>11.630</td>\n",
       "      <td>6.203</td>\n",
       "      <td>11.692</td>\n",
       "      <td>6.197</td>\n",
       "      <td>11.915</td>\n",
       "      <td>7.176</td>\n",
       "      <td>27.341</td>\n",
       "      <td>19.321</td>\n",
       "      <td>87.226</td>\n",
       "      <td>4.655</td>\n",
       "      <td>0.543</td>\n",
       "      <td>19.330</td>\n",
       "      <td>1.080</td>\n",
       "      <td>999.815</td>\n",
       "      <td>-400.200</td>\n",
       "      <td>1600.059</td>\n",
       "      <td>-450.620</td>\n",
       "      <td>1600.013</td>\n",
       "      <td>-449.910</td>\n",
       "      <td>1597.725</td>\n",
       "      <td>-450.130</td>\n",
       "      <td>1400.943</td>\n",
       "      <td>-450.030</td>\n",
       "      <td>1400.235</td>\n",
       "      <td>-449.791</td>\n",
       "      <td>13.732</td>\n",
       "      <td>4.482</td>\n",
       "      <td>9.123</td>\n",
       "      <td>2.322</td>\n",
       "      <td>25.943</td>\n",
       "      <td>-499.177</td>\n",
       "      <td>23.956</td>\n",
       "      <td>-499.849</td>\n",
       "      <td>23.967</td>\n",
       "      <td>-500.009</td>\n",
       "      <td>23.954</td>\n",
       "      <td>-499.945</td>\n",
       "      <td>14.037</td>\n",
       "      <td>-500.857</td>\n",
       "      <td>12.000</td>\n",
       "      <td>-501.194</td>\n",
       "      <td>9.970</td>\n",
       "      <td>-499.202</td>\n",
       "      <td>7.977</td>\n",
       "      <td>-500.256</td>\n",
       "      <td>14.006</td>\n",
       "      <td>-599.996</td>\n",
       "    </tr>\n",
       "    <tr>\n",
       "      <th>4</th>\n",
       "      <td>2016-01-15 04:00:00</td>\n",
       "      <td>6.149</td>\n",
       "      <td>10.143</td>\n",
       "      <td>4.939</td>\n",
       "      <td>42.774</td>\n",
       "      <td>66.927</td>\n",
       "      <td>10.360</td>\n",
       "      <td>0.793</td>\n",
       "      <td>16.526</td>\n",
       "      <td>2.055</td>\n",
       "      <td>117.988</td>\n",
       "      <td>11.914</td>\n",
       "      <td>7.250</td>\n",
       "      <td>1.010</td>\n",
       "      <td>9.089</td>\n",
       "      <td>9.987</td>\n",
       "      <td>19.200</td>\n",
       "      <td>33.045</td>\n",
       "      <td>16.480</td>\n",
       "      <td>3.112</td>\n",
       "      <td>6.550</td>\n",
       "      <td>2.277</td>\n",
       "      <td>1601.340</td>\n",
       "      <td>-498.975</td>\n",
       "      <td>1601.438</td>\n",
       "      <td>-500.323</td>\n",
       "      <td>1599.582</td>\n",
       "      <td>-500.888</td>\n",
       "      <td>1602.650</td>\n",
       "      <td>-500.593</td>\n",
       "      <td>42125.354</td>\n",
       "      <td>3494.801</td>\n",
       "      <td>3506.679</td>\n",
       "      <td>3.170</td>\n",
       "      <td>6.061</td>\n",
       "      <td>1.787</td>\n",
       "      <td>540.532</td>\n",
       "      <td>56.047</td>\n",
       "      <td>34.348</td>\n",
       "      <td>5.664</td>\n",
       "      <td>10.958</td>\n",
       "      <td>6.199</td>\n",
       "      <td>10.961</td>\n",
       "      <td>6.195</td>\n",
       "      <td>12.411</td>\n",
       "      <td>7.240</td>\n",
       "      <td>27.041</td>\n",
       "      <td>19.216</td>\n",
       "      <td>86.689</td>\n",
       "      <td>4.553</td>\n",
       "      <td>0.515</td>\n",
       "      <td>19.267</td>\n",
       "      <td>1.013</td>\n",
       "      <td>999.679</td>\n",
       "      <td>-399.753</td>\n",
       "      <td>1600.209</td>\n",
       "      <td>-449.600</td>\n",
       "      <td>1600.358</td>\n",
       "      <td>-450.034</td>\n",
       "      <td>1599.759</td>\n",
       "      <td>-449.910</td>\n",
       "      <td>1401.561</td>\n",
       "      <td>-448.877</td>\n",
       "      <td>1401.160</td>\n",
       "      <td>-450.407</td>\n",
       "      <td>14.080</td>\n",
       "      <td>4.471</td>\n",
       "      <td>8.871</td>\n",
       "      <td>2.330</td>\n",
       "      <td>26.025</td>\n",
       "      <td>-500.279</td>\n",
       "      <td>23.955</td>\n",
       "      <td>-500.594</td>\n",
       "      <td>23.986</td>\n",
       "      <td>-500.084</td>\n",
       "      <td>23.959</td>\n",
       "      <td>-499.990</td>\n",
       "      <td>14.027</td>\n",
       "      <td>-499.839</td>\n",
       "      <td>11.953</td>\n",
       "      <td>-501.054</td>\n",
       "      <td>9.926</td>\n",
       "      <td>-501.687</td>\n",
       "      <td>7.894</td>\n",
       "      <td>-500.356</td>\n",
       "      <td>13.997</td>\n",
       "      <td>-601.497</td>\n",
       "    </tr>\n",
       "  </tbody>\n",
       "</table>\n",
       "</div>"
      ],
      "text/plain": [
       "                  date  final.output.concentrate_ag  \\\n",
       "0  2016-01-15 00:00:00                        6.055   \n",
       "1  2016-01-15 01:00:00                        6.029   \n",
       "2  2016-01-15 02:00:00                        6.056   \n",
       "3  2016-01-15 03:00:00                        6.048   \n",
       "4  2016-01-15 04:00:00                        6.149   \n",
       "\n",
       "   final.output.concentrate_pb  final.output.concentrate_sol  \\\n",
       "0                        9.890                         5.507   \n",
       "1                        9.969                         5.258   \n",
       "2                       10.214                         5.384   \n",
       "3                        9.977                         4.859   \n",
       "4                       10.143                         4.939   \n",
       "\n",
       "   final.output.concentrate_au  final.output.recovery  final.output.tail_ag  \\\n",
       "0                       42.192                 70.541                10.412   \n",
       "1                       42.702                 69.266                10.463   \n",
       "2                       42.658                 68.116                10.507   \n",
       "3                       42.690                 68.348                10.423   \n",
       "4                       42.774                 66.927                10.360   \n",
       "\n",
       "   final.output.tail_pb  final.output.tail_sol  final.output.tail_au  \\\n",
       "0                 0.895                 16.904                 2.143   \n",
       "1                 0.927                 16.635                 2.225   \n",
       "2                 0.954                 16.209                 2.258   \n",
       "3                 0.884                 16.533                 2.147   \n",
       "4                 0.793                 16.526                 2.055   \n",
       "\n",
       "   primary_cleaner.input.sulfate  primary_cleaner.input.depressant  \\\n",
       "0                        127.092                            10.128   \n",
       "1                        125.629                            10.296   \n",
       "2                        123.820                            11.316   \n",
       "3                        122.270                            11.322   \n",
       "4                        117.988                            11.914   \n",
       "\n",
       "   primary_cleaner.input.feed_size  primary_cleaner.input.xanthate  \\\n",
       "0                            7.250                           0.989   \n",
       "1                            7.250                           1.003   \n",
       "2                            7.250                           0.991   \n",
       "3                            7.250                           0.997   \n",
       "4                            7.250                           1.010   \n",
       "\n",
       "   primary_cleaner.output.concentrate_ag  \\\n",
       "0                                  8.548   \n",
       "1                                  8.559   \n",
       "2                                  8.604   \n",
       "3                                  7.222   \n",
       "4                                  9.089   \n",
       "\n",
       "   primary_cleaner.output.concentrate_pb  \\\n",
       "0                                 10.390   \n",
       "1                                 10.497   \n",
       "2                                 10.354   \n",
       "3                                  8.497   \n",
       "4                                  9.987   \n",
       "\n",
       "   primary_cleaner.output.concentrate_sol  \\\n",
       "0                                  19.529   \n",
       "1                                  19.369   \n",
       "2                                  19.168   \n",
       "3                                  15.979   \n",
       "4                                  19.200   \n",
       "\n",
       "   primary_cleaner.output.concentrate_au  primary_cleaner.output.tail_ag  \\\n",
       "0                                 34.174                          14.937   \n",
       "1                                 34.119                          16.251   \n",
       "2                                 33.969                          16.492   \n",
       "3                                 28.261                          16.024   \n",
       "4                                 33.045                          16.480   \n",
       "\n",
       "   primary_cleaner.output.tail_pb  primary_cleaner.output.tail_sol  \\\n",
       "0                           2.535                            7.476   \n",
       "1                           3.050                            6.734   \n",
       "2                           3.125                            6.472   \n",
       "3                           2.960                            6.844   \n",
       "4                           3.112                            6.550   \n",
       "\n",
       "   primary_cleaner.output.tail_au  primary_cleaner.state.floatbank8_a_air  \\\n",
       "0                           2.107                                1549.776   \n",
       "1                           2.353                                1576.167   \n",
       "2                           2.417                                1601.556   \n",
       "3                           2.262                                1599.969   \n",
       "4                           2.277                                1601.340   \n",
       "\n",
       "   primary_cleaner.state.floatbank8_a_level  \\\n",
       "0                                  -498.912   \n",
       "1                                  -500.905   \n",
       "2                                  -499.998   \n",
       "3                                  -500.952   \n",
       "4                                  -498.975   \n",
       "\n",
       "   primary_cleaner.state.floatbank8_b_air  \\\n",
       "0                                1551.434   \n",
       "1                                1575.951   \n",
       "2                                1600.387   \n",
       "3                                1600.659   \n",
       "4                                1601.438   \n",
       "\n",
       "   primary_cleaner.state.floatbank8_b_level  \\\n",
       "0                                  -516.403   \n",
       "1                                  -499.866   \n",
       "2                                  -500.608   \n",
       "3                                  -499.677   \n",
       "4                                  -500.323   \n",
       "\n",
       "   primary_cleaner.state.floatbank8_c_air  \\\n",
       "0                                1549.874   \n",
       "1                                1575.994   \n",
       "2                                1602.004   \n",
       "3                                1600.304   \n",
       "4                                1599.582   \n",
       "\n",
       "   primary_cleaner.state.floatbank8_c_level  \\\n",
       "0                                  -498.667   \n",
       "1                                  -499.315   \n",
       "2                                  -500.870   \n",
       "3                                  -500.728   \n",
       "4                                  -500.888   \n",
       "\n",
       "   primary_cleaner.state.floatbank8_d_air  \\\n",
       "0                                1554.367   \n",
       "1                                1574.479   \n",
       "2                                1599.542   \n",
       "3                                1600.450   \n",
       "4                                1602.650   \n",
       "\n",
       "   primary_cleaner.state.floatbank8_d_level  \\\n",
       "0                                  -493.428   \n",
       "1                                  -498.932   \n",
       "2                                  -499.827   \n",
       "3                                  -500.053   \n",
       "4                                  -500.593   \n",
       "\n",
       "   rougher.calculation.sulfate_to_au_concentrate  \\\n",
       "0                                      41885.707   \n",
       "1                                      42050.862   \n",
       "2                                      42018.101   \n",
       "3                                      42029.448   \n",
       "4                                      42125.354   \n",
       "\n",
       "   rougher.calculation.floatbank10_sulfate_to_au_feed  \\\n",
       "0                                           3481.779    \n",
       "1                                           3498.371    \n",
       "2                                           3495.349    \n",
       "3                                           3498.578    \n",
       "4                                           3494.801    \n",
       "\n",
       "   rougher.calculation.floatbank11_sulfate_to_au_feed  \\\n",
       "0                                           3520.337    \n",
       "1                                           3489.982    \n",
       "2                                           3502.360    \n",
       "3                                           3499.163    \n",
       "4                                           3506.679    \n",
       "\n",
       "   rougher.calculation.au_pb_ratio  rougher.input.feed_ag  \\\n",
       "0                            2.839                  6.100   \n",
       "1                            2.859                  6.161   \n",
       "2                            2.946                  6.116   \n",
       "3                            3.002                  6.043   \n",
       "4                            3.170                  6.061   \n",
       "\n",
       "   rougher.input.feed_pb  rougher.input.feed_rate  rougher.input.feed_size  \\\n",
       "0                  2.285                  523.546                   55.487   \n",
       "1                  2.266                  525.291                   57.279   \n",
       "2                  2.160                  530.027                   57.511   \n",
       "3                  2.038                  542.590                   57.793   \n",
       "4                  1.787                  540.532                   56.047   \n",
       "\n",
       "   rougher.input.feed_sol  rougher.input.feed_au  \\\n",
       "0                  36.809                  6.486   \n",
       "1                  35.753                  6.479   \n",
       "2                  35.972                  6.362   \n",
       "3                  36.862                  6.118   \n",
       "4                  34.348                  5.664   \n",
       "\n",
       "   rougher.input.floatbank10_sulfate  rougher.input.floatbank10_xanthate  \\\n",
       "0                             11.987                               6.008   \n",
       "1                             11.971                               6.006   \n",
       "2                             11.921                               6.197   \n",
       "3                             11.630                               6.203   \n",
       "4                             10.958                               6.199   \n",
       "\n",
       "   rougher.input.floatbank11_sulfate  rougher.input.floatbank11_xanthate  \\\n",
       "0                             11.837                               6.006   \n",
       "1                             11.996                               6.013   \n",
       "2                             11.920                               6.205   \n",
       "3                             11.692                               6.197   \n",
       "4                             10.961                               6.195   \n",
       "\n",
       "   rougher.output.concentrate_ag  rougher.output.concentrate_pb  \\\n",
       "0                         11.501                          7.101   \n",
       "1                         11.616                          7.279   \n",
       "2                         11.696                          7.217   \n",
       "3                         11.915                          7.176   \n",
       "4                         12.411                          7.240   \n",
       "\n",
       "   rougher.output.concentrate_sol  rougher.output.concentrate_au  \\\n",
       "0                          28.029                         19.794   \n",
       "1                          28.067                         20.051   \n",
       "2                          27.454                         19.737   \n",
       "3                          27.341                         19.321   \n",
       "4                          27.041                         19.216   \n",
       "\n",
       "   rougher.output.recovery  rougher.output.tail_ag  rougher.output.tail_pb  \\\n",
       "0                   87.108                   5.008                   0.509   \n",
       "1                   86.843                   4.955                   0.537   \n",
       "2                   86.842                   4.843                   0.546   \n",
       "3                   87.226                   4.655                   0.543   \n",
       "4                   86.689                   4.553                   0.515   \n",
       "\n",
       "   rougher.output.tail_sol  rougher.output.tail_au  \\\n",
       "0                   19.154                   1.170   \n",
       "1                   18.965                   1.185   \n",
       "2                   18.809                   1.163   \n",
       "3                   19.330                   1.080   \n",
       "4                   19.267                   1.013   \n",
       "\n",
       "   rougher.state.floatbank10_a_air  rougher.state.floatbank10_a_level  \\\n",
       "0                          999.707                           -404.067   \n",
       "1                         1000.286                           -400.065   \n",
       "2                          999.720                           -400.074   \n",
       "3                          999.815                           -400.200   \n",
       "4                          999.679                           -399.753   \n",
       "\n",
       "   rougher.state.floatbank10_b_air  rougher.state.floatbank10_b_level  \\\n",
       "0                         1603.011                           -434.715   \n",
       "1                         1600.755                           -449.953   \n",
       "2                         1599.337                           -450.009   \n",
       "3                         1600.059                           -450.620   \n",
       "4                         1600.209                           -449.600   \n",
       "\n",
       "   rougher.state.floatbank10_c_air  rougher.state.floatbank10_c_level  \\\n",
       "0                         1602.375                           -442.204   \n",
       "1                         1600.480                           -449.831   \n",
       "2                         1599.673                           -449.954   \n",
       "3                         1600.013                           -449.910   \n",
       "4                         1600.358                           -450.034   \n",
       "\n",
       "   rougher.state.floatbank10_d_air  rougher.state.floatbank10_d_level  \\\n",
       "0                         1598.937                           -451.294   \n",
       "1                         1600.528                           -449.954   \n",
       "2                         1599.849                           -449.954   \n",
       "3                         1597.725                           -450.130   \n",
       "4                         1599.759                           -449.910   \n",
       "\n",
       "   rougher.state.floatbank10_e_air  rougher.state.floatbank10_e_level  \\\n",
       "0                         1404.472                           -455.463   \n",
       "1                         1399.227                           -450.870   \n",
       "2                         1399.181                           -449.938   \n",
       "3                         1400.943                           -450.030   \n",
       "4                         1401.561                           -448.877   \n",
       "\n",
       "   rougher.state.floatbank10_f_air  rougher.state.floatbank10_f_level  \\\n",
       "0                         1416.355                           -451.940   \n",
       "1                         1399.720                           -450.119   \n",
       "2                         1400.317                           -450.527   \n",
       "3                         1400.235                           -449.791   \n",
       "4                         1401.160                           -450.407   \n",
       "\n",
       "   secondary_cleaner.output.tail_ag  secondary_cleaner.output.tail_pb  \\\n",
       "0                            14.500                             4.695   \n",
       "1                            14.265                             4.593   \n",
       "2                            14.116                             4.625   \n",
       "3                            13.732                             4.482   \n",
       "4                            14.080                             4.471   \n",
       "\n",
       "   secondary_cleaner.output.tail_sol  secondary_cleaner.output.tail_au  \\\n",
       "0                              8.765                             2.606   \n",
       "1                              9.001                             2.488   \n",
       "2                              8.843                             2.458   \n",
       "3                              9.123                             2.322   \n",
       "4                              8.871                             2.330   \n",
       "\n",
       "   secondary_cleaner.state.floatbank2_a_air  \\\n",
       "0                                    25.853   \n",
       "1                                    25.881   \n",
       "2                                    26.005   \n",
       "3                                    25.943   \n",
       "4                                    26.025   \n",
       "\n",
       "   secondary_cleaner.state.floatbank2_a_level  \\\n",
       "0                                    -498.526   \n",
       "1                                    -499.990   \n",
       "2                                    -499.930   \n",
       "3                                    -499.177   \n",
       "4                                    -500.279   \n",
       "\n",
       "   secondary_cleaner.state.floatbank2_b_air  \\\n",
       "0                                    23.894   \n",
       "1                                    23.890   \n",
       "2                                    23.887   \n",
       "3                                    23.956   \n",
       "4                                    23.955   \n",
       "\n",
       "   secondary_cleaner.state.floatbank2_b_level  \\\n",
       "0                                    -501.406   \n",
       "1                                    -500.372   \n",
       "2                                    -499.952   \n",
       "3                                    -499.849   \n",
       "4                                    -500.594   \n",
       "\n",
       "   secondary_cleaner.state.floatbank3_a_air  \\\n",
       "0                                    23.962   \n",
       "1                                    23.971   \n",
       "2                                    23.914   \n",
       "3                                    23.967   \n",
       "4                                    23.986   \n",
       "\n",
       "   secondary_cleaner.state.floatbank3_a_level  \\\n",
       "0                                    -495.263   \n",
       "1                                    -500.085   \n",
       "2                                    -499.442   \n",
       "3                                    -500.009   \n",
       "4                                    -500.084   \n",
       "\n",
       "   secondary_cleaner.state.floatbank3_b_air  \\\n",
       "0                                    21.940   \n",
       "1                                    22.086   \n",
       "2                                    23.958   \n",
       "3                                    23.954   \n",
       "4                                    23.959   \n",
       "\n",
       "   secondary_cleaner.state.floatbank3_b_level  \\\n",
       "0                                    -499.341   \n",
       "1                                    -499.447   \n",
       "2                                    -499.902   \n",
       "3                                    -499.945   \n",
       "4                                    -499.990   \n",
       "\n",
       "   secondary_cleaner.state.floatbank4_a_air  \\\n",
       "0                                    14.017   \n",
       "1                                    13.992   \n",
       "2                                    14.015   \n",
       "3                                    14.037   \n",
       "4                                    14.027   \n",
       "\n",
       "   secondary_cleaner.state.floatbank4_a_level  \\\n",
       "0                                    -502.488   \n",
       "1                                    -505.503   \n",
       "2                                    -502.521   \n",
       "3                                    -500.857   \n",
       "4                                    -499.839   \n",
       "\n",
       "   secondary_cleaner.state.floatbank4_b_air  \\\n",
       "0                                    12.100   \n",
       "1                                    11.951   \n",
       "2                                    11.913   \n",
       "3                                    12.000   \n",
       "4                                    11.953   \n",
       "\n",
       "   secondary_cleaner.state.floatbank4_b_level  \\\n",
       "0                                    -504.716   \n",
       "1                                    -501.332   \n",
       "2                                    -501.133   \n",
       "3                                    -501.194   \n",
       "4                                    -501.054   \n",
       "\n",
       "   secondary_cleaner.state.floatbank5_a_air  \\\n",
       "0                                     9.926   \n",
       "1                                    10.039   \n",
       "2                                    10.071   \n",
       "3                                     9.970   \n",
       "4                                     9.926   \n",
       "\n",
       "   secondary_cleaner.state.floatbank5_a_level  \\\n",
       "0                                    -498.310   \n",
       "1                                    -500.170   \n",
       "2                                    -500.129   \n",
       "3                                    -499.202   \n",
       "4                                    -501.687   \n",
       "\n",
       "   secondary_cleaner.state.floatbank5_b_air  \\\n",
       "0                                     8.080   \n",
       "1                                     7.985   \n",
       "2                                     8.014   \n",
       "3                                     7.977   \n",
       "4                                     7.894   \n",
       "\n",
       "   secondary_cleaner.state.floatbank5_b_level  \\\n",
       "0                                    -500.471   \n",
       "1                                    -500.582   \n",
       "2                                    -500.518   \n",
       "3                                    -500.256   \n",
       "4                                    -500.356   \n",
       "\n",
       "   secondary_cleaner.state.floatbank6_a_air  \\\n",
       "0                                    14.151   \n",
       "1                                    13.998   \n",
       "2                                    14.029   \n",
       "3                                    14.006   \n",
       "4                                    13.997   \n",
       "\n",
       "   secondary_cleaner.state.floatbank6_a_level  \n",
       "0                                    -605.842  \n",
       "1                                    -599.787  \n",
       "2                                    -601.427  \n",
       "3                                    -599.996  \n",
       "4                                    -601.497  "
      ]
     },
     "execution_count": 9,
     "metadata": {},
     "output_type": "execute_result"
    }
   ],
   "source": [
    "data_full.head()"
   ]
  },
  {
   "cell_type": "code",
   "execution_count": 10,
   "metadata": {
    "scrolled": true
   },
   "outputs": [
    {
     "name": "stdout",
     "output_type": "stream",
     "text": [
      "<class 'pandas.core.frame.DataFrame'>\n",
      "RangeIndex: 19439 entries, 0 to 19438\n",
      "Data columns (total 87 columns):\n",
      " #   Column                                              Non-Null Count  Dtype  \n",
      "---  ------                                              --------------  -----  \n",
      " 0   date                                                19439 non-null  object \n",
      " 1   final.output.concentrate_ag                         19438 non-null  float64\n",
      " 2   final.output.concentrate_pb                         19438 non-null  float64\n",
      " 3   final.output.concentrate_sol                        19228 non-null  float64\n",
      " 4   final.output.concentrate_au                         19439 non-null  float64\n",
      " 5   final.output.recovery                               19439 non-null  float64\n",
      " 6   final.output.tail_ag                                19438 non-null  float64\n",
      " 7   final.output.tail_pb                                19338 non-null  float64\n",
      " 8   final.output.tail_sol                               19433 non-null  float64\n",
      " 9   final.output.tail_au                                19439 non-null  float64\n",
      " 10  primary_cleaner.input.sulfate                       19415 non-null  float64\n",
      " 11  primary_cleaner.input.depressant                    19402 non-null  float64\n",
      " 12  primary_cleaner.input.feed_size                     19439 non-null  float64\n",
      " 13  primary_cleaner.input.xanthate                      19335 non-null  float64\n",
      " 14  primary_cleaner.output.concentrate_ag               19439 non-null  float64\n",
      " 15  primary_cleaner.output.concentrate_pb               19323 non-null  float64\n",
      " 16  primary_cleaner.output.concentrate_sol              19069 non-null  float64\n",
      " 17  primary_cleaner.output.concentrate_au               19439 non-null  float64\n",
      " 18  primary_cleaner.output.tail_ag                      19435 non-null  float64\n",
      " 19  primary_cleaner.output.tail_pb                      19418 non-null  float64\n",
      " 20  primary_cleaner.output.tail_sol                     19377 non-null  float64\n",
      " 21  primary_cleaner.output.tail_au                      19439 non-null  float64\n",
      " 22  primary_cleaner.state.floatbank8_a_air              19435 non-null  float64\n",
      " 23  primary_cleaner.state.floatbank8_a_level            19438 non-null  float64\n",
      " 24  primary_cleaner.state.floatbank8_b_air              19435 non-null  float64\n",
      " 25  primary_cleaner.state.floatbank8_b_level            19438 non-null  float64\n",
      " 26  primary_cleaner.state.floatbank8_c_air              19437 non-null  float64\n",
      " 27  primary_cleaner.state.floatbank8_c_level            19438 non-null  float64\n",
      " 28  primary_cleaner.state.floatbank8_d_air              19436 non-null  float64\n",
      " 29  primary_cleaner.state.floatbank8_d_level            19438 non-null  float64\n",
      " 30  rougher.calculation.sulfate_to_au_concentrate       19437 non-null  float64\n",
      " 31  rougher.calculation.floatbank10_sulfate_to_au_feed  19437 non-null  float64\n",
      " 32  rougher.calculation.floatbank11_sulfate_to_au_feed  19437 non-null  float64\n",
      " 33  rougher.calculation.au_pb_ratio                     19439 non-null  float64\n",
      " 34  rougher.input.feed_ag                               19439 non-null  float64\n",
      " 35  rougher.input.feed_pb                               19339 non-null  float64\n",
      " 36  rougher.input.feed_rate                             19428 non-null  float64\n",
      " 37  rougher.input.feed_size                             19294 non-null  float64\n",
      " 38  rougher.input.feed_sol                              19340 non-null  float64\n",
      " 39  rougher.input.feed_au                               19439 non-null  float64\n",
      " 40  rougher.input.floatbank10_sulfate                   19405 non-null  float64\n",
      " 41  rougher.input.floatbank10_xanthate                  19431 non-null  float64\n",
      " 42  rougher.input.floatbank11_sulfate                   19395 non-null  float64\n",
      " 43  rougher.input.floatbank11_xanthate                  18986 non-null  float64\n",
      " 44  rougher.output.concentrate_ag                       19439 non-null  float64\n",
      " 45  rougher.output.concentrate_pb                       19439 non-null  float64\n",
      " 46  rougher.output.concentrate_sol                      19416 non-null  float64\n",
      " 47  rougher.output.concentrate_au                       19439 non-null  float64\n",
      " 48  rougher.output.recovery                             19439 non-null  float64\n",
      " 49  rougher.output.tail_ag                              19438 non-null  float64\n",
      " 50  rougher.output.tail_pb                              19439 non-null  float64\n",
      " 51  rougher.output.tail_sol                             19439 non-null  float64\n",
      " 52  rougher.output.tail_au                              19439 non-null  float64\n",
      " 53  rougher.state.floatbank10_a_air                     19438 non-null  float64\n",
      " 54  rougher.state.floatbank10_a_level                   19438 non-null  float64\n",
      " 55  rougher.state.floatbank10_b_air                     19438 non-null  float64\n",
      " 56  rougher.state.floatbank10_b_level                   19438 non-null  float64\n",
      " 57  rougher.state.floatbank10_c_air                     19438 non-null  float64\n",
      " 58  rougher.state.floatbank10_c_level                   19438 non-null  float64\n",
      " 59  rougher.state.floatbank10_d_air                     19439 non-null  float64\n",
      " 60  rougher.state.floatbank10_d_level                   19439 non-null  float64\n",
      " 61  rougher.state.floatbank10_e_air                     19003 non-null  float64\n",
      " 62  rougher.state.floatbank10_e_level                   19439 non-null  float64\n",
      " 63  rougher.state.floatbank10_f_air                     19439 non-null  float64\n",
      " 64  rougher.state.floatbank10_f_level                   19439 non-null  float64\n",
      " 65  secondary_cleaner.output.tail_ag                    19437 non-null  float64\n",
      " 66  secondary_cleaner.output.tail_pb                    19427 non-null  float64\n",
      " 67  secondary_cleaner.output.tail_sol                   17691 non-null  float64\n",
      " 68  secondary_cleaner.output.tail_au                    19439 non-null  float64\n",
      " 69  secondary_cleaner.state.floatbank2_a_air            19219 non-null  float64\n",
      " 70  secondary_cleaner.state.floatbank2_a_level          19438 non-null  float64\n",
      " 71  secondary_cleaner.state.floatbank2_b_air            19416 non-null  float64\n",
      " 72  secondary_cleaner.state.floatbank2_b_level          19438 non-null  float64\n",
      " 73  secondary_cleaner.state.floatbank3_a_air            19426 non-null  float64\n",
      " 74  secondary_cleaner.state.floatbank3_a_level          19438 non-null  float64\n",
      " 75  secondary_cleaner.state.floatbank3_b_air            19438 non-null  float64\n",
      " 76  secondary_cleaner.state.floatbank3_b_level          19438 non-null  float64\n",
      " 77  secondary_cleaner.state.floatbank4_a_air            19433 non-null  float64\n",
      " 78  secondary_cleaner.state.floatbank4_a_level          19438 non-null  float64\n",
      " 79  secondary_cleaner.state.floatbank4_b_air            19438 non-null  float64\n",
      " 80  secondary_cleaner.state.floatbank4_b_level          19438 non-null  float64\n",
      " 81  secondary_cleaner.state.floatbank5_a_air            19438 non-null  float64\n",
      " 82  secondary_cleaner.state.floatbank5_a_level          19438 non-null  float64\n",
      " 83  secondary_cleaner.state.floatbank5_b_air            19438 non-null  float64\n",
      " 84  secondary_cleaner.state.floatbank5_b_level          19438 non-null  float64\n",
      " 85  secondary_cleaner.state.floatbank6_a_air            19437 non-null  float64\n",
      " 86  secondary_cleaner.state.floatbank6_a_level          19438 non-null  float64\n",
      "dtypes: float64(86), object(1)\n",
      "memory usage: 12.9+ MB\n"
     ]
    }
   ],
   "source": [
    "data_full.info()"
   ]
  },
  {
   "cell_type": "code",
   "execution_count": 11,
   "metadata": {},
   "outputs": [
    {
     "data": {
      "text/html": [
       "<div>\n",
       "<style scoped>\n",
       "    .dataframe tbody tr th:only-of-type {\n",
       "        vertical-align: middle;\n",
       "    }\n",
       "\n",
       "    .dataframe tbody tr th {\n",
       "        vertical-align: top;\n",
       "    }\n",
       "\n",
       "    .dataframe thead th {\n",
       "        text-align: right;\n",
       "    }\n",
       "</style>\n",
       "<table border=\"1\" class=\"dataframe\">\n",
       "  <thead>\n",
       "    <tr style=\"text-align: right;\">\n",
       "      <th></th>\n",
       "      <th>count</th>\n",
       "      <th>mean</th>\n",
       "      <th>std</th>\n",
       "      <th>min</th>\n",
       "      <th>25%</th>\n",
       "      <th>50%</th>\n",
       "      <th>75%</th>\n",
       "      <th>max</th>\n",
       "    </tr>\n",
       "  </thead>\n",
       "  <tbody>\n",
       "    <tr>\n",
       "      <th>final.output.concentrate_ag</th>\n",
       "      <td>19438.000</td>\n",
       "      <td>5.168</td>\n",
       "      <td>1.372</td>\n",
       "      <td>0.000</td>\n",
       "      <td>4.251</td>\n",
       "      <td>5.066</td>\n",
       "      <td>5.896</td>\n",
       "      <td>16.002</td>\n",
       "    </tr>\n",
       "    <tr>\n",
       "      <th>final.output.concentrate_pb</th>\n",
       "      <td>19438.000</td>\n",
       "      <td>9.979</td>\n",
       "      <td>1.669</td>\n",
       "      <td>0.000</td>\n",
       "      <td>9.137</td>\n",
       "      <td>10.102</td>\n",
       "      <td>11.036</td>\n",
       "      <td>17.032</td>\n",
       "    </tr>\n",
       "    <tr>\n",
       "      <th>final.output.concentrate_sol</th>\n",
       "      <td>19228.000</td>\n",
       "      <td>9.501</td>\n",
       "      <td>2.788</td>\n",
       "      <td>0.000</td>\n",
       "      <td>7.723</td>\n",
       "      <td>9.219</td>\n",
       "      <td>10.948</td>\n",
       "      <td>19.616</td>\n",
       "    </tr>\n",
       "    <tr>\n",
       "      <th>final.output.concentrate_au</th>\n",
       "      <td>19439.000</td>\n",
       "      <td>44.077</td>\n",
       "      <td>5.130</td>\n",
       "      <td>0.000</td>\n",
       "      <td>43.402</td>\n",
       "      <td>45.011</td>\n",
       "      <td>46.275</td>\n",
       "      <td>52.757</td>\n",
       "    </tr>\n",
       "    <tr>\n",
       "      <th>final.output.recovery</th>\n",
       "      <td>19439.000</td>\n",
       "      <td>67.050</td>\n",
       "      <td>10.126</td>\n",
       "      <td>0.000</td>\n",
       "      <td>63.300</td>\n",
       "      <td>68.173</td>\n",
       "      <td>72.687</td>\n",
       "      <td>100.000</td>\n",
       "    </tr>\n",
       "    <tr>\n",
       "      <th>...</th>\n",
       "      <td>...</td>\n",
       "      <td>...</td>\n",
       "      <td>...</td>\n",
       "      <td>...</td>\n",
       "      <td>...</td>\n",
       "      <td>...</td>\n",
       "      <td>...</td>\n",
       "      <td>...</td>\n",
       "    </tr>\n",
       "    <tr>\n",
       "      <th>secondary_cleaner.state.floatbank5_a_level</th>\n",
       "      <td>19438.000</td>\n",
       "      <td>-488.684</td>\n",
       "      <td>34.533</td>\n",
       "      <td>-797.324</td>\n",
       "      <td>-500.458</td>\n",
       "      <td>-499.803</td>\n",
       "      <td>-498.384</td>\n",
       "      <td>-244.484</td>\n",
       "    </tr>\n",
       "    <tr>\n",
       "      <th>secondary_cleaner.state.floatbank5_b_air</th>\n",
       "      <td>19438.000</td>\n",
       "      <td>12.198</td>\n",
       "      <td>5.333</td>\n",
       "      <td>0.528</td>\n",
       "      <td>8.971</td>\n",
       "      <td>11.019</td>\n",
       "      <td>14.019</td>\n",
       "      <td>27.926</td>\n",
       "    </tr>\n",
       "    <tr>\n",
       "      <th>secondary_cleaner.state.floatbank5_b_level</th>\n",
       "      <td>19438.000</td>\n",
       "      <td>-487.150</td>\n",
       "      <td>38.347</td>\n",
       "      <td>-800.220</td>\n",
       "      <td>-500.129</td>\n",
       "      <td>-499.935</td>\n",
       "      <td>-499.437</td>\n",
       "      <td>-137.740</td>\n",
       "    </tr>\n",
       "    <tr>\n",
       "      <th>secondary_cleaner.state.floatbank6_a_air</th>\n",
       "      <td>19437.000</td>\n",
       "      <td>18.959</td>\n",
       "      <td>5.550</td>\n",
       "      <td>-0.079</td>\n",
       "      <td>14.983</td>\n",
       "      <td>19.961</td>\n",
       "      <td>24.003</td>\n",
       "      <td>32.189</td>\n",
       "    </tr>\n",
       "    <tr>\n",
       "      <th>secondary_cleaner.state.floatbank6_a_level</th>\n",
       "      <td>19438.000</td>\n",
       "      <td>-505.436</td>\n",
       "      <td>37.689</td>\n",
       "      <td>-809.741</td>\n",
       "      <td>-500.728</td>\n",
       "      <td>-500.048</td>\n",
       "      <td>-499.495</td>\n",
       "      <td>-104.427</td>\n",
       "    </tr>\n",
       "  </tbody>\n",
       "</table>\n",
       "<p>86 rows × 8 columns</p>\n",
       "</div>"
      ],
      "text/plain": [
       "                                               count     mean    std      min  \\\n",
       "final.output.concentrate_ag                19438.000    5.168  1.372    0.000   \n",
       "final.output.concentrate_pb                19438.000    9.979  1.669    0.000   \n",
       "final.output.concentrate_sol               19228.000    9.501  2.788    0.000   \n",
       "final.output.concentrate_au                19439.000   44.077  5.130    0.000   \n",
       "final.output.recovery                      19439.000   67.050 10.126    0.000   \n",
       "...                                              ...      ...    ...      ...   \n",
       "secondary_cleaner.state.floatbank5_a_level 19438.000 -488.684 34.533 -797.324   \n",
       "secondary_cleaner.state.floatbank5_b_air   19438.000   12.198  5.333    0.528   \n",
       "secondary_cleaner.state.floatbank5_b_level 19438.000 -487.150 38.347 -800.220   \n",
       "secondary_cleaner.state.floatbank6_a_air   19437.000   18.959  5.550   -0.079   \n",
       "secondary_cleaner.state.floatbank6_a_level 19438.000 -505.436 37.689 -809.741   \n",
       "\n",
       "                                                25%      50%      75%      max  \n",
       "final.output.concentrate_ag                   4.251    5.066    5.896   16.002  \n",
       "final.output.concentrate_pb                   9.137   10.102   11.036   17.032  \n",
       "final.output.concentrate_sol                  7.723    9.219   10.948   19.616  \n",
       "final.output.concentrate_au                  43.402   45.011   46.275   52.757  \n",
       "final.output.recovery                        63.300   68.173   72.687  100.000  \n",
       "...                                             ...      ...      ...      ...  \n",
       "secondary_cleaner.state.floatbank5_a_level -500.458 -499.803 -498.384 -244.484  \n",
       "secondary_cleaner.state.floatbank5_b_air      8.971   11.019   14.019   27.926  \n",
       "secondary_cleaner.state.floatbank5_b_level -500.129 -499.935 -499.437 -137.740  \n",
       "secondary_cleaner.state.floatbank6_a_air     14.983   19.961   24.003   32.189  \n",
       "secondary_cleaner.state.floatbank6_a_level -500.728 -500.048 -499.495 -104.427  \n",
       "\n",
       "[86 rows x 8 columns]"
      ]
     },
     "execution_count": 11,
     "metadata": {},
     "output_type": "execute_result"
    }
   ],
   "source": [
    "data_full.describe().T"
   ]
  },
  {
   "cell_type": "markdown",
   "metadata": {},
   "source": [
    "___\n",
    "**Вывод:**\n",
    "\n",
    "Данные содержат информацию о концентрациях металлов и параметры очистки на различных стадиях технологического процесса очистки руды. Таблица test содержит не все столбцы, которые есть в полном и тренеровачном датасетах.\n",
    "\n",
    "Данные сгруппированы по столбцу data, а все необходимые нам величины указаны в долях содержания соответствующих веществ."
   ]
  },
  {
   "cell_type": "markdown",
   "metadata": {},
   "source": [
    "___\n",
    "### Проверка правильности расчета эффективности обогащения:\n",
    "________________"
   ]
  },
  {
   "cell_type": "markdown",
   "metadata": {},
   "source": [
    "Вычислим эффективность обогащения на обучающей выборке для признака `rougher.output.recovery`. Найдем среднюю абсолютную ошибку `MAE` между нашими расчётами и значением признака. "
   ]
  },
  {
   "cell_type": "markdown",
   "metadata": {},
   "source": [
    "**Расчет MAE и создание нового столбца `recovery`:**\n",
    "_________"
   ]
  },
  {
   "cell_type": "code",
   "execution_count": 12,
   "metadata": {},
   "outputs": [],
   "source": [
    "c = data_train['rougher.output.concentrate_au']\n",
    "f = data_train['rougher.input.feed_au']\n",
    "t = data_train['rougher.output.tail_au']"
   ]
  },
  {
   "cell_type": "code",
   "execution_count": 13,
   "metadata": {
    "scrolled": true
   },
   "outputs": [
    {
     "data": {
      "text/plain": [
       "0   87.108\n",
       "1   86.843\n",
       "2   86.842\n",
       "3   87.226\n",
       "4   86.689\n",
       "Name: recovery, dtype: float64"
      ]
     },
     "execution_count": 13,
     "metadata": {},
     "output_type": "execute_result"
    }
   ],
   "source": [
    "data_train['recovery'] = (c*(f-t))/(f*(c-t))*100\n",
    "data_train['recovery'].head()"
   ]
  },
  {
   "cell_type": "code",
   "execution_count": 14,
   "metadata": {},
   "outputs": [
    {
     "data": {
      "text/html": [
       "<div>\n",
       "<style scoped>\n",
       "    .dataframe tbody tr th:only-of-type {\n",
       "        vertical-align: middle;\n",
       "    }\n",
       "\n",
       "    .dataframe tbody tr th {\n",
       "        vertical-align: top;\n",
       "    }\n",
       "\n",
       "    .dataframe thead th {\n",
       "        text-align: right;\n",
       "    }\n",
       "</style>\n",
       "<table border=\"1\" class=\"dataframe\">\n",
       "  <thead>\n",
       "    <tr style=\"text-align: right;\">\n",
       "      <th></th>\n",
       "      <th>rougher.output.recovery</th>\n",
       "      <th>recovery</th>\n",
       "    </tr>\n",
       "  </thead>\n",
       "  <tbody>\n",
       "    <tr>\n",
       "      <th>0</th>\n",
       "      <td>87.108</td>\n",
       "      <td>87.108</td>\n",
       "    </tr>\n",
       "    <tr>\n",
       "      <th>1</th>\n",
       "      <td>86.843</td>\n",
       "      <td>86.843</td>\n",
       "    </tr>\n",
       "    <tr>\n",
       "      <th>2</th>\n",
       "      <td>86.842</td>\n",
       "      <td>86.842</td>\n",
       "    </tr>\n",
       "    <tr>\n",
       "      <th>3</th>\n",
       "      <td>87.226</td>\n",
       "      <td>87.226</td>\n",
       "    </tr>\n",
       "    <tr>\n",
       "      <th>4</th>\n",
       "      <td>86.689</td>\n",
       "      <td>86.689</td>\n",
       "    </tr>\n",
       "    <tr>\n",
       "      <th>...</th>\n",
       "      <td>...</td>\n",
       "      <td>...</td>\n",
       "    </tr>\n",
       "    <tr>\n",
       "      <th>14144</th>\n",
       "      <td>89.574</td>\n",
       "      <td>89.574</td>\n",
       "    </tr>\n",
       "    <tr>\n",
       "      <th>14145</th>\n",
       "      <td>87.724</td>\n",
       "      <td>87.724</td>\n",
       "    </tr>\n",
       "    <tr>\n",
       "      <th>14146</th>\n",
       "      <td>88.891</td>\n",
       "      <td>88.891</td>\n",
       "    </tr>\n",
       "    <tr>\n",
       "      <th>14147</th>\n",
       "      <td>89.858</td>\n",
       "      <td>89.858</td>\n",
       "    </tr>\n",
       "    <tr>\n",
       "      <th>14148</th>\n",
       "      <td>89.515</td>\n",
       "      <td>89.515</td>\n",
       "    </tr>\n",
       "  </tbody>\n",
       "</table>\n",
       "<p>14149 rows × 2 columns</p>\n",
       "</div>"
      ],
      "text/plain": [
       "       rougher.output.recovery  recovery\n",
       "0                       87.108    87.108\n",
       "1                       86.843    86.843\n",
       "2                       86.842    86.842\n",
       "3                       87.226    87.226\n",
       "4                       86.689    86.689\n",
       "...                        ...       ...\n",
       "14144                   89.574    89.574\n",
       "14145                   87.724    87.724\n",
       "14146                   88.891    88.891\n",
       "14147                   89.858    89.858\n",
       "14148                   89.515    89.515\n",
       "\n",
       "[14149 rows x 2 columns]"
      ]
     },
     "execution_count": 14,
     "metadata": {},
     "output_type": "execute_result"
    }
   ],
   "source": [
    "#Посмотрим оба столбца \n",
    "data_train[['rougher.output.recovery', 'recovery']]"
   ]
  },
  {
   "cell_type": "code",
   "execution_count": 15,
   "metadata": {
    "scrolled": true
   },
   "outputs": [
    {
     "data": {
      "text/plain": [
       "9.73512347450521e-15"
      ]
     },
     "execution_count": 15,
     "metadata": {},
     "output_type": "execute_result"
    }
   ],
   "source": [
    "#Вычислим MAE между нашими расчетами и значением признака.\n",
    "mean_absolute_error(data_train['rougher.output.recovery'], data_train['recovery'])"
   ]
  },
  {
   "cell_type": "code",
   "execution_count": 16,
   "metadata": {},
   "outputs": [
    {
     "data": {
      "text/plain": [
       "87"
      ]
     },
     "execution_count": 16,
     "metadata": {},
     "output_type": "execute_result"
    }
   ],
   "source": [
    "data_train = data_train.drop('recovery', axis=1)\n",
    "len(data_train.columns)"
   ]
  },
  {
   "cell_type": "markdown",
   "metadata": {},
   "source": [
    "#### **Промежуточный вывод:**\n",
    "_______________"
   ]
  },
  {
   "cell_type": "markdown",
   "metadata": {},
   "source": [
    "* *MAE* составляет: `9.73512347450521e-15`\n",
    "*  Т.к абсолютная ошибка между нашими расчетами и *фичами* мала, то можно судить о том, что значения признаков досточно точны."
   ]
  },
  {
   "cell_type": "markdown",
   "metadata": {},
   "source": [
    "___\n",
    "### Анализ признаков:\n",
    "_______________"
   ]
  },
  {
   "cell_type": "markdown",
   "metadata": {},
   "source": [
    "**Посмотрим признаки недоступные в тестовой выборке при промощи метода симметричной разницы.**"
   ]
  },
  {
   "cell_type": "code",
   "execution_count": 17,
   "metadata": {
    "scrolled": true
   },
   "outputs": [
    {
     "data": {
      "text/plain": [
       "{'final.output.concentrate_ag',\n",
       " 'final.output.concentrate_au',\n",
       " 'final.output.concentrate_pb',\n",
       " 'final.output.concentrate_sol',\n",
       " 'final.output.recovery',\n",
       " 'final.output.tail_ag',\n",
       " 'final.output.tail_au',\n",
       " 'final.output.tail_pb',\n",
       " 'final.output.tail_sol',\n",
       " 'primary_cleaner.output.concentrate_ag',\n",
       " 'primary_cleaner.output.concentrate_au',\n",
       " 'primary_cleaner.output.concentrate_pb',\n",
       " 'primary_cleaner.output.concentrate_sol',\n",
       " 'primary_cleaner.output.tail_ag',\n",
       " 'primary_cleaner.output.tail_au',\n",
       " 'primary_cleaner.output.tail_pb',\n",
       " 'primary_cleaner.output.tail_sol',\n",
       " 'rougher.calculation.au_pb_ratio',\n",
       " 'rougher.calculation.floatbank10_sulfate_to_au_feed',\n",
       " 'rougher.calculation.floatbank11_sulfate_to_au_feed',\n",
       " 'rougher.calculation.sulfate_to_au_concentrate',\n",
       " 'rougher.output.concentrate_ag',\n",
       " 'rougher.output.concentrate_au',\n",
       " 'rougher.output.concentrate_pb',\n",
       " 'rougher.output.concentrate_sol',\n",
       " 'rougher.output.recovery',\n",
       " 'rougher.output.tail_ag',\n",
       " 'rougher.output.tail_au',\n",
       " 'rougher.output.tail_pb',\n",
       " 'rougher.output.tail_sol',\n",
       " 'secondary_cleaner.output.tail_ag',\n",
       " 'secondary_cleaner.output.tail_au',\n",
       " 'secondary_cleaner.output.tail_pb',\n",
       " 'secondary_cleaner.output.tail_sol'}"
      ]
     },
     "execution_count": 17,
     "metadata": {},
     "output_type": "execute_result"
    }
   ],
   "source": [
    "drop_features = set(data_full.columns).symmetric_difference(set(data_test.columns))\n",
    "drop_features"
   ]
  },
  {
   "cell_type": "markdown",
   "metadata": {},
   "source": [
    "#### **Промежуточный вывод:**\n",
    "_______________"
   ]
  },
  {
   "cell_type": "markdown",
   "metadata": {},
   "source": [
    "В тестовой выборке недоступны данные на этапах:\n",
    "1) Флотация:\n",
    "* Расчетные характеристики;\n",
    "* Концентрация серебра, свинца, золы, золота в сырье после флотации.\n",
    "* Концентрация серебра, свинца, золы, золота в отвальных хвостах после флотации.\n",
    "\n",
    "2) Первый этап чистки:\n",
    "* Концентрация серебра, свинца, золы, золота в сырье после первого этапа чистки.\n",
    "* Концентрация серебра, свинца, золы, золота в отвальных хвостах после первого этапа чистки.\n",
    "\n",
    "3) Второй этап чистки:\n",
    "* Концентрация серебра, свинца, золы, золота в отвальных хвостах после второго этапа чистки.\n",
    "\n",
    "4) Финальный концентрат:\n",
    "* Концентрация серебра, свинца, золы, золота в отвальных хвостах на финальной стадии.\n",
    "* Концентрация серебра, свинца, золы, золота в финальном концентрате.\n",
    "* Эффективность обогащения сырья.\n",
    "\n",
    "Данные признаки являются выходными значениями на разных этапах очистки. Выходные значения не нужны для обучения и тестирования модели машинного обучения."
   ]
  },
  {
   "cell_type": "markdown",
   "metadata": {},
   "source": [
    "### Предобработка данных:\n",
    "_______________"
   ]
  },
  {
   "cell_type": "markdown",
   "metadata": {},
   "source": [
    "#### Удаление пропусков:\n",
    "_______________"
   ]
  },
  {
   "cell_type": "code",
   "execution_count": 18,
   "metadata": {},
   "outputs": [
    {
     "name": "stdout",
     "output_type": "stream",
     "text": [
      "Количество столбцов с пропусками в:\n",
      "1) data_train: 62\n",
      "2) data_test: 12\n",
      "3) data_full: 63\n"
     ]
    }
   ],
   "source": [
    "miss_data_train = data_train.isna().sum()\n",
    "miss_data_test = data_test.isna().sum()\n",
    "miss_data_full = data_full.isna().sum()\n",
    "\n",
    "print('Количество столбцов с пропусками в:')\n",
    "print('1) data_train:', len(miss_data_train[miss_data_train>0]))\n",
    "print('2) data_test:', len(miss_data_test[miss_data_test>0]))\n",
    "print('3) data_full:', len(miss_data_full[miss_data_full>0]))"
   ]
  },
  {
   "cell_type": "markdown",
   "metadata": {},
   "source": [
    "**Заполним пропуски методом `ffill`, т.к он подставляет значения из предыдущей колонки, по умолчанию axis=0**"
   ]
  },
  {
   "cell_type": "code",
   "execution_count": 19,
   "metadata": {},
   "outputs": [],
   "source": [
    "data_train = data_train.ffill()\n",
    "data_test = data_test.ffill()\n",
    "data_full = data_full.ffill() "
   ]
  },
  {
   "cell_type": "markdown",
   "metadata": {},
   "source": [
    "**Проверим заполнились ли пропуски:**"
   ]
  },
  {
   "cell_type": "code",
   "execution_count": 20,
   "metadata": {
    "scrolled": true
   },
   "outputs": [
    {
     "name": "stdout",
     "output_type": "stream",
     "text": [
      "Оставшееся кол-во столбцов с пропусками после замены в:\n",
      "1) data_train: 0\n",
      "2) data_test: 0\n",
      "3) data_full: 0\n"
     ]
    }
   ],
   "source": [
    "miss_data_train = data_train.isna().sum()\n",
    "miss_data_test = data_test.isna().sum()\n",
    "miss_data_full = data_full.isna().sum()\n",
    "\n",
    "print('Оставшееся кол-во столбцов с пропусками после замены в:')\n",
    "print('1) data_train:', len(miss_data_train[miss_data_train>0]))\n",
    "print('2) data_test:', len(miss_data_test[miss_data_test>0]))\n",
    "print('3) data_full:', len(miss_data_full[miss_data_full>0]))"
   ]
  },
  {
   "cell_type": "markdown",
   "metadata": {},
   "source": [
    "#### Проверка на наличие дубликатов:\n",
    "_______________"
   ]
  },
  {
   "cell_type": "code",
   "execution_count": 21,
   "metadata": {},
   "outputs": [
    {
     "name": "stdout",
     "output_type": "stream",
     "text": [
      "0\n",
      "0\n",
      "0\n"
     ]
    }
   ],
   "source": [
    "print(data_train.duplicated().sum())\n",
    "print(data_test.duplicated().sum())\n",
    "print(data_full.duplicated().sum())"
   ]
  },
  {
   "cell_type": "markdown",
   "metadata": {},
   "source": [
    "#### Создание выборок:\n",
    "______"
   ]
  },
  {
   "cell_type": "markdown",
   "metadata": {},
   "source": [
    "1. **В тренировочном датасете удалим столбцы, отсутствующие в тестовой выборке, но присутствующие в полной:**\n",
    "\n",
    "*Фичи* для удаления находятся в переменной `drop_features`."
   ]
  },
  {
   "cell_type": "code",
   "execution_count": 22,
   "metadata": {},
   "outputs": [
    {
     "data": {
      "text/plain": [
       "87"
      ]
     },
     "execution_count": 22,
     "metadata": {},
     "output_type": "execute_result"
    }
   ],
   "source": [
    "len(data_train.columns)"
   ]
  },
  {
   "cell_type": "code",
   "execution_count": 23,
   "metadata": {},
   "outputs": [
    {
     "data": {
      "text/plain": [
       "53"
      ]
     },
     "execution_count": 23,
     "metadata": {},
     "output_type": "execute_result"
    }
   ],
   "source": [
    "data_train_drop = data_train.drop(columns=drop_features, axis=1)\n",
    "len(data_train_drop.columns)"
   ]
  },
  {
   "cell_type": "markdown",
   "metadata": {},
   "source": [
    "2. **Создаем две переменные для  тестовой и обучающей выборок, включающие таргеты:**\n",
    "______"
   ]
  },
  {
   "cell_type": "code",
   "execution_count": 24,
   "metadata": {},
   "outputs": [],
   "source": [
    "#Создаем отдельную переменную, в которую поместим целевые признаки и колонку `date`.\n",
    "data_merge = data_full[['date', 'rougher.output.recovery', 'final.output.recovery']]\n",
    "\n",
    "#Добавляем в `data_train` недостающие таргеты из `data_full`, индексируясь по колонке `date`. \n",
    "train_merge = data_train_drop.merge(data_merge, on='date', how='left')\n",
    "\n",
    "#Добавляем отсутствующие таргеты в `data_test` из `data_full`, индексация также по `date`.\n",
    "test_merge = data_test.merge(data_merge, on='date', how='left')"
   ]
  },
  {
   "cell_type": "markdown",
   "metadata": {},
   "source": [
    "#### Удаление ненужных данных:\n",
    "________"
   ]
  },
  {
   "cell_type": "code",
   "execution_count": 25,
   "metadata": {},
   "outputs": [
    {
     "name": "stdout",
     "output_type": "stream",
     "text": [
      "86\n",
      "54\n",
      "54\n"
     ]
    }
   ],
   "source": [
    "data_full = data_full.drop('date', axis=1)\n",
    "train_merge = train_merge.drop('date', axis=1)\n",
    "test_merge = test_merge.drop('date', axis=1)\n",
    "\n",
    "print(len(data_full.columns))\n",
    "print(len(train_merge.columns))\n",
    "print(len(test_merge.columns))"
   ]
  },
  {
   "cell_type": "markdown",
   "metadata": {},
   "source": [
    "#### **Промежуточный вывод:**\n",
    "_______________"
   ]
  },
  {
   "cell_type": "markdown",
   "metadata": {},
   "source": [
    "* Пропуски заменены предыдуще-стоящими значениями.\n",
    "* Дубликатов не выявлено.\n",
    "* В тренировочном датасете удалили столбцы, отсутствующие в тестовой выборке, но присутствующие в полной:\n",
    "* Создали две переменные для  тестовой и обучающей выборок, включающие таргеты на этапах *rougher* и *final*.\n",
    "* Создали по 2 отдельных переменных на обучающей выборке для целевых признаков на этапах *rougher* и *final*\n",
    "* Создали по 2 отдельных переменных на тестовой выборке для целевых признаков на этапах *rougher* и *final*\n",
    "* Удалили неучаствующий в работе модели столбец `date`.\n",
    "* Стандартизировали данные для признаков обучающей выборки.\n",
    "_____"
   ]
  },
  {
   "cell_type": "markdown",
   "metadata": {},
   "source": [
    "### **Вывод блока:**\n",
    "_______________"
   ]
  },
  {
   "cell_type": "markdown",
   "metadata": {},
   "source": [
    "* *MAE* составляет: `9.73512347450521e-15`\n",
    "*  Т.к абсолютная ошибка между нашими расчетами и *фичами* мала, то можно судить о том, что значения признаков досточно точны.\n",
    "______\n",
    "\n",
    "* В тестовой выборке недоступны признаки, являющиеся выходными значениями на разных этапах очистки.\n",
    "\n",
    "________\n",
    "\n",
    "* Проведена предобработка данных.\n",
    "_____\n"
   ]
  },
  {
   "cell_type": "markdown",
   "metadata": {},
   "source": [
    "## *Исследовательский анализ данных.*\n",
    "_________"
   ]
  },
  {
   "cell_type": "markdown",
   "metadata": {},
   "source": [
    "### Изменение концентрации металлов (Au, Ag, Pb) на различных этапах очистки."
   ]
  },
  {
   "cell_type": "code",
   "execution_count": 26,
   "metadata": {},
   "outputs": [],
   "source": [
    "aurum = data_train[[\"rougher.input.feed_au\", \"rougher.output.concentrate_au\",\n",
    "               \"primary_cleaner.output.concentrate_au\", \"final.output.concentrate_au\"]]\n",
    "\n",
    "argentum = data_train[[\"rougher.input.feed_ag\", \"rougher.output.concentrate_ag\",\n",
    "               \"primary_cleaner.output.concentrate_ag\", \"final.output.concentrate_ag\"]]\n",
    "\n",
    "plumbum = data_train[[\"rougher.input.feed_pb\", \"rougher.output.concentrate_pb\",\n",
    "               \"primary_cleaner.output.concentrate_pb\", \"final.output.concentrate_pb\"]]"
   ]
  },
  {
   "cell_type": "code",
   "execution_count": 27,
   "metadata": {
    "scrolled": true
   },
   "outputs": [
    {
     "data": {
      "image/png": "[encoded data removed]",
      "text/plain": [
       "<Figure size 720x1440 with 3 Axes>"
      ]
     },
     "metadata": {
      "needs_background": "light"
     },
     "output_type": "display_data"
    }
   ],
   "source": [
    "fig, axes = plt.subplots(3, 1, figsize=(10, 20))\n",
    "\n",
    "def concentrate(axe, metal):\n",
    "    for column in list(metal):\n",
    "        sns.distplot(metal[column], ax=axes[axe], kde=False)\n",
    "    axes[axe].set(title=f'For {axe}', xlabel=\"Концентрация %\", ylabel=\"Количество\")\n",
    "\n",
    "for axe,metal in enumerate([aurum, argentum, plumbum]):\n",
    "    concentrate(axe, metal)\n",
    "    \n",
    "fig.suptitle(\"Концентрация металлов на стадиях очистки\")\n",
    "fig.legend([\"rougher.input.feed\", \"rougher.output.concentrate\",\n",
    "            \"primary.cleaner.output concentrate\", \"final.output.concentrate\",])\n",
    "fig.show()"
   ]
  },
  {
   "cell_type": "markdown",
   "metadata": {},
   "source": [
    "До этого выводил графики вручную, потом оптимизировал код и написал функцию, но не получилось подписать графики, выдавало ошибку, поэтому пришлось просто пронумеровать - обозначения ниже:\n",
    " - `0` - *Aurum*\n",
    " - `1` - *Argentum*\n",
    " - `2` - *Plumbum*"
   ]
  },
  {
   "cell_type": "markdown",
   "metadata": {},
   "source": [
    "#### **Промежуточный вывод:**\n",
    "_______________"
   ]
  },
  {
   "cell_type": "markdown",
   "metadata": {},
   "source": [
    "* Концентрация золота равномерно увеличивается на протяжении всей стадии обработки.\n",
    "* Концентрация серебра, повышается после флотации, после чего начинает снижаться, в финальном концентрате его становится меньше чем было в изначальном сырье. \n",
    "* Концентрация свинца незначительно увеличивается, а потом остается на уровне первичной очистки.\n",
    "__________"
   ]
  },
  {
   "cell_type": "markdown",
   "metadata": {},
   "source": [
    "### Сравнение распределения размеров гранул сырья на обучающей и тестовой выборках.\n",
    "__________\n"
   ]
  },
  {
   "cell_type": "code",
   "execution_count": 28,
   "metadata": {},
   "outputs": [
    {
     "name": "stdout",
     "output_type": "stream",
     "text": [
      "Средний размер гранул сырья на этапах:\n",
      "\n",
      "Первичная очистка\n",
      "7.322309906901314\n",
      "7.266339191270906\n",
      "\n",
      "Флотация\n",
      "60.23985599255732\n",
      "55.952754028895136\n"
     ]
    }
   ],
   "source": [
    "print('Средний размер гранул сырья на этапах:')\n",
    "print()\n",
    "print(\"Первичная очистка\")\n",
    "print(train_merge[\"primary_cleaner.input.feed_size\"].mean())\n",
    "print(test_merge[\"primary_cleaner.input.feed_size\"].mean())\n",
    "print()\n",
    "print('Флотация')\n",
    "print(train_merge[\"rougher.input.feed_size\"].mean())\n",
    "print(test_merge[\"rougher.input.feed_size\"].mean())\n"
   ]
  },
  {
   "cell_type": "code",
   "execution_count": 29,
   "metadata": {},
   "outputs": [
    {
     "data": {
      "image/png": "[encoded data removed]",
      "text/plain": [
       "<Figure size 1080x720 with 2 Axes>"
      ]
     },
     "metadata": {
      "needs_background": "light"
     },
     "output_type": "display_data"
    }
   ],
   "source": [
    "fig, axes = plt.subplots(2,1, figsize=(15, 10))\n",
    "\n",
    "axes[0].hist(train_merge[\"primary_cleaner.input.feed_size\"], density=True, alpha=0.5, bins=50)\n",
    "axes[0].hist(test_merge[\"primary_cleaner.input.feed_size\"], density=True, alpha=0.5, bins=50)\n",
    "axes[0].set(title=\"Первичная очистка\", xlabel=\"Amount\", ylabel=\"Size\")\n",
    "\n",
    "axes[1].hist(train_merge[\"rougher.input.feed_size\"], density=True, alpha=0.5, bins=50)\n",
    "axes[1].hist(test_merge[\"rougher.input.feed_size\"], density=True, alpha=0.5, bins=50)\n",
    "axes[1].set(title=\"Флотация\", xlabel=\"Amount\", ylabel=\"Size\")\n",
    "\n",
    "fig.suptitle(\"Распределения размеров гранул сырья\")\n",
    "fig.legend([\"Обучающая выборка\", \"Тестовая выборка\"])\n",
    "fig.show()"
   ]
  },
  {
   "cell_type": "markdown",
   "metadata": {},
   "source": [
    "#### **Промежуточный вывод:**\n",
    "_______________"
   ]
  },
  {
   "cell_type": "markdown",
   "metadata": {},
   "source": [
    "* Распределение размеров гранул исходного сырья на обучающей и тестовой выборках показывает, что размеры частиц существенно не различаются. Следовательно оценка модели будет правильной."
   ]
  },
  {
   "cell_type": "markdown",
   "metadata": {},
   "source": [
    "### Исследование суммарной концентрации всех веществ на разных стадиях: в сырье, в черновом и финальном концентратах.\n",
    "__________"
   ]
  },
  {
   "cell_type": "code",
   "execution_count": 30,
   "metadata": {},
   "outputs": [],
   "source": [
    "stages = [\n",
    "    'rougher.input.feed_ag', \n",
    "    'rougher.input.feed_pb', \n",
    "    'rougher.input.feed_sol', \n",
    "    'rougher.input.feed_au', \n",
    "    'rougher.output.concentrate_ag', \n",
    "    'rougher.output.concentrate_pb', \n",
    "    'rougher.output.concentrate_sol', \n",
    "    'rougher.output.concentrate_au', \n",
    "    'final.output.concentrate_ag', \n",
    "    'final.output.concentrate_pb', \n",
    "    'final.output.concentrate_sol', \n",
    "    'final.output.concentrate_au'\n",
    "]"
   ]
  },
  {
   "cell_type": "code",
   "execution_count": 31,
   "metadata": {},
   "outputs": [],
   "source": [
    "sum_conc = data_train[stages].copy()"
   ]
  },
  {
   "cell_type": "code",
   "execution_count": 32,
   "metadata": {},
   "outputs": [],
   "source": [
    "sum_conc['final_output_sum'] = sum_conc[\"final.output.concentrate_au\"] + sum_conc[\"final.output.concentrate_ag\"] + sum_conc[\"final.output.concentrate_pb\"] + sum_conc[\"final.output.concentrate_sol\"]"
   ]
  },
  {
   "cell_type": "code",
   "execution_count": 33,
   "metadata": {},
   "outputs": [],
   "source": [
    "sum_conc['rougher_input_sum'] = sum_conc[\"rougher.input.feed_au\"] + sum_conc[\"rougher.input.feed_ag\"] + sum_conc[\"rougher.input.feed_pb\"] + sum_conc[\"rougher.input.feed_sol\"]"
   ]
  },
  {
   "cell_type": "code",
   "execution_count": 34,
   "metadata": {},
   "outputs": [],
   "source": [
    "sum_conc['rougher_output_sum'] = sum_conc[\"rougher.output.concentrate_au\"] + sum_conc[\"rougher.output.concentrate_ag\"] + sum_conc[\"rougher.output.concentrate_pb\"] + sum_conc[\"rougher.output.concentrate_sol\"]"
   ]
  },
  {
   "cell_type": "code",
   "execution_count": 35,
   "metadata": {},
   "outputs": [
    {
     "data": {
      "text/html": [
       "<div>\n",
       "<style scoped>\n",
       "    .dataframe tbody tr th:only-of-type {\n",
       "        vertical-align: middle;\n",
       "    }\n",
       "\n",
       "    .dataframe tbody tr th {\n",
       "        vertical-align: top;\n",
       "    }\n",
       "\n",
       "    .dataframe thead th {\n",
       "        text-align: right;\n",
       "    }\n",
       "</style>\n",
       "<table border=\"1\" class=\"dataframe\">\n",
       "  <thead>\n",
       "    <tr style=\"text-align: right;\">\n",
       "      <th></th>\n",
       "      <th>rougher_input_sum</th>\n",
       "      <th>rougher_output_sum</th>\n",
       "      <th>final_output_sum</th>\n",
       "    </tr>\n",
       "  </thead>\n",
       "  <tbody>\n",
       "    <tr>\n",
       "      <th>0</th>\n",
       "      <td>51.680</td>\n",
       "      <td>66.425</td>\n",
       "      <td>63.644</td>\n",
       "    </tr>\n",
       "    <tr>\n",
       "      <th>1</th>\n",
       "      <td>50.659</td>\n",
       "      <td>67.013</td>\n",
       "      <td>63.958</td>\n",
       "    </tr>\n",
       "    <tr>\n",
       "      <th>2</th>\n",
       "      <td>50.610</td>\n",
       "      <td>66.104</td>\n",
       "      <td>64.311</td>\n",
       "    </tr>\n",
       "    <tr>\n",
       "      <th>3</th>\n",
       "      <td>51.062</td>\n",
       "      <td>65.753</td>\n",
       "      <td>63.573</td>\n",
       "    </tr>\n",
       "    <tr>\n",
       "      <th>4</th>\n",
       "      <td>47.859</td>\n",
       "      <td>65.908</td>\n",
       "      <td>64.005</td>\n",
       "    </tr>\n",
       "  </tbody>\n",
       "</table>\n",
       "</div>"
      ],
      "text/plain": [
       "   rougher_input_sum  rougher_output_sum  final_output_sum\n",
       "0             51.680              66.425            63.644\n",
       "1             50.659              67.013            63.958\n",
       "2             50.610              66.104            64.311\n",
       "3             51.062              65.753            63.573\n",
       "4             47.859              65.908            64.005"
      ]
     },
     "execution_count": 35,
     "metadata": {},
     "output_type": "execute_result"
    }
   ],
   "source": [
    "sum_conc1 = sum_conc[['rougher_input_sum', 'rougher_output_sum', 'final_output_sum']]\n",
    "sum_conc1.head()"
   ]
  },
  {
   "cell_type": "code",
   "execution_count": 36,
   "metadata": {},
   "outputs": [
    {
     "data": {
      "image/png": "[encoded data removed]",
      "text/plain": [
       "<Figure size 720x432 with 1 Axes>"
      ]
     },
     "metadata": {
      "needs_background": "light"
     },
     "output_type": "display_data"
    }
   ],
   "source": [
    "fig = plt.figure(figsize=(10, 6))\n",
    "for column in list(sum_conc1):\n",
    "    sns.distplot(sum_conc1[column], kde=False)\n",
    "\n",
    "plt.legend(list(sum_conc1))\n",
    "plt.title(\"Суммарная концентрация по стадиям\")\n",
    "plt.xlabel(\"Концентрация %\")\n",
    "plt.ylabel(\"Количество\")\n",
    "fig.show()"
   ]
  },
  {
   "cell_type": "markdown",
   "metadata": {},
   "source": [
    "___\n",
    "**Вывод:** \n",
    "\n",
    "За исключением *rougher_input* все распределения концентрации на различных стадиях показывают аномальные значения при 0%. Поэтому стоит удалить значения до 10% из обеих выборок, чтобы обеспечить точность модели:\n"
   ]
  },
  {
   "cell_type": "code",
   "execution_count": 37,
   "metadata": {},
   "outputs": [],
   "source": [
    "# Удаляем из выборки  все данные, в которых сумма концентраций металлов на разных этапах больше 10.\n",
    "clean_sum = sum_conc1.loc[sum_conc['rougher_output_sum'] > 10].copy()\n",
    "clean_sum = clean_sum.loc[clean_sum['final_output_sum'] > 10]\n",
    "clean_sum = clean_sum.loc[clean_sum['rougher_input_sum'] > 10]"
   ]
  },
  {
   "cell_type": "code",
   "execution_count": 38,
   "metadata": {},
   "outputs": [],
   "source": [
    "# По индексу из таблицы с чистыми данными удаляем строки с выбросами из обучайющей и полной выборок\n",
    "train_merge.drop(train_merge[~train_merge.index.isin(clean_sum.index)].index, inplace=True)\n",
    "data_full.drop(data_full[~data_full.index.isin(clean_sum.index)].index, inplace=True)"
   ]
  },
  {
   "cell_type": "markdown",
   "metadata": {},
   "source": [
    "### **Вывод блока:**\n",
    "_______________"
   ]
  },
  {
   "cell_type": "markdown",
   "metadata": {},
   "source": [
    "*Этап 2. Исследовательский анализ данных:*\n",
    "\n",
    "* Концентрация золота равномерно увеличивается на протяжении всей стадии обработки.\n",
    "* Концентрация серебра, повышается после флотации, после чего начинает снижаться, в финальном концентрате его становится меньше чем было в изначальном сырье. \n",
    "* Концентрация свинца незначительно увеличивается, а потом остается на уровне первичной очистки.\n",
    "__________\n",
    "* Распределение размеров гранул исходного сырья на обучающей и тестовой выборках показывает, что размеры частиц существенно не различаются. Следовательно оценка модели будет правильной.\n",
    "* Избавились от аномальных значений после рассмотрения распредления концентрации на различных стадиях.\n",
    "______"
   ]
  },
  {
   "cell_type": "markdown",
   "metadata": {},
   "source": [
    "## *Обучение и тестирование моделей.*\n",
    "_________"
   ]
  },
  {
   "cell_type": "markdown",
   "metadata": {},
   "source": [
    "### Создание выборок:\n",
    "_______________"
   ]
  },
  {
   "cell_type": "markdown",
   "metadata": {},
   "source": [
    "1. **Создание обучающих выборок:**\n",
    "______"
   ]
  },
  {
   "cell_type": "markdown",
   "metadata": {},
   "source": [
    "Создаем две переменные для *targets*:"
   ]
  },
  {
   "cell_type": "code",
   "execution_count": 39,
   "metadata": {},
   "outputs": [],
   "source": [
    "train_rougher_Y = train_merge['rougher.output.recovery']\n",
    "train_final_Y = train_merge['final.output.recovery']"
   ]
  },
  {
   "cell_type": "markdown",
   "metadata": {},
   "source": [
    "Создаем переменную для *features*:"
   ]
  },
  {
   "cell_type": "code",
   "execution_count": 40,
   "metadata": {},
   "outputs": [
    {
     "data": {
      "text/plain": [
       "52"
      ]
     },
     "execution_count": 40,
     "metadata": {},
     "output_type": "execute_result"
    }
   ],
   "source": [
    "train_X = train_merge.drop(['rougher.output.recovery','final.output.recovery'], axis=1)\n",
    "len(train_X.columns)"
   ]
  },
  {
   "cell_type": "markdown",
   "metadata": {},
   "source": [
    "2. **Создание тестовых выборок:**\n",
    "______"
   ]
  },
  {
   "cell_type": "markdown",
   "metadata": {},
   "source": [
    "Создаем переменную для *features*:"
   ]
  },
  {
   "cell_type": "code",
   "execution_count": 41,
   "metadata": {},
   "outputs": [
    {
     "data": {
      "text/plain": [
       "52"
      ]
     },
     "execution_count": 41,
     "metadata": {},
     "output_type": "execute_result"
    }
   ],
   "source": [
    "test_X = test_merge.drop(['rougher.output.recovery','final.output.recovery'], axis=1)\n",
    "len(test_X.columns)"
   ]
  },
  {
   "cell_type": "markdown",
   "metadata": {},
   "source": [
    "Создаем две переменные для *targets*:"
   ]
  },
  {
   "cell_type": "code",
   "execution_count": 42,
   "metadata": {},
   "outputs": [],
   "source": [
    "test_rougher_Y = test_merge['rougher.output.recovery']\n",
    "test_final_Y = test_merge['final.output.recovery']\n",
    "#test_final_Y.describe()"
   ]
  },
  {
   "cell_type": "markdown",
   "metadata": {},
   "source": [
    "### Масштабирование данных:\n",
    "________"
   ]
  },
  {
   "cell_type": "markdown",
   "metadata": {},
   "source": [
    "Используем StandardScaler и метод fit_transform:"
   ]
  },
  {
   "cell_type": "code",
   "execution_count": 43,
   "metadata": {},
   "outputs": [],
   "source": [
    "scaler = StandardScaler()\n",
    "\n",
    "train_X = pd.DataFrame(scaler.fit_transform(train_X))\n",
    "test_X = pd.DataFrame(scaler.transform(test_X))"
   ]
  },
  {
   "cell_type": "markdown",
   "metadata": {},
   "source": [
    "### Функции для вычисления sMAPE и итоговой sMAPE:"
   ]
  },
  {
   "cell_type": "code",
   "execution_count": 44,
   "metadata": {},
   "outputs": [],
   "source": [
    "def sMAPE(y_true, y_pred):\n",
    "    sMAPE = (sum(abs(y_true-y_pred)/((abs(y_true)+abs(y_pred))/2))/len(y_true))*100\n",
    "    return sMAPE\n",
    "\n",
    "# Создаем кастомный скорер\n",
    "custom_scorer = make_scorer(sMAPE, greater_is_better=False)"
   ]
  },
  {
   "cell_type": "code",
   "execution_count": 45,
   "metadata": {},
   "outputs": [],
   "source": [
    "def final_smape(smape_rougher, smape_final):\n",
    "        return (0.25 * smape_rougher) + (0.75 * smape_final)"
   ]
  },
  {
   "cell_type": "markdown",
   "metadata": {},
   "source": [
    "_____________\n",
    "### Дерево решений:"
   ]
  },
  {
   "cell_type": "markdown",
   "metadata": {},
   "source": [
    "_____________\n",
    "#### Подбор гиперпараметров для \"rougher\":"
   ]
  },
  {
   "cell_type": "code",
   "execution_count": 46,
   "metadata": {},
   "outputs": [],
   "source": [
    "SEED = 42\n",
    "random.seed(SEED)\n",
    "np.random.seed(SEED)"
   ]
  },
  {
   "cell_type": "markdown",
   "metadata": {},
   "source": [
    "Из-за особенности `make_scorer` при `greater_is_better=False` возвращются отрицательные значения. \n",
    "\n",
    "Для того, чтобы получить нам привычное значение SMAPE - умножим полученное значение на `-1`. "
   ]
  },
  {
   "cell_type": "code",
   "execution_count": 47,
   "metadata": {},
   "outputs": [
    {
     "name": "stdout",
     "output_type": "stream",
     "text": [
      "sMAPE: 7.1006\n",
      "max_depth    3\n",
      "dtype: int64\n",
      "CPU times: user 12.4 s, sys: 8.62 ms, total: 12.5 s\n",
      "Wall time: 12.5 s\n"
     ]
    }
   ],
   "source": [
    "%%time\n",
    "model_tree_r = DecisionTreeRegressor(random_state=SEED)  \n",
    "random_state = np.random.RandomState(SEED)\n",
    "parameters = {'max_depth': range (1,10)}   \n",
    "\n",
    "search = RandomizedSearchCV(\n",
    "    model_tree_r,\n",
    "    parameters,\n",
    "    cv=5,\n",
    "    scoring=custom_scorer,\n",
    "    random_state=random_state,\n",
    ")  \n",
    "search.fit(train_X, train_rougher_Y) \n",
    "results = search.cv_results_\n",
    "tree_r = (search.best_score_)*-1\n",
    "\n",
    "print('sMAPE:', '%.4f' %tree_r) \n",
    "print(pd.Series(search.best_params_))"
   ]
  },
  {
   "cell_type": "markdown",
   "metadata": {},
   "source": [
    "_____________\n",
    "#### Подбор гиперпараметров для \"final\":"
   ]
  },
  {
   "cell_type": "code",
   "execution_count": 48,
   "metadata": {},
   "outputs": [
    {
     "name": "stdout",
     "output_type": "stream",
     "text": [
      "sMAPE: 10.2880\n",
      "max_depth    1\n",
      "dtype: int64\n",
      "CPU times: user 6.17 s, sys: 7.78 ms, total: 6.18 s\n",
      "Wall time: 6.2 s\n"
     ]
    }
   ],
   "source": [
    "%%time\n",
    "model_tree_f = DecisionTreeRegressor(random_state=random_state)  \n",
    "random_state = np.random.RandomState(SEED)\n",
    "parameters = {'max_depth': range (1, 10)}   \n",
    "\n",
    "search = RandomizedSearchCV(\n",
    "    model_tree_f,\n",
    "    parameters,\n",
    "    cv=3,\n",
    "    scoring=custom_scorer,\n",
    "    random_state=random_state,\n",
    ")  \n",
    "search.fit(train_X, train_final_Y) \n",
    "results = search.cv_results_\n",
    "tree_f = (search.best_score_)*-1\n",
    "\n",
    "print('sMAPE:', '%.4f' %tree_f) \n",
    "print(pd.Series(search.best_params_))"
   ]
  },
  {
   "cell_type": "markdown",
   "metadata": {},
   "source": [
    "#### **Промежуточный вывод:**\n",
    "___________"
   ]
  },
  {
   "cell_type": "markdown",
   "metadata": {},
   "source": [
    "* При обучении модели дерева решений лучшие показатели получились у целевого признака на этапе *final*.\n",
    "* sMAPE дерева решений для \"final\". \n",
    "  * sMAPE: `10.7979` \n",
    "  * max_depth: `2`"
   ]
  },
  {
   "cell_type": "markdown",
   "metadata": {},
   "source": [
    "### Случайный лес:\n",
    "_______________"
   ]
  },
  {
   "cell_type": "markdown",
   "metadata": {},
   "source": [
    "#### Подбор гиперпараметров для \"rougher\":"
   ]
  },
  {
   "cell_type": "code",
   "execution_count": 49,
   "metadata": {
    "scrolled": true
   },
   "outputs": [
    {
     "name": "stdout",
     "output_type": "stream",
     "text": [
      "sMAPE: 6.9128\n",
      "n_estimators    30\n",
      "max_depth       14\n",
      "dtype: int64\n",
      "CPU times: user 14min 16s, sys: 1.05 s, total: 14min 17s\n",
      "Wall time: 14min 18s\n"
     ]
    }
   ],
   "source": [
    "%%time\n",
    "model_forest_r = RandomForestRegressor(random_state=random_state)  \n",
    "random_state = np.random.RandomState(SEED)\n",
    "parametrs = { 'n_estimators': range (10, 100, 20),\n",
    "              'max_depth': range (10, 20, 2) }\n",
    "\n",
    "search = RandomizedSearchCV(\n",
    "    model_forest_r,\n",
    "    parametrs,\n",
    "    cv=5,\n",
    "    scoring=custom_scorer,\n",
    "    random_state=random_state,\n",
    ")  \n",
    "search.fit(train_X, train_rougher_Y) \n",
    "results = search.cv_results_\n",
    "abs_res1 = (search.best_score_)*-1\n",
    "\n",
    "print('sMAPE:', '%.4f' %abs_res1) \n",
    "print(pd.Series(search.best_params_))"
   ]
  },
  {
   "cell_type": "markdown",
   "metadata": {},
   "source": [
    "_____________\n",
    "#### Подбор гиперпараметров для \"final\":"
   ]
  },
  {
   "cell_type": "code",
   "execution_count": 50,
   "metadata": {},
   "outputs": [
    {
     "name": "stdout",
     "output_type": "stream",
     "text": [
      "sMAPE: 9.7188\n",
      "n_estimators    30\n",
      "max_depth       10\n",
      "dtype: int64\n",
      "CPU times: user 15min 10s, sys: 1.16 s, total: 15min 11s\n",
      "Wall time: 15min 14s\n"
     ]
    }
   ],
   "source": [
    "%%time\n",
    "model_forest_f = RandomForestRegressor(random_state=random_state)  \n",
    "random_state = np.random.RandomState(SEED)\n",
    "parametrs = { 'n_estimators': range (10, 100, 20),\n",
    "              'max_depth': range (10, 20, 2) }\n",
    "\n",
    "search = RandomizedSearchCV(\n",
    "    model_forest_f,\n",
    "    parametrs,\n",
    "    cv=5,\n",
    "    scoring=custom_scorer,\n",
    "    random_state=random_state,\n",
    ")  \n",
    "search.fit(train_X, train_final_Y) \n",
    "results = search.cv_results_\n",
    "abs_res = (search.best_score_)*-1\n",
    "\n",
    "print('sMAPE:', '%.4f' %abs_res) \n",
    "print(pd.Series(search.best_params_))"
   ]
  },
  {
   "cell_type": "markdown",
   "metadata": {},
   "source": [
    "#### **Промежуточный вывод:**\n",
    "___________"
   ]
  },
  {
   "cell_type": "markdown",
   "metadata": {},
   "source": [
    " При обучении модели случайного леса лучшие показатели получились у целевого признака на этапе *final*.\n",
    "\n",
    "- sMAPE случайного леса для \"rougher\" \n",
    "  - sMAPE rougher: `6.9128`\n",
    "  - n_estimators    `30`\n",
    "  - max_depth       `14`\n",
    "\n",
    "- sMAPE случайного леса для \"final\" \n",
    "  - sMAPE: `9.7188`\n",
    "  - n_estimators    `30`\n",
    "  - max_depth       `10`"
   ]
  },
  {
   "cell_type": "markdown",
   "metadata": {},
   "source": [
    "### Линейная регрессия:\n",
    "_______________"
   ]
  },
  {
   "cell_type": "markdown",
   "metadata": {},
   "source": [
    "#### Проверка модели LinearRegressor для \"rougher\" идля \"final\":\n",
    "___________"
   ]
  },
  {
   "cell_type": "code",
   "execution_count": 51,
   "metadata": {},
   "outputs": [
    {
     "name": "stdout",
     "output_type": "stream",
     "text": [
      "Средняя sMAPE rougher на обучающей выборке: 7.227109063439052\n",
      "Средняя sMAPE final на обучающей выборке: 10.963689200696702\n",
      "CPU times: user 1.81 s, sys: 5.09 s, total: 6.9 s\n",
      "Wall time: 6.9 s\n"
     ]
    }
   ],
   "source": [
    "%%time\n",
    "model_lr = LinearRegression(n_jobs=-1)\n",
    "scores_r = cross_val_score(model_lr, train_X, train_rougher_Y, scoring=custom_scorer, cv=5) \n",
    "scores_r = abs(scores_r.mean())\n",
    "\n",
    "scores_f = cross_val_score(model_lr, train_X, train_final_Y, scoring=custom_scorer, cv=5) \n",
    "scores_f = abs(scores_f.mean())\n",
    "\n",
    "print(\"Средняя sMAPE rougher на обучающей выборке:\", scores_r)\n",
    "print(\"Средняя sMAPE final на обучающей выборке:\", scores_f)"
   ]
  },
  {
   "cell_type": "markdown",
   "metadata": {},
   "source": [
    "### Dummy модель:\n",
    "____"
   ]
  },
  {
   "cell_type": "code",
   "execution_count": 52,
   "metadata": {},
   "outputs": [
    {
     "name": "stdout",
     "output_type": "stream",
     "text": [
      "sMAPE константной модели этапа rougher: 8.525788511290273\n",
      "sMAPE константной модели этапа final: 9.744826571095434\n",
      "Итоговое sMAPE константной модели: 9.440067056144144\n"
     ]
    }
   ],
   "source": [
    "const_rougher = DummyRegressor(strategy='median')\n",
    "const_rougher.fit(train_X, train_rougher_Y)\n",
    "predictions = const_rougher.predict(test_X)\n",
    "smape_const_r = sMAPE(test_rougher_Y, predictions)\n",
    "print('sMAPE константной модели этапа rougher:', smape_const_r)\n",
    "\n",
    "const_final = DummyRegressor(strategy='median')\n",
    "const_final.fit(train_X, train_final_Y)\n",
    "predictions = const_final.predict(test_X)\n",
    "smape_const_f = sMAPE(test_final_Y, predictions)\n",
    "print('sMAPE константной модели этапа final:', smape_const_f)\n",
    "\n",
    "print(\"Итоговое sMAPE константной модели:\", final_smape(smape_const_r, smape_const_f))"
   ]
  },
  {
   "cell_type": "markdown",
   "metadata": {},
   "source": [
    "___\n",
    "### Сравнение моделей:\n"
   ]
  },
  {
   "cell_type": "code",
   "execution_count": 53,
   "metadata": {},
   "outputs": [
    {
     "data": {
      "text/html": [
       "<div>\n",
       "<style scoped>\n",
       "    .dataframe tbody tr th:only-of-type {\n",
       "        vertical-align: middle;\n",
       "    }\n",
       "\n",
       "    .dataframe tbody tr th {\n",
       "        vertical-align: top;\n",
       "    }\n",
       "\n",
       "    .dataframe thead th {\n",
       "        text-align: right;\n",
       "    }\n",
       "</style>\n",
       "<table border=\"1\" class=\"dataframe\">\n",
       "  <thead>\n",
       "    <tr style=\"text-align: right;\">\n",
       "      <th></th>\n",
       "      <th>Модель</th>\n",
       "      <th>RMSE</th>\n",
       "    </tr>\n",
       "  </thead>\n",
       "  <tbody>\n",
       "    <tr>\n",
       "      <th>0</th>\n",
       "      <td>Tree \"rougher\"</td>\n",
       "      <td>7.101</td>\n",
       "    </tr>\n",
       "    <tr>\n",
       "      <th>1</th>\n",
       "      <td>Tree \"final\"</td>\n",
       "      <td>10.288</td>\n",
       "    </tr>\n",
       "    <tr>\n",
       "      <th>2</th>\n",
       "      <td>Forest \"rougher\"</td>\n",
       "      <td>6.913</td>\n",
       "    </tr>\n",
       "    <tr>\n",
       "      <th>3</th>\n",
       "      <td>Forest \"final\"</td>\n",
       "      <td>9.719</td>\n",
       "    </tr>\n",
       "    <tr>\n",
       "      <th>4</th>\n",
       "      <td>Linreg \"rougher\"</td>\n",
       "      <td>7.227</td>\n",
       "    </tr>\n",
       "    <tr>\n",
       "      <th>5</th>\n",
       "      <td>Linreg \"final\"</td>\n",
       "      <td>10.964</td>\n",
       "    </tr>\n",
       "    <tr>\n",
       "      <th>6</th>\n",
       "      <td>Dummy \"rougher\"</td>\n",
       "      <td>8.526</td>\n",
       "    </tr>\n",
       "    <tr>\n",
       "      <th>7</th>\n",
       "      <td>Dummy \"final\"</td>\n",
       "      <td>9.745</td>\n",
       "    </tr>\n",
       "  </tbody>\n",
       "</table>\n",
       "</div>"
      ],
      "text/plain": [
       "             Модель   RMSE\n",
       "0    Tree \"rougher\"  7.101\n",
       "1      Tree \"final\" 10.288\n",
       "2  Forest \"rougher\"  6.913\n",
       "3    Forest \"final\"  9.719\n",
       "4  Linreg \"rougher\"  7.227\n",
       "5    Linreg \"final\" 10.964\n",
       "6   Dummy \"rougher\"  8.526\n",
       "7     Dummy \"final\"  9.745"
      ]
     },
     "metadata": {},
     "output_type": "display_data"
    }
   ],
   "source": [
    "comparison = {\n",
    "    'Модель' : ['Tree \"rougher\"', 'Tree \"final\"', \n",
    "                'Forest \"rougher\"', 'Forest \"final\"',\n",
    "                'Linreg \"rougher\"', 'Linreg \"final\"',\n",
    "                'Dummy \"rougher\"', 'Dummy \"final\"'\n",
    "               ],\n",
    "    'RMSE' : pd.Series([tree_r, tree_f,\n",
    "                        abs_res1, abs_res,\n",
    "                        scores_r, scores_f,\n",
    "                        smape_const_r, smape_const_f\n",
    "                       ]),\n",
    "    }\n",
    "display(pd.DataFrame(comparison))"
   ]
  },
  {
   "cell_type": "markdown",
   "metadata": {},
   "source": [
    "#### **Промежуточный вывод:**\n",
    "___________"
   ]
  },
  {
   "cell_type": "markdown",
   "metadata": {},
   "source": [
    "* Лучшая модель - Случайный лес.\n",
    "* Результаты *dummy* модели успешно побиты, проверка на адекватность пройдена.\n",
    "* Параметры лучшей модели - sMAPE rougher: `6.9128`\n",
    "  * n_estimators `30`\n",
    "  * max_depth `14`"
   ]
  },
  {
   "cell_type": "markdown",
   "metadata": {},
   "source": [
    "### Тестирование лучшей модели:\n",
    "_______________"
   ]
  },
  {
   "cell_type": "code",
   "execution_count": 54,
   "metadata": {},
   "outputs": [
    {
     "name": "stdout",
     "output_type": "stream",
     "text": [
      "sMAPE дерева решений для \"rougher\" : \n",
      " 8.42692085682389\n",
      "CPU times: user 8.2 s, sys: 12 ms, total: 8.22 s\n",
      "Wall time: 8.23 s\n"
     ]
    }
   ],
   "source": [
    "%%time\n",
    "model_forest_r = RandomForestRegressor(\n",
    "    max_depth=30,\n",
    "    n_estimators=14,\n",
    "    random_state=random_state)\n",
    "model_forest_r.fit(train_X, train_rougher_Y)\n",
    "\n",
    "predictions_test = model_forest_r.predict(test_X)\n",
    "best_smape_r = sMAPE(test_rougher_Y, predictions_test)\n",
    "\n",
    "print('sMAPE дерева решений для \"rougher\" :', '\\n', best_smape_r)"
   ]
  },
  {
   "cell_type": "code",
   "execution_count": 55,
   "metadata": {},
   "outputs": [
    {
     "name": "stdout",
     "output_type": "stream",
     "text": [
      "sMAPE дерева решений для \"final\" : \n",
      " 9.577694594846484\n",
      "CPU times: user 11.7 s, sys: 28 ms, total: 11.8 s\n",
      "Wall time: 11.8 s\n"
     ]
    }
   ],
   "source": [
    "%%time\n",
    "model_forest_f = RandomForestRegressor(\n",
    "    max_depth=10,\n",
    "    n_estimators=30,\n",
    "    random_state=random_state)\n",
    "model_forest_f.fit(train_X, train_final_Y)\n",
    "\n",
    "predictions_test = model_forest_f.predict(test_X)\n",
    "best_smape_f = sMAPE(test_final_Y, predictions_test)\n",
    "\n",
    "print('sMAPE дерева решений для \"final\" :', '\\n', best_smape_f)"
   ]
  },
  {
   "cell_type": "code",
   "execution_count": 56,
   "metadata": {},
   "outputs": [
    {
     "name": "stdout",
     "output_type": "stream",
     "text": [
      "Итоговое sMAPE лучшей модели RandomForest: 9.290001160340836\n"
     ]
    }
   ],
   "source": [
    "print(\"Итоговое sMAPE лучшей модели RandomForest:\", final_smape(best_smape_r,best_smape_f))"
   ]
  },
  {
   "cell_type": "markdown",
   "metadata": {},
   "source": [
    "#### **Промежуточный вывод:**\n",
    "___________"
   ]
  },
  {
   "cell_type": "markdown",
   "metadata": {},
   "source": [
    "* Лучшая наблюдаемая модель — это RandomForestRegressor с параметрами:\n",
    "  * 'max_depth': `14`\n",
    "  * n_estimators: `30` \n",
    "* Итоговое sMAPE лучшей модели RandomForest: `9.2932`\n",
    "* sMAPE константной модели: `9.4799`\n",
    "* Предсказанное sMAPE на тестовой модели получилось больше чем sMAPE константной модели.  "
   ]
  },
  {
   "cell_type": "markdown",
   "metadata": {},
   "source": [
    "## ***Основные выводы по каждому этапу:***\n",
    "_________"
   ]
  },
  {
   "cell_type": "markdown",
   "metadata": {},
   "source": [
    "**Этап 1. Подготовка данных:**\n",
    "\n",
    "* *MAE* составляет: `9.73512347450521e-15`\n",
    "*  Т.к абсолютная ошибка между нашими расчетами и *фичами* мала, то можно судить о том, что значения признаков досточно точны.\n",
    "\n",
    "\n",
    "* В тестовой выборке недоступны признаки, являющиеся выходными значениями на разных этапах очистки.\n",
    "\n",
    "\n",
    "* Проведена предобработка данных.\n",
    "_____"
   ]
  },
  {
   "cell_type": "markdown",
   "metadata": {},
   "source": [
    "**Этап 2. Исследовательский анализ данных:**\n",
    "\n"
   ]
  },
  {
   "cell_type": "markdown",
   "metadata": {},
   "source": [
    "* Концентрация золота равномерно увеличивается на протяжении всей стадии обработки.\n",
    "* Концентрация серебра, повышается после флотации, после чего начинает снижаться, в финальном концентрате его становится меньше чем было в изначальном сырье. \n",
    "* Концентрация свинца незначительно увеличивается, а потом остается на уровне первичной очистки.\n",
    "__________\n",
    "* Распределение размеров гранул исходного сырья на обучающей и тестовой выборках показывает, что размеры частиц существенно не различаются. Следовательно оценка модели будет правильной.\n",
    "* Избавились от аномальных значений после рассмотрения распредления концентрации на различных стадиях.\n",
    "______"
   ]
  },
  {
   "cell_type": "markdown",
   "metadata": {},
   "source": [
    "**Этап 3. Обучение и проверка модели:**"
   ]
  },
  {
   "cell_type": "markdown",
   "metadata": {},
   "source": [
    "* Лучшая наблюдаемая модель — это RandomForestRegressor с параметрами:\n",
    "  * 'max_depth': `14`\n",
    "  * n_estimators: `30` \n",
    "* Итоговое sMAPE лучшей модели RandomForest: `9.2932`\n",
    "* sMAPE константной модели: `9.4799`\n",
    "* Предсказанное sMAPE на тестовой модели получилось больше чем sMAPE константной модели.  "
   ]
  },
  {
   "cell_type": "markdown",
   "metadata": {},
   "source": [
    "## ***Общий вывод:***\n",
    "_________"
   ]
  },
  {
   "cell_type": "markdown",
   "metadata": {},
   "source": [
    "Первоночальная задача и цель исследования в подготовке прототипа модели машинного обучения, предсказывающего коэффициент восстановления золота из золотосодержащей руды - выполнена.\n",
    "\n",
    "**Рекомендации:**\n",
    "Так как *sMAPE* для предсказаний на тестовой модели получилось не многим меньше, чем sMAPE рассчитанное на константной модели, то для улучшения результатов необходимы дополнительные статистические расчеты и исследования. "
   ]
  },
  {
   "cell_type": "code",
   "execution_count": null,
   "metadata": {},
   "outputs": [],
   "source": []
  }
 ],
 "metadata": {
  "ExecuteTimeLog": [
   {
    "duration": 378,
    "start_time": "2022-12-30T12:39:17.910Z"
   },
   {
    "duration": 2884,
    "start_time": "2022-12-30T12:42:56.324Z"
   },
   {
    "duration": 32,
    "start_time": "2022-12-30T12:43:23.071Z"
   },
   {
    "duration": 215,
    "start_time": "2022-12-30T12:43:43.800Z"
   },
   {
    "duration": 5,
    "start_time": "2022-12-30T12:43:57.144Z"
   },
   {
    "duration": 23,
    "start_time": "2022-12-30T12:44:21.503Z"
   },
   {
    "duration": 19,
    "start_time": "2022-12-30T12:46:21.695Z"
   },
   {
    "duration": 117,
    "start_time": "2022-12-30T12:46:23.568Z"
   },
   {
    "duration": 13,
    "start_time": "2022-12-30T12:46:25.242Z"
   },
   {
    "duration": 11,
    "start_time": "2022-12-30T15:16:26.074Z"
   },
   {
    "duration": 55,
    "start_time": "2023-01-02T17:28:29.549Z"
   },
   {
    "duration": 373,
    "start_time": "2023-01-02T17:28:38.004Z"
   },
   {
    "duration": 2486,
    "start_time": "2023-01-02T17:28:38.379Z"
   },
   {
    "duration": 30,
    "start_time": "2023-01-02T17:28:40.867Z"
   },
   {
    "duration": 497,
    "start_time": "2023-01-02T17:28:40.899Z"
   },
   {
    "duration": 18,
    "start_time": "2023-01-02T17:28:41.450Z"
   },
   {
    "duration": 21,
    "start_time": "2023-01-02T17:28:41.470Z"
   },
   {
    "duration": 286,
    "start_time": "2023-01-02T17:28:41.492Z"
   },
   {
    "duration": 13,
    "start_time": "2023-01-02T17:28:41.779Z"
   },
   {
    "duration": 65,
    "start_time": "2023-01-02T17:28:41.793Z"
   },
   {
    "duration": 21,
    "start_time": "2023-01-02T17:28:41.859Z"
   },
   {
    "duration": 73,
    "start_time": "2023-01-02T17:28:41.882Z"
   },
   {
    "duration": 410,
    "start_time": "2023-01-02T17:28:41.956Z"
   },
   {
    "duration": 779,
    "start_time": "2023-01-02T17:36:07.472Z"
   },
   {
    "duration": 62,
    "start_time": "2023-01-02T17:36:18.902Z"
   },
   {
    "duration": 250,
    "start_time": "2023-01-02T17:36:37.037Z"
   },
   {
    "duration": 22,
    "start_time": "2023-01-02T17:36:48.441Z"
   },
   {
    "duration": 464,
    "start_time": "2023-01-02T17:36:57.718Z"
   },
   {
    "duration": 754,
    "start_time": "2023-01-02T17:36:58.184Z"
   },
   {
    "duration": 49,
    "start_time": "2023-01-02T17:36:58.940Z"
   },
   {
    "duration": 299,
    "start_time": "2023-01-02T17:36:58.991Z"
   },
   {
    "duration": 17,
    "start_time": "2023-01-02T17:36:59.293Z"
   },
   {
    "duration": 47,
    "start_time": "2023-01-02T17:36:59.312Z"
   },
   {
    "duration": 149,
    "start_time": "2023-01-02T17:36:59.361Z"
   },
   {
    "duration": 13,
    "start_time": "2023-01-02T17:36:59.511Z"
   },
   {
    "duration": 27,
    "start_time": "2023-01-02T17:36:59.526Z"
   },
   {
    "duration": 55,
    "start_time": "2023-01-02T17:36:59.555Z"
   },
   {
    "duration": 90,
    "start_time": "2023-01-02T17:36:59.612Z"
   },
   {
    "duration": 348,
    "start_time": "2023-01-02T17:36:59.704Z"
   },
   {
    "duration": 112,
    "start_time": "2023-01-02T17:39:32.825Z"
   },
   {
    "duration": 16,
    "start_time": "2023-01-02T17:40:01.365Z"
   },
   {
    "duration": 548,
    "start_time": "2023-01-02T17:43:39.359Z"
   },
   {
    "duration": 23,
    "start_time": "2023-01-02T17:44:30.759Z"
   },
   {
    "duration": 9,
    "start_time": "2023-01-02T17:44:36.573Z"
   },
   {
    "duration": 20,
    "start_time": "2023-01-02T17:45:00.623Z"
   },
   {
    "duration": 9,
    "start_time": "2023-01-02T17:45:18.629Z"
   },
   {
    "duration": 22,
    "start_time": "2023-01-02T17:45:41.125Z"
   },
   {
    "duration": 17,
    "start_time": "2023-01-02T17:46:47.533Z"
   },
   {
    "duration": 23,
    "start_time": "2023-01-02T17:47:17.406Z"
   },
   {
    "duration": 17,
    "start_time": "2023-01-02T17:48:01.605Z"
   },
   {
    "duration": 21,
    "start_time": "2023-01-02T17:48:23.630Z"
   },
   {
    "duration": 5,
    "start_time": "2023-01-02T17:57:17.485Z"
   },
   {
    "duration": 366,
    "start_time": "2023-01-08T13:27:27.291Z"
   },
   {
    "duration": 1967,
    "start_time": "2023-01-08T13:27:27.660Z"
   },
   {
    "duration": 46,
    "start_time": "2023-01-08T13:27:29.629Z"
   },
   {
    "duration": 290,
    "start_time": "2023-01-08T13:27:29.677Z"
   },
   {
    "duration": 18,
    "start_time": "2023-01-08T13:27:29.969Z"
   },
   {
    "duration": 27,
    "start_time": "2023-01-08T13:27:29.989Z"
   },
   {
    "duration": 160,
    "start_time": "2023-01-08T13:27:30.017Z"
   },
   {
    "duration": 14,
    "start_time": "2023-01-08T13:27:30.179Z"
   },
   {
    "duration": 56,
    "start_time": "2023-01-08T13:27:30.194Z"
   },
   {
    "duration": 75,
    "start_time": "2023-01-08T13:27:30.253Z"
   },
   {
    "duration": 265,
    "start_time": "2023-01-08T13:27:30.330Z"
   },
   {
    "duration": 5,
    "start_time": "2023-01-08T13:27:30.597Z"
   },
   {
    "duration": 5,
    "start_time": "2023-01-08T13:27:30.604Z"
   },
   {
    "duration": 10,
    "start_time": "2023-01-08T13:27:30.611Z"
   },
   {
    "duration": 4,
    "start_time": "2023-01-08T13:55:48.808Z"
   },
   {
    "duration": 10,
    "start_time": "2023-01-08T13:55:52.492Z"
   },
   {
    "duration": 9,
    "start_time": "2023-01-08T13:56:11.069Z"
   },
   {
    "duration": 25,
    "start_time": "2023-01-08T13:56:49.144Z"
   },
   {
    "duration": 66,
    "start_time": "2023-01-08T13:57:42.287Z"
   },
   {
    "duration": 844,
    "start_time": "2023-01-08T13:59:38.411Z"
   },
   {
    "duration": 7,
    "start_time": "2023-01-08T14:00:20.299Z"
   },
   {
    "duration": 7,
    "start_time": "2023-01-08T15:03:55.046Z"
   },
   {
    "duration": 10,
    "start_time": "2023-01-08T15:03:59.411Z"
   },
   {
    "duration": 6,
    "start_time": "2023-01-08T15:04:07.958Z"
   },
   {
    "duration": 52,
    "start_time": "2023-01-08T15:18:07.797Z"
   },
   {
    "duration": 5,
    "start_time": "2023-01-08T15:22:56.570Z"
   },
   {
    "duration": 42,
    "start_time": "2023-01-08T16:10:23.463Z"
   },
   {
    "duration": 1060,
    "start_time": "2023-01-08T16:12:21.804Z"
   },
   {
    "duration": 2997,
    "start_time": "2023-01-08T16:12:22.865Z"
   },
   {
    "duration": 40,
    "start_time": "2023-01-08T16:12:25.864Z"
   },
   {
    "duration": 228,
    "start_time": "2023-01-08T16:12:25.907Z"
   },
   {
    "duration": 16,
    "start_time": "2023-01-08T16:12:26.137Z"
   },
   {
    "duration": 24,
    "start_time": "2023-01-08T16:12:26.154Z"
   },
   {
    "duration": 179,
    "start_time": "2023-01-08T16:12:26.179Z"
   },
   {
    "duration": 14,
    "start_time": "2023-01-08T16:12:26.360Z"
   },
   {
    "duration": 50,
    "start_time": "2023-01-08T16:12:26.376Z"
   },
   {
    "duration": 17,
    "start_time": "2023-01-08T16:12:26.428Z"
   },
   {
    "duration": 252,
    "start_time": "2023-01-08T16:12:26.446Z"
   },
   {
    "duration": 3,
    "start_time": "2023-01-08T16:12:26.700Z"
   },
   {
    "duration": 17,
    "start_time": "2023-01-08T16:12:26.705Z"
   },
   {
    "duration": 16,
    "start_time": "2023-01-08T16:12:26.724Z"
   },
   {
    "duration": 5,
    "start_time": "2023-01-08T16:12:26.742Z"
   },
   {
    "duration": 9,
    "start_time": "2023-01-08T16:12:26.748Z"
   },
   {
    "duration": 5,
    "start_time": "2023-01-08T16:12:26.758Z"
   },
   {
    "duration": 7,
    "start_time": "2023-01-08T16:12:26.764Z"
   },
   {
    "duration": 12,
    "start_time": "2023-01-08T16:12:26.773Z"
   },
   {
    "duration": 2,
    "start_time": "2023-01-08T16:12:42.655Z"
   },
   {
    "duration": 421,
    "start_time": "2023-01-08T16:12:43.881Z"
   },
   {
    "duration": 3,
    "start_time": "2023-01-08T16:36:09.951Z"
   },
   {
    "duration": 10,
    "start_time": "2023-01-08T17:01:02.101Z"
   },
   {
    "duration": 14,
    "start_time": "2023-01-08T17:04:04.872Z"
   },
   {
    "duration": 80,
    "start_time": "2023-01-08T17:04:46.067Z"
   },
   {
    "duration": 9,
    "start_time": "2023-01-08T17:07:53.533Z"
   },
   {
    "duration": 8,
    "start_time": "2023-01-08T17:08:27.588Z"
   },
   {
    "duration": 13,
    "start_time": "2023-01-08T17:09:03.886Z"
   },
   {
    "duration": 14,
    "start_time": "2023-01-08T17:09:41.072Z"
   },
   {
    "duration": 22,
    "start_time": "2023-01-08T17:10:10.012Z"
   },
   {
    "duration": 13,
    "start_time": "2023-01-08T17:10:21.597Z"
   },
   {
    "duration": 27,
    "start_time": "2023-01-08T17:10:27.941Z"
   },
   {
    "duration": 14,
    "start_time": "2023-01-08T17:10:28.569Z"
   },
   {
    "duration": 8,
    "start_time": "2023-01-08T17:10:56.571Z"
   },
   {
    "duration": 9,
    "start_time": "2023-01-08T17:13:46.677Z"
   },
   {
    "duration": 55,
    "start_time": "2023-01-08T17:13:52.916Z"
   },
   {
    "duration": 8,
    "start_time": "2023-01-08T17:18:55.520Z"
   },
   {
    "duration": 8,
    "start_time": "2023-01-08T17:19:19.925Z"
   },
   {
    "duration": 973,
    "start_time": "2023-01-08T17:19:31.051Z"
   },
   {
    "duration": 686,
    "start_time": "2023-01-08T17:19:32.026Z"
   },
   {
    "duration": 38,
    "start_time": "2023-01-08T17:19:32.714Z"
   },
   {
    "duration": 238,
    "start_time": "2023-01-08T17:19:32.754Z"
   },
   {
    "duration": 25,
    "start_time": "2023-01-08T17:19:32.995Z"
   },
   {
    "duration": 24,
    "start_time": "2023-01-08T17:19:33.021Z"
   },
   {
    "duration": 139,
    "start_time": "2023-01-08T17:19:33.047Z"
   },
   {
    "duration": 22,
    "start_time": "2023-01-08T17:19:33.188Z"
   },
   {
    "duration": 36,
    "start_time": "2023-01-08T17:19:33.212Z"
   },
   {
    "duration": 18,
    "start_time": "2023-01-08T17:19:33.250Z"
   },
   {
    "duration": 470,
    "start_time": "2023-01-08T17:19:33.270Z"
   },
   {
    "duration": 3,
    "start_time": "2023-01-08T17:19:33.741Z"
   },
   {
    "duration": 13,
    "start_time": "2023-01-08T17:19:33.745Z"
   },
   {
    "duration": 68,
    "start_time": "2023-01-08T17:19:33.759Z"
   },
   {
    "duration": 4,
    "start_time": "2023-01-08T17:19:33.829Z"
   },
   {
    "duration": 8,
    "start_time": "2023-01-08T17:19:33.834Z"
   },
   {
    "duration": 8,
    "start_time": "2023-01-08T17:19:33.843Z"
   },
   {
    "duration": 5,
    "start_time": "2023-01-08T17:19:33.853Z"
   },
   {
    "duration": 65,
    "start_time": "2023-01-08T17:19:33.860Z"
   },
   {
    "duration": 8,
    "start_time": "2023-01-08T17:19:33.926Z"
   },
   {
    "duration": 18,
    "start_time": "2023-01-08T17:19:33.936Z"
   },
   {
    "duration": 62,
    "start_time": "2023-01-08T17:19:33.956Z"
   },
   {
    "duration": 9,
    "start_time": "2023-01-08T17:19:34.020Z"
   },
   {
    "duration": 7,
    "start_time": "2023-01-08T17:20:44.489Z"
   },
   {
    "duration": 101,
    "start_time": "2023-01-08T17:21:01.305Z"
   },
   {
    "duration": 8,
    "start_time": "2023-01-08T17:21:21.715Z"
   },
   {
    "duration": 9,
    "start_time": "2023-01-08T17:21:51.904Z"
   },
   {
    "duration": 23,
    "start_time": "2023-01-08T17:22:57.538Z"
   },
   {
    "duration": 19,
    "start_time": "2023-01-08T17:23:28.907Z"
   },
   {
    "duration": 16,
    "start_time": "2023-01-08T17:24:07.377Z"
   },
   {
    "duration": 22,
    "start_time": "2023-01-08T17:26:44.832Z"
   },
   {
    "duration": 1043,
    "start_time": "2023-01-08T17:26:58.804Z"
   },
   {
    "duration": 894,
    "start_time": "2023-01-08T17:26:59.850Z"
   },
   {
    "duration": 45,
    "start_time": "2023-01-08T17:27:00.745Z"
   },
   {
    "duration": 275,
    "start_time": "2023-01-08T17:27:00.792Z"
   },
   {
    "duration": 19,
    "start_time": "2023-01-08T17:27:01.069Z"
   },
   {
    "duration": 44,
    "start_time": "2023-01-08T17:27:01.090Z"
   },
   {
    "duration": 179,
    "start_time": "2023-01-08T17:27:01.137Z"
   },
   {
    "duration": 14,
    "start_time": "2023-01-08T17:27:01.318Z"
   },
   {
    "duration": 64,
    "start_time": "2023-01-08T17:27:01.333Z"
   },
   {
    "duration": 43,
    "start_time": "2023-01-08T17:27:01.401Z"
   },
   {
    "duration": 257,
    "start_time": "2023-01-08T17:27:01.445Z"
   },
   {
    "duration": 3,
    "start_time": "2023-01-08T17:27:01.704Z"
   },
   {
    "duration": 28,
    "start_time": "2023-01-08T17:27:01.709Z"
   },
   {
    "duration": 19,
    "start_time": "2023-01-08T17:27:01.739Z"
   },
   {
    "duration": 5,
    "start_time": "2023-01-08T17:27:01.760Z"
   },
   {
    "duration": 6,
    "start_time": "2023-01-08T17:27:01.767Z"
   },
   {
    "duration": 7,
    "start_time": "2023-01-08T17:27:01.774Z"
   },
   {
    "duration": 8,
    "start_time": "2023-01-08T17:27:01.783Z"
   },
   {
    "duration": 23,
    "start_time": "2023-01-08T17:27:01.816Z"
   },
   {
    "duration": 25,
    "start_time": "2023-01-08T17:27:01.841Z"
   },
   {
    "duration": 22,
    "start_time": "2023-01-08T17:27:01.868Z"
   },
   {
    "duration": 16,
    "start_time": "2023-01-08T17:27:23.259Z"
   },
   {
    "duration": 1067,
    "start_time": "2023-01-08T17:27:40.350Z"
   },
   {
    "duration": 1525,
    "start_time": "2023-01-08T17:27:41.419Z"
   },
   {
    "duration": 95,
    "start_time": "2023-01-08T17:27:42.945Z"
   },
   {
    "duration": 315,
    "start_time": "2023-01-08T17:27:43.043Z"
   },
   {
    "duration": 15,
    "start_time": "2023-01-08T17:27:43.360Z"
   },
   {
    "duration": 41,
    "start_time": "2023-01-08T17:27:43.377Z"
   },
   {
    "duration": 141,
    "start_time": "2023-01-08T17:27:43.420Z"
   },
   {
    "duration": 16,
    "start_time": "2023-01-08T17:27:43.563Z"
   },
   {
    "duration": 71,
    "start_time": "2023-01-08T17:27:43.581Z"
   },
   {
    "duration": 22,
    "start_time": "2023-01-08T17:27:43.656Z"
   },
   {
    "duration": 284,
    "start_time": "2023-01-08T17:27:43.680Z"
   },
   {
    "duration": 3,
    "start_time": "2023-01-08T17:27:43.967Z"
   },
   {
    "duration": 13,
    "start_time": "2023-01-08T17:27:43.972Z"
   },
   {
    "duration": 44,
    "start_time": "2023-01-08T17:27:43.987Z"
   },
   {
    "duration": 6,
    "start_time": "2023-01-08T17:27:44.033Z"
   },
   {
    "duration": 7,
    "start_time": "2023-01-08T17:27:44.040Z"
   },
   {
    "duration": 13,
    "start_time": "2023-01-08T17:27:44.049Z"
   },
   {
    "duration": 17,
    "start_time": "2023-01-08T17:27:44.064Z"
   },
   {
    "duration": 41,
    "start_time": "2023-01-08T17:27:44.086Z"
   },
   {
    "duration": 25,
    "start_time": "2023-01-08T17:27:44.129Z"
   },
   {
    "duration": 16,
    "start_time": "2023-01-08T17:27:44.156Z"
   },
   {
    "duration": 285,
    "start_time": "2023-01-08T17:32:15.664Z"
   },
   {
    "duration": 997,
    "start_time": "2023-01-08T17:34:55.758Z"
   },
   {
    "duration": 689,
    "start_time": "2023-01-08T17:34:56.757Z"
   },
   {
    "duration": 41,
    "start_time": "2023-01-08T17:34:57.447Z"
   },
   {
    "duration": 246,
    "start_time": "2023-01-08T17:34:57.490Z"
   },
   {
    "duration": 15,
    "start_time": "2023-01-08T17:34:57.738Z"
   },
   {
    "duration": 22,
    "start_time": "2023-01-08T17:34:57.755Z"
   },
   {
    "duration": 143,
    "start_time": "2023-01-08T17:34:57.778Z"
   },
   {
    "duration": 12,
    "start_time": "2023-01-08T17:34:57.923Z"
   },
   {
    "duration": 44,
    "start_time": "2023-01-08T17:34:57.936Z"
   },
   {
    "duration": 18,
    "start_time": "2023-01-08T17:34:57.982Z"
   },
   {
    "duration": 255,
    "start_time": "2023-01-08T17:34:58.014Z"
   },
   {
    "duration": 2,
    "start_time": "2023-01-08T17:34:58.271Z"
   },
   {
    "duration": 13,
    "start_time": "2023-01-08T17:34:58.275Z"
   },
   {
    "duration": 25,
    "start_time": "2023-01-08T17:34:58.291Z"
   },
   {
    "duration": 5,
    "start_time": "2023-01-08T17:34:58.318Z"
   },
   {
    "duration": 6,
    "start_time": "2023-01-08T17:34:58.325Z"
   },
   {
    "duration": 299,
    "start_time": "2023-01-08T17:34:58.333Z"
   },
   {
    "duration": 106,
    "start_time": "2023-01-08T17:34:58.634Z"
   },
   {
    "duration": 0,
    "start_time": "2023-01-08T17:34:58.741Z"
   },
   {
    "duration": 0,
    "start_time": "2023-01-08T17:34:58.742Z"
   },
   {
    "duration": 21,
    "start_time": "2023-01-08T17:36:20.235Z"
   },
   {
    "duration": 3,
    "start_time": "2023-01-08T17:36:38.628Z"
   },
   {
    "duration": 18,
    "start_time": "2023-01-08T17:37:00.860Z"
   },
   {
    "duration": 19,
    "start_time": "2023-01-08T17:37:05.055Z"
   },
   {
    "duration": 20,
    "start_time": "2023-01-08T17:37:06.331Z"
   },
   {
    "duration": 115,
    "start_time": "2023-01-08T17:39:34.435Z"
   },
   {
    "duration": 202,
    "start_time": "2023-01-08T17:40:25.772Z"
   },
   {
    "duration": 978,
    "start_time": "2023-01-09T16:30:28.170Z"
   },
   {
    "duration": 2674,
    "start_time": "2023-01-09T16:30:29.150Z"
   },
   {
    "duration": 38,
    "start_time": "2023-01-09T16:30:31.825Z"
   },
   {
    "duration": 238,
    "start_time": "2023-01-09T16:30:31.865Z"
   },
   {
    "duration": 25,
    "start_time": "2023-01-09T16:30:32.105Z"
   },
   {
    "duration": 27,
    "start_time": "2023-01-09T16:30:32.131Z"
   },
   {
    "duration": 140,
    "start_time": "2023-01-09T16:30:32.160Z"
   },
   {
    "duration": 19,
    "start_time": "2023-01-09T16:30:32.302Z"
   },
   {
    "duration": 37,
    "start_time": "2023-01-09T16:30:32.323Z"
   },
   {
    "duration": 29,
    "start_time": "2023-01-09T16:30:32.362Z"
   },
   {
    "duration": 279,
    "start_time": "2023-01-09T16:30:32.393Z"
   },
   {
    "duration": 3,
    "start_time": "2023-01-09T16:30:32.674Z"
   },
   {
    "duration": 9,
    "start_time": "2023-01-09T16:30:32.679Z"
   },
   {
    "duration": 32,
    "start_time": "2023-01-09T16:30:32.690Z"
   },
   {
    "duration": 6,
    "start_time": "2023-01-09T16:30:32.724Z"
   },
   {
    "duration": 7,
    "start_time": "2023-01-09T16:30:32.731Z"
   },
   {
    "duration": 5,
    "start_time": "2023-01-09T16:30:32.740Z"
   },
   {
    "duration": 22,
    "start_time": "2023-01-09T16:30:32.746Z"
   },
   {
    "duration": 47,
    "start_time": "2023-01-09T16:30:32.769Z"
   },
   {
    "duration": 14,
    "start_time": "2023-01-09T16:30:32.818Z"
   },
   {
    "duration": 240,
    "start_time": "2023-01-09T16:30:32.834Z"
   },
   {
    "duration": 5,
    "start_time": "2023-01-09T16:35:25.842Z"
   },
   {
    "duration": 5,
    "start_time": "2023-01-09T16:35:36.383Z"
   },
   {
    "duration": 1006,
    "start_time": "2023-01-09T16:49:43.246Z"
   },
   {
    "duration": 679,
    "start_time": "2023-01-09T16:49:44.253Z"
   },
   {
    "duration": 42,
    "start_time": "2023-01-09T16:49:44.934Z"
   },
   {
    "duration": 248,
    "start_time": "2023-01-09T16:49:44.977Z"
   },
   {
    "duration": 17,
    "start_time": "2023-01-09T16:49:45.227Z"
   },
   {
    "duration": 25,
    "start_time": "2023-01-09T16:49:45.245Z"
   },
   {
    "duration": 153,
    "start_time": "2023-01-09T16:49:45.272Z"
   },
   {
    "duration": 12,
    "start_time": "2023-01-09T16:49:45.427Z"
   },
   {
    "duration": 34,
    "start_time": "2023-01-09T16:49:45.440Z"
   },
   {
    "duration": 16,
    "start_time": "2023-01-09T16:49:45.475Z"
   },
   {
    "duration": 256,
    "start_time": "2023-01-09T16:49:45.516Z"
   },
   {
    "duration": 3,
    "start_time": "2023-01-09T16:49:45.774Z"
   },
   {
    "duration": 11,
    "start_time": "2023-01-09T16:49:45.778Z"
   },
   {
    "duration": 30,
    "start_time": "2023-01-09T16:49:45.792Z"
   },
   {
    "duration": 5,
    "start_time": "2023-01-09T16:49:45.824Z"
   },
   {
    "duration": 10,
    "start_time": "2023-01-09T16:49:45.830Z"
   },
   {
    "duration": 15,
    "start_time": "2023-01-09T16:49:45.842Z"
   },
   {
    "duration": 28,
    "start_time": "2023-01-09T16:49:45.858Z"
   },
   {
    "duration": 17,
    "start_time": "2023-01-09T16:49:45.888Z"
   },
   {
    "duration": 15,
    "start_time": "2023-01-09T16:49:45.916Z"
   },
   {
    "duration": 239,
    "start_time": "2023-01-09T16:49:45.933Z"
   },
   {
    "duration": 3,
    "start_time": "2023-01-09T16:55:02.306Z"
   },
   {
    "duration": 4,
    "start_time": "2023-01-09T16:55:09.853Z"
   },
   {
    "duration": 103,
    "start_time": "2023-01-09T16:57:10.416Z"
   },
   {
    "duration": 13,
    "start_time": "2023-01-09T17:01:08.461Z"
   },
   {
    "duration": 6,
    "start_time": "2023-01-09T17:01:25.748Z"
   },
   {
    "duration": 32,
    "start_time": "2023-01-09T17:01:34.310Z"
   },
   {
    "duration": 222,
    "start_time": "2023-01-09T17:05:20.120Z"
   },
   {
    "duration": 9,
    "start_time": "2023-01-09T17:05:33.387Z"
   },
   {
    "duration": 5,
    "start_time": "2023-01-09T17:05:38.468Z"
   },
   {
    "duration": 7,
    "start_time": "2023-01-09T17:07:04.413Z"
   },
   {
    "duration": 9,
    "start_time": "2023-01-09T17:10:17.222Z"
   },
   {
    "duration": 7,
    "start_time": "2023-01-09T17:10:33.797Z"
   },
   {
    "duration": 8,
    "start_time": "2023-01-09T17:10:54.972Z"
   },
   {
    "duration": 16,
    "start_time": "2023-01-09T17:11:41.968Z"
   },
   {
    "duration": 9,
    "start_time": "2023-01-09T17:12:01.628Z"
   },
   {
    "duration": 11,
    "start_time": "2023-01-09T17:12:22.221Z"
   },
   {
    "duration": 7,
    "start_time": "2023-01-09T17:12:26.541Z"
   },
   {
    "duration": 11,
    "start_time": "2023-01-09T17:12:45.933Z"
   },
   {
    "duration": 11,
    "start_time": "2023-01-09T17:13:00.277Z"
   },
   {
    "duration": 11,
    "start_time": "2023-01-09T17:13:10.208Z"
   },
   {
    "duration": 11,
    "start_time": "2023-01-09T17:13:17.839Z"
   },
   {
    "duration": 11,
    "start_time": "2023-01-09T17:13:27.876Z"
   },
   {
    "duration": 10,
    "start_time": "2023-01-09T17:13:31.429Z"
   },
   {
    "duration": 971,
    "start_time": "2023-01-09T17:13:39.756Z"
   },
   {
    "duration": 691,
    "start_time": "2023-01-09T17:13:40.729Z"
   },
   {
    "duration": 41,
    "start_time": "2023-01-09T17:13:41.421Z"
   },
   {
    "duration": 252,
    "start_time": "2023-01-09T17:13:41.464Z"
   },
   {
    "duration": 16,
    "start_time": "2023-01-09T17:13:41.719Z"
   },
   {
    "duration": 30,
    "start_time": "2023-01-09T17:13:41.737Z"
   },
   {
    "duration": 143,
    "start_time": "2023-01-09T17:13:41.769Z"
   },
   {
    "duration": 12,
    "start_time": "2023-01-09T17:13:41.916Z"
   },
   {
    "duration": 42,
    "start_time": "2023-01-09T17:13:41.930Z"
   },
   {
    "duration": 19,
    "start_time": "2023-01-09T17:13:41.973Z"
   },
   {
    "duration": 464,
    "start_time": "2023-01-09T17:13:41.994Z"
   },
   {
    "duration": 3,
    "start_time": "2023-01-09T17:13:42.515Z"
   },
   {
    "duration": 19,
    "start_time": "2023-01-09T17:13:42.519Z"
   },
   {
    "duration": 17,
    "start_time": "2023-01-09T17:13:42.541Z"
   },
   {
    "duration": 5,
    "start_time": "2023-01-09T17:13:42.559Z"
   },
   {
    "duration": 55,
    "start_time": "2023-01-09T17:13:42.565Z"
   },
   {
    "duration": 7,
    "start_time": "2023-01-09T17:13:42.621Z"
   },
   {
    "duration": 24,
    "start_time": "2023-01-09T17:13:42.629Z"
   },
   {
    "duration": 71,
    "start_time": "2023-01-09T17:13:42.654Z"
   },
   {
    "duration": 15,
    "start_time": "2023-01-09T17:13:42.727Z"
   },
   {
    "duration": 496,
    "start_time": "2023-01-09T17:13:42.743Z"
   },
   {
    "duration": 191,
    "start_time": "2023-01-09T17:13:43.241Z"
   },
   {
    "duration": 7,
    "start_time": "2023-01-09T17:13:54.759Z"
   },
   {
    "duration": 11,
    "start_time": "2023-01-09T17:14:02.208Z"
   },
   {
    "duration": 11,
    "start_time": "2023-01-09T17:14:08.308Z"
   },
   {
    "duration": 8,
    "start_time": "2023-01-09T17:14:16.312Z"
   },
   {
    "duration": 0,
    "start_time": "2023-01-09T17:29:53.403Z"
   },
   {
    "duration": 1103,
    "start_time": "2023-01-09T17:29:53.548Z"
   },
   {
    "duration": 2079,
    "start_time": "2023-01-09T17:29:54.653Z"
   },
   {
    "duration": 53,
    "start_time": "2023-01-09T17:29:56.734Z"
   },
   {
    "duration": 270,
    "start_time": "2023-01-09T17:29:56.789Z"
   },
   {
    "duration": 23,
    "start_time": "2023-01-09T17:29:57.061Z"
   },
   {
    "duration": 37,
    "start_time": "2023-01-09T17:29:57.086Z"
   },
   {
    "duration": 144,
    "start_time": "2023-01-09T17:29:57.126Z"
   },
   {
    "duration": 13,
    "start_time": "2023-01-09T17:29:57.271Z"
   },
   {
    "duration": 54,
    "start_time": "2023-01-09T17:29:57.287Z"
   },
   {
    "duration": 17,
    "start_time": "2023-01-09T17:29:57.344Z"
   },
   {
    "duration": 294,
    "start_time": "2023-01-09T17:29:57.363Z"
   },
   {
    "duration": 3,
    "start_time": "2023-01-09T17:29:57.659Z"
   },
   {
    "duration": 12,
    "start_time": "2023-01-09T17:29:57.663Z"
   },
   {
    "duration": 19,
    "start_time": "2023-01-09T17:29:57.678Z"
   },
   {
    "duration": 25,
    "start_time": "2023-01-09T17:29:57.699Z"
   },
   {
    "duration": 8,
    "start_time": "2023-01-09T17:29:57.727Z"
   },
   {
    "duration": 10,
    "start_time": "2023-01-09T17:29:57.737Z"
   },
   {
    "duration": 33,
    "start_time": "2023-01-09T17:29:57.749Z"
   },
   {
    "duration": 52,
    "start_time": "2023-01-09T17:29:57.784Z"
   },
   {
    "duration": 21,
    "start_time": "2023-01-09T17:29:57.843Z"
   },
   {
    "duration": 274,
    "start_time": "2023-01-09T17:29:57.867Z"
   },
   {
    "duration": 71,
    "start_time": "2023-01-09T17:29:58.143Z"
   },
   {
    "duration": 0,
    "start_time": "2023-01-09T17:29:58.216Z"
   },
   {
    "duration": 3,
    "start_time": "2023-01-09T17:30:56.503Z"
   },
   {
    "duration": 7,
    "start_time": "2023-01-09T17:32:23.103Z"
   },
   {
    "duration": 16,
    "start_time": "2023-01-09T17:35:23.198Z"
   },
   {
    "duration": 15,
    "start_time": "2023-01-09T17:35:42.757Z"
   },
   {
    "duration": 46,
    "start_time": "2023-01-10T15:39:46.443Z"
   },
   {
    "duration": 1049,
    "start_time": "2023-01-10T15:39:57.232Z"
   },
   {
    "duration": 2937,
    "start_time": "2023-01-10T15:39:58.283Z"
   },
   {
    "duration": 47,
    "start_time": "2023-01-10T15:40:01.222Z"
   },
   {
    "duration": 261,
    "start_time": "2023-01-10T15:40:01.272Z"
   },
   {
    "duration": 18,
    "start_time": "2023-01-10T15:40:01.535Z"
   },
   {
    "duration": 32,
    "start_time": "2023-01-10T15:40:01.556Z"
   },
   {
    "duration": 162,
    "start_time": "2023-01-10T15:40:01.613Z"
   },
   {
    "duration": 16,
    "start_time": "2023-01-10T15:40:01.777Z"
   },
   {
    "duration": 56,
    "start_time": "2023-01-10T15:40:01.796Z"
   },
   {
    "duration": 27,
    "start_time": "2023-01-10T15:40:01.855Z"
   },
   {
    "duration": 287,
    "start_time": "2023-01-10T15:40:01.884Z"
   },
   {
    "duration": 4,
    "start_time": "2023-01-10T15:40:02.173Z"
   },
   {
    "duration": 26,
    "start_time": "2023-01-10T15:40:02.179Z"
   },
   {
    "duration": 20,
    "start_time": "2023-01-10T15:40:02.207Z"
   },
   {
    "duration": 6,
    "start_time": "2023-01-10T15:40:02.233Z"
   },
   {
    "duration": 8,
    "start_time": "2023-01-10T15:40:02.241Z"
   },
   {
    "duration": 10,
    "start_time": "2023-01-10T15:40:02.251Z"
   },
   {
    "duration": 29,
    "start_time": "2023-01-10T15:40:02.263Z"
   },
   {
    "duration": 37,
    "start_time": "2023-01-10T15:40:02.294Z"
   },
   {
    "duration": 17,
    "start_time": "2023-01-10T15:40:02.333Z"
   },
   {
    "duration": 280,
    "start_time": "2023-01-10T15:40:02.352Z"
   },
   {
    "duration": 4,
    "start_time": "2023-01-10T15:40:02.634Z"
   },
   {
    "duration": 14,
    "start_time": "2023-01-10T15:40:02.640Z"
   },
   {
    "duration": 9,
    "start_time": "2023-01-10T15:40:02.656Z"
   },
   {
    "duration": 18,
    "start_time": "2023-01-10T15:40:11.742Z"
   },
   {
    "duration": 21,
    "start_time": "2023-01-10T15:40:20.712Z"
   },
   {
    "duration": 1132,
    "start_time": "2023-01-10T15:40:30.529Z"
   },
   {
    "duration": 678,
    "start_time": "2023-01-10T15:40:31.663Z"
   },
   {
    "duration": 47,
    "start_time": "2023-01-10T15:40:32.343Z"
   },
   {
    "duration": 450,
    "start_time": "2023-01-10T15:40:32.392Z"
   },
   {
    "duration": 77,
    "start_time": "2023-01-10T15:40:32.845Z"
   },
   {
    "duration": 28,
    "start_time": "2023-01-10T15:40:32.924Z"
   },
   {
    "duration": 461,
    "start_time": "2023-01-10T15:40:32.953Z"
   },
   {
    "duration": 17,
    "start_time": "2023-01-10T15:40:33.416Z"
   },
   {
    "duration": 110,
    "start_time": "2023-01-10T15:40:33.435Z"
   },
   {
    "duration": 77,
    "start_time": "2023-01-10T15:40:33.547Z"
   },
   {
    "duration": 610,
    "start_time": "2023-01-10T15:40:33.626Z"
   },
   {
    "duration": 3,
    "start_time": "2023-01-10T15:40:34.238Z"
   },
   {
    "duration": 13,
    "start_time": "2023-01-10T15:40:34.243Z"
   },
   {
    "duration": 21,
    "start_time": "2023-01-10T15:40:34.312Z"
   },
   {
    "duration": 6,
    "start_time": "2023-01-10T15:40:34.335Z"
   },
   {
    "duration": 6,
    "start_time": "2023-01-10T15:40:34.343Z"
   },
   {
    "duration": 7,
    "start_time": "2023-01-10T15:40:34.351Z"
   },
   {
    "duration": 24,
    "start_time": "2023-01-10T15:40:34.412Z"
   },
   {
    "duration": 74,
    "start_time": "2023-01-10T15:40:34.438Z"
   },
   {
    "duration": 21,
    "start_time": "2023-01-10T15:40:34.514Z"
   },
   {
    "duration": 278,
    "start_time": "2023-01-10T15:40:34.537Z"
   },
   {
    "duration": 5,
    "start_time": "2023-01-10T15:40:34.817Z"
   },
   {
    "duration": 26,
    "start_time": "2023-01-10T15:40:34.824Z"
   },
   {
    "duration": 9,
    "start_time": "2023-01-10T15:40:34.852Z"
   },
   {
    "duration": 17,
    "start_time": "2023-01-10T15:42:42.109Z"
   },
   {
    "duration": 21,
    "start_time": "2023-01-10T15:43:36.501Z"
   },
   {
    "duration": 16,
    "start_time": "2023-01-10T15:45:13.358Z"
   },
   {
    "duration": 18,
    "start_time": "2023-01-10T15:46:03.853Z"
   },
   {
    "duration": 20,
    "start_time": "2023-01-10T15:46:20.397Z"
   },
   {
    "duration": 16,
    "start_time": "2023-01-10T15:46:30.445Z"
   },
   {
    "duration": 16,
    "start_time": "2023-01-10T15:46:48.381Z"
   },
   {
    "duration": 17,
    "start_time": "2023-01-10T15:46:52.985Z"
   },
   {
    "duration": 16,
    "start_time": "2023-01-10T15:46:57.398Z"
   },
   {
    "duration": 6,
    "start_time": "2023-01-10T15:48:03.029Z"
   },
   {
    "duration": 1071,
    "start_time": "2023-01-10T15:48:09.197Z"
   },
   {
    "duration": 786,
    "start_time": "2023-01-10T15:48:10.271Z"
   },
   {
    "duration": 155,
    "start_time": "2023-01-10T15:48:11.059Z"
   },
   {
    "duration": 539,
    "start_time": "2023-01-10T15:48:11.216Z"
   },
   {
    "duration": 69,
    "start_time": "2023-01-10T15:48:11.757Z"
   },
   {
    "duration": 89,
    "start_time": "2023-01-10T15:48:11.828Z"
   },
   {
    "duration": 316,
    "start_time": "2023-01-10T15:48:11.919Z"
   },
   {
    "duration": 17,
    "start_time": "2023-01-10T15:48:12.238Z"
   },
   {
    "duration": 39,
    "start_time": "2023-01-10T15:48:12.311Z"
   },
   {
    "duration": 73,
    "start_time": "2023-01-10T15:48:12.353Z"
   },
   {
    "duration": 616,
    "start_time": "2023-01-10T15:48:12.429Z"
   },
   {
    "duration": 3,
    "start_time": "2023-01-10T15:48:13.047Z"
   },
   {
    "duration": 65,
    "start_time": "2023-01-10T15:48:13.051Z"
   },
   {
    "duration": 19,
    "start_time": "2023-01-10T15:48:13.118Z"
   },
   {
    "duration": 6,
    "start_time": "2023-01-10T15:48:13.139Z"
   },
   {
    "duration": 65,
    "start_time": "2023-01-10T15:48:13.147Z"
   },
   {
    "duration": 4,
    "start_time": "2023-01-10T15:48:13.214Z"
   },
   {
    "duration": 25,
    "start_time": "2023-01-10T15:48:13.220Z"
   },
   {
    "duration": 69,
    "start_time": "2023-01-10T15:48:13.247Z"
   },
   {
    "duration": 8,
    "start_time": "2023-01-10T15:48:13.319Z"
   },
   {
    "duration": 711,
    "start_time": "2023-01-10T15:48:13.329Z"
   },
   {
    "duration": 8,
    "start_time": "2023-01-10T15:48:14.043Z"
   },
   {
    "duration": 10,
    "start_time": "2023-01-10T15:48:14.054Z"
   },
   {
    "duration": 61,
    "start_time": "2023-01-10T15:48:14.066Z"
   },
   {
    "duration": 1333,
    "start_time": "2023-01-10T15:49:49.704Z"
   },
   {
    "duration": 1522,
    "start_time": "2023-01-10T15:49:51.040Z"
   },
   {
    "duration": 87,
    "start_time": "2023-01-10T15:49:52.564Z"
   },
   {
    "duration": 286,
    "start_time": "2023-01-10T15:49:52.654Z"
   },
   {
    "duration": 17,
    "start_time": "2023-01-10T15:49:52.941Z"
   },
   {
    "duration": 26,
    "start_time": "2023-01-10T15:49:52.960Z"
   },
   {
    "duration": 171,
    "start_time": "2023-01-10T15:49:52.988Z"
   },
   {
    "duration": 14,
    "start_time": "2023-01-10T15:49:53.161Z"
   },
   {
    "duration": 81,
    "start_time": "2023-01-10T15:49:53.177Z"
   },
   {
    "duration": 21,
    "start_time": "2023-01-10T15:49:53.262Z"
   },
   {
    "duration": 278,
    "start_time": "2023-01-10T15:49:53.285Z"
   },
   {
    "duration": 3,
    "start_time": "2023-01-10T15:49:53.566Z"
   },
   {
    "duration": 13,
    "start_time": "2023-01-10T15:49:53.570Z"
   },
   {
    "duration": 33,
    "start_time": "2023-01-10T15:49:53.585Z"
   },
   {
    "duration": 6,
    "start_time": "2023-01-10T15:49:53.620Z"
   },
   {
    "duration": 6,
    "start_time": "2023-01-10T15:49:53.629Z"
   },
   {
    "duration": 5,
    "start_time": "2023-01-10T15:49:53.637Z"
   },
   {
    "duration": 25,
    "start_time": "2023-01-10T15:49:53.644Z"
   },
   {
    "duration": 50,
    "start_time": "2023-01-10T15:49:53.671Z"
   },
   {
    "duration": 6,
    "start_time": "2023-01-10T15:49:53.722Z"
   },
   {
    "duration": 282,
    "start_time": "2023-01-10T15:49:53.730Z"
   },
   {
    "duration": 6,
    "start_time": "2023-01-10T15:49:54.015Z"
   },
   {
    "duration": 11,
    "start_time": "2023-01-10T15:49:54.023Z"
   },
   {
    "duration": 6,
    "start_time": "2023-01-10T15:49:54.036Z"
   },
   {
    "duration": 22,
    "start_time": "2023-01-10T15:50:46.358Z"
   },
   {
    "duration": 1121,
    "start_time": "2023-01-10T15:50:51.404Z"
   },
   {
    "duration": 759,
    "start_time": "2023-01-10T15:50:52.527Z"
   },
   {
    "duration": 52,
    "start_time": "2023-01-10T15:50:53.288Z"
   },
   {
    "duration": 505,
    "start_time": "2023-01-10T15:50:53.343Z"
   },
   {
    "duration": 75,
    "start_time": "2023-01-10T15:50:53.850Z"
   },
   {
    "duration": 90,
    "start_time": "2023-01-10T15:50:53.927Z"
   },
   {
    "duration": 337,
    "start_time": "2023-01-10T15:50:54.019Z"
   },
   {
    "duration": 70,
    "start_time": "2023-01-10T15:50:54.358Z"
   },
   {
    "duration": 93,
    "start_time": "2023-01-10T15:50:54.430Z"
   },
   {
    "duration": 87,
    "start_time": "2023-01-10T15:50:54.525Z"
   },
   {
    "duration": 651,
    "start_time": "2023-01-10T15:50:54.615Z"
   },
   {
    "duration": 4,
    "start_time": "2023-01-10T15:50:55.268Z"
   },
   {
    "duration": 11,
    "start_time": "2023-01-10T15:50:55.274Z"
   },
   {
    "duration": 21,
    "start_time": "2023-01-10T15:50:55.312Z"
   },
   {
    "duration": 5,
    "start_time": "2023-01-10T15:50:55.335Z"
   },
   {
    "duration": 6,
    "start_time": "2023-01-10T15:50:55.342Z"
   },
   {
    "duration": 5,
    "start_time": "2023-01-10T15:50:55.350Z"
   },
   {
    "duration": 24,
    "start_time": "2023-01-10T15:50:55.357Z"
   },
   {
    "duration": 26,
    "start_time": "2023-01-10T15:50:55.413Z"
   },
   {
    "duration": 18,
    "start_time": "2023-01-10T15:50:55.441Z"
   },
   {
    "duration": 262,
    "start_time": "2023-01-10T15:50:55.460Z"
   },
   {
    "duration": 6,
    "start_time": "2023-01-10T15:50:55.724Z"
   },
   {
    "duration": 9,
    "start_time": "2023-01-10T15:50:55.734Z"
   },
   {
    "duration": 8,
    "start_time": "2023-01-10T15:50:55.745Z"
   },
   {
    "duration": 14,
    "start_time": "2023-01-10T15:51:22.313Z"
   },
   {
    "duration": 1049,
    "start_time": "2023-01-10T15:51:27.336Z"
   },
   {
    "duration": 1060,
    "start_time": "2023-01-10T15:51:28.388Z"
   },
   {
    "duration": 174,
    "start_time": "2023-01-10T15:51:29.450Z"
   },
   {
    "duration": 693,
    "start_time": "2023-01-10T15:51:29.627Z"
   },
   {
    "duration": 34,
    "start_time": "2023-01-10T15:51:30.321Z"
   },
   {
    "duration": 81,
    "start_time": "2023-01-10T15:51:30.357Z"
   },
   {
    "duration": 298,
    "start_time": "2023-01-10T15:51:30.439Z"
   },
   {
    "duration": 72,
    "start_time": "2023-01-10T15:51:30.740Z"
   },
   {
    "duration": 39,
    "start_time": "2023-01-10T15:51:30.815Z"
   },
   {
    "duration": 20,
    "start_time": "2023-01-10T15:51:30.914Z"
   },
   {
    "duration": 345,
    "start_time": "2023-01-10T15:51:30.936Z"
   },
   {
    "duration": 3,
    "start_time": "2023-01-10T15:51:31.283Z"
   },
   {
    "duration": 32,
    "start_time": "2023-01-10T15:51:31.289Z"
   },
   {
    "duration": 22,
    "start_time": "2023-01-10T15:51:31.323Z"
   },
   {
    "duration": 8,
    "start_time": "2023-01-10T15:51:31.348Z"
   },
   {
    "duration": 45,
    "start_time": "2023-01-10T15:51:31.358Z"
   },
   {
    "duration": 17,
    "start_time": "2023-01-10T15:51:31.405Z"
   },
   {
    "duration": 42,
    "start_time": "2023-01-10T15:51:31.425Z"
   },
   {
    "duration": 35,
    "start_time": "2023-01-10T15:51:31.469Z"
   },
   {
    "duration": 18,
    "start_time": "2023-01-10T15:51:31.506Z"
   },
   {
    "duration": 295,
    "start_time": "2023-01-10T15:51:31.526Z"
   },
   {
    "duration": 5,
    "start_time": "2023-01-10T15:51:31.823Z"
   },
   {
    "duration": 33,
    "start_time": "2023-01-10T15:51:31.830Z"
   },
   {
    "duration": 38,
    "start_time": "2023-01-10T15:51:31.865Z"
   },
   {
    "duration": 22,
    "start_time": "2023-01-10T15:51:41.701Z"
   },
   {
    "duration": 7,
    "start_time": "2023-01-10T15:56:02.456Z"
   },
   {
    "duration": 124,
    "start_time": "2023-01-10T16:24:23.430Z"
   },
   {
    "duration": 10,
    "start_time": "2023-01-10T16:24:31.190Z"
   },
   {
    "duration": 15,
    "start_time": "2023-01-10T16:24:44.000Z"
   },
   {
    "duration": 5,
    "start_time": "2023-01-10T16:25:17.936Z"
   },
   {
    "duration": 5,
    "start_time": "2023-01-10T16:26:49.607Z"
   },
   {
    "duration": 10,
    "start_time": "2023-01-10T16:26:51.850Z"
   },
   {
    "duration": 5,
    "start_time": "2023-01-10T16:29:15.703Z"
   },
   {
    "duration": 704,
    "start_time": "2023-01-10T17:04:43.168Z"
   },
   {
    "duration": 26,
    "start_time": "2023-01-10T17:05:16.067Z"
   },
   {
    "duration": 28,
    "start_time": "2023-01-10T17:46:42.319Z"
   },
   {
    "duration": 16,
    "start_time": "2023-01-10T17:48:57.705Z"
   },
   {
    "duration": 11,
    "start_time": "2023-01-10T17:54:13.062Z"
   },
   {
    "duration": 3,
    "start_time": "2023-01-10T17:54:14.702Z"
   },
   {
    "duration": 3,
    "start_time": "2023-01-10T17:58:06.824Z"
   },
   {
    "duration": 12,
    "start_time": "2023-01-10T18:00:44.517Z"
   },
   {
    "duration": 3,
    "start_time": "2023-01-10T18:00:49.363Z"
   },
   {
    "duration": 56,
    "start_time": "2023-01-10T18:08:44.608Z"
   },
   {
    "duration": 3,
    "start_time": "2023-01-10T18:14:05.608Z"
   },
   {
    "duration": 8,
    "start_time": "2023-01-10T18:16:01.552Z"
   },
   {
    "duration": 26,
    "start_time": "2023-01-10T18:16:03.218Z"
   },
   {
    "duration": 1104,
    "start_time": "2023-01-10T18:16:25.846Z"
   },
   {
    "duration": 717,
    "start_time": "2023-01-10T18:16:26.953Z"
   },
   {
    "duration": 62,
    "start_time": "2023-01-10T18:16:27.672Z"
   },
   {
    "duration": 275,
    "start_time": "2023-01-10T18:16:27.737Z"
   },
   {
    "duration": 26,
    "start_time": "2023-01-10T18:16:28.017Z"
   },
   {
    "duration": 25,
    "start_time": "2023-01-10T18:16:28.045Z"
   },
   {
    "duration": 178,
    "start_time": "2023-01-10T18:16:28.072Z"
   },
   {
    "duration": 12,
    "start_time": "2023-01-10T18:16:28.252Z"
   },
   {
    "duration": 65,
    "start_time": "2023-01-10T18:16:28.266Z"
   },
   {
    "duration": 25,
    "start_time": "2023-01-10T18:16:28.332Z"
   },
   {
    "duration": 307,
    "start_time": "2023-01-10T18:16:28.359Z"
   },
   {
    "duration": 3,
    "start_time": "2023-01-10T18:16:28.668Z"
   },
   {
    "duration": 13,
    "start_time": "2023-01-10T18:16:28.672Z"
   },
   {
    "duration": 37,
    "start_time": "2023-01-10T18:16:28.689Z"
   },
   {
    "duration": 8,
    "start_time": "2023-01-10T18:16:28.729Z"
   },
   {
    "duration": 6,
    "start_time": "2023-01-10T18:16:28.738Z"
   },
   {
    "duration": 4,
    "start_time": "2023-01-10T18:16:28.745Z"
   },
   {
    "duration": 18,
    "start_time": "2023-01-10T18:16:28.751Z"
   },
   {
    "duration": 48,
    "start_time": "2023-01-10T18:16:28.771Z"
   },
   {
    "duration": 23,
    "start_time": "2023-01-10T18:16:28.822Z"
   },
   {
    "duration": 253,
    "start_time": "2023-01-10T18:16:28.846Z"
   },
   {
    "duration": 15,
    "start_time": "2023-01-10T18:16:29.101Z"
   },
   {
    "duration": 17,
    "start_time": "2023-01-10T18:16:29.118Z"
   },
   {
    "duration": 26,
    "start_time": "2023-01-10T18:16:29.138Z"
   },
   {
    "duration": 16,
    "start_time": "2023-01-10T18:16:29.166Z"
   },
   {
    "duration": 3,
    "start_time": "2023-01-10T18:16:29.183Z"
   },
   {
    "duration": 31,
    "start_time": "2023-01-10T18:16:29.188Z"
   },
   {
    "duration": 4,
    "start_time": "2023-01-10T18:16:29.222Z"
   },
   {
    "duration": 21,
    "start_time": "2023-01-10T18:16:29.228Z"
   },
   {
    "duration": 151,
    "start_time": "2023-01-10T18:16:29.251Z"
   },
   {
    "duration": 28,
    "start_time": "2023-01-10T18:18:02.490Z"
   },
   {
    "duration": 18,
    "start_time": "2023-01-10T18:21:32.595Z"
   },
   {
    "duration": 9,
    "start_time": "2023-01-10T18:22:26.426Z"
   },
   {
    "duration": 998,
    "start_time": "2023-01-10T18:22:34.635Z"
   },
   {
    "duration": 654,
    "start_time": "2023-01-10T18:22:35.635Z"
   },
   {
    "duration": 51,
    "start_time": "2023-01-10T18:22:36.291Z"
   },
   {
    "duration": 272,
    "start_time": "2023-01-10T18:22:36.344Z"
   },
   {
    "duration": 20,
    "start_time": "2023-01-10T18:22:36.618Z"
   },
   {
    "duration": 37,
    "start_time": "2023-01-10T18:22:36.640Z"
   },
   {
    "duration": 181,
    "start_time": "2023-01-10T18:22:36.679Z"
   },
   {
    "duration": 13,
    "start_time": "2023-01-10T18:22:36.862Z"
   },
   {
    "duration": 49,
    "start_time": "2023-01-10T18:22:36.877Z"
   },
   {
    "duration": 17,
    "start_time": "2023-01-10T18:22:36.929Z"
   },
   {
    "duration": 288,
    "start_time": "2023-01-10T18:22:36.947Z"
   },
   {
    "duration": 3,
    "start_time": "2023-01-10T18:22:37.236Z"
   },
   {
    "duration": 22,
    "start_time": "2023-01-10T18:22:37.240Z"
   },
   {
    "duration": 18,
    "start_time": "2023-01-10T18:22:37.263Z"
   },
   {
    "duration": 5,
    "start_time": "2023-01-10T18:22:37.282Z"
   },
   {
    "duration": 25,
    "start_time": "2023-01-10T18:22:37.288Z"
   },
   {
    "duration": 14,
    "start_time": "2023-01-10T18:22:37.317Z"
   },
   {
    "duration": 24,
    "start_time": "2023-01-10T18:22:37.333Z"
   },
   {
    "duration": 24,
    "start_time": "2023-01-10T18:22:37.359Z"
   },
   {
    "duration": 27,
    "start_time": "2023-01-10T18:22:37.385Z"
   },
   {
    "duration": 233,
    "start_time": "2023-01-10T18:22:37.414Z"
   },
   {
    "duration": 4,
    "start_time": "2023-01-10T18:22:37.648Z"
   },
   {
    "duration": 17,
    "start_time": "2023-01-10T18:22:37.653Z"
   },
   {
    "duration": 56,
    "start_time": "2023-01-10T18:22:37.671Z"
   },
   {
    "duration": 19,
    "start_time": "2023-01-10T18:22:37.728Z"
   },
   {
    "duration": 3,
    "start_time": "2023-01-10T18:22:37.749Z"
   },
   {
    "duration": 29,
    "start_time": "2023-01-10T18:22:37.754Z"
   },
   {
    "duration": 17,
    "start_time": "2023-01-10T18:22:37.786Z"
   },
   {
    "duration": 24,
    "start_time": "2023-01-10T18:22:37.804Z"
   },
   {
    "duration": 139,
    "start_time": "2023-01-10T18:22:37.830Z"
   },
   {
    "duration": 21,
    "start_time": "2023-01-10T18:22:45.155Z"
   },
   {
    "duration": 3,
    "start_time": "2023-01-10T18:33:17.051Z"
   },
   {
    "duration": 1010,
    "start_time": "2023-01-10T18:33:23.439Z"
   },
   {
    "duration": 1399,
    "start_time": "2023-01-10T18:33:24.451Z"
   },
   {
    "duration": 94,
    "start_time": "2023-01-10T18:33:25.852Z"
   },
   {
    "duration": 330,
    "start_time": "2023-01-10T18:33:25.948Z"
   },
   {
    "duration": 17,
    "start_time": "2023-01-10T18:33:26.280Z"
   },
   {
    "duration": 37,
    "start_time": "2023-01-10T18:33:26.298Z"
   },
   {
    "duration": 190,
    "start_time": "2023-01-10T18:33:26.337Z"
   },
   {
    "duration": 16,
    "start_time": "2023-01-10T18:33:26.529Z"
   },
   {
    "duration": 67,
    "start_time": "2023-01-10T18:33:26.549Z"
   },
   {
    "duration": 16,
    "start_time": "2023-01-10T18:33:26.619Z"
   },
   {
    "duration": 262,
    "start_time": "2023-01-10T18:33:26.636Z"
   },
   {
    "duration": 2,
    "start_time": "2023-01-10T18:33:26.900Z"
   },
   {
    "duration": 14,
    "start_time": "2023-01-10T18:33:26.903Z"
   },
   {
    "duration": 18,
    "start_time": "2023-01-10T18:33:26.919Z"
   },
   {
    "duration": 5,
    "start_time": "2023-01-10T18:33:26.939Z"
   },
   {
    "duration": 8,
    "start_time": "2023-01-10T18:33:26.945Z"
   },
   {
    "duration": 6,
    "start_time": "2023-01-10T18:33:26.954Z"
   },
   {
    "duration": 17,
    "start_time": "2023-01-10T18:33:26.961Z"
   },
   {
    "duration": 44,
    "start_time": "2023-01-10T18:33:26.980Z"
   },
   {
    "duration": 15,
    "start_time": "2023-01-10T18:33:27.026Z"
   },
   {
    "duration": 237,
    "start_time": "2023-01-10T18:33:27.043Z"
   },
   {
    "duration": 4,
    "start_time": "2023-01-10T18:33:27.282Z"
   },
   {
    "duration": 15,
    "start_time": "2023-01-10T18:33:27.287Z"
   },
   {
    "duration": 39,
    "start_time": "2023-01-10T18:33:27.304Z"
   },
   {
    "duration": 15,
    "start_time": "2023-01-10T18:33:27.345Z"
   },
   {
    "duration": 3,
    "start_time": "2023-01-10T18:33:27.361Z"
   },
   {
    "duration": 13,
    "start_time": "2023-01-10T18:33:27.366Z"
   },
   {
    "duration": 3,
    "start_time": "2023-01-10T18:33:27.383Z"
   },
   {
    "duration": 32,
    "start_time": "2023-01-10T18:33:27.387Z"
   },
   {
    "duration": 5,
    "start_time": "2023-01-10T18:33:27.421Z"
   },
   {
    "duration": 99,
    "start_time": "2023-01-10T18:33:37.945Z"
   },
   {
    "duration": 1071,
    "start_time": "2023-01-10T18:33:45.916Z"
   },
   {
    "duration": 670,
    "start_time": "2023-01-10T18:33:46.989Z"
   },
   {
    "duration": 46,
    "start_time": "2023-01-10T18:33:47.660Z"
   },
   {
    "duration": 243,
    "start_time": "2023-01-10T18:33:47.713Z"
   },
   {
    "duration": 23,
    "start_time": "2023-01-10T18:33:47.957Z"
   },
   {
    "duration": 36,
    "start_time": "2023-01-10T18:33:47.982Z"
   },
   {
    "duration": 133,
    "start_time": "2023-01-10T18:33:48.019Z"
   },
   {
    "duration": 67,
    "start_time": "2023-01-10T18:33:48.154Z"
   },
   {
    "duration": 104,
    "start_time": "2023-01-10T18:33:48.224Z"
   },
   {
    "duration": 19,
    "start_time": "2023-01-10T18:33:48.331Z"
   },
   {
    "duration": 570,
    "start_time": "2023-01-10T18:33:48.352Z"
   },
   {
    "duration": 3,
    "start_time": "2023-01-10T18:33:48.924Z"
   },
   {
    "duration": 17,
    "start_time": "2023-01-10T18:33:48.928Z"
   },
   {
    "duration": 70,
    "start_time": "2023-01-10T18:33:48.947Z"
   },
   {
    "duration": 6,
    "start_time": "2023-01-10T18:33:49.019Z"
   },
   {
    "duration": 6,
    "start_time": "2023-01-10T18:33:49.027Z"
   },
   {
    "duration": 4,
    "start_time": "2023-01-10T18:33:49.034Z"
   },
   {
    "duration": 72,
    "start_time": "2023-01-10T18:33:49.040Z"
   },
   {
    "duration": 21,
    "start_time": "2023-01-10T18:33:49.114Z"
   },
   {
    "duration": 18,
    "start_time": "2023-01-10T18:33:49.136Z"
   },
   {
    "duration": 496,
    "start_time": "2023-01-10T18:33:49.156Z"
   },
   {
    "duration": 4,
    "start_time": "2023-01-10T18:33:49.654Z"
   },
   {
    "duration": 58,
    "start_time": "2023-01-10T18:33:49.660Z"
   },
   {
    "duration": 34,
    "start_time": "2023-01-10T18:33:49.720Z"
   },
   {
    "duration": 66,
    "start_time": "2023-01-10T18:33:49.756Z"
   },
   {
    "duration": 3,
    "start_time": "2023-01-10T18:33:49.824Z"
   },
   {
    "duration": 9,
    "start_time": "2023-01-10T18:33:49.829Z"
   },
   {
    "duration": 7,
    "start_time": "2023-01-10T18:33:49.842Z"
   },
   {
    "duration": 66,
    "start_time": "2023-01-10T18:33:49.851Z"
   },
   {
    "duration": 3,
    "start_time": "2023-01-10T18:33:49.919Z"
   },
   {
    "duration": 118,
    "start_time": "2023-01-10T18:34:22.784Z"
   },
   {
    "duration": 27,
    "start_time": "2023-01-10T18:36:23.417Z"
   },
   {
    "duration": 1158,
    "start_time": "2023-01-10T18:37:06.441Z"
   },
   {
    "duration": 776,
    "start_time": "2023-01-10T18:37:07.601Z"
   },
   {
    "duration": 62,
    "start_time": "2023-01-10T18:37:08.378Z"
   },
   {
    "duration": 316,
    "start_time": "2023-01-10T18:37:08.442Z"
   },
   {
    "duration": 23,
    "start_time": "2023-01-10T18:37:08.761Z"
   },
   {
    "duration": 57,
    "start_time": "2023-01-10T18:37:08.786Z"
   },
   {
    "duration": 191,
    "start_time": "2023-01-10T18:37:08.846Z"
   },
   {
    "duration": 14,
    "start_time": "2023-01-10T18:37:09.039Z"
   },
   {
    "duration": 182,
    "start_time": "2023-01-10T18:37:09.054Z"
   },
   {
    "duration": 24,
    "start_time": "2023-01-10T18:37:09.237Z"
   },
   {
    "duration": 774,
    "start_time": "2023-01-10T18:37:09.264Z"
   },
   {
    "duration": 4,
    "start_time": "2023-01-10T18:37:10.040Z"
   },
   {
    "duration": 38,
    "start_time": "2023-01-10T18:37:10.045Z"
   },
   {
    "duration": 24,
    "start_time": "2023-01-10T18:37:10.118Z"
   },
   {
    "duration": 25,
    "start_time": "2023-01-10T18:37:10.144Z"
   },
   {
    "duration": 21,
    "start_time": "2023-01-10T18:37:10.213Z"
   },
   {
    "duration": 18,
    "start_time": "2023-01-10T18:37:10.236Z"
   },
   {
    "duration": 58,
    "start_time": "2023-01-10T18:37:10.256Z"
   },
   {
    "duration": 27,
    "start_time": "2023-01-10T18:37:10.316Z"
   },
   {
    "duration": 77,
    "start_time": "2023-01-10T18:37:10.345Z"
   },
   {
    "duration": 629,
    "start_time": "2023-01-10T18:37:10.424Z"
   },
   {
    "duration": 65,
    "start_time": "2023-01-10T18:37:11.055Z"
   },
   {
    "duration": 16,
    "start_time": "2023-01-10T18:37:11.122Z"
   },
   {
    "duration": 99,
    "start_time": "2023-01-10T18:37:11.141Z"
   },
   {
    "duration": 17,
    "start_time": "2023-01-10T18:37:11.242Z"
   },
   {
    "duration": 4,
    "start_time": "2023-01-10T18:37:11.311Z"
   },
   {
    "duration": 48,
    "start_time": "2023-01-10T18:37:11.318Z"
   },
   {
    "duration": 16,
    "start_time": "2023-01-10T18:37:11.368Z"
   },
   {
    "duration": 35,
    "start_time": "2023-01-10T18:37:11.386Z"
   },
   {
    "duration": 148,
    "start_time": "2023-01-10T18:37:11.424Z"
   },
   {
    "duration": 7,
    "start_time": "2023-01-10T18:37:30.155Z"
   },
   {
    "duration": 1909,
    "start_time": "2023-01-10T18:38:03.041Z"
   },
   {
    "duration": 1575,
    "start_time": "2023-01-10T18:38:04.952Z"
   },
   {
    "duration": 128,
    "start_time": "2023-01-10T18:38:06.529Z"
   },
   {
    "duration": 673,
    "start_time": "2023-01-10T18:38:06.660Z"
   },
   {
    "duration": 76,
    "start_time": "2023-01-10T18:38:07.336Z"
   },
   {
    "duration": 40,
    "start_time": "2023-01-10T18:38:07.415Z"
   },
   {
    "duration": 254,
    "start_time": "2023-01-10T18:38:07.512Z"
   },
   {
    "duration": 13,
    "start_time": "2023-01-10T18:38:07.768Z"
   },
   {
    "duration": 53,
    "start_time": "2023-01-10T18:38:07.783Z"
   },
   {
    "duration": 17,
    "start_time": "2023-01-10T18:38:07.837Z"
   },
   {
    "duration": 314,
    "start_time": "2023-01-10T18:38:07.856Z"
   },
   {
    "duration": 5,
    "start_time": "2023-01-10T18:38:08.172Z"
   },
   {
    "duration": 16,
    "start_time": "2023-01-10T18:38:08.179Z"
   },
   {
    "duration": 34,
    "start_time": "2023-01-10T18:38:08.200Z"
   },
   {
    "duration": 7,
    "start_time": "2023-01-10T18:38:08.236Z"
   },
   {
    "duration": 10,
    "start_time": "2023-01-10T18:38:08.245Z"
   },
   {
    "duration": 10,
    "start_time": "2023-01-10T18:38:08.256Z"
   },
   {
    "duration": 30,
    "start_time": "2023-01-10T18:38:08.268Z"
   },
   {
    "duration": 20,
    "start_time": "2023-01-10T18:38:08.313Z"
   },
   {
    "duration": 20,
    "start_time": "2023-01-10T18:38:08.335Z"
   },
   {
    "duration": 270,
    "start_time": "2023-01-10T18:38:08.357Z"
   },
   {
    "duration": 4,
    "start_time": "2023-01-10T18:38:08.630Z"
   },
   {
    "duration": 23,
    "start_time": "2023-01-10T18:38:08.638Z"
   },
   {
    "duration": 37,
    "start_time": "2023-01-10T18:38:08.664Z"
   },
   {
    "duration": 22,
    "start_time": "2023-01-10T18:38:08.703Z"
   },
   {
    "duration": 4,
    "start_time": "2023-01-10T18:38:08.726Z"
   },
   {
    "duration": 18,
    "start_time": "2023-01-10T18:38:08.732Z"
   },
   {
    "duration": 13,
    "start_time": "2023-01-10T18:38:08.751Z"
   },
   {
    "duration": 18,
    "start_time": "2023-01-10T18:38:08.767Z"
   },
   {
    "duration": 135,
    "start_time": "2023-01-10T18:38:08.787Z"
   },
   {
    "duration": 20,
    "start_time": "2023-01-10T18:39:21.091Z"
   },
   {
    "duration": 26,
    "start_time": "2023-01-10T18:49:57.362Z"
   },
   {
    "duration": 38,
    "start_time": "2023-01-10T18:50:50.719Z"
   },
   {
    "duration": 52,
    "start_time": "2023-01-10T18:54:25.162Z"
   },
   {
    "duration": 13,
    "start_time": "2023-01-10T19:45:33.470Z"
   },
   {
    "duration": 77,
    "start_time": "2023-01-10T19:45:49.354Z"
   },
   {
    "duration": 82,
    "start_time": "2023-01-10T19:46:18.719Z"
   },
   {
    "duration": 74,
    "start_time": "2023-01-10T19:46:45.806Z"
   },
   {
    "duration": 130,
    "start_time": "2023-01-10T19:47:39.921Z"
   },
   {
    "duration": 200,
    "start_time": "2023-01-10T19:48:06.533Z"
   },
   {
    "duration": 981,
    "start_time": "2023-01-10T19:48:21.052Z"
   },
   {
    "duration": 681,
    "start_time": "2023-01-10T19:48:22.034Z"
   },
   {
    "duration": 41,
    "start_time": "2023-01-10T19:48:22.717Z"
   },
   {
    "duration": 244,
    "start_time": "2023-01-10T19:48:22.760Z"
   },
   {
    "duration": 16,
    "start_time": "2023-01-10T19:48:23.006Z"
   },
   {
    "duration": 22,
    "start_time": "2023-01-10T19:48:23.024Z"
   },
   {
    "duration": 153,
    "start_time": "2023-01-10T19:48:23.047Z"
   },
   {
    "duration": 13,
    "start_time": "2023-01-10T19:48:23.201Z"
   },
   {
    "duration": 35,
    "start_time": "2023-01-10T19:48:23.215Z"
   },
   {
    "duration": 17,
    "start_time": "2023-01-10T19:48:23.252Z"
   },
   {
    "duration": 291,
    "start_time": "2023-01-10T19:48:23.270Z"
   },
   {
    "duration": 3,
    "start_time": "2023-01-10T19:48:23.562Z"
   },
   {
    "duration": 13,
    "start_time": "2023-01-10T19:48:23.567Z"
   },
   {
    "duration": 31,
    "start_time": "2023-01-10T19:48:23.582Z"
   },
   {
    "duration": 5,
    "start_time": "2023-01-10T19:48:23.615Z"
   },
   {
    "duration": 9,
    "start_time": "2023-01-10T19:48:23.622Z"
   },
   {
    "duration": 12,
    "start_time": "2023-01-10T19:48:23.633Z"
   },
   {
    "duration": 37,
    "start_time": "2023-01-10T19:48:23.648Z"
   },
   {
    "duration": 21,
    "start_time": "2023-01-10T19:48:23.687Z"
   },
   {
    "duration": 16,
    "start_time": "2023-01-10T19:48:23.710Z"
   },
   {
    "duration": 239,
    "start_time": "2023-01-10T19:48:23.727Z"
   },
   {
    "duration": 154,
    "start_time": "2023-01-10T19:48:23.968Z"
   },
   {
    "duration": 0,
    "start_time": "2023-01-10T19:48:24.125Z"
   },
   {
    "duration": 0,
    "start_time": "2023-01-10T19:48:24.126Z"
   },
   {
    "duration": 0,
    "start_time": "2023-01-10T19:48:24.127Z"
   },
   {
    "duration": 0,
    "start_time": "2023-01-10T19:48:24.129Z"
   },
   {
    "duration": 0,
    "start_time": "2023-01-10T19:48:24.130Z"
   },
   {
    "duration": 0,
    "start_time": "2023-01-10T19:48:24.132Z"
   },
   {
    "duration": 0,
    "start_time": "2023-01-10T19:48:24.133Z"
   },
   {
    "duration": 0,
    "start_time": "2023-01-10T19:48:24.134Z"
   },
   {
    "duration": 0,
    "start_time": "2023-01-10T19:48:24.136Z"
   },
   {
    "duration": 772,
    "start_time": "2023-01-10T19:50:17.052Z"
   },
   {
    "duration": 1147,
    "start_time": "2023-01-10T19:50:37.403Z"
   },
   {
    "duration": 1392,
    "start_time": "2023-01-10T19:50:38.552Z"
   },
   {
    "duration": 95,
    "start_time": "2023-01-10T19:50:39.945Z"
   },
   {
    "duration": 286,
    "start_time": "2023-01-10T19:50:40.042Z"
   },
   {
    "duration": 18,
    "start_time": "2023-01-10T19:50:40.331Z"
   },
   {
    "duration": 25,
    "start_time": "2023-01-10T19:50:40.350Z"
   },
   {
    "duration": 154,
    "start_time": "2023-01-10T19:50:40.377Z"
   },
   {
    "duration": 12,
    "start_time": "2023-01-10T19:50:40.533Z"
   },
   {
    "duration": 37,
    "start_time": "2023-01-10T19:50:40.547Z"
   },
   {
    "duration": 39,
    "start_time": "2023-01-10T19:50:40.586Z"
   },
   {
    "duration": 276,
    "start_time": "2023-01-10T19:50:40.627Z"
   },
   {
    "duration": 8,
    "start_time": "2023-01-10T19:50:40.905Z"
   },
   {
    "duration": 10,
    "start_time": "2023-01-10T19:50:40.915Z"
   },
   {
    "duration": 19,
    "start_time": "2023-01-10T19:50:40.928Z"
   },
   {
    "duration": 5,
    "start_time": "2023-01-10T19:50:40.948Z"
   },
   {
    "duration": 9,
    "start_time": "2023-01-10T19:50:40.955Z"
   },
   {
    "duration": 5,
    "start_time": "2023-01-10T19:50:40.965Z"
   },
   {
    "duration": 43,
    "start_time": "2023-01-10T19:50:40.972Z"
   },
   {
    "duration": 20,
    "start_time": "2023-01-10T19:50:41.017Z"
   },
   {
    "duration": 17,
    "start_time": "2023-01-10T19:50:41.039Z"
   },
   {
    "duration": 270,
    "start_time": "2023-01-10T19:50:41.058Z"
   },
   {
    "duration": 857,
    "start_time": "2023-01-10T19:50:41.330Z"
   },
   {
    "duration": 0,
    "start_time": "2023-01-10T19:50:42.189Z"
   },
   {
    "duration": 0,
    "start_time": "2023-01-10T19:50:42.205Z"
   },
   {
    "duration": 0,
    "start_time": "2023-01-10T19:50:42.207Z"
   },
   {
    "duration": 0,
    "start_time": "2023-01-10T19:50:42.208Z"
   },
   {
    "duration": 0,
    "start_time": "2023-01-10T19:50:42.210Z"
   },
   {
    "duration": 0,
    "start_time": "2023-01-10T19:50:42.211Z"
   },
   {
    "duration": 0,
    "start_time": "2023-01-10T19:50:42.212Z"
   },
   {
    "duration": 0,
    "start_time": "2023-01-10T19:50:42.213Z"
   },
   {
    "duration": 0,
    "start_time": "2023-01-10T19:50:42.214Z"
   },
   {
    "duration": 10,
    "start_time": "2023-01-10T19:51:15.854Z"
   },
   {
    "duration": 74,
    "start_time": "2023-01-10T19:56:59.537Z"
   },
   {
    "duration": 11,
    "start_time": "2023-01-10T19:57:34.384Z"
   },
   {
    "duration": 6,
    "start_time": "2023-01-10T19:57:38.370Z"
   },
   {
    "duration": 81,
    "start_time": "2023-01-10T19:57:52.401Z"
   },
   {
    "duration": 85,
    "start_time": "2023-01-10T19:58:21.397Z"
   },
   {
    "duration": 80,
    "start_time": "2023-01-10T19:58:57.121Z"
   },
   {
    "duration": 84,
    "start_time": "2023-01-10T19:59:20.196Z"
   },
   {
    "duration": 1181,
    "start_time": "2023-01-11T11:17:30.157Z"
   },
   {
    "duration": 3162,
    "start_time": "2023-01-11T11:17:31.341Z"
   },
   {
    "duration": 49,
    "start_time": "2023-01-11T11:17:34.505Z"
   },
   {
    "duration": 294,
    "start_time": "2023-01-11T11:17:34.557Z"
   },
   {
    "duration": 30,
    "start_time": "2023-01-11T11:17:34.853Z"
   },
   {
    "duration": 28,
    "start_time": "2023-01-11T11:17:34.885Z"
   },
   {
    "duration": 170,
    "start_time": "2023-01-11T11:17:34.915Z"
   },
   {
    "duration": 15,
    "start_time": "2023-01-11T11:17:35.087Z"
   },
   {
    "duration": 49,
    "start_time": "2023-01-11T11:17:35.105Z"
   },
   {
    "duration": 37,
    "start_time": "2023-01-11T11:17:35.157Z"
   },
   {
    "duration": 317,
    "start_time": "2023-01-11T11:17:35.196Z"
   },
   {
    "duration": 3,
    "start_time": "2023-01-11T11:17:35.515Z"
   },
   {
    "duration": 21,
    "start_time": "2023-01-11T11:17:35.520Z"
   },
   {
    "duration": 35,
    "start_time": "2023-01-11T11:17:35.544Z"
   },
   {
    "duration": 6,
    "start_time": "2023-01-11T11:17:35.581Z"
   },
   {
    "duration": 10,
    "start_time": "2023-01-11T11:17:35.589Z"
   },
   {
    "duration": 11,
    "start_time": "2023-01-11T11:17:35.601Z"
   },
   {
    "duration": 24,
    "start_time": "2023-01-11T11:17:35.614Z"
   },
   {
    "duration": 40,
    "start_time": "2023-01-11T11:17:35.640Z"
   },
   {
    "duration": 19,
    "start_time": "2023-01-11T11:17:35.682Z"
   },
   {
    "duration": 289,
    "start_time": "2023-01-11T11:17:35.703Z"
   },
   {
    "duration": 6,
    "start_time": "2023-01-11T11:17:35.993Z"
   },
   {
    "duration": 203,
    "start_time": "2023-01-11T11:17:36.002Z"
   },
   {
    "duration": 0,
    "start_time": "2023-01-11T11:17:36.207Z"
   },
   {
    "duration": 0,
    "start_time": "2023-01-11T11:17:36.209Z"
   },
   {
    "duration": 0,
    "start_time": "2023-01-11T11:17:36.210Z"
   },
   {
    "duration": 0,
    "start_time": "2023-01-11T11:17:36.211Z"
   },
   {
    "duration": 0,
    "start_time": "2023-01-11T11:17:36.213Z"
   },
   {
    "duration": 0,
    "start_time": "2023-01-11T11:17:36.213Z"
   },
   {
    "duration": 0,
    "start_time": "2023-01-11T11:17:36.215Z"
   },
   {
    "duration": 0,
    "start_time": "2023-01-11T11:17:36.216Z"
   },
   {
    "duration": 0,
    "start_time": "2023-01-11T11:17:36.217Z"
   },
   {
    "duration": 79,
    "start_time": "2023-01-11T11:28:53.340Z"
   },
   {
    "duration": 3,
    "start_time": "2023-01-11T11:29:29.493Z"
   },
   {
    "duration": 90,
    "start_time": "2023-01-11T11:29:38.472Z"
   },
   {
    "duration": 81,
    "start_time": "2023-01-11T11:30:37.993Z"
   },
   {
    "duration": 13,
    "start_time": "2023-01-11T11:35:25.193Z"
   },
   {
    "duration": 102,
    "start_time": "2023-01-11T11:35:44.442Z"
   },
   {
    "duration": 3,
    "start_time": "2023-01-11T11:40:22.987Z"
   },
   {
    "duration": 1244,
    "start_time": "2023-01-11T11:40:37.646Z"
   },
   {
    "duration": 759,
    "start_time": "2023-01-11T11:40:38.892Z"
   },
   {
    "duration": 55,
    "start_time": "2023-01-11T11:40:39.653Z"
   },
   {
    "duration": 296,
    "start_time": "2023-01-11T11:40:39.710Z"
   },
   {
    "duration": 21,
    "start_time": "2023-01-11T11:40:40.008Z"
   },
   {
    "duration": 52,
    "start_time": "2023-01-11T11:40:40.031Z"
   },
   {
    "duration": 158,
    "start_time": "2023-01-11T11:40:40.085Z"
   },
   {
    "duration": 14,
    "start_time": "2023-01-11T11:40:40.245Z"
   },
   {
    "duration": 51,
    "start_time": "2023-01-11T11:40:40.261Z"
   },
   {
    "duration": 41,
    "start_time": "2023-01-11T11:40:40.315Z"
   },
   {
    "duration": 298,
    "start_time": "2023-01-11T11:40:40.358Z"
   },
   {
    "duration": 3,
    "start_time": "2023-01-11T11:40:40.658Z"
   },
   {
    "duration": 40,
    "start_time": "2023-01-11T11:40:40.662Z"
   },
   {
    "duration": 24,
    "start_time": "2023-01-11T11:40:40.704Z"
   },
   {
    "duration": 10,
    "start_time": "2023-01-11T11:40:40.730Z"
   },
   {
    "duration": 16,
    "start_time": "2023-01-11T11:40:40.742Z"
   },
   {
    "duration": 16,
    "start_time": "2023-01-11T11:40:40.760Z"
   },
   {
    "duration": 48,
    "start_time": "2023-01-11T11:40:40.779Z"
   },
   {
    "duration": 26,
    "start_time": "2023-01-11T11:40:40.829Z"
   },
   {
    "duration": 25,
    "start_time": "2023-01-11T11:40:40.857Z"
   },
   {
    "duration": 296,
    "start_time": "2023-01-11T11:40:40.884Z"
   },
   {
    "duration": 3,
    "start_time": "2023-01-11T11:40:41.182Z"
   },
   {
    "duration": 13,
    "start_time": "2023-01-11T11:40:41.187Z"
   },
   {
    "duration": 14,
    "start_time": "2023-01-11T11:40:41.203Z"
   },
   {
    "duration": 33,
    "start_time": "2023-01-11T11:40:41.218Z"
   },
   {
    "duration": 43,
    "start_time": "2023-01-11T11:40:41.253Z"
   },
   {
    "duration": 22,
    "start_time": "2023-01-11T11:40:41.298Z"
   },
   {
    "duration": 5,
    "start_time": "2023-01-11T11:40:41.324Z"
   },
   {
    "duration": 37,
    "start_time": "2023-01-11T11:40:41.331Z"
   },
   {
    "duration": 12,
    "start_time": "2023-01-11T11:40:41.370Z"
   },
   {
    "duration": 26,
    "start_time": "2023-01-11T11:40:41.384Z"
   },
   {
    "duration": 79,
    "start_time": "2023-01-11T11:40:41.412Z"
   },
   {
    "duration": 120,
    "start_time": "2023-01-11T11:55:02.474Z"
   },
   {
    "duration": 18,
    "start_time": "2023-01-11T11:55:10.168Z"
   },
   {
    "duration": 21,
    "start_time": "2023-01-11T11:55:16.345Z"
   },
   {
    "duration": 10,
    "start_time": "2023-01-11T11:55:30.023Z"
   },
   {
    "duration": 113,
    "start_time": "2023-01-11T12:12:22.715Z"
   },
   {
    "duration": 3,
    "start_time": "2023-01-11T12:13:47.009Z"
   },
   {
    "duration": 580,
    "start_time": "2023-01-11T12:14:24.408Z"
   },
   {
    "duration": 68,
    "start_time": "2023-01-11T12:14:30.790Z"
   },
   {
    "duration": 3089,
    "start_time": "2023-01-11T12:16:38.304Z"
   },
   {
    "duration": 1713,
    "start_time": "2023-01-11T12:16:41.401Z"
   },
   {
    "duration": 106,
    "start_time": "2023-01-11T12:16:43.116Z"
   },
   {
    "duration": 329,
    "start_time": "2023-01-11T12:16:43.224Z"
   },
   {
    "duration": 35,
    "start_time": "2023-01-11T12:16:43.555Z"
   },
   {
    "duration": 26,
    "start_time": "2023-01-11T12:16:43.594Z"
   },
   {
    "duration": 156,
    "start_time": "2023-01-11T12:16:43.622Z"
   },
   {
    "duration": 20,
    "start_time": "2023-01-11T12:16:43.779Z"
   },
   {
    "duration": 40,
    "start_time": "2023-01-11T12:16:43.801Z"
   },
   {
    "duration": 54,
    "start_time": "2023-01-11T12:16:43.844Z"
   },
   {
    "duration": 308,
    "start_time": "2023-01-11T12:16:43.900Z"
   },
   {
    "duration": 3,
    "start_time": "2023-01-11T12:16:44.210Z"
   },
   {
    "duration": 14,
    "start_time": "2023-01-11T12:16:44.215Z"
   },
   {
    "duration": 22,
    "start_time": "2023-01-11T12:16:44.231Z"
   },
   {
    "duration": 27,
    "start_time": "2023-01-11T12:16:44.254Z"
   },
   {
    "duration": 9,
    "start_time": "2023-01-11T12:16:44.283Z"
   },
   {
    "duration": 8,
    "start_time": "2023-01-11T12:16:44.294Z"
   },
   {
    "duration": 22,
    "start_time": "2023-01-11T12:16:44.304Z"
   },
   {
    "duration": 22,
    "start_time": "2023-01-11T12:16:44.328Z"
   },
   {
    "duration": 44,
    "start_time": "2023-01-11T12:16:44.352Z"
   },
   {
    "duration": 274,
    "start_time": "2023-01-11T12:16:44.397Z"
   },
   {
    "duration": 7,
    "start_time": "2023-01-11T12:16:44.673Z"
   },
   {
    "duration": 25,
    "start_time": "2023-01-11T12:16:44.682Z"
   },
   {
    "duration": 8,
    "start_time": "2023-01-11T12:16:44.709Z"
   },
   {
    "duration": 9,
    "start_time": "2023-01-11T12:16:44.719Z"
   },
   {
    "duration": 30,
    "start_time": "2023-01-11T12:16:44.731Z"
   },
   {
    "duration": 27,
    "start_time": "2023-01-11T12:16:44.764Z"
   },
   {
    "duration": 4,
    "start_time": "2023-01-11T12:16:44.795Z"
   },
   {
    "duration": 14,
    "start_time": "2023-01-11T12:16:44.801Z"
   },
   {
    "duration": 20,
    "start_time": "2023-01-11T12:16:44.817Z"
   },
   {
    "duration": 19,
    "start_time": "2023-01-11T12:16:44.839Z"
   },
   {
    "duration": 73,
    "start_time": "2023-01-11T12:16:44.859Z"
   },
   {
    "duration": 116,
    "start_time": "2023-01-11T12:21:09.106Z"
   },
   {
    "duration": 6,
    "start_time": "2023-01-11T12:23:01.100Z"
   },
   {
    "duration": 364,
    "start_time": "2023-01-11T12:30:25.458Z"
   },
   {
    "duration": 1432,
    "start_time": "2023-01-11T12:33:14.167Z"
   },
   {
    "duration": 4,
    "start_time": "2023-01-11T13:12:10.221Z"
   },
   {
    "duration": 720,
    "start_time": "2023-01-11T13:12:10.792Z"
   },
   {
    "duration": 1375,
    "start_time": "2023-01-11T13:12:21.731Z"
   },
   {
    "duration": 727,
    "start_time": "2023-01-11T13:12:23.108Z"
   },
   {
    "duration": 58,
    "start_time": "2023-01-11T13:12:23.837Z"
   },
   {
    "duration": 269,
    "start_time": "2023-01-11T13:12:23.898Z"
   },
   {
    "duration": 24,
    "start_time": "2023-01-11T13:12:24.168Z"
   },
   {
    "duration": 27,
    "start_time": "2023-01-11T13:12:24.193Z"
   },
   {
    "duration": 166,
    "start_time": "2023-01-11T13:12:24.222Z"
   },
   {
    "duration": 16,
    "start_time": "2023-01-11T13:12:24.390Z"
   },
   {
    "duration": 39,
    "start_time": "2023-01-11T13:12:24.408Z"
   },
   {
    "duration": 53,
    "start_time": "2023-01-11T13:12:24.450Z"
   },
   {
    "duration": 282,
    "start_time": "2023-01-11T13:12:24.505Z"
   },
   {
    "duration": 3,
    "start_time": "2023-01-11T13:12:24.789Z"
   },
   {
    "duration": 14,
    "start_time": "2023-01-11T13:12:24.793Z"
   },
   {
    "duration": 24,
    "start_time": "2023-01-11T13:12:24.809Z"
   },
   {
    "duration": 5,
    "start_time": "2023-01-11T13:12:24.835Z"
   },
   {
    "duration": 8,
    "start_time": "2023-01-11T13:12:24.842Z"
   },
   {
    "duration": 26,
    "start_time": "2023-01-11T13:12:24.852Z"
   },
   {
    "duration": 24,
    "start_time": "2023-01-11T13:12:24.880Z"
   },
   {
    "duration": 22,
    "start_time": "2023-01-11T13:12:24.907Z"
   },
   {
    "duration": 20,
    "start_time": "2023-01-11T13:12:24.930Z"
   },
   {
    "duration": 253,
    "start_time": "2023-01-11T13:12:24.977Z"
   },
   {
    "duration": 2,
    "start_time": "2023-01-11T13:12:25.232Z"
   },
   {
    "duration": 9,
    "start_time": "2023-01-11T13:12:25.235Z"
   },
   {
    "duration": 15,
    "start_time": "2023-01-11T13:12:25.246Z"
   },
   {
    "duration": 9,
    "start_time": "2023-01-11T13:12:25.263Z"
   },
   {
    "duration": 29,
    "start_time": "2023-01-11T13:12:25.273Z"
   },
   {
    "duration": 15,
    "start_time": "2023-01-11T13:12:25.304Z"
   },
   {
    "duration": 4,
    "start_time": "2023-01-11T13:12:25.322Z"
   },
   {
    "duration": 12,
    "start_time": "2023-01-11T13:12:25.327Z"
   },
   {
    "duration": 8,
    "start_time": "2023-01-11T13:12:25.341Z"
   },
   {
    "duration": 43,
    "start_time": "2023-01-11T13:12:25.350Z"
   },
   {
    "duration": 56,
    "start_time": "2023-01-11T13:12:25.395Z"
   },
   {
    "duration": 6,
    "start_time": "2023-01-11T13:12:25.453Z"
   },
   {
    "duration": 1454,
    "start_time": "2023-01-11T13:12:25.460Z"
   },
   {
    "duration": 576,
    "start_time": "2023-01-11T13:23:42.225Z"
   },
   {
    "duration": 658,
    "start_time": "2023-01-11T13:24:12.443Z"
   },
   {
    "duration": 869,
    "start_time": "2023-01-11T13:24:33.076Z"
   },
   {
    "duration": 5,
    "start_time": "2023-01-11T13:39:00.489Z"
   },
   {
    "duration": 3,
    "start_time": "2023-01-11T13:43:16.069Z"
   },
   {
    "duration": 4,
    "start_time": "2023-01-11T13:43:17.132Z"
   },
   {
    "duration": 4,
    "start_time": "2023-01-11T13:43:18.103Z"
   },
   {
    "duration": 3,
    "start_time": "2023-01-11T13:43:23.275Z"
   },
   {
    "duration": 24,
    "start_time": "2023-01-11T13:44:29.804Z"
   },
   {
    "duration": 422,
    "start_time": "2023-01-11T13:46:43.362Z"
   },
   {
    "duration": 1641,
    "start_time": "2023-01-11T15:10:39.775Z"
   },
   {
    "duration": 2418,
    "start_time": "2023-01-11T15:10:41.419Z"
   },
   {
    "duration": 44,
    "start_time": "2023-01-11T15:10:43.839Z"
   },
   {
    "duration": 273,
    "start_time": "2023-01-11T15:10:43.885Z"
   },
   {
    "duration": 16,
    "start_time": "2023-01-11T15:10:44.161Z"
   },
   {
    "duration": 43,
    "start_time": "2023-01-11T15:10:44.179Z"
   },
   {
    "duration": 136,
    "start_time": "2023-01-11T15:10:44.223Z"
   },
   {
    "duration": 13,
    "start_time": "2023-01-11T15:10:44.360Z"
   },
   {
    "duration": 48,
    "start_time": "2023-01-11T15:10:44.374Z"
   },
   {
    "duration": 18,
    "start_time": "2023-01-11T15:10:44.424Z"
   },
   {
    "duration": 275,
    "start_time": "2023-01-11T15:10:44.444Z"
   },
   {
    "duration": 2,
    "start_time": "2023-01-11T15:10:44.721Z"
   },
   {
    "duration": 11,
    "start_time": "2023-01-11T15:10:44.725Z"
   },
   {
    "duration": 18,
    "start_time": "2023-01-11T15:10:44.738Z"
   },
   {
    "duration": 5,
    "start_time": "2023-01-11T15:10:44.758Z"
   },
   {
    "duration": 11,
    "start_time": "2023-01-11T15:10:44.765Z"
   },
   {
    "duration": 26,
    "start_time": "2023-01-11T15:10:44.778Z"
   },
   {
    "duration": 17,
    "start_time": "2023-01-11T15:10:44.806Z"
   },
   {
    "duration": 21,
    "start_time": "2023-01-11T15:10:44.824Z"
   },
   {
    "duration": 17,
    "start_time": "2023-01-11T15:10:44.847Z"
   },
   {
    "duration": 285,
    "start_time": "2023-01-11T15:10:44.866Z"
   },
   {
    "duration": 2,
    "start_time": "2023-01-11T15:10:45.153Z"
   },
   {
    "duration": 9,
    "start_time": "2023-01-11T15:10:45.157Z"
   },
   {
    "duration": 13,
    "start_time": "2023-01-11T15:10:45.168Z"
   },
   {
    "duration": 14,
    "start_time": "2023-01-11T15:10:45.182Z"
   },
   {
    "duration": 28,
    "start_time": "2023-01-11T15:10:45.197Z"
   },
   {
    "duration": 16,
    "start_time": "2023-01-11T15:10:45.226Z"
   },
   {
    "duration": 3,
    "start_time": "2023-01-11T15:10:45.243Z"
   },
   {
    "duration": 10,
    "start_time": "2023-01-11T15:10:45.248Z"
   },
   {
    "duration": 6,
    "start_time": "2023-01-11T15:10:45.260Z"
   },
   {
    "duration": 13,
    "start_time": "2023-01-11T15:10:45.268Z"
   },
   {
    "duration": 54,
    "start_time": "2023-01-11T15:10:45.305Z"
   },
   {
    "duration": 6,
    "start_time": "2023-01-11T15:10:45.361Z"
   },
   {
    "duration": 1331,
    "start_time": "2023-01-11T15:10:45.369Z"
   },
   {
    "duration": 559,
    "start_time": "2023-01-11T15:10:46.701Z"
   },
   {
    "duration": 3,
    "start_time": "2023-01-11T15:10:47.261Z"
   },
   {
    "duration": 11,
    "start_time": "2023-01-11T15:10:47.266Z"
   },
   {
    "duration": 7,
    "start_time": "2023-01-11T15:10:47.278Z"
   },
   {
    "duration": 17,
    "start_time": "2023-01-11T15:10:47.287Z"
   },
   {
    "duration": 24,
    "start_time": "2023-01-11T15:10:47.306Z"
   },
   {
    "duration": 498,
    "start_time": "2023-01-11T15:10:47.333Z"
   },
   {
    "duration": 510,
    "start_time": "2023-01-11T15:30:48.953Z"
   },
   {
    "duration": 1267,
    "start_time": "2023-01-11T15:44:07.663Z"
   },
   {
    "duration": 1188,
    "start_time": "2023-01-11T15:47:01.298Z"
   },
   {
    "duration": 1646,
    "start_time": "2023-01-11T15:53:49.774Z"
   },
   {
    "duration": 1318,
    "start_time": "2023-01-11T15:53:51.421Z"
   },
   {
    "duration": 40,
    "start_time": "2023-01-11T15:53:52.740Z"
   },
   {
    "duration": 254,
    "start_time": "2023-01-11T15:53:52.782Z"
   },
   {
    "duration": 16,
    "start_time": "2023-01-11T15:53:53.038Z"
   },
   {
    "duration": 49,
    "start_time": "2023-01-11T15:53:53.056Z"
   },
   {
    "duration": 136,
    "start_time": "2023-01-11T15:53:53.107Z"
   },
   {
    "duration": 15,
    "start_time": "2023-01-11T15:53:53.245Z"
   },
   {
    "duration": 54,
    "start_time": "2023-01-11T15:53:53.262Z"
   },
   {
    "duration": 27,
    "start_time": "2023-01-11T15:53:53.320Z"
   },
   {
    "duration": 338,
    "start_time": "2023-01-11T15:53:53.349Z"
   },
   {
    "duration": 3,
    "start_time": "2023-01-11T15:53:53.688Z"
   },
   {
    "duration": 18,
    "start_time": "2023-01-11T15:53:53.692Z"
   },
   {
    "duration": 19,
    "start_time": "2023-01-11T15:53:53.712Z"
   },
   {
    "duration": 6,
    "start_time": "2023-01-11T15:53:53.732Z"
   },
   {
    "duration": 7,
    "start_time": "2023-01-11T15:53:53.739Z"
   },
   {
    "duration": 4,
    "start_time": "2023-01-11T15:53:53.747Z"
   },
   {
    "duration": 19,
    "start_time": "2023-01-11T15:53:53.753Z"
   },
   {
    "duration": 20,
    "start_time": "2023-01-11T15:53:53.804Z"
   },
   {
    "duration": 18,
    "start_time": "2023-01-11T15:53:53.826Z"
   },
   {
    "duration": 258,
    "start_time": "2023-01-11T15:53:53.846Z"
   },
   {
    "duration": 3,
    "start_time": "2023-01-11T15:53:54.106Z"
   },
   {
    "duration": 11,
    "start_time": "2023-01-11T15:53:54.110Z"
   },
   {
    "duration": 13,
    "start_time": "2023-01-11T15:53:54.123Z"
   },
   {
    "duration": 17,
    "start_time": "2023-01-11T15:53:54.138Z"
   },
   {
    "duration": 52,
    "start_time": "2023-01-11T15:53:54.156Z"
   },
   {
    "duration": 15,
    "start_time": "2023-01-11T15:53:54.211Z"
   },
   {
    "duration": 3,
    "start_time": "2023-01-11T15:53:54.229Z"
   },
   {
    "duration": 11,
    "start_time": "2023-01-11T15:53:54.234Z"
   },
   {
    "duration": 3,
    "start_time": "2023-01-11T15:53:54.247Z"
   },
   {
    "duration": 18,
    "start_time": "2023-01-11T15:53:54.251Z"
   },
   {
    "duration": 78,
    "start_time": "2023-01-11T15:53:54.271Z"
   },
   {
    "duration": 6,
    "start_time": "2023-01-11T15:53:54.351Z"
   },
   {
    "duration": 1345,
    "start_time": "2023-01-11T15:53:54.359Z"
   },
   {
    "duration": 594,
    "start_time": "2023-01-11T15:53:55.706Z"
   },
   {
    "duration": 4,
    "start_time": "2023-01-11T15:53:56.301Z"
   },
   {
    "duration": 10,
    "start_time": "2023-01-11T15:53:56.306Z"
   },
   {
    "duration": 5,
    "start_time": "2023-01-11T15:53:56.318Z"
   },
   {
    "duration": 6,
    "start_time": "2023-01-11T15:53:56.325Z"
   },
   {
    "duration": 38,
    "start_time": "2023-01-11T15:53:56.333Z"
   },
   {
    "duration": 388,
    "start_time": "2023-01-11T15:53:56.372Z"
   },
   {
    "duration": 115,
    "start_time": "2023-01-11T15:53:56.761Z"
   },
   {
    "duration": 0,
    "start_time": "2023-01-11T15:53:56.878Z"
   },
   {
    "duration": 0,
    "start_time": "2023-01-11T15:53:56.879Z"
   },
   {
    "duration": 2,
    "start_time": "2023-01-11T15:54:13.742Z"
   },
   {
    "duration": 1155,
    "start_time": "2023-01-11T15:54:14.632Z"
   },
   {
    "duration": 3,
    "start_time": "2023-01-11T16:04:44.950Z"
   },
   {
    "duration": 5,
    "start_time": "2023-01-11T16:04:45.476Z"
   },
   {
    "duration": 2,
    "start_time": "2023-01-11T16:08:00.869Z"
   },
   {
    "duration": 2,
    "start_time": "2023-01-11T16:08:01.462Z"
   },
   {
    "duration": 4,
    "start_time": "2023-01-11T16:09:37.966Z"
   },
   {
    "duration": 6,
    "start_time": "2023-01-11T16:09:38.479Z"
   },
   {
    "duration": 5,
    "start_time": "2023-01-11T16:09:38.909Z"
   },
   {
    "duration": 6,
    "start_time": "2023-01-11T16:09:39.285Z"
   },
   {
    "duration": 2,
    "start_time": "2023-01-11T16:09:52.486Z"
   },
   {
    "duration": 4,
    "start_time": "2023-01-11T16:09:53.703Z"
   },
   {
    "duration": 2,
    "start_time": "2023-01-11T16:09:54.149Z"
   },
   {
    "duration": 3,
    "start_time": "2023-01-11T16:09:54.669Z"
   },
   {
    "duration": 1678,
    "start_time": "2023-01-11T16:09:57.958Z"
   },
   {
    "duration": 3,
    "start_time": "2023-01-11T16:11:38.393Z"
   },
   {
    "duration": 22,
    "start_time": "2023-01-11T16:11:40.246Z"
   },
   {
    "duration": 1325,
    "start_time": "2023-01-11T16:11:48.626Z"
   },
   {
    "duration": 729,
    "start_time": "2023-01-11T16:11:49.953Z"
   },
   {
    "duration": 47,
    "start_time": "2023-01-11T16:11:50.684Z"
   },
   {
    "duration": 260,
    "start_time": "2023-01-11T16:11:50.733Z"
   },
   {
    "duration": 23,
    "start_time": "2023-01-11T16:11:50.995Z"
   },
   {
    "duration": 25,
    "start_time": "2023-01-11T16:11:51.019Z"
   },
   {
    "duration": 144,
    "start_time": "2023-01-11T16:11:51.046Z"
   },
   {
    "duration": 16,
    "start_time": "2023-01-11T16:11:51.192Z"
   },
   {
    "duration": 37,
    "start_time": "2023-01-11T16:11:51.209Z"
   },
   {
    "duration": 16,
    "start_time": "2023-01-11T16:11:51.247Z"
   },
   {
    "duration": 276,
    "start_time": "2023-01-11T16:11:51.265Z"
   },
   {
    "duration": 3,
    "start_time": "2023-01-11T16:11:51.543Z"
   },
   {
    "duration": 14,
    "start_time": "2023-01-11T16:11:51.547Z"
   },
   {
    "duration": 17,
    "start_time": "2023-01-11T16:11:51.565Z"
   },
   {
    "duration": 5,
    "start_time": "2023-01-11T16:11:51.604Z"
   },
   {
    "duration": 19,
    "start_time": "2023-01-11T16:11:51.611Z"
   },
   {
    "duration": 15,
    "start_time": "2023-01-11T16:11:51.631Z"
   },
   {
    "duration": 20,
    "start_time": "2023-01-11T16:11:51.648Z"
   },
   {
    "duration": 20,
    "start_time": "2023-01-11T16:11:51.670Z"
   },
   {
    "duration": 27,
    "start_time": "2023-01-11T16:11:51.692Z"
   },
   {
    "duration": 244,
    "start_time": "2023-01-11T16:11:51.720Z"
   },
   {
    "duration": 3,
    "start_time": "2023-01-11T16:11:51.965Z"
   },
   {
    "duration": 8,
    "start_time": "2023-01-11T16:11:51.969Z"
   },
   {
    "duration": 17,
    "start_time": "2023-01-11T16:11:51.979Z"
   },
   {
    "duration": 14,
    "start_time": "2023-01-11T16:11:51.998Z"
   },
   {
    "duration": 24,
    "start_time": "2023-01-11T16:11:52.013Z"
   },
   {
    "duration": 15,
    "start_time": "2023-01-11T16:11:52.039Z"
   },
   {
    "duration": 3,
    "start_time": "2023-01-11T16:11:52.056Z"
   },
   {
    "duration": 10,
    "start_time": "2023-01-11T16:11:52.060Z"
   },
   {
    "duration": 3,
    "start_time": "2023-01-11T16:11:52.072Z"
   },
   {
    "duration": 31,
    "start_time": "2023-01-11T16:11:52.077Z"
   },
   {
    "duration": 53,
    "start_time": "2023-01-11T16:11:52.110Z"
   },
   {
    "duration": 6,
    "start_time": "2023-01-11T16:11:52.165Z"
   },
   {
    "duration": 2170,
    "start_time": "2023-01-11T16:11:52.172Z"
   },
   {
    "duration": 531,
    "start_time": "2023-01-11T16:11:54.344Z"
   },
   {
    "duration": 3,
    "start_time": "2023-01-11T16:11:54.876Z"
   },
   {
    "duration": 11,
    "start_time": "2023-01-11T16:11:54.881Z"
   },
   {
    "duration": 12,
    "start_time": "2023-01-11T16:11:54.893Z"
   },
   {
    "duration": 12,
    "start_time": "2023-01-11T16:11:54.907Z"
   },
   {
    "duration": 14,
    "start_time": "2023-01-11T16:11:54.921Z"
   },
   {
    "duration": 6,
    "start_time": "2023-01-11T16:11:54.940Z"
   },
   {
    "duration": 7,
    "start_time": "2023-01-11T16:11:54.948Z"
   },
   {
    "duration": 15,
    "start_time": "2023-01-11T16:11:54.956Z"
   },
   {
    "duration": 5,
    "start_time": "2023-01-11T16:11:54.973Z"
   },
   {
    "duration": 12,
    "start_time": "2023-01-11T16:11:54.979Z"
   },
   {
    "duration": 132,
    "start_time": "2023-01-11T16:11:54.993Z"
   },
   {
    "duration": 0,
    "start_time": "2023-01-11T16:11:55.127Z"
   },
   {
    "duration": 0,
    "start_time": "2023-01-11T16:11:55.128Z"
   },
   {
    "duration": 0,
    "start_time": "2023-01-11T16:11:55.129Z"
   },
   {
    "duration": 22,
    "start_time": "2023-01-11T16:12:09.939Z"
   },
   {
    "duration": 2,
    "start_time": "2023-01-11T16:13:17.110Z"
   },
   {
    "duration": 11,
    "start_time": "2023-01-11T16:13:19.477Z"
   },
   {
    "duration": 11,
    "start_time": "2023-01-11T16:13:34.902Z"
   },
   {
    "duration": 1387,
    "start_time": "2023-01-11T16:14:02.082Z"
   },
   {
    "duration": 740,
    "start_time": "2023-01-11T16:14:03.471Z"
   },
   {
    "duration": 40,
    "start_time": "2023-01-11T16:14:04.212Z"
   },
   {
    "duration": 467,
    "start_time": "2023-01-11T16:14:04.254Z"
   },
   {
    "duration": 16,
    "start_time": "2023-01-11T16:14:04.723Z"
   },
   {
    "duration": 78,
    "start_time": "2023-01-11T16:14:04.740Z"
   },
   {
    "duration": 292,
    "start_time": "2023-01-11T16:14:04.820Z"
   },
   {
    "duration": 12,
    "start_time": "2023-01-11T16:14:05.114Z"
   },
   {
    "duration": 88,
    "start_time": "2023-01-11T16:14:05.128Z"
   },
   {
    "duration": 18,
    "start_time": "2023-01-11T16:14:05.219Z"
   },
   {
    "duration": 606,
    "start_time": "2023-01-11T16:14:05.239Z"
   },
   {
    "duration": 2,
    "start_time": "2023-01-11T16:14:05.847Z"
   },
   {
    "duration": 9,
    "start_time": "2023-01-11T16:14:05.904Z"
   },
   {
    "duration": 19,
    "start_time": "2023-01-11T16:14:05.915Z"
   },
   {
    "duration": 5,
    "start_time": "2023-01-11T16:14:05.936Z"
   },
   {
    "duration": 63,
    "start_time": "2023-01-11T16:14:05.943Z"
   },
   {
    "duration": 19,
    "start_time": "2023-01-11T16:14:06.008Z"
   },
   {
    "duration": 40,
    "start_time": "2023-01-11T16:14:06.029Z"
   },
   {
    "duration": 52,
    "start_time": "2023-01-11T16:14:06.070Z"
   },
   {
    "duration": 20,
    "start_time": "2023-01-11T16:14:06.123Z"
   },
   {
    "duration": 402,
    "start_time": "2023-01-11T16:14:06.145Z"
   },
   {
    "duration": 2,
    "start_time": "2023-01-11T16:14:06.549Z"
   },
   {
    "duration": 2,
    "start_time": "2023-01-11T16:14:06.605Z"
   },
   {
    "duration": 8,
    "start_time": "2023-01-11T16:14:06.609Z"
   },
   {
    "duration": 40,
    "start_time": "2023-01-11T16:14:06.619Z"
   },
   {
    "duration": 74,
    "start_time": "2023-01-11T16:14:06.661Z"
   },
   {
    "duration": 69,
    "start_time": "2023-01-11T16:14:06.737Z"
   },
   {
    "duration": 4,
    "start_time": "2023-01-11T16:14:06.811Z"
   },
   {
    "duration": 47,
    "start_time": "2023-01-11T16:14:06.817Z"
   },
   {
    "duration": 12,
    "start_time": "2023-01-11T16:14:06.866Z"
   },
   {
    "duration": 43,
    "start_time": "2023-01-11T16:14:06.906Z"
   },
   {
    "duration": 161,
    "start_time": "2023-01-11T16:14:06.951Z"
   },
   {
    "duration": 8,
    "start_time": "2023-01-11T16:14:07.114Z"
   },
   {
    "duration": 1989,
    "start_time": "2023-01-11T16:14:07.124Z"
   },
   {
    "duration": 564,
    "start_time": "2023-01-11T16:14:09.115Z"
   },
   {
    "duration": 2,
    "start_time": "2023-01-11T16:14:09.681Z"
   },
   {
    "duration": 9,
    "start_time": "2023-01-11T16:14:09.685Z"
   },
   {
    "duration": 14,
    "start_time": "2023-01-11T16:14:09.695Z"
   },
   {
    "duration": 8,
    "start_time": "2023-01-11T16:14:09.710Z"
   },
   {
    "duration": 6,
    "start_time": "2023-01-11T16:14:09.719Z"
   },
   {
    "duration": 6,
    "start_time": "2023-01-11T16:14:09.726Z"
   },
   {
    "duration": 7,
    "start_time": "2023-01-11T16:14:09.733Z"
   },
   {
    "duration": 7,
    "start_time": "2023-01-11T16:14:09.742Z"
   },
   {
    "duration": 7,
    "start_time": "2023-01-11T16:14:09.750Z"
   },
   {
    "duration": 5,
    "start_time": "2023-01-11T16:14:09.758Z"
   },
   {
    "duration": 124,
    "start_time": "2023-01-11T16:14:09.764Z"
   },
   {
    "duration": 0,
    "start_time": "2023-01-11T16:14:09.889Z"
   },
   {
    "duration": 0,
    "start_time": "2023-01-11T16:14:09.890Z"
   },
   {
    "duration": 0,
    "start_time": "2023-01-11T16:14:09.891Z"
   },
   {
    "duration": 11,
    "start_time": "2023-01-11T16:14:43.500Z"
   },
   {
    "duration": 9,
    "start_time": "2023-01-11T16:15:08.041Z"
   },
   {
    "duration": 9,
    "start_time": "2023-01-11T16:16:12.345Z"
   },
   {
    "duration": 13,
    "start_time": "2023-01-11T16:24:08.158Z"
   },
   {
    "duration": 12,
    "start_time": "2023-01-11T16:24:36.321Z"
   },
   {
    "duration": 13,
    "start_time": "2023-01-11T16:24:43.109Z"
   },
   {
    "duration": 9,
    "start_time": "2023-01-11T16:29:24.774Z"
   },
   {
    "duration": 1373,
    "start_time": "2023-01-11T16:29:33.788Z"
   },
   {
    "duration": 728,
    "start_time": "2023-01-11T16:29:35.163Z"
   },
   {
    "duration": 45,
    "start_time": "2023-01-11T16:29:35.893Z"
   },
   {
    "duration": 272,
    "start_time": "2023-01-11T16:29:35.940Z"
   },
   {
    "duration": 17,
    "start_time": "2023-01-11T16:29:36.213Z"
   },
   {
    "duration": 26,
    "start_time": "2023-01-11T16:29:36.232Z"
   },
   {
    "duration": 163,
    "start_time": "2023-01-11T16:29:36.259Z"
   },
   {
    "duration": 14,
    "start_time": "2023-01-11T16:29:36.423Z"
   },
   {
    "duration": 35,
    "start_time": "2023-01-11T16:29:36.438Z"
   },
   {
    "duration": 34,
    "start_time": "2023-01-11T16:29:36.475Z"
   },
   {
    "duration": 261,
    "start_time": "2023-01-11T16:29:36.511Z"
   },
   {
    "duration": 3,
    "start_time": "2023-01-11T16:29:36.774Z"
   },
   {
    "duration": 10,
    "start_time": "2023-01-11T16:29:36.779Z"
   },
   {
    "duration": 29,
    "start_time": "2023-01-11T16:29:36.791Z"
   },
   {
    "duration": 4,
    "start_time": "2023-01-11T16:29:36.822Z"
   },
   {
    "duration": 7,
    "start_time": "2023-01-11T16:29:36.828Z"
   },
   {
    "duration": 4,
    "start_time": "2023-01-11T16:29:36.836Z"
   },
   {
    "duration": 21,
    "start_time": "2023-01-11T16:29:36.842Z"
   },
   {
    "duration": 43,
    "start_time": "2023-01-11T16:29:36.865Z"
   },
   {
    "duration": 16,
    "start_time": "2023-01-11T16:29:36.910Z"
   },
   {
    "duration": 245,
    "start_time": "2023-01-11T16:29:36.927Z"
   },
   {
    "duration": 2,
    "start_time": "2023-01-11T16:29:37.174Z"
   },
   {
    "duration": 8,
    "start_time": "2023-01-11T16:29:37.178Z"
   },
   {
    "duration": 4,
    "start_time": "2023-01-11T16:29:37.205Z"
   },
   {
    "duration": 9,
    "start_time": "2023-01-11T16:29:37.210Z"
   },
   {
    "duration": 30,
    "start_time": "2023-01-11T16:29:37.221Z"
   },
   {
    "duration": 15,
    "start_time": "2023-01-11T16:29:37.305Z"
   },
   {
    "duration": 2,
    "start_time": "2023-01-11T16:29:37.324Z"
   },
   {
    "duration": 10,
    "start_time": "2023-01-11T16:29:37.328Z"
   },
   {
    "duration": 3,
    "start_time": "2023-01-11T16:29:37.339Z"
   },
   {
    "duration": 61,
    "start_time": "2023-01-11T16:29:37.344Z"
   },
   {
    "duration": 107,
    "start_time": "2023-01-11T16:29:37.407Z"
   },
   {
    "duration": 8,
    "start_time": "2023-01-11T16:29:37.516Z"
   },
   {
    "duration": 2058,
    "start_time": "2023-01-11T16:29:37.526Z"
   },
   {
    "duration": 561,
    "start_time": "2023-01-11T16:29:39.585Z"
   },
   {
    "duration": 4,
    "start_time": "2023-01-11T16:29:40.147Z"
   },
   {
    "duration": 7,
    "start_time": "2023-01-11T16:29:40.152Z"
   },
   {
    "duration": 8,
    "start_time": "2023-01-11T16:29:40.161Z"
   },
   {
    "duration": 6,
    "start_time": "2023-01-11T16:29:40.171Z"
   },
   {
    "duration": 26,
    "start_time": "2023-01-11T16:29:40.179Z"
   },
   {
    "duration": 14,
    "start_time": "2023-01-11T16:29:40.207Z"
   },
   {
    "duration": 4,
    "start_time": "2023-01-11T16:29:40.223Z"
   },
   {
    "duration": 10,
    "start_time": "2023-01-11T16:29:40.229Z"
   },
   {
    "duration": 5,
    "start_time": "2023-01-11T16:29:40.240Z"
   },
   {
    "duration": 8,
    "start_time": "2023-01-11T16:29:40.246Z"
   },
   {
    "duration": 1628,
    "start_time": "2023-01-11T16:29:40.255Z"
   },
   {
    "duration": 24,
    "start_time": "2023-01-11T16:29:41.885Z"
   },
   {
    "duration": 111,
    "start_time": "2023-01-11T16:29:41.911Z"
   },
   {
    "duration": 0,
    "start_time": "2023-01-11T16:29:42.024Z"
   },
   {
    "duration": 13,
    "start_time": "2023-01-11T16:29:59.799Z"
   },
   {
    "duration": 1318,
    "start_time": "2023-01-11T16:30:06.756Z"
   },
   {
    "duration": 1466,
    "start_time": "2023-01-11T16:30:08.076Z"
   },
   {
    "duration": 90,
    "start_time": "2023-01-11T16:30:09.544Z"
   },
   {
    "duration": 372,
    "start_time": "2023-01-11T16:30:09.636Z"
   },
   {
    "duration": 17,
    "start_time": "2023-01-11T16:30:10.010Z"
   },
   {
    "duration": 25,
    "start_time": "2023-01-11T16:30:10.029Z"
   },
   {
    "duration": 152,
    "start_time": "2023-01-11T16:30:10.056Z"
   },
   {
    "duration": 12,
    "start_time": "2023-01-11T16:30:10.210Z"
   },
   {
    "duration": 36,
    "start_time": "2023-01-11T16:30:10.224Z"
   },
   {
    "duration": 43,
    "start_time": "2023-01-11T16:30:10.262Z"
   },
   {
    "duration": 285,
    "start_time": "2023-01-11T16:30:10.307Z"
   },
   {
    "duration": 2,
    "start_time": "2023-01-11T16:30:10.594Z"
   },
   {
    "duration": 9,
    "start_time": "2023-01-11T16:30:10.605Z"
   },
   {
    "duration": 19,
    "start_time": "2023-01-11T16:30:10.615Z"
   },
   {
    "duration": 5,
    "start_time": "2023-01-11T16:30:10.635Z"
   },
   {
    "duration": 6,
    "start_time": "2023-01-11T16:30:10.641Z"
   },
   {
    "duration": 5,
    "start_time": "2023-01-11T16:30:10.649Z"
   },
   {
    "duration": 51,
    "start_time": "2023-01-11T16:30:10.655Z"
   },
   {
    "duration": 22,
    "start_time": "2023-01-11T16:30:10.707Z"
   },
   {
    "duration": 17,
    "start_time": "2023-01-11T16:30:10.731Z"
   },
   {
    "duration": 274,
    "start_time": "2023-01-11T16:30:10.749Z"
   },
   {
    "duration": 3,
    "start_time": "2023-01-11T16:30:11.024Z"
   },
   {
    "duration": 5,
    "start_time": "2023-01-11T16:30:11.028Z"
   },
   {
    "duration": 6,
    "start_time": "2023-01-11T16:30:11.035Z"
   },
   {
    "duration": 10,
    "start_time": "2023-01-11T16:30:11.043Z"
   },
   {
    "duration": 32,
    "start_time": "2023-01-11T16:30:11.055Z"
   },
   {
    "duration": 16,
    "start_time": "2023-01-11T16:30:11.105Z"
   },
   {
    "duration": 3,
    "start_time": "2023-01-11T16:30:11.124Z"
   },
   {
    "duration": 9,
    "start_time": "2023-01-11T16:30:11.129Z"
   },
   {
    "duration": 6,
    "start_time": "2023-01-11T16:30:11.140Z"
   },
   {
    "duration": 16,
    "start_time": "2023-01-11T16:30:11.147Z"
   },
   {
    "duration": 78,
    "start_time": "2023-01-11T16:30:11.165Z"
   },
   {
    "duration": 6,
    "start_time": "2023-01-11T16:30:11.245Z"
   },
   {
    "duration": 1318,
    "start_time": "2023-01-11T16:30:11.253Z"
   },
   {
    "duration": 535,
    "start_time": "2023-01-11T16:30:12.572Z"
   },
   {
    "duration": 3,
    "start_time": "2023-01-11T16:30:13.108Z"
   },
   {
    "duration": 13,
    "start_time": "2023-01-11T16:30:13.113Z"
   },
   {
    "duration": 8,
    "start_time": "2023-01-11T16:30:13.128Z"
   },
   {
    "duration": 13,
    "start_time": "2023-01-11T16:30:13.137Z"
   },
   {
    "duration": 8,
    "start_time": "2023-01-11T16:30:13.152Z"
   },
   {
    "duration": 12,
    "start_time": "2023-01-11T16:30:13.162Z"
   },
   {
    "duration": 9,
    "start_time": "2023-01-11T16:30:13.176Z"
   },
   {
    "duration": 10,
    "start_time": "2023-01-11T16:30:13.187Z"
   },
   {
    "duration": 6,
    "start_time": "2023-01-11T16:30:13.198Z"
   },
   {
    "duration": 8,
    "start_time": "2023-01-11T16:30:13.205Z"
   },
   {
    "duration": 110,
    "start_time": "2023-01-11T16:30:13.214Z"
   },
   {
    "duration": 0,
    "start_time": "2023-01-11T16:30:13.325Z"
   },
   {
    "duration": 0,
    "start_time": "2023-01-11T16:30:13.326Z"
   },
   {
    "duration": 0,
    "start_time": "2023-01-11T16:30:13.327Z"
   },
   {
    "duration": 10,
    "start_time": "2023-01-11T16:31:18.786Z"
   },
   {
    "duration": 73,
    "start_time": "2023-01-11T16:31:44.278Z"
   },
   {
    "duration": 71,
    "start_time": "2023-01-11T16:32:39.239Z"
   },
   {
    "duration": 10,
    "start_time": "2023-01-11T16:33:02.038Z"
   },
   {
    "duration": 527,
    "start_time": "2023-01-11T16:33:05.735Z"
   },
   {
    "duration": 6,
    "start_time": "2023-01-11T16:34:44.566Z"
   },
   {
    "duration": 22,
    "start_time": "2023-01-11T16:36:25.879Z"
   },
   {
    "duration": 10,
    "start_time": "2023-01-11T16:36:32.640Z"
   },
   {
    "duration": 3,
    "start_time": "2023-01-11T16:37:36.709Z"
   },
   {
    "duration": 3,
    "start_time": "2023-01-11T16:37:51.991Z"
   },
   {
    "duration": 9,
    "start_time": "2023-01-11T16:42:59.030Z"
   },
   {
    "duration": 4,
    "start_time": "2023-01-11T16:44:03.000Z"
   },
   {
    "duration": 4,
    "start_time": "2023-01-11T16:44:08.934Z"
   },
   {
    "duration": 49,
    "start_time": "2023-01-11T17:59:57.530Z"
   },
   {
    "duration": 16,
    "start_time": "2023-01-11T18:04:35.883Z"
   },
   {
    "duration": 3,
    "start_time": "2023-01-11T18:04:58.388Z"
   },
   {
    "duration": 3,
    "start_time": "2023-01-11T18:05:05.044Z"
   },
   {
    "duration": 3,
    "start_time": "2023-01-11T18:10:40.347Z"
   },
   {
    "duration": 348,
    "start_time": "2023-01-11T18:15:28.762Z"
   },
   {
    "duration": 347,
    "start_time": "2023-01-11T18:18:03.130Z"
   },
   {
    "duration": 333,
    "start_time": "2023-01-11T18:18:33.533Z"
   },
   {
    "duration": 356,
    "start_time": "2023-01-11T18:18:43.123Z"
   },
   {
    "duration": 3,
    "start_time": "2023-01-11T18:19:43.521Z"
   },
   {
    "duration": 333,
    "start_time": "2023-01-11T18:19:44.522Z"
   },
   {
    "duration": 1430,
    "start_time": "2023-01-11T18:21:12.684Z"
   },
   {
    "duration": 1424,
    "start_time": "2023-01-11T18:21:14.116Z"
   },
   {
    "duration": 90,
    "start_time": "2023-01-11T18:21:15.542Z"
   },
   {
    "duration": 329,
    "start_time": "2023-01-11T18:21:15.634Z"
   },
   {
    "duration": 16,
    "start_time": "2023-01-11T18:21:15.965Z"
   },
   {
    "duration": 42,
    "start_time": "2023-01-11T18:21:15.983Z"
   },
   {
    "duration": 158,
    "start_time": "2023-01-11T18:21:16.026Z"
   },
   {
    "duration": 19,
    "start_time": "2023-01-11T18:21:16.186Z"
   },
   {
    "duration": 36,
    "start_time": "2023-01-11T18:21:16.207Z"
   },
   {
    "duration": 42,
    "start_time": "2023-01-11T18:21:16.245Z"
   },
   {
    "duration": 281,
    "start_time": "2023-01-11T18:21:16.288Z"
   },
   {
    "duration": 3,
    "start_time": "2023-01-11T18:21:16.570Z"
   },
   {
    "duration": 26,
    "start_time": "2023-01-11T18:21:16.576Z"
   },
   {
    "duration": 28,
    "start_time": "2023-01-11T18:21:16.608Z"
   },
   {
    "duration": 7,
    "start_time": "2023-01-11T18:21:16.639Z"
   },
   {
    "duration": 15,
    "start_time": "2023-01-11T18:21:16.649Z"
   },
   {
    "duration": 22,
    "start_time": "2023-01-11T18:21:16.665Z"
   },
   {
    "duration": 34,
    "start_time": "2023-01-11T18:21:16.688Z"
   },
   {
    "duration": 52,
    "start_time": "2023-01-11T18:21:16.724Z"
   },
   {
    "duration": 38,
    "start_time": "2023-01-11T18:21:16.778Z"
   },
   {
    "duration": 247,
    "start_time": "2023-01-11T18:21:16.817Z"
   },
   {
    "duration": 3,
    "start_time": "2023-01-11T18:21:17.065Z"
   },
   {
    "duration": 30,
    "start_time": "2023-01-11T18:21:17.069Z"
   },
   {
    "duration": 20,
    "start_time": "2023-01-11T18:21:17.100Z"
   },
   {
    "duration": 33,
    "start_time": "2023-01-11T18:21:17.121Z"
   },
   {
    "duration": 47,
    "start_time": "2023-01-11T18:21:17.156Z"
   },
   {
    "duration": 20,
    "start_time": "2023-01-11T18:21:17.205Z"
   },
   {
    "duration": 22,
    "start_time": "2023-01-11T18:21:17.227Z"
   },
   {
    "duration": 33,
    "start_time": "2023-01-11T18:21:17.251Z"
   },
   {
    "duration": 30,
    "start_time": "2023-01-11T18:21:17.286Z"
   },
   {
    "duration": 33,
    "start_time": "2023-01-11T18:21:17.319Z"
   },
   {
    "duration": 82,
    "start_time": "2023-01-11T18:21:17.355Z"
   },
   {
    "duration": 8,
    "start_time": "2023-01-11T18:21:17.440Z"
   },
   {
    "duration": 1404,
    "start_time": "2023-01-11T18:21:17.450Z"
   },
   {
    "duration": 623,
    "start_time": "2023-01-11T18:21:18.856Z"
   },
   {
    "duration": 3,
    "start_time": "2023-01-11T18:21:19.480Z"
   },
   {
    "duration": 34,
    "start_time": "2023-01-11T18:21:19.485Z"
   },
   {
    "duration": 22,
    "start_time": "2023-01-11T18:21:19.521Z"
   },
   {
    "duration": 28,
    "start_time": "2023-01-11T18:21:19.545Z"
   },
   {
    "duration": 21,
    "start_time": "2023-01-11T18:21:19.575Z"
   },
   {
    "duration": 25,
    "start_time": "2023-01-11T18:21:19.599Z"
   },
   {
    "duration": 18,
    "start_time": "2023-01-11T18:21:19.625Z"
   },
   {
    "duration": 27,
    "start_time": "2023-01-11T18:21:19.645Z"
   },
   {
    "duration": 18,
    "start_time": "2023-01-11T18:21:19.673Z"
   },
   {
    "duration": 26,
    "start_time": "2023-01-11T18:21:19.693Z"
   },
   {
    "duration": 541,
    "start_time": "2023-01-11T18:21:19.721Z"
   },
   {
    "duration": 7,
    "start_time": "2023-01-11T18:21:20.263Z"
   },
   {
    "duration": 41,
    "start_time": "2023-01-11T18:21:20.272Z"
   },
   {
    "duration": 15,
    "start_time": "2023-01-11T18:21:20.314Z"
   },
   {
    "duration": 37,
    "start_time": "2023-01-11T18:21:20.331Z"
   },
   {
    "duration": 25,
    "start_time": "2023-01-11T18:21:20.369Z"
   },
   {
    "duration": 26,
    "start_time": "2023-01-11T18:21:20.395Z"
   },
   {
    "duration": 221,
    "start_time": "2023-01-11T18:21:20.423Z"
   },
   {
    "duration": 3,
    "start_time": "2023-01-11T18:21:49.486Z"
   },
   {
    "duration": 79,
    "start_time": "2023-01-11T18:21:53.998Z"
   },
   {
    "duration": 3,
    "start_time": "2023-01-11T18:22:02.750Z"
   },
   {
    "duration": 83,
    "start_time": "2023-01-11T18:22:03.342Z"
   },
   {
    "duration": 329,
    "start_time": "2023-01-11T18:22:23.510Z"
   },
   {
    "duration": 376,
    "start_time": "2023-01-11T18:23:13.615Z"
   },
   {
    "duration": 119,
    "start_time": "2023-01-11T18:29:15.573Z"
   },
   {
    "duration": 107,
    "start_time": "2023-01-11T18:35:22.125Z"
   },
   {
    "duration": 341,
    "start_time": "2023-01-11T18:35:30.767Z"
   },
   {
    "duration": 318,
    "start_time": "2023-01-11T19:13:21.470Z"
   },
   {
    "duration": 297,
    "start_time": "2023-01-11T19:24:44.805Z"
   },
   {
    "duration": 81,
    "start_time": "2023-01-11T19:42:29.731Z"
   },
   {
    "duration": 4,
    "start_time": "2023-01-11T19:43:22.754Z"
   },
   {
    "duration": 21756,
    "start_time": "2023-01-11T19:43:30.082Z"
   },
   {
    "duration": 18861,
    "start_time": "2023-01-11T19:44:49.930Z"
   },
   {
    "duration": 1459,
    "start_time": "2023-01-11T19:46:08.690Z"
   },
   {
    "duration": 710,
    "start_time": "2023-01-11T19:46:10.151Z"
   },
   {
    "duration": 54,
    "start_time": "2023-01-11T19:46:10.863Z"
   },
   {
    "duration": 247,
    "start_time": "2023-01-11T19:46:10.919Z"
   },
   {
    "duration": 18,
    "start_time": "2023-01-11T19:46:11.168Z"
   },
   {
    "duration": 41,
    "start_time": "2023-01-11T19:46:11.188Z"
   },
   {
    "duration": 147,
    "start_time": "2023-01-11T19:46:11.231Z"
   },
   {
    "duration": 13,
    "start_time": "2023-01-11T19:46:11.379Z"
   },
   {
    "duration": 38,
    "start_time": "2023-01-11T19:46:11.405Z"
   },
   {
    "duration": 18,
    "start_time": "2023-01-11T19:46:11.445Z"
   },
   {
    "duration": 309,
    "start_time": "2023-01-11T19:46:11.464Z"
   },
   {
    "duration": 4,
    "start_time": "2023-01-11T19:46:11.775Z"
   },
   {
    "duration": 24,
    "start_time": "2023-01-11T19:46:11.781Z"
   },
   {
    "duration": 18,
    "start_time": "2023-01-11T19:46:11.809Z"
   },
   {
    "duration": 5,
    "start_time": "2023-01-11T19:46:11.829Z"
   },
   {
    "duration": 6,
    "start_time": "2023-01-11T19:46:11.835Z"
   },
   {
    "duration": 6,
    "start_time": "2023-01-11T19:46:11.843Z"
   },
   {
    "duration": 20,
    "start_time": "2023-01-11T19:46:11.851Z"
   },
   {
    "duration": 48,
    "start_time": "2023-01-11T19:46:11.872Z"
   },
   {
    "duration": 16,
    "start_time": "2023-01-11T19:46:11.922Z"
   },
   {
    "duration": 274,
    "start_time": "2023-01-11T19:46:11.940Z"
   },
   {
    "duration": 3,
    "start_time": "2023-01-11T19:46:12.215Z"
   },
   {
    "duration": 25,
    "start_time": "2023-01-11T19:46:12.219Z"
   },
   {
    "duration": 23,
    "start_time": "2023-01-11T19:46:12.245Z"
   },
   {
    "duration": 29,
    "start_time": "2023-01-11T19:46:12.269Z"
   },
   {
    "duration": 29,
    "start_time": "2023-01-11T19:46:12.300Z"
   },
   {
    "duration": 16,
    "start_time": "2023-01-11T19:46:12.331Z"
   },
   {
    "duration": 4,
    "start_time": "2023-01-11T19:46:12.348Z"
   },
   {
    "duration": 9,
    "start_time": "2023-01-11T19:46:12.354Z"
   },
   {
    "duration": 4,
    "start_time": "2023-01-11T19:46:12.365Z"
   },
   {
    "duration": 39,
    "start_time": "2023-01-11T19:46:12.371Z"
   },
   {
    "duration": 68,
    "start_time": "2023-01-11T19:46:12.412Z"
   },
   {
    "duration": 7,
    "start_time": "2023-01-11T19:46:12.481Z"
   },
   {
    "duration": 2334,
    "start_time": "2023-01-11T19:46:12.490Z"
   },
   {
    "duration": 570,
    "start_time": "2023-01-11T19:46:14.825Z"
   },
   {
    "duration": 3,
    "start_time": "2023-01-11T19:46:15.404Z"
   },
   {
    "duration": 19,
    "start_time": "2023-01-11T19:46:15.409Z"
   },
   {
    "duration": 33,
    "start_time": "2023-01-11T19:46:15.430Z"
   },
   {
    "duration": 15,
    "start_time": "2023-01-11T19:46:15.464Z"
   },
   {
    "duration": 26,
    "start_time": "2023-01-11T19:46:15.481Z"
   },
   {
    "duration": 36,
    "start_time": "2023-01-11T19:46:15.512Z"
   },
   {
    "duration": 33,
    "start_time": "2023-01-11T19:46:15.550Z"
   },
   {
    "duration": 40,
    "start_time": "2023-01-11T19:46:15.585Z"
   },
   {
    "duration": 17,
    "start_time": "2023-01-11T19:46:15.626Z"
   },
   {
    "duration": 33,
    "start_time": "2023-01-11T19:46:15.645Z"
   },
   {
    "duration": 531,
    "start_time": "2023-01-11T19:46:15.679Z"
   },
   {
    "duration": 8,
    "start_time": "2023-01-11T19:46:16.211Z"
   },
   {
    "duration": 46,
    "start_time": "2023-01-11T19:46:16.221Z"
   },
   {
    "duration": 22,
    "start_time": "2023-01-11T19:46:16.269Z"
   },
   {
    "duration": 48,
    "start_time": "2023-01-11T19:46:16.293Z"
   },
   {
    "duration": 25,
    "start_time": "2023-01-11T19:46:16.343Z"
   },
   {
    "duration": 25,
    "start_time": "2023-01-11T19:46:16.370Z"
   },
   {
    "duration": 20447,
    "start_time": "2023-01-11T19:46:16.397Z"
   },
   {
    "duration": 19947,
    "start_time": "2023-01-11T19:47:00.076Z"
   },
   {
    "duration": 20059,
    "start_time": "2023-01-11T19:47:28.777Z"
   },
   {
    "duration": 20060,
    "start_time": "2023-01-11T19:47:56.511Z"
   },
   {
    "duration": 1755,
    "start_time": "2023-01-11T19:49:44.285Z"
   },
   {
    "duration": 1175,
    "start_time": "2023-01-11T19:49:46.042Z"
   },
   {
    "duration": 39,
    "start_time": "2023-01-11T19:49:47.219Z"
   },
   {
    "duration": 258,
    "start_time": "2023-01-11T19:49:47.260Z"
   },
   {
    "duration": 17,
    "start_time": "2023-01-11T19:49:47.520Z"
   },
   {
    "duration": 23,
    "start_time": "2023-01-11T19:49:47.539Z"
   },
   {
    "duration": 142,
    "start_time": "2023-01-11T19:49:47.564Z"
   },
   {
    "duration": 13,
    "start_time": "2023-01-11T19:49:47.707Z"
   },
   {
    "duration": 41,
    "start_time": "2023-01-11T19:49:47.721Z"
   },
   {
    "duration": 46,
    "start_time": "2023-01-11T19:49:47.764Z"
   },
   {
    "duration": 278,
    "start_time": "2023-01-11T19:49:47.811Z"
   },
   {
    "duration": 3,
    "start_time": "2023-01-11T19:49:48.091Z"
   },
   {
    "duration": 8,
    "start_time": "2023-01-11T19:49:48.104Z"
   },
   {
    "duration": 16,
    "start_time": "2023-01-11T19:49:48.115Z"
   },
   {
    "duration": 5,
    "start_time": "2023-01-11T19:49:48.133Z"
   },
   {
    "duration": 11,
    "start_time": "2023-01-11T19:49:48.139Z"
   },
   {
    "duration": 6,
    "start_time": "2023-01-11T19:49:48.151Z"
   },
   {
    "duration": 20,
    "start_time": "2023-01-11T19:49:48.159Z"
   },
   {
    "duration": 22,
    "start_time": "2023-01-11T19:49:48.205Z"
   },
   {
    "duration": 17,
    "start_time": "2023-01-11T19:49:48.229Z"
   },
   {
    "duration": 265,
    "start_time": "2023-01-11T19:49:48.248Z"
   },
   {
    "duration": 2,
    "start_time": "2023-01-11T19:49:48.515Z"
   },
   {
    "duration": 8,
    "start_time": "2023-01-11T19:49:48.519Z"
   },
   {
    "duration": 7,
    "start_time": "2023-01-11T19:49:48.529Z"
   },
   {
    "duration": 8,
    "start_time": "2023-01-11T19:49:48.538Z"
   },
   {
    "duration": 27,
    "start_time": "2023-01-11T19:49:48.547Z"
   },
   {
    "duration": 32,
    "start_time": "2023-01-11T19:49:48.575Z"
   },
   {
    "duration": 3,
    "start_time": "2023-01-11T19:49:48.609Z"
   },
   {
    "duration": 10,
    "start_time": "2023-01-11T19:49:48.613Z"
   },
   {
    "duration": 7,
    "start_time": "2023-01-11T19:49:48.625Z"
   },
   {
    "duration": 16,
    "start_time": "2023-01-11T19:49:48.634Z"
   },
   {
    "duration": 67,
    "start_time": "2023-01-11T19:49:48.652Z"
   },
   {
    "duration": 6,
    "start_time": "2023-01-11T19:49:48.721Z"
   },
   {
    "duration": 1279,
    "start_time": "2023-01-11T19:49:48.728Z"
   },
   {
    "duration": 556,
    "start_time": "2023-01-11T19:49:50.009Z"
   },
   {
    "duration": 4,
    "start_time": "2023-01-11T19:49:50.566Z"
   },
   {
    "duration": 12,
    "start_time": "2023-01-11T19:49:50.571Z"
   },
   {
    "duration": 11,
    "start_time": "2023-01-11T19:49:50.584Z"
   },
   {
    "duration": 11,
    "start_time": "2023-01-11T19:49:50.596Z"
   },
   {
    "duration": 5,
    "start_time": "2023-01-11T19:49:50.608Z"
   },
   {
    "duration": 15,
    "start_time": "2023-01-11T19:49:50.617Z"
   },
   {
    "duration": 2,
    "start_time": "2023-01-11T19:49:50.633Z"
   },
   {
    "duration": 7,
    "start_time": "2023-01-11T19:49:50.637Z"
   },
   {
    "duration": 6,
    "start_time": "2023-01-11T19:49:50.645Z"
   },
   {
    "duration": 5,
    "start_time": "2023-01-11T19:49:50.653Z"
   },
   {
    "duration": 515,
    "start_time": "2023-01-11T19:49:50.660Z"
   },
   {
    "duration": 7,
    "start_time": "2023-01-11T19:49:51.177Z"
   },
   {
    "duration": 28,
    "start_time": "2023-01-11T19:49:51.185Z"
   },
   {
    "duration": 2,
    "start_time": "2023-01-11T19:49:51.215Z"
   },
   {
    "duration": 9,
    "start_time": "2023-01-11T19:49:51.219Z"
   },
   {
    "duration": 5,
    "start_time": "2023-01-11T19:49:51.229Z"
   },
   {
    "duration": 6,
    "start_time": "2023-01-11T19:49:51.236Z"
   },
   {
    "duration": 19933,
    "start_time": "2023-01-11T19:49:51.243Z"
   },
   {
    "duration": 43,
    "start_time": "2023-01-11T19:53:06.267Z"
   },
   {
    "duration": 38,
    "start_time": "2023-01-11T19:53:20.553Z"
   },
   {
    "duration": 19995,
    "start_time": "2023-01-11T19:53:26.945Z"
   },
   {
    "duration": 253,
    "start_time": "2023-01-11T19:58:53.579Z"
   },
   {
    "duration": 11,
    "start_time": "2023-01-11T19:59:42.933Z"
   },
   {
    "duration": 9,
    "start_time": "2023-01-11T20:00:12.649Z"
   },
   {
    "duration": 42,
    "start_time": "2023-01-11T20:05:29.085Z"
   },
   {
    "duration": 13,
    "start_time": "2023-01-11T20:05:40.091Z"
   },
   {
    "duration": 169,
    "start_time": "2023-01-11T20:05:50.444Z"
   },
   {
    "duration": 5,
    "start_time": "2023-01-11T20:06:05.035Z"
   },
   {
    "duration": 4,
    "start_time": "2023-01-11T20:07:08.289Z"
   },
   {
    "duration": 17,
    "start_time": "2023-01-11T20:08:34.441Z"
   },
   {
    "duration": 15,
    "start_time": "2023-01-11T20:08:56.468Z"
   },
   {
    "duration": 13,
    "start_time": "2023-01-11T20:09:24.874Z"
   },
   {
    "duration": 1394,
    "start_time": "2023-01-11T20:09:37.783Z"
   },
   {
    "duration": 704,
    "start_time": "2023-01-11T20:09:39.179Z"
   },
   {
    "duration": 44,
    "start_time": "2023-01-11T20:09:39.884Z"
   },
   {
    "duration": 406,
    "start_time": "2023-01-11T20:09:39.930Z"
   },
   {
    "duration": 69,
    "start_time": "2023-01-11T20:09:40.338Z"
   },
   {
    "duration": 23,
    "start_time": "2023-01-11T20:09:40.409Z"
   },
   {
    "duration": 277,
    "start_time": "2023-01-11T20:09:40.434Z"
   },
   {
    "duration": 12,
    "start_time": "2023-01-11T20:09:40.712Z"
   },
   {
    "duration": 85,
    "start_time": "2023-01-11T20:09:40.726Z"
   },
   {
    "duration": 16,
    "start_time": "2023-01-11T20:09:40.813Z"
   },
   {
    "duration": 583,
    "start_time": "2023-01-11T20:09:40.830Z"
   },
   {
    "duration": 3,
    "start_time": "2023-01-11T20:09:41.415Z"
   },
   {
    "duration": 11,
    "start_time": "2023-01-11T20:09:41.420Z"
   },
   {
    "duration": 71,
    "start_time": "2023-01-11T20:09:41.435Z"
   },
   {
    "duration": 6,
    "start_time": "2023-01-11T20:09:41.507Z"
   },
   {
    "duration": 6,
    "start_time": "2023-01-11T20:09:41.514Z"
   },
   {
    "duration": 11,
    "start_time": "2023-01-11T20:09:41.521Z"
   },
   {
    "duration": 74,
    "start_time": "2023-01-11T20:09:41.533Z"
   },
   {
    "duration": 21,
    "start_time": "2023-01-11T20:09:41.609Z"
   },
   {
    "duration": 18,
    "start_time": "2023-01-11T20:09:41.632Z"
   },
   {
    "duration": 346,
    "start_time": "2023-01-11T20:09:41.705Z"
   },
   {
    "duration": 3,
    "start_time": "2023-01-11T20:09:42.052Z"
   },
   {
    "duration": 7,
    "start_time": "2023-01-11T20:09:42.056Z"
   },
   {
    "duration": 9,
    "start_time": "2023-01-11T20:09:42.064Z"
   },
   {
    "duration": 9,
    "start_time": "2023-01-11T20:09:42.075Z"
   },
   {
    "duration": 35,
    "start_time": "2023-01-11T20:09:42.085Z"
   },
   {
    "duration": 15,
    "start_time": "2023-01-11T20:09:42.122Z"
   },
   {
    "duration": 5,
    "start_time": "2023-01-11T20:09:42.138Z"
   },
   {
    "duration": 22,
    "start_time": "2023-01-11T20:09:42.150Z"
   },
   {
    "duration": 13,
    "start_time": "2023-01-11T20:09:42.173Z"
   },
   {
    "duration": 22,
    "start_time": "2023-01-11T20:09:42.188Z"
   },
   {
    "duration": 160,
    "start_time": "2023-01-11T20:09:42.211Z"
   },
   {
    "duration": 0,
    "start_time": "2023-01-11T20:09:42.372Z"
   },
   {
    "duration": 0,
    "start_time": "2023-01-11T20:09:42.374Z"
   },
   {
    "duration": 0,
    "start_time": "2023-01-11T20:09:42.375Z"
   },
   {
    "duration": 0,
    "start_time": "2023-01-11T20:09:42.376Z"
   },
   {
    "duration": 0,
    "start_time": "2023-01-11T20:09:42.377Z"
   },
   {
    "duration": 0,
    "start_time": "2023-01-11T20:09:42.379Z"
   },
   {
    "duration": 0,
    "start_time": "2023-01-11T20:09:42.380Z"
   },
   {
    "duration": 0,
    "start_time": "2023-01-11T20:09:42.381Z"
   },
   {
    "duration": 0,
    "start_time": "2023-01-11T20:09:42.382Z"
   },
   {
    "duration": 0,
    "start_time": "2023-01-11T20:09:42.383Z"
   },
   {
    "duration": 0,
    "start_time": "2023-01-11T20:09:42.384Z"
   },
   {
    "duration": 0,
    "start_time": "2023-01-11T20:09:42.406Z"
   },
   {
    "duration": 0,
    "start_time": "2023-01-11T20:09:42.407Z"
   },
   {
    "duration": 0,
    "start_time": "2023-01-11T20:09:42.408Z"
   },
   {
    "duration": 0,
    "start_time": "2023-01-11T20:09:42.409Z"
   },
   {
    "duration": 0,
    "start_time": "2023-01-11T20:09:42.410Z"
   },
   {
    "duration": 0,
    "start_time": "2023-01-11T20:09:42.412Z"
   },
   {
    "duration": 0,
    "start_time": "2023-01-11T20:09:42.413Z"
   },
   {
    "duration": 0,
    "start_time": "2023-01-11T20:09:42.414Z"
   },
   {
    "duration": 0,
    "start_time": "2023-01-11T20:09:42.415Z"
   },
   {
    "duration": 0,
    "start_time": "2023-01-11T20:09:42.416Z"
   },
   {
    "duration": 0,
    "start_time": "2023-01-11T20:09:42.417Z"
   },
   {
    "duration": 0,
    "start_time": "2023-01-11T20:09:42.418Z"
   },
   {
    "duration": 16,
    "start_time": "2023-01-11T20:10:24.357Z"
   },
   {
    "duration": 14,
    "start_time": "2023-01-11T20:10:55.410Z"
   },
   {
    "duration": 1443,
    "start_time": "2023-01-11T20:11:03.671Z"
   },
   {
    "duration": 926,
    "start_time": "2023-01-11T20:11:05.116Z"
   },
   {
    "duration": 96,
    "start_time": "2023-01-11T20:11:06.044Z"
   },
   {
    "duration": 574,
    "start_time": "2023-01-11T20:11:06.141Z"
   },
   {
    "duration": 15,
    "start_time": "2023-01-11T20:11:06.718Z"
   },
   {
    "duration": 82,
    "start_time": "2023-01-11T20:11:06.735Z"
   },
   {
    "duration": 290,
    "start_time": "2023-01-11T20:11:06.819Z"
   },
   {
    "duration": 13,
    "start_time": "2023-01-11T20:11:07.111Z"
   },
   {
    "duration": 95,
    "start_time": "2023-01-11T20:11:07.125Z"
   },
   {
    "duration": 84,
    "start_time": "2023-01-11T20:11:07.222Z"
   },
   {
    "duration": 387,
    "start_time": "2023-01-11T20:11:07.308Z"
   },
   {
    "duration": 3,
    "start_time": "2023-01-11T20:11:07.704Z"
   },
   {
    "duration": 35,
    "start_time": "2023-01-11T20:11:07.708Z"
   },
   {
    "duration": 34,
    "start_time": "2023-01-11T20:11:07.745Z"
   },
   {
    "duration": 28,
    "start_time": "2023-01-11T20:11:07.780Z"
   },
   {
    "duration": 25,
    "start_time": "2023-01-11T20:11:07.809Z"
   },
   {
    "duration": 27,
    "start_time": "2023-01-11T20:11:07.836Z"
   },
   {
    "duration": 37,
    "start_time": "2023-01-11T20:11:07.864Z"
   },
   {
    "duration": 22,
    "start_time": "2023-01-11T20:11:07.902Z"
   },
   {
    "duration": 22,
    "start_time": "2023-01-11T20:11:07.926Z"
   },
   {
    "duration": 247,
    "start_time": "2023-01-11T20:11:07.950Z"
   },
   {
    "duration": 7,
    "start_time": "2023-01-11T20:11:08.198Z"
   },
   {
    "duration": 59,
    "start_time": "2023-01-11T20:11:08.207Z"
   },
   {
    "duration": 44,
    "start_time": "2023-01-11T20:11:08.268Z"
   },
   {
    "duration": 32,
    "start_time": "2023-01-11T20:11:08.313Z"
   },
   {
    "duration": 90,
    "start_time": "2023-01-11T20:11:08.347Z"
   },
   {
    "duration": 43,
    "start_time": "2023-01-11T20:11:08.440Z"
   },
   {
    "duration": 44,
    "start_time": "2023-01-11T20:11:08.485Z"
   },
   {
    "duration": 45,
    "start_time": "2023-01-11T20:11:08.531Z"
   },
   {
    "duration": 32,
    "start_time": "2023-01-11T20:11:08.577Z"
   },
   {
    "duration": 46,
    "start_time": "2023-01-11T20:11:08.611Z"
   },
   {
    "duration": 172,
    "start_time": "2023-01-11T20:11:08.659Z"
   },
   {
    "duration": 0,
    "start_time": "2023-01-11T20:11:08.833Z"
   },
   {
    "duration": 0,
    "start_time": "2023-01-11T20:11:08.834Z"
   },
   {
    "duration": 0,
    "start_time": "2023-01-11T20:11:08.836Z"
   },
   {
    "duration": 0,
    "start_time": "2023-01-11T20:11:08.837Z"
   },
   {
    "duration": 0,
    "start_time": "2023-01-11T20:11:08.838Z"
   },
   {
    "duration": 0,
    "start_time": "2023-01-11T20:11:08.838Z"
   },
   {
    "duration": 0,
    "start_time": "2023-01-11T20:11:08.839Z"
   },
   {
    "duration": 0,
    "start_time": "2023-01-11T20:11:08.841Z"
   },
   {
    "duration": 0,
    "start_time": "2023-01-11T20:11:08.842Z"
   },
   {
    "duration": 0,
    "start_time": "2023-01-11T20:11:08.843Z"
   },
   {
    "duration": 0,
    "start_time": "2023-01-11T20:11:08.844Z"
   },
   {
    "duration": 0,
    "start_time": "2023-01-11T20:11:08.845Z"
   },
   {
    "duration": 0,
    "start_time": "2023-01-11T20:11:08.847Z"
   },
   {
    "duration": 0,
    "start_time": "2023-01-11T20:11:08.848Z"
   },
   {
    "duration": 0,
    "start_time": "2023-01-11T20:11:08.849Z"
   },
   {
    "duration": 0,
    "start_time": "2023-01-11T20:11:08.850Z"
   },
   {
    "duration": 0,
    "start_time": "2023-01-11T20:11:08.852Z"
   },
   {
    "duration": 0,
    "start_time": "2023-01-11T20:11:08.853Z"
   },
   {
    "duration": 0,
    "start_time": "2023-01-11T20:11:08.855Z"
   },
   {
    "duration": 0,
    "start_time": "2023-01-11T20:11:08.856Z"
   },
   {
    "duration": 0,
    "start_time": "2023-01-11T20:11:08.857Z"
   },
   {
    "duration": 0,
    "start_time": "2023-01-11T20:11:08.859Z"
   },
   {
    "duration": 0,
    "start_time": "2023-01-11T20:11:08.905Z"
   },
   {
    "duration": 47,
    "start_time": "2023-01-11T20:16:29.998Z"
   },
   {
    "duration": 30,
    "start_time": "2023-01-11T20:17:46.615Z"
   },
   {
    "duration": 3,
    "start_time": "2023-01-11T20:19:24.594Z"
   },
   {
    "duration": 16,
    "start_time": "2023-01-11T20:21:12.703Z"
   },
   {
    "duration": 1451,
    "start_time": "2023-01-11T20:21:27.422Z"
   },
   {
    "duration": 1258,
    "start_time": "2023-01-11T20:21:28.875Z"
   },
   {
    "duration": 94,
    "start_time": "2023-01-11T20:21:30.135Z"
   },
   {
    "duration": 505,
    "start_time": "2023-01-11T20:21:30.230Z"
   },
   {
    "duration": 69,
    "start_time": "2023-01-11T20:21:30.737Z"
   },
   {
    "duration": 24,
    "start_time": "2023-01-11T20:21:30.808Z"
   },
   {
    "duration": 146,
    "start_time": "2023-01-11T20:21:30.833Z"
   },
   {
    "duration": 12,
    "start_time": "2023-01-11T20:21:30.980Z"
   },
   {
    "duration": 45,
    "start_time": "2023-01-11T20:21:30.993Z"
   },
   {
    "duration": 44,
    "start_time": "2023-01-11T20:21:31.039Z"
   },
   {
    "duration": 277,
    "start_time": "2023-01-11T20:21:31.085Z"
   },
   {
    "duration": 2,
    "start_time": "2023-01-11T20:21:31.365Z"
   },
   {
    "duration": 47,
    "start_time": "2023-01-11T20:21:31.369Z"
   },
   {
    "duration": 24,
    "start_time": "2023-01-11T20:21:31.419Z"
   },
   {
    "duration": 5,
    "start_time": "2023-01-11T20:21:31.445Z"
   },
   {
    "duration": 12,
    "start_time": "2023-01-11T20:21:31.451Z"
   },
   {
    "duration": 29,
    "start_time": "2023-01-11T20:21:31.464Z"
   },
   {
    "duration": 38,
    "start_time": "2023-01-11T20:21:31.495Z"
   },
   {
    "duration": 22,
    "start_time": "2023-01-11T20:21:31.535Z"
   },
   {
    "duration": 20,
    "start_time": "2023-01-11T20:21:31.559Z"
   },
   {
    "duration": 236,
    "start_time": "2023-01-11T20:21:31.581Z"
   },
   {
    "duration": 2,
    "start_time": "2023-01-11T20:21:31.819Z"
   },
   {
    "duration": 29,
    "start_time": "2023-01-11T20:21:31.823Z"
   },
   {
    "duration": 13,
    "start_time": "2023-01-11T20:21:31.854Z"
   },
   {
    "duration": 19,
    "start_time": "2023-01-11T20:21:31.868Z"
   },
   {
    "duration": 36,
    "start_time": "2023-01-11T20:21:31.889Z"
   },
   {
    "duration": 15,
    "start_time": "2023-01-11T20:21:31.927Z"
   },
   {
    "duration": 3,
    "start_time": "2023-01-11T20:21:31.943Z"
   },
   {
    "duration": 12,
    "start_time": "2023-01-11T20:21:31.947Z"
   },
   {
    "duration": 9,
    "start_time": "2023-01-11T20:21:31.960Z"
   },
   {
    "duration": 25,
    "start_time": "2023-01-11T20:21:31.971Z"
   },
   {
    "duration": 44,
    "start_time": "2023-01-11T20:21:31.998Z"
   },
   {
    "duration": 6,
    "start_time": "2023-01-11T20:21:32.043Z"
   },
   {
    "duration": 1245,
    "start_time": "2023-01-11T20:21:32.051Z"
   },
   {
    "duration": 552,
    "start_time": "2023-01-11T20:21:33.298Z"
   },
   {
    "duration": 3,
    "start_time": "2023-01-11T20:21:33.852Z"
   },
   {
    "duration": 13,
    "start_time": "2023-01-11T20:21:33.857Z"
   },
   {
    "duration": 8,
    "start_time": "2023-01-11T20:21:33.871Z"
   },
   {
    "duration": 6,
    "start_time": "2023-01-11T20:21:33.880Z"
   },
   {
    "duration": 5,
    "start_time": "2023-01-11T20:21:33.888Z"
   },
   {
    "duration": 10,
    "start_time": "2023-01-11T20:21:33.907Z"
   },
   {
    "duration": 2,
    "start_time": "2023-01-11T20:21:33.919Z"
   },
   {
    "duration": 19,
    "start_time": "2023-01-11T20:21:33.923Z"
   },
   {
    "duration": 5,
    "start_time": "2023-01-11T20:21:33.944Z"
   },
   {
    "duration": 5,
    "start_time": "2023-01-11T20:21:33.951Z"
   },
   {
    "duration": 494,
    "start_time": "2023-01-11T20:21:33.958Z"
   },
   {
    "duration": 8,
    "start_time": "2023-01-11T20:21:34.454Z"
   },
   {
    "duration": 41,
    "start_time": "2023-01-11T20:21:34.464Z"
   },
   {
    "duration": 2,
    "start_time": "2023-01-11T20:21:34.507Z"
   },
   {
    "duration": 9,
    "start_time": "2023-01-11T20:21:34.511Z"
   },
   {
    "duration": 8,
    "start_time": "2023-01-11T20:21:34.522Z"
   },
   {
    "duration": 6,
    "start_time": "2023-01-11T20:21:34.532Z"
   },
   {
    "duration": 20777,
    "start_time": "2023-01-11T20:21:34.539Z"
   },
   {
    "duration": 4,
    "start_time": "2023-01-11T20:21:55.317Z"
   },
   {
    "duration": 283,
    "start_time": "2023-01-11T20:21:55.323Z"
   },
   {
    "duration": 6,
    "start_time": "2023-01-11T20:23:33.471Z"
   },
   {
    "duration": 7,
    "start_time": "2023-01-11T20:23:49.077Z"
   },
   {
    "duration": 7,
    "start_time": "2023-01-11T20:23:55.227Z"
   },
   {
    "duration": 5,
    "start_time": "2023-01-11T20:24:15.549Z"
   },
   {
    "duration": 5,
    "start_time": "2023-01-11T20:25:20.170Z"
   },
   {
    "duration": 4,
    "start_time": "2023-01-11T20:25:32.035Z"
   },
   {
    "duration": 5,
    "start_time": "2023-01-11T20:26:49.051Z"
   },
   {
    "duration": 15,
    "start_time": "2023-01-11T20:32:26.348Z"
   },
   {
    "duration": 76,
    "start_time": "2023-01-11T20:32:42.800Z"
   },
   {
    "duration": 16,
    "start_time": "2023-01-11T20:33:09.236Z"
   },
   {
    "duration": 6,
    "start_time": "2023-01-11T20:33:21.912Z"
   },
   {
    "duration": 13,
    "start_time": "2023-01-11T20:33:39.601Z"
   },
   {
    "duration": 12,
    "start_time": "2023-01-11T20:33:43.436Z"
   },
   {
    "duration": 1427,
    "start_time": "2023-01-11T20:33:57.586Z"
   },
   {
    "duration": 686,
    "start_time": "2023-01-11T20:33:59.014Z"
   },
   {
    "duration": 41,
    "start_time": "2023-01-11T20:33:59.701Z"
   },
   {
    "duration": 275,
    "start_time": "2023-01-11T20:33:59.744Z"
   },
   {
    "duration": 17,
    "start_time": "2023-01-11T20:34:00.021Z"
   },
   {
    "duration": 27,
    "start_time": "2023-01-11T20:34:00.040Z"
   },
   {
    "duration": 267,
    "start_time": "2023-01-11T20:34:00.069Z"
   },
   {
    "duration": 13,
    "start_time": "2023-01-11T20:34:00.338Z"
   },
   {
    "duration": 100,
    "start_time": "2023-01-11T20:34:00.405Z"
   },
   {
    "duration": 134,
    "start_time": "2023-01-11T20:34:00.508Z"
   },
   {
    "duration": 577,
    "start_time": "2023-01-11T20:34:00.644Z"
   },
   {
    "duration": 3,
    "start_time": "2023-01-11T20:34:01.223Z"
   },
   {
    "duration": 12,
    "start_time": "2023-01-11T20:34:01.228Z"
   },
   {
    "duration": 73,
    "start_time": "2023-01-11T20:34:01.242Z"
   },
   {
    "duration": 8,
    "start_time": "2023-01-11T20:34:01.318Z"
   },
   {
    "duration": 13,
    "start_time": "2023-01-11T20:34:01.328Z"
   },
   {
    "duration": 64,
    "start_time": "2023-01-11T20:34:01.343Z"
   },
   {
    "duration": 18,
    "start_time": "2023-01-11T20:34:01.409Z"
   },
   {
    "duration": 35,
    "start_time": "2023-01-11T20:34:01.428Z"
   },
   {
    "duration": 59,
    "start_time": "2023-01-11T20:34:01.465Z"
   },
   {
    "duration": 17,
    "start_time": "2023-01-11T20:34:01.526Z"
   },
   {
    "duration": 451,
    "start_time": "2023-01-11T20:34:01.545Z"
   },
   {
    "duration": 8,
    "start_time": "2023-01-11T20:34:01.997Z"
   },
   {
    "duration": 81,
    "start_time": "2023-01-11T20:34:02.007Z"
   },
   {
    "duration": 21,
    "start_time": "2023-01-11T20:34:02.090Z"
   },
   {
    "duration": 46,
    "start_time": "2023-01-11T20:34:02.113Z"
   },
   {
    "duration": 56,
    "start_time": "2023-01-11T20:34:02.161Z"
   },
   {
    "duration": 15,
    "start_time": "2023-01-11T20:34:02.222Z"
   },
   {
    "duration": 25,
    "start_time": "2023-01-11T20:34:02.238Z"
   },
   {
    "duration": 25,
    "start_time": "2023-01-11T20:34:02.264Z"
   },
   {
    "duration": 5,
    "start_time": "2023-01-11T20:34:02.291Z"
   },
   {
    "duration": 37,
    "start_time": "2023-01-11T20:34:02.298Z"
   },
   {
    "duration": 20,
    "start_time": "2023-01-11T20:34:02.337Z"
   },
   {
    "duration": 25,
    "start_time": "2023-01-11T20:34:02.359Z"
   },
   {
    "duration": 56,
    "start_time": "2023-01-11T20:34:02.385Z"
   },
   {
    "duration": 6,
    "start_time": "2023-01-11T20:34:02.443Z"
   },
   {
    "duration": 1382,
    "start_time": "2023-01-11T20:34:02.451Z"
   },
   {
    "duration": 593,
    "start_time": "2023-01-11T20:34:03.835Z"
   },
   {
    "duration": 3,
    "start_time": "2023-01-11T20:34:04.430Z"
   },
   {
    "duration": 8,
    "start_time": "2023-01-11T20:34:04.434Z"
   },
   {
    "duration": 61,
    "start_time": "2023-01-11T20:34:04.444Z"
   },
   {
    "duration": 6,
    "start_time": "2023-01-11T20:34:04.507Z"
   },
   {
    "duration": 9,
    "start_time": "2023-01-11T20:34:04.515Z"
   },
   {
    "duration": 12,
    "start_time": "2023-01-11T20:34:04.526Z"
   },
   {
    "duration": 2,
    "start_time": "2023-01-11T20:34:04.539Z"
   },
   {
    "duration": 8,
    "start_time": "2023-01-11T20:34:04.543Z"
   },
   {
    "duration": 2,
    "start_time": "2023-01-11T20:34:04.605Z"
   },
   {
    "duration": 12,
    "start_time": "2023-01-11T20:34:04.609Z"
   },
   {
    "duration": 1083,
    "start_time": "2023-01-11T20:34:04.622Z"
   },
   {
    "duration": 7,
    "start_time": "2023-01-11T20:34:05.707Z"
   },
   {
    "duration": 23,
    "start_time": "2023-01-11T20:34:05.715Z"
   },
   {
    "duration": 2,
    "start_time": "2023-01-11T20:34:05.740Z"
   },
   {
    "duration": 9,
    "start_time": "2023-01-11T20:34:05.744Z"
   },
   {
    "duration": 5,
    "start_time": "2023-01-11T20:34:05.806Z"
   },
   {
    "duration": 11,
    "start_time": "2023-01-11T20:34:05.813Z"
   },
   {
    "duration": 33564,
    "start_time": "2023-01-11T20:34:05.826Z"
   },
   {
    "duration": 4,
    "start_time": "2023-01-11T20:34:39.392Z"
   },
   {
    "duration": 276,
    "start_time": "2023-01-11T20:34:39.405Z"
   },
   {
    "duration": 17,
    "start_time": "2023-01-11T20:34:53.143Z"
   },
   {
    "duration": 1649,
    "start_time": "2023-01-11T20:35:03.362Z"
   },
   {
    "duration": 1228,
    "start_time": "2023-01-11T20:35:05.014Z"
   },
   {
    "duration": 37,
    "start_time": "2023-01-11T20:35:06.244Z"
   },
   {
    "duration": 256,
    "start_time": "2023-01-11T20:35:06.283Z"
   },
   {
    "duration": 16,
    "start_time": "2023-01-11T20:35:06.541Z"
   },
   {
    "duration": 45,
    "start_time": "2023-01-11T20:35:06.559Z"
   },
   {
    "duration": 134,
    "start_time": "2023-01-11T20:35:06.606Z"
   },
   {
    "duration": 11,
    "start_time": "2023-01-11T20:35:06.742Z"
   },
   {
    "duration": 42,
    "start_time": "2023-01-11T20:35:06.755Z"
   },
   {
    "duration": 24,
    "start_time": "2023-01-11T20:35:06.804Z"
   },
   {
    "duration": 261,
    "start_time": "2023-01-11T20:35:06.829Z"
   },
   {
    "duration": 14,
    "start_time": "2023-01-11T20:35:07.091Z"
   },
   {
    "duration": 17,
    "start_time": "2023-01-11T20:35:07.106Z"
   },
   {
    "duration": 45,
    "start_time": "2023-01-11T20:35:07.126Z"
   },
   {
    "duration": 6,
    "start_time": "2023-01-11T20:35:07.173Z"
   },
   {
    "duration": 18,
    "start_time": "2023-01-11T20:35:07.180Z"
   },
   {
    "duration": 19,
    "start_time": "2023-01-11T20:35:07.200Z"
   },
   {
    "duration": 11,
    "start_time": "2023-01-11T20:35:07.221Z"
   },
   {
    "duration": 28,
    "start_time": "2023-01-11T20:35:07.234Z"
   },
   {
    "duration": 20,
    "start_time": "2023-01-11T20:35:07.263Z"
   },
   {
    "duration": 15,
    "start_time": "2023-01-11T20:35:07.284Z"
   },
   {
    "duration": 224,
    "start_time": "2023-01-11T20:35:07.301Z"
   },
   {
    "duration": 3,
    "start_time": "2023-01-11T20:35:07.527Z"
   },
   {
    "duration": 11,
    "start_time": "2023-01-11T20:35:07.532Z"
   },
   {
    "duration": 24,
    "start_time": "2023-01-11T20:35:07.545Z"
   },
   {
    "duration": 22,
    "start_time": "2023-01-11T20:35:07.571Z"
   },
   {
    "duration": 42,
    "start_time": "2023-01-11T20:35:07.595Z"
   },
   {
    "duration": 21,
    "start_time": "2023-01-11T20:35:07.639Z"
   },
   {
    "duration": 10,
    "start_time": "2023-01-11T20:35:07.662Z"
   },
   {
    "duration": 22,
    "start_time": "2023-01-11T20:35:07.674Z"
   },
   {
    "duration": 7,
    "start_time": "2023-01-11T20:35:07.697Z"
   },
   {
    "duration": 13,
    "start_time": "2023-01-11T20:35:07.706Z"
   },
   {
    "duration": 10,
    "start_time": "2023-01-11T20:35:07.721Z"
   },
   {
    "duration": 5,
    "start_time": "2023-01-11T20:35:07.732Z"
   },
   {
    "duration": 38,
    "start_time": "2023-01-11T20:35:07.739Z"
   },
   {
    "duration": 26,
    "start_time": "2023-01-11T20:35:07.779Z"
   },
   {
    "duration": 1622,
    "start_time": "2023-01-11T20:35:07.806Z"
   },
   {
    "duration": 1101,
    "start_time": "2023-01-11T20:35:09.430Z"
   },
   {
    "duration": 3,
    "start_time": "2023-01-11T20:35:10.532Z"
   },
   {
    "duration": 8,
    "start_time": "2023-01-11T20:35:10.536Z"
   },
   {
    "duration": 5,
    "start_time": "2023-01-11T20:35:10.547Z"
   },
   {
    "duration": 5,
    "start_time": "2023-01-11T20:35:10.554Z"
   },
   {
    "duration": 5,
    "start_time": "2023-01-11T20:35:10.560Z"
   },
   {
    "duration": 13,
    "start_time": "2023-01-11T20:35:10.566Z"
   },
   {
    "duration": 26,
    "start_time": "2023-01-11T20:35:10.580Z"
   },
   {
    "duration": 12,
    "start_time": "2023-01-11T20:35:10.608Z"
   },
   {
    "duration": 6,
    "start_time": "2023-01-11T20:35:10.621Z"
   },
   {
    "duration": 5,
    "start_time": "2023-01-11T20:35:10.629Z"
   },
   {
    "duration": 508,
    "start_time": "2023-01-11T20:35:10.636Z"
   },
   {
    "duration": 7,
    "start_time": "2023-01-11T20:35:11.146Z"
   },
   {
    "duration": 22,
    "start_time": "2023-01-11T20:35:11.154Z"
   },
   {
    "duration": 2,
    "start_time": "2023-01-11T20:35:11.178Z"
   },
   {
    "duration": 23,
    "start_time": "2023-01-11T20:35:11.182Z"
   },
   {
    "duration": 3,
    "start_time": "2023-01-11T20:35:11.207Z"
   },
   {
    "duration": 6,
    "start_time": "2023-01-11T20:35:11.211Z"
   },
   {
    "duration": 29476,
    "start_time": "2023-01-11T20:35:11.218Z"
   },
   {
    "duration": 9,
    "start_time": "2023-01-11T20:35:40.696Z"
   },
   {
    "duration": 261,
    "start_time": "2023-01-11T20:35:40.707Z"
   },
   {
    "duration": 163,
    "start_time": "2023-01-11T20:36:26.144Z"
   },
   {
    "duration": 160,
    "start_time": "2023-01-11T21:00:53.711Z"
   },
   {
    "duration": 3,
    "start_time": "2023-01-11T21:09:45.557Z"
   },
   {
    "duration": 28690,
    "start_time": "2023-01-11T21:09:50.278Z"
   },
   {
    "duration": 42,
    "start_time": "2023-01-11T21:23:16.565Z"
   },
   {
    "duration": 43,
    "start_time": "2023-01-11T21:25:29.766Z"
   },
   {
    "duration": 178,
    "start_time": "2023-01-11T21:29:02.355Z"
   },
   {
    "duration": 82,
    "start_time": "2023-01-11T21:39:32.881Z"
   },
   {
    "duration": 86,
    "start_time": "2023-01-11T21:42:12.291Z"
   },
   {
    "duration": 87,
    "start_time": "2023-01-11T21:44:00.802Z"
   },
   {
    "duration": 3,
    "start_time": "2023-01-11T21:44:40.526Z"
   },
   {
    "duration": 88,
    "start_time": "2023-01-11T21:44:44.002Z"
   },
   {
    "duration": 27617,
    "start_time": "2023-01-11T21:50:29.922Z"
   },
   {
    "duration": 95,
    "start_time": "2023-01-11T21:51:18.914Z"
   },
   {
    "duration": 89,
    "start_time": "2023-01-11T21:52:30.489Z"
   },
   {
    "duration": 27584,
    "start_time": "2023-01-11T21:56:21.866Z"
   },
   {
    "duration": 27671,
    "start_time": "2023-01-11T21:57:01.769Z"
   },
   {
    "duration": 39,
    "start_time": "2023-01-11T22:01:08.499Z"
   },
   {
    "duration": 547693,
    "start_time": "2023-01-11T22:01:16.186Z"
   },
   {
    "duration": 100909,
    "start_time": "2023-01-11T22:10:59.315Z"
   },
   {
    "duration": 2069,
    "start_time": "2023-01-11T22:25:26.946Z"
   },
   {
    "duration": 15215,
    "start_time": "2023-01-11T22:27:33.076Z"
   },
   {
    "duration": 157,
    "start_time": "2023-01-11T22:28:10.041Z"
   },
   {
    "duration": 72636,
    "start_time": "2023-01-11T22:28:23.650Z"
   },
   {
    "duration": 250,
    "start_time": "2023-01-11T22:29:54.002Z"
   },
   {
    "duration": 81,
    "start_time": "2023-01-11T22:32:43.820Z"
   },
   {
    "duration": 3,
    "start_time": "2023-01-11T22:32:59.298Z"
   },
   {
    "duration": 85,
    "start_time": "2023-01-11T22:33:03.285Z"
   },
   {
    "duration": 113,
    "start_time": "2023-01-11T22:33:20.603Z"
   },
   {
    "duration": 76,
    "start_time": "2023-01-11T22:33:25.579Z"
   },
   {
    "duration": 79,
    "start_time": "2023-01-11T22:33:59.745Z"
   },
   {
    "duration": 87,
    "start_time": "2023-01-11T22:37:26.890Z"
   },
   {
    "duration": 90,
    "start_time": "2023-01-11T22:37:56.891Z"
   },
   {
    "duration": 88,
    "start_time": "2023-01-11T22:38:01.913Z"
   },
   {
    "duration": 89,
    "start_time": "2023-01-11T22:38:58.018Z"
   },
   {
    "duration": 82,
    "start_time": "2023-01-11T22:39:33.619Z"
   },
   {
    "duration": 1324,
    "start_time": "2023-01-11T22:39:52.042Z"
   },
   {
    "duration": 713,
    "start_time": "2023-01-11T22:39:53.368Z"
   },
   {
    "duration": 42,
    "start_time": "2023-01-11T22:39:54.083Z"
   },
   {
    "duration": 244,
    "start_time": "2023-01-11T22:39:54.128Z"
   },
   {
    "duration": 17,
    "start_time": "2023-01-11T22:39:54.374Z"
   },
   {
    "duration": 24,
    "start_time": "2023-01-11T22:39:54.405Z"
   },
   {
    "duration": 131,
    "start_time": "2023-01-11T22:39:54.431Z"
   },
   {
    "duration": 12,
    "start_time": "2023-01-11T22:39:54.564Z"
   },
   {
    "duration": 53,
    "start_time": "2023-01-11T22:39:54.578Z"
   },
   {
    "duration": 24,
    "start_time": "2023-01-11T22:39:54.634Z"
   },
   {
    "duration": 266,
    "start_time": "2023-01-11T22:39:54.660Z"
   },
   {
    "duration": 4,
    "start_time": "2023-01-11T22:39:54.927Z"
   },
   {
    "duration": 36,
    "start_time": "2023-01-11T22:39:54.933Z"
   },
   {
    "duration": 35,
    "start_time": "2023-01-11T22:39:54.971Z"
   },
   {
    "duration": 5,
    "start_time": "2023-01-11T22:39:55.008Z"
   },
   {
    "duration": 18,
    "start_time": "2023-01-11T22:39:55.015Z"
   },
   {
    "duration": 9,
    "start_time": "2023-01-11T22:39:55.035Z"
   },
   {
    "duration": 6,
    "start_time": "2023-01-11T22:39:55.045Z"
   },
   {
    "duration": 24,
    "start_time": "2023-01-11T22:39:55.052Z"
   },
   {
    "duration": 40,
    "start_time": "2023-01-11T22:39:55.078Z"
   },
   {
    "duration": 17,
    "start_time": "2023-01-11T22:39:55.120Z"
   },
   {
    "duration": 246,
    "start_time": "2023-01-11T22:39:55.139Z"
   },
   {
    "duration": 2,
    "start_time": "2023-01-11T22:39:55.387Z"
   },
   {
    "duration": 14,
    "start_time": "2023-01-11T22:39:55.390Z"
   },
   {
    "duration": 32,
    "start_time": "2023-01-11T22:39:55.406Z"
   },
   {
    "duration": 31,
    "start_time": "2023-01-11T22:39:55.440Z"
   },
   {
    "duration": 41,
    "start_time": "2023-01-11T22:39:55.473Z"
   },
   {
    "duration": 13,
    "start_time": "2023-01-11T22:39:55.518Z"
   },
   {
    "duration": 3,
    "start_time": "2023-01-11T22:39:55.533Z"
   },
   {
    "duration": 13,
    "start_time": "2023-01-11T22:39:55.537Z"
   },
   {
    "duration": 3,
    "start_time": "2023-01-11T22:39:55.552Z"
   },
   {
    "duration": 21,
    "start_time": "2023-01-11T22:39:55.556Z"
   },
   {
    "duration": 29,
    "start_time": "2023-01-11T22:39:55.579Z"
   },
   {
    "duration": 6,
    "start_time": "2023-01-11T22:39:55.610Z"
   },
   {
    "duration": 41,
    "start_time": "2023-01-11T22:39:55.618Z"
   },
   {
    "duration": 5,
    "start_time": "2023-01-11T22:39:55.661Z"
   },
   {
    "duration": 1226,
    "start_time": "2023-01-11T22:39:55.668Z"
   },
   {
    "duration": 556,
    "start_time": "2023-01-11T22:39:56.895Z"
   },
   {
    "duration": 3,
    "start_time": "2023-01-11T22:39:57.453Z"
   },
   {
    "duration": 8,
    "start_time": "2023-01-11T22:39:57.457Z"
   },
   {
    "duration": 10,
    "start_time": "2023-01-11T22:39:57.467Z"
   },
   {
    "duration": 8,
    "start_time": "2023-01-11T22:39:57.478Z"
   },
   {
    "duration": 8,
    "start_time": "2023-01-11T22:39:57.487Z"
   },
   {
    "duration": 9,
    "start_time": "2023-01-11T22:39:57.505Z"
   },
   {
    "duration": 5,
    "start_time": "2023-01-11T22:39:57.515Z"
   },
   {
    "duration": 8,
    "start_time": "2023-01-11T22:39:57.522Z"
   },
   {
    "duration": 6,
    "start_time": "2023-01-11T22:39:57.531Z"
   },
   {
    "duration": 8,
    "start_time": "2023-01-11T22:39:57.538Z"
   },
   {
    "duration": 479,
    "start_time": "2023-01-11T22:39:57.547Z"
   },
   {
    "duration": 6,
    "start_time": "2023-01-11T22:39:58.028Z"
   },
   {
    "duration": 20,
    "start_time": "2023-01-11T22:39:58.036Z"
   },
   {
    "duration": 2,
    "start_time": "2023-01-11T22:39:58.058Z"
   },
   {
    "duration": 16,
    "start_time": "2023-01-11T22:39:58.061Z"
   },
   {
    "duration": 7,
    "start_time": "2023-01-11T22:39:58.078Z"
   },
   {
    "duration": 7,
    "start_time": "2023-01-11T22:39:58.086Z"
   },
   {
    "duration": 12,
    "start_time": "2023-01-11T22:39:58.094Z"
   },
   {
    "duration": 28191,
    "start_time": "2023-01-11T22:39:58.107Z"
   },
   {
    "duration": 101,
    "start_time": "2023-01-11T22:40:26.304Z"
   },
   {
    "duration": 15743,
    "start_time": "2023-01-11T22:40:26.408Z"
   },
   {
    "duration": 165,
    "start_time": "2023-01-11T22:40:42.152Z"
   },
   {
    "duration": 210,
    "start_time": "2023-01-11T22:40:42.319Z"
   },
   {
    "duration": 259,
    "start_time": "2023-01-11T22:40:42.531Z"
   },
   {
    "duration": 41,
    "start_time": "2023-01-11T22:40:42.792Z"
   },
   {
    "duration": 0,
    "start_time": "2023-01-11T22:40:42.834Z"
   },
   {
    "duration": 92,
    "start_time": "2023-01-11T22:46:17.654Z"
   },
   {
    "duration": 92,
    "start_time": "2023-01-11T22:47:25.651Z"
   },
   {
    "duration": 114,
    "start_time": "2023-01-11T22:48:09.237Z"
   },
   {
    "duration": 98,
    "start_time": "2023-01-11T22:48:26.516Z"
   },
   {
    "duration": 82,
    "start_time": "2023-01-11T22:48:36.765Z"
   },
   {
    "duration": 80,
    "start_time": "2023-01-11T22:48:47.102Z"
   },
   {
    "duration": 190,
    "start_time": "2023-01-11T22:48:53.316Z"
   },
   {
    "duration": 64,
    "start_time": "2023-01-11T22:52:01.038Z"
   },
   {
    "duration": 42,
    "start_time": "2023-01-11T22:52:16.461Z"
   },
   {
    "duration": 97,
    "start_time": "2023-01-11T22:53:45.638Z"
   },
   {
    "duration": 16462,
    "start_time": "2023-01-11T22:57:54.796Z"
   },
   {
    "duration": 16536,
    "start_time": "2023-01-11T22:58:11.260Z"
   },
   {
    "duration": 16482,
    "start_time": "2023-01-11T22:59:05.115Z"
   },
   {
    "duration": 45,
    "start_time": "2023-01-11T22:59:40.108Z"
   },
   {
    "duration": 41,
    "start_time": "2023-01-11T23:00:13.901Z"
   },
   {
    "duration": 78,
    "start_time": "2023-01-11T23:00:25.476Z"
   },
   {
    "duration": 42,
    "start_time": "2023-01-11T23:00:36.100Z"
   },
   {
    "duration": 62,
    "start_time": "2023-01-11T23:00:43.027Z"
   },
   {
    "duration": 12665,
    "start_time": "2023-01-11T23:06:55.093Z"
   },
   {
    "duration": 254,
    "start_time": "2023-01-11T23:08:33.531Z"
   },
   {
    "duration": 12609,
    "start_time": "2023-01-11T23:08:59.618Z"
   },
   {
    "duration": 1350,
    "start_time": "2023-01-11T23:10:11.262Z"
   },
   {
    "duration": 695,
    "start_time": "2023-01-11T23:10:12.613Z"
   },
   {
    "duration": 38,
    "start_time": "2023-01-11T23:10:13.310Z"
   },
   {
    "duration": 239,
    "start_time": "2023-01-11T23:10:13.351Z"
   },
   {
    "duration": 23,
    "start_time": "2023-01-11T23:10:13.592Z"
   },
   {
    "duration": 24,
    "start_time": "2023-01-11T23:10:13.617Z"
   },
   {
    "duration": 134,
    "start_time": "2023-01-11T23:10:13.642Z"
   },
   {
    "duration": 12,
    "start_time": "2023-01-11T23:10:13.778Z"
   },
   {
    "duration": 37,
    "start_time": "2023-01-11T23:10:13.804Z"
   },
   {
    "duration": 18,
    "start_time": "2023-01-11T23:10:13.844Z"
   },
   {
    "duration": 284,
    "start_time": "2023-01-11T23:10:13.864Z"
   },
   {
    "duration": 3,
    "start_time": "2023-01-11T23:10:14.150Z"
   },
   {
    "duration": 12,
    "start_time": "2023-01-11T23:10:14.155Z"
   },
   {
    "duration": 39,
    "start_time": "2023-01-11T23:10:14.169Z"
   },
   {
    "duration": 6,
    "start_time": "2023-01-11T23:10:14.209Z"
   },
   {
    "duration": 27,
    "start_time": "2023-01-11T23:10:14.216Z"
   },
   {
    "duration": 19,
    "start_time": "2023-01-11T23:10:14.244Z"
   },
   {
    "duration": 36,
    "start_time": "2023-01-11T23:10:14.265Z"
   },
   {
    "duration": 32,
    "start_time": "2023-01-11T23:10:14.303Z"
   },
   {
    "duration": 25,
    "start_time": "2023-01-11T23:10:14.337Z"
   },
   {
    "duration": 17,
    "start_time": "2023-01-11T23:10:14.364Z"
   },
   {
    "duration": 248,
    "start_time": "2023-01-11T23:10:14.383Z"
   },
   {
    "duration": 3,
    "start_time": "2023-01-11T23:10:14.632Z"
   },
   {
    "duration": 46,
    "start_time": "2023-01-11T23:10:14.636Z"
   },
   {
    "duration": 16,
    "start_time": "2023-01-11T23:10:14.683Z"
   },
   {
    "duration": 28,
    "start_time": "2023-01-11T23:10:14.700Z"
   },
   {
    "duration": 43,
    "start_time": "2023-01-11T23:10:14.730Z"
   },
   {
    "duration": 11,
    "start_time": "2023-01-11T23:10:14.777Z"
   },
   {
    "duration": 14,
    "start_time": "2023-01-11T23:10:14.790Z"
   },
   {
    "duration": 16,
    "start_time": "2023-01-11T23:10:14.805Z"
   },
   {
    "duration": 11,
    "start_time": "2023-01-11T23:10:14.822Z"
   },
   {
    "duration": 34,
    "start_time": "2023-01-11T23:10:14.835Z"
   },
   {
    "duration": 31,
    "start_time": "2023-01-11T23:10:14.871Z"
   },
   {
    "duration": 20,
    "start_time": "2023-01-11T23:10:14.903Z"
   },
   {
    "duration": 52,
    "start_time": "2023-01-11T23:10:14.926Z"
   },
   {
    "duration": 6,
    "start_time": "2023-01-11T23:10:14.980Z"
   },
   {
    "duration": 1283,
    "start_time": "2023-01-11T23:10:14.987Z"
   },
   {
    "duration": 546,
    "start_time": "2023-01-11T23:10:16.272Z"
   },
   {
    "duration": 3,
    "start_time": "2023-01-11T23:10:16.821Z"
   },
   {
    "duration": 32,
    "start_time": "2023-01-11T23:10:16.825Z"
   },
   {
    "duration": 22,
    "start_time": "2023-01-11T23:10:16.859Z"
   },
   {
    "duration": 31,
    "start_time": "2023-01-11T23:10:16.883Z"
   },
   {
    "duration": 24,
    "start_time": "2023-01-11T23:10:16.916Z"
   },
   {
    "duration": 32,
    "start_time": "2023-01-11T23:10:16.941Z"
   },
   {
    "duration": 13,
    "start_time": "2023-01-11T23:10:16.975Z"
   },
   {
    "duration": 27,
    "start_time": "2023-01-11T23:10:16.990Z"
   },
   {
    "duration": 23,
    "start_time": "2023-01-11T23:10:17.019Z"
   },
   {
    "duration": 28,
    "start_time": "2023-01-11T23:10:17.044Z"
   },
   {
    "duration": 557,
    "start_time": "2023-01-11T23:10:17.073Z"
   },
   {
    "duration": 8,
    "start_time": "2023-01-11T23:10:17.632Z"
   },
   {
    "duration": 20,
    "start_time": "2023-01-11T23:10:17.641Z"
   },
   {
    "duration": 3,
    "start_time": "2023-01-11T23:10:17.663Z"
   },
   {
    "duration": 10,
    "start_time": "2023-01-11T23:10:17.668Z"
   },
   {
    "duration": 7,
    "start_time": "2023-01-11T23:10:17.680Z"
   },
   {
    "duration": 3,
    "start_time": "2023-01-11T23:10:17.705Z"
   },
   {
    "duration": 9,
    "start_time": "2023-01-11T23:10:17.709Z"
   },
   {
    "duration": 29232,
    "start_time": "2023-01-11T23:10:17.720Z"
   },
   {
    "duration": 153,
    "start_time": "2023-01-11T23:10:46.954Z"
   },
   {
    "duration": 17303,
    "start_time": "2023-01-11T23:10:47.109Z"
   },
   {
    "duration": 158,
    "start_time": "2023-01-11T23:11:04.413Z"
   },
   {
    "duration": 12589,
    "start_time": "2023-01-11T23:11:04.572Z"
   },
   {
    "duration": 286,
    "start_time": "2023-01-11T23:11:17.162Z"
   },
   {
    "duration": 16665,
    "start_time": "2023-01-11T23:11:17.449Z"
   },
   {
    "duration": 269,
    "start_time": "2023-01-11T23:11:34.116Z"
   },
   {
    "duration": 43,
    "start_time": "2023-01-11T23:11:34.386Z"
   },
   {
    "duration": 0,
    "start_time": "2023-01-11T23:11:34.431Z"
   },
   {
    "duration": 1610,
    "start_time": "2023-01-12T08:27:00.822Z"
   },
   {
    "duration": 2510,
    "start_time": "2023-01-12T08:27:02.434Z"
   },
   {
    "duration": 40,
    "start_time": "2023-01-12T08:27:04.946Z"
   },
   {
    "duration": 254,
    "start_time": "2023-01-12T08:27:04.989Z"
   },
   {
    "duration": 18,
    "start_time": "2023-01-12T08:27:05.245Z"
   },
   {
    "duration": 36,
    "start_time": "2023-01-12T08:27:05.265Z"
   },
   {
    "duration": 149,
    "start_time": "2023-01-12T08:27:05.303Z"
   },
   {
    "duration": 12,
    "start_time": "2023-01-12T08:27:05.454Z"
   },
   {
    "duration": 40,
    "start_time": "2023-01-12T08:27:05.477Z"
   },
   {
    "duration": 19,
    "start_time": "2023-01-12T08:27:05.521Z"
   },
   {
    "duration": 295,
    "start_time": "2023-01-12T08:27:05.541Z"
   },
   {
    "duration": 5,
    "start_time": "2023-01-12T08:27:05.838Z"
   },
   {
    "duration": 25,
    "start_time": "2023-01-12T08:27:05.845Z"
   },
   {
    "duration": 22,
    "start_time": "2023-01-12T08:27:05.872Z"
   },
   {
    "duration": 5,
    "start_time": "2023-01-12T08:27:05.896Z"
   },
   {
    "duration": 18,
    "start_time": "2023-01-12T08:27:05.903Z"
   },
   {
    "duration": 7,
    "start_time": "2023-01-12T08:27:05.923Z"
   },
   {
    "duration": 4,
    "start_time": "2023-01-12T08:27:05.932Z"
   },
   {
    "duration": 41,
    "start_time": "2023-01-12T08:27:05.938Z"
   },
   {
    "duration": 24,
    "start_time": "2023-01-12T08:27:05.981Z"
   },
   {
    "duration": 16,
    "start_time": "2023-01-12T08:27:06.007Z"
   },
   {
    "duration": 252,
    "start_time": "2023-01-12T08:27:06.025Z"
   },
   {
    "duration": 2,
    "start_time": "2023-01-12T08:27:06.279Z"
   },
   {
    "duration": 11,
    "start_time": "2023-01-12T08:27:06.283Z"
   },
   {
    "duration": 22,
    "start_time": "2023-01-12T08:27:06.296Z"
   },
   {
    "duration": 13,
    "start_time": "2023-01-12T08:27:06.320Z"
   },
   {
    "duration": 28,
    "start_time": "2023-01-12T08:27:06.334Z"
   },
   {
    "duration": 13,
    "start_time": "2023-01-12T08:27:06.366Z"
   },
   {
    "duration": 3,
    "start_time": "2023-01-12T08:27:06.380Z"
   },
   {
    "duration": 14,
    "start_time": "2023-01-12T08:27:06.385Z"
   },
   {
    "duration": 3,
    "start_time": "2023-01-12T08:27:06.401Z"
   },
   {
    "duration": 16,
    "start_time": "2023-01-12T08:27:06.405Z"
   },
   {
    "duration": 8,
    "start_time": "2023-01-12T08:27:06.423Z"
   },
   {
    "duration": 7,
    "start_time": "2023-01-12T08:27:06.432Z"
   },
   {
    "duration": 59,
    "start_time": "2023-01-12T08:27:06.441Z"
   },
   {
    "duration": 7,
    "start_time": "2023-01-12T08:27:06.502Z"
   },
   {
    "duration": 1313,
    "start_time": "2023-01-12T08:27:06.511Z"
   },
   {
    "duration": 634,
    "start_time": "2023-01-12T08:27:07.827Z"
   },
   {
    "duration": 3,
    "start_time": "2023-01-12T08:27:08.464Z"
   },
   {
    "duration": 11,
    "start_time": "2023-01-12T08:27:08.469Z"
   },
   {
    "duration": 13,
    "start_time": "2023-01-12T08:27:08.481Z"
   },
   {
    "duration": 6,
    "start_time": "2023-01-12T08:27:08.496Z"
   },
   {
    "duration": 4,
    "start_time": "2023-01-12T08:27:08.504Z"
   },
   {
    "duration": 11,
    "start_time": "2023-01-12T08:27:08.510Z"
   },
   {
    "duration": 3,
    "start_time": "2023-01-12T08:27:08.522Z"
   },
   {
    "duration": 7,
    "start_time": "2023-01-12T08:27:08.526Z"
   },
   {
    "duration": 5,
    "start_time": "2023-01-12T08:27:08.534Z"
   },
   {
    "duration": 14,
    "start_time": "2023-01-12T08:27:08.540Z"
   },
   {
    "duration": 539,
    "start_time": "2023-01-12T08:27:08.556Z"
   },
   {
    "duration": 9,
    "start_time": "2023-01-12T08:27:09.097Z"
   },
   {
    "duration": 21,
    "start_time": "2023-01-12T08:27:09.108Z"
   },
   {
    "duration": 2,
    "start_time": "2023-01-12T08:27:09.131Z"
   },
   {
    "duration": 9,
    "start_time": "2023-01-12T08:27:09.135Z"
   },
   {
    "duration": 9,
    "start_time": "2023-01-12T08:27:09.145Z"
   },
   {
    "duration": 7,
    "start_time": "2023-01-12T08:27:09.156Z"
   },
   {
    "duration": 14,
    "start_time": "2023-01-12T08:27:09.164Z"
   },
   {
    "duration": 29315,
    "start_time": "2023-01-12T08:27:09.180Z"
   },
   {
    "duration": 102,
    "start_time": "2023-01-12T08:27:38.501Z"
   },
   {
    "duration": 17024,
    "start_time": "2023-01-12T08:27:38.606Z"
   },
   {
    "duration": 165,
    "start_time": "2023-01-12T08:27:55.632Z"
   },
   {
    "duration": 17094,
    "start_time": "2023-01-12T08:27:55.799Z"
   },
   {
    "duration": 275,
    "start_time": "2023-01-12T08:28:12.895Z"
   },
   {
    "duration": 16638,
    "start_time": "2023-01-12T08:28:13.171Z"
   },
   {
    "duration": 263,
    "start_time": "2023-01-12T08:28:29.810Z"
   },
   {
    "duration": 27,
    "start_time": "2023-01-12T08:28:30.077Z"
   },
   {
    "duration": 0,
    "start_time": "2023-01-12T08:28:30.105Z"
   },
   {
    "duration": 1068617,
    "start_time": "2023-01-12T08:34:53.273Z"
   },
   {
    "duration": 1022283,
    "start_time": "2023-01-12T09:04:21.176Z"
   },
   {
    "duration": 2185,
    "start_time": "2023-01-12T10:16:29.672Z"
   },
   {
    "duration": 257,
    "start_time": "2023-01-12T10:16:39.511Z"
   },
   {
    "duration": 5143,
    "start_time": "2023-01-12T10:16:47.915Z"
   },
   {
    "duration": 264,
    "start_time": "2023-01-12T10:16:59.889Z"
   },
   {
    "duration": 38707,
    "start_time": "2023-01-12T10:19:00.361Z"
   },
   {
    "duration": 92,
    "start_time": "2023-01-12T10:20:26.469Z"
   },
   {
    "duration": 10460,
    "start_time": "2023-01-12T10:21:49.251Z"
   },
   {
    "duration": 363,
    "start_time": "2023-01-12T10:22:06.737Z"
   },
   {
    "duration": 369,
    "start_time": "2023-01-12T10:22:14.380Z"
   },
   {
    "duration": 625,
    "start_time": "2023-01-12T10:22:28.405Z"
   },
   {
    "duration": 88,
    "start_time": "2023-01-12T10:22:36.229Z"
   },
   {
    "duration": 171,
    "start_time": "2023-01-12T10:22:41.709Z"
   },
   {
    "duration": 241,
    "start_time": "2023-01-12T10:22:50.720Z"
   },
   {
    "duration": 90,
    "start_time": "2023-01-12T10:22:54.988Z"
   },
   {
    "duration": 166,
    "start_time": "2023-01-12T10:23:01.900Z"
   },
   {
    "duration": 25440,
    "start_time": "2023-01-12T10:23:25.218Z"
   },
   {
    "duration": 117,
    "start_time": "2023-01-12T10:28:05.465Z"
   },
   {
    "duration": 170,
    "start_time": "2023-01-12T10:28:20.310Z"
   },
   {
    "duration": 365,
    "start_time": "2023-01-12T10:28:28.848Z"
   },
   {
    "duration": 15354,
    "start_time": "2023-01-12T10:28:43.871Z"
   },
   {
    "duration": 197,
    "start_time": "2023-01-12T10:29:48.203Z"
   },
   {
    "duration": 20529,
    "start_time": "2023-01-12T10:30:19.122Z"
   },
   {
    "duration": 13234,
    "start_time": "2023-01-12T10:31:10.280Z"
   },
   {
    "duration": 162,
    "start_time": "2023-01-12T10:31:28.836Z"
   },
   {
    "duration": 6751,
    "start_time": "2023-01-12T10:31:52.063Z"
   },
   {
    "duration": 238,
    "start_time": "2023-01-12T10:32:12.989Z"
   },
   {
    "duration": 3590,
    "start_time": "2023-01-12T10:32:25.061Z"
   },
   {
    "duration": 231,
    "start_time": "2023-01-12T10:32:34.955Z"
   },
   {
    "duration": 379,
    "start_time": "2023-01-12T10:32:48.444Z"
   },
   {
    "duration": 13232,
    "start_time": "2023-01-12T10:33:11.710Z"
   },
   {
    "duration": 170,
    "start_time": "2023-01-12T10:33:30.549Z"
   },
   {
    "duration": 8234,
    "start_time": "2023-01-12T10:34:49.489Z"
   },
   {
    "duration": 101,
    "start_time": "2023-01-12T10:35:13.873Z"
   },
   {
    "duration": 18261,
    "start_time": "2023-01-12T10:35:26.047Z"
   },
   {
    "duration": 6543,
    "start_time": "2023-01-12T10:36:01.226Z"
   },
   {
    "duration": 88,
    "start_time": "2023-01-12T10:36:26.106Z"
   },
   {
    "duration": 170,
    "start_time": "2023-01-12T10:36:31.351Z"
   },
   {
    "duration": 12127,
    "start_time": "2023-01-12T10:36:50.178Z"
   },
   {
    "duration": 175,
    "start_time": "2023-01-12T10:37:30.536Z"
   },
   {
    "duration": 16367,
    "start_time": "2023-01-12T10:37:46.831Z"
   },
   {
    "duration": 86,
    "start_time": "2023-01-12T10:38:21.974Z"
   },
   {
    "duration": 24604,
    "start_time": "2023-01-12T10:38:39.011Z"
   },
   {
    "duration": 89,
    "start_time": "2023-01-12T10:39:15.906Z"
   },
   {
    "duration": 32670,
    "start_time": "2023-01-12T10:39:33.577Z"
   },
   {
    "duration": 88,
    "start_time": "2023-01-12T10:40:35.037Z"
   },
   {
    "duration": 13054,
    "start_time": "2023-01-12T10:40:53.024Z"
   },
   {
    "duration": 225,
    "start_time": "2023-01-12T10:41:26.093Z"
   },
   {
    "duration": 24647,
    "start_time": "2023-01-12T10:41:47.286Z"
   },
   {
    "duration": 163,
    "start_time": "2023-01-12T10:42:25.311Z"
   },
   {
    "duration": 25852,
    "start_time": "2023-01-12T10:42:40.760Z"
   },
   {
    "duration": 164,
    "start_time": "2023-01-12T10:43:29.286Z"
   },
   {
    "duration": 33257,
    "start_time": "2023-01-12T10:43:39.884Z"
   },
   {
    "duration": 89,
    "start_time": "2023-01-12T10:44:20.745Z"
   },
   {
    "duration": 116,
    "start_time": "2023-01-12T11:28:53.264Z"
   },
   {
    "duration": 1608,
    "start_time": "2023-01-12T11:29:00.356Z"
   },
   {
    "duration": 2298,
    "start_time": "2023-01-12T11:29:01.965Z"
   },
   {
    "duration": 37,
    "start_time": "2023-01-12T11:29:04.265Z"
   },
   {
    "duration": 363,
    "start_time": "2023-01-12T11:29:04.305Z"
   },
   {
    "duration": 65,
    "start_time": "2023-01-12T11:29:04.670Z"
   },
   {
    "duration": 24,
    "start_time": "2023-01-12T11:29:04.736Z"
   },
   {
    "duration": 272,
    "start_time": "2023-01-12T11:29:04.761Z"
   },
   {
    "duration": 17,
    "start_time": "2023-01-12T11:29:05.036Z"
   },
   {
    "duration": 86,
    "start_time": "2023-01-12T11:29:05.055Z"
   },
   {
    "duration": 29,
    "start_time": "2023-01-12T11:29:05.145Z"
   },
   {
    "duration": 524,
    "start_time": "2023-01-12T11:29:05.226Z"
   },
   {
    "duration": 4,
    "start_time": "2023-01-12T11:29:05.752Z"
   },
   {
    "duration": 69,
    "start_time": "2023-01-12T11:29:05.758Z"
   },
   {
    "duration": 24,
    "start_time": "2023-01-12T11:29:05.829Z"
   },
   {
    "duration": 8,
    "start_time": "2023-01-12T11:29:05.855Z"
   },
   {
    "duration": 64,
    "start_time": "2023-01-12T11:29:05.865Z"
   },
   {
    "duration": 9,
    "start_time": "2023-01-12T11:29:05.931Z"
   },
   {
    "duration": 5,
    "start_time": "2023-01-12T11:29:05.942Z"
   },
   {
    "duration": 22,
    "start_time": "2023-01-12T11:29:05.949Z"
   },
   {
    "duration": 21,
    "start_time": "2023-01-12T11:29:06.026Z"
   },
   {
    "duration": 22,
    "start_time": "2023-01-12T11:29:06.050Z"
   },
   {
    "duration": 269,
    "start_time": "2023-01-12T11:29:06.127Z"
   },
   {
    "duration": 3,
    "start_time": "2023-01-12T11:29:06.397Z"
   },
   {
    "duration": 8,
    "start_time": "2023-01-12T11:29:06.402Z"
   },
   {
    "duration": 15,
    "start_time": "2023-01-12T11:29:06.412Z"
   },
   {
    "duration": 6,
    "start_time": "2023-01-12T11:29:06.428Z"
   },
   {
    "duration": 35,
    "start_time": "2023-01-12T11:29:06.436Z"
   },
   {
    "duration": 14,
    "start_time": "2023-01-12T11:29:06.476Z"
   },
   {
    "duration": 3,
    "start_time": "2023-01-12T11:29:06.492Z"
   },
   {
    "duration": 29,
    "start_time": "2023-01-12T11:29:06.497Z"
   },
   {
    "duration": 3,
    "start_time": "2023-01-12T11:29:06.528Z"
   },
   {
    "duration": 15,
    "start_time": "2023-01-12T11:29:06.533Z"
   },
   {
    "duration": 8,
    "start_time": "2023-01-12T11:29:06.550Z"
   },
   {
    "duration": 10,
    "start_time": "2023-01-12T11:29:06.560Z"
   },
   {
    "duration": 43,
    "start_time": "2023-01-12T11:29:06.571Z"
   },
   {
    "duration": 11,
    "start_time": "2023-01-12T11:29:06.616Z"
   },
   {
    "duration": 1265,
    "start_time": "2023-01-12T11:29:06.629Z"
   },
   {
    "duration": 502,
    "start_time": "2023-01-12T11:29:07.895Z"
   },
   {
    "duration": 3,
    "start_time": "2023-01-12T11:29:08.399Z"
   },
   {
    "duration": 8,
    "start_time": "2023-01-12T11:29:08.403Z"
   },
   {
    "duration": 15,
    "start_time": "2023-01-12T11:29:08.413Z"
   },
   {
    "duration": 6,
    "start_time": "2023-01-12T11:29:08.430Z"
   },
   {
    "duration": 15,
    "start_time": "2023-01-12T11:29:08.438Z"
   },
   {
    "duration": 11,
    "start_time": "2023-01-12T11:29:08.455Z"
   },
   {
    "duration": 5,
    "start_time": "2023-01-12T11:29:08.468Z"
   },
   {
    "duration": 11,
    "start_time": "2023-01-12T11:29:08.475Z"
   },
   {
    "duration": 5,
    "start_time": "2023-01-12T11:29:08.488Z"
   },
   {
    "duration": 5,
    "start_time": "2023-01-12T11:29:08.495Z"
   },
   {
    "duration": 486,
    "start_time": "2023-01-12T11:29:08.502Z"
   },
   {
    "duration": 6,
    "start_time": "2023-01-12T11:29:08.989Z"
   },
   {
    "duration": 32,
    "start_time": "2023-01-12T11:29:08.997Z"
   },
   {
    "duration": 3,
    "start_time": "2023-01-12T11:29:09.030Z"
   },
   {
    "duration": 9,
    "start_time": "2023-01-12T11:29:09.034Z"
   },
   {
    "duration": 6,
    "start_time": "2023-01-12T11:29:09.045Z"
   },
   {
    "duration": 9,
    "start_time": "2023-01-12T11:29:09.052Z"
   },
   {
    "duration": 6,
    "start_time": "2023-01-12T11:29:09.063Z"
   },
   {
    "duration": 12375,
    "start_time": "2023-01-12T11:29:09.070Z"
   },
   {
    "duration": 174,
    "start_time": "2023-01-12T11:29:21.446Z"
   },
   {
    "duration": 31526,
    "start_time": "2023-01-12T11:29:21.626Z"
   },
   {
    "duration": 96,
    "start_time": "2023-01-12T11:29:53.153Z"
   },
   {
    "duration": 1908819,
    "start_time": "2023-01-12T11:29:53.251Z"
   },
   {
    "duration": 34841,
    "start_time": "2023-01-12T12:01:42.072Z"
   },
   {
    "duration": 1855,
    "start_time": "2023-01-12T12:11:44.127Z"
   },
   {
    "duration": 702,
    "start_time": "2023-01-12T12:11:45.984Z"
   },
   {
    "duration": 69,
    "start_time": "2023-01-12T12:11:46.689Z"
   },
   {
    "duration": 375,
    "start_time": "2023-01-12T12:11:46.761Z"
   },
   {
    "duration": 22,
    "start_time": "2023-01-12T12:11:47.138Z"
   },
   {
    "duration": 24,
    "start_time": "2023-01-12T12:11:47.162Z"
   },
   {
    "duration": 145,
    "start_time": "2023-01-12T12:11:47.188Z"
   },
   {
    "duration": 12,
    "start_time": "2023-01-12T12:11:47.335Z"
   },
   {
    "duration": 35,
    "start_time": "2023-01-12T12:11:47.349Z"
   },
   {
    "duration": 46,
    "start_time": "2023-01-12T12:11:47.388Z"
   },
   {
    "duration": 387,
    "start_time": "2023-01-12T12:11:47.436Z"
   },
   {
    "duration": 4,
    "start_time": "2023-01-12T12:11:47.826Z"
   },
   {
    "duration": 29,
    "start_time": "2023-01-12T12:11:47.833Z"
   },
   {
    "duration": 49,
    "start_time": "2023-01-12T12:11:47.863Z"
   },
   {
    "duration": 7,
    "start_time": "2023-01-12T12:11:47.915Z"
   },
   {
    "duration": 54,
    "start_time": "2023-01-12T12:11:47.924Z"
   },
   {
    "duration": 19,
    "start_time": "2023-01-12T12:11:47.980Z"
   },
   {
    "duration": 16,
    "start_time": "2023-01-12T12:11:48.001Z"
   },
   {
    "duration": 42,
    "start_time": "2023-01-12T12:11:48.020Z"
   },
   {
    "duration": 23,
    "start_time": "2023-01-12T12:11:48.064Z"
   },
   {
    "duration": 16,
    "start_time": "2023-01-12T12:11:48.089Z"
   },
   {
    "duration": 236,
    "start_time": "2023-01-12T12:11:48.106Z"
   },
   {
    "duration": 2,
    "start_time": "2023-01-12T12:11:48.344Z"
   },
   {
    "duration": 18,
    "start_time": "2023-01-12T12:11:48.348Z"
   },
   {
    "duration": 24,
    "start_time": "2023-01-12T12:11:48.369Z"
   },
   {
    "duration": 30,
    "start_time": "2023-01-12T12:11:48.396Z"
   },
   {
    "duration": 45,
    "start_time": "2023-01-12T12:11:48.428Z"
   },
   {
    "duration": 15,
    "start_time": "2023-01-12T12:11:48.478Z"
   },
   {
    "duration": 10,
    "start_time": "2023-01-12T12:11:48.495Z"
   },
   {
    "duration": 26,
    "start_time": "2023-01-12T12:11:48.507Z"
   },
   {
    "duration": 30,
    "start_time": "2023-01-12T12:11:48.535Z"
   },
   {
    "duration": 35,
    "start_time": "2023-01-12T12:11:48.568Z"
   },
   {
    "duration": 35,
    "start_time": "2023-01-12T12:11:48.605Z"
   },
   {
    "duration": 21,
    "start_time": "2023-01-12T12:11:48.642Z"
   },
   {
    "duration": 66,
    "start_time": "2023-01-12T12:11:48.666Z"
   },
   {
    "duration": 11,
    "start_time": "2023-01-12T12:11:48.734Z"
   },
   {
    "duration": 1913,
    "start_time": "2023-01-12T12:11:48.748Z"
   },
   {
    "duration": 589,
    "start_time": "2023-01-12T12:11:50.663Z"
   },
   {
    "duration": 4,
    "start_time": "2023-01-12T12:11:51.255Z"
   },
   {
    "duration": 13,
    "start_time": "2023-01-12T12:11:51.260Z"
   },
   {
    "duration": 7,
    "start_time": "2023-01-12T12:11:51.275Z"
   },
   {
    "duration": 8,
    "start_time": "2023-01-12T12:11:51.284Z"
   },
   {
    "duration": 8,
    "start_time": "2023-01-12T12:11:51.294Z"
   },
   {
    "duration": 34,
    "start_time": "2023-01-12T12:11:51.304Z"
   },
   {
    "duration": 9,
    "start_time": "2023-01-12T12:11:51.340Z"
   },
   {
    "duration": 10,
    "start_time": "2023-01-12T12:11:51.352Z"
   },
   {
    "duration": 12,
    "start_time": "2023-01-12T12:11:51.364Z"
   },
   {
    "duration": 6,
    "start_time": "2023-01-12T12:11:51.378Z"
   },
   {
    "duration": 602,
    "start_time": "2023-01-12T12:11:51.386Z"
   },
   {
    "duration": 7,
    "start_time": "2023-01-12T12:11:51.990Z"
   },
   {
    "duration": 33,
    "start_time": "2023-01-12T12:11:51.999Z"
   },
   {
    "duration": 3,
    "start_time": "2023-01-12T12:11:52.034Z"
   },
   {
    "duration": 6,
    "start_time": "2023-01-12T12:11:52.039Z"
   },
   {
    "duration": 8,
    "start_time": "2023-01-12T12:11:52.047Z"
   },
   {
    "duration": 17,
    "start_time": "2023-01-12T12:11:52.057Z"
   },
   {
    "duration": 6,
    "start_time": "2023-01-12T12:11:52.076Z"
   },
   {
    "duration": 18022,
    "start_time": "2023-01-12T12:11:52.084Z"
   },
   {
    "duration": 159,
    "start_time": "2023-01-12T12:12:10.108Z"
   },
   {
    "duration": 32536,
    "start_time": "2023-01-12T12:12:10.269Z"
   },
   {
    "duration": 92,
    "start_time": "2023-01-12T12:12:42.807Z"
   },
   {
    "duration": 926318,
    "start_time": "2023-01-12T12:12:42.901Z"
   },
   {
    "duration": 32869,
    "start_time": "2023-01-12T12:28:09.221Z"
   },
   {
    "duration": 872939,
    "start_time": "2023-01-12T12:28:42.092Z"
   },
   {
    "duration": 4396,
    "start_time": "2023-01-12T12:43:15.033Z"
   },
   {
    "duration": 172,
    "start_time": "2023-01-12T12:43:19.430Z"
   },
   {
    "duration": 129,
    "start_time": "2023-01-12T12:43:19.603Z"
   },
   {
    "duration": 167,
    "start_time": "2023-01-12T12:43:19.735Z"
   },
   {
    "duration": 326,
    "start_time": "2023-01-12T12:43:19.904Z"
   },
   {
    "duration": 4344,
    "start_time": "2023-01-12T12:54:34.276Z"
   },
   {
    "duration": 93,
    "start_time": "2023-01-12T13:02:24.566Z"
   },
   {
    "duration": 100,
    "start_time": "2023-01-12T13:03:04.125Z"
   },
   {
    "duration": 100,
    "start_time": "2023-01-12T13:03:10.199Z"
   },
   {
    "duration": 2,
    "start_time": "2023-01-12T13:04:28.818Z"
   },
   {
    "duration": 123,
    "start_time": "2023-01-12T13:04:32.707Z"
   },
   {
    "duration": 116,
    "start_time": "2023-01-12T13:04:37.882Z"
   },
   {
    "duration": 674,
    "start_time": "2023-01-12T13:06:06.163Z"
   },
   {
    "duration": 87,
    "start_time": "2023-01-12T13:06:13.787Z"
   },
   {
    "duration": 91,
    "start_time": "2023-01-12T13:07:11.045Z"
   },
   {
    "duration": 80,
    "start_time": "2023-01-12T13:07:36.400Z"
   },
   {
    "duration": 80,
    "start_time": "2023-01-12T13:07:42.457Z"
   },
   {
    "duration": 81,
    "start_time": "2023-01-12T13:07:47.138Z"
   },
   {
    "duration": 287,
    "start_time": "2023-01-12T13:07:54.744Z"
   },
   {
    "duration": 209,
    "start_time": "2023-01-12T13:08:13.224Z"
   },
   {
    "duration": 218,
    "start_time": "2023-01-12T13:09:26.908Z"
   },
   {
    "duration": 155,
    "start_time": "2023-01-12T13:09:39.083Z"
   },
   {
    "duration": 6,
    "start_time": "2023-01-12T13:10:23.445Z"
   },
   {
    "duration": 6,
    "start_time": "2023-01-12T13:10:39.913Z"
   },
   {
    "duration": 4,
    "start_time": "2023-01-12T13:11:11.839Z"
   },
   {
    "duration": 34186,
    "start_time": "2023-01-12T13:12:07.573Z"
   },
   {
    "duration": 239,
    "start_time": "2023-01-12T13:14:17.966Z"
   },
   {
    "duration": 2074,
    "start_time": "2023-01-12T13:14:24.355Z"
   },
   {
    "duration": 4622,
    "start_time": "2023-01-12T13:14:42.661Z"
   },
   {
    "duration": 211,
    "start_time": "2023-01-12T13:29:14.330Z"
   },
   {
    "duration": 209,
    "start_time": "2023-01-12T13:30:43.146Z"
   },
   {
    "duration": 212,
    "start_time": "2023-01-12T13:30:59.125Z"
   },
   {
    "duration": 142,
    "start_time": "2023-01-12T13:31:09.171Z"
   },
   {
    "duration": 10,
    "start_time": "2023-01-12T13:33:34.153Z"
   },
   {
    "duration": 5,
    "start_time": "2023-01-12T13:34:03.873Z"
   },
   {
    "duration": 7,
    "start_time": "2023-01-12T13:37:37.973Z"
   },
   {
    "duration": 48,
    "start_time": "2023-01-12T13:39:26.490Z"
   },
   {
    "duration": 6,
    "start_time": "2023-01-12T13:40:09.894Z"
   },
   {
    "duration": 48,
    "start_time": "2023-01-12T13:40:11.038Z"
   },
   {
    "duration": 6,
    "start_time": "2023-01-12T13:40:21.877Z"
   },
   {
    "duration": 16,
    "start_time": "2023-01-12T13:40:23.561Z"
   },
   {
    "duration": 1568,
    "start_time": "2023-01-12T18:42:09.355Z"
   },
   {
    "duration": 2122,
    "start_time": "2023-01-12T18:42:10.925Z"
   },
   {
    "duration": 50,
    "start_time": "2023-01-12T18:42:13.049Z"
   },
   {
    "duration": 232,
    "start_time": "2023-01-12T18:42:13.101Z"
   },
   {
    "duration": 15,
    "start_time": "2023-01-12T18:42:13.335Z"
   },
   {
    "duration": 32,
    "start_time": "2023-01-12T18:42:13.351Z"
   },
   {
    "duration": 134,
    "start_time": "2023-01-12T18:42:13.385Z"
   },
   {
    "duration": 12,
    "start_time": "2023-01-12T18:42:13.521Z"
   },
   {
    "duration": 48,
    "start_time": "2023-01-12T18:42:13.535Z"
   },
   {
    "duration": 23,
    "start_time": "2023-01-12T18:42:13.585Z"
   },
   {
    "duration": 249,
    "start_time": "2023-01-12T18:42:13.609Z"
   },
   {
    "duration": 2,
    "start_time": "2023-01-12T18:42:13.860Z"
   },
   {
    "duration": 19,
    "start_time": "2023-01-12T18:42:13.864Z"
   },
   {
    "duration": 17,
    "start_time": "2023-01-12T18:42:13.885Z"
   },
   {
    "duration": 5,
    "start_time": "2023-01-12T18:42:13.904Z"
   },
   {
    "duration": 8,
    "start_time": "2023-01-12T18:42:13.911Z"
   },
   {
    "duration": 8,
    "start_time": "2023-01-12T18:42:13.920Z"
   },
   {
    "duration": 9,
    "start_time": "2023-01-12T18:42:13.932Z"
   },
   {
    "duration": 47,
    "start_time": "2023-01-12T18:42:13.942Z"
   },
   {
    "duration": 25,
    "start_time": "2023-01-12T18:42:13.991Z"
   },
   {
    "duration": 21,
    "start_time": "2023-01-12T18:42:14.017Z"
   },
   {
    "duration": 248,
    "start_time": "2023-01-12T18:42:14.039Z"
   },
   {
    "duration": 2,
    "start_time": "2023-01-12T18:42:14.289Z"
   },
   {
    "duration": 9,
    "start_time": "2023-01-12T18:42:14.293Z"
   },
   {
    "duration": 12,
    "start_time": "2023-01-12T18:42:14.303Z"
   },
   {
    "duration": 16,
    "start_time": "2023-01-12T18:42:14.317Z"
   },
   {
    "duration": 25,
    "start_time": "2023-01-12T18:42:14.334Z"
   },
   {
    "duration": 21,
    "start_time": "2023-01-12T18:42:14.360Z"
   },
   {
    "duration": 3,
    "start_time": "2023-01-12T18:42:14.383Z"
   },
   {
    "duration": 14,
    "start_time": "2023-01-12T18:42:14.387Z"
   },
   {
    "duration": 3,
    "start_time": "2023-01-12T18:42:14.403Z"
   },
   {
    "duration": 23,
    "start_time": "2023-01-12T18:42:14.408Z"
   },
   {
    "duration": 8,
    "start_time": "2023-01-12T18:42:14.432Z"
   },
   {
    "duration": 6,
    "start_time": "2023-01-12T18:42:14.441Z"
   },
   {
    "duration": 48,
    "start_time": "2023-01-12T18:42:14.448Z"
   },
   {
    "duration": 6,
    "start_time": "2023-01-12T18:42:14.497Z"
   },
   {
    "duration": 1231,
    "start_time": "2023-01-12T18:42:14.505Z"
   },
   {
    "duration": 525,
    "start_time": "2023-01-12T18:42:15.738Z"
   },
   {
    "duration": 3,
    "start_time": "2023-01-12T18:42:16.265Z"
   },
   {
    "duration": 31,
    "start_time": "2023-01-12T18:42:16.270Z"
   },
   {
    "duration": 9,
    "start_time": "2023-01-12T18:42:16.306Z"
   },
   {
    "duration": 18,
    "start_time": "2023-01-12T18:42:16.316Z"
   },
   {
    "duration": 11,
    "start_time": "2023-01-12T18:42:16.336Z"
   },
   {
    "duration": 31,
    "start_time": "2023-01-12T18:42:16.349Z"
   },
   {
    "duration": 5,
    "start_time": "2023-01-12T18:42:16.382Z"
   },
   {
    "duration": 24,
    "start_time": "2023-01-12T18:42:16.388Z"
   },
   {
    "duration": 17,
    "start_time": "2023-01-12T18:42:16.414Z"
   },
   {
    "duration": 13,
    "start_time": "2023-01-12T18:42:16.432Z"
   },
   {
    "duration": 455,
    "start_time": "2023-01-12T18:42:16.446Z"
   },
   {
    "duration": 7,
    "start_time": "2023-01-12T18:42:16.903Z"
   },
   {
    "duration": 28,
    "start_time": "2023-01-12T18:42:16.911Z"
   },
   {
    "duration": 5,
    "start_time": "2023-01-12T18:42:16.940Z"
   },
   {
    "duration": 32,
    "start_time": "2023-01-12T18:42:16.947Z"
   },
   {
    "duration": 11,
    "start_time": "2023-01-12T18:42:16.980Z"
   },
   {
    "duration": 24,
    "start_time": "2023-01-12T18:42:16.993Z"
   },
   {
    "duration": 20,
    "start_time": "2023-01-12T18:42:17.019Z"
   },
   {
    "duration": 12288,
    "start_time": "2023-01-12T18:42:17.041Z"
   },
   {
    "duration": 162,
    "start_time": "2023-01-12T18:42:29.331Z"
   },
   {
    "duration": 32099,
    "start_time": "2023-01-12T18:42:29.495Z"
   },
   {
    "duration": 89,
    "start_time": "2023-01-12T18:43:01.595Z"
   },
   {
    "duration": 4,
    "start_time": "2023-01-12T18:43:01.685Z"
   },
   {
    "duration": 35535,
    "start_time": "2023-01-12T18:43:01.690Z"
   },
   {
    "duration": 4,
    "start_time": "2023-01-12T18:43:37.227Z"
   },
   {
    "duration": 4641,
    "start_time": "2023-01-12T18:43:37.232Z"
   },
   {
    "duration": 209,
    "start_time": "2023-01-12T18:43:41.877Z"
   },
   {
    "duration": 392,
    "start_time": "2023-01-12T18:43:42.089Z"
   },
   {
    "duration": 238,
    "start_time": "2023-01-12T18:43:42.483Z"
   },
   {
    "duration": 271,
    "start_time": "2023-01-12T18:43:42.723Z"
   },
   {
    "duration": 0,
    "start_time": "2023-01-12T18:43:42.996Z"
   },
   {
    "duration": 0,
    "start_time": "2023-01-12T18:43:42.997Z"
   },
   {
    "duration": 240,
    "start_time": "2023-01-12T18:46:26.075Z"
   },
   {
    "duration": 242,
    "start_time": "2023-01-12T18:48:45.242Z"
   },
   {
    "duration": 10,
    "start_time": "2023-01-12T18:49:32.996Z"
   },
   {
    "duration": 13,
    "start_time": "2023-01-12T18:50:11.923Z"
   },
   {
    "duration": 234,
    "start_time": "2023-01-12T18:50:47.910Z"
   },
   {
    "duration": 244,
    "start_time": "2023-01-12T18:51:01.037Z"
   },
   {
    "duration": 86,
    "start_time": "2023-01-12T18:51:49.095Z"
   },
   {
    "duration": 94,
    "start_time": "2023-01-12T18:54:56.821Z"
   },
   {
    "duration": 157,
    "start_time": "2023-01-12T19:00:42.866Z"
   },
   {
    "duration": 87,
    "start_time": "2023-01-12T19:01:46.836Z"
   },
   {
    "duration": 86,
    "start_time": "2023-01-12T19:02:19.683Z"
   },
   {
    "duration": 85,
    "start_time": "2023-01-12T19:03:39.260Z"
   },
   {
    "duration": 4,
    "start_time": "2023-01-12T19:06:04.474Z"
   },
   {
    "duration": 15,
    "start_time": "2023-01-12T19:19:48.722Z"
   },
   {
    "duration": 22,
    "start_time": "2023-01-12T19:24:27.972Z"
   },
   {
    "duration": 15,
    "start_time": "2023-01-12T19:24:46.476Z"
   },
   {
    "duration": 21,
    "start_time": "2023-01-12T19:26:08.829Z"
   },
   {
    "duration": 10,
    "start_time": "2023-01-12T19:29:11.548Z"
   },
   {
    "duration": 12,
    "start_time": "2023-01-12T19:29:14.854Z"
   },
   {
    "duration": 15,
    "start_time": "2023-01-12T19:32:46.083Z"
   },
   {
    "duration": 11,
    "start_time": "2023-01-12T19:36:21.900Z"
   },
   {
    "duration": 10,
    "start_time": "2023-01-12T19:36:29.132Z"
   },
   {
    "duration": 19,
    "start_time": "2023-01-12T19:37:00.428Z"
   },
   {
    "duration": 14,
    "start_time": "2023-01-12T19:37:39.342Z"
   },
   {
    "duration": 78,
    "start_time": "2023-01-12T19:54:56.414Z"
   },
   {
    "duration": 5,
    "start_time": "2023-01-12T19:55:05.756Z"
   },
   {
    "duration": 10,
    "start_time": "2023-01-12T19:58:09.534Z"
   },
   {
    "duration": 3,
    "start_time": "2023-01-12T19:58:48.134Z"
   },
   {
    "duration": 7,
    "start_time": "2023-01-12T19:58:55.790Z"
   },
   {
    "duration": 7,
    "start_time": "2023-01-12T20:00:34.422Z"
   },
   {
    "duration": 157,
    "start_time": "2023-01-12T20:04:26.316Z"
   },
   {
    "duration": 1358,
    "start_time": "2023-01-12T20:13:51.937Z"
   },
   {
    "duration": 729,
    "start_time": "2023-01-12T20:13:53.297Z"
   },
   {
    "duration": 75,
    "start_time": "2023-01-12T20:13:54.028Z"
   },
   {
    "duration": 385,
    "start_time": "2023-01-12T20:13:54.107Z"
   },
   {
    "duration": 16,
    "start_time": "2023-01-12T20:13:54.494Z"
   },
   {
    "duration": 87,
    "start_time": "2023-01-12T20:13:54.511Z"
   },
   {
    "duration": 223,
    "start_time": "2023-01-12T20:13:54.600Z"
   },
   {
    "duration": 12,
    "start_time": "2023-01-12T20:13:54.878Z"
   },
   {
    "duration": 88,
    "start_time": "2023-01-12T20:13:54.891Z"
   },
   {
    "duration": 17,
    "start_time": "2023-01-12T20:13:54.981Z"
   },
   {
    "duration": 523,
    "start_time": "2023-01-12T20:13:54.999Z"
   },
   {
    "duration": 55,
    "start_time": "2023-01-12T20:13:55.523Z"
   },
   {
    "duration": 9,
    "start_time": "2023-01-12T20:13:55.580Z"
   },
   {
    "duration": 17,
    "start_time": "2023-01-12T20:13:55.591Z"
   },
   {
    "duration": 5,
    "start_time": "2023-01-12T20:13:55.610Z"
   },
   {
    "duration": 63,
    "start_time": "2023-01-12T20:13:55.616Z"
   },
   {
    "duration": 6,
    "start_time": "2023-01-12T20:13:55.681Z"
   },
   {
    "duration": 6,
    "start_time": "2023-01-12T20:13:55.689Z"
   },
   {
    "duration": 18,
    "start_time": "2023-01-12T20:13:55.697Z"
   },
   {
    "duration": 71,
    "start_time": "2023-01-12T20:13:55.716Z"
   },
   {
    "duration": 20,
    "start_time": "2023-01-12T20:13:55.789Z"
   },
   {
    "duration": 390,
    "start_time": "2023-01-12T20:13:55.810Z"
   },
   {
    "duration": 3,
    "start_time": "2023-01-12T20:13:56.201Z"
   },
   {
    "duration": 6,
    "start_time": "2023-01-12T20:13:56.205Z"
   },
   {
    "duration": 6,
    "start_time": "2023-01-12T20:13:56.212Z"
   },
   {
    "duration": 8,
    "start_time": "2023-01-12T20:13:56.219Z"
   },
   {
    "duration": 25,
    "start_time": "2023-01-12T20:13:56.228Z"
   },
   {
    "duration": 25,
    "start_time": "2023-01-12T20:13:56.258Z"
   },
   {
    "duration": 3,
    "start_time": "2023-01-12T20:13:56.284Z"
   },
   {
    "duration": 10,
    "start_time": "2023-01-12T20:13:56.289Z"
   },
   {
    "duration": 2,
    "start_time": "2023-01-12T20:13:56.301Z"
   },
   {
    "duration": 14,
    "start_time": "2023-01-12T20:13:56.305Z"
   },
   {
    "duration": 7,
    "start_time": "2023-01-12T20:13:56.321Z"
   },
   {
    "duration": 7,
    "start_time": "2023-01-12T20:13:56.330Z"
   },
   {
    "duration": 61,
    "start_time": "2023-01-12T20:13:56.338Z"
   },
   {
    "duration": 5,
    "start_time": "2023-01-12T20:13:56.401Z"
   },
   {
    "duration": 1242,
    "start_time": "2023-01-12T20:13:56.408Z"
   },
   {
    "duration": 527,
    "start_time": "2023-01-12T20:13:57.651Z"
   },
   {
    "duration": 3,
    "start_time": "2023-01-12T20:13:58.179Z"
   },
   {
    "duration": 9,
    "start_time": "2023-01-12T20:13:58.183Z"
   },
   {
    "duration": 9,
    "start_time": "2023-01-12T20:13:58.194Z"
   },
   {
    "duration": 7,
    "start_time": "2023-01-12T20:13:58.204Z"
   },
   {
    "duration": 10,
    "start_time": "2023-01-12T20:13:58.212Z"
   },
   {
    "duration": 9,
    "start_time": "2023-01-12T20:13:58.224Z"
   },
   {
    "duration": 3,
    "start_time": "2023-01-12T20:13:58.235Z"
   },
   {
    "duration": 14,
    "start_time": "2023-01-12T20:13:58.239Z"
   },
   {
    "duration": 9,
    "start_time": "2023-01-12T20:13:58.255Z"
   },
   {
    "duration": 9,
    "start_time": "2023-01-12T20:13:58.265Z"
   },
   {
    "duration": 457,
    "start_time": "2023-01-12T20:13:58.275Z"
   },
   {
    "duration": 6,
    "start_time": "2023-01-12T20:13:58.733Z"
   },
   {
    "duration": 18,
    "start_time": "2023-01-12T20:13:58.741Z"
   },
   {
    "duration": 2,
    "start_time": "2023-01-12T20:13:58.761Z"
   },
   {
    "duration": 3,
    "start_time": "2023-01-12T20:13:58.777Z"
   },
   {
    "duration": 9,
    "start_time": "2023-01-12T20:13:58.781Z"
   },
   {
    "duration": 6,
    "start_time": "2023-01-12T20:13:58.791Z"
   },
   {
    "duration": 5,
    "start_time": "2023-01-12T20:13:58.799Z"
   },
   {
    "duration": 12416,
    "start_time": "2023-01-12T20:13:58.805Z"
   },
   {
    "duration": 164,
    "start_time": "2023-01-12T20:14:11.223Z"
   },
   {
    "duration": 31724,
    "start_time": "2023-01-12T20:14:11.389Z"
   },
   {
    "duration": 88,
    "start_time": "2023-01-12T20:14:43.115Z"
   },
   {
    "duration": 3,
    "start_time": "2023-01-12T20:14:43.205Z"
   },
   {
    "duration": 34857,
    "start_time": "2023-01-12T20:14:43.209Z"
   },
   {
    "duration": 3,
    "start_time": "2023-01-12T20:15:18.068Z"
   },
   {
    "duration": 4797,
    "start_time": "2023-01-12T20:15:18.073Z"
   },
   {
    "duration": 412,
    "start_time": "2023-01-12T20:15:22.872Z"
   },
   {
    "duration": 401,
    "start_time": "2023-01-12T20:15:23.286Z"
   },
   {
    "duration": 169,
    "start_time": "2023-01-12T20:15:23.778Z"
   },
   {
    "duration": 110,
    "start_time": "2023-01-12T20:15:23.949Z"
   },
   {
    "duration": 4,
    "start_time": "2023-01-12T20:15:24.061Z"
   },
   {
    "duration": 33,
    "start_time": "2023-01-12T20:15:24.067Z"
   },
   {
    "duration": 14,
    "start_time": "2023-01-12T20:15:24.102Z"
   },
   {
    "duration": 49,
    "start_time": "2023-01-12T20:15:24.118Z"
   },
   {
    "duration": 20,
    "start_time": "2023-01-12T20:15:24.169Z"
   },
   {
    "duration": 1632,
    "start_time": "2023-01-13T05:44:14.124Z"
   },
   {
    "duration": 2233,
    "start_time": "2023-01-13T05:44:15.758Z"
   },
   {
    "duration": 37,
    "start_time": "2023-01-13T05:44:17.993Z"
   },
   {
    "duration": 270,
    "start_time": "2023-01-13T05:44:18.032Z"
   },
   {
    "duration": 15,
    "start_time": "2023-01-13T05:44:18.304Z"
   },
   {
    "duration": 25,
    "start_time": "2023-01-13T05:44:18.321Z"
   },
   {
    "duration": 162,
    "start_time": "2023-01-13T05:44:18.347Z"
   },
   {
    "duration": 12,
    "start_time": "2023-01-13T05:44:18.510Z"
   },
   {
    "duration": 68,
    "start_time": "2023-01-13T05:44:18.523Z"
   },
   {
    "duration": 22,
    "start_time": "2023-01-13T05:44:18.595Z"
   },
   {
    "duration": 251,
    "start_time": "2023-01-13T05:44:18.619Z"
   },
   {
    "duration": 3,
    "start_time": "2023-01-13T05:44:18.872Z"
   },
   {
    "duration": 80,
    "start_time": "2023-01-13T05:44:18.877Z"
   },
   {
    "duration": 25,
    "start_time": "2023-01-13T05:44:18.959Z"
   },
   {
    "duration": 6,
    "start_time": "2023-01-13T05:44:18.986Z"
   },
   {
    "duration": 21,
    "start_time": "2023-01-13T05:44:18.994Z"
   },
   {
    "duration": 13,
    "start_time": "2023-01-13T05:44:19.017Z"
   },
   {
    "duration": 16,
    "start_time": "2023-01-13T05:44:19.031Z"
   },
   {
    "duration": 24,
    "start_time": "2023-01-13T05:44:19.049Z"
   },
   {
    "duration": 28,
    "start_time": "2023-01-13T05:44:19.075Z"
   },
   {
    "duration": 18,
    "start_time": "2023-01-13T05:44:19.105Z"
   },
   {
    "duration": 229,
    "start_time": "2023-01-13T05:44:19.125Z"
   },
   {
    "duration": 2,
    "start_time": "2023-01-13T05:44:19.356Z"
   },
   {
    "duration": 10,
    "start_time": "2023-01-13T05:44:19.359Z"
   },
   {
    "duration": 16,
    "start_time": "2023-01-13T05:44:19.370Z"
   },
   {
    "duration": 15,
    "start_time": "2023-01-13T05:44:19.387Z"
   },
   {
    "duration": 36,
    "start_time": "2023-01-13T05:44:19.403Z"
   },
   {
    "duration": 22,
    "start_time": "2023-01-13T05:44:19.444Z"
   },
   {
    "duration": 4,
    "start_time": "2023-01-13T05:44:19.468Z"
   },
   {
    "duration": 24,
    "start_time": "2023-01-13T05:44:19.473Z"
   },
   {
    "duration": 9,
    "start_time": "2023-01-13T05:44:19.499Z"
   },
   {
    "duration": 26,
    "start_time": "2023-01-13T05:44:19.510Z"
   },
   {
    "duration": 21,
    "start_time": "2023-01-13T05:44:19.537Z"
   },
   {
    "duration": 15,
    "start_time": "2023-01-13T05:44:19.560Z"
   },
   {
    "duration": 50,
    "start_time": "2023-01-13T05:44:19.577Z"
   },
   {
    "duration": 6,
    "start_time": "2023-01-13T05:44:19.629Z"
   },
   {
    "duration": 1233,
    "start_time": "2023-01-13T05:44:19.637Z"
   },
   {
    "duration": 542,
    "start_time": "2023-01-13T05:44:20.872Z"
   },
   {
    "duration": 3,
    "start_time": "2023-01-13T05:44:21.415Z"
   },
   {
    "duration": 14,
    "start_time": "2023-01-13T05:44:21.420Z"
   },
   {
    "duration": 6,
    "start_time": "2023-01-13T05:44:21.435Z"
   },
   {
    "duration": 5,
    "start_time": "2023-01-13T05:44:21.443Z"
   },
   {
    "duration": 6,
    "start_time": "2023-01-13T05:44:21.450Z"
   },
   {
    "duration": 12,
    "start_time": "2023-01-13T05:44:21.458Z"
   },
   {
    "duration": 500,
    "start_time": "2023-01-13T05:44:21.471Z"
   },
   {
    "duration": 6,
    "start_time": "2023-01-13T05:44:21.972Z"
   },
   {
    "duration": 32,
    "start_time": "2023-01-13T05:44:21.980Z"
   },
   {
    "duration": 3,
    "start_time": "2023-01-13T05:44:22.013Z"
   },
   {
    "duration": 14,
    "start_time": "2023-01-13T05:44:22.017Z"
   },
   {
    "duration": 16,
    "start_time": "2023-01-13T05:44:22.033Z"
   },
   {
    "duration": 12834,
    "start_time": "2023-01-13T05:44:22.051Z"
   },
   {
    "duration": 173,
    "start_time": "2023-01-13T05:44:34.886Z"
   },
   {
    "duration": 32625,
    "start_time": "2023-01-13T05:44:35.061Z"
   },
   {
    "duration": 95,
    "start_time": "2023-01-13T05:45:07.688Z"
   },
   {
    "duration": 4,
    "start_time": "2023-01-13T05:45:07.785Z"
   },
   {
    "duration": 35046,
    "start_time": "2023-01-13T05:45:07.791Z"
   },
   {
    "duration": 5,
    "start_time": "2023-01-13T05:45:42.838Z"
   },
   {
    "duration": 4788,
    "start_time": "2023-01-13T05:45:42.845Z"
   },
   {
    "duration": 179,
    "start_time": "2023-01-13T05:45:47.635Z"
   },
   {
    "duration": 305,
    "start_time": "2023-01-13T05:45:47.906Z"
   },
   {
    "duration": 301,
    "start_time": "2023-01-13T05:45:48.214Z"
   },
   {
    "duration": 95,
    "start_time": "2023-01-13T05:45:48.517Z"
   },
   {
    "duration": 2,
    "start_time": "2023-01-13T05:45:48.614Z"
   },
   {
    "duration": 5,
    "start_time": "2023-01-13T05:45:48.618Z"
   },
   {
    "duration": 5,
    "start_time": "2023-01-13T05:45:48.624Z"
   },
   {
    "duration": 7,
    "start_time": "2023-01-13T05:45:48.630Z"
   },
   {
    "duration": 8,
    "start_time": "2023-01-13T05:45:48.638Z"
   },
   {
    "duration": 1782,
    "start_time": "2023-01-13T12:33:24.120Z"
   },
   {
    "duration": 2187,
    "start_time": "2023-01-13T12:33:25.904Z"
   },
   {
    "duration": 50,
    "start_time": "2023-01-13T12:33:28.093Z"
   },
   {
    "duration": 267,
    "start_time": "2023-01-13T12:33:28.145Z"
   },
   {
    "duration": 19,
    "start_time": "2023-01-13T12:33:28.414Z"
   },
   {
    "duration": 48,
    "start_time": "2023-01-13T12:33:28.435Z"
   },
   {
    "duration": 150,
    "start_time": "2023-01-13T12:33:28.485Z"
   },
   {
    "duration": 14,
    "start_time": "2023-01-13T12:33:28.636Z"
   },
   {
    "duration": 52,
    "start_time": "2023-01-13T12:33:28.652Z"
   },
   {
    "duration": 17,
    "start_time": "2023-01-13T12:33:28.707Z"
   },
   {
    "duration": 311,
    "start_time": "2023-01-13T12:33:28.726Z"
   },
   {
    "duration": 3,
    "start_time": "2023-01-13T12:33:31.247Z"
   },
   {
    "duration": 9,
    "start_time": "2023-01-13T12:33:31.542Z"
   },
   {
    "duration": 17,
    "start_time": "2023-01-13T12:33:31.821Z"
   },
   {
    "duration": 5,
    "start_time": "2023-01-13T12:33:32.145Z"
   },
   {
    "duration": 7,
    "start_time": "2023-01-13T12:33:32.734Z"
   },
   {
    "duration": 4,
    "start_time": "2023-01-13T12:33:34.614Z"
   },
   {
    "duration": 3,
    "start_time": "2023-01-13T12:33:37.930Z"
   },
   {
    "duration": 16,
    "start_time": "2023-01-13T12:33:38.395Z"
   },
   {
    "duration": 24,
    "start_time": "2023-01-13T12:33:39.407Z"
   },
   {
    "duration": 17,
    "start_time": "2023-01-13T12:33:40.635Z"
   },
   {
    "duration": 241,
    "start_time": "2023-01-13T12:33:42.315Z"
   },
   {
    "duration": 2,
    "start_time": "2023-01-13T12:33:43.760Z"
   },
   {
    "duration": 4,
    "start_time": "2023-01-13T12:33:44.091Z"
   },
   {
    "duration": 4,
    "start_time": "2023-01-13T12:33:48.253Z"
   },
   {
    "duration": 7,
    "start_time": "2023-01-13T12:33:49.310Z"
   },
   {
    "duration": 30,
    "start_time": "2023-01-13T12:34:17.327Z"
   },
   {
    "duration": 24,
    "start_time": "2023-01-13T12:38:46.726Z"
   },
   {
    "duration": 14,
    "start_time": "2023-01-13T12:38:48.121Z"
   },
   {
    "duration": 3,
    "start_time": "2023-01-13T12:38:48.724Z"
   },
   {
    "duration": 10,
    "start_time": "2023-01-13T12:38:50.501Z"
   },
   {
    "duration": 3,
    "start_time": "2023-01-13T12:38:51.024Z"
   },
   {
    "duration": 13,
    "start_time": "2023-01-13T12:38:51.534Z"
   },
   {
    "duration": 4,
    "start_time": "2023-01-13T12:38:51.866Z"
   },
   {
    "duration": 6,
    "start_time": "2023-01-13T12:38:54.006Z"
   },
   {
    "duration": 46,
    "start_time": "2023-01-13T12:38:55.974Z"
   },
   {
    "duration": 7,
    "start_time": "2023-01-13T12:39:01.316Z"
   },
   {
    "duration": 1330,
    "start_time": "2023-01-13T12:39:02.161Z"
   },
   {
    "duration": 563,
    "start_time": "2023-01-13T12:39:07.920Z"
   },
   {
    "duration": 4,
    "start_time": "2023-01-13T12:39:09.639Z"
   },
   {
    "duration": 5,
    "start_time": "2023-01-13T12:39:10.010Z"
   },
   {
    "duration": 6,
    "start_time": "2023-01-13T12:39:10.530Z"
   },
   {
    "duration": 6,
    "start_time": "2023-01-13T12:39:10.867Z"
   },
   {
    "duration": 6,
    "start_time": "2023-01-13T12:39:11.131Z"
   },
   {
    "duration": 14,
    "start_time": "2023-01-13T12:39:11.404Z"
   },
   {
    "duration": 537,
    "start_time": "2023-01-13T12:39:11.807Z"
   },
   {
    "duration": 8,
    "start_time": "2023-01-13T12:39:13.965Z"
   },
   {
    "duration": 3,
    "start_time": "2023-01-13T12:39:27.511Z"
   },
   {
    "duration": 103,
    "start_time": "2023-01-13T12:39:32.515Z"
   },
   {
    "duration": 4,
    "start_time": "2023-01-13T12:39:41.047Z"
   },
   {
    "duration": 6,
    "start_time": "2023-01-13T12:40:13.350Z"
   },
   {
    "duration": 7,
    "start_time": "2023-01-13T12:40:24.155Z"
   },
   {
    "duration": 6,
    "start_time": "2023-01-13T12:40:33.456Z"
   },
   {
    "duration": 5,
    "start_time": "2023-01-13T12:41:25.664Z"
   },
   {
    "duration": 1535,
    "start_time": "2023-01-13T17:32:28.678Z"
   },
   {
    "duration": 2064,
    "start_time": "2023-01-13T17:32:30.215Z"
   },
   {
    "duration": 34,
    "start_time": "2023-01-13T17:32:32.281Z"
   },
   {
    "duration": 233,
    "start_time": "2023-01-13T17:32:32.317Z"
   },
   {
    "duration": 27,
    "start_time": "2023-01-13T17:32:32.552Z"
   },
   {
    "duration": 24,
    "start_time": "2023-01-13T17:32:32.580Z"
   },
   {
    "duration": 128,
    "start_time": "2023-01-13T17:32:32.606Z"
   },
   {
    "duration": 11,
    "start_time": "2023-01-13T17:32:32.735Z"
   },
   {
    "duration": 51,
    "start_time": "2023-01-13T17:32:32.748Z"
   },
   {
    "duration": 20,
    "start_time": "2023-01-13T17:32:32.802Z"
   },
   {
    "duration": 275,
    "start_time": "2023-01-13T17:32:32.824Z"
   },
   {
    "duration": 3,
    "start_time": "2023-01-13T17:32:33.100Z"
   },
   {
    "duration": 10,
    "start_time": "2023-01-13T17:32:33.104Z"
   },
   {
    "duration": 16,
    "start_time": "2023-01-13T17:32:33.115Z"
   },
   {
    "duration": 5,
    "start_time": "2023-01-13T17:32:33.133Z"
   },
   {
    "duration": 12,
    "start_time": "2023-01-13T17:32:33.139Z"
   },
   {
    "duration": 41,
    "start_time": "2023-01-13T17:32:33.152Z"
   },
   {
    "duration": 6,
    "start_time": "2023-01-13T17:32:33.194Z"
   },
   {
    "duration": 20,
    "start_time": "2023-01-13T17:32:33.201Z"
   },
   {
    "duration": 28,
    "start_time": "2023-01-13T17:32:33.223Z"
   },
   {
    "duration": 14,
    "start_time": "2023-01-13T17:32:33.253Z"
   },
   {
    "duration": 217,
    "start_time": "2023-01-13T17:32:33.268Z"
   },
   {
    "duration": 3,
    "start_time": "2023-01-13T17:32:33.486Z"
   },
   {
    "duration": 5,
    "start_time": "2023-01-13T17:32:33.491Z"
   },
   {
    "duration": 7,
    "start_time": "2023-01-13T17:32:33.497Z"
   },
   {
    "duration": 9,
    "start_time": "2023-01-13T17:32:33.506Z"
   },
   {
    "duration": 25,
    "start_time": "2023-01-13T17:32:33.517Z"
   },
   {
    "duration": 34,
    "start_time": "2023-01-13T17:32:33.546Z"
   },
   {
    "duration": 3,
    "start_time": "2023-01-13T17:32:33.582Z"
   },
   {
    "duration": 11,
    "start_time": "2023-01-13T17:32:33.586Z"
   },
   {
    "duration": 3,
    "start_time": "2023-01-13T17:32:33.598Z"
   },
   {
    "duration": 19,
    "start_time": "2023-01-13T17:32:33.602Z"
   },
   {
    "duration": 8,
    "start_time": "2023-01-13T17:32:33.623Z"
   },
   {
    "duration": 5,
    "start_time": "2023-01-13T17:32:33.633Z"
   },
   {
    "duration": 55,
    "start_time": "2023-01-13T17:32:33.640Z"
   },
   {
    "duration": 5,
    "start_time": "2023-01-13T17:32:33.697Z"
   },
   {
    "duration": 1207,
    "start_time": "2023-01-13T17:32:33.703Z"
   },
   {
    "duration": 526,
    "start_time": "2023-01-13T17:32:34.912Z"
   },
   {
    "duration": 3,
    "start_time": "2023-01-13T17:32:35.440Z"
   },
   {
    "duration": 7,
    "start_time": "2023-01-13T17:32:35.444Z"
   },
   {
    "duration": 6,
    "start_time": "2023-01-13T17:32:35.453Z"
   },
   {
    "duration": 7,
    "start_time": "2023-01-13T17:32:35.460Z"
   },
   {
    "duration": 12,
    "start_time": "2023-01-13T17:32:35.468Z"
   },
   {
    "duration": 15,
    "start_time": "2023-01-13T17:32:35.481Z"
   },
   {
    "duration": 473,
    "start_time": "2023-01-13T17:32:35.498Z"
   },
   {
    "duration": 7,
    "start_time": "2023-01-13T17:32:35.973Z"
   },
   {
    "duration": 18,
    "start_time": "2023-01-13T17:32:35.982Z"
   },
   {
    "duration": 3,
    "start_time": "2023-01-13T17:32:36.002Z"
   },
   {
    "duration": 5,
    "start_time": "2023-01-13T17:32:36.006Z"
   },
   {
    "duration": 5,
    "start_time": "2023-01-13T17:32:36.012Z"
   },
   {
    "duration": 12268,
    "start_time": "2023-01-13T17:32:36.018Z"
   },
   {
    "duration": 163,
    "start_time": "2023-01-13T17:32:48.288Z"
   },
   {
    "duration": 32877,
    "start_time": "2023-01-13T17:32:48.453Z"
   },
   {
    "duration": 90,
    "start_time": "2023-01-13T17:33:21.332Z"
   },
   {
    "duration": 4,
    "start_time": "2023-01-13T17:33:21.424Z"
   },
   {
    "duration": 34731,
    "start_time": "2023-01-13T17:33:21.430Z"
   },
   {
    "duration": 4,
    "start_time": "2023-01-13T17:33:56.162Z"
   },
   {
    "duration": 4635,
    "start_time": "2023-01-13T17:33:56.167Z"
   },
   {
    "duration": 184,
    "start_time": "2023-01-13T17:34:00.803Z"
   },
   {
    "duration": 304,
    "start_time": "2023-01-13T17:34:01.079Z"
   },
   {
    "duration": 244,
    "start_time": "2023-01-13T17:34:01.385Z"
   },
   {
    "duration": 91,
    "start_time": "2023-01-13T17:34:01.630Z"
   },
   {
    "duration": 3,
    "start_time": "2023-01-13T17:34:01.722Z"
   },
   {
    "duration": 22,
    "start_time": "2023-01-13T17:34:01.727Z"
   },
   {
    "duration": 10,
    "start_time": "2023-01-13T17:34:01.750Z"
   },
   {
    "duration": 30,
    "start_time": "2023-01-13T17:34:01.761Z"
   },
   {
    "duration": 11,
    "start_time": "2023-01-13T17:34:01.792Z"
   },
   {
    "duration": 110,
    "start_time": "2023-01-13T17:45:07.364Z"
   },
   {
    "duration": 75,
    "start_time": "2023-01-13T17:45:15.059Z"
   },
   {
    "duration": 6362,
    "start_time": "2023-01-13T17:47:02.027Z"
   },
   {
    "duration": 123,
    "start_time": "2023-01-13T17:47:16.935Z"
   },
   {
    "duration": 714,
    "start_time": "2023-01-13T17:47:32.690Z"
   },
   {
    "duration": 468,
    "start_time": "2023-01-13T17:48:18.010Z"
   },
   {
    "duration": 108,
    "start_time": "2023-01-13T17:48:27.938Z"
   },
   {
    "duration": 5998,
    "start_time": "2023-01-13T17:48:43.782Z"
   },
   {
    "duration": 796,
    "start_time": "2023-01-13T17:49:13.561Z"
   },
   {
    "duration": 5947,
    "start_time": "2023-01-13T17:49:24.066Z"
   },
   {
    "duration": 18336,
    "start_time": "2023-01-13T17:49:45.131Z"
   },
   {
    "duration": 5737,
    "start_time": "2023-01-13T17:50:24.825Z"
   },
   {
    "duration": 18289,
    "start_time": "2023-01-13T17:50:49.104Z"
   },
   {
    "duration": 75,
    "start_time": "2023-01-13T17:51:32.892Z"
   },
   {
    "duration": 110,
    "start_time": "2023-01-13T17:52:00.508Z"
   },
   {
    "duration": 107,
    "start_time": "2023-01-13T17:52:05.798Z"
   },
   {
    "duration": 18072,
    "start_time": "2023-01-13T17:52:13.281Z"
   },
   {
    "duration": 109,
    "start_time": "2023-01-13T17:52:46.923Z"
   },
   {
    "duration": 18043,
    "start_time": "2023-01-13T17:52:48.616Z"
   },
   {
    "duration": 112,
    "start_time": "2023-01-13T17:53:09.882Z"
   },
   {
    "duration": 1915,
    "start_time": "2023-01-13T17:53:21.685Z"
   },
   {
    "duration": 1158,
    "start_time": "2023-01-13T17:53:23.602Z"
   },
   {
    "duration": 6287,
    "start_time": "2023-01-13T17:53:24.762Z"
   },
   {
    "duration": 437,
    "start_time": "2023-01-13T17:53:31.051Z"
   },
   {
    "duration": 16,
    "start_time": "2023-01-13T17:53:31.489Z"
   },
   {
    "duration": 23,
    "start_time": "2023-01-13T17:53:31.506Z"
   },
   {
    "duration": 153,
    "start_time": "2023-01-13T17:53:31.531Z"
   },
   {
    "duration": 12,
    "start_time": "2023-01-13T17:53:31.686Z"
   },
   {
    "duration": 34,
    "start_time": "2023-01-13T17:53:31.699Z"
   },
   {
    "duration": 47,
    "start_time": "2023-01-13T17:53:31.736Z"
   },
   {
    "duration": 250,
    "start_time": "2023-01-13T17:53:31.784Z"
   },
   {
    "duration": 3,
    "start_time": "2023-01-13T17:53:32.036Z"
   },
   {
    "duration": 35,
    "start_time": "2023-01-13T17:53:32.041Z"
   },
   {
    "duration": 23,
    "start_time": "2023-01-13T17:53:32.078Z"
   },
   {
    "duration": 23,
    "start_time": "2023-01-13T17:53:32.102Z"
   },
   {
    "duration": 16,
    "start_time": "2023-01-13T17:53:32.127Z"
   },
   {
    "duration": 13,
    "start_time": "2023-01-13T17:53:32.145Z"
   },
   {
    "duration": 8,
    "start_time": "2023-01-13T17:53:32.160Z"
   },
   {
    "duration": 26,
    "start_time": "2023-01-13T17:53:32.169Z"
   },
   {
    "duration": 27,
    "start_time": "2023-01-13T17:53:32.197Z"
   },
   {
    "duration": 16,
    "start_time": "2023-01-13T17:53:32.226Z"
   },
   {
    "duration": 231,
    "start_time": "2023-01-13T17:53:32.243Z"
   },
   {
    "duration": 3,
    "start_time": "2023-01-13T17:53:32.478Z"
   },
   {
    "duration": 22,
    "start_time": "2023-01-13T17:53:32.483Z"
   },
   {
    "duration": 24,
    "start_time": "2023-01-13T17:53:32.507Z"
   },
   {
    "duration": 18,
    "start_time": "2023-01-13T17:53:32.533Z"
   },
   {
    "duration": 41,
    "start_time": "2023-01-13T17:53:32.552Z"
   },
   {
    "duration": 16,
    "start_time": "2023-01-13T17:53:32.597Z"
   },
   {
    "duration": 16,
    "start_time": "2023-01-13T17:53:32.615Z"
   },
   {
    "duration": 17,
    "start_time": "2023-01-13T17:53:32.633Z"
   },
   {
    "duration": 6,
    "start_time": "2023-01-13T17:53:32.651Z"
   },
   {
    "duration": 21,
    "start_time": "2023-01-13T17:53:32.659Z"
   },
   {
    "duration": 8,
    "start_time": "2023-01-13T17:53:32.682Z"
   },
   {
    "duration": 9,
    "start_time": "2023-01-13T17:53:32.691Z"
   },
   {
    "duration": 42,
    "start_time": "2023-01-13T17:53:32.702Z"
   },
   {
    "duration": 5,
    "start_time": "2023-01-13T17:53:32.746Z"
   },
   {
    "duration": 1294,
    "start_time": "2023-01-13T17:53:32.753Z"
   },
   {
    "duration": 557,
    "start_time": "2023-01-13T17:53:34.049Z"
   },
   {
    "duration": 3,
    "start_time": "2023-01-13T17:53:34.608Z"
   },
   {
    "duration": 10,
    "start_time": "2023-01-13T17:53:34.613Z"
   },
   {
    "duration": 6,
    "start_time": "2023-01-13T17:53:34.624Z"
   },
   {
    "duration": 6,
    "start_time": "2023-01-13T17:53:34.632Z"
   },
   {
    "duration": 8,
    "start_time": "2023-01-13T17:53:34.640Z"
   },
   {
    "duration": 10,
    "start_time": "2023-01-13T17:53:34.650Z"
   },
   {
    "duration": 520,
    "start_time": "2023-01-13T17:53:34.678Z"
   },
   {
    "duration": 7,
    "start_time": "2023-01-13T17:53:35.200Z"
   },
   {
    "duration": 23,
    "start_time": "2023-01-13T17:53:35.208Z"
   },
   {
    "duration": 4,
    "start_time": "2023-01-13T17:53:35.232Z"
   },
   {
    "duration": 6,
    "start_time": "2023-01-13T17:53:35.238Z"
   },
   {
    "duration": 8,
    "start_time": "2023-01-13T17:53:35.246Z"
   },
   {
    "duration": 12568,
    "start_time": "2023-01-13T17:53:35.255Z"
   },
   {
    "duration": 173,
    "start_time": "2023-01-13T17:53:47.825Z"
   },
   {
    "duration": 32201,
    "start_time": "2023-01-13T17:53:48.000Z"
   },
   {
    "duration": 95,
    "start_time": "2023-01-13T17:54:20.202Z"
   },
   {
    "duration": 4,
    "start_time": "2023-01-13T17:54:20.299Z"
   },
   {
    "duration": 34948,
    "start_time": "2023-01-13T17:54:20.304Z"
   },
   {
    "duration": 3,
    "start_time": "2023-01-13T17:54:55.254Z"
   },
   {
    "duration": 4717,
    "start_time": "2023-01-13T17:54:55.258Z"
   },
   {
    "duration": 308,
    "start_time": "2023-01-13T17:54:59.978Z"
   },
   {
    "duration": 205,
    "start_time": "2023-01-13T17:55:00.378Z"
   },
   {
    "duration": 346,
    "start_time": "2023-01-13T17:55:00.585Z"
   },
   {
    "duration": 97,
    "start_time": "2023-01-13T17:55:00.933Z"
   },
   {
    "duration": 3,
    "start_time": "2023-01-13T17:55:01.032Z"
   },
   {
    "duration": 34,
    "start_time": "2023-01-13T17:55:01.043Z"
   },
   {
    "duration": 28,
    "start_time": "2023-01-13T17:55:01.079Z"
   },
   {
    "duration": 37,
    "start_time": "2023-01-13T17:55:01.109Z"
   },
   {
    "duration": 23,
    "start_time": "2023-01-13T17:55:01.148Z"
   },
   {
    "duration": 2395,
    "start_time": "2023-01-13T17:55:51.957Z"
   },
   {
    "duration": 8444,
    "start_time": "2023-01-13T17:56:37.053Z"
   },
   {
    "duration": 6,
    "start_time": "2023-01-13T18:37:57.544Z"
   },
   {
    "duration": 4,
    "start_time": "2023-01-13T19:43:06.787Z"
   },
   {
    "duration": 6,
    "start_time": "2023-01-13T19:43:08.688Z"
   },
   {
    "duration": 21,
    "start_time": "2023-01-13T19:43:17.870Z"
   },
   {
    "duration": 12,
    "start_time": "2023-01-13T19:49:12.430Z"
   },
   {
    "duration": 118,
    "start_time": "2023-01-13T19:50:04.183Z"
   },
   {
    "duration": 13,
    "start_time": "2023-01-13T19:50:08.194Z"
   },
   {
    "duration": 1463,
    "start_time": "2023-01-13T19:50:14.770Z"
   },
   {
    "duration": 676,
    "start_time": "2023-01-13T19:50:16.235Z"
   },
   {
    "duration": 6824,
    "start_time": "2023-01-13T19:50:16.913Z"
   },
   {
    "duration": 423,
    "start_time": "2023-01-13T19:50:23.740Z"
   },
   {
    "duration": 27,
    "start_time": "2023-01-13T19:50:24.166Z"
   },
   {
    "duration": 2226,
    "start_time": "2023-01-13T19:50:24.196Z"
   },
   {
    "duration": 204,
    "start_time": "2023-01-13T19:50:26.423Z"
   },
   {
    "duration": 11,
    "start_time": "2023-01-13T19:50:26.629Z"
   },
   {
    "duration": 8350,
    "start_time": "2023-01-13T19:50:26.642Z"
   },
   {
    "duration": 19,
    "start_time": "2023-01-13T19:50:34.997Z"
   },
   {
    "duration": 461,
    "start_time": "2023-01-13T19:50:35.018Z"
   },
   {
    "duration": 3,
    "start_time": "2023-01-13T19:50:35.481Z"
   },
   {
    "duration": 14,
    "start_time": "2023-01-13T19:50:35.485Z"
   },
   {
    "duration": 13,
    "start_time": "2023-01-13T19:50:35.500Z"
   },
   {
    "duration": 4,
    "start_time": "2023-01-13T19:50:35.515Z"
   },
   {
    "duration": 9,
    "start_time": "2023-01-13T19:50:35.521Z"
   },
   {
    "duration": 11,
    "start_time": "2023-01-13T19:50:35.532Z"
   },
   {
    "duration": 34,
    "start_time": "2023-01-13T19:50:35.544Z"
   },
   {
    "duration": 23,
    "start_time": "2023-01-13T19:50:35.580Z"
   },
   {
    "duration": 22,
    "start_time": "2023-01-13T19:50:35.605Z"
   },
   {
    "duration": 16,
    "start_time": "2023-01-13T19:50:35.629Z"
   },
   {
    "duration": 256,
    "start_time": "2023-01-13T19:50:35.647Z"
   },
   {
    "duration": 2,
    "start_time": "2023-01-13T19:50:35.905Z"
   },
   {
    "duration": 17,
    "start_time": "2023-01-13T19:50:35.908Z"
   },
   {
    "duration": 9,
    "start_time": "2023-01-13T19:50:35.927Z"
   },
   {
    "duration": 10,
    "start_time": "2023-01-13T19:50:35.937Z"
   },
   {
    "duration": 32,
    "start_time": "2023-01-13T19:50:35.948Z"
   },
   {
    "duration": 17,
    "start_time": "2023-01-13T19:50:35.984Z"
   },
   {
    "duration": 5,
    "start_time": "2023-01-13T19:50:36.002Z"
   },
   {
    "duration": 1261,
    "start_time": "2023-01-13T19:50:36.009Z"
   },
   {
    "duration": 529,
    "start_time": "2023-01-13T19:50:37.272Z"
   },
   {
    "duration": 2,
    "start_time": "2023-01-13T19:50:37.803Z"
   },
   {
    "duration": 10,
    "start_time": "2023-01-13T19:50:37.807Z"
   },
   {
    "duration": 6,
    "start_time": "2023-01-13T19:50:37.818Z"
   },
   {
    "duration": 5,
    "start_time": "2023-01-13T19:50:37.825Z"
   },
   {
    "duration": 4,
    "start_time": "2023-01-13T19:50:37.831Z"
   },
   {
    "duration": 43,
    "start_time": "2023-01-13T19:50:37.836Z"
   },
   {
    "duration": 486,
    "start_time": "2023-01-13T19:50:37.881Z"
   },
   {
    "duration": 7,
    "start_time": "2023-01-13T19:50:38.377Z"
   },
   {
    "duration": 20,
    "start_time": "2023-01-13T19:50:38.386Z"
   },
   {
    "duration": 7,
    "start_time": "2023-01-13T19:50:38.408Z"
   },
   {
    "duration": 7,
    "start_time": "2023-01-13T19:50:38.417Z"
   },
   {
    "duration": 11,
    "start_time": "2023-01-13T19:50:38.425Z"
   },
   {
    "duration": 7,
    "start_time": "2023-01-13T19:50:38.437Z"
   },
   {
    "duration": 72,
    "start_time": "2023-01-13T19:50:38.446Z"
   },
   {
    "duration": 4,
    "start_time": "2023-01-13T19:50:38.520Z"
   },
   {
    "duration": 7,
    "start_time": "2023-01-13T19:50:38.526Z"
   },
   {
    "duration": 7,
    "start_time": "2023-01-13T19:50:38.535Z"
   },
   {
    "duration": 12287,
    "start_time": "2023-01-13T19:50:38.544Z"
   },
   {
    "duration": 163,
    "start_time": "2023-01-13T19:50:50.833Z"
   },
   {
    "duration": 31631,
    "start_time": "2023-01-13T19:50:50.998Z"
   },
   {
    "duration": 91,
    "start_time": "2023-01-13T19:51:22.630Z"
   },
   {
    "duration": 3,
    "start_time": "2023-01-13T19:51:22.723Z"
   },
   {
    "duration": 34846,
    "start_time": "2023-01-13T19:51:22.727Z"
   },
   {
    "duration": 5,
    "start_time": "2023-01-13T19:51:57.575Z"
   },
   {
    "duration": 4667,
    "start_time": "2023-01-13T19:51:57.582Z"
   },
   {
    "duration": 327,
    "start_time": "2023-01-13T19:52:02.251Z"
   },
   {
    "duration": 212,
    "start_time": "2023-01-13T19:52:02.580Z"
   },
   {
    "duration": 319,
    "start_time": "2023-01-13T19:52:02.794Z"
   },
   {
    "duration": 94,
    "start_time": "2023-01-13T19:52:03.115Z"
   },
   {
    "duration": 3,
    "start_time": "2023-01-13T19:52:03.211Z"
   },
   {
    "duration": 6,
    "start_time": "2023-01-13T19:52:03.216Z"
   },
   {
    "duration": 7,
    "start_time": "2023-01-13T19:52:03.223Z"
   },
   {
    "duration": 7,
    "start_time": "2023-01-13T19:52:03.232Z"
   },
   {
    "duration": 9,
    "start_time": "2023-01-13T19:52:03.240Z"
   },
   {
    "duration": 181,
    "start_time": "2023-01-13T19:56:38.574Z"
   },
   {
    "duration": 6,
    "start_time": "2023-01-13T19:58:49.155Z"
   },
   {
    "duration": 1259,
    "start_time": "2023-01-13T19:58:53.490Z"
   },
   {
    "duration": 391,
    "start_time": "2023-01-13T20:08:06.841Z"
   },
   {
    "duration": 269,
    "start_time": "2023-01-13T20:10:44.116Z"
   },
   {
    "duration": 248,
    "start_time": "2023-01-13T20:10:57.293Z"
   },
   {
    "duration": 277,
    "start_time": "2023-01-13T20:11:15.489Z"
   },
   {
    "duration": 264,
    "start_time": "2023-01-13T20:11:40.158Z"
   },
   {
    "duration": 381,
    "start_time": "2023-01-13T20:11:52.746Z"
   },
   {
    "duration": 500,
    "start_time": "2023-01-13T20:12:46.393Z"
   },
   {
    "duration": 284,
    "start_time": "2023-01-13T20:18:14.247Z"
   },
   {
    "duration": 277,
    "start_time": "2023-01-13T20:18:52.523Z"
   },
   {
    "duration": 358,
    "start_time": "2023-01-13T20:19:09.683Z"
   },
   {
    "duration": 280,
    "start_time": "2023-01-13T20:19:28.427Z"
   },
   {
    "duration": 306,
    "start_time": "2023-01-13T20:20:18.463Z"
   },
   {
    "duration": 516,
    "start_time": "2023-01-13T20:21:11.968Z"
   },
   {
    "duration": 625,
    "start_time": "2023-01-13T20:23:03.020Z"
   },
   {
    "duration": 645,
    "start_time": "2023-01-13T20:23:50.640Z"
   },
   {
    "duration": 2024,
    "start_time": "2023-01-13T20:24:54.324Z"
   },
   {
    "duration": 71,
    "start_time": "2023-01-13T20:25:40.655Z"
   },
   {
    "duration": 779,
    "start_time": "2023-01-13T20:25:54.685Z"
   },
   {
    "duration": 310,
    "start_time": "2023-01-13T20:26:11.164Z"
   },
   {
    "duration": 638,
    "start_time": "2023-01-13T20:26:25.029Z"
   },
   {
    "duration": 613,
    "start_time": "2023-01-13T20:29:00.158Z"
   },
   {
    "duration": 772,
    "start_time": "2023-01-13T20:29:17.220Z"
   },
   {
    "duration": 640,
    "start_time": "2023-01-13T20:29:29.555Z"
   },
   {
    "duration": 609,
    "start_time": "2023-01-13T20:30:41.231Z"
   },
   {
    "duration": 670,
    "start_time": "2023-01-13T20:32:12.190Z"
   },
   {
    "duration": 271,
    "start_time": "2023-01-13T20:33:10.764Z"
   },
   {
    "duration": 543,
    "start_time": "2023-01-13T20:33:24.166Z"
   },
   {
    "duration": 7,
    "start_time": "2023-01-13T21:05:58.033Z"
   },
   {
    "duration": 7,
    "start_time": "2023-01-13T21:06:15.912Z"
   },
   {
    "duration": 6,
    "start_time": "2023-01-13T21:06:23.185Z"
   },
   {
    "duration": 50,
    "start_time": "2023-01-13T21:23:55.084Z"
   },
   {
    "duration": 1575,
    "start_time": "2023-01-13T21:24:01.728Z"
   },
   {
    "duration": 1976,
    "start_time": "2023-01-13T21:24:03.305Z"
   },
   {
    "duration": 6082,
    "start_time": "2023-01-13T21:24:05.283Z"
   },
   {
    "duration": 437,
    "start_time": "2023-01-13T21:24:11.368Z"
   },
   {
    "duration": 15,
    "start_time": "2023-01-13T21:24:11.806Z"
   },
   {
    "duration": 2399,
    "start_time": "2023-01-13T21:24:11.822Z"
   },
   {
    "duration": 190,
    "start_time": "2023-01-13T21:24:14.224Z"
   },
   {
    "duration": 13,
    "start_time": "2023-01-13T21:24:14.416Z"
   },
   {
    "duration": 8522,
    "start_time": "2023-01-13T21:24:14.431Z"
   },
   {
    "duration": 33,
    "start_time": "2023-01-13T21:24:22.955Z"
   },
   {
    "duration": 457,
    "start_time": "2023-01-13T21:24:22.990Z"
   },
   {
    "duration": 2,
    "start_time": "2023-01-13T21:24:23.449Z"
   },
   {
    "duration": 30,
    "start_time": "2023-01-13T21:24:23.453Z"
   },
   {
    "duration": 12,
    "start_time": "2023-01-13T21:24:23.485Z"
   },
   {
    "duration": 5,
    "start_time": "2023-01-13T21:24:23.498Z"
   },
   {
    "duration": 28,
    "start_time": "2023-01-13T21:24:23.505Z"
   },
   {
    "duration": 10,
    "start_time": "2023-01-13T21:24:23.535Z"
   },
   {
    "duration": 17,
    "start_time": "2023-01-13T21:24:23.547Z"
   },
   {
    "duration": 16,
    "start_time": "2023-01-13T21:24:23.578Z"
   },
   {
    "duration": 26,
    "start_time": "2023-01-13T21:24:23.596Z"
   },
   {
    "duration": 16,
    "start_time": "2023-01-13T21:24:23.623Z"
   },
   {
    "duration": 236,
    "start_time": "2023-01-13T21:24:23.677Z"
   },
   {
    "duration": 2,
    "start_time": "2023-01-13T21:24:23.915Z"
   },
   {
    "duration": 42,
    "start_time": "2023-01-13T21:24:23.919Z"
   },
   {
    "duration": 24,
    "start_time": "2023-01-13T21:24:23.963Z"
   },
   {
    "duration": 26,
    "start_time": "2023-01-13T21:24:23.989Z"
   },
   {
    "duration": 40,
    "start_time": "2023-01-13T21:24:24.017Z"
   },
   {
    "duration": 22,
    "start_time": "2023-01-13T21:24:24.062Z"
   },
   {
    "duration": 14,
    "start_time": "2023-01-13T21:24:24.086Z"
   },
   {
    "duration": 766,
    "start_time": "2023-01-13T21:24:24.102Z"
   },
   {
    "duration": 0,
    "start_time": "2023-01-13T21:24:24.870Z"
   },
   {
    "duration": 0,
    "start_time": "2023-01-13T21:24:24.872Z"
   },
   {
    "duration": 0,
    "start_time": "2023-01-13T21:24:24.878Z"
   },
   {
    "duration": 0,
    "start_time": "2023-01-13T21:24:24.879Z"
   },
   {
    "duration": 0,
    "start_time": "2023-01-13T21:24:24.880Z"
   },
   {
    "duration": 0,
    "start_time": "2023-01-13T21:24:24.882Z"
   },
   {
    "duration": 0,
    "start_time": "2023-01-13T21:24:24.883Z"
   },
   {
    "duration": 0,
    "start_time": "2023-01-13T21:24:24.884Z"
   },
   {
    "duration": 0,
    "start_time": "2023-01-13T21:24:24.885Z"
   },
   {
    "duration": 0,
    "start_time": "2023-01-13T21:24:24.887Z"
   },
   {
    "duration": 0,
    "start_time": "2023-01-13T21:24:24.888Z"
   },
   {
    "duration": 0,
    "start_time": "2023-01-13T21:24:24.889Z"
   },
   {
    "duration": 0,
    "start_time": "2023-01-13T21:24:24.891Z"
   },
   {
    "duration": 0,
    "start_time": "2023-01-13T21:24:24.892Z"
   },
   {
    "duration": 0,
    "start_time": "2023-01-13T21:24:24.893Z"
   },
   {
    "duration": 0,
    "start_time": "2023-01-13T21:24:24.894Z"
   },
   {
    "duration": 0,
    "start_time": "2023-01-13T21:24:24.896Z"
   },
   {
    "duration": 0,
    "start_time": "2023-01-13T21:24:24.897Z"
   },
   {
    "duration": 0,
    "start_time": "2023-01-13T21:24:24.898Z"
   },
   {
    "duration": 0,
    "start_time": "2023-01-13T21:24:24.900Z"
   },
   {
    "duration": 0,
    "start_time": "2023-01-13T21:24:24.902Z"
   },
   {
    "duration": 0,
    "start_time": "2023-01-13T21:24:24.903Z"
   },
   {
    "duration": 0,
    "start_time": "2023-01-13T21:24:24.905Z"
   },
   {
    "duration": 0,
    "start_time": "2023-01-13T21:24:24.906Z"
   },
   {
    "duration": 0,
    "start_time": "2023-01-13T21:24:24.908Z"
   },
   {
    "duration": 0,
    "start_time": "2023-01-13T21:24:24.909Z"
   },
   {
    "duration": 0,
    "start_time": "2023-01-13T21:24:24.911Z"
   },
   {
    "duration": 0,
    "start_time": "2023-01-13T21:24:24.912Z"
   },
   {
    "duration": 0,
    "start_time": "2023-01-13T21:24:24.914Z"
   },
   {
    "duration": 0,
    "start_time": "2023-01-13T21:24:24.915Z"
   },
   {
    "duration": 0,
    "start_time": "2023-01-13T21:24:24.916Z"
   },
   {
    "duration": 0,
    "start_time": "2023-01-13T21:24:24.979Z"
   },
   {
    "duration": 0,
    "start_time": "2023-01-13T21:24:24.981Z"
   },
   {
    "duration": 0,
    "start_time": "2023-01-13T21:24:24.982Z"
   },
   {
    "duration": 0,
    "start_time": "2023-01-13T21:24:24.983Z"
   },
   {
    "duration": 0,
    "start_time": "2023-01-13T21:24:24.985Z"
   },
   {
    "duration": 0,
    "start_time": "2023-01-13T21:24:24.987Z"
   },
   {
    "duration": 10,
    "start_time": "2023-01-13T21:26:29.312Z"
   },
   {
    "duration": 8,
    "start_time": "2023-01-13T21:26:32.187Z"
   },
   {
    "duration": 3,
    "start_time": "2023-01-13T21:26:34.640Z"
   },
   {
    "duration": 4,
    "start_time": "2023-01-13T21:26:35.680Z"
   },
   {
    "duration": 5,
    "start_time": "2023-01-13T21:26:36.615Z"
   },
   {
    "duration": 5,
    "start_time": "2023-01-13T21:26:37.274Z"
   },
   {
    "duration": 5,
    "start_time": "2023-01-13T21:26:37.800Z"
   },
   {
    "duration": 10,
    "start_time": "2023-01-13T21:26:38.266Z"
   },
   {
    "duration": 355,
    "start_time": "2023-01-13T21:26:40.193Z"
   },
   {
    "duration": 7,
    "start_time": "2023-01-13T21:28:05.073Z"
   },
   {
    "duration": 15,
    "start_time": "2023-01-13T21:28:05.937Z"
   },
   {
    "duration": 6,
    "start_time": "2023-01-13T21:30:25.386Z"
   },
   {
    "duration": 11,
    "start_time": "2023-01-13T21:30:26.905Z"
   },
   {
    "duration": 27,
    "start_time": "2023-01-13T21:37:17.649Z"
   },
   {
    "duration": 9,
    "start_time": "2023-01-13T21:55:21.358Z"
   },
   {
    "duration": 1510,
    "start_time": "2023-01-14T13:50:43.400Z"
   },
   {
    "duration": 3237,
    "start_time": "2023-01-14T13:50:44.912Z"
   },
   {
    "duration": 6203,
    "start_time": "2023-01-14T13:50:48.151Z"
   },
   {
    "duration": 351,
    "start_time": "2023-01-14T13:50:54.356Z"
   },
   {
    "duration": 15,
    "start_time": "2023-01-14T13:50:54.709Z"
   },
   {
    "duration": 2480,
    "start_time": "2023-01-14T13:50:54.725Z"
   },
   {
    "duration": 191,
    "start_time": "2023-01-14T13:50:57.207Z"
   },
   {
    "duration": 12,
    "start_time": "2023-01-14T13:50:57.399Z"
   },
   {
    "duration": 8714,
    "start_time": "2023-01-14T13:50:57.413Z"
   },
   {
    "duration": 47,
    "start_time": "2023-01-14T13:51:06.130Z"
   },
   {
    "duration": 399,
    "start_time": "2023-01-14T13:51:06.179Z"
   },
   {
    "duration": 3,
    "start_time": "2023-01-14T13:51:06.580Z"
   },
   {
    "duration": 13,
    "start_time": "2023-01-14T13:51:06.585Z"
   },
   {
    "duration": 17,
    "start_time": "2023-01-14T13:51:06.600Z"
   },
   {
    "duration": 6,
    "start_time": "2023-01-14T13:51:06.619Z"
   },
   {
    "duration": 10,
    "start_time": "2023-01-14T13:51:06.627Z"
   },
   {
    "duration": 40,
    "start_time": "2023-01-14T13:51:06.638Z"
   },
   {
    "duration": 8,
    "start_time": "2023-01-14T13:51:06.679Z"
   },
   {
    "duration": 21,
    "start_time": "2023-01-14T13:51:06.689Z"
   },
   {
    "duration": 24,
    "start_time": "2023-01-14T13:51:06.712Z"
   },
   {
    "duration": 16,
    "start_time": "2023-01-14T13:51:06.738Z"
   },
   {
    "duration": 255,
    "start_time": "2023-01-14T13:51:06.756Z"
   },
   {
    "duration": 2,
    "start_time": "2023-01-14T13:51:07.013Z"
   },
   {
    "duration": 6,
    "start_time": "2023-01-14T13:51:07.017Z"
   },
   {
    "duration": 6,
    "start_time": "2023-01-14T13:51:07.025Z"
   },
   {
    "duration": 9,
    "start_time": "2023-01-14T13:51:07.033Z"
   },
   {
    "duration": 55,
    "start_time": "2023-01-14T13:51:07.043Z"
   },
   {
    "duration": 16,
    "start_time": "2023-01-14T13:51:07.102Z"
   },
   {
    "duration": 6,
    "start_time": "2023-01-14T13:51:07.121Z"
   },
   {
    "duration": 774,
    "start_time": "2023-01-14T13:51:07.129Z"
   },
   {
    "duration": 0,
    "start_time": "2023-01-14T13:51:07.905Z"
   },
   {
    "duration": 0,
    "start_time": "2023-01-14T13:51:07.906Z"
   },
   {
    "duration": 0,
    "start_time": "2023-01-14T13:51:07.907Z"
   },
   {
    "duration": 0,
    "start_time": "2023-01-14T13:51:07.908Z"
   },
   {
    "duration": 0,
    "start_time": "2023-01-14T13:51:07.909Z"
   },
   {
    "duration": 0,
    "start_time": "2023-01-14T13:51:07.910Z"
   },
   {
    "duration": 0,
    "start_time": "2023-01-14T13:51:07.911Z"
   },
   {
    "duration": 0,
    "start_time": "2023-01-14T13:51:07.912Z"
   },
   {
    "duration": 0,
    "start_time": "2023-01-14T13:51:07.913Z"
   },
   {
    "duration": 0,
    "start_time": "2023-01-14T13:51:07.914Z"
   },
   {
    "duration": 1,
    "start_time": "2023-01-14T13:51:07.914Z"
   },
   {
    "duration": 0,
    "start_time": "2023-01-14T13:51:07.916Z"
   },
   {
    "duration": 0,
    "start_time": "2023-01-14T13:51:07.917Z"
   },
   {
    "duration": 0,
    "start_time": "2023-01-14T13:51:07.917Z"
   },
   {
    "duration": 0,
    "start_time": "2023-01-14T13:51:07.918Z"
   },
   {
    "duration": 0,
    "start_time": "2023-01-14T13:51:07.919Z"
   },
   {
    "duration": 0,
    "start_time": "2023-01-14T13:51:07.920Z"
   },
   {
    "duration": 0,
    "start_time": "2023-01-14T13:51:07.921Z"
   },
   {
    "duration": 0,
    "start_time": "2023-01-14T13:51:07.922Z"
   },
   {
    "duration": 0,
    "start_time": "2023-01-14T13:51:07.923Z"
   },
   {
    "duration": 0,
    "start_time": "2023-01-14T13:51:07.924Z"
   },
   {
    "duration": 0,
    "start_time": "2023-01-14T13:51:07.925Z"
   },
   {
    "duration": 0,
    "start_time": "2023-01-14T13:51:07.926Z"
   },
   {
    "duration": 0,
    "start_time": "2023-01-14T13:51:07.927Z"
   },
   {
    "duration": 0,
    "start_time": "2023-01-14T13:51:07.928Z"
   },
   {
    "duration": 0,
    "start_time": "2023-01-14T13:51:07.929Z"
   },
   {
    "duration": 0,
    "start_time": "2023-01-14T13:51:07.930Z"
   },
   {
    "duration": 0,
    "start_time": "2023-01-14T13:51:07.976Z"
   },
   {
    "duration": 0,
    "start_time": "2023-01-14T13:51:07.978Z"
   },
   {
    "duration": 0,
    "start_time": "2023-01-14T13:51:07.979Z"
   },
   {
    "duration": 0,
    "start_time": "2023-01-14T13:51:07.980Z"
   },
   {
    "duration": 0,
    "start_time": "2023-01-14T13:51:07.981Z"
   },
   {
    "duration": 1,
    "start_time": "2023-01-14T13:51:07.982Z"
   },
   {
    "duration": 0,
    "start_time": "2023-01-14T13:51:07.984Z"
   },
   {
    "duration": 0,
    "start_time": "2023-01-14T13:51:07.985Z"
   },
   {
    "duration": 0,
    "start_time": "2023-01-14T13:51:07.986Z"
   },
   {
    "duration": 0,
    "start_time": "2023-01-14T13:51:07.987Z"
   },
   {
    "duration": 0,
    "start_time": "2023-01-14T13:51:07.988Z"
   },
   {
    "duration": 622,
    "start_time": "2023-01-14T14:54:42.924Z"
   },
   {
    "duration": 804,
    "start_time": "2023-01-14T14:55:20.350Z"
   },
   {
    "duration": 791,
    "start_time": "2023-01-14T14:55:35.453Z"
   },
   {
    "duration": 495,
    "start_time": "2023-01-14T14:55:50.229Z"
   },
   {
    "duration": 1312,
    "start_time": "2023-01-14T14:56:07.927Z"
   },
   {
    "duration": 654,
    "start_time": "2023-01-14T14:56:09.241Z"
   },
   {
    "duration": 6083,
    "start_time": "2023-01-14T14:56:09.897Z"
   },
   {
    "duration": 344,
    "start_time": "2023-01-14T14:56:15.982Z"
   },
   {
    "duration": 14,
    "start_time": "2023-01-14T14:56:16.328Z"
   },
   {
    "duration": 2158,
    "start_time": "2023-01-14T14:56:16.343Z"
   },
   {
    "duration": 281,
    "start_time": "2023-01-14T14:56:18.503Z"
   },
   {
    "duration": 12,
    "start_time": "2023-01-14T14:56:18.786Z"
   },
   {
    "duration": 9281,
    "start_time": "2023-01-14T14:56:18.799Z"
   },
   {
    "duration": 16,
    "start_time": "2023-01-14T14:56:28.083Z"
   },
   {
    "duration": 258,
    "start_time": "2023-01-14T14:56:28.101Z"
   },
   {
    "duration": 2,
    "start_time": "2023-01-14T14:56:28.360Z"
   },
   {
    "duration": 13,
    "start_time": "2023-01-14T14:56:28.364Z"
   },
   {
    "duration": 12,
    "start_time": "2023-01-14T14:56:28.379Z"
   },
   {
    "duration": 4,
    "start_time": "2023-01-14T14:56:28.392Z"
   },
   {
    "duration": 8,
    "start_time": "2023-01-14T14:56:28.397Z"
   },
   {
    "duration": 6,
    "start_time": "2023-01-14T14:56:28.406Z"
   },
   {
    "duration": 4,
    "start_time": "2023-01-14T14:56:28.413Z"
   },
   {
    "duration": 17,
    "start_time": "2023-01-14T14:56:28.418Z"
   },
   {
    "duration": 22,
    "start_time": "2023-01-14T14:56:28.436Z"
   },
   {
    "duration": 16,
    "start_time": "2023-01-14T14:56:28.460Z"
   },
   {
    "duration": 221,
    "start_time": "2023-01-14T14:56:28.478Z"
   },
   {
    "duration": 11,
    "start_time": "2023-01-14T14:56:28.701Z"
   },
   {
    "duration": 13,
    "start_time": "2023-01-14T14:56:28.713Z"
   },
   {
    "duration": 18,
    "start_time": "2023-01-14T14:56:28.728Z"
   },
   {
    "duration": 18,
    "start_time": "2023-01-14T14:56:28.747Z"
   },
   {
    "duration": 44,
    "start_time": "2023-01-14T14:56:28.766Z"
   },
   {
    "duration": 62,
    "start_time": "2023-01-14T14:56:28.814Z"
   },
   {
    "duration": 6,
    "start_time": "2023-01-14T14:56:28.878Z"
   },
   {
    "duration": 1028,
    "start_time": "2023-01-14T14:56:28.885Z"
   },
   {
    "duration": 0,
    "start_time": "2023-01-14T14:56:29.914Z"
   },
   {
    "duration": 0,
    "start_time": "2023-01-14T14:56:29.915Z"
   },
   {
    "duration": 0,
    "start_time": "2023-01-14T14:56:29.916Z"
   },
   {
    "duration": 0,
    "start_time": "2023-01-14T14:56:29.917Z"
   },
   {
    "duration": 0,
    "start_time": "2023-01-14T14:56:29.918Z"
   },
   {
    "duration": 0,
    "start_time": "2023-01-14T14:56:29.919Z"
   },
   {
    "duration": 0,
    "start_time": "2023-01-14T14:56:29.920Z"
   },
   {
    "duration": 0,
    "start_time": "2023-01-14T14:56:29.921Z"
   },
   {
    "duration": 0,
    "start_time": "2023-01-14T14:56:29.922Z"
   },
   {
    "duration": 1,
    "start_time": "2023-01-14T14:56:29.975Z"
   },
   {
    "duration": 0,
    "start_time": "2023-01-14T14:56:29.977Z"
   },
   {
    "duration": 0,
    "start_time": "2023-01-14T14:56:29.978Z"
   },
   {
    "duration": 0,
    "start_time": "2023-01-14T14:56:29.979Z"
   },
   {
    "duration": 0,
    "start_time": "2023-01-14T14:56:29.980Z"
   },
   {
    "duration": 0,
    "start_time": "2023-01-14T14:56:29.981Z"
   },
   {
    "duration": 0,
    "start_time": "2023-01-14T14:56:29.982Z"
   },
   {
    "duration": 0,
    "start_time": "2023-01-14T14:56:29.983Z"
   },
   {
    "duration": 0,
    "start_time": "2023-01-14T14:56:29.984Z"
   },
   {
    "duration": 0,
    "start_time": "2023-01-14T14:56:29.985Z"
   },
   {
    "duration": 0,
    "start_time": "2023-01-14T14:56:29.986Z"
   },
   {
    "duration": 0,
    "start_time": "2023-01-14T14:56:29.987Z"
   },
   {
    "duration": 0,
    "start_time": "2023-01-14T14:56:29.988Z"
   },
   {
    "duration": 0,
    "start_time": "2023-01-14T14:56:29.989Z"
   },
   {
    "duration": 0,
    "start_time": "2023-01-14T14:56:29.990Z"
   },
   {
    "duration": 0,
    "start_time": "2023-01-14T14:56:29.991Z"
   },
   {
    "duration": 0,
    "start_time": "2023-01-14T14:56:29.992Z"
   },
   {
    "duration": 0,
    "start_time": "2023-01-14T14:56:29.993Z"
   },
   {
    "duration": 0,
    "start_time": "2023-01-14T14:56:29.994Z"
   },
   {
    "duration": 0,
    "start_time": "2023-01-14T14:56:29.994Z"
   },
   {
    "duration": 0,
    "start_time": "2023-01-14T14:56:29.995Z"
   },
   {
    "duration": 0,
    "start_time": "2023-01-14T14:56:29.996Z"
   },
   {
    "duration": 0,
    "start_time": "2023-01-14T14:56:29.997Z"
   },
   {
    "duration": 0,
    "start_time": "2023-01-14T14:56:29.998Z"
   },
   {
    "duration": 0,
    "start_time": "2023-01-14T14:56:29.998Z"
   },
   {
    "duration": 0,
    "start_time": "2023-01-14T14:56:29.999Z"
   },
   {
    "duration": 0,
    "start_time": "2023-01-14T14:56:30.000Z"
   },
   {
    "duration": 0,
    "start_time": "2023-01-14T14:56:30.000Z"
   },
   {
    "duration": 0,
    "start_time": "2023-01-14T14:56:30.001Z"
   },
   {
    "duration": 559,
    "start_time": "2023-01-14T14:56:57.580Z"
   },
   {
    "duration": 1470,
    "start_time": "2023-01-14T14:57:04.850Z"
   },
   {
    "duration": 634,
    "start_time": "2023-01-14T14:57:06.322Z"
   },
   {
    "duration": 6931,
    "start_time": "2023-01-14T14:57:06.958Z"
   },
   {
    "duration": 354,
    "start_time": "2023-01-14T14:57:13.892Z"
   },
   {
    "duration": 14,
    "start_time": "2023-01-14T14:57:14.248Z"
   },
   {
    "duration": 2293,
    "start_time": "2023-01-14T14:57:14.264Z"
   },
   {
    "duration": 155,
    "start_time": "2023-01-14T14:57:16.559Z"
   },
   {
    "duration": 12,
    "start_time": "2023-01-14T14:57:16.716Z"
   },
   {
    "duration": 8207,
    "start_time": "2023-01-14T14:57:16.730Z"
   },
   {
    "duration": 42,
    "start_time": "2023-01-14T14:57:24.940Z"
   },
   {
    "duration": 401,
    "start_time": "2023-01-14T14:57:24.984Z"
   },
   {
    "duration": 3,
    "start_time": "2023-01-14T14:57:25.386Z"
   },
   {
    "duration": 17,
    "start_time": "2023-01-14T14:57:25.390Z"
   },
   {
    "duration": 13,
    "start_time": "2023-01-14T14:57:25.408Z"
   },
   {
    "duration": 5,
    "start_time": "2023-01-14T14:57:25.422Z"
   },
   {
    "duration": 9,
    "start_time": "2023-01-14T14:57:25.428Z"
   },
   {
    "duration": 6,
    "start_time": "2023-01-14T14:57:25.438Z"
   },
   {
    "duration": 31,
    "start_time": "2023-01-14T14:57:25.445Z"
   },
   {
    "duration": 20,
    "start_time": "2023-01-14T14:57:25.479Z"
   },
   {
    "duration": 24,
    "start_time": "2023-01-14T14:57:25.501Z"
   },
   {
    "duration": 17,
    "start_time": "2023-01-14T14:57:25.527Z"
   },
   {
    "duration": 254,
    "start_time": "2023-01-14T14:57:25.546Z"
   },
   {
    "duration": 3,
    "start_time": "2023-01-14T14:57:25.802Z"
   },
   {
    "duration": 10,
    "start_time": "2023-01-14T14:57:25.806Z"
   },
   {
    "duration": 7,
    "start_time": "2023-01-14T14:57:25.817Z"
   },
   {
    "duration": 10,
    "start_time": "2023-01-14T14:57:25.826Z"
   },
   {
    "duration": 27,
    "start_time": "2023-01-14T14:57:25.837Z"
   },
   {
    "duration": 16,
    "start_time": "2023-01-14T14:57:25.876Z"
   },
   {
    "duration": 10,
    "start_time": "2023-01-14T14:57:25.894Z"
   },
   {
    "duration": 633,
    "start_time": "2023-01-14T14:57:25.906Z"
   },
   {
    "duration": 1085,
    "start_time": "2023-01-14T14:57:26.541Z"
   },
   {
    "duration": 6,
    "start_time": "2023-01-14T14:57:27.628Z"
   },
   {
    "duration": 643,
    "start_time": "2023-01-14T14:57:27.636Z"
   },
   {
    "duration": 3,
    "start_time": "2023-01-14T14:57:28.281Z"
   },
   {
    "duration": 9,
    "start_time": "2023-01-14T14:57:28.286Z"
   },
   {
    "duration": 5,
    "start_time": "2023-01-14T14:57:28.297Z"
   },
   {
    "duration": 4,
    "start_time": "2023-01-14T14:57:28.304Z"
   },
   {
    "duration": 16,
    "start_time": "2023-01-14T14:57:28.310Z"
   },
   {
    "duration": 39,
    "start_time": "2023-01-14T14:57:28.327Z"
   },
   {
    "duration": 358,
    "start_time": "2023-01-14T14:57:28.367Z"
   },
   {
    "duration": 6,
    "start_time": "2023-01-14T14:57:28.727Z"
   },
   {
    "duration": 18,
    "start_time": "2023-01-14T14:57:28.734Z"
   },
   {
    "duration": 119,
    "start_time": "2023-01-14T14:57:28.753Z"
   },
   {
    "duration": 0,
    "start_time": "2023-01-14T14:57:28.874Z"
   },
   {
    "duration": 0,
    "start_time": "2023-01-14T14:57:28.876Z"
   },
   {
    "duration": 0,
    "start_time": "2023-01-14T14:57:28.877Z"
   },
   {
    "duration": 0,
    "start_time": "2023-01-14T14:57:28.877Z"
   },
   {
    "duration": 0,
    "start_time": "2023-01-14T14:57:28.878Z"
   },
   {
    "duration": 0,
    "start_time": "2023-01-14T14:57:28.879Z"
   },
   {
    "duration": 0,
    "start_time": "2023-01-14T14:57:28.880Z"
   },
   {
    "duration": 0,
    "start_time": "2023-01-14T14:57:28.881Z"
   },
   {
    "duration": 0,
    "start_time": "2023-01-14T14:57:28.883Z"
   },
   {
    "duration": 0,
    "start_time": "2023-01-14T14:57:28.883Z"
   },
   {
    "duration": 0,
    "start_time": "2023-01-14T14:57:28.885Z"
   },
   {
    "duration": 0,
    "start_time": "2023-01-14T14:57:28.886Z"
   },
   {
    "duration": 0,
    "start_time": "2023-01-14T14:57:28.886Z"
   },
   {
    "duration": 0,
    "start_time": "2023-01-14T14:57:28.887Z"
   },
   {
    "duration": 0,
    "start_time": "2023-01-14T14:57:28.888Z"
   },
   {
    "duration": 0,
    "start_time": "2023-01-14T14:57:28.889Z"
   },
   {
    "duration": 0,
    "start_time": "2023-01-14T14:57:28.890Z"
   },
   {
    "duration": 0,
    "start_time": "2023-01-14T14:57:28.891Z"
   },
   {
    "duration": 0,
    "start_time": "2023-01-14T14:57:28.893Z"
   },
   {
    "duration": 0,
    "start_time": "2023-01-14T14:57:28.894Z"
   },
   {
    "duration": 0,
    "start_time": "2023-01-14T14:57:28.895Z"
   },
   {
    "duration": 0,
    "start_time": "2023-01-14T14:57:28.896Z"
   },
   {
    "duration": 0,
    "start_time": "2023-01-14T14:57:28.897Z"
   },
   {
    "duration": 0,
    "start_time": "2023-01-14T14:57:28.898Z"
   },
   {
    "duration": 0,
    "start_time": "2023-01-14T14:57:28.899Z"
   },
   {
    "duration": 8,
    "start_time": "2023-01-14T15:35:49.380Z"
   },
   {
    "duration": 5,
    "start_time": "2023-01-14T15:36:17.456Z"
   },
   {
    "duration": 1438,
    "start_time": "2023-01-14T15:37:14.151Z"
   },
   {
    "duration": 630,
    "start_time": "2023-01-14T15:37:15.591Z"
   },
   {
    "duration": 6086,
    "start_time": "2023-01-14T15:37:16.223Z"
   },
   {
    "duration": 329,
    "start_time": "2023-01-14T15:37:22.311Z"
   },
   {
    "duration": 15,
    "start_time": "2023-01-14T15:37:22.642Z"
   },
   {
    "duration": 2345,
    "start_time": "2023-01-14T15:37:22.658Z"
   },
   {
    "duration": 163,
    "start_time": "2023-01-14T15:37:25.005Z"
   },
   {
    "duration": 15,
    "start_time": "2023-01-14T15:37:25.170Z"
   },
   {
    "duration": 8304,
    "start_time": "2023-01-14T15:37:25.187Z"
   },
   {
    "duration": 23,
    "start_time": "2023-01-14T15:37:33.495Z"
   },
   {
    "duration": 393,
    "start_time": "2023-01-14T15:37:33.520Z"
   },
   {
    "duration": 2,
    "start_time": "2023-01-14T15:37:33.915Z"
   },
   {
    "duration": 12,
    "start_time": "2023-01-14T15:37:33.919Z"
   },
   {
    "duration": 13,
    "start_time": "2023-01-14T15:37:33.933Z"
   },
   {
    "duration": 4,
    "start_time": "2023-01-14T15:37:33.948Z"
   },
   {
    "duration": 28,
    "start_time": "2023-01-14T15:37:33.953Z"
   },
   {
    "duration": 8,
    "start_time": "2023-01-14T15:37:33.983Z"
   },
   {
    "duration": 11,
    "start_time": "2023-01-14T15:37:33.992Z"
   },
   {
    "duration": 27,
    "start_time": "2023-01-14T15:37:34.004Z"
   },
   {
    "duration": 21,
    "start_time": "2023-01-14T15:37:34.032Z"
   },
   {
    "duration": 23,
    "start_time": "2023-01-14T15:37:34.055Z"
   },
   {
    "duration": 222,
    "start_time": "2023-01-14T15:37:34.079Z"
   },
   {
    "duration": 2,
    "start_time": "2023-01-14T15:37:34.303Z"
   },
   {
    "duration": 48,
    "start_time": "2023-01-14T15:37:34.306Z"
   },
   {
    "duration": 41,
    "start_time": "2023-01-14T15:37:34.355Z"
   },
   {
    "duration": 36,
    "start_time": "2023-01-14T15:37:34.398Z"
   },
   {
    "duration": 50,
    "start_time": "2023-01-14T15:37:34.435Z"
   },
   {
    "duration": 39,
    "start_time": "2023-01-14T15:37:34.489Z"
   },
   {
    "duration": 29,
    "start_time": "2023-01-14T15:37:34.530Z"
   },
   {
    "duration": 763,
    "start_time": "2023-01-14T15:37:34.560Z"
   },
   {
    "duration": 1209,
    "start_time": "2023-01-14T15:37:35.324Z"
   },
   {
    "duration": 9,
    "start_time": "2023-01-14T15:37:36.535Z"
   },
   {
    "duration": 722,
    "start_time": "2023-01-14T15:37:36.546Z"
   },
   {
    "duration": 6,
    "start_time": "2023-01-14T15:37:37.270Z"
   },
   {
    "duration": 55,
    "start_time": "2023-01-14T15:37:37.278Z"
   },
   {
    "duration": 44,
    "start_time": "2023-01-14T15:37:37.334Z"
   },
   {
    "duration": 28,
    "start_time": "2023-01-14T15:37:37.379Z"
   },
   {
    "duration": 43,
    "start_time": "2023-01-14T15:37:37.408Z"
   },
   {
    "duration": 56,
    "start_time": "2023-01-14T15:37:37.452Z"
   },
   {
    "duration": 440,
    "start_time": "2023-01-14T15:37:37.509Z"
   },
   {
    "duration": 5,
    "start_time": "2023-01-14T15:37:37.951Z"
   },
   {
    "duration": 34,
    "start_time": "2023-01-14T15:37:37.958Z"
   },
   {
    "duration": 44,
    "start_time": "2023-01-14T15:37:37.994Z"
   },
   {
    "duration": 56,
    "start_time": "2023-01-14T15:37:38.040Z"
   },
   {
    "duration": 33,
    "start_time": "2023-01-14T15:37:38.097Z"
   },
   {
    "duration": 61,
    "start_time": "2023-01-14T15:37:38.131Z"
   },
   {
    "duration": 50,
    "start_time": "2023-01-14T15:37:38.193Z"
   },
   {
    "duration": 40,
    "start_time": "2023-01-14T15:37:38.245Z"
   },
   {
    "duration": 45,
    "start_time": "2023-01-14T15:37:38.286Z"
   },
   {
    "duration": 51,
    "start_time": "2023-01-14T15:37:38.333Z"
   },
   {
    "duration": 222,
    "start_time": "2023-01-14T15:37:38.386Z"
   },
   {
    "duration": 51,
    "start_time": "2023-01-14T15:37:38.609Z"
   },
   {
    "duration": 103,
    "start_time": "2023-01-14T15:37:38.661Z"
   },
   {
    "duration": 65,
    "start_time": "2023-01-14T15:37:38.766Z"
   },
   {
    "duration": 4,
    "start_time": "2023-01-14T15:37:38.833Z"
   },
   {
    "duration": 110,
    "start_time": "2023-01-14T15:37:38.838Z"
   },
   {
    "duration": 30,
    "start_time": "2023-01-14T15:37:38.949Z"
   },
   {
    "duration": 99,
    "start_time": "2023-01-14T15:37:38.981Z"
   },
   {
    "duration": 50,
    "start_time": "2023-01-14T15:37:39.082Z"
   },
   {
    "duration": 49,
    "start_time": "2023-01-14T15:37:39.134Z"
   },
   {
    "duration": 103,
    "start_time": "2023-01-14T15:37:39.185Z"
   },
   {
    "duration": 52,
    "start_time": "2023-01-14T15:37:39.289Z"
   },
   {
    "duration": 11,
    "start_time": "2023-01-14T15:37:39.342Z"
   },
   {
    "duration": 0,
    "start_time": "2023-01-14T15:37:39.354Z"
   },
   {
    "duration": 0,
    "start_time": "2023-01-14T15:37:39.356Z"
   },
   {
    "duration": 0,
    "start_time": "2023-01-14T15:37:39.357Z"
   },
   {
    "duration": 0,
    "start_time": "2023-01-14T15:37:39.358Z"
   },
   {
    "duration": 28,
    "start_time": "2023-01-14T15:38:31.080Z"
   },
   {
    "duration": 6,
    "start_time": "2023-01-14T15:38:46.321Z"
   },
   {
    "duration": 7,
    "start_time": "2023-01-14T15:40:16.996Z"
   },
   {
    "duration": 4,
    "start_time": "2023-01-14T15:42:13.732Z"
   },
   {
    "duration": 5,
    "start_time": "2023-01-14T15:44:27.012Z"
   },
   {
    "duration": 4,
    "start_time": "2023-01-14T15:45:26.583Z"
   },
   {
    "duration": 8,
    "start_time": "2023-01-14T15:45:38.460Z"
   },
   {
    "duration": 6,
    "start_time": "2023-01-14T15:45:47.380Z"
   },
   {
    "duration": 5,
    "start_time": "2023-01-14T15:47:29.261Z"
   },
   {
    "duration": 6,
    "start_time": "2023-01-14T15:52:03.075Z"
   },
   {
    "duration": 1314,
    "start_time": "2023-01-14T15:52:10.614Z"
   },
   {
    "duration": 650,
    "start_time": "2023-01-14T15:52:11.930Z"
   },
   {
    "duration": 6831,
    "start_time": "2023-01-14T15:52:12.582Z"
   },
   {
    "duration": 493,
    "start_time": "2023-01-14T15:52:19.416Z"
   },
   {
    "duration": 15,
    "start_time": "2023-01-14T15:52:19.910Z"
   },
   {
    "duration": 2198,
    "start_time": "2023-01-14T15:52:19.926Z"
   },
   {
    "duration": 154,
    "start_time": "2023-01-14T15:52:22.126Z"
   },
   {
    "duration": 12,
    "start_time": "2023-01-14T15:52:22.283Z"
   },
   {
    "duration": 9146,
    "start_time": "2023-01-14T15:52:22.297Z"
   },
   {
    "duration": 41,
    "start_time": "2023-01-14T15:52:31.448Z"
   },
   {
    "duration": 374,
    "start_time": "2023-01-14T15:52:31.490Z"
   },
   {
    "duration": 11,
    "start_time": "2023-01-14T15:52:31.865Z"
   },
   {
    "duration": 15,
    "start_time": "2023-01-14T15:52:31.877Z"
   },
   {
    "duration": 16,
    "start_time": "2023-01-14T15:52:31.893Z"
   },
   {
    "duration": 5,
    "start_time": "2023-01-14T15:52:31.910Z"
   },
   {
    "duration": 18,
    "start_time": "2023-01-14T15:52:31.916Z"
   },
   {
    "duration": 9,
    "start_time": "2023-01-14T15:52:31.935Z"
   },
   {
    "duration": 4,
    "start_time": "2023-01-14T15:52:31.945Z"
   },
   {
    "duration": 36,
    "start_time": "2023-01-14T15:52:31.950Z"
   },
   {
    "duration": 22,
    "start_time": "2023-01-14T15:52:31.988Z"
   },
   {
    "duration": 15,
    "start_time": "2023-01-14T15:52:32.013Z"
   },
   {
    "duration": 257,
    "start_time": "2023-01-14T15:52:32.029Z"
   },
   {
    "duration": 2,
    "start_time": "2023-01-14T15:52:32.288Z"
   },
   {
    "duration": 6,
    "start_time": "2023-01-14T15:52:32.291Z"
   },
   {
    "duration": 11,
    "start_time": "2023-01-14T15:52:32.299Z"
   },
   {
    "duration": 9,
    "start_time": "2023-01-14T15:52:32.312Z"
   },
   {
    "duration": 27,
    "start_time": "2023-01-14T15:52:32.322Z"
   },
   {
    "duration": 30,
    "start_time": "2023-01-14T15:52:32.353Z"
   },
   {
    "duration": 5,
    "start_time": "2023-01-14T15:52:32.385Z"
   },
   {
    "duration": 707,
    "start_time": "2023-01-14T15:52:32.391Z"
   },
   {
    "duration": 1240,
    "start_time": "2023-01-14T15:52:33.099Z"
   },
   {
    "duration": 8,
    "start_time": "2023-01-14T15:52:34.341Z"
   },
   {
    "duration": 831,
    "start_time": "2023-01-14T15:52:34.350Z"
   },
   {
    "duration": 3,
    "start_time": "2023-01-14T15:52:35.184Z"
   },
   {
    "duration": 12,
    "start_time": "2023-01-14T15:52:35.189Z"
   },
   {
    "duration": 8,
    "start_time": "2023-01-14T15:52:35.203Z"
   },
   {
    "duration": 6,
    "start_time": "2023-01-14T15:52:35.213Z"
   },
   {
    "duration": 7,
    "start_time": "2023-01-14T15:52:35.221Z"
   },
   {
    "duration": 12,
    "start_time": "2023-01-14T15:52:35.229Z"
   },
   {
    "duration": 473,
    "start_time": "2023-01-14T15:52:35.243Z"
   },
   {
    "duration": 6,
    "start_time": "2023-01-14T15:52:35.718Z"
   },
   {
    "duration": 31,
    "start_time": "2023-01-14T15:52:35.725Z"
   },
   {
    "duration": 6,
    "start_time": "2023-01-14T15:52:35.758Z"
   },
   {
    "duration": 11,
    "start_time": "2023-01-14T15:52:35.766Z"
   },
   {
    "duration": 5,
    "start_time": "2023-01-14T15:52:35.778Z"
   },
   {
    "duration": 4,
    "start_time": "2023-01-14T15:52:35.785Z"
   },
   {
    "duration": 6,
    "start_time": "2023-01-14T15:52:35.791Z"
   },
   {
    "duration": 6,
    "start_time": "2023-01-14T15:52:35.799Z"
   },
   {
    "duration": 22,
    "start_time": "2023-01-14T15:52:35.807Z"
   },
   {
    "duration": 4,
    "start_time": "2023-01-14T15:52:35.831Z"
   },
   {
    "duration": 8,
    "start_time": "2023-01-14T15:52:35.837Z"
   },
   {
    "duration": 31,
    "start_time": "2023-01-14T15:52:35.847Z"
   },
   {
    "duration": 192,
    "start_time": "2023-01-14T15:52:35.881Z"
   },
   {
    "duration": 48,
    "start_time": "2023-01-14T15:52:36.074Z"
   },
   {
    "duration": 54,
    "start_time": "2023-01-14T15:52:36.123Z"
   },
   {
    "duration": 65,
    "start_time": "2023-01-14T15:52:36.178Z"
   },
   {
    "duration": 4,
    "start_time": "2023-01-14T15:52:36.244Z"
   },
   {
    "duration": 60,
    "start_time": "2023-01-14T15:52:36.249Z"
   },
   {
    "duration": 4,
    "start_time": "2023-01-14T15:52:36.310Z"
   },
   {
    "duration": 60,
    "start_time": "2023-01-14T15:52:36.316Z"
   },
   {
    "duration": 52,
    "start_time": "2023-01-14T15:52:36.378Z"
   },
   {
    "duration": 53,
    "start_time": "2023-01-14T15:52:36.432Z"
   },
   {
    "duration": 48,
    "start_time": "2023-01-14T15:52:36.486Z"
   },
   {
    "duration": 81,
    "start_time": "2023-01-14T15:52:36.536Z"
   },
   {
    "duration": 10,
    "start_time": "2023-01-14T15:52:36.619Z"
   },
   {
    "duration": 0,
    "start_time": "2023-01-14T15:52:36.630Z"
   },
   {
    "duration": 0,
    "start_time": "2023-01-14T15:52:36.631Z"
   },
   {
    "duration": 0,
    "start_time": "2023-01-14T15:52:36.633Z"
   },
   {
    "duration": 0,
    "start_time": "2023-01-14T15:52:36.633Z"
   },
   {
    "duration": 7,
    "start_time": "2023-01-14T15:53:59.719Z"
   },
   {
    "duration": 4,
    "start_time": "2023-01-14T15:54:50.879Z"
   },
   {
    "duration": 16,
    "start_time": "2023-01-14T15:56:31.204Z"
   },
   {
    "duration": 6,
    "start_time": "2023-01-14T15:56:55.086Z"
   },
   {
    "duration": 3,
    "start_time": "2023-01-14T15:57:10.320Z"
   },
   {
    "duration": 4,
    "start_time": "2023-01-14T15:58:09.996Z"
   },
   {
    "duration": 4,
    "start_time": "2023-01-14T15:58:23.736Z"
   },
   {
    "duration": 5,
    "start_time": "2023-01-14T15:59:59.656Z"
   },
   {
    "duration": 3,
    "start_time": "2023-01-14T16:00:27.125Z"
   },
   {
    "duration": 6,
    "start_time": "2023-01-14T16:01:24.912Z"
   },
   {
    "duration": 3,
    "start_time": "2023-01-14T16:01:58.272Z"
   },
   {
    "duration": 4,
    "start_time": "2023-01-14T16:02:56.442Z"
   },
   {
    "duration": 4,
    "start_time": "2023-01-14T16:03:20.584Z"
   },
   {
    "duration": 4,
    "start_time": "2023-01-14T16:04:27.500Z"
   },
   {
    "duration": 10,
    "start_time": "2023-01-14T16:07:22.821Z"
   },
   {
    "duration": 10,
    "start_time": "2023-01-14T16:07:42.857Z"
   },
   {
    "duration": 5,
    "start_time": "2023-01-14T16:08:01.128Z"
   },
   {
    "duration": 3,
    "start_time": "2023-01-14T16:08:18.863Z"
   },
   {
    "duration": 6,
    "start_time": "2023-01-14T16:08:36.967Z"
   },
   {
    "duration": 5,
    "start_time": "2023-01-14T16:08:50.983Z"
   },
   {
    "duration": 3,
    "start_time": "2023-01-14T16:08:54.199Z"
   },
   {
    "duration": 22,
    "start_time": "2023-01-14T16:18:10.636Z"
   },
   {
    "duration": 1392,
    "start_time": "2023-01-14T16:18:21.480Z"
   },
   {
    "duration": 712,
    "start_time": "2023-01-14T16:18:22.875Z"
   },
   {
    "duration": 8462,
    "start_time": "2023-01-14T16:18:23.589Z"
   },
   {
    "duration": 343,
    "start_time": "2023-01-14T16:18:32.054Z"
   },
   {
    "duration": 16,
    "start_time": "2023-01-14T16:18:32.399Z"
   },
   {
    "duration": 2436,
    "start_time": "2023-01-14T16:18:32.416Z"
   },
   {
    "duration": 199,
    "start_time": "2023-01-14T16:18:34.854Z"
   },
   {
    "duration": 27,
    "start_time": "2023-01-14T16:18:35.055Z"
   },
   {
    "duration": 8479,
    "start_time": "2023-01-14T16:18:35.084Z"
   },
   {
    "duration": 27,
    "start_time": "2023-01-14T16:18:43.566Z"
   },
   {
    "duration": 369,
    "start_time": "2023-01-14T16:18:43.595Z"
   },
   {
    "duration": 3,
    "start_time": "2023-01-14T16:18:43.965Z"
   },
   {
    "duration": 12,
    "start_time": "2023-01-14T16:18:43.975Z"
   },
   {
    "duration": 21,
    "start_time": "2023-01-14T16:18:43.988Z"
   },
   {
    "duration": 6,
    "start_time": "2023-01-14T16:18:44.010Z"
   },
   {
    "duration": 21,
    "start_time": "2023-01-14T16:18:44.017Z"
   },
   {
    "duration": 11,
    "start_time": "2023-01-14T16:18:44.040Z"
   },
   {
    "duration": 7,
    "start_time": "2023-01-14T16:18:44.053Z"
   },
   {
    "duration": 28,
    "start_time": "2023-01-14T16:18:44.061Z"
   },
   {
    "duration": 21,
    "start_time": "2023-01-14T16:18:44.091Z"
   },
   {
    "duration": 15,
    "start_time": "2023-01-14T16:18:44.114Z"
   },
   {
    "duration": 251,
    "start_time": "2023-01-14T16:18:44.131Z"
   },
   {
    "duration": 2,
    "start_time": "2023-01-14T16:18:44.384Z"
   },
   {
    "duration": 13,
    "start_time": "2023-01-14T16:18:44.388Z"
   },
   {
    "duration": 12,
    "start_time": "2023-01-14T16:18:44.402Z"
   },
   {
    "duration": 21,
    "start_time": "2023-01-14T16:18:44.416Z"
   },
   {
    "duration": 26,
    "start_time": "2023-01-14T16:18:44.439Z"
   },
   {
    "duration": 19,
    "start_time": "2023-01-14T16:18:44.469Z"
   },
   {
    "duration": 8,
    "start_time": "2023-01-14T16:18:44.490Z"
   },
   {
    "duration": 643,
    "start_time": "2023-01-14T16:18:44.500Z"
   },
   {
    "duration": 1197,
    "start_time": "2023-01-14T16:18:45.145Z"
   },
   {
    "duration": 7,
    "start_time": "2023-01-14T16:18:46.344Z"
   },
   {
    "duration": 619,
    "start_time": "2023-01-14T16:18:46.353Z"
   },
   {
    "duration": 3,
    "start_time": "2023-01-14T16:18:46.976Z"
   },
   {
    "duration": 13,
    "start_time": "2023-01-14T16:18:46.981Z"
   },
   {
    "duration": 8,
    "start_time": "2023-01-14T16:18:46.995Z"
   },
   {
    "duration": 5,
    "start_time": "2023-01-14T16:18:47.005Z"
   },
   {
    "duration": 6,
    "start_time": "2023-01-14T16:18:47.011Z"
   },
   {
    "duration": 10,
    "start_time": "2023-01-14T16:18:47.019Z"
   },
   {
    "duration": 386,
    "start_time": "2023-01-14T16:18:47.031Z"
   },
   {
    "duration": 5,
    "start_time": "2023-01-14T16:18:47.419Z"
   },
   {
    "duration": 32,
    "start_time": "2023-01-14T16:18:47.426Z"
   },
   {
    "duration": 6,
    "start_time": "2023-01-14T16:18:47.460Z"
   },
   {
    "duration": 10,
    "start_time": "2023-01-14T16:18:47.467Z"
   },
   {
    "duration": 8,
    "start_time": "2023-01-14T16:18:47.478Z"
   },
   {
    "duration": 6,
    "start_time": "2023-01-14T16:18:47.487Z"
   },
   {
    "duration": 22,
    "start_time": "2023-01-14T16:18:47.495Z"
   },
   {
    "duration": 4,
    "start_time": "2023-01-14T16:18:47.520Z"
   },
   {
    "duration": 7,
    "start_time": "2023-01-14T16:18:47.526Z"
   },
   {
    "duration": 5,
    "start_time": "2023-01-14T16:18:47.534Z"
   },
   {
    "duration": 12552,
    "start_time": "2023-01-14T16:18:47.541Z"
   },
   {
    "duration": 156,
    "start_time": "2023-01-14T16:19:00.095Z"
   },
   {
    "duration": 52,
    "start_time": "2023-01-14T16:19:00.253Z"
   },
   {
    "duration": 43,
    "start_time": "2023-01-14T16:19:00.307Z"
   },
   {
    "duration": 4,
    "start_time": "2023-01-14T16:19:00.352Z"
   },
   {
    "duration": 79,
    "start_time": "2023-01-14T16:19:00.357Z"
   },
   {
    "duration": 4,
    "start_time": "2023-01-14T16:19:00.437Z"
   },
   {
    "duration": 77,
    "start_time": "2023-01-14T16:19:00.442Z"
   },
   {
    "duration": 56,
    "start_time": "2023-01-14T16:19:00.521Z"
   },
   {
    "duration": 58,
    "start_time": "2023-01-14T16:19:00.579Z"
   },
   {
    "duration": 53,
    "start_time": "2023-01-14T16:19:00.639Z"
   },
   {
    "duration": 63,
    "start_time": "2023-01-14T16:19:00.693Z"
   },
   {
    "duration": 9,
    "start_time": "2023-01-14T16:19:00.757Z"
   },
   {
    "duration": 0,
    "start_time": "2023-01-14T16:19:00.767Z"
   },
   {
    "duration": 0,
    "start_time": "2023-01-14T16:19:00.769Z"
   },
   {
    "duration": 0,
    "start_time": "2023-01-14T16:19:00.769Z"
   },
   {
    "duration": 0,
    "start_time": "2023-01-14T16:19:00.770Z"
   },
   {
    "duration": 13041,
    "start_time": "2023-01-14T16:37:13.308Z"
   },
   {
    "duration": 32,
    "start_time": "2023-01-14T16:39:27.808Z"
   },
   {
    "duration": 13651,
    "start_time": "2023-01-14T16:39:33.289Z"
   },
   {
    "duration": 24,
    "start_time": "2023-01-14T16:45:50.550Z"
   },
   {
    "duration": 13289,
    "start_time": "2023-01-14T16:45:55.960Z"
   },
   {
    "duration": 30,
    "start_time": "2023-01-14T16:46:46.112Z"
   },
   {
    "duration": 13435,
    "start_time": "2023-01-14T16:46:56.991Z"
   },
   {
    "duration": 14028,
    "start_time": "2023-01-14T16:47:54.235Z"
   },
   {
    "duration": 3,
    "start_time": "2023-01-14T16:50:56.936Z"
   },
   {
    "duration": 13518,
    "start_time": "2023-01-14T16:51:10.935Z"
   },
   {
    "duration": 3,
    "start_time": "2023-01-14T16:52:34.362Z"
   },
   {
    "duration": 12983,
    "start_time": "2023-01-14T16:52:43.436Z"
   },
   {
    "duration": 1381,
    "start_time": "2023-01-14T16:53:02.428Z"
   },
   {
    "duration": 754,
    "start_time": "2023-01-14T16:53:03.811Z"
   },
   {
    "duration": 6632,
    "start_time": "2023-01-14T16:53:04.567Z"
   },
   {
    "duration": 364,
    "start_time": "2023-01-14T16:53:11.201Z"
   },
   {
    "duration": 27,
    "start_time": "2023-01-14T16:53:11.567Z"
   },
   {
    "duration": 2408,
    "start_time": "2023-01-14T16:53:11.596Z"
   },
   {
    "duration": 164,
    "start_time": "2023-01-14T16:53:14.005Z"
   },
   {
    "duration": 23,
    "start_time": "2023-01-14T16:53:14.170Z"
   },
   {
    "duration": 9051,
    "start_time": "2023-01-14T16:53:14.195Z"
   },
   {
    "duration": 46,
    "start_time": "2023-01-14T16:53:23.250Z"
   },
   {
    "duration": 412,
    "start_time": "2023-01-14T16:53:23.297Z"
   },
   {
    "duration": 3,
    "start_time": "2023-01-14T16:53:23.711Z"
   },
   {
    "duration": 11,
    "start_time": "2023-01-14T16:53:23.715Z"
   },
   {
    "duration": 13,
    "start_time": "2023-01-14T16:53:23.728Z"
   },
   {
    "duration": 4,
    "start_time": "2023-01-14T16:53:23.743Z"
   },
   {
    "duration": 30,
    "start_time": "2023-01-14T16:53:23.749Z"
   },
   {
    "duration": 10,
    "start_time": "2023-01-14T16:53:23.788Z"
   },
   {
    "duration": 8,
    "start_time": "2023-01-14T16:53:23.800Z"
   },
   {
    "duration": 20,
    "start_time": "2023-01-14T16:53:23.810Z"
   },
   {
    "duration": 21,
    "start_time": "2023-01-14T16:53:23.832Z"
   },
   {
    "duration": 30,
    "start_time": "2023-01-14T16:53:23.855Z"
   },
   {
    "duration": 246,
    "start_time": "2023-01-14T16:53:23.888Z"
   },
   {
    "duration": 3,
    "start_time": "2023-01-14T16:53:24.135Z"
   },
   {
    "duration": 7,
    "start_time": "2023-01-14T16:53:24.139Z"
   },
   {
    "duration": 7,
    "start_time": "2023-01-14T16:53:24.147Z"
   },
   {
    "duration": 19,
    "start_time": "2023-01-14T16:53:24.155Z"
   },
   {
    "duration": 40,
    "start_time": "2023-01-14T16:53:24.176Z"
   },
   {
    "duration": 17,
    "start_time": "2023-01-14T16:53:24.219Z"
   },
   {
    "duration": 6,
    "start_time": "2023-01-14T16:53:24.237Z"
   },
   {
    "duration": 744,
    "start_time": "2023-01-14T16:53:24.245Z"
   },
   {
    "duration": 1220,
    "start_time": "2023-01-14T16:53:24.992Z"
   },
   {
    "duration": 7,
    "start_time": "2023-01-14T16:53:26.215Z"
   },
   {
    "duration": 717,
    "start_time": "2023-01-14T16:53:26.224Z"
   },
   {
    "duration": 3,
    "start_time": "2023-01-14T16:53:26.943Z"
   },
   {
    "duration": 12,
    "start_time": "2023-01-14T16:53:26.948Z"
   },
   {
    "duration": 7,
    "start_time": "2023-01-14T16:53:26.961Z"
   },
   {
    "duration": 8,
    "start_time": "2023-01-14T16:53:26.970Z"
   },
   {
    "duration": 13,
    "start_time": "2023-01-14T16:53:26.985Z"
   },
   {
    "duration": 9,
    "start_time": "2023-01-14T16:53:27.000Z"
   },
   {
    "duration": 401,
    "start_time": "2023-01-14T16:53:27.011Z"
   },
   {
    "duration": 5,
    "start_time": "2023-01-14T16:53:27.414Z"
   },
   {
    "duration": 16,
    "start_time": "2023-01-14T16:53:27.421Z"
   },
   {
    "duration": 6,
    "start_time": "2023-01-14T16:53:27.438Z"
   },
   {
    "duration": 6,
    "start_time": "2023-01-14T16:53:27.445Z"
   },
   {
    "duration": 10,
    "start_time": "2023-01-14T16:53:27.452Z"
   },
   {
    "duration": 19,
    "start_time": "2023-01-14T16:53:27.463Z"
   },
   {
    "duration": 21,
    "start_time": "2023-01-14T16:53:27.485Z"
   },
   {
    "duration": 32,
    "start_time": "2023-01-14T16:53:27.508Z"
   },
   {
    "duration": 5,
    "start_time": "2023-01-14T16:53:27.542Z"
   },
   {
    "duration": 11,
    "start_time": "2023-01-14T16:53:27.548Z"
   },
   {
    "duration": 13918,
    "start_time": "2023-01-14T16:53:27.560Z"
   },
   {
    "duration": 180,
    "start_time": "2023-01-14T16:53:41.480Z"
   },
   {
    "duration": 70,
    "start_time": "2023-01-14T16:53:41.663Z"
   },
   {
    "duration": 71,
    "start_time": "2023-01-14T16:53:41.735Z"
   },
   {
    "duration": 5,
    "start_time": "2023-01-14T16:53:41.808Z"
   },
   {
    "duration": 60,
    "start_time": "2023-01-14T16:53:41.815Z"
   },
   {
    "duration": 6,
    "start_time": "2023-01-14T16:53:41.880Z"
   },
   {
    "duration": 79,
    "start_time": "2023-01-14T16:53:41.888Z"
   },
   {
    "duration": 59,
    "start_time": "2023-01-14T16:53:41.969Z"
   },
   {
    "duration": 87,
    "start_time": "2023-01-14T16:53:42.029Z"
   },
   {
    "duration": 82,
    "start_time": "2023-01-14T16:53:42.118Z"
   },
   {
    "duration": 54,
    "start_time": "2023-01-14T16:53:42.201Z"
   },
   {
    "duration": 9,
    "start_time": "2023-01-14T16:53:42.257Z"
   },
   {
    "duration": 0,
    "start_time": "2023-01-14T16:53:42.267Z"
   },
   {
    "duration": 0,
    "start_time": "2023-01-14T16:53:42.269Z"
   },
   {
    "duration": 0,
    "start_time": "2023-01-14T16:53:42.270Z"
   },
   {
    "duration": 0,
    "start_time": "2023-01-14T16:53:42.271Z"
   },
   {
    "duration": 58,
    "start_time": "2023-01-14T17:03:05.805Z"
   },
   {
    "duration": 398,
    "start_time": "2023-01-14T17:03:26.362Z"
   },
   {
    "duration": 462,
    "start_time": "2023-01-14T17:04:24.443Z"
   },
   {
    "duration": 40,
    "start_time": "2023-01-14T17:08:30.952Z"
   },
   {
    "duration": 397,
    "start_time": "2023-01-14T17:09:06.222Z"
   },
   {
    "duration": 2,
    "start_time": "2023-01-14T17:21:20.493Z"
   },
   {
    "duration": 36032,
    "start_time": "2023-01-14T17:22:47.992Z"
   },
   {
    "duration": 34499,
    "start_time": "2023-01-14T17:25:36.555Z"
   },
   {
    "duration": 1404,
    "start_time": "2023-01-14T17:26:33.414Z"
   },
   {
    "duration": 863,
    "start_time": "2023-01-14T17:26:34.821Z"
   },
   {
    "duration": 7167,
    "start_time": "2023-01-14T17:26:35.686Z"
   },
   {
    "duration": 383,
    "start_time": "2023-01-14T17:26:42.856Z"
   },
   {
    "duration": 15,
    "start_time": "2023-01-14T17:26:43.240Z"
   },
   {
    "duration": 3758,
    "start_time": "2023-01-14T17:26:43.257Z"
   },
   {
    "duration": 192,
    "start_time": "2023-01-14T17:26:47.017Z"
   },
   {
    "duration": 12,
    "start_time": "2023-01-14T17:26:47.211Z"
   },
   {
    "duration": 10782,
    "start_time": "2023-01-14T17:26:47.225Z"
   },
   {
    "duration": 17,
    "start_time": "2023-01-14T17:26:58.010Z"
   },
   {
    "duration": 420,
    "start_time": "2023-01-14T17:26:58.028Z"
   },
   {
    "duration": 3,
    "start_time": "2023-01-14T17:26:58.449Z"
   },
   {
    "duration": 9,
    "start_time": "2023-01-14T17:26:58.453Z"
   },
   {
    "duration": 27,
    "start_time": "2023-01-14T17:26:58.463Z"
   },
   {
    "duration": 4,
    "start_time": "2023-01-14T17:26:58.492Z"
   },
   {
    "duration": 11,
    "start_time": "2023-01-14T17:26:58.498Z"
   },
   {
    "duration": 7,
    "start_time": "2023-01-14T17:26:58.510Z"
   },
   {
    "duration": 6,
    "start_time": "2023-01-14T17:26:58.518Z"
   },
   {
    "duration": 17,
    "start_time": "2023-01-14T17:26:58.525Z"
   },
   {
    "duration": 58,
    "start_time": "2023-01-14T17:26:58.543Z"
   },
   {
    "duration": 16,
    "start_time": "2023-01-14T17:26:58.603Z"
   },
   {
    "duration": 240,
    "start_time": "2023-01-14T17:26:58.620Z"
   },
   {
    "duration": 2,
    "start_time": "2023-01-14T17:26:58.862Z"
   },
   {
    "duration": 9,
    "start_time": "2023-01-14T17:26:58.865Z"
   },
   {
    "duration": 23,
    "start_time": "2023-01-14T17:26:58.875Z"
   },
   {
    "duration": 8,
    "start_time": "2023-01-14T17:26:58.900Z"
   },
   {
    "duration": 23,
    "start_time": "2023-01-14T17:26:58.910Z"
   },
   {
    "duration": 16,
    "start_time": "2023-01-14T17:26:58.936Z"
   },
   {
    "duration": 4,
    "start_time": "2023-01-14T17:26:58.954Z"
   },
   {
    "duration": 742,
    "start_time": "2023-01-14T17:26:58.960Z"
   },
   {
    "duration": 1237,
    "start_time": "2023-01-14T17:26:59.704Z"
   },
   {
    "duration": 8,
    "start_time": "2023-01-14T17:27:00.943Z"
   },
   {
    "duration": 721,
    "start_time": "2023-01-14T17:27:00.953Z"
   },
   {
    "duration": 7,
    "start_time": "2023-01-14T17:27:01.677Z"
   },
   {
    "duration": 25,
    "start_time": "2023-01-14T17:27:01.686Z"
   },
   {
    "duration": 22,
    "start_time": "2023-01-14T17:27:01.713Z"
   },
   {
    "duration": 23,
    "start_time": "2023-01-14T17:27:01.736Z"
   },
   {
    "duration": 34,
    "start_time": "2023-01-14T17:27:01.761Z"
   },
   {
    "duration": 24,
    "start_time": "2023-01-14T17:27:01.797Z"
   },
   {
    "duration": 393,
    "start_time": "2023-01-14T17:27:01.822Z"
   },
   {
    "duration": 5,
    "start_time": "2023-01-14T17:27:02.217Z"
   },
   {
    "duration": 21,
    "start_time": "2023-01-14T17:27:02.223Z"
   },
   {
    "duration": 6,
    "start_time": "2023-01-14T17:27:02.245Z"
   },
   {
    "duration": 5,
    "start_time": "2023-01-14T17:27:02.252Z"
   },
   {
    "duration": 33,
    "start_time": "2023-01-14T17:27:02.258Z"
   },
   {
    "duration": 9,
    "start_time": "2023-01-14T17:27:02.293Z"
   },
   {
    "duration": 29,
    "start_time": "2023-01-14T17:27:02.303Z"
   },
   {
    "duration": 4,
    "start_time": "2023-01-14T17:27:02.333Z"
   },
   {
    "duration": 14,
    "start_time": "2023-01-14T17:27:02.339Z"
   },
   {
    "duration": 6,
    "start_time": "2023-01-14T17:27:02.355Z"
   },
   {
    "duration": 13302,
    "start_time": "2023-01-14T17:27:02.363Z"
   },
   {
    "duration": 3,
    "start_time": "2023-01-14T17:27:15.666Z"
   },
   {
    "duration": 35933,
    "start_time": "2023-01-14T17:27:15.678Z"
   },
   {
    "duration": 4,
    "start_time": "2023-01-14T17:27:51.613Z"
   },
   {
    "duration": 160,
    "start_time": "2023-01-14T17:27:51.618Z"
   },
   {
    "duration": 5,
    "start_time": "2023-01-14T17:27:51.781Z"
   },
   {
    "duration": 52,
    "start_time": "2023-01-14T17:27:51.789Z"
   },
   {
    "duration": 57,
    "start_time": "2023-01-14T17:27:51.842Z"
   },
   {
    "duration": 51,
    "start_time": "2023-01-14T17:27:51.900Z"
   },
   {
    "duration": 61,
    "start_time": "2023-01-14T17:27:51.953Z"
   },
   {
    "duration": 54,
    "start_time": "2023-01-14T17:27:52.016Z"
   },
   {
    "duration": 13,
    "start_time": "2023-01-14T17:27:52.071Z"
   },
   {
    "duration": 0,
    "start_time": "2023-01-14T17:27:52.086Z"
   },
   {
    "duration": 0,
    "start_time": "2023-01-14T17:27:52.088Z"
   },
   {
    "duration": 0,
    "start_time": "2023-01-14T17:27:52.089Z"
   },
   {
    "duration": 0,
    "start_time": "2023-01-14T17:27:52.091Z"
   },
   {
    "duration": 10987,
    "start_time": "2023-01-14T17:33:29.272Z"
   },
   {
    "duration": 7636,
    "start_time": "2023-01-14T17:34:28.590Z"
   },
   {
    "duration": 17812,
    "start_time": "2023-01-14T17:34:56.928Z"
   },
   {
    "duration": 13862,
    "start_time": "2023-01-14T17:35:36.600Z"
   },
   {
    "duration": 1445,
    "start_time": "2023-01-14T17:36:30.378Z"
   },
   {
    "duration": 724,
    "start_time": "2023-01-14T17:36:31.825Z"
   },
   {
    "duration": 8074,
    "start_time": "2023-01-14T17:36:32.550Z"
   },
   {
    "duration": 387,
    "start_time": "2023-01-14T17:36:40.627Z"
   },
   {
    "duration": 15,
    "start_time": "2023-01-14T17:36:41.016Z"
   },
   {
    "duration": 2496,
    "start_time": "2023-01-14T17:36:41.033Z"
   },
   {
    "duration": 197,
    "start_time": "2023-01-14T17:36:43.531Z"
   },
   {
    "duration": 13,
    "start_time": "2023-01-14T17:36:43.729Z"
   },
   {
    "duration": 9393,
    "start_time": "2023-01-14T17:36:43.743Z"
   },
   {
    "duration": 16,
    "start_time": "2023-01-14T17:36:53.140Z"
   },
   {
    "duration": 281,
    "start_time": "2023-01-14T17:36:53.158Z"
   },
   {
    "duration": 2,
    "start_time": "2023-01-14T17:36:53.441Z"
   },
   {
    "duration": 210,
    "start_time": "2023-01-14T17:36:53.445Z"
   },
   {
    "duration": 13,
    "start_time": "2023-01-14T17:36:53.657Z"
   },
   {
    "duration": 8,
    "start_time": "2023-01-14T17:36:53.672Z"
   },
   {
    "duration": 12,
    "start_time": "2023-01-14T17:36:53.689Z"
   },
   {
    "duration": 6,
    "start_time": "2023-01-14T17:36:53.702Z"
   },
   {
    "duration": 3,
    "start_time": "2023-01-14T17:36:53.710Z"
   },
   {
    "duration": 20,
    "start_time": "2023-01-14T17:36:53.714Z"
   },
   {
    "duration": 53,
    "start_time": "2023-01-14T17:36:53.736Z"
   },
   {
    "duration": 16,
    "start_time": "2023-01-14T17:36:53.791Z"
   },
   {
    "duration": 570,
    "start_time": "2023-01-14T17:36:53.809Z"
   },
   {
    "duration": 4,
    "start_time": "2023-01-14T17:36:54.381Z"
   },
   {
    "duration": 9,
    "start_time": "2023-01-14T17:36:54.387Z"
   },
   {
    "duration": 10,
    "start_time": "2023-01-14T17:36:54.398Z"
   },
   {
    "duration": 13,
    "start_time": "2023-01-14T17:36:54.410Z"
   },
   {
    "duration": 27,
    "start_time": "2023-01-14T17:36:54.424Z"
   },
   {
    "duration": 42,
    "start_time": "2023-01-14T17:36:54.454Z"
   },
   {
    "duration": 6,
    "start_time": "2023-01-14T17:36:54.498Z"
   },
   {
    "duration": 1107,
    "start_time": "2023-01-14T17:36:54.505Z"
   },
   {
    "duration": 1201,
    "start_time": "2023-01-14T17:36:55.614Z"
   },
   {
    "duration": 6,
    "start_time": "2023-01-14T17:36:56.817Z"
   },
   {
    "duration": 669,
    "start_time": "2023-01-14T17:36:56.825Z"
   },
   {
    "duration": 3,
    "start_time": "2023-01-14T17:36:57.495Z"
   },
   {
    "duration": 8,
    "start_time": "2023-01-14T17:36:57.500Z"
   },
   {
    "duration": 6,
    "start_time": "2023-01-14T17:36:57.510Z"
   },
   {
    "duration": 5,
    "start_time": "2023-01-14T17:36:57.517Z"
   },
   {
    "duration": 8,
    "start_time": "2023-01-14T17:36:57.524Z"
   },
   {
    "duration": 11,
    "start_time": "2023-01-14T17:36:57.533Z"
   },
   {
    "duration": 411,
    "start_time": "2023-01-14T17:36:57.545Z"
   },
   {
    "duration": 5,
    "start_time": "2023-01-14T17:36:57.959Z"
   },
   {
    "duration": 30,
    "start_time": "2023-01-14T17:36:57.966Z"
   },
   {
    "duration": 7,
    "start_time": "2023-01-14T17:36:57.997Z"
   },
   {
    "duration": 5,
    "start_time": "2023-01-14T17:36:58.005Z"
   },
   {
    "duration": 9,
    "start_time": "2023-01-14T17:36:58.012Z"
   },
   {
    "duration": 5,
    "start_time": "2023-01-14T17:36:58.022Z"
   },
   {
    "duration": 21,
    "start_time": "2023-01-14T17:36:58.028Z"
   },
   {
    "duration": 3,
    "start_time": "2023-01-14T17:36:58.050Z"
   },
   {
    "duration": 4,
    "start_time": "2023-01-14T17:36:58.078Z"
   },
   {
    "duration": 16,
    "start_time": "2023-01-14T17:36:58.084Z"
   },
   {
    "duration": 3,
    "start_time": "2023-01-14T17:37:11.530Z"
   },
   {
    "duration": 43189,
    "start_time": "2023-01-14T17:37:11.535Z"
   },
   {
    "duration": 4,
    "start_time": "2023-01-14T17:37:54.726Z"
   },
   {
    "duration": 183,
    "start_time": "2023-01-14T17:37:54.732Z"
   },
   {
    "duration": 5,
    "start_time": "2023-01-14T17:37:54.917Z"
   },
   {
    "duration": 71,
    "start_time": "2023-01-14T17:37:54.923Z"
   },
   {
    "duration": 54,
    "start_time": "2023-01-14T17:37:54.995Z"
   },
   {
    "duration": 64,
    "start_time": "2023-01-14T17:37:55.051Z"
   },
   {
    "duration": 50,
    "start_time": "2023-01-14T17:37:55.117Z"
   },
   {
    "duration": 67,
    "start_time": "2023-01-14T17:37:55.169Z"
   },
   {
    "duration": 10,
    "start_time": "2023-01-14T17:37:55.238Z"
   },
   {
    "duration": 0,
    "start_time": "2023-01-14T17:37:55.250Z"
   },
   {
    "duration": 0,
    "start_time": "2023-01-14T17:37:55.251Z"
   },
   {
    "duration": 0,
    "start_time": "2023-01-14T17:37:55.252Z"
   },
   {
    "duration": 0,
    "start_time": "2023-01-14T17:37:55.254Z"
   },
   {
    "duration": 0,
    "start_time": "2023-01-14T17:37:55.255Z"
   },
   {
    "duration": 16287,
    "start_time": "2023-01-14T17:38:15.261Z"
   },
   {
    "duration": 34867,
    "start_time": "2023-01-14T17:39:12.860Z"
   },
   {
    "duration": 13444,
    "start_time": "2023-01-14T17:40:03.461Z"
   },
   {
    "duration": 11136,
    "start_time": "2023-01-14T17:40:48.590Z"
   },
   {
    "duration": 6525,
    "start_time": "2023-01-14T17:41:14.325Z"
   },
   {
    "duration": 1441,
    "start_time": "2023-01-14T17:41:53.988Z"
   },
   {
    "duration": 768,
    "start_time": "2023-01-14T17:41:55.431Z"
   },
   {
    "duration": 6887,
    "start_time": "2023-01-14T17:41:56.201Z"
   },
   {
    "duration": 360,
    "start_time": "2023-01-14T17:42:03.092Z"
   },
   {
    "duration": 15,
    "start_time": "2023-01-14T17:42:03.454Z"
   },
   {
    "duration": 2777,
    "start_time": "2023-01-14T17:42:03.470Z"
   },
   {
    "duration": 182,
    "start_time": "2023-01-14T17:42:06.249Z"
   },
   {
    "duration": 11,
    "start_time": "2023-01-14T17:42:06.433Z"
   },
   {
    "duration": 9586,
    "start_time": "2023-01-14T17:42:06.445Z"
   },
   {
    "duration": 52,
    "start_time": "2023-01-14T17:42:16.035Z"
   },
   {
    "duration": 394,
    "start_time": "2023-01-14T17:42:16.093Z"
   },
   {
    "duration": 3,
    "start_time": "2023-01-14T17:42:16.491Z"
   },
   {
    "duration": 11,
    "start_time": "2023-01-14T17:42:16.496Z"
   },
   {
    "duration": 14,
    "start_time": "2023-01-14T17:42:16.509Z"
   },
   {
    "duration": 4,
    "start_time": "2023-01-14T17:42:16.525Z"
   },
   {
    "duration": 9,
    "start_time": "2023-01-14T17:42:16.531Z"
   },
   {
    "duration": 9,
    "start_time": "2023-01-14T17:42:16.542Z"
   },
   {
    "duration": 29,
    "start_time": "2023-01-14T17:42:16.553Z"
   },
   {
    "duration": 24,
    "start_time": "2023-01-14T17:42:16.584Z"
   },
   {
    "duration": 19,
    "start_time": "2023-01-14T17:42:16.610Z"
   },
   {
    "duration": 16,
    "start_time": "2023-01-14T17:42:16.631Z"
   },
   {
    "duration": 271,
    "start_time": "2023-01-14T17:42:16.649Z"
   },
   {
    "duration": 2,
    "start_time": "2023-01-14T17:42:16.922Z"
   },
   {
    "duration": 5,
    "start_time": "2023-01-14T17:42:16.926Z"
   },
   {
    "duration": 6,
    "start_time": "2023-01-14T17:42:16.933Z"
   },
   {
    "duration": 12,
    "start_time": "2023-01-14T17:42:16.940Z"
   },
   {
    "duration": 51,
    "start_time": "2023-01-14T17:42:16.953Z"
   },
   {
    "duration": 17,
    "start_time": "2023-01-14T17:42:17.008Z"
   },
   {
    "duration": 6,
    "start_time": "2023-01-14T17:42:17.027Z"
   },
   {
    "duration": 785,
    "start_time": "2023-01-14T17:42:17.034Z"
   },
   {
    "duration": 1225,
    "start_time": "2023-01-14T17:42:17.821Z"
   },
   {
    "duration": 9,
    "start_time": "2023-01-14T17:42:19.048Z"
   },
   {
    "duration": 730,
    "start_time": "2023-01-14T17:42:19.058Z"
   },
   {
    "duration": 4,
    "start_time": "2023-01-14T17:42:19.790Z"
   },
   {
    "duration": 8,
    "start_time": "2023-01-14T17:42:19.796Z"
   },
   {
    "duration": 6,
    "start_time": "2023-01-14T17:42:19.806Z"
   },
   {
    "duration": 5,
    "start_time": "2023-01-14T17:42:19.813Z"
   },
   {
    "duration": 6,
    "start_time": "2023-01-14T17:42:19.820Z"
   },
   {
    "duration": 11,
    "start_time": "2023-01-14T17:42:19.827Z"
   },
   {
    "duration": 420,
    "start_time": "2023-01-14T17:42:19.839Z"
   },
   {
    "duration": 5,
    "start_time": "2023-01-14T17:42:20.260Z"
   },
   {
    "duration": 29,
    "start_time": "2023-01-14T17:42:20.267Z"
   },
   {
    "duration": 6,
    "start_time": "2023-01-14T17:42:20.298Z"
   },
   {
    "duration": 12,
    "start_time": "2023-01-14T17:42:20.305Z"
   },
   {
    "duration": 19,
    "start_time": "2023-01-14T17:42:20.318Z"
   },
   {
    "duration": 20,
    "start_time": "2023-01-14T17:42:20.338Z"
   },
   {
    "duration": 33,
    "start_time": "2023-01-14T17:42:20.359Z"
   },
   {
    "duration": 3,
    "start_time": "2023-01-14T17:42:20.394Z"
   },
   {
    "duration": 11,
    "start_time": "2023-01-14T17:42:20.398Z"
   },
   {
    "duration": 11,
    "start_time": "2023-01-14T17:42:20.410Z"
   },
   {
    "duration": 17622,
    "start_time": "2023-01-14T17:42:20.423Z"
   },
   {
    "duration": 2,
    "start_time": "2023-01-14T17:42:38.047Z"
   },
   {
    "duration": 7043,
    "start_time": "2023-01-14T17:42:38.050Z"
   },
   {
    "duration": 5,
    "start_time": "2023-01-14T17:42:45.095Z"
   },
   {
    "duration": 173,
    "start_time": "2023-01-14T17:42:45.102Z"
   },
   {
    "duration": 7,
    "start_time": "2023-01-14T17:42:45.279Z"
   },
   {
    "duration": 69,
    "start_time": "2023-01-14T17:42:45.290Z"
   },
   {
    "duration": 63,
    "start_time": "2023-01-14T17:42:45.362Z"
   },
   {
    "duration": 68,
    "start_time": "2023-01-14T17:42:45.426Z"
   },
   {
    "duration": 61,
    "start_time": "2023-01-14T17:42:45.497Z"
   },
   {
    "duration": 64,
    "start_time": "2023-01-14T17:42:45.559Z"
   },
   {
    "duration": 10,
    "start_time": "2023-01-14T17:42:45.624Z"
   },
   {
    "duration": 0,
    "start_time": "2023-01-14T17:42:45.635Z"
   },
   {
    "duration": 0,
    "start_time": "2023-01-14T17:42:45.636Z"
   },
   {
    "duration": 0,
    "start_time": "2023-01-14T17:42:45.637Z"
   },
   {
    "duration": 0,
    "start_time": "2023-01-14T17:42:45.639Z"
   },
   {
    "duration": 0,
    "start_time": "2023-01-14T17:42:45.640Z"
   },
   {
    "duration": 13416,
    "start_time": "2023-01-14T17:43:05.440Z"
   },
   {
    "duration": 388070,
    "start_time": "2023-01-14T17:54:47.308Z"
   },
   {
    "duration": 802619,
    "start_time": "2023-01-14T18:09:59.537Z"
   },
   {
    "duration": 383101,
    "start_time": "2023-01-14T18:23:22.157Z"
   },
   {
    "duration": 64,
    "start_time": "2023-01-14T18:29:45.260Z"
   },
   {
    "duration": 3,
    "start_time": "2023-01-14T18:32:57.179Z"
   },
   {
    "duration": 74,
    "start_time": "2023-01-14T18:32:59.849Z"
   },
   {
    "duration": 2696,
    "start_time": "2023-01-14T18:33:15.392Z"
   },
   {
    "duration": 771484,
    "start_time": "2023-01-14T18:34:56.932Z"
   },
   {
    "duration": 3309,
    "start_time": "2023-01-14T19:57:30.270Z"
   },
   {
    "duration": 2840,
    "start_time": "2023-01-14T19:59:22.238Z"
   },
   {
    "duration": 15,
    "start_time": "2023-01-14T20:12:28.839Z"
   },
   {
    "duration": 13,
    "start_time": "2023-01-14T20:14:14.430Z"
   },
   {
    "duration": 10,
    "start_time": "2023-01-14T20:14:28.324Z"
   },
   {
    "duration": 10,
    "start_time": "2023-01-14T20:14:55.420Z"
   },
   {
    "duration": 2,
    "start_time": "2023-01-14T20:15:02.992Z"
   },
   {
    "duration": 4,
    "start_time": "2023-01-14T20:15:16.291Z"
   },
   {
    "duration": 5,
    "start_time": "2023-01-14T20:26:25.203Z"
   },
   {
    "duration": 5,
    "start_time": "2023-01-14T20:26:36.040Z"
   },
   {
    "duration": 25616,
    "start_time": "2023-01-14T20:26:41.661Z"
   },
   {
    "duration": 1221,
    "start_time": "2023-01-14T20:28:55.479Z"
   },
   {
    "duration": 2963,
    "start_time": "2023-01-14T20:29:13.102Z"
   },
   {
    "duration": 3821,
    "start_time": "2023-01-14T20:29:43.155Z"
   },
   {
    "duration": 5280,
    "start_time": "2023-01-14T20:29:54.031Z"
   },
   {
    "duration": 4461,
    "start_time": "2023-01-14T20:30:10.667Z"
   },
   {
    "duration": 4173,
    "start_time": "2023-01-14T20:30:23.427Z"
   },
   {
    "duration": 3834,
    "start_time": "2023-01-14T20:30:38.748Z"
   },
   {
    "duration": 2428,
    "start_time": "2023-01-14T20:30:55.317Z"
   },
   {
    "duration": 3094,
    "start_time": "2023-01-14T20:31:05.820Z"
   },
   {
    "duration": 2618,
    "start_time": "2023-01-14T20:31:20.643Z"
   },
   {
    "duration": 21672,
    "start_time": "2023-01-14T20:32:29.293Z"
   },
   {
    "duration": 2287,
    "start_time": "2023-01-14T20:33:31.844Z"
   },
   {
    "duration": 1062,
    "start_time": "2023-01-14T20:33:43.743Z"
   },
   {
    "duration": 613,
    "start_time": "2023-01-14T20:33:49.755Z"
   },
   {
    "duration": 4222,
    "start_time": "2023-01-14T20:34:01.887Z"
   },
   {
    "duration": 24802,
    "start_time": "2023-01-14T20:34:20.427Z"
   },
   {
    "duration": 21787,
    "start_time": "2023-01-14T20:34:45.231Z"
   },
   {
    "duration": 2763,
    "start_time": "2023-01-14T20:35:12.402Z"
   },
   {
    "duration": 24936,
    "start_time": "2023-01-14T20:35:44.795Z"
   },
   {
    "duration": 4,
    "start_time": "2023-01-14T20:36:42.364Z"
   },
   {
    "duration": 11,
    "start_time": "2023-01-14T20:45:36.874Z"
   },
   {
    "duration": 10,
    "start_time": "2023-01-14T20:45:58.371Z"
   },
   {
    "duration": 1504,
    "start_time": "2023-01-14T20:49:44.388Z"
   },
   {
    "duration": 1332,
    "start_time": "2023-01-14T20:49:45.894Z"
   },
   {
    "duration": 6456,
    "start_time": "2023-01-14T20:49:47.227Z"
   },
   {
    "duration": 360,
    "start_time": "2023-01-14T20:49:53.686Z"
   },
   {
    "duration": 15,
    "start_time": "2023-01-14T20:49:54.047Z"
   },
   {
    "duration": 2453,
    "start_time": "2023-01-14T20:49:54.076Z"
   },
   {
    "duration": 211,
    "start_time": "2023-01-14T20:49:56.531Z"
   },
   {
    "duration": 14,
    "start_time": "2023-01-14T20:49:56.744Z"
   },
   {
    "duration": 8983,
    "start_time": "2023-01-14T20:49:56.769Z"
   },
   {
    "duration": 34,
    "start_time": "2023-01-14T20:50:05.755Z"
   },
   {
    "duration": 391,
    "start_time": "2023-01-14T20:50:05.790Z"
   },
   {
    "duration": 2,
    "start_time": "2023-01-14T20:50:06.183Z"
   },
   {
    "duration": 13,
    "start_time": "2023-01-14T20:50:06.187Z"
   },
   {
    "duration": 12,
    "start_time": "2023-01-14T20:50:06.202Z"
   },
   {
    "duration": 5,
    "start_time": "2023-01-14T20:50:06.216Z"
   },
   {
    "duration": 8,
    "start_time": "2023-01-14T20:50:06.222Z"
   },
   {
    "duration": 5,
    "start_time": "2023-01-14T20:50:06.231Z"
   },
   {
    "duration": 5,
    "start_time": "2023-01-14T20:50:06.237Z"
   },
   {
    "duration": 47,
    "start_time": "2023-01-14T20:50:06.244Z"
   },
   {
    "duration": 22,
    "start_time": "2023-01-14T20:50:06.293Z"
   },
   {
    "duration": 16,
    "start_time": "2023-01-14T20:50:06.317Z"
   },
   {
    "duration": 249,
    "start_time": "2023-01-14T20:50:06.335Z"
   },
   {
    "duration": 2,
    "start_time": "2023-01-14T20:50:06.586Z"
   },
   {
    "duration": 5,
    "start_time": "2023-01-14T20:50:06.590Z"
   },
   {
    "duration": 9,
    "start_time": "2023-01-14T20:50:06.597Z"
   },
   {
    "duration": 8,
    "start_time": "2023-01-14T20:50:06.608Z"
   },
   {
    "duration": 30,
    "start_time": "2023-01-14T20:50:06.618Z"
   },
   {
    "duration": 32,
    "start_time": "2023-01-14T20:50:06.652Z"
   },
   {
    "duration": 5,
    "start_time": "2023-01-14T20:50:06.686Z"
   },
   {
    "duration": 709,
    "start_time": "2023-01-14T20:50:06.693Z"
   },
   {
    "duration": 1131,
    "start_time": "2023-01-14T20:50:07.403Z"
   },
   {
    "duration": 7,
    "start_time": "2023-01-14T20:50:08.536Z"
   },
   {
    "duration": 646,
    "start_time": "2023-01-14T20:50:08.544Z"
   },
   {
    "duration": 3,
    "start_time": "2023-01-14T20:50:09.192Z"
   },
   {
    "duration": 11,
    "start_time": "2023-01-14T20:50:09.196Z"
   },
   {
    "duration": 8,
    "start_time": "2023-01-14T20:50:09.209Z"
   },
   {
    "duration": 8,
    "start_time": "2023-01-14T20:50:09.218Z"
   },
   {
    "duration": 8,
    "start_time": "2023-01-14T20:50:09.227Z"
   },
   {
    "duration": 12,
    "start_time": "2023-01-14T20:50:09.237Z"
   },
   {
    "duration": 413,
    "start_time": "2023-01-14T20:50:09.251Z"
   },
   {
    "duration": 10,
    "start_time": "2023-01-14T20:50:09.666Z"
   },
   {
    "duration": 14,
    "start_time": "2023-01-14T20:50:09.677Z"
   },
   {
    "duration": 6,
    "start_time": "2023-01-14T20:50:09.693Z"
   },
   {
    "duration": 9,
    "start_time": "2023-01-14T20:50:09.700Z"
   },
   {
    "duration": 8,
    "start_time": "2023-01-14T20:50:09.710Z"
   },
   {
    "duration": 4,
    "start_time": "2023-01-14T20:50:09.720Z"
   },
   {
    "duration": 21,
    "start_time": "2023-01-14T20:50:09.726Z"
   },
   {
    "duration": 3,
    "start_time": "2023-01-14T20:50:09.749Z"
   },
   {
    "duration": 23,
    "start_time": "2023-01-14T20:50:09.753Z"
   },
   {
    "duration": 3,
    "start_time": "2023-01-14T20:50:09.777Z"
   },
   {
    "duration": 12303,
    "start_time": "2023-01-14T20:50:09.781Z"
   },
   {
    "duration": 2,
    "start_time": "2023-01-14T20:50:22.086Z"
   },
   {
    "duration": 5977,
    "start_time": "2023-01-14T20:50:22.090Z"
   },
   {
    "duration": 763337,
    "start_time": "2023-01-14T20:50:28.068Z"
   },
   {
    "duration": 752464,
    "start_time": "2023-01-14T21:03:11.407Z"
   },
   {
    "duration": 3006,
    "start_time": "2023-01-14T21:15:43.872Z"
   },
   {
    "duration": 25164,
    "start_time": "2023-01-14T21:15:46.880Z"
   },
   {
    "duration": 21421,
    "start_time": "2023-01-14T21:16:12.046Z"
   },
   {
    "duration": 9,
    "start_time": "2023-01-14T21:16:33.469Z"
   },
   {
    "duration": 15,
    "start_time": "2023-01-14T21:16:33.480Z"
   },
   {
    "duration": 2213,
    "start_time": "2023-01-15T12:29:17.638Z"
   },
   {
    "duration": 2188,
    "start_time": "2023-01-15T12:29:19.863Z"
   },
   {
    "duration": 7726,
    "start_time": "2023-01-15T12:29:22.055Z"
   },
   {
    "duration": 419,
    "start_time": "2023-01-15T12:29:29.783Z"
   },
   {
    "duration": 34,
    "start_time": "2023-01-15T12:29:30.205Z"
   },
   {
    "duration": 2854,
    "start_time": "2023-01-15T12:29:30.245Z"
   },
   {
    "duration": 282,
    "start_time": "2023-01-15T12:29:33.101Z"
   },
   {
    "duration": 19,
    "start_time": "2023-01-15T12:29:33.385Z"
   },
   {
    "duration": 10988,
    "start_time": "2023-01-15T12:29:33.407Z"
   },
   {
    "duration": 40,
    "start_time": "2023-01-15T12:29:44.402Z"
   },
   {
    "duration": 514,
    "start_time": "2023-01-15T12:29:44.444Z"
   },
   {
    "duration": 3,
    "start_time": "2023-01-15T12:29:44.960Z"
   },
   {
    "duration": 9,
    "start_time": "2023-01-15T12:29:44.966Z"
   },
   {
    "duration": 15,
    "start_time": "2023-01-15T12:29:44.978Z"
   },
   {
    "duration": 5,
    "start_time": "2023-01-15T12:29:44.994Z"
   },
   {
    "duration": 11,
    "start_time": "2023-01-15T12:29:45.031Z"
   },
   {
    "duration": 12,
    "start_time": "2023-01-15T12:29:45.044Z"
   },
   {
    "duration": 10,
    "start_time": "2023-01-15T12:29:45.058Z"
   },
   {
    "duration": 21,
    "start_time": "2023-01-15T12:29:45.071Z"
   },
   {
    "duration": 43,
    "start_time": "2023-01-15T12:29:45.095Z"
   },
   {
    "duration": 23,
    "start_time": "2023-01-15T12:29:45.146Z"
   },
   {
    "duration": 279,
    "start_time": "2023-01-15T12:29:45.171Z"
   },
   {
    "duration": 3,
    "start_time": "2023-01-15T12:29:45.453Z"
   },
   {
    "duration": 10,
    "start_time": "2023-01-15T12:29:45.459Z"
   },
   {
    "duration": 10,
    "start_time": "2023-01-15T12:29:45.471Z"
   },
   {
    "duration": 10,
    "start_time": "2023-01-15T12:29:45.483Z"
   },
   {
    "duration": 56,
    "start_time": "2023-01-15T12:29:45.494Z"
   },
   {
    "duration": 21,
    "start_time": "2023-01-15T12:29:45.553Z"
   },
   {
    "duration": 6,
    "start_time": "2023-01-15T12:29:45.576Z"
   },
   {
    "duration": 894,
    "start_time": "2023-01-15T12:29:45.584Z"
   },
   {
    "duration": 1537,
    "start_time": "2023-01-15T12:29:46.480Z"
   },
   {
    "duration": 12,
    "start_time": "2023-01-15T12:29:48.022Z"
   },
   {
    "duration": 862,
    "start_time": "2023-01-15T12:29:48.037Z"
   },
   {
    "duration": 3,
    "start_time": "2023-01-15T12:29:48.900Z"
   },
   {
    "duration": 56,
    "start_time": "2023-01-15T12:29:48.905Z"
   },
   {
    "duration": 24,
    "start_time": "2023-01-15T12:29:48.964Z"
   },
   {
    "duration": 38,
    "start_time": "2023-01-15T12:29:48.990Z"
   },
   {
    "duration": 39,
    "start_time": "2023-01-15T12:29:49.033Z"
   },
   {
    "duration": 36,
    "start_time": "2023-01-15T12:29:49.075Z"
   },
   {
    "duration": 531,
    "start_time": "2023-01-15T12:29:49.113Z"
   },
   {
    "duration": 8,
    "start_time": "2023-01-15T12:29:49.650Z"
   },
   {
    "duration": 46,
    "start_time": "2023-01-15T12:29:49.661Z"
   },
   {
    "duration": 44,
    "start_time": "2023-01-15T12:29:49.709Z"
   },
   {
    "duration": 10,
    "start_time": "2023-01-15T12:29:49.755Z"
   },
   {
    "duration": 33,
    "start_time": "2023-01-15T12:29:49.767Z"
   },
   {
    "duration": 13,
    "start_time": "2023-01-15T12:29:49.802Z"
   },
   {
    "duration": 66,
    "start_time": "2023-01-15T12:29:49.817Z"
   },
   {
    "duration": 7,
    "start_time": "2023-01-15T12:29:49.885Z"
   },
   {
    "duration": 15,
    "start_time": "2023-01-15T12:29:49.893Z"
   },
   {
    "duration": 41,
    "start_time": "2023-01-15T12:29:49.909Z"
   },
   {
    "duration": 13697,
    "start_time": "2023-01-15T12:29:49.952Z"
   },
   {
    "duration": 3,
    "start_time": "2023-01-15T12:30:03.650Z"
   },
   {
    "duration": 6793,
    "start_time": "2023-01-15T12:30:03.655Z"
   },
   {
    "duration": 844361,
    "start_time": "2023-01-15T12:30:10.451Z"
   },
   {
    "duration": 815178,
    "start_time": "2023-01-15T12:44:14.814Z"
   },
   {
    "duration": 5649,
    "start_time": "2023-01-15T12:57:49.994Z"
   },
   {
    "duration": 26895,
    "start_time": "2023-01-15T12:57:55.651Z"
   },
   {
    "duration": 22309,
    "start_time": "2023-01-15T12:58:22.547Z"
   },
   {
    "duration": 4,
    "start_time": "2023-01-15T12:58:44.858Z"
   },
   {
    "duration": 11,
    "start_time": "2023-01-15T12:58:44.864Z"
   },
   {
    "duration": 116,
    "start_time": "2023-01-15T14:12:00.516Z"
   },
   {
    "duration": 4,
    "start_time": "2023-01-15T14:15:36.616Z"
   },
   {
    "duration": 58,
    "start_time": "2023-01-15T16:11:04.230Z"
   },
   {
    "duration": 1573,
    "start_time": "2023-01-15T16:14:49.335Z"
   },
   {
    "duration": 110,
    "start_time": "2023-01-15T16:16:10.210Z"
   },
   {
    "duration": 1566,
    "start_time": "2023-01-15T16:16:16.011Z"
   },
   {
    "duration": 3590,
    "start_time": "2023-01-15T16:16:17.579Z"
   },
   {
    "duration": 7412,
    "start_time": "2023-01-15T16:16:21.171Z"
   },
   {
    "duration": 383,
    "start_time": "2023-01-15T16:16:28.585Z"
   },
   {
    "duration": 24,
    "start_time": "2023-01-15T16:16:28.970Z"
   },
   {
    "duration": 2951,
    "start_time": "2023-01-15T16:16:28.996Z"
   },
   {
    "duration": 215,
    "start_time": "2023-01-15T16:16:31.950Z"
   },
   {
    "duration": 26,
    "start_time": "2023-01-15T16:16:32.167Z"
   },
   {
    "duration": 9975,
    "start_time": "2023-01-15T16:16:32.196Z"
   },
   {
    "duration": 24,
    "start_time": "2023-01-15T16:16:42.177Z"
   },
   {
    "duration": 441,
    "start_time": "2023-01-15T16:16:42.203Z"
   },
   {
    "duration": 3,
    "start_time": "2023-01-15T16:16:42.645Z"
   },
   {
    "duration": 13,
    "start_time": "2023-01-15T16:16:42.650Z"
   },
   {
    "duration": 27,
    "start_time": "2023-01-15T16:16:42.665Z"
   },
   {
    "duration": 9,
    "start_time": "2023-01-15T16:16:42.693Z"
   },
   {
    "duration": 10,
    "start_time": "2023-01-15T16:16:42.704Z"
   },
   {
    "duration": 6,
    "start_time": "2023-01-15T16:16:42.716Z"
   },
   {
    "duration": 8,
    "start_time": "2023-01-15T16:16:42.723Z"
   },
   {
    "duration": 47,
    "start_time": "2023-01-15T16:16:42.733Z"
   },
   {
    "duration": 33,
    "start_time": "2023-01-15T16:16:42.782Z"
   },
   {
    "duration": 18,
    "start_time": "2023-01-15T16:16:42.817Z"
   },
   {
    "duration": 277,
    "start_time": "2023-01-15T16:16:42.838Z"
   },
   {
    "duration": 3,
    "start_time": "2023-01-15T16:16:43.117Z"
   },
   {
    "duration": 5,
    "start_time": "2023-01-15T16:16:43.122Z"
   },
   {
    "duration": 7,
    "start_time": "2023-01-15T16:16:43.129Z"
   },
   {
    "duration": 11,
    "start_time": "2023-01-15T16:16:43.138Z"
   },
   {
    "duration": 64,
    "start_time": "2023-01-15T16:16:43.151Z"
   },
   {
    "duration": 18,
    "start_time": "2023-01-15T16:16:43.219Z"
   },
   {
    "duration": 6,
    "start_time": "2023-01-15T16:16:43.239Z"
   },
   {
    "duration": 723,
    "start_time": "2023-01-15T16:16:43.246Z"
   },
   {
    "duration": 1494,
    "start_time": "2023-01-15T16:16:43.971Z"
   },
   {
    "duration": 16,
    "start_time": "2023-01-15T16:16:45.467Z"
   },
   {
    "duration": 658,
    "start_time": "2023-01-15T16:16:45.486Z"
   },
   {
    "duration": 4,
    "start_time": "2023-01-15T16:16:46.145Z"
   },
   {
    "duration": 19,
    "start_time": "2023-01-15T16:16:46.151Z"
   },
   {
    "duration": 38,
    "start_time": "2023-01-15T16:16:46.172Z"
   },
   {
    "duration": 20,
    "start_time": "2023-01-15T16:16:46.212Z"
   },
   {
    "duration": 32,
    "start_time": "2023-01-15T16:16:46.234Z"
   },
   {
    "duration": 36,
    "start_time": "2023-01-15T16:16:46.268Z"
   },
   {
    "duration": 637,
    "start_time": "2023-01-15T16:16:46.306Z"
   },
   {
    "duration": 5,
    "start_time": "2023-01-15T16:16:46.945Z"
   },
   {
    "duration": 38,
    "start_time": "2023-01-15T16:16:46.952Z"
   },
   {
    "duration": 18,
    "start_time": "2023-01-15T16:16:46.992Z"
   },
   {
    "duration": 15,
    "start_time": "2023-01-15T16:16:47.012Z"
   },
   {
    "duration": 26,
    "start_time": "2023-01-15T16:16:47.028Z"
   },
   {
    "duration": 10,
    "start_time": "2023-01-15T16:16:47.056Z"
   },
   {
    "duration": 44,
    "start_time": "2023-01-15T16:16:47.067Z"
   },
   {
    "duration": 5,
    "start_time": "2023-01-15T16:16:47.112Z"
   },
   {
    "duration": 24,
    "start_time": "2023-01-15T16:16:47.119Z"
   },
   {
    "duration": 16,
    "start_time": "2023-01-15T16:16:47.145Z"
   },
   {
    "duration": 13642,
    "start_time": "2023-01-15T16:16:47.163Z"
   },
   {
    "duration": 3,
    "start_time": "2023-01-15T16:17:00.807Z"
   },
   {
    "duration": 6841,
    "start_time": "2023-01-15T16:17:00.812Z"
   },
   {
    "duration": 823429,
    "start_time": "2023-01-15T16:17:07.655Z"
   },
   {
    "duration": 801012,
    "start_time": "2023-01-15T16:30:51.086Z"
   },
   {
    "duration": 3497,
    "start_time": "2023-01-15T16:44:12.100Z"
   },
   {
    "duration": 26174,
    "start_time": "2023-01-15T16:44:15.615Z"
   },
   {
    "duration": 21969,
    "start_time": "2023-01-15T16:44:41.791Z"
   },
   {
    "duration": 4,
    "start_time": "2023-01-15T16:45:03.762Z"
   },
   {
    "duration": 21,
    "start_time": "2023-01-15T16:45:03.768Z"
   },
   {
    "duration": 152,
    "start_time": "2023-01-15T16:45:03.793Z"
   },
   {
    "duration": 2215,
    "start_time": "2023-01-15T17:36:47.763Z"
   },
   {
    "duration": 3363,
    "start_time": "2023-01-15T17:36:49.980Z"
   },
   {
    "duration": 7010,
    "start_time": "2023-01-15T17:36:53.345Z"
   },
   {
    "duration": 430,
    "start_time": "2023-01-15T17:37:00.358Z"
   },
   {
    "duration": 21,
    "start_time": "2023-01-15T17:37:00.790Z"
   },
   {
    "duration": 2757,
    "start_time": "2023-01-15T17:37:00.813Z"
   },
   {
    "duration": 200,
    "start_time": "2023-01-15T17:37:03.579Z"
   },
   {
    "duration": 15,
    "start_time": "2023-01-15T17:37:03.781Z"
   },
   {
    "duration": 9723,
    "start_time": "2023-01-15T17:37:03.798Z"
   },
   {
    "duration": 53,
    "start_time": "2023-01-15T17:37:13.526Z"
   },
   {
    "duration": 403,
    "start_time": "2023-01-15T17:37:13.580Z"
   },
   {
    "duration": 3,
    "start_time": "2023-01-15T17:37:13.985Z"
   },
   {
    "duration": 15,
    "start_time": "2023-01-15T17:37:13.990Z"
   },
   {
    "duration": 19,
    "start_time": "2023-01-15T17:37:14.007Z"
   },
   {
    "duration": 5,
    "start_time": "2023-01-15T17:37:14.028Z"
   },
   {
    "duration": 11,
    "start_time": "2023-01-15T17:37:14.035Z"
   },
   {
    "duration": 31,
    "start_time": "2023-01-15T17:37:14.048Z"
   },
   {
    "duration": 7,
    "start_time": "2023-01-15T17:37:14.081Z"
   },
   {
    "duration": 22,
    "start_time": "2023-01-15T17:37:14.090Z"
   },
   {
    "duration": 38,
    "start_time": "2023-01-15T17:37:14.113Z"
   },
   {
    "duration": 33,
    "start_time": "2023-01-15T17:37:14.153Z"
   },
   {
    "duration": 258,
    "start_time": "2023-01-15T17:37:14.188Z"
   },
   {
    "duration": 2,
    "start_time": "2023-01-15T17:37:14.448Z"
   },
   {
    "duration": 5,
    "start_time": "2023-01-15T17:37:14.452Z"
   },
   {
    "duration": 20,
    "start_time": "2023-01-15T17:37:14.459Z"
   },
   {
    "duration": 7,
    "start_time": "2023-01-15T17:37:14.480Z"
   },
   {
    "duration": 29,
    "start_time": "2023-01-15T17:37:14.489Z"
   },
   {
    "duration": 19,
    "start_time": "2023-01-15T17:37:14.522Z"
   },
   {
    "duration": 35,
    "start_time": "2023-01-15T17:37:14.543Z"
   },
   {
    "duration": 686,
    "start_time": "2023-01-15T17:37:14.580Z"
   },
   {
    "duration": 1369,
    "start_time": "2023-01-15T17:37:15.268Z"
   },
   {
    "duration": 9,
    "start_time": "2023-01-15T17:37:16.639Z"
   },
   {
    "duration": 621,
    "start_time": "2023-01-15T17:37:16.649Z"
   },
   {
    "duration": 6,
    "start_time": "2023-01-15T17:37:17.272Z"
   },
   {
    "duration": 11,
    "start_time": "2023-01-15T17:37:17.280Z"
   },
   {
    "duration": 9,
    "start_time": "2023-01-15T17:37:17.293Z"
   },
   {
    "duration": 7,
    "start_time": "2023-01-15T17:37:17.304Z"
   },
   {
    "duration": 6,
    "start_time": "2023-01-15T17:37:17.313Z"
   },
   {
    "duration": 14,
    "start_time": "2023-01-15T17:37:17.321Z"
   },
   {
    "duration": 637,
    "start_time": "2023-01-15T17:37:17.337Z"
   },
   {
    "duration": 9,
    "start_time": "2023-01-15T17:37:17.978Z"
   },
   {
    "duration": 18,
    "start_time": "2023-01-15T17:37:17.990Z"
   },
   {
    "duration": 5,
    "start_time": "2023-01-15T17:37:18.010Z"
   },
   {
    "duration": 0,
    "start_time": "2023-01-15T17:37:18.177Z"
   },
   {
    "duration": 0,
    "start_time": "2023-01-15T17:37:18.179Z"
   },
   {
    "duration": 0,
    "start_time": "2023-01-15T17:37:18.180Z"
   },
   {
    "duration": 0,
    "start_time": "2023-01-15T17:37:18.181Z"
   },
   {
    "duration": 0,
    "start_time": "2023-01-15T17:37:18.182Z"
   },
   {
    "duration": 0,
    "start_time": "2023-01-15T17:37:18.184Z"
   },
   {
    "duration": 0,
    "start_time": "2023-01-15T17:37:18.185Z"
   },
   {
    "duration": 0,
    "start_time": "2023-01-15T17:37:18.186Z"
   },
   {
    "duration": 0,
    "start_time": "2023-01-15T17:37:18.188Z"
   },
   {
    "duration": 0,
    "start_time": "2023-01-15T17:37:18.189Z"
   },
   {
    "duration": 0,
    "start_time": "2023-01-15T17:37:18.190Z"
   },
   {
    "duration": 0,
    "start_time": "2023-01-15T17:37:18.191Z"
   },
   {
    "duration": 0,
    "start_time": "2023-01-15T17:37:18.192Z"
   },
   {
    "duration": 0,
    "start_time": "2023-01-15T17:37:18.194Z"
   },
   {
    "duration": 0,
    "start_time": "2023-01-15T17:37:18.196Z"
   },
   {
    "duration": 0,
    "start_time": "2023-01-15T17:37:18.197Z"
   },
   {
    "duration": 0,
    "start_time": "2023-01-15T17:37:18.198Z"
   },
   {
    "duration": 0,
    "start_time": "2023-01-15T17:37:18.200Z"
   },
   {
    "duration": 19,
    "start_time": "2023-01-15T17:43:50.375Z"
   },
   {
    "duration": 11,
    "start_time": "2023-01-15T17:44:46.677Z"
   },
   {
    "duration": 6,
    "start_time": "2023-01-15T17:45:42.754Z"
   },
   {
    "duration": 7,
    "start_time": "2023-01-15T17:46:13.330Z"
   },
   {
    "duration": 8,
    "start_time": "2023-01-15T17:47:42.604Z"
   },
   {
    "duration": 5,
    "start_time": "2023-01-15T17:47:55.842Z"
   },
   {
    "duration": 4,
    "start_time": "2023-01-15T17:48:30.242Z"
   },
   {
    "duration": 3,
    "start_time": "2023-01-15T17:48:31.431Z"
   },
   {
    "duration": 43,
    "start_time": "2023-01-15T17:51:22.082Z"
   },
   {
    "duration": 46,
    "start_time": "2023-01-15T17:52:03.933Z"
   },
   {
    "duration": 29,
    "start_time": "2023-01-15T17:52:16.414Z"
   },
   {
    "duration": 41,
    "start_time": "2023-01-15T17:52:40.511Z"
   },
   {
    "duration": 58,
    "start_time": "2023-01-15T17:57:02.728Z"
   },
   {
    "duration": 3,
    "start_time": "2023-01-15T17:57:05.262Z"
   },
   {
    "duration": 51,
    "start_time": "2023-01-15T17:57:05.744Z"
   },
   {
    "duration": 4,
    "start_time": "2023-01-15T17:57:10.522Z"
   },
   {
    "duration": 5,
    "start_time": "2023-01-15T17:57:10.593Z"
   },
   {
    "duration": 56,
    "start_time": "2023-01-15T17:57:12.286Z"
   },
   {
    "duration": 59,
    "start_time": "2023-01-15T17:58:58.968Z"
   },
   {
    "duration": 1542,
    "start_time": "2023-01-15T17:59:54.696Z"
   },
   {
    "duration": 703,
    "start_time": "2023-01-15T17:59:56.240Z"
   },
   {
    "duration": 48,
    "start_time": "2023-01-15T17:59:56.945Z"
   },
   {
    "duration": 254,
    "start_time": "2023-01-15T17:59:56.995Z"
   },
   {
    "duration": 27,
    "start_time": "2023-01-15T17:59:57.250Z"
   },
   {
    "duration": 32,
    "start_time": "2023-01-15T17:59:57.279Z"
   },
   {
    "duration": 282,
    "start_time": "2023-01-15T17:59:57.313Z"
   },
   {
    "duration": 13,
    "start_time": "2023-01-15T17:59:57.596Z"
   },
   {
    "duration": 169,
    "start_time": "2023-01-15T17:59:57.611Z"
   },
   {
    "duration": 19,
    "start_time": "2023-01-15T17:59:57.784Z"
   },
   {
    "duration": 611,
    "start_time": "2023-01-15T17:59:57.805Z"
   },
   {
    "duration": 4,
    "start_time": "2023-01-15T17:59:58.418Z"
   },
   {
    "duration": 74,
    "start_time": "2023-01-15T17:59:58.424Z"
   },
   {
    "duration": 81,
    "start_time": "2023-01-15T17:59:58.500Z"
   },
   {
    "duration": 6,
    "start_time": "2023-01-15T17:59:58.583Z"
   },
   {
    "duration": 9,
    "start_time": "2023-01-15T17:59:58.591Z"
   },
   {
    "duration": 5,
    "start_time": "2023-01-15T17:59:58.603Z"
   },
   {
    "duration": 7,
    "start_time": "2023-01-15T17:59:58.610Z"
   },
   {
    "duration": 70,
    "start_time": "2023-01-15T17:59:58.618Z"
   },
   {
    "duration": 24,
    "start_time": "2023-01-15T17:59:58.689Z"
   },
   {
    "duration": 68,
    "start_time": "2023-01-15T17:59:58.714Z"
   },
   {
    "duration": 494,
    "start_time": "2023-01-15T17:59:58.784Z"
   },
   {
    "duration": 3,
    "start_time": "2023-01-15T17:59:59.280Z"
   },
   {
    "duration": 10,
    "start_time": "2023-01-15T17:59:59.285Z"
   },
   {
    "duration": 6,
    "start_time": "2023-01-15T17:59:59.297Z"
   },
   {
    "duration": 9,
    "start_time": "2023-01-15T17:59:59.305Z"
   },
   {
    "duration": 81,
    "start_time": "2023-01-15T17:59:59.316Z"
   },
   {
    "duration": 21,
    "start_time": "2023-01-15T17:59:59.401Z"
   },
   {
    "duration": 58,
    "start_time": "2023-01-15T17:59:59.424Z"
   },
   {
    "duration": 806,
    "start_time": "2023-01-15T17:59:59.485Z"
   },
   {
    "duration": 1365,
    "start_time": "2023-01-15T18:00:00.294Z"
   },
   {
    "duration": 18,
    "start_time": "2023-01-15T18:00:01.661Z"
   },
   {
    "duration": 802,
    "start_time": "2023-01-15T18:00:01.680Z"
   },
   {
    "duration": 4,
    "start_time": "2023-01-15T18:00:02.485Z"
   },
   {
    "duration": 30,
    "start_time": "2023-01-15T18:00:02.491Z"
   },
   {
    "duration": 32,
    "start_time": "2023-01-15T18:00:02.523Z"
   },
   {
    "duration": 20,
    "start_time": "2023-01-15T18:00:02.557Z"
   },
   {
    "duration": 10,
    "start_time": "2023-01-15T18:00:02.579Z"
   },
   {
    "duration": 19,
    "start_time": "2023-01-15T18:00:02.591Z"
   },
   {
    "duration": 436,
    "start_time": "2023-01-15T18:00:02.612Z"
   },
   {
    "duration": 11,
    "start_time": "2023-01-15T18:00:03.050Z"
   },
   {
    "duration": 28,
    "start_time": "2023-01-15T18:00:03.065Z"
   },
   {
    "duration": 8,
    "start_time": "2023-01-15T18:00:03.094Z"
   },
   {
    "duration": 7,
    "start_time": "2023-01-15T18:00:03.103Z"
   },
   {
    "duration": 10,
    "start_time": "2023-01-15T18:00:03.112Z"
   },
   {
    "duration": 7,
    "start_time": "2023-01-15T18:00:03.124Z"
   },
   {
    "duration": 54,
    "start_time": "2023-01-15T18:00:03.133Z"
   },
   {
    "duration": 4,
    "start_time": "2023-01-15T18:00:03.190Z"
   },
   {
    "duration": 13,
    "start_time": "2023-01-15T18:00:03.195Z"
   },
   {
    "duration": 10,
    "start_time": "2023-01-15T18:00:03.210Z"
   },
   {
    "duration": 292,
    "start_time": "2023-01-15T18:00:03.222Z"
   },
   {
    "duration": 167,
    "start_time": "2023-01-15T18:00:03.516Z"
   },
   {
    "duration": 261,
    "start_time": "2023-01-15T18:00:03.685Z"
   },
   {
    "duration": 117,
    "start_time": "2023-01-15T18:00:03.948Z"
   },
   {
    "duration": 114,
    "start_time": "2023-01-15T18:00:04.067Z"
   },
   {
    "duration": 174,
    "start_time": "2023-01-15T18:00:04.183Z"
   },
   {
    "duration": 152,
    "start_time": "2023-01-15T18:00:04.359Z"
   },
   {
    "duration": 12,
    "start_time": "2023-01-15T18:00:04.513Z"
   },
   {
    "duration": 0,
    "start_time": "2023-01-15T18:00:04.527Z"
   },
   {
    "duration": 115,
    "start_time": "2023-01-15T18:03:29.896Z"
   },
   {
    "duration": 31,
    "start_time": "2023-01-15T18:03:35.478Z"
   },
   {
    "duration": 62,
    "start_time": "2023-01-15T18:03:38.638Z"
   },
   {
    "duration": 14,
    "start_time": "2023-01-15T18:04:33.678Z"
   },
   {
    "duration": 11,
    "start_time": "2023-01-15T18:04:43.246Z"
   },
   {
    "duration": 155,
    "start_time": "2023-01-15T18:04:58.775Z"
   },
   {
    "duration": 10,
    "start_time": "2023-01-15T18:07:28.049Z"
   },
   {
    "duration": 158,
    "start_time": "2023-01-15T18:07:47.703Z"
   },
   {
    "duration": 11,
    "start_time": "2023-01-15T18:07:52.351Z"
   },
   {
    "duration": 8,
    "start_time": "2023-01-15T18:07:54.116Z"
   },
   {
    "duration": 157,
    "start_time": "2023-01-15T18:07:55.621Z"
   },
   {
    "duration": 1446,
    "start_time": "2023-01-15T18:08:01.229Z"
   },
   {
    "duration": 725,
    "start_time": "2023-01-15T18:08:02.677Z"
   },
   {
    "duration": 43,
    "start_time": "2023-01-15T18:08:03.404Z"
   },
   {
    "duration": 251,
    "start_time": "2023-01-15T18:08:03.451Z"
   },
   {
    "duration": 18,
    "start_time": "2023-01-15T18:08:03.704Z"
   },
   {
    "duration": 26,
    "start_time": "2023-01-15T18:08:03.725Z"
   },
   {
    "duration": 142,
    "start_time": "2023-01-15T18:08:03.778Z"
   },
   {
    "duration": 14,
    "start_time": "2023-01-15T18:08:03.922Z"
   },
   {
    "duration": 51,
    "start_time": "2023-01-15T18:08:03.938Z"
   },
   {
    "duration": 18,
    "start_time": "2023-01-15T18:08:03.993Z"
   },
   {
    "duration": 495,
    "start_time": "2023-01-15T18:08:04.013Z"
   },
   {
    "duration": 4,
    "start_time": "2023-01-15T18:08:04.510Z"
   },
   {
    "duration": 70,
    "start_time": "2023-01-15T18:08:04.516Z"
   },
   {
    "duration": 22,
    "start_time": "2023-01-15T18:08:04.588Z"
   },
   {
    "duration": 6,
    "start_time": "2023-01-15T18:08:04.612Z"
   },
   {
    "duration": 65,
    "start_time": "2023-01-15T18:08:04.620Z"
   },
   {
    "duration": 7,
    "start_time": "2023-01-15T18:08:04.687Z"
   },
   {
    "duration": 9,
    "start_time": "2023-01-15T18:08:04.695Z"
   },
   {
    "duration": 75,
    "start_time": "2023-01-15T18:08:04.706Z"
   },
   {
    "duration": 29,
    "start_time": "2023-01-15T18:08:04.783Z"
   },
   {
    "duration": 74,
    "start_time": "2023-01-15T18:08:04.815Z"
   },
   {
    "duration": 513,
    "start_time": "2023-01-15T18:08:04.891Z"
   },
   {
    "duration": 3,
    "start_time": "2023-01-15T18:08:05.406Z"
   },
   {
    "duration": 14,
    "start_time": "2023-01-15T18:08:05.411Z"
   },
   {
    "duration": 54,
    "start_time": "2023-01-15T18:08:05.427Z"
   },
   {
    "duration": 17,
    "start_time": "2023-01-15T18:08:05.483Z"
   },
   {
    "duration": 95,
    "start_time": "2023-01-15T18:08:05.503Z"
   },
   {
    "duration": 21,
    "start_time": "2023-01-15T18:08:05.602Z"
   },
   {
    "duration": 7,
    "start_time": "2023-01-15T18:08:05.678Z"
   },
   {
    "duration": 1029,
    "start_time": "2023-01-15T18:08:05.687Z"
   },
   {
    "duration": 1223,
    "start_time": "2023-01-15T18:08:06.717Z"
   },
   {
    "duration": 8,
    "start_time": "2023-01-15T18:08:07.942Z"
   },
   {
    "duration": 851,
    "start_time": "2023-01-15T18:08:07.952Z"
   },
   {
    "duration": 3,
    "start_time": "2023-01-15T18:08:08.806Z"
   },
   {
    "duration": 13,
    "start_time": "2023-01-15T18:08:08.811Z"
   },
   {
    "duration": 9,
    "start_time": "2023-01-15T18:08:08.826Z"
   },
   {
    "duration": 6,
    "start_time": "2023-01-15T18:08:08.837Z"
   },
   {
    "duration": 9,
    "start_time": "2023-01-15T18:08:08.844Z"
   },
   {
    "duration": 31,
    "start_time": "2023-01-15T18:08:08.855Z"
   },
   {
    "duration": 435,
    "start_time": "2023-01-15T18:08:08.888Z"
   },
   {
    "duration": 8,
    "start_time": "2023-01-15T18:08:09.325Z"
   },
   {
    "duration": 20,
    "start_time": "2023-01-15T18:08:09.334Z"
   },
   {
    "duration": 24,
    "start_time": "2023-01-15T18:08:09.356Z"
   },
   {
    "duration": 8,
    "start_time": "2023-01-15T18:08:09.382Z"
   },
   {
    "duration": 177,
    "start_time": "2023-01-15T18:08:09.392Z"
   },
   {
    "duration": 9,
    "start_time": "2023-01-15T18:08:09.571Z"
   },
   {
    "duration": 10,
    "start_time": "2023-01-15T18:08:09.581Z"
   },
   {
    "duration": 28,
    "start_time": "2023-01-15T18:08:09.592Z"
   },
   {
    "duration": 4,
    "start_time": "2023-01-15T18:08:09.623Z"
   },
   {
    "duration": 9,
    "start_time": "2023-01-15T18:08:09.630Z"
   },
   {
    "duration": 186,
    "start_time": "2023-01-15T18:08:09.643Z"
   },
   {
    "duration": 8,
    "start_time": "2023-01-15T18:08:09.831Z"
   },
   {
    "duration": 15,
    "start_time": "2023-01-15T18:08:09.841Z"
   },
   {
    "duration": 176,
    "start_time": "2023-01-15T18:08:09.858Z"
   },
   {
    "duration": 63,
    "start_time": "2023-01-15T18:08:10.036Z"
   },
   {
    "duration": 62,
    "start_time": "2023-01-15T18:08:10.101Z"
   },
   {
    "duration": 59,
    "start_time": "2023-01-15T18:08:10.165Z"
   },
   {
    "duration": 56,
    "start_time": "2023-01-15T18:08:10.226Z"
   },
   {
    "duration": 64,
    "start_time": "2023-01-15T18:08:10.284Z"
   },
   {
    "duration": 64,
    "start_time": "2023-01-15T18:08:10.349Z"
   },
   {
    "duration": 10,
    "start_time": "2023-01-15T18:08:10.415Z"
   },
   {
    "duration": 0,
    "start_time": "2023-01-15T18:08:10.427Z"
   },
   {
    "duration": 9,
    "start_time": "2023-01-15T18:08:29.008Z"
   },
   {
    "duration": 14,
    "start_time": "2023-01-15T18:08:45.686Z"
   },
   {
    "duration": 159,
    "start_time": "2023-01-15T18:08:55.409Z"
   },
   {
    "duration": 132,
    "start_time": "2023-01-15T18:09:33.071Z"
   },
   {
    "duration": 12,
    "start_time": "2023-01-15T18:09:49.654Z"
   },
   {
    "duration": 11,
    "start_time": "2023-01-15T18:09:54.800Z"
   },
   {
    "duration": 10,
    "start_time": "2023-01-15T18:10:13.150Z"
   },
   {
    "duration": 3,
    "start_time": "2023-01-15T18:10:17.622Z"
   },
   {
    "duration": 3,
    "start_time": "2023-01-15T18:10:20.694Z"
   },
   {
    "duration": 2,
    "start_time": "2023-01-15T18:10:25.775Z"
   },
   {
    "duration": 3,
    "start_time": "2023-01-15T18:10:30.046Z"
   },
   {
    "duration": 10,
    "start_time": "2023-01-15T18:11:33.303Z"
   },
   {
    "duration": 3,
    "start_time": "2023-01-15T18:11:37.143Z"
   },
   {
    "duration": 3,
    "start_time": "2023-01-15T18:11:40.030Z"
   },
   {
    "duration": 13901,
    "start_time": "2023-01-15T18:11:45.151Z"
   },
   {
    "duration": 1531,
    "start_time": "2023-01-15T18:13:05.173Z"
   },
   {
    "duration": 690,
    "start_time": "2023-01-15T18:13:06.706Z"
   },
   {
    "duration": 60,
    "start_time": "2023-01-15T18:13:07.397Z"
   },
   {
    "duration": 252,
    "start_time": "2023-01-15T18:13:07.460Z"
   },
   {
    "duration": 18,
    "start_time": "2023-01-15T18:13:07.714Z"
   },
   {
    "duration": 48,
    "start_time": "2023-01-15T18:13:07.734Z"
   },
   {
    "duration": 198,
    "start_time": "2023-01-15T18:13:07.784Z"
   },
   {
    "duration": 13,
    "start_time": "2023-01-15T18:13:07.983Z"
   },
   {
    "duration": 50,
    "start_time": "2023-01-15T18:13:07.998Z"
   },
   {
    "duration": 42,
    "start_time": "2023-01-15T18:13:08.051Z"
   },
   {
    "duration": 293,
    "start_time": "2023-01-15T18:13:08.096Z"
   },
   {
    "duration": 4,
    "start_time": "2023-01-15T18:13:08.392Z"
   },
   {
    "duration": 30,
    "start_time": "2023-01-15T18:13:08.398Z"
   },
   {
    "duration": 52,
    "start_time": "2023-01-15T18:13:08.430Z"
   },
   {
    "duration": 38,
    "start_time": "2023-01-15T18:13:08.484Z"
   },
   {
    "duration": 47,
    "start_time": "2023-01-15T18:13:08.525Z"
   },
   {
    "duration": 21,
    "start_time": "2023-01-15T18:13:08.574Z"
   },
   {
    "duration": 25,
    "start_time": "2023-01-15T18:13:08.597Z"
   },
   {
    "duration": 39,
    "start_time": "2023-01-15T18:13:08.623Z"
   },
   {
    "duration": 30,
    "start_time": "2023-01-15T18:13:08.664Z"
   },
   {
    "duration": 30,
    "start_time": "2023-01-15T18:13:08.696Z"
   },
   {
    "duration": 275,
    "start_time": "2023-01-15T18:13:08.729Z"
   },
   {
    "duration": 3,
    "start_time": "2023-01-15T18:13:09.006Z"
   },
   {
    "duration": 28,
    "start_time": "2023-01-15T18:13:09.011Z"
   },
   {
    "duration": 26,
    "start_time": "2023-01-15T18:13:09.041Z"
   },
   {
    "duration": 22,
    "start_time": "2023-01-15T18:13:09.069Z"
   },
   {
    "duration": 61,
    "start_time": "2023-01-15T18:13:09.094Z"
   },
   {
    "duration": 20,
    "start_time": "2023-01-15T18:13:09.161Z"
   },
   {
    "duration": 17,
    "start_time": "2023-01-15T18:13:09.183Z"
   },
   {
    "duration": 969,
    "start_time": "2023-01-15T18:13:09.202Z"
   },
   {
    "duration": 1640,
    "start_time": "2023-01-15T18:13:10.173Z"
   },
   {
    "duration": 10,
    "start_time": "2023-01-15T18:13:11.816Z"
   },
   {
    "duration": 758,
    "start_time": "2023-01-15T18:13:11.828Z"
   },
   {
    "duration": 3,
    "start_time": "2023-01-15T18:13:12.589Z"
   },
   {
    "duration": 8,
    "start_time": "2023-01-15T18:13:12.594Z"
   },
   {
    "duration": 8,
    "start_time": "2023-01-15T18:13:12.604Z"
   },
   {
    "duration": 7,
    "start_time": "2023-01-15T18:13:12.614Z"
   },
   {
    "duration": 6,
    "start_time": "2023-01-15T18:13:12.623Z"
   },
   {
    "duration": 14,
    "start_time": "2023-01-15T18:13:12.631Z"
   },
   {
    "duration": 470,
    "start_time": "2023-01-15T18:13:12.647Z"
   },
   {
    "duration": 9,
    "start_time": "2023-01-15T18:13:13.118Z"
   },
   {
    "duration": 26,
    "start_time": "2023-01-15T18:13:13.129Z"
   },
   {
    "duration": 21,
    "start_time": "2023-01-15T18:13:13.157Z"
   },
   {
    "duration": 13,
    "start_time": "2023-01-15T18:13:13.180Z"
   },
   {
    "duration": 4,
    "start_time": "2023-01-15T18:13:13.195Z"
   },
   {
    "duration": 8,
    "start_time": "2023-01-15T18:13:13.201Z"
   },
   {
    "duration": 5,
    "start_time": "2023-01-15T18:13:13.211Z"
   },
   {
    "duration": 7,
    "start_time": "2023-01-15T18:13:13.218Z"
   },
   {
    "duration": 60,
    "start_time": "2023-01-15T18:13:13.227Z"
   },
   {
    "duration": 4,
    "start_time": "2023-01-15T18:13:13.289Z"
   },
   {
    "duration": 7,
    "start_time": "2023-01-15T18:13:13.295Z"
   },
   {
    "duration": 8,
    "start_time": "2023-01-15T18:13:13.304Z"
   },
   {
    "duration": 14138,
    "start_time": "2023-01-15T18:13:13.313Z"
   },
   {
    "duration": 6462,
    "start_time": "2023-01-15T18:13:27.453Z"
   },
   {
    "duration": 836815,
    "start_time": "2023-01-15T18:13:33.918Z"
   },
   {
    "duration": 885078,
    "start_time": "2023-01-15T18:27:30.735Z"
   },
   {
    "duration": 5474,
    "start_time": "2023-01-15T18:42:15.815Z"
   },
   {
    "duration": 23830,
    "start_time": "2023-01-15T18:42:21.292Z"
   },
   {
    "duration": 20938,
    "start_time": "2023-01-15T18:42:45.124Z"
   },
   {
    "duration": 4,
    "start_time": "2023-01-15T18:43:06.063Z"
   },
   {
    "duration": 11,
    "start_time": "2023-01-15T18:43:06.077Z"
   },
   {
    "duration": 8278,
    "start_time": "2023-01-15T18:58:02.248Z"
   },
   {
    "duration": 11711,
    "start_time": "2023-01-15T18:58:25.471Z"
   },
   {
    "duration": 5,
    "start_time": "2023-01-15T18:58:41.398Z"
   },
   {
    "duration": 15,
    "start_time": "2023-01-15T18:58:49.013Z"
   },
   {
    "duration": 1467,
    "start_time": "2023-01-16T05:52:49.567Z"
   },
   {
    "duration": 2844,
    "start_time": "2023-01-16T05:52:51.036Z"
   },
   {
    "duration": 37,
    "start_time": "2023-01-16T05:52:53.882Z"
   },
   {
    "duration": 204,
    "start_time": "2023-01-16T05:52:53.920Z"
   },
   {
    "duration": 15,
    "start_time": "2023-01-16T05:52:54.126Z"
   },
   {
    "duration": 22,
    "start_time": "2023-01-16T05:52:54.143Z"
   },
   {
    "duration": 132,
    "start_time": "2023-01-16T05:52:54.167Z"
   },
   {
    "duration": 20,
    "start_time": "2023-01-16T05:52:54.301Z"
   },
   {
    "duration": 33,
    "start_time": "2023-01-16T05:52:54.322Z"
   },
   {
    "duration": 20,
    "start_time": "2023-01-16T05:52:54.356Z"
   },
   {
    "duration": 226,
    "start_time": "2023-01-16T05:52:54.377Z"
   },
   {
    "duration": 3,
    "start_time": "2023-01-16T05:52:54.605Z"
   },
   {
    "duration": 16,
    "start_time": "2023-01-16T05:52:54.610Z"
   },
   {
    "duration": 17,
    "start_time": "2023-01-16T05:52:54.630Z"
   },
   {
    "duration": 6,
    "start_time": "2023-01-16T05:52:54.648Z"
   },
   {
    "duration": 8,
    "start_time": "2023-01-16T05:52:54.655Z"
   },
   {
    "duration": 9,
    "start_time": "2023-01-16T05:52:54.665Z"
   },
   {
    "duration": 4,
    "start_time": "2023-01-16T05:52:54.676Z"
   },
   {
    "duration": 47,
    "start_time": "2023-01-16T05:52:54.682Z"
   },
   {
    "duration": 22,
    "start_time": "2023-01-16T05:52:54.731Z"
   },
   {
    "duration": 16,
    "start_time": "2023-01-16T05:52:54.755Z"
   },
   {
    "duration": 238,
    "start_time": "2023-01-16T05:52:54.772Z"
   },
   {
    "duration": 2,
    "start_time": "2023-01-16T05:52:55.021Z"
   },
   {
    "duration": 7,
    "start_time": "2023-01-16T05:52:55.025Z"
   },
   {
    "duration": 27,
    "start_time": "2023-01-16T05:52:55.034Z"
   },
   {
    "duration": 32,
    "start_time": "2023-01-16T05:52:55.063Z"
   },
   {
    "duration": 42,
    "start_time": "2023-01-16T05:52:55.097Z"
   },
   {
    "duration": 19,
    "start_time": "2023-01-16T05:52:55.140Z"
   },
   {
    "duration": 26,
    "start_time": "2023-01-16T05:52:55.161Z"
   },
   {
    "duration": 687,
    "start_time": "2023-01-16T05:52:55.191Z"
   },
   {
    "duration": 1059,
    "start_time": "2023-01-16T05:52:55.880Z"
   },
   {
    "duration": 6,
    "start_time": "2023-01-16T05:52:56.941Z"
   },
   {
    "duration": 618,
    "start_time": "2023-01-16T05:52:56.949Z"
   },
   {
    "duration": 3,
    "start_time": "2023-01-16T05:52:57.569Z"
   },
   {
    "duration": 39,
    "start_time": "2023-01-16T05:52:57.573Z"
   },
   {
    "duration": 32,
    "start_time": "2023-01-16T05:52:57.614Z"
   },
   {
    "duration": 13,
    "start_time": "2023-01-16T05:52:57.647Z"
   },
   {
    "duration": 26,
    "start_time": "2023-01-16T05:52:57.661Z"
   },
   {
    "duration": 20,
    "start_time": "2023-01-16T05:52:57.688Z"
   },
   {
    "duration": 366,
    "start_time": "2023-01-16T05:52:57.709Z"
   },
   {
    "duration": 6,
    "start_time": "2023-01-16T05:52:58.079Z"
   },
   {
    "duration": 34,
    "start_time": "2023-01-16T05:52:58.086Z"
   },
   {
    "duration": 29,
    "start_time": "2023-01-16T05:52:58.121Z"
   },
   {
    "duration": 17,
    "start_time": "2023-01-16T05:52:58.151Z"
   },
   {
    "duration": 18,
    "start_time": "2023-01-16T05:52:58.169Z"
   },
   {
    "duration": 16,
    "start_time": "2023-01-16T05:52:58.188Z"
   },
   {
    "duration": 18,
    "start_time": "2023-01-16T05:52:58.206Z"
   },
   {
    "duration": 24,
    "start_time": "2023-01-16T05:52:58.225Z"
   },
   {
    "duration": 39,
    "start_time": "2023-01-16T05:52:58.251Z"
   },
   {
    "duration": 9,
    "start_time": "2023-01-16T05:52:58.291Z"
   },
   {
    "duration": 20,
    "start_time": "2023-01-16T05:52:58.302Z"
   },
   {
    "duration": 27,
    "start_time": "2023-01-16T05:52:58.323Z"
   },
   {
    "duration": 11310,
    "start_time": "2023-01-16T05:52:58.351Z"
   },
   {
    "duration": 5555,
    "start_time": "2023-01-16T05:53:09.663Z"
   },
   {
    "duration": 786763,
    "start_time": "2023-01-16T05:53:15.221Z"
   },
   {
    "duration": 825447,
    "start_time": "2023-01-16T06:06:21.985Z"
   },
   {
    "duration": 3090,
    "start_time": "2023-01-16T06:20:07.433Z"
   },
   {
    "duration": 7605,
    "start_time": "2023-01-16T06:20:10.526Z"
   },
   {
    "duration": 10742,
    "start_time": "2023-01-16T06:20:18.133Z"
   },
   {
    "duration": 4,
    "start_time": "2023-01-16T06:20:28.876Z"
   },
   {
    "duration": 12,
    "start_time": "2023-01-16T06:20:28.881Z"
   },
   {
    "duration": 5347,
    "start_time": "2023-07-22T11:59:21.456Z"
   },
   {
    "duration": 12853,
    "start_time": "2023-07-22T11:59:26.807Z"
   },
   {
    "duration": 210,
    "start_time": "2023-07-22T11:59:39.667Z"
   },
   {
    "duration": 1261,
    "start_time": "2023-07-22T11:59:39.892Z"
   },
   {
    "duration": 38,
    "start_time": "2023-07-22T11:59:41.156Z"
   },
   {
    "duration": 176,
    "start_time": "2023-07-22T11:59:41.196Z"
   },
   {
    "duration": 915,
    "start_time": "2023-07-22T11:59:41.378Z"
   },
   {
    "duration": 82,
    "start_time": "2023-07-22T11:59:42.295Z"
   },
   {
    "duration": 268,
    "start_time": "2023-07-22T11:59:42.387Z"
   },
   {
    "duration": 101,
    "start_time": "2023-07-22T11:59:42.672Z"
   },
   {
    "duration": 1472,
    "start_time": "2023-07-22T11:59:42.785Z"
   },
   {
    "duration": 8,
    "start_time": "2023-07-22T11:59:44.262Z"
   },
   {
    "duration": 97,
    "start_time": "2023-07-22T11:59:44.287Z"
   },
   {
    "duration": 363,
    "start_time": "2023-07-22T11:59:44.398Z"
   },
   {
    "duration": 93,
    "start_time": "2023-07-22T11:59:44.768Z"
   },
   {
    "duration": 204,
    "start_time": "2023-07-22T11:59:44.870Z"
   },
   {
    "duration": 60,
    "start_time": "2023-07-22T11:59:45.099Z"
   },
   {
    "duration": 122,
    "start_time": "2023-07-22T11:59:45.171Z"
   },
   {
    "duration": 201,
    "start_time": "2023-07-22T11:59:45.355Z"
   },
   {
    "duration": 99,
    "start_time": "2023-07-22T11:59:45.562Z"
   },
   {
    "duration": 1456,
    "start_time": "2023-07-22T11:59:45.665Z"
   },
   {
    "duration": 25,
    "start_time": "2023-07-22T11:59:47.167Z"
   },
   {
    "duration": 149,
    "start_time": "2023-07-22T11:59:47.218Z"
   },
   {
    "duration": 415,
    "start_time": "2023-07-22T11:59:47.374Z"
   },
   {
    "duration": 126,
    "start_time": "2023-07-22T11:59:47.852Z"
   },
   {
    "duration": 192,
    "start_time": "2023-07-22T11:59:47.997Z"
   },
   {
    "duration": 3341,
    "start_time": "2023-07-22T11:59:48.210Z"
   },
   {
    "duration": 6906,
    "start_time": "2023-07-22T11:59:51.568Z"
   },
   {
    "duration": 79,
    "start_time": "2023-07-22T11:59:58.476Z"
   },
   {
    "duration": 4527,
    "start_time": "2023-07-22T11:59:58.558Z"
   },
   {
    "duration": 71,
    "start_time": "2023-07-22T12:00:03.093Z"
   },
   {
    "duration": 366,
    "start_time": "2023-07-22T12:00:03.186Z"
   },
   {
    "duration": 127,
    "start_time": "2023-07-22T12:00:03.559Z"
   },
   {
    "duration": 275,
    "start_time": "2023-07-22T12:00:03.688Z"
   },
   {
    "duration": 189,
    "start_time": "2023-07-22T12:00:03.968Z"
   },
   {
    "duration": 197,
    "start_time": "2023-07-22T12:00:04.161Z"
   },
   {
    "duration": 3133,
    "start_time": "2023-07-22T12:00:04.361Z"
   },
   {
    "duration": 17,
    "start_time": "2023-07-22T12:00:07.552Z"
   },
   {
    "duration": 109,
    "start_time": "2023-07-22T12:00:07.580Z"
   },
   {
    "duration": 158,
    "start_time": "2023-07-22T12:00:07.694Z"
   },
   {
    "duration": 220,
    "start_time": "2023-07-22T12:00:07.858Z"
   },
   {
    "duration": 175,
    "start_time": "2023-07-22T12:00:08.084Z"
   },
   {
    "duration": 103,
    "start_time": "2023-07-22T12:00:08.261Z"
   },
   {
    "duration": 69,
    "start_time": "2023-07-22T12:00:08.389Z"
   },
   {
    "duration": 135,
    "start_time": "2023-07-22T12:00:08.460Z"
   },
   {
    "duration": 292,
    "start_time": "2023-07-22T12:00:08.600Z"
   },
   {
    "duration": 52,
    "start_time": "2023-07-22T12:00:08.911Z"
   },
   {
    "duration": 151,
    "start_time": "2023-07-22T12:00:08.970Z"
   },
   {
    "duration": 209,
    "start_time": "2023-07-22T12:00:09.152Z"
   },
   {
    "duration": 56996,
    "start_time": "2023-07-22T12:00:09.363Z"
   },
   {
    "duration": 27992,
    "start_time": "2023-07-22T12:01:06.380Z"
   },
   {
    "duration": 4098191,
    "start_time": "2023-07-22T12:01:34.376Z"
   },
   {
    "duration": 4150099,
    "start_time": "2023-07-22T13:09:52.572Z"
   },
   {
    "duration": 4421,
    "start_time": "2023-07-22T14:19:02.673Z"
   },
   {
    "duration": 8626,
    "start_time": "2023-07-22T14:19:07.097Z"
   },
   {
    "duration": 11769,
    "start_time": "2023-07-22T14:19:15.725Z"
   },
   {
    "duration": 4,
    "start_time": "2023-07-22T14:19:27.496Z"
   },
   {
    "duration": 15,
    "start_time": "2023-07-22T14:19:27.503Z"
   },
   {
    "duration": 162,
    "start_time": "2023-07-22T14:19:27.522Z"
   },
   {
    "duration": 2028,
    "start_time": "2023-07-22T15:15:37.807Z"
   },
   {
    "duration": 736,
    "start_time": "2023-07-22T15:17:14.890Z"
   },
   {
    "duration": 978,
    "start_time": "2023-07-22T15:17:37.941Z"
   },
   {
    "duration": 2577,
    "start_time": "2023-07-22T15:17:49.719Z"
   },
   {
    "duration": 2131,
    "start_time": "2023-07-22T15:19:03.254Z"
   },
   {
    "duration": 1808,
    "start_time": "2023-07-22T15:21:31.117Z"
   },
   {
    "duration": 1227,
    "start_time": "2023-07-22T15:22:15.680Z"
   },
   {
    "duration": 3080,
    "start_time": "2023-07-22T15:22:47.553Z"
   },
   {
    "duration": 2877,
    "start_time": "2023-07-22T15:23:51.760Z"
   },
   {
    "duration": 1590,
    "start_time": "2023-07-22T15:24:04.870Z"
   },
   {
    "duration": 1059,
    "start_time": "2023-07-22T15:25:38.882Z"
   },
   {
    "duration": 3498,
    "start_time": "2023-07-22T15:26:02.565Z"
   },
   {
    "duration": 2147,
    "start_time": "2023-07-22T15:26:33.579Z"
   },
   {
    "duration": 503,
    "start_time": "2023-07-22T15:27:38.910Z"
   },
   {
    "duration": 495,
    "start_time": "2023-07-22T15:28:58.774Z"
   },
   {
    "duration": 1819,
    "start_time": "2023-07-22T15:29:37.279Z"
   },
   {
    "duration": 3443,
    "start_time": "2023-07-22T15:30:52.650Z"
   },
   {
    "duration": 2718,
    "start_time": "2023-07-22T15:31:14.646Z"
   },
   {
    "duration": 504,
    "start_time": "2023-07-22T15:32:48.378Z"
   },
   {
    "duration": 185,
    "start_time": "2023-07-22T15:34:01.177Z"
   },
   {
    "duration": 2362,
    "start_time": "2023-07-22T15:34:05.741Z"
   },
   {
    "duration": 2774,
    "start_time": "2023-07-22T15:35:17.019Z"
   },
   {
    "duration": 1803,
    "start_time": "2023-07-22T15:35:31.963Z"
   },
   {
    "duration": 2918,
    "start_time": "2023-07-22T15:36:49.199Z"
   },
   {
    "duration": 3303,
    "start_time": "2023-07-22T15:37:02.682Z"
   },
   {
    "duration": 206,
    "start_time": "2023-07-22T15:38:03.571Z"
   },
   {
    "duration": 1929,
    "start_time": "2023-07-22T15:38:07.668Z"
   },
   {
    "duration": 2391,
    "start_time": "2023-07-22T15:38:43.528Z"
   },
   {
    "duration": 3012,
    "start_time": "2023-07-22T15:39:00.027Z"
   },
   {
    "duration": 1177,
    "start_time": "2023-07-22T15:40:27.443Z"
   },
   {
    "duration": 2350,
    "start_time": "2023-07-22T15:40:45.095Z"
   },
   {
    "duration": 829,
    "start_time": "2023-07-22T15:50:10.832Z"
   },
   {
    "duration": 926,
    "start_time": "2023-07-22T15:50:32.351Z"
   },
   {
    "duration": 12087,
    "start_time": "2023-07-22T16:13:54.890Z"
   },
   {
    "duration": 12493,
    "start_time": "2023-07-22T16:20:58.956Z"
   },
   {
    "duration": 5944,
    "start_time": "2023-07-22T16:21:20.265Z"
   },
   {
    "duration": 9815,
    "start_time": "2023-07-22T16:24:14.583Z"
   },
   {
    "duration": 5021,
    "start_time": "2023-07-22T16:25:04.240Z"
   },
   {
    "duration": 16,
    "start_time": "2023-07-22T16:31:38.218Z"
   },
   {
    "duration": 81,
    "start_time": "2023-07-22T16:32:39.702Z"
   },
   {
    "duration": 10,
    "start_time": "2023-07-22T16:32:46.280Z"
   },
   {
    "duration": 1570,
    "start_time": "2023-07-22T17:34:11.666Z"
   },
   {
    "duration": 3482,
    "start_time": "2023-07-22T17:34:13.238Z"
   },
   {
    "duration": 50,
    "start_time": "2023-07-22T17:34:16.722Z"
   },
   {
    "duration": 236,
    "start_time": "2023-07-22T17:34:16.774Z"
   },
   {
    "duration": 18,
    "start_time": "2023-07-22T17:34:17.013Z"
   },
   {
    "duration": 54,
    "start_time": "2023-07-22T17:34:17.033Z"
   },
   {
    "duration": 120,
    "start_time": "2023-07-22T17:34:17.089Z"
   },
   {
    "duration": 0,
    "start_time": "2023-07-22T17:34:17.213Z"
   },
   {
    "duration": 0,
    "start_time": "2023-07-22T17:34:17.214Z"
   },
   {
    "duration": 0,
    "start_time": "2023-07-22T17:34:17.215Z"
   },
   {
    "duration": 0,
    "start_time": "2023-07-22T17:34:17.216Z"
   },
   {
    "duration": 0,
    "start_time": "2023-07-22T17:34:17.218Z"
   },
   {
    "duration": 0,
    "start_time": "2023-07-22T17:34:17.220Z"
   },
   {
    "duration": 0,
    "start_time": "2023-07-22T17:34:17.222Z"
   },
   {
    "duration": 0,
    "start_time": "2023-07-22T17:34:17.223Z"
   },
   {
    "duration": 0,
    "start_time": "2023-07-22T17:34:17.225Z"
   },
   {
    "duration": 0,
    "start_time": "2023-07-22T17:34:17.227Z"
   },
   {
    "duration": 0,
    "start_time": "2023-07-22T17:34:17.228Z"
   },
   {
    "duration": 0,
    "start_time": "2023-07-22T17:34:17.252Z"
   },
   {
    "duration": 0,
    "start_time": "2023-07-22T17:34:17.253Z"
   },
   {
    "duration": 0,
    "start_time": "2023-07-22T17:34:17.253Z"
   },
   {
    "duration": 0,
    "start_time": "2023-07-22T17:34:17.256Z"
   },
   {
    "duration": 0,
    "start_time": "2023-07-22T17:34:17.258Z"
   },
   {
    "duration": 0,
    "start_time": "2023-07-22T17:34:17.259Z"
   },
   {
    "duration": 0,
    "start_time": "2023-07-22T17:34:17.260Z"
   },
   {
    "duration": 0,
    "start_time": "2023-07-22T17:34:17.261Z"
   },
   {
    "duration": 0,
    "start_time": "2023-07-22T17:34:17.262Z"
   },
   {
    "duration": 0,
    "start_time": "2023-07-22T17:34:17.263Z"
   },
   {
    "duration": 0,
    "start_time": "2023-07-22T17:34:17.264Z"
   },
   {
    "duration": 0,
    "start_time": "2023-07-22T17:34:17.267Z"
   },
   {
    "duration": 0,
    "start_time": "2023-07-22T17:34:17.268Z"
   },
   {
    "duration": 0,
    "start_time": "2023-07-22T17:34:17.269Z"
   },
   {
    "duration": 0,
    "start_time": "2023-07-22T17:34:17.270Z"
   },
   {
    "duration": 0,
    "start_time": "2023-07-22T17:34:17.271Z"
   },
   {
    "duration": 0,
    "start_time": "2023-07-22T17:34:17.271Z"
   },
   {
    "duration": 0,
    "start_time": "2023-07-22T17:34:17.272Z"
   },
   {
    "duration": 0,
    "start_time": "2023-07-22T17:34:17.274Z"
   },
   {
    "duration": 0,
    "start_time": "2023-07-22T17:34:17.275Z"
   },
   {
    "duration": 0,
    "start_time": "2023-07-22T17:34:17.277Z"
   },
   {
    "duration": 0,
    "start_time": "2023-07-22T17:34:17.278Z"
   },
   {
    "duration": 0,
    "start_time": "2023-07-22T17:34:17.280Z"
   },
   {
    "duration": 0,
    "start_time": "2023-07-22T17:34:17.281Z"
   },
   {
    "duration": 0,
    "start_time": "2023-07-22T17:34:17.283Z"
   },
   {
    "duration": 0,
    "start_time": "2023-07-22T17:34:17.284Z"
   },
   {
    "duration": 0,
    "start_time": "2023-07-22T17:34:17.286Z"
   },
   {
    "duration": 0,
    "start_time": "2023-07-22T17:34:17.287Z"
   },
   {
    "duration": 0,
    "start_time": "2023-07-22T17:34:17.288Z"
   },
   {
    "duration": 0,
    "start_time": "2023-07-22T17:34:17.289Z"
   },
   {
    "duration": 0,
    "start_time": "2023-07-22T17:34:17.290Z"
   },
   {
    "duration": 0,
    "start_time": "2023-07-22T17:34:17.291Z"
   },
   {
    "duration": 0,
    "start_time": "2023-07-22T17:34:17.292Z"
   },
   {
    "duration": 0,
    "start_time": "2023-07-22T17:34:17.293Z"
   },
   {
    "duration": 0,
    "start_time": "2023-07-22T17:34:17.294Z"
   },
   {
    "duration": 0,
    "start_time": "2023-07-22T17:34:17.295Z"
   },
   {
    "duration": 0,
    "start_time": "2023-07-22T17:34:17.296Z"
   },
   {
    "duration": 0,
    "start_time": "2023-07-22T17:34:17.297Z"
   },
   {
    "duration": 1581,
    "start_time": "2023-07-22T17:40:51.690Z"
   },
   {
    "duration": 744,
    "start_time": "2023-07-22T17:40:53.274Z"
   },
   {
    "duration": 50,
    "start_time": "2023-07-22T17:40:54.020Z"
   },
   {
    "duration": 243,
    "start_time": "2023-07-22T17:40:54.072Z"
   },
   {
    "duration": 16,
    "start_time": "2023-07-22T17:40:54.317Z"
   },
   {
    "duration": 48,
    "start_time": "2023-07-22T17:40:54.334Z"
   },
   {
    "duration": 121,
    "start_time": "2023-07-22T17:40:54.384Z"
   },
   {
    "duration": 0,
    "start_time": "2023-07-22T17:40:54.508Z"
   },
   {
    "duration": 0,
    "start_time": "2023-07-22T17:40:54.509Z"
   },
   {
    "duration": 0,
    "start_time": "2023-07-22T17:40:54.511Z"
   },
   {
    "duration": 0,
    "start_time": "2023-07-22T17:40:54.512Z"
   },
   {
    "duration": 0,
    "start_time": "2023-07-22T17:40:54.513Z"
   },
   {
    "duration": 0,
    "start_time": "2023-07-22T17:40:54.514Z"
   },
   {
    "duration": 0,
    "start_time": "2023-07-22T17:40:54.515Z"
   },
   {
    "duration": 0,
    "start_time": "2023-07-22T17:40:54.515Z"
   },
   {
    "duration": 0,
    "start_time": "2023-07-22T17:40:54.516Z"
   },
   {
    "duration": 0,
    "start_time": "2023-07-22T17:40:54.517Z"
   },
   {
    "duration": 0,
    "start_time": "2023-07-22T17:40:54.518Z"
   },
   {
    "duration": 0,
    "start_time": "2023-07-22T17:40:54.519Z"
   },
   {
    "duration": 0,
    "start_time": "2023-07-22T17:40:54.520Z"
   },
   {
    "duration": 0,
    "start_time": "2023-07-22T17:40:54.521Z"
   },
   {
    "duration": 0,
    "start_time": "2023-07-22T17:40:54.528Z"
   },
   {
    "duration": 0,
    "start_time": "2023-07-22T17:40:54.528Z"
   },
   {
    "duration": 0,
    "start_time": "2023-07-22T17:40:54.529Z"
   },
   {
    "duration": 0,
    "start_time": "2023-07-22T17:40:54.530Z"
   },
   {
    "duration": 0,
    "start_time": "2023-07-22T17:40:54.554Z"
   },
   {
    "duration": 0,
    "start_time": "2023-07-22T17:40:54.554Z"
   },
   {
    "duration": 0,
    "start_time": "2023-07-22T17:40:54.562Z"
   },
   {
    "duration": 0,
    "start_time": "2023-07-22T17:40:54.563Z"
   },
   {
    "duration": 0,
    "start_time": "2023-07-22T17:40:54.564Z"
   },
   {
    "duration": 0,
    "start_time": "2023-07-22T17:40:54.564Z"
   },
   {
    "duration": 0,
    "start_time": "2023-07-22T17:40:54.565Z"
   },
   {
    "duration": 0,
    "start_time": "2023-07-22T17:40:54.566Z"
   },
   {
    "duration": 0,
    "start_time": "2023-07-22T17:40:54.567Z"
   },
   {
    "duration": 0,
    "start_time": "2023-07-22T17:40:54.568Z"
   },
   {
    "duration": 0,
    "start_time": "2023-07-22T17:40:54.571Z"
   },
   {
    "duration": 0,
    "start_time": "2023-07-22T17:40:54.571Z"
   },
   {
    "duration": 0,
    "start_time": "2023-07-22T17:40:54.572Z"
   },
   {
    "duration": 0,
    "start_time": "2023-07-22T17:40:54.574Z"
   },
   {
    "duration": 0,
    "start_time": "2023-07-22T17:40:54.574Z"
   },
   {
    "duration": 0,
    "start_time": "2023-07-22T17:40:54.576Z"
   },
   {
    "duration": 0,
    "start_time": "2023-07-22T17:40:54.576Z"
   },
   {
    "duration": 0,
    "start_time": "2023-07-22T17:40:54.578Z"
   },
   {
    "duration": 0,
    "start_time": "2023-07-22T17:40:54.579Z"
   },
   {
    "duration": 0,
    "start_time": "2023-07-22T17:40:54.580Z"
   },
   {
    "duration": 0,
    "start_time": "2023-07-22T17:40:54.581Z"
   },
   {
    "duration": 0,
    "start_time": "2023-07-22T17:40:54.582Z"
   },
   {
    "duration": 0,
    "start_time": "2023-07-22T17:40:54.583Z"
   },
   {
    "duration": 0,
    "start_time": "2023-07-22T17:40:54.584Z"
   },
   {
    "duration": 0,
    "start_time": "2023-07-22T17:40:54.585Z"
   },
   {
    "duration": 0,
    "start_time": "2023-07-22T17:40:54.586Z"
   },
   {
    "duration": 1,
    "start_time": "2023-07-22T17:40:54.586Z"
   },
   {
    "duration": 0,
    "start_time": "2023-07-22T17:40:54.587Z"
   },
   {
    "duration": 0,
    "start_time": "2023-07-22T17:40:54.589Z"
   },
   {
    "duration": 0,
    "start_time": "2023-07-22T17:40:54.589Z"
   },
   {
    "duration": 0,
    "start_time": "2023-07-22T17:40:54.590Z"
   },
   {
    "duration": 1636,
    "start_time": "2023-07-22T17:49:03.471Z"
   },
   {
    "duration": 782,
    "start_time": "2023-07-22T17:49:05.110Z"
   },
   {
    "duration": 44,
    "start_time": "2023-07-22T17:49:05.894Z"
   },
   {
    "duration": 237,
    "start_time": "2023-07-22T17:49:05.961Z"
   },
   {
    "duration": 17,
    "start_time": "2023-07-22T17:49:06.200Z"
   },
   {
    "duration": 54,
    "start_time": "2023-07-22T17:49:06.219Z"
   },
   {
    "duration": 139,
    "start_time": "2023-07-22T17:49:06.275Z"
   },
   {
    "duration": 13,
    "start_time": "2023-07-22T17:49:06.415Z"
   },
   {
    "duration": 84,
    "start_time": "2023-07-22T17:49:06.431Z"
   },
   {
    "duration": 42,
    "start_time": "2023-07-22T17:49:06.519Z"
   },
   {
    "duration": 260,
    "start_time": "2023-07-22T17:49:06.565Z"
   },
   {
    "duration": 4,
    "start_time": "2023-07-22T17:49:06.828Z"
   },
   {
    "duration": 58,
    "start_time": "2023-07-22T17:49:06.833Z"
   },
   {
    "duration": 27,
    "start_time": "2023-07-22T17:49:06.893Z"
   },
   {
    "duration": 12,
    "start_time": "2023-07-22T17:49:06.922Z"
   },
   {
    "duration": 41,
    "start_time": "2023-07-22T17:49:06.936Z"
   },
   {
    "duration": 11,
    "start_time": "2023-07-22T17:49:06.980Z"
   },
   {
    "duration": 33,
    "start_time": "2023-07-22T17:49:06.992Z"
   },
   {
    "duration": 43,
    "start_time": "2023-07-22T17:49:07.027Z"
   },
   {
    "duration": 33,
    "start_time": "2023-07-22T17:49:07.072Z"
   },
   {
    "duration": 263,
    "start_time": "2023-07-22T17:49:07.107Z"
   },
   {
    "duration": 8,
    "start_time": "2023-07-22T17:49:07.371Z"
   },
   {
    "duration": 19,
    "start_time": "2023-07-22T17:49:07.381Z"
   },
   {
    "duration": 43,
    "start_time": "2023-07-22T17:49:07.402Z"
   },
   {
    "duration": 24,
    "start_time": "2023-07-22T17:49:07.447Z"
   },
   {
    "duration": 13,
    "start_time": "2023-07-22T17:49:07.473Z"
   },
   {
    "duration": 1603,
    "start_time": "2023-07-22T17:49:07.488Z"
   },
   {
    "duration": 11,
    "start_time": "2023-07-22T17:49:09.096Z"
   },
   {
    "duration": 689,
    "start_time": "2023-07-22T17:49:09.109Z"
   },
   {
    "duration": 5,
    "start_time": "2023-07-22T17:49:09.800Z"
   },
   {
    "duration": 16,
    "start_time": "2023-07-22T17:49:09.806Z"
   },
   {
    "duration": 9,
    "start_time": "2023-07-22T17:49:09.824Z"
   },
   {
    "duration": 24,
    "start_time": "2023-07-22T17:49:09.836Z"
   },
   {
    "duration": 20,
    "start_time": "2023-07-22T17:49:09.864Z"
   },
   {
    "duration": 16,
    "start_time": "2023-07-22T17:49:09.887Z"
   },
   {
    "duration": 751,
    "start_time": "2023-07-22T17:49:09.906Z"
   },
   {
    "duration": 16,
    "start_time": "2023-07-22T17:49:10.664Z"
   },
   {
    "duration": 85,
    "start_time": "2023-07-22T17:49:10.682Z"
   },
   {
    "duration": 27,
    "start_time": "2023-07-22T17:49:10.770Z"
   },
   {
    "duration": 23,
    "start_time": "2023-07-22T17:49:10.799Z"
   },
   {
    "duration": 21,
    "start_time": "2023-07-22T17:49:10.824Z"
   },
   {
    "duration": 36,
    "start_time": "2023-07-22T17:49:10.847Z"
   },
   {
    "duration": 54,
    "start_time": "2023-07-22T17:49:10.885Z"
   },
   {
    "duration": 4,
    "start_time": "2023-07-22T17:49:10.941Z"
   },
   {
    "duration": 55,
    "start_time": "2023-07-22T17:49:10.947Z"
   },
   {
    "duration": 15,
    "start_time": "2023-07-22T17:49:11.004Z"
   },
   {
    "duration": 12489,
    "start_time": "2023-07-22T17:49:11.021Z"
   },
   {
    "duration": 6201,
    "start_time": "2023-07-22T17:49:23.513Z"
   },
   {
    "duration": 858291,
    "start_time": "2023-07-22T17:49:29.716Z"
   },
   {
    "duration": 914233,
    "start_time": "2023-07-22T18:03:48.009Z"
   },
   {
    "duration": 6925,
    "start_time": "2023-07-22T18:19:02.244Z"
   },
   {
    "duration": 18,
    "start_time": "2023-07-22T18:19:09.176Z"
   },
   {
    "duration": 71,
    "start_time": "2023-07-22T18:19:09.195Z"
   },
   {
    "duration": 8257,
    "start_time": "2023-07-22T18:19:09.277Z"
   },
   {
    "duration": 11792,
    "start_time": "2023-07-22T18:19:17.537Z"
   },
   {
    "duration": 4,
    "start_time": "2023-07-22T18:19:29.331Z"
   }
  ],
  "kernelspec": {
   "display_name": "Python 3 (ipykernel)",
   "language": "python",
   "name": "python3"
  },
  "language_info": {
   "codemirror_mode": {
    "name": "ipython",
    "version": 3
   },
   "file_extension": ".py",
   "mimetype": "text/x-python",
   "name": "python",
   "nbconvert_exporter": "python",
   "pygments_lexer": "ipython3",
   "version": "3.9.5"
  },
  "toc": {
   "base_numbering": 1,
   "nav_menu": {},
   "number_sections": true,
   "sideBar": true,
   "skip_h1_title": true,
   "title_cell": "Содержание",
   "title_sidebar": "Contents",
   "toc_cell": true,
   "toc_position": {
    "height": "calc(100% - 180px)",
    "left": "10px",
    "top": "150px",
    "width": "359.136px"
   },
   "toc_section_display": true,
   "toc_window_display": true
  }
 },
 "nbformat": 4,
 "nbformat_minor": 2
}
