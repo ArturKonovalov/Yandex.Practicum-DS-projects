{
 "cells": [
  {
   "cell_type": "markdown",
   "metadata": {
    "toc": true
   },
   "source": [
    "<h1>Содержание<span class=\"tocSkip\"></span></h1>\n",
    "<div class=\"toc\"><ul class=\"toc-item\"><li><span><a href=\"#Подготовка-данных.\" data-toc-modified-id=\"Подготовка-данных.-1\"><span class=\"toc-item-num\">1&nbsp;&nbsp;</span><em>Подготовка данных.</em></a></span><ul class=\"toc-item\"><li><span><a href=\"#Изучение-данных.\" data-toc-modified-id=\"Изучение-данных.-1.1\"><span class=\"toc-item-num\">1.1&nbsp;&nbsp;</span>Изучение данных.</a></span></li><li><span><a href=\"#Изменение-столбцов.\" data-toc-modified-id=\"Изменение-столбцов.-1.2\"><span class=\"toc-item-num\">1.2&nbsp;&nbsp;</span>Изменение столбцов.</a></span></li><li><span><a href=\"#Проверка-на-пропуски-и-дубликаты.\" data-toc-modified-id=\"Проверка-на-пропуски-и-дубликаты.-1.3\"><span class=\"toc-item-num\">1.3&nbsp;&nbsp;</span>Проверка на пропуски и дубликаты.</a></span></li><li><span><a href=\"#Деление-данных.\" data-toc-modified-id=\"Деление-данных.-1.4\"><span class=\"toc-item-num\">1.4&nbsp;&nbsp;</span>Деление данных.</a></span></li><li><span><a href=\"#Стандартизация-данных.\" data-toc-modified-id=\"Стандартизация-данных.-1.5\"><span class=\"toc-item-num\">1.5&nbsp;&nbsp;</span>Стандартизация данных.</a></span></li><li><span><a href=\"#Прямое-кодирование.\" data-toc-modified-id=\"Прямое-кодирование.-1.6\"><span class=\"toc-item-num\">1.6&nbsp;&nbsp;</span>Прямое кодирование.</a></span></li><li><span><a href=\"#Вывод-блока:\" data-toc-modified-id=\"Вывод-блока:-1.7\"><span class=\"toc-item-num\">1.7&nbsp;&nbsp;</span><strong>Вывод блока:</strong></a></span></li></ul></li><li><span><a href=\"#Исследование-задачи.\" data-toc-modified-id=\"Исследование-задачи.-2\"><span class=\"toc-item-num\">2&nbsp;&nbsp;</span><em>Исследование задачи.</em></a></span><ul class=\"toc-item\"><li><span><a href=\"#Дерево-решений.\" data-toc-modified-id=\"Дерево-решений.-2.1\"><span class=\"toc-item-num\">2.1&nbsp;&nbsp;</span><em>Дерево решений.</em></a></span><ul class=\"toc-item\"><li><span><a href=\"#Подбор-гиперпараметров.\" data-toc-modified-id=\"Подбор-гиперпараметров.-2.1.1\"><span class=\"toc-item-num\">2.1.1&nbsp;&nbsp;</span>Подбор гиперпараметров.</a></span></li><li><span><a href=\"#Обучение-модели-DecisionTreeClassifier-без-учета-дисбаланса\" data-toc-modified-id=\"Обучение-модели-DecisionTreeClassifier-без-учета-дисбаланса-2.1.2\"><span class=\"toc-item-num\">2.1.2&nbsp;&nbsp;</span>Обучение модели DecisionTreeClassifier без учета дисбаланса</a></span></li><li><span><a href=\"#Промежуточный-вывод:\" data-toc-modified-id=\"Промежуточный-вывод:-2.1.3\"><span class=\"toc-item-num\">2.1.3&nbsp;&nbsp;</span><strong>Промежуточный вывод:</strong></a></span></li></ul></li><li><span><a href=\"#Случайный-лес.\" data-toc-modified-id=\"Случайный-лес.-2.2\"><span class=\"toc-item-num\">2.2&nbsp;&nbsp;</span><em>Случайный лес.</em></a></span><ul class=\"toc-item\"><li><span><a href=\"#Подбор-гиперпараметров:\" data-toc-modified-id=\"Подбор-гиперпараметров:-2.2.1\"><span class=\"toc-item-num\">2.2.1&nbsp;&nbsp;</span>Подбор гиперпараметров:</a></span></li><li><span><a href=\"#Обучение-модели-RandomForestClassifier-без-учета-дисбаланса\" data-toc-modified-id=\"Обучение-модели-RandomForestClassifier-без-учета-дисбаланса-2.2.2\"><span class=\"toc-item-num\">2.2.2&nbsp;&nbsp;</span>Обучение модели RandomForestClassifier без учета дисбаланса</a></span></li><li><span><a href=\"#Промежуточный-вывод:\" data-toc-modified-id=\"Промежуточный-вывод:-2.2.3\"><span class=\"toc-item-num\">2.2.3&nbsp;&nbsp;</span><strong>Промежуточный вывод:</strong></a></span></li></ul></li><li><span><a href=\"#Логистическая-регрессия.\" data-toc-modified-id=\"Логистическая-регрессия.-2.3\"><span class=\"toc-item-num\">2.3&nbsp;&nbsp;</span><em>Логистическая регрессия.</em></a></span><ul class=\"toc-item\"><li><span><a href=\"#Подбор-гиперпараметров:\" data-toc-modified-id=\"Подбор-гиперпараметров:-2.3.1\"><span class=\"toc-item-num\">2.3.1&nbsp;&nbsp;</span>Подбор гиперпараметров:</a></span></li><li><span><a href=\"#Обучение-модели-LogisticRegression-без-учета-дисбаланса\" data-toc-modified-id=\"Обучение-модели-LogisticRegression-без-учета-дисбаланса-2.3.2\"><span class=\"toc-item-num\">2.3.2&nbsp;&nbsp;</span>Обучение модели LogisticRegression без учета дисбаланса</a></span></li><li><span><a href=\"#Промежуточный-вывод:\" data-toc-modified-id=\"Промежуточный-вывод:-2.3.3\"><span class=\"toc-item-num\">2.3.3&nbsp;&nbsp;</span><strong>Промежуточный вывод:</strong></a></span></li></ul></li><li><span><a href=\"#Дисбаланс-классов.\" data-toc-modified-id=\"Дисбаланс-классов.-2.4\"><span class=\"toc-item-num\">2.4&nbsp;&nbsp;</span><em>Дисбаланс классов.</em></a></span><ul class=\"toc-item\"><li><span><a href=\"#Подсчёт-классов-в-целевом-признаке-exited:\" data-toc-modified-id=\"Подсчёт-классов-в-целевом-признаке-exited:-2.4.1\"><span class=\"toc-item-num\">2.4.1&nbsp;&nbsp;</span>Подсчёт классов в целевом признаке <code>exited</code>:</a></span></li><li><span><a href=\"#DecisionTreeClassifier-c-параметром-class_weight='balanced':\" data-toc-modified-id=\"DecisionTreeClassifier-c-параметром-class_weight='balanced':-2.4.2\"><span class=\"toc-item-num\">2.4.2&nbsp;&nbsp;</span>DecisionTreeClassifier c параметром <code>class_weight='balanced'</code>:</a></span></li><li><span><a href=\"#RandomForestClassifier-c-параметром-class_weight='balanced':\" data-toc-modified-id=\"RandomForestClassifier-c-параметром-class_weight='balanced':-2.4.3\"><span class=\"toc-item-num\">2.4.3&nbsp;&nbsp;</span>RandomForestClassifier c параметром <code>class_weight='balanced'</code>:</a></span></li><li><span><a href=\"#LogisticRegression-c-параметром-class_weight='balanced':\" data-toc-modified-id=\"LogisticRegression-c-параметром-class_weight='balanced':-2.4.4\"><span class=\"toc-item-num\">2.4.4&nbsp;&nbsp;</span>LogisticRegression c параметром <code>class_weight='balanced'</code>:</a></span></li><li><span><a href=\"#Промежуточный-вывод:\" data-toc-modified-id=\"Промежуточный-вывод:-2.4.5\"><span class=\"toc-item-num\">2.4.5&nbsp;&nbsp;</span><strong>Промежуточный вывод:</strong></a></span></li><li><span><a href=\"#DecisionTreeClassifier-для-уменьшенной-выборки:\" data-toc-modified-id=\"DecisionTreeClassifier-для-уменьшенной-выборки:-2.4.6\"><span class=\"toc-item-num\">2.4.6&nbsp;&nbsp;</span>DecisionTreeClassifier для уменьшенной выборки:</a></span></li><li><span><a href=\"#RandomForestClassifier-для-уменьшенной-выборки:\" data-toc-modified-id=\"RandomForestClassifier-для-уменьшенной-выборки:-2.4.7\"><span class=\"toc-item-num\">2.4.7&nbsp;&nbsp;</span>RandomForestClassifier для уменьшенной выборки:</a></span></li><li><span><a href=\"#LogisticRegression-для-уменьшенной-выборки:\" data-toc-modified-id=\"LogisticRegression-для-уменьшенной-выборки:-2.4.8\"><span class=\"toc-item-num\">2.4.8&nbsp;&nbsp;</span>LogisticRegression для уменьшенной выборки:</a></span></li><li><span><a href=\"#Промежуточный-вывод:\" data-toc-modified-id=\"Промежуточный-вывод:-2.4.9\"><span class=\"toc-item-num\">2.4.9&nbsp;&nbsp;</span><strong>Промежуточный вывод:</strong></a></span></li></ul></li><li><span><a href=\"#Вывод-блока:\" data-toc-modified-id=\"Вывод-блока:-2.5\"><span class=\"toc-item-num\">2.5&nbsp;&nbsp;</span><strong>Вывод блока:</strong></a></span></li></ul></li><li><span><a href=\"#Тестирование-модели.\" data-toc-modified-id=\"Тестирование-модели.-3\"><span class=\"toc-item-num\">3&nbsp;&nbsp;</span><em>Тестирование модели.</em></a></span><ul class=\"toc-item\"><li><span><a href=\"#Вывод-блока:\" data-toc-modified-id=\"Вывод-блока:-3.1\"><span class=\"toc-item-num\">3.1&nbsp;&nbsp;</span><strong>Вывод блока:</strong></a></span></li></ul></li><li><span><a href=\"#Общий-вывод:\" data-toc-modified-id=\"Общий-вывод:-4\"><span class=\"toc-item-num\">4&nbsp;&nbsp;</span><strong>Общий вывод:</strong></a></span><ul class=\"toc-item\"><li><span><a href=\"#Изучение-данных:\" data-toc-modified-id=\"Изучение-данных:-4.1\"><span class=\"toc-item-num\">4.1&nbsp;&nbsp;</span>Изучение данных:</a></span></li><li><span><a href=\"#Исследование-задачи:\" data-toc-modified-id=\"Исследование-задачи:-4.2\"><span class=\"toc-item-num\">4.2&nbsp;&nbsp;</span>Исследование задачи:</a></span></li><li><span><a href=\"#Тестирование-модели:\" data-toc-modified-id=\"Тестирование-модели:-4.3\"><span class=\"toc-item-num\">4.3&nbsp;&nbsp;</span>Тестирование модели:</a></span></li></ul></li></ul></div>"
   ]
  },
  {
   "cell_type": "markdown",
   "metadata": {},
   "source": [
    "_____________\n",
    "# Отток клиентов"
   ]
  },
  {
   "cell_type": "markdown",
   "metadata": {},
   "source": [
    "**Описание задачи:**\n",
    "\n",
    "Из «Бета-Банка» стали уходить клиенты. Каждый месяц. Немного, но заметно. Банковские маркетологи посчитали: сохранять текущих клиентов дешевле, чем привлекать новых.\n",
    "Нам предоставлены исторические данные о поведении клиентов и расторжении договоров с банком. \n",
    "Источник данных: [https://www.kaggle.com/barelydedicated/bank-customer-churn-modeling](https://www.kaggle.com/barelydedicated/bank-customer-churn-modeling)\n",
    "\n",
    "**Цель исследования:**\n",
    "* Спрогнозировать, уйдёт клиент из банка в ближайшее время или нет. \n",
    "* Построить модель с предельно большим значением *F1*-меры, не менее 0.59\n",
    "\n",
    "**Исследование пройдёт в 3 этапа:**\n",
    "1. Подготовка данных.\n",
    "2. Исследование задачи.\n",
    "3. Тестирование модели.\n",
    "\n",
    "\n",
    "**Ход исследования:**\n",
    "\n",
    "*Этап 1. Подготовка данных:*\n",
    "- Первым делом откроем датасет и изучим основные аспекты.\n",
    "- Проверим правильность заполнения, наименования столбцов\n",
    "- Продиагностируем данные на наличие пропусков и дубликатов.\n",
    "- Так как \"новых\" данных предостовляться от заказчика не планируется, то разобьем информацию на три выборки:\n",
    " * `train` - обучающую. \n",
    " * `valid` - валидационную или проверочную. \n",
    " * `test` - тестовую (аналог новых данных).\n",
    "- Проведем стандартизацию данных.\n",
    "- Применим прямое кодирование.\n",
    "- Исследуем данные на дисбаланс классов.\n",
    "\n",
    "*Этап 2. Исследование задачи:*\n",
    "- Исходя из задачи бинарной классификации рассмотрим три модели обучения:\n",
    " * Модель дерева решений.\n",
    " * Модель случайного леса.\n",
    " * Модель логистической регрессии.\n",
    "- Дополнительно будем измерять *AUC-ROC*, сравнивать её значение с *F1*-мерой.\n",
    "- Выберем модель с наилучшим показанием метрики качества `F1`.\n",
    "- Также подберем наилучшие гиперпараметры для выбранной модели. \n",
    "\n",
    "*Этап 3. Тестирование модели:*\n",
    "- Проверим модель на тестовой выборке и посмотрим на ее поведение.\n"
   ]
  },
  {
   "cell_type": "markdown",
   "metadata": {},
   "source": [
    "**Описание данных:**\n",
    "\n",
    "Каждый объект в наборе данных — это информация о поведении одного пользователя за все время действия договора с Банком. \n",
    "\n",
    "**Признаки:**\n",
    "* `RowNumber` — индекс строки в данных\n",
    "* `CustomerId` — уникальный идентификатор клиента\n",
    "* `Surname` — фамилия\n",
    "* `CreditScore` — кредитный рейтинг\n",
    "* `Geography` — страна проживания\n",
    "* `Gender` — пол\n",
    "* `Age` — возраст\n",
    "* `Tenure` — сколько лет человек является клиентом банка\n",
    "* `Balance` — баланс на счёте\n",
    "* `NumOfProducts` — количество продуктов банка, используемых клиентом\n",
    "* `HasCrCard` — наличие кредитной карты\n",
    "* `IsActiveMember` — активность клиента\n",
    "* `EstimatedSalary` — предполагаемая зарплата\n",
    "\n",
    "**Целевой признак:**\n",
    "* `Exited` — факт ухода клиента"
   ]
  },
  {
   "cell_type": "markdown",
   "metadata": {},
   "source": [
    "_____________\n",
    "## *Подготовка данных.*"
   ]
  },
  {
   "cell_type": "markdown",
   "metadata": {},
   "source": [
    "Импортируем все необходимые библиотеки:"
   ]
  },
  {
   "cell_type": "code",
   "execution_count": 1,
   "metadata": {},
   "outputs": [],
   "source": [
    "import pandas as pd\n",
    "import numpy as np\n",
    "import matplotlib.pyplot as plt\n",
    "\n",
    "from sklearn.model_selection import (StratifiedKFold, train_test_split) \n",
    "from sklearn.preprocessing import (StandardScaler, OneHotEncoder) \n",
    "from sklearn.tree import DecisionTreeClassifier \n",
    "from sklearn.ensemble import RandomForestClassifier\n",
    "from sklearn.linear_model import LogisticRegression\n",
    "from sklearn.dummy import DummyClassifier\n",
    "from sklearn.metrics import (accuracy_score, f1_score,\n",
    "                            roc_auc_score, mean_absolute_error)\n",
    "from sklearn.model_selection import (RandomizedSearchCV, GridSearchCV)\n",
    "\n",
    "import random\n",
    "from joblib import dump\n",
    "from sklearn.utils import shuffle"
   ]
  },
  {
   "cell_type": "code",
   "execution_count": 2,
   "metadata": {},
   "outputs": [],
   "source": [
    "SEED = 42\n",
    "random.seed(SEED)\n",
    "np.random.seed(SEED)"
   ]
  },
  {
   "cell_type": "markdown",
   "metadata": {},
   "source": [
    "_____________\n",
    "### Изучение данных."
   ]
  },
  {
   "cell_type": "code",
   "execution_count": 3,
   "metadata": {
    "scrolled": true
   },
   "outputs": [
    {
     "data": {
      "text/html": [
       "<div>\n",
       "<style scoped>\n",
       "    .dataframe tbody tr th:only-of-type {\n",
       "        vertical-align: middle;\n",
       "    }\n",
       "\n",
       "    .dataframe tbody tr th {\n",
       "        vertical-align: top;\n",
       "    }\n",
       "\n",
       "    .dataframe thead th {\n",
       "        text-align: right;\n",
       "    }\n",
       "</style>\n",
       "<table border=\"1\" class=\"dataframe\">\n",
       "  <thead>\n",
       "    <tr style=\"text-align: right;\">\n",
       "      <th></th>\n",
       "      <th>RowNumber</th>\n",
       "      <th>CustomerId</th>\n",
       "      <th>Surname</th>\n",
       "      <th>CreditScore</th>\n",
       "      <th>Geography</th>\n",
       "      <th>Gender</th>\n",
       "      <th>Age</th>\n",
       "      <th>Tenure</th>\n",
       "      <th>Balance</th>\n",
       "      <th>NumOfProducts</th>\n",
       "      <th>HasCrCard</th>\n",
       "      <th>IsActiveMember</th>\n",
       "      <th>EstimatedSalary</th>\n",
       "      <th>Exited</th>\n",
       "    </tr>\n",
       "  </thead>\n",
       "  <tbody>\n",
       "    <tr>\n",
       "      <th>0</th>\n",
       "      <td>1</td>\n",
       "      <td>15634602</td>\n",
       "      <td>Hargrave</td>\n",
       "      <td>619</td>\n",
       "      <td>France</td>\n",
       "      <td>Female</td>\n",
       "      <td>42</td>\n",
       "      <td>2.0</td>\n",
       "      <td>0.00</td>\n",
       "      <td>1</td>\n",
       "      <td>1</td>\n",
       "      <td>1</td>\n",
       "      <td>101348.88</td>\n",
       "      <td>1</td>\n",
       "    </tr>\n",
       "    <tr>\n",
       "      <th>1</th>\n",
       "      <td>2</td>\n",
       "      <td>15647311</td>\n",
       "      <td>Hill</td>\n",
       "      <td>608</td>\n",
       "      <td>Spain</td>\n",
       "      <td>Female</td>\n",
       "      <td>41</td>\n",
       "      <td>1.0</td>\n",
       "      <td>83807.86</td>\n",
       "      <td>1</td>\n",
       "      <td>0</td>\n",
       "      <td>1</td>\n",
       "      <td>112542.58</td>\n",
       "      <td>0</td>\n",
       "    </tr>\n",
       "    <tr>\n",
       "      <th>2</th>\n",
       "      <td>3</td>\n",
       "      <td>15619304</td>\n",
       "      <td>Onio</td>\n",
       "      <td>502</td>\n",
       "      <td>France</td>\n",
       "      <td>Female</td>\n",
       "      <td>42</td>\n",
       "      <td>8.0</td>\n",
       "      <td>159660.80</td>\n",
       "      <td>3</td>\n",
       "      <td>1</td>\n",
       "      <td>0</td>\n",
       "      <td>113931.57</td>\n",
       "      <td>1</td>\n",
       "    </tr>\n",
       "    <tr>\n",
       "      <th>3</th>\n",
       "      <td>4</td>\n",
       "      <td>15701354</td>\n",
       "      <td>Boni</td>\n",
       "      <td>699</td>\n",
       "      <td>France</td>\n",
       "      <td>Female</td>\n",
       "      <td>39</td>\n",
       "      <td>1.0</td>\n",
       "      <td>0.00</td>\n",
       "      <td>2</td>\n",
       "      <td>0</td>\n",
       "      <td>0</td>\n",
       "      <td>93826.63</td>\n",
       "      <td>0</td>\n",
       "    </tr>\n",
       "    <tr>\n",
       "      <th>4</th>\n",
       "      <td>5</td>\n",
       "      <td>15737888</td>\n",
       "      <td>Mitchell</td>\n",
       "      <td>850</td>\n",
       "      <td>Spain</td>\n",
       "      <td>Female</td>\n",
       "      <td>43</td>\n",
       "      <td>2.0</td>\n",
       "      <td>125510.82</td>\n",
       "      <td>1</td>\n",
       "      <td>1</td>\n",
       "      <td>1</td>\n",
       "      <td>79084.10</td>\n",
       "      <td>0</td>\n",
       "    </tr>\n",
       "  </tbody>\n",
       "</table>\n",
       "</div>"
      ],
      "text/plain": [
       "   RowNumber  CustomerId   Surname  CreditScore Geography  Gender  Age  \\\n",
       "0          1    15634602  Hargrave          619    France  Female   42   \n",
       "1          2    15647311      Hill          608     Spain  Female   41   \n",
       "2          3    15619304      Onio          502    France  Female   42   \n",
       "3          4    15701354      Boni          699    France  Female   39   \n",
       "4          5    15737888  Mitchell          850     Spain  Female   43   \n",
       "\n",
       "   Tenure    Balance  NumOfProducts  HasCrCard  IsActiveMember  \\\n",
       "0     2.0       0.00              1          1               1   \n",
       "1     1.0   83807.86              1          0               1   \n",
       "2     8.0  159660.80              3          1               0   \n",
       "3     1.0       0.00              2          0               0   \n",
       "4     2.0  125510.82              1          1               1   \n",
       "\n",
       "   EstimatedSalary  Exited  \n",
       "0        101348.88       1  \n",
       "1        112542.58       0  \n",
       "2        113931.57       1  \n",
       "3         93826.63       0  \n",
       "4         79084.10       0  "
      ]
     },
     "execution_count": 3,
     "metadata": {},
     "output_type": "execute_result"
    }
   ],
   "source": [
    "data = pd.read_csv('/datasets/Churn.csv')\n",
    "data.head()"
   ]
  },
  {
   "cell_type": "code",
   "execution_count": 4,
   "metadata": {},
   "outputs": [
    {
     "name": "stdout",
     "output_type": "stream",
     "text": [
      "<class 'pandas.core.frame.DataFrame'>\n",
      "RangeIndex: 10000 entries, 0 to 9999\n",
      "Data columns (total 14 columns):\n",
      " #   Column           Non-Null Count  Dtype  \n",
      "---  ------           --------------  -----  \n",
      " 0   RowNumber        10000 non-null  int64  \n",
      " 1   CustomerId       10000 non-null  int64  \n",
      " 2   Surname          10000 non-null  object \n",
      " 3   CreditScore      10000 non-null  int64  \n",
      " 4   Geography        10000 non-null  object \n",
      " 5   Gender           10000 non-null  object \n",
      " 6   Age              10000 non-null  int64  \n",
      " 7   Tenure           9091 non-null   float64\n",
      " 8   Balance          10000 non-null  float64\n",
      " 9   NumOfProducts    10000 non-null  int64  \n",
      " 10  HasCrCard        10000 non-null  int64  \n",
      " 11  IsActiveMember   10000 non-null  int64  \n",
      " 12  EstimatedSalary  10000 non-null  float64\n",
      " 13  Exited           10000 non-null  int64  \n",
      "dtypes: float64(3), int64(8), object(3)\n",
      "memory usage: 1.1+ MB\n"
     ]
    }
   ],
   "source": [
    "data.info()"
   ]
  },
  {
   "cell_type": "code",
   "execution_count": 5,
   "metadata": {
    "scrolled": false
   },
   "outputs": [
    {
     "data": {
      "text/html": [
       "<div>\n",
       "<style scoped>\n",
       "    .dataframe tbody tr th:only-of-type {\n",
       "        vertical-align: middle;\n",
       "    }\n",
       "\n",
       "    .dataframe tbody tr th {\n",
       "        vertical-align: top;\n",
       "    }\n",
       "\n",
       "    .dataframe thead th {\n",
       "        text-align: right;\n",
       "    }\n",
       "</style>\n",
       "<table border=\"1\" class=\"dataframe\">\n",
       "  <thead>\n",
       "    <tr style=\"text-align: right;\">\n",
       "      <th></th>\n",
       "      <th>RowNumber</th>\n",
       "      <th>CustomerId</th>\n",
       "      <th>CreditScore</th>\n",
       "      <th>Age</th>\n",
       "      <th>Tenure</th>\n",
       "      <th>Balance</th>\n",
       "      <th>NumOfProducts</th>\n",
       "      <th>HasCrCard</th>\n",
       "      <th>IsActiveMember</th>\n",
       "      <th>EstimatedSalary</th>\n",
       "      <th>Exited</th>\n",
       "    </tr>\n",
       "  </thead>\n",
       "  <tbody>\n",
       "    <tr>\n",
       "      <th>count</th>\n",
       "      <td>10000.00000</td>\n",
       "      <td>1.000000e+04</td>\n",
       "      <td>10000.000000</td>\n",
       "      <td>10000.000000</td>\n",
       "      <td>9091.000000</td>\n",
       "      <td>10000.000000</td>\n",
       "      <td>10000.000000</td>\n",
       "      <td>10000.00000</td>\n",
       "      <td>10000.000000</td>\n",
       "      <td>10000.000000</td>\n",
       "      <td>10000.000000</td>\n",
       "    </tr>\n",
       "    <tr>\n",
       "      <th>mean</th>\n",
       "      <td>5000.50000</td>\n",
       "      <td>1.569094e+07</td>\n",
       "      <td>650.528800</td>\n",
       "      <td>38.921800</td>\n",
       "      <td>4.997690</td>\n",
       "      <td>76485.889288</td>\n",
       "      <td>1.530200</td>\n",
       "      <td>0.70550</td>\n",
       "      <td>0.515100</td>\n",
       "      <td>100090.239881</td>\n",
       "      <td>0.203700</td>\n",
       "    </tr>\n",
       "    <tr>\n",
       "      <th>std</th>\n",
       "      <td>2886.89568</td>\n",
       "      <td>7.193619e+04</td>\n",
       "      <td>96.653299</td>\n",
       "      <td>10.487806</td>\n",
       "      <td>2.894723</td>\n",
       "      <td>62397.405202</td>\n",
       "      <td>0.581654</td>\n",
       "      <td>0.45584</td>\n",
       "      <td>0.499797</td>\n",
       "      <td>57510.492818</td>\n",
       "      <td>0.402769</td>\n",
       "    </tr>\n",
       "    <tr>\n",
       "      <th>min</th>\n",
       "      <td>1.00000</td>\n",
       "      <td>1.556570e+07</td>\n",
       "      <td>350.000000</td>\n",
       "      <td>18.000000</td>\n",
       "      <td>0.000000</td>\n",
       "      <td>0.000000</td>\n",
       "      <td>1.000000</td>\n",
       "      <td>0.00000</td>\n",
       "      <td>0.000000</td>\n",
       "      <td>11.580000</td>\n",
       "      <td>0.000000</td>\n",
       "    </tr>\n",
       "    <tr>\n",
       "      <th>25%</th>\n",
       "      <td>2500.75000</td>\n",
       "      <td>1.562853e+07</td>\n",
       "      <td>584.000000</td>\n",
       "      <td>32.000000</td>\n",
       "      <td>2.000000</td>\n",
       "      <td>0.000000</td>\n",
       "      <td>1.000000</td>\n",
       "      <td>0.00000</td>\n",
       "      <td>0.000000</td>\n",
       "      <td>51002.110000</td>\n",
       "      <td>0.000000</td>\n",
       "    </tr>\n",
       "    <tr>\n",
       "      <th>50%</th>\n",
       "      <td>5000.50000</td>\n",
       "      <td>1.569074e+07</td>\n",
       "      <td>652.000000</td>\n",
       "      <td>37.000000</td>\n",
       "      <td>5.000000</td>\n",
       "      <td>97198.540000</td>\n",
       "      <td>1.000000</td>\n",
       "      <td>1.00000</td>\n",
       "      <td>1.000000</td>\n",
       "      <td>100193.915000</td>\n",
       "      <td>0.000000</td>\n",
       "    </tr>\n",
       "    <tr>\n",
       "      <th>75%</th>\n",
       "      <td>7500.25000</td>\n",
       "      <td>1.575323e+07</td>\n",
       "      <td>718.000000</td>\n",
       "      <td>44.000000</td>\n",
       "      <td>7.000000</td>\n",
       "      <td>127644.240000</td>\n",
       "      <td>2.000000</td>\n",
       "      <td>1.00000</td>\n",
       "      <td>1.000000</td>\n",
       "      <td>149388.247500</td>\n",
       "      <td>0.000000</td>\n",
       "    </tr>\n",
       "    <tr>\n",
       "      <th>max</th>\n",
       "      <td>10000.00000</td>\n",
       "      <td>1.581569e+07</td>\n",
       "      <td>850.000000</td>\n",
       "      <td>92.000000</td>\n",
       "      <td>10.000000</td>\n",
       "      <td>250898.090000</td>\n",
       "      <td>4.000000</td>\n",
       "      <td>1.00000</td>\n",
       "      <td>1.000000</td>\n",
       "      <td>199992.480000</td>\n",
       "      <td>1.000000</td>\n",
       "    </tr>\n",
       "  </tbody>\n",
       "</table>\n",
       "</div>"
      ],
      "text/plain": [
       "         RowNumber    CustomerId   CreditScore           Age       Tenure  \\\n",
       "count  10000.00000  1.000000e+04  10000.000000  10000.000000  9091.000000   \n",
       "mean    5000.50000  1.569094e+07    650.528800     38.921800     4.997690   \n",
       "std     2886.89568  7.193619e+04     96.653299     10.487806     2.894723   \n",
       "min        1.00000  1.556570e+07    350.000000     18.000000     0.000000   \n",
       "25%     2500.75000  1.562853e+07    584.000000     32.000000     2.000000   \n",
       "50%     5000.50000  1.569074e+07    652.000000     37.000000     5.000000   \n",
       "75%     7500.25000  1.575323e+07    718.000000     44.000000     7.000000   \n",
       "max    10000.00000  1.581569e+07    850.000000     92.000000    10.000000   \n",
       "\n",
       "             Balance  NumOfProducts    HasCrCard  IsActiveMember  \\\n",
       "count   10000.000000   10000.000000  10000.00000    10000.000000   \n",
       "mean    76485.889288       1.530200      0.70550        0.515100   \n",
       "std     62397.405202       0.581654      0.45584        0.499797   \n",
       "min         0.000000       1.000000      0.00000        0.000000   \n",
       "25%         0.000000       1.000000      0.00000        0.000000   \n",
       "50%     97198.540000       1.000000      1.00000        1.000000   \n",
       "75%    127644.240000       2.000000      1.00000        1.000000   \n",
       "max    250898.090000       4.000000      1.00000        1.000000   \n",
       "\n",
       "       EstimatedSalary        Exited  \n",
       "count     10000.000000  10000.000000  \n",
       "mean     100090.239881      0.203700  \n",
       "std       57510.492818      0.402769  \n",
       "min          11.580000      0.000000  \n",
       "25%       51002.110000      0.000000  \n",
       "50%      100193.915000      0.000000  \n",
       "75%      149388.247500      0.000000  \n",
       "max      199992.480000      1.000000  "
      ]
     },
     "execution_count": 5,
     "metadata": {},
     "output_type": "execute_result"
    }
   ],
   "source": [
    "data.describe()"
   ]
  },
  {
   "cell_type": "markdown",
   "metadata": {},
   "source": [
    "_____________\n",
    " **Промежуточный вывод:**\n",
    "- Общее количество строк в таблице 10000 и 14 столбцов.\n",
    "- Значения имеют разный тип данных `int` и `float`, `object`.\n"
   ]
  },
  {
   "cell_type": "markdown",
   "metadata": {},
   "source": [
    "_____________\n",
    "### Изменение столбцов."
   ]
  },
  {
   "cell_type": "markdown",
   "metadata": {},
   "source": [
    "Приведем названия столбцов к приемлему виду:"
   ]
  },
  {
   "cell_type": "code",
   "execution_count": 6,
   "metadata": {
    "scrolled": false
   },
   "outputs": [
    {
     "data": {
      "text/plain": [
       "row_number            int64\n",
       "customer_id           int64\n",
       "surname              object\n",
       "credit_score          int64\n",
       "geography            object\n",
       "gender               object\n",
       "age                   int64\n",
       "tenure              float64\n",
       "balance             float64\n",
       "num_of_products       int64\n",
       "has_cr_card           int64\n",
       "is_active_member      int64\n",
       "estimated_salary    float64\n",
       "exited                int64\n",
       "dtype: object"
      ]
     },
     "execution_count": 6,
     "metadata": {},
     "output_type": "execute_result"
    }
   ],
   "source": [
    "data.columns = data.columns.str.lower()\n",
    "data = data.rename(columns={\n",
    "    'rownumber':'row_number',            \n",
    "    'customerid':'customer_id',                     \n",
    "    'creditscore':'credit_score',                                                                        \n",
    "    'numofproducts':'num_of_products',        \n",
    "    'hascrcard':'has_cr_card',            \n",
    "    'isactivemember':'is_active_member',       \n",
    "    'estimatedsalary':'estimated_salary',    \n",
    "})\n",
    "data.dtypes"
   ]
  },
  {
   "cell_type": "code",
   "execution_count": 7,
   "metadata": {},
   "outputs": [],
   "source": [
    "data.columns = data.columns.str.replace(' ', '')"
   ]
  },
  {
   "cell_type": "markdown",
   "metadata": {},
   "source": [
    "_____________\n",
    " **Промежуточный вывод:**\n",
    " * Изменены названия 7 столбцов."
   ]
  },
  {
   "cell_type": "markdown",
   "metadata": {},
   "source": [
    "_____________\n",
    "### Проверка на пропуски и дубликаты."
   ]
  },
  {
   "cell_type": "code",
   "execution_count": 8,
   "metadata": {
    "scrolled": true
   },
   "outputs": [
    {
     "data": {
      "text/plain": [
       "0"
      ]
     },
     "execution_count": 8,
     "metadata": {},
     "output_type": "execute_result"
    }
   ],
   "source": [
    "data.duplicated().sum()"
   ]
  },
  {
   "cell_type": "code",
   "execution_count": 9,
   "metadata": {},
   "outputs": [
    {
     "data": {
      "text/plain": [
       "row_number            0\n",
       "customer_id           0\n",
       "surname               0\n",
       "credit_score          0\n",
       "geography             0\n",
       "gender                0\n",
       "age                   0\n",
       "tenure              909\n",
       "balance               0\n",
       "num_of_products       0\n",
       "has_cr_card           0\n",
       "is_active_member      0\n",
       "estimated_salary      0\n",
       "exited                0\n",
       "dtype: int64"
      ]
     },
     "execution_count": 9,
     "metadata": {},
     "output_type": "execute_result"
    }
   ],
   "source": [
    "data.isna().sum()"
   ]
  },
  {
   "cell_type": "markdown",
   "metadata": {},
   "source": [
    "**Заменим пропуски в столбце `tenure` медианным значением, так как оно устойчиво к выбросам:**"
   ]
  },
  {
   "cell_type": "code",
   "execution_count": 10,
   "metadata": {},
   "outputs": [
    {
     "data": {
      "text/plain": [
       "0"
      ]
     },
     "execution_count": 10,
     "metadata": {},
     "output_type": "execute_result"
    }
   ],
   "source": [
    "value = data['tenure'].mean()\n",
    "data['tenure'] = data['tenure'].fillna(value)\n",
    "data['tenure'].isna().sum()"
   ]
  },
  {
   "cell_type": "markdown",
   "metadata": {},
   "source": [
    "_____________\n",
    " **Промежуточный вывод:**\n",
    "* Дубликатов не обнаружено.\n",
    "* В столбце `tenor` пропуски заменены медианным значением."
   ]
  },
  {
   "cell_type": "markdown",
   "metadata": {},
   "source": [
    "_____________\n",
    "### Деление данных. "
   ]
  },
  {
   "cell_type": "markdown",
   "metadata": {},
   "source": [
    "Разделим данные на две выбокри: тестовую `data_test` и обучающую `data_train` в соотношении *4:1* или *80% : 20% *, тестовой выборке отдаем *20%* от первоначального размера `data`.\n"
   ]
  },
  {
   "cell_type": "code",
   "execution_count": 11,
   "metadata": {},
   "outputs": [],
   "source": [
    "#features = data.drop('exited', axis=1)\n",
    "features = data.drop(['exited', 'row_number', 'customer_id', 'surname'], axis=1)\n",
    "target = data['exited']"
   ]
  },
  {
   "cell_type": "code",
   "execution_count": 12,
   "metadata": {},
   "outputs": [],
   "source": [
    "#отделяем тестовую выборку\n",
    "data_train, data_test = train_test_split( \n",
    "    data,\n",
    "    test_size=0.2, #тестовая выборка составит 20%\n",
    "    random_state=12345,\n",
    "    stratify=target #стратификация по целевому признаку\n",
    ")"
   ]
  },
  {
   "cell_type": "code",
   "execution_count": 13,
   "metadata": {
    "scrolled": true
   },
   "outputs": [
    {
     "name": "stdout",
     "output_type": "stream",
     "text": [
      "(8000, 13)\n",
      "(2000, 13)\n",
      "\n",
      "(8000,)\n",
      "(2000,)\n"
     ]
    }
   ],
   "source": [
    "features_train = data_train.drop(['exited'], axis=1)\n",
    "features_test = data_test.drop(['exited'], axis=1)\n",
    "\n",
    "target_train = data_train['exited']\n",
    "target_test = data_test['exited']\n",
    "\n",
    "print(features_train.shape)\n",
    "print(features_test.shape)\n",
    "print()\n",
    "print(target_train.shape)\n",
    "print(target_test.shape)"
   ]
  },
  {
   "cell_type": "markdown",
   "metadata": {},
   "source": [
    "_____________\n",
    " **Промежуточный вывод:**\n",
    "\n",
    "* Данные разделены на 2 выбокри: тестовую и обучающую в соотношении *4:1* или *80% : 20%*"
   ]
  },
  {
   "cell_type": "markdown",
   "metadata": {},
   "source": [
    "______________\n",
    "### Стандартизация данных."
   ]
  },
  {
   "cell_type": "markdown",
   "metadata": {},
   "source": [
    "Сначала мы масштабиреум численные признаки:"
   ]
  },
  {
   "cell_type": "code",
   "execution_count": 14,
   "metadata": {},
   "outputs": [
    {
     "data": {
      "text/plain": [
       "array([1, 3, 2, 4])"
      ]
     },
     "execution_count": 14,
     "metadata": {},
     "output_type": "execute_result"
    }
   ],
   "source": [
    "data['num_of_products'].unique()"
   ]
  },
  {
   "cell_type": "code",
   "execution_count": 15,
   "metadata": {},
   "outputs": [],
   "source": [
    "#Масштабируем численные признаки \n",
    "#'has_cr_card', 'is_active_member' - бинарные не берем\n",
    "\n",
    "num = ['credit_score', 'age', 'tenure', 'balance',\n",
    "       'num_of_products', 'estimated_salary', ] \n",
    "\n",
    "scaler = StandardScaler()\n",
    "features_train_scaled = pd.DataFrame(\n",
    "    scaler.fit_transform(features_train[num]),\n",
    "    columns=[num],\n",
    "    index=features_train.index)\n",
    "\n",
    "features_test_scaled = pd.DataFrame(\n",
    "    scaler.fit_transform(features_test[num]),\n",
    "    columns=[num],\n",
    "    index=features_test.index)"
   ]
  },
  {
   "cell_type": "markdown",
   "metadata": {},
   "source": [
    "__________________________\n",
    "### Прямое кодирование."
   ]
  },
  {
   "cell_type": "markdown",
   "metadata": {},
   "source": [
    "Кодируем категориальные признаки мы после разделения на сэмплы, так мы избежим утечки данных.\n",
    "\n",
    "Преобразовывать категориальные признаки в численные мы будем техникой `OHE`, по сравнению с `get_dummies` она позоволяет избежать ряд ошибок при обучении моделей и больше подходит для ML, в том числе может работать с неизвестными ранее уровнями категорий, которых не было изначально.\n"
   ]
  },
  {
   "cell_type": "code",
   "execution_count": 16,
   "metadata": {},
   "outputs": [],
   "source": [
    "cat = ['geography', 'gender'] \n",
    "\n",
    "enc = OneHotEncoder(handle_unknown='error', drop='first')\n",
    "\n",
    "features_train_ohe = enc.fit_transform(features_train[cat])\n",
    "features_test_ohe = enc.transform(features_test[cat])"
   ]
  },
  {
   "cell_type": "markdown",
   "metadata": {},
   "source": [
    "_____________\n",
    "**Объединяем масштабированные количественные и категориальные закодированные признаки в единую выборку:**"
   ]
  },
  {
   "cell_type": "code",
   "execution_count": 17,
   "metadata": {
    "scrolled": false
   },
   "outputs": [
    {
     "data": {
      "text/html": [
       "<div>\n",
       "<style scoped>\n",
       "    .dataframe tbody tr th:only-of-type {\n",
       "        vertical-align: middle;\n",
       "    }\n",
       "\n",
       "    .dataframe tbody tr th {\n",
       "        vertical-align: top;\n",
       "    }\n",
       "\n",
       "    .dataframe thead th {\n",
       "        text-align: right;\n",
       "    }\n",
       "</style>\n",
       "<table border=\"1\" class=\"dataframe\">\n",
       "  <thead>\n",
       "    <tr style=\"text-align: right;\">\n",
       "      <th></th>\n",
       "      <th>(credit_score,)</th>\n",
       "      <th>(age,)</th>\n",
       "      <th>(tenure,)</th>\n",
       "      <th>(balance,)</th>\n",
       "      <th>(num_of_products,)</th>\n",
       "      <th>(estimated_salary,)</th>\n",
       "      <th>0</th>\n",
       "      <th>1</th>\n",
       "      <th>2</th>\n",
       "    </tr>\n",
       "  </thead>\n",
       "  <tbody>\n",
       "    <tr>\n",
       "      <th>3376</th>\n",
       "      <td>-0.061427</td>\n",
       "      <td>0.106098</td>\n",
       "      <td>-0.366396</td>\n",
       "      <td>0.010530</td>\n",
       "      <td>0.805878</td>\n",
       "      <td>0.267707</td>\n",
       "      <td>1.0</td>\n",
       "      <td>0.0</td>\n",
       "      <td>0.0</td>\n",
       "    </tr>\n",
       "    <tr>\n",
       "      <th>1315</th>\n",
       "      <td>-0.443298</td>\n",
       "      <td>-1.139433</td>\n",
       "      <td>-0.002244</td>\n",
       "      <td>0.388533</td>\n",
       "      <td>-0.911497</td>\n",
       "      <td>-1.612531</td>\n",
       "      <td>0.0</td>\n",
       "      <td>1.0</td>\n",
       "      <td>0.0</td>\n",
       "    </tr>\n",
       "    <tr>\n",
       "      <th>2552</th>\n",
       "      <td>-0.525865</td>\n",
       "      <td>0.680958</td>\n",
       "      <td>0.726061</td>\n",
       "      <td>0.082043</td>\n",
       "      <td>0.805878</td>\n",
       "      <td>-0.297533</td>\n",
       "      <td>0.0</td>\n",
       "      <td>1.0</td>\n",
       "      <td>0.0</td>\n",
       "    </tr>\n",
       "    <tr>\n",
       "      <th>511</th>\n",
       "      <td>-0.185277</td>\n",
       "      <td>-0.085522</td>\n",
       "      <td>0.361909</td>\n",
       "      <td>0.159218</td>\n",
       "      <td>0.805878</td>\n",
       "      <td>-0.040122</td>\n",
       "      <td>1.0</td>\n",
       "      <td>0.0</td>\n",
       "      <td>0.0</td>\n",
       "    </tr>\n",
       "    <tr>\n",
       "      <th>1888</th>\n",
       "      <td>-2.280406</td>\n",
       "      <td>2.022299</td>\n",
       "      <td>0.726061</td>\n",
       "      <td>-1.224906</td>\n",
       "      <td>0.805878</td>\n",
       "      <td>1.100176</td>\n",
       "      <td>0.0</td>\n",
       "      <td>0.0</td>\n",
       "      <td>1.0</td>\n",
       "    </tr>\n",
       "  </tbody>\n",
       "</table>\n",
       "</div>"
      ],
      "text/plain": [
       "      (credit_score,)    (age,)  (tenure,)  (balance,)  (num_of_products,)  \\\n",
       "3376        -0.061427  0.106098  -0.366396    0.010530            0.805878   \n",
       "1315        -0.443298 -1.139433  -0.002244    0.388533           -0.911497   \n",
       "2552        -0.525865  0.680958   0.726061    0.082043            0.805878   \n",
       "511         -0.185277 -0.085522   0.361909    0.159218            0.805878   \n",
       "1888        -2.280406  2.022299   0.726061   -1.224906            0.805878   \n",
       "\n",
       "      (estimated_salary,)    0    1    2  \n",
       "3376             0.267707  1.0  0.0  0.0  \n",
       "1315            -1.612531  0.0  1.0  0.0  \n",
       "2552            -0.297533  0.0  1.0  0.0  \n",
       "511             -0.040122  1.0  0.0  0.0  \n",
       "1888             1.100176  0.0  0.0  1.0  "
      ]
     },
     "metadata": {},
     "output_type": "display_data"
    },
    {
     "name": "stdout",
     "output_type": "stream",
     "text": [
      "\n",
      "Размер обучающей выборки: (8000, 9)\n",
      "Размер тестовой выборки: (2000, 9)\n"
     ]
    }
   ],
   "source": [
    "features_train_lr = pd.concat(\n",
    "    [features_train_scaled,\n",
    "    pd.DataFrame(features_train_ohe.toarray(), index=features_train.index)], \n",
    "    axis=1\n",
    ")\n",
    "features_test_lr = pd.concat(\n",
    "    [features_test_scaled,\n",
    "    pd.DataFrame(features_test_ohe.toarray(), index=features_test.index)], \n",
    "    axis=1\n",
    ")\n",
    "display(features_train_lr.head())\n",
    "print()\n",
    "print('Размер обучающей выборки:',features_train_lr.shape)\n",
    "print('Размер тестовой выборки:',features_test_lr.shape)\n"
   ]
  },
  {
   "cell_type": "markdown",
   "metadata": {},
   "source": [
    "______\n",
    "### **Вывод блока:**\n",
    "\n",
    "______"
   ]
  },
  {
   "cell_type": "markdown",
   "metadata": {},
   "source": [
    "- Общее количество строк в таблице 10000 и 14 столбцов.\n",
    "- Значения имеют разный тип данных `int` и `float`, `object`.\n",
    "* Изменены названия 7 столбцов.\n",
    "* Дубликатов не обнаружено.\n",
    "* В столбце `tenor` пропуски заменены медианным значением.\n",
    "\n",
    "* Данные разделены на 2 выбокри: тестовую и обучающую в соотношении *4:1* или *80% : 20%*\n",
    "* фич импортанс - \n",
    "* Стандартизировали данные, масштабировав  численные признаки.\n",
    "* Осуществили прямое кодирование категориальных признаков.\n",
    "* Объединили обработанные `features` в единую таблицу.\n"
   ]
  },
  {
   "cell_type": "markdown",
   "metadata": {},
   "source": [
    "_____________\n",
    "\n",
    "## *Исследование задачи.*"
   ]
  },
  {
   "cell_type": "markdown",
   "metadata": {},
   "source": [
    "_____________\n",
    "### *Дерево решений.*"
   ]
  },
  {
   "cell_type": "markdown",
   "metadata": {},
   "source": [
    "_____________\n",
    "#### Подбор гиперпараметров."
   ]
  },
  {
   "cell_type": "code",
   "execution_count": 18,
   "metadata": {
    "scrolled": false
   },
   "outputs": [
    {
     "name": "stdout",
     "output_type": "stream",
     "text": [
      "F1: 0.5065\n",
      "AUC-ROC: 0.6906\n",
      "max_depth    11\n",
      "dtype: int64\n",
      "CPU times: user 1.22 s, sys: 0 ns, total: 1.22 s\n",
      "Wall time: 1.25 s\n"
     ]
    }
   ],
   "source": [
    "%%time\n",
    "model = DecisionTreeClassifier(random_state=SEED)  \n",
    "random_state = np.random.RandomState(SEED)\n",
    "parameters = {'max_depth': range (1,120)}\n",
    "metrics = ['f1', 'roc_auc']    \n",
    "\n",
    "search = RandomizedSearchCV(\n",
    "    model,\n",
    "    parameters,\n",
    "    cv=4,\n",
    "    scoring=metrics,\n",
    "    refit='f1',\n",
    "    random_state=random_state,\n",
    ")  \n",
    "search.fit(features_train_lr, target_train) \n",
    "results = search.cv_results_\n",
    "\n",
    "print('F1:', '%.4f' %search.best_score_) \n",
    "print('AUC-ROC:', '%.4f' %results['mean_test_roc_auc'].mean()) \n",
    "print(pd.Series(search.best_params_))"
   ]
  },
  {
   "cell_type": "markdown",
   "metadata": {},
   "source": [
    "#### Обучение модели DecisionTreeClassifier без учета дисбаланса"
   ]
  },
  {
   "cell_type": "code",
   "execution_count": 19,
   "metadata": {},
   "outputs": [
    {
     "name": "stdout",
     "output_type": "stream",
     "text": [
      "F1 дерева решений : \n",
      " 0.5679347826086957\n",
      "ROC_AUC дерева решений : \n",
      " 0.774350621808249\n",
      "CPU times: user 36.3 ms, sys: 47 µs, total: 36.3 ms\n",
      "Wall time: 34.3 ms\n"
     ]
    }
   ],
   "source": [
    "%%time\n",
    "model_tree = DecisionTreeClassifier(\n",
    "    max_depth=11,\n",
    "    random_state=random_state)\n",
    "model_tree.fit(features_train_lr, target_train)\n",
    "predictions_test = model_tree.predict(features_test_lr)\n",
    "print('F1 дерева решений :', '\\n', f1_score(target_test, predictions_test))\n",
    "\n",
    "probabilities_test = model_tree.predict_proba(features_test_lr)\n",
    "probabilities_test_tree = probabilities_test[:, 1]\n",
    "roc_auc_11 = roc_auc_score(\n",
    "    target_test,\n",
    "    probabilities_test_tree)\n",
    "print(\"ROC_AUC дерева решений :\", '\\n', roc_auc_11)"
   ]
  },
  {
   "cell_type": "markdown",
   "metadata": {},
   "source": [
    "_____________\n",
    "#### **Промежуточный вывод:**"
   ]
  },
  {
   "cell_type": "markdown",
   "metadata": {},
   "source": [
    "* Исследовано 119 значений гиперпараметров.\n",
    "* Обучена модель на обучающем наборе без учета дисбаланса.\n",
    "* Получена оценка качества.\n",
    "* Перебор гиперпараметров осуществляется с помощью RandomizedSearchCV.\n",
    "\n",
    "__________________\n"
   ]
  },
  {
   "cell_type": "markdown",
   "metadata": {},
   "source": [
    "_____________\n",
    "### *Случайный лес.*"
   ]
  },
  {
   "cell_type": "markdown",
   "metadata": {},
   "source": [
    "_____________\n",
    "#### Подбор гиперпараметров:"
   ]
  },
  {
   "cell_type": "code",
   "execution_count": 20,
   "metadata": {},
   "outputs": [
    {
     "name": "stdout",
     "output_type": "stream",
     "text": [
      "F1: 0.5329\n",
      "AUC-ROC: 0.8325\n",
      "n_estimators    85\n",
      "max_depth       12\n",
      "dtype: int64\n",
      "CPU times: user 16.9 s, sys: 63.9 ms, total: 17 s\n",
      "Wall time: 17 s\n"
     ]
    }
   ],
   "source": [
    "%%time\n",
    "model = RandomForestClassifier(random_state=random_state)  \n",
    "parameters = {\n",
    "    'n_estimators': range(50, 121, 5),\n",
    "    'max_depth': range(2, 15), \n",
    "}\n",
    "metrics = ['f1', 'roc_auc']    \n",
    "\n",
    "search = RandomizedSearchCV(\n",
    "    model,\n",
    "    parameters,\n",
    "    cv=4,\n",
    "    scoring=metrics,\n",
    "    refit='f1',\n",
    "    random_state=random_state,\n",
    ") \n",
    "search.fit(features_train_lr, target_train) \n",
    "results = search.cv_results_\n",
    "\n",
    "print('F1:', '%.4f' %search.best_score_) \n",
    "print('AUC-ROC:', '%.4f' %results['mean_test_roc_auc'].mean()) \n",
    "print(pd.Series(search.best_params_))"
   ]
  },
  {
   "cell_type": "markdown",
   "metadata": {},
   "source": [
    "#### Обучение модели RandomForestClassifier без учета дисбаланса"
   ]
  },
  {
   "cell_type": "code",
   "execution_count": 21,
   "metadata": {},
   "outputs": [
    {
     "name": "stdout",
     "output_type": "stream",
     "text": [
      "F1 случайного леса: \n",
      " 0.5710059171597632\n",
      "ROC_AUC случайного леса : \n",
      " 0.8622590232759726\n",
      "CPU times: user 703 ms, sys: 3.99 ms, total: 707 ms\n",
      "Wall time: 712 ms\n"
     ]
    }
   ],
   "source": [
    "%%time\n",
    "model_forest = RandomForestClassifier(\n",
    "    random_state=random_state,\n",
    "    n_estimators=85,\n",
    "    max_depth=12)\n",
    "model_forest.fit(features_train_lr, target_train)\n",
    "predictions_test = model_forest.predict(features_test_lr)\n",
    "print('F1 случайного леса:', '\\n', f1_score(target_test, predictions_test))\n",
    "\n",
    "probabilities_test = model_forest.predict_proba(features_test_lr)\n",
    "probabilities_test_forest = probabilities_test[:, 1]\n",
    "roc_auc_2 = roc_auc_score(\n",
    "    target_test,\n",
    "    probabilities_test_forest)\n",
    "print(\"ROC_AUC случайного леса :\", '\\n', roc_auc_2) "
   ]
  },
  {
   "cell_type": "markdown",
   "metadata": {},
   "source": [
    "_____________\n",
    "#### **Промежуточный вывод:**"
   ]
  },
  {
   "cell_type": "markdown",
   "metadata": {},
   "source": [
    " **Случайный лес:**\n",
    "* Изучены гиперпараметры количества деревьев и максимальной глубины.\n",
    "* Обучена модель на обучающем наборе без учета дисбаланса.\n",
    "* Получена оценка качества.\n",
    "* Перебор гиперпараметров осуществляется с помощью RandomizedSearchCV.\n",
    "\n",
    "_________________"
   ]
  },
  {
   "cell_type": "markdown",
   "metadata": {},
   "source": [
    "### *Логистическая регрессия.*"
   ]
  },
  {
   "cell_type": "markdown",
   "metadata": {},
   "source": [
    "_____________\n",
    "#### Подбор гиперпараметров:"
   ]
  },
  {
   "cell_type": "code",
   "execution_count": 22,
   "metadata": {},
   "outputs": [
    {
     "name": "stdout",
     "output_type": "stream",
     "text": [
      "F1: 0.1910\n",
      "AUC-ROC: 0.7426\n",
      "max_iter    720\n",
      "dtype: int64\n",
      "CPU times: user 10.7 s, sys: 15.5 s, total: 26.2 s\n",
      "Wall time: 26.2 s\n"
     ]
    }
   ],
   "source": [
    "%%time\n",
    "model = LogisticRegression(random_state=random_state)  \n",
    "parameters = {\n",
    "    'max_iter': range(10, 1000, 10),\n",
    "}\n",
    "metrics = ['f1', 'roc_auc']    \n",
    "\n",
    "search = RandomizedSearchCV(\n",
    "    model,\n",
    "    parameters,\n",
    "    cv=4,\n",
    "    scoring=metrics,\n",
    "    refit='f1',\n",
    "    random_state=random_state,\n",
    ") \n",
    "search.fit(features_train_lr, target_train) \n",
    "results = search.cv_results_\n",
    "\n",
    "print('F1:', '%.4f' %search.best_score_) \n",
    "print('AUC-ROC:', '%.4f' %results['mean_test_roc_auc'].mean()) \n",
    "print(pd.Series(search.best_params_))"
   ]
  },
  {
   "cell_type": "markdown",
   "metadata": {},
   "source": [
    "#### Обучение модели LogisticRegression без учета дисбаланса"
   ]
  },
  {
   "cell_type": "code",
   "execution_count": 23,
   "metadata": {},
   "outputs": [
    {
     "name": "stdout",
     "output_type": "stream",
     "text": [
      "F1 логистической регрессии: \n",
      " 0.16666666666666666\n",
      "ROC_AUC логистической регрессии : \n",
      " 0.7727172472935185\n",
      "CPU times: user 64.1 ms, sys: 38 ms, total: 102 ms\n",
      "Wall time: 110 ms\n"
     ]
    }
   ],
   "source": [
    "%%time\n",
    "model_lr = LogisticRegression(\n",
    "    random_state=random_state,\n",
    "    solver='liblinear',\n",
    "    max_iter=720)\n",
    "model_lr.fit(features_train_lr, target_train)\n",
    "predictions_test = model_lr.predict(features_test_lr)\n",
    "print('F1 логистической регрессии:', '\\n', f1_score(target_test, predictions_test))\n",
    "\n",
    "probabilities_test = model_lr.predict_proba(features_test_lr)\n",
    "probabilities_test_lr = probabilities_test[:, 1]\n",
    "roc_auc_3 = roc_auc_score(\n",
    "    target_test,\n",
    "    probabilities_test_lr)\n",
    "print(\"ROC_AUC логистической регрессии :\", '\\n', roc_auc_3) "
   ]
  },
  {
   "cell_type": "markdown",
   "metadata": {},
   "source": [
    "_____________\n",
    "#### **Промежуточный вывод:**"
   ]
  },
  {
   "cell_type": "markdown",
   "metadata": {},
   "source": [
    " **Логистическая регрессия:**\n",
    "* Проработано 999 значений гиперпараметров.\n",
    "* Обучена модель на обучающем наборе без учета дисбаланса.\n",
    "* Получена оценка качества.\n",
    "* Перебор гиперпараметров осуществляется с помощью RandomizedSearchCV.\n",
    "_________"
   ]
  },
  {
   "cell_type": "markdown",
   "metadata": {},
   "source": [
    "_____________\n",
    "### *Дисбаланс классов.*"
   ]
  },
  {
   "cell_type": "markdown",
   "metadata": {},
   "source": [
    "Протестируем разные модели, присвоив вес классам, указав параметр аргумента - `class_weight='balanced'` и downsampling, посмотрим их метрики `F1` и `AUC_ROC`, выявим лучшую и поймем, какая техника работает лучше."
   ]
  },
  {
   "cell_type": "markdown",
   "metadata": {},
   "source": [
    "_______\n",
    "#### Подсчёт классов в целевом признаке `exited`:"
   ]
  },
  {
   "cell_type": "code",
   "execution_count": 24,
   "metadata": {},
   "outputs": [
    {
     "name": "stdout",
     "output_type": "stream",
     "text": [
      "0    0.7963\n",
      "1    0.2037\n",
      "Name: exited, dtype: float64\n"
     ]
    },
    {
     "data": {
      "text/plain": [
       "<AxesSubplot:>"
      ]
     },
     "execution_count": 24,
     "metadata": {},
     "output_type": "execute_result"
    },
    {
     "data": {
      "image/png": "[encoded data removed]",
      "text/plain": [
       "<Figure size 432x288 with 1 Axes>"
      ]
     },
     "metadata": {
      "needs_background": "light"
     },
     "output_type": "display_data"
    }
   ],
   "source": [
    "class_frequency = data['exited'].value_counts(normalize=True)\n",
    "print(class_frequency.head())\n",
    "class_frequency.plot(kind='bar')"
   ]
  },
  {
   "cell_type": "markdown",
   "metadata": {},
   "source": [
    "Наблюдаем большую разницу в классах."
   ]
  },
  {
   "cell_type": "markdown",
   "metadata": {},
   "source": [
    "_____\n",
    "**Upsampling данных:**"
   ]
  },
  {
   "cell_type": "code",
   "execution_count": 25,
   "metadata": {},
   "outputs": [
    {
     "name": "stdout",
     "output_type": "stream",
     "text": [
      "(8000, 9)\n",
      "(8000,)\n"
     ]
    }
   ],
   "source": [
    "def upsample(features, target, repeat):\n",
    "    features_zeros = features[target == 0]\n",
    "    features_ones = features[target == 1]\n",
    "    target_zeros = target[target == 0]\n",
    "    target_ones = target[target == 1]\n",
    "\n",
    "    features_upsampled = pd.concat([features_zeros] + [features_ones] * repeat)\n",
    "    target_upsampled = pd.concat([target_zeros] + [target_ones] * repeat)\n",
    "    \n",
    "    features_upsampled, target_upsampled = shuffle(\n",
    "        features_upsampled, target_upsampled, random_state=random_state)\n",
    "    \n",
    "    return features_upsampled, target_upsampled\n",
    "\n",
    "features_train_up, target_train_up = upsample(features_train_lr, target_train, 4) #перезаписываю в существующие переменные, новые (features_upsampled,...) создавать не буду\n",
    "print(features_train_lr.shape)\n",
    "print(target_train.shape)"
   ]
  },
  {
   "cell_type": "markdown",
   "metadata": {},
   "source": [
    "______\n",
    "#### DecisionTreeClassifier c параметром `class_weight='balanced'`:"
   ]
  },
  {
   "cell_type": "markdown",
   "metadata": {},
   "source": [
    "**Подбор гиперпараметров:**"
   ]
  },
  {
   "cell_type": "code",
   "execution_count": 26,
   "metadata": {},
   "outputs": [
    {
     "name": "stdout",
     "output_type": "stream",
     "text": [
      "F1: 0.5588\n",
      "AUC-ROC: 0.7485\n",
      "max_depth    6\n",
      "dtype: int64\n",
      "CPU times: user 950 ms, sys: 0 ns, total: 950 ms\n",
      "Wall time: 963 ms\n"
     ]
    }
   ],
   "source": [
    "%%time\n",
    "model = DecisionTreeClassifier(\n",
    "    random_state=random_state,\n",
    "    class_weight='balanced')  \n",
    "random_state = np.random.RandomState(SEED)\n",
    "parameters = {'max_depth': range (1, 15)}\n",
    "metrics = ['f1', 'roc_auc']    \n",
    "\n",
    "search = RandomizedSearchCV(\n",
    "    model,\n",
    "    parameters,\n",
    "    cv=4,\n",
    "    scoring=metrics,\n",
    "    refit='f1',\n",
    "    random_state=random_state,\n",
    ")  \n",
    "search.fit(features_train_lr, target_train) \n",
    "results = search.cv_results_\n",
    "\n",
    "print('F1:', '%.4f' %search.best_score_) \n",
    "print('AUC-ROC:', '%.4f' %results['mean_test_roc_auc'].mean()) \n",
    "print(pd.Series(search.best_params_))"
   ]
  },
  {
   "cell_type": "code",
   "execution_count": 27,
   "metadata": {},
   "outputs": [
    {
     "name": "stdout",
     "output_type": "stream",
     "text": [
      "F1 дерева решений : \n",
      " 0.5824175824175823\n",
      "ROC_AUC дерева решений : \n",
      " 0.8466710161625416\n",
      "CPU times: user 25.3 ms, sys: 491 µs, total: 25.8 ms\n",
      "Wall time: 24.1 ms\n"
     ]
    }
   ],
   "source": [
    "%%time\n",
    "model_tree_c = DecisionTreeClassifier(\n",
    "    max_depth=6,\n",
    "    random_state=random_state,\n",
    "    class_weight='balanced',\n",
    ")\n",
    "model_tree_c.fit(features_train_lr, target_train)\n",
    "predictions_test = model_tree_c.predict(features_test_lr)\n",
    "print('F1 дерева решений :', '\\n', f1_score(target_test, predictions_test))\n",
    "\n",
    "probabilities_test = model_tree_c.predict_proba(features_test_lr)\n",
    "probabilities_test_tree = probabilities_test[:, 1]\n",
    "roc_auc_c = roc_auc_score(\n",
    "    target_test,\n",
    "    probabilities_test_tree)\n",
    "print(\"ROC_AUC дерева решений :\", '\\n', roc_auc_c)"
   ]
  },
  {
   "cell_type": "markdown",
   "metadata": {},
   "source": [
    "______\n",
    "#### RandomForestClassifier c параметром `class_weight='balanced'`:"
   ]
  },
  {
   "cell_type": "markdown",
   "metadata": {},
   "source": [
    "**Подбор гиперпараметров:**"
   ]
  },
  {
   "cell_type": "code",
   "execution_count": 28,
   "metadata": {},
   "outputs": [
    {
     "name": "stdout",
     "output_type": "stream",
     "text": [
      "F1: 0.5890\n",
      "AUC-ROC: 0.8361\n",
      "n_estimators    95\n",
      "max_depth        7\n",
      "dtype: int64\n",
      "CPU times: user 16.1 s, sys: 18.7 ms, total: 16.1 s\n",
      "Wall time: 16.1 s\n"
     ]
    }
   ],
   "source": [
    "%%time\n",
    "model = RandomForestClassifier(\n",
    "    random_state=random_state,\n",
    "    class_weight='balanced')  \n",
    "parameters = {\n",
    "    'n_estimators': range(50, 121, 5),\n",
    "    'max_depth': range(2, 15), \n",
    "}\n",
    "metrics = ['f1', 'roc_auc']    \n",
    "\n",
    "search = RandomizedSearchCV(\n",
    "    model,\n",
    "    parameters,\n",
    "    cv=4,\n",
    "    scoring=metrics,\n",
    "    refit='f1',\n",
    "    random_state=random_state,\n",
    ") \n",
    "search.fit(features_train_lr, target_train) \n",
    "results = search.cv_results_\n",
    "\n",
    "print('F1:', '%.4f' %search.best_score_) \n",
    "print('AUC-ROC:', '%.4f' %results['mean_test_roc_auc'].mean()) \n",
    "print(pd.Series(search.best_params_))"
   ]
  },
  {
   "cell_type": "code",
   "execution_count": 29,
   "metadata": {},
   "outputs": [
    {
     "name": "stdout",
     "output_type": "stream",
     "text": [
      "F1 случайного леса: \n",
      " 0.6097087378640776\n",
      "ROC_AUC случайного леса : \n",
      " 0.8606063690809456\n",
      "CPU times: user 555 ms, sys: 0 ns, total: 555 ms\n",
      "Wall time: 561 ms\n"
     ]
    }
   ],
   "source": [
    "%%time\n",
    "model_forest_c = RandomForestClassifier(\n",
    "    random_state=random_state,\n",
    "    n_estimators=95,\n",
    "    max_depth=7,\n",
    "    class_weight='balanced',\n",
    ")\n",
    "model_forest_c.fit(features_train_lr, target_train)\n",
    "predictions_test = model_forest_c.predict(features_test_lr)\n",
    "print('F1 случайного леса:', '\\n', f1_score(target_test, predictions_test))\n",
    "\n",
    "probabilities_test = model_forest_c.predict_proba(features_test_lr)\n",
    "probabilities_test_forest = probabilities_test[:, 1]\n",
    "roc_auc_2c = roc_auc_score(\n",
    "    target_test,\n",
    "    probabilities_test_forest)\n",
    "print(\"ROC_AUC случайного леса :\", '\\n', roc_auc_2c) "
   ]
  },
  {
   "cell_type": "markdown",
   "metadata": {},
   "source": [
    "______\n",
    "#### LogisticRegression c параметром `class_weight='balanced'`:"
   ]
  },
  {
   "cell_type": "markdown",
   "metadata": {},
   "source": [
    "**Подбор гиперпараметров:**"
   ]
  },
  {
   "cell_type": "code",
   "execution_count": 30,
   "metadata": {},
   "outputs": [
    {
     "name": "stdout",
     "output_type": "stream",
     "text": [
      "F1: 0.4851\n",
      "AUC-ROC: 0.7474\n",
      "max_iter    980\n",
      "dtype: int64\n",
      "CPU times: user 6.37 s, sys: 7.65 s, total: 14 s\n",
      "Wall time: 14 s\n"
     ]
    }
   ],
   "source": [
    "%%time\n",
    "model = LogisticRegression(\n",
    "    random_state=random_state,\n",
    "    class_weight='balanced')  \n",
    "parameters = {\n",
    "    'max_iter': range(10, 1000, 10),\n",
    "}\n",
    "metrics = ['f1', 'roc_auc']    \n",
    "\n",
    "search = RandomizedSearchCV(\n",
    "    model,\n",
    "    parameters,\n",
    "    cv=4,\n",
    "    scoring=metrics,\n",
    "    refit='f1',\n",
    "    random_state=random_state,\n",
    ") \n",
    "search.fit(features_train_lr, target_train) \n",
    "results = search.cv_results_\n",
    "\n",
    "print('F1:', '%.4f' %search.best_score_) \n",
    "print('AUC-ROC:', '%.4f' %results['mean_test_roc_auc'].mean()) \n",
    "print(pd.Series(search.best_params_))"
   ]
  },
  {
   "cell_type": "code",
   "execution_count": 31,
   "metadata": {},
   "outputs": [
    {
     "name": "stdout",
     "output_type": "stream",
     "text": [
      "F1 логистической регрессии: \n",
      " 0.5034965034965034\n",
      "ROC_AUC логистической регрессии : \n",
      " 0.7766317935809461\n",
      "CPU times: user 61.4 ms, sys: 61.1 ms, total: 122 ms\n",
      "Wall time: 112 ms\n"
     ]
    }
   ],
   "source": [
    "%%time\n",
    "model_lr_c = LogisticRegression(\n",
    "    random_state=random_state,\n",
    "    solver='liblinear',\n",
    "    max_iter=980,\n",
    "    class_weight='balanced',\n",
    ")\n",
    "model_lr_c.fit(features_train_lr, target_train)\n",
    "predictions_test = model_lr_c.predict(features_test_lr)\n",
    "print('F1 логистической регрессии:', '\\n', f1_score(target_test, predictions_test))\n",
    "\n",
    "probabilities_test = model_lr_c.predict_proba(features_test_lr)\n",
    "probabilities_test_lr = probabilities_test[:, 1]\n",
    "roc_auc_3c = roc_auc_score(\n",
    "    target_test,\n",
    "    probabilities_test_lr)\n",
    "print(\"ROC_AUC логистической регрессии :\", '\\n', roc_auc_3c)"
   ]
  },
  {
   "cell_type": "markdown",
   "metadata": {},
   "source": [
    "_____\n",
    "#### **Промежуточный вывод:**"
   ]
  },
  {
   "cell_type": "markdown",
   "metadata": {},
   "source": [
    "* Метрики DecisionTreeClassifier c параметром:\n",
    "\n",
    "  - F1 дерева решений : `0.47401774397972113`\n",
    "  - ROC_AUC дерева решений : `0.6685244566600499`\n",
    "\n",
    "\n",
    "* Метрики RandomForestClassifier c параметром:\n",
    "\n",
    "  - F1 случайного леса: `0.6097087378640776`\n",
    "  - ROC_AUC случайного леса : `0.8585210788600619`\n",
    "\n",
    "* Метрики LogisticRegression c параметром:\n",
    "\n",
    "  - F1 логистической регрессии: ` 0.503056768558952`\n",
    "  - ROC_AUC логистической регрессии: ` 0.7766256240832512`\n",
    "\n",
    "**Лучшие результаты у случайного леса**"
   ]
  },
  {
   "cell_type": "markdown",
   "metadata": {},
   "source": [
    "______\n",
    "**Downsampling данных:**"
   ]
  },
  {
   "cell_type": "code",
   "execution_count": 32,
   "metadata": {},
   "outputs": [
    {
     "name": "stdout",
     "output_type": "stream",
     "text": [
      "(2904, 9)\n",
      "(2904,)\n"
     ]
    }
   ],
   "source": [
    "def downsample(features, target, fraction):\n",
    "    features_zeros = features[target == 0]\n",
    "    features_ones = features[target == 1]\n",
    "    target_zeros = target[target == 0]\n",
    "    target_ones = target[target == 1]\n",
    "\n",
    "    features_downsampled = pd.concat(\n",
    "        [features_zeros.sample(frac=fraction, random_state=random_state)] + [features_ones])\n",
    "    target_downsampled = pd.concat(\n",
    "        [target_zeros.sample(frac=fraction, random_state=random_state)] + [target_ones])\n",
    "    \n",
    "    features_downsampled, target_downsampled = shuffle(\n",
    "        features_downsampled, target_downsampled, random_state=random_state)\n",
    "    \n",
    "    return features_downsampled, target_downsampled\n",
    "\n",
    "features_downsampled, target_downsampled = downsample(features_train_lr, target_train, 0.2)\n",
    "print(features_downsampled.shape)\n",
    "print(target_downsampled.shape)"
   ]
  },
  {
   "cell_type": "markdown",
   "metadata": {},
   "source": [
    "______\n",
    "#### DecisionTreeClassifier для уменьшенной выборки:"
   ]
  },
  {
   "cell_type": "markdown",
   "metadata": {},
   "source": [
    "**Подбор гиперпараметров:**"
   ]
  },
  {
   "cell_type": "code",
   "execution_count": 33,
   "metadata": {},
   "outputs": [
    {
     "name": "stdout",
     "output_type": "stream",
     "text": [
      "F1: 0.7978\n",
      "AUC-ROC: 0.7510\n",
      "max_depth    5\n",
      "dtype: int64\n",
      "CPU times: user 492 ms, sys: 0 ns, total: 492 ms\n",
      "Wall time: 505 ms\n"
     ]
    }
   ],
   "source": [
    "%%time\n",
    "model = DecisionTreeClassifier(\n",
    "    random_state=random_state)  \n",
    "random_state = np.random.RandomState(SEED)\n",
    "parameters = {'max_depth': range (1, 15)}\n",
    "metrics = ['f1', 'roc_auc']    \n",
    "\n",
    "search = RandomizedSearchCV(\n",
    "    model,\n",
    "    parameters,\n",
    "    cv=4,\n",
    "    scoring=metrics,\n",
    "    refit='f1',\n",
    "    random_state=random_state,\n",
    ")  \n",
    "search.fit(features_downsampled, target_downsampled) \n",
    "results = search.cv_results_\n",
    "\n",
    "print('F1:', '%.4f' %search.best_score_) \n",
    "print('AUC-ROC:', '%.4f' %results['mean_test_roc_auc'].mean()) \n",
    "print(pd.Series(search.best_params_))"
   ]
  },
  {
   "cell_type": "code",
   "execution_count": 34,
   "metadata": {},
   "outputs": [
    {
     "name": "stdout",
     "output_type": "stream",
     "text": [
      "F1 дерева решений : \n",
      " 0.5327999999999999\n",
      "ROC_AUC дерева решений : \n",
      " 0.8466710161625416\n",
      "CPU times: user 17.1 ms, sys: 0 ns, total: 17.1 ms\n",
      "Wall time: 15.3 ms\n"
     ]
    }
   ],
   "source": [
    "%%time\n",
    "model_tree_d = DecisionTreeClassifier(\n",
    "    max_depth=5,\n",
    "    random_state=random_state,\n",
    ")\n",
    "model_tree_d.fit(features_downsampled, target_downsampled)\n",
    "predictions_test = model_tree_d.predict(features_test_lr)\n",
    "print('F1 дерева решений :', '\\n', f1_score(target_test, predictions_test))\n",
    "\n",
    "probabilities_test = model_tree_d.predict_proba(features_test_lr)\n",
    "probabilities_test_tree_d = probabilities_test[:, 1]\n",
    "roc_auc_1d = roc_auc_score(\n",
    "    target_test,\n",
    "    probabilities_test_tree)\n",
    "print(\"ROC_AUC дерева решений :\", '\\n', roc_auc_1d)"
   ]
  },
  {
   "cell_type": "markdown",
   "metadata": {},
   "source": [
    "______\n",
    "#### RandomForestClassifier для уменьшенной выборки:"
   ]
  },
  {
   "cell_type": "markdown",
   "metadata": {},
   "source": [
    "**Подбор гиперпараметров:**"
   ]
  },
  {
   "cell_type": "code",
   "execution_count": 35,
   "metadata": {},
   "outputs": [
    {
     "name": "stdout",
     "output_type": "stream",
     "text": [
      "F1: 0.8015\n",
      "AUC-ROC: 0.8444\n",
      "n_estimators    95\n",
      "max_depth        8\n",
      "dtype: int64\n",
      "CPU times: user 8.65 s, sys: 0 ns, total: 8.65 s\n",
      "Wall time: 8.8 s\n"
     ]
    }
   ],
   "source": [
    "%%time\n",
    "model = RandomForestClassifier(random_state=random_state)  \n",
    "parameters = {\n",
    "    'n_estimators': range(50, 121, 5),\n",
    "    'max_depth': range(2, 15), \n",
    "}\n",
    "metrics = ['f1', 'roc_auc']    \n",
    "\n",
    "search = RandomizedSearchCV(\n",
    "    model,\n",
    "    parameters,\n",
    "    cv=4,\n",
    "    scoring=metrics,\n",
    "    refit='f1',\n",
    "    random_state=random_state,\n",
    ") \n",
    "search.fit(features_downsampled, target_downsampled) \n",
    "results = search.cv_results_\n",
    "\n",
    "print('F1:', '%.4f' %search.best_score_) \n",
    "print('AUC-ROC:', '%.4f' %results['mean_test_roc_auc'].mean()) \n",
    "print(pd.Series(search.best_params_))"
   ]
  },
  {
   "cell_type": "code",
   "execution_count": 36,
   "metadata": {},
   "outputs": [
    {
     "name": "stdout",
     "output_type": "stream",
     "text": [
      "F1 случайного леса: \n",
      " 0.5576451349141456\n",
      "ROC_AUC случайного леса : \n",
      " 0.8567967042543313\n",
      "CPU times: user 336 ms, sys: 0 ns, total: 336 ms\n",
      "Wall time: 340 ms\n"
     ]
    }
   ],
   "source": [
    "%%time\n",
    "model_forest_d = RandomForestClassifier(\n",
    "    random_state=random_state,\n",
    "    n_estimators=95,\n",
    "    max_depth=8,\n",
    ")\n",
    "model_forest_d.fit(features_downsampled, target_downsampled)\n",
    "predictions_test = model_forest_d.predict(features_test_lr)\n",
    "print('F1 случайного леса:', '\\n', f1_score(target_test, predictions_test))\n",
    "\n",
    "probabilities_test = model_forest_d.predict_proba(features_test_lr)\n",
    "probabilities_test_forest = probabilities_test[:, 1]\n",
    "roc_auc_2d = roc_auc_score(\n",
    "    target_test,\n",
    "    probabilities_test_forest)\n",
    "print(\"ROC_AUC случайного леса :\", '\\n', roc_auc_2d) "
   ]
  },
  {
   "cell_type": "markdown",
   "metadata": {},
   "source": [
    "______\n",
    "#### LogisticRegression для уменьшенной выборки:"
   ]
  },
  {
   "cell_type": "markdown",
   "metadata": {},
   "source": [
    "**Подбор гиперпараметров:**"
   ]
  },
  {
   "cell_type": "code",
   "execution_count": 37,
   "metadata": {},
   "outputs": [
    {
     "name": "stdout",
     "output_type": "stream",
     "text": [
      "F1: 0.7491\n",
      "AUC-ROC: 0.7534\n",
      "max_iter    980\n",
      "dtype: int64\n",
      "CPU times: user 3.82 s, sys: 4.73 s, total: 8.55 s\n",
      "Wall time: 8.51 s\n"
     ]
    }
   ],
   "source": [
    "%%time\n",
    "model = LogisticRegression(random_state=random_state)  \n",
    "parameters = {\n",
    "    'max_iter': range(10, 1000, 10),\n",
    "}\n",
    "metrics = ['f1', 'roc_auc']    \n",
    "\n",
    "search = RandomizedSearchCV(\n",
    "    model,\n",
    "    parameters,\n",
    "    cv=4,\n",
    "    scoring=metrics,\n",
    "    refit='f1',\n",
    "    random_state=random_state,\n",
    ") \n",
    "search.fit(features_downsampled, target_downsampled) \n",
    "results = search.cv_results_\n",
    "\n",
    "print('F1:', '%.4f' %search.best_score_) \n",
    "print('AUC-ROC:', '%.4f' %results['mean_test_roc_auc'].mean()) \n",
    "print(pd.Series(search.best_params_))"
   ]
  },
  {
   "cell_type": "code",
   "execution_count": 38,
   "metadata": {},
   "outputs": [
    {
     "name": "stdout",
     "output_type": "stream",
     "text": [
      "F1 логистической регрессии: \n",
      " 0.49177877428998507\n",
      "ROC_AUC логистической регрессии : \n",
      " 0.7756724366893858\n",
      "CPU times: user 40.8 ms, sys: 47.8 ms, total: 88.5 ms\n",
      "Wall time: 17.6 ms\n"
     ]
    }
   ],
   "source": [
    "%%time\n",
    "model_lr = LogisticRegression(\n",
    "    random_state=random_state,\n",
    "    solver='liblinear',\n",
    "    max_iter=980,\n",
    ")\n",
    "model_lr.fit(features_downsampled, target_downsampled)\n",
    "predictions_test = model_lr.predict(features_test_lr)\n",
    "print('F1 логистической регрессии:', '\\n', f1_score(target_test, predictions_test))\n",
    "\n",
    "probabilities_test = model_lr.predict_proba(features_test_lr)\n",
    "probabilities_test_lr = probabilities_test[:, 1]\n",
    "roc_auc_3 = roc_auc_score(\n",
    "    target_test,\n",
    "    probabilities_test_lr)\n",
    "print(\"ROC_AUC логистической регрессии :\", '\\n', roc_auc_3)"
   ]
  },
  {
   "cell_type": "markdown",
   "metadata": {},
   "source": [
    "_____\n",
    "**Downsampling выводы:**"
   ]
  },
  {
   "cell_type": "markdown",
   "metadata": {},
   "source": [
    "* Метрики DecisionTreeClassifier на уменьшенной выборке:\n",
    "\n",
    "  - F1 дерева решений:  `0.48740861088545895`\n",
    "  - ROC_AUC дерева решений:  `0.6685244566600499`\n",
    "\n",
    "\n",
    "* Метрики RandomForestClassifier на уменьшенной выборке:\n",
    "  - F1 случайного леса: `0.480794701986755`\n",
    "  - ROC_AUC случайного леса:  `0.8383421942743977`\n",
    "\n",
    "* Метрики LogisticRegression на уменьшенной выборке:\n",
    "  - F1 логистической регрессии: `0.3533537921964051`\n",
    "  - ROC_AUC логистической регрессии: `0.7748071646376732`\n",
    "\n",
    "**Лучшие результаты у случайного леса**\n",
    "________"
   ]
  },
  {
   "cell_type": "markdown",
   "metadata": {},
   "source": [
    "______\n",
    "#### **Промежуточный вывод:**"
   ]
  },
  {
   "cell_type": "markdown",
   "metadata": {},
   "source": [
    "Сравнив результаты моделей без учета дисбаланса и при уменьшении выборки, и при указании параметра `class_weight='balanced'` выяснили, что:\n",
    "* Лучшее поведение наблюдается на сбалансированных данных с указанием параметра.\n",
    "* Лучшие результаты получились у модели случайного леса\n",
    "\n",
    "**Метрики RandomForestClassifier c параметром:**\n",
    "  - F1 случайного леса: `0.6147186147186148`\n",
    "  - ROC_AUC случайного леса : `0.859303062692893`\n",
    "\n",
    " "
   ]
  },
  {
   "cell_type": "markdown",
   "metadata": {},
   "source": [
    "___\n",
    "### **Вывод блока:**"
   ]
  },
  {
   "cell_type": "markdown",
   "metadata": {},
   "source": [
    "1. **Дерево решений:**\n",
    "* Исследовано 119 значений гиперпараметров\n",
    "* Обучена модель на обучающем наборе с учетом и без учета дисбаланса\n",
    "* Получена оценка качества на валидационном наборе\n",
    "* Перебор гиперпараметров осуществляется с помощью RandomizedSearchCV\n",
    "\n",
    "2. **Случайный лес:**\n",
    "* Изучены гиперпараметры количества деревьев и максимальной глубины.\n",
    "* Обучена модель на обучающем наборе с учетом и без учета дисбаланса.\n",
    "* Получена оценка качества на валидационном наборе.\n",
    "* Перебор гиперпараметров осуществляется с помощью RandomizedSearchCV.\n",
    "\n",
    "3.  **Логистическая регрессия:**\n",
    "* Проработано 999 значений гиперпараметров.\n",
    "* Обучена модель на обучающем наборе с учетом и без учета дисбаланса.\n",
    "* Получена оценка качества на валидационном наборе.\n",
    "* Перебор гиперпараметров осуществляется с помощью RandomizedSearchCV.\n",
    " _____\n",
    "\n",
    "* Для устранения дисбаланса использовали технику уменьшения выборок и прописывание параметра `class_weight='balanced'`.\n",
    "* Протестировав модели, изучив их `f1-меру` и `roc-auc`, сравнив с результатами моделей без учета дисбаланса, определили лучшие результаты у случайного леса при наличии параметра.\n",
    "**Метрики RandomForestClassifier c параметром:**\n",
    "\n",
    "  - F1 случайного леса: `0.6147186147186148`\n",
    "  - ROC_AUC случайного леса: `0.859303062692893`\n"
   ]
  },
  {
   "cell_type": "markdown",
   "metadata": {},
   "source": [
    "## *Тестирование модели.*"
   ]
  },
  {
   "cell_type": "code",
   "execution_count": 39,
   "metadata": {
    "scrolled": true
   },
   "outputs": [
    {
     "name": "stdout",
     "output_type": "stream",
     "text": [
      "F1 случайного леса на тестовой выборке: \n",
      " 0.6097087378640776\n",
      "ROC_AUC случайного леса на тестовой выборке: \n",
      " 0.8606063690809456\n",
      "CPU times: user 102 ms, sys: 15.6 ms, total: 117 ms\n",
      "Wall time: 173 ms\n"
     ]
    }
   ],
   "source": [
    "%%time\n",
    "last_test_predictions = model_forest_c.predict(features_test_lr)\n",
    "print(\"F1 случайного леса на тестовой выборке:\", '\\n', f1_score(target_test, last_test_predictions))\n",
    "\n",
    "probabilities_test = model_forest_c.predict_proba(features_test_lr)\n",
    "probabilities_test_forest = probabilities_test[:, 1]\n",
    "roc_auc_test = roc_auc_score(\n",
    "    target_test,\n",
    "    probabilities_test_forest)\n",
    "print(\"ROC_AUC случайного леса на тестовой выборке:\", '\\n', roc_auc_test)\n"
   ]
  },
  {
   "cell_type": "markdown",
   "metadata": {},
   "source": [
    "_____\n",
    "### **Вывод блока:**"
   ]
  },
  {
   "cell_type": "markdown",
   "metadata": {},
   "source": [
    "Проверяя модель - `Случайный лес` с `n_estimators=95` и `max_depth=12` на тестовой выборке  мы  вычислили, что:\n",
    "*  Целевая метрика качества составила: `0.6097087378640776`.\n",
    "________"
   ]
  },
  {
   "cell_type": "markdown",
   "metadata": {},
   "source": [
    "## **Общий вывод:**"
   ]
  },
  {
   "cell_type": "markdown",
   "metadata": {},
   "source": [
    "### Изучение данных:"
   ]
  },
  {
   "cell_type": "markdown",
   "metadata": {},
   "source": [
    "- Общее количество строк в таблице 10000 и 14 столбцов.\n",
    "- Значения имеют разный тип данных `int` и `float`, `object`.\n",
    "* Изменены названия 7 столбцов.\n",
    "* Дубликатов не обнаружено.\n",
    "* В столбце `tenor` пропуски заменены медианным значением.\n",
    "\n",
    "\n",
    "* Данные разделены на три выбокри: тестовую, обучающую, валидационную в соотношении *3:1:1* или *60% : 20% : 20%*\n",
    "* Стандартизировали данные, масштабировав  численные признаки.\n",
    "* Осуществили прямое кодирование категориальных признаков.\n",
    "* Объединили обработанные `features` в единую таблицу.\n",
    "\n",
    "\n",
    "* Для устранения дисбаланса использовали техники увеличения/уменьшения выборок.\n",
    "* Протестировав модели, изучив их `f1-меру` и `roc-auc`, определили лучшие результаты у случайного леса при downsampling’e.\n",
    "* Метрики RandomForestClassifier на уменьшенной выборке:\n",
    "  - F1: `0.5986394557823128`\n",
    "  - ROC_AUC: `0.8475204422469111`"
   ]
  },
  {
   "cell_type": "markdown",
   "metadata": {},
   "source": [
    "### Исследование задачи:"
   ]
  },
  {
   "cell_type": "markdown",
   "metadata": {},
   "source": [
    "1. **Дерево решений:**\n",
    "* Исследовано 119 значений гиперпараметров\n",
    "* Обучена модель на обучающем наборе с учетом и без учета дисбаланса\n",
    "* Получена оценка качества на валидационном наборе\n",
    "* Перебор гиперпараметров осуществляется с помощью RandomizedSearchCV\n",
    "\n",
    "2. **Случайный лес:**\n",
    "* Изучены гиперпараметры количества деревьев и максимальной глубины.\n",
    "* Обучена модель на обучающем наборе с учетом и без учета дисбаланса.\n",
    "* Получена оценка качества на валидационном наборе.\n",
    "* Перебор гиперпараметров осуществляется с помощью RandomizedSearchCV.\n",
    "\n",
    "3.  **Логистическая регрессия:**\n",
    "* Проработано 999 значений гиперпараметров.\n",
    "* Обучена модель на обучающем наборе с учетом и без учета дисбаланса.\n",
    "* Получена оценка качества на валидационном наборе.\n",
    "* Перебор гиперпараметров осуществляется с помощью RandomizedSearchCV."
   ]
  },
  {
   "cell_type": "markdown",
   "metadata": {},
   "source": [
    "### Тестирование модели:"
   ]
  },
  {
   "cell_type": "markdown",
   "metadata": {},
   "source": [
    "Проверяя модель - `Случайный лес` с `n_estimators=95` и `max_depth=12` на тестовой выборке  мы  вычислили, что:\n",
    "*  Целевая метрика качества составила: `0.6097087378640776`.\n",
    "\n",
    "Таким образом, поставленная задача, в достижении `F1 > 0.59` выполнена.\n",
    "___________"
   ]
  },
  {
   "cell_type": "markdown",
   "metadata": {},
   "source": [
    "*Рекомендации:*\n",
    "- По возможности уточнить откуда взялись пропуски и сделать несколько экспериментов, заполнив их разными способами.\n",
    "- В дальнейшем для уменьшения выборки можно использовать SMOTE, а также сделать полноценное исследование важности признаков."
   ]
  },
  {
   "cell_type": "markdown",
   "metadata": {},
   "source": [
    "__________"
   ]
  },
  {
   "cell_type": "code",
   "execution_count": null,
   "metadata": {},
   "outputs": [],
   "source": []
  }
 ],
 "metadata": {
  "ExecuteTimeLog": [
   {
    "duration": 371,
    "start_time": "2022-12-12T12:33:55.043Z"
   },
   {
    "duration": 162,
    "start_time": "2022-12-12T12:34:17.603Z"
   },
   {
    "duration": 44,
    "start_time": "2022-12-13T11:22:05.438Z"
   },
   {
    "duration": 359,
    "start_time": "2022-12-13T11:22:15.643Z"
   },
   {
    "duration": 107,
    "start_time": "2022-12-13T11:22:16.004Z"
   },
   {
    "duration": 11,
    "start_time": "2022-12-13T11:24:22.194Z"
   },
   {
    "duration": 39,
    "start_time": "2022-12-13T11:24:35.070Z"
   },
   {
    "duration": 6,
    "start_time": "2022-12-13T11:27:16.296Z"
   },
   {
    "duration": 45,
    "start_time": "2022-12-13T11:48:33.717Z"
   },
   {
    "duration": 7,
    "start_time": "2022-12-13T11:49:12.234Z"
   },
   {
    "duration": 9,
    "start_time": "2022-12-13T11:50:47.596Z"
   },
   {
    "duration": 13,
    "start_time": "2022-12-13T11:52:32.111Z"
   },
   {
    "duration": 12,
    "start_time": "2022-12-13T11:52:46.951Z"
   },
   {
    "duration": 10,
    "start_time": "2022-12-13T11:53:13.984Z"
   },
   {
    "duration": 2,
    "start_time": "2022-12-13T11:54:29.809Z"
   },
   {
    "duration": 383,
    "start_time": "2022-12-13T11:54:37.718Z"
   },
   {
    "duration": 56,
    "start_time": "2022-12-13T11:54:38.103Z"
   },
   {
    "duration": 12,
    "start_time": "2022-12-13T11:54:38.161Z"
   },
   {
    "duration": 38,
    "start_time": "2022-12-13T11:54:38.175Z"
   },
   {
    "duration": 6,
    "start_time": "2022-12-13T11:54:38.215Z"
   },
   {
    "duration": 10,
    "start_time": "2022-12-13T11:54:38.223Z"
   },
   {
    "duration": 6,
    "start_time": "2022-12-13T11:54:38.235Z"
   },
   {
    "duration": 15,
    "start_time": "2022-12-13T12:01:02.358Z"
   },
   {
    "duration": 5,
    "start_time": "2022-12-13T12:16:58.034Z"
   },
   {
    "duration": 7,
    "start_time": "2022-12-13T12:24:32.485Z"
   },
   {
    "duration": 396,
    "start_time": "2022-12-14T06:19:36.936Z"
   },
   {
    "duration": 54,
    "start_time": "2022-12-14T06:19:37.335Z"
   },
   {
    "duration": 13,
    "start_time": "2022-12-14T06:19:37.391Z"
   },
   {
    "duration": 51,
    "start_time": "2022-12-14T06:19:37.406Z"
   },
   {
    "duration": 7,
    "start_time": "2022-12-14T06:19:37.459Z"
   },
   {
    "duration": 28,
    "start_time": "2022-12-14T06:19:37.467Z"
   },
   {
    "duration": 25,
    "start_time": "2022-12-14T06:19:37.496Z"
   },
   {
    "duration": 29,
    "start_time": "2022-12-14T06:19:37.523Z"
   },
   {
    "duration": 16,
    "start_time": "2022-12-14T06:19:37.553Z"
   },
   {
    "duration": 7,
    "start_time": "2022-12-14T13:36:10.055Z"
   },
   {
    "duration": 391,
    "start_time": "2022-12-14T13:36:24.103Z"
   },
   {
    "duration": 54,
    "start_time": "2022-12-14T13:36:24.496Z"
   },
   {
    "duration": 14,
    "start_time": "2022-12-14T13:36:24.552Z"
   },
   {
    "duration": 59,
    "start_time": "2022-12-14T13:36:24.569Z"
   },
   {
    "duration": 7,
    "start_time": "2022-12-14T13:36:24.630Z"
   },
   {
    "duration": 21,
    "start_time": "2022-12-14T13:36:24.638Z"
   },
   {
    "duration": 7,
    "start_time": "2022-12-14T13:36:24.660Z"
   },
   {
    "duration": 8,
    "start_time": "2022-12-14T13:36:24.669Z"
   },
   {
    "duration": 7,
    "start_time": "2022-12-14T13:36:49.000Z"
   },
   {
    "duration": 6,
    "start_time": "2022-12-14T13:36:50.281Z"
   },
   {
    "duration": 393,
    "start_time": "2022-12-14T13:37:00.523Z"
   },
   {
    "duration": 57,
    "start_time": "2022-12-14T13:37:00.918Z"
   },
   {
    "duration": 12,
    "start_time": "2022-12-14T13:37:00.977Z"
   },
   {
    "duration": 52,
    "start_time": "2022-12-14T13:37:00.991Z"
   },
   {
    "duration": 7,
    "start_time": "2022-12-14T13:37:01.045Z"
   },
   {
    "duration": 37,
    "start_time": "2022-12-14T13:37:01.053Z"
   },
   {
    "duration": 46,
    "start_time": "2022-12-14T13:37:01.091Z"
   },
   {
    "duration": 34,
    "start_time": "2022-12-14T13:37:01.139Z"
   },
   {
    "duration": 417,
    "start_time": "2022-12-15T18:19:58.606Z"
   },
   {
    "duration": 103,
    "start_time": "2022-12-15T18:19:59.025Z"
   },
   {
    "duration": 12,
    "start_time": "2022-12-15T18:19:59.130Z"
   },
   {
    "duration": 38,
    "start_time": "2022-12-15T18:19:59.144Z"
   },
   {
    "duration": 9,
    "start_time": "2022-12-15T18:19:59.184Z"
   },
   {
    "duration": 35,
    "start_time": "2022-12-15T18:19:59.195Z"
   },
   {
    "duration": 6,
    "start_time": "2022-12-15T18:19:59.232Z"
   },
   {
    "duration": 6,
    "start_time": "2022-12-15T18:19:59.239Z"
   },
   {
    "duration": 668,
    "start_time": "2022-12-15T18:21:20.221Z"
   },
   {
    "duration": 1003,
    "start_time": "2022-12-15T18:21:28.124Z"
   },
   {
    "duration": 55,
    "start_time": "2022-12-15T18:21:29.130Z"
   },
   {
    "duration": 13,
    "start_time": "2022-12-15T18:21:29.186Z"
   },
   {
    "duration": 36,
    "start_time": "2022-12-15T18:21:29.200Z"
   },
   {
    "duration": 6,
    "start_time": "2022-12-15T18:21:29.238Z"
   },
   {
    "duration": 14,
    "start_time": "2022-12-15T18:21:29.246Z"
   },
   {
    "duration": 7,
    "start_time": "2022-12-15T18:21:29.261Z"
   },
   {
    "duration": 7,
    "start_time": "2022-12-15T18:21:29.269Z"
   },
   {
    "duration": 3,
    "start_time": "2022-12-15T19:01:14.238Z"
   },
   {
    "duration": 977,
    "start_time": "2022-12-15T19:01:19.360Z"
   },
   {
    "duration": 55,
    "start_time": "2022-12-15T19:01:20.339Z"
   },
   {
    "duration": 11,
    "start_time": "2022-12-15T19:01:20.396Z"
   },
   {
    "duration": 80,
    "start_time": "2022-12-15T19:01:20.409Z"
   },
   {
    "duration": 8,
    "start_time": "2022-12-15T19:01:20.490Z"
   },
   {
    "duration": 43,
    "start_time": "2022-12-15T19:01:20.500Z"
   },
   {
    "duration": 26,
    "start_time": "2022-12-15T19:01:20.544Z"
   },
   {
    "duration": 27,
    "start_time": "2022-12-15T19:01:20.571Z"
   },
   {
    "duration": 43,
    "start_time": "2022-12-15T19:01:20.599Z"
   },
   {
    "duration": 45,
    "start_time": "2022-12-16T07:56:43.718Z"
   },
   {
    "duration": 1011,
    "start_time": "2022-12-16T07:56:47.961Z"
   },
   {
    "duration": 110,
    "start_time": "2022-12-16T07:56:48.974Z"
   },
   {
    "duration": 14,
    "start_time": "2022-12-16T07:56:49.088Z"
   },
   {
    "duration": 55,
    "start_time": "2022-12-16T07:56:49.105Z"
   },
   {
    "duration": 9,
    "start_time": "2022-12-16T07:56:49.162Z"
   },
   {
    "duration": 32,
    "start_time": "2022-12-16T07:56:49.172Z"
   },
   {
    "duration": 20,
    "start_time": "2022-12-16T07:56:49.206Z"
   },
   {
    "duration": 10,
    "start_time": "2022-12-16T07:56:49.228Z"
   },
   {
    "duration": 106,
    "start_time": "2022-12-16T07:56:49.241Z"
   },
   {
    "duration": 0,
    "start_time": "2022-12-16T07:56:49.349Z"
   },
   {
    "duration": 10,
    "start_time": "2022-12-16T07:58:02.768Z"
   },
   {
    "duration": 3,
    "start_time": "2022-12-16T07:58:38.216Z"
   },
   {
    "duration": 48,
    "start_time": "2022-12-16T07:58:42.220Z"
   },
   {
    "duration": 11,
    "start_time": "2022-12-16T07:58:42.496Z"
   },
   {
    "duration": 37,
    "start_time": "2022-12-16T07:58:42.760Z"
   },
   {
    "duration": 6,
    "start_time": "2022-12-16T07:58:43.573Z"
   },
   {
    "duration": 12,
    "start_time": "2022-12-16T07:58:44.335Z"
   },
   {
    "duration": 7,
    "start_time": "2022-12-16T07:58:44.613Z"
   },
   {
    "duration": 5,
    "start_time": "2022-12-16T07:58:45.573Z"
   },
   {
    "duration": 9,
    "start_time": "2022-12-16T07:58:46.718Z"
   },
   {
    "duration": 8,
    "start_time": "2022-12-16T08:08:49.383Z"
   },
   {
    "duration": 3,
    "start_time": "2022-12-16T08:12:41.023Z"
   },
   {
    "duration": 4,
    "start_time": "2022-12-16T08:14:10.014Z"
   },
   {
    "duration": 3,
    "start_time": "2022-12-16T08:14:14.534Z"
   },
   {
    "duration": 10,
    "start_time": "2022-12-16T08:22:48.769Z"
   },
   {
    "duration": 18,
    "start_time": "2022-12-16T08:24:08.998Z"
   },
   {
    "duration": 12,
    "start_time": "2022-12-16T08:24:17.551Z"
   },
   {
    "duration": 25,
    "start_time": "2022-12-16T08:24:31.345Z"
   },
   {
    "duration": 47,
    "start_time": "2022-12-16T08:24:56.090Z"
   },
   {
    "duration": 20,
    "start_time": "2022-12-16T08:25:05.510Z"
   },
   {
    "duration": 15,
    "start_time": "2022-12-16T08:25:16.153Z"
   },
   {
    "duration": 13,
    "start_time": "2022-12-16T08:25:57.939Z"
   },
   {
    "duration": 11,
    "start_time": "2022-12-16T08:26:05.639Z"
   },
   {
    "duration": 9,
    "start_time": "2022-12-16T08:26:27.614Z"
   },
   {
    "duration": 198,
    "start_time": "2022-12-16T08:52:39.849Z"
   },
   {
    "duration": 185,
    "start_time": "2022-12-16T08:52:48.052Z"
   },
   {
    "duration": 686,
    "start_time": "2022-12-16T08:53:48.108Z"
   },
   {
    "duration": 176,
    "start_time": "2022-12-16T11:12:47.050Z"
   },
   {
    "duration": 2,
    "start_time": "2022-12-16T11:25:38.267Z"
   },
   {
    "duration": 275,
    "start_time": "2022-12-16T11:41:18.584Z"
   },
   {
    "duration": 286,
    "start_time": "2022-12-16T11:43:36.329Z"
   },
   {
    "duration": 258,
    "start_time": "2022-12-16T11:44:59.112Z"
   },
   {
    "duration": 997,
    "start_time": "2022-12-16T11:45:42.522Z"
   },
   {
    "duration": 985,
    "start_time": "2022-12-16T11:45:46.083Z"
   },
   {
    "duration": 986,
    "start_time": "2022-12-16T11:45:50.229Z"
   },
   {
    "duration": 453,
    "start_time": "2022-12-16T11:56:18.944Z"
   },
   {
    "duration": 1332,
    "start_time": "2022-12-16T11:56:25.067Z"
   },
   {
    "duration": 55,
    "start_time": "2022-12-16T11:56:26.401Z"
   },
   {
    "duration": 13,
    "start_time": "2022-12-16T11:56:26.457Z"
   },
   {
    "duration": 40,
    "start_time": "2022-12-16T11:56:26.473Z"
   },
   {
    "duration": 8,
    "start_time": "2022-12-16T11:56:26.515Z"
   },
   {
    "duration": 20,
    "start_time": "2022-12-16T11:56:26.524Z"
   },
   {
    "duration": 10,
    "start_time": "2022-12-16T11:56:26.546Z"
   },
   {
    "duration": 11,
    "start_time": "2022-12-16T11:56:26.557Z"
   },
   {
    "duration": 33,
    "start_time": "2022-12-16T11:56:26.569Z"
   },
   {
    "duration": 8,
    "start_time": "2022-12-16T11:56:26.604Z"
   },
   {
    "duration": 350,
    "start_time": "2022-12-16T11:56:26.613Z"
   },
   {
    "duration": 1005,
    "start_time": "2022-12-16T11:56:26.964Z"
   },
   {
    "duration": 119,
    "start_time": "2022-12-16T11:56:27.971Z"
   },
   {
    "duration": 1870,
    "start_time": "2022-12-16T12:01:56.195Z"
   },
   {
    "duration": 17,
    "start_time": "2022-12-16T12:03:16.542Z"
   },
   {
    "duration": 178,
    "start_time": "2022-12-16T12:04:27.803Z"
   },
   {
    "duration": 1874,
    "start_time": "2022-12-16T12:04:32.971Z"
   },
   {
    "duration": 1219,
    "start_time": "2022-12-16T12:04:40.645Z"
   },
   {
    "duration": 51,
    "start_time": "2022-12-16T12:04:41.866Z"
   },
   {
    "duration": 12,
    "start_time": "2022-12-16T12:04:41.918Z"
   },
   {
    "duration": 37,
    "start_time": "2022-12-16T12:04:41.932Z"
   },
   {
    "duration": 6,
    "start_time": "2022-12-16T12:04:41.970Z"
   },
   {
    "duration": 28,
    "start_time": "2022-12-16T12:04:41.978Z"
   },
   {
    "duration": 6,
    "start_time": "2022-12-16T12:04:42.008Z"
   },
   {
    "duration": 7,
    "start_time": "2022-12-16T12:04:42.016Z"
   },
   {
    "duration": 12,
    "start_time": "2022-12-16T12:04:42.024Z"
   },
   {
    "duration": 7,
    "start_time": "2022-12-16T12:04:42.038Z"
   },
   {
    "duration": 336,
    "start_time": "2022-12-16T12:04:42.047Z"
   },
   {
    "duration": 994,
    "start_time": "2022-12-16T12:04:42.385Z"
   },
   {
    "duration": 1838,
    "start_time": "2022-12-16T12:04:43.381Z"
   },
   {
    "duration": 172,
    "start_time": "2022-12-16T12:04:45.221Z"
   },
   {
    "duration": 7,
    "start_time": "2022-12-16T12:10:23.498Z"
   },
   {
    "duration": 123,
    "start_time": "2022-12-16T12:13:20.293Z"
   },
   {
    "duration": 106,
    "start_time": "2022-12-16T12:14:37.650Z"
   },
   {
    "duration": 278,
    "start_time": "2022-12-16T12:15:07.865Z"
   },
   {
    "duration": 7,
    "start_time": "2022-12-16T12:19:38.118Z"
   },
   {
    "duration": 7,
    "start_time": "2022-12-16T12:28:00.347Z"
   },
   {
    "duration": 20,
    "start_time": "2022-12-16T12:33:09.117Z"
   },
   {
    "duration": 1213,
    "start_time": "2022-12-16T12:35:12.148Z"
   },
   {
    "duration": 1645,
    "start_time": "2022-12-16T12:35:29.460Z"
   },
   {
    "duration": 78,
    "start_time": "2022-12-16T12:35:52.487Z"
   },
   {
    "duration": 106,
    "start_time": "2022-12-16T12:36:01.612Z"
   },
   {
    "duration": 181,
    "start_time": "2022-12-16T12:36:28.050Z"
   },
   {
    "duration": 1299,
    "start_time": "2022-12-16T12:38:19.766Z"
   },
   {
    "duration": 54,
    "start_time": "2022-12-16T12:38:21.067Z"
   },
   {
    "duration": 11,
    "start_time": "2022-12-16T12:38:21.123Z"
   },
   {
    "duration": 59,
    "start_time": "2022-12-16T12:38:21.135Z"
   },
   {
    "duration": 8,
    "start_time": "2022-12-16T12:38:21.196Z"
   },
   {
    "duration": 33,
    "start_time": "2022-12-16T12:38:21.206Z"
   },
   {
    "duration": 13,
    "start_time": "2022-12-16T12:38:21.240Z"
   },
   {
    "duration": 23,
    "start_time": "2022-12-16T12:38:21.254Z"
   },
   {
    "duration": 22,
    "start_time": "2022-12-16T12:38:21.280Z"
   },
   {
    "duration": 13,
    "start_time": "2022-12-16T12:38:21.304Z"
   },
   {
    "duration": 335,
    "start_time": "2022-12-16T12:38:21.318Z"
   },
   {
    "duration": 1291,
    "start_time": "2022-12-16T12:38:21.655Z"
   },
   {
    "duration": 1588,
    "start_time": "2022-12-16T12:38:22.947Z"
   },
   {
    "duration": 86,
    "start_time": "2022-12-16T12:38:24.537Z"
   },
   {
    "duration": 172,
    "start_time": "2022-12-16T12:38:24.625Z"
   },
   {
    "duration": 212,
    "start_time": "2022-12-16T12:38:24.800Z"
   },
   {
    "duration": 7,
    "start_time": "2022-12-16T12:38:25.014Z"
   },
   {
    "duration": 25,
    "start_time": "2022-12-16T12:38:25.022Z"
   },
   {
    "duration": 124,
    "start_time": "2022-12-16T12:38:25.048Z"
   },
   {
    "duration": 13371,
    "start_time": "2022-12-16T12:39:18.683Z"
   },
   {
    "duration": 13711,
    "start_time": "2022-12-16T12:40:03.703Z"
   },
   {
    "duration": 3,
    "start_time": "2022-12-16T15:43:22.677Z"
   },
   {
    "duration": 57,
    "start_time": "2022-12-16T15:54:26.044Z"
   },
   {
    "duration": 6,
    "start_time": "2022-12-16T15:56:04.978Z"
   },
   {
    "duration": 7,
    "start_time": "2022-12-16T15:56:29.277Z"
   },
   {
    "duration": 1607,
    "start_time": "2022-12-16T15:56:35.382Z"
   },
   {
    "duration": 108,
    "start_time": "2022-12-16T15:56:36.991Z"
   },
   {
    "duration": 14,
    "start_time": "2022-12-16T15:56:37.101Z"
   },
   {
    "duration": 40,
    "start_time": "2022-12-16T15:56:37.117Z"
   },
   {
    "duration": 7,
    "start_time": "2022-12-16T15:56:37.160Z"
   },
   {
    "duration": 37,
    "start_time": "2022-12-16T15:56:37.169Z"
   },
   {
    "duration": 7,
    "start_time": "2022-12-16T15:56:37.208Z"
   },
   {
    "duration": 8,
    "start_time": "2022-12-16T15:56:37.216Z"
   },
   {
    "duration": 16,
    "start_time": "2022-12-16T15:56:37.225Z"
   },
   {
    "duration": 9,
    "start_time": "2022-12-16T15:56:37.242Z"
   },
   {
    "duration": 2,
    "start_time": "2022-12-16T15:56:37.253Z"
   },
   {
    "duration": 41,
    "start_time": "2022-12-16T15:56:37.257Z"
   },
   {
    "duration": 112,
    "start_time": "2022-12-16T15:56:37.300Z"
   },
   {
    "duration": 0,
    "start_time": "2022-12-16T15:56:37.414Z"
   },
   {
    "duration": 0,
    "start_time": "2022-12-16T15:56:37.415Z"
   },
   {
    "duration": 0,
    "start_time": "2022-12-16T15:56:37.416Z"
   },
   {
    "duration": 0,
    "start_time": "2022-12-16T15:56:37.417Z"
   },
   {
    "duration": 0,
    "start_time": "2022-12-16T15:56:37.419Z"
   },
   {
    "duration": 0,
    "start_time": "2022-12-16T15:56:37.420Z"
   },
   {
    "duration": 0,
    "start_time": "2022-12-16T15:56:37.421Z"
   },
   {
    "duration": 10,
    "start_time": "2022-12-16T15:56:48.567Z"
   },
   {
    "duration": 10,
    "start_time": "2022-12-16T15:56:53.278Z"
   },
   {
    "duration": 5,
    "start_time": "2022-12-16T15:57:04.892Z"
   },
   {
    "duration": 6,
    "start_time": "2022-12-16T15:59:05.181Z"
   },
   {
    "duration": 22,
    "start_time": "2022-12-16T16:01:51.592Z"
   },
   {
    "duration": 3,
    "start_time": "2022-12-16T16:04:59.023Z"
   },
   {
    "duration": 2,
    "start_time": "2022-12-16T16:06:23.917Z"
   },
   {
    "duration": 10,
    "start_time": "2022-12-16T16:15:52.194Z"
   },
   {
    "duration": 23,
    "start_time": "2022-12-16T16:16:56.758Z"
   },
   {
    "duration": 18,
    "start_time": "2022-12-16T16:17:18.621Z"
   },
   {
    "duration": 18,
    "start_time": "2022-12-16T16:18:33.729Z"
   },
   {
    "duration": 19,
    "start_time": "2022-12-16T16:19:01.589Z"
   },
   {
    "duration": 4,
    "start_time": "2022-12-16T16:19:56.813Z"
   },
   {
    "duration": 1352,
    "start_time": "2022-12-16T16:20:03.723Z"
   },
   {
    "duration": 64,
    "start_time": "2022-12-16T16:20:05.077Z"
   },
   {
    "duration": 13,
    "start_time": "2022-12-16T16:20:05.143Z"
   },
   {
    "duration": 45,
    "start_time": "2022-12-16T16:20:05.158Z"
   },
   {
    "duration": 10,
    "start_time": "2022-12-16T16:20:05.205Z"
   },
   {
    "duration": 26,
    "start_time": "2022-12-16T16:20:05.218Z"
   },
   {
    "duration": 7,
    "start_time": "2022-12-16T16:20:05.246Z"
   },
   {
    "duration": 13,
    "start_time": "2022-12-16T16:20:05.255Z"
   },
   {
    "duration": 30,
    "start_time": "2022-12-16T16:20:05.269Z"
   },
   {
    "duration": 20,
    "start_time": "2022-12-16T16:20:05.302Z"
   },
   {
    "duration": 23,
    "start_time": "2022-12-16T16:20:05.323Z"
   },
   {
    "duration": 2,
    "start_time": "2022-12-16T16:20:05.348Z"
   },
   {
    "duration": 37,
    "start_time": "2022-12-16T16:20:05.352Z"
   },
   {
    "duration": 11,
    "start_time": "2022-12-16T16:20:05.390Z"
   },
   {
    "duration": 144,
    "start_time": "2022-12-16T16:20:05.402Z"
   },
   {
    "duration": 123,
    "start_time": "2022-12-16T16:20:05.548Z"
   },
   {
    "duration": 6,
    "start_time": "2022-12-16T16:20:05.673Z"
   },
   {
    "duration": 20,
    "start_time": "2022-12-16T16:20:05.681Z"
   },
   {
    "duration": 991,
    "start_time": "2022-12-16T16:20:05.703Z"
   },
   {
    "duration": 43,
    "start_time": "2022-12-16T16:23:56.127Z"
   },
   {
    "duration": 25,
    "start_time": "2022-12-16T16:24:57.777Z"
   },
   {
    "duration": 26,
    "start_time": "2022-12-16T16:25:03.230Z"
   },
   {
    "duration": 1338,
    "start_time": "2022-12-16T16:26:14.581Z"
   },
   {
    "duration": 59,
    "start_time": "2022-12-16T16:26:15.921Z"
   },
   {
    "duration": 17,
    "start_time": "2022-12-16T16:26:15.985Z"
   },
   {
    "duration": 69,
    "start_time": "2022-12-16T16:26:16.004Z"
   },
   {
    "duration": 8,
    "start_time": "2022-12-16T16:26:16.076Z"
   },
   {
    "duration": 21,
    "start_time": "2022-12-16T16:26:16.085Z"
   },
   {
    "duration": 18,
    "start_time": "2022-12-16T16:26:16.109Z"
   },
   {
    "duration": 7,
    "start_time": "2022-12-16T16:26:16.129Z"
   },
   {
    "duration": 23,
    "start_time": "2022-12-16T16:26:16.139Z"
   },
   {
    "duration": 10,
    "start_time": "2022-12-16T16:26:16.164Z"
   },
   {
    "duration": 8,
    "start_time": "2022-12-16T16:26:16.176Z"
   },
   {
    "duration": 0,
    "start_time": "2022-12-16T16:26:16.205Z"
   },
   {
    "duration": 0,
    "start_time": "2022-12-16T16:26:16.205Z"
   },
   {
    "duration": 0,
    "start_time": "2022-12-16T16:26:16.208Z"
   },
   {
    "duration": 0,
    "start_time": "2022-12-16T16:26:16.210Z"
   },
   {
    "duration": 0,
    "start_time": "2022-12-16T16:26:16.212Z"
   },
   {
    "duration": 0,
    "start_time": "2022-12-16T16:26:16.213Z"
   },
   {
    "duration": 0,
    "start_time": "2022-12-16T16:26:16.214Z"
   },
   {
    "duration": 0,
    "start_time": "2022-12-16T16:26:16.215Z"
   },
   {
    "duration": 0,
    "start_time": "2022-12-16T16:26:16.216Z"
   },
   {
    "duration": 117,
    "start_time": "2022-12-16T16:26:34.152Z"
   },
   {
    "duration": 19,
    "start_time": "2022-12-16T16:26:56.631Z"
   },
   {
    "duration": 61,
    "start_time": "2022-12-16T16:31:55.887Z"
   },
   {
    "duration": 21,
    "start_time": "2022-12-16T16:32:02.758Z"
   },
   {
    "duration": 27,
    "start_time": "2022-12-16T16:32:05.389Z"
   },
   {
    "duration": 26,
    "start_time": "2022-12-16T16:32:29.068Z"
   },
   {
    "duration": 36,
    "start_time": "2022-12-16T16:32:32.714Z"
   },
   {
    "duration": 26,
    "start_time": "2022-12-16T16:34:59.328Z"
   },
   {
    "duration": 20,
    "start_time": "2022-12-16T16:36:07.335Z"
   },
   {
    "duration": 30,
    "start_time": "2022-12-16T16:36:11.057Z"
   },
   {
    "duration": 3,
    "start_time": "2022-12-16T16:38:31.830Z"
   },
   {
    "duration": 13,
    "start_time": "2022-12-16T16:41:27.233Z"
   },
   {
    "duration": 80,
    "start_time": "2022-12-16T16:41:32.686Z"
   },
   {
    "duration": 64,
    "start_time": "2022-12-16T16:41:38.774Z"
   },
   {
    "duration": 75,
    "start_time": "2022-12-16T16:42:38.631Z"
   },
   {
    "duration": 261,
    "start_time": "2022-12-16T16:43:05.077Z"
   },
   {
    "duration": 66,
    "start_time": "2022-12-16T16:44:04.863Z"
   },
   {
    "duration": 20,
    "start_time": "2022-12-16T16:44:12.775Z"
   },
   {
    "duration": 14,
    "start_time": "2022-12-16T16:45:27.904Z"
   },
   {
    "duration": 105,
    "start_time": "2022-12-16T16:46:27.504Z"
   },
   {
    "duration": 14,
    "start_time": "2022-12-16T16:46:30.919Z"
   },
   {
    "duration": 9,
    "start_time": "2022-12-16T16:49:09.838Z"
   },
   {
    "duration": 9,
    "start_time": "2022-12-16T16:49:14.390Z"
   },
   {
    "duration": 3,
    "start_time": "2022-12-16T16:49:18.799Z"
   },
   {
    "duration": 1360,
    "start_time": "2022-12-16T16:49:24.285Z"
   },
   {
    "duration": 53,
    "start_time": "2022-12-16T16:49:25.647Z"
   },
   {
    "duration": 14,
    "start_time": "2022-12-16T16:49:25.702Z"
   },
   {
    "duration": 41,
    "start_time": "2022-12-16T16:49:25.717Z"
   },
   {
    "duration": 8,
    "start_time": "2022-12-16T16:49:25.760Z"
   },
   {
    "duration": 29,
    "start_time": "2022-12-16T16:49:25.769Z"
   },
   {
    "duration": 18,
    "start_time": "2022-12-16T16:49:25.799Z"
   },
   {
    "duration": 8,
    "start_time": "2022-12-16T16:49:25.819Z"
   },
   {
    "duration": 7,
    "start_time": "2022-12-16T16:49:25.829Z"
   },
   {
    "duration": 18,
    "start_time": "2022-12-16T16:49:25.838Z"
   },
   {
    "duration": 47,
    "start_time": "2022-12-16T16:49:25.858Z"
   },
   {
    "duration": 30,
    "start_time": "2022-12-16T16:49:25.907Z"
   },
   {
    "duration": 15,
    "start_time": "2022-12-16T16:49:25.942Z"
   },
   {
    "duration": 389,
    "start_time": "2022-12-16T16:49:25.961Z"
   },
   {
    "duration": 0,
    "start_time": "2022-12-16T16:49:26.352Z"
   },
   {
    "duration": 0,
    "start_time": "2022-12-16T16:49:26.354Z"
   },
   {
    "duration": 0,
    "start_time": "2022-12-16T16:49:26.355Z"
   },
   {
    "duration": 0,
    "start_time": "2022-12-16T16:49:26.356Z"
   },
   {
    "duration": 0,
    "start_time": "2022-12-16T16:49:26.357Z"
   },
   {
    "duration": 0,
    "start_time": "2022-12-16T16:49:26.358Z"
   },
   {
    "duration": 0,
    "start_time": "2022-12-16T16:49:26.359Z"
   },
   {
    "duration": 19,
    "start_time": "2022-12-16T16:53:36.006Z"
   },
   {
    "duration": 4,
    "start_time": "2022-12-16T16:55:08.223Z"
   },
   {
    "duration": 1245,
    "start_time": "2022-12-16T16:55:16.952Z"
   },
   {
    "duration": 51,
    "start_time": "2022-12-16T16:55:18.199Z"
   },
   {
    "duration": 11,
    "start_time": "2022-12-16T16:55:18.252Z"
   },
   {
    "duration": 36,
    "start_time": "2022-12-16T16:55:18.264Z"
   },
   {
    "duration": 6,
    "start_time": "2022-12-16T16:55:18.302Z"
   },
   {
    "duration": 3,
    "start_time": "2022-12-16T16:55:18.309Z"
   },
   {
    "duration": 13,
    "start_time": "2022-12-16T16:55:18.313Z"
   },
   {
    "duration": 8,
    "start_time": "2022-12-16T16:55:18.328Z"
   },
   {
    "duration": 5,
    "start_time": "2022-12-16T16:55:18.337Z"
   },
   {
    "duration": 11,
    "start_time": "2022-12-16T16:55:18.344Z"
   },
   {
    "duration": 41,
    "start_time": "2022-12-16T16:55:18.357Z"
   },
   {
    "duration": 6,
    "start_time": "2022-12-16T16:55:18.400Z"
   },
   {
    "duration": 0,
    "start_time": "2022-12-16T16:55:18.408Z"
   },
   {
    "duration": 0,
    "start_time": "2022-12-16T16:55:18.409Z"
   },
   {
    "duration": 0,
    "start_time": "2022-12-16T16:55:18.410Z"
   },
   {
    "duration": 0,
    "start_time": "2022-12-16T16:55:18.411Z"
   },
   {
    "duration": 0,
    "start_time": "2022-12-16T16:55:18.412Z"
   },
   {
    "duration": 0,
    "start_time": "2022-12-16T16:55:18.413Z"
   },
   {
    "duration": 0,
    "start_time": "2022-12-16T16:55:18.414Z"
   },
   {
    "duration": 0,
    "start_time": "2022-12-16T16:55:18.415Z"
   },
   {
    "duration": 0,
    "start_time": "2022-12-16T16:55:18.416Z"
   },
   {
    "duration": 124,
    "start_time": "2022-12-16T16:55:55.045Z"
   },
   {
    "duration": 22,
    "start_time": "2022-12-16T16:57:45.939Z"
   },
   {
    "duration": 49,
    "start_time": "2022-12-16T17:04:25.732Z"
   },
   {
    "duration": 7,
    "start_time": "2022-12-16T17:04:34.982Z"
   },
   {
    "duration": 15,
    "start_time": "2022-12-16T17:05:27.941Z"
   },
   {
    "duration": 70,
    "start_time": "2022-12-16T17:05:42.725Z"
   },
   {
    "duration": 3,
    "start_time": "2022-12-16T17:06:35.117Z"
   },
   {
    "duration": 19,
    "start_time": "2022-12-16T17:06:56.062Z"
   },
   {
    "duration": 11,
    "start_time": "2022-12-16T17:15:54.036Z"
   },
   {
    "duration": 14,
    "start_time": "2022-12-16T17:22:04.700Z"
   },
   {
    "duration": 13,
    "start_time": "2022-12-16T17:22:18.084Z"
   },
   {
    "duration": 15,
    "start_time": "2022-12-16T17:30:28.550Z"
   },
   {
    "duration": 23,
    "start_time": "2022-12-16T17:30:33.140Z"
   },
   {
    "duration": 3,
    "start_time": "2022-12-16T17:32:11.020Z"
   },
   {
    "duration": 14,
    "start_time": "2022-12-16T17:36:19.707Z"
   },
   {
    "duration": 1520,
    "start_time": "2022-12-17T12:36:18.211Z"
   },
   {
    "duration": 111,
    "start_time": "2022-12-17T12:36:19.733Z"
   },
   {
    "duration": 13,
    "start_time": "2022-12-17T12:36:19.845Z"
   },
   {
    "duration": 37,
    "start_time": "2022-12-17T12:36:19.860Z"
   },
   {
    "duration": 7,
    "start_time": "2022-12-17T12:36:19.898Z"
   },
   {
    "duration": 16,
    "start_time": "2022-12-17T12:36:19.906Z"
   },
   {
    "duration": 20,
    "start_time": "2022-12-17T12:36:19.925Z"
   },
   {
    "duration": 7,
    "start_time": "2022-12-17T12:36:19.947Z"
   },
   {
    "duration": 6,
    "start_time": "2022-12-17T12:36:19.955Z"
   },
   {
    "duration": 13,
    "start_time": "2022-12-17T12:36:19.963Z"
   },
   {
    "duration": 8,
    "start_time": "2022-12-17T12:36:19.977Z"
   },
   {
    "duration": 23,
    "start_time": "2022-12-17T12:36:20.038Z"
   },
   {
    "duration": 37,
    "start_time": "2022-12-17T12:36:20.063Z"
   },
   {
    "duration": 23,
    "start_time": "2022-12-17T12:36:20.102Z"
   },
   {
    "duration": 126,
    "start_time": "2022-12-17T12:36:20.128Z"
   },
   {
    "duration": 120,
    "start_time": "2022-12-17T12:36:20.256Z"
   },
   {
    "duration": 6,
    "start_time": "2022-12-17T12:36:20.378Z"
   },
   {
    "duration": 9,
    "start_time": "2022-12-17T12:36:20.386Z"
   },
   {
    "duration": 974,
    "start_time": "2022-12-17T12:36:20.396Z"
   },
   {
    "duration": 27,
    "start_time": "2022-12-17T12:44:25.411Z"
   },
   {
    "duration": 30,
    "start_time": "2022-12-17T12:51:05.560Z"
   },
   {
    "duration": 11,
    "start_time": "2022-12-17T12:56:33.668Z"
   },
   {
    "duration": 9,
    "start_time": "2022-12-17T12:56:39.160Z"
   },
   {
    "duration": 8,
    "start_time": "2022-12-17T13:04:05.599Z"
   },
   {
    "duration": 16,
    "start_time": "2022-12-17T13:04:32.278Z"
   },
   {
    "duration": 10,
    "start_time": "2022-12-17T13:18:04.641Z"
   },
   {
    "duration": 8,
    "start_time": "2022-12-17T13:18:21.666Z"
   },
   {
    "duration": 12,
    "start_time": "2022-12-17T13:18:29.970Z"
   },
   {
    "duration": 29,
    "start_time": "2022-12-17T13:18:44.106Z"
   },
   {
    "duration": 16,
    "start_time": "2022-12-17T13:19:21.897Z"
   },
   {
    "duration": 16,
    "start_time": "2022-12-17T13:19:29.297Z"
   },
   {
    "duration": 15,
    "start_time": "2022-12-17T13:20:30.643Z"
   },
   {
    "duration": 37,
    "start_time": "2022-12-17T13:26:12.281Z"
   },
   {
    "duration": 7,
    "start_time": "2022-12-17T13:28:02.658Z"
   },
   {
    "duration": 118,
    "start_time": "2022-12-17T13:35:36.713Z"
   },
   {
    "duration": 833,
    "start_time": "2022-12-17T13:40:05.632Z"
   },
   {
    "duration": 869,
    "start_time": "2022-12-17T13:41:56.094Z"
   },
   {
    "duration": 869,
    "start_time": "2022-12-17T13:42:09.990Z"
   },
   {
    "duration": 838,
    "start_time": "2022-12-17T13:43:31.197Z"
   },
   {
    "duration": 35,
    "start_time": "2022-12-17T13:43:50.564Z"
   },
   {
    "duration": 21,
    "start_time": "2022-12-17T13:44:07.100Z"
   },
   {
    "duration": 19,
    "start_time": "2022-12-17T13:44:14.073Z"
   },
   {
    "duration": 103,
    "start_time": "2022-12-17T13:45:01.957Z"
   },
   {
    "duration": 62,
    "start_time": "2022-12-17T13:55:48.764Z"
   },
   {
    "duration": 55,
    "start_time": "2022-12-17T13:58:58.875Z"
   },
   {
    "duration": 11,
    "start_time": "2022-12-17T14:00:53.907Z"
   },
   {
    "duration": 13,
    "start_time": "2022-12-17T15:28:22.848Z"
   },
   {
    "duration": 66,
    "start_time": "2022-12-17T16:02:20.220Z"
   },
   {
    "duration": 7,
    "start_time": "2022-12-17T16:02:33.515Z"
   },
   {
    "duration": 1450,
    "start_time": "2022-12-17T16:02:43.186Z"
   },
   {
    "duration": 56,
    "start_time": "2022-12-17T16:02:44.638Z"
   },
   {
    "duration": 12,
    "start_time": "2022-12-17T16:02:44.695Z"
   },
   {
    "duration": 47,
    "start_time": "2022-12-17T16:02:44.709Z"
   },
   {
    "duration": 7,
    "start_time": "2022-12-17T16:02:44.758Z"
   },
   {
    "duration": 11,
    "start_time": "2022-12-17T16:02:44.766Z"
   },
   {
    "duration": 22,
    "start_time": "2022-12-17T16:02:44.778Z"
   },
   {
    "duration": 7,
    "start_time": "2022-12-17T16:02:44.801Z"
   },
   {
    "duration": 7,
    "start_time": "2022-12-17T16:02:44.817Z"
   },
   {
    "duration": 17,
    "start_time": "2022-12-17T16:02:44.828Z"
   },
   {
    "duration": 11,
    "start_time": "2022-12-17T16:02:44.847Z"
   },
   {
    "duration": 21,
    "start_time": "2022-12-17T16:02:44.860Z"
   },
   {
    "duration": 6,
    "start_time": "2022-12-17T16:02:44.883Z"
   },
   {
    "duration": 24,
    "start_time": "2022-12-17T16:02:44.916Z"
   },
   {
    "duration": 39,
    "start_time": "2022-12-17T16:02:44.944Z"
   },
   {
    "duration": 32,
    "start_time": "2022-12-17T16:02:44.984Z"
   },
   {
    "duration": 157,
    "start_time": "2022-12-17T16:02:45.019Z"
   },
   {
    "duration": 128,
    "start_time": "2022-12-17T16:02:45.178Z"
   },
   {
    "duration": 15,
    "start_time": "2022-12-17T16:02:45.308Z"
   },
   {
    "duration": 70,
    "start_time": "2022-12-17T16:02:45.326Z"
   },
   {
    "duration": 24,
    "start_time": "2022-12-17T16:02:45.398Z"
   },
   {
    "duration": 917,
    "start_time": "2022-12-17T16:02:45.424Z"
   },
   {
    "duration": 130,
    "start_time": "2022-12-17T16:02:46.344Z"
   },
   {
    "duration": 78,
    "start_time": "2022-12-17T16:02:46.476Z"
   },
   {
    "duration": 71,
    "start_time": "2022-12-17T16:02:46.556Z"
   },
   {
    "duration": 201,
    "start_time": "2022-12-17T16:02:46.629Z"
   },
   {
    "duration": 198345,
    "start_time": "2022-12-17T16:08:36.547Z"
   },
   {
    "duration": 13,
    "start_time": "2022-12-17T16:12:23.771Z"
   },
   {
    "duration": 1862,
    "start_time": "2022-12-17T16:12:42.718Z"
   },
   {
    "duration": 8,
    "start_time": "2022-12-17T16:18:43.971Z"
   },
   {
    "duration": 57932,
    "start_time": "2022-12-17T16:19:15.962Z"
   },
   {
    "duration": 102,
    "start_time": "2022-12-17T16:21:12.946Z"
   },
   {
    "duration": 9548,
    "start_time": "2022-12-17T16:24:04.963Z"
   },
   {
    "duration": 17687,
    "start_time": "2022-12-17T16:34:01.780Z"
   },
   {
    "duration": 1260,
    "start_time": "2022-12-17T16:35:24.671Z"
   },
   {
    "duration": 53,
    "start_time": "2022-12-17T16:35:25.932Z"
   },
   {
    "duration": 13,
    "start_time": "2022-12-17T16:35:25.987Z"
   },
   {
    "duration": 39,
    "start_time": "2022-12-17T16:35:26.002Z"
   },
   {
    "duration": 8,
    "start_time": "2022-12-17T16:35:26.043Z"
   },
   {
    "duration": 4,
    "start_time": "2022-12-17T16:35:26.052Z"
   },
   {
    "duration": 18,
    "start_time": "2022-12-17T16:35:26.057Z"
   },
   {
    "duration": 9,
    "start_time": "2022-12-17T16:35:26.077Z"
   },
   {
    "duration": 76,
    "start_time": "2022-12-17T16:35:26.088Z"
   },
   {
    "duration": 13,
    "start_time": "2022-12-17T16:35:26.167Z"
   },
   {
    "duration": 8,
    "start_time": "2022-12-17T16:35:26.181Z"
   },
   {
    "duration": 23,
    "start_time": "2022-12-17T16:35:26.191Z"
   },
   {
    "duration": 7,
    "start_time": "2022-12-17T16:35:26.216Z"
   },
   {
    "duration": 24,
    "start_time": "2022-12-17T16:35:26.224Z"
   },
   {
    "duration": 66,
    "start_time": "2022-12-17T16:35:26.250Z"
   },
   {
    "duration": 8,
    "start_time": "2022-12-17T16:35:26.318Z"
   },
   {
    "duration": 169,
    "start_time": "2022-12-17T16:35:26.328Z"
   },
   {
    "duration": 123,
    "start_time": "2022-12-17T16:35:26.499Z"
   },
   {
    "duration": 7,
    "start_time": "2022-12-17T16:35:26.623Z"
   },
   {
    "duration": 61,
    "start_time": "2022-12-17T16:35:26.632Z"
   },
   {
    "duration": 27,
    "start_time": "2022-12-17T16:35:26.695Z"
   },
   {
    "duration": 12,
    "start_time": "2022-12-17T16:35:26.723Z"
   },
   {
    "duration": 803,
    "start_time": "2022-12-17T16:35:26.737Z"
   },
   {
    "duration": 116,
    "start_time": "2022-12-17T16:35:27.542Z"
   },
   {
    "duration": 10797,
    "start_time": "2022-12-17T16:35:27.660Z"
   },
   {
    "duration": 32,
    "start_time": "2022-12-17T16:35:38.460Z"
   },
   {
    "duration": 118,
    "start_time": "2022-12-17T16:35:38.493Z"
   },
   {
    "duration": 0,
    "start_time": "2022-12-17T16:35:38.615Z"
   },
   {
    "duration": 0,
    "start_time": "2022-12-17T16:35:38.617Z"
   },
   {
    "duration": 1,
    "start_time": "2022-12-17T16:35:38.617Z"
   },
   {
    "duration": 65,
    "start_time": "2022-12-17T16:37:18.256Z"
   },
   {
    "duration": 12,
    "start_time": "2022-12-17T16:37:25.126Z"
   },
   {
    "duration": 37,
    "start_time": "2022-12-17T16:38:44.188Z"
   },
   {
    "duration": 11,
    "start_time": "2022-12-17T16:40:25.008Z"
   },
   {
    "duration": 1938,
    "start_time": "2022-12-17T16:57:55.362Z"
   },
   {
    "duration": 491,
    "start_time": "2022-12-17T17:22:09.946Z"
   },
   {
    "duration": 18,
    "start_time": "2022-12-17T17:23:18.049Z"
   },
   {
    "duration": 25,
    "start_time": "2022-12-17T17:23:30.665Z"
   },
   {
    "duration": 1439,
    "start_time": "2022-12-17T17:26:56.236Z"
   },
   {
    "duration": 68,
    "start_time": "2022-12-17T17:26:57.677Z"
   },
   {
    "duration": 14,
    "start_time": "2022-12-17T17:26:57.747Z"
   },
   {
    "duration": 43,
    "start_time": "2022-12-17T17:26:57.762Z"
   },
   {
    "duration": 10,
    "start_time": "2022-12-17T17:26:57.818Z"
   },
   {
    "duration": 20,
    "start_time": "2022-12-17T17:26:57.831Z"
   },
   {
    "duration": 19,
    "start_time": "2022-12-17T17:26:57.853Z"
   },
   {
    "duration": 11,
    "start_time": "2022-12-17T17:26:57.874Z"
   },
   {
    "duration": 6,
    "start_time": "2022-12-17T17:26:57.887Z"
   },
   {
    "duration": 14,
    "start_time": "2022-12-17T17:26:57.894Z"
   },
   {
    "duration": 16,
    "start_time": "2022-12-17T17:26:57.909Z"
   },
   {
    "duration": 37,
    "start_time": "2022-12-17T17:26:57.933Z"
   },
   {
    "duration": 7,
    "start_time": "2022-12-17T17:26:57.971Z"
   },
   {
    "duration": 18,
    "start_time": "2022-12-17T17:26:57.981Z"
   },
   {
    "duration": 21,
    "start_time": "2022-12-17T17:26:58.001Z"
   },
   {
    "duration": 73,
    "start_time": "2022-12-17T17:26:58.025Z"
   },
   {
    "duration": 9,
    "start_time": "2022-12-17T17:26:58.100Z"
   },
   {
    "duration": 155,
    "start_time": "2022-12-17T17:26:58.110Z"
   },
   {
    "duration": 117,
    "start_time": "2022-12-17T17:26:58.267Z"
   },
   {
    "duration": 8,
    "start_time": "2022-12-17T17:26:58.386Z"
   },
   {
    "duration": 139,
    "start_time": "2022-12-17T17:26:58.395Z"
   },
   {
    "duration": 12,
    "start_time": "2022-12-17T17:26:58.536Z"
   },
   {
    "duration": 8,
    "start_time": "2022-12-17T17:26:58.550Z"
   },
   {
    "duration": 1670,
    "start_time": "2022-12-17T17:26:58.560Z"
   },
   {
    "duration": 282,
    "start_time": "2022-12-17T17:27:00.239Z"
   },
   {
    "duration": 20807,
    "start_time": "2022-12-17T17:27:00.531Z"
   },
   {
    "duration": 37,
    "start_time": "2022-12-17T17:27:21.344Z"
   },
   {
    "duration": 2,
    "start_time": "2022-12-17T17:27:21.383Z"
   },
   {
    "duration": 359,
    "start_time": "2022-12-17T17:27:21.387Z"
   },
   {
    "duration": 91,
    "start_time": "2022-12-17T17:27:21.750Z"
   },
   {
    "duration": 271,
    "start_time": "2022-12-17T17:27:21.844Z"
   },
   {
    "duration": 234,
    "start_time": "2022-12-17T17:27:22.122Z"
   },
   {
    "duration": 38,
    "start_time": "2022-12-17T17:27:44.471Z"
   },
   {
    "duration": 32,
    "start_time": "2022-12-17T17:44:37.663Z"
   },
   {
    "duration": 33,
    "start_time": "2022-12-17T17:46:27.030Z"
   },
   {
    "duration": 114451,
    "start_time": "2022-12-17T17:48:10.590Z"
   },
   {
    "duration": 1385,
    "start_time": "2022-12-17T17:51:34.512Z"
   },
   {
    "duration": 69,
    "start_time": "2022-12-17T17:51:35.899Z"
   },
   {
    "duration": 12,
    "start_time": "2022-12-17T17:51:35.970Z"
   },
   {
    "duration": 53,
    "start_time": "2022-12-17T17:51:35.983Z"
   },
   {
    "duration": 8,
    "start_time": "2022-12-17T17:51:36.042Z"
   },
   {
    "duration": 5,
    "start_time": "2022-12-17T17:51:36.052Z"
   },
   {
    "duration": 14,
    "start_time": "2022-12-17T17:51:36.058Z"
   },
   {
    "duration": 6,
    "start_time": "2022-12-17T17:51:36.074Z"
   },
   {
    "duration": 5,
    "start_time": "2022-12-17T17:51:36.082Z"
   },
   {
    "duration": 12,
    "start_time": "2022-12-17T17:51:36.090Z"
   },
   {
    "duration": 8,
    "start_time": "2022-12-17T17:51:36.103Z"
   },
   {
    "duration": 43,
    "start_time": "2022-12-17T17:51:36.116Z"
   },
   {
    "duration": 7,
    "start_time": "2022-12-17T17:51:36.160Z"
   },
   {
    "duration": 17,
    "start_time": "2022-12-17T17:51:36.169Z"
   },
   {
    "duration": 15,
    "start_time": "2022-12-17T17:51:36.187Z"
   },
   {
    "duration": 59,
    "start_time": "2022-12-17T17:51:36.203Z"
   },
   {
    "duration": 8,
    "start_time": "2022-12-17T17:51:36.264Z"
   },
   {
    "duration": 194,
    "start_time": "2022-12-17T17:51:36.273Z"
   },
   {
    "duration": 228,
    "start_time": "2022-12-17T17:51:36.469Z"
   },
   {
    "duration": 32,
    "start_time": "2022-12-17T17:51:36.698Z"
   },
   {
    "duration": 127,
    "start_time": "2022-12-17T17:51:36.732Z"
   },
   {
    "duration": 6,
    "start_time": "2022-12-17T17:51:36.861Z"
   },
   {
    "duration": 9,
    "start_time": "2022-12-17T17:51:36.868Z"
   },
   {
    "duration": 1667,
    "start_time": "2022-12-17T17:51:36.879Z"
   },
   {
    "duration": 277,
    "start_time": "2022-12-17T17:51:38.548Z"
   },
   {
    "duration": 113237,
    "start_time": "2022-12-17T17:51:38.829Z"
   },
   {
    "duration": 96,
    "start_time": "2022-12-17T17:53:32.069Z"
   },
   {
    "duration": 74,
    "start_time": "2022-12-17T17:53:32.169Z"
   },
   {
    "duration": 301,
    "start_time": "2022-12-17T17:53:32.245Z"
   },
   {
    "duration": 84,
    "start_time": "2022-12-17T17:53:32.632Z"
   },
   {
    "duration": 117,
    "start_time": "2022-12-17T17:53:32.728Z"
   },
   {
    "duration": 228,
    "start_time": "2022-12-17T17:53:32.848Z"
   },
   {
    "duration": 88,
    "start_time": "2022-12-17T17:53:33.078Z"
   },
   {
    "duration": 9,
    "start_time": "2022-12-17T17:57:07.950Z"
   },
   {
    "duration": 10,
    "start_time": "2022-12-17T17:57:08.774Z"
   },
   {
    "duration": 91,
    "start_time": "2022-12-17T17:57:36.543Z"
   },
   {
    "duration": 87,
    "start_time": "2022-12-17T17:57:38.019Z"
   },
   {
    "duration": 1631,
    "start_time": "2022-12-18T12:10:37.451Z"
   },
   {
    "duration": 1545,
    "start_time": "2022-12-18T12:10:42.204Z"
   },
   {
    "duration": 196,
    "start_time": "2022-12-18T12:10:43.751Z"
   },
   {
    "duration": 14,
    "start_time": "2022-12-18T12:10:43.949Z"
   },
   {
    "duration": 56,
    "start_time": "2022-12-18T12:10:43.965Z"
   },
   {
    "duration": 8,
    "start_time": "2022-12-18T12:10:44.022Z"
   },
   {
    "duration": 10,
    "start_time": "2022-12-18T12:10:44.032Z"
   },
   {
    "duration": 31,
    "start_time": "2022-12-18T12:10:44.043Z"
   },
   {
    "duration": 7,
    "start_time": "2022-12-18T12:10:44.075Z"
   },
   {
    "duration": 13,
    "start_time": "2022-12-18T12:10:44.084Z"
   },
   {
    "duration": 52,
    "start_time": "2022-12-18T12:10:44.100Z"
   },
   {
    "duration": 9,
    "start_time": "2022-12-18T12:10:44.154Z"
   },
   {
    "duration": 33,
    "start_time": "2022-12-18T12:10:44.165Z"
   },
   {
    "duration": 16,
    "start_time": "2022-12-18T12:10:44.200Z"
   },
   {
    "duration": 39,
    "start_time": "2022-12-18T12:10:44.219Z"
   },
   {
    "duration": 18,
    "start_time": "2022-12-18T12:10:44.259Z"
   },
   {
    "duration": 72,
    "start_time": "2022-12-18T12:10:44.279Z"
   },
   {
    "duration": 8,
    "start_time": "2022-12-18T12:10:44.353Z"
   },
   {
    "duration": 146,
    "start_time": "2022-12-18T12:10:44.362Z"
   },
   {
    "duration": 130,
    "start_time": "2022-12-18T12:10:44.511Z"
   },
   {
    "duration": 6,
    "start_time": "2022-12-18T12:10:44.643Z"
   },
   {
    "duration": 122,
    "start_time": "2022-12-18T12:10:44.650Z"
   },
   {
    "duration": 6,
    "start_time": "2022-12-18T12:10:44.774Z"
   },
   {
    "duration": 22,
    "start_time": "2022-12-18T12:10:44.782Z"
   },
   {
    "duration": 1707,
    "start_time": "2022-12-18T12:10:44.806Z"
   },
   {
    "duration": 289,
    "start_time": "2022-12-18T12:10:46.516Z"
   },
   {
    "duration": 112257,
    "start_time": "2022-12-18T12:10:46.807Z"
   },
   {
    "duration": 78,
    "start_time": "2022-12-18T12:12:39.066Z"
   },
   {
    "duration": 84,
    "start_time": "2022-12-18T12:12:39.147Z"
   },
   {
    "duration": 179,
    "start_time": "2022-12-18T12:12:39.232Z"
   },
   {
    "duration": 99,
    "start_time": "2022-12-18T12:12:39.412Z"
   },
   {
    "duration": 105,
    "start_time": "2022-12-18T12:12:39.513Z"
   },
   {
    "duration": 247,
    "start_time": "2022-12-18T12:12:39.620Z"
   },
   {
    "duration": 80,
    "start_time": "2022-12-18T12:12:39.869Z"
   },
   {
    "duration": 1442,
    "start_time": "2022-12-18T12:57:58.458Z"
   },
   {
    "duration": 57,
    "start_time": "2022-12-18T12:57:59.903Z"
   },
   {
    "duration": 14,
    "start_time": "2022-12-18T12:57:59.962Z"
   },
   {
    "duration": 41,
    "start_time": "2022-12-18T12:57:59.978Z"
   },
   {
    "duration": 8,
    "start_time": "2022-12-18T12:58:00.020Z"
   },
   {
    "duration": 22,
    "start_time": "2022-12-18T12:58:00.030Z"
   },
   {
    "duration": 23,
    "start_time": "2022-12-18T12:58:00.054Z"
   },
   {
    "duration": 11,
    "start_time": "2022-12-18T12:58:00.079Z"
   },
   {
    "duration": 13,
    "start_time": "2022-12-18T12:58:00.092Z"
   },
   {
    "duration": 29,
    "start_time": "2022-12-18T12:58:00.108Z"
   },
   {
    "duration": 11,
    "start_time": "2022-12-18T12:58:00.139Z"
   },
   {
    "duration": 23,
    "start_time": "2022-12-18T12:58:00.152Z"
   },
   {
    "duration": 7,
    "start_time": "2022-12-18T12:58:00.177Z"
   },
   {
    "duration": 25,
    "start_time": "2022-12-18T12:58:00.186Z"
   },
   {
    "duration": 14,
    "start_time": "2022-12-18T12:58:00.213Z"
   },
   {
    "duration": 55,
    "start_time": "2022-12-18T12:58:00.229Z"
   },
   {
    "duration": 9,
    "start_time": "2022-12-18T12:58:00.305Z"
   },
   {
    "duration": 157,
    "start_time": "2022-12-18T12:58:00.315Z"
   },
   {
    "duration": 115,
    "start_time": "2022-12-18T12:58:00.474Z"
   },
   {
    "duration": 20,
    "start_time": "2022-12-18T12:58:00.590Z"
   },
   {
    "duration": 120,
    "start_time": "2022-12-18T12:58:00.611Z"
   },
   {
    "duration": 7,
    "start_time": "2022-12-18T12:58:00.732Z"
   },
   {
    "duration": 35,
    "start_time": "2022-12-18T12:58:00.740Z"
   },
   {
    "duration": 1565,
    "start_time": "2022-12-18T12:58:00.777Z"
   },
   {
    "duration": 279,
    "start_time": "2022-12-18T12:58:02.344Z"
   },
   {
    "duration": 104505,
    "start_time": "2022-12-18T12:58:02.625Z"
   },
   {
    "duration": 76,
    "start_time": "2022-12-18T12:59:47.131Z"
   },
   {
    "duration": 67,
    "start_time": "2022-12-18T12:59:47.211Z"
   },
   {
    "duration": 135,
    "start_time": "2022-12-18T12:59:47.279Z"
   },
   {
    "duration": 201,
    "start_time": "2022-12-18T12:59:47.416Z"
   },
   {
    "duration": 186,
    "start_time": "2022-12-18T12:59:47.620Z"
   },
   {
    "duration": 170,
    "start_time": "2022-12-18T12:59:47.808Z"
   },
   {
    "duration": 74,
    "start_time": "2022-12-18T12:59:47.980Z"
   },
   {
    "duration": 114,
    "start_time": "2022-12-18T13:14:28.924Z"
   },
   {
    "duration": 21,
    "start_time": "2022-12-18T13:23:10.178Z"
   },
   {
    "duration": 44,
    "start_time": "2022-12-18T14:06:50.614Z"
   },
   {
    "duration": 215,
    "start_time": "2022-12-18T14:11:49.540Z"
   },
   {
    "duration": 454,
    "start_time": "2022-12-18T14:12:01.497Z"
   },
   {
    "duration": 4155,
    "start_time": "2022-12-18T14:15:24.476Z"
   },
   {
    "duration": 4001,
    "start_time": "2022-12-18T14:15:41.287Z"
   },
   {
    "duration": 85,
    "start_time": "2022-12-18T14:16:04.767Z"
   },
   {
    "duration": 13724,
    "start_time": "2022-12-18T14:16:09.376Z"
   },
   {
    "duration": 476,
    "start_time": "2022-12-18T14:18:00.071Z"
   },
   {
    "duration": 313,
    "start_time": "2022-12-18T14:20:03.413Z"
   },
   {
    "duration": 1467,
    "start_time": "2022-12-18T14:20:49.084Z"
   },
   {
    "duration": 63,
    "start_time": "2022-12-18T14:20:50.553Z"
   },
   {
    "duration": 14,
    "start_time": "2022-12-18T14:20:50.619Z"
   },
   {
    "duration": 43,
    "start_time": "2022-12-18T14:20:50.635Z"
   },
   {
    "duration": 36,
    "start_time": "2022-12-18T14:20:50.680Z"
   },
   {
    "duration": 6,
    "start_time": "2022-12-18T14:20:50.718Z"
   },
   {
    "duration": 26,
    "start_time": "2022-12-18T14:20:50.726Z"
   },
   {
    "duration": 8,
    "start_time": "2022-12-18T14:20:50.754Z"
   },
   {
    "duration": 8,
    "start_time": "2022-12-18T14:20:50.764Z"
   },
   {
    "duration": 46,
    "start_time": "2022-12-18T14:20:50.776Z"
   },
   {
    "duration": 11,
    "start_time": "2022-12-18T14:20:50.824Z"
   },
   {
    "duration": 21,
    "start_time": "2022-12-18T14:20:50.837Z"
   },
   {
    "duration": 8,
    "start_time": "2022-12-18T14:20:50.861Z"
   },
   {
    "duration": 51,
    "start_time": "2022-12-18T14:20:50.871Z"
   },
   {
    "duration": 141,
    "start_time": "2022-12-18T14:20:50.924Z"
   },
   {
    "duration": 12,
    "start_time": "2022-12-18T14:20:51.067Z"
   },
   {
    "duration": 67,
    "start_time": "2022-12-18T14:20:51.080Z"
   },
   {
    "duration": 1259,
    "start_time": "2022-12-18T14:20:51.148Z"
   },
   {
    "duration": 311,
    "start_time": "2022-12-18T14:20:52.409Z"
   },
   {
    "duration": 0,
    "start_time": "2022-12-18T14:20:52.725Z"
   },
   {
    "duration": 0,
    "start_time": "2022-12-18T14:20:52.726Z"
   },
   {
    "duration": 0,
    "start_time": "2022-12-18T14:20:52.728Z"
   },
   {
    "duration": 0,
    "start_time": "2022-12-18T14:20:52.730Z"
   },
   {
    "duration": 0,
    "start_time": "2022-12-18T14:20:52.731Z"
   },
   {
    "duration": 0,
    "start_time": "2022-12-18T14:20:52.733Z"
   },
   {
    "duration": 0,
    "start_time": "2022-12-18T14:20:52.735Z"
   },
   {
    "duration": 0,
    "start_time": "2022-12-18T14:20:52.736Z"
   },
   {
    "duration": 0,
    "start_time": "2022-12-18T14:20:52.738Z"
   },
   {
    "duration": 0,
    "start_time": "2022-12-18T14:20:52.739Z"
   },
   {
    "duration": 0,
    "start_time": "2022-12-18T14:20:52.740Z"
   },
   {
    "duration": 0,
    "start_time": "2022-12-18T14:20:52.742Z"
   },
   {
    "duration": 0,
    "start_time": "2022-12-18T14:20:52.743Z"
   },
   {
    "duration": 0,
    "start_time": "2022-12-18T14:20:52.745Z"
   },
   {
    "duration": 0,
    "start_time": "2022-12-18T14:20:52.746Z"
   },
   {
    "duration": 0,
    "start_time": "2022-12-18T14:20:52.748Z"
   },
   {
    "duration": 0,
    "start_time": "2022-12-18T14:20:52.749Z"
   },
   {
    "duration": 162,
    "start_time": "2022-12-18T14:21:35.344Z"
   },
   {
    "duration": 89,
    "start_time": "2022-12-18T14:21:55.622Z"
   },
   {
    "duration": 4,
    "start_time": "2022-12-18T14:25:04.595Z"
   },
   {
    "duration": 13,
    "start_time": "2022-12-18T14:27:55.560Z"
   },
   {
    "duration": 33,
    "start_time": "2022-12-18T14:32:41.685Z"
   },
   {
    "duration": 264,
    "start_time": "2022-12-18T14:33:49.920Z"
   },
   {
    "duration": 875,
    "start_time": "2022-12-18T14:34:04.967Z"
   },
   {
    "duration": 829,
    "start_time": "2022-12-18T14:34:12.824Z"
   },
   {
    "duration": 24,
    "start_time": "2022-12-18T14:35:52.649Z"
   },
   {
    "duration": 1357,
    "start_time": "2022-12-18T14:36:21.419Z"
   },
   {
    "duration": 59,
    "start_time": "2022-12-18T14:36:22.778Z"
   },
   {
    "duration": 11,
    "start_time": "2022-12-18T14:36:22.838Z"
   },
   {
    "duration": 37,
    "start_time": "2022-12-18T14:36:22.851Z"
   },
   {
    "duration": 10,
    "start_time": "2022-12-18T14:36:22.908Z"
   },
   {
    "duration": 6,
    "start_time": "2022-12-18T14:36:22.919Z"
   },
   {
    "duration": 16,
    "start_time": "2022-12-18T14:36:22.926Z"
   },
   {
    "duration": 6,
    "start_time": "2022-12-18T14:36:22.944Z"
   },
   {
    "duration": 6,
    "start_time": "2022-12-18T14:36:22.952Z"
   },
   {
    "duration": 14,
    "start_time": "2022-12-18T14:36:22.959Z"
   },
   {
    "duration": 42,
    "start_time": "2022-12-18T14:36:22.975Z"
   },
   {
    "duration": 23,
    "start_time": "2022-12-18T14:36:23.018Z"
   },
   {
    "duration": 8,
    "start_time": "2022-12-18T14:36:23.042Z"
   },
   {
    "duration": 16,
    "start_time": "2022-12-18T14:36:23.053Z"
   },
   {
    "duration": 147,
    "start_time": "2022-12-18T14:36:23.071Z"
   },
   {
    "duration": 13,
    "start_time": "2022-12-18T14:36:23.220Z"
   },
   {
    "duration": 43,
    "start_time": "2022-12-18T14:36:23.234Z"
   },
   {
    "duration": 1214,
    "start_time": "2022-12-18T14:36:23.279Z"
   },
   {
    "duration": 117,
    "start_time": "2022-12-18T14:36:24.495Z"
   },
   {
    "duration": 115,
    "start_time": "2022-12-18T14:36:24.613Z"
   },
   {
    "duration": 32,
    "start_time": "2022-12-18T14:36:24.729Z"
   },
   {
    "duration": 1667,
    "start_time": "2022-12-18T14:36:24.763Z"
   },
   {
    "duration": 5,
    "start_time": "2022-12-18T14:36:26.431Z"
   },
   {
    "duration": 171,
    "start_time": "2022-12-18T14:36:26.437Z"
   },
   {
    "duration": 127,
    "start_time": "2022-12-18T14:36:26.609Z"
   },
   {
    "duration": 6,
    "start_time": "2022-12-18T14:36:26.738Z"
   },
   {
    "duration": 219,
    "start_time": "2022-12-18T14:36:26.746Z"
   },
   {
    "duration": 9,
    "start_time": "2022-12-18T14:36:26.966Z"
   },
   {
    "duration": 93,
    "start_time": "2022-12-18T14:36:26.977Z"
   },
   {
    "duration": 6,
    "start_time": "2022-12-18T14:36:27.072Z"
   },
   {
    "duration": 8,
    "start_time": "2022-12-18T14:36:27.079Z"
   },
   {
    "duration": 1205,
    "start_time": "2022-12-18T14:36:27.107Z"
   },
   {
    "duration": 166,
    "start_time": "2022-12-18T14:36:28.317Z"
   },
   {
    "duration": 78636,
    "start_time": "2022-12-18T14:36:28.485Z"
   },
   {
    "duration": 69,
    "start_time": "2022-12-18T14:37:47.123Z"
   },
   {
    "duration": 94,
    "start_time": "2022-12-18T14:37:47.193Z"
   },
   {
    "duration": 224,
    "start_time": "2022-12-18T14:37:47.288Z"
   },
   {
    "duration": 109,
    "start_time": "2022-12-18T14:37:47.514Z"
   },
   {
    "duration": 189,
    "start_time": "2022-12-18T14:37:47.627Z"
   },
   {
    "duration": 152,
    "start_time": "2022-12-18T14:37:47.818Z"
   },
   {
    "duration": 81,
    "start_time": "2022-12-18T14:37:47.973Z"
   },
   {
    "duration": 50,
    "start_time": "2022-12-18T14:39:25.861Z"
   },
   {
    "duration": 781,
    "start_time": "2022-12-18T14:39:28.479Z"
   },
   {
    "duration": 33,
    "start_time": "2022-12-18T14:39:30.857Z"
   },
   {
    "duration": 50,
    "start_time": "2022-12-18T14:39:33.160Z"
   },
   {
    "duration": 1202,
    "start_time": "2022-12-18T14:39:34.983Z"
   },
   {
    "duration": 51,
    "start_time": "2022-12-18T14:39:36.761Z"
   },
   {
    "duration": 31,
    "start_time": "2022-12-18T14:54:13.354Z"
   },
   {
    "duration": 771,
    "start_time": "2022-12-18T14:55:43.414Z"
   },
   {
    "duration": 721,
    "start_time": "2022-12-18T14:56:09.248Z"
   },
   {
    "duration": 90,
    "start_time": "2022-12-18T14:57:13.916Z"
   },
   {
    "duration": 1366,
    "start_time": "2022-12-18T14:57:31.608Z"
   },
   {
    "duration": 57,
    "start_time": "2022-12-18T14:57:32.975Z"
   },
   {
    "duration": 12,
    "start_time": "2022-12-18T14:57:33.033Z"
   },
   {
    "duration": 38,
    "start_time": "2022-12-18T14:57:33.047Z"
   },
   {
    "duration": 24,
    "start_time": "2022-12-18T14:57:33.087Z"
   },
   {
    "duration": 5,
    "start_time": "2022-12-18T14:57:33.113Z"
   },
   {
    "duration": 17,
    "start_time": "2022-12-18T14:57:33.120Z"
   },
   {
    "duration": 7,
    "start_time": "2022-12-18T14:57:33.138Z"
   },
   {
    "duration": 7,
    "start_time": "2022-12-18T14:57:33.147Z"
   },
   {
    "duration": 14,
    "start_time": "2022-12-18T14:57:33.157Z"
   },
   {
    "duration": 10,
    "start_time": "2022-12-18T14:57:33.205Z"
   },
   {
    "duration": 22,
    "start_time": "2022-12-18T14:57:33.217Z"
   },
   {
    "duration": 7,
    "start_time": "2022-12-18T14:57:33.241Z"
   },
   {
    "duration": 22,
    "start_time": "2022-12-18T14:57:33.249Z"
   },
   {
    "duration": 143,
    "start_time": "2022-12-18T14:57:33.272Z"
   },
   {
    "duration": 11,
    "start_time": "2022-12-18T14:57:33.417Z"
   },
   {
    "duration": 44,
    "start_time": "2022-12-18T14:57:33.429Z"
   },
   {
    "duration": 1219,
    "start_time": "2022-12-18T14:57:33.474Z"
   },
   {
    "duration": 211,
    "start_time": "2022-12-18T14:57:34.695Z"
   },
   {
    "duration": 96,
    "start_time": "2022-12-18T14:57:34.909Z"
   },
   {
    "duration": 35,
    "start_time": "2022-12-18T14:57:35.007Z"
   },
   {
    "duration": 1567,
    "start_time": "2022-12-18T14:57:35.044Z"
   },
   {
    "duration": 191,
    "start_time": "2022-12-18T14:57:36.613Z"
   },
   {
    "duration": 231,
    "start_time": "2022-12-18T14:57:36.807Z"
   },
   {
    "duration": 0,
    "start_time": "2022-12-18T14:57:37.040Z"
   },
   {
    "duration": 0,
    "start_time": "2022-12-18T14:57:37.041Z"
   },
   {
    "duration": 0,
    "start_time": "2022-12-18T14:57:37.042Z"
   },
   {
    "duration": 0,
    "start_time": "2022-12-18T14:57:37.043Z"
   },
   {
    "duration": 0,
    "start_time": "2022-12-18T14:57:37.044Z"
   },
   {
    "duration": 0,
    "start_time": "2022-12-18T14:57:37.045Z"
   },
   {
    "duration": 0,
    "start_time": "2022-12-18T14:57:37.046Z"
   },
   {
    "duration": 0,
    "start_time": "2022-12-18T14:57:37.047Z"
   },
   {
    "duration": 0,
    "start_time": "2022-12-18T14:57:37.048Z"
   },
   {
    "duration": 0,
    "start_time": "2022-12-18T14:57:37.049Z"
   },
   {
    "duration": 0,
    "start_time": "2022-12-18T14:57:37.050Z"
   },
   {
    "duration": 0,
    "start_time": "2022-12-18T14:57:37.051Z"
   },
   {
    "duration": 0,
    "start_time": "2022-12-18T14:57:37.052Z"
   },
   {
    "duration": 0,
    "start_time": "2022-12-18T14:57:37.053Z"
   },
   {
    "duration": 0,
    "start_time": "2022-12-18T14:57:37.054Z"
   },
   {
    "duration": 0,
    "start_time": "2022-12-18T14:57:37.055Z"
   },
   {
    "duration": 70,
    "start_time": "2022-12-18T15:00:20.567Z"
   },
   {
    "duration": 81,
    "start_time": "2022-12-18T15:00:30.678Z"
   },
   {
    "duration": 4,
    "start_time": "2022-12-18T15:00:59.103Z"
   },
   {
    "duration": 4,
    "start_time": "2022-12-18T15:01:19.976Z"
   },
   {
    "duration": 21,
    "start_time": "2022-12-18T15:09:50.790Z"
   },
   {
    "duration": 3,
    "start_time": "2022-12-18T15:13:52.738Z"
   },
   {
    "duration": 5,
    "start_time": "2022-12-18T15:21:28.599Z"
   },
   {
    "duration": 9,
    "start_time": "2022-12-18T15:21:53.535Z"
   },
   {
    "duration": 15,
    "start_time": "2022-12-18T15:22:10.550Z"
   },
   {
    "duration": 815,
    "start_time": "2022-12-18T15:22:49.734Z"
   },
   {
    "duration": 1043,
    "start_time": "2022-12-18T15:22:56.761Z"
   },
   {
    "duration": 9,
    "start_time": "2022-12-18T15:26:59.615Z"
   },
   {
    "duration": 17,
    "start_time": "2022-12-18T15:27:21.048Z"
   },
   {
    "duration": 17,
    "start_time": "2022-12-18T15:28:36.086Z"
   },
   {
    "duration": 1000,
    "start_time": "2022-12-18T15:29:04.879Z"
   },
   {
    "duration": 938,
    "start_time": "2022-12-18T15:29:09.358Z"
   },
   {
    "duration": 3,
    "start_time": "2022-12-18T15:30:06.510Z"
   },
   {
    "duration": 1384,
    "start_time": "2022-12-18T15:31:33.477Z"
   },
   {
    "duration": 57,
    "start_time": "2022-12-18T15:31:34.863Z"
   },
   {
    "duration": 16,
    "start_time": "2022-12-18T15:31:34.922Z"
   },
   {
    "duration": 46,
    "start_time": "2022-12-18T15:31:34.940Z"
   },
   {
    "duration": 22,
    "start_time": "2022-12-18T15:31:34.989Z"
   },
   {
    "duration": 3,
    "start_time": "2022-12-18T15:31:35.013Z"
   },
   {
    "duration": 24,
    "start_time": "2022-12-18T15:31:35.018Z"
   },
   {
    "duration": 10,
    "start_time": "2022-12-18T15:31:35.044Z"
   },
   {
    "duration": 6,
    "start_time": "2022-12-18T15:31:35.056Z"
   },
   {
    "duration": 46,
    "start_time": "2022-12-18T15:31:35.063Z"
   },
   {
    "duration": 9,
    "start_time": "2022-12-18T15:31:35.110Z"
   },
   {
    "duration": 26,
    "start_time": "2022-12-18T15:31:35.120Z"
   },
   {
    "duration": 8,
    "start_time": "2022-12-18T15:31:35.148Z"
   },
   {
    "duration": 45,
    "start_time": "2022-12-18T15:31:35.159Z"
   },
   {
    "duration": 146,
    "start_time": "2022-12-18T15:31:35.206Z"
   },
   {
    "duration": 11,
    "start_time": "2022-12-18T15:31:35.354Z"
   },
   {
    "duration": 58,
    "start_time": "2022-12-18T15:31:35.367Z"
   },
   {
    "duration": 1132,
    "start_time": "2022-12-18T15:31:35.427Z"
   },
   {
    "duration": 146,
    "start_time": "2022-12-18T15:31:36.560Z"
   },
   {
    "duration": 99,
    "start_time": "2022-12-18T15:31:36.709Z"
   },
   {
    "duration": 34,
    "start_time": "2022-12-18T15:31:36.810Z"
   },
   {
    "duration": 778,
    "start_time": "2022-12-18T15:31:36.846Z"
   },
   {
    "duration": 82,
    "start_time": "2022-12-18T15:31:37.625Z"
   },
   {
    "duration": 97,
    "start_time": "2022-12-18T15:31:37.709Z"
   },
   {
    "duration": 966,
    "start_time": "2022-12-18T15:31:37.808Z"
   },
   {
    "duration": 3,
    "start_time": "2022-12-18T15:31:38.776Z"
   },
   {
    "duration": 49,
    "start_time": "2022-12-18T15:31:38.781Z"
   },
   {
    "duration": 0,
    "start_time": "2022-12-18T15:31:38.831Z"
   },
   {
    "duration": 0,
    "start_time": "2022-12-18T15:31:38.832Z"
   },
   {
    "duration": 0,
    "start_time": "2022-12-18T15:31:38.833Z"
   },
   {
    "duration": 0,
    "start_time": "2022-12-18T15:31:38.834Z"
   },
   {
    "duration": 0,
    "start_time": "2022-12-18T15:31:38.835Z"
   },
   {
    "duration": 0,
    "start_time": "2022-12-18T15:31:38.836Z"
   },
   {
    "duration": 0,
    "start_time": "2022-12-18T15:31:38.837Z"
   },
   {
    "duration": 0,
    "start_time": "2022-12-18T15:31:38.839Z"
   },
   {
    "duration": 0,
    "start_time": "2022-12-18T15:31:38.840Z"
   },
   {
    "duration": 0,
    "start_time": "2022-12-18T15:31:38.841Z"
   },
   {
    "duration": 0,
    "start_time": "2022-12-18T15:31:38.842Z"
   },
   {
    "duration": 0,
    "start_time": "2022-12-18T15:31:38.844Z"
   },
   {
    "duration": 31,
    "start_time": "2022-12-18T15:33:29.044Z"
   },
   {
    "duration": 33,
    "start_time": "2022-12-18T15:38:08.841Z"
   },
   {
    "duration": 43,
    "start_time": "2022-12-18T15:39:46.804Z"
   },
   {
    "duration": 41,
    "start_time": "2022-12-18T15:48:45.275Z"
   },
   {
    "duration": 171,
    "start_time": "2022-12-18T15:54:03.700Z"
   },
   {
    "duration": 6217,
    "start_time": "2022-12-18T15:54:32.810Z"
   },
   {
    "duration": 8645,
    "start_time": "2022-12-18T15:55:07.434Z"
   },
   {
    "duration": 373,
    "start_time": "2022-12-18T15:58:52.629Z"
   },
   {
    "duration": 554,
    "start_time": "2022-12-18T15:59:51.205Z"
   },
   {
    "duration": 39,
    "start_time": "2022-12-18T16:01:57.707Z"
   },
   {
    "duration": 7473,
    "start_time": "2022-12-18T16:02:19.233Z"
   },
   {
    "duration": 19,
    "start_time": "2022-12-18T16:08:52.257Z"
   },
   {
    "duration": 21,
    "start_time": "2022-12-18T17:04:48.026Z"
   },
   {
    "duration": 69,
    "start_time": "2022-12-18T17:06:40.535Z"
   },
   {
    "duration": 558,
    "start_time": "2022-12-18T17:09:40.415Z"
   },
   {
    "duration": 392,
    "start_time": "2022-12-18T17:09:45.736Z"
   },
   {
    "duration": 549,
    "start_time": "2022-12-18T17:11:16.756Z"
   },
   {
    "duration": 608,
    "start_time": "2022-12-18T17:11:37.027Z"
   },
   {
    "duration": 392,
    "start_time": "2022-12-18T17:12:42.736Z"
   },
   {
    "duration": 33,
    "start_time": "2022-12-18T17:14:29.124Z"
   },
   {
    "duration": 24,
    "start_time": "2022-12-18T17:15:37.188Z"
   },
   {
    "duration": 10,
    "start_time": "2022-12-18T17:16:11.622Z"
   },
   {
    "duration": 8,
    "start_time": "2022-12-18T17:16:17.911Z"
   },
   {
    "duration": 84,
    "start_time": "2022-12-18T17:16:33.928Z"
   },
   {
    "duration": 59,
    "start_time": "2022-12-18T17:20:05.490Z"
   },
   {
    "duration": 18,
    "start_time": "2022-12-18T17:21:06.189Z"
   },
   {
    "duration": 14,
    "start_time": "2022-12-18T17:24:54.073Z"
   },
   {
    "duration": 1394,
    "start_time": "2022-12-18T17:25:00.214Z"
   },
   {
    "duration": 56,
    "start_time": "2022-12-18T17:25:01.610Z"
   },
   {
    "duration": 14,
    "start_time": "2022-12-18T17:25:01.667Z"
   },
   {
    "duration": 38,
    "start_time": "2022-12-18T17:25:01.683Z"
   },
   {
    "duration": 7,
    "start_time": "2022-12-18T17:25:01.723Z"
   },
   {
    "duration": 6,
    "start_time": "2022-12-18T17:25:01.732Z"
   },
   {
    "duration": 17,
    "start_time": "2022-12-18T17:25:01.739Z"
   },
   {
    "duration": 8,
    "start_time": "2022-12-18T17:25:01.758Z"
   },
   {
    "duration": 5,
    "start_time": "2022-12-18T17:25:01.768Z"
   },
   {
    "duration": 14,
    "start_time": "2022-12-18T17:25:01.805Z"
   },
   {
    "duration": 29,
    "start_time": "2022-12-18T17:25:01.821Z"
   },
   {
    "duration": 43,
    "start_time": "2022-12-18T17:25:01.852Z"
   },
   {
    "duration": 15,
    "start_time": "2022-12-18T17:25:01.896Z"
   },
   {
    "duration": 19,
    "start_time": "2022-12-18T17:25:01.912Z"
   },
   {
    "duration": 143,
    "start_time": "2022-12-18T17:25:01.932Z"
   },
   {
    "duration": 10,
    "start_time": "2022-12-18T17:25:02.077Z"
   },
   {
    "duration": 135,
    "start_time": "2022-12-18T17:25:02.089Z"
   },
   {
    "duration": 1091,
    "start_time": "2022-12-18T17:25:02.226Z"
   },
   {
    "duration": 87,
    "start_time": "2022-12-18T17:25:03.318Z"
   },
   {
    "duration": 103,
    "start_time": "2022-12-18T17:25:03.408Z"
   },
   {
    "duration": 31,
    "start_time": "2022-12-18T17:25:03.513Z"
   },
   {
    "duration": 752,
    "start_time": "2022-12-18T17:25:03.546Z"
   },
   {
    "duration": 26,
    "start_time": "2022-12-18T17:25:04.304Z"
   },
   {
    "duration": 1072,
    "start_time": "2022-12-18T17:25:04.407Z"
   },
   {
    "duration": 52,
    "start_time": "2022-12-18T17:25:05.481Z"
   },
   {
    "duration": 33,
    "start_time": "2022-12-18T17:25:05.534Z"
   },
   {
    "duration": 8692,
    "start_time": "2022-12-18T17:25:05.568Z"
   },
   {
    "duration": 595,
    "start_time": "2022-12-18T17:25:14.262Z"
   },
   {
    "duration": 413,
    "start_time": "2022-12-18T17:25:14.859Z"
   },
   {
    "duration": 11731,
    "start_time": "2022-12-18T17:25:15.274Z"
   },
   {
    "duration": 196,
    "start_time": "2022-12-18T17:25:27.010Z"
   },
   {
    "duration": 323,
    "start_time": "2022-12-18T17:25:27.208Z"
   },
   {
    "duration": 65,
    "start_time": "2022-12-18T17:25:27.533Z"
   },
   {
    "duration": 1335,
    "start_time": "2022-12-18T17:29:55.491Z"
   },
   {
    "duration": 54,
    "start_time": "2022-12-18T17:29:56.828Z"
   },
   {
    "duration": 13,
    "start_time": "2022-12-18T17:29:56.884Z"
   },
   {
    "duration": 36,
    "start_time": "2022-12-18T17:29:56.899Z"
   },
   {
    "duration": 8,
    "start_time": "2022-12-18T17:29:56.936Z"
   },
   {
    "duration": 8,
    "start_time": "2022-12-18T17:29:56.945Z"
   },
   {
    "duration": 15,
    "start_time": "2022-12-18T17:29:56.954Z"
   },
   {
    "duration": 6,
    "start_time": "2022-12-18T17:29:56.970Z"
   },
   {
    "duration": 27,
    "start_time": "2022-12-18T17:29:56.978Z"
   },
   {
    "duration": 113,
    "start_time": "2022-12-18T17:29:57.008Z"
   },
   {
    "duration": 0,
    "start_time": "2022-12-18T17:29:57.123Z"
   },
   {
    "duration": 0,
    "start_time": "2022-12-18T17:29:57.124Z"
   },
   {
    "duration": 0,
    "start_time": "2022-12-18T17:29:57.125Z"
   },
   {
    "duration": 0,
    "start_time": "2022-12-18T17:29:57.126Z"
   },
   {
    "duration": 0,
    "start_time": "2022-12-18T17:29:57.127Z"
   },
   {
    "duration": 0,
    "start_time": "2022-12-18T17:29:57.128Z"
   },
   {
    "duration": 0,
    "start_time": "2022-12-18T17:29:57.129Z"
   },
   {
    "duration": 0,
    "start_time": "2022-12-18T17:29:57.130Z"
   },
   {
    "duration": 0,
    "start_time": "2022-12-18T17:29:57.131Z"
   },
   {
    "duration": 0,
    "start_time": "2022-12-18T17:29:57.132Z"
   },
   {
    "duration": 0,
    "start_time": "2022-12-18T17:29:57.133Z"
   },
   {
    "duration": 0,
    "start_time": "2022-12-18T17:29:57.134Z"
   },
   {
    "duration": 0,
    "start_time": "2022-12-18T17:29:57.135Z"
   },
   {
    "duration": 0,
    "start_time": "2022-12-18T17:29:57.136Z"
   },
   {
    "duration": 0,
    "start_time": "2022-12-18T17:29:57.138Z"
   },
   {
    "duration": 0,
    "start_time": "2022-12-18T17:29:57.139Z"
   },
   {
    "duration": 0,
    "start_time": "2022-12-18T17:29:57.140Z"
   },
   {
    "duration": 0,
    "start_time": "2022-12-18T17:29:57.141Z"
   },
   {
    "duration": 0,
    "start_time": "2022-12-18T17:29:57.142Z"
   },
   {
    "duration": 0,
    "start_time": "2022-12-18T17:29:57.143Z"
   },
   {
    "duration": 0,
    "start_time": "2022-12-18T17:29:57.144Z"
   },
   {
    "duration": 0,
    "start_time": "2022-12-18T17:29:57.145Z"
   },
   {
    "duration": 0,
    "start_time": "2022-12-18T17:29:57.146Z"
   },
   {
    "duration": 15,
    "start_time": "2022-12-18T17:30:23.133Z"
   },
   {
    "duration": 1319,
    "start_time": "2022-12-18T17:30:37.632Z"
   },
   {
    "duration": 56,
    "start_time": "2022-12-18T17:30:38.953Z"
   },
   {
    "duration": 13,
    "start_time": "2022-12-18T17:30:39.011Z"
   },
   {
    "duration": 37,
    "start_time": "2022-12-18T17:30:39.026Z"
   },
   {
    "duration": 7,
    "start_time": "2022-12-18T17:30:39.065Z"
   },
   {
    "duration": 32,
    "start_time": "2022-12-18T17:30:39.073Z"
   },
   {
    "duration": 14,
    "start_time": "2022-12-18T17:30:39.106Z"
   },
   {
    "duration": 7,
    "start_time": "2022-12-18T17:30:39.121Z"
   },
   {
    "duration": 11,
    "start_time": "2022-12-18T17:30:39.129Z"
   },
   {
    "duration": 12,
    "start_time": "2022-12-18T17:30:39.143Z"
   },
   {
    "duration": 7,
    "start_time": "2022-12-18T17:30:39.157Z"
   },
   {
    "duration": 43,
    "start_time": "2022-12-18T17:30:39.165Z"
   },
   {
    "duration": 12,
    "start_time": "2022-12-18T17:30:39.210Z"
   },
   {
    "duration": 17,
    "start_time": "2022-12-18T17:30:39.223Z"
   },
   {
    "duration": 129,
    "start_time": "2022-12-18T17:30:39.241Z"
   },
   {
    "duration": 10,
    "start_time": "2022-12-18T17:30:39.371Z"
   },
   {
    "duration": 56,
    "start_time": "2022-12-18T17:30:39.382Z"
   },
   {
    "duration": 1081,
    "start_time": "2022-12-18T17:30:39.440Z"
   },
   {
    "duration": 84,
    "start_time": "2022-12-18T17:30:40.523Z"
   },
   {
    "duration": 101,
    "start_time": "2022-12-18T17:30:40.609Z"
   },
   {
    "duration": 33,
    "start_time": "2022-12-18T17:30:40.711Z"
   },
   {
    "duration": 760,
    "start_time": "2022-12-18T17:30:40.746Z"
   },
   {
    "duration": 97,
    "start_time": "2022-12-18T17:30:41.508Z"
   },
   {
    "duration": 1022,
    "start_time": "2022-12-18T17:30:41.607Z"
   },
   {
    "duration": 42,
    "start_time": "2022-12-18T17:30:42.631Z"
   },
   {
    "duration": 42,
    "start_time": "2022-12-18T17:30:42.675Z"
   },
   {
    "duration": 10644,
    "start_time": "2022-12-18T17:30:42.719Z"
   },
   {
    "duration": 602,
    "start_time": "2022-12-18T17:30:53.368Z"
   },
   {
    "duration": 425,
    "start_time": "2022-12-18T17:30:53.972Z"
   },
   {
    "duration": 17114,
    "start_time": "2022-12-18T17:30:54.399Z"
   },
   {
    "duration": 200,
    "start_time": "2022-12-18T17:31:11.606Z"
   },
   {
    "duration": 439,
    "start_time": "2022-12-18T17:31:11.809Z"
   },
   {
    "duration": 94,
    "start_time": "2022-12-18T17:31:12.250Z"
   },
   {
    "duration": 88,
    "start_time": "2022-12-18T17:31:33.255Z"
   },
   {
    "duration": 59,
    "start_time": "2022-12-18T17:31:41.654Z"
   },
   {
    "duration": 723,
    "start_time": "2022-12-18T17:32:20.827Z"
   },
   {
    "duration": 11,
    "start_time": "2022-12-18T17:32:54.078Z"
   },
   {
    "duration": 1287,
    "start_time": "2022-12-18T17:33:24.839Z"
   },
   {
    "duration": 56,
    "start_time": "2022-12-18T17:33:26.127Z"
   },
   {
    "duration": 12,
    "start_time": "2022-12-18T17:33:26.184Z"
   },
   {
    "duration": 39,
    "start_time": "2022-12-18T17:33:26.198Z"
   },
   {
    "duration": 7,
    "start_time": "2022-12-18T17:33:26.238Z"
   },
   {
    "duration": 5,
    "start_time": "2022-12-18T17:33:26.246Z"
   },
   {
    "duration": 15,
    "start_time": "2022-12-18T17:33:26.252Z"
   },
   {
    "duration": 7,
    "start_time": "2022-12-18T17:33:26.268Z"
   },
   {
    "duration": 31,
    "start_time": "2022-12-18T17:33:26.276Z"
   },
   {
    "duration": 12,
    "start_time": "2022-12-18T17:33:26.309Z"
   },
   {
    "duration": 8,
    "start_time": "2022-12-18T17:33:26.323Z"
   },
   {
    "duration": 19,
    "start_time": "2022-12-18T17:33:26.332Z"
   },
   {
    "duration": 12,
    "start_time": "2022-12-18T17:33:26.352Z"
   },
   {
    "duration": 46,
    "start_time": "2022-12-18T17:33:26.365Z"
   },
   {
    "duration": 127,
    "start_time": "2022-12-18T17:33:26.413Z"
   },
   {
    "duration": 11,
    "start_time": "2022-12-18T17:33:26.541Z"
   },
   {
    "duration": 55,
    "start_time": "2022-12-18T17:33:26.554Z"
   },
   {
    "duration": 1109,
    "start_time": "2022-12-18T17:33:26.610Z"
   },
   {
    "duration": 85,
    "start_time": "2022-12-18T17:33:27.721Z"
   },
   {
    "duration": 103,
    "start_time": "2022-12-18T17:33:27.809Z"
   },
   {
    "duration": 30,
    "start_time": "2022-12-18T17:33:27.913Z"
   },
   {
    "duration": 757,
    "start_time": "2022-12-18T17:33:27.944Z"
   },
   {
    "duration": 26,
    "start_time": "2022-12-18T17:33:28.704Z"
   },
   {
    "duration": 1051,
    "start_time": "2022-12-18T17:33:28.806Z"
   },
   {
    "duration": 52,
    "start_time": "2022-12-18T17:33:29.859Z"
   },
   {
    "duration": 32,
    "start_time": "2022-12-18T17:33:29.913Z"
   },
   {
    "duration": 8721,
    "start_time": "2022-12-18T17:33:29.947Z"
   },
   {
    "duration": 682,
    "start_time": "2022-12-18T17:33:38.671Z"
   },
   {
    "duration": 396,
    "start_time": "2022-12-18T17:33:39.354Z"
   },
   {
    "duration": 11754,
    "start_time": "2022-12-18T17:33:39.752Z"
   },
   {
    "duration": 197,
    "start_time": "2022-12-18T17:33:51.510Z"
   },
   {
    "duration": 279,
    "start_time": "2022-12-18T17:33:51.709Z"
   },
   {
    "duration": 61,
    "start_time": "2022-12-18T17:33:51.990Z"
   },
   {
    "duration": 590,
    "start_time": "2022-12-18T17:33:52.053Z"
   },
   {
    "duration": 665,
    "start_time": "2022-12-18T17:34:29.970Z"
   },
   {
    "duration": 454,
    "start_time": "2022-12-18T17:34:44.152Z"
   },
   {
    "duration": 109,
    "start_time": "2022-12-18T17:34:55.850Z"
   },
   {
    "duration": 50,
    "start_time": "2022-12-18T17:35:29.954Z"
   },
   {
    "duration": 65,
    "start_time": "2022-12-18T17:35:36.395Z"
   },
   {
    "duration": 21,
    "start_time": "2022-12-18T17:37:29.674Z"
   },
   {
    "duration": 12,
    "start_time": "2022-12-18T17:38:35.803Z"
   },
   {
    "duration": 1349,
    "start_time": "2022-12-18T17:38:59.509Z"
   },
   {
    "duration": 55,
    "start_time": "2022-12-18T17:39:00.861Z"
   },
   {
    "duration": 14,
    "start_time": "2022-12-18T17:39:00.918Z"
   },
   {
    "duration": 45,
    "start_time": "2022-12-18T17:39:00.934Z"
   },
   {
    "duration": 7,
    "start_time": "2022-12-18T17:39:00.981Z"
   },
   {
    "duration": 24,
    "start_time": "2022-12-18T17:39:00.989Z"
   },
   {
    "duration": 55,
    "start_time": "2022-12-18T17:39:01.015Z"
   },
   {
    "duration": 12,
    "start_time": "2022-12-18T17:39:01.072Z"
   },
   {
    "duration": 13,
    "start_time": "2022-12-18T17:39:01.086Z"
   },
   {
    "duration": 25,
    "start_time": "2022-12-18T17:39:01.102Z"
   },
   {
    "duration": 9,
    "start_time": "2022-12-18T17:39:01.129Z"
   },
   {
    "duration": 40,
    "start_time": "2022-12-18T17:39:01.140Z"
   },
   {
    "duration": 18,
    "start_time": "2022-12-18T17:39:01.182Z"
   },
   {
    "duration": 26,
    "start_time": "2022-12-18T17:39:01.201Z"
   },
   {
    "duration": 134,
    "start_time": "2022-12-18T17:39:01.229Z"
   },
   {
    "duration": 11,
    "start_time": "2022-12-18T17:39:01.364Z"
   },
   {
    "duration": 53,
    "start_time": "2022-12-18T17:39:01.377Z"
   },
   {
    "duration": 989,
    "start_time": "2022-12-18T17:39:01.432Z"
   },
   {
    "duration": 84,
    "start_time": "2022-12-18T17:39:02.423Z"
   },
   {
    "duration": 104,
    "start_time": "2022-12-18T17:39:02.509Z"
   },
   {
    "duration": 32,
    "start_time": "2022-12-18T17:39:02.615Z"
   },
   {
    "duration": 684,
    "start_time": "2022-12-18T17:39:02.648Z"
   },
   {
    "duration": 72,
    "start_time": "2022-12-18T17:39:03.334Z"
   },
   {
    "duration": 1005,
    "start_time": "2022-12-18T17:39:03.408Z"
   },
   {
    "duration": 43,
    "start_time": "2022-12-18T17:39:04.415Z"
   },
   {
    "duration": 46,
    "start_time": "2022-12-18T17:39:04.459Z"
   },
   {
    "duration": 12102,
    "start_time": "2022-12-18T17:39:04.507Z"
   },
   {
    "duration": 590,
    "start_time": "2022-12-18T17:39:16.612Z"
   },
   {
    "duration": 533,
    "start_time": "2022-12-18T17:39:17.205Z"
   },
   {
    "duration": 11366,
    "start_time": "2022-12-18T17:39:17.740Z"
   },
   {
    "duration": 123,
    "start_time": "2022-12-18T17:39:29.108Z"
   },
   {
    "duration": 117,
    "start_time": "2022-12-18T17:39:29.306Z"
   },
   {
    "duration": 159,
    "start_time": "2022-12-18T17:39:29.506Z"
   },
   {
    "duration": 528,
    "start_time": "2022-12-18T17:39:51.183Z"
   },
   {
    "duration": 383,
    "start_time": "2022-12-18T17:40:00.176Z"
   },
   {
    "duration": 392,
    "start_time": "2022-12-18T17:40:19.313Z"
   },
   {
    "duration": 358,
    "start_time": "2022-12-18T17:40:32.856Z"
   },
   {
    "duration": 61,
    "start_time": "2022-12-18T17:40:39.313Z"
   },
   {
    "duration": 13434,
    "start_time": "2022-12-18T17:41:44.771Z"
   },
   {
    "duration": 374,
    "start_time": "2022-12-18T17:42:25.823Z"
   },
   {
    "duration": 264,
    "start_time": "2022-12-18T17:42:45.265Z"
   },
   {
    "duration": 44,
    "start_time": "2022-12-18T17:43:16.863Z"
   },
   {
    "duration": 59,
    "start_time": "2022-12-18T17:46:16.248Z"
   },
   {
    "duration": 26,
    "start_time": "2022-12-18T17:46:22.818Z"
   },
   {
    "duration": 46,
    "start_time": "2022-12-18T17:46:46.360Z"
   },
   {
    "duration": 119,
    "start_time": "2022-12-19T11:24:07.460Z"
   },
   {
    "duration": 1623,
    "start_time": "2022-12-19T11:24:14.734Z"
   },
   {
    "duration": 197,
    "start_time": "2022-12-19T11:24:16.359Z"
   },
   {
    "duration": 17,
    "start_time": "2022-12-19T11:24:16.557Z"
   },
   {
    "duration": 62,
    "start_time": "2022-12-19T11:24:16.577Z"
   },
   {
    "duration": 16,
    "start_time": "2022-12-19T11:24:16.640Z"
   },
   {
    "duration": 24,
    "start_time": "2022-12-19T11:24:16.658Z"
   },
   {
    "duration": 33,
    "start_time": "2022-12-19T11:24:16.684Z"
   },
   {
    "duration": 12,
    "start_time": "2022-12-19T11:24:16.719Z"
   },
   {
    "duration": 30,
    "start_time": "2022-12-19T11:24:16.733Z"
   },
   {
    "duration": 30,
    "start_time": "2022-12-19T11:24:16.765Z"
   },
   {
    "duration": 22,
    "start_time": "2022-12-19T11:24:16.797Z"
   },
   {
    "duration": 50,
    "start_time": "2022-12-19T11:24:16.821Z"
   },
   {
    "duration": 22,
    "start_time": "2022-12-19T11:24:16.873Z"
   },
   {
    "duration": 53,
    "start_time": "2022-12-19T11:24:16.897Z"
   },
   {
    "duration": 166,
    "start_time": "2022-12-19T11:24:16.952Z"
   },
   {
    "duration": 13,
    "start_time": "2022-12-19T11:24:17.119Z"
   },
   {
    "duration": 71,
    "start_time": "2022-12-19T11:24:17.134Z"
   },
   {
    "duration": 1094,
    "start_time": "2022-12-19T11:24:17.207Z"
   },
   {
    "duration": 153,
    "start_time": "2022-12-19T11:24:18.303Z"
   },
   {
    "duration": 97,
    "start_time": "2022-12-19T11:24:18.461Z"
   },
   {
    "duration": 43,
    "start_time": "2022-12-19T11:24:18.559Z"
   },
   {
    "duration": 797,
    "start_time": "2022-12-19T11:24:18.603Z"
   },
   {
    "duration": 153,
    "start_time": "2022-12-19T11:24:19.404Z"
   },
   {
    "duration": 1329,
    "start_time": "2022-12-19T11:24:19.559Z"
   },
   {
    "duration": 61,
    "start_time": "2022-12-19T11:24:20.890Z"
   },
   {
    "duration": 43,
    "start_time": "2022-12-19T11:24:20.954Z"
   },
   {
    "duration": 23574,
    "start_time": "2022-12-19T11:24:20.999Z"
   },
   {
    "duration": 403,
    "start_time": "2022-12-19T11:24:44.577Z"
   },
   {
    "duration": 292,
    "start_time": "2022-12-19T11:24:44.981Z"
   },
   {
    "duration": 13979,
    "start_time": "2022-12-19T11:24:45.275Z"
   },
   {
    "duration": 118,
    "start_time": "2022-12-19T11:24:59.256Z"
   },
   {
    "duration": 199,
    "start_time": "2022-12-19T11:24:59.452Z"
   },
   {
    "duration": 165,
    "start_time": "2022-12-19T11:24:59.656Z"
   },
   {
    "duration": 54,
    "start_time": "2022-12-19T11:24:59.823Z"
   },
   {
    "duration": 39,
    "start_time": "2022-12-19T11:24:59.881Z"
   },
   {
    "duration": 72,
    "start_time": "2022-12-19T11:35:58.291Z"
   },
   {
    "duration": 97,
    "start_time": "2022-12-19T11:36:04.856Z"
   },
   {
    "duration": 133,
    "start_time": "2022-12-19T11:51:21.097Z"
   },
   {
    "duration": 43,
    "start_time": "2022-12-19T11:54:05.762Z"
   },
   {
    "duration": 1413,
    "start_time": "2022-12-19T12:34:54.285Z"
   },
   {
    "duration": 56,
    "start_time": "2022-12-19T12:34:55.700Z"
   },
   {
    "duration": 15,
    "start_time": "2022-12-19T12:34:55.758Z"
   },
   {
    "duration": 44,
    "start_time": "2022-12-19T12:34:55.776Z"
   },
   {
    "duration": 35,
    "start_time": "2022-12-19T12:34:55.822Z"
   },
   {
    "duration": 9,
    "start_time": "2022-12-19T12:34:55.859Z"
   },
   {
    "duration": 17,
    "start_time": "2022-12-19T12:34:55.870Z"
   },
   {
    "duration": 9,
    "start_time": "2022-12-19T12:34:55.889Z"
   },
   {
    "duration": 9,
    "start_time": "2022-12-19T12:34:55.900Z"
   },
   {
    "duration": 46,
    "start_time": "2022-12-19T12:34:55.912Z"
   },
   {
    "duration": 27,
    "start_time": "2022-12-19T12:34:55.960Z"
   },
   {
    "duration": 23,
    "start_time": "2022-12-19T12:34:55.989Z"
   },
   {
    "duration": 14,
    "start_time": "2022-12-19T12:34:56.014Z"
   },
   {
    "duration": 28,
    "start_time": "2022-12-19T12:34:56.030Z"
   },
   {
    "duration": 151,
    "start_time": "2022-12-19T12:34:56.060Z"
   },
   {
    "duration": 12,
    "start_time": "2022-12-19T12:34:56.213Z"
   },
   {
    "duration": 64,
    "start_time": "2022-12-19T12:34:56.227Z"
   },
   {
    "duration": 1116,
    "start_time": "2022-12-19T12:34:56.293Z"
   },
   {
    "duration": 49,
    "start_time": "2022-12-19T12:34:57.410Z"
   },
   {
    "duration": 192,
    "start_time": "2022-12-19T12:34:57.460Z"
   },
   {
    "duration": 38,
    "start_time": "2022-12-19T12:34:57.654Z"
   },
   {
    "duration": 767,
    "start_time": "2022-12-19T12:34:57.694Z"
   },
   {
    "duration": 89,
    "start_time": "2022-12-19T12:34:58.463Z"
   },
   {
    "duration": 1213,
    "start_time": "2022-12-19T12:34:58.554Z"
   },
   {
    "duration": 58,
    "start_time": "2022-12-19T12:34:59.770Z"
   },
   {
    "duration": 53,
    "start_time": "2022-12-19T12:34:59.831Z"
   },
   {
    "duration": 24595,
    "start_time": "2022-12-19T12:34:59.886Z"
   },
   {
    "duration": 416,
    "start_time": "2022-12-19T12:35:24.485Z"
   },
   {
    "duration": 291,
    "start_time": "2022-12-19T12:35:24.903Z"
   },
   {
    "duration": 11756,
    "start_time": "2022-12-19T12:35:25.198Z"
   },
   {
    "duration": 194,
    "start_time": "2022-12-19T12:35:36.958Z"
   },
   {
    "duration": 204,
    "start_time": "2022-12-19T12:35:37.154Z"
   },
   {
    "duration": 139,
    "start_time": "2022-12-19T12:35:37.362Z"
   },
   {
    "duration": 1651,
    "start_time": "2022-12-20T02:58:53.709Z"
   },
   {
    "duration": 93,
    "start_time": "2022-12-20T02:58:55.363Z"
   },
   {
    "duration": 13,
    "start_time": "2022-12-20T02:58:55.458Z"
   },
   {
    "duration": 56,
    "start_time": "2022-12-20T02:58:55.472Z"
   },
   {
    "duration": 7,
    "start_time": "2022-12-20T02:58:55.531Z"
   },
   {
    "duration": 6,
    "start_time": "2022-12-20T02:58:55.540Z"
   },
   {
    "duration": 33,
    "start_time": "2022-12-20T02:58:55.548Z"
   },
   {
    "duration": 13,
    "start_time": "2022-12-20T02:58:55.582Z"
   },
   {
    "duration": 16,
    "start_time": "2022-12-20T02:58:55.597Z"
   },
   {
    "duration": 20,
    "start_time": "2022-12-20T02:58:55.614Z"
   },
   {
    "duration": 37,
    "start_time": "2022-12-20T02:58:55.635Z"
   },
   {
    "duration": 28,
    "start_time": "2022-12-20T02:58:55.673Z"
   },
   {
    "duration": 13,
    "start_time": "2022-12-20T02:58:55.703Z"
   },
   {
    "duration": 49,
    "start_time": "2022-12-20T02:58:55.718Z"
   },
   {
    "duration": 132,
    "start_time": "2022-12-20T02:58:55.769Z"
   },
   {
    "duration": 42,
    "start_time": "2022-12-20T02:58:55.903Z"
   },
   {
    "duration": 97,
    "start_time": "2022-12-20T02:58:55.947Z"
   },
   {
    "duration": 1879,
    "start_time": "2022-12-20T02:58:56.045Z"
   },
   {
    "duration": 111,
    "start_time": "2022-12-20T02:58:57.926Z"
   },
   {
    "duration": 106,
    "start_time": "2022-12-20T02:58:58.044Z"
   },
   {
    "duration": 41,
    "start_time": "2022-12-20T02:58:58.152Z"
   },
   {
    "duration": 701,
    "start_time": "2022-12-20T02:58:58.195Z"
   },
   {
    "duration": 43,
    "start_time": "2022-12-20T02:58:58.898Z"
   },
   {
    "duration": 1249,
    "start_time": "2022-12-20T02:58:58.943Z"
   },
   {
    "duration": 55,
    "start_time": "2022-12-20T02:59:00.194Z"
   },
   {
    "duration": 35,
    "start_time": "2022-12-20T02:59:00.251Z"
   },
   {
    "duration": 19790,
    "start_time": "2022-12-20T02:59:00.288Z"
   },
   {
    "duration": 415,
    "start_time": "2022-12-20T02:59:20.080Z"
   },
   {
    "duration": 307,
    "start_time": "2022-12-20T02:59:20.497Z"
   },
   {
    "duration": 12032,
    "start_time": "2022-12-20T02:59:20.806Z"
   },
   {
    "duration": 209,
    "start_time": "2022-12-20T02:59:32.840Z"
   },
   {
    "duration": 201,
    "start_time": "2022-12-20T02:59:33.137Z"
   },
   {
    "duration": 137,
    "start_time": "2022-12-20T02:59:33.343Z"
   },
   {
    "duration": 4,
    "start_time": "2022-12-20T03:06:23.265Z"
   },
   {
    "duration": 42,
    "start_time": "2022-12-20T06:25:13.180Z"
   },
   {
    "duration": 10,
    "start_time": "2022-12-20T06:26:54.741Z"
   },
   {
    "duration": 8,
    "start_time": "2022-12-20T07:55:47.386Z"
   },
   {
    "duration": 1501,
    "start_time": "2022-12-20T07:55:53.486Z"
   },
   {
    "duration": 165,
    "start_time": "2022-12-20T07:55:54.989Z"
   },
   {
    "duration": 12,
    "start_time": "2022-12-20T07:55:55.155Z"
   },
   {
    "duration": 36,
    "start_time": "2022-12-20T07:55:55.169Z"
   },
   {
    "duration": 7,
    "start_time": "2022-12-20T07:55:55.207Z"
   },
   {
    "duration": 13,
    "start_time": "2022-12-20T07:55:55.216Z"
   },
   {
    "duration": 14,
    "start_time": "2022-12-20T07:55:55.231Z"
   },
   {
    "duration": 6,
    "start_time": "2022-12-20T07:55:55.246Z"
   },
   {
    "duration": 5,
    "start_time": "2022-12-20T07:55:55.253Z"
   },
   {
    "duration": 4,
    "start_time": "2022-12-20T07:55:55.260Z"
   },
   {
    "duration": 11,
    "start_time": "2022-12-20T07:55:55.265Z"
   },
   {
    "duration": 7,
    "start_time": "2022-12-20T07:55:55.277Z"
   },
   {
    "duration": 137,
    "start_time": "2022-12-20T07:55:55.286Z"
   },
   {
    "duration": 0,
    "start_time": "2022-12-20T07:55:55.424Z"
   },
   {
    "duration": 0,
    "start_time": "2022-12-20T07:55:55.425Z"
   },
   {
    "duration": 0,
    "start_time": "2022-12-20T07:55:55.426Z"
   },
   {
    "duration": 0,
    "start_time": "2022-12-20T07:55:55.427Z"
   },
   {
    "duration": 0,
    "start_time": "2022-12-20T07:55:55.428Z"
   },
   {
    "duration": 0,
    "start_time": "2022-12-20T07:55:55.429Z"
   },
   {
    "duration": 0,
    "start_time": "2022-12-20T07:55:55.430Z"
   },
   {
    "duration": 0,
    "start_time": "2022-12-20T07:55:55.431Z"
   },
   {
    "duration": 0,
    "start_time": "2022-12-20T07:55:55.432Z"
   },
   {
    "duration": 0,
    "start_time": "2022-12-20T07:55:55.433Z"
   },
   {
    "duration": 0,
    "start_time": "2022-12-20T07:55:55.433Z"
   },
   {
    "duration": 0,
    "start_time": "2022-12-20T07:55:55.434Z"
   },
   {
    "duration": 0,
    "start_time": "2022-12-20T07:55:55.435Z"
   },
   {
    "duration": 0,
    "start_time": "2022-12-20T07:55:55.436Z"
   },
   {
    "duration": 0,
    "start_time": "2022-12-20T07:55:55.437Z"
   },
   {
    "duration": 0,
    "start_time": "2022-12-20T07:55:55.439Z"
   },
   {
    "duration": 0,
    "start_time": "2022-12-20T07:55:55.440Z"
   },
   {
    "duration": 0,
    "start_time": "2022-12-20T07:55:55.441Z"
   },
   {
    "duration": 0,
    "start_time": "2022-12-20T07:55:55.442Z"
   },
   {
    "duration": 0,
    "start_time": "2022-12-20T07:55:55.443Z"
   },
   {
    "duration": 0,
    "start_time": "2022-12-20T07:55:55.444Z"
   },
   {
    "duration": 14,
    "start_time": "2022-12-20T07:58:03.274Z"
   },
   {
    "duration": 11,
    "start_time": "2022-12-20T07:58:55.199Z"
   },
   {
    "duration": 38,
    "start_time": "2022-12-20T07:59:01.975Z"
   },
   {
    "duration": 5,
    "start_time": "2022-12-20T07:59:15.056Z"
   },
   {
    "duration": 12,
    "start_time": "2022-12-20T07:59:21.289Z"
   },
   {
    "duration": 3,
    "start_time": "2022-12-20T08:04:32.668Z"
   },
   {
    "duration": 4,
    "start_time": "2022-12-20T08:04:37.255Z"
   },
   {
    "duration": 13,
    "start_time": "2022-12-20T08:05:43.317Z"
   },
   {
    "duration": 11,
    "start_time": "2022-12-20T08:06:21.158Z"
   },
   {
    "duration": 17,
    "start_time": "2022-12-20T08:06:56.144Z"
   },
   {
    "duration": 114,
    "start_time": "2022-12-20T08:07:43.433Z"
   },
   {
    "duration": 11,
    "start_time": "2022-12-20T08:12:20.857Z"
   },
   {
    "duration": 10,
    "start_time": "2022-12-20T08:12:33.898Z"
   },
   {
    "duration": 12,
    "start_time": "2022-12-20T08:17:29.934Z"
   },
   {
    "duration": 11,
    "start_time": "2022-12-20T08:17:37.306Z"
   },
   {
    "duration": 83,
    "start_time": "2022-12-20T08:36:41.383Z"
   },
   {
    "duration": 1234,
    "start_time": "2022-12-20T08:37:01.657Z"
   },
   {
    "duration": 132,
    "start_time": "2022-12-20T08:50:59.206Z"
   },
   {
    "duration": 48,
    "start_time": "2022-12-20T08:51:43.619Z"
   },
   {
    "duration": 44,
    "start_time": "2022-12-20T10:38:02.083Z"
   },
   {
    "duration": 43,
    "start_time": "2022-12-20T10:39:15.344Z"
   },
   {
    "duration": 430,
    "start_time": "2022-12-20T10:52:27.666Z"
   },
   {
    "duration": 462,
    "start_time": "2022-12-20T10:52:39.418Z"
   },
   {
    "duration": 500,
    "start_time": "2022-12-20T10:52:54.228Z"
   },
   {
    "duration": 402,
    "start_time": "2022-12-20T10:53:04.365Z"
   },
   {
    "duration": 30977,
    "start_time": "2022-12-20T10:53:10.588Z"
   },
   {
    "duration": 24350,
    "start_time": "2022-12-20T10:56:00.603Z"
   },
   {
    "duration": 890,
    "start_time": "2022-12-20T10:59:04.038Z"
   },
   {
    "duration": 1370,
    "start_time": "2022-12-20T11:00:43.881Z"
   },
   {
    "duration": 112,
    "start_time": "2022-12-20T11:00:45.253Z"
   },
   {
    "duration": 12,
    "start_time": "2022-12-20T11:00:45.366Z"
   },
   {
    "duration": 47,
    "start_time": "2022-12-20T11:00:45.380Z"
   },
   {
    "duration": 6,
    "start_time": "2022-12-20T11:00:45.429Z"
   },
   {
    "duration": 36,
    "start_time": "2022-12-20T11:00:45.437Z"
   },
   {
    "duration": 25,
    "start_time": "2022-12-20T11:00:45.474Z"
   },
   {
    "duration": 27,
    "start_time": "2022-12-20T11:00:45.500Z"
   },
   {
    "duration": 17,
    "start_time": "2022-12-20T11:00:45.528Z"
   },
   {
    "duration": 14,
    "start_time": "2022-12-20T11:00:45.547Z"
   },
   {
    "duration": 23,
    "start_time": "2022-12-20T11:00:45.562Z"
   },
   {
    "duration": 25,
    "start_time": "2022-12-20T11:00:45.586Z"
   },
   {
    "duration": 29,
    "start_time": "2022-12-20T11:00:45.612Z"
   },
   {
    "duration": 28,
    "start_time": "2022-12-20T11:00:45.642Z"
   },
   {
    "duration": 41,
    "start_time": "2022-12-20T11:00:45.671Z"
   },
   {
    "duration": 26,
    "start_time": "2022-12-20T11:00:45.714Z"
   },
   {
    "duration": 1234,
    "start_time": "2022-12-20T11:00:45.741Z"
   },
   {
    "duration": 59,
    "start_time": "2022-12-20T11:00:46.977Z"
   },
   {
    "duration": 20501,
    "start_time": "2022-12-20T11:00:47.038Z"
   },
   {
    "duration": 866,
    "start_time": "2022-12-20T11:01:07.540Z"
   },
   {
    "duration": 185,
    "start_time": "2022-12-20T11:01:08.408Z"
   },
   {
    "duration": 104,
    "start_time": "2022-12-20T11:01:08.594Z"
   },
   {
    "duration": 88,
    "start_time": "2022-12-20T11:01:08.700Z"
   },
   {
    "duration": 135,
    "start_time": "2022-12-20T11:01:08.790Z"
   },
   {
    "duration": 15,
    "start_time": "2022-12-20T11:01:08.927Z"
   },
   {
    "duration": 58,
    "start_time": "2022-12-20T11:01:08.943Z"
   },
   {
    "duration": 0,
    "start_time": "2022-12-20T11:01:09.003Z"
   },
   {
    "duration": 0,
    "start_time": "2022-12-20T11:01:09.004Z"
   },
   {
    "duration": 0,
    "start_time": "2022-12-20T11:01:09.013Z"
   },
   {
    "duration": 0,
    "start_time": "2022-12-20T11:01:09.014Z"
   },
   {
    "duration": 0,
    "start_time": "2022-12-20T11:01:09.016Z"
   },
   {
    "duration": 0,
    "start_time": "2022-12-20T11:01:09.017Z"
   },
   {
    "duration": 0,
    "start_time": "2022-12-20T11:01:09.018Z"
   },
   {
    "duration": 11225,
    "start_time": "2022-12-20T11:09:02.489Z"
   },
   {
    "duration": 84,
    "start_time": "2022-12-20T11:12:18.230Z"
   },
   {
    "duration": 56,
    "start_time": "2022-12-20T11:56:08.079Z"
   },
   {
    "duration": 1098,
    "start_time": "2022-12-20T11:57:03.514Z"
   },
   {
    "duration": 46,
    "start_time": "2022-12-20T11:57:59.468Z"
   },
   {
    "duration": 61,
    "start_time": "2022-12-20T12:01:49.063Z"
   },
   {
    "duration": 1114,
    "start_time": "2022-12-20T12:02:17.096Z"
   },
   {
    "duration": 32,
    "start_time": "2022-12-20T12:02:42.309Z"
   },
   {
    "duration": 80,
    "start_time": "2022-12-20T12:03:20.187Z"
   },
   {
    "duration": 12,
    "start_time": "2022-12-20T12:03:24.192Z"
   },
   {
    "duration": 1314,
    "start_time": "2022-12-20T12:03:38.521Z"
   },
   {
    "duration": 81,
    "start_time": "2022-12-20T12:03:39.837Z"
   },
   {
    "duration": 12,
    "start_time": "2022-12-20T12:03:39.920Z"
   },
   {
    "duration": 62,
    "start_time": "2022-12-20T12:03:39.934Z"
   },
   {
    "duration": 6,
    "start_time": "2022-12-20T12:03:39.997Z"
   },
   {
    "duration": 41,
    "start_time": "2022-12-20T12:03:40.005Z"
   },
   {
    "duration": 25,
    "start_time": "2022-12-20T12:03:40.047Z"
   },
   {
    "duration": 10,
    "start_time": "2022-12-20T12:03:40.073Z"
   },
   {
    "duration": 30,
    "start_time": "2022-12-20T12:03:40.084Z"
   },
   {
    "duration": 22,
    "start_time": "2022-12-20T12:03:40.116Z"
   },
   {
    "duration": 27,
    "start_time": "2022-12-20T12:03:40.139Z"
   },
   {
    "duration": 8,
    "start_time": "2022-12-20T12:03:40.167Z"
   },
   {
    "duration": 6,
    "start_time": "2022-12-20T12:03:40.176Z"
   },
   {
    "duration": 19,
    "start_time": "2022-12-20T12:03:40.183Z"
   },
   {
    "duration": 23,
    "start_time": "2022-12-20T12:03:40.203Z"
   },
   {
    "duration": 22,
    "start_time": "2022-12-20T12:03:40.228Z"
   },
   {
    "duration": 1593,
    "start_time": "2022-12-20T12:03:40.253Z"
   },
   {
    "duration": 97,
    "start_time": "2022-12-20T12:03:41.848Z"
   },
   {
    "duration": 17712,
    "start_time": "2022-12-20T12:03:41.947Z"
   },
   {
    "duration": 836,
    "start_time": "2022-12-20T12:03:59.661Z"
   },
   {
    "duration": 9920,
    "start_time": "2022-12-20T12:04:00.499Z"
   },
   {
    "duration": 293,
    "start_time": "2022-12-20T12:04:10.420Z"
   },
   {
    "duration": 214,
    "start_time": "2022-12-20T12:04:10.715Z"
   },
   {
    "duration": 12,
    "start_time": "2022-12-20T12:04:10.930Z"
   },
   {
    "duration": 87,
    "start_time": "2022-12-20T12:04:10.944Z"
   },
   {
    "duration": 1112,
    "start_time": "2022-12-20T12:04:11.033Z"
   },
   {
    "duration": 67,
    "start_time": "2022-12-20T12:04:12.147Z"
   },
   {
    "duration": 103,
    "start_time": "2022-12-20T12:04:12.218Z"
   },
   {
    "duration": 65,
    "start_time": "2022-12-20T12:04:12.323Z"
   },
   {
    "duration": 1160,
    "start_time": "2022-12-20T12:04:12.390Z"
   },
   {
    "duration": 66,
    "start_time": "2022-12-20T12:04:13.552Z"
   },
   {
    "duration": 296,
    "start_time": "2022-12-20T12:04:13.623Z"
   },
   {
    "duration": 637,
    "start_time": "2022-12-20T12:05:37.845Z"
   },
   {
    "duration": 101,
    "start_time": "2022-12-20T12:05:55.713Z"
   },
   {
    "duration": 32,
    "start_time": "2022-12-20T12:06:23.881Z"
   },
   {
    "duration": 725,
    "start_time": "2022-12-20T12:06:29.838Z"
   },
   {
    "duration": 44,
    "start_time": "2022-12-20T12:06:40.363Z"
   },
   {
    "duration": 1339,
    "start_time": "2022-12-20T12:06:48.601Z"
   },
   {
    "duration": 51,
    "start_time": "2022-12-20T12:06:49.942Z"
   },
   {
    "duration": 12,
    "start_time": "2022-12-20T12:06:49.994Z"
   },
   {
    "duration": 44,
    "start_time": "2022-12-20T12:06:50.009Z"
   },
   {
    "duration": 9,
    "start_time": "2022-12-20T12:06:50.055Z"
   },
   {
    "duration": 21,
    "start_time": "2022-12-20T12:06:50.066Z"
   },
   {
    "duration": 20,
    "start_time": "2022-12-20T12:06:50.089Z"
   },
   {
    "duration": 10,
    "start_time": "2022-12-20T12:06:50.111Z"
   },
   {
    "duration": 15,
    "start_time": "2022-12-20T12:06:50.123Z"
   },
   {
    "duration": 4,
    "start_time": "2022-12-20T12:06:50.141Z"
   },
   {
    "duration": 31,
    "start_time": "2022-12-20T12:06:50.147Z"
   },
   {
    "duration": 8,
    "start_time": "2022-12-20T12:06:50.180Z"
   },
   {
    "duration": 9,
    "start_time": "2022-12-20T12:06:50.189Z"
   },
   {
    "duration": 18,
    "start_time": "2022-12-20T12:06:50.201Z"
   },
   {
    "duration": 11,
    "start_time": "2022-12-20T12:06:50.220Z"
   },
   {
    "duration": 20,
    "start_time": "2022-12-20T12:06:50.232Z"
   },
   {
    "duration": 1304,
    "start_time": "2022-12-20T12:06:50.253Z"
   },
   {
    "duration": 45,
    "start_time": "2022-12-20T12:06:51.559Z"
   },
   {
    "duration": 17172,
    "start_time": "2022-12-20T12:06:51.613Z"
   },
   {
    "duration": 846,
    "start_time": "2022-12-20T12:07:08.786Z"
   },
   {
    "duration": 12887,
    "start_time": "2022-12-20T12:07:09.634Z"
   },
   {
    "duration": 290,
    "start_time": "2022-12-20T12:07:22.523Z"
   },
   {
    "duration": 225,
    "start_time": "2022-12-20T12:07:22.819Z"
   },
   {
    "duration": 11,
    "start_time": "2022-12-20T12:07:23.046Z"
   },
   {
    "duration": 99,
    "start_time": "2022-12-20T12:07:23.058Z"
   },
   {
    "duration": 1226,
    "start_time": "2022-12-20T12:07:23.159Z"
   },
   {
    "duration": 42,
    "start_time": "2022-12-20T12:07:24.387Z"
   },
   {
    "duration": 103,
    "start_time": "2022-12-20T12:07:24.515Z"
   },
   {
    "duration": 68,
    "start_time": "2022-12-20T12:07:24.620Z"
   },
   {
    "duration": 682,
    "start_time": "2022-12-20T12:07:24.691Z"
   },
   {
    "duration": 44,
    "start_time": "2022-12-20T12:07:25.374Z"
   },
   {
    "duration": 261,
    "start_time": "2022-12-20T12:07:25.420Z"
   },
   {
    "duration": 99,
    "start_time": "2022-12-20T12:24:56.955Z"
   },
   {
    "duration": 1619,
    "start_time": "2022-12-20T12:26:56.424Z"
   },
   {
    "duration": 53,
    "start_time": "2022-12-20T12:27:19.260Z"
   },
   {
    "duration": 22435,
    "start_time": "2022-12-20T12:27:26.261Z"
   },
   {
    "duration": 796,
    "start_time": "2022-12-20T12:28:10.927Z"
   },
   {
    "duration": 1113,
    "start_time": "2022-12-20T12:29:01.186Z"
   },
   {
    "duration": 789,
    "start_time": "2022-12-20T12:29:20.578Z"
   },
   {
    "duration": 31,
    "start_time": "2022-12-20T12:29:51.360Z"
   },
   {
    "duration": 477,
    "start_time": "2022-12-20T12:30:32.259Z"
   },
   {
    "duration": 70,
    "start_time": "2022-12-20T12:30:57.523Z"
   },
   {
    "duration": 1828,
    "start_time": "2022-12-21T02:14:02.586Z"
   },
   {
    "duration": 164,
    "start_time": "2022-12-21T02:14:04.416Z"
   },
   {
    "duration": 14,
    "start_time": "2022-12-21T02:14:04.582Z"
   },
   {
    "duration": 42,
    "start_time": "2022-12-21T02:14:04.598Z"
   },
   {
    "duration": 8,
    "start_time": "2022-12-21T02:14:04.651Z"
   },
   {
    "duration": 4,
    "start_time": "2022-12-21T02:14:04.661Z"
   },
   {
    "duration": 17,
    "start_time": "2022-12-21T02:14:04.666Z"
   },
   {
    "duration": 9,
    "start_time": "2022-12-21T02:14:04.685Z"
   },
   {
    "duration": 10,
    "start_time": "2022-12-21T02:14:04.696Z"
   },
   {
    "duration": 5,
    "start_time": "2022-12-21T02:14:04.707Z"
   },
   {
    "duration": 11,
    "start_time": "2022-12-21T02:14:04.751Z"
   },
   {
    "duration": 8,
    "start_time": "2022-12-21T02:14:04.764Z"
   },
   {
    "duration": 13,
    "start_time": "2022-12-21T02:14:04.774Z"
   },
   {
    "duration": 21,
    "start_time": "2022-12-21T02:14:04.789Z"
   },
   {
    "duration": 41,
    "start_time": "2022-12-21T02:14:04.812Z"
   },
   {
    "duration": 19,
    "start_time": "2022-12-21T02:14:04.855Z"
   },
   {
    "duration": 1502,
    "start_time": "2022-12-21T02:14:04.876Z"
   },
   {
    "duration": 53,
    "start_time": "2022-12-21T02:14:06.380Z"
   },
   {
    "duration": 23758,
    "start_time": "2022-12-21T02:14:06.436Z"
   },
   {
    "duration": 749,
    "start_time": "2022-12-21T02:14:30.196Z"
   },
   {
    "duration": 12700,
    "start_time": "2022-12-21T02:14:30.950Z"
   },
   {
    "duration": 210,
    "start_time": "2022-12-21T02:14:43.653Z"
   },
   {
    "duration": 334,
    "start_time": "2022-12-21T02:14:43.865Z"
   },
   {
    "duration": 14,
    "start_time": "2022-12-21T02:14:44.200Z"
   },
   {
    "duration": 82,
    "start_time": "2022-12-21T02:14:44.217Z"
   },
   {
    "duration": 981,
    "start_time": "2022-12-21T02:14:44.301Z"
   },
   {
    "duration": 166,
    "start_time": "2022-12-21T02:14:45.284Z"
   },
   {
    "duration": 101,
    "start_time": "2022-12-21T02:14:45.453Z"
   },
   {
    "duration": 39,
    "start_time": "2022-12-21T02:14:45.556Z"
   },
   {
    "duration": 597,
    "start_time": "2022-12-21T02:14:45.597Z"
   },
   {
    "duration": 62,
    "start_time": "2022-12-21T02:14:46.196Z"
   },
   {
    "duration": 263,
    "start_time": "2022-12-21T02:14:46.261Z"
   },
   {
    "duration": 1592,
    "start_time": "2022-12-21T06:05:40.442Z"
   },
   {
    "duration": 99,
    "start_time": "2022-12-21T06:05:42.036Z"
   },
   {
    "duration": 13,
    "start_time": "2022-12-21T06:05:42.140Z"
   },
   {
    "duration": 58,
    "start_time": "2022-12-21T06:05:42.155Z"
   },
   {
    "duration": 9,
    "start_time": "2022-12-21T06:05:42.216Z"
   },
   {
    "duration": 6,
    "start_time": "2022-12-21T06:05:42.227Z"
   },
   {
    "duration": 19,
    "start_time": "2022-12-21T06:05:42.234Z"
   },
   {
    "duration": 8,
    "start_time": "2022-12-21T06:05:42.254Z"
   },
   {
    "duration": 12,
    "start_time": "2022-12-21T06:05:42.265Z"
   },
   {
    "duration": 34,
    "start_time": "2022-12-21T06:05:42.279Z"
   },
   {
    "duration": 9,
    "start_time": "2022-12-21T06:05:42.315Z"
   },
   {
    "duration": 8,
    "start_time": "2022-12-21T06:05:42.326Z"
   },
   {
    "duration": 10,
    "start_time": "2022-12-21T06:05:42.336Z"
   },
   {
    "duration": 18,
    "start_time": "2022-12-21T06:05:42.348Z"
   },
   {
    "duration": 13,
    "start_time": "2022-12-21T06:05:42.368Z"
   },
   {
    "duration": 19,
    "start_time": "2022-12-21T06:05:42.411Z"
   },
   {
    "duration": 1436,
    "start_time": "2022-12-21T06:05:42.432Z"
   },
   {
    "duration": 61,
    "start_time": "2022-12-21T06:05:43.870Z"
   },
   {
    "duration": 25274,
    "start_time": "2022-12-21T06:05:43.933Z"
   },
   {
    "duration": 708,
    "start_time": "2022-12-21T06:06:09.209Z"
   },
   {
    "duration": 11697,
    "start_time": "2022-12-21T06:06:09.919Z"
   },
   {
    "duration": 194,
    "start_time": "2022-12-21T06:06:21.618Z"
   },
   {
    "duration": 230,
    "start_time": "2022-12-21T06:06:21.818Z"
   },
   {
    "duration": 14,
    "start_time": "2022-12-21T06:06:22.050Z"
   },
   {
    "duration": 76,
    "start_time": "2022-12-21T06:06:22.066Z"
   },
   {
    "duration": 933,
    "start_time": "2022-12-21T06:06:22.144Z"
   },
   {
    "duration": 132,
    "start_time": "2022-12-21T06:06:23.080Z"
   },
   {
    "duration": 104,
    "start_time": "2022-12-21T06:06:23.215Z"
   },
   {
    "duration": 36,
    "start_time": "2022-12-21T06:06:23.321Z"
   },
   {
    "duration": 553,
    "start_time": "2022-12-21T06:06:23.359Z"
   },
   {
    "duration": 27,
    "start_time": "2022-12-21T06:06:23.914Z"
   },
   {
    "duration": 167,
    "start_time": "2022-12-21T06:06:24.018Z"
   },
   {
    "duration": 1858,
    "start_time": "2022-12-21T06:15:18.365Z"
   },
   {
    "duration": 1945,
    "start_time": "2022-12-21T06:15:36.089Z"
   },
   {
    "duration": 1755,
    "start_time": "2022-12-21T06:15:40.008Z"
   },
   {
    "duration": 1902,
    "start_time": "2022-12-21T06:15:49.337Z"
   },
   {
    "duration": 1899,
    "start_time": "2022-12-21T06:15:53.182Z"
   },
   {
    "duration": 1906,
    "start_time": "2022-12-21T06:16:06.366Z"
   },
   {
    "duration": 1763,
    "start_time": "2022-12-21T06:16:17.916Z"
   },
   {
    "duration": 60,
    "start_time": "2022-12-21T06:16:41.575Z"
   },
   {
    "duration": 1895,
    "start_time": "2022-12-21T06:16:51.514Z"
   },
   {
    "duration": 1805,
    "start_time": "2022-12-21T06:17:03.762Z"
   },
   {
    "duration": 1816,
    "start_time": "2022-12-21T06:17:14.465Z"
   },
   {
    "duration": 1880,
    "start_time": "2022-12-21T06:17:19.708Z"
   },
   {
    "duration": 1882,
    "start_time": "2022-12-21T06:17:43.387Z"
   },
   {
    "duration": 1901,
    "start_time": "2022-12-21T06:17:49.442Z"
   },
   {
    "duration": 1952,
    "start_time": "2022-12-21T06:18:05.804Z"
   },
   {
    "duration": 1903,
    "start_time": "2022-12-21T06:18:16.273Z"
   },
   {
    "duration": 1796,
    "start_time": "2022-12-21T06:18:28.800Z"
   },
   {
    "duration": 1814,
    "start_time": "2022-12-21T06:18:32.731Z"
   },
   {
    "duration": 1905,
    "start_time": "2022-12-21T06:18:47.073Z"
   },
   {
    "duration": 1773,
    "start_time": "2022-12-21T06:18:51.715Z"
   },
   {
    "duration": 1934,
    "start_time": "2022-12-21T06:18:57.093Z"
   },
   {
    "duration": 1912,
    "start_time": "2022-12-21T06:19:09.464Z"
   },
   {
    "duration": 1827,
    "start_time": "2022-12-21T06:19:16.885Z"
   },
   {
    "duration": 1708,
    "start_time": "2022-12-21T06:19:22.271Z"
   },
   {
    "duration": 1810,
    "start_time": "2022-12-21T06:19:28.590Z"
   },
   {
    "duration": 1825,
    "start_time": "2022-12-21T06:19:31.767Z"
   },
   {
    "duration": 1772,
    "start_time": "2022-12-21T06:19:35.196Z"
   },
   {
    "duration": 1794,
    "start_time": "2022-12-21T06:19:38.165Z"
   },
   {
    "duration": 1660,
    "start_time": "2022-12-21T06:19:42.426Z"
   },
   {
    "duration": 1950,
    "start_time": "2022-12-21T06:19:46.471Z"
   },
   {
    "duration": 1855,
    "start_time": "2022-12-21T06:19:54.347Z"
   },
   {
    "duration": 57,
    "start_time": "2022-12-21T06:20:17.728Z"
   },
   {
    "duration": 66,
    "start_time": "2022-12-21T06:20:37.571Z"
   },
   {
    "duration": 67,
    "start_time": "2022-12-21T06:20:52.072Z"
   },
   {
    "duration": 56,
    "start_time": "2022-12-21T06:21:10.356Z"
   },
   {
    "duration": 1655,
    "start_time": "2022-12-21T06:21:21.384Z"
   },
   {
    "duration": 58,
    "start_time": "2022-12-21T06:21:23.041Z"
   },
   {
    "duration": 16,
    "start_time": "2022-12-21T06:21:23.101Z"
   },
   {
    "duration": 48,
    "start_time": "2022-12-21T06:21:23.124Z"
   },
   {
    "duration": 11,
    "start_time": "2022-12-21T06:21:23.174Z"
   },
   {
    "duration": 6,
    "start_time": "2022-12-21T06:21:23.187Z"
   },
   {
    "duration": 34,
    "start_time": "2022-12-21T06:21:23.195Z"
   },
   {
    "duration": 8,
    "start_time": "2022-12-21T06:21:23.231Z"
   },
   {
    "duration": 8,
    "start_time": "2022-12-21T06:21:23.241Z"
   },
   {
    "duration": 6,
    "start_time": "2022-12-21T06:21:23.251Z"
   },
   {
    "duration": 11,
    "start_time": "2022-12-21T06:21:23.258Z"
   },
   {
    "duration": 9,
    "start_time": "2022-12-21T06:21:23.271Z"
   },
   {
    "duration": 36,
    "start_time": "2022-12-21T06:21:23.282Z"
   },
   {
    "duration": 25,
    "start_time": "2022-12-21T06:21:23.320Z"
   },
   {
    "duration": 12,
    "start_time": "2022-12-21T06:21:23.347Z"
   },
   {
    "duration": 17,
    "start_time": "2022-12-21T06:21:23.360Z"
   },
   {
    "duration": 1444,
    "start_time": "2022-12-21T06:21:23.379Z"
   },
   {
    "duration": 57,
    "start_time": "2022-12-21T06:21:24.825Z"
   },
   {
    "duration": 22278,
    "start_time": "2022-12-21T06:21:24.884Z"
   },
   {
    "duration": 732,
    "start_time": "2022-12-21T06:21:47.164Z"
   },
   {
    "duration": 10926,
    "start_time": "2022-12-21T06:21:47.898Z"
   },
   {
    "duration": 210,
    "start_time": "2022-12-21T06:21:58.828Z"
   },
   {
    "duration": 273,
    "start_time": "2022-12-21T06:21:59.117Z"
   },
   {
    "duration": 12,
    "start_time": "2022-12-21T06:21:59.392Z"
   },
   {
    "duration": 106,
    "start_time": "2022-12-21T06:21:59.405Z"
   },
   {
    "duration": 1015,
    "start_time": "2022-12-21T06:21:59.521Z"
   },
   {
    "duration": 89,
    "start_time": "2022-12-21T06:22:00.538Z"
   },
   {
    "duration": 126,
    "start_time": "2022-12-21T06:22:00.716Z"
   },
   {
    "duration": 76,
    "start_time": "2022-12-21T06:22:00.843Z"
   },
   {
    "duration": 585,
    "start_time": "2022-12-21T06:22:00.927Z"
   },
   {
    "duration": 95,
    "start_time": "2022-12-21T06:22:01.519Z"
   },
   {
    "duration": 191,
    "start_time": "2022-12-21T06:22:01.619Z"
   },
   {
    "duration": 33977,
    "start_time": "2022-12-21T06:38:20.747Z"
   },
   {
    "duration": 35413,
    "start_time": "2022-12-21T06:39:29.864Z"
   },
   {
    "duration": 33937,
    "start_time": "2022-12-21T06:40:39.449Z"
   },
   {
    "duration": 30317,
    "start_time": "2022-12-21T06:48:29.530Z"
   },
   {
    "duration": 26396,
    "start_time": "2022-12-21T06:49:43.301Z"
   },
   {
    "duration": 26056,
    "start_time": "2022-12-21T06:50:23.637Z"
   },
   {
    "duration": 37424,
    "start_time": "2022-12-21T06:51:06.967Z"
   },
   {
    "duration": 36078,
    "start_time": "2022-12-21T06:52:03.764Z"
   },
   {
    "duration": 35533,
    "start_time": "2022-12-21T06:52:46.892Z"
   },
   {
    "duration": 1519,
    "start_time": "2022-12-21T06:53:35.671Z"
   },
   {
    "duration": 63,
    "start_time": "2022-12-21T06:53:37.192Z"
   },
   {
    "duration": 17,
    "start_time": "2022-12-21T06:53:37.257Z"
   },
   {
    "duration": 65,
    "start_time": "2022-12-21T06:53:37.277Z"
   },
   {
    "duration": 12,
    "start_time": "2022-12-21T06:53:37.344Z"
   },
   {
    "duration": 8,
    "start_time": "2022-12-21T06:53:37.358Z"
   },
   {
    "duration": 26,
    "start_time": "2022-12-21T06:53:37.369Z"
   },
   {
    "duration": 23,
    "start_time": "2022-12-21T06:53:37.398Z"
   },
   {
    "duration": 13,
    "start_time": "2022-12-21T06:53:37.423Z"
   },
   {
    "duration": 7,
    "start_time": "2022-12-21T06:53:37.439Z"
   },
   {
    "duration": 13,
    "start_time": "2022-12-21T06:53:37.448Z"
   },
   {
    "duration": 11,
    "start_time": "2022-12-21T06:53:37.463Z"
   },
   {
    "duration": 40,
    "start_time": "2022-12-21T06:53:37.477Z"
   },
   {
    "duration": 24,
    "start_time": "2022-12-21T06:53:37.519Z"
   },
   {
    "duration": 16,
    "start_time": "2022-12-21T06:53:37.545Z"
   },
   {
    "duration": 20,
    "start_time": "2022-12-21T06:53:37.564Z"
   },
   {
    "duration": 1369,
    "start_time": "2022-12-21T06:53:37.611Z"
   },
   {
    "duration": 61,
    "start_time": "2022-12-21T06:53:38.982Z"
   },
   {
    "duration": 26476,
    "start_time": "2022-12-21T06:53:39.045Z"
   },
   {
    "duration": 734,
    "start_time": "2022-12-21T06:54:05.523Z"
   },
   {
    "duration": 16753,
    "start_time": "2022-12-21T06:54:06.259Z"
   },
   {
    "duration": 112,
    "start_time": "2022-12-21T06:54:23.019Z"
   },
   {
    "duration": 233,
    "start_time": "2022-12-21T06:54:23.216Z"
   },
   {
    "duration": 13,
    "start_time": "2022-12-21T06:54:23.451Z"
   },
   {
    "duration": 78,
    "start_time": "2022-12-21T06:54:23.466Z"
   },
   {
    "duration": 949,
    "start_time": "2022-12-21T06:54:23.546Z"
   },
   {
    "duration": 42,
    "start_time": "2022-12-21T06:54:24.496Z"
   },
   {
    "duration": 98,
    "start_time": "2022-12-21T06:54:24.615Z"
   },
   {
    "duration": 48,
    "start_time": "2022-12-21T06:54:24.715Z"
   },
   {
    "duration": 558,
    "start_time": "2022-12-21T06:54:24.765Z"
   },
   {
    "duration": 92,
    "start_time": "2022-12-21T06:54:25.325Z"
   },
   {
    "duration": 262,
    "start_time": "2022-12-21T06:54:25.419Z"
   },
   {
    "duration": 1721,
    "start_time": "2022-12-21T06:54:42.577Z"
   },
   {
    "duration": 6,
    "start_time": "2022-12-21T06:59:13.083Z"
   },
   {
    "duration": 1597,
    "start_time": "2022-12-21T06:59:18.701Z"
   },
   {
    "duration": 80,
    "start_time": "2022-12-21T06:59:20.300Z"
   },
   {
    "duration": 18,
    "start_time": "2022-12-21T06:59:20.383Z"
   },
   {
    "duration": 57,
    "start_time": "2022-12-21T06:59:20.404Z"
   },
   {
    "duration": 13,
    "start_time": "2022-12-21T06:59:20.464Z"
   },
   {
    "duration": 4,
    "start_time": "2022-12-21T06:59:20.479Z"
   },
   {
    "duration": 35,
    "start_time": "2022-12-21T06:59:20.485Z"
   },
   {
    "duration": 32,
    "start_time": "2022-12-21T06:59:20.521Z"
   },
   {
    "duration": 11,
    "start_time": "2022-12-21T06:59:20.555Z"
   },
   {
    "duration": 6,
    "start_time": "2022-12-21T06:59:20.568Z"
   },
   {
    "duration": 11,
    "start_time": "2022-12-21T06:59:20.576Z"
   },
   {
    "duration": 10,
    "start_time": "2022-12-21T06:59:20.589Z"
   },
   {
    "duration": 20,
    "start_time": "2022-12-21T06:59:20.601Z"
   },
   {
    "duration": 59,
    "start_time": "2022-12-21T06:59:20.623Z"
   },
   {
    "duration": 14,
    "start_time": "2022-12-21T06:59:20.684Z"
   },
   {
    "duration": 23,
    "start_time": "2022-12-21T06:59:20.700Z"
   },
   {
    "duration": 1482,
    "start_time": "2022-12-21T06:59:20.724Z"
   },
   {
    "duration": 58,
    "start_time": "2022-12-21T06:59:22.211Z"
   },
   {
    "duration": 26453,
    "start_time": "2022-12-21T06:59:22.271Z"
   },
   {
    "duration": 1330,
    "start_time": "2022-12-21T06:59:48.729Z"
   },
   {
    "duration": 25478,
    "start_time": "2022-12-21T06:59:50.061Z"
   },
   {
    "duration": 215,
    "start_time": "2022-12-21T07:00:15.542Z"
   },
   {
    "duration": 252,
    "start_time": "2022-12-21T07:00:15.831Z"
   },
   {
    "duration": 13,
    "start_time": "2022-12-21T07:00:16.085Z"
   },
   {
    "duration": 93,
    "start_time": "2022-12-21T07:00:16.101Z"
   },
   {
    "duration": 1119,
    "start_time": "2022-12-21T07:00:16.197Z"
   },
   {
    "duration": 106,
    "start_time": "2022-12-21T07:00:17.323Z"
   },
   {
    "duration": 97,
    "start_time": "2022-12-21T07:00:17.433Z"
   },
   {
    "duration": 63,
    "start_time": "2022-12-21T07:00:17.534Z"
   },
   {
    "duration": 606,
    "start_time": "2022-12-21T07:00:17.599Z"
   },
   {
    "duration": 124,
    "start_time": "2022-12-21T07:00:18.207Z"
   },
   {
    "duration": 228,
    "start_time": "2022-12-21T07:00:18.333Z"
   },
   {
    "duration": 37768,
    "start_time": "2022-12-21T07:02:00.110Z"
   },
   {
    "duration": 37393,
    "start_time": "2022-12-21T07:02:42.092Z"
   },
   {
    "duration": 1642,
    "start_time": "2022-12-21T07:03:44.757Z"
   },
   {
    "duration": 1707,
    "start_time": "2022-12-21T07:07:41.940Z"
   },
   {
    "duration": 35682,
    "start_time": "2022-12-21T07:22:40.002Z"
   },
   {
    "duration": 1994,
    "start_time": "2022-12-21T07:24:18.494Z"
   },
   {
    "duration": 35,
    "start_time": "2022-12-21T07:24:35.175Z"
   },
   {
    "duration": 1500,
    "start_time": "2022-12-21T07:24:54.394Z"
   },
   {
    "duration": 67,
    "start_time": "2022-12-21T07:24:55.896Z"
   },
   {
    "duration": 14,
    "start_time": "2022-12-21T07:24:55.965Z"
   },
   {
    "duration": 51,
    "start_time": "2022-12-21T07:24:55.981Z"
   },
   {
    "duration": 8,
    "start_time": "2022-12-21T07:24:56.035Z"
   },
   {
    "duration": 9,
    "start_time": "2022-12-21T07:24:56.045Z"
   },
   {
    "duration": 20,
    "start_time": "2022-12-21T07:24:56.056Z"
   },
   {
    "duration": 9,
    "start_time": "2022-12-21T07:24:56.078Z"
   },
   {
    "duration": 29,
    "start_time": "2022-12-21T07:24:56.089Z"
   },
   {
    "duration": 5,
    "start_time": "2022-12-21T07:24:56.121Z"
   },
   {
    "duration": 19,
    "start_time": "2022-12-21T07:24:56.127Z"
   },
   {
    "duration": 11,
    "start_time": "2022-12-21T07:24:56.148Z"
   },
   {
    "duration": 18,
    "start_time": "2022-12-21T07:24:56.162Z"
   },
   {
    "duration": 51,
    "start_time": "2022-12-21T07:24:56.183Z"
   },
   {
    "duration": 21,
    "start_time": "2022-12-21T07:24:56.239Z"
   },
   {
    "duration": 29,
    "start_time": "2022-12-21T07:24:56.263Z"
   },
   {
    "duration": 1513,
    "start_time": "2022-12-21T07:24:56.295Z"
   },
   {
    "duration": 57,
    "start_time": "2022-12-21T07:24:57.813Z"
   },
   {
    "duration": 24982,
    "start_time": "2022-12-21T07:24:57.872Z"
   },
   {
    "duration": 1487,
    "start_time": "2022-12-21T07:25:22.856Z"
   },
   {
    "duration": 24600,
    "start_time": "2022-12-21T07:25:24.345Z"
   },
   {
    "duration": 194,
    "start_time": "2022-12-21T07:25:48.949Z"
   },
   {
    "duration": 310,
    "start_time": "2022-12-21T07:25:49.148Z"
   },
   {
    "duration": 14,
    "start_time": "2022-12-21T07:25:49.460Z"
   },
   {
    "duration": 95,
    "start_time": "2022-12-21T07:25:49.476Z"
   },
   {
    "duration": 1060,
    "start_time": "2022-12-21T07:25:49.573Z"
   },
   {
    "duration": 84,
    "start_time": "2022-12-21T07:25:50.637Z"
   },
   {
    "duration": 92,
    "start_time": "2022-12-21T07:25:50.733Z"
   },
   {
    "duration": 72,
    "start_time": "2022-12-21T07:25:50.828Z"
   },
   {
    "duration": 636,
    "start_time": "2022-12-21T07:25:50.902Z"
   },
   {
    "duration": 179,
    "start_time": "2022-12-21T07:25:51.540Z"
   },
   {
    "duration": 228,
    "start_time": "2022-12-21T07:25:51.722Z"
   },
   {
    "duration": 3032,
    "start_time": "2022-12-21T07:25:51.952Z"
   },
   {
    "duration": 1939,
    "start_time": "2022-12-21T07:26:19.084Z"
   },
   {
    "duration": 2492,
    "start_time": "2022-12-21T07:26:33.573Z"
   },
   {
    "duration": 2441,
    "start_time": "2022-12-21T07:27:03.041Z"
   },
   {
    "duration": 74,
    "start_time": "2022-12-21T07:27:26.379Z"
   },
   {
    "duration": 40993,
    "start_time": "2022-12-21T07:27:52.354Z"
   },
   {
    "duration": 1451,
    "start_time": "2022-12-21T07:28:41.596Z"
   },
   {
    "duration": 46498,
    "start_time": "2022-12-21T07:28:56.776Z"
   },
   {
    "duration": 36641,
    "start_time": "2022-12-21T07:29:51.414Z"
   },
   {
    "duration": 1579,
    "start_time": "2022-12-21T07:30:28.057Z"
   },
   {
    "duration": 29563,
    "start_time": "2022-12-21T07:30:41.235Z"
   },
   {
    "duration": 7,
    "start_time": "2022-12-21T07:39:10.674Z"
   },
   {
    "duration": 3,
    "start_time": "2022-12-21T07:39:53.436Z"
   },
   {
    "duration": 2598,
    "start_time": "2022-12-21T07:41:04.979Z"
   },
   {
    "duration": 2546,
    "start_time": "2022-12-21T07:41:16.106Z"
   },
   {
    "duration": 70,
    "start_time": "2022-12-21T07:42:53.930Z"
   },
   {
    "duration": 69,
    "start_time": "2022-12-21T07:43:01.861Z"
   },
   {
    "duration": 1535,
    "start_time": "2022-12-21T07:43:10.357Z"
   },
   {
    "duration": 3,
    "start_time": "2022-12-21T07:43:11.894Z"
   },
   {
    "duration": 94,
    "start_time": "2022-12-21T07:43:11.900Z"
   },
   {
    "duration": 16,
    "start_time": "2022-12-21T07:43:11.997Z"
   },
   {
    "duration": 78,
    "start_time": "2022-12-21T07:43:12.021Z"
   },
   {
    "duration": 12,
    "start_time": "2022-12-21T07:43:12.101Z"
   },
   {
    "duration": 73,
    "start_time": "2022-12-21T07:43:12.116Z"
   },
   {
    "duration": 76,
    "start_time": "2022-12-21T07:43:12.191Z"
   },
   {
    "duration": 16,
    "start_time": "2022-12-21T07:43:12.269Z"
   },
   {
    "duration": 16,
    "start_time": "2022-12-21T07:43:12.289Z"
   },
   {
    "duration": 50,
    "start_time": "2022-12-21T07:43:12.308Z"
   },
   {
    "duration": 23,
    "start_time": "2022-12-21T07:43:12.361Z"
   },
   {
    "duration": 25,
    "start_time": "2022-12-21T07:43:12.386Z"
   },
   {
    "duration": 57,
    "start_time": "2022-12-21T07:43:12.414Z"
   },
   {
    "duration": 30,
    "start_time": "2022-12-21T07:43:12.473Z"
   },
   {
    "duration": 25,
    "start_time": "2022-12-21T07:43:12.506Z"
   },
   {
    "duration": 50,
    "start_time": "2022-12-21T07:43:12.533Z"
   },
   {
    "duration": 1969,
    "start_time": "2022-12-21T07:43:12.585Z"
   },
   {
    "duration": 109,
    "start_time": "2022-12-21T07:43:14.555Z"
   },
   {
    "duration": 28415,
    "start_time": "2022-12-21T07:43:14.712Z"
   },
   {
    "duration": 1238,
    "start_time": "2022-12-21T07:43:43.134Z"
   },
   {
    "duration": 26443,
    "start_time": "2022-12-21T07:43:44.374Z"
   },
   {
    "duration": 304,
    "start_time": "2022-12-21T07:44:10.819Z"
   },
   {
    "duration": 335,
    "start_time": "2022-12-21T07:44:11.125Z"
   },
   {
    "duration": 67,
    "start_time": "2022-12-21T07:44:11.463Z"
   },
   {
    "duration": 194,
    "start_time": "2022-12-21T07:44:11.532Z"
   },
   {
    "duration": 1769,
    "start_time": "2022-12-21T07:44:11.733Z"
   },
   {
    "duration": 111,
    "start_time": "2022-12-21T07:44:13.505Z"
   },
   {
    "duration": 100,
    "start_time": "2022-12-21T07:44:13.619Z"
   },
   {
    "duration": 94,
    "start_time": "2022-12-21T07:44:13.728Z"
   },
   {
    "duration": 645,
    "start_time": "2022-12-21T07:44:13.826Z"
   },
   {
    "duration": 138,
    "start_time": "2022-12-21T07:44:14.473Z"
   },
   {
    "duration": 174,
    "start_time": "2022-12-21T07:44:14.617Z"
   },
   {
    "duration": 2603,
    "start_time": "2022-12-21T07:44:14.793Z"
   },
   {
    "duration": 1498,
    "start_time": "2022-12-21T07:48:11.574Z"
   },
   {
    "duration": 3,
    "start_time": "2022-12-21T07:48:13.074Z"
   },
   {
    "duration": 71,
    "start_time": "2022-12-21T07:48:13.079Z"
   },
   {
    "duration": 17,
    "start_time": "2022-12-21T07:48:13.152Z"
   },
   {
    "duration": 65,
    "start_time": "2022-12-21T07:48:13.172Z"
   },
   {
    "duration": 9,
    "start_time": "2022-12-21T07:48:13.239Z"
   },
   {
    "duration": 3,
    "start_time": "2022-12-21T07:48:13.250Z"
   },
   {
    "duration": 18,
    "start_time": "2022-12-21T07:48:13.254Z"
   },
   {
    "duration": 8,
    "start_time": "2022-12-21T07:48:13.274Z"
   },
   {
    "duration": 34,
    "start_time": "2022-12-21T07:48:13.284Z"
   },
   {
    "duration": 10,
    "start_time": "2022-12-21T07:48:13.319Z"
   },
   {
    "duration": 28,
    "start_time": "2022-12-21T07:48:13.331Z"
   },
   {
    "duration": 9,
    "start_time": "2022-12-21T07:48:13.361Z"
   },
   {
    "duration": 12,
    "start_time": "2022-12-21T07:48:13.372Z"
   },
   {
    "duration": 20,
    "start_time": "2022-12-21T07:48:13.386Z"
   },
   {
    "duration": 17,
    "start_time": "2022-12-21T07:48:13.407Z"
   },
   {
    "duration": 36,
    "start_time": "2022-12-21T07:48:13.425Z"
   },
   {
    "duration": 1915,
    "start_time": "2022-12-21T07:48:13.463Z"
   },
   {
    "duration": 68,
    "start_time": "2022-12-21T07:48:15.380Z"
   },
   {
    "duration": 27421,
    "start_time": "2022-12-21T07:48:15.450Z"
   },
   {
    "duration": 1173,
    "start_time": "2022-12-21T07:48:42.873Z"
   },
   {
    "duration": 1462,
    "start_time": "2022-12-21T07:49:08.442Z"
   },
   {
    "duration": 3,
    "start_time": "2022-12-21T07:49:09.906Z"
   },
   {
    "duration": 92,
    "start_time": "2022-12-21T07:49:09.911Z"
   },
   {
    "duration": 19,
    "start_time": "2022-12-21T07:49:10.005Z"
   },
   {
    "duration": 81,
    "start_time": "2022-12-21T07:49:10.027Z"
   },
   {
    "duration": 14,
    "start_time": "2022-12-21T07:49:10.110Z"
   },
   {
    "duration": 31,
    "start_time": "2022-12-21T07:49:10.126Z"
   },
   {
    "duration": 25,
    "start_time": "2022-12-21T07:49:10.159Z"
   },
   {
    "duration": 9,
    "start_time": "2022-12-21T07:49:10.186Z"
   },
   {
    "duration": 49,
    "start_time": "2022-12-21T07:49:10.197Z"
   },
   {
    "duration": 11,
    "start_time": "2022-12-21T07:49:10.248Z"
   },
   {
    "duration": 13,
    "start_time": "2022-12-21T07:49:10.261Z"
   },
   {
    "duration": 8,
    "start_time": "2022-12-21T07:49:10.276Z"
   },
   {
    "duration": 14,
    "start_time": "2022-12-21T07:49:10.288Z"
   },
   {
    "duration": 34,
    "start_time": "2022-12-21T07:49:10.304Z"
   },
   {
    "duration": 20,
    "start_time": "2022-12-21T07:49:10.343Z"
   },
   {
    "duration": 22,
    "start_time": "2022-12-21T07:49:10.364Z"
   },
   {
    "duration": 1975,
    "start_time": "2022-12-21T07:49:10.387Z"
   },
   {
    "duration": 168,
    "start_time": "2022-12-21T07:49:12.365Z"
   },
   {
    "duration": 28037,
    "start_time": "2022-12-21T07:49:12.544Z"
   },
   {
    "duration": 1203,
    "start_time": "2022-12-21T07:49:40.583Z"
   },
   {
    "duration": 25230,
    "start_time": "2022-12-21T07:49:41.788Z"
   },
   {
    "duration": 184,
    "start_time": "2022-12-21T07:50:07.041Z"
   },
   {
    "duration": 328,
    "start_time": "2022-12-21T07:50:07.227Z"
   },
   {
    "duration": 12,
    "start_time": "2022-12-21T07:50:07.557Z"
   },
   {
    "duration": 92,
    "start_time": "2022-12-21T07:50:07.571Z"
   },
   {
    "duration": 1056,
    "start_time": "2022-12-21T07:50:07.665Z"
   },
   {
    "duration": 103,
    "start_time": "2022-12-21T07:50:08.727Z"
   },
   {
    "duration": 98,
    "start_time": "2022-12-21T07:50:08.832Z"
   },
   {
    "duration": 69,
    "start_time": "2022-12-21T07:50:08.932Z"
   },
   {
    "duration": 602,
    "start_time": "2022-12-21T07:50:09.003Z"
   },
   {
    "duration": 118,
    "start_time": "2022-12-21T07:50:09.612Z"
   },
   {
    "duration": 196,
    "start_time": "2022-12-21T07:50:09.732Z"
   },
   {
    "duration": 53,
    "start_time": "2022-12-21T07:50:09.938Z"
   },
   {
    "duration": 2668,
    "start_time": "2022-12-21T07:50:40.327Z"
   },
   {
    "duration": 70,
    "start_time": "2022-12-21T07:50:51.164Z"
   },
   {
    "duration": 2538,
    "start_time": "2022-12-21T07:51:04.592Z"
   },
   {
    "duration": 65,
    "start_time": "2022-12-21T07:51:16.459Z"
   },
   {
    "duration": 70,
    "start_time": "2022-12-21T07:51:28.999Z"
   },
   {
    "duration": 83,
    "start_time": "2022-12-21T07:51:34.351Z"
   },
   {
    "duration": 1697,
    "start_time": "2022-12-21T07:51:47.663Z"
   },
   {
    "duration": 5,
    "start_time": "2022-12-21T07:51:49.363Z"
   },
   {
    "duration": 72,
    "start_time": "2022-12-21T07:51:49.371Z"
   },
   {
    "duration": 17,
    "start_time": "2022-12-21T07:51:49.445Z"
   },
   {
    "duration": 71,
    "start_time": "2022-12-21T07:51:49.464Z"
   },
   {
    "duration": 14,
    "start_time": "2022-12-21T07:51:49.537Z"
   },
   {
    "duration": 14,
    "start_time": "2022-12-21T07:51:49.553Z"
   },
   {
    "duration": 37,
    "start_time": "2022-12-21T07:51:49.569Z"
   },
   {
    "duration": 48,
    "start_time": "2022-12-21T07:51:49.609Z"
   },
   {
    "duration": 42,
    "start_time": "2022-12-21T07:51:49.660Z"
   },
   {
    "duration": 12,
    "start_time": "2022-12-21T07:51:49.704Z"
   },
   {
    "duration": 59,
    "start_time": "2022-12-21T07:51:49.717Z"
   },
   {
    "duration": 16,
    "start_time": "2022-12-21T07:51:49.778Z"
   },
   {
    "duration": 16,
    "start_time": "2022-12-21T07:51:49.798Z"
   },
   {
    "duration": 57,
    "start_time": "2022-12-21T07:51:49.816Z"
   },
   {
    "duration": 19,
    "start_time": "2022-12-21T07:51:49.875Z"
   },
   {
    "duration": 26,
    "start_time": "2022-12-21T07:51:49.897Z"
   },
   {
    "duration": 2084,
    "start_time": "2022-12-21T07:51:49.924Z"
   },
   {
    "duration": 52,
    "start_time": "2022-12-21T07:51:52.011Z"
   },
   {
    "duration": 29295,
    "start_time": "2022-12-21T07:51:52.066Z"
   },
   {
    "duration": 1247,
    "start_time": "2022-12-21T07:52:21.363Z"
   },
   {
    "duration": 18503,
    "start_time": "2022-12-21T07:52:22.617Z"
   },
   {
    "duration": 121,
    "start_time": "2022-12-21T07:52:41.133Z"
   },
   {
    "duration": 237,
    "start_time": "2022-12-21T07:52:41.329Z"
   },
   {
    "duration": 13,
    "start_time": "2022-12-21T07:52:41.568Z"
   },
   {
    "duration": 81,
    "start_time": "2022-12-21T07:52:41.583Z"
   },
   {
    "duration": 1042,
    "start_time": "2022-12-21T07:52:41.666Z"
   },
   {
    "duration": 121,
    "start_time": "2022-12-21T07:52:42.712Z"
   },
   {
    "duration": 99,
    "start_time": "2022-12-21T07:52:42.838Z"
   },
   {
    "duration": 145,
    "start_time": "2022-12-21T07:52:42.939Z"
   },
   {
    "duration": 577,
    "start_time": "2022-12-21T07:52:43.086Z"
   },
   {
    "duration": 70,
    "start_time": "2022-12-21T07:52:43.665Z"
   },
   {
    "duration": 237,
    "start_time": "2022-12-21T07:52:43.738Z"
   },
   {
    "duration": 42230,
    "start_time": "2022-12-21T07:54:17.580Z"
   },
   {
    "duration": 1721,
    "start_time": "2022-12-21T07:55:18.057Z"
   },
   {
    "duration": 1232,
    "start_time": "2022-12-21T07:55:29.364Z"
   },
   {
    "duration": 26714,
    "start_time": "2022-12-21T07:57:06.040Z"
   },
   {
    "duration": 71,
    "start_time": "2022-12-21T07:57:53.960Z"
   },
   {
    "duration": 1571,
    "start_time": "2022-12-21T07:58:32.766Z"
   },
   {
    "duration": 3,
    "start_time": "2022-12-21T07:58:34.348Z"
   },
   {
    "duration": 66,
    "start_time": "2022-12-21T07:58:34.353Z"
   },
   {
    "duration": 20,
    "start_time": "2022-12-21T07:58:34.424Z"
   },
   {
    "duration": 53,
    "start_time": "2022-12-21T07:58:34.447Z"
   },
   {
    "duration": 14,
    "start_time": "2022-12-21T07:58:34.502Z"
   },
   {
    "duration": 32,
    "start_time": "2022-12-21T07:58:34.524Z"
   },
   {
    "duration": 18,
    "start_time": "2022-12-21T07:58:34.558Z"
   },
   {
    "duration": 10,
    "start_time": "2022-12-21T07:58:34.578Z"
   },
   {
    "duration": 8,
    "start_time": "2022-12-21T07:58:34.591Z"
   },
   {
    "duration": 7,
    "start_time": "2022-12-21T07:58:34.600Z"
   },
   {
    "duration": 45,
    "start_time": "2022-12-21T07:58:34.609Z"
   },
   {
    "duration": 10,
    "start_time": "2022-12-21T07:58:34.656Z"
   },
   {
    "duration": 6,
    "start_time": "2022-12-21T07:58:34.668Z"
   },
   {
    "duration": 21,
    "start_time": "2022-12-21T07:58:34.676Z"
   },
   {
    "duration": 14,
    "start_time": "2022-12-21T07:58:34.699Z"
   },
   {
    "duration": 33,
    "start_time": "2022-12-21T07:58:34.715Z"
   },
   {
    "duration": 2008,
    "start_time": "2022-12-21T07:58:34.752Z"
   },
   {
    "duration": 52,
    "start_time": "2022-12-21T07:58:36.763Z"
   },
   {
    "duration": 29354,
    "start_time": "2022-12-21T07:58:36.818Z"
   },
   {
    "duration": 908,
    "start_time": "2022-12-21T07:59:06.174Z"
   },
   {
    "duration": 27067,
    "start_time": "2022-12-21T07:59:07.084Z"
   },
   {
    "duration": 132,
    "start_time": "2022-12-21T07:59:34.213Z"
   },
   {
    "duration": 327,
    "start_time": "2022-12-21T07:59:34.347Z"
   },
   {
    "duration": 10,
    "start_time": "2022-12-21T07:59:34.676Z"
   },
   {
    "duration": 72,
    "start_time": "2022-12-21T07:59:34.688Z"
   },
   {
    "duration": 1055,
    "start_time": "2022-12-21T07:59:34.762Z"
   },
   {
    "duration": 108,
    "start_time": "2022-12-21T07:59:35.823Z"
   },
   {
    "duration": 101,
    "start_time": "2022-12-21T07:59:35.933Z"
   },
   {
    "duration": 112,
    "start_time": "2022-12-21T07:59:36.045Z"
   },
   {
    "duration": 691,
    "start_time": "2022-12-21T07:59:36.159Z"
   },
   {
    "duration": 85,
    "start_time": "2022-12-21T07:59:36.853Z"
   },
   {
    "duration": 171,
    "start_time": "2022-12-21T07:59:37.014Z"
   },
   {
    "duration": 43643,
    "start_time": "2022-12-21T08:01:40.067Z"
   },
   {
    "duration": 39052,
    "start_time": "2022-12-21T08:02:29.896Z"
   },
   {
    "duration": 43188,
    "start_time": "2022-12-21T08:03:17.945Z"
   },
   {
    "duration": 40344,
    "start_time": "2022-12-21T08:04:12.457Z"
   },
   {
    "duration": 1625,
    "start_time": "2022-12-21T08:08:23.597Z"
   },
   {
    "duration": 26550,
    "start_time": "2022-12-21T08:08:42.096Z"
   },
   {
    "duration": 132,
    "start_time": "2022-12-21T08:09:17.603Z"
   },
   {
    "duration": 25863,
    "start_time": "2022-12-21T08:09:21.575Z"
   },
   {
    "duration": 93,
    "start_time": "2022-12-21T08:10:37.819Z"
   },
   {
    "duration": 28628,
    "start_time": "2022-12-21T08:10:42.202Z"
   },
   {
    "duration": 76,
    "start_time": "2022-12-21T08:11:21.553Z"
   },
   {
    "duration": 1500,
    "start_time": "2022-12-21T08:11:28.995Z"
   },
   {
    "duration": 4,
    "start_time": "2022-12-21T08:11:30.497Z"
   },
   {
    "duration": 101,
    "start_time": "2022-12-21T08:11:30.502Z"
   },
   {
    "duration": 27,
    "start_time": "2022-12-21T08:11:30.606Z"
   },
   {
    "duration": 63,
    "start_time": "2022-12-21T08:11:30.640Z"
   },
   {
    "duration": 14,
    "start_time": "2022-12-21T08:11:30.706Z"
   },
   {
    "duration": 42,
    "start_time": "2022-12-21T08:11:30.728Z"
   },
   {
    "duration": 23,
    "start_time": "2022-12-21T08:11:30.772Z"
   },
   {
    "duration": 7,
    "start_time": "2022-12-21T08:11:30.798Z"
   },
   {
    "duration": 52,
    "start_time": "2022-12-21T08:11:30.808Z"
   },
   {
    "duration": 34,
    "start_time": "2022-12-21T08:11:30.862Z"
   },
   {
    "duration": 53,
    "start_time": "2022-12-21T08:11:30.898Z"
   },
   {
    "duration": 26,
    "start_time": "2022-12-21T08:11:30.953Z"
   },
   {
    "duration": 21,
    "start_time": "2022-12-21T08:11:30.981Z"
   },
   {
    "duration": 65,
    "start_time": "2022-12-21T08:11:31.004Z"
   },
   {
    "duration": 24,
    "start_time": "2022-12-21T08:11:31.070Z"
   },
   {
    "duration": 37,
    "start_time": "2022-12-21T08:11:31.096Z"
   },
   {
    "duration": 1974,
    "start_time": "2022-12-21T08:11:31.135Z"
   },
   {
    "duration": 49,
    "start_time": "2022-12-21T08:11:33.112Z"
   },
   {
    "duration": 26095,
    "start_time": "2022-12-21T08:11:33.163Z"
   },
   {
    "duration": 1182,
    "start_time": "2022-12-21T08:11:59.260Z"
   },
   {
    "duration": 27103,
    "start_time": "2022-12-21T08:12:00.444Z"
   },
   {
    "duration": 141,
    "start_time": "2022-12-21T08:12:27.613Z"
   },
   {
    "duration": 230,
    "start_time": "2022-12-21T08:12:27.842Z"
   },
   {
    "duration": 12,
    "start_time": "2022-12-21T08:12:28.074Z"
   },
   {
    "duration": 85,
    "start_time": "2022-12-21T08:12:28.088Z"
   },
   {
    "duration": 1009,
    "start_time": "2022-12-21T08:12:28.175Z"
   },
   {
    "duration": 65,
    "start_time": "2022-12-21T08:12:29.187Z"
   },
   {
    "duration": 101,
    "start_time": "2022-12-21T08:12:29.315Z"
   },
   {
    "duration": 59,
    "start_time": "2022-12-21T08:12:29.422Z"
   },
   {
    "duration": 593,
    "start_time": "2022-12-21T08:12:29.483Z"
   },
   {
    "duration": 48,
    "start_time": "2022-12-21T08:12:30.078Z"
   },
   {
    "duration": 233,
    "start_time": "2022-12-21T08:12:30.128Z"
   },
   {
    "duration": 1370,
    "start_time": "2022-12-21T08:13:49.476Z"
   },
   {
    "duration": 1534,
    "start_time": "2022-12-21T08:14:12.942Z"
   },
   {
    "duration": 3,
    "start_time": "2022-12-21T08:14:14.479Z"
   },
   {
    "duration": 103,
    "start_time": "2022-12-21T08:14:14.484Z"
   },
   {
    "duration": 20,
    "start_time": "2022-12-21T08:14:14.590Z"
   },
   {
    "duration": 85,
    "start_time": "2022-12-21T08:14:14.612Z"
   },
   {
    "duration": 9,
    "start_time": "2022-12-21T08:14:14.699Z"
   },
   {
    "duration": 34,
    "start_time": "2022-12-21T08:14:14.711Z"
   },
   {
    "duration": 27,
    "start_time": "2022-12-21T08:14:14.747Z"
   },
   {
    "duration": 9,
    "start_time": "2022-12-21T08:14:14.776Z"
   },
   {
    "duration": 42,
    "start_time": "2022-12-21T08:14:14.789Z"
   },
   {
    "duration": 26,
    "start_time": "2022-12-21T08:14:14.837Z"
   },
   {
    "duration": 85,
    "start_time": "2022-12-21T08:14:14.866Z"
   },
   {
    "duration": 30,
    "start_time": "2022-12-21T08:14:14.953Z"
   },
   {
    "duration": 65,
    "start_time": "2022-12-21T08:14:14.985Z"
   },
   {
    "duration": 43,
    "start_time": "2022-12-21T08:14:15.052Z"
   },
   {
    "duration": 34,
    "start_time": "2022-12-21T08:14:15.096Z"
   },
   {
    "duration": 42,
    "start_time": "2022-12-21T08:14:15.132Z"
   },
   {
    "duration": 2040,
    "start_time": "2022-12-21T08:14:15.176Z"
   },
   {
    "duration": 112,
    "start_time": "2022-12-21T08:14:17.218Z"
   },
   {
    "duration": 26766,
    "start_time": "2022-12-21T08:14:17.334Z"
   },
   {
    "duration": 1033,
    "start_time": "2022-12-21T08:14:44.101Z"
   },
   {
    "duration": 24572,
    "start_time": "2022-12-21T08:14:45.140Z"
   },
   {
    "duration": 202,
    "start_time": "2022-12-21T08:15:09.718Z"
   },
   {
    "duration": 235,
    "start_time": "2022-12-21T08:15:09.925Z"
   },
   {
    "duration": 12,
    "start_time": "2022-12-21T08:15:10.162Z"
   },
   {
    "duration": 87,
    "start_time": "2022-12-21T08:15:10.175Z"
   },
   {
    "duration": 992,
    "start_time": "2022-12-21T08:15:10.263Z"
   },
   {
    "duration": 74,
    "start_time": "2022-12-21T08:15:11.260Z"
   },
   {
    "duration": 92,
    "start_time": "2022-12-21T08:15:11.336Z"
   },
   {
    "duration": 91,
    "start_time": "2022-12-21T08:15:11.430Z"
   },
   {
    "duration": 611,
    "start_time": "2022-12-21T08:15:11.525Z"
   },
   {
    "duration": 85,
    "start_time": "2022-12-21T08:15:12.138Z"
   },
   {
    "duration": 226,
    "start_time": "2022-12-21T08:15:12.225Z"
   },
   {
    "duration": 114,
    "start_time": "2022-12-21T08:19:03.924Z"
   },
   {
    "duration": 1332,
    "start_time": "2022-12-21T08:19:11.739Z"
   },
   {
    "duration": 3,
    "start_time": "2022-12-21T08:19:13.073Z"
   },
   {
    "duration": 70,
    "start_time": "2022-12-21T08:19:13.078Z"
   },
   {
    "duration": 12,
    "start_time": "2022-12-21T08:19:13.150Z"
   },
   {
    "duration": 66,
    "start_time": "2022-12-21T08:19:13.164Z"
   },
   {
    "duration": 9,
    "start_time": "2022-12-21T08:19:13.232Z"
   },
   {
    "duration": 3,
    "start_time": "2022-12-21T08:19:13.243Z"
   },
   {
    "duration": 21,
    "start_time": "2022-12-21T08:19:13.248Z"
   },
   {
    "duration": 15,
    "start_time": "2022-12-21T08:19:13.270Z"
   },
   {
    "duration": 27,
    "start_time": "2022-12-21T08:19:13.289Z"
   },
   {
    "duration": 6,
    "start_time": "2022-12-21T08:19:13.320Z"
   },
   {
    "duration": 12,
    "start_time": "2022-12-21T08:19:13.328Z"
   },
   {
    "duration": 8,
    "start_time": "2022-12-21T08:19:13.342Z"
   },
   {
    "duration": 9,
    "start_time": "2022-12-21T08:19:13.352Z"
   },
   {
    "duration": 22,
    "start_time": "2022-12-21T08:19:13.363Z"
   },
   {
    "duration": 40,
    "start_time": "2022-12-21T08:19:13.387Z"
   },
   {
    "duration": 19,
    "start_time": "2022-12-21T08:19:13.430Z"
   },
   {
    "duration": 1802,
    "start_time": "2022-12-21T08:19:13.451Z"
   },
   {
    "duration": 42,
    "start_time": "2022-12-21T08:19:15.255Z"
   },
   {
    "duration": 24660,
    "start_time": "2022-12-21T08:19:15.299Z"
   },
   {
    "duration": 969,
    "start_time": "2022-12-21T08:19:39.961Z"
   },
   {
    "duration": 20208,
    "start_time": "2022-12-21T08:19:40.932Z"
   },
   {
    "duration": 198,
    "start_time": "2022-12-21T08:20:01.217Z"
   },
   {
    "duration": 247,
    "start_time": "2022-12-21T08:20:01.417Z"
   },
   {
    "duration": 12,
    "start_time": "2022-12-21T08:20:01.666Z"
   },
   {
    "duration": 111,
    "start_time": "2022-12-21T08:20:01.680Z"
   },
   {
    "duration": 987,
    "start_time": "2022-12-21T08:20:01.793Z"
   },
   {
    "duration": 54,
    "start_time": "2022-12-21T08:20:02.784Z"
   },
   {
    "duration": 111,
    "start_time": "2022-12-21T08:20:02.913Z"
   },
   {
    "duration": 53,
    "start_time": "2022-12-21T08:20:03.028Z"
   },
   {
    "duration": 581,
    "start_time": "2022-12-21T08:20:03.083Z"
   },
   {
    "duration": 68,
    "start_time": "2022-12-21T08:20:03.666Z"
   },
   {
    "duration": 231,
    "start_time": "2022-12-21T08:20:03.736Z"
   },
   {
    "duration": 1514,
    "start_time": "2022-12-21T08:27:05.542Z"
   },
   {
    "duration": 4,
    "start_time": "2022-12-21T08:27:07.058Z"
   },
   {
    "duration": 97,
    "start_time": "2022-12-21T08:27:07.064Z"
   },
   {
    "duration": 15,
    "start_time": "2022-12-21T08:27:07.163Z"
   },
   {
    "duration": 56,
    "start_time": "2022-12-21T08:27:07.181Z"
   },
   {
    "duration": 11,
    "start_time": "2022-12-21T08:27:07.239Z"
   },
   {
    "duration": 15,
    "start_time": "2022-12-21T08:27:07.252Z"
   },
   {
    "duration": 28,
    "start_time": "2022-12-21T08:27:07.269Z"
   },
   {
    "duration": 42,
    "start_time": "2022-12-21T08:27:07.299Z"
   },
   {
    "duration": 23,
    "start_time": "2022-12-21T08:27:07.344Z"
   },
   {
    "duration": 32,
    "start_time": "2022-12-21T08:27:07.369Z"
   },
   {
    "duration": 41,
    "start_time": "2022-12-21T08:27:07.404Z"
   },
   {
    "duration": 60,
    "start_time": "2022-12-21T08:27:07.447Z"
   },
   {
    "duration": 31,
    "start_time": "2022-12-21T08:27:07.509Z"
   },
   {
    "duration": 42,
    "start_time": "2022-12-21T08:27:07.543Z"
   },
   {
    "duration": 13,
    "start_time": "2022-12-21T08:27:07.588Z"
   },
   {
    "duration": 27,
    "start_time": "2022-12-21T08:27:07.603Z"
   },
   {
    "duration": 1461,
    "start_time": "2022-12-21T08:27:07.632Z"
   },
   {
    "duration": 64,
    "start_time": "2022-12-21T08:27:09.095Z"
   },
   {
    "duration": 21482,
    "start_time": "2022-12-21T08:27:09.162Z"
   },
   {
    "duration": 1037,
    "start_time": "2022-12-21T08:27:30.646Z"
   },
   {
    "duration": 21730,
    "start_time": "2022-12-21T08:27:31.685Z"
   },
   {
    "duration": 120,
    "start_time": "2022-12-21T08:27:53.420Z"
   },
   {
    "duration": 246,
    "start_time": "2022-12-21T08:27:53.621Z"
   },
   {
    "duration": 13,
    "start_time": "2022-12-21T08:27:53.870Z"
   },
   {
    "duration": 89,
    "start_time": "2022-12-21T08:27:53.885Z"
   },
   {
    "duration": 1018,
    "start_time": "2022-12-21T08:27:53.976Z"
   },
   {
    "duration": 126,
    "start_time": "2022-12-21T08:27:54.997Z"
   },
   {
    "duration": 89,
    "start_time": "2022-12-21T08:27:55.124Z"
   },
   {
    "duration": 155,
    "start_time": "2022-12-21T08:27:55.216Z"
   },
   {
    "duration": 605,
    "start_time": "2022-12-21T08:27:55.373Z"
   },
   {
    "duration": 43,
    "start_time": "2022-12-21T08:27:55.981Z"
   },
   {
    "duration": 255,
    "start_time": "2022-12-21T08:27:56.026Z"
   },
   {
    "duration": 1284,
    "start_time": "2022-12-21T08:27:56.284Z"
   },
   {
    "duration": 31,
    "start_time": "2022-12-21T08:29:59.695Z"
   },
   {
    "duration": 105,
    "start_time": "2022-12-21T08:30:12.739Z"
   },
   {
    "duration": 2045,
    "start_time": "2022-12-21T08:30:32.747Z"
   },
   {
    "duration": 101,
    "start_time": "2022-12-21T08:30:53.719Z"
   },
   {
    "duration": 88,
    "start_time": "2022-12-21T08:30:59.842Z"
   },
   {
    "duration": 15,
    "start_time": "2022-12-21T08:31:56.836Z"
   },
   {
    "duration": 59,
    "start_time": "2022-12-21T08:32:12.952Z"
   },
   {
    "duration": 1492,
    "start_time": "2022-12-21T08:32:33.792Z"
   },
   {
    "duration": 105,
    "start_time": "2022-12-21T08:32:49.510Z"
   },
   {
    "duration": 1449,
    "start_time": "2022-12-21T08:33:21.042Z"
   },
   {
    "duration": 3,
    "start_time": "2022-12-21T08:33:22.493Z"
   },
   {
    "duration": 96,
    "start_time": "2022-12-21T08:33:22.497Z"
   },
   {
    "duration": 12,
    "start_time": "2022-12-21T08:33:22.595Z"
   },
   {
    "duration": 103,
    "start_time": "2022-12-21T08:33:22.610Z"
   },
   {
    "duration": 9,
    "start_time": "2022-12-21T08:33:22.715Z"
   },
   {
    "duration": 39,
    "start_time": "2022-12-21T08:33:22.726Z"
   },
   {
    "duration": 60,
    "start_time": "2022-12-21T08:33:22.767Z"
   },
   {
    "duration": 49,
    "start_time": "2022-12-21T08:33:22.829Z"
   },
   {
    "duration": 29,
    "start_time": "2022-12-21T08:33:22.913Z"
   },
   {
    "duration": 7,
    "start_time": "2022-12-21T08:33:22.943Z"
   },
   {
    "duration": 26,
    "start_time": "2022-12-21T08:33:22.952Z"
   },
   {
    "duration": 17,
    "start_time": "2022-12-21T08:33:23.012Z"
   },
   {
    "duration": 9,
    "start_time": "2022-12-21T08:33:23.033Z"
   },
   {
    "duration": 22,
    "start_time": "2022-12-21T08:33:23.044Z"
   },
   {
    "duration": 31,
    "start_time": "2022-12-21T08:33:23.112Z"
   },
   {
    "duration": 68,
    "start_time": "2022-12-21T08:33:23.146Z"
   },
   {
    "duration": 2216,
    "start_time": "2022-12-21T08:33:23.219Z"
   },
   {
    "duration": 44,
    "start_time": "2022-12-21T08:33:25.436Z"
   },
   {
    "duration": 19837,
    "start_time": "2022-12-21T08:33:25.482Z"
   },
   {
    "duration": 892,
    "start_time": "2022-12-21T08:33:45.325Z"
   },
   {
    "duration": 19420,
    "start_time": "2022-12-21T08:33:46.218Z"
   },
   {
    "duration": 198,
    "start_time": "2022-12-21T08:34:05.639Z"
   },
   {
    "duration": 341,
    "start_time": "2022-12-21T08:34:05.839Z"
   },
   {
    "duration": 15,
    "start_time": "2022-12-21T08:34:06.183Z"
   },
   {
    "duration": 86,
    "start_time": "2022-12-21T08:34:06.200Z"
   },
   {
    "duration": 1243,
    "start_time": "2022-12-21T08:34:06.288Z"
   },
   {
    "duration": 90,
    "start_time": "2022-12-21T08:34:07.534Z"
   },
   {
    "duration": 84,
    "start_time": "2022-12-21T08:34:07.631Z"
   },
   {
    "duration": 45,
    "start_time": "2022-12-21T08:34:07.718Z"
   },
   {
    "duration": 689,
    "start_time": "2022-12-21T08:34:07.765Z"
   },
   {
    "duration": 67,
    "start_time": "2022-12-21T08:34:08.456Z"
   },
   {
    "duration": 249,
    "start_time": "2022-12-21T08:34:08.525Z"
   },
   {
    "duration": 1413,
    "start_time": "2022-12-21T16:48:31.258Z"
   },
   {
    "duration": 4,
    "start_time": "2022-12-21T16:48:32.673Z"
   },
   {
    "duration": 82,
    "start_time": "2022-12-21T16:48:32.679Z"
   },
   {
    "duration": 14,
    "start_time": "2022-12-21T16:48:32.764Z"
   },
   {
    "duration": 47,
    "start_time": "2022-12-21T16:48:32.779Z"
   },
   {
    "duration": 9,
    "start_time": "2022-12-21T16:48:32.828Z"
   },
   {
    "duration": 3,
    "start_time": "2022-12-21T16:48:32.839Z"
   },
   {
    "duration": 19,
    "start_time": "2022-12-21T16:48:32.844Z"
   },
   {
    "duration": 7,
    "start_time": "2022-12-21T16:48:32.865Z"
   },
   {
    "duration": 15,
    "start_time": "2022-12-21T16:48:32.900Z"
   },
   {
    "duration": 7,
    "start_time": "2022-12-21T16:48:32.917Z"
   },
   {
    "duration": 21,
    "start_time": "2022-12-21T16:48:32.926Z"
   },
   {
    "duration": 9,
    "start_time": "2022-12-21T16:48:32.949Z"
   },
   {
    "duration": 20,
    "start_time": "2022-12-21T16:48:32.960Z"
   },
   {
    "duration": 27,
    "start_time": "2022-12-21T16:48:32.982Z"
   },
   {
    "duration": 16,
    "start_time": "2022-12-21T16:48:33.013Z"
   },
   {
    "duration": 19,
    "start_time": "2022-12-21T16:48:33.031Z"
   },
   {
    "duration": 1319,
    "start_time": "2022-12-21T16:48:33.051Z"
   },
   {
    "duration": 51,
    "start_time": "2022-12-21T16:48:34.372Z"
   },
   {
    "duration": 18074,
    "start_time": "2022-12-21T16:48:34.424Z"
   },
   {
    "duration": 808,
    "start_time": "2022-12-21T16:48:52.500Z"
   },
   {
    "duration": 20814,
    "start_time": "2022-12-21T16:48:53.310Z"
   },
   {
    "duration": 275,
    "start_time": "2022-12-21T16:49:14.129Z"
   },
   {
    "duration": 216,
    "start_time": "2022-12-21T16:49:14.409Z"
   },
   {
    "duration": 11,
    "start_time": "2022-12-21T16:49:14.627Z"
   },
   {
    "duration": 77,
    "start_time": "2022-12-21T16:49:14.640Z"
   },
   {
    "duration": 1203,
    "start_time": "2022-12-21T16:49:14.723Z"
   },
   {
    "duration": 177,
    "start_time": "2022-12-21T16:49:15.930Z"
   },
   {
    "duration": 19,
    "start_time": "2022-12-21T16:49:16.109Z"
   },
   {
    "duration": 33,
    "start_time": "2022-12-21T16:49:16.206Z"
   },
   {
    "duration": 633,
    "start_time": "2022-12-21T16:49:16.241Z"
   },
   {
    "duration": 51,
    "start_time": "2022-12-21T16:49:16.876Z"
   },
   {
    "duration": 232,
    "start_time": "2022-12-21T16:49:16.932Z"
   },
   {
    "duration": 1432,
    "start_time": "2022-12-22T03:11:23.990Z"
   },
   {
    "duration": 2,
    "start_time": "2022-12-22T03:11:25.424Z"
   },
   {
    "duration": 62,
    "start_time": "2022-12-22T03:11:25.428Z"
   },
   {
    "duration": 11,
    "start_time": "2022-12-22T03:11:25.491Z"
   },
   {
    "duration": 36,
    "start_time": "2022-12-22T03:11:25.504Z"
   },
   {
    "duration": 6,
    "start_time": "2022-12-22T03:11:25.541Z"
   },
   {
    "duration": 7,
    "start_time": "2022-12-22T03:11:25.549Z"
   },
   {
    "duration": 17,
    "start_time": "2022-12-22T03:11:25.558Z"
   },
   {
    "duration": 22,
    "start_time": "2022-12-22T03:11:25.576Z"
   },
   {
    "duration": 6,
    "start_time": "2022-12-22T03:11:25.599Z"
   },
   {
    "duration": 5,
    "start_time": "2022-12-22T03:11:25.606Z"
   },
   {
    "duration": 10,
    "start_time": "2022-12-22T03:11:25.612Z"
   },
   {
    "duration": 10,
    "start_time": "2022-12-22T03:11:25.624Z"
   },
   {
    "duration": 10,
    "start_time": "2022-12-22T03:11:25.637Z"
   },
   {
    "duration": 17,
    "start_time": "2022-12-22T03:11:25.648Z"
   },
   {
    "duration": 31,
    "start_time": "2022-12-22T03:11:25.666Z"
   },
   {
    "duration": 18,
    "start_time": "2022-12-22T03:11:25.698Z"
   },
   {
    "duration": 1183,
    "start_time": "2022-12-22T03:11:25.717Z"
   },
   {
    "duration": 36,
    "start_time": "2022-12-22T03:11:26.902Z"
   },
   {
    "duration": 16658,
    "start_time": "2022-12-22T03:11:26.939Z"
   },
   {
    "duration": 678,
    "start_time": "2022-12-22T03:11:43.598Z"
   },
   {
    "duration": 11830,
    "start_time": "2022-12-22T03:11:44.277Z"
   },
   {
    "duration": 117,
    "start_time": "2022-12-22T03:11:56.199Z"
   },
   {
    "duration": 207,
    "start_time": "2022-12-22T03:11:56.398Z"
   },
   {
    "duration": 9,
    "start_time": "2022-12-22T03:11:56.606Z"
   },
   {
    "duration": 51,
    "start_time": "2022-12-22T03:11:56.616Z"
   },
   {
    "duration": 953,
    "start_time": "2022-12-22T03:11:56.669Z"
   },
   {
    "duration": 78,
    "start_time": "2022-12-22T03:11:57.624Z"
   },
   {
    "duration": 104,
    "start_time": "2022-12-22T03:11:57.705Z"
   },
   {
    "duration": 113,
    "start_time": "2022-12-22T03:11:57.811Z"
   },
   {
    "duration": 560,
    "start_time": "2022-12-22T03:11:57.926Z"
   },
   {
    "duration": 34,
    "start_time": "2022-12-22T03:11:58.487Z"
   },
   {
    "duration": 168,
    "start_time": "2022-12-22T03:11:58.599Z"
   },
   {
    "duration": 14045,
    "start_time": "2022-12-22T03:13:42.754Z"
   },
   {
    "duration": 1380,
    "start_time": "2022-12-22T03:17:55.334Z"
   },
   {
    "duration": 4,
    "start_time": "2022-12-22T03:17:56.716Z"
   },
   {
    "duration": 58,
    "start_time": "2022-12-22T03:17:56.721Z"
   },
   {
    "duration": 13,
    "start_time": "2022-12-22T03:17:56.781Z"
   },
   {
    "duration": 48,
    "start_time": "2022-12-22T03:17:56.797Z"
   },
   {
    "duration": 8,
    "start_time": "2022-12-22T03:17:56.847Z"
   },
   {
    "duration": 8,
    "start_time": "2022-12-22T03:17:56.857Z"
   },
   {
    "duration": 22,
    "start_time": "2022-12-22T03:17:56.867Z"
   },
   {
    "duration": 10,
    "start_time": "2022-12-22T03:17:56.891Z"
   },
   {
    "duration": 7,
    "start_time": "2022-12-22T03:17:56.902Z"
   },
   {
    "duration": 23,
    "start_time": "2022-12-22T03:17:56.910Z"
   },
   {
    "duration": 16,
    "start_time": "2022-12-22T03:17:56.934Z"
   },
   {
    "duration": 18,
    "start_time": "2022-12-22T03:17:56.951Z"
   },
   {
    "duration": 29,
    "start_time": "2022-12-22T03:17:56.971Z"
   },
   {
    "duration": 26,
    "start_time": "2022-12-22T03:17:57.002Z"
   },
   {
    "duration": 13,
    "start_time": "2022-12-22T03:17:57.030Z"
   },
   {
    "duration": 19,
    "start_time": "2022-12-22T03:17:57.044Z"
   },
   {
    "duration": 1192,
    "start_time": "2022-12-22T03:17:57.064Z"
   },
   {
    "duration": 45,
    "start_time": "2022-12-22T03:17:58.257Z"
   },
   {
    "duration": 16101,
    "start_time": "2022-12-22T03:17:58.304Z"
   },
   {
    "duration": 737,
    "start_time": "2022-12-22T03:18:14.407Z"
   },
   {
    "duration": 12055,
    "start_time": "2022-12-22T03:18:15.146Z"
   },
   {
    "duration": 194,
    "start_time": "2022-12-22T03:18:27.206Z"
   },
   {
    "duration": 213,
    "start_time": "2022-12-22T03:18:27.402Z"
   },
   {
    "duration": 10,
    "start_time": "2022-12-22T03:18:27.616Z"
   },
   {
    "duration": 48,
    "start_time": "2022-12-22T03:18:27.627Z"
   },
   {
    "duration": 981,
    "start_time": "2022-12-22T03:18:27.677Z"
   },
   {
    "duration": 42,
    "start_time": "2022-12-22T03:18:28.659Z"
   },
   {
    "duration": 103,
    "start_time": "2022-12-22T03:18:28.702Z"
   },
   {
    "duration": 118,
    "start_time": "2022-12-22T03:18:28.807Z"
   },
   {
    "duration": 597,
    "start_time": "2022-12-22T03:18:28.927Z"
   },
   {
    "duration": 74,
    "start_time": "2022-12-22T03:18:29.526Z"
   },
   {
    "duration": 168,
    "start_time": "2022-12-22T03:18:29.603Z"
   },
   {
    "duration": 1434,
    "start_time": "2022-12-22T06:51:55.437Z"
   },
   {
    "duration": 3,
    "start_time": "2022-12-22T06:51:56.873Z"
   },
   {
    "duration": 96,
    "start_time": "2022-12-22T06:51:56.877Z"
   },
   {
    "duration": 12,
    "start_time": "2022-12-22T06:51:56.975Z"
   },
   {
    "duration": 38,
    "start_time": "2022-12-22T06:51:56.988Z"
   },
   {
    "duration": 6,
    "start_time": "2022-12-22T06:51:57.028Z"
   },
   {
    "duration": 6,
    "start_time": "2022-12-22T06:51:57.036Z"
   },
   {
    "duration": 18,
    "start_time": "2022-12-22T06:51:57.044Z"
   },
   {
    "duration": 6,
    "start_time": "2022-12-22T06:51:57.063Z"
   },
   {
    "duration": 35,
    "start_time": "2022-12-22T06:51:57.072Z"
   },
   {
    "duration": 7,
    "start_time": "2022-12-22T06:51:57.108Z"
   },
   {
    "duration": 11,
    "start_time": "2022-12-22T06:51:57.116Z"
   },
   {
    "duration": 12,
    "start_time": "2022-12-22T06:51:57.129Z"
   },
   {
    "duration": 15,
    "start_time": "2022-12-22T06:51:57.142Z"
   },
   {
    "duration": 21,
    "start_time": "2022-12-22T06:51:57.158Z"
   },
   {
    "duration": 12,
    "start_time": "2022-12-22T06:51:57.181Z"
   },
   {
    "duration": 22,
    "start_time": "2022-12-22T06:51:57.194Z"
   },
   {
    "duration": 1222,
    "start_time": "2022-12-22T06:51:57.218Z"
   },
   {
    "duration": 39,
    "start_time": "2022-12-22T06:51:58.442Z"
   },
   {
    "duration": 16894,
    "start_time": "2022-12-22T06:51:58.483Z"
   },
   {
    "duration": 731,
    "start_time": "2022-12-22T06:52:15.379Z"
   },
   {
    "duration": 15417,
    "start_time": "2022-12-22T06:52:16.111Z"
   },
   {
    "duration": 207,
    "start_time": "2022-12-22T06:52:31.530Z"
   },
   {
    "duration": 299,
    "start_time": "2022-12-22T06:52:31.739Z"
   },
   {
    "duration": 10,
    "start_time": "2022-12-22T06:52:32.040Z"
   },
   {
    "duration": 71,
    "start_time": "2022-12-22T06:52:32.051Z"
   },
   {
    "duration": 1019,
    "start_time": "2022-12-22T06:52:32.124Z"
   },
   {
    "duration": 77,
    "start_time": "2022-12-22T06:52:33.146Z"
   },
   {
    "duration": 96,
    "start_time": "2022-12-22T06:52:33.226Z"
   },
   {
    "duration": 48,
    "start_time": "2022-12-22T06:52:33.323Z"
   },
   {
    "duration": 588,
    "start_time": "2022-12-22T06:52:33.373Z"
   },
   {
    "duration": 62,
    "start_time": "2022-12-22T06:52:33.963Z"
   },
   {
    "duration": 209,
    "start_time": "2022-12-22T06:52:34.027Z"
   },
   {
    "duration": 62,
    "start_time": "2022-12-22T06:53:07.358Z"
   },
   {
    "duration": 1302,
    "start_time": "2022-12-22T06:53:13.099Z"
   },
   {
    "duration": 3,
    "start_time": "2022-12-22T06:53:14.403Z"
   },
   {
    "duration": 52,
    "start_time": "2022-12-22T06:53:14.409Z"
   },
   {
    "duration": 12,
    "start_time": "2022-12-22T06:53:14.463Z"
   },
   {
    "duration": 38,
    "start_time": "2022-12-22T06:53:14.476Z"
   },
   {
    "duration": 10,
    "start_time": "2022-12-22T06:53:14.515Z"
   },
   {
    "duration": 7,
    "start_time": "2022-12-22T06:53:14.526Z"
   },
   {
    "duration": 21,
    "start_time": "2022-12-22T06:53:14.534Z"
   },
   {
    "duration": 8,
    "start_time": "2022-12-22T06:53:14.558Z"
   },
   {
    "duration": 16,
    "start_time": "2022-12-22T06:53:14.568Z"
   },
   {
    "duration": 7,
    "start_time": "2022-12-22T06:53:14.586Z"
   },
   {
    "duration": 23,
    "start_time": "2022-12-22T06:53:14.595Z"
   },
   {
    "duration": 9,
    "start_time": "2022-12-22T06:53:14.620Z"
   },
   {
    "duration": 5,
    "start_time": "2022-12-22T06:53:14.631Z"
   },
   {
    "duration": 18,
    "start_time": "2022-12-22T06:53:14.637Z"
   },
   {
    "duration": 11,
    "start_time": "2022-12-22T06:53:14.656Z"
   },
   {
    "duration": 19,
    "start_time": "2022-12-22T06:53:14.668Z"
   },
   {
    "duration": 1262,
    "start_time": "2022-12-22T06:53:14.688Z"
   },
   {
    "duration": 39,
    "start_time": "2022-12-22T06:53:15.951Z"
   },
   {
    "duration": 17545,
    "start_time": "2022-12-22T06:53:15.991Z"
   },
   {
    "duration": 715,
    "start_time": "2022-12-22T06:53:33.538Z"
   },
   {
    "duration": 10371,
    "start_time": "2022-12-22T06:53:34.255Z"
   },
   {
    "duration": 194,
    "start_time": "2022-12-22T06:53:44.628Z"
   },
   {
    "duration": 223,
    "start_time": "2022-12-22T06:53:44.828Z"
   },
   {
    "duration": 11,
    "start_time": "2022-12-22T06:53:45.053Z"
   },
   {
    "duration": 59,
    "start_time": "2022-12-22T06:53:45.066Z"
   },
   {
    "duration": 1056,
    "start_time": "2022-12-22T06:53:45.128Z"
   },
   {
    "duration": 46,
    "start_time": "2022-12-22T06:53:46.185Z"
   },
   {
    "duration": 194,
    "start_time": "2022-12-22T06:53:46.233Z"
   },
   {
    "duration": 43,
    "start_time": "2022-12-22T06:53:46.428Z"
   },
   {
    "duration": 593,
    "start_time": "2022-12-22T06:53:46.473Z"
   },
   {
    "duration": 159,
    "start_time": "2022-12-22T06:53:47.067Z"
   },
   {
    "duration": 262,
    "start_time": "2022-12-22T06:53:47.229Z"
   },
   {
    "duration": 1719,
    "start_time": "2022-12-22T07:10:00.055Z"
   },
   {
    "duration": 57,
    "start_time": "2022-12-22T07:10:31.434Z"
   },
   {
    "duration": 1661,
    "start_time": "2022-12-22T07:10:36.600Z"
   },
   {
    "duration": 56,
    "start_time": "2022-12-22T07:10:44.069Z"
   },
   {
    "duration": 896,
    "start_time": "2022-12-22T07:11:56.795Z"
   },
   {
    "duration": 1718,
    "start_time": "2022-12-22T07:12:17.797Z"
   },
   {
    "duration": 56,
    "start_time": "2022-12-22T07:12:24.498Z"
   },
   {
    "duration": 23998,
    "start_time": "2022-12-22T07:13:11.773Z"
   },
   {
    "duration": 1088,
    "start_time": "2022-12-22T07:13:56.734Z"
   },
   {
    "duration": 65,
    "start_time": "2022-12-22T07:14:39.959Z"
   },
   {
    "duration": 12908,
    "start_time": "2022-12-22T07:16:58.015Z"
   },
   {
    "duration": 29,
    "start_time": "2022-12-22T07:17:26.741Z"
   },
   {
    "duration": 1291,
    "start_time": "2022-12-22T07:17:45.297Z"
   },
   {
    "duration": 3,
    "start_time": "2022-12-22T07:17:46.590Z"
   },
   {
    "duration": 72,
    "start_time": "2022-12-22T07:17:46.594Z"
   },
   {
    "duration": 11,
    "start_time": "2022-12-22T07:17:46.668Z"
   },
   {
    "duration": 36,
    "start_time": "2022-12-22T07:17:46.681Z"
   },
   {
    "duration": 6,
    "start_time": "2022-12-22T07:17:46.719Z"
   },
   {
    "duration": 7,
    "start_time": "2022-12-22T07:17:46.726Z"
   },
   {
    "duration": 39,
    "start_time": "2022-12-22T07:17:46.735Z"
   },
   {
    "duration": 7,
    "start_time": "2022-12-22T07:17:46.776Z"
   },
   {
    "duration": 9,
    "start_time": "2022-12-22T07:17:46.785Z"
   },
   {
    "duration": 5,
    "start_time": "2022-12-22T07:17:46.796Z"
   },
   {
    "duration": 10,
    "start_time": "2022-12-22T07:17:46.803Z"
   },
   {
    "duration": 9,
    "start_time": "2022-12-22T07:17:46.815Z"
   },
   {
    "duration": 6,
    "start_time": "2022-12-22T07:17:46.825Z"
   },
   {
    "duration": 16,
    "start_time": "2022-12-22T07:17:46.833Z"
   },
   {
    "duration": 10,
    "start_time": "2022-12-22T07:17:46.851Z"
   },
   {
    "duration": 15,
    "start_time": "2022-12-22T07:17:46.862Z"
   },
   {
    "duration": 1226,
    "start_time": "2022-12-22T07:17:46.879Z"
   },
   {
    "duration": 46,
    "start_time": "2022-12-22T07:17:48.106Z"
   },
   {
    "duration": 16554,
    "start_time": "2022-12-22T07:17:48.153Z"
   },
   {
    "duration": 775,
    "start_time": "2022-12-22T07:18:04.708Z"
   },
   {
    "duration": 16438,
    "start_time": "2022-12-22T07:18:05.485Z"
   },
   {
    "duration": 113,
    "start_time": "2022-12-22T07:18:21.925Z"
   },
   {
    "duration": 215,
    "start_time": "2022-12-22T07:18:22.127Z"
   },
   {
    "duration": 10,
    "start_time": "2022-12-22T07:18:22.343Z"
   },
   {
    "duration": 1703,
    "start_time": "2022-12-22T07:18:22.355Z"
   },
   {
    "duration": 62,
    "start_time": "2022-12-22T07:18:24.060Z"
   },
   {
    "duration": 24170,
    "start_time": "2022-12-22T07:18:24.126Z"
   },
   {
    "duration": 1161,
    "start_time": "2022-12-22T07:18:48.298Z"
   },
   {
    "duration": 14361,
    "start_time": "2022-12-22T07:18:49.461Z"
   },
   {
    "duration": 119,
    "start_time": "2022-12-22T07:19:03.824Z"
   },
   {
    "duration": 83,
    "start_time": "2022-12-22T07:19:03.945Z"
   },
   {
    "duration": 132,
    "start_time": "2022-12-22T07:19:04.030Z"
   },
   {
    "duration": 606,
    "start_time": "2022-12-22T07:19:04.164Z"
   },
   {
    "duration": 56,
    "start_time": "2022-12-22T07:19:04.772Z"
   },
   {
    "duration": 248,
    "start_time": "2022-12-22T07:19:04.831Z"
   },
   {
    "duration": 974,
    "start_time": "2022-12-22T12:02:30.341Z"
   },
   {
    "duration": 34,
    "start_time": "2022-12-22T12:02:39.781Z"
   },
   {
    "duration": 15027,
    "start_time": "2022-12-22T12:21:24.931Z"
   },
   {
    "duration": 1296,
    "start_time": "2022-12-22T12:22:01.444Z"
   },
   {
    "duration": 2,
    "start_time": "2022-12-22T12:22:02.742Z"
   },
   {
    "duration": 86,
    "start_time": "2022-12-22T12:22:02.746Z"
   },
   {
    "duration": 23,
    "start_time": "2022-12-22T12:22:02.834Z"
   },
   {
    "duration": 43,
    "start_time": "2022-12-22T12:22:02.859Z"
   },
   {
    "duration": 8,
    "start_time": "2022-12-22T12:22:02.904Z"
   },
   {
    "duration": 14,
    "start_time": "2022-12-22T12:22:02.914Z"
   },
   {
    "duration": 26,
    "start_time": "2022-12-22T12:22:02.929Z"
   },
   {
    "duration": 21,
    "start_time": "2022-12-22T12:22:02.956Z"
   },
   {
    "duration": 22,
    "start_time": "2022-12-22T12:22:02.979Z"
   },
   {
    "duration": 18,
    "start_time": "2022-12-22T12:22:03.003Z"
   },
   {
    "duration": 30,
    "start_time": "2022-12-22T12:22:03.022Z"
   },
   {
    "duration": 12,
    "start_time": "2022-12-22T12:22:03.053Z"
   },
   {
    "duration": 20,
    "start_time": "2022-12-22T12:22:03.067Z"
   },
   {
    "duration": 39,
    "start_time": "2022-12-22T12:22:03.088Z"
   },
   {
    "duration": 12,
    "start_time": "2022-12-22T12:22:03.128Z"
   },
   {
    "duration": 20,
    "start_time": "2022-12-22T12:22:03.142Z"
   },
   {
    "duration": 1236,
    "start_time": "2022-12-22T12:22:03.164Z"
   },
   {
    "duration": 45,
    "start_time": "2022-12-22T12:22:04.402Z"
   },
   {
    "duration": 18506,
    "start_time": "2022-12-22T12:22:04.449Z"
   },
   {
    "duration": 759,
    "start_time": "2022-12-22T12:22:22.957Z"
   },
   {
    "duration": 10416,
    "start_time": "2022-12-22T12:22:23.718Z"
   },
   {
    "duration": 199,
    "start_time": "2022-12-22T12:22:34.137Z"
   },
   {
    "duration": 317,
    "start_time": "2022-12-22T12:22:34.338Z"
   },
   {
    "duration": 11,
    "start_time": "2022-12-22T12:22:34.656Z"
   },
   {
    "duration": 1907,
    "start_time": "2022-12-22T12:22:34.668Z"
   },
   {
    "duration": 74,
    "start_time": "2022-12-22T12:22:36.576Z"
   },
   {
    "duration": 25166,
    "start_time": "2022-12-22T12:22:36.653Z"
   },
   {
    "duration": 1146,
    "start_time": "2022-12-22T12:23:01.821Z"
   },
   {
    "duration": 16854,
    "start_time": "2022-12-22T12:23:02.968Z"
   },
   {
    "duration": 199,
    "start_time": "2022-12-22T12:23:19.824Z"
   },
   {
    "duration": 97,
    "start_time": "2022-12-22T12:23:20.025Z"
   },
   {
    "duration": 1278,
    "start_time": "2022-12-22T12:23:20.124Z"
   },
   {
    "duration": 42,
    "start_time": "2022-12-22T12:23:21.403Z"
   },
   {
    "duration": 15038,
    "start_time": "2022-12-22T12:23:21.446Z"
   },
   {
    "duration": 586,
    "start_time": "2022-12-22T12:23:36.486Z"
   },
   {
    "duration": 53,
    "start_time": "2022-12-22T12:23:37.074Z"
   },
   {
    "duration": 251,
    "start_time": "2022-12-22T12:23:37.131Z"
   },
   {
    "duration": 57,
    "start_time": "2022-12-22T12:23:53.265Z"
   },
   {
    "duration": 30,
    "start_time": "2022-12-22T12:24:21.129Z"
   },
   {
    "duration": 708,
    "start_time": "2022-12-22T12:24:41.488Z"
   },
   {
    "duration": 1294,
    "start_time": "2022-12-22T12:24:50.498Z"
   },
   {
    "duration": 3,
    "start_time": "2022-12-22T12:24:51.793Z"
   },
   {
    "duration": 62,
    "start_time": "2022-12-22T12:24:51.797Z"
   },
   {
    "duration": 12,
    "start_time": "2022-12-22T12:24:51.861Z"
   },
   {
    "duration": 36,
    "start_time": "2022-12-22T12:24:51.874Z"
   },
   {
    "duration": 9,
    "start_time": "2022-12-22T12:24:51.912Z"
   },
   {
    "duration": 7,
    "start_time": "2022-12-22T12:24:51.923Z"
   },
   {
    "duration": 31,
    "start_time": "2022-12-22T12:24:51.931Z"
   },
   {
    "duration": 25,
    "start_time": "2022-12-22T12:24:51.963Z"
   },
   {
    "duration": 17,
    "start_time": "2022-12-22T12:24:51.991Z"
   },
   {
    "duration": 13,
    "start_time": "2022-12-22T12:24:52.009Z"
   },
   {
    "duration": 11,
    "start_time": "2022-12-22T12:24:52.023Z"
   },
   {
    "duration": 18,
    "start_time": "2022-12-22T12:24:52.035Z"
   },
   {
    "duration": 15,
    "start_time": "2022-12-22T12:24:52.054Z"
   },
   {
    "duration": 16,
    "start_time": "2022-12-22T12:24:52.070Z"
   },
   {
    "duration": 10,
    "start_time": "2022-12-22T12:24:52.087Z"
   },
   {
    "duration": 24,
    "start_time": "2022-12-22T12:24:52.099Z"
   },
   {
    "duration": 1223,
    "start_time": "2022-12-22T12:24:52.124Z"
   },
   {
    "duration": 36,
    "start_time": "2022-12-22T12:24:53.349Z"
   },
   {
    "duration": 17580,
    "start_time": "2022-12-22T12:24:53.386Z"
   },
   {
    "duration": 764,
    "start_time": "2022-12-22T12:25:10.967Z"
   },
   {
    "duration": 12190,
    "start_time": "2022-12-22T12:25:11.732Z"
   },
   {
    "duration": 199,
    "start_time": "2022-12-22T12:25:23.924Z"
   },
   {
    "duration": 309,
    "start_time": "2022-12-22T12:25:24.125Z"
   },
   {
    "duration": 10,
    "start_time": "2022-12-22T12:25:24.436Z"
   },
   {
    "duration": 3041,
    "start_time": "2022-12-22T12:25:24.448Z"
   },
   {
    "duration": 61,
    "start_time": "2022-12-22T12:25:27.491Z"
   },
   {
    "duration": 26627,
    "start_time": "2022-12-22T12:25:27.555Z"
   },
   {
    "duration": 1141,
    "start_time": "2022-12-22T12:25:54.183Z"
   },
   {
    "duration": 16105,
    "start_time": "2022-12-22T12:25:55.326Z"
   },
   {
    "duration": 199,
    "start_time": "2022-12-22T12:26:11.523Z"
   },
   {
    "duration": 100,
    "start_time": "2022-12-22T12:26:11.724Z"
   },
   {
    "duration": 1052,
    "start_time": "2022-12-22T12:26:11.826Z"
   },
   {
    "duration": 43,
    "start_time": "2022-12-22T12:26:12.879Z"
   },
   {
    "duration": 15800,
    "start_time": "2022-12-22T12:26:12.923Z"
   },
   {
    "duration": 674,
    "start_time": "2022-12-22T12:26:28.724Z"
   },
   {
    "duration": 30,
    "start_time": "2022-12-22T12:26:29.400Z"
   },
   {
    "duration": 181,
    "start_time": "2022-12-22T12:26:29.522Z"
   },
   {
    "duration": 17041,
    "start_time": "2022-12-22T12:28:22.281Z"
   },
   {
    "duration": 1274,
    "start_time": "2022-12-22T12:28:47.039Z"
   },
   {
    "duration": 3,
    "start_time": "2022-12-22T12:28:48.315Z"
   },
   {
    "duration": 74,
    "start_time": "2022-12-22T12:28:48.321Z"
   },
   {
    "duration": 12,
    "start_time": "2022-12-22T12:28:48.397Z"
   },
   {
    "duration": 46,
    "start_time": "2022-12-22T12:28:48.410Z"
   },
   {
    "duration": 6,
    "start_time": "2022-12-22T12:28:48.458Z"
   },
   {
    "duration": 38,
    "start_time": "2022-12-22T12:28:48.466Z"
   },
   {
    "duration": 35,
    "start_time": "2022-12-22T12:28:48.505Z"
   },
   {
    "duration": 14,
    "start_time": "2022-12-22T12:28:48.541Z"
   },
   {
    "duration": 41,
    "start_time": "2022-12-22T12:28:48.557Z"
   },
   {
    "duration": 26,
    "start_time": "2022-12-22T12:28:48.600Z"
   },
   {
    "duration": 40,
    "start_time": "2022-12-22T12:28:48.628Z"
   },
   {
    "duration": 22,
    "start_time": "2022-12-22T12:28:48.669Z"
   },
   {
    "duration": 27,
    "start_time": "2022-12-22T12:28:48.692Z"
   },
   {
    "duration": 27,
    "start_time": "2022-12-22T12:28:48.720Z"
   },
   {
    "duration": 58,
    "start_time": "2022-12-22T12:28:48.748Z"
   },
   {
    "duration": 36,
    "start_time": "2022-12-22T12:28:48.808Z"
   },
   {
    "duration": 1248,
    "start_time": "2022-12-22T12:28:48.846Z"
   },
   {
    "duration": 43,
    "start_time": "2022-12-22T12:28:50.096Z"
   },
   {
    "duration": 18453,
    "start_time": "2022-12-22T12:28:50.141Z"
   },
   {
    "duration": 721,
    "start_time": "2022-12-22T12:29:08.596Z"
   },
   {
    "duration": 12702,
    "start_time": "2022-12-22T12:29:09.321Z"
   },
   {
    "duration": 111,
    "start_time": "2022-12-22T12:29:22.025Z"
   },
   {
    "duration": 218,
    "start_time": "2022-12-22T12:29:22.223Z"
   },
   {
    "duration": 9,
    "start_time": "2022-12-22T12:29:22.443Z"
   },
   {
    "duration": 1705,
    "start_time": "2022-12-22T12:29:22.454Z"
   },
   {
    "duration": 64,
    "start_time": "2022-12-22T12:29:24.160Z"
   },
   {
    "duration": 23935,
    "start_time": "2022-12-22T12:29:24.227Z"
   },
   {
    "duration": 1117,
    "start_time": "2022-12-22T12:29:48.163Z"
   },
   {
    "duration": 16641,
    "start_time": "2022-12-22T12:29:49.281Z"
   },
   {
    "duration": 199,
    "start_time": "2022-12-22T12:30:05.924Z"
   },
   {
    "duration": 108,
    "start_time": "2022-12-22T12:30:06.125Z"
   },
   {
    "duration": 1290,
    "start_time": "2022-12-22T12:30:06.235Z"
   },
   {
    "duration": 32,
    "start_time": "2022-12-22T12:30:07.526Z"
   },
   {
    "duration": 16181,
    "start_time": "2022-12-22T12:30:07.560Z"
   },
   {
    "duration": 695,
    "start_time": "2022-12-22T12:30:23.743Z"
   },
   {
    "duration": 9993,
    "start_time": "2022-12-22T12:30:24.440Z"
   },
   {
    "duration": 200,
    "start_time": "2022-12-22T12:30:34.436Z"
   },
   {
    "duration": 281,
    "start_time": "2022-12-22T12:30:34.639Z"
   },
   {
    "duration": 1899,
    "start_time": "2022-12-24T05:35:16.674Z"
   },
   {
    "duration": 3,
    "start_time": "2022-12-24T05:35:18.576Z"
   },
   {
    "duration": 204,
    "start_time": "2022-12-24T05:35:18.581Z"
   },
   {
    "duration": 16,
    "start_time": "2022-12-24T05:35:18.786Z"
   },
   {
    "duration": 49,
    "start_time": "2022-12-24T05:35:18.804Z"
   },
   {
    "duration": 10,
    "start_time": "2022-12-24T05:35:18.856Z"
   },
   {
    "duration": 11,
    "start_time": "2022-12-24T05:35:18.868Z"
   },
   {
    "duration": 16,
    "start_time": "2022-12-24T05:35:18.880Z"
   },
   {
    "duration": 8,
    "start_time": "2022-12-24T05:35:18.897Z"
   },
   {
    "duration": 7,
    "start_time": "2022-12-24T05:35:18.906Z"
   },
   {
    "duration": 5,
    "start_time": "2022-12-24T05:35:18.915Z"
   },
   {
    "duration": 17,
    "start_time": "2022-12-24T05:35:18.951Z"
   },
   {
    "duration": 10,
    "start_time": "2022-12-24T05:35:18.971Z"
   },
   {
    "duration": 7,
    "start_time": "2022-12-24T05:35:18.984Z"
   },
   {
    "duration": 20,
    "start_time": "2022-12-24T05:35:18.993Z"
   },
   {
    "duration": 41,
    "start_time": "2022-12-24T05:35:19.015Z"
   },
   {
    "duration": 26,
    "start_time": "2022-12-24T05:35:19.059Z"
   },
   {
    "duration": 1521,
    "start_time": "2022-12-24T05:35:19.087Z"
   },
   {
    "duration": 55,
    "start_time": "2022-12-24T05:35:20.609Z"
   },
   {
    "duration": 19388,
    "start_time": "2022-12-24T05:35:20.666Z"
   },
   {
    "duration": 881,
    "start_time": "2022-12-24T05:35:40.059Z"
   },
   {
    "duration": 28727,
    "start_time": "2022-12-24T05:35:40.942Z"
   },
   {
    "duration": 203,
    "start_time": "2022-12-24T05:36:09.756Z"
   },
   {
    "duration": 237,
    "start_time": "2022-12-24T05:36:09.967Z"
   },
   {
    "duration": 15,
    "start_time": "2022-12-24T05:36:10.206Z"
   },
   {
    "duration": 2218,
    "start_time": "2022-12-24T05:36:10.223Z"
   },
   {
    "duration": 80,
    "start_time": "2022-12-24T05:36:12.443Z"
   },
   {
    "duration": 29608,
    "start_time": "2022-12-24T05:36:12.526Z"
   },
   {
    "duration": 1290,
    "start_time": "2022-12-24T05:36:42.136Z"
   },
   {
    "duration": 38039,
    "start_time": "2022-12-24T05:36:43.428Z"
   },
   {
    "duration": 280,
    "start_time": "2022-12-24T05:37:21.476Z"
   },
   {
    "duration": 97,
    "start_time": "2022-12-24T05:37:21.763Z"
   },
   {
    "duration": 1211,
    "start_time": "2022-12-24T05:37:21.862Z"
   },
   {
    "duration": 40,
    "start_time": "2022-12-24T05:37:23.075Z"
   },
   {
    "duration": 18029,
    "start_time": "2022-12-24T05:37:23.117Z"
   },
   {
    "duration": 855,
    "start_time": "2022-12-24T05:37:41.150Z"
   },
   {
    "duration": 31965,
    "start_time": "2022-12-24T05:37:42.007Z"
   },
   {
    "duration": 101,
    "start_time": "2022-12-24T05:38:14.052Z"
   },
   {
    "duration": 206,
    "start_time": "2022-12-24T05:38:14.154Z"
   },
   {
    "duration": 1611,
    "start_time": "2022-12-24T05:39:25.334Z"
   },
   {
    "duration": 3,
    "start_time": "2022-12-24T05:39:26.947Z"
   },
   {
    "duration": 72,
    "start_time": "2022-12-24T05:39:26.952Z"
   },
   {
    "duration": 13,
    "start_time": "2022-12-24T05:39:27.025Z"
   },
   {
    "duration": 50,
    "start_time": "2022-12-24T05:39:27.040Z"
   },
   {
    "duration": 7,
    "start_time": "2022-12-24T05:39:27.092Z"
   },
   {
    "duration": 8,
    "start_time": "2022-12-24T05:39:27.101Z"
   },
   {
    "duration": 16,
    "start_time": "2022-12-24T05:39:27.110Z"
   },
   {
    "duration": 6,
    "start_time": "2022-12-24T05:39:27.128Z"
   },
   {
    "duration": 21,
    "start_time": "2022-12-24T05:39:27.136Z"
   },
   {
    "duration": 9,
    "start_time": "2022-12-24T05:39:27.159Z"
   },
   {
    "duration": 22,
    "start_time": "2022-12-24T05:39:27.170Z"
   },
   {
    "duration": 12,
    "start_time": "2022-12-24T05:39:27.194Z"
   },
   {
    "duration": 6,
    "start_time": "2022-12-24T05:39:27.209Z"
   },
   {
    "duration": 35,
    "start_time": "2022-12-24T05:39:27.216Z"
   },
   {
    "duration": 21,
    "start_time": "2022-12-24T05:39:27.254Z"
   },
   {
    "duration": 24,
    "start_time": "2022-12-24T05:39:27.277Z"
   },
   {
    "duration": 1468,
    "start_time": "2022-12-24T05:39:27.304Z"
   },
   {
    "duration": 43,
    "start_time": "2022-12-24T05:39:28.774Z"
   },
   {
    "duration": 19463,
    "start_time": "2022-12-24T05:39:28.819Z"
   },
   {
    "duration": 887,
    "start_time": "2022-12-24T05:39:48.284Z"
   },
   {
    "duration": 25994,
    "start_time": "2022-12-24T05:39:49.173Z"
   },
   {
    "duration": 208,
    "start_time": "2022-12-24T05:40:15.252Z"
   },
   {
    "duration": 237,
    "start_time": "2022-12-24T05:40:15.468Z"
   },
   {
    "duration": 12,
    "start_time": "2022-12-24T05:40:15.707Z"
   },
   {
    "duration": 258,
    "start_time": "2022-12-24T05:40:15.721Z"
   },
   {
    "duration": 1667,
    "start_time": "2022-12-24T05:40:51.569Z"
   },
   {
    "duration": 3,
    "start_time": "2022-12-24T05:40:53.238Z"
   },
   {
    "duration": 97,
    "start_time": "2022-12-24T05:40:53.243Z"
   },
   {
    "duration": 15,
    "start_time": "2022-12-24T05:40:53.342Z"
   },
   {
    "duration": 86,
    "start_time": "2022-12-24T05:40:53.360Z"
   },
   {
    "duration": 9,
    "start_time": "2022-12-24T05:40:53.448Z"
   },
   {
    "duration": 36,
    "start_time": "2022-12-24T05:40:53.459Z"
   },
   {
    "duration": 45,
    "start_time": "2022-12-24T05:40:53.497Z"
   },
   {
    "duration": 24,
    "start_time": "2022-12-24T05:40:53.544Z"
   },
   {
    "duration": 36,
    "start_time": "2022-12-24T05:40:53.570Z"
   },
   {
    "duration": 21,
    "start_time": "2022-12-24T05:40:53.607Z"
   },
   {
    "duration": 47,
    "start_time": "2022-12-24T05:40:53.629Z"
   },
   {
    "duration": 29,
    "start_time": "2022-12-24T05:40:53.677Z"
   },
   {
    "duration": 41,
    "start_time": "2022-12-24T05:40:53.709Z"
   },
   {
    "duration": 62,
    "start_time": "2022-12-24T05:40:53.752Z"
   },
   {
    "duration": 18,
    "start_time": "2022-12-24T05:40:53.816Z"
   },
   {
    "duration": 47,
    "start_time": "2022-12-24T05:40:53.835Z"
   },
   {
    "duration": 1475,
    "start_time": "2022-12-24T05:40:53.885Z"
   },
   {
    "duration": 43,
    "start_time": "2022-12-24T05:40:55.362Z"
   },
   {
    "duration": 20286,
    "start_time": "2022-12-24T05:40:55.407Z"
   },
   {
    "duration": 898,
    "start_time": "2022-12-24T05:41:15.695Z"
   },
   {
    "duration": 29360,
    "start_time": "2022-12-24T05:41:16.595Z"
   },
   {
    "duration": 125,
    "start_time": "2022-12-24T05:41:45.957Z"
   },
   {
    "duration": 309,
    "start_time": "2022-12-24T05:41:46.085Z"
   },
   {
    "duration": 13,
    "start_time": "2022-12-24T05:41:46.396Z"
   },
   {
    "duration": 5,
    "start_time": "2022-12-24T05:41:56.757Z"
   },
   {
    "duration": 19,
    "start_time": "2022-12-24T05:41:56.769Z"
   },
   {
    "duration": 62,
    "start_time": "2022-12-24T05:41:56.790Z"
   },
   {
    "duration": 13,
    "start_time": "2022-12-24T05:41:56.855Z"
   },
   {
    "duration": 51,
    "start_time": "2022-12-24T05:41:56.870Z"
   },
   {
    "duration": 8,
    "start_time": "2022-12-24T05:41:56.923Z"
   },
   {
    "duration": 36,
    "start_time": "2022-12-24T05:41:56.933Z"
   },
   {
    "duration": 27,
    "start_time": "2022-12-24T05:41:56.971Z"
   },
   {
    "duration": 17,
    "start_time": "2022-12-24T05:41:57.000Z"
   },
   {
    "duration": 28,
    "start_time": "2022-12-24T05:41:57.019Z"
   },
   {
    "duration": 6,
    "start_time": "2022-12-24T05:41:57.049Z"
   },
   {
    "duration": 23,
    "start_time": "2022-12-24T05:41:57.057Z"
   },
   {
    "duration": 7,
    "start_time": "2022-12-24T05:41:57.082Z"
   },
   {
    "duration": 17,
    "start_time": "2022-12-24T05:41:57.091Z"
   },
   {
    "duration": 24,
    "start_time": "2022-12-24T05:41:57.110Z"
   },
   {
    "duration": 13,
    "start_time": "2022-12-24T05:41:57.136Z"
   },
   {
    "duration": 29,
    "start_time": "2022-12-24T05:41:57.152Z"
   },
   {
    "duration": 1438,
    "start_time": "2022-12-24T05:41:57.183Z"
   },
   {
    "duration": 60,
    "start_time": "2022-12-24T05:41:58.623Z"
   },
   {
    "duration": 4304,
    "start_time": "2022-12-24T05:41:58.685Z"
   },
   {
    "duration": 832,
    "start_time": "2022-12-24T05:42:02.990Z"
   },
   {
    "duration": 561,
    "start_time": "2022-12-24T05:42:03.824Z"
   },
   {
    "duration": 74,
    "start_time": "2022-12-24T05:42:04.387Z"
   },
   {
    "duration": 307,
    "start_time": "2022-12-24T05:42:04.463Z"
   },
   {
    "duration": 12,
    "start_time": "2022-12-24T05:42:04.772Z"
   },
   {
    "duration": 1680,
    "start_time": "2022-12-24T05:42:17.078Z"
   },
   {
    "duration": 3,
    "start_time": "2022-12-24T05:42:18.761Z"
   },
   {
    "duration": 67,
    "start_time": "2022-12-24T05:42:18.766Z"
   },
   {
    "duration": 14,
    "start_time": "2022-12-24T05:42:18.835Z"
   },
   {
    "duration": 47,
    "start_time": "2022-12-24T05:42:18.851Z"
   },
   {
    "duration": 7,
    "start_time": "2022-12-24T05:42:18.900Z"
   },
   {
    "duration": 6,
    "start_time": "2022-12-24T05:42:18.909Z"
   },
   {
    "duration": 35,
    "start_time": "2022-12-24T05:42:18.917Z"
   },
   {
    "duration": 10,
    "start_time": "2022-12-24T05:42:18.955Z"
   },
   {
    "duration": 18,
    "start_time": "2022-12-24T05:42:18.969Z"
   },
   {
    "duration": 5,
    "start_time": "2022-12-24T05:42:18.989Z"
   },
   {
    "duration": 15,
    "start_time": "2022-12-24T05:42:18.995Z"
   },
   {
    "duration": 9,
    "start_time": "2022-12-24T05:42:19.012Z"
   },
   {
    "duration": 36,
    "start_time": "2022-12-24T05:42:19.023Z"
   },
   {
    "duration": 21,
    "start_time": "2022-12-24T05:42:19.062Z"
   },
   {
    "duration": 14,
    "start_time": "2022-12-24T05:42:19.085Z"
   },
   {
    "duration": 22,
    "start_time": "2022-12-24T05:42:19.101Z"
   },
   {
    "duration": 1510,
    "start_time": "2022-12-24T05:42:19.151Z"
   },
   {
    "duration": 48,
    "start_time": "2022-12-24T05:42:20.664Z"
   },
   {
    "duration": 19840,
    "start_time": "2022-12-24T05:42:20.714Z"
   },
   {
    "duration": 873,
    "start_time": "2022-12-24T05:42:40.556Z"
   },
   {
    "duration": 39521,
    "start_time": "2022-12-24T05:42:41.431Z"
   },
   {
    "duration": 128,
    "start_time": "2022-12-24T05:43:20.955Z"
   },
   {
    "duration": 234,
    "start_time": "2022-12-24T05:43:21.159Z"
   },
   {
    "duration": 14,
    "start_time": "2022-12-24T05:43:21.394Z"
   },
   {
    "duration": 1131,
    "start_time": "2022-12-24T05:43:21.410Z"
   },
   {
    "duration": 212,
    "start_time": "2022-12-24T05:43:29.226Z"
   },
   {
    "duration": 39,
    "start_time": "2022-12-24T05:43:38.599Z"
   },
   {
    "duration": 19397,
    "start_time": "2022-12-24T05:43:49.335Z"
   },
   {
    "duration": 105,
    "start_time": "2022-12-24T05:44:20.736Z"
   },
   {
    "duration": 697,
    "start_time": "2022-12-24T05:44:33.789Z"
   },
   {
    "duration": 23645,
    "start_time": "2022-12-24T05:44:46.720Z"
   },
   {
    "duration": 68,
    "start_time": "2022-12-24T05:45:15.984Z"
   },
   {
    "duration": 14,
    "start_time": "2022-12-24T05:46:09.798Z"
   },
   {
    "duration": 602,
    "start_time": "2022-12-24T05:46:16.087Z"
   },
   {
    "duration": 20,
    "start_time": "2022-12-24T05:46:26.423Z"
   },
   {
    "duration": 10476,
    "start_time": "2022-12-24T05:46:30.534Z"
   },
   {
    "duration": 408,
    "start_time": "2022-12-24T05:46:50.612Z"
   },
   {
    "duration": 17079,
    "start_time": "2022-12-24T05:46:55.392Z"
   },
   {
    "duration": 93,
    "start_time": "2022-12-24T05:47:19.271Z"
   },
   {
    "duration": 1648,
    "start_time": "2023-01-12T10:14:17.270Z"
   },
   {
    "duration": 5,
    "start_time": "2023-01-12T10:14:18.920Z"
   },
   {
    "duration": 123,
    "start_time": "2023-01-12T10:14:18.927Z"
   },
   {
    "duration": 18,
    "start_time": "2023-01-12T10:14:19.054Z"
   },
   {
    "duration": 61,
    "start_time": "2023-01-12T10:14:19.074Z"
   },
   {
    "duration": 11,
    "start_time": "2023-01-12T10:14:19.139Z"
   },
   {
    "duration": 23,
    "start_time": "2023-01-12T10:14:19.151Z"
   },
   {
    "duration": 28,
    "start_time": "2023-01-12T10:14:19.177Z"
   },
   {
    "duration": 15,
    "start_time": "2023-01-12T10:14:19.212Z"
   },
   {
    "duration": 20,
    "start_time": "2023-01-12T10:14:19.231Z"
   },
   {
    "duration": 11,
    "start_time": "2023-01-12T10:14:19.253Z"
   },
   {
    "duration": 17,
    "start_time": "2023-01-12T10:14:19.267Z"
   },
   {
    "duration": 16,
    "start_time": "2023-01-12T10:14:19.286Z"
   },
   {
    "duration": 11,
    "start_time": "2023-01-12T10:14:19.305Z"
   },
   {
    "duration": 27,
    "start_time": "2023-01-12T10:14:19.318Z"
   },
   {
    "duration": 31,
    "start_time": "2023-01-12T10:14:19.347Z"
   },
   {
    "duration": 28,
    "start_time": "2023-01-12T10:14:19.380Z"
   },
   {
    "duration": 1603,
    "start_time": "2023-01-12T10:14:19.410Z"
   },
   {
    "duration": 62,
    "start_time": "2023-01-12T10:14:21.017Z"
   },
   {
    "duration": 20045,
    "start_time": "2023-01-12T10:14:21.082Z"
   },
   {
    "duration": 876,
    "start_time": "2023-01-12T10:14:41.129Z"
   },
   {
    "duration": 9372,
    "start_time": "2023-01-12T10:14:42.007Z"
   },
   {
    "duration": 110,
    "start_time": "2023-01-12T10:14:51.381Z"
   },
   {
    "duration": 320,
    "start_time": "2023-01-12T10:14:51.495Z"
   },
   {
    "duration": 13,
    "start_time": "2023-01-12T10:14:51.817Z"
   },
   {
    "duration": 1085,
    "start_time": "2023-01-12T10:14:51.832Z"
   },
   {
    "duration": 33,
    "start_time": "2023-01-12T10:14:52.920Z"
   },
   {
    "duration": 19554,
    "start_time": "2023-01-12T10:14:52.956Z"
   },
   {
    "duration": 767,
    "start_time": "2023-01-12T10:15:12.513Z"
   },
   {
    "duration": 11910,
    "start_time": "2023-01-12T10:15:13.283Z"
   },
   {
    "duration": 200,
    "start_time": "2023-01-12T10:15:25.278Z"
   },
   {
    "duration": 101,
    "start_time": "2023-01-12T10:15:25.485Z"
   },
   {
    "duration": 629,
    "start_time": "2023-01-12T10:15:25.588Z"
   },
   {
    "duration": 21,
    "start_time": "2023-01-12T10:15:26.219Z"
   },
   {
    "duration": 10160,
    "start_time": "2023-01-12T10:15:26.241Z"
   },
   {
    "duration": 428,
    "start_time": "2023-01-12T10:15:36.403Z"
   },
   {
    "duration": 6555,
    "start_time": "2023-01-12T10:15:36.833Z"
   },
   {
    "duration": 104,
    "start_time": "2023-01-12T10:15:43.390Z"
   },
   {
    "duration": 160,
    "start_time": "2023-01-12T10:15:43.581Z"
   },
   {
    "duration": 1399,
    "start_time": "2023-07-20T10:17:05.710Z"
   },
   {
    "duration": 3,
    "start_time": "2023-07-20T10:17:07.111Z"
   },
   {
    "duration": 178,
    "start_time": "2023-07-20T10:17:07.115Z"
   },
   {
    "duration": 13,
    "start_time": "2023-07-20T10:17:07.295Z"
   },
   {
    "duration": 38,
    "start_time": "2023-07-20T10:17:07.309Z"
   },
   {
    "duration": 19,
    "start_time": "2023-07-20T10:17:07.349Z"
   },
   {
    "duration": 4,
    "start_time": "2023-07-20T10:17:07.369Z"
   },
   {
    "duration": 16,
    "start_time": "2023-07-20T10:17:07.374Z"
   },
   {
    "duration": 7,
    "start_time": "2023-07-20T10:17:07.392Z"
   },
   {
    "duration": 6,
    "start_time": "2023-07-20T10:17:07.402Z"
   },
   {
    "duration": 6,
    "start_time": "2023-07-20T10:17:07.409Z"
   },
   {
    "duration": 14,
    "start_time": "2023-07-20T10:17:07.417Z"
   },
   {
    "duration": 8,
    "start_time": "2023-07-20T10:17:07.432Z"
   },
   {
    "duration": 5,
    "start_time": "2023-07-20T10:17:07.468Z"
   },
   {
    "duration": 21,
    "start_time": "2023-07-20T10:17:07.474Z"
   },
   {
    "duration": 15,
    "start_time": "2023-07-20T10:17:07.497Z"
   },
   {
    "duration": 17,
    "start_time": "2023-07-20T10:17:07.513Z"
   },
   {
    "duration": 1254,
    "start_time": "2023-07-20T10:17:07.531Z"
   },
   {
    "duration": 38,
    "start_time": "2023-07-20T10:17:08.786Z"
   },
   {
    "duration": 17021,
    "start_time": "2023-07-20T10:17:08.826Z"
   },
   {
    "duration": 716,
    "start_time": "2023-07-20T10:17:25.849Z"
   },
   {
    "duration": 26305,
    "start_time": "2023-07-20T10:17:26.566Z"
   },
   {
    "duration": 196,
    "start_time": "2023-07-20T10:17:52.874Z"
   },
   {
    "duration": 211,
    "start_time": "2023-07-20T10:17:53.079Z"
   },
   {
    "duration": 11,
    "start_time": "2023-07-20T10:17:53.291Z"
   },
   {
    "duration": 967,
    "start_time": "2023-07-20T10:17:53.304Z"
   },
   {
    "duration": 28,
    "start_time": "2023-07-20T10:17:54.273Z"
   },
   {
    "duration": 16145,
    "start_time": "2023-07-20T10:17:54.304Z"
   },
   {
    "duration": 564,
    "start_time": "2023-07-20T10:18:10.451Z"
   },
   {
    "duration": 14052,
    "start_time": "2023-07-20T10:18:11.017Z"
   },
   {
    "duration": 195,
    "start_time": "2023-07-20T10:18:25.072Z"
   },
   {
    "duration": 103,
    "start_time": "2023-07-20T10:18:25.270Z"
   },
   {
    "duration": 509,
    "start_time": "2023-07-20T10:18:25.375Z"
   },
   {
    "duration": 19,
    "start_time": "2023-07-20T10:18:25.886Z"
   },
   {
    "duration": 8808,
    "start_time": "2023-07-20T10:18:25.906Z"
   },
   {
    "duration": 345,
    "start_time": "2023-07-20T10:18:34.715Z"
   },
   {
    "duration": 8610,
    "start_time": "2023-07-20T10:18:35.061Z"
   },
   {
    "duration": 193,
    "start_time": "2023-07-20T10:18:43.676Z"
   },
   {
    "duration": 179,
    "start_time": "2023-07-20T10:18:43.872Z"
   },
   {
    "duration": 202,
    "start_time": "2023-07-20T10:27:01.247Z"
   },
   {
    "duration": 112,
    "start_time": "2023-07-20T10:28:02.241Z"
   },
   {
    "duration": 213,
    "start_time": "2023-07-20T10:28:25.758Z"
   },
   {
    "duration": 104,
    "start_time": "2023-07-20T10:28:58.056Z"
   },
   {
    "duration": 146,
    "start_time": "2023-07-20T10:29:25.165Z"
   }
  ],
  "kernelspec": {
   "display_name": "Python 3 (ipykernel)",
   "language": "python",
   "name": "python3"
  },
  "language_info": {
   "codemirror_mode": {
    "name": "ipython",
    "version": 3
   },
   "file_extension": ".py",
   "mimetype": "text/x-python",
   "name": "python",
   "nbconvert_exporter": "python",
   "pygments_lexer": "ipython3",
   "version": "3.9.5"
  },
  "toc": {
   "base_numbering": 1,
   "nav_menu": {},
   "number_sections": true,
   "sideBar": true,
   "skip_h1_title": true,
   "title_cell": "Содержание",
   "title_sidebar": "Contents",
   "toc_cell": true,
   "toc_position": {
    "height": "calc(100% - 180px)",
    "left": "10px",
    "top": "150px",
    "width": "333.938px"
   },
   "toc_section_display": true,
   "toc_window_display": true
  }
 },
 "nbformat": 4,
 "nbformat_minor": 2
}
