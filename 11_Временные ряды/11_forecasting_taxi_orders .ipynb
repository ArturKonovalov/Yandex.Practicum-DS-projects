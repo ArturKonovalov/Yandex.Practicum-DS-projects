{
 "cells": [
  {
   "cell_type": "markdown",
   "metadata": {},
   "source": [
    "***"
   ]
  },
  {
   "cell_type": "markdown",
   "metadata": {
    "toc": true
   },
   "source": [
    "<h1>Содержание<span class=\"tocSkip\"></span></h1>\n",
    "<div class=\"toc\"><ul class=\"toc-item\"><li><span><a href=\"#Подготовка.\" data-toc-modified-id=\"Подготовка.-1\"><span class=\"toc-item-num\">1&nbsp;&nbsp;</span>Подготовка.</a></span><ul class=\"toc-item\"><li><span><a href=\"#Проверка-на-пропуски:\" data-toc-modified-id=\"Проверка-на-пропуски:-1.1\"><span class=\"toc-item-num\">1.1&nbsp;&nbsp;</span>Проверка на пропуски:</a></span></li><li><span><a href=\"#Проверка-на-дубликаты:\" data-toc-modified-id=\"Проверка-на-дубликаты:-1.2\"><span class=\"toc-item-num\">1.2&nbsp;&nbsp;</span>Проверка на дубликаты:</a></span></li><li><span><a href=\"#Вывод-блока:\" data-toc-modified-id=\"Вывод-блока:-1.3\"><span class=\"toc-item-num\">1.3&nbsp;&nbsp;</span><strong>Вывод блока:</strong></a></span></li></ul></li><li><span><a href=\"#Анализ.\" data-toc-modified-id=\"Анализ.-2\"><span class=\"toc-item-num\">2&nbsp;&nbsp;</span>Анализ.</a></span><ul class=\"toc-item\"><li><span><a href=\"#Ресемплирование:\" data-toc-modified-id=\"Ресемплирование:-2.1\"><span class=\"toc-item-num\">2.1&nbsp;&nbsp;</span>Ресемплирование:</a></span></li><li><span><a href=\"#Построение-гарфиков-для-анализа:\" data-toc-modified-id=\"Построение-гарфиков-для-анализа:-2.2\"><span class=\"toc-item-num\">2.2&nbsp;&nbsp;</span>Построение гарфиков для анализа:</a></span></li><li><span><a href=\"#Метод-скользящего-среднего:\" data-toc-modified-id=\"Метод-скользящего-среднего:-2.3\"><span class=\"toc-item-num\">2.3&nbsp;&nbsp;</span>Метод скользящего среднего:</a></span></li><li><span><a href=\"#Выделение-трендов-и-сезонности:\" data-toc-modified-id=\"Выделение-трендов-и-сезонности:-2.4\"><span class=\"toc-item-num\">2.4&nbsp;&nbsp;</span>Выделение трендов и сезонности:</a></span></li><li><span><a href=\"#Преобразование-ряда-в-стационарный:\" data-toc-modified-id=\"Преобразование-ряда-в-стационарный:-2.5\"><span class=\"toc-item-num\">2.5&nbsp;&nbsp;</span>Преобразование ряда в стационарный:</a></span></li><li><span><a href=\"#Подготовка-признаков\" data-toc-modified-id=\"Подготовка-признаков-2.6\"><span class=\"toc-item-num\">2.6&nbsp;&nbsp;</span>Подготовка признаков</a></span></li><li><span><a href=\"#Разделение-выборок:\" data-toc-modified-id=\"Разделение-выборок:-2.7\"><span class=\"toc-item-num\">2.7&nbsp;&nbsp;</span>Разделение выборок:</a></span></li><li><span><a href=\"#Вывод-блока:\" data-toc-modified-id=\"Вывод-блока:-2.8\"><span class=\"toc-item-num\">2.8&nbsp;&nbsp;</span><strong>Вывод блока:</strong></a></span></li></ul></li><li><span><a href=\"#Обучение.\" data-toc-modified-id=\"Обучение.-3\"><span class=\"toc-item-num\">3&nbsp;&nbsp;</span>Обучение.</a></span><ul class=\"toc-item\"><li><span><a href=\"#Линейная-регрессия:\" data-toc-modified-id=\"Линейная-регрессия:-3.1\"><span class=\"toc-item-num\">3.1&nbsp;&nbsp;</span>Линейная регрессия:</a></span></li><li><span><a href=\"#Случайный-лес:\" data-toc-modified-id=\"Случайный-лес:-3.2\"><span class=\"toc-item-num\">3.2&nbsp;&nbsp;</span>Случайный лес:</a></span></li><li><span><a href=\"#Градиентный-бустинг:\" data-toc-modified-id=\"Градиентный-бустинг:-3.3\"><span class=\"toc-item-num\">3.3&nbsp;&nbsp;</span>Градиентный бустинг:</a></span></li><li><span><a href=\"#Анализ-моделей:\" data-toc-modified-id=\"Анализ-моделей:-3.4\"><span class=\"toc-item-num\">3.4&nbsp;&nbsp;</span>Анализ моделей:</a></span></li><li><span><a href=\"#Вывод-блока:\" data-toc-modified-id=\"Вывод-блока:-3.5\"><span class=\"toc-item-num\">3.5&nbsp;&nbsp;</span><strong>Вывод блока:</strong></a></span></li></ul></li><li><span><a href=\"#Тестирование\" data-toc-modified-id=\"Тестирование-4\"><span class=\"toc-item-num\">4&nbsp;&nbsp;</span>Тестирование</a></span></li><li><span><a href=\"#Основные-выводы-и-шаги-по-каждому-этапу:\" data-toc-modified-id=\"Основные-выводы-и-шаги-по-каждому-этапу:-5\"><span class=\"toc-item-num\">5&nbsp;&nbsp;</span>Основные выводы и шаги по каждому этапу:</a></span></li><li><span><a href=\"#Общий-вывод:\" data-toc-modified-id=\"Общий-вывод:-6\"><span class=\"toc-item-num\">6&nbsp;&nbsp;</span><strong>Общий вывод:</strong></a></span></li></ul></div>"
   ]
  },
  {
   "cell_type": "markdown",
   "metadata": {},
   "source": [
    "___\n",
    "#  Прогнозирование заказов такси"
   ]
  },
  {
   "cell_type": "markdown",
   "metadata": {},
   "source": [
    "**Описание задачи:**\n",
    "\n",
    "Заказчик «Чётенькое такси» хочет привлекать больше водителей в период пиковой нагрузки.\n",
    "\n",
    "**Описание данных:**\n",
    "\n",
    "В нашем распоряжении исторические данные о заказах такси в аэропортах.\n",
    "* `num_orders` - количество заказов\n",
    "\n",
    "**Цель исследования:**\n",
    "\n",
    "Построить модель для предсказания количества заказов такси на следующий час. \n",
    "Значение метрики *RMSE* на тестовой выборке должно быть не больше 48.\n",
    "\n",
    "**Ход исследования:**\n",
    "1. Загрузим и изучим данные, проверим на пропуски и дубликаты.\n",
    "2. Выполним ресемплирование.\n",
    "3. Проанализируем данные в разрезе дня и недели (при необходимости применим сглаживание).\n",
    "4. Проверим ряд на стационарность.\n",
    "5. Построим графики тренда, сезонности и остатков.\n",
    "6. Проведем подготовку признаков.\n",
    "7. Создадим тестовую выборку размером 10% от исходных данных.\n",
    "8. Обучим разные модели с различными гиперпараметрами и сравним их. \n",
    "9. Проверим данные на тестовой выборке и сделаем выводы.\n",
    "\n",
    "\n",
    "**Таким образом, исследование пройдёт в четыре этапа:**\n",
    "1. Подготовка данных.\n",
    "2. Анализ данных.\n",
    "3. Обучение моделей.\n",
    "4. Тестирование лучшей модели.\n",
    "________\n"
   ]
  },
  {
   "cell_type": "markdown",
   "metadata": {},
   "source": [
    "## Подготовка."
   ]
  },
  {
   "cell_type": "code",
   "execution_count": 1,
   "metadata": {},
   "outputs": [],
   "source": [
    "import pandas as pd\n",
    "import warnings\n",
    "from matplotlib import pyplot as plt\n",
    "\n",
    "from statsmodels.tsa.seasonal import seasonal_decompose\n",
    "from sklearn.model_selection import (train_test_split, \n",
    "                                     TimeSeriesSplit,\n",
    "                                     RandomizedSearchCV,\n",
    "                                     cross_val_score)\n",
    "from sklearn.linear_model import LinearRegression\n",
    "from sklearn.ensemble import RandomForestRegressor\n",
    "from sklearn.metrics import mean_squared_error\n",
    "from lightgbm import LGBMRegressor\n",
    "from sklearn.utils import shuffle\n",
    "import seaborn as sns\n",
    "\n",
    "import time \n",
    "from tqdm.notebook import tqdm"
   ]
  },
  {
   "cell_type": "code",
   "execution_count": 2,
   "metadata": {},
   "outputs": [],
   "source": [
    "warnings.filterwarnings('ignore')"
   ]
  },
  {
   "cell_type": "code",
   "execution_count": 3,
   "metadata": {},
   "outputs": [],
   "source": [
    "try: data = pd.read_csv(r\"C:\\Other\\Notebooks\\taxi.csv\",\n",
    "                        index_col=[0], parse_dates=[0])\n",
    "except: data = pd.read_csv(\"/datasets/taxi.csv\",\n",
    "                           index_col=[0], parse_dates=[0])"
   ]
  },
  {
   "cell_type": "code",
   "execution_count": 4,
   "metadata": {},
   "outputs": [
    {
     "name": "stdout",
     "output_type": "stream",
     "text": [
      "<class 'pandas.core.frame.DataFrame'>\n",
      "DatetimeIndex: 26496 entries, 2018-03-01 00:00:00 to 2018-08-31 23:50:00\n",
      "Data columns (total 1 columns):\n",
      " #   Column      Non-Null Count  Dtype\n",
      "---  ------      --------------  -----\n",
      " 0   num_orders  26496 non-null  int64\n",
      "dtypes: int64(1)\n",
      "memory usage: 414.0 KB\n"
     ]
    }
   ],
   "source": [
    "data.info()"
   ]
  },
  {
   "cell_type": "code",
   "execution_count": 5,
   "metadata": {},
   "outputs": [
    {
     "data": {
      "text/plain": [
       "True"
      ]
     },
     "execution_count": 5,
     "metadata": {},
     "output_type": "execute_result"
    }
   ],
   "source": [
    "#проверка данных на расположение их в хронологическом порядке\n",
    "data.index.is_monotonic"
   ]
  },
  {
   "cell_type": "markdown",
   "metadata": {},
   "source": [
    "________\n",
    "### Проверка на пропуски:"
   ]
  },
  {
   "cell_type": "code",
   "execution_count": 6,
   "metadata": {},
   "outputs": [
    {
     "data": {
      "text/plain": [
       "num_orders    0\n",
       "dtype: int64"
      ]
     },
     "execution_count": 6,
     "metadata": {},
     "output_type": "execute_result"
    }
   ],
   "source": [
    "data.isna().sum()"
   ]
  },
  {
   "cell_type": "markdown",
   "metadata": {},
   "source": [
    "________\n",
    "### Проверка на дубликаты:"
   ]
  },
  {
   "cell_type": "code",
   "execution_count": 7,
   "metadata": {},
   "outputs": [
    {
     "data": {
      "text/html": [
       "<div>\n",
       "<style scoped>\n",
       "    .dataframe tbody tr th:only-of-type {\n",
       "        vertical-align: middle;\n",
       "    }\n",
       "\n",
       "    .dataframe tbody tr th {\n",
       "        vertical-align: top;\n",
       "    }\n",
       "\n",
       "    .dataframe thead th {\n",
       "        text-align: right;\n",
       "    }\n",
       "</style>\n",
       "<table border=\"1\" class=\"dataframe\">\n",
       "  <thead>\n",
       "    <tr style=\"text-align: right;\">\n",
       "      <th></th>\n",
       "      <th>num_orders</th>\n",
       "    </tr>\n",
       "    <tr>\n",
       "      <th>datetime</th>\n",
       "      <th></th>\n",
       "    </tr>\n",
       "  </thead>\n",
       "  <tbody>\n",
       "    <tr>\n",
       "      <th>2018-03-01 02:10:00</th>\n",
       "      <td>12</td>\n",
       "    </tr>\n",
       "    <tr>\n",
       "      <th>2018-03-01 02:20:00</th>\n",
       "      <td>19</td>\n",
       "    </tr>\n",
       "    <tr>\n",
       "      <th>2018-03-01 03:00:00</th>\n",
       "      <td>8</td>\n",
       "    </tr>\n",
       "    <tr>\n",
       "      <th>2018-03-01 03:10:00</th>\n",
       "      <td>17</td>\n",
       "    </tr>\n",
       "    <tr>\n",
       "      <th>2018-03-01 03:20:00</th>\n",
       "      <td>7</td>\n",
       "    </tr>\n",
       "    <tr>\n",
       "      <th>2018-03-01 03:30:00</th>\n",
       "      <td>4</td>\n",
       "    </tr>\n",
       "    <tr>\n",
       "      <th>2018-03-01 03:50:00</th>\n",
       "      <td>20</td>\n",
       "    </tr>\n",
       "    <tr>\n",
       "      <th>2018-03-01 04:10:00</th>\n",
       "      <td>17</td>\n",
       "    </tr>\n",
       "    <tr>\n",
       "      <th>2018-03-01 04:20:00</th>\n",
       "      <td>5</td>\n",
       "    </tr>\n",
       "    <tr>\n",
       "      <th>2018-03-01 04:50:00</th>\n",
       "      <td>3</td>\n",
       "    </tr>\n",
       "  </tbody>\n",
       "</table>\n",
       "</div>"
      ],
      "text/plain": [
       "                     num_orders\n",
       "datetime                       \n",
       "2018-03-01 02:10:00          12\n",
       "2018-03-01 02:20:00          19\n",
       "2018-03-01 03:00:00           8\n",
       "2018-03-01 03:10:00          17\n",
       "2018-03-01 03:20:00           7\n",
       "2018-03-01 03:30:00           4\n",
       "2018-03-01 03:50:00          20\n",
       "2018-03-01 04:10:00          17\n",
       "2018-03-01 04:20:00           5\n",
       "2018-03-01 04:50:00           3"
      ]
     },
     "execution_count": 7,
     "metadata": {},
     "output_type": "execute_result"
    }
   ],
   "source": [
    "dupl = data[data.duplicated()].head(10) \n",
    "dupl"
   ]
  },
  {
   "cell_type": "markdown",
   "metadata": {},
   "source": [
    "Т.к дубликаты у нас являются повторением лишь количества заказов, то удалять их не будем."
   ]
  },
  {
   "cell_type": "markdown",
   "metadata": {},
   "source": [
    "_____\n",
    "### **Вывод блока:**"
   ]
  },
  {
   "cell_type": "markdown",
   "metadata": {},
   "source": [
    "Загрузив данные имеем:\n",
    "- *26496* строк и *2* столбца.\n",
    "- пропусков не обнаружено.\n",
    "- найдены дубликаты, но удалять не стали."
   ]
  },
  {
   "cell_type": "markdown",
   "metadata": {},
   "source": [
    "___\n",
    "___\n",
    "## Анализ."
   ]
  },
  {
   "cell_type": "code",
   "execution_count": 8,
   "metadata": {},
   "outputs": [
    {
     "data": {
      "text/html": [
       "<div>\n",
       "<style scoped>\n",
       "    .dataframe tbody tr th:only-of-type {\n",
       "        vertical-align: middle;\n",
       "    }\n",
       "\n",
       "    .dataframe tbody tr th {\n",
       "        vertical-align: top;\n",
       "    }\n",
       "\n",
       "    .dataframe thead th {\n",
       "        text-align: right;\n",
       "    }\n",
       "</style>\n",
       "<table border=\"1\" class=\"dataframe\">\n",
       "  <thead>\n",
       "    <tr style=\"text-align: right;\">\n",
       "      <th></th>\n",
       "      <th>num_orders</th>\n",
       "    </tr>\n",
       "  </thead>\n",
       "  <tbody>\n",
       "    <tr>\n",
       "      <th>count</th>\n",
       "      <td>26496.000000</td>\n",
       "    </tr>\n",
       "    <tr>\n",
       "      <th>mean</th>\n",
       "      <td>14.070463</td>\n",
       "    </tr>\n",
       "    <tr>\n",
       "      <th>std</th>\n",
       "      <td>9.211330</td>\n",
       "    </tr>\n",
       "    <tr>\n",
       "      <th>min</th>\n",
       "      <td>0.000000</td>\n",
       "    </tr>\n",
       "    <tr>\n",
       "      <th>25%</th>\n",
       "      <td>8.000000</td>\n",
       "    </tr>\n",
       "    <tr>\n",
       "      <th>50%</th>\n",
       "      <td>13.000000</td>\n",
       "    </tr>\n",
       "    <tr>\n",
       "      <th>75%</th>\n",
       "      <td>19.000000</td>\n",
       "    </tr>\n",
       "    <tr>\n",
       "      <th>max</th>\n",
       "      <td>119.000000</td>\n",
       "    </tr>\n",
       "  </tbody>\n",
       "</table>\n",
       "</div>"
      ],
      "text/plain": [
       "         num_orders\n",
       "count  26496.000000\n",
       "mean      14.070463\n",
       "std        9.211330\n",
       "min        0.000000\n",
       "25%        8.000000\n",
       "50%       13.000000\n",
       "75%       19.000000\n",
       "max      119.000000"
      ]
     },
     "execution_count": 8,
     "metadata": {},
     "output_type": "execute_result"
    }
   ],
   "source": [
    "data.describe()"
   ]
  },
  {
   "cell_type": "code",
   "execution_count": 9,
   "metadata": {},
   "outputs": [
    {
     "data": {
      "image/png": "[encoded data removed]",
      "text/plain": [
       "<Figure size 432x288 with 1 Axes>"
      ]
     },
     "metadata": {
      "needs_background": "light"
     },
     "output_type": "display_data"
    }
   ],
   "source": [
    "data.plot()\n",
    "plt.show()"
   ]
  },
  {
   "cell_type": "markdown",
   "metadata": {},
   "source": [
    "________\n",
    "### Ресемплирование:"
   ]
  },
  {
   "cell_type": "markdown",
   "metadata": {},
   "source": [
    "Проведем сглаживание данных по одному часу построим график временного ряда:"
   ]
  },
  {
   "cell_type": "code",
   "execution_count": 10,
   "metadata": {},
   "outputs": [
    {
     "data": {
      "image/png": "[encoded data removed]",
      "text/plain": [
       "<Figure size 432x288 with 1 Axes>"
      ]
     },
     "metadata": {
      "needs_background": "light"
     },
     "output_type": "display_data"
    }
   ],
   "source": [
    "data = data.resample('1H').sum()\n",
    "data.plot()\n",
    "plt.show()"
   ]
  },
  {
   "cell_type": "markdown",
   "metadata": {},
   "source": [
    "____\n",
    "### Построение гарфиков для анализа:"
   ]
  },
  {
   "cell_type": "markdown",
   "metadata": {},
   "source": [
    "Посмотрим данные в разрезе дня и недели:"
   ]
  },
  {
   "cell_type": "code",
   "execution_count": 11,
   "metadata": {},
   "outputs": [
    {
     "data": {
      "image/png": "[encoded data removed]",
      "text/plain": [
       "<Figure size 432x288 with 1 Axes>"
      ]
     },
     "metadata": {
      "needs_background": "light"
     },
     "output_type": "display_data"
    }
   ],
   "source": [
    "data_day = data['2018-03-01':'2018-03-01']\n",
    "data_day.plot()\n",
    "plt.title('Количество заказов за день')\n",
    "plt.show()"
   ]
  },
  {
   "cell_type": "code",
   "execution_count": 12,
   "metadata": {},
   "outputs": [
    {
     "data": {
      "image/png": "[encoded data removed]",
      "text/plain": [
       "<Figure size 432x288 with 1 Axes>"
      ]
     },
     "metadata": {
      "needs_background": "light"
     },
     "output_type": "display_data"
    }
   ],
   "source": [
    "data_week = data['2018-03-01':'2018-03-07']\n",
    "data_week.plot()\n",
    "plt.title('Количество заказов за неделю')\n",
    "plt.show()"
   ]
  },
  {
   "cell_type": "markdown",
   "metadata": {},
   "source": [
    "_______\n",
    "### Метод скользящего среднего:"
   ]
  },
  {
   "cell_type": "markdown",
   "metadata": {},
   "source": [
    "Применим метод скользящего среднего, чтобы снизить колебания во временном ряду и увидеть значения, которые меньше всего подвержены колебаниям:"
   ]
  },
  {
   "cell_type": "code",
   "execution_count": 13,
   "metadata": {},
   "outputs": [
    {
     "data": {
      "image/png": "[encoded data removed]",
      "text/plain": [
       "<Figure size 432x288 with 1 Axes>"
      ]
     },
     "metadata": {
      "needs_background": "light"
     },
     "output_type": "display_data"
    }
   ],
   "source": [
    "data['rolling_mean'] = data['num_orders'].rolling(30).mean()\n",
    "data['rolling_std'] = data['num_orders'].rolling(30).std()\n",
    "data.plot()\n",
    "plt.title('Скользящее среднее и отклонение по отношению ко всем заказам')\n",
    "plt.show()"
   ]
  },
  {
   "cell_type": "code",
   "execution_count": 14,
   "metadata": {},
   "outputs": [
    {
     "data": {
      "text/plain": [
       "num_orders       0\n",
       "rolling_mean    29\n",
       "rolling_std     29\n",
       "dtype: int64"
      ]
     },
     "execution_count": 14,
     "metadata": {},
     "output_type": "execute_result"
    }
   ],
   "source": [
    "data.isna().sum()"
   ]
  },
  {
   "cell_type": "markdown",
   "metadata": {},
   "source": [
    "Ранее мы задали размер \"окна\" равным *30* и на выходе получили 29 пропусков, т.к их мало - избавимся от них:"
   ]
  },
  {
   "cell_type": "code",
   "execution_count": 15,
   "metadata": {
    "scrolled": true
   },
   "outputs": [
    {
     "data": {
      "text/plain": [
       "num_orders      0\n",
       "rolling_mean    0\n",
       "rolling_std     0\n",
       "dtype: int64"
      ]
     },
     "execution_count": 15,
     "metadata": {},
     "output_type": "execute_result"
    }
   ],
   "source": [
    "data = data.dropna()\n",
    "data.isna().sum()"
   ]
  },
  {
   "cell_type": "markdown",
   "metadata": {},
   "source": [
    "_______\n",
    "### Выделение трендов и сезонности:"
   ]
  },
  {
   "cell_type": "code",
   "execution_count": 16,
   "metadata": {},
   "outputs": [
    {
     "data": {
      "image/png": "[encoded data removed]",
      "text/plain": [
       "<Figure size 1152x1800 with 4 Axes>"
      ]
     },
     "metadata": {
      "needs_background": "light"
     },
     "output_type": "display_data"
    }
   ],
   "source": [
    "decomposed = seasonal_decompose(data['num_orders'].dropna())\n",
    "\n",
    "fig, ax = plt.subplots(nrows=4, ncols=1, figsize=(16, 25))\n",
    "\n",
    "fig.subplots_adjust(hspace=0.3)\n",
    "\n",
    "for n, i in enumerate([decomposed.trend, decomposed.seasonal.head(24*7), \n",
    "                               decomposed.seasonal.head(24), decomposed.resid]):\n",
    "    sns.lineplot(ax=ax[n], \n",
    "    data=i\n",
    "    )\n",
    "\n",
    "    ax[n].set_title(i.name.capitalize(), fontsize=25)    \n",
    "    ax[n].set_xlabel(' ')\n",
    "    ax[n].set_ylabel(' ')\n",
    "    ax[n].tick_params(axis='x', labelsize=16)\n",
    "    ax[n].tick_params(axis='y', labelsize=20) \n",
    "    ax[n].grid('on')"
   ]
  },
  {
   "cell_type": "markdown",
   "metadata": {},
   "source": [
    "**Изучим сезонность на разных временных промежутках:**"
   ]
  },
  {
   "cell_type": "code",
   "execution_count": 17,
   "metadata": {},
   "outputs": [
    {
     "data": {
      "image/png": "[encoded data removed]",
      "text/plain": [
       "<Figure size 432x288 with 1 Axes>"
      ]
     },
     "metadata": {
      "needs_background": "light"
     },
     "output_type": "display_data"
    }
   ],
   "source": [
    "decomposed.seasonal['2018-04-01':'2018-04-01'].plot(ax=plt.gca())\n",
    "plt.title('Сезонность в разрезе дня')\n",
    "plt.show()"
   ]
  },
  {
   "cell_type": "code",
   "execution_count": 18,
   "metadata": {},
   "outputs": [
    {
     "data": {
      "image/png": "[encoded data removed]",
      "text/plain": [
       "<Figure size 432x288 with 1 Axes>"
      ]
     },
     "metadata": {
      "needs_background": "light"
     },
     "output_type": "display_data"
    }
   ],
   "source": [
    "decomposed.seasonal['2018-03-01':'2018-03-07'].plot(ax=plt.gca())\n",
    "plt.title('Сезонность в разрезе недели')\n",
    "plt.show()"
   ]
  },
  {
   "cell_type": "code",
   "execution_count": 19,
   "metadata": {},
   "outputs": [
    {
     "data": {
      "image/png": "[encoded data removed]",
      "text/plain": [
       "<Figure size 432x288 with 1 Axes>"
      ]
     },
     "metadata": {
      "needs_background": "light"
     },
     "output_type": "display_data"
    }
   ],
   "source": [
    "decomposed.seasonal['2018-03-01':'2018-04-01'].plot(ax=plt.gca())\n",
    "plt.title('Сезонность в разрезе месяца')\n",
    "plt.show()"
   ]
  },
  {
   "cell_type": "markdown",
   "metadata": {},
   "source": [
    "____\n",
    "**Промежуточный вывод:**"
   ]
  },
  {
   "cell_type": "markdown",
   "metadata": {},
   "source": [
    "* Тренд - ярко выраженный на увеличение количества заказов.\n",
    "* Сезонность - цикличный рост заказов прослеживается в разрезе недели.\n",
    "* Мы видим тренд с апреля по май, потом небольшое снижение в конце-мая и начале июня, затем снова положительный тренд до конца июля, небольшое снижение в начале августа и сильный рост в течение оставшейся части августа.\n",
    "* Спрос на такси возрастает в конце дня, а затем падает в ранние утреннние часы."
   ]
  },
  {
   "cell_type": "markdown",
   "metadata": {},
   "source": [
    "____\n",
    "### Преобразование ряда в стационарный:"
   ]
  },
  {
   "cell_type": "markdown",
   "metadata": {},
   "source": [
    "Имеем нестационарный ряд, поэтому вычислив разности временного ряда, преобразуем его в стационарный."
   ]
  },
  {
   "cell_type": "code",
   "execution_count": 20,
   "metadata": {},
   "outputs": [],
   "source": [
    "data = data.drop(['rolling_mean', 'rolling_std'], axis=1)"
   ]
  },
  {
   "cell_type": "code",
   "execution_count": 21,
   "metadata": {},
   "outputs": [
    {
     "data": {
      "image/png": "[encoded data removed]",
      "text/plain": [
       "<Figure size 432x288 with 1 Axes>"
      ]
     },
     "metadata": {
      "needs_background": "light"
     },
     "output_type": "display_data"
    }
   ],
   "source": [
    "data_shift = data - data.shift()\n",
    "data_shift['rolling_mean'] = data_shift['num_orders'].rolling(30).mean()\n",
    "data_shift['rolling_std'] = data_shift['num_orders'].rolling(30).std()\n",
    "data_shift.plot()\n",
    "plt.show()"
   ]
  },
  {
   "cell_type": "markdown",
   "metadata": {},
   "source": [
    "___\n",
    "### Подготовка признаков"
   ]
  },
  {
   "cell_type": "markdown",
   "metadata": {},
   "source": [
    "Подготовим параметры с помощью функции. Разобьем параметры на следующие виды:\n",
    "\n",
    "* Календарные признаки (месяц, день, день недели, час)\n",
    "* «Отстающие значения»\n",
    "* Скользящее среднее"
   ]
  },
  {
   "cell_type": "code",
   "execution_count": 22,
   "metadata": {},
   "outputs": [],
   "source": [
    "data_shift = data_shift.drop(['rolling_mean', 'rolling_std'], axis=1)"
   ]
  },
  {
   "cell_type": "code",
   "execution_count": 23,
   "metadata": {},
   "outputs": [],
   "source": [
    "def make_features(data, max_lag, rolling_mean_size):\n",
    "    data['dayofweek'] = data.index.dayofweek\n",
    "    data['hour'] = data.index.hour\n",
    "    \n",
    "    for lag in range(1, max_lag + 1):\n",
    "        data['lag_{}'.format(lag)] = data['num_orders'].shift(lag)\n",
    "        \n",
    "    data['rolling_mean'] = data['num_orders'].shift().rolling(rolling_mean_size).mean()"
   ]
  },
  {
   "cell_type": "markdown",
   "metadata": {},
   "source": [
    "____\n",
    "### Разделение выборок:"
   ]
  },
  {
   "cell_type": "markdown",
   "metadata": {},
   "source": [
    "В случае временных рядов выборки перемешивать не стоит, а так как по умолчанию в `train_test_split` установлен параметр shuffle=True, то изменим его:"
   ]
  },
  {
   "cell_type": "code",
   "execution_count": 24,
   "metadata": {},
   "outputs": [
    {
     "data": {
      "text/html": [
       "<div>\n",
       "<style scoped>\n",
       "    .dataframe tbody tr th:only-of-type {\n",
       "        vertical-align: middle;\n",
       "    }\n",
       "\n",
       "    .dataframe tbody tr th {\n",
       "        vertical-align: top;\n",
       "    }\n",
       "\n",
       "    .dataframe thead th {\n",
       "        text-align: right;\n",
       "    }\n",
       "</style>\n",
       "<table border=\"1\" class=\"dataframe\">\n",
       "  <thead>\n",
       "    <tr style=\"text-align: right;\">\n",
       "      <th></th>\n",
       "      <th>num_orders</th>\n",
       "      <th>dayofweek</th>\n",
       "      <th>hour</th>\n",
       "      <th>lag_1</th>\n",
       "      <th>lag_2</th>\n",
       "      <th>lag_3</th>\n",
       "      <th>lag_4</th>\n",
       "      <th>lag_5</th>\n",
       "      <th>lag_6</th>\n",
       "      <th>lag_7</th>\n",
       "      <th>...</th>\n",
       "      <th>lag_16</th>\n",
       "      <th>lag_17</th>\n",
       "      <th>lag_18</th>\n",
       "      <th>lag_19</th>\n",
       "      <th>lag_20</th>\n",
       "      <th>lag_21</th>\n",
       "      <th>lag_22</th>\n",
       "      <th>lag_23</th>\n",
       "      <th>lag_24</th>\n",
       "      <th>rolling_mean</th>\n",
       "    </tr>\n",
       "    <tr>\n",
       "      <th>datetime</th>\n",
       "      <th></th>\n",
       "      <th></th>\n",
       "      <th></th>\n",
       "      <th></th>\n",
       "      <th></th>\n",
       "      <th></th>\n",
       "      <th></th>\n",
       "      <th></th>\n",
       "      <th></th>\n",
       "      <th></th>\n",
       "      <th></th>\n",
       "      <th></th>\n",
       "      <th></th>\n",
       "      <th></th>\n",
       "      <th></th>\n",
       "      <th></th>\n",
       "      <th></th>\n",
       "      <th></th>\n",
       "      <th></th>\n",
       "      <th></th>\n",
       "      <th></th>\n",
       "    </tr>\n",
       "  </thead>\n",
       "  <tbody>\n",
       "    <tr>\n",
       "      <th>2018-08-31 19:00:00</th>\n",
       "      <td>-71.0</td>\n",
       "      <td>4</td>\n",
       "      <td>19</td>\n",
       "      <td>-10.0</td>\n",
       "      <td>20.0</td>\n",
       "      <td>81.0</td>\n",
       "      <td>-17.0</td>\n",
       "      <td>-33.0</td>\n",
       "      <td>30.0</td>\n",
       "      <td>-31.0</td>\n",
       "      <td>...</td>\n",
       "      <td>-131.0</td>\n",
       "      <td>36.0</td>\n",
       "      <td>-82.0</td>\n",
       "      <td>30.0</td>\n",
       "      <td>88.0</td>\n",
       "      <td>-40.0</td>\n",
       "      <td>56.0</td>\n",
       "      <td>70.0</td>\n",
       "      <td>-105.0</td>\n",
       "      <td>5.714286</td>\n",
       "    </tr>\n",
       "    <tr>\n",
       "      <th>2018-08-31 20:00:00</th>\n",
       "      <td>18.0</td>\n",
       "      <td>4</td>\n",
       "      <td>20</td>\n",
       "      <td>-71.0</td>\n",
       "      <td>-10.0</td>\n",
       "      <td>20.0</td>\n",
       "      <td>81.0</td>\n",
       "      <td>-17.0</td>\n",
       "      <td>-33.0</td>\n",
       "      <td>30.0</td>\n",
       "      <td>...</td>\n",
       "      <td>169.0</td>\n",
       "      <td>-131.0</td>\n",
       "      <td>36.0</td>\n",
       "      <td>-82.0</td>\n",
       "      <td>30.0</td>\n",
       "      <td>88.0</td>\n",
       "      <td>-40.0</td>\n",
       "      <td>56.0</td>\n",
       "      <td>70.0</td>\n",
       "      <td>0.000000</td>\n",
       "    </tr>\n",
       "    <tr>\n",
       "      <th>2018-08-31 21:00:00</th>\n",
       "      <td>5.0</td>\n",
       "      <td>4</td>\n",
       "      <td>21</td>\n",
       "      <td>18.0</td>\n",
       "      <td>-71.0</td>\n",
       "      <td>-10.0</td>\n",
       "      <td>20.0</td>\n",
       "      <td>81.0</td>\n",
       "      <td>-17.0</td>\n",
       "      <td>-33.0</td>\n",
       "      <td>...</td>\n",
       "      <td>-190.0</td>\n",
       "      <td>169.0</td>\n",
       "      <td>-131.0</td>\n",
       "      <td>36.0</td>\n",
       "      <td>-82.0</td>\n",
       "      <td>30.0</td>\n",
       "      <td>88.0</td>\n",
       "      <td>-40.0</td>\n",
       "      <td>56.0</td>\n",
       "      <td>-1.714286</td>\n",
       "    </tr>\n",
       "    <tr>\n",
       "      <th>2018-08-31 22:00:00</th>\n",
       "      <td>64.0</td>\n",
       "      <td>4</td>\n",
       "      <td>22</td>\n",
       "      <td>5.0</td>\n",
       "      <td>18.0</td>\n",
       "      <td>-71.0</td>\n",
       "      <td>-10.0</td>\n",
       "      <td>20.0</td>\n",
       "      <td>81.0</td>\n",
       "      <td>-17.0</td>\n",
       "      <td>...</td>\n",
       "      <td>-43.0</td>\n",
       "      <td>-190.0</td>\n",
       "      <td>169.0</td>\n",
       "      <td>-131.0</td>\n",
       "      <td>36.0</td>\n",
       "      <td>-82.0</td>\n",
       "      <td>30.0</td>\n",
       "      <td>88.0</td>\n",
       "      <td>-40.0</td>\n",
       "      <td>3.714286</td>\n",
       "    </tr>\n",
       "    <tr>\n",
       "      <th>2018-08-31 23:00:00</th>\n",
       "      <td>-18.0</td>\n",
       "      <td>4</td>\n",
       "      <td>23</td>\n",
       "      <td>64.0</td>\n",
       "      <td>5.0</td>\n",
       "      <td>18.0</td>\n",
       "      <td>-71.0</td>\n",
       "      <td>-10.0</td>\n",
       "      <td>20.0</td>\n",
       "      <td>81.0</td>\n",
       "      <td>...</td>\n",
       "      <td>11.0</td>\n",
       "      <td>-43.0</td>\n",
       "      <td>-190.0</td>\n",
       "      <td>169.0</td>\n",
       "      <td>-131.0</td>\n",
       "      <td>36.0</td>\n",
       "      <td>-82.0</td>\n",
       "      <td>30.0</td>\n",
       "      <td>88.0</td>\n",
       "      <td>15.285714</td>\n",
       "    </tr>\n",
       "  </tbody>\n",
       "</table>\n",
       "<p>5 rows × 28 columns</p>\n",
       "</div>"
      ],
      "text/plain": [
       "                     num_orders  dayofweek  hour  lag_1  lag_2  lag_3  lag_4  \\\n",
       "datetime                                                                       \n",
       "2018-08-31 19:00:00       -71.0          4    19  -10.0   20.0   81.0  -17.0   \n",
       "2018-08-31 20:00:00        18.0          4    20  -71.0  -10.0   20.0   81.0   \n",
       "2018-08-31 21:00:00         5.0          4    21   18.0  -71.0  -10.0   20.0   \n",
       "2018-08-31 22:00:00        64.0          4    22    5.0   18.0  -71.0  -10.0   \n",
       "2018-08-31 23:00:00       -18.0          4    23   64.0    5.0   18.0  -71.0   \n",
       "\n",
       "                     lag_5  lag_6  lag_7  ...  lag_16  lag_17  lag_18  lag_19  \\\n",
       "datetime                                  ...                                   \n",
       "2018-08-31 19:00:00  -33.0   30.0  -31.0  ...  -131.0    36.0   -82.0    30.0   \n",
       "2018-08-31 20:00:00  -17.0  -33.0   30.0  ...   169.0  -131.0    36.0   -82.0   \n",
       "2018-08-31 21:00:00   81.0  -17.0  -33.0  ...  -190.0   169.0  -131.0    36.0   \n",
       "2018-08-31 22:00:00   20.0   81.0  -17.0  ...   -43.0  -190.0   169.0  -131.0   \n",
       "2018-08-31 23:00:00  -10.0   20.0   81.0  ...    11.0   -43.0  -190.0   169.0   \n",
       "\n",
       "                     lag_20  lag_21  lag_22  lag_23  lag_24  rolling_mean  \n",
       "datetime                                                                   \n",
       "2018-08-31 19:00:00    88.0   -40.0    56.0    70.0  -105.0      5.714286  \n",
       "2018-08-31 20:00:00    30.0    88.0   -40.0    56.0    70.0      0.000000  \n",
       "2018-08-31 21:00:00   -82.0    30.0    88.0   -40.0    56.0     -1.714286  \n",
       "2018-08-31 22:00:00    36.0   -82.0    30.0    88.0   -40.0      3.714286  \n",
       "2018-08-31 23:00:00  -131.0    36.0   -82.0    30.0    88.0     15.285714  \n",
       "\n",
       "[5 rows x 28 columns]"
      ]
     },
     "execution_count": 24,
     "metadata": {},
     "output_type": "execute_result"
    }
   ],
   "source": [
    "make_features(data_shift, 24, 7)\n",
    "data_shift.tail()"
   ]
  },
  {
   "cell_type": "code",
   "execution_count": 25,
   "metadata": {},
   "outputs": [],
   "source": [
    "data_shift_train, data_shift_test = train_test_split(\n",
    "    data_shift,\n",
    "    test_size=0.1,\n",
    "    shuffle=False \n",
    ")"
   ]
  },
  {
   "cell_type": "code",
   "execution_count": 26,
   "metadata": {},
   "outputs": [],
   "source": [
    "data_shift_train = data_shift_train.dropna()"
   ]
  },
  {
   "cell_type": "code",
   "execution_count": 27,
   "metadata": {},
   "outputs": [
    {
     "name": "stdout",
     "output_type": "stream",
     "text": [
      "Размер признаков на train (3923, 28)\n",
      "Размер таргета на test (3923,)\n",
      "\n",
      "Размер признаков на train (439, 27)\n",
      "Размер таргета на test (439,)\n"
     ]
    }
   ],
   "source": [
    "X_shift_train = data_shift_train.drop(['num_orders'], axis=1)\n",
    "y_shift_train = data_shift_train['num_orders']\n",
    "\n",
    "X_shift_test = data_shift_test.drop(['num_orders'], axis=1)\n",
    "y_shift_test = data_shift_test['num_orders']\n",
    "\n",
    "print('Размер признаков на train', data_shift_train.shape)\n",
    "print('Размер таргета на test', y_shift_train.shape)\n",
    "print()\n",
    "print('Размер признаков на train', X_shift_test.shape)\n",
    "print('Размер таргета на test', y_shift_test.shape)"
   ]
  },
  {
   "cell_type": "markdown",
   "metadata": {},
   "source": [
    "_____\n",
    "### **Вывод блока:**"
   ]
  },
  {
   "cell_type": "markdown",
   "metadata": {},
   "source": [
    "- ресемплировали данные по 1 часу.\n",
    "- остроили графики в разрезе дня и недели.\n",
    "- применили сглаживание временного ряда.\n",
    "- удалили появившиеся пропуски.\n",
    "- выделили тренды, сезонность и остатки.\n",
    "- привели ряд к стационарному виду.\n",
    "- подготовили признаки.\n",
    "- разделили данные на обучающую и тестовую выборки.\n",
    "\n",
    "\n",
    "* Тренд - ярко выраженный на увеличение количества заказов.\n",
    "  * Мы видим тренд с апреля по май, потом небольшое снижение в конце-мая и начале июня, затем снова положительный тренд до конца июля, небольшое снижение в начале августа и сильный рост в течение оставшейся части августа.\n",
    "* Сезонность - цикличный рост заказов прослеживается в разрезе недели.\n",
    "  * Спрос на такси возрастает в конце дня, а затем падает в ранние утреннние часы."
   ]
  },
  {
   "cell_type": "markdown",
   "metadata": {},
   "source": [
    "___\n",
    "___\n",
    "## Обучение."
   ]
  },
  {
   "cell_type": "markdown",
   "metadata": {},
   "source": [
    "Чтобы использовать кроссвалидацию для подбора гиперпараметоров в качестве аргумента cv будем использовать специальный сплиттер TimeSeriesSplit, который не будет нарушать порядок следования данных."
   ]
  },
  {
   "cell_type": "code",
   "execution_count": 28,
   "metadata": {},
   "outputs": [],
   "source": [
    "tscv = TimeSeriesSplit(n_splits=10)"
   ]
  },
  {
   "cell_type": "markdown",
   "metadata": {},
   "source": [
    "___\n",
    "### Линейная регрессия:"
   ]
  },
  {
   "cell_type": "code",
   "execution_count": 29,
   "metadata": {},
   "outputs": [
    {
     "name": "stdout",
     "output_type": "stream",
     "text": [
      "Среднее RMSE: 26.508436348527443\n",
      "CPU times: user 594 ms, sys: 1.61 s, total: 2.21 s\n",
      "Wall time: 2.21 s\n"
     ]
    }
   ],
   "source": [
    "%%time \n",
    "model_lr = LinearRegression(n_jobs=1)\n",
    "lr_score = (cross_val_score(model_lr,\n",
    "                            X_shift_train,\n",
    "                            y_shift_train,\n",
    "                            cv=tscv,\n",
    "                            scoring='neg_root_mean_squared_error').mean()*-1)\n",
    "print('Среднее RMSE:', lr_score)"
   ]
  },
  {
   "cell_type": "code",
   "execution_count": 30,
   "metadata": {},
   "outputs": [
    {
     "name": "stdout",
     "output_type": "stream",
     "text": [
      "RMSE: 25.856321670602714\n",
      "CPU times: user 36.4 ms, sys: 127 ms, total: 164 ms\n",
      "Wall time: 148 ms\n"
     ]
    }
   ],
   "source": [
    "%%time \n",
    "model_lr = LinearRegression(n_jobs=1)\n",
    "model_lr.fit(X_shift_train, y_shift_train) \n",
    "\n",
    "lr_predict = model_lr.predict(X_shift_train)\n",
    "lr_rmse = mean_squared_error(y_shift_train, lr_predict) ** 0.5\n",
    "\n",
    "print('RMSE:', lr_rmse)"
   ]
  },
  {
   "cell_type": "markdown",
   "metadata": {},
   "source": [
    "____\n",
    "### Случайный лес:"
   ]
  },
  {
   "cell_type": "code",
   "execution_count": 31,
   "metadata": {},
   "outputs": [
    {
     "name": "stdout",
     "output_type": "stream",
     "text": [
      "RMSE: 27.79\n",
      "{'n_estimators': 40, 'max_depth': 9}\n",
      "CPU times: user 42.7 s, sys: 174 ms, total: 42.8 s\n",
      "Wall time: 44.3 s\n"
     ]
    }
   ],
   "source": [
    "%%time\n",
    "model_forest = RandomForestRegressor(random_state=77)\n",
    "parameters = {'n_estimators': range(10, 50, 30),\n",
    "              'max_depth': range(5, 10)             \n",
    "             }\n",
    "search = RandomizedSearchCV(\n",
    "    model_forest,\n",
    "    parameters,\n",
    "    cv=tscv,\n",
    "    random_state=77,\n",
    "    scoring='neg_root_mean_squared_error'\n",
    ")\n",
    "search.fit(X_shift_train, y_shift_train)\n",
    "\n",
    "results_f = search.best_score_ * -1\n",
    "forest_params = search.best_params_\n",
    "\n",
    "print('RMSE: {:.2f}'.format(results_f))\n",
    "print(forest_params)"
   ]
  },
  {
   "cell_type": "code",
   "execution_count": 32,
   "metadata": {},
   "outputs": [
    {
     "name": "stdout",
     "output_type": "stream",
     "text": [
      "RMSE = 18.67\n",
      "CPU times: user 1.45 s, sys: 3.61 ms, total: 1.45 s\n",
      "Wall time: 1.46 s\n"
     ]
    }
   ],
   "source": [
    "%%time\n",
    "model_forest1 = RandomForestRegressor(**forest_params)\n",
    "model_forest1.fit(X_shift_train, y_shift_train)\n",
    "\n",
    "predict_f = model_forest1.predict(X_shift_train)\n",
    "forest_rmse = mean_squared_error(y_shift_train, predict_f)**0.5\n",
    "\n",
    "print('RMSE = {:.2f}'.format(forest_rmse))"
   ]
  },
  {
   "cell_type": "markdown",
   "metadata": {},
   "source": [
    "____\n",
    "### Градиентный бустинг:"
   ]
  },
  {
   "cell_type": "code",
   "execution_count": 38,
   "metadata": {},
   "outputs": [],
   "source": [
    "features_train_lgbm = X_shift_train.copy()\n",
    "features_test_lgbm = X_shift_test.copy()\n",
    "\n",
    "features_train_lgbm = features_train_lgbm.astype('category')\n",
    "features_test_lgbm = features_test_lgbm.astype('category')"
   ]
  },
  {
   "cell_type": "code",
   "execution_count": 39,
   "metadata": {},
   "outputs": [
    {
     "name": "stdout",
     "output_type": "stream",
     "text": [
      "RMSE: 31.06\n",
      "{'num_leaves': 30, 'n_estimators': 50, 'max_depth': 10}\n",
      "CPU times: user 1h 48min 21s, sys: 1min 35s, total: 1h 49min 57s\n",
      "Wall time: 2h 31min 8s\n"
     ]
    }
   ],
   "source": [
    "%%time\n",
    "model_lgbm = LGBMRegressor()\n",
    "lg_param = {'num_leaves':[10, 30], \n",
    "            'n_estimators' : [10, 50, 100],\n",
    "            'max_depth':[5, 10],\n",
    "             }\n",
    "\n",
    "search = RandomizedSearchCV(\n",
    "    model_lgbm,\n",
    "    lg_param,\n",
    "    cv=tscv,\n",
    "    scoring='neg_root_mean_squared_error',\n",
    "    random_state=77\n",
    ")\n",
    "search.fit(X=features_train_lgbm, y=y_shift_train) \n",
    "lgbm_params = search.best_params_\n",
    "results_lgbm = search.best_score_ * -1\n",
    "\n",
    "print('RMSE: {:.2f}'.format(results_lgbm))\n",
    "print(lgbm_params)"
   ]
  },
  {
   "cell_type": "code",
   "execution_count": 40,
   "metadata": {},
   "outputs": [
    {
     "name": "stdout",
     "output_type": "stream",
     "text": [
      "RMSE = 17.57\n"
     ]
    }
   ],
   "source": [
    "model_lgbm = LGBMRegressor(**lgbm_params)\n",
    "model_lgbm.fit(features_train_lgbm, y_shift_train)\n",
    "\n",
    "predict_lgbm = model_lgbm.predict(features_train_lgbm)\n",
    "lgbm_rmse = mean_squared_error(y_shift_train, predict_lgbm)**0.5\n",
    "\n",
    "print('RMSE = {:.2f}'.format(lgbm_rmse))"
   ]
  },
  {
   "cell_type": "markdown",
   "metadata": {},
   "source": [
    "_____\n",
    "### Анализ моделей:"
   ]
  },
  {
   "cell_type": "code",
   "execution_count": 48,
   "metadata": {},
   "outputs": [
    {
     "data": {
      "text/html": [
       "<div>\n",
       "<style scoped>\n",
       "    .dataframe tbody tr th:only-of-type {\n",
       "        vertical-align: middle;\n",
       "    }\n",
       "\n",
       "    .dataframe tbody tr th {\n",
       "        vertical-align: top;\n",
       "    }\n",
       "\n",
       "    .dataframe thead th {\n",
       "        text-align: right;\n",
       "    }\n",
       "</style>\n",
       "<table border=\"1\" class=\"dataframe\">\n",
       "  <thead>\n",
       "    <tr style=\"text-align: right;\">\n",
       "      <th></th>\n",
       "      <th>Модель</th>\n",
       "      <th>RMSE</th>\n",
       "    </tr>\n",
       "  </thead>\n",
       "  <tbody>\n",
       "    <tr>\n",
       "      <th>0</th>\n",
       "      <td>Linear Regression</td>\n",
       "      <td>26.508436</td>\n",
       "    </tr>\n",
       "    <tr>\n",
       "      <th>1</th>\n",
       "      <td>Random Forest</td>\n",
       "      <td>27.785266</td>\n",
       "    </tr>\n",
       "    <tr>\n",
       "      <th>2</th>\n",
       "      <td>LGBM</td>\n",
       "      <td>31.060471</td>\n",
       "    </tr>\n",
       "  </tbody>\n",
       "</table>\n",
       "</div>"
      ],
      "text/plain": [
       "              Модель       RMSE\n",
       "0  Linear Regression  26.508436\n",
       "1      Random Forest  27.785266\n",
       "2               LGBM  31.060471"
      ]
     },
     "metadata": {},
     "output_type": "display_data"
    }
   ],
   "source": [
    "comparison = {\n",
    "    'Модель' : ['Linear Regression', 'Random Forest', 'LGBM'],\n",
    "    'RMSE' : pd.Series([lr_score, results_f, results_lgbm]),\n",
    "    }\n",
    "display(pd.DataFrame(comparison))"
   ]
  },
  {
   "cell_type": "markdown",
   "metadata": {},
   "source": [
    "_____\n",
    "### **Вывод блока:**\n",
    "- при помощи RandomizedSearchCV подобрали лучшие гиперпараметры для моделей `Случайного леса` и `LGBM`.\n",
    "- провели обучение модели `Линейной регрессии` и двух моделей из прошлого пункта.\n",
    "- для каждой модели измерили качество на кросс-валидации.\n",
    "- основываясь на результатах имеем лучшие показатели у `Линейной регрессии`."
   ]
  },
  {
   "cell_type": "markdown",
   "metadata": {},
   "source": [
    "## Тестирование"
   ]
  },
  {
   "cell_type": "markdown",
   "metadata": {},
   "source": [
    "Протестируем лучшую модель:"
   ]
  },
  {
   "cell_type": "code",
   "execution_count": 45,
   "metadata": {},
   "outputs": [
    {
     "name": "stdout",
     "output_type": "stream",
     "text": [
      "RMSE линейной регрессии на тестовой выборке: 45.16\n"
     ]
    }
   ],
   "source": [
    "test_lr = model_lr.predict(X_shift_test)\n",
    "test_lr_results = mean_squared_error(y_shift_test, test_lr) ** 0.5\n",
    "print('RMSE линейной регрессии на тестовой выборке: {:.2f}'.format(test_lr_results))"
   ]
  },
  {
   "cell_type": "markdown",
   "metadata": {},
   "source": [
    "_________\n",
    "## Основные выводы и шаги по каждому этапу:\n",
    "____"
   ]
  },
  {
   "cell_type": "markdown",
   "metadata": {},
   "source": [
    "**Этап 1. Подготовка :**\n",
    "- данные загружены и исследованы.\n",
    "- пропусков не обнаружено.\n",
    "- найдены дубликаты, но удалять не стали."
   ]
  },
  {
   "cell_type": "markdown",
   "metadata": {},
   "source": [
    "___\n",
    "**Этап 2. Исследовательский анализ данных:**\n",
    "- ресемплировали данные по 1 часу.\n",
    "- остроили графики в разрезе дня и недели.\n",
    "- применили сглаживание временного ряда.\n",
    "- удалили появившиеся пропуски.\n",
    "- выделили тренды, сезонность и остатки.\n",
    "- привели ряд к стационарному виду.\n",
    "- подготовили признаки.\n",
    "- разделили данные на обучающую и тестовую выборки.\n",
    "----\n",
    "\n",
    "* Тренд - ярко выраженный на увеличение количества заказов.\n",
    "  * Мы видим тренд с апреля по май, потом небольшое снижение в конце-мая и начале июня, затем снова положительный тренд до конца июля, небольшое снижение в начале августа и сильный рост в течение оставшейся части августа.\n",
    "* Сезонность - цикличный рост заказов прослеживается в разрезе недели.\n",
    "  * Спрос на такси возрастает в конце дня, а затем падает в ранние утреннние часы.\n",
    "___"
   ]
  },
  {
   "cell_type": "markdown",
   "metadata": {},
   "source": [
    "**Этап 3. Обучение и проверка модели:**\n",
    "- подобрали гиперпараметры для моделей `Случайного леса` и `LGBM`.\n",
    "- провели обучение модели `Линейной регрессии` и двух моделей из прошлого пункта.\n",
    "- для каждой модели измерили качество на кросс-валидации.\n",
    "- лучшие показатели у `Линейной регрессии`.\n",
    "___\n"
   ]
  },
  {
   "cell_type": "markdown",
   "metadata": {},
   "source": [
    "**Этап 4. Тестирование:**\n",
    "- получили метрику качество лучшей модели на тестовой выборке."
   ]
  },
  {
   "cell_type": "markdown",
   "metadata": {},
   "source": [
    "____\n",
    "## **Общий вывод:**"
   ]
  },
  {
   "cell_type": "markdown",
   "metadata": {},
   "source": [
    "Первоначальная цель исследования достигнута, а именно:\n",
    "* по итогам результатов построена модель линейной регрессии, *RMSE* которой составило менее 48, а именно `45.16`.\n",
    " \n",
    " \n",
    "**Рекомендации:**\n",
    "\n",
    "Дополнительно можно провести исследование по прогнозированию для не стационарного ряда и посмотреть разницу в результатах."
   ]
  },
  {
   "cell_type": "markdown",
   "metadata": {},
   "source": [
    "***"
   ]
  },
  {
   "cell_type": "code",
   "execution_count": null,
   "metadata": {},
   "outputs": [],
   "source": []
  }
 ],
 "metadata": {
  "ExecuteTimeLog": [
   {
    "duration": 1225,
    "start_time": "2023-03-08T15:07:44.487Z"
   },
   {
    "duration": 75,
    "start_time": "2023-03-08T15:08:56.560Z"
   },
   {
    "duration": 173,
    "start_time": "2023-03-08T15:09:06.201Z"
   },
   {
    "duration": 94,
    "start_time": "2023-03-08T15:09:18.412Z"
   },
   {
    "duration": 1110,
    "start_time": "2023-03-08T15:21:07.886Z"
   },
   {
    "duration": 79,
    "start_time": "2023-03-08T15:21:08.998Z"
   },
   {
    "duration": 11,
    "start_time": "2023-03-08T15:21:09.079Z"
   },
   {
    "duration": 5,
    "start_time": "2023-03-08T15:21:09.092Z"
   },
   {
    "duration": 6,
    "start_time": "2023-03-08T15:21:09.098Z"
   },
   {
    "duration": 10,
    "start_time": "2023-03-08T15:21:09.106Z"
   },
   {
    "duration": 622,
    "start_time": "2023-03-08T15:21:09.118Z"
   },
   {
    "duration": 215,
    "start_time": "2023-03-08T15:21:09.742Z"
   },
   {
    "duration": 254,
    "start_time": "2023-03-08T15:21:09.958Z"
   },
   {
    "duration": 6,
    "start_time": "2023-03-08T15:21:10.214Z"
   },
   {
    "duration": 25,
    "start_time": "2023-03-08T15:21:10.221Z"
   },
   {
    "duration": 8,
    "start_time": "2023-03-08T15:21:10.247Z"
   },
   {
    "duration": 6,
    "start_time": "2023-03-08T15:21:10.257Z"
   },
   {
    "duration": 608,
    "start_time": "2023-03-08T15:21:10.264Z"
   },
   {
    "duration": 148,
    "start_time": "2023-03-08T15:21:10.873Z"
   },
   {
    "duration": 2120,
    "start_time": "2023-03-12T13:50:03.659Z"
   },
   {
    "duration": 201,
    "start_time": "2023-03-12T13:50:05.781Z"
   },
   {
    "duration": 13,
    "start_time": "2023-03-12T13:50:05.984Z"
   },
   {
    "duration": 6,
    "start_time": "2023-03-12T13:50:05.999Z"
   },
   {
    "duration": 10,
    "start_time": "2023-03-12T13:50:06.007Z"
   },
   {
    "duration": 33,
    "start_time": "2023-03-12T13:50:06.019Z"
   },
   {
    "duration": 713,
    "start_time": "2023-03-12T13:50:06.054Z"
   },
   {
    "duration": 240,
    "start_time": "2023-03-12T13:50:06.768Z"
   },
   {
    "duration": 278,
    "start_time": "2023-03-12T13:50:07.010Z"
   },
   {
    "duration": 7,
    "start_time": "2023-03-12T13:50:07.291Z"
   },
   {
    "duration": 29,
    "start_time": "2023-03-12T13:50:07.299Z"
   },
   {
    "duration": 11,
    "start_time": "2023-03-12T13:50:07.330Z"
   },
   {
    "duration": 2,
    "start_time": "2023-03-12T13:50:07.344Z"
   },
   {
    "duration": 1016,
    "start_time": "2023-03-12T13:50:07.349Z"
   },
   {
    "duration": 442,
    "start_time": "2023-03-12T13:50:08.421Z"
   },
   {
    "duration": 5,
    "start_time": "2023-03-12T13:51:41.940Z"
   },
   {
    "duration": 6,
    "start_time": "2023-03-12T13:58:43.865Z"
   },
   {
    "duration": 11,
    "start_time": "2023-03-12T13:59:28.790Z"
   },
   {
    "duration": 1392,
    "start_time": "2023-03-13T12:38:34.803Z"
   },
   {
    "duration": 206,
    "start_time": "2023-03-13T12:38:36.197Z"
   },
   {
    "duration": 17,
    "start_time": "2023-03-13T12:38:36.405Z"
   },
   {
    "duration": 7,
    "start_time": "2023-03-13T12:38:36.425Z"
   },
   {
    "duration": 10,
    "start_time": "2023-03-13T12:38:36.434Z"
   },
   {
    "duration": 11,
    "start_time": "2023-03-13T12:38:36.446Z"
   },
   {
    "duration": 134,
    "start_time": "2023-03-13T12:38:36.458Z"
   },
   {
    "duration": 0,
    "start_time": "2023-03-13T12:38:36.594Z"
   },
   {
    "duration": 0,
    "start_time": "2023-03-13T12:38:36.596Z"
   },
   {
    "duration": 0,
    "start_time": "2023-03-13T12:38:36.597Z"
   },
   {
    "duration": 0,
    "start_time": "2023-03-13T12:38:36.598Z"
   },
   {
    "duration": 0,
    "start_time": "2023-03-13T12:38:36.600Z"
   },
   {
    "duration": 0,
    "start_time": "2023-03-13T12:38:36.601Z"
   },
   {
    "duration": 0,
    "start_time": "2023-03-13T12:38:36.602Z"
   },
   {
    "duration": 0,
    "start_time": "2023-03-13T12:38:36.603Z"
   },
   {
    "duration": 0,
    "start_time": "2023-03-13T12:38:36.604Z"
   },
   {
    "duration": 14,
    "start_time": "2023-03-13T12:39:23.961Z"
   },
   {
    "duration": 10,
    "start_time": "2023-03-13T12:41:02.665Z"
   },
   {
    "duration": 240,
    "start_time": "2023-03-13T12:41:10.856Z"
   },
   {
    "duration": 10,
    "start_time": "2023-03-13T12:41:11.413Z"
   },
   {
    "duration": 224,
    "start_time": "2023-03-13T12:42:04.594Z"
   },
   {
    "duration": 23,
    "start_time": "2023-03-13T12:46:10.506Z"
   },
   {
    "duration": 183,
    "start_time": "2023-03-13T12:46:20.679Z"
   },
   {
    "duration": 161,
    "start_time": "2023-03-13T12:46:28.957Z"
   },
   {
    "duration": 209,
    "start_time": "2023-03-13T12:47:21.042Z"
   },
   {
    "duration": 163,
    "start_time": "2023-03-13T12:48:38.439Z"
   },
   {
    "duration": 68,
    "start_time": "2023-03-13T12:51:15.822Z"
   },
   {
    "duration": 346,
    "start_time": "2023-03-13T12:51:21.033Z"
   },
   {
    "duration": 1144,
    "start_time": "2023-03-13T12:51:34.530Z"
   },
   {
    "duration": 110,
    "start_time": "2023-03-13T12:51:35.676Z"
   },
   {
    "duration": 13,
    "start_time": "2023-03-13T12:51:35.788Z"
   },
   {
    "duration": 8,
    "start_time": "2023-03-13T12:51:35.803Z"
   },
   {
    "duration": 8,
    "start_time": "2023-03-13T12:51:35.812Z"
   },
   {
    "duration": 10,
    "start_time": "2023-03-13T12:51:35.822Z"
   },
   {
    "duration": 14,
    "start_time": "2023-03-13T12:51:35.835Z"
   },
   {
    "duration": 751,
    "start_time": "2023-03-13T12:51:35.851Z"
   },
   {
    "duration": 269,
    "start_time": "2023-03-13T12:51:36.604Z"
   },
   {
    "duration": 286,
    "start_time": "2023-03-13T12:51:36.876Z"
   },
   {
    "duration": 364,
    "start_time": "2023-03-13T12:51:37.163Z"
   },
   {
    "duration": 719,
    "start_time": "2023-03-13T12:51:37.529Z"
   },
   {
    "duration": 7,
    "start_time": "2023-03-13T12:51:38.250Z"
   },
   {
    "duration": 66,
    "start_time": "2023-03-13T12:51:38.259Z"
   },
   {
    "duration": 10,
    "start_time": "2023-03-13T12:51:38.327Z"
   },
   {
    "duration": 3,
    "start_time": "2023-03-13T12:51:38.338Z"
   },
   {
    "duration": 802,
    "start_time": "2023-03-13T12:51:38.343Z"
   },
   {
    "duration": 152,
    "start_time": "2023-03-13T12:51:39.147Z"
   },
   {
    "duration": 282,
    "start_time": "2023-03-13T12:52:24.258Z"
   },
   {
    "duration": 339,
    "start_time": "2023-03-13T12:52:43.284Z"
   },
   {
    "duration": 3,
    "start_time": "2023-03-13T12:54:16.318Z"
   },
   {
    "duration": 3,
    "start_time": "2023-03-13T12:54:38.504Z"
   },
   {
    "duration": 1134,
    "start_time": "2023-03-13T12:54:48.970Z"
   },
   {
    "duration": 4,
    "start_time": "2023-03-13T12:54:50.106Z"
   },
   {
    "duration": 94,
    "start_time": "2023-03-13T12:54:50.112Z"
   },
   {
    "duration": 11,
    "start_time": "2023-03-13T12:54:50.208Z"
   },
   {
    "duration": 7,
    "start_time": "2023-03-13T12:54:50.222Z"
   },
   {
    "duration": 11,
    "start_time": "2023-03-13T12:54:50.232Z"
   },
   {
    "duration": 17,
    "start_time": "2023-03-13T12:54:50.245Z"
   },
   {
    "duration": 16,
    "start_time": "2023-03-13T12:54:50.264Z"
   },
   {
    "duration": 697,
    "start_time": "2023-03-13T12:54:50.281Z"
   },
   {
    "duration": 222,
    "start_time": "2023-03-13T12:54:50.980Z"
   },
   {
    "duration": 164,
    "start_time": "2023-03-13T12:54:51.203Z"
   },
   {
    "duration": 164,
    "start_time": "2023-03-13T12:54:51.369Z"
   },
   {
    "duration": 363,
    "start_time": "2023-03-13T12:54:51.534Z"
   },
   {
    "duration": 6,
    "start_time": "2023-03-13T12:54:51.898Z"
   },
   {
    "duration": 20,
    "start_time": "2023-03-13T12:54:51.906Z"
   },
   {
    "duration": 29,
    "start_time": "2023-03-13T12:54:51.928Z"
   },
   {
    "duration": 19,
    "start_time": "2023-03-13T12:54:51.959Z"
   },
   {
    "duration": 502,
    "start_time": "2023-03-13T12:54:51.980Z"
   },
   {
    "duration": 162,
    "start_time": "2023-03-13T12:54:52.484Z"
   },
   {
    "duration": 110,
    "start_time": "2023-03-13T13:19:59.182Z"
   },
   {
    "duration": 915,
    "start_time": "2023-03-13T13:20:20.771Z"
   },
   {
    "duration": 211,
    "start_time": "2023-03-13T13:23:46.679Z"
   },
   {
    "duration": 130,
    "start_time": "2023-03-13T13:23:58.340Z"
   },
   {
    "duration": 134,
    "start_time": "2023-03-13T13:24:11.796Z"
   },
   {
    "duration": 4,
    "start_time": "2023-03-13T13:32:53.724Z"
   },
   {
    "duration": 328,
    "start_time": "2023-03-13T13:40:09.511Z"
   },
   {
    "duration": 300,
    "start_time": "2023-03-13T13:40:17.134Z"
   },
   {
    "duration": 1466,
    "start_time": "2023-03-13T15:37:16.270Z"
   },
   {
    "duration": 4,
    "start_time": "2023-03-13T15:37:17.738Z"
   },
   {
    "duration": 126,
    "start_time": "2023-03-13T15:37:17.743Z"
   },
   {
    "duration": 13,
    "start_time": "2023-03-13T15:37:17.871Z"
   },
   {
    "duration": 7,
    "start_time": "2023-03-13T15:37:17.887Z"
   },
   {
    "duration": 9,
    "start_time": "2023-03-13T15:37:17.897Z"
   },
   {
    "duration": 13,
    "start_time": "2023-03-13T15:37:17.908Z"
   },
   {
    "duration": 27,
    "start_time": "2023-03-13T15:37:17.923Z"
   },
   {
    "duration": 748,
    "start_time": "2023-03-13T15:37:17.951Z"
   },
   {
    "duration": 253,
    "start_time": "2023-03-13T15:37:18.700Z"
   },
   {
    "duration": 191,
    "start_time": "2023-03-13T15:37:18.955Z"
   },
   {
    "duration": 265,
    "start_time": "2023-03-13T15:37:19.148Z"
   },
   {
    "duration": 297,
    "start_time": "2023-03-13T15:37:19.415Z"
   },
   {
    "duration": 7,
    "start_time": "2023-03-13T15:37:19.716Z"
   },
   {
    "duration": 28,
    "start_time": "2023-03-13T15:37:19.725Z"
   },
   {
    "duration": 941,
    "start_time": "2023-03-13T15:37:19.755Z"
   },
   {
    "duration": 3,
    "start_time": "2023-03-13T15:37:20.698Z"
   },
   {
    "duration": 177,
    "start_time": "2023-03-13T15:37:20.703Z"
   },
   {
    "duration": 5,
    "start_time": "2023-03-13T15:37:20.881Z"
   },
   {
    "duration": 451,
    "start_time": "2023-03-13T15:37:20.892Z"
   },
   {
    "duration": 119,
    "start_time": "2023-03-13T15:51:12.185Z"
   },
   {
    "duration": 5,
    "start_time": "2023-03-13T15:51:16.143Z"
   },
   {
    "duration": 4,
    "start_time": "2023-03-13T15:51:16.624Z"
   },
   {
    "duration": 70,
    "start_time": "2023-03-13T15:51:18.039Z"
   },
   {
    "duration": 59,
    "start_time": "2023-03-13T15:52:20.044Z"
   },
   {
    "duration": 63,
    "start_time": "2023-03-13T15:52:24.069Z"
   },
   {
    "duration": 39,
    "start_time": "2023-03-13T15:52:31.919Z"
   },
   {
    "duration": 266,
    "start_time": "2023-03-13T15:53:22.550Z"
   },
   {
    "duration": 22,
    "start_time": "2023-03-13T15:57:35.836Z"
   },
   {
    "duration": 14,
    "start_time": "2023-03-13T15:57:41.871Z"
   },
   {
    "duration": 10,
    "start_time": "2023-03-13T15:57:54.844Z"
   },
   {
    "duration": 62,
    "start_time": "2023-03-13T15:58:14.697Z"
   },
   {
    "duration": 77,
    "start_time": "2023-03-13T15:58:24.026Z"
   },
   {
    "duration": 9,
    "start_time": "2023-03-13T15:58:38.324Z"
   },
   {
    "duration": 11,
    "start_time": "2023-03-13T15:59:23.921Z"
   },
   {
    "duration": 6,
    "start_time": "2023-03-13T16:04:55.116Z"
   },
   {
    "duration": 16,
    "start_time": "2023-03-13T16:06:20.421Z"
   },
   {
    "duration": 9,
    "start_time": "2023-03-13T16:07:48.312Z"
   },
   {
    "duration": 74,
    "start_time": "2023-03-13T16:08:18.828Z"
   },
   {
    "duration": 65,
    "start_time": "2023-03-13T16:08:24.859Z"
   },
   {
    "duration": 100,
    "start_time": "2023-03-13T16:08:32.747Z"
   },
   {
    "duration": 71,
    "start_time": "2023-03-13T16:08:36.838Z"
   },
   {
    "duration": 59,
    "start_time": "2023-03-13T16:08:41.925Z"
   },
   {
    "duration": 83,
    "start_time": "2023-03-13T16:08:46.056Z"
   },
   {
    "duration": 12,
    "start_time": "2023-03-13T16:08:49.500Z"
   },
   {
    "duration": 15,
    "start_time": "2023-03-13T16:14:37.900Z"
   },
   {
    "duration": 14,
    "start_time": "2023-03-13T16:15:10.408Z"
   },
   {
    "duration": 4,
    "start_time": "2023-03-13T16:15:18.831Z"
   },
   {
    "duration": 113,
    "start_time": "2023-03-13T16:40:44.429Z"
   },
   {
    "duration": 2944,
    "start_time": "2023-03-13T16:40:58.941Z"
   },
   {
    "duration": 69,
    "start_time": "2023-03-13T16:41:08.759Z"
   },
   {
    "duration": 3314,
    "start_time": "2023-03-13T16:41:13.666Z"
   },
   {
    "duration": 139,
    "start_time": "2023-03-13T16:43:36.047Z"
   },
   {
    "duration": 31,
    "start_time": "2023-03-13T16:45:47.166Z"
   },
   {
    "duration": 1096,
    "start_time": "2023-03-13T16:49:08.456Z"
   },
   {
    "duration": 5699,
    "start_time": "2023-03-13T16:49:43.661Z"
   },
   {
    "duration": 2347,
    "start_time": "2023-03-13T16:50:10.838Z"
   },
   {
    "duration": 48952,
    "start_time": "2023-03-13T16:50:23.975Z"
   },
   {
    "duration": 82,
    "start_time": "2023-03-13T16:52:38.038Z"
   },
   {
    "duration": 1911,
    "start_time": "2023-03-13T16:52:48.571Z"
   },
   {
    "duration": 51,
    "start_time": "2023-03-13T16:56:09.803Z"
   },
   {
    "duration": 39081,
    "start_time": "2023-03-13T16:59:11.734Z"
   },
   {
    "duration": 5016809,
    "start_time": "2023-03-13T17:00:08.310Z"
   },
   {
    "duration": 1559,
    "start_time": "2023-03-14T06:19:46.226Z"
   },
   {
    "duration": 2,
    "start_time": "2023-03-14T06:19:47.787Z"
   },
   {
    "duration": 144,
    "start_time": "2023-03-14T06:19:47.791Z"
   },
   {
    "duration": 10,
    "start_time": "2023-03-14T06:19:47.937Z"
   },
   {
    "duration": 7,
    "start_time": "2023-03-14T06:19:47.949Z"
   },
   {
    "duration": 7,
    "start_time": "2023-03-14T06:19:47.957Z"
   },
   {
    "duration": 19,
    "start_time": "2023-03-14T06:19:47.965Z"
   },
   {
    "duration": 17,
    "start_time": "2023-03-14T06:19:47.985Z"
   },
   {
    "duration": 684,
    "start_time": "2023-03-14T06:19:48.003Z"
   },
   {
    "duration": 214,
    "start_time": "2023-03-14T06:19:48.690Z"
   },
   {
    "duration": 161,
    "start_time": "2023-03-14T06:19:48.906Z"
   },
   {
    "duration": 164,
    "start_time": "2023-03-14T06:19:49.069Z"
   },
   {
    "duration": 259,
    "start_time": "2023-03-14T06:19:49.235Z"
   },
   {
    "duration": 7,
    "start_time": "2023-03-14T06:19:49.496Z"
   },
   {
    "duration": 26,
    "start_time": "2023-03-14T06:19:49.504Z"
   },
   {
    "duration": 930,
    "start_time": "2023-03-14T06:19:49.532Z"
   },
   {
    "duration": 3,
    "start_time": "2023-03-14T06:19:50.464Z"
   },
   {
    "duration": 135,
    "start_time": "2023-03-14T06:19:50.468Z"
   },
   {
    "duration": 4,
    "start_time": "2023-03-14T06:19:50.605Z"
   },
   {
    "duration": 280,
    "start_time": "2023-03-14T06:19:50.610Z"
   },
   {
    "duration": 4,
    "start_time": "2023-03-14T06:19:50.891Z"
   },
   {
    "duration": 6,
    "start_time": "2023-03-14T06:19:50.897Z"
   },
   {
    "duration": 50,
    "start_time": "2023-03-14T06:19:50.905Z"
   },
   {
    "duration": 6,
    "start_time": "2023-03-14T06:19:50.956Z"
   },
   {
    "duration": 10,
    "start_time": "2023-03-14T06:19:50.963Z"
   },
   {
    "duration": 9,
    "start_time": "2023-03-14T06:19:50.974Z"
   },
   {
    "duration": 16,
    "start_time": "2023-03-14T06:19:50.984Z"
   },
   {
    "duration": 1437,
    "start_time": "2023-03-14T06:19:51.003Z"
   },
   {
    "duration": 110,
    "start_time": "2023-03-14T06:19:52.532Z"
   },
   {
    "duration": 36214,
    "start_time": "2023-03-14T06:19:52.644Z"
   },
   {
    "duration": 1356,
    "start_time": "2023-03-14T06:20:28.860Z"
   },
   {
    "duration": 38,
    "start_time": "2023-03-14T06:20:30.218Z"
   },
   {
    "duration": 82281,
    "start_time": "2023-03-14T06:20:30.258Z"
   },
   {
    "duration": 164,
    "start_time": "2023-03-14T06:21:52.540Z"
   },
   {
    "duration": 0,
    "start_time": "2023-03-14T06:21:52.705Z"
   },
   {
    "duration": 49,
    "start_time": "2023-03-14T12:45:19.844Z"
   },
   {
    "duration": 1501,
    "start_time": "2023-03-14T12:45:27.591Z"
   },
   {
    "duration": 3,
    "start_time": "2023-03-14T12:45:29.093Z"
   },
   {
    "duration": 175,
    "start_time": "2023-03-14T12:45:29.098Z"
   },
   {
    "duration": 11,
    "start_time": "2023-03-14T12:45:29.275Z"
   },
   {
    "duration": 5,
    "start_time": "2023-03-14T12:45:29.289Z"
   },
   {
    "duration": 6,
    "start_time": "2023-03-14T12:45:29.295Z"
   },
   {
    "duration": 10,
    "start_time": "2023-03-14T12:45:29.303Z"
   },
   {
    "duration": 11,
    "start_time": "2023-03-14T12:45:29.315Z"
   },
   {
    "duration": 598,
    "start_time": "2023-03-14T12:45:29.328Z"
   },
   {
    "duration": 203,
    "start_time": "2023-03-14T12:45:29.928Z"
   },
   {
    "duration": 146,
    "start_time": "2023-03-14T12:45:30.133Z"
   },
   {
    "duration": 150,
    "start_time": "2023-03-14T12:45:30.281Z"
   },
   {
    "duration": 270,
    "start_time": "2023-03-14T12:45:30.433Z"
   },
   {
    "duration": 7,
    "start_time": "2023-03-14T12:45:30.706Z"
   },
   {
    "duration": 52,
    "start_time": "2023-03-14T12:45:30.714Z"
   },
   {
    "duration": 929,
    "start_time": "2023-03-14T12:45:30.768Z"
   },
   {
    "duration": 3,
    "start_time": "2023-03-14T12:45:31.699Z"
   },
   {
    "duration": 137,
    "start_time": "2023-03-14T12:45:31.703Z"
   },
   {
    "duration": 4,
    "start_time": "2023-03-14T12:45:31.842Z"
   },
   {
    "duration": 431,
    "start_time": "2023-03-14T12:45:31.847Z"
   },
   {
    "duration": 4,
    "start_time": "2023-03-14T12:45:32.279Z"
   },
   {
    "duration": 71,
    "start_time": "2023-03-14T12:45:32.284Z"
   },
   {
    "duration": 40,
    "start_time": "2023-03-14T12:45:32.356Z"
   },
   {
    "duration": 5,
    "start_time": "2023-03-14T12:45:32.398Z"
   },
   {
    "duration": 55,
    "start_time": "2023-03-14T12:45:32.404Z"
   },
   {
    "duration": 6,
    "start_time": "2023-03-14T12:45:32.461Z"
   },
   {
    "duration": 6,
    "start_time": "2023-03-14T12:45:32.468Z"
   },
   {
    "duration": 1680,
    "start_time": "2023-03-14T12:45:32.475Z"
   },
   {
    "duration": 204,
    "start_time": "2023-03-14T12:45:34.157Z"
   },
   {
    "duration": 41516,
    "start_time": "2023-03-14T12:45:34.363Z"
   },
   {
    "duration": 1503,
    "start_time": "2023-03-14T12:46:15.881Z"
   },
   {
    "duration": 27,
    "start_time": "2023-03-14T12:46:17.385Z"
   },
   {
    "duration": 105245,
    "start_time": "2023-03-14T12:46:17.414Z"
   },
   {
    "duration": 703,
    "start_time": "2023-03-14T12:48:02.660Z"
   },
   {
    "duration": 8,
    "start_time": "2023-03-14T12:48:03.365Z"
   },
   {
    "duration": 6,
    "start_time": "2023-03-14T13:12:36.924Z"
   },
   {
    "duration": 11,
    "start_time": "2023-03-14T13:13:37.734Z"
   },
   {
    "duration": 132,
    "start_time": "2023-03-14T13:14:12.543Z"
   },
   {
    "duration": 80,
    "start_time": "2023-03-14T13:15:15.877Z"
   },
   {
    "duration": 7,
    "start_time": "2023-03-14T13:15:23.475Z"
   },
   {
    "duration": 1806,
    "start_time": "2023-03-15T07:31:31.358Z"
   },
   {
    "duration": 3,
    "start_time": "2023-03-15T07:31:33.165Z"
   },
   {
    "duration": 227,
    "start_time": "2023-03-15T07:31:33.169Z"
   },
   {
    "duration": 10,
    "start_time": "2023-03-15T07:31:33.398Z"
   },
   {
    "duration": 5,
    "start_time": "2023-03-15T07:31:33.410Z"
   },
   {
    "duration": 7,
    "start_time": "2023-03-15T07:31:33.416Z"
   },
   {
    "duration": 12,
    "start_time": "2023-03-15T07:31:33.425Z"
   },
   {
    "duration": 7,
    "start_time": "2023-03-15T07:31:36.560Z"
   },
   {
    "duration": 1576,
    "start_time": "2023-03-16T17:29:37.812Z"
   },
   {
    "duration": 3,
    "start_time": "2023-03-16T17:29:39.390Z"
   },
   {
    "duration": 199,
    "start_time": "2023-03-16T17:29:39.394Z"
   },
   {
    "duration": 13,
    "start_time": "2023-03-16T17:29:39.595Z"
   },
   {
    "duration": 5,
    "start_time": "2023-03-16T17:29:39.610Z"
   },
   {
    "duration": 6,
    "start_time": "2023-03-16T17:29:39.617Z"
   },
   {
    "duration": 10,
    "start_time": "2023-03-16T17:29:39.625Z"
   },
   {
    "duration": 12,
    "start_time": "2023-03-16T17:29:39.637Z"
   },
   {
    "duration": 907,
    "start_time": "2023-03-16T17:29:39.651Z"
   },
   {
    "duration": 480,
    "start_time": "2023-03-16T17:29:40.559Z"
   },
   {
    "duration": 305,
    "start_time": "2023-03-16T17:29:41.041Z"
   },
   {
    "duration": 304,
    "start_time": "2023-03-16T17:29:41.347Z"
   },
   {
    "duration": 517,
    "start_time": "2023-03-16T17:29:41.653Z"
   },
   {
    "duration": 7,
    "start_time": "2023-03-16T17:29:42.224Z"
   },
   {
    "duration": 8,
    "start_time": "2023-03-16T17:29:42.232Z"
   },
   {
    "duration": 966,
    "start_time": "2023-03-16T17:29:42.242Z"
   },
   {
    "duration": 3,
    "start_time": "2023-03-16T17:29:43.209Z"
   },
   {
    "duration": 131,
    "start_time": "2023-03-16T17:29:43.213Z"
   },
   {
    "duration": 4,
    "start_time": "2023-03-16T17:29:43.345Z"
   },
   {
    "duration": 284,
    "start_time": "2023-03-16T17:29:43.351Z"
   },
   {
    "duration": 5,
    "start_time": "2023-03-16T17:29:43.636Z"
   },
   {
    "duration": 4,
    "start_time": "2023-03-16T17:29:43.642Z"
   },
   {
    "duration": 45,
    "start_time": "2023-03-16T17:29:43.648Z"
   },
   {
    "duration": 6,
    "start_time": "2023-03-16T17:29:43.694Z"
   },
   {
    "duration": 7,
    "start_time": "2023-03-16T17:29:43.722Z"
   },
   {
    "duration": 7,
    "start_time": "2023-03-16T17:29:43.730Z"
   },
   {
    "duration": 2,
    "start_time": "2023-03-16T17:29:43.739Z"
   },
   {
    "duration": 883,
    "start_time": "2023-03-16T17:29:43.743Z"
   },
   {
    "duration": 201,
    "start_time": "2023-03-16T17:29:44.628Z"
   },
   {
    "duration": 34260,
    "start_time": "2023-03-16T17:29:44.832Z"
   },
   {
    "duration": 1276,
    "start_time": "2023-03-16T17:30:19.094Z"
   },
   {
    "duration": 51,
    "start_time": "2023-03-16T17:30:20.372Z"
   },
   {
    "duration": 91904,
    "start_time": "2023-03-16T17:30:20.425Z"
   },
   {
    "duration": 528,
    "start_time": "2023-03-16T17:31:52.331Z"
   },
   {
    "duration": 8,
    "start_time": "2023-03-16T17:31:52.861Z"
   },
   {
    "duration": 8,
    "start_time": "2023-03-16T17:31:52.923Z"
   },
   {
    "duration": 407,
    "start_time": "2023-03-16T17:31:52.934Z"
   },
   {
    "duration": 123,
    "start_time": "2023-03-16T17:32:17.557Z"
   },
   {
    "duration": 224,
    "start_time": "2023-03-16T17:32:22.085Z"
   },
   {
    "duration": 117,
    "start_time": "2023-03-16T17:33:27.810Z"
   },
   {
    "duration": 141,
    "start_time": "2023-03-16T17:33:30.925Z"
   },
   {
    "duration": 1385,
    "start_time": "2023-03-16T17:33:35.902Z"
   },
   {
    "duration": 3,
    "start_time": "2023-03-16T17:33:37.289Z"
   },
   {
    "duration": 99,
    "start_time": "2023-03-16T17:33:37.294Z"
   },
   {
    "duration": 12,
    "start_time": "2023-03-16T17:33:37.394Z"
   },
   {
    "duration": 5,
    "start_time": "2023-03-16T17:33:37.409Z"
   },
   {
    "duration": 7,
    "start_time": "2023-03-16T17:33:37.415Z"
   },
   {
    "duration": 10,
    "start_time": "2023-03-16T17:33:37.424Z"
   },
   {
    "duration": 12,
    "start_time": "2023-03-16T17:33:37.435Z"
   },
   {
    "duration": 670,
    "start_time": "2023-03-16T17:33:37.449Z"
   },
   {
    "duration": 310,
    "start_time": "2023-03-16T17:33:38.122Z"
   },
   {
    "duration": 317,
    "start_time": "2023-03-16T17:33:38.434Z"
   },
   {
    "duration": 314,
    "start_time": "2023-03-16T17:33:38.753Z"
   },
   {
    "duration": 529,
    "start_time": "2023-03-16T17:33:39.124Z"
   },
   {
    "duration": 6,
    "start_time": "2023-03-16T17:33:39.656Z"
   },
   {
    "duration": 65,
    "start_time": "2023-03-16T17:33:39.664Z"
   },
   {
    "duration": 1100,
    "start_time": "2023-03-16T17:33:39.731Z"
   },
   {
    "duration": 2,
    "start_time": "2023-03-16T17:33:40.833Z"
   },
   {
    "duration": 137,
    "start_time": "2023-03-16T17:33:40.837Z"
   },
   {
    "duration": 7,
    "start_time": "2023-03-16T17:33:40.977Z"
   },
   {
    "duration": 347,
    "start_time": "2023-03-16T17:33:40.987Z"
   },
   {
    "duration": 4,
    "start_time": "2023-03-16T17:33:41.336Z"
   },
   {
    "duration": 7,
    "start_time": "2023-03-16T17:33:41.342Z"
   },
   {
    "duration": 58,
    "start_time": "2023-03-16T17:33:41.350Z"
   },
   {
    "duration": 6,
    "start_time": "2023-03-16T17:33:41.409Z"
   },
   {
    "duration": 5,
    "start_time": "2023-03-16T17:33:41.423Z"
   },
   {
    "duration": 7,
    "start_time": "2023-03-16T17:33:41.430Z"
   },
   {
    "duration": 15,
    "start_time": "2023-03-16T17:33:41.438Z"
   },
   {
    "duration": 1370,
    "start_time": "2023-03-16T17:33:41.455Z"
   },
   {
    "duration": 103,
    "start_time": "2023-03-16T17:33:42.827Z"
   },
   {
    "duration": 1966,
    "start_time": "2023-03-16T17:34:15.698Z"
   },
   {
    "duration": 58,
    "start_time": "2023-03-16T17:34:17.666Z"
   },
   {
    "duration": 102,
    "start_time": "2023-03-16T17:34:17.726Z"
   },
   {
    "duration": 10,
    "start_time": "2023-03-16T17:34:17.831Z"
   },
   {
    "duration": 5,
    "start_time": "2023-03-16T17:34:17.842Z"
   },
   {
    "duration": 16,
    "start_time": "2023-03-16T17:34:17.849Z"
   },
   {
    "duration": 66,
    "start_time": "2023-03-16T17:34:17.867Z"
   },
   {
    "duration": 21,
    "start_time": "2023-03-16T17:34:17.935Z"
   },
   {
    "duration": 842,
    "start_time": "2023-03-16T17:34:17.958Z"
   },
   {
    "duration": 215,
    "start_time": "2023-03-16T17:34:18.803Z"
   },
   {
    "duration": 158,
    "start_time": "2023-03-16T17:34:19.022Z"
   },
   {
    "duration": 167,
    "start_time": "2023-03-16T17:34:19.182Z"
   },
   {
    "duration": 264,
    "start_time": "2023-03-16T17:34:19.352Z"
   },
   {
    "duration": 10,
    "start_time": "2023-03-16T17:34:19.618Z"
   },
   {
    "duration": 10,
    "start_time": "2023-03-16T17:34:19.630Z"
   },
   {
    "duration": 915,
    "start_time": "2023-03-16T17:34:19.641Z"
   },
   {
    "duration": 3,
    "start_time": "2023-03-16T17:34:20.557Z"
   },
   {
    "duration": 143,
    "start_time": "2023-03-16T17:34:20.562Z"
   },
   {
    "duration": 3,
    "start_time": "2023-03-16T17:34:20.707Z"
   },
   {
    "duration": 354,
    "start_time": "2023-03-16T17:34:20.712Z"
   },
   {
    "duration": 4,
    "start_time": "2023-03-16T17:34:21.068Z"
   },
   {
    "duration": 17,
    "start_time": "2023-03-16T17:34:21.074Z"
   },
   {
    "duration": 55,
    "start_time": "2023-03-16T17:34:21.093Z"
   },
   {
    "duration": 6,
    "start_time": "2023-03-16T17:34:21.150Z"
   },
   {
    "duration": 11,
    "start_time": "2023-03-16T17:34:21.157Z"
   },
   {
    "duration": 7,
    "start_time": "2023-03-16T17:34:21.169Z"
   },
   {
    "duration": 5,
    "start_time": "2023-03-16T17:34:21.177Z"
   },
   {
    "duration": 845,
    "start_time": "2023-03-16T17:34:21.185Z"
   },
   {
    "duration": 100,
    "start_time": "2023-03-16T17:34:22.032Z"
   },
   {
    "duration": 34232,
    "start_time": "2023-03-16T17:34:22.225Z"
   },
   {
    "duration": 1278,
    "start_time": "2023-03-16T17:34:56.458Z"
   },
   {
    "duration": 34,
    "start_time": "2023-03-16T17:34:57.737Z"
   },
   {
    "duration": 86458,
    "start_time": "2023-03-16T17:34:57.773Z"
   },
   {
    "duration": 794,
    "start_time": "2023-03-16T17:36:24.232Z"
   },
   {
    "duration": 8,
    "start_time": "2023-03-16T17:36:25.028Z"
   },
   {
    "duration": 18,
    "start_time": "2023-03-16T17:36:25.037Z"
   },
   {
    "duration": 270,
    "start_time": "2023-03-16T17:38:48.238Z"
   },
   {
    "duration": 209,
    "start_time": "2023-03-16T17:46:11.265Z"
   },
   {
    "duration": 205,
    "start_time": "2023-03-16T17:46:36.961Z"
   },
   {
    "duration": 1721,
    "start_time": "2023-03-16T17:46:42.146Z"
   },
   {
    "duration": 3,
    "start_time": "2023-03-16T17:46:43.923Z"
   },
   {
    "duration": 110,
    "start_time": "2023-03-16T17:46:43.927Z"
   },
   {
    "duration": 11,
    "start_time": "2023-03-16T17:46:44.039Z"
   },
   {
    "duration": 5,
    "start_time": "2023-03-16T17:46:44.052Z"
   },
   {
    "duration": 65,
    "start_time": "2023-03-16T17:46:44.059Z"
   },
   {
    "duration": 18,
    "start_time": "2023-03-16T17:46:44.126Z"
   },
   {
    "duration": 14,
    "start_time": "2023-03-16T17:46:44.145Z"
   },
   {
    "duration": 1018,
    "start_time": "2023-03-16T17:46:44.160Z"
   },
   {
    "duration": 233,
    "start_time": "2023-03-16T17:46:45.180Z"
   },
   {
    "duration": 169,
    "start_time": "2023-03-16T17:46:45.422Z"
   },
   {
    "duration": 174,
    "start_time": "2023-03-16T17:46:45.592Z"
   },
   {
    "duration": 281,
    "start_time": "2023-03-16T17:46:45.768Z"
   },
   {
    "duration": 6,
    "start_time": "2023-03-16T17:46:46.051Z"
   },
   {
    "duration": 11,
    "start_time": "2023-03-16T17:46:46.059Z"
   },
   {
    "duration": 884,
    "start_time": "2023-03-16T17:46:46.072Z"
   },
   {
    "duration": 3,
    "start_time": "2023-03-16T17:46:46.957Z"
   },
   {
    "duration": 220,
    "start_time": "2023-03-16T17:46:46.961Z"
   },
   {
    "duration": 0,
    "start_time": "2023-03-16T17:46:47.183Z"
   },
   {
    "duration": 0,
    "start_time": "2023-03-16T17:46:47.184Z"
   },
   {
    "duration": 0,
    "start_time": "2023-03-16T17:46:47.185Z"
   },
   {
    "duration": 0,
    "start_time": "2023-03-16T17:46:47.186Z"
   },
   {
    "duration": 0,
    "start_time": "2023-03-16T17:46:47.187Z"
   },
   {
    "duration": 0,
    "start_time": "2023-03-16T17:46:47.188Z"
   },
   {
    "duration": 0,
    "start_time": "2023-03-16T17:46:47.189Z"
   },
   {
    "duration": 0,
    "start_time": "2023-03-16T17:46:47.190Z"
   },
   {
    "duration": 0,
    "start_time": "2023-03-16T17:46:47.191Z"
   },
   {
    "duration": 0,
    "start_time": "2023-03-16T17:46:47.192Z"
   },
   {
    "duration": 0,
    "start_time": "2023-03-16T17:46:47.193Z"
   },
   {
    "duration": 0,
    "start_time": "2023-03-16T17:46:47.193Z"
   },
   {
    "duration": 0,
    "start_time": "2023-03-16T17:46:47.195Z"
   },
   {
    "duration": 0,
    "start_time": "2023-03-16T17:46:47.195Z"
   },
   {
    "duration": 0,
    "start_time": "2023-03-16T17:46:47.196Z"
   },
   {
    "duration": 0,
    "start_time": "2023-03-16T17:46:47.223Z"
   },
   {
    "duration": 0,
    "start_time": "2023-03-16T17:46:47.225Z"
   },
   {
    "duration": 0,
    "start_time": "2023-03-16T17:46:47.226Z"
   },
   {
    "duration": 120,
    "start_time": "2023-03-16T17:47:18.489Z"
   },
   {
    "duration": 137,
    "start_time": "2023-03-16T17:47:23.360Z"
   },
   {
    "duration": 309,
    "start_time": "2023-03-16T17:47:39.153Z"
   },
   {
    "duration": 118,
    "start_time": "2023-03-16T17:48:04.713Z"
   },
   {
    "duration": 142,
    "start_time": "2023-03-16T17:48:14.810Z"
   },
   {
    "duration": 201,
    "start_time": "2023-03-16T17:48:58.505Z"
   },
   {
    "duration": 205,
    "start_time": "2023-03-16T17:49:04.183Z"
   },
   {
    "duration": 138,
    "start_time": "2023-03-16T17:49:20.720Z"
   },
   {
    "duration": 566,
    "start_time": "2023-03-16T17:51:06.874Z"
   },
   {
    "duration": 4,
    "start_time": "2023-03-16T17:56:37.846Z"
   },
   {
    "duration": 72,
    "start_time": "2023-03-16T18:04:17.769Z"
   },
   {
    "duration": 71,
    "start_time": "2023-03-16T18:04:23.457Z"
   },
   {
    "duration": 10,
    "start_time": "2023-03-16T18:10:50.195Z"
   },
   {
    "duration": 173,
    "start_time": "2023-03-16T18:20:17.763Z"
   },
   {
    "duration": 30,
    "start_time": "2023-03-16T18:22:07.841Z"
   },
   {
    "duration": 1508,
    "start_time": "2023-03-16T18:22:41.962Z"
   },
   {
    "duration": 5,
    "start_time": "2023-03-16T18:22:43.473Z"
   },
   {
    "duration": 106,
    "start_time": "2023-03-16T18:22:43.480Z"
   },
   {
    "duration": 11,
    "start_time": "2023-03-16T18:22:43.588Z"
   },
   {
    "duration": 8,
    "start_time": "2023-03-16T18:22:43.602Z"
   },
   {
    "duration": 9,
    "start_time": "2023-03-16T18:22:43.611Z"
   },
   {
    "duration": 16,
    "start_time": "2023-03-16T18:22:43.621Z"
   },
   {
    "duration": 14,
    "start_time": "2023-03-16T18:22:43.639Z"
   },
   {
    "duration": 737,
    "start_time": "2023-03-16T18:22:43.655Z"
   },
   {
    "duration": 215,
    "start_time": "2023-03-16T18:22:44.395Z"
   },
   {
    "duration": 210,
    "start_time": "2023-03-16T18:22:44.612Z"
   },
   {
    "duration": 177,
    "start_time": "2023-03-16T18:22:44.825Z"
   },
   {
    "duration": 300,
    "start_time": "2023-03-16T18:22:45.004Z"
   },
   {
    "duration": 18,
    "start_time": "2023-03-16T18:22:45.306Z"
   },
   {
    "duration": 22,
    "start_time": "2023-03-16T18:22:45.326Z"
   },
   {
    "duration": 926,
    "start_time": "2023-03-16T18:22:45.350Z"
   },
   {
    "duration": 554,
    "start_time": "2023-03-16T18:22:46.278Z"
   },
   {
    "duration": 0,
    "start_time": "2023-03-16T18:22:46.835Z"
   },
   {
    "duration": 0,
    "start_time": "2023-03-16T18:22:46.836Z"
   },
   {
    "duration": 0,
    "start_time": "2023-03-16T18:22:46.837Z"
   },
   {
    "duration": 0,
    "start_time": "2023-03-16T18:22:46.838Z"
   },
   {
    "duration": 0,
    "start_time": "2023-03-16T18:22:46.840Z"
   },
   {
    "duration": 0,
    "start_time": "2023-03-16T18:22:46.841Z"
   },
   {
    "duration": 0,
    "start_time": "2023-03-16T18:22:46.843Z"
   },
   {
    "duration": 0,
    "start_time": "2023-03-16T18:22:46.845Z"
   },
   {
    "duration": 0,
    "start_time": "2023-03-16T18:22:46.846Z"
   },
   {
    "duration": 0,
    "start_time": "2023-03-16T18:22:46.848Z"
   },
   {
    "duration": 0,
    "start_time": "2023-03-16T18:22:46.849Z"
   },
   {
    "duration": 0,
    "start_time": "2023-03-16T18:22:46.850Z"
   },
   {
    "duration": 0,
    "start_time": "2023-03-16T18:22:46.851Z"
   },
   {
    "duration": 0,
    "start_time": "2023-03-16T18:22:46.854Z"
   },
   {
    "duration": 0,
    "start_time": "2023-03-16T18:22:46.855Z"
   },
   {
    "duration": 0,
    "start_time": "2023-03-16T18:22:46.859Z"
   },
   {
    "duration": 0,
    "start_time": "2023-03-16T18:22:46.861Z"
   },
   {
    "duration": 0,
    "start_time": "2023-03-16T18:22:46.862Z"
   },
   {
    "duration": 0,
    "start_time": "2023-03-16T18:22:46.864Z"
   },
   {
    "duration": 0,
    "start_time": "2023-03-16T18:22:46.865Z"
   },
   {
    "duration": 0,
    "start_time": "2023-03-16T18:22:46.924Z"
   },
   {
    "duration": 0,
    "start_time": "2023-03-16T18:22:46.926Z"
   },
   {
    "duration": 3,
    "start_time": "2023-03-16T18:23:32.255Z"
   },
   {
    "duration": 1456,
    "start_time": "2023-03-16T18:23:38.491Z"
   },
   {
    "duration": 3,
    "start_time": "2023-03-16T18:23:39.949Z"
   },
   {
    "duration": 111,
    "start_time": "2023-03-16T18:23:39.953Z"
   },
   {
    "duration": 11,
    "start_time": "2023-03-16T18:23:40.066Z"
   },
   {
    "duration": 7,
    "start_time": "2023-03-16T18:23:40.078Z"
   },
   {
    "duration": 7,
    "start_time": "2023-03-16T18:23:40.086Z"
   },
   {
    "duration": 11,
    "start_time": "2023-03-16T18:23:40.094Z"
   },
   {
    "duration": 13,
    "start_time": "2023-03-16T18:23:40.106Z"
   },
   {
    "duration": 1139,
    "start_time": "2023-03-16T18:23:40.121Z"
   },
   {
    "duration": 478,
    "start_time": "2023-03-16T18:23:41.262Z"
   },
   {
    "duration": 323,
    "start_time": "2023-03-16T18:23:41.741Z"
   },
   {
    "duration": 366,
    "start_time": "2023-03-16T18:23:42.066Z"
   },
   {
    "duration": 361,
    "start_time": "2023-03-16T18:23:42.434Z"
   },
   {
    "duration": 6,
    "start_time": "2023-03-16T18:23:42.797Z"
   },
   {
    "duration": 25,
    "start_time": "2023-03-16T18:23:42.804Z"
   },
   {
    "duration": 2,
    "start_time": "2023-03-16T18:23:42.831Z"
   },
   {
    "duration": 150,
    "start_time": "2023-03-16T18:23:42.834Z"
   },
   {
    "duration": 0,
    "start_time": "2023-03-16T18:23:42.987Z"
   },
   {
    "duration": 0,
    "start_time": "2023-03-16T18:23:42.987Z"
   },
   {
    "duration": 0,
    "start_time": "2023-03-16T18:23:42.989Z"
   },
   {
    "duration": 0,
    "start_time": "2023-03-16T18:23:42.990Z"
   },
   {
    "duration": 0,
    "start_time": "2023-03-16T18:23:42.991Z"
   },
   {
    "duration": 0,
    "start_time": "2023-03-16T18:23:42.992Z"
   },
   {
    "duration": 0,
    "start_time": "2023-03-16T18:23:42.993Z"
   },
   {
    "duration": 0,
    "start_time": "2023-03-16T18:23:42.995Z"
   },
   {
    "duration": 0,
    "start_time": "2023-03-16T18:23:42.996Z"
   },
   {
    "duration": 0,
    "start_time": "2023-03-16T18:23:42.997Z"
   },
   {
    "duration": 0,
    "start_time": "2023-03-16T18:23:43.023Z"
   },
   {
    "duration": 0,
    "start_time": "2023-03-16T18:23:43.025Z"
   },
   {
    "duration": 0,
    "start_time": "2023-03-16T18:23:43.026Z"
   },
   {
    "duration": 0,
    "start_time": "2023-03-16T18:23:43.028Z"
   },
   {
    "duration": 0,
    "start_time": "2023-03-16T18:23:43.029Z"
   },
   {
    "duration": 0,
    "start_time": "2023-03-16T18:23:43.030Z"
   },
   {
    "duration": 0,
    "start_time": "2023-03-16T18:23:43.031Z"
   },
   {
    "duration": 0,
    "start_time": "2023-03-16T18:23:43.032Z"
   },
   {
    "duration": 0,
    "start_time": "2023-03-16T18:23:43.033Z"
   },
   {
    "duration": 0,
    "start_time": "2023-03-16T18:23:43.034Z"
   },
   {
    "duration": 0,
    "start_time": "2023-03-16T18:23:43.035Z"
   },
   {
    "duration": 0,
    "start_time": "2023-03-16T18:23:43.036Z"
   },
   {
    "duration": 24,
    "start_time": "2023-03-16T18:28:52.928Z"
   },
   {
    "duration": 24,
    "start_time": "2023-03-16T18:36:53.105Z"
   },
   {
    "duration": 25,
    "start_time": "2023-03-16T18:37:15.184Z"
   },
   {
    "duration": 25,
    "start_time": "2023-03-16T18:38:03.976Z"
   },
   {
    "duration": 19,
    "start_time": "2023-03-16T18:40:46.087Z"
   },
   {
    "duration": 4,
    "start_time": "2023-03-16T18:41:49.551Z"
   },
   {
    "duration": 18,
    "start_time": "2023-03-16T18:42:07.534Z"
   },
   {
    "duration": 446,
    "start_time": "2023-03-16T18:43:43.780Z"
   },
   {
    "duration": 148,
    "start_time": "2023-03-16T18:44:18.192Z"
   },
   {
    "duration": 749,
    "start_time": "2023-03-16T18:44:24.439Z"
   },
   {
    "duration": 1099,
    "start_time": "2023-03-16T18:46:43.967Z"
   },
   {
    "duration": 1002,
    "start_time": "2023-03-16T18:47:12.169Z"
   },
   {
    "duration": 135,
    "start_time": "2023-03-16T19:01:28.200Z"
   },
   {
    "duration": 135,
    "start_time": "2023-03-16T19:01:36.568Z"
   },
   {
    "duration": 1447,
    "start_time": "2023-03-16T19:05:32.346Z"
   },
   {
    "duration": 3,
    "start_time": "2023-03-16T19:05:33.794Z"
   },
   {
    "duration": 88,
    "start_time": "2023-03-16T19:05:33.799Z"
   },
   {
    "duration": 12,
    "start_time": "2023-03-16T19:05:33.888Z"
   },
   {
    "duration": 6,
    "start_time": "2023-03-16T19:05:33.902Z"
   },
   {
    "duration": 7,
    "start_time": "2023-03-16T19:05:33.910Z"
   },
   {
    "duration": 11,
    "start_time": "2023-03-16T19:05:33.918Z"
   },
   {
    "duration": 14,
    "start_time": "2023-03-16T19:05:33.931Z"
   },
   {
    "duration": 717,
    "start_time": "2023-03-16T19:05:33.946Z"
   },
   {
    "duration": 241,
    "start_time": "2023-03-16T19:05:34.664Z"
   },
   {
    "duration": 185,
    "start_time": "2023-03-16T19:05:34.908Z"
   },
   {
    "duration": 207,
    "start_time": "2023-03-16T19:05:35.095Z"
   },
   {
    "duration": 309,
    "start_time": "2023-03-16T19:05:35.304Z"
   },
   {
    "duration": 8,
    "start_time": "2023-03-16T19:05:35.626Z"
   },
   {
    "duration": 11,
    "start_time": "2023-03-16T19:05:35.636Z"
   },
   {
    "duration": 3,
    "start_time": "2023-03-16T19:05:35.649Z"
   },
   {
    "duration": 1250,
    "start_time": "2023-03-16T19:05:35.654Z"
   },
   {
    "duration": 2,
    "start_time": "2023-03-16T19:05:36.906Z"
   },
   {
    "duration": 122,
    "start_time": "2023-03-16T19:05:36.910Z"
   },
   {
    "duration": 0,
    "start_time": "2023-03-16T19:05:37.034Z"
   },
   {
    "duration": 0,
    "start_time": "2023-03-16T19:05:37.035Z"
   },
   {
    "duration": 0,
    "start_time": "2023-03-16T19:05:37.036Z"
   },
   {
    "duration": 0,
    "start_time": "2023-03-16T19:05:37.037Z"
   },
   {
    "duration": 0,
    "start_time": "2023-03-16T19:05:37.039Z"
   },
   {
    "duration": 0,
    "start_time": "2023-03-16T19:05:37.040Z"
   },
   {
    "duration": 0,
    "start_time": "2023-03-16T19:05:37.041Z"
   },
   {
    "duration": 0,
    "start_time": "2023-03-16T19:05:37.043Z"
   },
   {
    "duration": 0,
    "start_time": "2023-03-16T19:05:37.044Z"
   },
   {
    "duration": 0,
    "start_time": "2023-03-16T19:05:37.045Z"
   },
   {
    "duration": 0,
    "start_time": "2023-03-16T19:05:37.046Z"
   },
   {
    "duration": 0,
    "start_time": "2023-03-16T19:05:37.048Z"
   },
   {
    "duration": 0,
    "start_time": "2023-03-16T19:05:37.049Z"
   },
   {
    "duration": 0,
    "start_time": "2023-03-16T19:05:37.051Z"
   },
   {
    "duration": 0,
    "start_time": "2023-03-16T19:05:37.052Z"
   },
   {
    "duration": 0,
    "start_time": "2023-03-16T19:05:37.053Z"
   },
   {
    "duration": 0,
    "start_time": "2023-03-16T19:05:37.054Z"
   },
   {
    "duration": 0,
    "start_time": "2023-03-16T19:05:37.055Z"
   },
   {
    "duration": 0,
    "start_time": "2023-03-16T19:05:37.056Z"
   },
   {
    "duration": 0,
    "start_time": "2023-03-16T19:05:37.057Z"
   },
   {
    "duration": 0,
    "start_time": "2023-03-16T19:05:37.058Z"
   },
   {
    "duration": 1504,
    "start_time": "2023-03-16T19:06:39.751Z"
   },
   {
    "duration": 3,
    "start_time": "2023-03-16T19:06:41.257Z"
   },
   {
    "duration": 82,
    "start_time": "2023-03-16T19:06:41.261Z"
   },
   {
    "duration": 12,
    "start_time": "2023-03-16T19:06:41.344Z"
   },
   {
    "duration": 5,
    "start_time": "2023-03-16T19:06:41.359Z"
   },
   {
    "duration": 7,
    "start_time": "2023-03-16T19:06:41.367Z"
   },
   {
    "duration": 11,
    "start_time": "2023-03-16T19:06:41.376Z"
   },
   {
    "duration": 42,
    "start_time": "2023-03-16T19:06:41.389Z"
   },
   {
    "duration": 708,
    "start_time": "2023-03-16T19:06:41.433Z"
   },
   {
    "duration": 212,
    "start_time": "2023-03-16T19:06:42.142Z"
   },
   {
    "duration": 167,
    "start_time": "2023-03-16T19:06:42.356Z"
   },
   {
    "duration": 161,
    "start_time": "2023-03-16T19:06:42.525Z"
   },
   {
    "duration": 287,
    "start_time": "2023-03-16T19:06:42.687Z"
   },
   {
    "duration": 7,
    "start_time": "2023-03-16T19:06:42.978Z"
   },
   {
    "duration": 28,
    "start_time": "2023-03-16T19:06:42.986Z"
   },
   {
    "duration": 13,
    "start_time": "2023-03-16T19:06:43.016Z"
   },
   {
    "duration": 1225,
    "start_time": "2023-03-16T19:06:43.031Z"
   },
   {
    "duration": 3,
    "start_time": "2023-03-16T19:06:44.258Z"
   },
   {
    "duration": 162,
    "start_time": "2023-03-16T19:06:44.263Z"
   },
   {
    "duration": 131,
    "start_time": "2023-03-16T19:06:44.427Z"
   },
   {
    "duration": 209,
    "start_time": "2023-03-16T19:06:44.559Z"
   },
   {
    "duration": 4,
    "start_time": "2023-03-16T19:06:44.770Z"
   },
   {
    "duration": 311,
    "start_time": "2023-03-16T19:06:44.776Z"
   },
   {
    "duration": 4,
    "start_time": "2023-03-16T19:06:45.089Z"
   },
   {
    "duration": 5,
    "start_time": "2023-03-16T19:06:45.095Z"
   },
   {
    "duration": 61,
    "start_time": "2023-03-16T19:06:45.102Z"
   },
   {
    "duration": 5,
    "start_time": "2023-03-16T19:06:45.164Z"
   },
   {
    "duration": 58,
    "start_time": "2023-03-16T19:06:45.171Z"
   },
   {
    "duration": 7,
    "start_time": "2023-03-16T19:06:45.231Z"
   },
   {
    "duration": 4,
    "start_time": "2023-03-16T19:06:45.240Z"
   },
   {
    "duration": 1980,
    "start_time": "2023-03-16T19:06:45.246Z"
   },
   {
    "duration": 196,
    "start_time": "2023-03-16T19:06:47.229Z"
   },
   {
    "duration": 35365,
    "start_time": "2023-03-16T19:06:47.426Z"
   },
   {
    "duration": 1200,
    "start_time": "2023-03-16T19:07:22.793Z"
   },
   {
    "duration": 41,
    "start_time": "2023-03-16T19:07:23.995Z"
   },
   {
    "duration": 73,
    "start_time": "2023-03-16T19:49:05.090Z"
   },
   {
    "duration": 1841,
    "start_time": "2023-03-16T19:49:07.824Z"
   },
   {
    "duration": 2,
    "start_time": "2023-03-16T19:49:09.667Z"
   },
   {
    "duration": 129,
    "start_time": "2023-03-16T19:49:09.671Z"
   },
   {
    "duration": 12,
    "start_time": "2023-03-16T19:49:09.802Z"
   },
   {
    "duration": 10,
    "start_time": "2023-03-16T19:49:09.816Z"
   },
   {
    "duration": 8,
    "start_time": "2023-03-16T19:49:09.828Z"
   },
   {
    "duration": 13,
    "start_time": "2023-03-16T19:49:09.838Z"
   },
   {
    "duration": 14,
    "start_time": "2023-03-16T19:49:09.853Z"
   },
   {
    "duration": 792,
    "start_time": "2023-03-16T19:49:09.869Z"
   },
   {
    "duration": 220,
    "start_time": "2023-03-16T19:49:10.664Z"
   },
   {
    "duration": 165,
    "start_time": "2023-03-16T19:49:10.885Z"
   },
   {
    "duration": 169,
    "start_time": "2023-03-16T19:49:11.051Z"
   },
   {
    "duration": 293,
    "start_time": "2023-03-16T19:49:11.222Z"
   },
   {
    "duration": 6,
    "start_time": "2023-03-16T19:49:11.516Z"
   },
   {
    "duration": 10,
    "start_time": "2023-03-16T19:49:11.524Z"
   },
   {
    "duration": 11,
    "start_time": "2023-03-16T19:49:11.536Z"
   },
   {
    "duration": 7,
    "start_time": "2023-03-16T19:49:50.219Z"
   },
   {
    "duration": 9,
    "start_time": "2023-03-16T19:50:12.115Z"
   },
   {
    "duration": 13,
    "start_time": "2023-03-16T19:50:31.392Z"
   },
   {
    "duration": 11,
    "start_time": "2023-03-16T19:51:02.310Z"
   },
   {
    "duration": 85,
    "start_time": "2023-03-16T19:51:37.177Z"
   },
   {
    "duration": 18,
    "start_time": "2023-03-16T19:51:44.435Z"
   },
   {
    "duration": 31,
    "start_time": "2023-03-16T19:51:51.680Z"
   },
   {
    "duration": 25,
    "start_time": "2023-03-16T19:51:58.947Z"
   },
   {
    "duration": 9,
    "start_time": "2023-03-16T19:52:29.022Z"
   },
   {
    "duration": 10,
    "start_time": "2023-03-16T19:52:32.675Z"
   },
   {
    "duration": 17,
    "start_time": "2023-03-16T19:52:38.845Z"
   },
   {
    "duration": 9,
    "start_time": "2023-03-16T19:52:45.270Z"
   },
   {
    "duration": 4,
    "start_time": "2023-03-16T19:52:53.930Z"
   },
   {
    "duration": 16,
    "start_time": "2023-03-16T19:52:53.936Z"
   },
   {
    "duration": 85,
    "start_time": "2023-03-16T19:52:53.954Z"
   },
   {
    "duration": 14,
    "start_time": "2023-03-16T19:52:54.042Z"
   },
   {
    "duration": 20,
    "start_time": "2023-03-16T19:52:54.058Z"
   },
   {
    "duration": 35,
    "start_time": "2023-03-16T19:52:54.079Z"
   },
   {
    "duration": 34,
    "start_time": "2023-03-16T19:52:54.116Z"
   },
   {
    "duration": 16,
    "start_time": "2023-03-16T19:52:54.152Z"
   },
   {
    "duration": 741,
    "start_time": "2023-03-16T19:52:54.170Z"
   },
   {
    "duration": 219,
    "start_time": "2023-03-16T19:52:54.913Z"
   },
   {
    "duration": 162,
    "start_time": "2023-03-16T19:52:55.134Z"
   },
   {
    "duration": 191,
    "start_time": "2023-03-16T19:52:55.298Z"
   },
   {
    "duration": 290,
    "start_time": "2023-03-16T19:52:55.491Z"
   },
   {
    "duration": 6,
    "start_time": "2023-03-16T19:52:55.783Z"
   },
   {
    "duration": 12,
    "start_time": "2023-03-16T19:52:55.790Z"
   },
   {
    "duration": 15,
    "start_time": "2023-03-16T19:53:40.532Z"
   },
   {
    "duration": 4,
    "start_time": "2023-03-16T19:54:00.437Z"
   },
   {
    "duration": 51,
    "start_time": "2023-03-16T19:54:00.443Z"
   },
   {
    "duration": 117,
    "start_time": "2023-03-16T19:54:00.496Z"
   },
   {
    "duration": 11,
    "start_time": "2023-03-16T19:54:00.616Z"
   },
   {
    "duration": 33,
    "start_time": "2023-03-16T19:54:00.630Z"
   },
   {
    "duration": 32,
    "start_time": "2023-03-16T19:54:00.666Z"
   },
   {
    "duration": 36,
    "start_time": "2023-03-16T19:54:00.700Z"
   },
   {
    "duration": 33,
    "start_time": "2023-03-16T19:54:00.737Z"
   },
   {
    "duration": 727,
    "start_time": "2023-03-16T19:54:00.772Z"
   },
   {
    "duration": 245,
    "start_time": "2023-03-16T19:54:01.500Z"
   },
   {
    "duration": 179,
    "start_time": "2023-03-16T19:54:01.746Z"
   },
   {
    "duration": 181,
    "start_time": "2023-03-16T19:54:01.926Z"
   },
   {
    "duration": 296,
    "start_time": "2023-03-16T19:54:02.108Z"
   },
   {
    "duration": 6,
    "start_time": "2023-03-16T19:54:02.406Z"
   },
   {
    "duration": 20,
    "start_time": "2023-03-16T19:54:02.414Z"
   },
   {
    "duration": 9,
    "start_time": "2023-03-16T19:58:38.540Z"
   },
   {
    "duration": 5,
    "start_time": "2023-03-16T20:00:50.735Z"
   },
   {
    "duration": 9,
    "start_time": "2023-03-16T20:00:50.742Z"
   },
   {
    "duration": 73,
    "start_time": "2023-03-16T20:00:50.753Z"
   },
   {
    "duration": 10,
    "start_time": "2023-03-16T20:00:50.828Z"
   },
   {
    "duration": 14,
    "start_time": "2023-03-16T20:00:50.840Z"
   },
   {
    "duration": 12,
    "start_time": "2023-03-16T20:00:50.856Z"
   },
   {
    "duration": 15,
    "start_time": "2023-03-16T20:00:50.870Z"
   },
   {
    "duration": 19,
    "start_time": "2023-03-16T20:00:50.887Z"
   },
   {
    "duration": 707,
    "start_time": "2023-03-16T20:00:50.909Z"
   },
   {
    "duration": 230,
    "start_time": "2023-03-16T20:00:51.618Z"
   },
   {
    "duration": 178,
    "start_time": "2023-03-16T20:00:51.851Z"
   },
   {
    "duration": 189,
    "start_time": "2023-03-16T20:00:52.031Z"
   },
   {
    "duration": 291,
    "start_time": "2023-03-16T20:00:52.222Z"
   },
   {
    "duration": 8,
    "start_time": "2023-03-16T20:00:52.514Z"
   },
   {
    "duration": 29,
    "start_time": "2023-03-16T20:00:52.524Z"
   },
   {
    "duration": 181,
    "start_time": "2023-03-16T20:26:01.779Z"
   },
   {
    "duration": 1524,
    "start_time": "2023-07-21T10:39:30.026Z"
   },
   {
    "duration": 3,
    "start_time": "2023-07-21T10:39:31.553Z"
   },
   {
    "duration": 302,
    "start_time": "2023-07-21T10:39:31.557Z"
   },
   {
    "duration": 11,
    "start_time": "2023-07-21T10:39:31.861Z"
   },
   {
    "duration": 61,
    "start_time": "2023-07-21T10:39:31.874Z"
   },
   {
    "duration": 42,
    "start_time": "2023-07-21T10:39:31.937Z"
   },
   {
    "duration": 55,
    "start_time": "2023-07-21T10:39:31.981Z"
   },
   {
    "duration": 71,
    "start_time": "2023-07-21T10:39:32.038Z"
   },
   {
    "duration": 672,
    "start_time": "2023-07-21T10:39:32.111Z"
   },
   {
    "duration": 212,
    "start_time": "2023-07-21T10:39:32.785Z"
   },
   {
    "duration": 156,
    "start_time": "2023-07-21T10:39:32.998Z"
   },
   {
    "duration": 171,
    "start_time": "2023-07-21T10:39:33.156Z"
   },
   {
    "duration": 266,
    "start_time": "2023-07-21T10:39:33.332Z"
   },
   {
    "duration": 18,
    "start_time": "2023-07-21T10:39:33.599Z"
   },
   {
    "duration": 22,
    "start_time": "2023-07-21T10:39:33.626Z"
   },
   {
    "duration": 5,
    "start_time": "2023-07-21T10:39:33.650Z"
   },
   {
    "duration": 1198,
    "start_time": "2023-07-21T10:39:33.656Z"
   },
   {
    "duration": 3,
    "start_time": "2023-07-21T10:39:34.856Z"
   },
   {
    "duration": 164,
    "start_time": "2023-07-21T10:39:34.860Z"
   },
   {
    "duration": 134,
    "start_time": "2023-07-21T10:39:35.026Z"
   },
   {
    "duration": 198,
    "start_time": "2023-07-21T10:39:35.162Z"
   },
   {
    "duration": 3,
    "start_time": "2023-07-21T10:39:35.362Z"
   },
   {
    "duration": 370,
    "start_time": "2023-07-21T10:39:35.367Z"
   },
   {
    "duration": 4,
    "start_time": "2023-07-21T10:39:35.739Z"
   },
   {
    "duration": 85,
    "start_time": "2023-07-21T10:39:35.745Z"
   },
   {
    "duration": 61,
    "start_time": "2023-07-21T10:39:35.831Z"
   },
   {
    "duration": 11,
    "start_time": "2023-07-21T10:39:35.894Z"
   },
   {
    "duration": 44,
    "start_time": "2023-07-21T10:39:35.919Z"
   },
   {
    "duration": 81,
    "start_time": "2023-07-21T10:39:35.964Z"
   },
   {
    "duration": 51,
    "start_time": "2023-07-21T10:39:36.047Z"
   },
   {
    "duration": 1623,
    "start_time": "2023-07-21T10:39:36.099Z"
   },
   {
    "duration": 191,
    "start_time": "2023-07-21T10:39:37.725Z"
   },
   {
    "duration": 39126,
    "start_time": "2023-07-21T10:39:37.918Z"
   },
   {
    "duration": 1478,
    "start_time": "2023-07-21T10:40:17.046Z"
   },
   {
    "duration": 27,
    "start_time": "2023-07-21T10:40:18.530Z"
   },
   {
    "duration": 6810513,
    "start_time": "2023-07-21T10:40:18.558Z"
   },
   {
    "duration": 9,
    "start_time": "2023-07-21T12:33:49.072Z"
   },
   {
    "duration": 0,
    "start_time": "2023-07-21T12:33:49.082Z"
   },
   {
    "duration": 0,
    "start_time": "2023-07-21T12:33:49.083Z"
   },
   {
    "duration": 0,
    "start_time": "2023-07-21T12:33:49.084Z"
   },
   {
    "duration": 0,
    "start_time": "2023-07-21T12:33:49.085Z"
   },
   {
    "duration": 0,
    "start_time": "2023-07-21T12:33:49.086Z"
   },
   {
    "duration": 2403,
    "start_time": "2023-07-22T11:35:04.373Z"
   },
   {
    "duration": 1923,
    "start_time": "2023-07-22T11:35:32.747Z"
   },
   {
    "duration": 5,
    "start_time": "2023-07-22T11:35:34.672Z"
   },
   {
    "duration": 313,
    "start_time": "2023-07-22T11:35:34.679Z"
   },
   {
    "duration": 18,
    "start_time": "2023-07-22T11:35:34.996Z"
   },
   {
    "duration": 18,
    "start_time": "2023-07-22T11:35:35.016Z"
   },
   {
    "duration": 51,
    "start_time": "2023-07-22T11:35:35.037Z"
   },
   {
    "duration": 22,
    "start_time": "2023-07-22T11:35:35.091Z"
   },
   {
    "duration": 22,
    "start_time": "2023-07-22T11:35:35.115Z"
   },
   {
    "duration": 1036,
    "start_time": "2023-07-22T11:35:35.140Z"
   },
   {
    "duration": 318,
    "start_time": "2023-07-22T11:35:36.183Z"
   },
   {
    "duration": 210,
    "start_time": "2023-07-22T11:35:36.504Z"
   },
   {
    "duration": 196,
    "start_time": "2023-07-22T11:35:36.716Z"
   },
   {
    "duration": 406,
    "start_time": "2023-07-22T11:35:36.914Z"
   },
   {
    "duration": 12,
    "start_time": "2023-07-22T11:35:37.322Z"
   },
   {
    "duration": 45,
    "start_time": "2023-07-22T11:35:37.341Z"
   },
   {
    "duration": 1839,
    "start_time": "2023-07-22T11:35:37.388Z"
   },
   {
    "duration": 219,
    "start_time": "2023-07-22T11:35:39.230Z"
   },
   {
    "duration": 209,
    "start_time": "2023-07-22T11:35:39.453Z"
   },
   {
    "duration": 321,
    "start_time": "2023-07-22T11:35:39.664Z"
   },
   {
    "duration": 6,
    "start_time": "2023-07-22T11:35:39.988Z"
   },
   {
    "duration": 469,
    "start_time": "2023-07-22T11:35:39.995Z"
   },
   {
    "duration": 5,
    "start_time": "2023-07-22T11:35:40.466Z"
   },
   {
    "duration": 24,
    "start_time": "2023-07-22T11:35:40.473Z"
   },
   {
    "duration": 74,
    "start_time": "2023-07-22T11:35:40.500Z"
   },
   {
    "duration": 12,
    "start_time": "2023-07-22T11:35:40.576Z"
   },
   {
    "duration": 12,
    "start_time": "2023-07-22T11:35:40.591Z"
   },
   {
    "duration": 10,
    "start_time": "2023-07-22T11:35:40.606Z"
   },
   {
    "duration": 10,
    "start_time": "2023-07-22T11:35:40.621Z"
   },
   {
    "duration": 2228,
    "start_time": "2023-07-22T11:35:40.633Z"
   },
   {
    "duration": 198,
    "start_time": "2023-07-22T11:35:42.869Z"
   },
   {
    "duration": 44381,
    "start_time": "2023-07-22T11:35:43.074Z"
   },
   {
    "duration": 1471,
    "start_time": "2023-07-22T11:36:27.457Z"
   },
   {
    "duration": 179,
    "start_time": "2023-07-22T11:36:28.930Z"
   },
   {
    "duration": 0,
    "start_time": "2023-07-22T11:36:29.111Z"
   },
   {
    "duration": 0,
    "start_time": "2023-07-22T11:36:29.113Z"
   },
   {
    "duration": 0,
    "start_time": "2023-07-22T11:36:29.114Z"
   },
   {
    "duration": 0,
    "start_time": "2023-07-22T11:36:29.116Z"
   },
   {
    "duration": 0,
    "start_time": "2023-07-22T11:36:29.118Z"
   },
   {
    "duration": 0,
    "start_time": "2023-07-22T11:36:29.119Z"
   },
   {
    "duration": 45,
    "start_time": "2023-07-22T11:36:46.077Z"
   },
   {
    "duration": 5269,
    "start_time": "2023-07-22T11:38:47.330Z"
   },
   {
    "duration": 4,
    "start_time": "2023-07-22T11:45:44.130Z"
   },
   {
    "duration": 57,
    "start_time": "2023-07-22T11:45:44.804Z"
   },
   {
    "duration": 46,
    "start_time": "2023-07-22T11:47:07.743Z"
   },
   {
    "duration": 9068492,
    "start_time": "2023-07-22T11:47:10.360Z"
   },
   {
    "duration": 136060,
    "start_time": "2023-07-22T14:35:09.819Z"
   },
   {
    "duration": 12,
    "start_time": "2023-07-22T14:37:55.035Z"
   },
   {
    "duration": 21,
    "start_time": "2023-07-22T14:47:49.711Z"
   },
   {
    "duration": 22,
    "start_time": "2023-07-22T14:48:48.251Z"
   },
   {
    "duration": 148,
    "start_time": "2023-07-22T14:52:34.725Z"
   },
   {
    "duration": 50,
    "start_time": "2023-07-22T14:53:07.220Z"
   },
   {
    "duration": 59,
    "start_time": "2023-07-22T14:53:30.508Z"
   },
   {
    "duration": 130,
    "start_time": "2023-07-22T14:53:34.306Z"
   },
   {
    "duration": 12,
    "start_time": "2023-07-22T14:53:47.999Z"
   },
   {
    "duration": 21,
    "start_time": "2023-07-22T14:54:27.911Z"
   },
   {
    "duration": 14,
    "start_time": "2023-07-22T14:54:44.198Z"
   },
   {
    "duration": 12,
    "start_time": "2023-07-22T14:54:52.907Z"
   },
   {
    "duration": 13,
    "start_time": "2023-07-22T14:55:09.791Z"
   },
   {
    "duration": 18,
    "start_time": "2023-07-22T14:55:40.703Z"
   },
   {
    "duration": 14,
    "start_time": "2023-07-22T14:56:00.693Z"
   },
   {
    "duration": 18,
    "start_time": "2023-07-22T14:58:36.820Z"
   },
   {
    "duration": 94,
    "start_time": "2023-07-22T14:59:05.390Z"
   },
   {
    "duration": 67,
    "start_time": "2023-07-22T14:59:14.699Z"
   }
  ],
  "kernelspec": {
   "display_name": "Python 3 (ipykernel)",
   "language": "python",
   "name": "python3"
  },
  "language_info": {
   "codemirror_mode": {
    "name": "ipython",
    "version": 3
   },
   "file_extension": ".py",
   "mimetype": "text/x-python",
   "name": "python",
   "nbconvert_exporter": "python",
   "pygments_lexer": "ipython3",
   "version": "3.9.5"
  },
  "toc": {
   "base_numbering": 1,
   "nav_menu": {},
   "number_sections": true,
   "sideBar": true,
   "skip_h1_title": true,
   "title_cell": "Содержание",
   "title_sidebar": "Contents",
   "toc_cell": true,
   "toc_position": {
    "height": "calc(100% - 180px)",
    "left": "10px",
    "top": "150px",
    "width": "322.54px"
   },
   "toc_section_display": true,
   "toc_window_display": true
  }
 },
 "nbformat": 4,
 "nbformat_minor": 2
}
